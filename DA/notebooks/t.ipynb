{
 "cells": [
  {
   "cell_type": "code",
   "execution_count": 1,
   "id": "7086ce99-9df3-4913-b02f-a17ad937d3dc",
   "metadata": {
    "tags": []
   },
   "outputs": [],
   "source": [
    "import pandas as pd\n",
    "data = pd.read_csv('../data/raw_postpro.csv', encoding = 'cp949')\n",
    "# 컬럼 삭제\n",
    "df = data.drop(['Part No.2', '미입고 기간', '선박입고','완료 여부'], axis=1)\n"
   ]
  },
  {
   "cell_type": "code",
   "execution_count": 2,
   "id": "f7b4538c-2a22-42b5-90a3-3a145328329e",
   "metadata": {
    "tags": []
   },
   "outputs": [],
   "source": [
    "from sklearn.model_selection import train_test_split\n",
    "from sklearn import preprocessing\n",
    "y = df['key2']\n",
    "le = preprocessing.LabelEncoder()\n",
    "y = y.values.ravel()  # y를 1차원 배열로 변환\n",
    "y = le.fit_transform(y)"
   ]
  },
  {
   "cell_type": "code",
   "execution_count": 3,
   "id": "b7cef723-3ec9-4a47-a6e0-bd8fc88491fc",
   "metadata": {
    "tags": []
   },
   "outputs": [],
   "source": [
    "from sklearn import preprocessing\n",
    "label_encoders = {}  # 각 열에 대한 LabelEncoder를 저장하기 위한 딕셔너리\n",
    "columns_to_encode = [\"Subject\",'Machinery', 'Assembly' , \"Part No.1\",\"청구품목\", 'key2']  # 인코딩을 수행할 열의 이름 리스트\n",
    "\n",
    "for column in columns_to_encode:\n",
    "    le = preprocessing.LabelEncoder()\n",
    "    le.fit(df[column])\n",
    "    label_encoders[column] = le # 딕셔너리에 저장\n",
    "    df[column+\"_encoded\"] = le.transform(df[column]) # 새로운 encoding 된 컬럼 추가"
   ]
  },
  {
   "cell_type": "code",
   "execution_count": 4,
   "id": "edd60d4d-36f9-4e00-bdd5-6f94c582fc48",
   "metadata": {
    "tags": []
   },
   "outputs": [],
   "source": [
    "# 인코딩된 컬럼을 사용\n",
    "encoded_columns = ['Subject_encoded','Machinery_encoded', 'Assembly_encoded', 'Part No.1_encoded', '청구품목_encoded']\n",
    "X = df[encoded_columns].values\n",
    "y = df['key2_encoded'].values"
   ]
  },
  {
   "cell_type": "markdown",
   "id": "4135f324-169d-43c6-bbde-b8d613db2c88",
   "metadata": {
    "tags": []
   },
   "source": [
    "# encoding 안쓰고"
   ]
  },
  {
   "cell_type": "code",
   "execution_count": 42,
   "id": "df90fa45-93cf-44df-9c40-3be0cad04335",
   "metadata": {
    "tags": []
   },
   "outputs": [],
   "source": [
    "X = df[['Subject','Machinery', 'Assembly', 'Part No.1', '청구품목']]\n",
    "y = df['key2'].values\n",
    "from sklearn import preprocessing\n",
    "le = preprocessing.LabelEncoder()\n",
    "# y = y.values.ravel()  # y를 1차원 배열로 변환\n",
    "y = le.fit_transform(y)"
   ]
  },
  {
   "cell_type": "code",
   "execution_count": 385,
   "id": "d0ff2fa6-eaf9-4251-9f41-f7744cf4e671",
   "metadata": {
    "tags": []
   },
   "outputs": [],
   "source": [
    "# X,y"
   ]
  },
  {
   "cell_type": "code",
   "execution_count": 43,
   "id": "e7196b2d-fa3c-478b-b13d-b2e0512a8722",
   "metadata": {
    "tags": []
   },
   "outputs": [],
   "source": [
    "# 데이터를 학습용과 검증용으로 나누기\n",
    "from sklearn.model_selection import train_test_split\n",
    "X_train, X_test, y_train, y_test = train_test_split(X, y, test_size=0.3, random_state=42,shuffle=True)"
   ]
  },
  {
   "cell_type": "code",
   "execution_count": 44,
   "id": "0d9e2f91-6781-4ecc-b036-2afbc1d6aa57",
   "metadata": {
    "tags": []
   },
   "outputs": [
    {
     "name": "stdout",
     "output_type": "stream",
     "text": [
      "[1716, 174, 1683, 8128, 6129]\n",
      "{'Subject': 68, 'Machinery': 37, 'Assembly': 87, 'Part No.1': 43, '청구품목': 120}\n"
     ]
    }
   ],
   "source": [
    "# df에서 각 컬럼의 단어 수 확인\n",
    "colname = ['Subject','Machinery', 'Assembly', 'Part No.1', '청구품목',]\n",
    "count = []\n",
    "for col in colname:\n",
    "    unique_subjects = set(df[col])\n",
    "    num_unique_subjects = len(unique_subjects)\n",
    "    count.append(num_unique_subjects)\n",
    "    # print(num_unique_subjects)\n",
    "print(count)\n",
    "\n",
    "import pandas as pd\n",
    "\n",
    "# 가장 긴 문자열 길이를 저장할 딕셔너리 초기화\n",
    "max_string_lengths = {}\n",
    "\n",
    "# 각 열 별로 길이가 가장 긴 문자열 찾기\n",
    "for col in colname:\n",
    "    max_length = df[col].str.len().max()\n",
    "    max_string_lengths[col] = max_length\n",
    "# 결과 출력\n",
    "print(max_string_lengths)\n"
   ]
  },
  {
   "cell_type": "code",
   "execution_count": 45,
   "id": "6e6d1c35-e766-4257-9a3e-c5398669a8dd",
   "metadata": {
    "tags": []
   },
   "outputs": [
    {
     "name": "stdout",
     "output_type": "stream",
     "text": [
      "68\n",
      "37\n",
      "87\n",
      "43\n",
      "120\n",
      "{'Subject': array([[ 7, 12, 63, ...,  0,  0,  0],\n",
      "       [66, 65, 52, ...,  0,  0,  0],\n",
      "       [66, 65, 52, ...,  0,  0,  0],\n",
      "       ...,\n",
      "       [ 2, 24, 10, ...,  0,  0,  0],\n",
      "       [21, 24, 12, ...,  0,  0,  0],\n",
      "       [21, 24, 12, ...,  0,  0,  0]]), 'Machinery': array([[ 3,  6, 21, ...,  0,  0,  0],\n",
      "       [ 3,  6, 21, ...,  0,  0,  0],\n",
      "       [ 3,  6, 21, ...,  0,  0,  0],\n",
      "       ...,\n",
      "       [36, 15,  1, ...,  0,  0,  0],\n",
      "       [32, 15,  1, ...,  0,  0,  0],\n",
      "       [32, 15,  1, ...,  0,  0,  0]]), 'Assembly': array([[25, 19, 25, ...,  0,  0,  0],\n",
      "       [ 9,  5, 11, ...,  0,  0,  0],\n",
      "       [19, 35, 32, ...,  0,  0,  0],\n",
      "       ...,\n",
      "       [ 2, 17,  2, ...,  0,  0,  0],\n",
      "       [20,  5,  3, ...,  0,  0,  0],\n",
      "       [20,  5,  3, ...,  0,  0,  0]]), 'Part No.1': array([[ 29,  22,   7, ...,   0,   0,   0],\n",
      "       [ 29,  22,   7, ...,   0,   0,   0],\n",
      "       [ 29,  22,   7, ...,   0,   0,   0],\n",
      "       ...,\n",
      "       [171,  18,   7, ...,   0,   0,   0],\n",
      "       [171,  24,   7, ...,   0,   0,   0],\n",
      "       [171,  24,   7, ...,   0,   0,   0]]), '청구품목': array([[10,  2,  5, ...,  0,  0,  0],\n",
      "       [ 6,  8, 17, ...,  0,  0,  0],\n",
      "       [32,  5, 10, ...,  0,  0,  0],\n",
      "       ...,\n",
      "       [14, 22, 17, ...,  0,  0,  0],\n",
      "       [16, 34, 17, ...,  0,  0,  0],\n",
      "       [10,  2,  5, ...,  0,  0,  0]])}\n"
     ]
    }
   ],
   "source": [
    "import pandas as pd\n",
    "from tensorflow.keras.preprocessing.text import Tokenizer\n",
    "from tensorflow.keras.preprocessing.sequence import pad_sequences\n",
    "\n",
    "# 가정 : 'df'는 데이터 프레임, colname은 토큰화할 문자열을 포함하는 열 이름 리스트입니다\n",
    "colname = ['Subject', 'Machinery','Assembly', 'Part No.1', '청구품목']\n",
    "\n",
    "# 정수 시퀀스 및 패딩 처리된 데이터를 저장할 딕셔너리 초기화\n",
    "encoded_columns = {}\n",
    "\n",
    "# 토크나이저 인스턴스 생성\n",
    "tokenizer = Tokenizer(char_level=True, lower=False)  # 문자 레벨로 토큰화합니다\n",
    "\n",
    "# 각 열별 토큰화, 정수 시퀀스 변환 및 패딩 처리\n",
    "for col in colname:\n",
    "    # 토큰화\n",
    "    tokenizer.fit_on_texts(X[col])\n",
    "\n",
    "    # 정수 시퀀스 변환을위한 수정된 코드\n",
    "    sequences = tokenizer.texts_to_sequences(df[col])\n",
    "\n",
    "    # 패딩 처리: \"maxlen\"을 사용하여 최대 시퀀스 길이를 지정하거나 DataFrame에서 구한 값 사용\n",
    "    padded = pad_sequences(sequences, maxlen=max_string_lengths[col], padding='post')\n",
    "\n",
    "    print(max_string_lengths[col])\n",
    "    # 결과 저장\n",
    "    encoded_columns[col] = padded\n",
    "\n",
    "# 전처리된 열 출력\n",
    "print(encoded_columns)"
   ]
  },
  {
   "cell_type": "code",
   "execution_count": 49,
   "id": "f9a76d6c-3eb4-4b9f-b2bb-cce04d7518e5",
   "metadata": {
    "tags": []
   },
   "outputs": [
    {
     "name": "stdout",
     "output_type": "stream",
     "text": [
      "(20517, 68)\n",
      "(20517, 37)\n",
      "(20517, 87)\n",
      "(20517, 43)\n",
      "(20517, 120)\n"
     ]
    }
   ],
   "source": [
    "for col in colname:\n",
    "    print(encoded_columns[col].shape)"
   ]
  },
  {
   "cell_type": "code",
   "execution_count": 50,
   "id": "ddd21075-87de-4df2-a3f0-4a3cbcbfbe25",
   "metadata": {
    "tags": []
   },
   "outputs": [],
   "source": [
    "# 임베딩된 데이터를 X와 y로 분할\n",
    "X = {\n",
    "    'Subject': encoded_columns['Subject'],\n",
    "    'Machinery': encoded_columns['Machinery'],\n",
    "    'Assembly': encoded_columns['Assembly'],\n",
    "    'Part No.1': encoded_columns['Part No.1'],\n",
    "    '청구품목': encoded_columns['청구품목']\n",
    "}\n",
    "# train set과 test set으로 분할\n",
    "X_train = {}\n",
    "X_test = {}\n",
    "for col in X:\n",
    "    X_train[col], X_test[col], y_train, y_test = train_test_split(X[col], y, test_size=0.2, random_state=42)"
   ]
  },
  {
   "cell_type": "code",
   "execution_count": 63,
   "id": "ccc5b3a3-338d-49fd-a487-8aaef2e3f396",
   "metadata": {
    "tags": []
   },
   "outputs": [
    {
     "name": "stdout",
     "output_type": "stream",
     "text": [
      "(16413, 68)\n",
      "(16413, 37)\n",
      "(16413, 87)\n",
      "(16413, 43)\n",
      "(16413, 120)\n",
      "(4104, 68)\n",
      "(4104, 37)\n",
      "(4104, 87)\n",
      "(4104, 43)\n",
      "(4104, 120)\n"
     ]
    },
    {
     "data": {
      "text/plain": [
       "(16413, 68)"
      ]
     },
     "execution_count": 63,
     "metadata": {},
     "output_type": "execute_result"
    }
   ],
   "source": [
    "for col in colname:\n",
    "    print(X_train[col].shape)\n",
    "for col in colname:\n",
    "    print(X_test[col].shape)\n",
    "# y_train.shape, y_test.shape\n",
    "X_train['Subject'].shape"
   ]
  },
  {
   "cell_type": "code",
   "execution_count": 67,
   "id": "f5b4b071-205b-4ff6-9f29-9875e1cac414",
   "metadata": {
    "tags": []
   },
   "outputs": [
    {
     "name": "stdout",
     "output_type": "stream",
     "text": [
      "(16413, 68)\n",
      "(16413, 37)\n",
      "(16413, 87)\n",
      "(16413, 43)\n",
      "(16413, 120)\n",
      "(4104, 68)\n",
      "(4104, 37)\n",
      "(4104, 87)\n",
      "(4104, 43)\n",
      "(4104, 120)\n"
     ]
    }
   ],
   "source": [
    "colname = ['Subject', 'Machinery','Assembly', 'Part No.1', '청구품목']\n",
    "for col in colname: \n",
    "    print(X_train[col].shape)\n",
    "for col in colname: \n",
    "    print(X_test[col].shape)"
   ]
  },
  {
   "cell_type": "code",
   "execution_count": 68,
   "id": "789f297c-a276-4a1b-aa5e-b2ca350ae403",
   "metadata": {
    "tags": []
   },
   "outputs": [],
   "source": [
    "import numpy as np\n",
    "from keras.models import Sequential, Model\n",
    "from keras.layers import Input, Embedding, Dense, concatenate, Flatten, Conv1D, GlobalMaxPooling1D, LSTM, Reshape, Flatten\n",
    "\n",
    "# embedding_input_dim_1 = encoded_columns['Subject'].shape[1]  # Subject 열에 대한 임베딩 입력 차원\n",
    "# embedding_input_dim_2 = encoded_columns['Machinery'].shape[1] \n",
    "# embedding_input_dim_3 = encoded_columns['Assembly'].shape[1]  \n",
    "# embedding_input_dim_4 = encoded_columns['Part No.1'].shape[1]\n",
    "# embedding_input_dim_5 = encoded_columns['청구품목'].shape[1] \n",
    "\n",
    "embedding_input_dim_1 = 68  # Subject 열에 대한 임베딩 입력 차원\n",
    "embedding_input_dim_2 = 37\n",
    "embedding_input_dim_3 = 87  \n",
    "embedding_input_dim_4 = 56\n",
    "embedding_input_dim_5 = 120\n",
    "\n",
    "# 입력 레이어 정의\n",
    "input1 = Input(shape=(68,), name=\"Subject_Input\")\n",
    "input2 = Input(shape=(37,), name=\"Machinery_Input\")\n",
    "input3 = Input(shape=(87,), name=\"Assembly_Input\")\n",
    "input4 = Input(shape=(56,), name=\"PartNo1_Input\")\n",
    "input5 = Input(shape=(120,), name=\"Item_Input\")\n",
    "\n",
    "# 임베딩 레이어 정의\n",
    "embedding_dim = 100  # 임베딩 차원\n",
    "\n",
    "embedding1 = Embedding(embedding_input_dim_1, embedding_dim, name=\"Subject_Embedding\")(input1)\n",
    "embedding2 = Embedding(embedding_input_dim_2, embedding_dim, name=\"Machinery_Embedding\")(input2)\n",
    "embedding3 = Embedding(embedding_input_dim_3, embedding_dim, name=\"Assembly_Embedding\")(input3)\n",
    "embedding4 = Embedding(embedding_input_dim_4, embedding_dim, name=\"PartNo1_Embedding\")(input4)\n",
    "embedding5 = Embedding(embedding_input_dim_5, embedding_dim, name=\"Item_Embedding\")(input5)\n",
    "\n",
    "# 임베딩된 데이터 플래튼\n",
    "flatten1 = Flatten()(embedding1)\n",
    "flatten2 = Flatten()(embedding2)\n",
    "flatten3 = Flatten()(embedding3)\n",
    "flatten4 = Flatten()(embedding4)\n",
    "flatten5 = Flatten()(embedding5)"
   ]
  },
  {
   "cell_type": "code",
   "execution_count": 69,
   "id": "e0408a67-7de0-45c3-8c4e-a076074ae538",
   "metadata": {
    "tags": []
   },
   "outputs": [
    {
     "name": "stdout",
     "output_type": "stream",
     "text": [
      "Model: \"model_7\"\n",
      "__________________________________________________________________________________________________\n",
      " Layer (type)                   Output Shape         Param #     Connected to                     \n",
      "==================================================================================================\n",
      " Subject_Input (InputLayer)     [(None, 68)]         0           []                               \n",
      "                                                                                                  \n",
      " Machinery_Input (InputLayer)   [(None, 37)]         0           []                               \n",
      "                                                                                                  \n",
      " Assembly_Input (InputLayer)    [(None, 87)]         0           []                               \n",
      "                                                                                                  \n",
      " PartNo1_Input (InputLayer)     [(None, 56)]         0           []                               \n",
      "                                                                                                  \n",
      " Item_Input (InputLayer)        [(None, 120)]        0           []                               \n",
      "                                                                                                  \n",
      " Subject_Embedding (Embedding)  (None, 68, 100)      6800        ['Subject_Input[0][0]']          \n",
      "                                                                                                  \n",
      " Machinery_Embedding (Embedding  (None, 37, 100)     3700        ['Machinery_Input[0][0]']        \n",
      " )                                                                                                \n",
      "                                                                                                  \n",
      " Assembly_Embedding (Embedding)  (None, 87, 100)     8700        ['Assembly_Input[0][0]']         \n",
      "                                                                                                  \n",
      " PartNo1_Embedding (Embedding)  (None, 56, 100)      5600        ['PartNo1_Input[0][0]']          \n",
      "                                                                                                  \n",
      " Item_Embedding (Embedding)     (None, 120, 100)     12000       ['Item_Input[0][0]']             \n",
      "                                                                                                  \n",
      " flatten_35 (Flatten)           (None, 6800)         0           ['Subject_Embedding[0][0]']      \n",
      "                                                                                                  \n",
      " flatten_36 (Flatten)           (None, 3700)         0           ['Machinery_Embedding[0][0]']    \n",
      "                                                                                                  \n",
      " flatten_37 (Flatten)           (None, 8700)         0           ['Assembly_Embedding[0][0]']     \n",
      "                                                                                                  \n",
      " flatten_38 (Flatten)           (None, 5600)         0           ['PartNo1_Embedding[0][0]']      \n",
      "                                                                                                  \n",
      " flatten_39 (Flatten)           (None, 12000)        0           ['Item_Embedding[0][0]']         \n",
      "                                                                                                  \n",
      " concatenate_8 (Concatenate)    (None, 36800)        0           ['flatten_35[0][0]',             \n",
      "                                                                  'flatten_36[0][0]',             \n",
      "                                                                  'flatten_37[0][0]',             \n",
      "                                                                  'flatten_38[0][0]',             \n",
      "                                                                  'flatten_39[0][0]']             \n",
      "                                                                                                  \n",
      " dense_24 (Dense)               (None, 64)           2355264     ['concatenate_8[0][0]']          \n",
      "                                                                                                  \n",
      " dense_25 (Dense)               (None, 32)           2080        ['dense_24[0][0]']               \n",
      "                                                                                                  \n",
      " dense_26 (Dense)               (None, 61)           2013        ['dense_25[0][0]']               \n",
      "                                                                                                  \n",
      "==================================================================================================\n",
      "Total params: 2,396,157\n",
      "Trainable params: 2,396,157\n",
      "Non-trainable params: 0\n",
      "__________________________________________________________________________________________________\n"
     ]
    }
   ],
   "source": [
    "# 모든 임베딩된 데이터 연결\n",
    "concatenated = concatenate([flatten1, flatten2, flatten3, flatten4, flatten5])\n",
    "\n",
    "# 완전 연결 레이어 추가\n",
    "dense1 = Dense(64, activation='relu')(concatenated)\n",
    "dense2 = Dense(32, activation='relu')(dense1)\n",
    "output = Dense(61, activation='softmax')(dense2) # 클래스 갯수 61\n",
    "\n",
    "# 모델 생성\n",
    "model = Model(inputs=[input1, input2, input3, input4, input5], outputs=output)\n",
    "model.compile(loss='sparse_categorical_crossentropy', optimizer='adam', metrics=['accuracy'])\n",
    "model.summary()\n"
   ]
  },
  {
   "cell_type": "code",
   "execution_count": 70,
   "id": "5d7da191-9df7-4457-a632-fcb0aeef2177",
   "metadata": {
    "tags": []
   },
   "outputs": [
    {
     "name": "stdout",
     "output_type": "stream",
     "text": [
      "Epoch 1/10\n"
     ]
    },
    {
     "ename": "ValueError",
     "evalue": "in user code:\n\n    File \"D:\\ShipSupplies\\DA\\venv\\lib\\site-packages\\keras\\engine\\training.py\", line 1284, in train_function  *\n        return step_function(self, iterator)\n    File \"D:\\ShipSupplies\\DA\\venv\\lib\\site-packages\\keras\\engine\\training.py\", line 1268, in step_function  **\n        outputs = model.distribute_strategy.run(run_step, args=(data,))\n    File \"D:\\ShipSupplies\\DA\\venv\\lib\\site-packages\\keras\\engine\\training.py\", line 1249, in run_step  **\n        outputs = model.train_step(data)\n    File \"D:\\ShipSupplies\\DA\\venv\\lib\\site-packages\\keras\\engine\\training.py\", line 1050, in train_step\n        y_pred = self(x, training=True)\n    File \"D:\\ShipSupplies\\DA\\venv\\lib\\site-packages\\keras\\utils\\traceback_utils.py\", line 70, in error_handler\n        raise e.with_traceback(filtered_tb) from None\n    File \"D:\\ShipSupplies\\DA\\venv\\lib\\site-packages\\keras\\engine\\input_spec.py\", line 298, in assert_input_compatibility\n        raise ValueError(\n\n    ValueError: Input 3 of layer \"model_7\" is incompatible with the layer: expected shape=(None, 56), found shape=(None, 43)\n",
     "output_type": "error",
     "traceback": [
      "\u001b[1;31m---------------------------------------------------------------------------\u001b[0m",
      "\u001b[1;31mValueError\u001b[0m                                Traceback (most recent call last)",
      "Cell \u001b[1;32mIn[70], line 2\u001b[0m\n\u001b[0;32m      1\u001b[0m \u001b[38;5;66;03m# 모델 훈련\u001b[39;00m\n\u001b[1;32m----> 2\u001b[0m \u001b[43mmodel\u001b[49m\u001b[38;5;241;43m.\u001b[39;49m\u001b[43mfit\u001b[49m\u001b[43m(\u001b[49m\n\u001b[0;32m      3\u001b[0m \u001b[43m    \u001b[49m\u001b[43m[\u001b[49m\u001b[43mX_train\u001b[49m\u001b[43m[\u001b[49m\u001b[38;5;124;43m'\u001b[39;49m\u001b[38;5;124;43mSubject\u001b[39;49m\u001b[38;5;124;43m'\u001b[39;49m\u001b[43m]\u001b[49m\u001b[43m,\u001b[49m\u001b[43m \u001b[49m\u001b[43mX_train\u001b[49m\u001b[43m[\u001b[49m\u001b[38;5;124;43m'\u001b[39;49m\u001b[38;5;124;43mMachinery\u001b[39;49m\u001b[38;5;124;43m'\u001b[39;49m\u001b[43m]\u001b[49m\u001b[43m,\u001b[49m\u001b[43m \u001b[49m\u001b[43mX_train\u001b[49m\u001b[43m[\u001b[49m\u001b[38;5;124;43m'\u001b[39;49m\u001b[38;5;124;43mAssembly\u001b[39;49m\u001b[38;5;124;43m'\u001b[39;49m\u001b[43m]\u001b[49m\u001b[43m,\u001b[49m\u001b[43m \u001b[49m\u001b[43mX_train\u001b[49m\u001b[43m[\u001b[49m\u001b[38;5;124;43m'\u001b[39;49m\u001b[38;5;124;43mPart No.1\u001b[39;49m\u001b[38;5;124;43m'\u001b[39;49m\u001b[43m]\u001b[49m\u001b[43m,\u001b[49m\u001b[43m \u001b[49m\u001b[43mX_train\u001b[49m\u001b[43m[\u001b[49m\u001b[38;5;124;43m'\u001b[39;49m\u001b[38;5;124;43m청구품목\u001b[39;49m\u001b[38;5;124;43m'\u001b[39;49m\u001b[43m]\u001b[49m\u001b[43m]\u001b[49m\u001b[43m,\u001b[49m\n\u001b[0;32m      4\u001b[0m \u001b[43m    \u001b[49m\u001b[43my_train\u001b[49m\u001b[43m,\u001b[49m\n\u001b[0;32m      5\u001b[0m \u001b[43m    \u001b[49m\u001b[43mepochs\u001b[49m\u001b[38;5;241;43m=\u001b[39;49m\u001b[38;5;241;43m10\u001b[39;49m\u001b[43m,\u001b[49m\n\u001b[0;32m      6\u001b[0m \u001b[43m    \u001b[49m\u001b[43mbatch_size\u001b[49m\u001b[38;5;241;43m=\u001b[39;49m\u001b[38;5;241;43m32\u001b[39;49m\u001b[43m,\u001b[49m\n\u001b[0;32m      7\u001b[0m \u001b[43m    \u001b[49m\u001b[43mvalidation_data\u001b[49m\u001b[38;5;241;43m=\u001b[39;49m\u001b[43m(\u001b[49m\n\u001b[0;32m      8\u001b[0m \u001b[43m        \u001b[49m\u001b[43m[\u001b[49m\u001b[43mX_test\u001b[49m\u001b[43m[\u001b[49m\u001b[38;5;124;43m'\u001b[39;49m\u001b[38;5;124;43mSubject\u001b[39;49m\u001b[38;5;124;43m'\u001b[39;49m\u001b[43m]\u001b[49m\u001b[43m,\u001b[49m\u001b[43m \u001b[49m\u001b[43mX_test\u001b[49m\u001b[43m[\u001b[49m\u001b[38;5;124;43m'\u001b[39;49m\u001b[38;5;124;43mMachinery\u001b[39;49m\u001b[38;5;124;43m'\u001b[39;49m\u001b[43m]\u001b[49m\u001b[43m,\u001b[49m\u001b[43m \u001b[49m\u001b[43mX_test\u001b[49m\u001b[43m[\u001b[49m\u001b[38;5;124;43m'\u001b[39;49m\u001b[38;5;124;43mAssembly\u001b[39;49m\u001b[38;5;124;43m'\u001b[39;49m\u001b[43m]\u001b[49m\u001b[43m,\u001b[49m\u001b[43m \u001b[49m\u001b[43mX_test\u001b[49m\u001b[43m[\u001b[49m\u001b[38;5;124;43m'\u001b[39;49m\u001b[38;5;124;43mPart No.1\u001b[39;49m\u001b[38;5;124;43m'\u001b[39;49m\u001b[43m]\u001b[49m\u001b[43m,\u001b[49m\u001b[43m \u001b[49m\u001b[43mX_test\u001b[49m\u001b[43m[\u001b[49m\u001b[38;5;124;43m'\u001b[39;49m\u001b[38;5;124;43m청구품목\u001b[39;49m\u001b[38;5;124;43m'\u001b[39;49m\u001b[43m]\u001b[49m\u001b[43m]\u001b[49m\u001b[43m,\u001b[49m\n\u001b[0;32m      9\u001b[0m \u001b[43m        \u001b[49m\u001b[43my_test\u001b[49m\n\u001b[0;32m     10\u001b[0m \u001b[43m    \u001b[49m\u001b[43m)\u001b[49m\n\u001b[0;32m     11\u001b[0m \u001b[43m)\u001b[49m\n",
      "File \u001b[1;32mD:\\ShipSupplies\\DA\\venv\\lib\\site-packages\\keras\\utils\\traceback_utils.py:70\u001b[0m, in \u001b[0;36mfilter_traceback.<locals>.error_handler\u001b[1;34m(*args, **kwargs)\u001b[0m\n\u001b[0;32m     67\u001b[0m     filtered_tb \u001b[38;5;241m=\u001b[39m _process_traceback_frames(e\u001b[38;5;241m.\u001b[39m__traceback__)\n\u001b[0;32m     68\u001b[0m     \u001b[38;5;66;03m# To get the full stack trace, call:\u001b[39;00m\n\u001b[0;32m     69\u001b[0m     \u001b[38;5;66;03m# `tf.debugging.disable_traceback_filtering()`\u001b[39;00m\n\u001b[1;32m---> 70\u001b[0m     \u001b[38;5;28;01mraise\u001b[39;00m e\u001b[38;5;241m.\u001b[39mwith_traceback(filtered_tb) \u001b[38;5;28;01mfrom\u001b[39;00m \u001b[38;5;28;01mNone\u001b[39;00m\n\u001b[0;32m     71\u001b[0m \u001b[38;5;28;01mfinally\u001b[39;00m:\n\u001b[0;32m     72\u001b[0m     \u001b[38;5;28;01mdel\u001b[39;00m filtered_tb\n",
      "File \u001b[1;32m~\\AppData\\Local\\Temp\\__autograph_generated_file6cbotj_o.py:15\u001b[0m, in \u001b[0;36mouter_factory.<locals>.inner_factory.<locals>.tf__train_function\u001b[1;34m(iterator)\u001b[0m\n\u001b[0;32m     13\u001b[0m \u001b[38;5;28;01mtry\u001b[39;00m:\n\u001b[0;32m     14\u001b[0m     do_return \u001b[38;5;241m=\u001b[39m \u001b[38;5;28;01mTrue\u001b[39;00m\n\u001b[1;32m---> 15\u001b[0m     retval_ \u001b[38;5;241m=\u001b[39m ag__\u001b[38;5;241m.\u001b[39mconverted_call(ag__\u001b[38;5;241m.\u001b[39mld(step_function), (ag__\u001b[38;5;241m.\u001b[39mld(\u001b[38;5;28mself\u001b[39m), ag__\u001b[38;5;241m.\u001b[39mld(iterator)), \u001b[38;5;28;01mNone\u001b[39;00m, fscope)\n\u001b[0;32m     16\u001b[0m \u001b[38;5;28;01mexcept\u001b[39;00m:\n\u001b[0;32m     17\u001b[0m     do_return \u001b[38;5;241m=\u001b[39m \u001b[38;5;28;01mFalse\u001b[39;00m\n",
      "\u001b[1;31mValueError\u001b[0m: in user code:\n\n    File \"D:\\ShipSupplies\\DA\\venv\\lib\\site-packages\\keras\\engine\\training.py\", line 1284, in train_function  *\n        return step_function(self, iterator)\n    File \"D:\\ShipSupplies\\DA\\venv\\lib\\site-packages\\keras\\engine\\training.py\", line 1268, in step_function  **\n        outputs = model.distribute_strategy.run(run_step, args=(data,))\n    File \"D:\\ShipSupplies\\DA\\venv\\lib\\site-packages\\keras\\engine\\training.py\", line 1249, in run_step  **\n        outputs = model.train_step(data)\n    File \"D:\\ShipSupplies\\DA\\venv\\lib\\site-packages\\keras\\engine\\training.py\", line 1050, in train_step\n        y_pred = self(x, training=True)\n    File \"D:\\ShipSupplies\\DA\\venv\\lib\\site-packages\\keras\\utils\\traceback_utils.py\", line 70, in error_handler\n        raise e.with_traceback(filtered_tb) from None\n    File \"D:\\ShipSupplies\\DA\\venv\\lib\\site-packages\\keras\\engine\\input_spec.py\", line 298, in assert_input_compatibility\n        raise ValueError(\n\n    ValueError: Input 3 of layer \"model_7\" is incompatible with the layer: expected shape=(None, 56), found shape=(None, 43)\n"
     ]
    }
   ],
   "source": [
    "# 모델 훈련\n",
    "model.fit(\n",
    "    [X_train['Subject'], X_train['Machinery'], X_train['Assembly'], X_train['Part No.1'], X_train['청구품목']],\n",
    "    y_train,\n",
    "    epochs=10,\n",
    "    batch_size=32,\n",
    "    validation_data=(\n",
    "        [X_test['Subject'], X_test['Machinery'], X_test['Assembly'], X_test['Part No.1'], X_test['청구품목']],\n",
    "        y_test\n",
    "    )\n",
    ")"
   ]
  },
  {
   "cell_type": "code",
   "execution_count": 362,
   "id": "7f73af98-634b-440c-a601-95d9f716ed30",
   "metadata": {
    "tags": []
   },
   "outputs": [],
   "source": [
    "# print(\"X_train shape:\", X_train.shape)\n",
    "# print(\"y_train shape:\", y_train.shape)\n",
    "# print(\"X_test shape:\", X_train.shape)\n",
    "# print(\"y_test shape:\", y_train.shape)"
   ]
  },
  {
   "cell_type": "code",
   "execution_count": 373,
   "id": "760505b8-0b64-4760-b1fb-0b54b5b1c912",
   "metadata": {
    "tags": []
   },
   "outputs": [],
   "source": [
    "from keras.models import Sequential, Model\n",
    "from keras.layers import Input, Embedding, Dense, concatenate, Flatten, Conv1D, GlobalMaxPooling1D, LSTM, Reshape, Flatten\n",
    "\n",
    "# 출력 통합\n",
    "merged_output = concatenate([embedding1, embedding2, embedding3, embedding4, embedding5], axis=-1)\n",
    "\n",
    "# flatten_layer = Flatten()(merged_output)\n",
    "\n",
    "# CNN 레이어\n",
    "reshape_layer = Reshape((sequence_length, embedding_dim * 5))(merged_output)\n",
    "cnn_output = Conv1D(filters=128, kernel_size=1, activation=\"relu\")(reshape_layer)\n",
    "cnn_output = GlobalMaxPooling1D()(cnn_output)\n",
    "\n",
    "# CNN Layer\n",
    "# cnn_output = Conv1D(filters=128, kernel_size=1, activation='relu')(merged_output)  # kernel_size 수정\n",
    "# cnn_output = Conv1D(filters=128, kernel_size=1)(cnn_output)\n",
    "# cnn_output = Dropout(0.05)(cnn_output) # 편향 추가\n",
    "# cnn_output = GlobalMaxPooling1D()(cnn_output)\n",
    "\n",
    "# LSTM Layer\n",
    "lstm_output = LSTM(128)(merged_output)\n",
    "\n",
    "# Dense Layer\n",
    "dense_input = concatenate([cnn_output, lstm_output], axis=-1)\n",
    "dense_output = Dense(64, activation='relu', name='Dense_output')(dense_input)\n",
    "\n",
    "prediction = Dense(61, activation='softmax', name=\"Prediction_output\")(dense_output)\n",
    "\n",
    "# 모델 생성\n",
    "model2 = Model(inputs=[input1, input2, input3, input4, input5], outputs=prediction)"
   ]
  },
  {
   "cell_type": "code",
   "execution_count": 364,
   "id": "9147f2ac-e154-479f-bbe3-0c5c86562040",
   "metadata": {
    "tags": []
   },
   "outputs": [],
   "source": [
    "# from sklearn.utils import class_weight\n",
    "\n",
    "# # 클래스 가중치 계산\n",
    "# class_weights = class_weight.compute_class_weight(class_weight = \"balanced\",\n",
    "#                                                  classes = np.unique(y_train),\n",
    "#                                                   y= y_train)"
   ]
  },
  {
   "cell_type": "code",
   "execution_count": 374,
   "id": "220d3b93-fbc9-4593-b103-adfd7f048067",
   "metadata": {
    "tags": []
   },
   "outputs": [
    {
     "name": "stdout",
     "output_type": "stream",
     "text": [
      "Model: \"model_27\"\n",
      "__________________________________________________________________________________________________\n",
      " Layer (type)                   Output Shape         Param #     Connected to                     \n",
      "==================================================================================================\n",
      " Subject_Input (InputLayer)     [(None, 1)]          0           []                               \n",
      "                                                                                                  \n",
      " Assembly_Input (InputLayer)    [(None, 1)]          0           []                               \n",
      "                                                                                                  \n",
      " Resource_Input (InputLayer)    [(None, 1)]          0           []                               \n",
      "                                                                                                  \n",
      " Method_Input (InputLayer)      [(None, 1)]          0           []                               \n",
      "                                                                                                  \n",
      " Dwg_Input (InputLayer)         [(None, 1)]          0           []                               \n",
      "                                                                                                  \n",
      " Subject_Embedding (Embedding)  (None, 1, 3)         5151        ['Subject_Input[0][0]']          \n",
      "                                                                                                  \n",
      " Assembly_Embedding (Embedding)  (None, 1, 3)        525         ['Assembly_Input[0][0]']         \n",
      "                                                                                                  \n",
      " Resource_Embedding (Embedding)  (None, 1, 3)        5052        ['Resource_Input[0][0]']         \n",
      "                                                                                                  \n",
      " Method_Embedding (Embedding)   (None, 1, 3)         24387       ['Method_Input[0][0]']           \n",
      "                                                                                                  \n",
      " Dwg_Embedding (Embedding)      (None, 1, 3)         18390       ['Dwg_Input[0][0]']              \n",
      "                                                                                                  \n",
      " concatenate_63 (Concatenate)   (None, 1, 15)        0           ['Subject_Embedding[0][0]',      \n",
      "                                                                  'Assembly_Embedding[0][0]',     \n",
      "                                                                  'Resource_Embedding[0][0]',     \n",
      "                                                                  'Method_Embedding[0][0]',       \n",
      "                                                                  'Dwg_Embedding[0][0]']          \n",
      "                                                                                                  \n",
      " reshape_14 (Reshape)           (None, 1, 15)        0           ['concatenate_63[0][0]']         \n",
      "                                                                                                  \n",
      " conv1d_36 (Conv1D)             (None, 1, 128)       2048        ['reshape_14[0][0]']             \n",
      "                                                                                                  \n",
      " global_max_pooling1d_27 (Globa  (None, 128)         0           ['conv1d_36[0][0]']              \n",
      " lMaxPooling1D)                                                                                   \n",
      "                                                                                                  \n",
      " lstm_27 (LSTM)                 (None, 128)          73728       ['concatenate_63[0][0]']         \n",
      "                                                                                                  \n",
      " concatenate_64 (Concatenate)   (None, 256)          0           ['global_max_pooling1d_27[0][0]',\n",
      "                                                                  'lstm_27[0][0]']                \n",
      "                                                                                                  \n",
      " Dense_output (Dense)           (None, 64)           16448       ['concatenate_64[0][0]']         \n",
      "                                                                                                  \n",
      " Prediction_output (Dense)      (None, 61)           3965        ['Dense_output[0][0]']           \n",
      "                                                                                                  \n",
      "==================================================================================================\n",
      "Total params: 149,694\n",
      "Trainable params: 149,694\n",
      "Non-trainable params: 0\n",
      "__________________________________________________________________________________________________\n"
     ]
    }
   ],
   "source": [
    "from tensorflow.keras.optimizers import Adam\n",
    "# 모델 컴파일\n",
    "learning_rate = 0.001  # 원하는 학습률 값 설정하기\n",
    "optimizer = Adam(learning_rate=learning_rate)\n",
    "# 모델 컴파일\n",
    "model2.compile(optimizer='adam', loss='sparse_categorical_crossentropy', metrics=['accuracy'])\n",
    "model2.summary()"
   ]
  },
  {
   "cell_type": "code",
   "execution_count": 366,
   "id": "433d03f8-b67f-4c8e-9b64-70c941cb7749",
   "metadata": {
    "tags": []
   },
   "outputs": [],
   "source": [
    "# from tensorflow.keras.utils import to_categorical\n",
    "# y_train_categorical = to_categorical(y_train, num_classes=61)\n",
    "# y_test_categorical = to_categorical(y_test, num_classes=61)"
   ]
  },
  {
   "cell_type": "code",
   "execution_count": 375,
   "id": "ba606aba-6f23-45e2-9df6-cdff97f85538",
   "metadata": {
    "tags": []
   },
   "outputs": [],
   "source": [
    "from sklearn import preprocessing\n",
    "\n",
    "encoder1 = preprocessing.LabelEncoder()\n",
    "X_encoded1 = encoder1.fit_transform(X.iloc[:, 0].values)\n",
    "X_train_encoded1 = encoder1.transform(X_train.iloc[:, 0].values)\n",
    "\n",
    "encoder2 = preprocessing.LabelEncoder()\n",
    "X_encoded2 = encoder2.fit_transform(X.iloc[:, 1].values)\n",
    "X_train_encoded2 = encoder2.transform(X_train.iloc[:, 1].values)\n",
    "\n",
    "encoder3 = preprocessing.LabelEncoder()\n",
    "X_encoded3 = encoder3.fit_transform(X.iloc[:, 2].values)\n",
    "X_train_encoded3 = encoder3.transform(X_train.iloc[:, 2].values)\n",
    "\n",
    "encoder4 = preprocessing.LabelEncoder()\n",
    "X_encoded4 = encoder4.fit_transform(X.iloc[:, 3].values)\n",
    "X_train_encoded4 = encoder4.transform(X_train.iloc[:, 3].values)\n",
    "\n",
    "encoder5 = preprocessing.LabelEncoder()\n",
    "X_encoded5 = encoder5.fit_transform(X.iloc[:, 4].values)\n",
    "X_train_encoded5 = encoder5.transform(X_train.iloc[:, 4].values)"
   ]
  },
  {
   "cell_type": "code",
   "execution_count": 380,
   "id": "82c0a236-bc05-46a9-8fdb-d986276fda80",
   "metadata": {
    "tags": []
   },
   "outputs": [
    {
     "data": {
      "text/plain": [
       "(14361,)"
      ]
     },
     "execution_count": 380,
     "metadata": {},
     "output_type": "execute_result"
    }
   ],
   "source": [
    "X_train_encoded1.shape"
   ]
  },
  {
   "cell_type": "code",
   "execution_count": 376,
   "id": "4630b75f-1ecf-4fc1-8430-faa171790905",
   "metadata": {
    "tags": []
   },
   "outputs": [],
   "source": [
    "# y_train,y_test\n",
    "X_test_encoded1 = encoder1.transform(X_test.iloc[:, 0].values)\n",
    "X_test_encoded2 = encoder2.transform(X_test.iloc[:, 1].values)\n",
    "X_test_encoded3 = encoder3.transform(X_test.iloc[:, 2].values)\n",
    "X_test_encoded4 = encoder4.transform(X_test.iloc[:, 3].values)\n",
    "X_test_encoded5 = encoder5.transform(X_test.iloc[:, 4].values)"
   ]
  },
  {
   "cell_type": "code",
   "execution_count": 378,
   "id": "9c37602f-c3f5-4e8b-bc6d-1ab3c333e117",
   "metadata": {
    "tags": []
   },
   "outputs": [
    {
     "name": "stdout",
     "output_type": "stream",
     "text": [
      "Epoch 1/50\n",
      "113/113 [==============================] - 0s 4ms/step - loss: 0.0051 - accuracy: 0.9994 - val_loss: 3.9316 - val_accuracy: 0.7045\n",
      "Epoch 2/50\n",
      "113/113 [==============================] - 0s 3ms/step - loss: 0.0041 - accuracy: 0.9997 - val_loss: 4.0151 - val_accuracy: 0.7022\n",
      "Epoch 3/50\n",
      "113/113 [==============================] - 0s 3ms/step - loss: 0.0034 - accuracy: 0.9997 - val_loss: 4.0506 - val_accuracy: 0.7055\n",
      "Epoch 4/50\n",
      "113/113 [==============================] - 0s 3ms/step - loss: 0.0033 - accuracy: 0.9997 - val_loss: 4.0793 - val_accuracy: 0.7037\n",
      "Epoch 5/50\n",
      "113/113 [==============================] - 0s 3ms/step - loss: 0.0032 - accuracy: 0.9997 - val_loss: 4.1746 - val_accuracy: 0.7039\n",
      "Epoch 6/50\n",
      "113/113 [==============================] - 0s 4ms/step - loss: 0.0022 - accuracy: 0.9999 - val_loss: 4.2070 - val_accuracy: 0.7032\n",
      "Epoch 7/50\n",
      "113/113 [==============================] - 0s 3ms/step - loss: 0.0018 - accuracy: 0.9999 - val_loss: 4.2765 - val_accuracy: 0.7021\n",
      "Epoch 8/50\n",
      "113/113 [==============================] - 0s 3ms/step - loss: 0.0016 - accuracy: 0.9999 - val_loss: 4.2922 - val_accuracy: 0.7055\n",
      "Epoch 9/50\n",
      "113/113 [==============================] - 0s 3ms/step - loss: 0.0013 - accuracy: 0.9999 - val_loss: 4.4411 - val_accuracy: 0.7009\n",
      "Epoch 10/50\n",
      "113/113 [==============================] - 0s 3ms/step - loss: 0.0013 - accuracy: 0.9999 - val_loss: 4.3445 - val_accuracy: 0.7055\n",
      "Epoch 11/50\n",
      "113/113 [==============================] - 0s 3ms/step - loss: 0.0010 - accuracy: 0.9999 - val_loss: 4.3990 - val_accuracy: 0.7055\n",
      "Epoch 12/50\n",
      "113/113 [==============================] - 0s 3ms/step - loss: 0.0013 - accuracy: 0.9999 - val_loss: 4.4860 - val_accuracy: 0.7037\n",
      "Epoch 13/50\n",
      "113/113 [==============================] - 0s 3ms/step - loss: 0.0012 - accuracy: 0.9999 - val_loss: 4.5071 - val_accuracy: 0.7037\n",
      "Epoch 14/50\n",
      "113/113 [==============================] - 0s 3ms/step - loss: 9.7853e-04 - accuracy: 0.9999 - val_loss: 4.5306 - val_accuracy: 0.7058\n",
      "Epoch 15/50\n",
      "113/113 [==============================] - 0s 3ms/step - loss: 0.0010 - accuracy: 0.9999 - val_loss: 4.6002 - val_accuracy: 0.7032\n",
      "Epoch 16/50\n",
      "113/113 [==============================] - 0s 3ms/step - loss: 0.0025 - accuracy: 0.9997 - val_loss: 4.8211 - val_accuracy: 0.6995\n",
      "Epoch 17/50\n",
      "113/113 [==============================] - 0s 3ms/step - loss: 0.0028 - accuracy: 0.9993 - val_loss: 4.7498 - val_accuracy: 0.7026\n",
      "Epoch 18/50\n",
      "113/113 [==============================] - 0s 3ms/step - loss: 0.0041 - accuracy: 0.9990 - val_loss: 4.9466 - val_accuracy: 0.6954\n",
      "Epoch 19/50\n",
      "113/113 [==============================] - 0s 3ms/step - loss: 0.0090 - accuracy: 0.9983 - val_loss: 5.0702 - val_accuracy: 0.6974\n",
      "Epoch 20/50\n",
      "113/113 [==============================] - 0s 3ms/step - loss: 0.0165 - accuracy: 0.9956 - val_loss: 5.2527 - val_accuracy: 0.6944\n",
      "Epoch 21/50\n",
      "113/113 [==============================] - 0s 3ms/step - loss: 0.0187 - accuracy: 0.9946 - val_loss: 5.2843 - val_accuracy: 0.6961\n",
      "Epoch 22/50\n",
      "113/113 [==============================] - 0s 4ms/step - loss: 0.0142 - accuracy: 0.9954 - val_loss: 5.4411 - val_accuracy: 0.6972\n",
      "Epoch 23/50\n",
      "113/113 [==============================] - 0s 3ms/step - loss: 0.0092 - accuracy: 0.9975 - val_loss: 5.2036 - val_accuracy: 0.7014\n",
      "Epoch 24/50\n",
      "113/113 [==============================] - 0s 3ms/step - loss: 0.0031 - accuracy: 0.9994 - val_loss: 5.2546 - val_accuracy: 0.7022\n",
      "Epoch 25/50\n",
      "113/113 [==============================] - 0s 3ms/step - loss: 0.0023 - accuracy: 0.9997 - val_loss: 5.3458 - val_accuracy: 0.6982\n",
      "Epoch 26/50\n",
      "113/113 [==============================] - 0s 3ms/step - loss: 3.8959e-04 - accuracy: 1.0000 - val_loss: 5.3069 - val_accuracy: 0.7040\n",
      "Epoch 27/50\n",
      "113/113 [==============================] - 0s 3ms/step - loss: 2.3365e-04 - accuracy: 1.0000 - val_loss: 5.3018 - val_accuracy: 0.7057\n",
      "Epoch 28/50\n",
      "113/113 [==============================] - 0s 3ms/step - loss: 1.9533e-04 - accuracy: 1.0000 - val_loss: 5.2997 - val_accuracy: 0.7063\n",
      "Epoch 29/50\n",
      "113/113 [==============================] - 0s 3ms/step - loss: 1.7541e-04 - accuracy: 1.0000 - val_loss: 5.3018 - val_accuracy: 0.7063\n",
      "Epoch 30/50\n",
      "113/113 [==============================] - 0s 3ms/step - loss: 1.6015e-04 - accuracy: 1.0000 - val_loss: 5.3074 - val_accuracy: 0.7066\n",
      "Epoch 31/50\n",
      "113/113 [==============================] - 0s 3ms/step - loss: 1.4778e-04 - accuracy: 1.0000 - val_loss: 5.3118 - val_accuracy: 0.7066\n",
      "Epoch 32/50\n",
      "113/113 [==============================] - 0s 3ms/step - loss: 1.3718e-04 - accuracy: 1.0000 - val_loss: 5.3185 - val_accuracy: 0.7065\n",
      "Epoch 33/50\n",
      "113/113 [==============================] - 0s 3ms/step - loss: 1.2757e-04 - accuracy: 1.0000 - val_loss: 5.3254 - val_accuracy: 0.7066\n",
      "Epoch 34/50\n",
      "113/113 [==============================] - 0s 3ms/step - loss: 1.1926e-04 - accuracy: 1.0000 - val_loss: 5.3333 - val_accuracy: 0.7066\n",
      "Epoch 35/50\n",
      "113/113 [==============================] - 0s 4ms/step - loss: 1.1200e-04 - accuracy: 1.0000 - val_loss: 5.3411 - val_accuracy: 0.7061\n",
      "Epoch 36/50\n",
      "113/113 [==============================] - 0s 4ms/step - loss: 1.0565e-04 - accuracy: 1.0000 - val_loss: 5.3484 - val_accuracy: 0.7061\n",
      "Epoch 37/50\n",
      "113/113 [==============================] - 0s 3ms/step - loss: 9.9027e-05 - accuracy: 1.0000 - val_loss: 5.3577 - val_accuracy: 0.7063\n",
      "Epoch 38/50\n",
      "113/113 [==============================] - 0s 3ms/step - loss: 9.3326e-05 - accuracy: 1.0000 - val_loss: 5.3655 - val_accuracy: 0.7070\n",
      "Epoch 39/50\n",
      "113/113 [==============================] - 0s 3ms/step - loss: 8.8339e-05 - accuracy: 1.0000 - val_loss: 5.3745 - val_accuracy: 0.7066\n",
      "Epoch 40/50\n",
      "113/113 [==============================] - 0s 3ms/step - loss: 8.3303e-05 - accuracy: 1.0000 - val_loss: 5.3839 - val_accuracy: 0.7068\n",
      "Epoch 41/50\n",
      "113/113 [==============================] - 0s 4ms/step - loss: 7.8861e-05 - accuracy: 1.0000 - val_loss: 5.3900 - val_accuracy: 0.7070\n",
      "Epoch 42/50\n",
      "113/113 [==============================] - 0s 3ms/step - loss: 7.4507e-05 - accuracy: 1.0000 - val_loss: 5.3994 - val_accuracy: 0.7071\n",
      "Epoch 43/50\n",
      "113/113 [==============================] - 0s 3ms/step - loss: 7.0670e-05 - accuracy: 1.0000 - val_loss: 5.4083 - val_accuracy: 0.7073\n",
      "Epoch 44/50\n",
      "113/113 [==============================] - 0s 3ms/step - loss: 6.7048e-05 - accuracy: 1.0000 - val_loss: 5.4195 - val_accuracy: 0.7071\n",
      "Epoch 45/50\n",
      "113/113 [==============================] - 0s 4ms/step - loss: 6.3496e-05 - accuracy: 1.0000 - val_loss: 5.4298 - val_accuracy: 0.7073\n",
      "Epoch 46/50\n",
      "113/113 [==============================] - 0s 3ms/step - loss: 6.0140e-05 - accuracy: 1.0000 - val_loss: 5.4418 - val_accuracy: 0.7073\n",
      "Epoch 47/50\n",
      "113/113 [==============================] - 0s 3ms/step - loss: 5.6937e-05 - accuracy: 1.0000 - val_loss: 5.4504 - val_accuracy: 0.7074\n",
      "Epoch 48/50\n",
      "113/113 [==============================] - 0s 3ms/step - loss: 5.4076e-05 - accuracy: 1.0000 - val_loss: 5.4623 - val_accuracy: 0.7074\n",
      "Epoch 49/50\n",
      "113/113 [==============================] - 0s 3ms/step - loss: 5.1282e-05 - accuracy: 1.0000 - val_loss: 5.4739 - val_accuracy: 0.7078\n",
      "Epoch 50/50\n",
      "113/113 [==============================] - 0s 3ms/step - loss: 4.8582e-05 - accuracy: 1.0000 - val_loss: 5.4863 - val_accuracy: 0.7076\n"
     ]
    },
    {
     "data": {
      "image/png": "[encoded data removed]",
      "text/plain": [
       "<Figure size 640x480 with 1 Axes>"
      ]
     },
     "metadata": {},
     "output_type": "display_data"
    },
    {
     "data": {
      "image/png": "[encoded data removed]",
      "text/plain": [
       "<Figure size 640x480 with 1 Axes>"
      ]
     },
     "metadata": {},
     "output_type": "display_data"
    }
   ],
   "source": [
    "import matplotlib.pyplot as plt\n",
    "\n",
    "# 훈련을 fit 메소드에 적용하고 결과를 history 변수에 저장합니다.\n",
    "history = model2.fit(\n",
    "    [X_train_encoded1, X_train_encoded2, X_train_encoded3, X_train_encoded4, X_train_encoded5],\n",
    "    y_train,\n",
    "    epochs=50,\n",
    "    batch_size=128,\n",
    "    validation_data=([X_test_encoded1, X_test_encoded2, X_test_encoded3, X_test_encoded4, X_test_encoded5], y_test),\n",
    ")\n",
    "\n",
    "\n",
    "# 손실 및 정확도 값을 얻습니다.\n",
    "train_loss = history.history[\"loss\"]\n",
    "val_loss = history.history[\"val_loss\"]\n",
    "train_accuracy = history.history[\"accuracy\"]\n",
    "val_accuracy = history.history[\"val_accuracy\"]\n",
    "\n",
    "# 손실 시각화\n",
    "plt.figure()\n",
    "plt.plot(train_loss, label=\"Training Loss\")\n",
    "plt.plot(val_loss, label=\"Validation Loss\")\n",
    "plt.title(\"Training and Validation Loss\")\n",
    "plt.xlabel(\"Epochs\")\n",
    "plt.ylabel(\"Loss\")\n",
    "plt.legend()\n",
    "\n",
    "# 정확도 시각화\n",
    "plt.figure()\n",
    "plt.plot(train_accuracy, label=\"Training Accuracy\")\n",
    "plt.plot(val_accuracy, label=\"Validation Accuracy\")\n",
    "plt.title(\"Training and Validation Accuracy\")\n",
    "plt.xlabel(\"Epochs\")\n",
    "plt.ylabel(\"Accuracy\")\n",
    "plt.legend()\n",
    "\n",
    "plt.show()"
   ]
  },
  {
   "cell_type": "code",
   "execution_count": 160,
   "id": "d77f90c8",
   "metadata": {
    "tags": []
   },
   "outputs": [],
   "source": [
    "model2.fit(\n",
    "    [X_train_encoded1, X_train_encoded2, X_train_encoded3, X_train_encoded4, X_train_encoded5],\n",
    "    y_train, epochs=20, batch_size=64)"
   ]
  },
  {
   "cell_type": "code",
   "execution_count": 161,
   "id": "315b797f-f26c-4a43-9177-dffd57833b41",
   "metadata": {
    "tags": []
   },
   "outputs": [
    {
     "data": {
      "text/html": [
       "<div>\n",
       "<style scoped>\n",
       "    .dataframe tbody tr th:only-of-type {\n",
       "        vertical-align: middle;\n",
       "    }\n",
       "\n",
       "    .dataframe tbody tr th {\n",
       "        vertical-align: top;\n",
       "    }\n",
       "\n",
       "    .dataframe thead th {\n",
       "        text-align: right;\n",
       "    }\n",
       "</style>\n",
       "<table border=\"1\" class=\"dataframe\">\n",
       "  <thead>\n",
       "    <tr style=\"text-align: right;\">\n",
       "      <th></th>\n",
       "      <th>Subject</th>\n",
       "      <th>Machinery</th>\n",
       "      <th>Assembly</th>\n",
       "      <th>Part No.1</th>\n",
       "      <th>청구품목</th>\n",
       "    </tr>\n",
       "  </thead>\n",
       "  <tbody>\n",
       "    <tr>\n",
       "      <th>1493</th>\n",
       "      <td>TER-F-ENG-190120-03 (SKIFF BOAT ENGINE PARTS)</td>\n",
       "      <td>SKIFF BOAT ENGINE</td>\n",
       "      <td>MANIFOLD, WATER</td>\n",
       "      <td>3055710</td>\n",
       "      <td>TUBE, WATER BYPASS</td>\n",
       "    </tr>\n",
       "    <tr>\n",
       "      <th>8503</th>\n",
       "      <td>HAN-E-200901-01, HYD REPAIR PART</td>\n",
       "      <td>PURSE WINCH</td>\n",
       "      <td>WINCH ASSY</td>\n",
       "      <td>17.100.00907.000</td>\n",
       "      <td>LINK</td>\n",
       "    </tr>\n",
       "    <tr>\n",
       "      <th>7408</th>\n",
       "      <td>SEG-190522-01, TOPPING WINCH, REPAIR PART</td>\n",
       "      <td>PORT BOOM TOPPING WINCH</td>\n",
       "      <td>WINCH ASSY</td>\n",
       "      <td>13.110.43089.000</td>\n",
       "      <td>SEAL</td>\n",
       "    </tr>\n",
       "    <tr>\n",
       "      <th>3509</th>\n",
       "      <td>신조2차선 출항시 AUX ENGINE(CAT 3512C) 예비품 발주의 건</td>\n",
       "      <td>NO.1 GENERATOR ENGINE</td>\n",
       "      <td>8N-6152 PUMP GP-ENG OIL</td>\n",
       "      <td>0R-3230</td>\n",
       "      <td>PUMP GP-ENG OIL REMAN</td>\n",
       "    </tr>\n",
       "    <tr>\n",
       "      <th>5927</th>\n",
       "      <td>DEO-E-210422-01, 상가시 사용품목</td>\n",
       "      <td>HYD. DRIVE ENGINE</td>\n",
       "      <td>2W-8065 LINES GP-F INJ</td>\n",
       "      <td>127-2176</td>\n",
       "      <td>LINE AS-FUEL INJECTION</td>\n",
       "    </tr>\n",
       "    <tr>\n",
       "      <th>...</th>\n",
       "      <td>...</td>\n",
       "      <td>...</td>\n",
       "      <td>...</td>\n",
       "      <td>...</td>\n",
       "      <td>...</td>\n",
       "    </tr>\n",
       "    <tr>\n",
       "      <th>4812</th>\n",
       "      <td>BLO-F-ENG-200706-07</td>\n",
       "      <td>ENGINE CONTROL SYSTEM</td>\n",
       "      <td>PANEL ASSEMBLY-PNEUMATIC BRAKE WITH SPEED BOOST</td>\n",
       "      <td>11-042-003</td>\n",
       "      <td>REGULATOR-1/2, PILOT OPERATED, LESS GAGE</td>\n",
       "    </tr>\n",
       "    <tr>\n",
       "      <th>2126</th>\n",
       "      <td>ELS-F-ENG-200720-01 M/E PARTS</td>\n",
       "      <td>MAIN ENGINE</td>\n",
       "      <td>RAW WATER PUMP</td>\n",
       "      <td>8476005</td>\n",
       "      <td>GASKET KIT-PP</td>\n",
       "    </tr>\n",
       "    <tr>\n",
       "      <th>16221</th>\n",
       "      <td>신조2차선 출항시 AUX ENGINE(CAT 3512C) 예비품 발주의 건</td>\n",
       "      <td>NO.1 GENERATOR ENGINE</td>\n",
       "      <td>107-0475 LINES GP-WATER</td>\n",
       "      <td>6V-6609</td>\n",
       "      <td>SEAL-O-RING</td>\n",
       "    </tr>\n",
       "    <tr>\n",
       "      <th>9047</th>\n",
       "      <td>BLO-F-ENGINE-191120-10</td>\n",
       "      <td>6M NET BOAT ENGINE</td>\n",
       "      <td>198-4147 TURBOCHARGER GP</td>\n",
       "      <td>196-7658</td>\n",
       "      <td>STUD</td>\n",
       "    </tr>\n",
       "    <tr>\n",
       "      <th>1011</th>\n",
       "      <td>신조 출항 시 SKIFF BOAT(CUMMINS) ENGINE 예비품 발주의 건</td>\n",
       "      <td>SKIFF BOAT ENGINE</td>\n",
       "      <td>SET, LOWER ENGINE GASKET</td>\n",
       "      <td>145507</td>\n",
       "      <td>SEAL, O-RING</td>\n",
       "    </tr>\n",
       "  </tbody>\n",
       "</table>\n",
       "<p>6156 rows × 5 columns</p>\n",
       "</div>"
      ],
      "text/plain": [
       "                                             Subject   \n",
       "1493   TER-F-ENG-190120-03 (SKIFF BOAT ENGINE PARTS)  \\\n",
       "8503                HAN-E-200901-01, HYD REPAIR PART   \n",
       "7408       SEG-190522-01, TOPPING WINCH, REPAIR PART   \n",
       "3509       신조2차선 출항시 AUX ENGINE(CAT 3512C) 예비품 발주의 건   \n",
       "5927                       DEO-E-210422-01, 상가시 사용품목   \n",
       "...                                              ...   \n",
       "4812                             BLO-F-ENG-200706-07   \n",
       "2126                   ELS-F-ENG-200720-01 M/E PARTS   \n",
       "16221      신조2차선 출항시 AUX ENGINE(CAT 3512C) 예비품 발주의 건   \n",
       "9047                          BLO-F-ENGINE-191120-10   \n",
       "1011    신조 출항 시 SKIFF BOAT(CUMMINS) ENGINE 예비품 발주의 건   \n",
       "\n",
       "                      Machinery   \n",
       "1493          SKIFF BOAT ENGINE  \\\n",
       "8503                PURSE WINCH   \n",
       "7408   PORT BOOM TOPPING WINCH    \n",
       "3509      NO.1 GENERATOR ENGINE   \n",
       "5927          HYD. DRIVE ENGINE   \n",
       "...                         ...   \n",
       "4812      ENGINE CONTROL SYSTEM   \n",
       "2126                MAIN ENGINE   \n",
       "16221     NO.1 GENERATOR ENGINE   \n",
       "9047         6M NET BOAT ENGINE   \n",
       "1011          SKIFF BOAT ENGINE   \n",
       "\n",
       "                                              Assembly         Part No.1   \n",
       "1493                                   MANIFOLD, WATER           3055710  \\\n",
       "8503                                        WINCH ASSY  17.100.00907.000   \n",
       "7408                                        WINCH ASSY  13.110.43089.000   \n",
       "3509                          8N-6152 PUMP GP-ENG OIL            0R-3230   \n",
       "5927                            2W-8065 LINES GP-F INJ          127-2176   \n",
       "...                                                ...               ...   \n",
       "4812   PANEL ASSEMBLY-PNEUMATIC BRAKE WITH SPEED BOOST        11-042-003   \n",
       "2126                                   RAW WATER PUMP            8476005   \n",
       "16221                          107-0475 LINES GP-WATER           6V-6609   \n",
       "9047                         198-4147 TURBOCHARGER GP           196-7658   \n",
       "1011                          SET, LOWER ENGINE GASKET            145507   \n",
       "\n",
       "                                           청구품목  \n",
       "1493                         TUBE, WATER BYPASS  \n",
       "8503                                       LINK  \n",
       "7408                                       SEAL  \n",
       "3509                      PUMP GP-ENG OIL REMAN  \n",
       "5927                     LINE AS-FUEL INJECTION  \n",
       "...                                         ...  \n",
       "4812   REGULATOR-1/2, PILOT OPERATED, LESS GAGE  \n",
       "2126                           GASKET KIT-PP     \n",
       "16221                              SEAL-O-RING   \n",
       "9047                                       STUD  \n",
       "1011                               SEAL, O-RING  \n",
       "\n",
       "[6156 rows x 5 columns]"
      ]
     },
     "execution_count": 161,
     "metadata": {},
     "output_type": "execute_result"
    }
   ],
   "source": [
    "X_test"
   ]
  },
  {
   "cell_type": "code",
   "execution_count": 162,
   "id": "afae72b3-7c08-4638-b68f-66ca9da5865a",
   "metadata": {
    "tags": []
   },
   "outputs": [],
   "source": [
    "X_test_encoded1 = encoder1.transform(X_test.iloc[:, 0].values)\n",
    "X_test_encoded2 = encoder2.transform(X_test.iloc[:, 1].values)\n",
    "X_test_encoded3 = encoder3.transform(X_test.iloc[:, 2].values)\n",
    "X_test_encoded4 = encoder4.transform(X_test.iloc[:, 3].values)\n",
    "X_test_encoded5 = encoder5.transform(X_test.iloc[:, 4].values)"
   ]
  },
  {
   "cell_type": "code",
   "execution_count": 163,
   "id": "d0a7561b-68e6-4b25-84f8-b44c89e6d7ee",
   "metadata": {
    "tags": []
   },
   "outputs": [
    {
     "name": "stdout",
     "output_type": "stream",
     "text": [
      "193/193 [==============================] - 0s 1ms/step\n"
     ]
    }
   ],
   "source": [
    "y_pred = model2.predict([X_test_encoded1, X_test_encoded2, X_test_encoded3, X_test_encoded4, X_test_encoded5])"
   ]
  },
  {
   "cell_type": "code",
   "execution_count": 164,
   "id": "b60e2d5b-8e72-4f95-8bb0-e054217a9135",
   "metadata": {
    "tags": []
   },
   "outputs": [],
   "source": [
    "import numpy as np\n",
    "\n",
    "y_pred_classes = np.argmax(y_pred, axis=1)\n"
   ]
  },
  {
   "cell_type": "code",
   "execution_count": 169,
   "id": "a5517957-501a-43b0-81b2-02bc03b32df0",
   "metadata": {
    "tags": []
   },
   "outputs": [
    {
     "data": {
      "text/plain": [
       "array([54, 33, 24, 45, 24, 57, 41, 12,  4, 41, 57, 20, 26, 24, 26, 24, 53,\n",
       "       57, 40, 30, 40, 57,  8, 38, 24,  4, 46, 37, 50,  2], dtype=int64)"
      ]
     },
     "execution_count": 169,
     "metadata": {},
     "output_type": "execute_result"
    }
   ],
   "source": [
    "y_pred_classes[:30]"
   ]
  },
  {
   "cell_type": "code",
   "execution_count": 170,
   "id": "a5c74eb7-49cd-45c5-8484-b993763e5784",
   "metadata": {
    "tags": []
   },
   "outputs": [
    {
     "data": {
      "text/plain": [
       "array([54, 33, 24, 45, 24, 57, 41, 10,  4, 41, 57, 20, 26, 41, 26, 24, 56,\n",
       "       57, 40, 30, 40, 57,  8, 38, 24,  4, 46, 37, 57, 56])"
      ]
     },
     "execution_count": 170,
     "metadata": {},
     "output_type": "execute_result"
    }
   ],
   "source": [
    "y_test[:30]"
   ]
  },
  {
   "cell_type": "code",
   "execution_count": 167,
   "id": "0137468d-58c6-4673-a0a8-6172c4bbbb08",
   "metadata": {
    "tags": []
   },
   "outputs": [
    {
     "name": "stdout",
     "output_type": "stream",
     "text": [
      "Test accuracy: 0.7153996101364523\n"
     ]
    }
   ],
   "source": [
    "from sklearn.metrics import accuracy_score\n",
    "\n",
    "accuracy = accuracy_score(y_test, y_pred_classes)\n",
    "print(f'Test accuracy: {accuracy}')"
   ]
  },
  {
   "cell_type": "code",
   "execution_count": 168,
   "id": "32886959-ac7b-4cc0-aab4-9203dff33b21",
   "metadata": {
    "tags": []
   },
   "outputs": [
    {
     "name": "stdout",
     "output_type": "stream",
     "text": [
      "F1 Score: 0.7395765401072277\n"
     ]
    }
   ],
   "source": [
    "from sklearn.metrics import f1_score\n",
    "f1 = f1_score(y_test, y_pred_classes, average='weighted')\n",
    "print(f'F1 Score: {f1}')\n"
   ]
  },
  {
   "cell_type": "code",
   "execution_count": null,
   "id": "b8d5bb7e-43d8-49ab-9600-5eab7da42d75",
   "metadata": {},
   "outputs": [],
   "source": []
  },
  {
   "cell_type": "code",
   "execution_count": null,
   "id": "47ccf90d-6d03-40fd-ba53-d895f8ce52be",
   "metadata": {},
   "outputs": [],
   "source": []
  },
  {
   "cell_type": "code",
   "execution_count": 57,
   "id": "f4cf7c09-4da2-4a28-b086-c1782adc4c62",
   "metadata": {
    "tags": []
   },
   "outputs": [
    {
     "data": {
      "text/plain": [
       "array(['NET BOAT R/G REPAIR PARTS', 'M/E WATER PUMP 외 PARTS 발주의 건',\n",
       "       'SEG-E-190513-01', ..., '체항수리용 REF COMP O/H PARTS 외',\n",
       "       'MAR2-F-ENG-190218-01', 'CAR-F-ENG-190518-01'], dtype=object)"
      ]
     },
     "execution_count": 57,
     "metadata": {},
     "output_type": "execute_result"
    }
   ],
   "source": [
    "X_train.iloc[:,0].values"
   ]
  },
  {
   "cell_type": "markdown",
   "id": "322339de-cf3e-4553-b556-881a53624c34",
   "metadata": {},
   "source": [
    "# ----- 여기 까지 수정코드 -----"
   ]
  },
  {
   "cell_type": "code",
   "execution_count": null,
   "id": "57871010-f215-4d62-b1db-115ce0925099",
   "metadata": {},
   "outputs": [],
   "source": []
  },
  {
   "cell_type": "code",
   "execution_count": null,
   "id": "d5d33936-b113-498c-938b-338b16ce8af7",
   "metadata": {},
   "outputs": [],
   "source": []
  },
  {
   "cell_type": "code",
   "execution_count": null,
   "id": "4cabac87-7248-48c2-9854-694252f122b4",
   "metadata": {},
   "outputs": [],
   "source": []
  },
  {
   "cell_type": "code",
   "execution_count": null,
   "id": "03681515-41dc-4871-b786-e59d3c793c75",
   "metadata": {},
   "outputs": [],
   "source": []
  },
  {
   "cell_type": "code",
   "execution_count": 139,
   "id": "32c3fd0f-4601-454c-8f5d-d3941dc614f8",
   "metadata": {},
   "outputs": [
    {
     "name": "stdout",
     "output_type": "stream",
     "text": [
      "X_train shape: (14361, 5)\n",
      "y_train shape: (14361,)\n",
      "(14361, 5)\n",
      "int32\n"
     ]
    }
   ],
   "source": [
    "print(\"X_train shape:\", X_train.shape)\n",
    "print(\"y_train shape:\", y_train.shape)\n",
    "print(X_train.shape)\n",
    "print(X_train.dtype)\n"
   ]
  },
  {
   "cell_type": "code",
   "execution_count": 140,
   "id": "b8127429-a4ab-4b2a-a78f-727f27d695ff",
   "metadata": {
    "tags": []
   },
   "outputs": [],
   "source": [
    "import numpy as np\n",
    "from keras.layers import Input, Embedding, Dense, concatenate, Flatten\n",
    "\n",
    "embedding_input_dim_1 = int(np.max(X_train[:, 0])) + 2\n",
    "embedding_input_dim_2 = int(np.max(X_train[:, 1])) + 2\n",
    "embedding_input_dim_3 = int(np.max(X_train[:, 2])) + 2 # Xtrain 길이가 Xtest 보다 더 길어야 하므로 읨의 조정\n",
    "embedding_input_dim_4 = int(np.max(X_train[:, 3])) + 2\n",
    "embedding_input_dim_5 = int(np.max(X_train[:, 4])) + 2\n",
    "\n",
    "# 임베딩 설정\n",
    "embedding_dim = 8\n",
    "\n",
    "input1 = Input(shape=(1,), name=\"Subject_Input\")\n",
    "input2 = Input(shape=(1,), name=\"Assembly_Input\") # 시퀀스 길이 1이다. 이걸 조정하면 아래에서 커널사이즈 조정해야함\n",
    "input3 = Input(shape=(1,), name=\"Resource_Input\")\n",
    "input4 = Input(shape=(1,), name=\"Method_Input\")\n",
    "input5 = Input(shape=(1,), name=\"Dwg_Input\")\n",
    "\n",
    "# 입력 정의\n",
    "# input1 = Input(shape=(5,),  name=\"Subject_Input\") # 시퀀스 길이 5이다. 이걸 조정하면 아래에서 커널사이즈 조정해야함\n",
    "# input2 = Input(shape=(5,),  name=\"Machinery_Input\")\n",
    "# input3 = Input(shape=(5,),  name=\"Assembly_Input\")\n",
    "# input4 = Input(shape=(5,),  name=\"Part_No.1_Input\")\n",
    "# input5 = Input(shape=(5,),  name=\"청구품목_Input\")\n",
    "\n",
    "embedding1 = Embedding(embedding_input_dim_1, embedding_dim, name=\"Subject_Embedding\")(input1)\n",
    "embedding2 = Embedding(embedding_input_dim_2, embedding_dim, name=\"Assembly_Embedding\")(input2)\n",
    "embedding3 = Embedding(embedding_input_dim_3, embedding_dim, name=\"Resource_Embedding\")(input3)\n",
    "embedding4 = Embedding(embedding_input_dim_4, embedding_dim, name=\"Method_Embedding\")(input4)\n",
    "embedding5 = Embedding(embedding_input_dim_5, embedding_dim, name=\"Dwg_Embedding\")(input5)"
   ]
  },
  {
   "cell_type": "code",
   "execution_count": null,
   "id": "6830b5b5-7562-4ae5-bd9d-db78beb0f0b3",
   "metadata": {},
   "outputs": [],
   "source": []
  },
  {
   "cell_type": "markdown",
   "id": "95f7f737-3e22-4c6d-a930-a9aacb5f26f9",
   "metadata": {},
   "source": [
    "# model1"
   ]
  },
  {
   "cell_type": "code",
   "execution_count": 14,
   "id": "40211290-1203-43a9-98d1-cbd722fb9d62",
   "metadata": {},
   "outputs": [],
   "source": [
    "from keras.models import Sequential, Model\n",
    "from keras.layers import Input, Embedding, Dense, concatenate, Flatten\n",
    "\n",
    "# # 출력 통합\n",
    "# merged_output = concatenate([embedding1, embedding2, embedding3, embedding4, embedding5], axis=-1)\n",
    "\n",
    "# # Dense 계층\n",
    "# dense_output = Dense(1, activation='sigmoid', name='Dense_output')(merged_output)\n",
    "# output = Flatten()(dense_output)\n",
    "\n",
    "# prediction = Dense(61, activation='softmax', name=\"Prediction_output\")(output)\n",
    "# # 모델 생성\n",
    "# model1 = Model(inputs=[input1, input2, input3, input4, input5], outputs=prediction)"
   ]
  },
  {
   "cell_type": "code",
   "execution_count": 10,
   "id": "6ab90428-9d44-40e2-8947-9ce75092d166",
   "metadata": {},
   "outputs": [],
   "source": [
    "from tensorflow.keras.optimizers import Adam\n",
    "# # 모델 컴파일\n",
    "# learning_rate = 0.001  # 원하는 학습률 값 설정하기\n",
    "# optimizer = Adam(learning_rate=learning_rate)\n",
    "# # 모델 컴파일\n",
    "# model1.compile(optimizer='adam', loss='categorical_crossentropy', metrics=['accuracy'])\n",
    "# model1.summary()"
   ]
  },
  {
   "cell_type": "code",
   "execution_count": 11,
   "id": "023dd884-7a41-40f7-a82e-c84d495fd7f0",
   "metadata": {},
   "outputs": [],
   "source": [
    "# from tensorflow.keras.utils import to_categorical\n",
    "# y_train_categorical = to_categorical(y_train, num_classes=61)\n",
    "# y_test_categorical = to_categorical(y_test, num_classes=61)"
   ]
  },
  {
   "cell_type": "code",
   "execution_count": 12,
   "id": "778afc8a-b79d-40e8-a154-4eb086a783da",
   "metadata": {},
   "outputs": [],
   "source": [
    "# # 모델 훈련 및 콜백 설정\n",
    "# model1.fit([X_train[:, 0], X_train[:, 1], X_train[:, 2], X_train[:, 3],  X_train[:, 4]], y_train_categorical, epochs=50, batch_size=64)"
   ]
  },
  {
   "cell_type": "code",
   "execution_count": 13,
   "id": "808cee95-f81e-488d-a976-f7e4806236c3",
   "metadata": {},
   "outputs": [],
   "source": [
    "# y_pred1 = model1.predict([X_test[:, 0], X_test[:, 1], X_test[:, 2], X_test[:, 3], X_test[:, 4]])"
   ]
  },
  {
   "cell_type": "code",
   "execution_count": 14,
   "id": "2fc55a88-29b3-4261-8a64-b16d345d49ed",
   "metadata": {},
   "outputs": [],
   "source": [
    "# y_pred_classes1 = np.argmax(y_pred1, axis=1)\n",
    "# # 정답과 비교할 때 카테고리화 된 y_test 필요\n",
    "# y_test_classes1 = np.argmax(y_test_categorical, axis=1)"
   ]
  },
  {
   "cell_type": "code",
   "execution_count": 15,
   "id": "69122062-9e38-4a23-8e76-20a3a4c6c264",
   "metadata": {},
   "outputs": [],
   "source": [
    "# y_pred_classes1,y_test_classes1"
   ]
  },
  {
   "cell_type": "code",
   "execution_count": 16,
   "id": "9c1fe5a9-c801-48b4-aa0d-5bba1e9b3ede",
   "metadata": {},
   "outputs": [],
   "source": [
    "# # 정확도 계산\n",
    "# correct = np.sum(y_pred_classes1 == y_test_classes1)\n",
    "# accuracy = correct / y_test_classes1.shape[0]\n",
    "\n",
    "# print(\"Accuracy: {:.2f}%\".format(accuracy * 100))"
   ]
  },
  {
   "cell_type": "code",
   "execution_count": 17,
   "id": "907d372b-dba4-42b2-83cb-209ef6fc14a4",
   "metadata": {},
   "outputs": [],
   "source": [
    "# from sklearn.metrics import f1_score\n",
    "# f1 = f1_score(y_test_classes1, y_pred_classes1, average='weighted')\n",
    "# print(\"F1 Score: {:.2f}%\".format(f1 * 100))\n"
   ]
  },
  {
   "cell_type": "code",
   "execution_count": null,
   "id": "76d8f26a-63a7-48c3-8d62-72ef5404ff8b",
   "metadata": {},
   "outputs": [],
   "source": []
  },
  {
   "cell_type": "code",
   "execution_count": null,
   "id": "cb93a13f-8657-4888-ad2b-4eccf487cb49",
   "metadata": {},
   "outputs": [],
   "source": []
  },
  {
   "cell_type": "markdown",
   "id": "6913fc59-68b4-4b61-9ede-0c24e174ea9a",
   "metadata": {},
   "source": [
    "# model2 : model1 + lstm"
   ]
  },
  {
   "cell_type": "code",
   "execution_count": 141,
   "id": "6e8bfe09-c4f5-491a-a3fd-5c45fcf60015",
   "metadata": {},
   "outputs": [],
   "source": [
    "from keras.layers import LSTM, Dense,Input, Embedding, concatenate, Flatten\n",
    "from keras.models import Sequential, Model\n",
    "\n",
    "merged_output = concatenate([embedding1, embedding2, embedding3, embedding4,embedding5], axis=-1)\n",
    "lstm_output = LSTM(128)(merged_output)\n",
    "\n",
    "dense_output = Dense(64, activation='relu', name='Dense_output')(lstm_output)\n",
    "prediction = Dense(61, activation='softmax', name=\"Prediction_output\")(dense_output)\n",
    "\n",
    "model2 = Model(inputs=[input1, input2, input3, input4, input5], outputs=prediction)"
   ]
  },
  {
   "cell_type": "code",
   "execution_count": 142,
   "id": "1942b582-c459-4791-8082-15c08e961cf5",
   "metadata": {
    "tags": []
   },
   "outputs": [],
   "source": [
    "from sklearn.utils import class_weight\n",
    "\n",
    "# 클래스 가중치 계산\n",
    "class_weights = class_weight.compute_class_weight(class_weight = \"balanced\",\n",
    "                                                 classes = np.unique(y_train),\n",
    "                                                  y= y_train)"
   ]
  },
  {
   "cell_type": "code",
   "execution_count": 143,
   "id": "99a703c9-53c2-434d-8d7f-9f27e6c1ebad",
   "metadata": {
    "tags": []
   },
   "outputs": [],
   "source": [
    "# class_weights"
   ]
  },
  {
   "cell_type": "code",
   "execution_count": 144,
   "id": "db98d3de-c32b-48b7-9b91-0c1f71486218",
   "metadata": {},
   "outputs": [
    {
     "name": "stdout",
     "output_type": "stream",
     "text": [
      "Model: \"model_9\"\n",
      "__________________________________________________________________________________________________\n",
      " Layer (type)                   Output Shape         Param #     Connected to                     \n",
      "==================================================================================================\n",
      " Subject_Input (InputLayer)     [(None, 1)]          0           []                               \n",
      "                                                                                                  \n",
      " Assembly_Input (InputLayer)    [(None, 1)]          0           []                               \n",
      "                                                                                                  \n",
      " Resource_Input (InputLayer)    [(None, 1)]          0           []                               \n",
      "                                                                                                  \n",
      " Method_Input (InputLayer)      [(None, 1)]          0           []                               \n",
      "                                                                                                  \n",
      " Dwg_Input (InputLayer)         [(None, 1)]          0           []                               \n",
      "                                                                                                  \n",
      " Subject_Embedding (Embedding)  (None, 1, 8)         13736       ['Subject_Input[0][0]']          \n",
      "                                                                                                  \n",
      " Assembly_Embedding (Embedding)  (None, 1, 8)        1400        ['Assembly_Input[0][0]']         \n",
      "                                                                                                  \n",
      " Resource_Embedding (Embedding)  (None, 1, 8)        13472       ['Resource_Input[0][0]']         \n",
      "                                                                                                  \n",
      " Method_Embedding (Embedding)   (None, 1, 8)         65024       ['Method_Input[0][0]']           \n",
      "                                                                                                  \n",
      " Dwg_Embedding (Embedding)      (None, 1, 8)         49040       ['Dwg_Input[0][0]']              \n",
      "                                                                                                  \n",
      " concatenate_14 (Concatenate)   (None, 1, 40)        0           ['Subject_Embedding[0][0]',      \n",
      "                                                                  'Assembly_Embedding[0][0]',     \n",
      "                                                                  'Resource_Embedding[0][0]',     \n",
      "                                                                  'Method_Embedding[0][0]',       \n",
      "                                                                  'Dwg_Embedding[0][0]']          \n",
      "                                                                                                  \n",
      " lstm_9 (LSTM)                  (None, 128)          86528       ['concatenate_14[0][0]']         \n",
      "                                                                                                  \n",
      " Dense_output (Dense)           (None, 64)           8256        ['lstm_9[0][0]']                 \n",
      "                                                                                                  \n",
      " Prediction_output (Dense)      (None, 61)           3965        ['Dense_output[0][0]']           \n",
      "                                                                                                  \n",
      "==================================================================================================\n",
      "Total params: 241,421\n",
      "Trainable params: 241,421\n",
      "Non-trainable params: 0\n",
      "__________________________________________________________________________________________________\n"
     ]
    }
   ],
   "source": [
    "from tensorflow.keras.optimizers import Adam\n",
    "# 모델 컴파일\n",
    "learning_rate = 0.001  # 원하는 학습률 값 설정하기\n",
    "optimizer = Adam(learning_rate=learning_rate)\n",
    "# 모델 컴파일\n",
    "model2.compile(optimizer='adam', loss='categorical_crossentropy', metrics=['accuracy'])\n",
    "model2.summary()"
   ]
  },
  {
   "cell_type": "code",
   "execution_count": 145,
   "id": "e12be768-ea44-476e-bda6-6b63bac869c6",
   "metadata": {},
   "outputs": [],
   "source": [
    "from tensorflow.keras.utils import to_categorical\n",
    "y_train_categorical = to_categorical(y_train, num_classes=61)\n",
    "y_test_categorical = to_categorical(y_test, num_classes=61)"
   ]
  },
  {
   "cell_type": "code",
   "execution_count": 88,
   "id": "d2716cf9-be3d-41fd-b4a5-a36ed6fe7e02",
   "metadata": {
    "tags": []
   },
   "outputs": [],
   "source": [
    "# from sklearn.utils import class_weight\n",
    "\n",
    "# # Compute class weights\n",
    "# # class_weights = class_weight.compute_class_weight('balanced', np.unique(y_train), y_train)\n",
    "# from sklearn.utils import class_weight\n",
    "\n",
    "# # 클래스 가중치 계산\n",
    "# class_weights = class_weight.compute_class_weight(class_weight = \"balanced\",\n",
    "#                                                  classes = np.unique(y_train),\n",
    "#                                                   y= y_train)"
   ]
  },
  {
   "cell_type": "code",
   "execution_count": 92,
   "id": "0a0b09c2-33ee-4a2e-a7ad-023ad63abe68",
   "metadata": {
    "tags": []
   },
   "outputs": [],
   "source": []
  },
  {
   "cell_type": "code",
   "execution_count": 146,
   "id": "8cf6524e-7aa1-4215-bd28-da2a09e90e7c",
   "metadata": {
    "tags": []
   },
   "outputs": [
    {
     "data": {
      "text/plain": [
       "(14361, 61)"
      ]
     },
     "execution_count": 146,
     "metadata": {},
     "output_type": "execute_result"
    }
   ],
   "source": [
    "y_train_categorical.shape"
   ]
  },
  {
   "cell_type": "code",
   "execution_count": 147,
   "id": "c7868dc6-df9f-42b5-92d5-3861f8ff761b",
   "metadata": {},
   "outputs": [
    {
     "name": "stdout",
     "output_type": "stream",
     "text": [
      "Epoch 1/20\n",
      "225/225 [==============================] - 2s 2ms/step - loss: 4.0645 - accuracy: 0.0351\n",
      "Epoch 2/20\n",
      "225/225 [==============================] - 1s 2ms/step - loss: 2.8872 - accuracy: 0.3567\n",
      "Epoch 3/20\n",
      "225/225 [==============================] - 1s 2ms/step - loss: 1.2515 - accuracy: 0.7432\n",
      "Epoch 4/20\n",
      "225/225 [==============================] - 1s 2ms/step - loss: 0.4465 - accuracy: 0.9131\n",
      "Epoch 5/20\n",
      "225/225 [==============================] - 1s 2ms/step - loss: 0.1600 - accuracy: 0.9732\n",
      "Epoch 6/20\n",
      "225/225 [==============================] - 0s 2ms/step - loss: 0.0652 - accuracy: 0.9895\n",
      "Epoch 7/20\n",
      "225/225 [==============================] - 1s 2ms/step - loss: 0.0300 - accuracy: 0.9946\n",
      "Epoch 8/20\n",
      "225/225 [==============================] - 1s 2ms/step - loss: 0.0165 - accuracy: 0.9974\n",
      "Epoch 9/20\n",
      "225/225 [==============================] - 0s 2ms/step - loss: 0.0113 - accuracy: 0.9976\n",
      "Epoch 10/20\n",
      "225/225 [==============================] - 0s 2ms/step - loss: 0.0074 - accuracy: 0.9984\n",
      "Epoch 11/20\n",
      "225/225 [==============================] - 1s 2ms/step - loss: 0.0050 - accuracy: 0.9990\n",
      "Epoch 12/20\n",
      "225/225 [==============================] - 1s 2ms/step - loss: 0.0037 - accuracy: 0.9992\n",
      "Epoch 13/20\n",
      "225/225 [==============================] - 1s 2ms/step - loss: 0.0036 - accuracy: 0.9988\n",
      "Epoch 14/20\n",
      "225/225 [==============================] - 1s 2ms/step - loss: 0.0025 - accuracy: 0.9994\n",
      "Epoch 15/20\n",
      "225/225 [==============================] - 0s 2ms/step - loss: 0.0019 - accuracy: 0.9994\n",
      "Epoch 16/20\n",
      "225/225 [==============================] - 1s 2ms/step - loss: 0.0015 - accuracy: 0.9995\n",
      "Epoch 17/20\n",
      "225/225 [==============================] - 1s 2ms/step - loss: 0.0014 - accuracy: 0.9997\n",
      "Epoch 18/20\n",
      "225/225 [==============================] - 1s 2ms/step - loss: 0.0011 - accuracy: 0.9997\n",
      "Epoch 19/20\n",
      "225/225 [==============================] - 1s 2ms/step - loss: 9.2986e-04 - accuracy: 0.9997\n",
      "Epoch 20/20\n",
      "225/225 [==============================] - 1s 3ms/step - loss: 7.7542e-04 - accuracy: 0.9997\n"
     ]
    },
    {
     "data": {
      "text/plain": [
       "<keras.callbacks.History at 0x293450d23e0>"
      ]
     },
     "execution_count": 147,
     "metadata": {},
     "output_type": "execute_result"
    }
   ],
   "source": [
    "# 모델 훈련 및 콜백 설정\n",
    "model2.fit([X_train[:, 0], X_train[:, 1], X_train[:, 2], X_train[:, 3], X_train[:, 4]], y_train_categorical, epochs=20, batch_size=64\n",
    "          , class_weight={i:class_weights[i] for i in range(len(class_weights))})"
   ]
  },
  {
   "cell_type": "code",
   "execution_count": 148,
   "id": "6f6bf9ef-25a1-4062-9bc9-cf5193ded84c",
   "metadata": {},
   "outputs": [
    {
     "name": "stdout",
     "output_type": "stream",
     "text": [
      "193/193 [==============================] - 0s 867us/step\n"
     ]
    }
   ],
   "source": [
    "y_pred2 = model2.predict([X_test[:, 0], X_test[:, 1], X_test[:, 2], X_test[:, 3], X_test[:, 4]])"
   ]
  },
  {
   "cell_type": "code",
   "execution_count": 149,
   "id": "c4405db1-b567-4c0a-b6cb-fb0b401df3d4",
   "metadata": {},
   "outputs": [],
   "source": [
    "y_pred_classes2 = np.argmax(y_pred2, axis=1)\n",
    "# 정답과 비교할 때 카테고리화 된 y_test 필요\n",
    "y_test_classes2 = np.argmax(y_test_categorical, axis=1)"
   ]
  },
  {
   "cell_type": "code",
   "execution_count": 150,
   "id": "e67c8125-9925-4e8d-a125-281506d82e64",
   "metadata": {},
   "outputs": [
    {
     "data": {
      "text/plain": [
       "(array([54, 33, 24, ..., 40,  8, 40], dtype=int64),\n",
       " array([54, 33, 24, ..., 40,  8, 40], dtype=int64))"
      ]
     },
     "execution_count": 150,
     "metadata": {},
     "output_type": "execute_result"
    }
   ],
   "source": [
    "y_pred_classes2,y_test_classes2"
   ]
  },
  {
   "cell_type": "code",
   "execution_count": 151,
   "id": "3aedcfca-2d48-4c02-b255-5d4d9ad2bec9",
   "metadata": {},
   "outputs": [
    {
     "name": "stdout",
     "output_type": "stream",
     "text": [
      "Accuracy: 74.56%\n"
     ]
    }
   ],
   "source": [
    "# 정확도 계산\n",
    "correct = np.sum(y_pred_classes2 == y_test_classes2)\n",
    "accuracy = correct / y_test_classes2.shape[0]\n",
    "\n",
    "print(\"Accuracy: {:.2f}%\".format(accuracy * 100))"
   ]
  },
  {
   "cell_type": "code",
   "execution_count": 152,
   "id": "c793ea37-42db-423c-a5bb-1f09fc5a4f69",
   "metadata": {},
   "outputs": [
    {
     "name": "stdout",
     "output_type": "stream",
     "text": [
      "F1 Score: 79.23%\n"
     ]
    }
   ],
   "source": [
    "from sklearn.metrics import f1_score\n",
    "f1 = f1_score(y_test_classes2, y_pred_classes2, average='weighted')\n",
    "print(\"F1 Score: {:.2f}%\".format(f1 * 100))"
   ]
  },
  {
   "cell_type": "code",
   "execution_count": null,
   "id": "1d66f56a-8f2c-40e7-90b7-71c1f568e926",
   "metadata": {},
   "outputs": [],
   "source": []
  },
  {
   "cell_type": "markdown",
   "id": "48980841-0506-4b26-9852-36179c53598a",
   "metadata": {},
   "source": [
    "# model1 + cnn + lstm"
   ]
  },
  {
   "cell_type": "code",
   "execution_count": 153,
   "id": "2da4f4cb-679d-4171-a468-f3b9fb9fceaf",
   "metadata": {
    "tags": []
   },
   "outputs": [],
   "source": [
    "from sklearn.utils import class_weight\n",
    "\n",
    "# Compute class weights\n",
    "# class_weights = class_weight.compute_class_weight('balanced', np.unique(y_train), y_train)\n",
    "from sklearn.utils import class_weight\n",
    "\n",
    "# 클래스 가중치 계산\n",
    "class_weights = class_weight.compute_class_weight(class_weight = \"balanced\",\n",
    "                                                 classes = np.unique(y_train),\n",
    "                                                  y= y_train)"
   ]
  },
  {
   "cell_type": "code",
   "execution_count": 154,
   "id": "53582a51-e018-41a5-a828-582c6084dd41",
   "metadata": {},
   "outputs": [],
   "source": [
    "from keras.models import Sequential, Model\n",
    "from keras.layers import Input, Embedding, Dense, concatenate, Flatten, Conv1D, GlobalMaxPooling1D, LSTM\n",
    "# 출력 통합\n",
    "merged_output = concatenate([embedding1, embedding2, embedding3, embedding4, embedding5], axis=-1)\n",
    "\n",
    "\n",
    "# CNN Layer\n",
    "cnn_output = Conv1D(filters=128, kernel_size=1, activation='relu')(merged_output)  # kernel_size 수정\n",
    "cnn_output = GlobalMaxPooling1D()(cnn_output)\n",
    "\n",
    "# LSTM Layer\n",
    "lstm_output = LSTM(128)(merged_output)\n",
    "\n",
    "# Dense Layer\n",
    "dense_input = concatenate([cnn_output, lstm_output], axis=-1)\n",
    "dense_output = Dense(64, activation='relu', name='Dense_output')(dense_input)\n",
    "\n",
    "prediction = Dense(61, activation='softmax', name=\"Prediction_output\")(dense_output)\n",
    "\n",
    "# 모델 생성\n",
    "model3 = Model(inputs=[input1, input2, input3, input4, input5], outputs=prediction)"
   ]
  },
  {
   "cell_type": "code",
   "execution_count": null,
   "id": "c58fe6da-eb34-4364-b156-826c1edfc8b9",
   "metadata": {},
   "outputs": [],
   "source": []
  },
  {
   "cell_type": "code",
   "execution_count": 155,
   "id": "47cab401-73b7-4b05-a99a-a644e2f08b53",
   "metadata": {},
   "outputs": [
    {
     "name": "stdout",
     "output_type": "stream",
     "text": [
      "Model: \"model_10\"\n",
      "__________________________________________________________________________________________________\n",
      " Layer (type)                   Output Shape         Param #     Connected to                     \n",
      "==================================================================================================\n",
      " Subject_Input (InputLayer)     [(None, 1)]          0           []                               \n",
      "                                                                                                  \n",
      " Assembly_Input (InputLayer)    [(None, 1)]          0           []                               \n",
      "                                                                                                  \n",
      " Resource_Input (InputLayer)    [(None, 1)]          0           []                               \n",
      "                                                                                                  \n",
      " Method_Input (InputLayer)      [(None, 1)]          0           []                               \n",
      "                                                                                                  \n",
      " Dwg_Input (InputLayer)         [(None, 1)]          0           []                               \n",
      "                                                                                                  \n",
      " Subject_Embedding (Embedding)  (None, 1, 8)         13736       ['Subject_Input[0][0]']          \n",
      "                                                                                                  \n",
      " Assembly_Embedding (Embedding)  (None, 1, 8)        1400        ['Assembly_Input[0][0]']         \n",
      "                                                                                                  \n",
      " Resource_Embedding (Embedding)  (None, 1, 8)        13472       ['Resource_Input[0][0]']         \n",
      "                                                                                                  \n",
      " Method_Embedding (Embedding)   (None, 1, 8)         65024       ['Method_Input[0][0]']           \n",
      "                                                                                                  \n",
      " Dwg_Embedding (Embedding)      (None, 1, 8)         49040       ['Dwg_Input[0][0]']              \n",
      "                                                                                                  \n",
      " concatenate_15 (Concatenate)   (None, 1, 40)        0           ['Subject_Embedding[0][0]',      \n",
      "                                                                  'Assembly_Embedding[0][0]',     \n",
      "                                                                  'Resource_Embedding[0][0]',     \n",
      "                                                                  'Method_Embedding[0][0]',       \n",
      "                                                                  'Dwg_Embedding[0][0]']          \n",
      "                                                                                                  \n",
      " conv1d_5 (Conv1D)              (None, 1, 128)       5248        ['concatenate_15[0][0]']         \n",
      "                                                                                                  \n",
      " global_max_pooling1d_5 (Global  (None, 128)         0           ['conv1d_5[0][0]']               \n",
      " MaxPooling1D)                                                                                    \n",
      "                                                                                                  \n",
      " lstm_10 (LSTM)                 (None, 128)          86528       ['concatenate_15[0][0]']         \n",
      "                                                                                                  \n",
      " concatenate_16 (Concatenate)   (None, 256)          0           ['global_max_pooling1d_5[0][0]', \n",
      "                                                                  'lstm_10[0][0]']                \n",
      "                                                                                                  \n",
      " Dense_output (Dense)           (None, 64)           16448       ['concatenate_16[0][0]']         \n",
      "                                                                                                  \n",
      " Prediction_output (Dense)      (None, 61)           3965        ['Dense_output[0][0]']           \n",
      "                                                                                                  \n",
      "==================================================================================================\n",
      "Total params: 254,861\n",
      "Trainable params: 254,861\n",
      "Non-trainable params: 0\n",
      "__________________________________________________________________________________________________\n"
     ]
    }
   ],
   "source": [
    "from tensorflow.keras.optimizers import Adam\n",
    "# 모델 컴파일\n",
    "learning_rate = 0.0001  # 원하는 학습률 값 설정하기\n",
    "optimizer = Adam(learning_rate=learning_rate)\n",
    "# 모델 컴파일\n",
    "model3.compile(optimizer='adam', loss='categorical_crossentropy', metrics=['accuracy'])\n",
    "model3.summary()"
   ]
  },
  {
   "cell_type": "code",
   "execution_count": 156,
   "id": "e990c007-9581-4514-a370-bc4760868f99",
   "metadata": {},
   "outputs": [],
   "source": [
    "from tensorflow.keras.utils import to_categorical\n",
    "y_train_categorical = to_categorical(y_train, num_classes=61)\n",
    "y_test_categorical = to_categorical(y_test, num_classes=61)"
   ]
  },
  {
   "cell_type": "code",
   "execution_count": 157,
   "id": "d0a744b6-e719-4fd8-9b29-c00a59cc5411",
   "metadata": {
    "tags": []
   },
   "outputs": [
    {
     "data": {
      "text/plain": [
       "((14361,), (14361,), (14361,), (14361,), (14361,))"
      ]
     },
     "execution_count": 157,
     "metadata": {},
     "output_type": "execute_result"
    }
   ],
   "source": [
    "X_train[:, 0].shape,X_train[:, 1].shape,X_train[:, 2].shape,X_train[:, 3].shape,X_train[:, 4].shape"
   ]
  },
  {
   "cell_type": "code",
   "execution_count": 158,
   "id": "e871b194-d0a4-4df3-8b9e-db4274cc608c",
   "metadata": {
    "tags": []
   },
   "outputs": [
    {
     "data": {
      "text/plain": [
       "(14361, 61)"
      ]
     },
     "execution_count": 158,
     "metadata": {},
     "output_type": "execute_result"
    }
   ],
   "source": [
    "y_train_categorical.shape"
   ]
  },
  {
   "cell_type": "code",
   "execution_count": 159,
   "id": "3a38d1b2-e40c-4e18-8c0c-6828c2306492",
   "metadata": {},
   "outputs": [
    {
     "name": "stdout",
     "output_type": "stream",
     "text": [
      "Epoch 1/30\n",
      "449/449 [==============================] - 3s 2ms/step - loss: 2.2399 - accuracy: 0.6603\n",
      "Epoch 2/30\n",
      "449/449 [==============================] - 1s 2ms/step - loss: 0.1229 - accuracy: 0.9886\n",
      "Epoch 3/30\n",
      "449/449 [==============================] - 1s 2ms/step - loss: 0.0196 - accuracy: 0.9976\n",
      "Epoch 4/30\n",
      "449/449 [==============================] - 1s 2ms/step - loss: 0.0067 - accuracy: 0.9988\n",
      "Epoch 5/30\n",
      "449/449 [==============================] - 1s 2ms/step - loss: 0.0031 - accuracy: 0.9994\n",
      "Epoch 6/30\n",
      "449/449 [==============================] - 1s 2ms/step - loss: 0.0020 - accuracy: 0.9996\n",
      "Epoch 7/30\n",
      "449/449 [==============================] - 1s 2ms/step - loss: 0.0015 - accuracy: 0.9992\n",
      "Epoch 8/30\n",
      "449/449 [==============================] - 1s 2ms/step - loss: 0.0010 - accuracy: 0.9995\n",
      "Epoch 9/30\n",
      "449/449 [==============================] - 1s 2ms/step - loss: 7.0099e-04 - accuracy: 0.9997\n",
      "Epoch 10/30\n",
      "449/449 [==============================] - 1s 2ms/step - loss: 7.4717e-04 - accuracy: 0.9994\n",
      "Epoch 11/30\n",
      "449/449 [==============================] - 1s 2ms/step - loss: 4.6856e-04 - accuracy: 0.9997\n",
      "Epoch 12/30\n",
      "449/449 [==============================] - 1s 2ms/step - loss: 3.6662e-04 - accuracy: 0.9999\n",
      "Epoch 13/30\n",
      "449/449 [==============================] - 1s 2ms/step - loss: 4.2032e-04 - accuracy: 0.9996\n",
      "Epoch 14/30\n",
      "449/449 [==============================] - 1s 2ms/step - loss: 3.7366e-04 - accuracy: 0.9997\n",
      "Epoch 15/30\n",
      "449/449 [==============================] - 1s 2ms/step - loss: 3.4815e-04 - accuracy: 0.9996\n",
      "Epoch 16/30\n",
      "449/449 [==============================] - 1s 2ms/step - loss: 2.2313e-04 - accuracy: 0.9998\n",
      "Epoch 17/30\n",
      "449/449 [==============================] - 1s 2ms/step - loss: 0.0017 - accuracy: 0.9992\n",
      "Epoch 18/30\n",
      "449/449 [==============================] - 1s 2ms/step - loss: 0.0012 - accuracy: 0.9997\n",
      "Epoch 19/30\n",
      "449/449 [==============================] - 1s 2ms/step - loss: 0.0016 - accuracy: 0.9995\n",
      "Epoch 20/30\n",
      "449/449 [==============================] - 1s 2ms/step - loss: 0.0082 - accuracy: 0.9981\n",
      "Epoch 21/30\n",
      "449/449 [==============================] - 1s 2ms/step - loss: 0.0021 - accuracy: 0.9996\n",
      "Epoch 22/30\n",
      "449/449 [==============================] - 1s 2ms/step - loss: 1.3221e-04 - accuracy: 0.9999\n",
      "Epoch 23/30\n",
      "449/449 [==============================] - 1s 2ms/step - loss: 6.3637e-05 - accuracy: 0.9999\n",
      "Epoch 24/30\n",
      "449/449 [==============================] - 1s 2ms/step - loss: 3.3081e-05 - accuracy: 0.9999\n",
      "Epoch 25/30\n",
      "449/449 [==============================] - 1s 2ms/step - loss: 1.6991e-05 - accuracy: 1.0000\n",
      "Epoch 26/30\n",
      "449/449 [==============================] - 1s 2ms/step - loss: 1.3436e-05 - accuracy: 1.0000\n",
      "Epoch 27/30\n",
      "449/449 [==============================] - 1s 2ms/step - loss: 1.1145e-05 - accuracy: 1.0000\n",
      "Epoch 28/30\n",
      "449/449 [==============================] - 1s 2ms/step - loss: 9.2332e-06 - accuracy: 1.0000\n",
      "Epoch 29/30\n",
      "449/449 [==============================] - 1s 2ms/step - loss: 7.7121e-06 - accuracy: 1.0000\n",
      "Epoch 30/30\n",
      "449/449 [==============================] - 1s 2ms/step - loss: 6.4122e-06 - accuracy: 1.0000\n"
     ]
    },
    {
     "data": {
      "text/plain": [
       "<keras.callbacks.History at 0x2934503bfd0>"
      ]
     },
     "execution_count": 159,
     "metadata": {},
     "output_type": "execute_result"
    }
   ],
   "source": [
    "# 모델 훈련 및 콜백 설정\n",
    "model3.fit([X_train[:, 0], X_train[:, 1], X_train[:, 2], X_train[:, 3], X_train[:, 4]], y_train_categorical, epochs=30, batch_size=32\n",
    "           , class_weight={i:class_weights[i] for i in range(len(class_weights))})\n",
    "# model3.fit([X_train[:, 0, np.newaxis], X_train[:, 1, np.newaxis], X_train[:, 2, np.newaxis], X_train[:, 3, np.newaxis], X_train[:, 4, np.newaxis]], y_train_categorical, epochs=30, batch_size=64)\n"
   ]
  },
  {
   "cell_type": "code",
   "execution_count": 160,
   "id": "a68652dc-0a57-40bc-9a12-a20d73427f9e",
   "metadata": {},
   "outputs": [
    {
     "name": "stdout",
     "output_type": "stream",
     "text": [
      "193/193 [==============================] - 0s 857us/step\n"
     ]
    }
   ],
   "source": [
    "# y_pred3 = model3.predict([X_test[:, 0], X_test[:, 1], X_test[:, 2], X_test[:, 3], X_test[:, 4]])\n",
    "y_pred3 = model3.predict([X_test[:, 0, np.newaxis], X_test[:, 1, np.newaxis], X_test[:, 2, np.newaxis], X_test[:, 3, np.newaxis], X_test[:, 4, np.newaxis]])\n"
   ]
  },
  {
   "cell_type": "code",
   "execution_count": 161,
   "id": "ac39c10c-afbb-42ef-aa56-21d8954d689f",
   "metadata": {},
   "outputs": [],
   "source": [
    "y_pred_classes3 = np.argmax(y_pred3, axis=1)\n",
    "# 정답과 비교할 때 카테고리화 된 y_test 필요\n",
    "y_test_classes3 = np.argmax(y_test_categorical, axis=1)"
   ]
  },
  {
   "cell_type": "code",
   "execution_count": 162,
   "id": "aab292c0-4823-4c13-80a5-22d6b6f05a11",
   "metadata": {},
   "outputs": [
    {
     "data": {
      "text/plain": [
       "(array([54, 33, 24, 45, 24, 57, 41, 10,  4, 41, 57, 20, 26,  2, 26, 24, 37,\n",
       "        57, 40, 30, 40, 57,  8, 38, 24,  4, 46, 37, 47, 56], dtype=int64),\n",
       " array([54, 33, 24, 45, 24, 57, 41, 10,  4, 41, 57, 20, 26, 41, 26, 24, 56,\n",
       "        57, 40, 30, 40, 57,  8, 38, 24,  4, 46, 37, 57, 56], dtype=int64))"
      ]
     },
     "execution_count": 162,
     "metadata": {},
     "output_type": "execute_result"
    }
   ],
   "source": [
    "y_pred_classes3[:30],y_test_classes3[:30]"
   ]
  },
  {
   "cell_type": "code",
   "execution_count": 163,
   "id": "56f5f6db-3c86-469e-8d63-7ab977787023",
   "metadata": {},
   "outputs": [
    {
     "name": "stdout",
     "output_type": "stream",
     "text": [
      "Accuracy: 76.54%\n"
     ]
    }
   ],
   "source": [
    "# 정확도 계산\n",
    "correct = np.sum(y_pred_classes3 == y_test_classes3)\n",
    "accuracy = correct / y_test_classes3.shape[0]\n",
    "\n",
    "print(\"Accuracy: {:.2f}%\".format(accuracy * 100))"
   ]
  },
  {
   "cell_type": "code",
   "execution_count": 164,
   "id": "983e46b5-cd7c-4288-9df6-212a59946625",
   "metadata": {},
   "outputs": [
    {
     "name": "stdout",
     "output_type": "stream",
     "text": [
      "F1 Score: 82.14%\n"
     ]
    }
   ],
   "source": [
    "from sklearn.metrics import f1_score\n",
    "f1 = f1_score(y_test_classes3, y_pred_classes3, average='weighted') # \n",
    "print(\"F1 Score: {:.2f}%\".format(f1 * 100))"
   ]
  },
  {
   "cell_type": "code",
   "execution_count": null,
   "id": "082d581a-ed21-4f15-9ca4-785bd347a50a",
   "metadata": {},
   "outputs": [],
   "source": []
  },
  {
   "cell_type": "code",
   "execution_count": null,
   "id": "7a70a83b-1cd8-4c5e-9b6f-321af0c3a0fa",
   "metadata": {},
   "outputs": [],
   "source": []
  },
  {
   "cell_type": "code",
   "execution_count": null,
   "id": "3e74f7d1-4ef5-4521-b413-a769bc64d071",
   "metadata": {},
   "outputs": [],
   "source": []
  },
  {
   "cell_type": "code",
   "execution_count": null,
   "id": "7d355d0e-9339-4082-a142-1d3f3c6b12fb",
   "metadata": {},
   "outputs": [],
   "source": []
  },
  {
   "cell_type": "code",
   "execution_count": null,
   "id": "f92eb902-d787-4f39-a625-e2e75c93a4dd",
   "metadata": {},
   "outputs": [],
   "source": []
  },
  {
   "cell_type": "code",
   "execution_count": null,
   "id": "9e93264a-915a-4357-b665-b79198601def",
   "metadata": {},
   "outputs": [],
   "source": []
  },
  {
   "cell_type": "code",
   "execution_count": null,
   "id": "c2de8d8d-a741-4634-b585-f5765c12a761",
   "metadata": {},
   "outputs": [],
   "source": []
  },
  {
   "cell_type": "code",
   "execution_count": null,
   "id": "2a82788f-108e-4777-b321-c862ed8084e2",
   "metadata": {},
   "outputs": [],
   "source": []
  },
  {
   "cell_type": "code",
   "execution_count": null,
   "id": "45c886dd-5671-4294-864a-5bec8b733d84",
   "metadata": {},
   "outputs": [],
   "source": []
  },
  {
   "cell_type": "code",
   "execution_count": null,
   "id": "f8609499-cb2e-4370-8234-c118ff770f4d",
   "metadata": {},
   "outputs": [],
   "source": []
  },
  {
   "cell_type": "code",
   "execution_count": null,
   "id": "67b8aa77-cf59-4757-8016-c437a68d2c04",
   "metadata": {},
   "outputs": [],
   "source": []
  }
 ],
 "metadata": {
  "kernelspec": {
   "display_name": "venv1",
   "language": "python",
   "name": "venv"
  },
  "language_info": {
   "codemirror_mode": {
    "name": "ipython",
    "version": 3
   },
   "file_extension": ".py",
   "mimetype": "text/x-python",
   "name": "python",
   "nbconvert_exporter": "python",
   "pygments_lexer": "ipython3",
   "version": "3.10.10"
  }
 },
 "nbformat": 4,
 "nbformat_minor": 5
}
