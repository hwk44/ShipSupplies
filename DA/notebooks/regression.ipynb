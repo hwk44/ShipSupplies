{
 "cells": [
  {
   "cell_type": "code",
   "execution_count": 140,
   "id": "41b37e2e-c378-490b-9f20-3989cc84f3f6",
   "metadata": {
    "tags": []
   },
   "outputs": [
    {
     "name": "stderr",
     "output_type": "stream",
     "text": [
      "C:\\Users\\SW\\AppData\\Local\\Temp\\ipykernel_17936\\1378052945.py:5: SettingWithCopyWarning: \n",
      "A value is trying to be set on a copy of a slice from a DataFrame.\n",
      "Try using .loc[row_indexer,col_indexer] = value instead\n",
      "\n",
      "See the caveats in the documentation: https://pandas.pydata.org/pandas-docs/stable/user_guide/indexing.html#returning-a-view-versus-a-copy\n",
      "  df1[\"leadtime\"] = df[\"leadtime\"].astype(int)\n"
     ]
    }
   ],
   "source": [
    "import pandas as pd\n",
    "from sklearn import preprocessing\n",
    "df = pd.read_csv('../data/raw_postpro.csv')\n",
    "df1 = df[[\"청구품목\", 'key2', 'leadtime', '견적화폐' , '발주처']]\n",
    "df1[\"leadtime\"] = df[\"leadtime\"].astype(int)"
   ]
  },
  {
   "cell_type": "code",
   "execution_count": 141,
   "id": "e928b4a9-61c8-4161-811b-b9fadcc35642",
   "metadata": {
    "tags": []
   },
   "outputs": [
    {
     "data": {
      "text/plain": [
       "Index(['청구서번호', 'No.', 'Subject', 'Machinery', 'Assembly', '청구품목', 'Part No.1',\n",
       "       'Part No.2', 'key1', 'key2', '리드타임_음수제거', '청구량', '견적', '견적수량', '견적화폐',\n",
       "       '견적단가', '발주번호', '발주처', '발주', '발주수량', '발주금액', 'D/T', '미입고 기간', '리드타임',\n",
       "       '창고입고', '창고입고수량', 'Control No.', '입고창고', '창고출고', '창고출고수량', '출고선박',\n",
       "       '출고운반선', '선박입고', '선박입고수량', '완료 여부', 'leadtime'],\n",
       "      dtype='object')"
      ]
     },
     "execution_count": 141,
     "metadata": {},
     "output_type": "execute_result"
    }
   ],
   "source": [
    "df.columns"
   ]
  },
  {
   "cell_type": "code",
   "execution_count": 142,
   "id": "4d77db52-7a06-4a89-ae40-eb0dfe6932ae",
   "metadata": {
    "tags": []
   },
   "outputs": [
    {
     "data": {
      "text/plain": [
       "0     194\n",
       "1      59\n",
       "2      61\n",
       "3     212\n",
       "4     220\n",
       "5      80\n",
       "6     100\n",
       "7      13\n",
       "8     117\n",
       "9      96\n",
       "10      2\n",
       "11    156\n",
       "12     72\n",
       "13     25\n",
       "14     49\n",
       "15     49\n",
       "16     49\n",
       "17     49\n",
       "18     56\n",
       "19     48\n",
       "20     56\n",
       "21     56\n",
       "22     28\n",
       "23      6\n",
       "24     56\n",
       "25     48\n",
       "26     56\n",
       "27     48\n",
       "28      6\n",
       "29      6\n",
       "30     32\n",
       "31      6\n",
       "32      6\n",
       "33      6\n",
       "34      6\n",
       "35      6\n",
       "36      6\n",
       "37      6\n",
       "38      6\n",
       "39      6\n",
       "40      6\n",
       "41      6\n",
       "42      6\n",
       "43      6\n",
       "44      6\n",
       "45      6\n",
       "46      6\n",
       "47      6\n",
       "48     62\n",
       "49     62\n",
       "Name: leadtime, dtype: int32"
      ]
     },
     "execution_count": 142,
     "metadata": {},
     "output_type": "execute_result"
    }
   ],
   "source": [
    "# df[\"리드타임\"] = df[\"리드타임\"].astype(float)\n",
    "# df[\"key2\"] = df[\"key2\"].astype(int)\n",
    "df1[\"leadtime\"].iloc[:50,]"
   ]
  },
  {
   "cell_type": "code",
   "execution_count": 143,
   "id": "b213adda-cbca-441a-9df6-d150c4be75d1",
   "metadata": {
    "tags": []
   },
   "outputs": [
    {
     "data": {
      "text/html": [
       "<div>\n",
       "<style scoped>\n",
       "    .dataframe tbody tr th:only-of-type {\n",
       "        vertical-align: middle;\n",
       "    }\n",
       "\n",
       "    .dataframe tbody tr th {\n",
       "        vertical-align: top;\n",
       "    }\n",
       "\n",
       "    .dataframe thead th {\n",
       "        text-align: right;\n",
       "    }\n",
       "</style>\n",
       "<table border=\"1\" class=\"dataframe\">\n",
       "  <thead>\n",
       "    <tr style=\"text-align: right;\">\n",
       "      <th></th>\n",
       "      <th>청구서번호</th>\n",
       "      <th>No.</th>\n",
       "      <th>Subject</th>\n",
       "      <th>Machinery</th>\n",
       "      <th>Assembly</th>\n",
       "      <th>청구품목</th>\n",
       "      <th>Part No.1</th>\n",
       "      <th>Part No.2</th>\n",
       "      <th>key1</th>\n",
       "      <th>key2</th>\n",
       "      <th>...</th>\n",
       "      <th>Control No.</th>\n",
       "      <th>입고창고</th>\n",
       "      <th>창고출고</th>\n",
       "      <th>창고출고수량</th>\n",
       "      <th>출고선박</th>\n",
       "      <th>출고운반선</th>\n",
       "      <th>선박입고</th>\n",
       "      <th>선박입고수량</th>\n",
       "      <th>완료 여부</th>\n",
       "      <th>leadtime</th>\n",
       "    </tr>\n",
       "  </thead>\n",
       "  <tbody>\n",
       "    <tr>\n",
       "      <th>0</th>\n",
       "      <td>ELS-BS-ESP-2004002</td>\n",
       "      <td>12</td>\n",
       "      <td>NO.1 A/E C18 MAJOR O/H PARTS</td>\n",
       "      <td>NO.1 GENERATOR ENGINE</td>\n",
       "      <td>323-6480 LINES GP-FUEL</td>\n",
       "      <td>SEAL-O-RING-STOR</td>\n",
       "      <td>7.00E-275</td>\n",
       "      <td>0</td>\n",
       "      <td>7.00E-275</td>\n",
       "      <td>COOLER</td>\n",
       "      <td>...</td>\n",
       "      <td>혜인 발주</td>\n",
       "      <td>BS</td>\n",
       "      <td>2020-09-19</td>\n",
       "      <td>1</td>\n",
       "      <td>BLO</td>\n",
       "      <td>본선 선적</td>\n",
       "      <td>0</td>\n",
       "      <td>0</td>\n",
       "      <td>0</td>\n",
       "      <td>194</td>\n",
       "    </tr>\n",
       "    <tr>\n",
       "      <th>1</th>\n",
       "      <td>OCA-BS-ESP-2010004</td>\n",
       "      <td>5</td>\n",
       "      <td>운전시간 대비 #2 AUX ENG TOP END O/H PARTS</td>\n",
       "      <td>NO.2 GENERATOR ENGINE</td>\n",
       "      <td>GASKET KIT</td>\n",
       "      <td>OIL COOLER &amp; LINES</td>\n",
       "      <td>7.00E-275</td>\n",
       "      <td>0</td>\n",
       "      <td>7.00E-275</td>\n",
       "      <td>COOLER</td>\n",
       "      <td>...</td>\n",
       "      <td>혜인 발주</td>\n",
       "      <td>BS</td>\n",
       "      <td>2020-09-18</td>\n",
       "      <td>1</td>\n",
       "      <td>JBG</td>\n",
       "      <td>본선 선적</td>\n",
       "      <td>0</td>\n",
       "      <td>0</td>\n",
       "      <td>0</td>\n",
       "      <td>59</td>\n",
       "    </tr>\n",
       "    <tr>\n",
       "      <th>2</th>\n",
       "      <td>MIR-BS-ESP-2011002</td>\n",
       "      <td>119</td>\n",
       "      <td>운전시간 대비 #2 AUX ENG(CAT 3512C) MAJOR O/H PARTS</td>\n",
       "      <td>NO.2 GENERATOR ENGINE</td>\n",
       "      <td>285-8374 MANIFOLD GP-EXH</td>\n",
       "      <td>WASHER</td>\n",
       "      <td>7.00E-275</td>\n",
       "      <td>0</td>\n",
       "      <td>7.00E-275</td>\n",
       "      <td>COOLER</td>\n",
       "      <td>...</td>\n",
       "      <td>0</td>\n",
       "      <td>BS</td>\n",
       "      <td>2020-12-12</td>\n",
       "      <td>1</td>\n",
       "      <td>BON</td>\n",
       "      <td>SANWA FONTAINE</td>\n",
       "      <td>0</td>\n",
       "      <td>0</td>\n",
       "      <td>0</td>\n",
       "      <td>61</td>\n",
       "    </tr>\n",
       "    <tr>\n",
       "      <th>3</th>\n",
       "      <td>BLO-BS-ESP-2003002</td>\n",
       "      <td>16</td>\n",
       "      <td>#1 AUX ENG TOP END O/H PARTS</td>\n",
       "      <td>NO.1 GENERATOR ENGINE</td>\n",
       "      <td>159-8828 TURBO GP</td>\n",
       "      <td>BOLT-HIGH TEMP</td>\n",
       "      <td>7.00E-275</td>\n",
       "      <td>0</td>\n",
       "      <td>7.00E-275</td>\n",
       "      <td>COOLER</td>\n",
       "      <td>...</td>\n",
       "      <td>혜인 발주</td>\n",
       "      <td>BS</td>\n",
       "      <td>2021-06-16</td>\n",
       "      <td>1</td>\n",
       "      <td>MIR</td>\n",
       "      <td>체항수리 시 사용</td>\n",
       "      <td>0</td>\n",
       "      <td>0</td>\n",
       "      <td>0</td>\n",
       "      <td>212</td>\n",
       "    </tr>\n",
       "    <tr>\n",
       "      <th>4</th>\n",
       "      <td>DEO-BS-ESP-2105008</td>\n",
       "      <td>97</td>\n",
       "      <td>DEO-E-210512-01</td>\n",
       "      <td>NO.1 GENERATOR ENGINE</td>\n",
       "      <td>2N4727 INSTRUMNT PANEL GP</td>\n",
       "      <td>SEAL</td>\n",
       "      <td>7.00E-275</td>\n",
       "      <td>0</td>\n",
       "      <td>7.00E-275</td>\n",
       "      <td>COOLER</td>\n",
       "      <td>...</td>\n",
       "      <td>0</td>\n",
       "      <td>BS</td>\n",
       "      <td>0</td>\n",
       "      <td>0</td>\n",
       "      <td>0</td>\n",
       "      <td>0</td>\n",
       "      <td>0</td>\n",
       "      <td>0</td>\n",
       "      <td>0</td>\n",
       "      <td>220</td>\n",
       "    </tr>\n",
       "    <tr>\n",
       "      <th>...</th>\n",
       "      <td>...</td>\n",
       "      <td>...</td>\n",
       "      <td>...</td>\n",
       "      <td>...</td>\n",
       "      <td>...</td>\n",
       "      <td>...</td>\n",
       "      <td>...</td>\n",
       "      <td>...</td>\n",
       "      <td>...</td>\n",
       "      <td>...</td>\n",
       "      <td>...</td>\n",
       "      <td>...</td>\n",
       "      <td>...</td>\n",
       "      <td>...</td>\n",
       "      <td>...</td>\n",
       "      <td>...</td>\n",
       "      <td>...</td>\n",
       "      <td>...</td>\n",
       "      <td>...</td>\n",
       "      <td>...</td>\n",
       "      <td>...</td>\n",
       "    </tr>\n",
       "    <tr>\n",
       "      <th>20512</th>\n",
       "      <td>BLO-BS-ESP-2006006</td>\n",
       "      <td>1</td>\n",
       "      <td>BLO-F-ENGINE-200515-03 BOAT DAVIT CYL 외, AIRCO...</td>\n",
       "      <td>HYD. SYSTEM</td>\n",
       "      <td>5-753-2E_BOAT DAVIT &amp; N.D CRANE LINE</td>\n",
       "      <td>HYD. CYLINDER_NET BOAT DAVIT</td>\n",
       "      <td>φ150 × φ85 × 695st</td>\n",
       "      <td>FF-SE-1CB150BB695ABD-YP2J</td>\n",
       "      <td>φ150 × φ85 × 695stFF-SE-1CB150BB695ABD-YP2J</td>\n",
       "      <td>CYLINDER</td>\n",
       "      <td>...</td>\n",
       "      <td>20-09-161</td>\n",
       "      <td>BW</td>\n",
       "      <td>0</td>\n",
       "      <td>0</td>\n",
       "      <td>0</td>\n",
       "      <td>0</td>\n",
       "      <td>0</td>\n",
       "      <td>0</td>\n",
       "      <td>0</td>\n",
       "      <td>95</td>\n",
       "    </tr>\n",
       "    <tr>\n",
       "      <th>20513</th>\n",
       "      <td>BLO-BS-ESP-2004008</td>\n",
       "      <td>1</td>\n",
       "      <td>BLO-F-ENGINE-200403-01 (NAVI DECK CRANE DERRIN...</td>\n",
       "      <td>HYD. SYSTEM</td>\n",
       "      <td>5-753-2E_BOAT DAVIT &amp; N.D CRANE LINE</td>\n",
       "      <td>HYD. CYLINDER_N.D CRANE_BOOM_LIFTER</td>\n",
       "      <td>φ160 × φ112 × 1130st</td>\n",
       "      <td>S-2CA160A20.6N1130-1</td>\n",
       "      <td>φ160 × φ112 × 1130stS-2CA160A20.6N1130-1</td>\n",
       "      <td>CYLINDER</td>\n",
       "      <td>...</td>\n",
       "      <td>20-07-114</td>\n",
       "      <td>BW</td>\n",
       "      <td>2020-08-26</td>\n",
       "      <td>1</td>\n",
       "      <td>BLO</td>\n",
       "      <td>BLO 상가시 선적</td>\n",
       "      <td>0</td>\n",
       "      <td>0</td>\n",
       "      <td>0</td>\n",
       "      <td>67</td>\n",
       "    </tr>\n",
       "    <tr>\n",
       "      <th>20514</th>\n",
       "      <td>ELS-BS-ESP-1908002</td>\n",
       "      <td>2</td>\n",
       "      <td>ELS-F-ENG-190628-02</td>\n",
       "      <td>6M NET BOAT</td>\n",
       "      <td>ELECTRIC CLUTCH</td>\n",
       "      <td>PULLY</td>\n",
       "      <td>Φ305X5V-3</td>\n",
       "      <td>0</td>\n",
       "      <td>Φ305X5V-3</td>\n",
       "      <td>BELT</td>\n",
       "      <td>...</td>\n",
       "      <td>19-08-164</td>\n",
       "      <td>BW</td>\n",
       "      <td>2019-09-04</td>\n",
       "      <td>1</td>\n",
       "      <td>ELS</td>\n",
       "      <td>ONENESS</td>\n",
       "      <td>2019-10-02</td>\n",
       "      <td>1</td>\n",
       "      <td>완료</td>\n",
       "      <td>25</td>\n",
       "    </tr>\n",
       "    <tr>\n",
       "      <th>20515</th>\n",
       "      <td>BLO-BS-ESP-1906014</td>\n",
       "      <td>2</td>\n",
       "      <td>BLO-F-ENGINE-190617-01 (NET BOAT PARTS)</td>\n",
       "      <td>7M NET BOAT</td>\n",
       "      <td>HAND HYDRAULIC STEERING SYSTEM</td>\n",
       "      <td>CYLINDER</td>\n",
       "      <td>Φ50 x S195 CYLINDER</td>\n",
       "      <td>0</td>\n",
       "      <td>Φ50 x S195 CYLINDER</td>\n",
       "      <td>CYLINDER</td>\n",
       "      <td>...</td>\n",
       "      <td>19-07-134</td>\n",
       "      <td>BW</td>\n",
       "      <td>2019-08-20</td>\n",
       "      <td>1</td>\n",
       "      <td>BLO</td>\n",
       "      <td>세이셀 컨테이너</td>\n",
       "      <td>2019-10-12</td>\n",
       "      <td>1</td>\n",
       "      <td>완료</td>\n",
       "      <td>25</td>\n",
       "    </tr>\n",
       "    <tr>\n",
       "      <th>20516</th>\n",
       "      <td>BLO-BS-ESP-1906014</td>\n",
       "      <td>3</td>\n",
       "      <td>BLO-F-ENGINE-190617-01 (NET BOAT PARTS)</td>\n",
       "      <td>7M NET BOAT</td>\n",
       "      <td>HAND HYDRAULIC STEERING SYSTEM</td>\n",
       "      <td>SEAL KIT FOR CYLINDER</td>\n",
       "      <td>Φ50 x S195 CYLINDER SEAL KIT</td>\n",
       "      <td>0</td>\n",
       "      <td>Φ50 x S195 CYLINDER SEAL KIT</td>\n",
       "      <td>CYLINDER</td>\n",
       "      <td>...</td>\n",
       "      <td>19-07-134</td>\n",
       "      <td>BW</td>\n",
       "      <td>2019-08-20</td>\n",
       "      <td>2</td>\n",
       "      <td>BLO</td>\n",
       "      <td>세이셀 컨테이너</td>\n",
       "      <td>2019-10-12</td>\n",
       "      <td>2</td>\n",
       "      <td>완료</td>\n",
       "      <td>25</td>\n",
       "    </tr>\n",
       "  </tbody>\n",
       "</table>\n",
       "<p>20517 rows × 36 columns</p>\n",
       "</div>"
      ],
      "text/plain": [
       "                    청구서번호  No.   \n",
       "0      ELS-BS-ESP-2004002   12  \\\n",
       "1      OCA-BS-ESP-2010004    5   \n",
       "2      MIR-BS-ESP-2011002  119   \n",
       "3      BLO-BS-ESP-2003002   16   \n",
       "4      DEO-BS-ESP-2105008   97   \n",
       "...                   ...  ...   \n",
       "20512  BLO-BS-ESP-2006006    1   \n",
       "20513  BLO-BS-ESP-2004008    1   \n",
       "20514  ELS-BS-ESP-1908002    2   \n",
       "20515  BLO-BS-ESP-1906014    2   \n",
       "20516  BLO-BS-ESP-1906014    3   \n",
       "\n",
       "                                                 Subject   \n",
       "0                           NO.1 A/E C18 MAJOR O/H PARTS  \\\n",
       "1                   운전시간 대비 #2 AUX ENG TOP END O/H PARTS   \n",
       "2          운전시간 대비 #2 AUX ENG(CAT 3512C) MAJOR O/H PARTS   \n",
       "3                           #1 AUX ENG TOP END O/H PARTS   \n",
       "4                                        DEO-E-210512-01   \n",
       "...                                                  ...   \n",
       "20512  BLO-F-ENGINE-200515-03 BOAT DAVIT CYL 외, AIRCO...   \n",
       "20513  BLO-F-ENGINE-200403-01 (NAVI DECK CRANE DERRIN...   \n",
       "20514                                ELS-F-ENG-190628-02   \n",
       "20515            BLO-F-ENGINE-190617-01 (NET BOAT PARTS)   \n",
       "20516            BLO-F-ENGINE-190617-01 (NET BOAT PARTS)   \n",
       "\n",
       "                   Machinery                              Assembly   \n",
       "0      NO.1 GENERATOR ENGINE               323-6480 LINES GP-FUEL   \\\n",
       "1      NO.2 GENERATOR ENGINE                            GASKET KIT   \n",
       "2      NO.2 GENERATOR ENGINE             285-8374 MANIFOLD GP-EXH    \n",
       "3      NO.1 GENERATOR ENGINE                     159-8828 TURBO GP   \n",
       "4      NO.1 GENERATOR ENGINE             2N4727 INSTRUMNT PANEL GP   \n",
       "...                      ...                                   ...   \n",
       "20512            HYD. SYSTEM  5-753-2E_BOAT DAVIT & N.D CRANE LINE   \n",
       "20513            HYD. SYSTEM  5-753-2E_BOAT DAVIT & N.D CRANE LINE   \n",
       "20514            6M NET BOAT                       ELECTRIC CLUTCH   \n",
       "20515            7M NET BOAT        HAND HYDRAULIC STEERING SYSTEM   \n",
       "20516            7M NET BOAT        HAND HYDRAULIC STEERING SYSTEM   \n",
       "\n",
       "                                      청구품목                     Part No.1   \n",
       "0                         SEAL-O-RING-STOR                     7.00E-275  \\\n",
       "1                       OIL COOLER & LINES                     7.00E-275   \n",
       "2                                   WASHER                     7.00E-275   \n",
       "3                           BOLT-HIGH TEMP                     7.00E-275   \n",
       "4                                     SEAL                     7.00E-275   \n",
       "...                                    ...                           ...   \n",
       "20512         HYD. CYLINDER_NET BOAT DAVIT            φ150 × φ85 × 695st   \n",
       "20513  HYD. CYLINDER_N.D CRANE_BOOM_LIFTER          φ160 × φ112 × 1130st   \n",
       "20514                                PULLY                     Φ305X5V-3   \n",
       "20515                            CYLINDER            Φ50 x S195 CYLINDER   \n",
       "20516                SEAL KIT FOR CYLINDER  Φ50 x S195 CYLINDER SEAL KIT   \n",
       "\n",
       "                       Part No.2                                         key1   \n",
       "0                              0                                    7.00E-275  \\\n",
       "1                              0                                    7.00E-275   \n",
       "2                              0                                    7.00E-275   \n",
       "3                              0                                    7.00E-275   \n",
       "4                              0                                    7.00E-275   \n",
       "...                          ...                                          ...   \n",
       "20512  FF-SE-1CB150BB695ABD-YP2J  φ150 × φ85 × 695stFF-SE-1CB150BB695ABD-YP2J   \n",
       "20513       S-2CA160A20.6N1130-1     φ160 × φ112 × 1130stS-2CA160A20.6N1130-1   \n",
       "20514                          0                                    Φ305X5V-3   \n",
       "20515                          0                          Φ50 x S195 CYLINDER   \n",
       "20516                          0                 Φ50 x S195 CYLINDER SEAL KIT   \n",
       "\n",
       "           key2  ...  Control No.  입고창고        창고출고  창고출고수량 출고선박   \n",
       "0        COOLER  ...        혜인 발주    BS  2020-09-19       1  BLO  \\\n",
       "1        COOLER  ...        혜인 발주    BS  2020-09-18       1  JBG   \n",
       "2        COOLER  ...            0    BS  2020-12-12       1  BON   \n",
       "3        COOLER  ...        혜인 발주    BS  2021-06-16       1  MIR   \n",
       "4        COOLER  ...            0    BS           0       0    0   \n",
       "...         ...  ...          ...   ...         ...     ...  ...   \n",
       "20512  CYLINDER  ...    20-09-161    BW           0       0    0   \n",
       "20513  CYLINDER  ...    20-07-114    BW  2020-08-26       1  BLO   \n",
       "20514      BELT  ...    19-08-164    BW  2019-09-04       1  ELS   \n",
       "20515  CYLINDER  ...    19-07-134    BW  2019-08-20       1  BLO   \n",
       "20516  CYLINDER  ...    19-07-134    BW  2019-08-20       2  BLO   \n",
       "\n",
       "                출고운반선        선박입고 선박입고수량 완료 여부  leadtime  \n",
       "0               본선 선적           0      0     0       194  \n",
       "1               본선 선적           0      0     0        59  \n",
       "2      SANWA FONTAINE           0      0     0        61  \n",
       "3           체항수리 시 사용           0      0     0       212  \n",
       "4                   0           0      0     0       220  \n",
       "...               ...         ...    ...   ...       ...  \n",
       "20512               0           0      0     0        95  \n",
       "20513      BLO 상가시 선적           0      0     0        67  \n",
       "20514         ONENESS  2019-10-02      1    완료        25  \n",
       "20515        세이셀 컨테이너  2019-10-12      1    완료        25  \n",
       "20516        세이셀 컨테이너  2019-10-12      2    완료        25  \n",
       "\n",
       "[20517 rows x 36 columns]"
      ]
     },
     "execution_count": 143,
     "metadata": {},
     "output_type": "execute_result"
    }
   ],
   "source": [
    "df"
   ]
  },
  {
   "cell_type": "code",
   "execution_count": 144,
   "id": "bfe55754-c719-447e-b391-0068d08d061f",
   "metadata": {
    "tags": []
   },
   "outputs": [],
   "source": [
    "# # 컬럼 값을 배열로 변환\n",
    "# leadtime_val = df1['leadtime'].values\n",
    "\n",
    "# # 로그 변환 전에 1을 더함\n",
    "# leadtime_val = np.log(leadtime_val + 1)\n",
    "\n",
    "# # 컬럼 추가\n",
    "# df1['leadtime+1'] = leadtime_val\n",
    "# # df1"
   ]
  },
  {
   "cell_type": "code",
   "execution_count": 145,
   "id": "2d7ce4a7-1efd-48d9-8f70-883ca384cbd7",
   "metadata": {
    "tags": []
   },
   "outputs": [
    {
     "name": "stdout",
     "output_type": "stream",
     "text": [
      "평균: 75.87961202904908\n",
      "분산: 4859.405207472425\n"
     ]
    }
   ],
   "source": [
    "lead = df1['leadtime']\n",
    "mean = np.mean(lead)\n",
    "\n",
    "# 분산 계산\n",
    "variance = np.var(lead)\n",
    "\n",
    "# 결과 출력\n",
    "print(\"평균:\", mean)\n",
    "print(\"분산:\", variance)"
   ]
  },
  {
   "cell_type": "markdown",
   "id": "63608e23-b717-44df-a11e-24673f623adf",
   "metadata": {},
   "source": [
    "## X 값 CountVectorizer로 벡터화"
   ]
  },
  {
   "cell_type": "code",
   "execution_count": 146,
   "id": "c8fa3596-6457-4362-9323-4fb9c0b38150",
   "metadata": {
    "tags": []
   },
   "outputs": [
    {
     "data": {
      "text/plain": [
       "[array([[ 0.24561308,  0.08143352, -0.00749094, ...,  0.1339568 ,\n",
       "          0.085678  ,  0.03183369],\n",
       "        [ 0.30951426,  0.06792523,  0.09558626, ..., -0.02540344,\n",
       "          0.02752966,  0.17935069],\n",
       "        [ 0.43840909,  0.14884613, -0.04903835, ...,  0.2755408 ,\n",
       "          0.08482964,  0.00607371],\n",
       "        ...,\n",
       "        [ 0.0584606 ,  0.00662806, -0.01963246, ...,  0.01313843,\n",
       "          0.01846877,  0.03716356],\n",
       "        [ 0.26082209,  0.09299044, -0.09573925, ..., -0.05502998,\n",
       "          0.11930552,  0.27220321],\n",
       "        [ 0.25313027,  0.04534752, -0.00841505, ..., -0.02838663,\n",
       "          0.10223701,  0.24509363]]),\n",
       " array([[ 0.00110732, -0.00138417, -0.00077254, ..., -0.00037237,\n",
       "         -0.00151356,  0.00138174],\n",
       "        [ 0.00110732, -0.00138417, -0.00077254, ..., -0.00037237,\n",
       "         -0.00151356,  0.00138174],\n",
       "        [ 0.00110732, -0.00138417, -0.00077254, ..., -0.00037237,\n",
       "         -0.00151356,  0.00138174],\n",
       "        ...,\n",
       "        [ 0.00114423,  0.00317362,  0.00134651, ...,  0.00491837,\n",
       "          0.00157588, -0.00204732],\n",
       "        [ 0.00055191,  0.00208376, -0.00117217, ...,  0.00115713,\n",
       "         -0.00045038, -0.00120685],\n",
       "        [ 0.00055191,  0.00208376, -0.00117217, ...,  0.00115713,\n",
       "         -0.00045038, -0.00120685]]),\n",
       " array([[-0.00029671, -0.00323186, -0.0002439 , ..., -0.00292041,\n",
       "         -0.00179293,  0.00180148],\n",
       "        [-0.00029671, -0.00323186, -0.0002439 , ..., -0.00292041,\n",
       "         -0.00179293,  0.00180148],\n",
       "        [-0.00029671, -0.00323186, -0.0002439 , ..., -0.00292041,\n",
       "         -0.00179293,  0.00180148],\n",
       "        ...,\n",
       "        [ 0.00201547, -0.00273941, -0.00136588, ...,  0.00313032,\n",
       "         -0.001007  , -0.00338079],\n",
       "        [ 0.00201547, -0.00273941, -0.00136588, ...,  0.00313032,\n",
       "         -0.001007  , -0.00338079],\n",
       "        [ 0.00201547, -0.00273941, -0.00136588, ...,  0.00313032,\n",
       "         -0.001007  , -0.00338079]]),\n",
       " array([[-0.01494099, -0.02388984, -0.00175622, ..., -0.02984113,\n",
       "         -0.04276811, -0.00871203],\n",
       "        [-0.01494099, -0.02388984, -0.00175622, ..., -0.02984113,\n",
       "         -0.04276811, -0.00871203],\n",
       "        [-0.01494099, -0.02388984, -0.00175622, ..., -0.02984113,\n",
       "         -0.04276811, -0.00871203],\n",
       "        ...,\n",
       "        [-0.30660825,  0.23362829, -0.28364723, ...,  0.10112062,\n",
       "         -0.15137161,  0.19063051],\n",
       "        [-0.30660825,  0.23362829, -0.28364723, ...,  0.10112062,\n",
       "         -0.15137161,  0.19063051],\n",
       "        [-0.30660825,  0.23362829, -0.28364723, ...,  0.10112062,\n",
       "         -0.15137161,  0.19063051]])]"
      ]
     },
     "execution_count": 146,
     "metadata": {},
     "output_type": "execute_result"
    }
   ],
   "source": [
    "from gensim.models import FastText\n",
    "from sklearn.feature_extraction.text import CountVectorizer\n",
    "columns = [\"청구품목\", 'key2', '견적화폐' , '발주처']\n",
    "embedings = []\n",
    "for col in columns:\n",
    "    documents = df1[col].tolist()\n",
    "\n",
    "    # FastText 모델 학습\n",
    "    model = FastText(sentences=[doc.split() for doc in documents], vector_size=100, window=5, min_count=1, sg=1)\n",
    "\n",
    "    # 벡터화된 데이터 초기화\n",
    "    vectors = []\n",
    "\n",
    "    # 각 문서에 대해 벡터 생성\n",
    "    for doc in documents:\n",
    "        vector = np.zeros(model.vector_size)\n",
    "        count = 0\n",
    "        for word in doc.split():\n",
    "            if word in model.wv:\n",
    "                vector += model.wv[word]\n",
    "                count += 1\n",
    "        if count > 0:\n",
    "            vector /= count\n",
    "        vectors.append(vector)\n",
    "\n",
    "    # 벡터화된 데이터를 배열로 변환\n",
    "    vectors = np.array(vectors)\n",
    "    embedings.append(vectors)\n",
    "embedings"
   ]
  },
  {
   "cell_type": "code",
   "execution_count": 147,
   "id": "869366c3-40c9-45e0-b4d7-6c62eb1257a5",
   "metadata": {
    "tags": []
   },
   "outputs": [
    {
     "data": {
      "text/html": [
       "<style>#sk-container-id-1 {color: black;background-color: white;}#sk-container-id-1 pre{padding: 0;}#sk-container-id-1 div.sk-toggleable {background-color: white;}#sk-container-id-1 label.sk-toggleable__label {cursor: pointer;display: block;width: 100%;margin-bottom: 0;padding: 0.3em;box-sizing: border-box;text-align: center;}#sk-container-id-1 label.sk-toggleable__label-arrow:before {content: \"▸\";float: left;margin-right: 0.25em;color: #696969;}#sk-container-id-1 label.sk-toggleable__label-arrow:hover:before {color: black;}#sk-container-id-1 div.sk-estimator:hover label.sk-toggleable__label-arrow:before {color: black;}#sk-container-id-1 div.sk-toggleable__content {max-height: 0;max-width: 0;overflow: hidden;text-align: left;background-color: #f0f8ff;}#sk-container-id-1 div.sk-toggleable__content pre {margin: 0.2em;color: black;border-radius: 0.25em;background-color: #f0f8ff;}#sk-container-id-1 input.sk-toggleable__control:checked~div.sk-toggleable__content {max-height: 200px;max-width: 100%;overflow: auto;}#sk-container-id-1 input.sk-toggleable__control:checked~label.sk-toggleable__label-arrow:before {content: \"▾\";}#sk-container-id-1 div.sk-estimator input.sk-toggleable__control:checked~label.sk-toggleable__label {background-color: #d4ebff;}#sk-container-id-1 div.sk-label input.sk-toggleable__control:checked~label.sk-toggleable__label {background-color: #d4ebff;}#sk-container-id-1 input.sk-hidden--visually {border: 0;clip: rect(1px 1px 1px 1px);clip: rect(1px, 1px, 1px, 1px);height: 1px;margin: -1px;overflow: hidden;padding: 0;position: absolute;width: 1px;}#sk-container-id-1 div.sk-estimator {font-family: monospace;background-color: #f0f8ff;border: 1px dotted black;border-radius: 0.25em;box-sizing: border-box;margin-bottom: 0.5em;}#sk-container-id-1 div.sk-estimator:hover {background-color: #d4ebff;}#sk-container-id-1 div.sk-parallel-item::after {content: \"\";width: 100%;border-bottom: 1px solid gray;flex-grow: 1;}#sk-container-id-1 div.sk-label:hover label.sk-toggleable__label {background-color: #d4ebff;}#sk-container-id-1 div.sk-serial::before {content: \"\";position: absolute;border-left: 1px solid gray;box-sizing: border-box;top: 0;bottom: 0;left: 50%;z-index: 0;}#sk-container-id-1 div.sk-serial {display: flex;flex-direction: column;align-items: center;background-color: white;padding-right: 0.2em;padding-left: 0.2em;position: relative;}#sk-container-id-1 div.sk-item {position: relative;z-index: 1;}#sk-container-id-1 div.sk-parallel {display: flex;align-items: stretch;justify-content: center;background-color: white;position: relative;}#sk-container-id-1 div.sk-item::before, #sk-container-id-1 div.sk-parallel-item::before {content: \"\";position: absolute;border-left: 1px solid gray;box-sizing: border-box;top: 0;bottom: 0;left: 50%;z-index: -1;}#sk-container-id-1 div.sk-parallel-item {display: flex;flex-direction: column;z-index: 1;position: relative;background-color: white;}#sk-container-id-1 div.sk-parallel-item:first-child::after {align-self: flex-end;width: 50%;}#sk-container-id-1 div.sk-parallel-item:last-child::after {align-self: flex-start;width: 50%;}#sk-container-id-1 div.sk-parallel-item:only-child::after {width: 0;}#sk-container-id-1 div.sk-dashed-wrapped {border: 1px dashed gray;margin: 0 0.4em 0.5em 0.4em;box-sizing: border-box;padding-bottom: 0.4em;background-color: white;}#sk-container-id-1 div.sk-label label {font-family: monospace;font-weight: bold;display: inline-block;line-height: 1.2em;}#sk-container-id-1 div.sk-label-container {text-align: center;}#sk-container-id-1 div.sk-container {/* jupyter's `normalize.less` sets `[hidden] { display: none; }` but bootstrap.min.css set `[hidden] { display: none !important; }` so we also need the `!important` here to be able to override the default hidden behavior on the sphinx rendered scikit-learn.org. See: https://github.com/scikit-learn/scikit-learn/issues/21755 */display: inline-block !important;position: relative;}#sk-container-id-1 div.sk-text-repr-fallback {display: none;}</style><div id=\"sk-container-id-1\" class=\"sk-top-container\"><div class=\"sk-text-repr-fallback\"><pre>LinearRegression()</pre><b>In a Jupyter environment, please rerun this cell to show the HTML representation or trust the notebook. <br />On GitHub, the HTML representation is unable to render, please try loading this page with nbviewer.org.</b></div><div class=\"sk-container\" hidden><div class=\"sk-item\"><div class=\"sk-estimator sk-toggleable\"><input class=\"sk-toggleable__control sk-hidden--visually\" id=\"sk-estimator-id-1\" type=\"checkbox\" checked><label for=\"sk-estimator-id-1\" class=\"sk-toggleable__label sk-toggleable__label-arrow\">LinearRegression</label><div class=\"sk-toggleable__content\"><pre>LinearRegression()</pre></div></div></div></div></div>"
      ],
      "text/plain": [
       "LinearRegression()"
      ]
     },
     "execution_count": 147,
     "metadata": {},
     "output_type": "execute_result"
    }
   ],
   "source": [
    "import numpy as np\n",
    "from sklearn.model_selection import train_test_split\n",
    "from sklearn.linear_model import LinearRegression\n",
    "\n",
    "# 각 컬럼을 임베딩하여 벡터로 표현\n",
    "embeddings_col1 = embedings[0]\n",
    "embeddings_col2 = embedings[1]\n",
    "embeddings_col3 = embedings[2]\n",
    "embeddings_col4 = embedings[3]\n",
    "\n",
    "# 예측 대상 데이터\n",
    "target_data = df1['leadtime'].values\n",
    "\n",
    "# 피처 벡터 생성\n",
    "X = np.concatenate([embeddings_col1, embeddings_col2, embeddings_col3, embeddings_col4], axis=1)\n",
    "\n",
    "# 학습 데이터와 테스트 데이터로 분할\n",
    "X_train, X_test, y_train, y_test = train_test_split(X, target_data, test_size=0.2, random_state=42)\n",
    "\n",
    "# 선형 회귀 모델 학습\n",
    "model = LinearRegression()\n",
    "model.fit(X_train, y_train)"
   ]
  },
  {
   "cell_type": "code",
   "execution_count": 148,
   "id": "6efb22b3-b18f-4660-8bea-c5780df2a617",
   "metadata": {
    "tags": []
   },
   "outputs": [
    {
     "data": {
      "text/plain": [
       "((20517, 400), (20517,))"
      ]
     },
     "execution_count": 148,
     "metadata": {},
     "output_type": "execute_result"
    }
   ],
   "source": [
    "X.shape, y.shape\n",
    "# X\n",
    "# y"
   ]
  },
  {
   "cell_type": "markdown",
   "id": "ee7dc54d-e6b3-40e4-948c-38bab3bde5b5",
   "metadata": {},
   "source": [
    "## 결과확인\n",
    "### 오차가 너무 많이 나고 예측 값에 음수가 들어감"
   ]
  },
  {
   "cell_type": "code",
   "execution_count": 149,
   "id": "8a8fba82-a8a4-44da-9889-bf1c26096428",
   "metadata": {
    "tags": []
   },
   "outputs": [
    {
     "data": {
      "text/html": [
       "<div>\n",
       "<style scoped>\n",
       "    .dataframe tbody tr th:only-of-type {\n",
       "        vertical-align: middle;\n",
       "    }\n",
       "\n",
       "    .dataframe tbody tr th {\n",
       "        vertical-align: top;\n",
       "    }\n",
       "\n",
       "    .dataframe thead th {\n",
       "        text-align: right;\n",
       "    }\n",
       "</style>\n",
       "<table border=\"1\" class=\"dataframe\">\n",
       "  <thead>\n",
       "    <tr style=\"text-align: right;\">\n",
       "      <th></th>\n",
       "      <th>Actual</th>\n",
       "      <th>Predicted</th>\n",
       "    </tr>\n",
       "  </thead>\n",
       "  <tbody>\n",
       "    <tr>\n",
       "      <th>0</th>\n",
       "      <td>145</td>\n",
       "      <td>91.170395</td>\n",
       "    </tr>\n",
       "    <tr>\n",
       "      <th>1</th>\n",
       "      <td>78</td>\n",
       "      <td>92.824631</td>\n",
       "    </tr>\n",
       "    <tr>\n",
       "      <th>2</th>\n",
       "      <td>56</td>\n",
       "      <td>101.960373</td>\n",
       "    </tr>\n",
       "    <tr>\n",
       "      <th>3</th>\n",
       "      <td>108</td>\n",
       "      <td>98.040024</td>\n",
       "    </tr>\n",
       "    <tr>\n",
       "      <th>4</th>\n",
       "      <td>220</td>\n",
       "      <td>110.350021</td>\n",
       "    </tr>\n",
       "    <tr>\n",
       "      <th>5</th>\n",
       "      <td>43</td>\n",
       "      <td>85.090805</td>\n",
       "    </tr>\n",
       "    <tr>\n",
       "      <th>6</th>\n",
       "      <td>100</td>\n",
       "      <td>52.396896</td>\n",
       "    </tr>\n",
       "    <tr>\n",
       "      <th>7</th>\n",
       "      <td>156</td>\n",
       "      <td>89.984787</td>\n",
       "    </tr>\n",
       "    <tr>\n",
       "      <th>8</th>\n",
       "      <td>10</td>\n",
       "      <td>75.594162</td>\n",
       "    </tr>\n",
       "    <tr>\n",
       "      <th>9</th>\n",
       "      <td>11</td>\n",
       "      <td>6.762131</td>\n",
       "    </tr>\n",
       "    <tr>\n",
       "      <th>10</th>\n",
       "      <td>195</td>\n",
       "      <td>93.686996</td>\n",
       "    </tr>\n",
       "    <tr>\n",
       "      <th>11</th>\n",
       "      <td>153</td>\n",
       "      <td>75.193771</td>\n",
       "    </tr>\n",
       "    <tr>\n",
       "      <th>12</th>\n",
       "      <td>48</td>\n",
       "      <td>111.911545</td>\n",
       "    </tr>\n",
       "    <tr>\n",
       "      <th>13</th>\n",
       "      <td>15</td>\n",
       "      <td>39.966751</td>\n",
       "    </tr>\n",
       "    <tr>\n",
       "      <th>14</th>\n",
       "      <td>59</td>\n",
       "      <td>67.365646</td>\n",
       "    </tr>\n",
       "    <tr>\n",
       "      <th>15</th>\n",
       "      <td>145</td>\n",
       "      <td>97.082443</td>\n",
       "    </tr>\n",
       "    <tr>\n",
       "      <th>16</th>\n",
       "      <td>21</td>\n",
       "      <td>9.476517</td>\n",
       "    </tr>\n",
       "    <tr>\n",
       "      <th>17</th>\n",
       "      <td>42</td>\n",
       "      <td>32.648849</td>\n",
       "    </tr>\n",
       "    <tr>\n",
       "      <th>18</th>\n",
       "      <td>6</td>\n",
       "      <td>62.926193</td>\n",
       "    </tr>\n",
       "    <tr>\n",
       "      <th>19</th>\n",
       "      <td>46</td>\n",
       "      <td>83.892990</td>\n",
       "    </tr>\n",
       "    <tr>\n",
       "      <th>20</th>\n",
       "      <td>3</td>\n",
       "      <td>76.215256</td>\n",
       "    </tr>\n",
       "    <tr>\n",
       "      <th>21</th>\n",
       "      <td>132</td>\n",
       "      <td>83.308823</td>\n",
       "    </tr>\n",
       "    <tr>\n",
       "      <th>22</th>\n",
       "      <td>3</td>\n",
       "      <td>78.070724</td>\n",
       "    </tr>\n",
       "    <tr>\n",
       "      <th>23</th>\n",
       "      <td>14</td>\n",
       "      <td>14.972900</td>\n",
       "    </tr>\n",
       "    <tr>\n",
       "      <th>24</th>\n",
       "      <td>370</td>\n",
       "      <td>254.234848</td>\n",
       "    </tr>\n",
       "    <tr>\n",
       "      <th>25</th>\n",
       "      <td>0</td>\n",
       "      <td>75.740646</td>\n",
       "    </tr>\n",
       "    <tr>\n",
       "      <th>26</th>\n",
       "      <td>140</td>\n",
       "      <td>103.467209</td>\n",
       "    </tr>\n",
       "    <tr>\n",
       "      <th>27</th>\n",
       "      <td>105</td>\n",
       "      <td>103.033432</td>\n",
       "    </tr>\n",
       "    <tr>\n",
       "      <th>28</th>\n",
       "      <td>91</td>\n",
       "      <td>85.109116</td>\n",
       "    </tr>\n",
       "    <tr>\n",
       "      <th>29</th>\n",
       "      <td>82</td>\n",
       "      <td>99.314194</td>\n",
       "    </tr>\n",
       "  </tbody>\n",
       "</table>\n",
       "</div>"
      ],
      "text/plain": [
       "    Actual   Predicted\n",
       "0      145   91.170395\n",
       "1       78   92.824631\n",
       "2       56  101.960373\n",
       "3      108   98.040024\n",
       "4      220  110.350021\n",
       "5       43   85.090805\n",
       "6      100   52.396896\n",
       "7      156   89.984787\n",
       "8       10   75.594162\n",
       "9       11    6.762131\n",
       "10     195   93.686996\n",
       "11     153   75.193771\n",
       "12      48  111.911545\n",
       "13      15   39.966751\n",
       "14      59   67.365646\n",
       "15     145   97.082443\n",
       "16      21    9.476517\n",
       "17      42   32.648849\n",
       "18       6   62.926193\n",
       "19      46   83.892990\n",
       "20       3   76.215256\n",
       "21     132   83.308823\n",
       "22       3   78.070724\n",
       "23      14   14.972900\n",
       "24     370  254.234848\n",
       "25       0   75.740646\n",
       "26     140  103.467209\n",
       "27     105  103.033432\n",
       "28      91   85.109116\n",
       "29      82   99.314194"
      ]
     },
     "execution_count": 149,
     "metadata": {},
     "output_type": "execute_result"
    }
   ],
   "source": [
    "# 테스트 데이터에 대한 예측\n",
    "predictions = model.predict(X_test)\n",
    "\n",
    "# 예측값과 실제값 비교\n",
    "comparison = pd.DataFrame({'Actual': y_test, 'Predicted': predictions})\n",
    "# print(comparison)\n",
    "comparison[:30]"
   ]
  },
  {
   "cell_type": "code",
   "execution_count": 150,
   "id": "335cf897-828b-4e1c-b852-76bcf3f3dc92",
   "metadata": {
    "tags": []
   },
   "outputs": [
    {
     "name": "stdout",
     "output_type": "stream",
     "text": [
      "R-squared: -4572417129757991.0\n",
      "Mean Squared Error: 2.1962026330998858e+19\n",
      "Mean Absolute Error: 139269603.3341745\n"
     ]
    }
   ],
   "source": [
    "from sklearn.metrics import mean_squared_error, mean_absolute_error, fbeta_score, r2_score\n",
    "\n",
    "# R 제곱 계산\n",
    "r2 = r2_score(y_test, predictions)\n",
    "print(\"R-squared:\", r2)\n",
    "\n",
    "## R 제곱 값이 음수인 경우는 모델이 주어진 데이터를 설명하지 못하는 경우를 의미\n",
    "## => 모델이 이상함\n",
    "\n",
    "# 평균 제곱 오차 계산\n",
    "mse = mean_squared_error(y_test, predictions)\n",
    "print(\"Mean Squared Error:\", mse)\n",
    "\n",
    "# 평균 절대 오차 계산\n",
    "mae = mean_absolute_error(y_test, predictions)\n",
    "print(\"Mean Absolute Error:\", mae)"
   ]
  },
  {
   "cell_type": "code",
   "execution_count": null,
   "id": "bb1272c5-bf82-437b-a59c-d89c2d2896d0",
   "metadata": {},
   "outputs": [],
   "source": []
  },
  {
   "cell_type": "code",
   "execution_count": null,
   "id": "b3c56552-2f69-472a-97de-a1c58d8f03fb",
   "metadata": {},
   "outputs": [],
   "source": []
  },
  {
   "cell_type": "markdown",
   "id": "ed30e8ee-df46-4168-a579-065829bdc3df",
   "metadata": {},
   "source": [
    "## lstm\n",
    "### 속도가 너무 느리고 정확도가 너무 낮음"
   ]
  },
  {
   "cell_type": "code",
   "execution_count": 209,
   "id": "7878b0b5-ebeb-4ae7-ac50-7ac17b451775",
   "metadata": {
    "tags": []
   },
   "outputs": [],
   "source": [
    "from gensim.models import FastText\n",
    "from sklearn.feature_extraction.text import CountVectorizer\n",
    "columns = [\"청구품목\", 'key2', '견적화폐' , '발주처']\n",
    "embedings = []\n",
    "for col in columns:\n",
    "    documents = df1[col].tolist()\n",
    "\n",
    "    # FastText 모델 학습\n",
    "    model = FastText(sentences=[doc.split() for doc in documents], vector_size=100, window=5, min_count=1, sg=1)\n",
    "\n",
    "    # 벡터화된 데이터 초기화\n",
    "    vectors = []\n",
    "\n",
    "    # 각 문서에 대해 벡터 생성\n",
    "    for doc in documents:\n",
    "        vector = np.zeros(model.vector_size)\n",
    "        count = 0\n",
    "        for word in doc.split():\n",
    "            if word in model.wv:\n",
    "                vector += model.wv[word]\n",
    "                count += 1\n",
    "        if count > 0:\n",
    "            vector /= count\n",
    "        vectors.append(vector)\n",
    "\n",
    "    # 벡터화된 데이터를 배열로 변환\n",
    "    vectors = np.array(vectors)\n",
    "    embedings.append(vectors)\n"
   ]
  },
  {
   "cell_type": "code",
   "execution_count": 210,
   "id": "db887189-da22-4124-a878-9e7850061f20",
   "metadata": {
    "tags": []
   },
   "outputs": [
    {
     "name": "stdout",
     "output_type": "stream",
     "text": [
      "Epoch 1/10\n",
      "513/513 [==============================] - 13s 23ms/step - loss: 6374.5952\n",
      "Epoch 2/10\n",
      "513/513 [==============================] - 12s 24ms/step - loss: 4924.6387\n",
      "Epoch 3/10\n",
      "513/513 [==============================] - 12s 23ms/step - loss: 4874.3462\n",
      "Epoch 4/10\n",
      "513/513 [==============================] - 12s 24ms/step - loss: 4874.1641\n",
      "Epoch 5/10\n",
      "513/513 [==============================] - 12s 23ms/step - loss: 4874.0771\n",
      "Epoch 6/10\n",
      "513/513 [==============================] - 12s 23ms/step - loss: 4874.4424\n",
      "Epoch 7/10\n",
      "513/513 [==============================] - 12s 23ms/step - loss: 4874.7085\n",
      "Epoch 8/10\n",
      "513/513 [==============================] - 12s 23ms/step - loss: 4874.3340\n",
      "Epoch 9/10\n",
      "513/513 [==============================] - 12s 23ms/step - loss: 4873.3120\n",
      "Epoch 10/10\n",
      "513/513 [==============================] - 11s 22ms/step - loss: 4869.1382\n",
      "129/129 [==============================] - 1s 8ms/step\n"
     ]
    }
   ],
   "source": [
    "from keras.models import Sequential\n",
    "from keras.layers import LSTM, Dense\n",
    "\n",
    "# 각 컬럼을 임베딩하여 벡터로 표현\n",
    "embeddings_col1 = embedings[0]\n",
    "embeddings_col2 = embedings[1]\n",
    "embeddings_col3 = embedings[2]\n",
    "embeddings_col4 = embedings[3]\n",
    "\n",
    "# 예측 대상 데이터\n",
    "target_data = df1['leadtime'].values\n",
    "\n",
    "# 피처 벡터 생성\n",
    "X = np.concatenate([embeddings_col1, embeddings_col2, embeddings_col3, embeddings_col4], axis=1)\n",
    "\n",
    "# 학습 데이터와 테스트 데이터로 분할\n",
    "X_train, X_test, y_train, y_test = train_test_split(X, target_data, test_size=0.2, random_state=42)\n",
    "\n",
    "# 입력 데이터를 3차원으로 변환\n",
    "X_train = np.reshape(X_train, (X_train.shape[0], X_train.shape[1], 1))\n",
    "X_test = np.reshape(X_test, (X_test.shape[0], X_test.shape[1], 1))\n",
    "\n",
    "# 모델 구성\n",
    "model = Sequential()\n",
    "model.add(LSTM(128, input_shape=(400,1)))\n",
    "model.add(Dense(1))\n",
    "\n",
    "# 모델 컴파일\n",
    "model.compile(loss='mean_squared_error', optimizer='adam')\n",
    "\n",
    "# 모델 학습\n",
    "model.fit(X_train, y_train, epochs=10, batch_size=32)\n",
    "\n",
    "# 모델 예측\n",
    "predictions = model.predict(X_test)\n",
    "\n",
    "# 모델 평가\n",
    "mse = mean_squared_error(y_test, predictions)\n",
    "r2 = r2_score(y_test, predictions)"
   ]
  },
  {
   "cell_type": "code",
   "execution_count": 211,
   "id": "dfe8bd49-6859-4f3f-9ae6-be4751bd5890",
   "metadata": {
    "tags": []
   },
   "outputs": [
    {
     "data": {
      "text/plain": [
       "(4790.588765669457, 0.002616161020831731)"
      ]
     },
     "execution_count": 211,
     "metadata": {},
     "output_type": "execute_result"
    }
   ],
   "source": [
    "mse, r2"
   ]
  },
  {
   "cell_type": "code",
   "execution_count": 212,
   "id": "4d6dfb14-8097-47f6-a721-330ba6f7eab5",
   "metadata": {
    "tags": []
   },
   "outputs": [
    {
     "data": {
      "text/plain": [
       "(array([[ 0.31663504,  0.18960038,  0.02346642, ..., -0.03011664,\n",
       "         -0.05018379, -0.00244719],\n",
       "        [ 0.40505075,  0.19822625,  0.15024799, ..., -0.03011664,\n",
       "         -0.05018379, -0.00244719],\n",
       "        [ 0.54934525,  0.3231377 , -0.0009981 , ..., -0.03011664,\n",
       "         -0.05018379, -0.00244719],\n",
       "        ...,\n",
       "        [ 0.0946629 ,  0.05690015, -0.00963411, ...,  0.06369567,\n",
       "         -0.08079286,  0.14672231],\n",
       "        [ 0.34769911,  0.25025803, -0.0112419 , ...,  0.06369567,\n",
       "         -0.08079286,  0.14672231],\n",
       "        [ 0.36310118,  0.20830071,  0.04170586, ...,  0.06369567,\n",
       "         -0.08079286,  0.14672231]]),\n",
       " 0        194\n",
       " 1         59\n",
       " 2         61\n",
       " 3        212\n",
       " 4        220\n",
       "         ... \n",
       " 20512     95\n",
       " 20513     67\n",
       " 20514     25\n",
       " 20515     25\n",
       " 20516     25\n",
       " Name: leadtime, Length: 20517, dtype: int32)"
      ]
     },
     "execution_count": 212,
     "metadata": {},
     "output_type": "execute_result"
    }
   ],
   "source": [
    "X, y"
   ]
  },
  {
   "cell_type": "code",
   "execution_count": 216,
   "id": "974a0ab0-e74f-4be7-88ae-85472e723534",
   "metadata": {
    "tags": []
   },
   "outputs": [
    {
     "data": {
      "text/plain": [
       "(array([[74.279015],\n",
       "        [74.50983 ],\n",
       "        [74.50983 ],\n",
       "        ...,\n",
       "        [74.707306],\n",
       "        [74.707306],\n",
       "        [74.707306]], dtype=float32),\n",
       " array([145,  78,  56, ...,   5,   0,  80]))"
      ]
     },
     "execution_count": 216,
     "metadata": {},
     "output_type": "execute_result"
    }
   ],
   "source": [
    "predictions, y_test"
   ]
  },
  {
   "cell_type": "code",
   "execution_count": 217,
   "id": "505ae6dc-6484-4645-8086-7ad7014f847a",
   "metadata": {
    "tags": []
   },
   "outputs": [
    {
     "name": "stdout",
     "output_type": "stream",
     "text": [
      "실제 시간: 145, 예측 시간: 74.27901458740234\n",
      "실제 시간: 78, 예측 시간: 74.50982666015625\n",
      "실제 시간: 56, 예측 시간: 74.50982666015625\n",
      "실제 시간: 108, 예측 시간: 74.27901458740234\n",
      "실제 시간: 220, 예측 시간: 74.70730590820312\n",
      "실제 시간: 43, 예측 시간: 74.27901458740234\n",
      "실제 시간: 100, 예측 시간: 74.70730590820312\n",
      "실제 시간: 156, 예측 시간: 74.70730590820312\n",
      "실제 시간: 10, 예측 시간: 74.70730590820312\n",
      "실제 시간: 11, 예측 시간: 73.7247543334961\n",
      "실제 시간: 195, 예측 시간: 74.27901458740234\n",
      "실제 시간: 153, 예측 시간: 74.70730590820312\n",
      "실제 시간: 48, 예측 시간: 72.27610778808594\n",
      "실제 시간: 15, 예측 시간: 74.70111083984375\n",
      "실제 시간: 59, 예측 시간: 74.70730590820312\n",
      "실제 시간: 145, 예측 시간: 74.50982666015625\n",
      "실제 시간: 21, 예측 시간: 74.69671630859375\n",
      "실제 시간: 42, 예측 시간: 72.42181396484375\n",
      "실제 시간: 6, 예측 시간: 75.9720687866211\n",
      "실제 시간: 46, 예측 시간: 74.70730590820312\n",
      "실제 시간: 3, 예측 시간: 74.70730590820312\n",
      "실제 시간: 132, 예측 시간: 74.27901458740234\n",
      "실제 시간: 3, 예측 시간: 74.70730590820312\n",
      "실제 시간: 14, 예측 시간: 74.70030975341797\n",
      "실제 시간: 370, 예측 시간: 74.67129516601562\n",
      "실제 시간: 0, 예측 시간: 74.70730590820312\n",
      "실제 시간: 140, 예측 시간: 74.50982666015625\n",
      "실제 시간: 105, 예측 시간: 74.27901458740234\n",
      "실제 시간: 91, 예측 시간: 74.27901458740234\n",
      "실제 시간: 82, 예측 시간: 74.27901458740234\n"
     ]
    }
   ],
   "source": [
    "# 실제,예측 결과 확인\n",
    "for i in range(30):\n",
    "    print(f\"실제 시간: {y_test[i]}, 예측 시간: {predictions[i][0]}\")"
   ]
  },
  {
   "cell_type": "code",
   "execution_count": null,
   "id": "debce57a-b9e8-41f1-920f-c092dd5f9d4e",
   "metadata": {},
   "outputs": [],
   "source": []
  },
  {
   "cell_type": "code",
   "execution_count": null,
   "id": "016511de-620c-45d7-8912-17f33cdf6ec7",
   "metadata": {},
   "outputs": [],
   "source": []
  },
  {
   "cell_type": "code",
   "execution_count": null,
   "id": "f9de4f57-3170-478d-9074-89cdc6ab19c5",
   "metadata": {},
   "outputs": [],
   "source": []
  },
  {
   "cell_type": "code",
   "execution_count": null,
   "id": "64996157-b287-4f29-9f6e-766f7a0de8a9",
   "metadata": {},
   "outputs": [],
   "source": []
  },
  {
   "cell_type": "code",
   "execution_count": null,
   "id": "207df787-9667-4404-a2cb-27600b7aa7a9",
   "metadata": {},
   "outputs": [],
   "source": []
  },
  {
   "cell_type": "markdown",
   "id": "f9156377-c10c-4cca-b0e0-4af04f423db8",
   "metadata": {},
   "source": [
    "## cnn + lstm"
   ]
  },
  {
   "cell_type": "code",
   "execution_count": 155,
   "id": "58c060cd-be24-4977-9fe3-14b7524e9de8",
   "metadata": {
    "tags": []
   },
   "outputs": [
    {
     "data": {
      "text/plain": [
       "(16413, 400, 1)"
      ]
     },
     "execution_count": 155,
     "metadata": {},
     "output_type": "execute_result"
    }
   ],
   "source": [
    "X_train.shape"
   ]
  },
  {
   "cell_type": "code",
   "execution_count": 157,
   "id": "649aea0d-c1af-4750-8e5e-b25d4ee41676",
   "metadata": {
    "tags": []
   },
   "outputs": [],
   "source": [
    "from gensim.models import FastText\n",
    "from sklearn.feature_extraction.text import CountVectorizer\n",
    "columns = [\"청구품목\", 'key2', '견적화폐' , '발주처']\n",
    "embedings = []\n",
    "for col in columns:\n",
    "    documents = df1[col].tolist()\n",
    "\n",
    "    # FastText 모델 학습\n",
    "    model = FastText(sentences=[doc.split() for doc in documents], vector_size=100, window=5, min_count=1, sg=1)\n",
    "\n",
    "    # 벡터화된 데이터 초기화\n",
    "    vectors = []\n",
    "\n",
    "    # 각 문서에 대해 벡터 생성\n",
    "    for doc in documents:\n",
    "        vector = np.zeros(model.vector_size)\n",
    "        count = 0\n",
    "        for word in doc.split():\n",
    "            if word in model.wv:\n",
    "                vector += model.wv[word]\n",
    "                count += 1\n",
    "        if count > 0:\n",
    "            vector /= count\n",
    "        vectors.append(vector)\n",
    "\n",
    "    # 벡터화된 데이터를 배열로 변환\n",
    "    vectors = np.array(vectors)\n",
    "    embedings.append(vectors)"
   ]
  },
  {
   "cell_type": "code",
   "execution_count": 158,
   "id": "8469ac20-53c5-4e2e-a56d-b57ffbce8c18",
   "metadata": {
    "tags": []
   },
   "outputs": [
    {
     "name": "stdout",
     "output_type": "stream",
     "text": [
      "Epoch 1/10\n"
     ]
    },
    {
     "ename": "ValueError",
     "evalue": "in user code:\n\n    File \"D:\\ShipSupplies\\venv\\lib\\site-packages\\keras\\engine\\training.py\", line 1160, in train_function  *\n        return step_function(self, iterator)\n    File \"D:\\ShipSupplies\\venv\\lib\\site-packages\\keras\\engine\\training.py\", line 1146, in step_function  **\n        outputs = model.distribute_strategy.run(run_step, args=(data,))\n    File \"D:\\ShipSupplies\\venv\\lib\\site-packages\\keras\\engine\\training.py\", line 1135, in run_step  **\n        outputs = model.train_step(data)\n    File \"D:\\ShipSupplies\\venv\\lib\\site-packages\\keras\\engine\\training.py\", line 993, in train_step\n        y_pred = self(x, training=True)\n    File \"D:\\ShipSupplies\\venv\\lib\\site-packages\\keras\\utils\\traceback_utils.py\", line 70, in error_handler\n        raise e.with_traceback(filtered_tb) from None\n    File \"D:\\ShipSupplies\\venv\\lib\\site-packages\\keras\\engine\\input_spec.py\", line 295, in assert_input_compatibility\n        raise ValueError(\n\n    ValueError: Input 0 of layer \"sequential_16\" is incompatible with the layer: expected shape=(None, 12309, 64), found shape=(None, 1, 400)\n",
     "output_type": "error",
     "traceback": [
      "\u001b[1;31m---------------------------------------------------------------------------\u001b[0m",
      "\u001b[1;31mValueError\u001b[0m                                Traceback (most recent call last)",
      "Cell \u001b[1;32mIn[158], line 36\u001b[0m\n\u001b[0;32m     34\u001b[0m model\u001b[38;5;241m.\u001b[39mcompile(loss\u001b[38;5;241m=\u001b[39m\u001b[38;5;124m'\u001b[39m\u001b[38;5;124mmean_squared_error\u001b[39m\u001b[38;5;124m'\u001b[39m, optimizer\u001b[38;5;241m=\u001b[39m\u001b[38;5;124m'\u001b[39m\u001b[38;5;124madam\u001b[39m\u001b[38;5;124m'\u001b[39m, metrics\u001b[38;5;241m=\u001b[39m[\u001b[38;5;124m'\u001b[39m\u001b[38;5;124mmse\u001b[39m\u001b[38;5;124m'\u001b[39m])\n\u001b[0;32m     35\u001b[0m \u001b[38;5;66;03m# # 모델 학습\u001b[39;00m\n\u001b[1;32m---> 36\u001b[0m \u001b[43mmodel\u001b[49m\u001b[38;5;241;43m.\u001b[39;49m\u001b[43mfit\u001b[49m\u001b[43m(\u001b[49m\u001b[43mX_train\u001b[49m\u001b[43m,\u001b[49m\u001b[43m \u001b[49m\u001b[43my_train\u001b[49m\u001b[43m,\u001b[49m\u001b[43m \u001b[49m\u001b[43mbatch_size\u001b[49m\u001b[38;5;241;43m=\u001b[39;49m\u001b[38;5;241;43m32\u001b[39;49m\u001b[43m,\u001b[49m\u001b[43m \u001b[49m\u001b[43mepochs\u001b[49m\u001b[38;5;241;43m=\u001b[39;49m\u001b[38;5;241;43m10\u001b[39;49m\u001b[43m,\u001b[49m\u001b[43m \u001b[49m\u001b[43mvalidation_data\u001b[49m\u001b[38;5;241;43m=\u001b[39;49m\u001b[43m(\u001b[49m\u001b[43mX_val\u001b[49m\u001b[43m,\u001b[49m\u001b[43m \u001b[49m\u001b[43my_val\u001b[49m\u001b[43m)\u001b[49m\u001b[43m)\u001b[49m\n\u001b[0;32m     37\u001b[0m \u001b[38;5;66;03m# 모델 요약 출력\u001b[39;00m\n\u001b[0;32m     38\u001b[0m model\u001b[38;5;241m.\u001b[39msummary()\n",
      "File \u001b[1;32mD:\\ShipSupplies\\venv\\lib\\site-packages\\keras\\utils\\traceback_utils.py:70\u001b[0m, in \u001b[0;36mfilter_traceback.<locals>.error_handler\u001b[1;34m(*args, **kwargs)\u001b[0m\n\u001b[0;32m     67\u001b[0m     filtered_tb \u001b[38;5;241m=\u001b[39m _process_traceback_frames(e\u001b[38;5;241m.\u001b[39m__traceback__)\n\u001b[0;32m     68\u001b[0m     \u001b[38;5;66;03m# To get the full stack trace, call:\u001b[39;00m\n\u001b[0;32m     69\u001b[0m     \u001b[38;5;66;03m# `tf.debugging.disable_traceback_filtering()`\u001b[39;00m\n\u001b[1;32m---> 70\u001b[0m     \u001b[38;5;28;01mraise\u001b[39;00m e\u001b[38;5;241m.\u001b[39mwith_traceback(filtered_tb) \u001b[38;5;28;01mfrom\u001b[39;00m \u001b[38;5;28;01mNone\u001b[39;00m\n\u001b[0;32m     71\u001b[0m \u001b[38;5;28;01mfinally\u001b[39;00m:\n\u001b[0;32m     72\u001b[0m     \u001b[38;5;28;01mdel\u001b[39;00m filtered_tb\n",
      "File \u001b[1;32m~\\AppData\\Local\\Temp\\__autograph_generated_filev_3dpfb8.py:15\u001b[0m, in \u001b[0;36mouter_factory.<locals>.inner_factory.<locals>.tf__train_function\u001b[1;34m(iterator)\u001b[0m\n\u001b[0;32m     13\u001b[0m \u001b[38;5;28;01mtry\u001b[39;00m:\n\u001b[0;32m     14\u001b[0m     do_return \u001b[38;5;241m=\u001b[39m \u001b[38;5;28;01mTrue\u001b[39;00m\n\u001b[1;32m---> 15\u001b[0m     retval_ \u001b[38;5;241m=\u001b[39m ag__\u001b[38;5;241m.\u001b[39mconverted_call(ag__\u001b[38;5;241m.\u001b[39mld(step_function), (ag__\u001b[38;5;241m.\u001b[39mld(\u001b[38;5;28mself\u001b[39m), ag__\u001b[38;5;241m.\u001b[39mld(iterator)), \u001b[38;5;28;01mNone\u001b[39;00m, fscope)\n\u001b[0;32m     16\u001b[0m \u001b[38;5;28;01mexcept\u001b[39;00m:\n\u001b[0;32m     17\u001b[0m     do_return \u001b[38;5;241m=\u001b[39m \u001b[38;5;28;01mFalse\u001b[39;00m\n",
      "\u001b[1;31mValueError\u001b[0m: in user code:\n\n    File \"D:\\ShipSupplies\\venv\\lib\\site-packages\\keras\\engine\\training.py\", line 1160, in train_function  *\n        return step_function(self, iterator)\n    File \"D:\\ShipSupplies\\venv\\lib\\site-packages\\keras\\engine\\training.py\", line 1146, in step_function  **\n        outputs = model.distribute_strategy.run(run_step, args=(data,))\n    File \"D:\\ShipSupplies\\venv\\lib\\site-packages\\keras\\engine\\training.py\", line 1135, in run_step  **\n        outputs = model.train_step(data)\n    File \"D:\\ShipSupplies\\venv\\lib\\site-packages\\keras\\engine\\training.py\", line 993, in train_step\n        y_pred = self(x, training=True)\n    File \"D:\\ShipSupplies\\venv\\lib\\site-packages\\keras\\utils\\traceback_utils.py\", line 70, in error_handler\n        raise e.with_traceback(filtered_tb) from None\n    File \"D:\\ShipSupplies\\venv\\lib\\site-packages\\keras\\engine\\input_spec.py\", line 295, in assert_input_compatibility\n        raise ValueError(\n\n    ValueError: Input 0 of layer \"sequential_16\" is incompatible with the layer: expected shape=(None, 12309, 64), found shape=(None, 1, 400)\n"
     ]
    }
   ],
   "source": [
    "from tensorflow.keras.models import Sequential\n",
    "from tensorflow.keras.layers import Conv1D, MaxPooling1D, LSTM, Dense, Dropout, Reshape, Flatten\n",
    "\n",
    "# 피처 벡터 생성\n",
    "X = np.concatenate([embeddings_col1, embeddings_col2, embeddings_col3, embeddings_col4], axis=1)\n",
    "\n",
    "# 예측 대상 데이터\n",
    "target_data = df1['leadtime'].values\n",
    "\n",
    "# 학습 데이터와 테스트 데이터로 분할\n",
    "X_train, X_test, y_train, y_test = train_test_split(X, target_data, test_size=0.2, random_state=42)\n",
    "\n",
    "# 훈련 데이터와 검증 데이터로 분할\n",
    "X_train, X_val, y_train, y_val = train_test_split(X_train, y_train, test_size=0.25, random_state=42)\n",
    "\n",
    "# 입력 데이터의 형태를 맞추기\n",
    "X_train = X_train.reshape(X_train.shape[0], 1, X_train.shape[1])\n",
    "X_test = X_test.reshape(X_test.shape[0], 1, X_test.shape[1])\n",
    "X_val = X_val.reshape(X_val.shape[0], 1, X_val.shape[1])\n",
    "# X_train = np.reshape(X_train, (X_train.shape[0], X_train.shape[1], 400))\n",
    "# X_val = np.reshape(X_val, (X_val.shape[0], X_val.shape[1], 400))\n",
    "\n",
    "\n",
    "model = Sequential()\n",
    "model.add(Conv1D(filters=64, kernel_size=3, activation='relu', input_shape=(12309, 64), padding='same'))\n",
    "model.add(Reshape((12309, 64)))\n",
    "model.add(MaxPooling1D(pool_size=2))\n",
    "model.add(LSTM(64))\n",
    "model.add(Dense(1))\n",
    "\n",
    "\n",
    "\n",
    "# # 모델 컴파일\n",
    "model.compile(loss='mean_squared_error', optimizer='adam', metrics=['mse'])\n",
    "# # 모델 학습\n",
    "model.fit(X_train, y_train, batch_size=32, epochs=10, validation_data=(X_val, y_val))\n",
    "# 모델 요약 출력\n",
    "model.summary()"
   ]
  },
  {
   "cell_type": "code",
   "execution_count": 218,
   "id": "c495fd2e-4c7e-47ff-b182-7cbd2d49ece4",
   "metadata": {
    "tags": []
   },
   "outputs": [
    {
     "data": {
      "text/plain": [
       "((12309, 1, 400), (4104, 1, 400), (4104, 1, 400), (12309,))"
      ]
     },
     "execution_count": 218,
     "metadata": {},
     "output_type": "execute_result"
    }
   ],
   "source": [
    "X_train.shape, X_test.shape, X_val.shape, y_train.shape"
   ]
  },
  {
   "cell_type": "code",
   "execution_count": null,
   "id": "896d8e08-c0de-4084-bcb9-fa0b4a63dfcc",
   "metadata": {},
   "outputs": [],
   "source": []
  },
  {
   "cell_type": "code",
   "execution_count": null,
   "id": "097d852d-a74c-4667-887f-12c76a82e3a5",
   "metadata": {},
   "outputs": [],
   "source": []
  },
  {
   "cell_type": "code",
   "execution_count": null,
   "id": "72cfde95-3132-4a59-bacb-bc781a92592b",
   "metadata": {},
   "outputs": [],
   "source": []
  },
  {
   "cell_type": "code",
   "execution_count": null,
   "id": "d1fea7f6-a12a-44bc-8ac4-c419fbc13d8a",
   "metadata": {},
   "outputs": [],
   "source": []
  },
  {
   "cell_type": "code",
   "execution_count": null,
   "id": "5cae97d5-1bca-4596-a991-bcb05782388f",
   "metadata": {},
   "outputs": [],
   "source": []
  },
  {
   "cell_type": "code",
   "execution_count": 115,
   "id": "f4366c22-d73a-4842-b4d7-f8b4430bb5a4",
   "metadata": {
    "tags": []
   },
   "outputs": [
    {
     "data": {
      "text/plain": [
       "(82068, 100)"
      ]
     },
     "execution_count": 115,
     "metadata": {},
     "output_type": "execute_result"
    }
   ],
   "source": [
    "X.shape"
   ]
  },
  {
   "cell_type": "code",
   "execution_count": 72,
   "id": "615e54ac-b43b-4efe-8776-251879613de5",
   "metadata": {
    "tags": []
   },
   "outputs": [
    {
     "ename": "AttributeError",
     "evalue": "'float' object has no attribute 'lower'",
     "output_type": "error",
     "traceback": [
      "\u001b[1;31m---------------------------------------------------------------------------\u001b[0m",
      "\u001b[1;31mAttributeError\u001b[0m                            Traceback (most recent call last)",
      "Cell \u001b[1;32mIn[72], line 31\u001b[0m\n\u001b[0;32m     29\u001b[0m vectorizer \u001b[38;5;241m=\u001b[39m TfidfVectorizer()\n\u001b[0;32m     30\u001b[0m \u001b[38;5;66;03m# 문서 집합을 벡터화\u001b[39;00m\n\u001b[1;32m---> 31\u001b[0m vectorized_data \u001b[38;5;241m=\u001b[39m \u001b[43mvectorizer\u001b[49m\u001b[38;5;241;43m.\u001b[39;49m\u001b[43mfit_transform\u001b[49m\u001b[43m(\u001b[49m\u001b[43mdf1\u001b[49m\u001b[43m[\u001b[49m\u001b[43mcolumn\u001b[49m\u001b[43m]\u001b[49m\u001b[43m)\u001b[49m\n\u001b[0;32m     32\u001b[0m \u001b[38;5;66;03m# 벡터화된 데이터를 배열로 변환\u001b[39;00m\n\u001b[0;32m     33\u001b[0m vectors \u001b[38;5;241m=\u001b[39m vectorized_data\u001b[38;5;241m.\u001b[39mtoarray()\n",
      "File \u001b[1;32mC:\\workspace\\ShipSupplies\\venv\\lib\\site-packages\\sklearn\\feature_extraction\\text.py:2133\u001b[0m, in \u001b[0;36mTfidfVectorizer.fit_transform\u001b[1;34m(self, raw_documents, y)\u001b[0m\n\u001b[0;32m   2126\u001b[0m \u001b[38;5;28mself\u001b[39m\u001b[38;5;241m.\u001b[39m_check_params()\n\u001b[0;32m   2127\u001b[0m \u001b[38;5;28mself\u001b[39m\u001b[38;5;241m.\u001b[39m_tfidf \u001b[38;5;241m=\u001b[39m TfidfTransformer(\n\u001b[0;32m   2128\u001b[0m     norm\u001b[38;5;241m=\u001b[39m\u001b[38;5;28mself\u001b[39m\u001b[38;5;241m.\u001b[39mnorm,\n\u001b[0;32m   2129\u001b[0m     use_idf\u001b[38;5;241m=\u001b[39m\u001b[38;5;28mself\u001b[39m\u001b[38;5;241m.\u001b[39muse_idf,\n\u001b[0;32m   2130\u001b[0m     smooth_idf\u001b[38;5;241m=\u001b[39m\u001b[38;5;28mself\u001b[39m\u001b[38;5;241m.\u001b[39msmooth_idf,\n\u001b[0;32m   2131\u001b[0m     sublinear_tf\u001b[38;5;241m=\u001b[39m\u001b[38;5;28mself\u001b[39m\u001b[38;5;241m.\u001b[39msublinear_tf,\n\u001b[0;32m   2132\u001b[0m )\n\u001b[1;32m-> 2133\u001b[0m X \u001b[38;5;241m=\u001b[39m \u001b[38;5;28;43msuper\u001b[39;49m\u001b[43m(\u001b[49m\u001b[43m)\u001b[49m\u001b[38;5;241;43m.\u001b[39;49m\u001b[43mfit_transform\u001b[49m\u001b[43m(\u001b[49m\u001b[43mraw_documents\u001b[49m\u001b[43m)\u001b[49m\n\u001b[0;32m   2134\u001b[0m \u001b[38;5;28mself\u001b[39m\u001b[38;5;241m.\u001b[39m_tfidf\u001b[38;5;241m.\u001b[39mfit(X)\n\u001b[0;32m   2135\u001b[0m \u001b[38;5;66;03m# X is already a transformed view of raw_documents so\u001b[39;00m\n\u001b[0;32m   2136\u001b[0m \u001b[38;5;66;03m# we set copy to False\u001b[39;00m\n",
      "File \u001b[1;32mC:\\workspace\\ShipSupplies\\venv\\lib\\site-packages\\sklearn\\feature_extraction\\text.py:1388\u001b[0m, in \u001b[0;36mCountVectorizer.fit_transform\u001b[1;34m(self, raw_documents, y)\u001b[0m\n\u001b[0;32m   1380\u001b[0m             warnings\u001b[38;5;241m.\u001b[39mwarn(\n\u001b[0;32m   1381\u001b[0m                 \u001b[38;5;124m\"\u001b[39m\u001b[38;5;124mUpper case characters found in\u001b[39m\u001b[38;5;124m\"\u001b[39m\n\u001b[0;32m   1382\u001b[0m                 \u001b[38;5;124m\"\u001b[39m\u001b[38;5;124m vocabulary while \u001b[39m\u001b[38;5;124m'\u001b[39m\u001b[38;5;124mlowercase\u001b[39m\u001b[38;5;124m'\u001b[39m\u001b[38;5;124m\"\u001b[39m\n\u001b[0;32m   1383\u001b[0m                 \u001b[38;5;124m\"\u001b[39m\u001b[38;5;124m is True. These entries will not\u001b[39m\u001b[38;5;124m\"\u001b[39m\n\u001b[0;32m   1384\u001b[0m                 \u001b[38;5;124m\"\u001b[39m\u001b[38;5;124m be matched with any documents\u001b[39m\u001b[38;5;124m\"\u001b[39m\n\u001b[0;32m   1385\u001b[0m             )\n\u001b[0;32m   1386\u001b[0m             \u001b[38;5;28;01mbreak\u001b[39;00m\n\u001b[1;32m-> 1388\u001b[0m vocabulary, X \u001b[38;5;241m=\u001b[39m \u001b[38;5;28;43mself\u001b[39;49m\u001b[38;5;241;43m.\u001b[39;49m\u001b[43m_count_vocab\u001b[49m\u001b[43m(\u001b[49m\u001b[43mraw_documents\u001b[49m\u001b[43m,\u001b[49m\u001b[43m \u001b[49m\u001b[38;5;28;43mself\u001b[39;49m\u001b[38;5;241;43m.\u001b[39;49m\u001b[43mfixed_vocabulary_\u001b[49m\u001b[43m)\u001b[49m\n\u001b[0;32m   1390\u001b[0m \u001b[38;5;28;01mif\u001b[39;00m \u001b[38;5;28mself\u001b[39m\u001b[38;5;241m.\u001b[39mbinary:\n\u001b[0;32m   1391\u001b[0m     X\u001b[38;5;241m.\u001b[39mdata\u001b[38;5;241m.\u001b[39mfill(\u001b[38;5;241m1\u001b[39m)\n",
      "File \u001b[1;32mC:\\workspace\\ShipSupplies\\venv\\lib\\site-packages\\sklearn\\feature_extraction\\text.py:1275\u001b[0m, in \u001b[0;36mCountVectorizer._count_vocab\u001b[1;34m(self, raw_documents, fixed_vocab)\u001b[0m\n\u001b[0;32m   1273\u001b[0m \u001b[38;5;28;01mfor\u001b[39;00m doc \u001b[38;5;129;01min\u001b[39;00m raw_documents:\n\u001b[0;32m   1274\u001b[0m     feature_counter \u001b[38;5;241m=\u001b[39m {}\n\u001b[1;32m-> 1275\u001b[0m     \u001b[38;5;28;01mfor\u001b[39;00m feature \u001b[38;5;129;01min\u001b[39;00m \u001b[43manalyze\u001b[49m\u001b[43m(\u001b[49m\u001b[43mdoc\u001b[49m\u001b[43m)\u001b[49m:\n\u001b[0;32m   1276\u001b[0m         \u001b[38;5;28;01mtry\u001b[39;00m:\n\u001b[0;32m   1277\u001b[0m             feature_idx \u001b[38;5;241m=\u001b[39m vocabulary[feature]\n",
      "File \u001b[1;32mC:\\workspace\\ShipSupplies\\venv\\lib\\site-packages\\sklearn\\feature_extraction\\text.py:111\u001b[0m, in \u001b[0;36m_analyze\u001b[1;34m(doc, analyzer, tokenizer, ngrams, preprocessor, decoder, stop_words)\u001b[0m\n\u001b[0;32m    109\u001b[0m \u001b[38;5;28;01melse\u001b[39;00m:\n\u001b[0;32m    110\u001b[0m     \u001b[38;5;28;01mif\u001b[39;00m preprocessor \u001b[38;5;129;01mis\u001b[39;00m \u001b[38;5;129;01mnot\u001b[39;00m \u001b[38;5;28;01mNone\u001b[39;00m:\n\u001b[1;32m--> 111\u001b[0m         doc \u001b[38;5;241m=\u001b[39m \u001b[43mpreprocessor\u001b[49m\u001b[43m(\u001b[49m\u001b[43mdoc\u001b[49m\u001b[43m)\u001b[49m\n\u001b[0;32m    112\u001b[0m     \u001b[38;5;28;01mif\u001b[39;00m tokenizer \u001b[38;5;129;01mis\u001b[39;00m \u001b[38;5;129;01mnot\u001b[39;00m \u001b[38;5;28;01mNone\u001b[39;00m:\n\u001b[0;32m    113\u001b[0m         doc \u001b[38;5;241m=\u001b[39m tokenizer(doc)\n",
      "File \u001b[1;32mC:\\workspace\\ShipSupplies\\venv\\lib\\site-packages\\sklearn\\feature_extraction\\text.py:69\u001b[0m, in \u001b[0;36m_preprocess\u001b[1;34m(doc, accent_function, lower)\u001b[0m\n\u001b[0;32m     50\u001b[0m \u001b[38;5;250m\u001b[39m\u001b[38;5;124;03m\"\"\"Chain together an optional series of text preprocessing steps to\u001b[39;00m\n\u001b[0;32m     51\u001b[0m \u001b[38;5;124;03mapply to a document.\u001b[39;00m\n\u001b[0;32m     52\u001b[0m \n\u001b[1;32m   (...)\u001b[0m\n\u001b[0;32m     66\u001b[0m \u001b[38;5;124;03m    preprocessed string\u001b[39;00m\n\u001b[0;32m     67\u001b[0m \u001b[38;5;124;03m\"\"\"\u001b[39;00m\n\u001b[0;32m     68\u001b[0m \u001b[38;5;28;01mif\u001b[39;00m lower:\n\u001b[1;32m---> 69\u001b[0m     doc \u001b[38;5;241m=\u001b[39m \u001b[43mdoc\u001b[49m\u001b[38;5;241;43m.\u001b[39;49m\u001b[43mlower\u001b[49m()\n\u001b[0;32m     70\u001b[0m \u001b[38;5;28;01mif\u001b[39;00m accent_function \u001b[38;5;129;01mis\u001b[39;00m \u001b[38;5;129;01mnot\u001b[39;00m \u001b[38;5;28;01mNone\u001b[39;00m:\n\u001b[0;32m     71\u001b[0m     doc \u001b[38;5;241m=\u001b[39m accent_function(doc)\n",
      "\u001b[1;31mAttributeError\u001b[0m: 'float' object has no attribute 'lower'"
     ]
    }
   ],
   "source": [
    "import numpy as np\n",
    "import pandas as pd\n",
    "from gensim.models import Word2Vec\n",
    "\n",
    "# 데이터셋 로드\n",
    "# data = pd.read_csv('data.csv')\n",
    "\n",
    "# 각 컬럼에 대한 임베딩 모델 학습\n",
    "embedding_models = {}\n",
    "columns = [\"청구품목\", 'key2', '견적화폐' , '발주처']\n",
    "\n",
    "X = df1[[\"청구품목\", 'key2', '견적화폐' , '발주처']]\n",
    "y = df1['leadtime']\n",
    "\n",
    "# for column in columns:\n",
    "#     # 컬럼 데이터를 리스트로 변환\n",
    "#     column_data = df1[column].tolist()\n",
    "    \n",
    "#     # Word2Vec 모델 학습\n",
    "#     embedding_model = Word2Vec(sentences=column_data, vector_size=100, window=5, min_count=1, workers=4)\n",
    "    \n",
    "#     # 학습된 임베딩 모델 저장\n",
    "#     embedding_models[column] = embedding_model\n",
    "\n",
    "from sklearn.feature_extraction.text import TfidfVectorizer\n",
    "\n",
    "for column in columns:\n",
    "    # 단어 벡터화 객체 생성\n",
    "    vectorizer = TfidfVectorizer()\n",
    "    # 문서 집합을 벡터화\n",
    "    vectorized_data = vectorizer.fit_transform(df1[column])\n",
    "    # 벡터화된 데이터를 배열로 변환\n",
    "    vectors = vectorized_data.toarray()\n",
    "    df1[column] = vectors\n",
    "\n",
    "# 임베딩된 벡터를 DataFrame의 컬럼에 할당\n",
    "# for column in columns:\n",
    "    # 임베딩된 벡터 저장할 빈 리스트\n",
    "    # embedded_vectors = []\n",
    "    \n",
    "    \n",
    "    # 각 범주에 대해 임베딩된 벡터 추출\n",
    "#     for category in df1[column]:\n",
    "#         # 벡터 추출\n",
    "#         vector = embedding_models[column].wv[category]\n",
    "#         embedded_vectors.append(vector)\n",
    "        \n",
    "#     # 임베딩된 벡터를 DataFrame의 컬럼으로 할당\n",
    "#     embedded_vectors = np.array(embedded_vectors)\n",
    "#     for i in range(embedded_vectors.shape[1]):\n",
    "#         df1[f\"{column}_embedded_{i+1}\"] = embedded_vectors[:, i]\n",
    "\n",
    "# 결과 확인\n",
    "# print(df1.head())\n",
    "df1"
   ]
  },
  {
   "cell_type": "code",
   "execution_count": 80,
   "id": "248e5f25-fc33-45f0-8e98-168e8bc485fd",
   "metadata": {
    "tags": []
   },
   "outputs": [
    {
     "data": {
      "text/html": [
       "<div>\n",
       "<style scoped>\n",
       "    .dataframe tbody tr th:only-of-type {\n",
       "        vertical-align: middle;\n",
       "    }\n",
       "\n",
       "    .dataframe tbody tr th {\n",
       "        vertical-align: top;\n",
       "    }\n",
       "\n",
       "    .dataframe thead th {\n",
       "        text-align: right;\n",
       "    }\n",
       "</style>\n",
       "<table border=\"1\" class=\"dataframe\">\n",
       "  <thead>\n",
       "    <tr style=\"text-align: right;\">\n",
       "      <th></th>\n",
       "      <th>청구품목</th>\n",
       "      <th>key2</th>\n",
       "      <th>리드타임</th>\n",
       "      <th>견적화폐</th>\n",
       "      <th>발주처</th>\n",
       "      <th>leadtime</th>\n",
       "    </tr>\n",
       "  </thead>\n",
       "  <tbody>\n",
       "    <tr>\n",
       "      <th>0</th>\n",
       "      <td>0.0</td>\n",
       "      <td>0.0</td>\n",
       "      <td>194</td>\n",
       "      <td>0.0</td>\n",
       "      <td>0.0</td>\n",
       "      <td>194</td>\n",
       "    </tr>\n",
       "    <tr>\n",
       "      <th>1</th>\n",
       "      <td>0.0</td>\n",
       "      <td>0.0</td>\n",
       "      <td>59</td>\n",
       "      <td>0.0</td>\n",
       "      <td>0.0</td>\n",
       "      <td>59</td>\n",
       "    </tr>\n",
       "    <tr>\n",
       "      <th>2</th>\n",
       "      <td>0.0</td>\n",
       "      <td>0.0</td>\n",
       "      <td>61</td>\n",
       "      <td>0.0</td>\n",
       "      <td>0.0</td>\n",
       "      <td>61</td>\n",
       "    </tr>\n",
       "    <tr>\n",
       "      <th>3</th>\n",
       "      <td>0.0</td>\n",
       "      <td>0.0</td>\n",
       "      <td>212</td>\n",
       "      <td>0.0</td>\n",
       "      <td>0.0</td>\n",
       "      <td>212</td>\n",
       "    </tr>\n",
       "    <tr>\n",
       "      <th>4</th>\n",
       "      <td>0.0</td>\n",
       "      <td>0.0</td>\n",
       "      <td>220</td>\n",
       "      <td>0.0</td>\n",
       "      <td>0.0</td>\n",
       "      <td>220</td>\n",
       "    </tr>\n",
       "    <tr>\n",
       "      <th>5</th>\n",
       "      <td>0.0</td>\n",
       "      <td>0.0</td>\n",
       "      <td>80</td>\n",
       "      <td>0.0</td>\n",
       "      <td>0.0</td>\n",
       "      <td>80</td>\n",
       "    </tr>\n",
       "    <tr>\n",
       "      <th>6</th>\n",
       "      <td>0.0</td>\n",
       "      <td>0.0</td>\n",
       "      <td>100</td>\n",
       "      <td>0.0</td>\n",
       "      <td>0.0</td>\n",
       "      <td>100</td>\n",
       "    </tr>\n",
       "    <tr>\n",
       "      <th>7</th>\n",
       "      <td>0.0</td>\n",
       "      <td>0.0</td>\n",
       "      <td>13</td>\n",
       "      <td>0.0</td>\n",
       "      <td>0.0</td>\n",
       "      <td>13</td>\n",
       "    </tr>\n",
       "    <tr>\n",
       "      <th>8</th>\n",
       "      <td>0.0</td>\n",
       "      <td>0.0</td>\n",
       "      <td>117</td>\n",
       "      <td>0.0</td>\n",
       "      <td>0.0</td>\n",
       "      <td>117</td>\n",
       "    </tr>\n",
       "    <tr>\n",
       "      <th>9</th>\n",
       "      <td>0.0</td>\n",
       "      <td>0.0</td>\n",
       "      <td>96</td>\n",
       "      <td>0.0</td>\n",
       "      <td>0.0</td>\n",
       "      <td>96</td>\n",
       "    </tr>\n",
       "    <tr>\n",
       "      <th>10</th>\n",
       "      <td>0.0</td>\n",
       "      <td>0.0</td>\n",
       "      <td>2</td>\n",
       "      <td>0.0</td>\n",
       "      <td>0.0</td>\n",
       "      <td>2</td>\n",
       "    </tr>\n",
       "    <tr>\n",
       "      <th>11</th>\n",
       "      <td>0.0</td>\n",
       "      <td>0.0</td>\n",
       "      <td>156</td>\n",
       "      <td>0.0</td>\n",
       "      <td>0.0</td>\n",
       "      <td>156</td>\n",
       "    </tr>\n",
       "    <tr>\n",
       "      <th>12</th>\n",
       "      <td>0.0</td>\n",
       "      <td>0.0</td>\n",
       "      <td>72</td>\n",
       "      <td>0.0</td>\n",
       "      <td>0.0</td>\n",
       "      <td>72</td>\n",
       "    </tr>\n",
       "    <tr>\n",
       "      <th>13</th>\n",
       "      <td>0.0</td>\n",
       "      <td>0.0</td>\n",
       "      <td>25</td>\n",
       "      <td>0.0</td>\n",
       "      <td>0.0</td>\n",
       "      <td>25</td>\n",
       "    </tr>\n",
       "    <tr>\n",
       "      <th>14</th>\n",
       "      <td>0.0</td>\n",
       "      <td>0.0</td>\n",
       "      <td>49</td>\n",
       "      <td>0.0</td>\n",
       "      <td>0.0</td>\n",
       "      <td>49</td>\n",
       "    </tr>\n",
       "    <tr>\n",
       "      <th>15</th>\n",
       "      <td>0.0</td>\n",
       "      <td>0.0</td>\n",
       "      <td>49</td>\n",
       "      <td>0.0</td>\n",
       "      <td>0.0</td>\n",
       "      <td>49</td>\n",
       "    </tr>\n",
       "    <tr>\n",
       "      <th>16</th>\n",
       "      <td>0.0</td>\n",
       "      <td>0.0</td>\n",
       "      <td>49</td>\n",
       "      <td>0.0</td>\n",
       "      <td>0.0</td>\n",
       "      <td>49</td>\n",
       "    </tr>\n",
       "    <tr>\n",
       "      <th>17</th>\n",
       "      <td>0.0</td>\n",
       "      <td>0.0</td>\n",
       "      <td>49</td>\n",
       "      <td>0.0</td>\n",
       "      <td>0.0</td>\n",
       "      <td>49</td>\n",
       "    </tr>\n",
       "    <tr>\n",
       "      <th>18</th>\n",
       "      <td>0.0</td>\n",
       "      <td>0.0</td>\n",
       "      <td>56</td>\n",
       "      <td>1.0</td>\n",
       "      <td>0.0</td>\n",
       "      <td>56</td>\n",
       "    </tr>\n",
       "    <tr>\n",
       "      <th>19</th>\n",
       "      <td>0.0</td>\n",
       "      <td>0.0</td>\n",
       "      <td>48</td>\n",
       "      <td>1.0</td>\n",
       "      <td>0.0</td>\n",
       "      <td>48</td>\n",
       "    </tr>\n",
       "  </tbody>\n",
       "</table>\n",
       "</div>"
      ],
      "text/plain": [
       "    청구품목  key2  리드타임  견적화폐  발주처  leadtime\n",
       "0    0.0   0.0   194   0.0  0.0       194\n",
       "1    0.0   0.0    59   0.0  0.0        59\n",
       "2    0.0   0.0    61   0.0  0.0        61\n",
       "3    0.0   0.0   212   0.0  0.0       212\n",
       "4    0.0   0.0   220   0.0  0.0       220\n",
       "5    0.0   0.0    80   0.0  0.0        80\n",
       "6    0.0   0.0   100   0.0  0.0       100\n",
       "7    0.0   0.0    13   0.0  0.0        13\n",
       "8    0.0   0.0   117   0.0  0.0       117\n",
       "9    0.0   0.0    96   0.0  0.0        96\n",
       "10   0.0   0.0     2   0.0  0.0         2\n",
       "11   0.0   0.0   156   0.0  0.0       156\n",
       "12   0.0   0.0    72   0.0  0.0        72\n",
       "13   0.0   0.0    25   0.0  0.0        25\n",
       "14   0.0   0.0    49   0.0  0.0        49\n",
       "15   0.0   0.0    49   0.0  0.0        49\n",
       "16   0.0   0.0    49   0.0  0.0        49\n",
       "17   0.0   0.0    49   0.0  0.0        49\n",
       "18   0.0   0.0    56   1.0  0.0        56\n",
       "19   0.0   0.0    48   1.0  0.0        48"
      ]
     },
     "execution_count": 80,
     "metadata": {},
     "output_type": "execute_result"
    }
   ],
   "source": [
    "df1.iloc[:20,:]"
   ]
  },
  {
   "cell_type": "code",
   "execution_count": 70,
   "id": "50af63b0-c3e9-4573-bfd7-c84712a01b18",
   "metadata": {
    "tags": []
   },
   "outputs": [
    {
     "ename": "KeyError",
     "evalue": "\"Key 'WASHER' not present\"",
     "output_type": "error",
     "traceback": [
      "\u001b[1;31m---------------------------------------------------------------------------\u001b[0m",
      "\u001b[1;31mKeyError\u001b[0m                                  Traceback (most recent call last)",
      "Cell \u001b[1;32mIn[70], line 21\u001b[0m\n\u001b[0;32m     13\u001b[0m     embedding_models[column] \u001b[38;5;241m=\u001b[39m embedding_model\n\u001b[0;32m     15\u001b[0m \u001b[38;5;66;03m# for column, embedding_model in embedding_models.items():\u001b[39;00m\n\u001b[0;32m     16\u001b[0m \u001b[38;5;66;03m#     print(f\"Column: {column}\")\u001b[39;00m\n\u001b[0;32m     17\u001b[0m \u001b[38;5;66;03m#     print(f\"Vocabulary size: {len(embedding_model.wv.index_to_key)}\")\u001b[39;00m\n\u001b[0;32m     18\u001b[0m \u001b[38;5;66;03m#     print(f\"Vector size: {embedding_model.vector_size}\")\u001b[39;00m\n\u001b[0;32m     19\u001b[0m \u001b[38;5;66;03m#     print()\u001b[39;00m\n\u001b[1;32m---> 21\u001b[0m v \u001b[38;5;241m=\u001b[39m \u001b[43membedding_models\u001b[49m\u001b[43m[\u001b[49m\u001b[38;5;124;43m'\u001b[39;49m\u001b[38;5;124;43m청구품목\u001b[39;49m\u001b[38;5;124;43m'\u001b[39;49m\u001b[43m]\u001b[49m\u001b[38;5;241;43m.\u001b[39;49m\u001b[43mwv\u001b[49m\u001b[38;5;241;43m.\u001b[39;49m\u001b[43mget_vector\u001b[49m\u001b[43m(\u001b[49m\u001b[38;5;124;43m'\u001b[39;49m\u001b[38;5;124;43mWASHER\u001b[39;49m\u001b[38;5;124;43m'\u001b[39;49m\u001b[43m)\u001b[49m\n\u001b[0;32m     22\u001b[0m v\n\u001b[0;32m     24\u001b[0m \u001b[38;5;66;03m# 임베딩된 벡터를 DataFrame의 컬럼에 할당\u001b[39;00m\n\u001b[0;32m     25\u001b[0m \u001b[38;5;66;03m# for column in columns:\u001b[39;00m\n\u001b[0;32m     26\u001b[0m     \u001b[38;5;66;03m# 임베딩된 벡터 저장할 빈 리스트\u001b[39;00m\n\u001b[1;32m   (...)\u001b[0m\n\u001b[0;32m     33\u001b[0m         \u001b[38;5;66;03m# embedded_vectors.append(vector)\u001b[39;00m\n\u001b[0;32m     34\u001b[0m \u001b[38;5;66;03m# embedded_vectors\u001b[39;00m\n",
      "File \u001b[1;32mC:\\workspace\\ShipSupplies\\venv\\lib\\site-packages\\gensim\\models\\keyedvectors.py:446\u001b[0m, in \u001b[0;36mKeyedVectors.get_vector\u001b[1;34m(self, key, norm)\u001b[0m\n\u001b[0;32m    422\u001b[0m \u001b[38;5;28;01mdef\u001b[39;00m \u001b[38;5;21mget_vector\u001b[39m(\u001b[38;5;28mself\u001b[39m, key, norm\u001b[38;5;241m=\u001b[39m\u001b[38;5;28;01mFalse\u001b[39;00m):\n\u001b[0;32m    423\u001b[0m \u001b[38;5;250m    \u001b[39m\u001b[38;5;124;03m\"\"\"Get the key's vector, as a 1D numpy array.\u001b[39;00m\n\u001b[0;32m    424\u001b[0m \n\u001b[0;32m    425\u001b[0m \u001b[38;5;124;03m    Parameters\u001b[39;00m\n\u001b[1;32m   (...)\u001b[0m\n\u001b[0;32m    444\u001b[0m \n\u001b[0;32m    445\u001b[0m \u001b[38;5;124;03m    \"\"\"\u001b[39;00m\n\u001b[1;32m--> 446\u001b[0m     index \u001b[38;5;241m=\u001b[39m \u001b[38;5;28;43mself\u001b[39;49m\u001b[38;5;241;43m.\u001b[39;49m\u001b[43mget_index\u001b[49m\u001b[43m(\u001b[49m\u001b[43mkey\u001b[49m\u001b[43m)\u001b[49m\n\u001b[0;32m    447\u001b[0m     \u001b[38;5;28;01mif\u001b[39;00m norm:\n\u001b[0;32m    448\u001b[0m         \u001b[38;5;28mself\u001b[39m\u001b[38;5;241m.\u001b[39mfill_norms()\n",
      "File \u001b[1;32mC:\\workspace\\ShipSupplies\\venv\\lib\\site-packages\\gensim\\models\\keyedvectors.py:420\u001b[0m, in \u001b[0;36mKeyedVectors.get_index\u001b[1;34m(self, key, default)\u001b[0m\n\u001b[0;32m    418\u001b[0m     \u001b[38;5;28;01mreturn\u001b[39;00m default\n\u001b[0;32m    419\u001b[0m \u001b[38;5;28;01melse\u001b[39;00m:\n\u001b[1;32m--> 420\u001b[0m     \u001b[38;5;28;01mraise\u001b[39;00m \u001b[38;5;167;01mKeyError\u001b[39;00m(\u001b[38;5;124mf\u001b[39m\u001b[38;5;124m\"\u001b[39m\u001b[38;5;124mKey \u001b[39m\u001b[38;5;124m'\u001b[39m\u001b[38;5;132;01m{\u001b[39;00mkey\u001b[38;5;132;01m}\u001b[39;00m\u001b[38;5;124m'\u001b[39m\u001b[38;5;124m not present\u001b[39m\u001b[38;5;124m\"\u001b[39m)\n",
      "\u001b[1;31mKeyError\u001b[0m: \"Key 'WASHER' not present\""
     ]
    }
   ],
   "source": [
    "embedding_models = {}\n",
    "columns = [\"청구품목\", 'key2', '견적화폐' , '발주처']\n",
    "\n",
    "X = df1[[\"청구품목\", 'key2', '견적화폐' , '발주처']]\n",
    "y = df1['leadtime']\n",
    "\n",
    "for column in columns:\n",
    "    # 컬럼 데이터를 리스트로 변환\n",
    "    column_data = df1[column].tolist()\n",
    "    # Word2Vec 모델 학습\n",
    "    embedding_model = Word2Vec(sentences=column_data, vector_size=100, window=5, min_count=1, workers=4)\n",
    "    # 학습된 임베딩 모델 저장\n",
    "    embedding_models[column] = embedding_model\n",
    "\n",
    "# for column, embedding_model in embedding_models.items():\n",
    "#     print(f\"Column: {column}\")\n",
    "#     print(f\"Vocabulary size: {len(embedding_model.wv.index_to_key)}\")\n",
    "#     print(f\"Vector size: {embedding_model.vector_size}\")\n",
    "#     print()\n",
    "\n",
    "v = embedding_models['청구품목'].wv.get_vector('WASHER')\n",
    "v\n",
    "\n",
    "# 임베딩된 벡터를 DataFrame의 컬럼에 할당\n",
    "# for column in columns:\n",
    "    # 임베딩된 벡터 저장할 빈 리스트\n",
    "    # embedded_vectors = []\n",
    "    \n",
    "    # 각 범주에 대해 임베딩된 벡터 추출\n",
    "    # for category in df1[column]:\n",
    "        # 벡터 추출\n",
    "        # vector = embedding_models[column].wv[category]\n",
    "        # embedded_vectors.append(vector)\n",
    "# embedded_vectors"
   ]
  },
  {
   "cell_type": "code",
   "execution_count": null,
   "id": "a9f372bc-f047-4a92-99d4-7de3389a9022",
   "metadata": {},
   "outputs": [],
   "source": []
  },
  {
   "cell_type": "markdown",
   "id": "8443e24e-9817-4fd4-8953-6d755c48db94",
   "metadata": {},
   "source": [
    "## 4개 독립변수로 정규화된 y값"
   ]
  },
  {
   "cell_type": "code",
   "execution_count": 180,
   "id": "a2f55746-570f-4c98-b6f0-2e367724d9cc",
   "metadata": {
    "tags": []
   },
   "outputs": [
    {
     "name": "stderr",
     "output_type": "stream",
     "text": [
      "C:\\Users\\SW\\AppData\\Local\\Temp\\ipykernel_17936\\4100900637.py:20: SettingWithCopyWarning: \n",
      "A value is trying to be set on a copy of a slice from a DataFrame.\n",
      "Try using .loc[row_indexer,col_indexer] = value instead\n",
      "\n",
      "See the caveats in the documentation: https://pandas.pydata.org/pandas-docs/stable/user_guide/indexing.html#returning-a-view-versus-a-copy\n",
      "  X[col] = label_encoder.fit_transform(X[col])\n",
      "C:\\Users\\SW\\AppData\\Local\\Temp\\ipykernel_17936\\4100900637.py:20: SettingWithCopyWarning: \n",
      "A value is trying to be set on a copy of a slice from a DataFrame.\n",
      "Try using .loc[row_indexer,col_indexer] = value instead\n",
      "\n",
      "See the caveats in the documentation: https://pandas.pydata.org/pandas-docs/stable/user_guide/indexing.html#returning-a-view-versus-a-copy\n",
      "  X[col] = label_encoder.fit_transform(X[col])\n",
      "C:\\Users\\SW\\AppData\\Local\\Temp\\ipykernel_17936\\4100900637.py:20: SettingWithCopyWarning: \n",
      "A value is trying to be set on a copy of a slice from a DataFrame.\n",
      "Try using .loc[row_indexer,col_indexer] = value instead\n",
      "\n",
      "See the caveats in the documentation: https://pandas.pydata.org/pandas-docs/stable/user_guide/indexing.html#returning-a-view-versus-a-copy\n",
      "  X[col] = label_encoder.fit_transform(X[col])\n",
      "C:\\Users\\SW\\AppData\\Local\\Temp\\ipykernel_17936\\4100900637.py:20: SettingWithCopyWarning: \n",
      "A value is trying to be set on a copy of a slice from a DataFrame.\n",
      "Try using .loc[row_indexer,col_indexer] = value instead\n",
      "\n",
      "See the caveats in the documentation: https://pandas.pydata.org/pandas-docs/stable/user_guide/indexing.html#returning-a-view-versus-a-copy\n",
      "  X[col] = label_encoder.fit_transform(X[col])\n",
      "C:\\Users\\SW\\AppData\\Local\\Temp\\ipykernel_17936\\4100900637.py:20: SettingWithCopyWarning: \n",
      "A value is trying to be set on a copy of a slice from a DataFrame.\n",
      "Try using .loc[row_indexer,col_indexer] = value instead\n",
      "\n",
      "See the caveats in the documentation: https://pandas.pydata.org/pandas-docs/stable/user_guide/indexing.html#returning-a-view-versus-a-copy\n",
      "  X[col] = label_encoder.fit_transform(X[col])\n",
      "C:\\Users\\SW\\AppData\\Local\\Temp\\ipykernel_17936\\4100900637.py:20: SettingWithCopyWarning: \n",
      "A value is trying to be set on a copy of a slice from a DataFrame.\n",
      "Try using .loc[row_indexer,col_indexer] = value instead\n",
      "\n",
      "See the caveats in the documentation: https://pandas.pydata.org/pandas-docs/stable/user_guide/indexing.html#returning-a-view-versus-a-copy\n",
      "  X[col] = label_encoder.fit_transform(X[col])\n"
     ]
    }
   ],
   "source": [
    "from sklearn.model_selection import train_test_split\n",
    "from sklearn.preprocessing import LabelEncoder\n",
    "from keras.models import Sequential\n",
    "from keras.layers import Dense\n",
    "import numpy as np\n",
    "\n",
    "import pandas as pd\n",
    "from sklearn import preprocessing\n",
    "df = pd.read_csv('../data/raw_postpro.csv')\n",
    "\n",
    "# 입력과 출력 데이터 분리\n",
    "X = df[[\"청구품목\", 'key2', '견적화폐' , '발주처', '발주수량', 'Assembly']]\n",
    "# 발주수량 Assembly\n",
    "\n",
    "columns = [\"청구품목\", 'key2', '견적화폐' , '발주처', '발주수량', 'Assembly']\n",
    " \n",
    "# LabelEncoder를 사용하여 범주형 변수를 정수로 인코딩\n",
    "label_encoder = LabelEncoder()\n",
    "for col in X.columns:\n",
    "    X[col] = label_encoder.fit_transform(X[col])\n",
    "\n",
    "# y # 정규화\n",
    "from sklearn.preprocessing import StandardScaler\n",
    "\n",
    "# StandardScaler 객체 생성\n",
    "scaler = StandardScaler()\n",
    "\n",
    "y = df['leadtime']\n",
    "\n",
    "y_normalized = scaler.fit_transform(y.values.reshape(-1, 1))    \n",
    "\n",
    "X_train, X_test, y_train, y_test = train_test_split(X, y_normalized, test_size=0.2, random_state=42) # y 정규화 한 y_normalized\n",
    "\n",
    "# 회귀 모델 구축\n",
    "model = Sequential()\n",
    "model.add(Dense(128, activation='relu', input_dim=X_train.shape[1]))\n",
    "model.add(Dense(64, activation='relu'))\n",
    "model.add(Dense(32, activation='relu'))\n",
    "model.add(Dense(1))"
   ]
  },
  {
   "cell_type": "code",
   "execution_count": 181,
   "id": "a7a1d5b2-2ae4-4b81-bed3-e4e76da00bb8",
   "metadata": {
    "tags": []
   },
   "outputs": [
    {
     "data": {
      "text/plain": [
       "(       청구품목  key2  견적화폐  발주처  발주수량  Assembly\n",
       " 0      4848    18     2   22     0       281\n",
       " 1      3692    18     2   22     0      1180\n",
       " 2      5915    18     2   22     0       206\n",
       " 3       696    18     2   22     0        69\n",
       " 4      4681    18     2   22     0       237\n",
       " ...     ...   ...   ...  ...   ...       ...\n",
       " 20512  2811    20     1   35     1       471\n",
       " 20513  2810    20     1   35     0       471\n",
       " 20514  4151     5     1   41     0       900\n",
       " 20515  1592    20     1   41     0      1210\n",
       " 20516  4718    20     1   41     1      1210\n",
       " \n",
       " [20517 rows x 6 columns],\n",
       " 0        194\n",
       " 1         59\n",
       " 2         61\n",
       " 3        212\n",
       " 4        220\n",
       "         ... \n",
       " 20512     95\n",
       " 20513     67\n",
       " 20514     25\n",
       " 20515     25\n",
       " 20516     25\n",
       " Name: leadtime, Length: 20517, dtype: int64)"
      ]
     },
     "execution_count": 181,
     "metadata": {},
     "output_type": "execute_result"
    }
   ],
   "source": [
    "X, y"
   ]
  },
  {
   "cell_type": "code",
   "execution_count": 183,
   "id": "62ed2b68-73f5-4c8c-b0a8-fc4151960900",
   "metadata": {
    "tags": []
   },
   "outputs": [
    {
     "data": {
      "text/plain": [
       "(array([[-0.91636968],\n",
       "        [-0.02696352],\n",
       "        [-1.03113177],\n",
       "        ...,\n",
       "        [-1.07416755],\n",
       "        [-1.08851281],\n",
       "        [-0.97375073]]),\n",
       " array([[ 0.99154998],\n",
       "        [ 0.03041752],\n",
       "        [-0.28517822],\n",
       "        ...,\n",
       "        [-1.01678651],\n",
       "        [-1.08851281],\n",
       "        [ 0.05910804]]))"
      ]
     },
     "execution_count": 183,
     "metadata": {},
     "output_type": "execute_result"
    }
   ],
   "source": [
    "y_train, y_test"
   ]
  },
  {
   "cell_type": "code",
   "execution_count": 184,
   "id": "7f44c135-8ba6-4c07-93c8-53fc238fb705",
   "metadata": {
    "tags": []
   },
   "outputs": [],
   "source": [
    "# 모델 컴파일\n",
    "model.compile(optimizer='adam', loss='mean_squared_error')"
   ]
  },
  {
   "cell_type": "code",
   "execution_count": 185,
   "id": "19f13c5a-4a1c-400c-821d-16a6e142895a",
   "metadata": {
    "tags": []
   },
   "outputs": [
    {
     "name": "stdout",
     "output_type": "stream",
     "text": [
      "Epoch 1/10\n",
      "257/257 [==============================] - 1s 2ms/step - loss: 889.1025\n",
      "Epoch 2/10\n",
      "257/257 [==============================] - 1s 2ms/step - loss: 1.6407\n",
      "Epoch 3/10\n",
      "257/257 [==============================] - 1s 2ms/step - loss: 1.2061\n",
      "Epoch 4/10\n",
      "257/257 [==============================] - 1s 2ms/step - loss: 1.1275\n",
      "Epoch 5/10\n",
      "257/257 [==============================] - 1s 2ms/step - loss: 1.1146\n",
      "Epoch 6/10\n",
      "257/257 [==============================] - 1s 2ms/step - loss: 1.1545\n",
      "Epoch 7/10\n",
      "257/257 [==============================] - 1s 2ms/step - loss: 1.1557\n",
      "Epoch 8/10\n",
      "257/257 [==============================] - 1s 2ms/step - loss: 1.1399\n",
      "Epoch 9/10\n",
      "257/257 [==============================] - 1s 2ms/step - loss: 1.1263\n",
      "Epoch 10/10\n",
      "257/257 [==============================] - 1s 2ms/step - loss: 1.2207\n"
     ]
    },
    {
     "data": {
      "text/plain": [
       "<keras.callbacks.History at 0x192001487f0>"
      ]
     },
     "execution_count": 185,
     "metadata": {},
     "output_type": "execute_result"
    }
   ],
   "source": [
    "# 모델 학습\n",
    "model.fit(X_train, y_train, epochs=10, batch_size=64)"
   ]
  },
  {
   "cell_type": "code",
   "execution_count": 186,
   "id": "faf047a5-c07b-45ee-ba28-d7d4f48e5d4d",
   "metadata": {
    "tags": []
   },
   "outputs": [
    {
     "name": "stdout",
     "output_type": "stream",
     "text": [
      "129/129 [==============================] - 0s 2ms/step - loss: 1.2896\n"
     ]
    }
   ],
   "source": [
    "# 모델 평가\n",
    "loss = model.evaluate(X_test, y_test)"
   ]
  },
  {
   "cell_type": "code",
   "execution_count": 187,
   "id": "100098b7-dbf6-4b1f-aa3a-11de5142ae21",
   "metadata": {
    "tags": []
   },
   "outputs": [
    {
     "name": "stdout",
     "output_type": "stream",
     "text": [
      "129/129 [==============================] - 0s 1ms/step\n"
     ]
    }
   ],
   "source": [
    "# 예측\n",
    "predictions = model.predict(X_test)"
   ]
  },
  {
   "cell_type": "code",
   "execution_count": 188,
   "id": "a4c0767b-3b16-4ed7-b7d1-76a0dc720f30",
   "metadata": {
    "tags": []
   },
   "outputs": [
    {
     "data": {
      "text/plain": [
       "(array([[ 0.99154998],\n",
       "        [ 0.03041752],\n",
       "        [-0.28517822],\n",
       "        ...,\n",
       "        [-1.01678651],\n",
       "        [-1.08851281],\n",
       "        [ 0.05910804]]),\n",
       " array([[-0.8190907 ],\n",
       "        [-0.9097012 ],\n",
       "        [-1.2138308 ],\n",
       "        ...,\n",
       "        [-1.1062125 ],\n",
       "        [-0.1507224 ],\n",
       "        [-0.25585544]], dtype=float32))"
      ]
     },
     "execution_count": 188,
     "metadata": {},
     "output_type": "execute_result"
    }
   ],
   "source": [
    "y_test, predictions"
   ]
  },
  {
   "cell_type": "code",
   "execution_count": 189,
   "id": "c2e1fb0d-2e31-4f0b-bdfc-05e3e70d6d8e",
   "metadata": {
    "tags": []
   },
   "outputs": [],
   "source": [
    "# 원래 스케일로 되돌리기\n",
    "y_test = scaler.inverse_transform(y_test)\n",
    "predictions = scaler.inverse_transform(predictions)"
   ]
  },
  {
   "cell_type": "code",
   "execution_count": 194,
   "id": "9c0f8c71-bca5-472b-8191-9f15e448ed87",
   "metadata": {
    "tags": []
   },
   "outputs": [
    {
     "name": "stdout",
     "output_type": "stream",
     "text": [
      "실제 시간: 145.0, 예측 시간: 18.781261444091797\n",
      "실제 시간: 78.0, 예측 시간: 12.464855194091797\n",
      "실제 시간: 56.0, 예측 시간: -8.735851287841797\n",
      "실제 시간: 108.0, 예측 시간: 54.827701568603516\n",
      "실제 시간: 220.0, 예측 시간: 63.41686248779297\n",
      "실제 시간: 43.0, 예측 시간: 39.45823287963867\n",
      "실제 시간: 100.0, 예측 시간: 42.08572769165039\n",
      "실제 시간: 156.0, 예측 시간: 91.32159423828125\n",
      "실제 시간: 10.0, 예측 시간: 87.95256805419922\n",
      "실제 시간: 11.0, 예측 시간: 17.204086303710938\n",
      "실제 시간: 195.0, 예측 시간: 52.9481086730957\n",
      "실제 시간: 153.0, 예측 시간: 30.059810638427734\n",
      "실제 시간: 48.0, 예측 시간: 29.45444107055664\n",
      "실제 시간: 15.0, 예측 시간: -3.596607208251953\n",
      "실제 시간: 59.0, 예측 시간: 69.15939331054688\n",
      "실제 시간: 145.0, 예측 시간: 69.46621704101562\n",
      "실제 시간: 21.0, 예측 시간: 29.994457244873047\n",
      "실제 시간: 42.0, 예측 시간: -68.04015350341797\n",
      "실제 시간: 6.0, 예측 시간: 49.60575485229492\n",
      "실제 시간: 46.0, 예측 시간: 85.60272979736328\n",
      "실제 시간: 3.000000000000014, 예측 시간: 52.94554901123047\n",
      "실제 시간: 132.0, 예측 시간: 27.98456573486328\n",
      "실제 시간: 3.000000000000014, 예측 시간: 81.40644073486328\n",
      "실제 시간: 14.0, 예측 시간: -15.117938995361328\n",
      "실제 시간: 370.0, 예측 시간: 67.7078857421875\n",
      "실제 시간: 0.0, 예측 시간: 83.62225341796875\n",
      "실제 시간: 140.0, 예측 시간: 15.1683349609375\n",
      "실제 시간: 105.0, 예측 시간: 58.414833068847656\n",
      "실제 시간: 91.0, 예측 시간: 27.264053344726562\n",
      "실제 시간: 82.0, 예측 시간: 29.959423065185547\n"
     ]
    }
   ],
   "source": [
    "# 실제,예측 결과 확인\n",
    "for i in range(30):\n",
    "    print(f\"실제 시간: {y_test[i][0]}, 예측 시간: {predictions[i][0]}\")"
   ]
  },
  {
   "cell_type": "code",
   "execution_count": 191,
   "id": "92038e4a-6f4c-480b-93c1-24646d6a5c36",
   "metadata": {
    "tags": []
   },
   "outputs": [
    {
     "name": "stdout",
     "output_type": "stream",
     "text": [
      "R^2 Score: 0.6460802120714433\n"
     ]
    }
   ],
   "source": [
    "from sklearn.metrics import r2_score\n",
    "\n",
    "r2 = r2_score(y_test, y_pred)\n",
    "print(\"R^2 Score:\", r2)"
   ]
  },
  {
   "cell_type": "code",
   "execution_count": null,
   "id": "6ebf3b7c-e1b3-456d-aa3d-ceafd30204d5",
   "metadata": {},
   "outputs": [],
   "source": []
  },
  {
   "cell_type": "code",
   "execution_count": null,
   "id": "93942a61-cae5-4ac4-9036-c246272dbcb7",
   "metadata": {},
   "outputs": [],
   "source": []
  },
  {
   "cell_type": "code",
   "execution_count": null,
   "id": "4eac4fff-435b-493f-9d78-d784f9b404b8",
   "metadata": {},
   "outputs": [],
   "source": []
  },
  {
   "cell_type": "code",
   "execution_count": null,
   "id": "afa39ca9-460e-4cba-bee1-e9c29080045c",
   "metadata": {},
   "outputs": [],
   "source": []
  },
  {
   "cell_type": "code",
   "execution_count": null,
   "id": "e547e8b8-9d37-4b3d-96a7-304dbc71c23c",
   "metadata": {},
   "outputs": [],
   "source": []
  },
  {
   "cell_type": "code",
   "execution_count": 34,
   "id": "cc36198f-2a13-4b6f-9e93-aa42f54264f3",
   "metadata": {
    "tags": []
   },
   "outputs": [],
   "source": [
    "# 회귀 모델 구축\n",
    "model2 = Sequential()\n",
    "model2.add(Dense(128, activation='relu', input_dim=X_train.shape[1]))\n",
    "model2.add(Dense(64, activation='relu'))\n",
    "model2.add(Dense(32, activation='relu'))\n",
    "model2.add(Dense(1))"
   ]
  },
  {
   "cell_type": "code",
   "execution_count": 36,
   "id": "0908dee9-68b3-4b71-b005-ce80aa8cb2d9",
   "metadata": {
    "tags": []
   },
   "outputs": [],
   "source": [
    "# 모델 컴파일\n",
    "model2.compile(optimizer='adam', loss='mean_squared_error')"
   ]
  },
  {
   "cell_type": "code",
   "execution_count": 37,
   "id": "98ffe816-5d0f-4345-8dc3-e03d0373d1c4",
   "metadata": {
    "tags": []
   },
   "outputs": [
    {
     "name": "stdout",
     "output_type": "stream",
     "text": [
      "Epoch 1/10\n",
      "513/513 [==============================] - 1s 799us/step - loss: 5858.5386\n",
      "Epoch 2/10\n",
      "513/513 [==============================] - 0s 784us/step - loss: 5266.6533\n",
      "Epoch 3/10\n",
      "513/513 [==============================] - 0s 801us/step - loss: 5078.9551\n",
      "Epoch 4/10\n",
      "513/513 [==============================] - 0s 786us/step - loss: 4954.1279\n",
      "Epoch 5/10\n",
      "513/513 [==============================] - 0s 787us/step - loss: 4926.1978\n",
      "Epoch 6/10\n",
      "513/513 [==============================] - 0s 784us/step - loss: 4866.7661\n",
      "Epoch 7/10\n",
      "513/513 [==============================] - 0s 784us/step - loss: 4877.1812\n",
      "Epoch 8/10\n",
      "513/513 [==============================] - 0s 817us/step - loss: 4767.5371\n",
      "Epoch 9/10\n",
      "513/513 [==============================] - 0s 814us/step - loss: 4769.4419\n",
      "Epoch 10/10\n",
      "513/513 [==============================] - 0s 942us/step - loss: 4767.0117\n"
     ]
    },
    {
     "data": {
      "text/plain": [
       "<keras.callbacks.History at 0x1c577676a10>"
      ]
     },
     "execution_count": 37,
     "metadata": {},
     "output_type": "execute_result"
    }
   ],
   "source": [
    "# 모델 학습\n",
    "model2.fit(X_train, y_train, epochs=10, batch_size=32)"
   ]
  },
  {
   "cell_type": "code",
   "execution_count": 38,
   "id": "c18d9de2-f6a0-40ed-b462-df67eb7edba9",
   "metadata": {
    "tags": []
   },
   "outputs": [
    {
     "name": "stdout",
     "output_type": "stream",
     "text": [
      "129/129 [==============================] - 0s 568us/step - loss: 4720.4844\n"
     ]
    }
   ],
   "source": [
    "\n",
    "# 모델 평가\n",
    "loss = model2.evaluate(X_test, y_test)"
   ]
  },
  {
   "cell_type": "code",
   "execution_count": 39,
   "id": "d59b7adf-58ce-435c-a541-d01eed9746f0",
   "metadata": {
    "tags": []
   },
   "outputs": [
    {
     "name": "stdout",
     "output_type": "stream",
     "text": [
      "129/129 [==============================] - 0s 624us/step\n"
     ]
    }
   ],
   "source": [
    "# 예측\n",
    "predictions = model.predict(X_test)"
   ]
  },
  {
   "cell_type": "code",
   "execution_count": 41,
   "id": "b871ace3-0e7a-47e7-b0d1-bfd3eb0d726f",
   "metadata": {
    "tags": []
   },
   "outputs": [
    {
     "ename": "SyntaxError",
     "evalue": "incomplete input (1878388943.py, line 2)",
     "output_type": "error",
     "traceback": [
      "\u001b[1;36m  Cell \u001b[1;32mIn[41], line 2\u001b[1;36m\u001b[0m\n\u001b[1;33m    # print(f\"실제 시간: {y_test.iloc[i]}, 예측 시간: {predictions[i][0]}\")\u001b[0m\n\u001b[1;37m                                                                   ^\u001b[0m\n\u001b[1;31mSyntaxError\u001b[0m\u001b[1;31m:\u001b[0m incomplete input\n"
     ]
    }
   ],
   "source": [
    "for i in range(len(predictions)):\n",
    "    # print(f\"실제 시간: {y_test.iloc[i]}, 예측 시간: {predictions[i][0]}\")"
   ]
  },
  {
   "cell_type": "code",
   "execution_count": 195,
   "id": "0634e24e-aba9-4f06-8037-58063c73acfa",
   "metadata": {
    "tags": []
   },
   "outputs": [],
   "source": [
    "from sklearn.model_selection import train_test_split\n",
    "from sklearn import preprocessing\n",
    "X = df1[[\"청구품목\", 'key2', '견적화폐' , '발주처']]\n",
    "X_encoded = X.copy()\n",
    "le = LabelEncoder()\n",
    "for col in X.columns:\n",
    "    X_encoded[col] = le.fit_transform(X[col])\n",
    "y = df1[\"leadtime\"]\n",
    "# X = np.array(X)\n",
    "# y = np.array(y)\n",
    "X_train, X_test, y_train, y_test = train_test_split(X_encoded, y, random_state=40, shuffle=True, test_size=0.3)"
   ]
  },
  {
   "cell_type": "code",
   "execution_count": 196,
   "id": "72833446-c053-4265-b4fd-48b0253cf912",
   "metadata": {
    "tags": []
   },
   "outputs": [],
   "source": [
    "from keras.models import Sequential\n",
    "from keras.layers import Dense, Embedding, Flatten\n",
    "from sklearn.preprocessing import LabelEncoder\n",
    "\n",
    "\n",
    "model = Sequential()\n",
    "model.add(Dense(64, activation='relu', input_dim=4))\n",
    "model.add(Dense(64, activation='relu'))\n",
    "model.add(Dense(1))"
   ]
  },
  {
   "cell_type": "code",
   "execution_count": 197,
   "id": "e33b55f3-0bc2-4e17-88a2-0c73272d9e4b",
   "metadata": {
    "tags": []
   },
   "outputs": [
    {
     "data": {
      "text/html": [
       "<div>\n",
       "<style scoped>\n",
       "    .dataframe tbody tr th:only-of-type {\n",
       "        vertical-align: middle;\n",
       "    }\n",
       "\n",
       "    .dataframe tbody tr th {\n",
       "        vertical-align: top;\n",
       "    }\n",
       "\n",
       "    .dataframe thead th {\n",
       "        text-align: right;\n",
       "    }\n",
       "</style>\n",
       "<table border=\"1\" class=\"dataframe\">\n",
       "  <thead>\n",
       "    <tr style=\"text-align: right;\">\n",
       "      <th></th>\n",
       "      <th>청구품목</th>\n",
       "      <th>key2</th>\n",
       "      <th>견적화폐</th>\n",
       "      <th>발주처</th>\n",
       "    </tr>\n",
       "  </thead>\n",
       "  <tbody>\n",
       "    <tr>\n",
       "      <th>0</th>\n",
       "      <td>4848</td>\n",
       "      <td>18</td>\n",
       "      <td>2</td>\n",
       "      <td>22</td>\n",
       "    </tr>\n",
       "    <tr>\n",
       "      <th>1</th>\n",
       "      <td>3692</td>\n",
       "      <td>18</td>\n",
       "      <td>2</td>\n",
       "      <td>22</td>\n",
       "    </tr>\n",
       "    <tr>\n",
       "      <th>2</th>\n",
       "      <td>5915</td>\n",
       "      <td>18</td>\n",
       "      <td>2</td>\n",
       "      <td>22</td>\n",
       "    </tr>\n",
       "    <tr>\n",
       "      <th>3</th>\n",
       "      <td>696</td>\n",
       "      <td>18</td>\n",
       "      <td>2</td>\n",
       "      <td>22</td>\n",
       "    </tr>\n",
       "    <tr>\n",
       "      <th>4</th>\n",
       "      <td>4681</td>\n",
       "      <td>18</td>\n",
       "      <td>2</td>\n",
       "      <td>22</td>\n",
       "    </tr>\n",
       "    <tr>\n",
       "      <th>...</th>\n",
       "      <td>...</td>\n",
       "      <td>...</td>\n",
       "      <td>...</td>\n",
       "      <td>...</td>\n",
       "    </tr>\n",
       "    <tr>\n",
       "      <th>20512</th>\n",
       "      <td>2811</td>\n",
       "      <td>20</td>\n",
       "      <td>1</td>\n",
       "      <td>35</td>\n",
       "    </tr>\n",
       "    <tr>\n",
       "      <th>20513</th>\n",
       "      <td>2810</td>\n",
       "      <td>20</td>\n",
       "      <td>1</td>\n",
       "      <td>35</td>\n",
       "    </tr>\n",
       "    <tr>\n",
       "      <th>20514</th>\n",
       "      <td>4151</td>\n",
       "      <td>5</td>\n",
       "      <td>1</td>\n",
       "      <td>41</td>\n",
       "    </tr>\n",
       "    <tr>\n",
       "      <th>20515</th>\n",
       "      <td>1592</td>\n",
       "      <td>20</td>\n",
       "      <td>1</td>\n",
       "      <td>41</td>\n",
       "    </tr>\n",
       "    <tr>\n",
       "      <th>20516</th>\n",
       "      <td>4718</td>\n",
       "      <td>20</td>\n",
       "      <td>1</td>\n",
       "      <td>41</td>\n",
       "    </tr>\n",
       "  </tbody>\n",
       "</table>\n",
       "<p>20517 rows × 4 columns</p>\n",
       "</div>"
      ],
      "text/plain": [
       "       청구품목  key2  견적화폐  발주처\n",
       "0      4848    18     2   22\n",
       "1      3692    18     2   22\n",
       "2      5915    18     2   22\n",
       "3       696    18     2   22\n",
       "4      4681    18     2   22\n",
       "...     ...   ...   ...  ...\n",
       "20512  2811    20     1   35\n",
       "20513  2810    20     1   35\n",
       "20514  4151     5     1   41\n",
       "20515  1592    20     1   41\n",
       "20516  4718    20     1   41\n",
       "\n",
       "[20517 rows x 4 columns]"
      ]
     },
     "execution_count": 197,
     "metadata": {},
     "output_type": "execute_result"
    }
   ],
   "source": [
    "X_encoded"
   ]
  },
  {
   "cell_type": "code",
   "execution_count": 198,
   "id": "508510b9-8d14-470d-b0a2-6c44c4a94e59",
   "metadata": {
    "tags": []
   },
   "outputs": [],
   "source": [
    "# 모델 컴파일\n",
    "model.compile(optimizer='adam', loss='mean_squared_error')"
   ]
  },
  {
   "cell_type": "code",
   "execution_count": 199,
   "id": "592f6c64-6771-48f3-b290-d3034240e4c4",
   "metadata": {
    "tags": []
   },
   "outputs": [
    {
     "name": "stdout",
     "output_type": "stream",
     "text": [
      "Epoch 1/30\n",
      "719/719 [==============================] - 2s 2ms/step - loss: 5782.1479\n",
      "Epoch 2/30\n",
      "719/719 [==============================] - 1s 2ms/step - loss: 5249.4282\n",
      "Epoch 3/30\n",
      "719/719 [==============================] - 1s 2ms/step - loss: 5098.1279\n",
      "Epoch 4/30\n",
      "719/719 [==============================] - 1s 2ms/step - loss: 5094.4292\n",
      "Epoch 5/30\n",
      "719/719 [==============================] - 1s 2ms/step - loss: 4967.0503\n",
      "Epoch 6/30\n",
      "719/719 [==============================] - 1s 2ms/step - loss: 4888.7559\n",
      "Epoch 7/30\n",
      "719/719 [==============================] - 1s 2ms/step - loss: 4877.9067\n",
      "Epoch 8/30\n",
      "719/719 [==============================] - 1s 2ms/step - loss: 4779.8926\n",
      "Epoch 9/30\n",
      "719/719 [==============================] - 1s 2ms/step - loss: 4838.7705\n",
      "Epoch 10/30\n",
      "719/719 [==============================] - 1s 2ms/step - loss: 4696.0796\n",
      "Epoch 11/30\n",
      "719/719 [==============================] - 1s 2ms/step - loss: 4675.5249\n",
      "Epoch 12/30\n",
      "719/719 [==============================] - 1s 2ms/step - loss: 4696.9404\n",
      "Epoch 13/30\n",
      "719/719 [==============================] - 1s 2ms/step - loss: 4643.5732\n",
      "Epoch 14/30\n",
      "719/719 [==============================] - 1s 2ms/step - loss: 4575.4409\n",
      "Epoch 15/30\n",
      "719/719 [==============================] - 1s 2ms/step - loss: 4560.1494\n",
      "Epoch 16/30\n",
      "719/719 [==============================] - 1s 2ms/step - loss: 4532.3584\n",
      "Epoch 17/30\n",
      "719/719 [==============================] - 1s 2ms/step - loss: 4514.8325\n",
      "Epoch 18/30\n",
      "719/719 [==============================] - 1s 2ms/step - loss: 4497.9360\n",
      "Epoch 19/30\n",
      "719/719 [==============================] - 1s 2ms/step - loss: 4519.3726\n",
      "Epoch 20/30\n",
      "719/719 [==============================] - 1s 2ms/step - loss: 4483.7808\n",
      "Epoch 21/30\n",
      "719/719 [==============================] - 1s 2ms/step - loss: 4517.2729\n",
      "Epoch 22/30\n",
      "719/719 [==============================] - 1s 2ms/step - loss: 4495.0146\n",
      "Epoch 23/30\n",
      "719/719 [==============================] - 1s 2ms/step - loss: 4450.8447\n",
      "Epoch 24/30\n",
      "719/719 [==============================] - 1s 2ms/step - loss: 4504.0347\n",
      "Epoch 25/30\n",
      "719/719 [==============================] - 1s 2ms/step - loss: 4487.6528\n",
      "Epoch 26/30\n",
      "719/719 [==============================] - 1s 2ms/step - loss: 4477.5684\n",
      "Epoch 27/30\n",
      "719/719 [==============================] - 1s 2ms/step - loss: 4483.5361\n",
      "Epoch 28/30\n",
      "719/719 [==============================] - 1s 2ms/step - loss: 4460.5308\n",
      "Epoch 29/30\n",
      "719/719 [==============================] - 1s 2ms/step - loss: 4453.8452\n",
      "Epoch 30/30\n",
      "719/719 [==============================] - 1s 2ms/step - loss: 4446.5635\n"
     ]
    },
    {
     "data": {
      "text/plain": [
       "<keras.callbacks.History at 0x1944b3df4c0>"
      ]
     },
     "execution_count": 199,
     "metadata": {},
     "output_type": "execute_result"
    }
   ],
   "source": [
    "# 모델 학습\n",
    "model.fit(X_train, y_train, epochs=30, batch_size=20)"
   ]
  },
  {
   "cell_type": "code",
   "execution_count": 200,
   "id": "20a7902d-ba13-445e-ac5a-45c0fed2c5ac",
   "metadata": {
    "tags": []
   },
   "outputs": [
    {
     "name": "stdout",
     "output_type": "stream",
     "text": [
      "193/193 [==============================] - 0s 1ms/step - loss: 5155.7202\n"
     ]
    }
   ],
   "source": [
    "# 모델 평가\n",
    "loss = model.evaluate(X_test, y_test)"
   ]
  },
  {
   "cell_type": "code",
   "execution_count": 201,
   "id": "17934347-8ae1-40e8-8a68-09b1166b5135",
   "metadata": {
    "tags": []
   },
   "outputs": [
    {
     "name": "stdout",
     "output_type": "stream",
     "text": [
      "193/193 [==============================] - 0s 951us/step\n"
     ]
    }
   ],
   "source": [
    "# 예측\n",
    "predictions = model.predict(X_test)"
   ]
  },
  {
   "cell_type": "code",
   "execution_count": 206,
   "id": "bbeda753-70d8-4a95-97f2-f510dcaf959f",
   "metadata": {
    "tags": []
   },
   "outputs": [],
   "source": [
    "y_test = y_test.tolist()#,predictions"
   ]
  },
  {
   "cell_type": "code",
   "execution_count": 208,
   "id": "ab6b908d-4933-438d-9335-82304f20229b",
   "metadata": {
    "tags": []
   },
   "outputs": [
    {
     "name": "stdout",
     "output_type": "stream",
     "text": [
      "실제값: 18, 예측값: 46.04890441894531\n",
      "실제값: 49, 예측값: 140.25709533691406\n",
      "실제값: 85, 예측값: 119.41304779052734\n",
      "실제값: 101, 예측값: 121.61643981933594\n",
      "실제값: 21, 예측값: 45.39546203613281\n",
      "실제값: 31, 예측값: 82.8563003540039\n",
      "실제값: 59, 예측값: 117.06278228759766\n",
      "실제값: 24, 예측값: 105.44283294677734\n",
      "실제값: 18, 예측값: 99.47750854492188\n",
      "실제값: 3, 예측값: 104.78871154785156\n",
      "실제값: 66, 예측값: 123.92642211914062\n",
      "실제값: 88, 예측값: 123.92642211914062\n",
      "실제값: 12, 예측값: 90.13145446777344\n",
      "실제값: 4, 예측값: 93.93710327148438\n",
      "실제값: 148, 예측값: 165.81932067871094\n",
      "실제값: 152, 예측값: 99.25410461425781\n",
      "실제값: 1, 예측값: 105.44283294677734\n",
      "실제값: 42, 예측값: 136.78155517578125\n",
      "실제값: 99, 예측값: 126.8105697631836\n",
      "실제값: 46, 예측값: 85.63798522949219\n",
      "실제값: 56, 예측값: 87.89180755615234\n",
      "실제값: 67, 예측값: 105.4603042602539\n",
      "실제값: 86, 예측값: 129.9215087890625\n",
      "실제값: 15, 예측값: 85.58822631835938\n",
      "실제값: 33, 예측값: 134.64190673828125\n",
      "실제값: 22, 예측값: 95.68933868408203\n",
      "실제값: 153, 예측값: 113.8542709350586\n",
      "실제값: 6, 예측값: 115.01844787597656\n",
      "실제값: 14, 예측값: 72.9874267578125\n",
      "실제값: 10, 예측값: 113.7217788696289\n"
     ]
    }
   ],
   "source": [
    "# 예측 결과 확인\n",
    "for i in range(30):\n",
    "    print(f\"실제값: {y_test[i]}, 예측값: {predictions[i][0]}\")"
   ]
  },
  {
   "cell_type": "code",
   "execution_count": null,
   "id": "6c12d765-86ac-4d84-a888-be59ee486c05",
   "metadata": {},
   "outputs": [],
   "source": []
  },
  {
   "cell_type": "markdown",
   "id": "79876898-71ea-484c-8ac6-1f12c1b903a1",
   "metadata": {},
   "source": [
    "## 기업 회귀 모델"
   ]
  },
  {
   "cell_type": "code",
   "execution_count": 1,
   "id": "2ad711fa-25ca-480b-9294-16bca3568187",
   "metadata": {
    "tags": []
   },
   "outputs": [
    {
     "name": "stderr",
     "output_type": "stream",
     "text": [
      "C:\\Users\\peos0\\AppData\\Local\\Temp\\ipykernel_4844\\1378052945.py:5: SettingWithCopyWarning: \n",
      "A value is trying to be set on a copy of a slice from a DataFrame.\n",
      "Try using .loc[row_indexer,col_indexer] = value instead\n",
      "\n",
      "See the caveats in the documentation: https://pandas.pydata.org/pandas-docs/stable/user_guide/indexing.html#returning-a-view-versus-a-copy\n",
      "  df1[\"leadtime\"] = df[\"leadtime\"].astype(int)\n"
     ]
    }
   ],
   "source": [
    "import pandas as pd\n",
    "from sklearn import preprocessing\n",
    "df = pd.read_csv('../data/raw_postpro.csv')\n",
    "df1 = df[[\"청구품목\", 'key2', 'leadtime', '견적화폐' , '발주처']]\n",
    "df1[\"leadtime\"] = df[\"leadtime\"].astype(int)"
   ]
  },
  {
   "cell_type": "code",
   "execution_count": 2,
   "id": "a64a4ec3-7c02-4d24-beae-765856b6ca95",
   "metadata": {
    "tags": []
   },
   "outputs": [],
   "source": [
    "# df"
   ]
  },
  {
   "cell_type": "code",
   "execution_count": 4,
   "id": "98988911-ff96-4506-8cd8-eebb6c77e402",
   "metadata": {
    "tags": []
   },
   "outputs": [],
   "source": [
    "# df1"
   ]
  },
  {
   "cell_type": "code",
   "execution_count": 31,
   "id": "fa107350-76ef-4723-b118-575802d31eda",
   "metadata": {
    "tags": []
   },
   "outputs": [],
   "source": [
    "from gensim.models import FastText\n",
    "from sklearn.feature_extraction.text import CountVectorizer\n",
    "from sklearn.model_selection import train_test_split\n",
    "from sklearn.linear_model import LinearRegression\n",
    "from sklearn.metrics import mean_squared_error, r2_score\n",
    "\n",
    "X = list(df['key2']  + ' '   + df['Assembly'] + ' '  + df['견적화폐']  +  ' ' + df['발주처']  )\n",
    "# df[\"Subject\"]+ ' ' +\n",
    " # df['출고운반선']+  ' ' +\n",
    "# type(y[0])\n",
    "# # y # 정규화\n",
    "from sklearn.preprocessing import StandardScaler\n",
    "\n",
    "# target 값\n",
    "y = df['leadtime']\n",
    "\n",
    "# StandardScaler 객체 생성\n",
    "scaler = StandardScaler()\n",
    "\n",
    "# y\n",
    "# y 값 정규화\n",
    "y_normalized = scaler.fit_transform(y.values.reshape(-1, 1))\n",
    "\n",
    "# 정규화된 y 값 출력\n",
    "# y_normalized = list(y_normalized)\n",
    "# y_normalized\n",
    "\n",
    "# y_normalized\n",
    "# print(y_normalized.shape)\n",
    "# y_train, y_test\n"
   ]
  },
  {
   "cell_type": "code",
   "execution_count": 32,
   "id": "5482cfb7-fa24-42b6-b557-914016d89ec9",
   "metadata": {
    "tags": []
   },
   "outputs": [
    {
     "name": "stdout",
     "output_type": "stream",
     "text": [
      "MSE 2532.979915660233\n",
      "R2 0.4645525572421316\n"
     ]
    }
   ],
   "source": [
    "vectorizer = CountVectorizer()\n",
    "X = vectorizer.fit_transform(X)\n",
    "\n",
    "# X_train, X_test, y_train, y_test = train_test_split(X, y_normalized, test_size=0.2, random_state=40) # y 정규화 된 데이터 사용\n",
    "X_train, X_test, y_train, y_test = train_test_split(X, y, test_size=0.2, random_state=40) # 그냥 y 정규화 하지 않고 사용\n",
    "\n",
    "lr = LinearRegression()\n",
    "lr.fit(X_train, y_train)\n",
    "\n",
    "y_pred = lr.predict(X_test)\n",
    "\n",
    "mse = mean_squared_error(y_test, y_pred)\n",
    "r2 = r2_score(y_test, y_pred)\n",
    "\n",
    "print(\"MSE\", mse)\n",
    "print(\"R2\", r2)\n"
   ]
  },
  {
   "cell_type": "code",
   "execution_count": 4,
   "id": "13a59f91-f74e-496e-b0a8-ae14cf1514cd",
   "metadata": {
    "tags": []
   },
   "outputs": [
    {
     "data": {
      "text/plain": [
       "(numpy.ndarray, numpy.ndarray)"
      ]
     },
     "execution_count": 4,
     "metadata": {},
     "output_type": "execute_result"
    }
   ],
   "source": [
    "type(y_test),type(y_pred)#.shape"
   ]
  },
  {
   "cell_type": "code",
   "execution_count": 5,
   "id": "c80b5c6f-d23d-4d4f-ac2b-ecdefe22bd4a",
   "metadata": {
    "tags": []
   },
   "outputs": [
    {
     "name": "stdout",
     "output_type": "stream",
     "text": [
      "Predicted values:\n",
      "[[-0.59541003]\n",
      " [ 0.53994685]\n",
      " [ 0.34358215]\n",
      " ...\n",
      " [ 0.15248752]\n",
      " [ 0.17964579]\n",
      " [ 1.5769616 ]]\n",
      "Actual values:\n",
      "[[-0.83029812]\n",
      " [-0.38559504]\n",
      " [ 0.13083434]\n",
      " ...\n",
      " [ 1.0202405 ]\n",
      " [ 0.33166799]\n",
      " [ 0.13083434]]\n"
     ]
    }
   ],
   "source": [
    "# 예측 결과 출력\n",
    "print(\"Predicted values:\")\n",
    "print(y_pred)\n",
    "\n",
    "print(\"Actual values:\")\n",
    "print(y_test)"
   ]
  },
  {
   "cell_type": "code",
   "execution_count": 6,
   "id": "793387a9-a58e-4322-a5a1-cedfb784a9b2",
   "metadata": {
    "tags": []
   },
   "outputs": [
    {
     "name": "stdout",
     "output_type": "stream",
     "text": [
      "Actual: [18.] Predicted: [34.37391605]\n",
      "Actual: [49.] Predicted: [113.5190013]\n",
      "Actual: [85.] Predicted: [99.83052927]\n",
      "Actual: [101.] Predicted: [87.04688753]\n",
      "Actual: [21.] Predicted: [70.09830582]\n",
      "Actual: [31.] Predicted: [52.12108456]\n",
      "Actual: [59.] Predicted: [101.96431074]\n",
      "Actual: [24.] Predicted: [44.71409055]\n",
      "Actual: [18.] Predicted: [86.39507528]\n",
      "Actual: [3.] Predicted: [50.15969751]\n",
      "Actual: [66.] Predicted: [72.23567914]\n",
      "Actual: [88.] Predicted: [100.31339662]\n",
      "Actual: [12.] Predicted: [56.41765723]\n",
      "Actual: [4.] Predicted: [-10.28476408]\n",
      "Actual: [148.] Predicted: [247.12595098]\n",
      "Actual: [152.] Predicted: [111.42616101]\n",
      "Actual: [1.] Predicted: [84.84225795]\n",
      "Actual: [42.] Predicted: [110.24434735]\n",
      "Actual: [99.] Predicted: [69.04531265]\n",
      "Actual: [46.] Predicted: [61.09872821]\n",
      "Actual: [56.] Predicted: [58.36986265]\n",
      "Actual: [67.] Predicted: [81.7895476]\n",
      "Actual: [86.] Predicted: [107.98020833]\n",
      "Actual: [15.] Predicted: [37.80657192]\n",
      "Actual: [33.] Predicted: [74.00251408]\n",
      "Actual: [22.] Predicted: [24.33227356]\n",
      "Actual: [153.] Predicted: [78.71190281]\n",
      "Actual: [6.] Predicted: [21.5745534]\n",
      "Actual: [14.] Predicted: [32.29569076]\n",
      "Actual: [10.] Predicted: [58.80276257]\n",
      "Actual: [50.] Predicted: [47.23509366]\n",
      "Actual: [50.] Predicted: [29.00030566]\n",
      "Actual: [100.] Predicted: [80.34145369]\n",
      "Actual: [3.] Predicted: [-43.09845033]\n",
      "Actual: [142.] Predicted: [143.70361778]\n",
      "Actual: [140.] Predicted: [59.55940177]\n",
      "Actual: [112.] Predicted: [76.45400012]\n",
      "Actual: [8.] Predicted: [4.47005428]\n",
      "Actual: [146.] Predicted: [108.3357639]\n",
      "Actual: [1.] Predicted: [32.29694946]\n"
     ]
    }
   ],
   "source": [
    "import numpy as np\n",
    "# 원래 스케일로 되돌리기\n",
    "y_test = scaler.inverse_transform(y_test)\n",
    "y_pred = scaler.inverse_transform(y_pred)\n",
    "\n",
    "y_test_arr = np.array(y_test)\n",
    "y_pred_arr = np.array(y_pred)\n",
    "\n",
    "# 값들을 비교하면서 출력합니다.\n",
    "for i in range(40):\n",
    "    print(\"Actual:\", y_test_arr[i], \"Predicted:\", y_pred_arr[i])"
   ]
  },
  {
   "cell_type": "code",
   "execution_count": null,
   "id": "8229ae1f-2b45-4410-a811-6862ef8ee3e8",
   "metadata": {},
   "outputs": [],
   "source": []
  },
  {
   "cell_type": "code",
   "execution_count": null,
   "id": "37ae017f-cbe2-4c24-b060-d625cc02fdcc",
   "metadata": {},
   "outputs": [],
   "source": []
  },
  {
   "cell_type": "code",
   "execution_count": null,
   "id": "21f53ada-ec48-46b5-ba15-771d524fcccd",
   "metadata": {},
   "outputs": [],
   "source": []
  },
  {
   "cell_type": "code",
   "execution_count": 33,
   "id": "b19122b9-e074-424e-b7b2-32bb8fd563e1",
   "metadata": {
    "tags": []
   },
   "outputs": [
    {
     "name": "stderr",
     "output_type": "stream",
     "text": [
      "C:\\Users\\peos0\\AppData\\Local\\Temp\\ipykernel_4844\\1378052945.py:5: SettingWithCopyWarning: \n",
      "A value is trying to be set on a copy of a slice from a DataFrame.\n",
      "Try using .loc[row_indexer,col_indexer] = value instead\n",
      "\n",
      "See the caveats in the documentation: https://pandas.pydata.org/pandas-docs/stable/user_guide/indexing.html#returning-a-view-versus-a-copy\n",
      "  df1[\"leadtime\"] = df[\"leadtime\"].astype(int)\n"
     ]
    }
   ],
   "source": [
    "import pandas as pd\n",
    "from sklearn import preprocessing\n",
    "df = pd.read_csv('../data/raw_postpro.csv')\n",
    "df1 = df[[\"청구품목\", 'key2', 'leadtime', '견적화폐' , '발주처']]\n",
    "df1[\"leadtime\"] = df[\"leadtime\"].astype(int)"
   ]
  },
  {
   "cell_type": "code",
   "execution_count": 34,
   "id": "99f8dcca-d0c9-4459-8a78-f5b76fdfd036",
   "metadata": {
    "tags": []
   },
   "outputs": [],
   "source": [
    "from gensim.models import FastText\n",
    "from sklearn.feature_extraction.text import CountVectorizer\n",
    "from sklearn.model_selection import train_test_split\n",
    "from sklearn.linear_model import LinearRegression\n",
    "from sklearn.metrics import mean_squared_error, r2_score\n",
    "\n",
    "# 제일 좋은 모델\n",
    "X = list(df[\"Subject\"]+ ' ' +df['출고운반선']+  ' ' + df['key2'] + ' ' + df['Assembly'] + ' '  + df['견적화폐']  +  ' ' + df['발주처'])\n",
    "# df[\"발주수량\"] = df[\"발주수량\"].astype(str/)\n",
    "\n",
    "# X = list( df['key2'] + ' ' + df['Assembly'] + ' ' + df['견적화폐']  + ' ' + df['발주수량']+ ' ' + df[\"Control No.\"])\n",
    "# + df['발주처'] + ' ' \n",
    "# 청구품목\n",
    "\n",
    "# X = list( df['key2'] + ' ' + df[\"Machinery\"]+ ' '   + df['Assembly'] + ' '  + df['견적화폐']  +  ' ' + df['발주처']+ ' ' + df['청구품목'])\n",
    "# df[\"Subject\"]+ ' ' +df['출고운반선']+  ' ' +\n",
    "# y # 정규화\n",
    "from sklearn.preprocessing import StandardScaler\n",
    "# target 값\n",
    "y = df['leadtime']\n",
    "\n",
    "from tensorflow.keras.preprocessing.text import Tokenizer\n",
    "# 텍스트 데이터를 정수 시퀀스로 변환\n",
    "tokenizer = Tokenizer()\n",
    "tokenizer.fit_on_texts(X)\n",
    "sequences = tokenizer.texts_to_sequences(X)"
   ]
  },
  {
   "cell_type": "code",
   "execution_count": 35,
   "id": "3a6bc659-fbcd-4b6f-8b1d-ed89727a1712",
   "metadata": {
    "tags": []
   },
   "outputs": [
    {
     "data": {
      "text/plain": [
       "[[76,\n",
       "  25,\n",
       "  18,\n",
       "  17,\n",
       "  288,\n",
       "  74,\n",
       "  6,\n",
       "  15,\n",
       "  1,\n",
       "  13,\n",
       "  12,\n",
       "  103,\n",
       "  1028,\n",
       "  1029,\n",
       "  93,\n",
       "  11,\n",
       "  97,\n",
       "  2,\n",
       "  8,\n",
       "  9,\n",
       "  10],\n",
       " [128, 50, 77, 32, 3, 188, 159, 6, 15, 1, 13, 12, 103, 16, 132, 2, 8, 9, 10]]"
      ]
     },
     "execution_count": 35,
     "metadata": {},
     "output_type": "execute_result"
    }
   ],
   "source": [
    "sequences[:2]"
   ]
  },
  {
   "cell_type": "code",
   "execution_count": null,
   "id": "708e59b8-e334-4e42-ae83-ad846ad810e3",
   "metadata": {},
   "outputs": [],
   "source": [
    "# tokenizer, pad_sequences scaler저장해야함"
   ]
  },
  {
   "cell_type": "code",
   "execution_count": 21,
   "id": "510bde19-281f-4337-9e8d-12d816673a9b",
   "metadata": {
    "tags": []
   },
   "outputs": [],
   "source": [
    "# import pickle\n",
    "\n",
    "# # sequences pkl 파일로 저장\n",
    "# with open(\"../model/sequences.pkl\", \"wb\") as file:\n",
    "#     pickle.dump(sequences, file)"
   ]
  },
  {
   "cell_type": "code",
   "execution_count": 88,
   "id": "02a520a0-aa0a-4db5-ba3d-9b3a11e451cd",
   "metadata": {
    "tags": []
   },
   "outputs": [],
   "source": [
    "# import pickle\n",
    "\n",
    "# # tokenizer pkl 파일로 저장\n",
    "# with open(\"../model/tokenizer.pkl\", \"wb\") as file:\n",
    "#     pickle.dump(tokenizer, file)"
   ]
  },
  {
   "cell_type": "code",
   "execution_count": 30,
   "id": "549070cc-a4f8-41ae-96f5-0d6f05bda80e",
   "metadata": {
    "tags": []
   },
   "outputs": [],
   "source": [
    "# X[:10]"
   ]
  },
  {
   "cell_type": "code",
   "execution_count": 29,
   "id": "fea6d275-3a8e-45eb-a3cf-a07fe5cdd449",
   "metadata": {
    "tags": []
   },
   "outputs": [],
   "source": [
    "# y"
   ]
  },
  {
   "cell_type": "code",
   "execution_count": 36,
   "id": "f10f29c8-cb00-42fa-a303-718059520564",
   "metadata": {
    "tags": []
   },
   "outputs": [
    {
     "name": "stdout",
     "output_type": "stream",
     "text": [
      "Average length: 93.61563581420286\n",
      "Max length: 181\n"
     ]
    }
   ],
   "source": [
    "# 시퀀스 길이를 정하기 위해 X 문자열 길이 확인\n",
    "lengths = [len(text) for text in X]\n",
    "average_length = sum(lengths) / len(lengths)\n",
    "max_length = max(lengths)\n",
    "\n",
    "print(\"Average length:\", average_length)\n",
    "print(\"Max length:\", max_length)"
   ]
  },
  {
   "cell_type": "code",
   "execution_count": 37,
   "id": "c79165a1-9c0e-41f3-8468-ceaade30b978",
   "metadata": {
    "tags": []
   },
   "outputs": [],
   "source": [
    "from keras.models import Sequential\n",
    "from keras.layers import Embedding,LSTM, Conv1D, MaxPooling1D, Dense, Flatten, Reshape, GlobalMaxPooling1D\n",
    "from tensorflow.keras.preprocessing import sequence\n",
    "\n",
    "from tensorflow.keras.preprocessing.sequence import pad_sequences\n",
    "\n",
    "# 시퀀스 패딩\n",
    "max_sequence_length = 100  # 적절한 시퀀스 길이로 설정\n",
    "padded_sequences = pad_sequences(sequences, maxlen=max_sequence_length)\n",
    "\n",
    "# 데이터 분할\n",
    "X_train, X_test, y_train, y_test = train_test_split(padded_sequences, y, test_size=0.2, random_state=42)\n",
    "\n",
    "# # y_train과 y_test 정규화\n",
    "# scaler = StandardScaler()\n",
    "# y_train = scaler.fit_transform(y_train.values.reshape(-1, 1))\n",
    "# y_test = scaler.transform(y_test.values.reshape(-1, 1))\n",
    "\n",
    "\n",
    "# 모델 구성\n",
    "model = Sequential()\n",
    "model.add(Embedding(input_dim=12309, output_dim=100, input_length=max_sequence_length))\n",
    "model.add(Conv1D(filters=64, kernel_size=3, activation='relu'))\n",
    "model.add(MaxPooling1D(pool_size=2))\n",
    "model.add(LSTM(64, return_sequences=True))\n",
    "model.add(Reshape((-1, 64)))  # LSTM 이후에 Reshape 층 추가\n",
    "model.add(Conv1D(filters=32, kernel_size=3, activation='relu'))\n",
    "model.add(GlobalMaxPooling1D())\n",
    "model.add(Dense(1))\n",
    "\n",
    "# 모델 컴파일\n",
    "model.compile(loss='mean_squared_error', optimizer='adam')"
   ]
  },
  {
   "cell_type": "markdown",
   "id": "aad2b3b7-2566-4d9e-bf69-bae4f0f61326",
   "metadata": {},
   "source": [
    "## tokenizer, pad_sequences scaler저장해야함"
   ]
  },
  {
   "cell_type": "code",
   "execution_count": 89,
   "id": "5b117420-e263-4281-88c1-8af5b75228a7",
   "metadata": {
    "tags": []
   },
   "outputs": [],
   "source": [
    "# import pickle\n",
    "\n",
    "# # scaler를 pkl 파일로 저장\n",
    "# with open(\"../model/scaler.pkl\", \"wb\") as file:\n",
    "#     pickle.dump(scaler, file)"
   ]
  },
  {
   "cell_type": "code",
   "execution_count": 38,
   "id": "58690fb1-b260-45c2-bafb-c81617150113",
   "metadata": {
    "tags": []
   },
   "outputs": [
    {
     "data": {
      "text/plain": [
       "((16413, 100), (16413,))"
      ]
     },
     "execution_count": 38,
     "metadata": {},
     "output_type": "execute_result"
    }
   ],
   "source": [
    "X_train.shape, y_train.shape\n",
    "# len(X), len(y)"
   ]
  },
  {
   "cell_type": "code",
   "execution_count": 39,
   "id": "3b0e0a34-9146-479d-aabb-eb77e2729035",
   "metadata": {
    "tags": []
   },
   "outputs": [
    {
     "data": {
      "text/plain": [
       "((4104, 100), (4104,))"
      ]
     },
     "execution_count": 39,
     "metadata": {},
     "output_type": "execute_result"
    }
   ],
   "source": [
    "X_test.shape, y_test.shape"
   ]
  },
  {
   "cell_type": "code",
   "execution_count": 41,
   "id": "182f9212-31ce-426d-9522-1c72a3fadf13",
   "metadata": {
    "tags": []
   },
   "outputs": [
    {
     "name": "stdout",
     "output_type": "stream",
     "text": [
      "Epoch 1/5\n",
      "129/129 [==============================] - 12s 96ms/step - loss: 606.2396 - val_loss: 772.0398\n",
      "Epoch 2/5\n",
      "129/129 [==============================] - 10s 81ms/step - loss: 476.5480 - val_loss: 659.4886\n",
      "Epoch 3/5\n",
      "129/129 [==============================] - 12s 96ms/step - loss: 391.9562 - val_loss: 617.0051\n",
      "Epoch 4/5\n",
      "129/129 [==============================] - 12s 90ms/step - loss: 345.3933 - val_loss: 576.9767\n",
      "Epoch 5/5\n",
      "129/129 [==============================] - 12s 96ms/step - loss: 299.2253 - val_loss: 561.8189\n"
     ]
    },
    {
     "data": {
      "image/png": "[encoded data removed]",
      "text/plain": [
       "<Figure size 640x480 with 1 Axes>"
      ]
     },
     "metadata": {},
     "output_type": "display_data"
    }
   ],
   "source": [
    "import matplotlib.pyplot as plt\n",
    "\n",
    "# 모델 훈련\n",
    "history = model.fit(X_train, y_train, epochs=5, batch_size=128, validation_data=(X_test, y_test))\n",
    "\n",
    "# 손실 값 추출\n",
    "train_loss = history.history['loss']\n",
    "val_loss = history.history['val_loss']\n",
    "\n",
    "# 에포크 수\n",
    "epochs = range(1, len(train_loss) + 1)\n",
    "\n",
    "# 학습 곡선 그리기\n",
    "plt.plot(epochs, train_loss, 'b-', label='Training Loss')\n",
    "plt.plot(epochs, val_loss, 'r-', label='Validation Loss')\n",
    "plt.xlabel('Epochs')\n",
    "plt.ylabel('Loss')\n",
    "plt.legend()\n",
    "plt.show()"
   ]
  },
  {
   "cell_type": "code",
   "execution_count": 96,
   "id": "529e485e-a1e4-4ed4-a25a-0e93fc89dae6",
   "metadata": {
    "tags": []
   },
   "outputs": [],
   "source": [
    "# # 모델 저장\n",
    "# model.save(\"../model/model_regression.h5\")"
   ]
  },
  {
   "cell_type": "code",
   "execution_count": null,
   "id": "a3775f8c-bd23-45a1-a7cf-bb473f4f3c81",
   "metadata": {},
   "outputs": [],
   "source": []
  },
  {
   "cell_type": "code",
   "execution_count": 82,
   "id": "ec19249f-3ba3-40bb-a9b5-e9acce964984",
   "metadata": {
    "tags": []
   },
   "outputs": [],
   "source": []
  },
  {
   "cell_type": "markdown",
   "id": "8590aded-c3b1-4417-88ed-430e0a082083",
   "metadata": {},
   "source": [
    "## 검증 데이터의 손실값이 더 많은 것으로 보아 과적합 된것으로 판단됨"
   ]
  },
  {
   "cell_type": "code",
   "execution_count": 44,
   "id": "2ef71a5d-f265-40e1-8592-5e0e86b53b70",
   "metadata": {
    "tags": []
   },
   "outputs": [
    {
     "name": "stdout",
     "output_type": "stream",
     "text": [
      "129/129 [==============================] - 1s 3ms/step\n",
      "Predicted values:\n",
      "[[ 0.9772195 ]\n",
      " [ 0.01840446]\n",
      " [-0.28934032]\n",
      " ...\n",
      " [-1.0597335 ]\n",
      " [-1.087333  ]\n",
      " [-0.01267651]]\n",
      "Actual values:\n",
      "[[ 0.98975194]\n",
      " [ 0.03000711]\n",
      " [-0.28513298]\n",
      " ...\n",
      " [-1.01568502]\n",
      " [-1.08730777]\n",
      " [ 0.05865621]]\n"
     ]
    }
   ],
   "source": [
    "y_pred = model.predict(X_test)\n",
    "\n",
    "# 예측 결과 출력\n",
    "print(\"Predicted values:\")\n",
    "print(y_pred)\n",
    "\n",
    "print(\"Actual values:\")\n",
    "print(y_test)"
   ]
  },
  {
   "cell_type": "code",
   "execution_count": 45,
   "id": "ab78c4e8-97df-4c5a-bcbd-0b0de9403339",
   "metadata": {
    "tags": []
   },
   "outputs": [
    {
     "name": "stdout",
     "output_type": "stream",
     "text": [
      "Actual: [145.] Predicted: [144.1251]\n",
      "Actual: [78.] Predicted: [77.19002]\n",
      "Actual: [56.] Predicted: [55.706284]\n",
      "Actual: [108.] Predicted: [110.75055]\n",
      "Actual: [220.] Predicted: [223.2061]\n",
      "Actual: [43.] Predicted: [41.90083]\n",
      "Actual: [100.] Predicted: [94.87819]\n",
      "Actual: [156.] Predicted: [155.80768]\n",
      "Actual: [10.] Predicted: [11.768646]\n",
      "Actual: [11.] Predicted: [9.168419]\n",
      "Actual: [195.] Predicted: [201.73128]\n",
      "Actual: [153.] Predicted: [152.6237]\n",
      "Actual: [48.] Predicted: [53.876297]\n",
      "Actual: [15.] Predicted: [12.328072]\n",
      "Actual: [59.] Predicted: [66.05953]\n",
      "Actual: [145.] Predicted: [146.69623]\n",
      "Actual: [21.] Predicted: [14.205795]\n",
      "Actual: [42.] Predicted: [46.465908]\n",
      "Actual: [6.] Predicted: [1.8004379]\n",
      "Actual: [46.] Predicted: [47.037888]\n",
      "Actual: [3.] Predicted: [9.803551]\n",
      "Actual: [132.] Predicted: [126.90427]\n",
      "Actual: [3.] Predicted: [0.7208175]\n",
      "Actual: [14.] Predicted: [12.68869]\n",
      "Actual: [370.] Predicted: [364.9838]\n",
      "Actual: [0.] Predicted: [-2.5502472]\n",
      "Actual: [140.] Predicted: [154.88722]\n",
      "Actual: [105.] Predicted: [102.235275]\n",
      "Actual: [91.] Predicted: [93.25185]\n",
      "Actual: [82.] Predicted: [124.25757]\n",
      "Actual: [18.] Predicted: [19.750637]\n",
      "Actual: [14.] Predicted: [13.7584]\n",
      "Actual: [370.] Predicted: [368.95218]\n",
      "Actual: [30.] Predicted: [29.96495]\n",
      "Actual: [130.] Predicted: [125.55634]\n",
      "Actual: [69.] Predicted: [68.39246]\n",
      "Actual: [13.] Predicted: [14.545513]\n",
      "Actual: [12.] Predicted: [10.645439]\n",
      "Actual: [41.] Predicted: [39.513588]\n",
      "Actual: [145.] Predicted: [146.69623]\n"
     ]
    }
   ],
   "source": [
    "# 원래 스케일로 되돌리기\n",
    "y_test = scaler.inverse_transform(y_test)\n",
    "y_pred = scaler.inverse_transform(y_pred)\n",
    "\n",
    "import numpy as np\n",
    "y_test_arr = np.array(y_test)\n",
    "y_pred_arr = np.array(y_pred)\n",
    "\n",
    "# 값들을 비교하면서 출력합니다.\n",
    "for i in range(40):\n",
    "    print(\"Actual:\", y_test_arr[i], \"Predicted:\", y_pred_arr[i])"
   ]
  },
  {
   "cell_type": "code",
   "execution_count": 46,
   "id": "e6e9279a-d397-4adb-8403-9c5cdaac4dcb",
   "metadata": {
    "tags": []
   },
   "outputs": [
    {
     "name": "stdout",
     "output_type": "stream",
     "text": [
      "R^2 Score: 0.9326845729463988\n"
     ]
    }
   ],
   "source": [
    "from sklearn.metrics import r2_score\n",
    "\n",
    "r2 = r2_score(y_test, y_pred)\n",
    "print(\"R^2 Score:\", r2)"
   ]
  },
  {
   "cell_type": "markdown",
   "id": "8a8fe4ab-11a4-421f-a0bc-bc98e0902093",
   "metadata": {},
   "source": [
    "batch 256\n",
    "max_sequence_length = 150\n",
    "R^2 Score: 0.9243755316599768"
   ]
  },
  {
   "cell_type": "code",
   "execution_count": null,
   "id": "1585976e-1589-43f1-bfb3-1d7e9e9f3033",
   "metadata": {},
   "outputs": [],
   "source": []
  },
  {
   "cell_type": "markdown",
   "id": "fba89068-7225-444a-8dab-37c36cbc3d39",
   "metadata": {},
   "source": [
    "## 새로운 데이터로 확인"
   ]
  },
  {
   "cell_type": "code",
   "execution_count": null,
   "id": "650350e6-f25f-4211-aaaa-da503700a155",
   "metadata": {},
   "outputs": [],
   "source": [
    "# X = list(df[\"Subject\"]+ ' ' +df['출고운반선']+  ' ' + df['key2'] + ' ' + df['Assembly'] + ' '  + df['견적화폐']  +  ' ' + df['발주처'])"
   ]
  },
  {
   "cell_type": "code",
   "execution_count": 58,
   "id": "197a9981-ed9a-4780-8b18-3843b079fc07",
   "metadata": {
    "tags": []
   },
   "outputs": [
    {
     "data": {
      "text/plain": [
       "'DEO-E-210512-01 0 COOLER 2N4727 INSTRUMNT PANEL GP KRW HAEIN Coporation_Cheonan'"
      ]
     },
     "execution_count": 58,
     "metadata": {},
     "output_type": "execute_result"
    }
   ],
   "source": [
    "strings = [\"DEO-E-210512-01\", \"0\",\"COOLER\", \"2N4727 INSTRUMNT PANEL GP\", \"KRW\", \"HAEIN Coporation_Cheonan\"]\n",
    "combined_string = \" \".join(strings)\n",
    "combined_string"
   ]
  },
  {
   "cell_type": "code",
   "execution_count": 59,
   "id": "d8d8595f-9a5e-4a79-a436-7632637c5697",
   "metadata": {
    "tags": []
   },
   "outputs": [],
   "source": [
    "combined_string = tokenizer.texts_to_sequences([combined_string])\n",
    "# combined_string"
   ]
  },
  {
   "cell_type": "code",
   "execution_count": 60,
   "id": "5cc2cf0c-be43-4168-ad64-f2dae3cc96b5",
   "metadata": {
    "tags": []
   },
   "outputs": [
    {
     "data": {
      "text/plain": [
       "[[82, 17, 389, 7, 55, 103, 2126, 2127, 314, 11, 2, 8, 9, 10]]"
      ]
     },
     "execution_count": 60,
     "metadata": {},
     "output_type": "execute_result"
    }
   ],
   "source": [
    "combined_string"
   ]
  },
  {
   "cell_type": "code",
   "execution_count": 61,
   "id": "26ec2c3e-a0ea-4b5e-8984-1e1809ce37f6",
   "metadata": {
    "tags": []
   },
   "outputs": [],
   "source": [
    "padded_string = pad_sequences(combined_string, maxlen=100)"
   ]
  },
  {
   "cell_type": "code",
   "execution_count": 62,
   "id": "089c9b43-4bf9-44c2-ad8d-5a64b66fb012",
   "metadata": {
    "tags": []
   },
   "outputs": [
    {
     "name": "stdout",
     "output_type": "stream",
     "text": [
      "1/1 [==============================] - 0s 303ms/step\n"
     ]
    }
   ],
   "source": [
    "y_pred_test = model.predict(padded_string)"
   ]
  },
  {
   "cell_type": "code",
   "execution_count": 64,
   "id": "c3b25519-bafb-42e1-8b31-b973566539d1",
   "metadata": {
    "tags": []
   },
   "outputs": [],
   "source": [
    "y_pred_test = scaler.inverse_transform(y_test)"
   ]
  },
  {
   "cell_type": "code",
   "execution_count": 65,
   "id": "d55d898d-2179-4009-9f57-72773d51e56a",
   "metadata": {
    "tags": []
   },
   "outputs": [
    {
     "data": {
      "text/plain": [
       "array([[10198.38745323],\n",
       "       [ 5521.10254867],\n",
       "       [ 3985.27765464],\n",
       "       ...,\n",
       "       [  424.95630938],\n",
       "       [   75.9051971 ],\n",
       "       [ 5660.72299359]])"
      ]
     },
     "execution_count": 65,
     "metadata": {},
     "output_type": "execute_result"
    }
   ],
   "source": [
    "y_pred_test"
   ]
  },
  {
   "cell_type": "code",
   "execution_count": 66,
   "id": "3ad3a58d-1f15-44bd-ae05-d8195ec2e63a",
   "metadata": {
    "tags": []
   },
   "outputs": [],
   "source": [
    "import numpy as np\n",
    "y_pred_test = np.array(y_pred_test)"
   ]
  },
  {
   "cell_type": "code",
   "execution_count": 67,
   "id": "0d66075c-119b-4ece-8abf-7d6b6592df94",
   "metadata": {
    "tags": []
   },
   "outputs": [
    {
     "data": {
      "text/plain": [
       "array([[10198.38745323],\n",
       "       [ 5521.10254867],\n",
       "       [ 3985.27765464],\n",
       "       ...,\n",
       "       [  424.95630938],\n",
       "       [   75.9051971 ],\n",
       "       [ 5660.72299359]])"
      ]
     },
     "execution_count": 67,
     "metadata": {},
     "output_type": "execute_result"
    }
   ],
   "source": [
    "y_pred_test"
   ]
  },
  {
   "cell_type": "code",
   "execution_count": null,
   "id": "566f6587-9f52-4482-bf43-9d836b8df3e9",
   "metadata": {},
   "outputs": [],
   "source": []
  },
  {
   "cell_type": "code",
   "execution_count": 97,
   "id": "b9da3cae-bb30-4763-a575-e130e02fc695",
   "metadata": {
    "tags": []
   },
   "outputs": [
    {
     "name": "stdout",
     "output_type": "stream",
     "text": [
      "1/1 [==============================] - 0s 53ms/step\n"
     ]
    }
   ],
   "source": [
    "strings = [\"DEO-E-210512-01\", \"0\", \"COOLER\", \"2N4727 INSTRUMNT PANEL GP\", \"KRW\", \"HAEIN Coporation_Cheonan\"]\n",
    "combined_string = \" \".join(strings)\n",
    "\n",
    "# 문자열을 정수 시퀀스로 변환\n",
    "combined_sequence = tokenizer.texts_to_sequences([combined_string])\n",
    "\n",
    "# 시퀀스 패딩\n",
    "combined_padded_sequence = pad_sequences(combined_sequence, maxlen=100)\n",
    "\n",
    "# 예측\n",
    "y_pred = model.predict(combined_padded_sequence)"
   ]
  },
  {
   "cell_type": "code",
   "execution_count": 98,
   "id": "47a7ff6d-5655-4762-86d5-0aa1d3ce16ab",
   "metadata": {
    "tags": []
   },
   "outputs": [],
   "source": [
    "y_pred_test = scaler.inverse_transform(y_pred)"
   ]
  },
  {
   "cell_type": "code",
   "execution_count": 99,
   "id": "2aa12c60-0db7-4956-9774-49c11c9b414c",
   "metadata": {
    "tags": []
   },
   "outputs": [
    {
     "data": {
      "text/plain": [
       "221.60411"
      ]
     },
     "execution_count": 99,
     "metadata": {},
     "output_type": "execute_result"
    }
   ],
   "source": [
    "y_pred_test[0][0]"
   ]
  },
  {
   "cell_type": "code",
   "execution_count": 106,
   "id": "b7868413-e439-4a32-8dac-b9bd86900552",
   "metadata": {
    "tags": []
   },
   "outputs": [
    {
     "name": "stdout",
     "output_type": "stream",
     "text": [
      "2.10.0\n"
     ]
    }
   ],
   "source": [
    "import tensorflow as tf\n",
    "\n",
    "print(tf.__version__)"
   ]
  },
  {
   "cell_type": "code",
   "execution_count": 13,
   "id": "c04a447f-1fd1-44ab-8557-395c0220abbd",
   "metadata": {
    "tags": []
   },
   "outputs": [
    {
     "name": "stdout",
     "output_type": "stream",
     "text": [
      "Actual: [145.] Predicted: [148.77786]\n",
      "Actual: [78.] Predicted: [77.41876]\n",
      "Actual: [56.] Predicted: [58.280293]\n",
      "Actual: [108.] Predicted: [105.628624]\n",
      "Actual: [220.] Predicted: [222.80357]\n",
      "Actual: [43.] Predicted: [45.524597]\n",
      "Actual: [100.] Predicted: [92.795044]\n",
      "Actual: [156.] Predicted: [153.02373]\n",
      "Actual: [10.] Predicted: [14.695118]\n",
      "Actual: [11.] Predicted: [13.332512]\n",
      "Actual: [195.] Predicted: [186.98003]\n",
      "Actual: [153.] Predicted: [148.2663]\n",
      "Actual: [48.] Predicted: [22.044804]\n",
      "Actual: [15.] Predicted: [16.580692]\n",
      "Actual: [59.] Predicted: [46.892204]\n",
      "Actual: [145.] Predicted: [142.83379]\n",
      "Actual: [21.] Predicted: [24.070553]\n",
      "Actual: [42.] Predicted: [46.928703]\n",
      "Actual: [6.] Predicted: [5.759987]\n",
      "Actual: [46.] Predicted: [41.933746]\n",
      "Actual: [3.] Predicted: [7.6031494]\n",
      "Actual: [132.] Predicted: [139.73044]\n",
      "Actual: [3.] Predicted: [5.3579254]\n",
      "Actual: [14.] Predicted: [15.386093]\n",
      "Actual: [370.] Predicted: [357.49884]\n",
      "Actual: [0.] Predicted: [1.1531525]\n",
      "Actual: [140.] Predicted: [148.11069]\n",
      "Actual: [105.] Predicted: [109.28915]\n",
      "Actual: [91.] Predicted: [90.22421]\n",
      "Actual: [82.] Predicted: [156.62622]\n",
      "Actual: [18.] Predicted: [19.496666]\n",
      "Actual: [14.] Predicted: [12.77816]\n",
      "Actual: [370.] Predicted: [368.30273]\n",
      "Actual: [30.] Predicted: [29.16219]\n",
      "Actual: [130.] Predicted: [123.323555]\n",
      "Actual: [69.] Predicted: [72.97969]\n",
      "Actual: [13.] Predicted: [12.568764]\n",
      "Actual: [12.] Predicted: [14.188442]\n",
      "Actual: [41.] Predicted: [42.36003]\n",
      "Actual: [145.] Predicted: [142.83379]\n",
      "Actual: [117.] Predicted: [111.566956]\n",
      "Actual: [31.] Predicted: [28.134888]\n",
      "Actual: [4.] Predicted: [5.3867645]\n",
      "Actual: [53.] Predicted: [65.783035]\n",
      "Actual: [33.] Predicted: [33.676136]\n",
      "Actual: [102.] Predicted: [107.62048]\n",
      "Actual: [46.] Predicted: [47.15026]\n",
      "Actual: [30.] Predicted: [29.69437]\n",
      "Actual: [0.] Predicted: [16.956326]\n",
      "Actual: [65.] Predicted: [81.69004]\n"
     ]
    }
   ],
   "source": [
    "# y_test와 y_pred를 numpy 배열로 변환합니다.\n",
    "# 정규화 하지 않은 데이터\n",
    "y_test_arr = np.array(y_test)\n",
    "y_pred_arr = np.array(y_pred)\n",
    "\n",
    "# 값들을 비교하면서 출력합니다.\n",
    "for i in range(50):\n",
    "    print(\"Actual:\", y_test_arr[i], \"Predicted:\", y_pred_arr[i])"
   ]
  },
  {
   "cell_type": "code",
   "execution_count": 247,
   "id": "05ec8575-a3b0-4184-af0c-b3f8da4de22b",
   "metadata": {
    "tags": []
   },
   "outputs": [
    {
     "name": "stdout",
     "output_type": "stream",
     "text": [
      "Actual: [145.] Predicted: [137.254]\n",
      "Actual: [78.] Predicted: [73.74152]\n",
      "Actual: [56.] Predicted: [53.198986]\n",
      "Actual: [108.] Predicted: [128.79097]\n",
      "Actual: [220.] Predicted: [187.18962]\n",
      "Actual: [43.] Predicted: [46.800457]\n",
      "Actual: [100.] Predicted: [88.934784]\n",
      "Actual: [156.] Predicted: [161.49066]\n",
      "Actual: [10.] Predicted: [8.983459]\n",
      "Actual: [11.] Predicted: [10.035362]\n",
      "Actual: [195.] Predicted: [200.47772]\n",
      "Actual: [153.] Predicted: [169.86134]\n",
      "Actual: [48.] Predicted: [18.613747]\n",
      "Actual: [15.] Predicted: [13.10841]\n",
      "Actual: [59.] Predicted: [73.91463]\n",
      "Actual: [145.] Predicted: [132.04257]\n",
      "Actual: [21.] Predicted: [20.742588]\n",
      "Actual: [42.] Predicted: [40.93881]\n",
      "Actual: [6.] Predicted: [6.1796494]\n",
      "Actual: [46.] Predicted: [58.963406]\n",
      "Actual: [3.] Predicted: [6.081856]\n",
      "Actual: [132.] Predicted: [123.98383]\n",
      "Actual: [3.] Predicted: [-0.7919541]\n",
      "Actual: [14.] Predicted: [12.979439]\n",
      "Actual: [370.] Predicted: [347.8837]\n",
      "Actual: [0.] Predicted: [14.553131]\n",
      "Actual: [140.] Predicted: [154.98233]\n",
      "Actual: [105.] Predicted: [126.15811]\n",
      "Actual: [91.] Predicted: [90.848404]\n",
      "Actual: [82.] Predicted: [183.14743]\n",
      "Actual: [18.] Predicted: [19.197117]\n",
      "Actual: [14.] Predicted: [13.218903]\n",
      "Actual: [370.] Predicted: [334.7753]\n",
      "Actual: [30.] Predicted: [26.209236]\n",
      "Actual: [130.] Predicted: [128.11838]\n",
      "Actual: [69.] Predicted: [69.457054]\n",
      "Actual: [13.] Predicted: [16.492783]\n",
      "Actual: [12.] Predicted: [19.153137]\n",
      "Actual: [41.] Predicted: [37.78141]\n",
      "Actual: [145.] Predicted: [132.04257]\n"
     ]
    }
   ],
   "source": [
    "# y_test와 y_pred를 numpy 배열로 변환합니다.\n",
    "# 정규화 한 데이터\n",
    "\n",
    "# 원래 스케일로 되돌리기\n",
    "# y_test = scaler.inverse_transform(y_test)\n",
    "# y_pred = scaler.inverse_transform(y_pred)\n",
    "\n",
    "# y_test_arr = np.array(y_test)\n",
    "# y_pred_arr = np.array(y_pred)\n",
    "\n",
    "# 값들을 비교하면서 출력합니다.\n",
    "for i in range(40):\n",
    "    print(\"Actual:\", y_test_arr[i], \"Predicted:\", y_pred_arr[i])"
   ]
  },
  {
   "cell_type": "code",
   "execution_count": 253,
   "id": "51e11ef7-d811-43bd-934d-3e16b4967934",
   "metadata": {
    "tags": []
   },
   "outputs": [
    {
     "name": "stdout",
     "output_type": "stream",
     "text": [
      "R^2 Score: -1.170233379217025\n"
     ]
    }
   ],
   "source": [
    "from sklearn.metrics import r2_score\n",
    "\n",
    "r2 = r2_score(y_test, y_pred)\n",
    "print(\"R^2 Score:\", r2)"
   ]
  },
  {
   "cell_type": "code",
   "execution_count": 252,
   "id": "7c42e339-0562-432f-8e3e-3db45cd3ef8f",
   "metadata": {
    "tags": []
   },
   "outputs": [
    {
     "name": "stdout",
     "output_type": "stream",
     "text": [
      "129/129 [==============================] - 1s 4ms/step - loss: 10423.9658\n",
      "Mean Squared Error: 10423.9658203125\n"
     ]
    }
   ],
   "source": [
    "mse = model.evaluate(X_test, y_test)\n",
    "print(\"Mean Squared Error:\", mse)"
   ]
  },
  {
   "cell_type": "code",
   "execution_count": null,
   "id": "5767c463-309e-48b2-b49b-d8fb6fb6426a",
   "metadata": {},
   "outputs": [],
   "source": []
  },
  {
   "cell_type": "code",
   "execution_count": null,
   "id": "a22dd2c1-8112-498e-88af-a4593265fb17",
   "metadata": {},
   "outputs": [],
   "source": []
  }
 ],
 "metadata": {
  "kernelspec": {
   "display_name": "venv",
   "language": "python",
   "name": "venv"
  },
  "language_info": {
   "codemirror_mode": {
    "name": "ipython",
    "version": 3
   },
   "file_extension": ".py",
   "mimetype": "text/x-python",
   "name": "python",
   "nbconvert_exporter": "python",
   "pygments_lexer": "ipython3",
   "version": "3.10.10"
  }
 },
 "nbformat": 4,
 "nbformat_minor": 5
}
