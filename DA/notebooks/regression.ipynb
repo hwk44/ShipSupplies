{
 "cells": [
  {
   "cell_type": "code",
   "execution_count": 67,
   "id": "41b37e2e-c378-490b-9f20-3989cc84f3f6",
   "metadata": {
    "tags": []
   },
   "outputs": [
    {
     "name": "stderr",
     "output_type": "stream",
     "text": [
      "C:\\Users\\SW\\AppData\\Local\\Temp\\ipykernel_988\\323329017.py:5: SettingWithCopyWarning: \n",
      "A value is trying to be set on a copy of a slice from a DataFrame.\n",
      "Try using .loc[row_indexer,col_indexer] = value instead\n",
      "\n",
      "See the caveats in the documentation: https://pandas.pydata.org/pandas-docs/stable/user_guide/indexing.html#returning-a-view-versus-a-copy\n",
      "  df1[\"leadtime\"] = df[\"리드타임\"].astype(int)\n"
     ]
    }
   ],
   "source": [
    "import pandas as pd\n",
    "from sklearn import preprocessing\n",
    "df = pd.read_csv('../data/raw_postpro.csv', encoding='cp949')\n",
    "df1 = df[[\"청구품목\", 'key2', '리드타임', '견적화폐' , '발주처']]\n",
    "df1[\"leadtime\"] = df[\"리드타임\"].astype(int)"
   ]
  },
  {
   "cell_type": "code",
   "execution_count": 68,
   "id": "e928b4a9-61c8-4161-811b-b9fadcc35642",
   "metadata": {
    "tags": []
   },
   "outputs": [
    {
     "data": {
      "text/plain": [
       "Index(['청구서번호', 'No.', 'Subject', 'Machinery', 'Assembly', '청구품목', 'Part No.1',\n",
       "       'Part No.2', 'key1', 'key2', '리드타임_음수제거', '청구량', '견적', '견적수량', '견적화폐',\n",
       "       '견적단가', '발주번호', '발주처', '발주', '발주수량', '발주금액', 'D/T', '미입고 기간', '리드타임',\n",
       "       '창고입고', '창고입고수량', 'Control No.', '입고창고', '창고출고', '창고출고수량', '출고선박',\n",
       "       '출고운반선', '선박입고', '선박입고수량', '완료 여부'],\n",
       "      dtype='object')"
      ]
     },
     "execution_count": 68,
     "metadata": {},
     "output_type": "execute_result"
    }
   ],
   "source": [
    "df.columns"
   ]
  },
  {
   "cell_type": "code",
   "execution_count": 69,
   "id": "4d77db52-7a06-4a89-ae40-eb0dfe6932ae",
   "metadata": {
    "tags": []
   },
   "outputs": [
    {
     "data": {
      "text/plain": [
       "0     194\n",
       "1      59\n",
       "2      61\n",
       "3     212\n",
       "4     220\n",
       "5      80\n",
       "6     100\n",
       "7      13\n",
       "8     117\n",
       "9      96\n",
       "10      2\n",
       "11    156\n",
       "12     72\n",
       "13     25\n",
       "14     49\n",
       "15     49\n",
       "16     49\n",
       "17     49\n",
       "18     56\n",
       "19     48\n",
       "20     56\n",
       "21     56\n",
       "22     28\n",
       "23      6\n",
       "24     56\n",
       "25     48\n",
       "26     56\n",
       "27     48\n",
       "28      6\n",
       "29      6\n",
       "30     32\n",
       "31      6\n",
       "32      6\n",
       "33      6\n",
       "34      6\n",
       "35      6\n",
       "36      6\n",
       "37      6\n",
       "38      6\n",
       "39      6\n",
       "40      6\n",
       "41      6\n",
       "42      6\n",
       "43      6\n",
       "44      6\n",
       "45      6\n",
       "46      6\n",
       "47      6\n",
       "48     62\n",
       "49     62\n",
       "Name: leadtime, dtype: int32"
      ]
     },
     "execution_count": 69,
     "metadata": {},
     "output_type": "execute_result"
    }
   ],
   "source": [
    "# df[\"리드타임\"] = df[\"리드타임\"].astype(float)\n",
    "# df[\"key2\"] = df[\"key2\"].astype(int)\n",
    "df1[\"leadtime\"].iloc[:50,]"
   ]
  },
  {
   "cell_type": "code",
   "execution_count": 70,
   "id": "b213adda-cbca-441a-9df6-d150c4be75d1",
   "metadata": {
    "tags": []
   },
   "outputs": [
    {
     "data": {
      "text/html": [
       "<div>\n",
       "<style scoped>\n",
       "    .dataframe tbody tr th:only-of-type {\n",
       "        vertical-align: middle;\n",
       "    }\n",
       "\n",
       "    .dataframe tbody tr th {\n",
       "        vertical-align: top;\n",
       "    }\n",
       "\n",
       "    .dataframe thead th {\n",
       "        text-align: right;\n",
       "    }\n",
       "</style>\n",
       "<table border=\"1\" class=\"dataframe\">\n",
       "  <thead>\n",
       "    <tr style=\"text-align: right;\">\n",
       "      <th></th>\n",
       "      <th>청구품목</th>\n",
       "      <th>key2</th>\n",
       "      <th>리드타임</th>\n",
       "      <th>견적화폐</th>\n",
       "      <th>발주처</th>\n",
       "      <th>leadtime</th>\n",
       "    </tr>\n",
       "  </thead>\n",
       "  <tbody>\n",
       "    <tr>\n",
       "      <th>0</th>\n",
       "      <td>SEAL-O-RING-STOR</td>\n",
       "      <td>COOLER</td>\n",
       "      <td>194</td>\n",
       "      <td>KRW</td>\n",
       "      <td>HAEIN Coporation_Cheonan</td>\n",
       "      <td>194</td>\n",
       "    </tr>\n",
       "    <tr>\n",
       "      <th>1</th>\n",
       "      <td>OIL COOLER &amp; LINES</td>\n",
       "      <td>COOLER</td>\n",
       "      <td>59</td>\n",
       "      <td>KRW</td>\n",
       "      <td>HAEIN Coporation_Cheonan</td>\n",
       "      <td>59</td>\n",
       "    </tr>\n",
       "    <tr>\n",
       "      <th>2</th>\n",
       "      <td>WASHER</td>\n",
       "      <td>COOLER</td>\n",
       "      <td>61</td>\n",
       "      <td>KRW</td>\n",
       "      <td>HAEIN Coporation_Cheonan</td>\n",
       "      <td>61</td>\n",
       "    </tr>\n",
       "    <tr>\n",
       "      <th>3</th>\n",
       "      <td>BOLT-HIGH TEMP</td>\n",
       "      <td>COOLER</td>\n",
       "      <td>212</td>\n",
       "      <td>KRW</td>\n",
       "      <td>HAEIN Coporation_Cheonan</td>\n",
       "      <td>212</td>\n",
       "    </tr>\n",
       "    <tr>\n",
       "      <th>4</th>\n",
       "      <td>SEAL</td>\n",
       "      <td>COOLER</td>\n",
       "      <td>220</td>\n",
       "      <td>KRW</td>\n",
       "      <td>HAEIN Coporation_Cheonan</td>\n",
       "      <td>220</td>\n",
       "    </tr>\n",
       "    <tr>\n",
       "      <th>...</th>\n",
       "      <td>...</td>\n",
       "      <td>...</td>\n",
       "      <td>...</td>\n",
       "      <td>...</td>\n",
       "      <td>...</td>\n",
       "      <td>...</td>\n",
       "    </tr>\n",
       "    <tr>\n",
       "      <th>20512</th>\n",
       "      <td>HYD. CYLINDER_NET BOAT DAVIT</td>\n",
       "      <td>CYLINDER</td>\n",
       "      <td>95</td>\n",
       "      <td>JPY</td>\n",
       "      <td>MARINE HYDROTEC CO.,LTD.</td>\n",
       "      <td>95</td>\n",
       "    </tr>\n",
       "    <tr>\n",
       "      <th>20513</th>\n",
       "      <td>HYD. CYLINDER_N.D CRANE_BOOM_LIFTER</td>\n",
       "      <td>CYLINDER</td>\n",
       "      <td>67</td>\n",
       "      <td>JPY</td>\n",
       "      <td>MARINE HYDROTEC CO.,LTD.</td>\n",
       "      <td>67</td>\n",
       "    </tr>\n",
       "    <tr>\n",
       "      <th>20514</th>\n",
       "      <td>PULLY</td>\n",
       "      <td>BELT</td>\n",
       "      <td>25</td>\n",
       "      <td>JPY</td>\n",
       "      <td>PORT RELIEF ENGINEERING CO.,LTD.</td>\n",
       "      <td>25</td>\n",
       "    </tr>\n",
       "    <tr>\n",
       "      <th>20515</th>\n",
       "      <td>CYLINDER</td>\n",
       "      <td>CYLINDER</td>\n",
       "      <td>25</td>\n",
       "      <td>JPY</td>\n",
       "      <td>PORT RELIEF ENGINEERING CO.,LTD.</td>\n",
       "      <td>25</td>\n",
       "    </tr>\n",
       "    <tr>\n",
       "      <th>20516</th>\n",
       "      <td>SEAL KIT FOR CYLINDER</td>\n",
       "      <td>CYLINDER</td>\n",
       "      <td>25</td>\n",
       "      <td>JPY</td>\n",
       "      <td>PORT RELIEF ENGINEERING CO.,LTD.</td>\n",
       "      <td>25</td>\n",
       "    </tr>\n",
       "  </tbody>\n",
       "</table>\n",
       "<p>20517 rows × 6 columns</p>\n",
       "</div>"
      ],
      "text/plain": [
       "                                      청구품목      key2  리드타임 견적화폐   \n",
       "0                         SEAL-O-RING-STOR    COOLER   194  KRW  \\\n",
       "1                       OIL COOLER & LINES    COOLER    59  KRW   \n",
       "2                                   WASHER    COOLER    61  KRW   \n",
       "3                           BOLT-HIGH TEMP    COOLER   212  KRW   \n",
       "4                                     SEAL    COOLER   220  KRW   \n",
       "...                                    ...       ...   ...  ...   \n",
       "20512         HYD. CYLINDER_NET BOAT DAVIT  CYLINDER    95  JPY   \n",
       "20513  HYD. CYLINDER_N.D CRANE_BOOM_LIFTER  CYLINDER    67  JPY   \n",
       "20514                                PULLY      BELT    25  JPY   \n",
       "20515                            CYLINDER   CYLINDER    25  JPY   \n",
       "20516                SEAL KIT FOR CYLINDER  CYLINDER    25  JPY   \n",
       "\n",
       "                                    발주처  leadtime  \n",
       "0              HAEIN Coporation_Cheonan       194  \n",
       "1              HAEIN Coporation_Cheonan        59  \n",
       "2              HAEIN Coporation_Cheonan        61  \n",
       "3              HAEIN Coporation_Cheonan       212  \n",
       "4              HAEIN Coporation_Cheonan       220  \n",
       "...                                 ...       ...  \n",
       "20512          MARINE HYDROTEC CO.,LTD.        95  \n",
       "20513          MARINE HYDROTEC CO.,LTD.        67  \n",
       "20514  PORT RELIEF ENGINEERING CO.,LTD.        25  \n",
       "20515  PORT RELIEF ENGINEERING CO.,LTD.        25  \n",
       "20516  PORT RELIEF ENGINEERING CO.,LTD.        25  \n",
       "\n",
       "[20517 rows x 6 columns]"
      ]
     },
     "execution_count": 70,
     "metadata": {},
     "output_type": "execute_result"
    }
   ],
   "source": [
    "df1"
   ]
  },
  {
   "cell_type": "code",
   "execution_count": 27,
   "id": "bfe55754-c719-447e-b391-0068d08d061f",
   "metadata": {
    "tags": []
   },
   "outputs": [
    {
     "name": "stderr",
     "output_type": "stream",
     "text": [
      "C:\\Users\\SW\\AppData\\Local\\Temp\\ipykernel_988\\3532539691.py:8: SettingWithCopyWarning: \n",
      "A value is trying to be set on a copy of a slice from a DataFrame.\n",
      "Try using .loc[row_indexer,col_indexer] = value instead\n",
      "\n",
      "See the caveats in the documentation: https://pandas.pydata.org/pandas-docs/stable/user_guide/indexing.html#returning-a-view-versus-a-copy\n",
      "  df1['leadtime+1'] = leadtime_val\n"
     ]
    }
   ],
   "source": [
    "# 컬럼 값을 배열로 변환\n",
    "leadtime_val = df1['leadtime'].values\n",
    "\n",
    "# 로그 변환 전에 1을 더함\n",
    "leadtime_val = np.log(leadtime_val + 1)\n",
    "\n",
    "# 컬럼 추가\n",
    "df1['leadtime+1'] = leadtime_val\n",
    "# df1"
   ]
  },
  {
   "cell_type": "code",
   "execution_count": 78,
   "id": "2d7ce4a7-1efd-48d9-8f70-883ca384cbd7",
   "metadata": {
    "tags": []
   },
   "outputs": [
    {
     "name": "stdout",
     "output_type": "stream",
     "text": [
      "평균: 75.87961202904908\n",
      "분산: 4859.405207472425\n"
     ]
    }
   ],
   "source": [
    "lead = df1['leadtime']\n",
    "mean = np.mean(lead)\n",
    "\n",
    "# 분산 계산\n",
    "variance = np.var(lead)\n",
    "\n",
    "# 결과 출력\n",
    "print(\"평균:\", mean)\n",
    "print(\"분산:\", variance)"
   ]
  },
  {
   "cell_type": "code",
   "execution_count": 74,
   "id": "f29203f2-ce8c-4ab8-b270-d170ec18b7e9",
   "metadata": {
    "tags": []
   },
   "outputs": [
    {
     "data": {
      "text/plain": [
       "0        194\n",
       "1         59\n",
       "2         61\n",
       "3        212\n",
       "4        220\n",
       "        ... \n",
       "20512     95\n",
       "20513     67\n",
       "20514     25\n",
       "20515     25\n",
       "20516     25\n",
       "Name: leadtime, Length: 20517, dtype: int32"
      ]
     },
     "execution_count": 74,
     "metadata": {},
     "output_type": "execute_result"
    }
   ],
   "source": [
    "df1['leadtime']"
   ]
  },
  {
   "cell_type": "code",
   "execution_count": 75,
   "id": "a2f55746-570f-4c98-b6f0-2e367724d9cc",
   "metadata": {
    "tags": []
   },
   "outputs": [
    {
     "name": "stderr",
     "output_type": "stream",
     "text": [
      "C:\\Users\\SW\\AppData\\Local\\Temp\\ipykernel_988\\3542545691.py:15: SettingWithCopyWarning: \n",
      "A value is trying to be set on a copy of a slice from a DataFrame.\n",
      "Try using .loc[row_indexer,col_indexer] = value instead\n",
      "\n",
      "See the caveats in the documentation: https://pandas.pydata.org/pandas-docs/stable/user_guide/indexing.html#returning-a-view-versus-a-copy\n",
      "  X[col] = label_encoder.fit_transform(X[col])\n",
      "C:\\Users\\SW\\AppData\\Local\\Temp\\ipykernel_988\\3542545691.py:15: SettingWithCopyWarning: \n",
      "A value is trying to be set on a copy of a slice from a DataFrame.\n",
      "Try using .loc[row_indexer,col_indexer] = value instead\n",
      "\n",
      "See the caveats in the documentation: https://pandas.pydata.org/pandas-docs/stable/user_guide/indexing.html#returning-a-view-versus-a-copy\n",
      "  X[col] = label_encoder.fit_transform(X[col])\n",
      "C:\\Users\\SW\\AppData\\Local\\Temp\\ipykernel_988\\3542545691.py:15: SettingWithCopyWarning: \n",
      "A value is trying to be set on a copy of a slice from a DataFrame.\n",
      "Try using .loc[row_indexer,col_indexer] = value instead\n",
      "\n",
      "See the caveats in the documentation: https://pandas.pydata.org/pandas-docs/stable/user_guide/indexing.html#returning-a-view-versus-a-copy\n",
      "  X[col] = label_encoder.fit_transform(X[col])\n",
      "C:\\Users\\SW\\AppData\\Local\\Temp\\ipykernel_988\\3542545691.py:15: SettingWithCopyWarning: \n",
      "A value is trying to be set on a copy of a slice from a DataFrame.\n",
      "Try using .loc[row_indexer,col_indexer] = value instead\n",
      "\n",
      "See the caveats in the documentation: https://pandas.pydata.org/pandas-docs/stable/user_guide/indexing.html#returning-a-view-versus-a-copy\n",
      "  X[col] = label_encoder.fit_transform(X[col])\n"
     ]
    }
   ],
   "source": [
    "from sklearn.model_selection import train_test_split\n",
    "from sklearn.preprocessing import LabelEncoder\n",
    "from keras.models import Sequential\n",
    "from keras.layers import Dense\n",
    "import numpy as np\n",
    "\n",
    "# 입력과 출력 데이터 분리\n",
    "X = df1[[\"청구품목\", 'key2', '견적화폐' , '발주처']]\n",
    "y = df1['leadtime']\n",
    "# y = df1['leadtime+1']\n",
    " \n",
    "# LabelEncoder를 사용하여 범주형 변수를 정수로 인코딩\n",
    "label_encoder = LabelEncoder()\n",
    "for col in X.columns:\n",
    "    X[col] = label_encoder.fit_transform(X[col])\n",
    "\n",
    "    \n",
    "# 정규화 대신에\n",
    "# 로그 변환 \n",
    "y = np.log(y+1)\n",
    "# df['leadtime'] = np.log(df['leadtime'])\n",
    "    \n",
    "# y # 정규화\n",
    "# from sklearn.preprocessing import StandardScaler\n",
    "\n",
    "# 정규화할 y 값\n",
    "# y = df1['leadtime']\n",
    "\n",
    "# StandardScaler 객체 생성\n",
    "# scaler = StandardScaler()\n",
    "\n",
    "# y_normalized = scaler.fit_transform(y.values.reshape(-1, 1))    \n",
    "\n",
    "# RobustScaler 객체 생성\n",
    "# from sklearn.preprocessing import RobustScaler\n",
    "# scaler = RobustScaler()\n",
    "# 'leadtime' 컬럼에 로버스트 스케일링 적용\n",
    "# y = np.array(y)\n",
    "# y = y.reshape((-1, 1))\n",
    "# y = scaler.fit_transform(y)\n",
    "\n",
    "\n",
    "# X_train, X_test, y_train, y_test = train_test_split(X, y_normalized, test_size=0.2, random_state=42) # y 정규화 한 y_normalized\n",
    "X_train, X_test, y_train, y_test = train_test_split(X, y, test_size=0.2, random_state=42) \n",
    "\n",
    "# 회귀 모델 구축\n",
    "model = Sequential()\n",
    "model.add(Dense(128, activation='relu', input_dim=X_train.shape[1]))\n",
    "model.add(Dense(64, activation='relu'))\n",
    "model.add(Dense(32, activation='relu'))\n",
    "model.add(Dense(1))\n"
   ]
  },
  {
   "cell_type": "code",
   "execution_count": 76,
   "id": "6576255e-e08e-4d8c-be0f-6d9afadc0d9f",
   "metadata": {
    "tags": []
   },
   "outputs": [
    {
     "data": {
      "text/plain": [
       "(1493     4.983607\n",
       " 8503     4.369448\n",
       " 7408     4.043051\n",
       " 3509     4.691348\n",
       " 5927     5.398163\n",
       "            ...   \n",
       " 17651    3.912023\n",
       " 9659     4.290459\n",
       " 13418    1.791759\n",
       " 8410     0.000000\n",
       " 16062    4.394449\n",
       " Name: leadtime, Length: 4104, dtype: float64,\n",
       " 7854     2.564949\n",
       " 20118    4.317488\n",
       " 8523     1.609438\n",
       " 18477    3.610918\n",
       " 483      4.127134\n",
       "            ...   \n",
       " 11284    2.564949\n",
       " 11964    5.056246\n",
       " 5390     0.693147\n",
       " 860      0.000000\n",
       " 15795    2.197225\n",
       " Name: leadtime, Length: 16413, dtype: float64)"
      ]
     },
     "execution_count": 76,
     "metadata": {},
     "output_type": "execute_result"
    }
   ],
   "source": [
    "y_test, y_train"
   ]
  },
  {
   "cell_type": "code",
   "execution_count": null,
   "id": "10e74096-d9b9-475f-a859-955df3ec2e07",
   "metadata": {},
   "outputs": [],
   "source": []
  },
  {
   "cell_type": "code",
   "execution_count": null,
   "id": "a1249c80-30c5-45e0-83e4-9f3004915b55",
   "metadata": {},
   "outputs": [],
   "source": []
  },
  {
   "cell_type": "code",
   "execution_count": 67,
   "id": "62ed2b68-73f5-4c8c-b0a8-fc4151960900",
   "metadata": {
    "tags": []
   },
   "outputs": [
    {
     "data": {
      "text/plain": [
       "(array([[-0.53409091],\n",
       "        [ 0.17045455],\n",
       "        [-0.625     ],\n",
       "        ...,\n",
       "        [-0.65909091],\n",
       "        [-0.67045455],\n",
       "        [-0.57954545]]),\n",
       " array([[ 0.97727273],\n",
       "        [ 0.21590909],\n",
       "        [-0.03409091],\n",
       "        ...,\n",
       "        [-0.61363636],\n",
       "        [-0.67045455],\n",
       "        [ 0.23863636]]))"
      ]
     },
     "execution_count": 67,
     "metadata": {},
     "output_type": "execute_result"
    }
   ],
   "source": [
    "# # y # 정규화\n",
    "# from sklearn.preprocessing import StandardScaler\n",
    "\n",
    "# # 정규화할 y 값\n",
    "# y = df1['leadtime']\n",
    "\n",
    "# # StandardScaler 객체 생성\n",
    "# scaler = StandardScaler()\n",
    "\n",
    "# # y 값 정규화\n",
    "# y_normalized = scaler.fit_transform(y.values.reshape(-1, 1))\n",
    "\n",
    "# # 정규화된 y 값 출력\n",
    "# print(y_normalized.shape)\n",
    "y_train, y_test"
   ]
  },
  {
   "cell_type": "code",
   "execution_count": 18,
   "id": "7f44c135-8ba6-4c07-93c8-53fc238fb705",
   "metadata": {
    "tags": []
   },
   "outputs": [],
   "source": []
  },
  {
   "cell_type": "code",
   "execution_count": 190,
   "id": "fda7004e-d4b4-42b6-82f9-2265fae4c55f",
   "metadata": {
    "tags": []
   },
   "outputs": [],
   "source": [
    "from sklearn.model_selection import train_test_split\n",
    "from sklearn.preprocessing import LabelEncoder\n",
    "from keras.models import Sequential\n",
    "from keras.layers import Dense\n",
    "\n",
    "# 학습 및 테스트 데이터 분할\n",
    "X_train, X_test, y_train, y_test = train_test_split(X, y_normalized, test_size=0.2, random_state=42)\n",
    "\n",
    "# 회귀 모델 구축\n",
    "model = Sequential()\n",
    "model.add(Dense(128, activation='relu', input_dim=X_train.shape[1]))\n",
    "model.add(Dense(64, activation='relu'))\n",
    "model.add(Dense(32, activation='relu'))\n",
    "model.add(Dense(1))"
   ]
  },
  {
   "cell_type": "code",
   "execution_count": null,
   "id": "e547e8b8-9d37-4b3d-96a7-304dbc71c23c",
   "metadata": {},
   "outputs": [],
   "source": []
  },
  {
   "cell_type": "code",
   "execution_count": null,
   "id": "c8b4e425-50f4-4c20-ac98-9aebec015f9c",
   "metadata": {},
   "outputs": [],
   "source": []
  },
  {
   "cell_type": "code",
   "execution_count": 77,
   "id": "950cc739-87b4-4eef-9102-09634f6ef390",
   "metadata": {
    "tags": []
   },
   "outputs": [],
   "source": [
    "# 모델 컴파일\n",
    "model.compile(optimizer='adam', loss='mean_squared_error')"
   ]
  },
  {
   "cell_type": "code",
   "execution_count": 78,
   "id": "fc4a780d-93c7-4015-bdae-e7e6f3465e41",
   "metadata": {
    "tags": []
   },
   "outputs": [
    {
     "name": "stdout",
     "output_type": "stream",
     "text": [
      "Epoch 1/15\n",
      "513/513 [==============================] - 1s 819us/step - loss: 46.1961\n",
      "Epoch 2/15\n",
      "513/513 [==============================] - 0s 801us/step - loss: 8.5670\n",
      "Epoch 3/15\n",
      "513/513 [==============================] - 0s 835us/step - loss: 14.4204\n",
      "Epoch 4/15\n",
      "513/513 [==============================] - 0s 821us/step - loss: 9.6380\n",
      "Epoch 5/15\n",
      "513/513 [==============================] - 0s 817us/step - loss: 5.2195\n",
      "Epoch 6/15\n",
      "513/513 [==============================] - 0s 845us/step - loss: 9.0231\n",
      "Epoch 7/15\n",
      "513/513 [==============================] - 0s 817us/step - loss: 3.3240\n",
      "Epoch 8/15\n",
      "513/513 [==============================] - 0s 849us/step - loss: 3.9524\n",
      "Epoch 9/15\n",
      "513/513 [==============================] - 0s 839us/step - loss: 3.7343\n",
      "Epoch 10/15\n",
      "513/513 [==============================] - 0s 846us/step - loss: 2.6680\n",
      "Epoch 11/15\n",
      "513/513 [==============================] - 0s 835us/step - loss: 3.0898\n",
      "Epoch 12/15\n",
      "513/513 [==============================] - 0s 820us/step - loss: 3.4187\n",
      "Epoch 13/15\n",
      "513/513 [==============================] - 0s 818us/step - loss: 2.8503\n",
      "Epoch 14/15\n",
      "513/513 [==============================] - 0s 838us/step - loss: 2.4094\n",
      "Epoch 15/15\n",
      "513/513 [==============================] - 0s 855us/step - loss: 2.3041\n"
     ]
    },
    {
     "data": {
      "text/plain": [
       "<keras.callbacks.History at 0x214c964c580>"
      ]
     },
     "execution_count": 78,
     "metadata": {},
     "output_type": "execute_result"
    }
   ],
   "source": [
    "# 모델 학습\n",
    "model.fit(X_train, y_train, epochs=15, batch_size=32)"
   ]
  },
  {
   "cell_type": "code",
   "execution_count": 79,
   "id": "c1ea695c-baa7-4d01-8faa-ddd0da5d560c",
   "metadata": {
    "tags": []
   },
   "outputs": [
    {
     "name": "stdout",
     "output_type": "stream",
     "text": [
      "129/129 [==============================] - 0s 678us/step - loss: 1.3782\n"
     ]
    }
   ],
   "source": [
    "# 모델 평가\n",
    "loss = model.evaluate(X_test, y_test)"
   ]
  },
  {
   "cell_type": "code",
   "execution_count": 80,
   "id": "4d6e9a82-b4da-4e43-b95c-acc79f218316",
   "metadata": {
    "tags": []
   },
   "outputs": [
    {
     "name": "stdout",
     "output_type": "stream",
     "text": [
      "129/129 [==============================] - 0s 600us/step\n"
     ]
    }
   ],
   "source": [
    "# 예측\n",
    "predictions = model.predict(X_test)"
   ]
  },
  {
   "cell_type": "code",
   "execution_count": 81,
   "id": "69c1d6e0-2a99-42ee-b923-860cc57d4322",
   "metadata": {
    "tags": []
   },
   "outputs": [
    {
     "data": {
      "text/plain": [
       "(1493     4.983607\n",
       " 8503     4.369448\n",
       " 7408     4.043051\n",
       " 3509     4.691348\n",
       " 5927     5.398163\n",
       "            ...   \n",
       " 17651    3.912023\n",
       " 9659     4.290459\n",
       " 13418    1.791759\n",
       " 8410     0.000000\n",
       " 16062    4.394449\n",
       " Name: leadtime, Length: 4104, dtype: float64,\n",
       " array([[3.9088748],\n",
       "        [3.689872 ],\n",
       "        [3.803645 ],\n",
       "        ...,\n",
       "        [3.3755481],\n",
       "        [3.4619353],\n",
       "        [3.3363895]], dtype=float32))"
      ]
     },
     "execution_count": 81,
     "metadata": {},
     "output_type": "execute_result"
    }
   ],
   "source": [
    "y_test, predictions"
   ]
  },
  {
   "cell_type": "code",
   "execution_count": 82,
   "id": "007c6514-eb3c-44a7-a9aa-3d23b382ff80",
   "metadata": {
    "tags": []
   },
   "outputs": [],
   "source": [
    "y_test = np.exp(y_test)-1\n",
    "predictions = np.exp(predictions)-1"
   ]
  },
  {
   "cell_type": "code",
   "execution_count": 93,
   "id": "e6132315-feed-4a80-9f7e-bb186c5556de",
   "metadata": {
    "tags": []
   },
   "outputs": [
    {
     "data": {
      "text/plain": [
       "(pandas.core.series.Series, numpy.ndarray)"
      ]
     },
     "execution_count": 93,
     "metadata": {},
     "output_type": "execute_result"
    }
   ],
   "source": [
    "type(y_test), type(predictions)#.shape, predictions.shape\n",
    "# for i in range(100):\n",
    "    # print(f\"실제 시간: {y_test[i]}\")\n",
    "# y_test[:]"
   ]
  },
  {
   "cell_type": "code",
   "execution_count": 98,
   "id": "5c877c68-5810-4729-9132-c6fb1479b6a7",
   "metadata": {
    "tags": []
   },
   "outputs": [
    {
     "data": {
      "text/plain": [
       "((4104,), (4104, 1))"
      ]
     },
     "execution_count": 98,
     "metadata": {},
     "output_type": "execute_result"
    }
   ],
   "source": [
    "# y_test = y_test.values\n",
    "y_test.shape,predictions.shape"
   ]
  },
  {
   "cell_type": "code",
   "execution_count": 55,
   "id": "c51830e6-d815-4430-b73b-418e085eb599",
   "metadata": {
    "tags": []
   },
   "outputs": [],
   "source": [
    "# 원래 스케일로 되돌리기\n",
    "y_test = scaler.inverse_transform(y_test)\n",
    "predictions = scaler.inverse_transform(predictions)"
   ]
  },
  {
   "cell_type": "code",
   "execution_count": null,
   "id": "f52ef9a4-5f1b-41db-9db8-2d5839d14509",
   "metadata": {},
   "outputs": [],
   "source": []
  },
  {
   "cell_type": "code",
   "execution_count": null,
   "id": "96f53862-da55-4702-8788-19176aff3505",
   "metadata": {},
   "outputs": [],
   "source": []
  },
  {
   "cell_type": "code",
   "execution_count": 100,
   "id": "d12f997f-fbea-4a85-bcb7-554da181b1ef",
   "metadata": {
    "tags": []
   },
   "outputs": [
    {
     "name": "stdout",
     "output_type": "stream",
     "text": [
      "실제 시간: 145.0, 예측 시간: 48.842838287353516\n",
      "실제 시간: 78.0, 예측 시간: 39.03972244262695\n",
      "실제 시간: 56.00000000000001, 예측 시간: 43.86441421508789\n",
      "실제 시간: 107.99999999999997, 예측 시간: 41.13968276977539\n",
      "실제 시간: 219.99999999999991, 예측 시간: 24.366891860961914\n",
      "실제 시간: 42.99999999999999, 예측 시간: 46.24018478393555\n",
      "실제 시간: 100.00000000000003, 예측 시간: 27.40373420715332\n",
      "실제 시간: 155.99999999999994, 예측 시간: 35.377201080322266\n",
      "실제 시간: 10.000000000000002, 예측 시간: 31.375652313232422\n",
      "실제 시간: 11.0, 예측 시간: 19.52713966369629\n",
      "실제 시간: 194.99999999999991, 예측 시간: 56.42695236206055\n",
      "실제 시간: 153.00000000000006, 예측 시간: 30.709692001342773\n",
      "실제 시간: 47.99999999999999, 예측 시간: 50.7730712890625\n",
      "실제 시간: 14.999999999999998, 예측 시간: 17.339994430541992\n",
      "실제 시간: 58.999999999999986, 예측 시간: 27.469881057739258\n",
      "실제 시간: 145.0, 예측 시간: 41.238277435302734\n",
      "실제 시간: 21.000000000000004, 예측 시간: 19.050567626953125\n",
      "실제 시간: 42.0, 예측 시간: 15.534904479980469\n",
      "실제 시간: 5.999999999999999, 예측 시간: 33.488197326660156\n",
      "실제 시간: 45.99999999999999, 예측 시간: 37.1999397277832\n",
      "실제 시간: 3.0, 예측 시간: 29.838050842285156\n",
      "실제 시간: 132.0, 예측 시간: 49.36528778076172\n",
      "실제 시간: 3.0, 예측 시간: 24.098834991455078\n",
      "실제 시간: 14.0, 예측 시간: 26.619569778442383\n",
      "실제 시간: 369.99999999999994, 예측 시간: 87.4325942993164\n",
      "실제 시간: 0.0, 예측 시간: 32.605655670166016\n",
      "실제 시간: 140.00000000000003, 예측 시간: 42.330291748046875\n",
      "실제 시간: 104.99999999999997, 예측 시간: 57.21142578125\n",
      "실제 시간: 91.00000000000001, 예측 시간: 15.040346145629883\n",
      "실제 시간: 82.00000000000003, 예측 시간: 62.7073974609375\n",
      "실제 시간: 17.999999999999996, 예측 시간: 24.12541961669922\n",
      "실제 시간: 14.0, 예측 시간: 36.98344802856445\n",
      "실제 시간: 369.99999999999994, 예측 시간: 83.13829040527344\n",
      "실제 시간: 30.0, 예측 시간: 9.561579704284668\n",
      "실제 시간: 129.99999999999994, 예측 시간: 59.322044372558594\n",
      "실제 시간: 69.00000000000003, 예측 시간: 11.797012329101562\n",
      "실제 시간: 12.999999999999996, 예측 시간: 30.440670013427734\n",
      "실제 시간: 12.0, 예측 시간: 24.794307708740234\n",
      "실제 시간: 41.00000000000001, 예측 시간: 48.844024658203125\n",
      "실제 시간: 145.0, 예측 시간: 43.86441421508789\n",
      "실제 시간: 117.00000000000004, 예측 시간: 23.34280776977539\n",
      "실제 시간: 31.0, 예측 시간: 29.915294647216797\n",
      "실제 시간: 3.999999999999999, 예측 시간: 23.02117347717285\n",
      "실제 시간: 53.00000000000001, 예측 시간: 46.24009323120117\n",
      "실제 시간: 33.00000000000001, 예측 시간: 22.670433044433594\n",
      "실제 시간: 102.00000000000001, 예측 시간: 76.00286102294922\n",
      "실제 시간: 45.99999999999999, 예측 시간: 35.18149948120117\n",
      "실제 시간: 30.0, 예측 시간: 9.556163787841797\n",
      "실제 시간: 0.0, 예측 시간: 44.40756607055664\n",
      "실제 시간: 64.99999999999997, 예측 시간: 17.627212524414062\n",
      "실제 시간: 67.00000000000001, 예측 시간: 43.039310455322266\n",
      "실제 시간: 12.0, 예측 시간: 32.00026321411133\n",
      "실제 시간: 97.00000000000004, 예측 시간: 72.02448272705078\n",
      "실제 시간: 5.999999999999999, 예측 시간: 19.257612228393555\n",
      "실제 시간: 53.00000000000001, 예측 시간: 43.77326583862305\n",
      "실제 시간: 94.0, 예측 시간: 42.58162307739258\n",
      "실제 시간: 10.000000000000002, 예측 시간: 47.879764556884766\n",
      "실제 시간: 12.0, 예측 시간: 22.974267959594727\n",
      "실제 시간: 14.0, 예측 시간: 24.974754333496094\n",
      "실제 시간: 78.0, 예측 시간: 67.52738952636719\n",
      "실제 시간: 153.00000000000006, 예측 시간: 35.98321533203125\n",
      "실제 시간: 121.99999999999994, 예측 시간: 20.769033432006836\n",
      "실제 시간: 12.0, 예측 시간: 23.665908813476562\n",
      "실제 시간: 26.999999999999996, 예측 시간: 23.550552368164062\n",
      "실제 시간: 78.0, 예측 시간: 41.238277435302734\n",
      "실제 시간: 99.00000000000004, 예측 시간: 53.581661224365234\n",
      "실제 시간: 10.000000000000002, 예측 시간: 23.799732208251953\n",
      "실제 시간: 118.99999999999997, 예측 시간: 68.16001892089844\n",
      "실제 시간: 82.99999999999999, 예측 시간: 39.03972244262695\n",
      "실제 시간: 0.0, 예측 시간: 29.827022552490234\n",
      "실제 시간: 48.99999999999999, 예측 시간: 23.666439056396484\n",
      "실제 시간: 107.00000000000003, 예측 시간: 15.565643310546875\n",
      "실제 시간: 180.00000000000006, 예측 시간: 30.96967315673828\n",
      "실제 시간: 12.0, 예측 시간: 22.88082504272461\n",
      "실제 시간: 107.00000000000003, 예측 시간: 17.999732971191406\n",
      "실제 시간: 3.0, 예측 시간: 20.66722297668457\n",
      "실제 시간: 5.999999999999999, 예측 시간: 18.96493148803711\n",
      "실제 시간: 219.99999999999991, 예측 시간: 24.494646072387695\n",
      "실제 시간: 73.99999999999997, 예측 시간: 59.68292236328125\n",
      "실제 시간: 45.0, 예측 시간: 32.180992126464844\n",
      "실제 시간: 140.00000000000003, 예측 시간: 33.488197326660156\n",
      "실제 시간: 12.999999999999996, 예측 시간: 24.30911636352539\n",
      "실제 시간: 69.00000000000003, 예측 시간: 68.83819580078125\n",
      "실제 시간: 16.0, 예측 시간: 18.902151107788086\n",
      "실제 시간: 84.99999999999997, 예측 시간: 28.907939910888672\n",
      "실제 시간: 91.00000000000001, 예측 시간: 30.66714096069336\n",
      "실제 시간: 419.9999999999999, 예측 시간: 27.22616195678711\n",
      "실제 시간: 14.0, 예측 시간: 20.7171630859375\n",
      "실제 시간: 56.00000000000001, 예측 시간: 42.330291748046875\n",
      "실제 시간: 136.00000000000003, 예측 시간: 87.59196472167969\n",
      "실제 시간: 77.0, 예측 시간: 43.7342529296875\n",
      "실제 시간: 0.0, 예측 시간: 28.92177391052246\n",
      "실제 시간: 8.000000000000002, 예측 시간: 30.4305362701416\n",
      "실제 시간: 71.0, 예측 시간: 28.745044708251953\n",
      "실제 시간: 56.00000000000001, 예측 시간: 29.011354446411133\n",
      "실제 시간: 6.999999999999998, 예측 시간: 43.66751480102539\n",
      "실제 시간: 120.00000000000003, 예측 시간: 48.844024658203125\n",
      "실제 시간: 56.00000000000001, 예측 시간: 47.618553161621094\n",
      "실제 시간: 70.0, 예측 시간: 27.409669876098633\n",
      "실제 시간: 23.000000000000004, 예측 시간: 75.28555297851562\n"
     ]
    }
   ],
   "source": [
    "# 정규화된 y 예측 결과 확인\n",
    "for i in range(100):\n",
    "    print(f\"실제 시간: {y_test[i]}, 예측 시간: {predictions[i][0]}\")"
   ]
  },
  {
   "cell_type": "code",
   "execution_count": null,
   "id": "01bf91d8-f090-4e37-894d-935b845ec68f",
   "metadata": {},
   "outputs": [],
   "source": []
  },
  {
   "cell_type": "code",
   "execution_count": 47,
   "id": "9181c8fc-ad09-4ae0-9d06-2678db2e378e",
   "metadata": {
    "tags": []
   },
   "outputs": [
    {
     "data": {
      "text/plain": [
       "array([[10183.74756166],\n",
       "       [ 5513.21547459],\n",
       "       [ 3979.60792361],\n",
       "       ...,\n",
       "       [  424.42678271],\n",
       "       [   75.87961203],\n",
       "       [ 5652.63434286]])"
      ]
     },
     "execution_count": 47,
     "metadata": {},
     "output_type": "execute_result"
    }
   ],
   "source": [
    "y_test = scaler.inverse_transform(y_test)\n",
    "y_test"
   ]
  },
  {
   "cell_type": "code",
   "execution_count": 48,
   "id": "b277e6c3-e1ed-4cc1-be88-996187acc061",
   "metadata": {
    "tags": []
   },
   "outputs": [
    {
     "data": {
      "text/plain": [
       "array([[76.028694],\n",
       "       [76.028694],\n",
       "       [76.028694],\n",
       "       ...,\n",
       "       [76.028694],\n",
       "       [76.028694],\n",
       "       [76.028694]], dtype=float32)"
      ]
     },
     "execution_count": 48,
     "metadata": {},
     "output_type": "execute_result"
    }
   ],
   "source": [
    "predictions =  scaler.inverse_transform(predictions)\n",
    "predictions"
   ]
  },
  {
   "cell_type": "code",
   "execution_count": 49,
   "id": "486a9b43-1b5b-4880-9979-653f3a826cef",
   "metadata": {
    "tags": []
   },
   "outputs": [
    {
     "name": "stdout",
     "output_type": "stream",
     "text": [
      "실제 시간: 10183.747561656593, 예측 시간: 76.02869415283203\n",
      "실제 시간: 5513.215474587314, 예측 시간: 76.02869415283203\n",
      "실제 시간: 3979.607923609342, 예측 시간: 76.02869415283203\n",
      "실제 시간: 7604.498498648185, 예측 시간: 76.02869415283203\n",
      "실제 시간: 15411.95512180877, 예측 시간: 76.02869415283203\n",
      "실제 시간: 3073.385279849631, 예측 시간: 76.02869415283203\n",
      "실제 시간: 7046.823025565286, 예측 시간: 76.02869415283203\n",
      "실제 시간: 10950.55133714558, 예측 시간: 76.02869415283203\n",
      "실제 시간: 772.9739533826728, 예측 시간: 76.02869415283203\n",
      "실제 시간: 842.6833875180351, 예측 시간: 76.02869415283203\n",
      "실제 시간: 13669.219268424713, 예측 시간: 76.02869415283203\n",
      "실제 시간: 10741.423034739493, 예측 시간: 76.02869415283203\n",
      "실제 시간: 3421.932450526443, 예측 시간: 76.02869415283203\n",
      "실제 시간: 1121.5211240594845, 예측 시간: 76.02869415283203\n",
      "실제 시간: 4188.736226015429, 예측 시간: 76.02869415283203\n",
      "실제 시간: 10183.747561656593, 예측 시간: 76.02869415283203\n",
      "실제 시간: 1539.7777288716588, 예측 시간: 76.02869415283203\n",
      "실제 시간: 3003.6758457142687, 예측 시간: 76.02869415283203\n",
      "실제 시간: 494.13621684122336, 예측 시간: 76.02869415283203\n",
      "실제 시간: 3282.513582255718, 예측 시간: 76.02869415283203\n",
      "실제 시간: 285.0079144351372, 예측 시간: 76.02869415283203\n",
      "실제 시간: 9277.524917896882, 예측 시간: 76.02869415283203\n",
      "실제 시간: 285.0079144351372, 예측 시간: 76.02869415283203\n",
      "실제 시간: 1051.8116899241222, 예측 시간: 76.02869415283203\n",
      "실제 시간: 25868.370242113127, 예측 시간: 76.02869415283203\n",
      "실제 시간: 75.87961202904908, 예측 시간: 76.02869415283203\n",
      "실제 시간: 9835.200390979782, 예측 시간: 76.02869415283203\n",
      "실제 시간: 7395.370196242098, 예측 시간: 109.73999786376953\n",
      "실제 시간: 6419.438118347025, 예측 시간: 66.78950500488281\n",
      "실제 시간: 5792.053211128764, 예측 시간: 76.02869415283203\n",
      "실제 시간: 1330.6494264655717, 예측 시간: 76.02869415283203\n",
      "실제 시간: 1051.8116899241222, 예측 시간: 76.02869415283203\n",
      "실제 시간: 25868.370242113127, 예측 시간: 76.02869415283203\n",
      "실제 시간: 2167.16263608992, 예측 시간: 76.02869415283203\n",
      "실제 시간: 9138.106049626158, 예측 시간: 76.02869415283203\n",
      "실제 시간: 4885.830567369053, 예측 시간: 76.02869415283203\n",
      "실제 시간: 982.10225578876, 예측 시간: 76.02869415283203\n",
      "실제 시간: 912.3928216533976, 예측 시간: 76.02869415283203\n",
      "실제 시간: 2933.9664115789064, 예측 시간: 76.02869415283203\n",
      "실제 시간: 10183.747561656593, 예측 시간: 76.02869415283203\n",
      "실제 시간: 8231.883405866447, 예측 시간: 76.02869415283203\n",
      "실제 시간: 2236.872070225283, 예측 시간: 76.02869415283203\n",
      "실제 시간: 354.7173485704986, 예측 시간: 76.02869415283203\n",
      "실제 시간: 3770.4796212032547, 예측 시간: 76.02869415283203\n",
      "실제 시간: 2376.290938496007, 예측 시간: 76.02869415283203\n",
      "실제 시간: 7186.241893836011, 예측 시간: 76.02869415283203\n",
      "실제 시간: 3282.513582255718, 예측 시간: 76.02869415283203\n",
      "실제 시간: 2167.16263608992, 예측 시간: 76.02869415283203\n",
      "실제 시간: 75.87961202904908, 예측 시간: 76.02869415283203\n",
      "실제 시간: 4606.992830827603, 예측 시간: 76.02869415283203\n",
      "실제 시간: 4746.4116990983275, 예측 시간: 76.02869415283203\n",
      "실제 시간: 912.3928216533976, 예측 시간: 76.02869415283203\n",
      "실제 시간: 6837.694723159199, 예측 시간: 76.02869415283203\n",
      "실제 시간: 494.13621684122336, 예측 시간: 76.02869415283203\n",
      "실제 시간: 3770.4796212032547, 예측 시간: 76.02869415283203\n",
      "실제 시간: 6628.566420753112, 예측 시간: 76.02869415283203\n",
      "실제 시간: 772.9739533826728, 예측 시간: 76.02869415283203\n",
      "실제 시간: 912.3928216533976, 예측 시간: 76.02869415283203\n",
      "실제 시간: 1051.8116899241222, 예측 시간: 76.02869415283203\n",
      "실제 시간: 5513.215474587314, 예측 시간: 76.02869415283203\n",
      "실제 시간: 10741.423034739493, 예측 시간: 76.02869415283203\n",
      "실제 시간: 8580.43057654326, 예측 시간: 76.02869415283203\n",
      "실제 시간: 912.3928216533976, 예측 시간: 76.02869415283203\n",
      "실제 시간: 1958.034333683833, 예측 시간: 76.02869415283203\n",
      "실제 시간: 5513.215474587314, 예측 시간: 76.02869415283203\n",
      "실제 시간: 6977.113591429924, 예측 시간: 76.02869415283203\n",
      "실제 시간: 772.9739533826728, 예측 시간: 76.02869415283203\n",
      "실제 시간: 8371.302274137171, 예측 시간: 76.02869415283203\n",
      "실제 시간: 5861.762645264126, 예측 시간: 76.02869415283203\n",
      "실제 시간: 75.87961202904908, 예측 시간: 76.02869415283203\n",
      "실제 시간: 3491.6418846618053, 예측 시간: 76.02869415283203\n",
      "실제 시간: 7534.789064512823, 예측 시간: 76.02869415283203\n",
      "실제 시간: 12623.577756394277, 예측 시간: 76.02869415283203\n",
      "실제 시간: 912.3928216533976, 예측 시간: 76.02869415283203\n",
      "실제 시간: 7534.789064512823, 예측 시간: 76.02869415283203\n",
      "실제 시간: 285.0079144351372, 예측 시간: 76.02869415283203\n",
      "실제 시간: 494.13621684122336, 예측 시간: 76.02869415283203\n",
      "실제 시간: 15411.95512180877, 예측 시간: 76.02869415283203\n",
      "실제 시간: 5234.377738045864, 예측 시간: 76.02869415283203\n",
      "실제 시간: 3212.804148120356, 예측 시간: 76.02869415283203\n",
      "실제 시간: 9835.200390979782, 예측 시간: 76.02869415283203\n",
      "실제 시간: 982.10225578876, 예측 시간: 76.02869415283203\n",
      "실제 시간: 4885.830567369053, 예측 시간: 76.02869415283203\n",
      "실제 시간: 1191.230558194847, 예측 시간: 76.02869415283203\n",
      "실제 시간: 6001.181513534851, 예측 시간: 76.02869415283203\n",
      "실제 시간: 6419.438118347025, 예측 시간: 76.02869415283203\n",
      "실제 시간: 29353.84194888125, 예측 시간: 76.02869415283203\n",
      "실제 시간: 1051.8116899241222, 예측 시간: 76.02869415283203\n",
      "실제 시간: 3979.607923609342, 예측 시간: 76.02869415283203\n",
      "실제 시간: 9556.362654438333, 예측 시간: 76.02869415283203\n",
      "실제 시간: 5443.506040451952, 예측 시간: 76.02869415283203\n",
      "실제 시간: 75.87961202904908, 예측 시간: 76.02869415283203\n",
      "실제 시간: 633.5550851119481, 예측 시간: 76.02869415283203\n",
      "실제 시간: 5025.249435639777, 예측 시간: 76.02869415283203\n",
      "실제 시간: 3979.607923609342, 예측 시간: 76.02869415283203\n",
      "실제 시간: 563.8456509765857, 예측 시간: 76.02869415283203\n",
      "실제 시간: 8441.011708272534, 예측 시간: 76.02869415283203\n",
      "실제 시간: 3979.607923609342, 예측 시간: 76.02869415283203\n",
      "실제 시간: 4955.540001504415, 예측 시간: 76.02869415283203\n",
      "실제 시간: 1679.1965971423836, 예측 시간: 76.02869415283203\n"
     ]
    }
   ],
   "source": [
    "# y 예측 결과 확인\n",
    "for i in range(100):\n",
    "    print(f\"실제 시간: {y_test[i][0]}, 예측 시간: {predictions[i][0]}\")"
   ]
  },
  {
   "cell_type": "code",
   "execution_count": null,
   "id": "f389fa02-6afa-4802-ab0f-3f8c18c76f87",
   "metadata": {},
   "outputs": [],
   "source": []
  },
  {
   "cell_type": "code",
   "execution_count": null,
   "id": "18d5752b-f9f7-485f-9e43-6ead59f8545b",
   "metadata": {},
   "outputs": [],
   "source": []
  },
  {
   "cell_type": "code",
   "execution_count": 34,
   "id": "cc36198f-2a13-4b6f-9e93-aa42f54264f3",
   "metadata": {
    "tags": []
   },
   "outputs": [],
   "source": [
    "# 회귀 모델 구축\n",
    "model2 = Sequential()\n",
    "model2.add(Dense(128, activation='relu', input_dim=X_train.shape[1]))\n",
    "model2.add(Dense(64, activation='relu'))\n",
    "model2.add(Dense(32, activation='relu'))\n",
    "model2.add(Dense(1))"
   ]
  },
  {
   "cell_type": "code",
   "execution_count": 36,
   "id": "0908dee9-68b3-4b71-b005-ce80aa8cb2d9",
   "metadata": {
    "tags": []
   },
   "outputs": [],
   "source": [
    "# 모델 컴파일\n",
    "model2.compile(optimizer='adam', loss='mean_squared_error')"
   ]
  },
  {
   "cell_type": "code",
   "execution_count": 37,
   "id": "98ffe816-5d0f-4345-8dc3-e03d0373d1c4",
   "metadata": {
    "tags": []
   },
   "outputs": [
    {
     "name": "stdout",
     "output_type": "stream",
     "text": [
      "Epoch 1/10\n",
      "513/513 [==============================] - 1s 799us/step - loss: 5858.5386\n",
      "Epoch 2/10\n",
      "513/513 [==============================] - 0s 784us/step - loss: 5266.6533\n",
      "Epoch 3/10\n",
      "513/513 [==============================] - 0s 801us/step - loss: 5078.9551\n",
      "Epoch 4/10\n",
      "513/513 [==============================] - 0s 786us/step - loss: 4954.1279\n",
      "Epoch 5/10\n",
      "513/513 [==============================] - 0s 787us/step - loss: 4926.1978\n",
      "Epoch 6/10\n",
      "513/513 [==============================] - 0s 784us/step - loss: 4866.7661\n",
      "Epoch 7/10\n",
      "513/513 [==============================] - 0s 784us/step - loss: 4877.1812\n",
      "Epoch 8/10\n",
      "513/513 [==============================] - 0s 817us/step - loss: 4767.5371\n",
      "Epoch 9/10\n",
      "513/513 [==============================] - 0s 814us/step - loss: 4769.4419\n",
      "Epoch 10/10\n",
      "513/513 [==============================] - 0s 942us/step - loss: 4767.0117\n"
     ]
    },
    {
     "data": {
      "text/plain": [
       "<keras.callbacks.History at 0x1c577676a10>"
      ]
     },
     "execution_count": 37,
     "metadata": {},
     "output_type": "execute_result"
    }
   ],
   "source": [
    "# 모델 학습\n",
    "model2.fit(X_train, y_train, epochs=10, batch_size=32)"
   ]
  },
  {
   "cell_type": "code",
   "execution_count": 38,
   "id": "c18d9de2-f6a0-40ed-b462-df67eb7edba9",
   "metadata": {
    "tags": []
   },
   "outputs": [
    {
     "name": "stdout",
     "output_type": "stream",
     "text": [
      "129/129 [==============================] - 0s 568us/step - loss: 4720.4844\n"
     ]
    }
   ],
   "source": [
    "\n",
    "# 모델 평가\n",
    "loss = model2.evaluate(X_test, y_test)"
   ]
  },
  {
   "cell_type": "code",
   "execution_count": 39,
   "id": "d59b7adf-58ce-435c-a541-d01eed9746f0",
   "metadata": {
    "tags": []
   },
   "outputs": [
    {
     "name": "stdout",
     "output_type": "stream",
     "text": [
      "129/129 [==============================] - 0s 624us/step\n"
     ]
    }
   ],
   "source": [
    "# 예측\n",
    "predictions = model.predict(X_test)"
   ]
  },
  {
   "cell_type": "code",
   "execution_count": 41,
   "id": "b871ace3-0e7a-47e7-b0d1-bfd3eb0d726f",
   "metadata": {
    "tags": []
   },
   "outputs": [
    {
     "ename": "SyntaxError",
     "evalue": "incomplete input (1878388943.py, line 2)",
     "output_type": "error",
     "traceback": [
      "\u001b[1;36m  Cell \u001b[1;32mIn[41], line 2\u001b[1;36m\u001b[0m\n\u001b[1;33m    # print(f\"실제 시간: {y_test.iloc[i]}, 예측 시간: {predictions[i][0]}\")\u001b[0m\n\u001b[1;37m                                                                   ^\u001b[0m\n\u001b[1;31mSyntaxError\u001b[0m\u001b[1;31m:\u001b[0m incomplete input\n"
     ]
    }
   ],
   "source": [
    "for i in range(len(predictions)):\n",
    "    # print(f\"실제 시간: {y_test.iloc[i]}, 예측 시간: {predictions[i][0]}\")"
   ]
  },
  {
   "cell_type": "code",
   "execution_count": 15,
   "id": "0634e24e-aba9-4f06-8037-58063c73acfa",
   "metadata": {
    "tags": []
   },
   "outputs": [],
   "source": [
    "from sklearn.model_selection import train_test_split\n",
    "from sklearn import preprocessing\n",
    "X = df1[[\"청구품목\", 'key2', '견적화폐' , '발주처']]\n",
    "X_encoded = X.copy()\n",
    "le = LabelEncoder()\n",
    "for col in X.columns:\n",
    "    X_encoded[col] = le.fit_transform(X[col])\n",
    "y = df1[\"leadtime\"]\n",
    "# X = np.array(X)\n",
    "# y = np.array(y)\n",
    "X_train, X_test, y_train, y_test = train_test_split(X_encoded, y, random_state=40, shuffle=True, test_size=0.3)"
   ]
  },
  {
   "cell_type": "code",
   "execution_count": 16,
   "id": "72833446-c053-4265-b4fd-48b0253cf912",
   "metadata": {
    "tags": []
   },
   "outputs": [],
   "source": [
    "from keras.models import Sequential\n",
    "from keras.layers import Dense, Embedding, Flatten\n",
    "from sklearn.preprocessing import LabelEncoder\n",
    "\n",
    "\n",
    "model = Sequential()\n",
    "model.add(Dense(64, activation='relu', input_dim=4))\n",
    "model.add(Dense(64, activation='relu'))\n",
    "model.add(Dense(1))"
   ]
  },
  {
   "cell_type": "code",
   "execution_count": 17,
   "id": "e33b55f3-0bc2-4e17-88a2-0c73272d9e4b",
   "metadata": {
    "tags": []
   },
   "outputs": [
    {
     "data": {
      "text/html": [
       "<div>\n",
       "<style scoped>\n",
       "    .dataframe tbody tr th:only-of-type {\n",
       "        vertical-align: middle;\n",
       "    }\n",
       "\n",
       "    .dataframe tbody tr th {\n",
       "        vertical-align: top;\n",
       "    }\n",
       "\n",
       "    .dataframe thead th {\n",
       "        text-align: right;\n",
       "    }\n",
       "</style>\n",
       "<table border=\"1\" class=\"dataframe\">\n",
       "  <thead>\n",
       "    <tr style=\"text-align: right;\">\n",
       "      <th></th>\n",
       "      <th>청구품목</th>\n",
       "      <th>key2</th>\n",
       "      <th>견적화폐</th>\n",
       "      <th>발주처</th>\n",
       "    </tr>\n",
       "  </thead>\n",
       "  <tbody>\n",
       "    <tr>\n",
       "      <th>0</th>\n",
       "      <td>4848</td>\n",
       "      <td>18</td>\n",
       "      <td>2</td>\n",
       "      <td>22</td>\n",
       "    </tr>\n",
       "    <tr>\n",
       "      <th>1</th>\n",
       "      <td>3692</td>\n",
       "      <td>18</td>\n",
       "      <td>2</td>\n",
       "      <td>22</td>\n",
       "    </tr>\n",
       "    <tr>\n",
       "      <th>2</th>\n",
       "      <td>5915</td>\n",
       "      <td>18</td>\n",
       "      <td>2</td>\n",
       "      <td>22</td>\n",
       "    </tr>\n",
       "    <tr>\n",
       "      <th>3</th>\n",
       "      <td>696</td>\n",
       "      <td>18</td>\n",
       "      <td>2</td>\n",
       "      <td>22</td>\n",
       "    </tr>\n",
       "    <tr>\n",
       "      <th>4</th>\n",
       "      <td>4681</td>\n",
       "      <td>18</td>\n",
       "      <td>2</td>\n",
       "      <td>22</td>\n",
       "    </tr>\n",
       "    <tr>\n",
       "      <th>...</th>\n",
       "      <td>...</td>\n",
       "      <td>...</td>\n",
       "      <td>...</td>\n",
       "      <td>...</td>\n",
       "    </tr>\n",
       "    <tr>\n",
       "      <th>20512</th>\n",
       "      <td>2811</td>\n",
       "      <td>20</td>\n",
       "      <td>1</td>\n",
       "      <td>35</td>\n",
       "    </tr>\n",
       "    <tr>\n",
       "      <th>20513</th>\n",
       "      <td>2810</td>\n",
       "      <td>20</td>\n",
       "      <td>1</td>\n",
       "      <td>35</td>\n",
       "    </tr>\n",
       "    <tr>\n",
       "      <th>20514</th>\n",
       "      <td>4151</td>\n",
       "      <td>5</td>\n",
       "      <td>1</td>\n",
       "      <td>41</td>\n",
       "    </tr>\n",
       "    <tr>\n",
       "      <th>20515</th>\n",
       "      <td>1592</td>\n",
       "      <td>20</td>\n",
       "      <td>1</td>\n",
       "      <td>41</td>\n",
       "    </tr>\n",
       "    <tr>\n",
       "      <th>20516</th>\n",
       "      <td>4718</td>\n",
       "      <td>20</td>\n",
       "      <td>1</td>\n",
       "      <td>41</td>\n",
       "    </tr>\n",
       "  </tbody>\n",
       "</table>\n",
       "<p>20517 rows × 4 columns</p>\n",
       "</div>"
      ],
      "text/plain": [
       "       청구품목  key2  견적화폐  발주처\n",
       "0      4848    18     2   22\n",
       "1      3692    18     2   22\n",
       "2      5915    18     2   22\n",
       "3       696    18     2   22\n",
       "4      4681    18     2   22\n",
       "...     ...   ...   ...  ...\n",
       "20512  2811    20     1   35\n",
       "20513  2810    20     1   35\n",
       "20514  4151     5     1   41\n",
       "20515  1592    20     1   41\n",
       "20516  4718    20     1   41\n",
       "\n",
       "[20517 rows x 4 columns]"
      ]
     },
     "execution_count": 17,
     "metadata": {},
     "output_type": "execute_result"
    }
   ],
   "source": [
    "X_encoded"
   ]
  },
  {
   "cell_type": "code",
   "execution_count": 18,
   "id": "508510b9-8d14-470d-b0a2-6c44c4a94e59",
   "metadata": {
    "tags": []
   },
   "outputs": [],
   "source": [
    "# 모델 컴파일\n",
    "model.compile(optimizer='adam', loss='mean_squared_error')\n"
   ]
  },
  {
   "cell_type": "code",
   "execution_count": 21,
   "id": "592f6c64-6771-48f3-b290-d3034240e4c4",
   "metadata": {
    "tags": []
   },
   "outputs": [
    {
     "name": "stdout",
     "output_type": "stream",
     "text": [
      "Epoch 1/30\n",
      "719/719 [==============================] - 1s 718us/step - loss: 4570.3857\n",
      "Epoch 2/30\n",
      "719/719 [==============================] - 0s 685us/step - loss: 4455.8169\n",
      "Epoch 3/30\n",
      "719/719 [==============================] - 0s 684us/step - loss: 4454.7124\n",
      "Epoch 4/30\n",
      "719/719 [==============================] - 0s 686us/step - loss: 4419.8271\n",
      "Epoch 5/30\n",
      "719/719 [==============================] - 1s 708us/step - loss: 4414.2935\n",
      "Epoch 6/30\n",
      "719/719 [==============================] - 1s 786us/step - loss: 4395.2896\n",
      "Epoch 7/30\n",
      "719/719 [==============================] - 1s 799us/step - loss: 4435.3975\n",
      "Epoch 8/30\n",
      "719/719 [==============================] - 1s 787us/step - loss: 4419.7266\n",
      "Epoch 9/30\n",
      "719/719 [==============================] - 1s 812us/step - loss: 4406.4590\n",
      "Epoch 10/30\n",
      "719/719 [==============================] - 1s 853us/step - loss: 4388.4800\n",
      "Epoch 11/30\n",
      "719/719 [==============================] - 1s 875us/step - loss: 4410.8535\n",
      "Epoch 12/30\n",
      "719/719 [==============================] - 1s 854us/step - loss: 4405.4883\n",
      "Epoch 13/30\n",
      "719/719 [==============================] - 1s 776us/step - loss: 4402.5781\n",
      "Epoch 14/30\n",
      "719/719 [==============================] - 1s 728us/step - loss: 4382.8989\n",
      "Epoch 15/30\n",
      "719/719 [==============================] - 1s 768us/step - loss: 4364.3589\n",
      "Epoch 16/30\n",
      "719/719 [==============================] - 1s 809us/step - loss: 4349.9204\n",
      "Epoch 17/30\n",
      "719/719 [==============================] - 1s 893us/step - loss: 4391.2480\n",
      "Epoch 18/30\n",
      "719/719 [==============================] - 1s 876us/step - loss: 4388.0425\n",
      "Epoch 19/30\n",
      "719/719 [==============================] - 1s 877us/step - loss: 4356.8809\n",
      "Epoch 20/30\n",
      "719/719 [==============================] - 1s 879us/step - loss: 4337.2432\n",
      "Epoch 21/30\n",
      "719/719 [==============================] - 1s 874us/step - loss: 4369.9434\n",
      "Epoch 22/30\n",
      "719/719 [==============================] - 1s 876us/step - loss: 4326.3809\n",
      "Epoch 23/30\n",
      "719/719 [==============================] - 1s 865us/step - loss: 4316.6133\n",
      "Epoch 24/30\n",
      "719/719 [==============================] - 1s 868us/step - loss: 4365.0923\n",
      "Epoch 25/30\n",
      "719/719 [==============================] - 1s 809us/step - loss: 4358.0732\n",
      "Epoch 26/30\n",
      "719/719 [==============================] - 1s 823us/step - loss: 4323.5234\n",
      "Epoch 27/30\n",
      "719/719 [==============================] - 1s 889us/step - loss: 4268.0122\n",
      "Epoch 28/30\n",
      "719/719 [==============================] - 1s 863us/step - loss: 4278.2036\n",
      "Epoch 29/30\n",
      "719/719 [==============================] - 1s 845us/step - loss: 4273.0151\n",
      "Epoch 30/30\n",
      "719/719 [==============================] - 1s 785us/step - loss: 4233.1572\n"
     ]
    },
    {
     "data": {
      "text/plain": [
       "<keras.callbacks.History at 0x1c5746b50c0>"
      ]
     },
     "execution_count": 21,
     "metadata": {},
     "output_type": "execute_result"
    }
   ],
   "source": [
    "# 모델 학습\n",
    "model.fit(X_train, y_train, epochs=30, batch_size=20)"
   ]
  },
  {
   "cell_type": "code",
   "execution_count": 22,
   "id": "20a7902d-ba13-445e-ac5a-45c0fed2c5ac",
   "metadata": {
    "tags": []
   },
   "outputs": [
    {
     "name": "stdout",
     "output_type": "stream",
     "text": [
      "193/193 [==============================] - 0s 714us/step - loss: 4114.6880\n"
     ]
    }
   ],
   "source": [
    "# 모델 평가\n",
    "loss = model.evaluate(X_test, y_test)"
   ]
  },
  {
   "cell_type": "code",
   "execution_count": 23,
   "id": "17934347-8ae1-40e8-8a68-09b1166b5135",
   "metadata": {
    "tags": []
   },
   "outputs": [
    {
     "name": "stdout",
     "output_type": "stream",
     "text": [
      "193/193 [==============================] - 0s 587us/step\n"
     ]
    }
   ],
   "source": [
    "# 예측\n",
    "predictions = model.predict(X_test)"
   ]
  },
  {
   "cell_type": "code",
   "execution_count": 24,
   "id": "bbeda753-70d8-4a95-97f2-f510dcaf959f",
   "metadata": {
    "tags": []
   },
   "outputs": [
    {
     "data": {
      "text/plain": [
       "array([[ 36.74128 ],\n",
       "       [ 92.509026],\n",
       "       [ 91.80747 ],\n",
       "       ...,\n",
       "       [101.08235 ],\n",
       "       [ 44.686443],\n",
       "       [ 84.99454 ]], dtype=float32)"
      ]
     },
     "execution_count": 24,
     "metadata": {},
     "output_type": "execute_result"
    }
   ],
   "source": [
    "predictions"
   ]
  },
  {
   "cell_type": "code",
   "execution_count": 26,
   "id": "ab6b908d-4933-438d-9335-82304f20229b",
   "metadata": {
    "tags": []
   },
   "outputs": [
    {
     "ename": "KeyError",
     "evalue": "0",
     "output_type": "error",
     "traceback": [
      "\u001b[1;31m---------------------------------------------------------------------------\u001b[0m",
      "\u001b[1;31mKeyError\u001b[0m                                  Traceback (most recent call last)",
      "File \u001b[1;32mC:\\workspace\\ShipSupplies\\venv\\lib\\site-packages\\pandas\\core\\indexes\\base.py:3652\u001b[0m, in \u001b[0;36mIndex.get_loc\u001b[1;34m(self, key)\u001b[0m\n\u001b[0;32m   3651\u001b[0m \u001b[38;5;28;01mtry\u001b[39;00m:\n\u001b[1;32m-> 3652\u001b[0m     \u001b[38;5;28;01mreturn\u001b[39;00m \u001b[38;5;28;43mself\u001b[39;49m\u001b[38;5;241;43m.\u001b[39;49m\u001b[43m_engine\u001b[49m\u001b[38;5;241;43m.\u001b[39;49m\u001b[43mget_loc\u001b[49m\u001b[43m(\u001b[49m\u001b[43mcasted_key\u001b[49m\u001b[43m)\u001b[49m\n\u001b[0;32m   3653\u001b[0m \u001b[38;5;28;01mexcept\u001b[39;00m \u001b[38;5;167;01mKeyError\u001b[39;00m \u001b[38;5;28;01mas\u001b[39;00m err:\n",
      "File \u001b[1;32mC:\\workspace\\ShipSupplies\\venv\\lib\\site-packages\\pandas\\_libs\\index.pyx:147\u001b[0m, in \u001b[0;36mpandas._libs.index.IndexEngine.get_loc\u001b[1;34m()\u001b[0m\n",
      "File \u001b[1;32mC:\\workspace\\ShipSupplies\\venv\\lib\\site-packages\\pandas\\_libs\\index.pyx:176\u001b[0m, in \u001b[0;36mpandas._libs.index.IndexEngine.get_loc\u001b[1;34m()\u001b[0m\n",
      "File \u001b[1;32mpandas\\_libs\\hashtable_class_helper.pxi:2606\u001b[0m, in \u001b[0;36mpandas._libs.hashtable.Int64HashTable.get_item\u001b[1;34m()\u001b[0m\n",
      "File \u001b[1;32mpandas\\_libs\\hashtable_class_helper.pxi:2630\u001b[0m, in \u001b[0;36mpandas._libs.hashtable.Int64HashTable.get_item\u001b[1;34m()\u001b[0m\n",
      "\u001b[1;31mKeyError\u001b[0m: 0",
      "\nThe above exception was the direct cause of the following exception:\n",
      "\u001b[1;31mKeyError\u001b[0m                                  Traceback (most recent call last)",
      "Cell \u001b[1;32mIn[26], line 3\u001b[0m\n\u001b[0;32m      1\u001b[0m \u001b[38;5;66;03m# 예측 결과 확인\u001b[39;00m\n\u001b[0;32m      2\u001b[0m \u001b[38;5;28;01mfor\u001b[39;00m i \u001b[38;5;129;01min\u001b[39;00m \u001b[38;5;28mrange\u001b[39m(\u001b[38;5;28mlen\u001b[39m(predictions)):\n\u001b[1;32m----> 3\u001b[0m     \u001b[38;5;28mprint\u001b[39m(\u001b[38;5;124mf\u001b[39m\u001b[38;5;124m\"\u001b[39m\u001b[38;5;124m실제값: \u001b[39m\u001b[38;5;132;01m{\u001b[39;00m\u001b[43my_test\u001b[49m\u001b[43m[\u001b[49m\u001b[43mi\u001b[49m\u001b[43m]\u001b[49m\u001b[38;5;132;01m}\u001b[39;00m\u001b[38;5;124m, 예측값: \u001b[39m\u001b[38;5;132;01m{\u001b[39;00mpredictions[i]\u001b[38;5;132;01m}\u001b[39;00m\u001b[38;5;124m\"\u001b[39m)\n",
      "File \u001b[1;32mC:\\workspace\\ShipSupplies\\venv\\lib\\site-packages\\pandas\\core\\series.py:1007\u001b[0m, in \u001b[0;36mSeries.__getitem__\u001b[1;34m(self, key)\u001b[0m\n\u001b[0;32m   1004\u001b[0m     \u001b[38;5;28;01mreturn\u001b[39;00m \u001b[38;5;28mself\u001b[39m\u001b[38;5;241m.\u001b[39m_values[key]\n\u001b[0;32m   1006\u001b[0m \u001b[38;5;28;01melif\u001b[39;00m key_is_scalar:\n\u001b[1;32m-> 1007\u001b[0m     \u001b[38;5;28;01mreturn\u001b[39;00m \u001b[38;5;28;43mself\u001b[39;49m\u001b[38;5;241;43m.\u001b[39;49m\u001b[43m_get_value\u001b[49m\u001b[43m(\u001b[49m\u001b[43mkey\u001b[49m\u001b[43m)\u001b[49m\n\u001b[0;32m   1009\u001b[0m \u001b[38;5;28;01mif\u001b[39;00m is_hashable(key):\n\u001b[0;32m   1010\u001b[0m     \u001b[38;5;66;03m# Otherwise index.get_value will raise InvalidIndexError\u001b[39;00m\n\u001b[0;32m   1011\u001b[0m     \u001b[38;5;28;01mtry\u001b[39;00m:\n\u001b[0;32m   1012\u001b[0m         \u001b[38;5;66;03m# For labels that don't resolve as scalars like tuples and frozensets\u001b[39;00m\n",
      "File \u001b[1;32mC:\\workspace\\ShipSupplies\\venv\\lib\\site-packages\\pandas\\core\\series.py:1116\u001b[0m, in \u001b[0;36mSeries._get_value\u001b[1;34m(self, label, takeable)\u001b[0m\n\u001b[0;32m   1113\u001b[0m     \u001b[38;5;28;01mreturn\u001b[39;00m \u001b[38;5;28mself\u001b[39m\u001b[38;5;241m.\u001b[39m_values[label]\n\u001b[0;32m   1115\u001b[0m \u001b[38;5;66;03m# Similar to Index.get_value, but we do not fall back to positional\u001b[39;00m\n\u001b[1;32m-> 1116\u001b[0m loc \u001b[38;5;241m=\u001b[39m \u001b[38;5;28;43mself\u001b[39;49m\u001b[38;5;241;43m.\u001b[39;49m\u001b[43mindex\u001b[49m\u001b[38;5;241;43m.\u001b[39;49m\u001b[43mget_loc\u001b[49m\u001b[43m(\u001b[49m\u001b[43mlabel\u001b[49m\u001b[43m)\u001b[49m\n\u001b[0;32m   1118\u001b[0m \u001b[38;5;28;01mif\u001b[39;00m is_integer(loc):\n\u001b[0;32m   1119\u001b[0m     \u001b[38;5;28;01mreturn\u001b[39;00m \u001b[38;5;28mself\u001b[39m\u001b[38;5;241m.\u001b[39m_values[loc]\n",
      "File \u001b[1;32mC:\\workspace\\ShipSupplies\\venv\\lib\\site-packages\\pandas\\core\\indexes\\base.py:3654\u001b[0m, in \u001b[0;36mIndex.get_loc\u001b[1;34m(self, key)\u001b[0m\n\u001b[0;32m   3652\u001b[0m     \u001b[38;5;28;01mreturn\u001b[39;00m \u001b[38;5;28mself\u001b[39m\u001b[38;5;241m.\u001b[39m_engine\u001b[38;5;241m.\u001b[39mget_loc(casted_key)\n\u001b[0;32m   3653\u001b[0m \u001b[38;5;28;01mexcept\u001b[39;00m \u001b[38;5;167;01mKeyError\u001b[39;00m \u001b[38;5;28;01mas\u001b[39;00m err:\n\u001b[1;32m-> 3654\u001b[0m     \u001b[38;5;28;01mraise\u001b[39;00m \u001b[38;5;167;01mKeyError\u001b[39;00m(key) \u001b[38;5;28;01mfrom\u001b[39;00m \u001b[38;5;21;01merr\u001b[39;00m\n\u001b[0;32m   3655\u001b[0m \u001b[38;5;28;01mexcept\u001b[39;00m \u001b[38;5;167;01mTypeError\u001b[39;00m:\n\u001b[0;32m   3656\u001b[0m     \u001b[38;5;66;03m# If we have a listlike key, _check_indexing_error will raise\u001b[39;00m\n\u001b[0;32m   3657\u001b[0m     \u001b[38;5;66;03m#  InvalidIndexError. Otherwise we fall through and re-raise\u001b[39;00m\n\u001b[0;32m   3658\u001b[0m     \u001b[38;5;66;03m#  the TypeError.\u001b[39;00m\n\u001b[0;32m   3659\u001b[0m     \u001b[38;5;28mself\u001b[39m\u001b[38;5;241m.\u001b[39m_check_indexing_error(key)\n",
      "\u001b[1;31mKeyError\u001b[0m: 0"
     ]
    }
   ],
   "source": [
    "# 예측 결과 확인\n",
    "for i in range(len(predictions)):\n",
    "    print(f\"실제값: {y_test[i]}, 예측값: {predictions[i][0]}\")"
   ]
  },
  {
   "cell_type": "code",
   "execution_count": null,
   "id": "a22dd2c1-8112-498e-88af-a4593265fb17",
   "metadata": {},
   "outputs": [],
   "source": []
  }
 ],
 "metadata": {
  "kernelspec": {
   "display_name": "venv",
   "language": "python",
   "name": "venv"
  },
  "language_info": {
   "codemirror_mode": {
    "name": "ipython",
    "version": 3
   },
   "file_extension": ".py",
   "mimetype": "text/x-python",
   "name": "python",
   "nbconvert_exporter": "python",
   "pygments_lexer": "ipython3",
   "version": "3.10.10"
  }
 },
 "nbformat": 4,
 "nbformat_minor": 5
}
