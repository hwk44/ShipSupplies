{
 "cells": [
  {
   "cell_type": "code",
   "execution_count": 160,
   "id": "41b37e2e-c378-490b-9f20-3989cc84f3f6",
   "metadata": {
    "tags": []
   },
   "outputs": [
    {
     "name": "stderr",
     "output_type": "stream",
     "text": [
      "C:\\Users\\peos0\\AppData\\Local\\Temp\\ipykernel_17276\\1378052945.py:5: SettingWithCopyWarning: \n",
      "A value is trying to be set on a copy of a slice from a DataFrame.\n",
      "Try using .loc[row_indexer,col_indexer] = value instead\n",
      "\n",
      "See the caveats in the documentation: https://pandas.pydata.org/pandas-docs/stable/user_guide/indexing.html#returning-a-view-versus-a-copy\n",
      "  df1[\"leadtime\"] = df[\"leadtime\"].astype(int)\n"
     ]
    }
   ],
   "source": [
    "import pandas as pd\n",
    "from sklearn import preprocessing\n",
    "df = pd.read_csv('../data/raw_postpro.csv')\n",
    "df1 = df[[\"청구품목\", 'key2', 'leadtime', '견적화폐' , '발주처']]\n",
    "df1[\"leadtime\"] = df[\"leadtime\"].astype(int)"
   ]
  },
  {
   "cell_type": "code",
   "execution_count": 161,
   "id": "e928b4a9-61c8-4161-811b-b9fadcc35642",
   "metadata": {
    "tags": []
   },
   "outputs": [
    {
     "data": {
      "text/plain": [
       "Index(['청구서번호', 'No.', 'Subject', 'Machinery', 'Assembly', '청구품목', 'Part No.1',\n",
       "       'Part No.2', 'key1', 'key2', 'leadtime', '청구량', '견적', '견적수량', '견적화폐',\n",
       "       '견적단가', '발주번호', '발주처', '발주', '발주수량', '발주금액'],\n",
       "      dtype='object')"
      ]
     },
     "execution_count": 161,
     "metadata": {},
     "output_type": "execute_result"
    }
   ],
   "source": [
    "df.columns"
   ]
  },
  {
   "cell_type": "code",
   "execution_count": 162,
   "id": "4d77db52-7a06-4a89-ae40-eb0dfe6932ae",
   "metadata": {
    "tags": []
   },
   "outputs": [
    {
     "data": {
      "text/plain": [
       "0     194\n",
       "1      59\n",
       "2      61\n",
       "3     212\n",
       "4     220\n",
       "5      80\n",
       "6     100\n",
       "7      13\n",
       "8     117\n",
       "9      96\n",
       "10      2\n",
       "11    156\n",
       "12     72\n",
       "13     25\n",
       "14     49\n",
       "15     49\n",
       "16     49\n",
       "17     49\n",
       "18     56\n",
       "19     48\n",
       "20     56\n",
       "21     56\n",
       "22     28\n",
       "23      6\n",
       "24     56\n",
       "25     48\n",
       "26     56\n",
       "27     48\n",
       "28      6\n",
       "29      6\n",
       "30     32\n",
       "31      6\n",
       "32      6\n",
       "33      6\n",
       "34      6\n",
       "35      6\n",
       "36      6\n",
       "37      6\n",
       "38      6\n",
       "39      6\n",
       "40      6\n",
       "41      6\n",
       "42      6\n",
       "43      6\n",
       "44      6\n",
       "45      6\n",
       "46      6\n",
       "47      6\n",
       "48     62\n",
       "49     62\n",
       "Name: leadtime, dtype: int32"
      ]
     },
     "execution_count": 162,
     "metadata": {},
     "output_type": "execute_result"
    }
   ],
   "source": [
    "# df[\"리드타임\"] = df[\"리드타임\"].astype(float)\n",
    "# df[\"key2\"] = df[\"key2\"].astype(int)\n",
    "df1[\"leadtime\"].iloc[:50,]"
   ]
  },
  {
   "cell_type": "code",
   "execution_count": 54,
   "id": "b213adda-cbca-441a-9df6-d150c4be75d1",
   "metadata": {
    "tags": []
   },
   "outputs": [
    {
     "data": {
      "text/html": [
       "<div>\n",
       "<style scoped>\n",
       "    .dataframe tbody tr th:only-of-type {\n",
       "        vertical-align: middle;\n",
       "    }\n",
       "\n",
       "    .dataframe tbody tr th {\n",
       "        vertical-align: top;\n",
       "    }\n",
       "\n",
       "    .dataframe thead th {\n",
       "        text-align: right;\n",
       "    }\n",
       "</style>\n",
       "<table border=\"1\" class=\"dataframe\">\n",
       "  <thead>\n",
       "    <tr style=\"text-align: right;\">\n",
       "      <th></th>\n",
       "      <th>청구서번호</th>\n",
       "      <th>No.</th>\n",
       "      <th>Subject</th>\n",
       "      <th>Machinery</th>\n",
       "      <th>Assembly</th>\n",
       "      <th>청구품목</th>\n",
       "      <th>Part No.1</th>\n",
       "      <th>Part No.2</th>\n",
       "      <th>key1</th>\n",
       "      <th>key2</th>\n",
       "      <th>...</th>\n",
       "      <th>Control No.</th>\n",
       "      <th>입고창고</th>\n",
       "      <th>창고출고</th>\n",
       "      <th>창고출고수량</th>\n",
       "      <th>출고선박</th>\n",
       "      <th>출고운반선</th>\n",
       "      <th>선박입고</th>\n",
       "      <th>선박입고수량</th>\n",
       "      <th>완료 여부</th>\n",
       "      <th>leadtime</th>\n",
       "    </tr>\n",
       "  </thead>\n",
       "  <tbody>\n",
       "    <tr>\n",
       "      <th>0</th>\n",
       "      <td>ELS-BS-ESP-2004002</td>\n",
       "      <td>12</td>\n",
       "      <td>NO.1 A/E C18 MAJOR O/H PARTS</td>\n",
       "      <td>NO.1 GENERATOR ENGINE</td>\n",
       "      <td>323-6480 LINES GP-FUEL</td>\n",
       "      <td>SEAL-O-RING-STOR</td>\n",
       "      <td>7.00E-275</td>\n",
       "      <td>0</td>\n",
       "      <td>7.00E-275</td>\n",
       "      <td>COOLER</td>\n",
       "      <td>...</td>\n",
       "      <td>혜인 발주</td>\n",
       "      <td>BS</td>\n",
       "      <td>2020-09-19</td>\n",
       "      <td>1</td>\n",
       "      <td>BLO</td>\n",
       "      <td>본선 선적</td>\n",
       "      <td>0</td>\n",
       "      <td>0</td>\n",
       "      <td>0</td>\n",
       "      <td>194</td>\n",
       "    </tr>\n",
       "    <tr>\n",
       "      <th>1</th>\n",
       "      <td>OCA-BS-ESP-2010004</td>\n",
       "      <td>5</td>\n",
       "      <td>운전시간 대비 #2 AUX ENG TOP END O/H PARTS</td>\n",
       "      <td>NO.2 GENERATOR ENGINE</td>\n",
       "      <td>GASKET KIT</td>\n",
       "      <td>OIL COOLER &amp; LINES</td>\n",
       "      <td>7.00E-275</td>\n",
       "      <td>0</td>\n",
       "      <td>7.00E-275</td>\n",
       "      <td>COOLER</td>\n",
       "      <td>...</td>\n",
       "      <td>혜인 발주</td>\n",
       "      <td>BS</td>\n",
       "      <td>2020-09-18</td>\n",
       "      <td>1</td>\n",
       "      <td>JBG</td>\n",
       "      <td>본선 선적</td>\n",
       "      <td>0</td>\n",
       "      <td>0</td>\n",
       "      <td>0</td>\n",
       "      <td>59</td>\n",
       "    </tr>\n",
       "    <tr>\n",
       "      <th>2</th>\n",
       "      <td>MIR-BS-ESP-2011002</td>\n",
       "      <td>119</td>\n",
       "      <td>운전시간 대비 #2 AUX ENG(CAT 3512C) MAJOR O/H PARTS</td>\n",
       "      <td>NO.2 GENERATOR ENGINE</td>\n",
       "      <td>285-8374 MANIFOLD GP-EXH</td>\n",
       "      <td>WASHER</td>\n",
       "      <td>7.00E-275</td>\n",
       "      <td>0</td>\n",
       "      <td>7.00E-275</td>\n",
       "      <td>COOLER</td>\n",
       "      <td>...</td>\n",
       "      <td>0</td>\n",
       "      <td>BS</td>\n",
       "      <td>2020-12-12</td>\n",
       "      <td>1</td>\n",
       "      <td>BON</td>\n",
       "      <td>SANWA FONTAINE</td>\n",
       "      <td>0</td>\n",
       "      <td>0</td>\n",
       "      <td>0</td>\n",
       "      <td>61</td>\n",
       "    </tr>\n",
       "    <tr>\n",
       "      <th>3</th>\n",
       "      <td>BLO-BS-ESP-2003002</td>\n",
       "      <td>16</td>\n",
       "      <td>#1 AUX ENG TOP END O/H PARTS</td>\n",
       "      <td>NO.1 GENERATOR ENGINE</td>\n",
       "      <td>159-8828 TURBO GP</td>\n",
       "      <td>BOLT-HIGH TEMP</td>\n",
       "      <td>7.00E-275</td>\n",
       "      <td>0</td>\n",
       "      <td>7.00E-275</td>\n",
       "      <td>COOLER</td>\n",
       "      <td>...</td>\n",
       "      <td>혜인 발주</td>\n",
       "      <td>BS</td>\n",
       "      <td>2021-06-16</td>\n",
       "      <td>1</td>\n",
       "      <td>MIR</td>\n",
       "      <td>체항수리 시 사용</td>\n",
       "      <td>0</td>\n",
       "      <td>0</td>\n",
       "      <td>0</td>\n",
       "      <td>212</td>\n",
       "    </tr>\n",
       "    <tr>\n",
       "      <th>4</th>\n",
       "      <td>DEO-BS-ESP-2105008</td>\n",
       "      <td>97</td>\n",
       "      <td>DEO-E-210512-01</td>\n",
       "      <td>NO.1 GENERATOR ENGINE</td>\n",
       "      <td>2N4727 INSTRUMNT PANEL GP</td>\n",
       "      <td>SEAL</td>\n",
       "      <td>7.00E-275</td>\n",
       "      <td>0</td>\n",
       "      <td>7.00E-275</td>\n",
       "      <td>COOLER</td>\n",
       "      <td>...</td>\n",
       "      <td>0</td>\n",
       "      <td>BS</td>\n",
       "      <td>0</td>\n",
       "      <td>0</td>\n",
       "      <td>0</td>\n",
       "      <td>0</td>\n",
       "      <td>0</td>\n",
       "      <td>0</td>\n",
       "      <td>0</td>\n",
       "      <td>220</td>\n",
       "    </tr>\n",
       "    <tr>\n",
       "      <th>...</th>\n",
       "      <td>...</td>\n",
       "      <td>...</td>\n",
       "      <td>...</td>\n",
       "      <td>...</td>\n",
       "      <td>...</td>\n",
       "      <td>...</td>\n",
       "      <td>...</td>\n",
       "      <td>...</td>\n",
       "      <td>...</td>\n",
       "      <td>...</td>\n",
       "      <td>...</td>\n",
       "      <td>...</td>\n",
       "      <td>...</td>\n",
       "      <td>...</td>\n",
       "      <td>...</td>\n",
       "      <td>...</td>\n",
       "      <td>...</td>\n",
       "      <td>...</td>\n",
       "      <td>...</td>\n",
       "      <td>...</td>\n",
       "      <td>...</td>\n",
       "    </tr>\n",
       "    <tr>\n",
       "      <th>20512</th>\n",
       "      <td>BLO-BS-ESP-2006006</td>\n",
       "      <td>1</td>\n",
       "      <td>BLO-F-ENGINE-200515-03 BOAT DAVIT CYL 외, AIRCO...</td>\n",
       "      <td>HYD. SYSTEM</td>\n",
       "      <td>5-753-2E_BOAT DAVIT &amp; N.D CRANE LINE</td>\n",
       "      <td>HYD. CYLINDER_NET BOAT DAVIT</td>\n",
       "      <td>φ150 × φ85 × 695st</td>\n",
       "      <td>FF-SE-1CB150BB695ABD-YP2J</td>\n",
       "      <td>φ150 × φ85 × 695stFF-SE-1CB150BB695ABD-YP2J</td>\n",
       "      <td>CYLINDER</td>\n",
       "      <td>...</td>\n",
       "      <td>20-09-161</td>\n",
       "      <td>BW</td>\n",
       "      <td>0</td>\n",
       "      <td>0</td>\n",
       "      <td>0</td>\n",
       "      <td>0</td>\n",
       "      <td>0</td>\n",
       "      <td>0</td>\n",
       "      <td>0</td>\n",
       "      <td>95</td>\n",
       "    </tr>\n",
       "    <tr>\n",
       "      <th>20513</th>\n",
       "      <td>BLO-BS-ESP-2004008</td>\n",
       "      <td>1</td>\n",
       "      <td>BLO-F-ENGINE-200403-01 (NAVI DECK CRANE DERRIN...</td>\n",
       "      <td>HYD. SYSTEM</td>\n",
       "      <td>5-753-2E_BOAT DAVIT &amp; N.D CRANE LINE</td>\n",
       "      <td>HYD. CYLINDER_N.D CRANE_BOOM_LIFTER</td>\n",
       "      <td>φ160 × φ112 × 1130st</td>\n",
       "      <td>S-2CA160A20.6N1130-1</td>\n",
       "      <td>φ160 × φ112 × 1130stS-2CA160A20.6N1130-1</td>\n",
       "      <td>CYLINDER</td>\n",
       "      <td>...</td>\n",
       "      <td>20-07-114</td>\n",
       "      <td>BW</td>\n",
       "      <td>2020-08-26</td>\n",
       "      <td>1</td>\n",
       "      <td>BLO</td>\n",
       "      <td>BLO 상가시 선적</td>\n",
       "      <td>0</td>\n",
       "      <td>0</td>\n",
       "      <td>0</td>\n",
       "      <td>67</td>\n",
       "    </tr>\n",
       "    <tr>\n",
       "      <th>20514</th>\n",
       "      <td>ELS-BS-ESP-1908002</td>\n",
       "      <td>2</td>\n",
       "      <td>ELS-F-ENG-190628-02</td>\n",
       "      <td>6M NET BOAT</td>\n",
       "      <td>ELECTRIC CLUTCH</td>\n",
       "      <td>PULLY</td>\n",
       "      <td>Φ305X5V-3</td>\n",
       "      <td>0</td>\n",
       "      <td>Φ305X5V-3</td>\n",
       "      <td>BELT</td>\n",
       "      <td>...</td>\n",
       "      <td>19-08-164</td>\n",
       "      <td>BW</td>\n",
       "      <td>2019-09-04</td>\n",
       "      <td>1</td>\n",
       "      <td>ELS</td>\n",
       "      <td>ONENESS</td>\n",
       "      <td>2019-10-02</td>\n",
       "      <td>1</td>\n",
       "      <td>완료</td>\n",
       "      <td>25</td>\n",
       "    </tr>\n",
       "    <tr>\n",
       "      <th>20515</th>\n",
       "      <td>BLO-BS-ESP-1906014</td>\n",
       "      <td>2</td>\n",
       "      <td>BLO-F-ENGINE-190617-01 (NET BOAT PARTS)</td>\n",
       "      <td>7M NET BOAT</td>\n",
       "      <td>HAND HYDRAULIC STEERING SYSTEM</td>\n",
       "      <td>CYLINDER</td>\n",
       "      <td>Φ50 x S195 CYLINDER</td>\n",
       "      <td>0</td>\n",
       "      <td>Φ50 x S195 CYLINDER</td>\n",
       "      <td>CYLINDER</td>\n",
       "      <td>...</td>\n",
       "      <td>19-07-134</td>\n",
       "      <td>BW</td>\n",
       "      <td>2019-08-20</td>\n",
       "      <td>1</td>\n",
       "      <td>BLO</td>\n",
       "      <td>세이셀 컨테이너</td>\n",
       "      <td>2019-10-12</td>\n",
       "      <td>1</td>\n",
       "      <td>완료</td>\n",
       "      <td>25</td>\n",
       "    </tr>\n",
       "    <tr>\n",
       "      <th>20516</th>\n",
       "      <td>BLO-BS-ESP-1906014</td>\n",
       "      <td>3</td>\n",
       "      <td>BLO-F-ENGINE-190617-01 (NET BOAT PARTS)</td>\n",
       "      <td>7M NET BOAT</td>\n",
       "      <td>HAND HYDRAULIC STEERING SYSTEM</td>\n",
       "      <td>SEAL KIT FOR CYLINDER</td>\n",
       "      <td>Φ50 x S195 CYLINDER SEAL KIT</td>\n",
       "      <td>0</td>\n",
       "      <td>Φ50 x S195 CYLINDER SEAL KIT</td>\n",
       "      <td>CYLINDER</td>\n",
       "      <td>...</td>\n",
       "      <td>19-07-134</td>\n",
       "      <td>BW</td>\n",
       "      <td>2019-08-20</td>\n",
       "      <td>2</td>\n",
       "      <td>BLO</td>\n",
       "      <td>세이셀 컨테이너</td>\n",
       "      <td>2019-10-12</td>\n",
       "      <td>2</td>\n",
       "      <td>완료</td>\n",
       "      <td>25</td>\n",
       "    </tr>\n",
       "  </tbody>\n",
       "</table>\n",
       "<p>20517 rows × 36 columns</p>\n",
       "</div>"
      ],
      "text/plain": [
       "                    청구서번호  No.   \n",
       "0      ELS-BS-ESP-2004002   12  \\\n",
       "1      OCA-BS-ESP-2010004    5   \n",
       "2      MIR-BS-ESP-2011002  119   \n",
       "3      BLO-BS-ESP-2003002   16   \n",
       "4      DEO-BS-ESP-2105008   97   \n",
       "...                   ...  ...   \n",
       "20512  BLO-BS-ESP-2006006    1   \n",
       "20513  BLO-BS-ESP-2004008    1   \n",
       "20514  ELS-BS-ESP-1908002    2   \n",
       "20515  BLO-BS-ESP-1906014    2   \n",
       "20516  BLO-BS-ESP-1906014    3   \n",
       "\n",
       "                                                 Subject   \n",
       "0                           NO.1 A/E C18 MAJOR O/H PARTS  \\\n",
       "1                   운전시간 대비 #2 AUX ENG TOP END O/H PARTS   \n",
       "2          운전시간 대비 #2 AUX ENG(CAT 3512C) MAJOR O/H PARTS   \n",
       "3                           #1 AUX ENG TOP END O/H PARTS   \n",
       "4                                        DEO-E-210512-01   \n",
       "...                                                  ...   \n",
       "20512  BLO-F-ENGINE-200515-03 BOAT DAVIT CYL 외, AIRCO...   \n",
       "20513  BLO-F-ENGINE-200403-01 (NAVI DECK CRANE DERRIN...   \n",
       "20514                                ELS-F-ENG-190628-02   \n",
       "20515            BLO-F-ENGINE-190617-01 (NET BOAT PARTS)   \n",
       "20516            BLO-F-ENGINE-190617-01 (NET BOAT PARTS)   \n",
       "\n",
       "                   Machinery                              Assembly   \n",
       "0      NO.1 GENERATOR ENGINE               323-6480 LINES GP-FUEL   \\\n",
       "1      NO.2 GENERATOR ENGINE                            GASKET KIT   \n",
       "2      NO.2 GENERATOR ENGINE             285-8374 MANIFOLD GP-EXH    \n",
       "3      NO.1 GENERATOR ENGINE                     159-8828 TURBO GP   \n",
       "4      NO.1 GENERATOR ENGINE             2N4727 INSTRUMNT PANEL GP   \n",
       "...                      ...                                   ...   \n",
       "20512            HYD. SYSTEM  5-753-2E_BOAT DAVIT & N.D CRANE LINE   \n",
       "20513            HYD. SYSTEM  5-753-2E_BOAT DAVIT & N.D CRANE LINE   \n",
       "20514            6M NET BOAT                       ELECTRIC CLUTCH   \n",
       "20515            7M NET BOAT        HAND HYDRAULIC STEERING SYSTEM   \n",
       "20516            7M NET BOAT        HAND HYDRAULIC STEERING SYSTEM   \n",
       "\n",
       "                                      청구품목                     Part No.1   \n",
       "0                         SEAL-O-RING-STOR                     7.00E-275  \\\n",
       "1                       OIL COOLER & LINES                     7.00E-275   \n",
       "2                                   WASHER                     7.00E-275   \n",
       "3                           BOLT-HIGH TEMP                     7.00E-275   \n",
       "4                                     SEAL                     7.00E-275   \n",
       "...                                    ...                           ...   \n",
       "20512         HYD. CYLINDER_NET BOAT DAVIT            φ150 × φ85 × 695st   \n",
       "20513  HYD. CYLINDER_N.D CRANE_BOOM_LIFTER          φ160 × φ112 × 1130st   \n",
       "20514                                PULLY                     Φ305X5V-3   \n",
       "20515                            CYLINDER            Φ50 x S195 CYLINDER   \n",
       "20516                SEAL KIT FOR CYLINDER  Φ50 x S195 CYLINDER SEAL KIT   \n",
       "\n",
       "                       Part No.2                                         key1   \n",
       "0                              0                                    7.00E-275  \\\n",
       "1                              0                                    7.00E-275   \n",
       "2                              0                                    7.00E-275   \n",
       "3                              0                                    7.00E-275   \n",
       "4                              0                                    7.00E-275   \n",
       "...                          ...                                          ...   \n",
       "20512  FF-SE-1CB150BB695ABD-YP2J  φ150 × φ85 × 695stFF-SE-1CB150BB695ABD-YP2J   \n",
       "20513       S-2CA160A20.6N1130-1     φ160 × φ112 × 1130stS-2CA160A20.6N1130-1   \n",
       "20514                          0                                    Φ305X5V-3   \n",
       "20515                          0                          Φ50 x S195 CYLINDER   \n",
       "20516                          0                 Φ50 x S195 CYLINDER SEAL KIT   \n",
       "\n",
       "           key2  ...  Control No.  입고창고        창고출고  창고출고수량 출고선박   \n",
       "0        COOLER  ...        혜인 발주    BS  2020-09-19       1  BLO  \\\n",
       "1        COOLER  ...        혜인 발주    BS  2020-09-18       1  JBG   \n",
       "2        COOLER  ...            0    BS  2020-12-12       1  BON   \n",
       "3        COOLER  ...        혜인 발주    BS  2021-06-16       1  MIR   \n",
       "4        COOLER  ...            0    BS           0       0    0   \n",
       "...         ...  ...          ...   ...         ...     ...  ...   \n",
       "20512  CYLINDER  ...    20-09-161    BW           0       0    0   \n",
       "20513  CYLINDER  ...    20-07-114    BW  2020-08-26       1  BLO   \n",
       "20514      BELT  ...    19-08-164    BW  2019-09-04       1  ELS   \n",
       "20515  CYLINDER  ...    19-07-134    BW  2019-08-20       1  BLO   \n",
       "20516  CYLINDER  ...    19-07-134    BW  2019-08-20       2  BLO   \n",
       "\n",
       "                출고운반선        선박입고 선박입고수량 완료 여부  leadtime  \n",
       "0               본선 선적           0      0     0       194  \n",
       "1               본선 선적           0      0     0        59  \n",
       "2      SANWA FONTAINE           0      0     0        61  \n",
       "3           체항수리 시 사용           0      0     0       212  \n",
       "4                   0           0      0     0       220  \n",
       "...               ...         ...    ...   ...       ...  \n",
       "20512               0           0      0     0        95  \n",
       "20513      BLO 상가시 선적           0      0     0        67  \n",
       "20514         ONENESS  2019-10-02      1    완료        25  \n",
       "20515        세이셀 컨테이너  2019-10-12      1    완료        25  \n",
       "20516        세이셀 컨테이너  2019-10-12      2    완료        25  \n",
       "\n",
       "[20517 rows x 36 columns]"
      ]
     },
     "execution_count": 54,
     "metadata": {},
     "output_type": "execute_result"
    }
   ],
   "source": [
    "df"
   ]
  },
  {
   "cell_type": "code",
   "execution_count": 164,
   "id": "bfe55754-c719-447e-b391-0068d08d061f",
   "metadata": {
    "tags": []
   },
   "outputs": [],
   "source": [
    "# # 컬럼 값을 배열로 변환\n",
    "# leadtime_val = df1['leadtime'].values\n",
    "\n",
    "# # 로그 변환 전에 1을 더함\n",
    "# leadtime_val = np.log(leadtime_val + 1)\n",
    "\n",
    "# # 컬럼 추가\n",
    "# df1['leadtime+1'] = leadtime_val\n",
    "# # df1"
   ]
  },
  {
   "cell_type": "code",
   "execution_count": 94,
   "id": "2d7ce4a7-1efd-48d9-8f70-883ca384cbd7",
   "metadata": {
    "tags": []
   },
   "outputs": [
    {
     "name": "stdout",
     "output_type": "stream",
     "text": [
      "평균: 75.87961202904908\n",
      "분산: 4859.405207472425\n"
     ]
    }
   ],
   "source": [
    "lead = df1['leadtime']\n",
    "mean = np.mean(lead)\n",
    "\n",
    "# 분산 계산\n",
    "variance = np.var(lead)\n",
    "\n",
    "# 결과 출력\n",
    "print(\"평균:\", mean)\n",
    "print(\"분산:\", variance)"
   ]
  },
  {
   "cell_type": "markdown",
   "id": "63608e23-b717-44df-a11e-24673f623adf",
   "metadata": {},
   "source": [
    "## X 값 CountVectorizer로 벡터화"
   ]
  },
  {
   "cell_type": "code",
   "execution_count": 166,
   "id": "c8fa3596-6457-4362-9323-4fb9c0b38150",
   "metadata": {
    "tags": []
   },
   "outputs": [
    {
     "data": {
      "text/plain": [
       "[array([[ 0.32960573,  0.24851812,  0.06808377, ...,  0.1573064 ,\n",
       "         -0.00786069, -0.00632482],\n",
       "        [ 0.39576685,  0.27333339,  0.25200067, ...,  0.02028716,\n",
       "         -0.14610704,  0.06637021],\n",
       "        [ 0.58400959,  0.41025952,  0.04676579, ...,  0.31154883,\n",
       "         -0.03559348, -0.04781994],\n",
       "        ...,\n",
       "        [ 0.09543514,  0.075695  ,  0.00617669, ...,  0.02922439,\n",
       "         -0.01538001,  0.01251636],\n",
       "        [ 0.38479483,  0.36420766,  0.0685482 , ...,  0.06444658,\n",
       "          0.01584299,  0.12406273],\n",
       "        [ 0.38979992,  0.31148088,  0.14055318, ...,  0.06891228,\n",
       "         -0.03269082,  0.10842492]]),\n",
       " array([[ 0.00109761, -0.00138392, -0.00077547, ..., -0.00037611,\n",
       "         -0.00151895,  0.00137649],\n",
       "        [ 0.00109761, -0.00138392, -0.00077547, ..., -0.00037611,\n",
       "         -0.00151895,  0.00137649],\n",
       "        [ 0.00109761, -0.00138392, -0.00077547, ..., -0.00037611,\n",
       "         -0.00151895,  0.00137649],\n",
       "        ...,\n",
       "        [ 0.00114423,  0.00317362,  0.00134651, ...,  0.00491837,\n",
       "          0.00157588, -0.00204732],\n",
       "        [ 0.00055191,  0.00208376, -0.00117217, ...,  0.00115713,\n",
       "         -0.00045038, -0.00120685],\n",
       "        [ 0.00055191,  0.00208376, -0.00117217, ...,  0.00115713,\n",
       "         -0.00045038, -0.00120685]]),\n",
       " array([[-0.00029671, -0.00323186, -0.0002439 , ..., -0.00292041,\n",
       "         -0.00179293,  0.00180148],\n",
       "        [-0.00029671, -0.00323186, -0.0002439 , ..., -0.00292041,\n",
       "         -0.00179293,  0.00180148],\n",
       "        [-0.00029671, -0.00323186, -0.0002439 , ..., -0.00292041,\n",
       "         -0.00179293,  0.00180148],\n",
       "        ...,\n",
       "        [ 0.00201547, -0.00273941, -0.00136588, ...,  0.00313032,\n",
       "         -0.001007  , -0.00338079],\n",
       "        [ 0.00201547, -0.00273941, -0.00136588, ...,  0.00313032,\n",
       "         -0.001007  , -0.00338079],\n",
       "        [ 0.00201547, -0.00273941, -0.00136588, ...,  0.00313032,\n",
       "         -0.001007  , -0.00338079]]),\n",
       " array([[-0.02400735,  0.00109954, -0.00464927, ..., -0.01596128,\n",
       "         -0.05757642, -0.02942034],\n",
       "        [-0.02400735,  0.00109954, -0.00464927, ..., -0.01596128,\n",
       "         -0.05757642, -0.02942034],\n",
       "        [-0.02400735,  0.00109954, -0.00464927, ..., -0.01596128,\n",
       "         -0.05757642, -0.02942034],\n",
       "        ...,\n",
       "        [-0.31651365,  0.17384268, -0.33654094, ...,  0.0453086 ,\n",
       "         -0.04564062,  0.33488795],\n",
       "        [-0.31651365,  0.17384268, -0.33654094, ...,  0.0453086 ,\n",
       "         -0.04564062,  0.33488795],\n",
       "        [-0.31651365,  0.17384268, -0.33654094, ...,  0.0453086 ,\n",
       "         -0.04564062,  0.33488795]])]"
      ]
     },
     "execution_count": 166,
     "metadata": {},
     "output_type": "execute_result"
    }
   ],
   "source": [
    "from gensim.models import FastText\n",
    "from sklearn.feature_extraction.text import CountVectorizer\n",
    "columns = [\"청구품목\", 'key2', '견적화폐' , '발주처']\n",
    "embedings = []\n",
    "for col in columns:\n",
    "    documents = df1[col].tolist()\n",
    "\n",
    "    # FastText 모델 학습\n",
    "    model = FastText(sentences=[doc.split() for doc in documents], vector_size=100, window=5, min_count=1, sg=1)\n",
    "\n",
    "    # 벡터화된 데이터 초기화\n",
    "    vectors = []\n",
    "\n",
    "    # 각 문서에 대해 벡터 생성\n",
    "    for doc in documents:\n",
    "        vector = np.zeros(model.vector_size)\n",
    "        count = 0\n",
    "        for word in doc.split():\n",
    "            if word in model.wv:\n",
    "                vector += model.wv[word]\n",
    "                count += 1\n",
    "        if count > 0:\n",
    "            vector /= count\n",
    "        vectors.append(vector)\n",
    "\n",
    "    # 벡터화된 데이터를 배열로 변환\n",
    "    vectors = np.array(vectors)\n",
    "    embedings.append(vectors)\n",
    "embedings"
   ]
  },
  {
   "cell_type": "code",
   "execution_count": 169,
   "id": "869366c3-40c9-45e0-b4d7-6c62eb1257a5",
   "metadata": {
    "tags": []
   },
   "outputs": [
    {
     "data": {
      "text/html": [
       "<style>#sk-container-id-2 {color: black;background-color: white;}#sk-container-id-2 pre{padding: 0;}#sk-container-id-2 div.sk-toggleable {background-color: white;}#sk-container-id-2 label.sk-toggleable__label {cursor: pointer;display: block;width: 100%;margin-bottom: 0;padding: 0.3em;box-sizing: border-box;text-align: center;}#sk-container-id-2 label.sk-toggleable__label-arrow:before {content: \"▸\";float: left;margin-right: 0.25em;color: #696969;}#sk-container-id-2 label.sk-toggleable__label-arrow:hover:before {color: black;}#sk-container-id-2 div.sk-estimator:hover label.sk-toggleable__label-arrow:before {color: black;}#sk-container-id-2 div.sk-toggleable__content {max-height: 0;max-width: 0;overflow: hidden;text-align: left;background-color: #f0f8ff;}#sk-container-id-2 div.sk-toggleable__content pre {margin: 0.2em;color: black;border-radius: 0.25em;background-color: #f0f8ff;}#sk-container-id-2 input.sk-toggleable__control:checked~div.sk-toggleable__content {max-height: 200px;max-width: 100%;overflow: auto;}#sk-container-id-2 input.sk-toggleable__control:checked~label.sk-toggleable__label-arrow:before {content: \"▾\";}#sk-container-id-2 div.sk-estimator input.sk-toggleable__control:checked~label.sk-toggleable__label {background-color: #d4ebff;}#sk-container-id-2 div.sk-label input.sk-toggleable__control:checked~label.sk-toggleable__label {background-color: #d4ebff;}#sk-container-id-2 input.sk-hidden--visually {border: 0;clip: rect(1px 1px 1px 1px);clip: rect(1px, 1px, 1px, 1px);height: 1px;margin: -1px;overflow: hidden;padding: 0;position: absolute;width: 1px;}#sk-container-id-2 div.sk-estimator {font-family: monospace;background-color: #f0f8ff;border: 1px dotted black;border-radius: 0.25em;box-sizing: border-box;margin-bottom: 0.5em;}#sk-container-id-2 div.sk-estimator:hover {background-color: #d4ebff;}#sk-container-id-2 div.sk-parallel-item::after {content: \"\";width: 100%;border-bottom: 1px solid gray;flex-grow: 1;}#sk-container-id-2 div.sk-label:hover label.sk-toggleable__label {background-color: #d4ebff;}#sk-container-id-2 div.sk-serial::before {content: \"\";position: absolute;border-left: 1px solid gray;box-sizing: border-box;top: 0;bottom: 0;left: 50%;z-index: 0;}#sk-container-id-2 div.sk-serial {display: flex;flex-direction: column;align-items: center;background-color: white;padding-right: 0.2em;padding-left: 0.2em;position: relative;}#sk-container-id-2 div.sk-item {position: relative;z-index: 1;}#sk-container-id-2 div.sk-parallel {display: flex;align-items: stretch;justify-content: center;background-color: white;position: relative;}#sk-container-id-2 div.sk-item::before, #sk-container-id-2 div.sk-parallel-item::before {content: \"\";position: absolute;border-left: 1px solid gray;box-sizing: border-box;top: 0;bottom: 0;left: 50%;z-index: -1;}#sk-container-id-2 div.sk-parallel-item {display: flex;flex-direction: column;z-index: 1;position: relative;background-color: white;}#sk-container-id-2 div.sk-parallel-item:first-child::after {align-self: flex-end;width: 50%;}#sk-container-id-2 div.sk-parallel-item:last-child::after {align-self: flex-start;width: 50%;}#sk-container-id-2 div.sk-parallel-item:only-child::after {width: 0;}#sk-container-id-2 div.sk-dashed-wrapped {border: 1px dashed gray;margin: 0 0.4em 0.5em 0.4em;box-sizing: border-box;padding-bottom: 0.4em;background-color: white;}#sk-container-id-2 div.sk-label label {font-family: monospace;font-weight: bold;display: inline-block;line-height: 1.2em;}#sk-container-id-2 div.sk-label-container {text-align: center;}#sk-container-id-2 div.sk-container {/* jupyter's `normalize.less` sets `[hidden] { display: none; }` but bootstrap.min.css set `[hidden] { display: none !important; }` so we also need the `!important` here to be able to override the default hidden behavior on the sphinx rendered scikit-learn.org. See: https://github.com/scikit-learn/scikit-learn/issues/21755 */display: inline-block !important;position: relative;}#sk-container-id-2 div.sk-text-repr-fallback {display: none;}</style><div id=\"sk-container-id-2\" class=\"sk-top-container\"><div class=\"sk-text-repr-fallback\"><pre>LinearRegression()</pre><b>In a Jupyter environment, please rerun this cell to show the HTML representation or trust the notebook. <br />On GitHub, the HTML representation is unable to render, please try loading this page with nbviewer.org.</b></div><div class=\"sk-container\" hidden><div class=\"sk-item\"><div class=\"sk-estimator sk-toggleable\"><input class=\"sk-toggleable__control sk-hidden--visually\" id=\"sk-estimator-id-2\" type=\"checkbox\" checked><label for=\"sk-estimator-id-2\" class=\"sk-toggleable__label sk-toggleable__label-arrow\">LinearRegression</label><div class=\"sk-toggleable__content\"><pre>LinearRegression()</pre></div></div></div></div></div>"
      ],
      "text/plain": [
       "LinearRegression()"
      ]
     },
     "execution_count": 169,
     "metadata": {},
     "output_type": "execute_result"
    }
   ],
   "source": [
    "import numpy as np\n",
    "from sklearn.model_selection import train_test_split\n",
    "from sklearn.linear_model import LinearRegression\n",
    "\n",
    "# 각 컬럼을 임베딩하여 벡터로 표현\n",
    "embeddings_col1 = embedings[0]\n",
    "embeddings_col2 = embedings[1]\n",
    "embeddings_col3 = embedings[2]\n",
    "embeddings_col4 = embedings[3]\n",
    "\n",
    "# 예측 대상 데이터\n",
    "target_data = df1['leadtime'].values\n",
    "\n",
    "# 피처 벡터 생성\n",
    "X = np.concatenate([embeddings_col1, embeddings_col2, embeddings_col3, embeddings_col4], axis=1)\n",
    "\n",
    "# 학습 데이터와 테스트 데이터로 분할\n",
    "X_train, X_test, y_train, y_test = train_test_split(X, target_data, test_size=0.2, random_state=42)\n",
    "\n",
    "# 선형 회귀 모델 학습\n",
    "model = LinearRegression()\n",
    "model.fit(X_train, y_train)"
   ]
  },
  {
   "cell_type": "code",
   "execution_count": 150,
   "id": "6efb22b3-b18f-4660-8bea-c5780df2a617",
   "metadata": {
    "tags": []
   },
   "outputs": [
    {
     "data": {
      "text/plain": [
       "((20517, 400), (20517,))"
      ]
     },
     "execution_count": 150,
     "metadata": {},
     "output_type": "execute_result"
    }
   ],
   "source": [
    "X.shape, y.shape\n",
    "# X\n",
    "# y"
   ]
  },
  {
   "cell_type": "markdown",
   "id": "ee7dc54d-e6b3-40e4-948c-38bab3bde5b5",
   "metadata": {},
   "source": [
    "## 결과확인\n",
    "### 오차가 너무 많이 나고 예측 값에 음수가 들어감"
   ]
  },
  {
   "cell_type": "code",
   "execution_count": 171,
   "id": "8a8fba82-a8a4-44da-9889-bf1c26096428",
   "metadata": {
    "tags": []
   },
   "outputs": [
    {
     "data": {
      "text/html": [
       "<div>\n",
       "<style scoped>\n",
       "    .dataframe tbody tr th:only-of-type {\n",
       "        vertical-align: middle;\n",
       "    }\n",
       "\n",
       "    .dataframe tbody tr th {\n",
       "        vertical-align: top;\n",
       "    }\n",
       "\n",
       "    .dataframe thead th {\n",
       "        text-align: right;\n",
       "    }\n",
       "</style>\n",
       "<table border=\"1\" class=\"dataframe\">\n",
       "  <thead>\n",
       "    <tr style=\"text-align: right;\">\n",
       "      <th></th>\n",
       "      <th>Actual</th>\n",
       "      <th>Predicted</th>\n",
       "    </tr>\n",
       "  </thead>\n",
       "  <tbody>\n",
       "    <tr>\n",
       "      <th>0</th>\n",
       "      <td>145</td>\n",
       "      <td>100.373932</td>\n",
       "    </tr>\n",
       "    <tr>\n",
       "      <th>1</th>\n",
       "      <td>78</td>\n",
       "      <td>103.280182</td>\n",
       "    </tr>\n",
       "    <tr>\n",
       "      <th>2</th>\n",
       "      <td>56</td>\n",
       "      <td>103.592682</td>\n",
       "    </tr>\n",
       "    <tr>\n",
       "      <th>3</th>\n",
       "      <td>108</td>\n",
       "      <td>86.498932</td>\n",
       "    </tr>\n",
       "    <tr>\n",
       "      <th>4</th>\n",
       "      <td>220</td>\n",
       "      <td>107.498932</td>\n",
       "    </tr>\n",
       "    <tr>\n",
       "      <th>5</th>\n",
       "      <td>43</td>\n",
       "      <td>88.936432</td>\n",
       "    </tr>\n",
       "    <tr>\n",
       "      <th>6</th>\n",
       "      <td>100</td>\n",
       "      <td>54.092682</td>\n",
       "    </tr>\n",
       "    <tr>\n",
       "      <th>7</th>\n",
       "      <td>156</td>\n",
       "      <td>107.717682</td>\n",
       "    </tr>\n",
       "    <tr>\n",
       "      <th>8</th>\n",
       "      <td>10</td>\n",
       "      <td>75.655182</td>\n",
       "    </tr>\n",
       "    <tr>\n",
       "      <th>9</th>\n",
       "      <td>11</td>\n",
       "      <td>10.748932</td>\n",
       "    </tr>\n",
       "    <tr>\n",
       "      <th>10</th>\n",
       "      <td>195</td>\n",
       "      <td>93.217682</td>\n",
       "    </tr>\n",
       "    <tr>\n",
       "      <th>11</th>\n",
       "      <td>153</td>\n",
       "      <td>67.811432</td>\n",
       "    </tr>\n",
       "    <tr>\n",
       "      <th>12</th>\n",
       "      <td>48</td>\n",
       "      <td>139.217682</td>\n",
       "    </tr>\n",
       "    <tr>\n",
       "      <th>13</th>\n",
       "      <td>15</td>\n",
       "      <td>38.952545</td>\n",
       "    </tr>\n",
       "    <tr>\n",
       "      <th>14</th>\n",
       "      <td>59</td>\n",
       "      <td>90.280182</td>\n",
       "    </tr>\n",
       "    <tr>\n",
       "      <th>15</th>\n",
       "      <td>145</td>\n",
       "      <td>95.905182</td>\n",
       "    </tr>\n",
       "    <tr>\n",
       "      <th>16</th>\n",
       "      <td>21</td>\n",
       "      <td>-5.981537</td>\n",
       "    </tr>\n",
       "    <tr>\n",
       "      <th>17</th>\n",
       "      <td>42</td>\n",
       "      <td>27.092682</td>\n",
       "    </tr>\n",
       "    <tr>\n",
       "      <th>18</th>\n",
       "      <td>6</td>\n",
       "      <td>61.967682</td>\n",
       "    </tr>\n",
       "    <tr>\n",
       "      <th>19</th>\n",
       "      <td>46</td>\n",
       "      <td>68.530182</td>\n",
       "    </tr>\n",
       "    <tr>\n",
       "      <th>20</th>\n",
       "      <td>3</td>\n",
       "      <td>80.186432</td>\n",
       "    </tr>\n",
       "    <tr>\n",
       "      <th>21</th>\n",
       "      <td>132</td>\n",
       "      <td>89.155182</td>\n",
       "    </tr>\n",
       "    <tr>\n",
       "      <th>22</th>\n",
       "      <td>3</td>\n",
       "      <td>62.498932</td>\n",
       "    </tr>\n",
       "    <tr>\n",
       "      <th>23</th>\n",
       "      <td>14</td>\n",
       "      <td>4.390533</td>\n",
       "    </tr>\n",
       "    <tr>\n",
       "      <th>24</th>\n",
       "      <td>370</td>\n",
       "      <td>233.354401</td>\n",
       "    </tr>\n",
       "    <tr>\n",
       "      <th>25</th>\n",
       "      <td>0</td>\n",
       "      <td>72.155182</td>\n",
       "    </tr>\n",
       "    <tr>\n",
       "      <th>26</th>\n",
       "      <td>140</td>\n",
       "      <td>99.655182</td>\n",
       "    </tr>\n",
       "    <tr>\n",
       "      <th>27</th>\n",
       "      <td>105</td>\n",
       "      <td>92.405182</td>\n",
       "    </tr>\n",
       "    <tr>\n",
       "      <th>28</th>\n",
       "      <td>91</td>\n",
       "      <td>76.686432</td>\n",
       "    </tr>\n",
       "    <tr>\n",
       "      <th>29</th>\n",
       "      <td>82</td>\n",
       "      <td>108.467682</td>\n",
       "    </tr>\n",
       "  </tbody>\n",
       "</table>\n",
       "</div>"
      ],
      "text/plain": [
       "    Actual   Predicted\n",
       "0      145  100.373932\n",
       "1       78  103.280182\n",
       "2       56  103.592682\n",
       "3      108   86.498932\n",
       "4      220  107.498932\n",
       "5       43   88.936432\n",
       "6      100   54.092682\n",
       "7      156  107.717682\n",
       "8       10   75.655182\n",
       "9       11   10.748932\n",
       "10     195   93.217682\n",
       "11     153   67.811432\n",
       "12      48  139.217682\n",
       "13      15   38.952545\n",
       "14      59   90.280182\n",
       "15     145   95.905182\n",
       "16      21   -5.981537\n",
       "17      42   27.092682\n",
       "18       6   61.967682\n",
       "19      46   68.530182\n",
       "20       3   80.186432\n",
       "21     132   89.155182\n",
       "22       3   62.498932\n",
       "23      14    4.390533\n",
       "24     370  233.354401\n",
       "25       0   72.155182\n",
       "26     140   99.655182\n",
       "27     105   92.405182\n",
       "28      91   76.686432\n",
       "29      82  108.467682"
      ]
     },
     "execution_count": 171,
     "metadata": {},
     "output_type": "execute_result"
    }
   ],
   "source": [
    "# 테스트 데이터에 대한 예측\n",
    "predictions = model.predict(X_test)\n",
    "\n",
    "# 예측값과 실제값 비교\n",
    "comparison = pd.DataFrame({'Actual': y_test, 'Predicted': predictions})\n",
    "# print(comparison)\n",
    "comparison[:30]"
   ]
  },
  {
   "cell_type": "code",
   "execution_count": 173,
   "id": "335cf897-828b-4e1c-b852-76bcf3f3dc92",
   "metadata": {
    "tags": []
   },
   "outputs": [
    {
     "name": "stdout",
     "output_type": "stream",
     "text": [
      "R-squared: -6.06742752758222e+18\n",
      "Mean Squared Error: 2.914279238763171e+22\n",
      "Mean Absolute Error: 5213809975.182478\n"
     ]
    }
   ],
   "source": [
    "from sklearn.metrics import mean_squared_error, mean_absolute_error, fbeta_score, r2_score\n",
    "\n",
    "# R 제곱 계산\n",
    "r2 = r2_score(y_test, predictions)\n",
    "print(\"R-squared:\", r2)\n",
    "\n",
    "## R 제곱 값이 음수인 경우는 모델이 주어진 데이터를 설명하지 못하는 경우를 의미\n",
    "## => 모델이 이상함\n",
    "\n",
    "# 평균 제곱 오차 계산\n",
    "mse = mean_squared_error(y_test, predictions)\n",
    "print(\"Mean Squared Error:\", mse)\n",
    "\n",
    "# 평균 절대 오차 계산\n",
    "mae = mean_absolute_error(y_test, predictions)\n",
    "print(\"Mean Absolute Error:\", mae)"
   ]
  },
  {
   "cell_type": "code",
   "execution_count": null,
   "id": "bb1272c5-bf82-437b-a59c-d89c2d2896d0",
   "metadata": {},
   "outputs": [],
   "source": []
  },
  {
   "cell_type": "code",
   "execution_count": null,
   "id": "b3c56552-2f69-472a-97de-a1c58d8f03fb",
   "metadata": {},
   "outputs": [],
   "source": []
  },
  {
   "cell_type": "markdown",
   "id": "ed30e8ee-df46-4168-a579-065829bdc3df",
   "metadata": {},
   "source": [
    "## lstm\n",
    "### 속도가 너무 느리고 정확도가 너무 낮음"
   ]
  },
  {
   "cell_type": "code",
   "execution_count": 174,
   "id": "7878b0b5-ebeb-4ae7-ac50-7ac17b451775",
   "metadata": {
    "tags": []
   },
   "outputs": [],
   "source": [
    "from gensim.models import FastText\n",
    "from sklearn.feature_extraction.text import CountVectorizer\n",
    "columns = [\"청구품목\", 'key2', '견적화폐' , '발주처']\n",
    "embedings = []\n",
    "for col in columns:\n",
    "    documents = df1[col].tolist()\n",
    "\n",
    "    # FastText 모델 학습\n",
    "    model = FastText(sentences=[doc.split() for doc in documents], vector_size=100, window=5, min_count=1, sg=1)\n",
    "\n",
    "    # 벡터화된 데이터 초기화\n",
    "    vectors = []\n",
    "\n",
    "    # 각 문서에 대해 벡터 생성\n",
    "    for doc in documents:\n",
    "        vector = np.zeros(model.vector_size)\n",
    "        count = 0\n",
    "        for word in doc.split():\n",
    "            if word in model.wv:\n",
    "                vector += model.wv[word]\n",
    "                count += 1\n",
    "        if count > 0:\n",
    "            vector /= count\n",
    "        vectors.append(vector)\n",
    "\n",
    "    # 벡터화된 데이터를 배열로 변환\n",
    "    vectors = np.array(vectors)\n",
    "    embedings.append(vectors)\n"
   ]
  },
  {
   "cell_type": "code",
   "execution_count": 154,
   "id": "db887189-da22-4124-a878-9e7850061f20",
   "metadata": {
    "tags": []
   },
   "outputs": [
    {
     "name": "stdout",
     "output_type": "stream",
     "text": [
      "Epoch 1/10\n",
      "513/513 [==============================] - 114s 220ms/step - loss: 6419.7935\n",
      "Epoch 2/10\n",
      "513/513 [==============================] - 107s 209ms/step - loss: 4930.2437\n",
      "Epoch 3/10\n",
      "513/513 [==============================] - 107s 209ms/step - loss: 4875.2896\n",
      "Epoch 4/10\n",
      "513/513 [==============================] - 105s 205ms/step - loss: 4874.1626\n",
      "Epoch 5/10\n",
      "513/513 [==============================] - 110s 213ms/step - loss: 4874.2798\n",
      "Epoch 6/10\n",
      "513/513 [==============================] - 105s 204ms/step - loss: 4874.4438\n",
      "Epoch 7/10\n",
      "513/513 [==============================] - 105s 204ms/step - loss: 4873.9653\n",
      "Epoch 8/10\n",
      "513/513 [==============================] - 100s 195ms/step - loss: 4872.1475\n",
      "Epoch 9/10\n",
      "513/513 [==============================] - 104s 203ms/step - loss: 4846.7495\n",
      "Epoch 10/10\n",
      "513/513 [==============================] - 106s 207ms/step - loss: 4788.5527\n",
      "129/129 [==============================] - 11s 83ms/step\n"
     ]
    }
   ],
   "source": [
    "from keras.models import Sequential\n",
    "from keras.layers import LSTM, Dense\n",
    "\n",
    "# 각 컬럼을 임베딩하여 벡터로 표현\n",
    "embeddings_col1 = embedings[0]\n",
    "embeddings_col2 = embedings[1]\n",
    "embeddings_col3 = embedings[2]\n",
    "embeddings_col4 = embedings[3]\n",
    "\n",
    "# 예측 대상 데이터\n",
    "target_data = df1['leadtime'].values\n",
    "\n",
    "# 피처 벡터 생성\n",
    "X = np.concatenate([embeddings_col1, embeddings_col2, embeddings_col3, embeddings_col4], axis=1)\n",
    "\n",
    "# 학습 데이터와 테스트 데이터로 분할\n",
    "X_train, X_test, y_train, y_test = train_test_split(X, target_data, test_size=0.2, random_state=42)\n",
    "\n",
    "# 입력 데이터를 3차원으로 변환\n",
    "X_train = np.reshape(X_train, (X_train.shape[0], X_train.shape[1], 1))\n",
    "X_test = np.reshape(X_test, (X_test.shape[0], X_test.shape[1], 1))\n",
    "\n",
    "# 모델 구성\n",
    "model = Sequential()\n",
    "model.add(LSTM(128, input_shape=(400,1)))\n",
    "model.add(Dense(1))\n",
    "\n",
    "# 모델 컴파일\n",
    "model.compile(loss='mean_squared_error', optimizer='adam')\n",
    "\n",
    "# 모델 학습\n",
    "model.fit(X_train, y_train, epochs=10, batch_size=32)\n",
    "\n",
    "# 모델 예측\n",
    "predictions = model.predict(X_test)\n",
    "\n",
    "# 모델 평가\n",
    "mse = mean_squared_error(y_test, predictions)\n",
    "r2 = r2_score(y_test, predictions)"
   ]
  },
  {
   "cell_type": "code",
   "execution_count": 156,
   "id": "dfe8bd49-6859-4f3f-9ae6-be4751bd5890",
   "metadata": {
    "tags": []
   },
   "outputs": [
    {
     "data": {
      "text/plain": [
       "(4685.995824328256, 0.024392045879199853)"
      ]
     },
     "execution_count": 156,
     "metadata": {},
     "output_type": "execute_result"
    }
   ],
   "source": [
    "mse, r2"
   ]
  },
  {
   "cell_type": "code",
   "execution_count": 179,
   "id": "974a0ab0-e74f-4be7-88ae-85472e723534",
   "metadata": {
    "tags": []
   },
   "outputs": [
    {
     "data": {
      "text/plain": [
       "((16413, 400), (16413,))"
      ]
     },
     "execution_count": 179,
     "metadata": {},
     "output_type": "execute_result"
    }
   ],
   "source": [
    "X_train.shape, y_train.shape"
   ]
  },
  {
   "cell_type": "markdown",
   "id": "f9156377-c10c-4cca-b0e0-4af04f423db8",
   "metadata": {},
   "source": [
    "## cnn + lstm"
   ]
  },
  {
   "cell_type": "code",
   "execution_count": 199,
   "id": "58c060cd-be24-4977-9fe3-14b7524e9de8",
   "metadata": {
    "tags": []
   },
   "outputs": [
    {
     "data": {
      "text/plain": [
       "(12309, 1, 400)"
      ]
     },
     "execution_count": 199,
     "metadata": {},
     "output_type": "execute_result"
    }
   ],
   "source": [
    "X_train.shape"
   ]
  },
  {
   "cell_type": "code",
   "execution_count": 217,
   "id": "8469ac20-53c5-4e2e-a56d-b57ffbce8c18",
   "metadata": {
    "tags": []
   },
   "outputs": [
    {
     "name": "stdout",
     "output_type": "stream",
     "text": [
      "Epoch 1/10\n"
     ]
    },
    {
     "ename": "ValueError",
     "evalue": "in user code:\n\n    File \"C:\\workspace\\ShipSupplies\\venv\\lib\\site-packages\\keras\\engine\\training.py\", line 1160, in train_function  *\n        return step_function(self, iterator)\n    File \"C:\\workspace\\ShipSupplies\\venv\\lib\\site-packages\\keras\\engine\\training.py\", line 1146, in step_function  **\n        outputs = model.distribute_strategy.run(run_step, args=(data,))\n    File \"C:\\workspace\\ShipSupplies\\venv\\lib\\site-packages\\keras\\engine\\training.py\", line 1135, in run_step  **\n        outputs = model.train_step(data)\n    File \"C:\\workspace\\ShipSupplies\\venv\\lib\\site-packages\\keras\\engine\\training.py\", line 993, in train_step\n        y_pred = self(x, training=True)\n    File \"C:\\workspace\\ShipSupplies\\venv\\lib\\site-packages\\keras\\utils\\traceback_utils.py\", line 70, in error_handler\n        raise e.with_traceback(filtered_tb) from None\n    File \"C:\\workspace\\ShipSupplies\\venv\\lib\\site-packages\\keras\\engine\\input_spec.py\", line 295, in assert_input_compatibility\n        raise ValueError(\n\n    ValueError: Input 0 of layer \"sequential_32\" is incompatible with the layer: expected shape=(None, 12309, 64), found shape=(None, 1, 400)\n",
     "output_type": "error",
     "traceback": [
      "\u001b[1;31m---------------------------------------------------------------------------\u001b[0m",
      "\u001b[1;31mValueError\u001b[0m                                Traceback (most recent call last)",
      "Cell \u001b[1;32mIn[217], line 36\u001b[0m\n\u001b[0;32m     34\u001b[0m model\u001b[38;5;241m.\u001b[39mcompile(loss\u001b[38;5;241m=\u001b[39m\u001b[38;5;124m'\u001b[39m\u001b[38;5;124mmean_squared_error\u001b[39m\u001b[38;5;124m'\u001b[39m, optimizer\u001b[38;5;241m=\u001b[39m\u001b[38;5;124m'\u001b[39m\u001b[38;5;124madam\u001b[39m\u001b[38;5;124m'\u001b[39m, metrics\u001b[38;5;241m=\u001b[39m[\u001b[38;5;124m'\u001b[39m\u001b[38;5;124mmse\u001b[39m\u001b[38;5;124m'\u001b[39m])\n\u001b[0;32m     35\u001b[0m \u001b[38;5;66;03m# # 모델 학습\u001b[39;00m\n\u001b[1;32m---> 36\u001b[0m \u001b[43mmodel\u001b[49m\u001b[38;5;241;43m.\u001b[39;49m\u001b[43mfit\u001b[49m\u001b[43m(\u001b[49m\u001b[43mX_train\u001b[49m\u001b[43m,\u001b[49m\u001b[43m \u001b[49m\u001b[43my_train\u001b[49m\u001b[43m,\u001b[49m\u001b[43m \u001b[49m\u001b[43mbatch_size\u001b[49m\u001b[38;5;241;43m=\u001b[39;49m\u001b[38;5;241;43m32\u001b[39;49m\u001b[43m,\u001b[49m\u001b[43m \u001b[49m\u001b[43mepochs\u001b[49m\u001b[38;5;241;43m=\u001b[39;49m\u001b[38;5;241;43m10\u001b[39;49m\u001b[43m,\u001b[49m\u001b[43m \u001b[49m\u001b[43mvalidation_data\u001b[49m\u001b[38;5;241;43m=\u001b[39;49m\u001b[43m(\u001b[49m\u001b[43mX_val\u001b[49m\u001b[43m,\u001b[49m\u001b[43m \u001b[49m\u001b[43my_val\u001b[49m\u001b[43m)\u001b[49m\u001b[43m)\u001b[49m\n\u001b[0;32m     37\u001b[0m \u001b[38;5;66;03m# 모델 요약 출력\u001b[39;00m\n\u001b[0;32m     38\u001b[0m model\u001b[38;5;241m.\u001b[39msummary()\n",
      "File \u001b[1;32mC:\\workspace\\ShipSupplies\\venv\\lib\\site-packages\\keras\\utils\\traceback_utils.py:70\u001b[0m, in \u001b[0;36mfilter_traceback.<locals>.error_handler\u001b[1;34m(*args, **kwargs)\u001b[0m\n\u001b[0;32m     67\u001b[0m     filtered_tb \u001b[38;5;241m=\u001b[39m _process_traceback_frames(e\u001b[38;5;241m.\u001b[39m__traceback__)\n\u001b[0;32m     68\u001b[0m     \u001b[38;5;66;03m# To get the full stack trace, call:\u001b[39;00m\n\u001b[0;32m     69\u001b[0m     \u001b[38;5;66;03m# `tf.debugging.disable_traceback_filtering()`\u001b[39;00m\n\u001b[1;32m---> 70\u001b[0m     \u001b[38;5;28;01mraise\u001b[39;00m e\u001b[38;5;241m.\u001b[39mwith_traceback(filtered_tb) \u001b[38;5;28;01mfrom\u001b[39;00m \u001b[38;5;28;01mNone\u001b[39;00m\n\u001b[0;32m     71\u001b[0m \u001b[38;5;28;01mfinally\u001b[39;00m:\n\u001b[0;32m     72\u001b[0m     \u001b[38;5;28;01mdel\u001b[39;00m filtered_tb\n",
      "File \u001b[1;32m~\\AppData\\Local\\Temp\\__autograph_generated_file7duvw9rg.py:15\u001b[0m, in \u001b[0;36mouter_factory.<locals>.inner_factory.<locals>.tf__train_function\u001b[1;34m(iterator)\u001b[0m\n\u001b[0;32m     13\u001b[0m \u001b[38;5;28;01mtry\u001b[39;00m:\n\u001b[0;32m     14\u001b[0m     do_return \u001b[38;5;241m=\u001b[39m \u001b[38;5;28;01mTrue\u001b[39;00m\n\u001b[1;32m---> 15\u001b[0m     retval_ \u001b[38;5;241m=\u001b[39m ag__\u001b[38;5;241m.\u001b[39mconverted_call(ag__\u001b[38;5;241m.\u001b[39mld(step_function), (ag__\u001b[38;5;241m.\u001b[39mld(\u001b[38;5;28mself\u001b[39m), ag__\u001b[38;5;241m.\u001b[39mld(iterator)), \u001b[38;5;28;01mNone\u001b[39;00m, fscope)\n\u001b[0;32m     16\u001b[0m \u001b[38;5;28;01mexcept\u001b[39;00m:\n\u001b[0;32m     17\u001b[0m     do_return \u001b[38;5;241m=\u001b[39m \u001b[38;5;28;01mFalse\u001b[39;00m\n",
      "\u001b[1;31mValueError\u001b[0m: in user code:\n\n    File \"C:\\workspace\\ShipSupplies\\venv\\lib\\site-packages\\keras\\engine\\training.py\", line 1160, in train_function  *\n        return step_function(self, iterator)\n    File \"C:\\workspace\\ShipSupplies\\venv\\lib\\site-packages\\keras\\engine\\training.py\", line 1146, in step_function  **\n        outputs = model.distribute_strategy.run(run_step, args=(data,))\n    File \"C:\\workspace\\ShipSupplies\\venv\\lib\\site-packages\\keras\\engine\\training.py\", line 1135, in run_step  **\n        outputs = model.train_step(data)\n    File \"C:\\workspace\\ShipSupplies\\venv\\lib\\site-packages\\keras\\engine\\training.py\", line 993, in train_step\n        y_pred = self(x, training=True)\n    File \"C:\\workspace\\ShipSupplies\\venv\\lib\\site-packages\\keras\\utils\\traceback_utils.py\", line 70, in error_handler\n        raise e.with_traceback(filtered_tb) from None\n    File \"C:\\workspace\\ShipSupplies\\venv\\lib\\site-packages\\keras\\engine\\input_spec.py\", line 295, in assert_input_compatibility\n        raise ValueError(\n\n    ValueError: Input 0 of layer \"sequential_32\" is incompatible with the layer: expected shape=(None, 12309, 64), found shape=(None, 1, 400)\n"
     ]
    }
   ],
   "source": [
    "from tensorflow.keras.models import Sequential\n",
    "from tensorflow.keras.layers import Conv1D, MaxPooling1D, LSTM, Dense, Dropout, Reshape, Flatten\n",
    "\n",
    "# 피처 벡터 생성\n",
    "X = np.concatenate([embeddings_col1, embeddings_col2, embeddings_col3, embeddings_col4], axis=1)\n",
    "\n",
    "# 예측 대상 데이터\n",
    "target_data = df1['leadtime'].values\n",
    "\n",
    "# 학습 데이터와 테스트 데이터로 분할\n",
    "X_train, X_test, y_train, y_test = train_test_split(X, target_data, test_size=0.2, random_state=42)\n",
    "\n",
    "# 훈련 데이터와 검증 데이터로 분할\n",
    "X_train, X_val, y_train, y_val = train_test_split(X_train, y_train, test_size=0.25, random_state=42)\n",
    "\n",
    "# 입력 데이터의 형태를 맞추기\n",
    "X_train = X_train.reshape(X_train.shape[0], 1, X_train.shape[1])\n",
    "X_test = X_test.reshape(X_test.shape[0], 1, X_test.shape[1])\n",
    "X_val = X_val.reshape(X_val.shape[0], 1, X_val.shape[1])\n",
    "# X_train = np.reshape(X_train, (X_train.shape[0], X_train.shape[1], 400))\n",
    "# X_val = np.reshape(X_val, (X_val.shape[0], X_val.shape[1], 400))\n",
    "\n",
    "\n",
    "model = Sequential()\n",
    "model.add(Conv1D(filters=64, kernel_size=3, activation='relu', input_shape=(12309, 64), padding='same'))\n",
    "model.add(Reshape((12309, 64)))\n",
    "model.add(MaxPooling1D(pool_size=2))\n",
    "model.add(LSTM(64))\n",
    "model.add(Dense(1))\n",
    "\n",
    "\n",
    "\n",
    "# # 모델 컴파일\n",
    "model.compile(loss='mean_squared_error', optimizer='adam', metrics=['mse'])\n",
    "# # 모델 학습\n",
    "model.fit(X_train, y_train, batch_size=32, epochs=10, validation_data=(X_val, y_val))\n",
    "# 모델 요약 출력\n",
    "model.summary()\n",
    "\n"
   ]
  },
  {
   "cell_type": "code",
   "execution_count": 218,
   "id": "c495fd2e-4c7e-47ff-b182-7cbd2d49ece4",
   "metadata": {
    "tags": []
   },
   "outputs": [
    {
     "data": {
      "text/plain": [
       "((12309, 1, 400), (4104, 1, 400), (4104, 1, 400), (12309,))"
      ]
     },
     "execution_count": 218,
     "metadata": {},
     "output_type": "execute_result"
    }
   ],
   "source": [
    "X_train.shape, X_test.shape, X_val.shape, y_train.shape"
   ]
  },
  {
   "cell_type": "code",
   "execution_count": null,
   "id": "896d8e08-c0de-4084-bcb9-fa0b4a63dfcc",
   "metadata": {},
   "outputs": [],
   "source": []
  },
  {
   "cell_type": "code",
   "execution_count": null,
   "id": "097d852d-a74c-4667-887f-12c76a82e3a5",
   "metadata": {},
   "outputs": [],
   "source": []
  },
  {
   "cell_type": "code",
   "execution_count": null,
   "id": "72cfde95-3132-4a59-bacb-bc781a92592b",
   "metadata": {},
   "outputs": [],
   "source": []
  },
  {
   "cell_type": "code",
   "execution_count": null,
   "id": "d1fea7f6-a12a-44bc-8ac4-c419fbc13d8a",
   "metadata": {},
   "outputs": [],
   "source": []
  },
  {
   "cell_type": "code",
   "execution_count": null,
   "id": "5cae97d5-1bca-4596-a991-bcb05782388f",
   "metadata": {},
   "outputs": [],
   "source": []
  },
  {
   "cell_type": "code",
   "execution_count": 115,
   "id": "f4366c22-d73a-4842-b4d7-f8b4430bb5a4",
   "metadata": {
    "tags": []
   },
   "outputs": [
    {
     "data": {
      "text/plain": [
       "(82068, 100)"
      ]
     },
     "execution_count": 115,
     "metadata": {},
     "output_type": "execute_result"
    }
   ],
   "source": [
    "X.shape"
   ]
  },
  {
   "cell_type": "code",
   "execution_count": 72,
   "id": "615e54ac-b43b-4efe-8776-251879613de5",
   "metadata": {
    "tags": []
   },
   "outputs": [
    {
     "ename": "AttributeError",
     "evalue": "'float' object has no attribute 'lower'",
     "output_type": "error",
     "traceback": [
      "\u001b[1;31m---------------------------------------------------------------------------\u001b[0m",
      "\u001b[1;31mAttributeError\u001b[0m                            Traceback (most recent call last)",
      "Cell \u001b[1;32mIn[72], line 31\u001b[0m\n\u001b[0;32m     29\u001b[0m vectorizer \u001b[38;5;241m=\u001b[39m TfidfVectorizer()\n\u001b[0;32m     30\u001b[0m \u001b[38;5;66;03m# 문서 집합을 벡터화\u001b[39;00m\n\u001b[1;32m---> 31\u001b[0m vectorized_data \u001b[38;5;241m=\u001b[39m \u001b[43mvectorizer\u001b[49m\u001b[38;5;241;43m.\u001b[39;49m\u001b[43mfit_transform\u001b[49m\u001b[43m(\u001b[49m\u001b[43mdf1\u001b[49m\u001b[43m[\u001b[49m\u001b[43mcolumn\u001b[49m\u001b[43m]\u001b[49m\u001b[43m)\u001b[49m\n\u001b[0;32m     32\u001b[0m \u001b[38;5;66;03m# 벡터화된 데이터를 배열로 변환\u001b[39;00m\n\u001b[0;32m     33\u001b[0m vectors \u001b[38;5;241m=\u001b[39m vectorized_data\u001b[38;5;241m.\u001b[39mtoarray()\n",
      "File \u001b[1;32mC:\\workspace\\ShipSupplies\\venv\\lib\\site-packages\\sklearn\\feature_extraction\\text.py:2133\u001b[0m, in \u001b[0;36mTfidfVectorizer.fit_transform\u001b[1;34m(self, raw_documents, y)\u001b[0m\n\u001b[0;32m   2126\u001b[0m \u001b[38;5;28mself\u001b[39m\u001b[38;5;241m.\u001b[39m_check_params()\n\u001b[0;32m   2127\u001b[0m \u001b[38;5;28mself\u001b[39m\u001b[38;5;241m.\u001b[39m_tfidf \u001b[38;5;241m=\u001b[39m TfidfTransformer(\n\u001b[0;32m   2128\u001b[0m     norm\u001b[38;5;241m=\u001b[39m\u001b[38;5;28mself\u001b[39m\u001b[38;5;241m.\u001b[39mnorm,\n\u001b[0;32m   2129\u001b[0m     use_idf\u001b[38;5;241m=\u001b[39m\u001b[38;5;28mself\u001b[39m\u001b[38;5;241m.\u001b[39muse_idf,\n\u001b[0;32m   2130\u001b[0m     smooth_idf\u001b[38;5;241m=\u001b[39m\u001b[38;5;28mself\u001b[39m\u001b[38;5;241m.\u001b[39msmooth_idf,\n\u001b[0;32m   2131\u001b[0m     sublinear_tf\u001b[38;5;241m=\u001b[39m\u001b[38;5;28mself\u001b[39m\u001b[38;5;241m.\u001b[39msublinear_tf,\n\u001b[0;32m   2132\u001b[0m )\n\u001b[1;32m-> 2133\u001b[0m X \u001b[38;5;241m=\u001b[39m \u001b[38;5;28;43msuper\u001b[39;49m\u001b[43m(\u001b[49m\u001b[43m)\u001b[49m\u001b[38;5;241;43m.\u001b[39;49m\u001b[43mfit_transform\u001b[49m\u001b[43m(\u001b[49m\u001b[43mraw_documents\u001b[49m\u001b[43m)\u001b[49m\n\u001b[0;32m   2134\u001b[0m \u001b[38;5;28mself\u001b[39m\u001b[38;5;241m.\u001b[39m_tfidf\u001b[38;5;241m.\u001b[39mfit(X)\n\u001b[0;32m   2135\u001b[0m \u001b[38;5;66;03m# X is already a transformed view of raw_documents so\u001b[39;00m\n\u001b[0;32m   2136\u001b[0m \u001b[38;5;66;03m# we set copy to False\u001b[39;00m\n",
      "File \u001b[1;32mC:\\workspace\\ShipSupplies\\venv\\lib\\site-packages\\sklearn\\feature_extraction\\text.py:1388\u001b[0m, in \u001b[0;36mCountVectorizer.fit_transform\u001b[1;34m(self, raw_documents, y)\u001b[0m\n\u001b[0;32m   1380\u001b[0m             warnings\u001b[38;5;241m.\u001b[39mwarn(\n\u001b[0;32m   1381\u001b[0m                 \u001b[38;5;124m\"\u001b[39m\u001b[38;5;124mUpper case characters found in\u001b[39m\u001b[38;5;124m\"\u001b[39m\n\u001b[0;32m   1382\u001b[0m                 \u001b[38;5;124m\"\u001b[39m\u001b[38;5;124m vocabulary while \u001b[39m\u001b[38;5;124m'\u001b[39m\u001b[38;5;124mlowercase\u001b[39m\u001b[38;5;124m'\u001b[39m\u001b[38;5;124m\"\u001b[39m\n\u001b[0;32m   1383\u001b[0m                 \u001b[38;5;124m\"\u001b[39m\u001b[38;5;124m is True. These entries will not\u001b[39m\u001b[38;5;124m\"\u001b[39m\n\u001b[0;32m   1384\u001b[0m                 \u001b[38;5;124m\"\u001b[39m\u001b[38;5;124m be matched with any documents\u001b[39m\u001b[38;5;124m\"\u001b[39m\n\u001b[0;32m   1385\u001b[0m             )\n\u001b[0;32m   1386\u001b[0m             \u001b[38;5;28;01mbreak\u001b[39;00m\n\u001b[1;32m-> 1388\u001b[0m vocabulary, X \u001b[38;5;241m=\u001b[39m \u001b[38;5;28;43mself\u001b[39;49m\u001b[38;5;241;43m.\u001b[39;49m\u001b[43m_count_vocab\u001b[49m\u001b[43m(\u001b[49m\u001b[43mraw_documents\u001b[49m\u001b[43m,\u001b[49m\u001b[43m \u001b[49m\u001b[38;5;28;43mself\u001b[39;49m\u001b[38;5;241;43m.\u001b[39;49m\u001b[43mfixed_vocabulary_\u001b[49m\u001b[43m)\u001b[49m\n\u001b[0;32m   1390\u001b[0m \u001b[38;5;28;01mif\u001b[39;00m \u001b[38;5;28mself\u001b[39m\u001b[38;5;241m.\u001b[39mbinary:\n\u001b[0;32m   1391\u001b[0m     X\u001b[38;5;241m.\u001b[39mdata\u001b[38;5;241m.\u001b[39mfill(\u001b[38;5;241m1\u001b[39m)\n",
      "File \u001b[1;32mC:\\workspace\\ShipSupplies\\venv\\lib\\site-packages\\sklearn\\feature_extraction\\text.py:1275\u001b[0m, in \u001b[0;36mCountVectorizer._count_vocab\u001b[1;34m(self, raw_documents, fixed_vocab)\u001b[0m\n\u001b[0;32m   1273\u001b[0m \u001b[38;5;28;01mfor\u001b[39;00m doc \u001b[38;5;129;01min\u001b[39;00m raw_documents:\n\u001b[0;32m   1274\u001b[0m     feature_counter \u001b[38;5;241m=\u001b[39m {}\n\u001b[1;32m-> 1275\u001b[0m     \u001b[38;5;28;01mfor\u001b[39;00m feature \u001b[38;5;129;01min\u001b[39;00m \u001b[43manalyze\u001b[49m\u001b[43m(\u001b[49m\u001b[43mdoc\u001b[49m\u001b[43m)\u001b[49m:\n\u001b[0;32m   1276\u001b[0m         \u001b[38;5;28;01mtry\u001b[39;00m:\n\u001b[0;32m   1277\u001b[0m             feature_idx \u001b[38;5;241m=\u001b[39m vocabulary[feature]\n",
      "File \u001b[1;32mC:\\workspace\\ShipSupplies\\venv\\lib\\site-packages\\sklearn\\feature_extraction\\text.py:111\u001b[0m, in \u001b[0;36m_analyze\u001b[1;34m(doc, analyzer, tokenizer, ngrams, preprocessor, decoder, stop_words)\u001b[0m\n\u001b[0;32m    109\u001b[0m \u001b[38;5;28;01melse\u001b[39;00m:\n\u001b[0;32m    110\u001b[0m     \u001b[38;5;28;01mif\u001b[39;00m preprocessor \u001b[38;5;129;01mis\u001b[39;00m \u001b[38;5;129;01mnot\u001b[39;00m \u001b[38;5;28;01mNone\u001b[39;00m:\n\u001b[1;32m--> 111\u001b[0m         doc \u001b[38;5;241m=\u001b[39m \u001b[43mpreprocessor\u001b[49m\u001b[43m(\u001b[49m\u001b[43mdoc\u001b[49m\u001b[43m)\u001b[49m\n\u001b[0;32m    112\u001b[0m     \u001b[38;5;28;01mif\u001b[39;00m tokenizer \u001b[38;5;129;01mis\u001b[39;00m \u001b[38;5;129;01mnot\u001b[39;00m \u001b[38;5;28;01mNone\u001b[39;00m:\n\u001b[0;32m    113\u001b[0m         doc \u001b[38;5;241m=\u001b[39m tokenizer(doc)\n",
      "File \u001b[1;32mC:\\workspace\\ShipSupplies\\venv\\lib\\site-packages\\sklearn\\feature_extraction\\text.py:69\u001b[0m, in \u001b[0;36m_preprocess\u001b[1;34m(doc, accent_function, lower)\u001b[0m\n\u001b[0;32m     50\u001b[0m \u001b[38;5;250m\u001b[39m\u001b[38;5;124;03m\"\"\"Chain together an optional series of text preprocessing steps to\u001b[39;00m\n\u001b[0;32m     51\u001b[0m \u001b[38;5;124;03mapply to a document.\u001b[39;00m\n\u001b[0;32m     52\u001b[0m \n\u001b[1;32m   (...)\u001b[0m\n\u001b[0;32m     66\u001b[0m \u001b[38;5;124;03m    preprocessed string\u001b[39;00m\n\u001b[0;32m     67\u001b[0m \u001b[38;5;124;03m\"\"\"\u001b[39;00m\n\u001b[0;32m     68\u001b[0m \u001b[38;5;28;01mif\u001b[39;00m lower:\n\u001b[1;32m---> 69\u001b[0m     doc \u001b[38;5;241m=\u001b[39m \u001b[43mdoc\u001b[49m\u001b[38;5;241;43m.\u001b[39;49m\u001b[43mlower\u001b[49m()\n\u001b[0;32m     70\u001b[0m \u001b[38;5;28;01mif\u001b[39;00m accent_function \u001b[38;5;129;01mis\u001b[39;00m \u001b[38;5;129;01mnot\u001b[39;00m \u001b[38;5;28;01mNone\u001b[39;00m:\n\u001b[0;32m     71\u001b[0m     doc \u001b[38;5;241m=\u001b[39m accent_function(doc)\n",
      "\u001b[1;31mAttributeError\u001b[0m: 'float' object has no attribute 'lower'"
     ]
    }
   ],
   "source": [
    "import numpy as np\n",
    "import pandas as pd\n",
    "from gensim.models import Word2Vec\n",
    "\n",
    "# 데이터셋 로드\n",
    "# data = pd.read_csv('data.csv')\n",
    "\n",
    "# 각 컬럼에 대한 임베딩 모델 학습\n",
    "embedding_models = {}\n",
    "columns = [\"청구품목\", 'key2', '견적화폐' , '발주처']\n",
    "\n",
    "X = df1[[\"청구품목\", 'key2', '견적화폐' , '발주처']]\n",
    "y = df1['leadtime']\n",
    "\n",
    "# for column in columns:\n",
    "#     # 컬럼 데이터를 리스트로 변환\n",
    "#     column_data = df1[column].tolist()\n",
    "    \n",
    "#     # Word2Vec 모델 학습\n",
    "#     embedding_model = Word2Vec(sentences=column_data, vector_size=100, window=5, min_count=1, workers=4)\n",
    "    \n",
    "#     # 학습된 임베딩 모델 저장\n",
    "#     embedding_models[column] = embedding_model\n",
    "\n",
    "from sklearn.feature_extraction.text import TfidfVectorizer\n",
    "\n",
    "for column in columns:\n",
    "    # 단어 벡터화 객체 생성\n",
    "    vectorizer = TfidfVectorizer()\n",
    "    # 문서 집합을 벡터화\n",
    "    vectorized_data = vectorizer.fit_transform(df1[column])\n",
    "    # 벡터화된 데이터를 배열로 변환\n",
    "    vectors = vectorized_data.toarray()\n",
    "    df1[column] = vectors\n",
    "\n",
    "# 임베딩된 벡터를 DataFrame의 컬럼에 할당\n",
    "# for column in columns:\n",
    "    # 임베딩된 벡터 저장할 빈 리스트\n",
    "    # embedded_vectors = []\n",
    "    \n",
    "    \n",
    "    # 각 범주에 대해 임베딩된 벡터 추출\n",
    "#     for category in df1[column]:\n",
    "#         # 벡터 추출\n",
    "#         vector = embedding_models[column].wv[category]\n",
    "#         embedded_vectors.append(vector)\n",
    "        \n",
    "#     # 임베딩된 벡터를 DataFrame의 컬럼으로 할당\n",
    "#     embedded_vectors = np.array(embedded_vectors)\n",
    "#     for i in range(embedded_vectors.shape[1]):\n",
    "#         df1[f\"{column}_embedded_{i+1}\"] = embedded_vectors[:, i]\n",
    "\n",
    "# 결과 확인\n",
    "# print(df1.head())\n",
    "df1"
   ]
  },
  {
   "cell_type": "code",
   "execution_count": 80,
   "id": "248e5f25-fc33-45f0-8e98-168e8bc485fd",
   "metadata": {
    "tags": []
   },
   "outputs": [
    {
     "data": {
      "text/html": [
       "<div>\n",
       "<style scoped>\n",
       "    .dataframe tbody tr th:only-of-type {\n",
       "        vertical-align: middle;\n",
       "    }\n",
       "\n",
       "    .dataframe tbody tr th {\n",
       "        vertical-align: top;\n",
       "    }\n",
       "\n",
       "    .dataframe thead th {\n",
       "        text-align: right;\n",
       "    }\n",
       "</style>\n",
       "<table border=\"1\" class=\"dataframe\">\n",
       "  <thead>\n",
       "    <tr style=\"text-align: right;\">\n",
       "      <th></th>\n",
       "      <th>청구품목</th>\n",
       "      <th>key2</th>\n",
       "      <th>리드타임</th>\n",
       "      <th>견적화폐</th>\n",
       "      <th>발주처</th>\n",
       "      <th>leadtime</th>\n",
       "    </tr>\n",
       "  </thead>\n",
       "  <tbody>\n",
       "    <tr>\n",
       "      <th>0</th>\n",
       "      <td>0.0</td>\n",
       "      <td>0.0</td>\n",
       "      <td>194</td>\n",
       "      <td>0.0</td>\n",
       "      <td>0.0</td>\n",
       "      <td>194</td>\n",
       "    </tr>\n",
       "    <tr>\n",
       "      <th>1</th>\n",
       "      <td>0.0</td>\n",
       "      <td>0.0</td>\n",
       "      <td>59</td>\n",
       "      <td>0.0</td>\n",
       "      <td>0.0</td>\n",
       "      <td>59</td>\n",
       "    </tr>\n",
       "    <tr>\n",
       "      <th>2</th>\n",
       "      <td>0.0</td>\n",
       "      <td>0.0</td>\n",
       "      <td>61</td>\n",
       "      <td>0.0</td>\n",
       "      <td>0.0</td>\n",
       "      <td>61</td>\n",
       "    </tr>\n",
       "    <tr>\n",
       "      <th>3</th>\n",
       "      <td>0.0</td>\n",
       "      <td>0.0</td>\n",
       "      <td>212</td>\n",
       "      <td>0.0</td>\n",
       "      <td>0.0</td>\n",
       "      <td>212</td>\n",
       "    </tr>\n",
       "    <tr>\n",
       "      <th>4</th>\n",
       "      <td>0.0</td>\n",
       "      <td>0.0</td>\n",
       "      <td>220</td>\n",
       "      <td>0.0</td>\n",
       "      <td>0.0</td>\n",
       "      <td>220</td>\n",
       "    </tr>\n",
       "    <tr>\n",
       "      <th>5</th>\n",
       "      <td>0.0</td>\n",
       "      <td>0.0</td>\n",
       "      <td>80</td>\n",
       "      <td>0.0</td>\n",
       "      <td>0.0</td>\n",
       "      <td>80</td>\n",
       "    </tr>\n",
       "    <tr>\n",
       "      <th>6</th>\n",
       "      <td>0.0</td>\n",
       "      <td>0.0</td>\n",
       "      <td>100</td>\n",
       "      <td>0.0</td>\n",
       "      <td>0.0</td>\n",
       "      <td>100</td>\n",
       "    </tr>\n",
       "    <tr>\n",
       "      <th>7</th>\n",
       "      <td>0.0</td>\n",
       "      <td>0.0</td>\n",
       "      <td>13</td>\n",
       "      <td>0.0</td>\n",
       "      <td>0.0</td>\n",
       "      <td>13</td>\n",
       "    </tr>\n",
       "    <tr>\n",
       "      <th>8</th>\n",
       "      <td>0.0</td>\n",
       "      <td>0.0</td>\n",
       "      <td>117</td>\n",
       "      <td>0.0</td>\n",
       "      <td>0.0</td>\n",
       "      <td>117</td>\n",
       "    </tr>\n",
       "    <tr>\n",
       "      <th>9</th>\n",
       "      <td>0.0</td>\n",
       "      <td>0.0</td>\n",
       "      <td>96</td>\n",
       "      <td>0.0</td>\n",
       "      <td>0.0</td>\n",
       "      <td>96</td>\n",
       "    </tr>\n",
       "    <tr>\n",
       "      <th>10</th>\n",
       "      <td>0.0</td>\n",
       "      <td>0.0</td>\n",
       "      <td>2</td>\n",
       "      <td>0.0</td>\n",
       "      <td>0.0</td>\n",
       "      <td>2</td>\n",
       "    </tr>\n",
       "    <tr>\n",
       "      <th>11</th>\n",
       "      <td>0.0</td>\n",
       "      <td>0.0</td>\n",
       "      <td>156</td>\n",
       "      <td>0.0</td>\n",
       "      <td>0.0</td>\n",
       "      <td>156</td>\n",
       "    </tr>\n",
       "    <tr>\n",
       "      <th>12</th>\n",
       "      <td>0.0</td>\n",
       "      <td>0.0</td>\n",
       "      <td>72</td>\n",
       "      <td>0.0</td>\n",
       "      <td>0.0</td>\n",
       "      <td>72</td>\n",
       "    </tr>\n",
       "    <tr>\n",
       "      <th>13</th>\n",
       "      <td>0.0</td>\n",
       "      <td>0.0</td>\n",
       "      <td>25</td>\n",
       "      <td>0.0</td>\n",
       "      <td>0.0</td>\n",
       "      <td>25</td>\n",
       "    </tr>\n",
       "    <tr>\n",
       "      <th>14</th>\n",
       "      <td>0.0</td>\n",
       "      <td>0.0</td>\n",
       "      <td>49</td>\n",
       "      <td>0.0</td>\n",
       "      <td>0.0</td>\n",
       "      <td>49</td>\n",
       "    </tr>\n",
       "    <tr>\n",
       "      <th>15</th>\n",
       "      <td>0.0</td>\n",
       "      <td>0.0</td>\n",
       "      <td>49</td>\n",
       "      <td>0.0</td>\n",
       "      <td>0.0</td>\n",
       "      <td>49</td>\n",
       "    </tr>\n",
       "    <tr>\n",
       "      <th>16</th>\n",
       "      <td>0.0</td>\n",
       "      <td>0.0</td>\n",
       "      <td>49</td>\n",
       "      <td>0.0</td>\n",
       "      <td>0.0</td>\n",
       "      <td>49</td>\n",
       "    </tr>\n",
       "    <tr>\n",
       "      <th>17</th>\n",
       "      <td>0.0</td>\n",
       "      <td>0.0</td>\n",
       "      <td>49</td>\n",
       "      <td>0.0</td>\n",
       "      <td>0.0</td>\n",
       "      <td>49</td>\n",
       "    </tr>\n",
       "    <tr>\n",
       "      <th>18</th>\n",
       "      <td>0.0</td>\n",
       "      <td>0.0</td>\n",
       "      <td>56</td>\n",
       "      <td>1.0</td>\n",
       "      <td>0.0</td>\n",
       "      <td>56</td>\n",
       "    </tr>\n",
       "    <tr>\n",
       "      <th>19</th>\n",
       "      <td>0.0</td>\n",
       "      <td>0.0</td>\n",
       "      <td>48</td>\n",
       "      <td>1.0</td>\n",
       "      <td>0.0</td>\n",
       "      <td>48</td>\n",
       "    </tr>\n",
       "  </tbody>\n",
       "</table>\n",
       "</div>"
      ],
      "text/plain": [
       "    청구품목  key2  리드타임  견적화폐  발주처  leadtime\n",
       "0    0.0   0.0   194   0.0  0.0       194\n",
       "1    0.0   0.0    59   0.0  0.0        59\n",
       "2    0.0   0.0    61   0.0  0.0        61\n",
       "3    0.0   0.0   212   0.0  0.0       212\n",
       "4    0.0   0.0   220   0.0  0.0       220\n",
       "5    0.0   0.0    80   0.0  0.0        80\n",
       "6    0.0   0.0   100   0.0  0.0       100\n",
       "7    0.0   0.0    13   0.0  0.0        13\n",
       "8    0.0   0.0   117   0.0  0.0       117\n",
       "9    0.0   0.0    96   0.0  0.0        96\n",
       "10   0.0   0.0     2   0.0  0.0         2\n",
       "11   0.0   0.0   156   0.0  0.0       156\n",
       "12   0.0   0.0    72   0.0  0.0        72\n",
       "13   0.0   0.0    25   0.0  0.0        25\n",
       "14   0.0   0.0    49   0.0  0.0        49\n",
       "15   0.0   0.0    49   0.0  0.0        49\n",
       "16   0.0   0.0    49   0.0  0.0        49\n",
       "17   0.0   0.0    49   0.0  0.0        49\n",
       "18   0.0   0.0    56   1.0  0.0        56\n",
       "19   0.0   0.0    48   1.0  0.0        48"
      ]
     },
     "execution_count": 80,
     "metadata": {},
     "output_type": "execute_result"
    }
   ],
   "source": [
    "df1.iloc[:20,:]"
   ]
  },
  {
   "cell_type": "code",
   "execution_count": 70,
   "id": "50af63b0-c3e9-4573-bfd7-c84712a01b18",
   "metadata": {
    "tags": []
   },
   "outputs": [
    {
     "ename": "KeyError",
     "evalue": "\"Key 'WASHER' not present\"",
     "output_type": "error",
     "traceback": [
      "\u001b[1;31m---------------------------------------------------------------------------\u001b[0m",
      "\u001b[1;31mKeyError\u001b[0m                                  Traceback (most recent call last)",
      "Cell \u001b[1;32mIn[70], line 21\u001b[0m\n\u001b[0;32m     13\u001b[0m     embedding_models[column] \u001b[38;5;241m=\u001b[39m embedding_model\n\u001b[0;32m     15\u001b[0m \u001b[38;5;66;03m# for column, embedding_model in embedding_models.items():\u001b[39;00m\n\u001b[0;32m     16\u001b[0m \u001b[38;5;66;03m#     print(f\"Column: {column}\")\u001b[39;00m\n\u001b[0;32m     17\u001b[0m \u001b[38;5;66;03m#     print(f\"Vocabulary size: {len(embedding_model.wv.index_to_key)}\")\u001b[39;00m\n\u001b[0;32m     18\u001b[0m \u001b[38;5;66;03m#     print(f\"Vector size: {embedding_model.vector_size}\")\u001b[39;00m\n\u001b[0;32m     19\u001b[0m \u001b[38;5;66;03m#     print()\u001b[39;00m\n\u001b[1;32m---> 21\u001b[0m v \u001b[38;5;241m=\u001b[39m \u001b[43membedding_models\u001b[49m\u001b[43m[\u001b[49m\u001b[38;5;124;43m'\u001b[39;49m\u001b[38;5;124;43m청구품목\u001b[39;49m\u001b[38;5;124;43m'\u001b[39;49m\u001b[43m]\u001b[49m\u001b[38;5;241;43m.\u001b[39;49m\u001b[43mwv\u001b[49m\u001b[38;5;241;43m.\u001b[39;49m\u001b[43mget_vector\u001b[49m\u001b[43m(\u001b[49m\u001b[38;5;124;43m'\u001b[39;49m\u001b[38;5;124;43mWASHER\u001b[39;49m\u001b[38;5;124;43m'\u001b[39;49m\u001b[43m)\u001b[49m\n\u001b[0;32m     22\u001b[0m v\n\u001b[0;32m     24\u001b[0m \u001b[38;5;66;03m# 임베딩된 벡터를 DataFrame의 컬럼에 할당\u001b[39;00m\n\u001b[0;32m     25\u001b[0m \u001b[38;5;66;03m# for column in columns:\u001b[39;00m\n\u001b[0;32m     26\u001b[0m     \u001b[38;5;66;03m# 임베딩된 벡터 저장할 빈 리스트\u001b[39;00m\n\u001b[1;32m   (...)\u001b[0m\n\u001b[0;32m     33\u001b[0m         \u001b[38;5;66;03m# embedded_vectors.append(vector)\u001b[39;00m\n\u001b[0;32m     34\u001b[0m \u001b[38;5;66;03m# embedded_vectors\u001b[39;00m\n",
      "File \u001b[1;32mC:\\workspace\\ShipSupplies\\venv\\lib\\site-packages\\gensim\\models\\keyedvectors.py:446\u001b[0m, in \u001b[0;36mKeyedVectors.get_vector\u001b[1;34m(self, key, norm)\u001b[0m\n\u001b[0;32m    422\u001b[0m \u001b[38;5;28;01mdef\u001b[39;00m \u001b[38;5;21mget_vector\u001b[39m(\u001b[38;5;28mself\u001b[39m, key, norm\u001b[38;5;241m=\u001b[39m\u001b[38;5;28;01mFalse\u001b[39;00m):\n\u001b[0;32m    423\u001b[0m \u001b[38;5;250m    \u001b[39m\u001b[38;5;124;03m\"\"\"Get the key's vector, as a 1D numpy array.\u001b[39;00m\n\u001b[0;32m    424\u001b[0m \n\u001b[0;32m    425\u001b[0m \u001b[38;5;124;03m    Parameters\u001b[39;00m\n\u001b[1;32m   (...)\u001b[0m\n\u001b[0;32m    444\u001b[0m \n\u001b[0;32m    445\u001b[0m \u001b[38;5;124;03m    \"\"\"\u001b[39;00m\n\u001b[1;32m--> 446\u001b[0m     index \u001b[38;5;241m=\u001b[39m \u001b[38;5;28;43mself\u001b[39;49m\u001b[38;5;241;43m.\u001b[39;49m\u001b[43mget_index\u001b[49m\u001b[43m(\u001b[49m\u001b[43mkey\u001b[49m\u001b[43m)\u001b[49m\n\u001b[0;32m    447\u001b[0m     \u001b[38;5;28;01mif\u001b[39;00m norm:\n\u001b[0;32m    448\u001b[0m         \u001b[38;5;28mself\u001b[39m\u001b[38;5;241m.\u001b[39mfill_norms()\n",
      "File \u001b[1;32mC:\\workspace\\ShipSupplies\\venv\\lib\\site-packages\\gensim\\models\\keyedvectors.py:420\u001b[0m, in \u001b[0;36mKeyedVectors.get_index\u001b[1;34m(self, key, default)\u001b[0m\n\u001b[0;32m    418\u001b[0m     \u001b[38;5;28;01mreturn\u001b[39;00m default\n\u001b[0;32m    419\u001b[0m \u001b[38;5;28;01melse\u001b[39;00m:\n\u001b[1;32m--> 420\u001b[0m     \u001b[38;5;28;01mraise\u001b[39;00m \u001b[38;5;167;01mKeyError\u001b[39;00m(\u001b[38;5;124mf\u001b[39m\u001b[38;5;124m\"\u001b[39m\u001b[38;5;124mKey \u001b[39m\u001b[38;5;124m'\u001b[39m\u001b[38;5;132;01m{\u001b[39;00mkey\u001b[38;5;132;01m}\u001b[39;00m\u001b[38;5;124m'\u001b[39m\u001b[38;5;124m not present\u001b[39m\u001b[38;5;124m\"\u001b[39m)\n",
      "\u001b[1;31mKeyError\u001b[0m: \"Key 'WASHER' not present\""
     ]
    }
   ],
   "source": [
    "embedding_models = {}\n",
    "columns = [\"청구품목\", 'key2', '견적화폐' , '발주처']\n",
    "\n",
    "X = df1[[\"청구품목\", 'key2', '견적화폐' , '발주처']]\n",
    "y = df1['leadtime']\n",
    "\n",
    "for column in columns:\n",
    "    # 컬럼 데이터를 리스트로 변환\n",
    "    column_data = df1[column].tolist()\n",
    "    # Word2Vec 모델 학습\n",
    "    embedding_model = Word2Vec(sentences=column_data, vector_size=100, window=5, min_count=1, workers=4)\n",
    "    # 학습된 임베딩 모델 저장\n",
    "    embedding_models[column] = embedding_model\n",
    "\n",
    "# for column, embedding_model in embedding_models.items():\n",
    "#     print(f\"Column: {column}\")\n",
    "#     print(f\"Vocabulary size: {len(embedding_model.wv.index_to_key)}\")\n",
    "#     print(f\"Vector size: {embedding_model.vector_size}\")\n",
    "#     print()\n",
    "\n",
    "v = embedding_models['청구품목'].wv.get_vector('WASHER')\n",
    "v\n",
    "\n",
    "# 임베딩된 벡터를 DataFrame의 컬럼에 할당\n",
    "# for column in columns:\n",
    "    # 임베딩된 벡터 저장할 빈 리스트\n",
    "    # embedded_vectors = []\n",
    "    \n",
    "    # 각 범주에 대해 임베딩된 벡터 추출\n",
    "    # for category in df1[column]:\n",
    "        # 벡터 추출\n",
    "        # vector = embedding_models[column].wv[category]\n",
    "        # embedded_vectors.append(vector)\n",
    "# embedded_vectors"
   ]
  },
  {
   "cell_type": "code",
   "execution_count": 22,
   "id": "a2f55746-570f-4c98-b6f0-2e367724d9cc",
   "metadata": {
    "tags": []
   },
   "outputs": [
    {
     "name": "stderr",
     "output_type": "stream",
     "text": [
      "C:\\Users\\peos0\\AppData\\Local\\Temp\\ipykernel_17276\\4172538190.py:15: SettingWithCopyWarning: \n",
      "A value is trying to be set on a copy of a slice from a DataFrame.\n",
      "Try using .loc[row_indexer,col_indexer] = value instead\n",
      "\n",
      "See the caveats in the documentation: https://pandas.pydata.org/pandas-docs/stable/user_guide/indexing.html#returning-a-view-versus-a-copy\n",
      "  X[col] = label_encoder.fit_transform(X[col])\n",
      "C:\\Users\\peos0\\AppData\\Local\\Temp\\ipykernel_17276\\4172538190.py:15: SettingWithCopyWarning: \n",
      "A value is trying to be set on a copy of a slice from a DataFrame.\n",
      "Try using .loc[row_indexer,col_indexer] = value instead\n",
      "\n",
      "See the caveats in the documentation: https://pandas.pydata.org/pandas-docs/stable/user_guide/indexing.html#returning-a-view-versus-a-copy\n",
      "  X[col] = label_encoder.fit_transform(X[col])\n",
      "C:\\Users\\peos0\\AppData\\Local\\Temp\\ipykernel_17276\\4172538190.py:15: SettingWithCopyWarning: \n",
      "A value is trying to be set on a copy of a slice from a DataFrame.\n",
      "Try using .loc[row_indexer,col_indexer] = value instead\n",
      "\n",
      "See the caveats in the documentation: https://pandas.pydata.org/pandas-docs/stable/user_guide/indexing.html#returning-a-view-versus-a-copy\n",
      "  X[col] = label_encoder.fit_transform(X[col])\n",
      "C:\\Users\\peos0\\AppData\\Local\\Temp\\ipykernel_17276\\4172538190.py:15: SettingWithCopyWarning: \n",
      "A value is trying to be set on a copy of a slice from a DataFrame.\n",
      "Try using .loc[row_indexer,col_indexer] = value instead\n",
      "\n",
      "See the caveats in the documentation: https://pandas.pydata.org/pandas-docs/stable/user_guide/indexing.html#returning-a-view-versus-a-copy\n",
      "  X[col] = label_encoder.fit_transform(X[col])\n"
     ]
    }
   ],
   "source": [
    "from sklearn.model_selection import train_test_split\n",
    "from sklearn.preprocessing import LabelEncoder\n",
    "from keras.models import Sequential\n",
    "from keras.layers import Dense\n",
    "import numpy as np\n",
    "\n",
    "# 입력과 출력 데이터 분리\n",
    "X = df1[[\"청구품목\", 'key2', '견적화폐' , '발주처']]\n",
    "y = df1['leadtime']\n",
    "columns = [\"청구품목\", 'key2', '견적화폐' , '발주처']\n",
    " \n",
    "# LabelEncoder를 사용하여 범주형 변수를 정수로 인코딩\n",
    "label_encoder = LabelEncoder()\n",
    "for col in X.columns:\n",
    "    X[col] = label_encoder.fit_transform(X[col])\n",
    "\n",
    "    \n",
    "# y # 정규화\n",
    "from sklearn.preprocessing import StandardScaler\n",
    "\n",
    "# 정규화할 y 값\n",
    "y = df1['leadtime']\n",
    "\n",
    "# StandardScaler 객체 생성\n",
    "scaler = StandardScaler()\n",
    "\n",
    "y_normalized = scaler.fit_transform(y.values.reshape(-1, 1))    \n",
    "\n",
    "# RobustScaler 객체 생성\n",
    "# from sklearn.preprocessing import RobustScaler\n",
    "# scaler = RobustScaler()\n",
    "# 'leadtime' 컬럼에 로버스트 스케일링 적용\n",
    "# y = np.array(y)\n",
    "# y = y.reshape((-1, 1))\n",
    "# y = scaler.fit_transform(y)\n",
    "\n",
    "\n",
    "X_train, X_test, y_train, y_test = train_test_split(X, y_normalized, test_size=0.2, random_state=42) # y 정규화 한 y_normalized\n",
    "# X_train, X_test, y_train, y_test = train_test_split(X, y, test_size=0.2, random_state=42) \n",
    "\n",
    "# 회귀 모델 구축\n",
    "model = Sequential()\n",
    "model.add(Dense(128, activation='relu', input_dim=X_train.shape[1]))\n",
    "model.add(Dense(64, activation='relu'))\n",
    "model.add(Dense(32, activation='relu'))\n",
    "model.add(Dense(1))\n"
   ]
  },
  {
   "cell_type": "code",
   "execution_count": 23,
   "id": "6576255e-e08e-4d8c-be0f-6d9afadc0d9f",
   "metadata": {
    "tags": []
   },
   "outputs": [
    {
     "data": {
      "text/plain": [
       "(array([[ 0.99154998],\n",
       "        [ 0.03041752],\n",
       "        [-0.28517822],\n",
       "        ...,\n",
       "        [-1.01678651],\n",
       "        [-1.08851281],\n",
       "        [ 0.05910804]]),\n",
       " array([[-0.91636968],\n",
       "        [-0.02696352],\n",
       "        [-1.03113177],\n",
       "        ...,\n",
       "        [-1.07416755],\n",
       "        [-1.08851281],\n",
       "        [-0.97375073]]))"
      ]
     },
     "execution_count": 23,
     "metadata": {},
     "output_type": "execute_result"
    }
   ],
   "source": [
    "y_test, y_train"
   ]
  },
  {
   "cell_type": "code",
   "execution_count": null,
   "id": "10e74096-d9b9-475f-a859-955df3ec2e07",
   "metadata": {},
   "outputs": [],
   "source": []
  },
  {
   "cell_type": "code",
   "execution_count": null,
   "id": "a1249c80-30c5-45e0-83e4-9f3004915b55",
   "metadata": {},
   "outputs": [],
   "source": []
  },
  {
   "cell_type": "code",
   "execution_count": 9,
   "id": "62ed2b68-73f5-4c8c-b0a8-fc4151960900",
   "metadata": {
    "tags": []
   },
   "outputs": [
    {
     "data": {
      "text/plain": [
       "(7854     2.564949\n",
       " 20118    4.317488\n",
       " 8523     1.609438\n",
       " 18477    3.610918\n",
       " 483      4.127134\n",
       "            ...   \n",
       " 11284    2.564949\n",
       " 11964    5.056246\n",
       " 5390     0.693147\n",
       " 860      0.000000\n",
       " 15795    2.197225\n",
       " Name: leadtime, Length: 16413, dtype: float64,\n",
       " 1493     4.983607\n",
       " 8503     4.369448\n",
       " 7408     4.043051\n",
       " 3509     4.691348\n",
       " 5927     5.398163\n",
       "            ...   \n",
       " 17651    3.912023\n",
       " 9659     4.290459\n",
       " 13418    1.791759\n",
       " 8410     0.000000\n",
       " 16062    4.394449\n",
       " Name: leadtime, Length: 4104, dtype: float64)"
      ]
     },
     "execution_count": 9,
     "metadata": {},
     "output_type": "execute_result"
    }
   ],
   "source": [
    "# # y # 정규화\n",
    "# from sklearn.preprocessing import StandardScaler\n",
    "\n",
    "# # 정규화할 y 값\n",
    "# y = df1['leadtime']\n",
    "\n",
    "# # StandardScaler 객체 생성\n",
    "# scaler = StandardScaler()\n",
    "\n",
    "# # y 값 정규화\n",
    "# y_normalized = scaler.fit_transform(y.values.reshape(-1, 1))\n",
    "\n",
    "# # 정규화된 y 값 출력\n",
    "# print(y_normalized.shape)\n",
    "y_train, y_test"
   ]
  },
  {
   "cell_type": "code",
   "execution_count": 18,
   "id": "7f44c135-8ba6-4c07-93c8-53fc238fb705",
   "metadata": {
    "tags": []
   },
   "outputs": [],
   "source": []
  },
  {
   "cell_type": "code",
   "execution_count": 190,
   "id": "fda7004e-d4b4-42b6-82f9-2265fae4c55f",
   "metadata": {
    "tags": []
   },
   "outputs": [],
   "source": [
    "from sklearn.model_selection import train_test_split\n",
    "from sklearn.preprocessing import LabelEncoder\n",
    "from keras.models import Sequential\n",
    "from keras.layers import Dense\n",
    "\n",
    "# 학습 및 테스트 데이터 분할\n",
    "X_train, X_test, y_train, y_test = train_test_split(X, y_normalized, test_size=0.2, random_state=42)\n",
    "\n",
    "# 회귀 모델 구축\n",
    "model = Sequential()\n",
    "model.add(Dense(128, activation='relu', input_dim=X_train.shape[1]))\n",
    "model.add(Dense(64, activation='relu'))\n",
    "model.add(Dense(32, activation='relu'))\n",
    "model.add(Dense(1))"
   ]
  },
  {
   "cell_type": "code",
   "execution_count": null,
   "id": "e547e8b8-9d37-4b3d-96a7-304dbc71c23c",
   "metadata": {},
   "outputs": [],
   "source": []
  },
  {
   "cell_type": "code",
   "execution_count": null,
   "id": "c8b4e425-50f4-4c20-ac98-9aebec015f9c",
   "metadata": {},
   "outputs": [],
   "source": []
  },
  {
   "cell_type": "code",
   "execution_count": 24,
   "id": "950cc739-87b4-4eef-9102-09634f6ef390",
   "metadata": {
    "tags": []
   },
   "outputs": [],
   "source": [
    "# 모델 컴파일\n",
    "model.compile(optimizer='adam', loss='mean_squared_error')"
   ]
  },
  {
   "cell_type": "code",
   "execution_count": 25,
   "id": "fc4a780d-93c7-4015-bdae-e7e6f3465e41",
   "metadata": {
    "tags": []
   },
   "outputs": [
    {
     "name": "stdout",
     "output_type": "stream",
     "text": [
      "Epoch 1/15\n",
      "513/513 [==============================] - 1s 886us/step - loss: 156.0526\n",
      "Epoch 2/15\n",
      "513/513 [==============================] - 0s 872us/step - loss: 1.7270\n",
      "Epoch 3/15\n",
      "513/513 [==============================] - 0s 860us/step - loss: 5.1974\n",
      "Epoch 4/15\n",
      "513/513 [==============================] - 0s 867us/step - loss: 2.3596\n",
      "Epoch 5/15\n",
      "513/513 [==============================] - 0s 878us/step - loss: 3.5939\n",
      "Epoch 6/15\n",
      "513/513 [==============================] - 0s 870us/step - loss: 5.1697\n",
      "Epoch 7/15\n",
      "513/513 [==============================] - 0s 868us/step - loss: 7.8091\n",
      "Epoch 8/15\n",
      "513/513 [==============================] - 0s 778us/step - loss: 10.9850\n",
      "Epoch 9/15\n",
      "513/513 [==============================] - 0s 749us/step - loss: 3.1372\n",
      "Epoch 10/15\n",
      "513/513 [==============================] - 0s 720us/step - loss: 6.0239\n",
      "Epoch 11/15\n",
      "513/513 [==============================] - 0s 707us/step - loss: 4.2749\n",
      "Epoch 12/15\n",
      "513/513 [==============================] - 0s 697us/step - loss: 2.9449\n",
      "Epoch 13/15\n",
      "513/513 [==============================] - 0s 801us/step - loss: 3.0648\n",
      "Epoch 14/15\n",
      "513/513 [==============================] - 0s 716us/step - loss: 2.5050\n",
      "Epoch 15/15\n",
      "513/513 [==============================] - 0s 713us/step - loss: 2.6720\n"
     ]
    },
    {
     "data": {
      "text/plain": [
       "<keras.callbacks.History at 0x1eed40842e0>"
      ]
     },
     "execution_count": 25,
     "metadata": {},
     "output_type": "execute_result"
    }
   ],
   "source": [
    "# 모델 학습\n",
    "model.fit(X_train, y_train, epochs=15, batch_size=32)"
   ]
  },
  {
   "cell_type": "code",
   "execution_count": 26,
   "id": "c1ea695c-baa7-4d01-8faa-ddd0da5d560c",
   "metadata": {
    "tags": []
   },
   "outputs": [
    {
     "name": "stdout",
     "output_type": "stream",
     "text": [
      "129/129 [==============================] - 0s 701us/step - loss: 0.9326\n"
     ]
    }
   ],
   "source": [
    "# 모델 평가\n",
    "loss = model.evaluate(X_test, y_test)"
   ]
  },
  {
   "cell_type": "code",
   "execution_count": 27,
   "id": "4d6e9a82-b4da-4e43-b95c-acc79f218316",
   "metadata": {
    "tags": []
   },
   "outputs": [
    {
     "name": "stdout",
     "output_type": "stream",
     "text": [
      "129/129 [==============================] - 0s 557us/step\n"
     ]
    }
   ],
   "source": [
    "# 예측\n",
    "predictions = model.predict(X_test)"
   ]
  },
  {
   "cell_type": "code",
   "execution_count": 28,
   "id": "69c1d6e0-2a99-42ee-b923-860cc57d4322",
   "metadata": {
    "tags": []
   },
   "outputs": [
    {
     "data": {
      "text/plain": [
       "(array([[ 0.99154998],\n",
       "        [ 0.03041752],\n",
       "        [-0.28517822],\n",
       "        ...,\n",
       "        [-1.01678651],\n",
       "        [-1.08851281],\n",
       "        [ 0.05910804]]),\n",
       " array([[-0.14738107],\n",
       "        [ 0.05807089],\n",
       "        [-0.02092768],\n",
       "        ...,\n",
       "        [-0.23050714],\n",
       "        [-0.28623605],\n",
       "        [-0.16581559]], dtype=float32))"
      ]
     },
     "execution_count": 28,
     "metadata": {},
     "output_type": "execute_result"
    }
   ],
   "source": [
    "y_test, predictions"
   ]
  },
  {
   "cell_type": "code",
   "execution_count": 15,
   "id": "007c6514-eb3c-44a7-a9aa-3d23b382ff80",
   "metadata": {
    "tags": []
   },
   "outputs": [],
   "source": [
    "y_test = np.exp(y_test)-1\n",
    "predictions = np.exp(predictions)-1"
   ]
  },
  {
   "cell_type": "code",
   "execution_count": 20,
   "id": "e6132315-feed-4a80-9f7e-bb186c5556de",
   "metadata": {
    "tags": []
   },
   "outputs": [
    {
     "data": {
      "text/plain": [
       "array([145.,  78.,  56., ...,   5.,   0.,  80.])"
      ]
     },
     "execution_count": 20,
     "metadata": {},
     "output_type": "execute_result"
    }
   ],
   "source": [
    "# type(y_test), type(predictions)#.shape, predictions.shape\n",
    "y_test = y_test.values\n",
    "y_test\n",
    "# for i in range(100):\n",
    "    # print(f\"실제 시간: {y_test[i]}\")\n",
    "# y_test[:]"
   ]
  },
  {
   "cell_type": "code",
   "execution_count": 17,
   "id": "5c877c68-5810-4729-9132-c6fb1479b6a7",
   "metadata": {
    "tags": []
   },
   "outputs": [
    {
     "data": {
      "text/plain": [
       "((4104,), (4104, 1))"
      ]
     },
     "execution_count": 17,
     "metadata": {},
     "output_type": "execute_result"
    }
   ],
   "source": [
    "# y_test = y_test.values\n",
    "y_test.shape,predictions.shape"
   ]
  },
  {
   "cell_type": "code",
   "execution_count": 29,
   "id": "c51830e6-d815-4430-b73b-418e085eb599",
   "metadata": {
    "tags": []
   },
   "outputs": [],
   "source": [
    "# 원래 스케일로 되돌리기\n",
    "y_test = scaler.inverse_transform(y_test)\n",
    "predictions = scaler.inverse_transform(predictions)"
   ]
  },
  {
   "cell_type": "code",
   "execution_count": null,
   "id": "f52ef9a4-5f1b-41db-9db8-2d5839d14509",
   "metadata": {},
   "outputs": [],
   "source": []
  },
  {
   "cell_type": "code",
   "execution_count": null,
   "id": "96f53862-da55-4702-8788-19176aff3505",
   "metadata": {},
   "outputs": [],
   "source": []
  },
  {
   "cell_type": "code",
   "execution_count": 30,
   "id": "d12f997f-fbea-4a85-bcb7-554da181b1ef",
   "metadata": {
    "tags": []
   },
   "outputs": [
    {
     "name": "stdout",
     "output_type": "stream",
     "text": [
      "실제 시간: [145.], 예측 시간: 65.60575866699219\n",
      "실제 시간: [78.], 예측 시간: 79.92770385742188\n",
      "실제 시간: [56.], 예측 시간: 74.4207534790039\n",
      "실제 시간: [108.], 예측 시간: 74.33167266845703\n",
      "실제 시간: [220.], 예측 시간: 64.95346069335938\n",
      "실제 시간: [43.], 예측 시간: 66.66519165039062\n",
      "실제 시간: [100.], 예측 시간: 55.93476867675781\n",
      "실제 시간: [156.], 예측 시간: 84.77539825439453\n",
      "실제 시간: [10.], 예측 시간: 60.72957992553711\n",
      "실제 시간: [11.], 예측 시간: 48.52303695678711\n",
      "실제 시간: [195.], 예측 시간: 78.24974060058594\n",
      "실제 시간: [153.], 예측 시간: 57.413551330566406\n",
      "실제 시간: [48.], 예측 시간: 74.20349884033203\n",
      "실제 시간: [15.], 예측 시간: 38.7536506652832\n",
      "실제 시간: [59.], 예측 시간: 72.19367218017578\n",
      "실제 시간: [145.], 예측 시간: 86.27708435058594\n",
      "실제 시간: [21.], 예측 시간: 43.07725143432617\n",
      "실제 시간: [42.], 예측 시간: 13.28592300415039\n",
      "실제 시간: [6.], 예측 시간: 67.968994140625\n",
      "실제 시간: [46.], 예측 시간: 78.2129135131836\n",
      "실제 시간: [3.], 예측 시간: 53.16653823852539\n",
      "실제 시간: [132.], 예측 시간: 64.32881164550781\n",
      "실제 시간: [3.], 예측 시간: 69.50468444824219\n",
      "실제 시간: [14.], 예측 시간: 63.65364074707031\n",
      "실제 시간: [370.], 예측 시간: 109.10581970214844\n",
      "실제 시간: [0.], 예측 시간: 59.30451202392578\n",
      "실제 시간: [140.], 예측 시간: 69.9038314819336\n",
      "실제 시간: [105.], 예측 시간: 84.20628356933594\n",
      "실제 시간: [91.], 예측 시간: 10.108509063720703\n",
      "실제 시간: [82.], 예측 시간: 82.0921630859375\n",
      "실제 시간: [18.], 예측 시간: 65.3222885131836\n",
      "실제 시간: [14.], 예측 시간: 83.3399887084961\n",
      "실제 시간: [370.], 예측 시간: 117.50684356689453\n",
      "실제 시간: [30.], 예측 시간: 49.397979736328125\n",
      "실제 시간: [130.], 예측 시간: 80.0997543334961\n",
      "실제 시간: [69.], 예측 시간: 27.78736114501953\n",
      "실제 시간: [13.], 예측 시간: 80.08116912841797\n",
      "실제 시간: [12.], 예측 시간: 49.11018753051758\n",
      "실제 시간: [41.], 예측 시간: 61.1473388671875\n",
      "실제 시간: [145.], 예측 시간: 74.4207534790039\n",
      "실제 시간: [117.], 예측 시간: 67.13507080078125\n",
      "실제 시간: [31.], 예측 시간: 66.34422302246094\n",
      "실제 시간: [4.], 예측 시간: 70.71196746826172\n",
      "실제 시간: [53.], 예측 시간: 64.1075668334961\n",
      "실제 시간: [33.], 예측 시간: 47.74974060058594\n",
      "실제 시간: [102.], 예측 시간: 84.36119079589844\n",
      "실제 시간: [46.], 예측 시간: 80.92284393310547\n",
      "실제 시간: [30.], 예측 시간: 49.38162612915039\n",
      "실제 시간: [0.], 예측 시간: 101.12813568115234\n",
      "실제 시간: [65.], 예측 시간: 67.90118408203125\n",
      "실제 시간: [67.], 예측 시간: 79.06505584716797\n",
      "실제 시간: [12.], 예측 시간: 61.67811584472656\n",
      "실제 시간: [97.], 예측 시간: 80.84313201904297\n",
      "실제 시간: [6.], 예측 시간: 68.49923706054688\n",
      "실제 시간: [53.], 예측 시간: 88.39859771728516\n",
      "실제 시간: [94.], 예측 시간: 81.9356689453125\n",
      "실제 시간: [10.], 예측 시간: 38.10467529296875\n",
      "실제 시간: [12.], 예측 시간: 47.01128005981445\n",
      "실제 시간: [14.], 예측 시간: 35.13926315307617\n",
      "실제 시간: [78.], 예측 시간: 103.22066497802734\n",
      "실제 시간: [153.], 예측 시간: 84.2795181274414\n",
      "실제 시간: [122.], 예측 시간: 41.83779525756836\n",
      "실제 시간: [12.], 예측 시간: 72.76154327392578\n",
      "실제 시간: [27.], 예측 시간: 27.647220611572266\n",
      "실제 시간: [78.], 예측 시간: 86.27708435058594\n",
      "실제 시간: [99.], 예측 시간: 69.97695922851562\n",
      "실제 시간: [10.], 예측 시간: 42.575992584228516\n",
      "실제 시간: [119.], 예측 시간: 101.86234283447266\n",
      "실제 시간: [83.], 예측 시간: 79.92770385742188\n",
      "실제 시간: [0.], 예측 시간: 53.18009948730469\n",
      "실제 시간: [49.], 예측 시간: 44.90306091308594\n",
      "실제 시간: [107.], 예측 시간: 61.336544036865234\n",
      "실제 시간: [180.], 예측 시간: 49.65000534057617\n",
      "실제 시간: [12.], 예측 시간: 42.159828186035156\n",
      "실제 시간: [107.], 예측 시간: 36.26649856567383\n",
      "실제 시간: [3.], 예측 시간: 67.71876525878906\n",
      "실제 시간: [6.], 예측 시간: 49.77977752685547\n",
      "실제 시간: [220.], 예측 시간: 68.89891815185547\n",
      "실제 시간: [74.], 예측 시간: 81.15465545654297\n",
      "실제 시간: [45.], 예측 시간: 49.85423278808594\n",
      "실제 시간: [140.], 예측 시간: 67.968994140625\n",
      "실제 시간: [13.], 예측 시간: 69.35350799560547\n",
      "실제 시간: [69.], 예측 시간: 62.816524505615234\n",
      "실제 시간: [16.], 예측 시간: 47.16737365722656\n",
      "실제 시간: [85.], 예측 시간: 74.30693817138672\n",
      "실제 시간: [91.], 예측 시간: 53.296573638916016\n",
      "실제 시간: [420.], 예측 시간: 71.91033172607422\n",
      "실제 시간: [14.], 예측 시간: 63.9286003112793\n",
      "실제 시간: [56.], 예측 시간: 69.9038314819336\n",
      "실제 시간: [136.], 예측 시간: 100.98075103759766\n",
      "실제 시간: [77.], 예측 시간: 77.67562103271484\n",
      "실제 시간: [0.], 예측 시간: 60.14960861206055\n",
      "실제 시간: [8.], 예측 시간: 50.98785400390625\n",
      "실제 시간: [71.], 예측 시간: 66.16898345947266\n",
      "실제 시간: [56.], 예측 시간: 66.45870208740234\n",
      "실제 시간: [7.], 예측 시간: 77.73412322998047\n",
      "실제 시간: [120.], 예측 시간: 61.1473388671875\n",
      "실제 시간: [56.], 예측 시간: 75.74955749511719\n",
      "실제 시간: [70.], 예측 시간: 73.19752502441406\n",
      "실제 시간: [23.], 예측 시간: 100.17813873291016\n"
     ]
    }
   ],
   "source": [
    "# 정규화된 y 예측 결과 확인\n",
    "for i in range(100):\n",
    "    print(f\"실제 시간: {y_test[i]}, 예측 시간: {predictions[i][0]}\")"
   ]
  },
  {
   "cell_type": "code",
   "execution_count": 19,
   "id": "01bf91d8-f090-4e37-894d-935b845ec68f",
   "metadata": {
    "tags": []
   },
   "outputs": [
    {
     "data": {
      "text/plain": [
       "(1493     145.0\n",
       " 8503      78.0\n",
       " 7408      56.0\n",
       " 3509     108.0\n",
       " 5927     220.0\n",
       "          ...  \n",
       " 17651     49.0\n",
       " 9659      72.0\n",
       " 13418      5.0\n",
       " 8410       0.0\n",
       " 16062     80.0\n",
       " Name: leadtime, Length: 4104, dtype: float64,\n",
       " array([[345.21872 ],\n",
       "        [114.4686  ],\n",
       "        [213.50435 ],\n",
       "        ...,\n",
       "        [ 67.94038 ],\n",
       "        [146.45747 ],\n",
       "        [ 55.648376]], dtype=float32))"
      ]
     },
     "execution_count": 19,
     "metadata": {},
     "output_type": "execute_result"
    }
   ],
   "source": [
    "y_test, predictions"
   ]
  },
  {
   "cell_type": "code",
   "execution_count": 47,
   "id": "9181c8fc-ad09-4ae0-9d06-2678db2e378e",
   "metadata": {
    "tags": []
   },
   "outputs": [
    {
     "data": {
      "text/plain": [
       "array([[10183.74756166],\n",
       "       [ 5513.21547459],\n",
       "       [ 3979.60792361],\n",
       "       ...,\n",
       "       [  424.42678271],\n",
       "       [   75.87961203],\n",
       "       [ 5652.63434286]])"
      ]
     },
     "execution_count": 47,
     "metadata": {},
     "output_type": "execute_result"
    }
   ],
   "source": [
    "y_test = scaler.inverse_transform(y_test)\n",
    "y_test"
   ]
  },
  {
   "cell_type": "code",
   "execution_count": 48,
   "id": "b277e6c3-e1ed-4cc1-be88-996187acc061",
   "metadata": {
    "tags": []
   },
   "outputs": [
    {
     "data": {
      "text/plain": [
       "array([[76.028694],\n",
       "       [76.028694],\n",
       "       [76.028694],\n",
       "       ...,\n",
       "       [76.028694],\n",
       "       [76.028694],\n",
       "       [76.028694]], dtype=float32)"
      ]
     },
     "execution_count": 48,
     "metadata": {},
     "output_type": "execute_result"
    }
   ],
   "source": [
    "predictions =  scaler.inverse_transform(predictions)\n",
    "predictions"
   ]
  },
  {
   "cell_type": "code",
   "execution_count": 49,
   "id": "486a9b43-1b5b-4880-9979-653f3a826cef",
   "metadata": {
    "tags": []
   },
   "outputs": [
    {
     "name": "stdout",
     "output_type": "stream",
     "text": [
      "실제 시간: 10183.747561656593, 예측 시간: 76.02869415283203\n",
      "실제 시간: 5513.215474587314, 예측 시간: 76.02869415283203\n",
      "실제 시간: 3979.607923609342, 예측 시간: 76.02869415283203\n",
      "실제 시간: 7604.498498648185, 예측 시간: 76.02869415283203\n",
      "실제 시간: 15411.95512180877, 예측 시간: 76.02869415283203\n",
      "실제 시간: 3073.385279849631, 예측 시간: 76.02869415283203\n",
      "실제 시간: 7046.823025565286, 예측 시간: 76.02869415283203\n",
      "실제 시간: 10950.55133714558, 예측 시간: 76.02869415283203\n",
      "실제 시간: 772.9739533826728, 예측 시간: 76.02869415283203\n",
      "실제 시간: 842.6833875180351, 예측 시간: 76.02869415283203\n",
      "실제 시간: 13669.219268424713, 예측 시간: 76.02869415283203\n",
      "실제 시간: 10741.423034739493, 예측 시간: 76.02869415283203\n",
      "실제 시간: 3421.932450526443, 예측 시간: 76.02869415283203\n",
      "실제 시간: 1121.5211240594845, 예측 시간: 76.02869415283203\n",
      "실제 시간: 4188.736226015429, 예측 시간: 76.02869415283203\n",
      "실제 시간: 10183.747561656593, 예측 시간: 76.02869415283203\n",
      "실제 시간: 1539.7777288716588, 예측 시간: 76.02869415283203\n",
      "실제 시간: 3003.6758457142687, 예측 시간: 76.02869415283203\n",
      "실제 시간: 494.13621684122336, 예측 시간: 76.02869415283203\n",
      "실제 시간: 3282.513582255718, 예측 시간: 76.02869415283203\n",
      "실제 시간: 285.0079144351372, 예측 시간: 76.02869415283203\n",
      "실제 시간: 9277.524917896882, 예측 시간: 76.02869415283203\n",
      "실제 시간: 285.0079144351372, 예측 시간: 76.02869415283203\n",
      "실제 시간: 1051.8116899241222, 예측 시간: 76.02869415283203\n",
      "실제 시간: 25868.370242113127, 예측 시간: 76.02869415283203\n",
      "실제 시간: 75.87961202904908, 예측 시간: 76.02869415283203\n",
      "실제 시간: 9835.200390979782, 예측 시간: 76.02869415283203\n",
      "실제 시간: 7395.370196242098, 예측 시간: 109.73999786376953\n",
      "실제 시간: 6419.438118347025, 예측 시간: 66.78950500488281\n",
      "실제 시간: 5792.053211128764, 예측 시간: 76.02869415283203\n",
      "실제 시간: 1330.6494264655717, 예측 시간: 76.02869415283203\n",
      "실제 시간: 1051.8116899241222, 예측 시간: 76.02869415283203\n",
      "실제 시간: 25868.370242113127, 예측 시간: 76.02869415283203\n",
      "실제 시간: 2167.16263608992, 예측 시간: 76.02869415283203\n",
      "실제 시간: 9138.106049626158, 예측 시간: 76.02869415283203\n",
      "실제 시간: 4885.830567369053, 예측 시간: 76.02869415283203\n",
      "실제 시간: 982.10225578876, 예측 시간: 76.02869415283203\n",
      "실제 시간: 912.3928216533976, 예측 시간: 76.02869415283203\n",
      "실제 시간: 2933.9664115789064, 예측 시간: 76.02869415283203\n",
      "실제 시간: 10183.747561656593, 예측 시간: 76.02869415283203\n",
      "실제 시간: 8231.883405866447, 예측 시간: 76.02869415283203\n",
      "실제 시간: 2236.872070225283, 예측 시간: 76.02869415283203\n",
      "실제 시간: 354.7173485704986, 예측 시간: 76.02869415283203\n",
      "실제 시간: 3770.4796212032547, 예측 시간: 76.02869415283203\n",
      "실제 시간: 2376.290938496007, 예측 시간: 76.02869415283203\n",
      "실제 시간: 7186.241893836011, 예측 시간: 76.02869415283203\n",
      "실제 시간: 3282.513582255718, 예측 시간: 76.02869415283203\n",
      "실제 시간: 2167.16263608992, 예측 시간: 76.02869415283203\n",
      "실제 시간: 75.87961202904908, 예측 시간: 76.02869415283203\n",
      "실제 시간: 4606.992830827603, 예측 시간: 76.02869415283203\n",
      "실제 시간: 4746.4116990983275, 예측 시간: 76.02869415283203\n",
      "실제 시간: 912.3928216533976, 예측 시간: 76.02869415283203\n",
      "실제 시간: 6837.694723159199, 예측 시간: 76.02869415283203\n",
      "실제 시간: 494.13621684122336, 예측 시간: 76.02869415283203\n",
      "실제 시간: 3770.4796212032547, 예측 시간: 76.02869415283203\n",
      "실제 시간: 6628.566420753112, 예측 시간: 76.02869415283203\n",
      "실제 시간: 772.9739533826728, 예측 시간: 76.02869415283203\n",
      "실제 시간: 912.3928216533976, 예측 시간: 76.02869415283203\n",
      "실제 시간: 1051.8116899241222, 예측 시간: 76.02869415283203\n",
      "실제 시간: 5513.215474587314, 예측 시간: 76.02869415283203\n",
      "실제 시간: 10741.423034739493, 예측 시간: 76.02869415283203\n",
      "실제 시간: 8580.43057654326, 예측 시간: 76.02869415283203\n",
      "실제 시간: 912.3928216533976, 예측 시간: 76.02869415283203\n",
      "실제 시간: 1958.034333683833, 예측 시간: 76.02869415283203\n",
      "실제 시간: 5513.215474587314, 예측 시간: 76.02869415283203\n",
      "실제 시간: 6977.113591429924, 예측 시간: 76.02869415283203\n",
      "실제 시간: 772.9739533826728, 예측 시간: 76.02869415283203\n",
      "실제 시간: 8371.302274137171, 예측 시간: 76.02869415283203\n",
      "실제 시간: 5861.762645264126, 예측 시간: 76.02869415283203\n",
      "실제 시간: 75.87961202904908, 예측 시간: 76.02869415283203\n",
      "실제 시간: 3491.6418846618053, 예측 시간: 76.02869415283203\n",
      "실제 시간: 7534.789064512823, 예측 시간: 76.02869415283203\n",
      "실제 시간: 12623.577756394277, 예측 시간: 76.02869415283203\n",
      "실제 시간: 912.3928216533976, 예측 시간: 76.02869415283203\n",
      "실제 시간: 7534.789064512823, 예측 시간: 76.02869415283203\n",
      "실제 시간: 285.0079144351372, 예측 시간: 76.02869415283203\n",
      "실제 시간: 494.13621684122336, 예측 시간: 76.02869415283203\n",
      "실제 시간: 15411.95512180877, 예측 시간: 76.02869415283203\n",
      "실제 시간: 5234.377738045864, 예측 시간: 76.02869415283203\n",
      "실제 시간: 3212.804148120356, 예측 시간: 76.02869415283203\n",
      "실제 시간: 9835.200390979782, 예측 시간: 76.02869415283203\n",
      "실제 시간: 982.10225578876, 예측 시간: 76.02869415283203\n",
      "실제 시간: 4885.830567369053, 예측 시간: 76.02869415283203\n",
      "실제 시간: 1191.230558194847, 예측 시간: 76.02869415283203\n",
      "실제 시간: 6001.181513534851, 예측 시간: 76.02869415283203\n",
      "실제 시간: 6419.438118347025, 예측 시간: 76.02869415283203\n",
      "실제 시간: 29353.84194888125, 예측 시간: 76.02869415283203\n",
      "실제 시간: 1051.8116899241222, 예측 시간: 76.02869415283203\n",
      "실제 시간: 3979.607923609342, 예측 시간: 76.02869415283203\n",
      "실제 시간: 9556.362654438333, 예측 시간: 76.02869415283203\n",
      "실제 시간: 5443.506040451952, 예측 시간: 76.02869415283203\n",
      "실제 시간: 75.87961202904908, 예측 시간: 76.02869415283203\n",
      "실제 시간: 633.5550851119481, 예측 시간: 76.02869415283203\n",
      "실제 시간: 5025.249435639777, 예측 시간: 76.02869415283203\n",
      "실제 시간: 3979.607923609342, 예측 시간: 76.02869415283203\n",
      "실제 시간: 563.8456509765857, 예측 시간: 76.02869415283203\n",
      "실제 시간: 8441.011708272534, 예측 시간: 76.02869415283203\n",
      "실제 시간: 3979.607923609342, 예측 시간: 76.02869415283203\n",
      "실제 시간: 4955.540001504415, 예측 시간: 76.02869415283203\n",
      "실제 시간: 1679.1965971423836, 예측 시간: 76.02869415283203\n"
     ]
    }
   ],
   "source": [
    "# y 예측 결과 확인\n",
    "for i in range(100):\n",
    "    print(f\"실제 시간: {y_test[i][0]}, 예측 시간: {predictions[i][0]}\")"
   ]
  },
  {
   "cell_type": "code",
   "execution_count": null,
   "id": "f389fa02-6afa-4802-ab0f-3f8c18c76f87",
   "metadata": {},
   "outputs": [],
   "source": []
  },
  {
   "cell_type": "code",
   "execution_count": null,
   "id": "18d5752b-f9f7-485f-9e43-6ead59f8545b",
   "metadata": {},
   "outputs": [],
   "source": []
  },
  {
   "cell_type": "code",
   "execution_count": 34,
   "id": "cc36198f-2a13-4b6f-9e93-aa42f54264f3",
   "metadata": {
    "tags": []
   },
   "outputs": [],
   "source": [
    "# 회귀 모델 구축\n",
    "model2 = Sequential()\n",
    "model2.add(Dense(128, activation='relu', input_dim=X_train.shape[1]))\n",
    "model2.add(Dense(64, activation='relu'))\n",
    "model2.add(Dense(32, activation='relu'))\n",
    "model2.add(Dense(1))"
   ]
  },
  {
   "cell_type": "code",
   "execution_count": 36,
   "id": "0908dee9-68b3-4b71-b005-ce80aa8cb2d9",
   "metadata": {
    "tags": []
   },
   "outputs": [],
   "source": [
    "# 모델 컴파일\n",
    "model2.compile(optimizer='adam', loss='mean_squared_error')"
   ]
  },
  {
   "cell_type": "code",
   "execution_count": 37,
   "id": "98ffe816-5d0f-4345-8dc3-e03d0373d1c4",
   "metadata": {
    "tags": []
   },
   "outputs": [
    {
     "name": "stdout",
     "output_type": "stream",
     "text": [
      "Epoch 1/10\n",
      "513/513 [==============================] - 1s 799us/step - loss: 5858.5386\n",
      "Epoch 2/10\n",
      "513/513 [==============================] - 0s 784us/step - loss: 5266.6533\n",
      "Epoch 3/10\n",
      "513/513 [==============================] - 0s 801us/step - loss: 5078.9551\n",
      "Epoch 4/10\n",
      "513/513 [==============================] - 0s 786us/step - loss: 4954.1279\n",
      "Epoch 5/10\n",
      "513/513 [==============================] - 0s 787us/step - loss: 4926.1978\n",
      "Epoch 6/10\n",
      "513/513 [==============================] - 0s 784us/step - loss: 4866.7661\n",
      "Epoch 7/10\n",
      "513/513 [==============================] - 0s 784us/step - loss: 4877.1812\n",
      "Epoch 8/10\n",
      "513/513 [==============================] - 0s 817us/step - loss: 4767.5371\n",
      "Epoch 9/10\n",
      "513/513 [==============================] - 0s 814us/step - loss: 4769.4419\n",
      "Epoch 10/10\n",
      "513/513 [==============================] - 0s 942us/step - loss: 4767.0117\n"
     ]
    },
    {
     "data": {
      "text/plain": [
       "<keras.callbacks.History at 0x1c577676a10>"
      ]
     },
     "execution_count": 37,
     "metadata": {},
     "output_type": "execute_result"
    }
   ],
   "source": [
    "# 모델 학습\n",
    "model2.fit(X_train, y_train, epochs=10, batch_size=32)"
   ]
  },
  {
   "cell_type": "code",
   "execution_count": 38,
   "id": "c18d9de2-f6a0-40ed-b462-df67eb7edba9",
   "metadata": {
    "tags": []
   },
   "outputs": [
    {
     "name": "stdout",
     "output_type": "stream",
     "text": [
      "129/129 [==============================] - 0s 568us/step - loss: 4720.4844\n"
     ]
    }
   ],
   "source": [
    "\n",
    "# 모델 평가\n",
    "loss = model2.evaluate(X_test, y_test)"
   ]
  },
  {
   "cell_type": "code",
   "execution_count": 39,
   "id": "d59b7adf-58ce-435c-a541-d01eed9746f0",
   "metadata": {
    "tags": []
   },
   "outputs": [
    {
     "name": "stdout",
     "output_type": "stream",
     "text": [
      "129/129 [==============================] - 0s 624us/step\n"
     ]
    }
   ],
   "source": [
    "# 예측\n",
    "predictions = model.predict(X_test)"
   ]
  },
  {
   "cell_type": "code",
   "execution_count": 41,
   "id": "b871ace3-0e7a-47e7-b0d1-bfd3eb0d726f",
   "metadata": {
    "tags": []
   },
   "outputs": [
    {
     "ename": "SyntaxError",
     "evalue": "incomplete input (1878388943.py, line 2)",
     "output_type": "error",
     "traceback": [
      "\u001b[1;36m  Cell \u001b[1;32mIn[41], line 2\u001b[1;36m\u001b[0m\n\u001b[1;33m    # print(f\"실제 시간: {y_test.iloc[i]}, 예측 시간: {predictions[i][0]}\")\u001b[0m\n\u001b[1;37m                                                                   ^\u001b[0m\n\u001b[1;31mSyntaxError\u001b[0m\u001b[1;31m:\u001b[0m incomplete input\n"
     ]
    }
   ],
   "source": [
    "for i in range(len(predictions)):\n",
    "    # print(f\"실제 시간: {y_test.iloc[i]}, 예측 시간: {predictions[i][0]}\")"
   ]
  },
  {
   "cell_type": "code",
   "execution_count": 15,
   "id": "0634e24e-aba9-4f06-8037-58063c73acfa",
   "metadata": {
    "tags": []
   },
   "outputs": [],
   "source": [
    "from sklearn.model_selection import train_test_split\n",
    "from sklearn import preprocessing\n",
    "X = df1[[\"청구품목\", 'key2', '견적화폐' , '발주처']]\n",
    "X_encoded = X.copy()\n",
    "le = LabelEncoder()\n",
    "for col in X.columns:\n",
    "    X_encoded[col] = le.fit_transform(X[col])\n",
    "y = df1[\"leadtime\"]\n",
    "# X = np.array(X)\n",
    "# y = np.array(y)\n",
    "X_train, X_test, y_train, y_test = train_test_split(X_encoded, y, random_state=40, shuffle=True, test_size=0.3)"
   ]
  },
  {
   "cell_type": "code",
   "execution_count": 16,
   "id": "72833446-c053-4265-b4fd-48b0253cf912",
   "metadata": {
    "tags": []
   },
   "outputs": [],
   "source": [
    "from keras.models import Sequential\n",
    "from keras.layers import Dense, Embedding, Flatten\n",
    "from sklearn.preprocessing import LabelEncoder\n",
    "\n",
    "\n",
    "model = Sequential()\n",
    "model.add(Dense(64, activation='relu', input_dim=4))\n",
    "model.add(Dense(64, activation='relu'))\n",
    "model.add(Dense(1))"
   ]
  },
  {
   "cell_type": "code",
   "execution_count": 17,
   "id": "e33b55f3-0bc2-4e17-88a2-0c73272d9e4b",
   "metadata": {
    "tags": []
   },
   "outputs": [
    {
     "data": {
      "text/html": [
       "<div>\n",
       "<style scoped>\n",
       "    .dataframe tbody tr th:only-of-type {\n",
       "        vertical-align: middle;\n",
       "    }\n",
       "\n",
       "    .dataframe tbody tr th {\n",
       "        vertical-align: top;\n",
       "    }\n",
       "\n",
       "    .dataframe thead th {\n",
       "        text-align: right;\n",
       "    }\n",
       "</style>\n",
       "<table border=\"1\" class=\"dataframe\">\n",
       "  <thead>\n",
       "    <tr style=\"text-align: right;\">\n",
       "      <th></th>\n",
       "      <th>청구품목</th>\n",
       "      <th>key2</th>\n",
       "      <th>견적화폐</th>\n",
       "      <th>발주처</th>\n",
       "    </tr>\n",
       "  </thead>\n",
       "  <tbody>\n",
       "    <tr>\n",
       "      <th>0</th>\n",
       "      <td>4848</td>\n",
       "      <td>18</td>\n",
       "      <td>2</td>\n",
       "      <td>22</td>\n",
       "    </tr>\n",
       "    <tr>\n",
       "      <th>1</th>\n",
       "      <td>3692</td>\n",
       "      <td>18</td>\n",
       "      <td>2</td>\n",
       "      <td>22</td>\n",
       "    </tr>\n",
       "    <tr>\n",
       "      <th>2</th>\n",
       "      <td>5915</td>\n",
       "      <td>18</td>\n",
       "      <td>2</td>\n",
       "      <td>22</td>\n",
       "    </tr>\n",
       "    <tr>\n",
       "      <th>3</th>\n",
       "      <td>696</td>\n",
       "      <td>18</td>\n",
       "      <td>2</td>\n",
       "      <td>22</td>\n",
       "    </tr>\n",
       "    <tr>\n",
       "      <th>4</th>\n",
       "      <td>4681</td>\n",
       "      <td>18</td>\n",
       "      <td>2</td>\n",
       "      <td>22</td>\n",
       "    </tr>\n",
       "    <tr>\n",
       "      <th>...</th>\n",
       "      <td>...</td>\n",
       "      <td>...</td>\n",
       "      <td>...</td>\n",
       "      <td>...</td>\n",
       "    </tr>\n",
       "    <tr>\n",
       "      <th>20512</th>\n",
       "      <td>2811</td>\n",
       "      <td>20</td>\n",
       "      <td>1</td>\n",
       "      <td>35</td>\n",
       "    </tr>\n",
       "    <tr>\n",
       "      <th>20513</th>\n",
       "      <td>2810</td>\n",
       "      <td>20</td>\n",
       "      <td>1</td>\n",
       "      <td>35</td>\n",
       "    </tr>\n",
       "    <tr>\n",
       "      <th>20514</th>\n",
       "      <td>4151</td>\n",
       "      <td>5</td>\n",
       "      <td>1</td>\n",
       "      <td>41</td>\n",
       "    </tr>\n",
       "    <tr>\n",
       "      <th>20515</th>\n",
       "      <td>1592</td>\n",
       "      <td>20</td>\n",
       "      <td>1</td>\n",
       "      <td>41</td>\n",
       "    </tr>\n",
       "    <tr>\n",
       "      <th>20516</th>\n",
       "      <td>4718</td>\n",
       "      <td>20</td>\n",
       "      <td>1</td>\n",
       "      <td>41</td>\n",
       "    </tr>\n",
       "  </tbody>\n",
       "</table>\n",
       "<p>20517 rows × 4 columns</p>\n",
       "</div>"
      ],
      "text/plain": [
       "       청구품목  key2  견적화폐  발주처\n",
       "0      4848    18     2   22\n",
       "1      3692    18     2   22\n",
       "2      5915    18     2   22\n",
       "3       696    18     2   22\n",
       "4      4681    18     2   22\n",
       "...     ...   ...   ...  ...\n",
       "20512  2811    20     1   35\n",
       "20513  2810    20     1   35\n",
       "20514  4151     5     1   41\n",
       "20515  1592    20     1   41\n",
       "20516  4718    20     1   41\n",
       "\n",
       "[20517 rows x 4 columns]"
      ]
     },
     "execution_count": 17,
     "metadata": {},
     "output_type": "execute_result"
    }
   ],
   "source": [
    "X_encoded"
   ]
  },
  {
   "cell_type": "code",
   "execution_count": 18,
   "id": "508510b9-8d14-470d-b0a2-6c44c4a94e59",
   "metadata": {
    "tags": []
   },
   "outputs": [],
   "source": [
    "# 모델 컴파일\n",
    "model.compile(optimizer='adam', loss='mean_squared_error')\n"
   ]
  },
  {
   "cell_type": "code",
   "execution_count": 21,
   "id": "592f6c64-6771-48f3-b290-d3034240e4c4",
   "metadata": {
    "tags": []
   },
   "outputs": [
    {
     "name": "stdout",
     "output_type": "stream",
     "text": [
      "Epoch 1/30\n",
      "719/719 [==============================] - 1s 718us/step - loss: 4570.3857\n",
      "Epoch 2/30\n",
      "719/719 [==============================] - 0s 685us/step - loss: 4455.8169\n",
      "Epoch 3/30\n",
      "719/719 [==============================] - 0s 684us/step - loss: 4454.7124\n",
      "Epoch 4/30\n",
      "719/719 [==============================] - 0s 686us/step - loss: 4419.8271\n",
      "Epoch 5/30\n",
      "719/719 [==============================] - 1s 708us/step - loss: 4414.2935\n",
      "Epoch 6/30\n",
      "719/719 [==============================] - 1s 786us/step - loss: 4395.2896\n",
      "Epoch 7/30\n",
      "719/719 [==============================] - 1s 799us/step - loss: 4435.3975\n",
      "Epoch 8/30\n",
      "719/719 [==============================] - 1s 787us/step - loss: 4419.7266\n",
      "Epoch 9/30\n",
      "719/719 [==============================] - 1s 812us/step - loss: 4406.4590\n",
      "Epoch 10/30\n",
      "719/719 [==============================] - 1s 853us/step - loss: 4388.4800\n",
      "Epoch 11/30\n",
      "719/719 [==============================] - 1s 875us/step - loss: 4410.8535\n",
      "Epoch 12/30\n",
      "719/719 [==============================] - 1s 854us/step - loss: 4405.4883\n",
      "Epoch 13/30\n",
      "719/719 [==============================] - 1s 776us/step - loss: 4402.5781\n",
      "Epoch 14/30\n",
      "719/719 [==============================] - 1s 728us/step - loss: 4382.8989\n",
      "Epoch 15/30\n",
      "719/719 [==============================] - 1s 768us/step - loss: 4364.3589\n",
      "Epoch 16/30\n",
      "719/719 [==============================] - 1s 809us/step - loss: 4349.9204\n",
      "Epoch 17/30\n",
      "719/719 [==============================] - 1s 893us/step - loss: 4391.2480\n",
      "Epoch 18/30\n",
      "719/719 [==============================] - 1s 876us/step - loss: 4388.0425\n",
      "Epoch 19/30\n",
      "719/719 [==============================] - 1s 877us/step - loss: 4356.8809\n",
      "Epoch 20/30\n",
      "719/719 [==============================] - 1s 879us/step - loss: 4337.2432\n",
      "Epoch 21/30\n",
      "719/719 [==============================] - 1s 874us/step - loss: 4369.9434\n",
      "Epoch 22/30\n",
      "719/719 [==============================] - 1s 876us/step - loss: 4326.3809\n",
      "Epoch 23/30\n",
      "719/719 [==============================] - 1s 865us/step - loss: 4316.6133\n",
      "Epoch 24/30\n",
      "719/719 [==============================] - 1s 868us/step - loss: 4365.0923\n",
      "Epoch 25/30\n",
      "719/719 [==============================] - 1s 809us/step - loss: 4358.0732\n",
      "Epoch 26/30\n",
      "719/719 [==============================] - 1s 823us/step - loss: 4323.5234\n",
      "Epoch 27/30\n",
      "719/719 [==============================] - 1s 889us/step - loss: 4268.0122\n",
      "Epoch 28/30\n",
      "719/719 [==============================] - 1s 863us/step - loss: 4278.2036\n",
      "Epoch 29/30\n",
      "719/719 [==============================] - 1s 845us/step - loss: 4273.0151\n",
      "Epoch 30/30\n",
      "719/719 [==============================] - 1s 785us/step - loss: 4233.1572\n"
     ]
    },
    {
     "data": {
      "text/plain": [
       "<keras.callbacks.History at 0x1c5746b50c0>"
      ]
     },
     "execution_count": 21,
     "metadata": {},
     "output_type": "execute_result"
    }
   ],
   "source": [
    "# 모델 학습\n",
    "model.fit(X_train, y_train, epochs=30, batch_size=20)"
   ]
  },
  {
   "cell_type": "code",
   "execution_count": 22,
   "id": "20a7902d-ba13-445e-ac5a-45c0fed2c5ac",
   "metadata": {
    "tags": []
   },
   "outputs": [
    {
     "name": "stdout",
     "output_type": "stream",
     "text": [
      "193/193 [==============================] - 0s 714us/step - loss: 4114.6880\n"
     ]
    }
   ],
   "source": [
    "# 모델 평가\n",
    "loss = model.evaluate(X_test, y_test)"
   ]
  },
  {
   "cell_type": "code",
   "execution_count": 23,
   "id": "17934347-8ae1-40e8-8a68-09b1166b5135",
   "metadata": {
    "tags": []
   },
   "outputs": [
    {
     "name": "stdout",
     "output_type": "stream",
     "text": [
      "193/193 [==============================] - 0s 587us/step\n"
     ]
    }
   ],
   "source": [
    "# 예측\n",
    "predictions = model.predict(X_test)"
   ]
  },
  {
   "cell_type": "code",
   "execution_count": 24,
   "id": "bbeda753-70d8-4a95-97f2-f510dcaf959f",
   "metadata": {
    "tags": []
   },
   "outputs": [
    {
     "data": {
      "text/plain": [
       "array([[ 36.74128 ],\n",
       "       [ 92.509026],\n",
       "       [ 91.80747 ],\n",
       "       ...,\n",
       "       [101.08235 ],\n",
       "       [ 44.686443],\n",
       "       [ 84.99454 ]], dtype=float32)"
      ]
     },
     "execution_count": 24,
     "metadata": {},
     "output_type": "execute_result"
    }
   ],
   "source": [
    "predictions"
   ]
  },
  {
   "cell_type": "code",
   "execution_count": 26,
   "id": "ab6b908d-4933-438d-9335-82304f20229b",
   "metadata": {
    "tags": []
   },
   "outputs": [
    {
     "ename": "KeyError",
     "evalue": "0",
     "output_type": "error",
     "traceback": [
      "\u001b[1;31m---------------------------------------------------------------------------\u001b[0m",
      "\u001b[1;31mKeyError\u001b[0m                                  Traceback (most recent call last)",
      "File \u001b[1;32mC:\\workspace\\ShipSupplies\\venv\\lib\\site-packages\\pandas\\core\\indexes\\base.py:3652\u001b[0m, in \u001b[0;36mIndex.get_loc\u001b[1;34m(self, key)\u001b[0m\n\u001b[0;32m   3651\u001b[0m \u001b[38;5;28;01mtry\u001b[39;00m:\n\u001b[1;32m-> 3652\u001b[0m     \u001b[38;5;28;01mreturn\u001b[39;00m \u001b[38;5;28;43mself\u001b[39;49m\u001b[38;5;241;43m.\u001b[39;49m\u001b[43m_engine\u001b[49m\u001b[38;5;241;43m.\u001b[39;49m\u001b[43mget_loc\u001b[49m\u001b[43m(\u001b[49m\u001b[43mcasted_key\u001b[49m\u001b[43m)\u001b[49m\n\u001b[0;32m   3653\u001b[0m \u001b[38;5;28;01mexcept\u001b[39;00m \u001b[38;5;167;01mKeyError\u001b[39;00m \u001b[38;5;28;01mas\u001b[39;00m err:\n",
      "File \u001b[1;32mC:\\workspace\\ShipSupplies\\venv\\lib\\site-packages\\pandas\\_libs\\index.pyx:147\u001b[0m, in \u001b[0;36mpandas._libs.index.IndexEngine.get_loc\u001b[1;34m()\u001b[0m\n",
      "File \u001b[1;32mC:\\workspace\\ShipSupplies\\venv\\lib\\site-packages\\pandas\\_libs\\index.pyx:176\u001b[0m, in \u001b[0;36mpandas._libs.index.IndexEngine.get_loc\u001b[1;34m()\u001b[0m\n",
      "File \u001b[1;32mpandas\\_libs\\hashtable_class_helper.pxi:2606\u001b[0m, in \u001b[0;36mpandas._libs.hashtable.Int64HashTable.get_item\u001b[1;34m()\u001b[0m\n",
      "File \u001b[1;32mpandas\\_libs\\hashtable_class_helper.pxi:2630\u001b[0m, in \u001b[0;36mpandas._libs.hashtable.Int64HashTable.get_item\u001b[1;34m()\u001b[0m\n",
      "\u001b[1;31mKeyError\u001b[0m: 0",
      "\nThe above exception was the direct cause of the following exception:\n",
      "\u001b[1;31mKeyError\u001b[0m                                  Traceback (most recent call last)",
      "Cell \u001b[1;32mIn[26], line 3\u001b[0m\n\u001b[0;32m      1\u001b[0m \u001b[38;5;66;03m# 예측 결과 확인\u001b[39;00m\n\u001b[0;32m      2\u001b[0m \u001b[38;5;28;01mfor\u001b[39;00m i \u001b[38;5;129;01min\u001b[39;00m \u001b[38;5;28mrange\u001b[39m(\u001b[38;5;28mlen\u001b[39m(predictions)):\n\u001b[1;32m----> 3\u001b[0m     \u001b[38;5;28mprint\u001b[39m(\u001b[38;5;124mf\u001b[39m\u001b[38;5;124m\"\u001b[39m\u001b[38;5;124m실제값: \u001b[39m\u001b[38;5;132;01m{\u001b[39;00m\u001b[43my_test\u001b[49m\u001b[43m[\u001b[49m\u001b[43mi\u001b[49m\u001b[43m]\u001b[49m\u001b[38;5;132;01m}\u001b[39;00m\u001b[38;5;124m, 예측값: \u001b[39m\u001b[38;5;132;01m{\u001b[39;00mpredictions[i]\u001b[38;5;132;01m}\u001b[39;00m\u001b[38;5;124m\"\u001b[39m)\n",
      "File \u001b[1;32mC:\\workspace\\ShipSupplies\\venv\\lib\\site-packages\\pandas\\core\\series.py:1007\u001b[0m, in \u001b[0;36mSeries.__getitem__\u001b[1;34m(self, key)\u001b[0m\n\u001b[0;32m   1004\u001b[0m     \u001b[38;5;28;01mreturn\u001b[39;00m \u001b[38;5;28mself\u001b[39m\u001b[38;5;241m.\u001b[39m_values[key]\n\u001b[0;32m   1006\u001b[0m \u001b[38;5;28;01melif\u001b[39;00m key_is_scalar:\n\u001b[1;32m-> 1007\u001b[0m     \u001b[38;5;28;01mreturn\u001b[39;00m \u001b[38;5;28;43mself\u001b[39;49m\u001b[38;5;241;43m.\u001b[39;49m\u001b[43m_get_value\u001b[49m\u001b[43m(\u001b[49m\u001b[43mkey\u001b[49m\u001b[43m)\u001b[49m\n\u001b[0;32m   1009\u001b[0m \u001b[38;5;28;01mif\u001b[39;00m is_hashable(key):\n\u001b[0;32m   1010\u001b[0m     \u001b[38;5;66;03m# Otherwise index.get_value will raise InvalidIndexError\u001b[39;00m\n\u001b[0;32m   1011\u001b[0m     \u001b[38;5;28;01mtry\u001b[39;00m:\n\u001b[0;32m   1012\u001b[0m         \u001b[38;5;66;03m# For labels that don't resolve as scalars like tuples and frozensets\u001b[39;00m\n",
      "File \u001b[1;32mC:\\workspace\\ShipSupplies\\venv\\lib\\site-packages\\pandas\\core\\series.py:1116\u001b[0m, in \u001b[0;36mSeries._get_value\u001b[1;34m(self, label, takeable)\u001b[0m\n\u001b[0;32m   1113\u001b[0m     \u001b[38;5;28;01mreturn\u001b[39;00m \u001b[38;5;28mself\u001b[39m\u001b[38;5;241m.\u001b[39m_values[label]\n\u001b[0;32m   1115\u001b[0m \u001b[38;5;66;03m# Similar to Index.get_value, but we do not fall back to positional\u001b[39;00m\n\u001b[1;32m-> 1116\u001b[0m loc \u001b[38;5;241m=\u001b[39m \u001b[38;5;28;43mself\u001b[39;49m\u001b[38;5;241;43m.\u001b[39;49m\u001b[43mindex\u001b[49m\u001b[38;5;241;43m.\u001b[39;49m\u001b[43mget_loc\u001b[49m\u001b[43m(\u001b[49m\u001b[43mlabel\u001b[49m\u001b[43m)\u001b[49m\n\u001b[0;32m   1118\u001b[0m \u001b[38;5;28;01mif\u001b[39;00m is_integer(loc):\n\u001b[0;32m   1119\u001b[0m     \u001b[38;5;28;01mreturn\u001b[39;00m \u001b[38;5;28mself\u001b[39m\u001b[38;5;241m.\u001b[39m_values[loc]\n",
      "File \u001b[1;32mC:\\workspace\\ShipSupplies\\venv\\lib\\site-packages\\pandas\\core\\indexes\\base.py:3654\u001b[0m, in \u001b[0;36mIndex.get_loc\u001b[1;34m(self, key)\u001b[0m\n\u001b[0;32m   3652\u001b[0m     \u001b[38;5;28;01mreturn\u001b[39;00m \u001b[38;5;28mself\u001b[39m\u001b[38;5;241m.\u001b[39m_engine\u001b[38;5;241m.\u001b[39mget_loc(casted_key)\n\u001b[0;32m   3653\u001b[0m \u001b[38;5;28;01mexcept\u001b[39;00m \u001b[38;5;167;01mKeyError\u001b[39;00m \u001b[38;5;28;01mas\u001b[39;00m err:\n\u001b[1;32m-> 3654\u001b[0m     \u001b[38;5;28;01mraise\u001b[39;00m \u001b[38;5;167;01mKeyError\u001b[39;00m(key) \u001b[38;5;28;01mfrom\u001b[39;00m \u001b[38;5;21;01merr\u001b[39;00m\n\u001b[0;32m   3655\u001b[0m \u001b[38;5;28;01mexcept\u001b[39;00m \u001b[38;5;167;01mTypeError\u001b[39;00m:\n\u001b[0;32m   3656\u001b[0m     \u001b[38;5;66;03m# If we have a listlike key, _check_indexing_error will raise\u001b[39;00m\n\u001b[0;32m   3657\u001b[0m     \u001b[38;5;66;03m#  InvalidIndexError. Otherwise we fall through and re-raise\u001b[39;00m\n\u001b[0;32m   3658\u001b[0m     \u001b[38;5;66;03m#  the TypeError.\u001b[39;00m\n\u001b[0;32m   3659\u001b[0m     \u001b[38;5;28mself\u001b[39m\u001b[38;5;241m.\u001b[39m_check_indexing_error(key)\n",
      "\u001b[1;31mKeyError\u001b[0m: 0"
     ]
    }
   ],
   "source": [
    "# 예측 결과 확인\n",
    "for i in range(len(predictions)):\n",
    "    print(f\"실제값: {y_test[i]}, 예측값: {predictions[i][0]}\")"
   ]
  },
  {
   "cell_type": "code",
   "execution_count": null,
   "id": "6c12d765-86ac-4d84-a888-be59ee486c05",
   "metadata": {},
   "outputs": [],
   "source": []
  },
  {
   "cell_type": "markdown",
   "id": "79876898-71ea-484c-8ac6-1f12c1b903a1",
   "metadata": {},
   "source": [
    "## 기업 회귀 모델"
   ]
  },
  {
   "cell_type": "code",
   "execution_count": 2,
   "id": "2ad711fa-25ca-480b-9294-16bca3568187",
   "metadata": {
    "tags": []
   },
   "outputs": [
    {
     "name": "stderr",
     "output_type": "stream",
     "text": [
      "C:\\Users\\SW\\AppData\\Local\\Temp\\ipykernel_17900\\1378052945.py:5: SettingWithCopyWarning: \n",
      "A value is trying to be set on a copy of a slice from a DataFrame.\n",
      "Try using .loc[row_indexer,col_indexer] = value instead\n",
      "\n",
      "See the caveats in the documentation: https://pandas.pydata.org/pandas-docs/stable/user_guide/indexing.html#returning-a-view-versus-a-copy\n",
      "  df1[\"leadtime\"] = df[\"leadtime\"].astype(int)\n"
     ]
    }
   ],
   "source": [
    "import pandas as pd\n",
    "from sklearn import preprocessing\n",
    "df = pd.read_csv('../data/raw_postpro.csv')\n",
    "df1 = df[[\"청구품목\", 'key2', 'leadtime', '견적화폐' , '발주처']]\n",
    "df1[\"leadtime\"] = df[\"leadtime\"].astype(int)"
   ]
  },
  {
   "cell_type": "code",
   "execution_count": 23,
   "id": "a64a4ec3-7c02-4d24-beae-765856b6ca95",
   "metadata": {
    "tags": []
   },
   "outputs": [
    {
     "data": {
      "text/html": [
       "<div>\n",
       "<style scoped>\n",
       "    .dataframe tbody tr th:only-of-type {\n",
       "        vertical-align: middle;\n",
       "    }\n",
       "\n",
       "    .dataframe tbody tr th {\n",
       "        vertical-align: top;\n",
       "    }\n",
       "\n",
       "    .dataframe thead th {\n",
       "        text-align: right;\n",
       "    }\n",
       "</style>\n",
       "<table border=\"1\" class=\"dataframe\">\n",
       "  <thead>\n",
       "    <tr style=\"text-align: right;\">\n",
       "      <th></th>\n",
       "      <th>청구서번호</th>\n",
       "      <th>No.</th>\n",
       "      <th>Subject</th>\n",
       "      <th>Machinery</th>\n",
       "      <th>Assembly</th>\n",
       "      <th>청구품목</th>\n",
       "      <th>Part No.1</th>\n",
       "      <th>Part No.2</th>\n",
       "      <th>key1</th>\n",
       "      <th>key2</th>\n",
       "      <th>...</th>\n",
       "      <th>Control No.</th>\n",
       "      <th>입고창고</th>\n",
       "      <th>창고출고</th>\n",
       "      <th>창고출고수량</th>\n",
       "      <th>출고선박</th>\n",
       "      <th>출고운반선</th>\n",
       "      <th>선박입고</th>\n",
       "      <th>선박입고수량</th>\n",
       "      <th>완료 여부</th>\n",
       "      <th>leadtime</th>\n",
       "    </tr>\n",
       "  </thead>\n",
       "  <tbody>\n",
       "    <tr>\n",
       "      <th>0</th>\n",
       "      <td>ELS-BS-ESP-2004002</td>\n",
       "      <td>12</td>\n",
       "      <td>NO.1 A/E C18 MAJOR O/H PARTS</td>\n",
       "      <td>NO.1 GENERATOR ENGINE</td>\n",
       "      <td>323-6480 LINES GP-FUEL</td>\n",
       "      <td>SEAL-O-RING-STOR</td>\n",
       "      <td>7.00E-275</td>\n",
       "      <td>0</td>\n",
       "      <td>7.00E-275</td>\n",
       "      <td>COOLER</td>\n",
       "      <td>...</td>\n",
       "      <td>혜인 발주</td>\n",
       "      <td>BS</td>\n",
       "      <td>2020-09-19</td>\n",
       "      <td>1</td>\n",
       "      <td>BLO</td>\n",
       "      <td>본선 선적</td>\n",
       "      <td>0</td>\n",
       "      <td>0</td>\n",
       "      <td>0</td>\n",
       "      <td>194</td>\n",
       "    </tr>\n",
       "    <tr>\n",
       "      <th>1</th>\n",
       "      <td>OCA-BS-ESP-2010004</td>\n",
       "      <td>5</td>\n",
       "      <td>운전시간 대비 #2 AUX ENG TOP END O/H PARTS</td>\n",
       "      <td>NO.2 GENERATOR ENGINE</td>\n",
       "      <td>GASKET KIT</td>\n",
       "      <td>OIL COOLER &amp; LINES</td>\n",
       "      <td>7.00E-275</td>\n",
       "      <td>0</td>\n",
       "      <td>7.00E-275</td>\n",
       "      <td>COOLER</td>\n",
       "      <td>...</td>\n",
       "      <td>혜인 발주</td>\n",
       "      <td>BS</td>\n",
       "      <td>2020-09-18</td>\n",
       "      <td>1</td>\n",
       "      <td>JBG</td>\n",
       "      <td>본선 선적</td>\n",
       "      <td>0</td>\n",
       "      <td>0</td>\n",
       "      <td>0</td>\n",
       "      <td>59</td>\n",
       "    </tr>\n",
       "    <tr>\n",
       "      <th>2</th>\n",
       "      <td>MIR-BS-ESP-2011002</td>\n",
       "      <td>119</td>\n",
       "      <td>운전시간 대비 #2 AUX ENG(CAT 3512C) MAJOR O/H PARTS</td>\n",
       "      <td>NO.2 GENERATOR ENGINE</td>\n",
       "      <td>285-8374 MANIFOLD GP-EXH</td>\n",
       "      <td>WASHER</td>\n",
       "      <td>7.00E-275</td>\n",
       "      <td>0</td>\n",
       "      <td>7.00E-275</td>\n",
       "      <td>COOLER</td>\n",
       "      <td>...</td>\n",
       "      <td>0</td>\n",
       "      <td>BS</td>\n",
       "      <td>2020-12-12</td>\n",
       "      <td>1</td>\n",
       "      <td>BON</td>\n",
       "      <td>SANWA FONTAINE</td>\n",
       "      <td>0</td>\n",
       "      <td>0</td>\n",
       "      <td>0</td>\n",
       "      <td>61</td>\n",
       "    </tr>\n",
       "    <tr>\n",
       "      <th>3</th>\n",
       "      <td>BLO-BS-ESP-2003002</td>\n",
       "      <td>16</td>\n",
       "      <td>#1 AUX ENG TOP END O/H PARTS</td>\n",
       "      <td>NO.1 GENERATOR ENGINE</td>\n",
       "      <td>159-8828 TURBO GP</td>\n",
       "      <td>BOLT-HIGH TEMP</td>\n",
       "      <td>7.00E-275</td>\n",
       "      <td>0</td>\n",
       "      <td>7.00E-275</td>\n",
       "      <td>COOLER</td>\n",
       "      <td>...</td>\n",
       "      <td>혜인 발주</td>\n",
       "      <td>BS</td>\n",
       "      <td>2021-06-16</td>\n",
       "      <td>1</td>\n",
       "      <td>MIR</td>\n",
       "      <td>체항수리 시 사용</td>\n",
       "      <td>0</td>\n",
       "      <td>0</td>\n",
       "      <td>0</td>\n",
       "      <td>212</td>\n",
       "    </tr>\n",
       "    <tr>\n",
       "      <th>4</th>\n",
       "      <td>DEO-BS-ESP-2105008</td>\n",
       "      <td>97</td>\n",
       "      <td>DEO-E-210512-01</td>\n",
       "      <td>NO.1 GENERATOR ENGINE</td>\n",
       "      <td>2N4727 INSTRUMNT PANEL GP</td>\n",
       "      <td>SEAL</td>\n",
       "      <td>7.00E-275</td>\n",
       "      <td>0</td>\n",
       "      <td>7.00E-275</td>\n",
       "      <td>COOLER</td>\n",
       "      <td>...</td>\n",
       "      <td>0</td>\n",
       "      <td>BS</td>\n",
       "      <td>0</td>\n",
       "      <td>0</td>\n",
       "      <td>0</td>\n",
       "      <td>0</td>\n",
       "      <td>0</td>\n",
       "      <td>0</td>\n",
       "      <td>0</td>\n",
       "      <td>220</td>\n",
       "    </tr>\n",
       "    <tr>\n",
       "      <th>...</th>\n",
       "      <td>...</td>\n",
       "      <td>...</td>\n",
       "      <td>...</td>\n",
       "      <td>...</td>\n",
       "      <td>...</td>\n",
       "      <td>...</td>\n",
       "      <td>...</td>\n",
       "      <td>...</td>\n",
       "      <td>...</td>\n",
       "      <td>...</td>\n",
       "      <td>...</td>\n",
       "      <td>...</td>\n",
       "      <td>...</td>\n",
       "      <td>...</td>\n",
       "      <td>...</td>\n",
       "      <td>...</td>\n",
       "      <td>...</td>\n",
       "      <td>...</td>\n",
       "      <td>...</td>\n",
       "      <td>...</td>\n",
       "      <td>...</td>\n",
       "    </tr>\n",
       "    <tr>\n",
       "      <th>20512</th>\n",
       "      <td>BLO-BS-ESP-2006006</td>\n",
       "      <td>1</td>\n",
       "      <td>BLO-F-ENGINE-200515-03 BOAT DAVIT CYL 외, AIRCO...</td>\n",
       "      <td>HYD. SYSTEM</td>\n",
       "      <td>5-753-2E_BOAT DAVIT &amp; N.D CRANE LINE</td>\n",
       "      <td>HYD. CYLINDER_NET BOAT DAVIT</td>\n",
       "      <td>φ150 × φ85 × 695st</td>\n",
       "      <td>FF-SE-1CB150BB695ABD-YP2J</td>\n",
       "      <td>φ150 × φ85 × 695stFF-SE-1CB150BB695ABD-YP2J</td>\n",
       "      <td>CYLINDER</td>\n",
       "      <td>...</td>\n",
       "      <td>20-09-161</td>\n",
       "      <td>BW</td>\n",
       "      <td>0</td>\n",
       "      <td>0</td>\n",
       "      <td>0</td>\n",
       "      <td>0</td>\n",
       "      <td>0</td>\n",
       "      <td>0</td>\n",
       "      <td>0</td>\n",
       "      <td>95</td>\n",
       "    </tr>\n",
       "    <tr>\n",
       "      <th>20513</th>\n",
       "      <td>BLO-BS-ESP-2004008</td>\n",
       "      <td>1</td>\n",
       "      <td>BLO-F-ENGINE-200403-01 (NAVI DECK CRANE DERRIN...</td>\n",
       "      <td>HYD. SYSTEM</td>\n",
       "      <td>5-753-2E_BOAT DAVIT &amp; N.D CRANE LINE</td>\n",
       "      <td>HYD. CYLINDER_N.D CRANE_BOOM_LIFTER</td>\n",
       "      <td>φ160 × φ112 × 1130st</td>\n",
       "      <td>S-2CA160A20.6N1130-1</td>\n",
       "      <td>φ160 × φ112 × 1130stS-2CA160A20.6N1130-1</td>\n",
       "      <td>CYLINDER</td>\n",
       "      <td>...</td>\n",
       "      <td>20-07-114</td>\n",
       "      <td>BW</td>\n",
       "      <td>2020-08-26</td>\n",
       "      <td>1</td>\n",
       "      <td>BLO</td>\n",
       "      <td>BLO 상가시 선적</td>\n",
       "      <td>0</td>\n",
       "      <td>0</td>\n",
       "      <td>0</td>\n",
       "      <td>67</td>\n",
       "    </tr>\n",
       "    <tr>\n",
       "      <th>20514</th>\n",
       "      <td>ELS-BS-ESP-1908002</td>\n",
       "      <td>2</td>\n",
       "      <td>ELS-F-ENG-190628-02</td>\n",
       "      <td>6M NET BOAT</td>\n",
       "      <td>ELECTRIC CLUTCH</td>\n",
       "      <td>PULLY</td>\n",
       "      <td>Φ305X5V-3</td>\n",
       "      <td>0</td>\n",
       "      <td>Φ305X5V-3</td>\n",
       "      <td>BELT</td>\n",
       "      <td>...</td>\n",
       "      <td>19-08-164</td>\n",
       "      <td>BW</td>\n",
       "      <td>2019-09-04</td>\n",
       "      <td>1</td>\n",
       "      <td>ELS</td>\n",
       "      <td>ONENESS</td>\n",
       "      <td>2019-10-02</td>\n",
       "      <td>1</td>\n",
       "      <td>완료</td>\n",
       "      <td>25</td>\n",
       "    </tr>\n",
       "    <tr>\n",
       "      <th>20515</th>\n",
       "      <td>BLO-BS-ESP-1906014</td>\n",
       "      <td>2</td>\n",
       "      <td>BLO-F-ENGINE-190617-01 (NET BOAT PARTS)</td>\n",
       "      <td>7M NET BOAT</td>\n",
       "      <td>HAND HYDRAULIC STEERING SYSTEM</td>\n",
       "      <td>CYLINDER</td>\n",
       "      <td>Φ50 x S195 CYLINDER</td>\n",
       "      <td>0</td>\n",
       "      <td>Φ50 x S195 CYLINDER</td>\n",
       "      <td>CYLINDER</td>\n",
       "      <td>...</td>\n",
       "      <td>19-07-134</td>\n",
       "      <td>BW</td>\n",
       "      <td>2019-08-20</td>\n",
       "      <td>1</td>\n",
       "      <td>BLO</td>\n",
       "      <td>세이셀 컨테이너</td>\n",
       "      <td>2019-10-12</td>\n",
       "      <td>1</td>\n",
       "      <td>완료</td>\n",
       "      <td>25</td>\n",
       "    </tr>\n",
       "    <tr>\n",
       "      <th>20516</th>\n",
       "      <td>BLO-BS-ESP-1906014</td>\n",
       "      <td>3</td>\n",
       "      <td>BLO-F-ENGINE-190617-01 (NET BOAT PARTS)</td>\n",
       "      <td>7M NET BOAT</td>\n",
       "      <td>HAND HYDRAULIC STEERING SYSTEM</td>\n",
       "      <td>SEAL KIT FOR CYLINDER</td>\n",
       "      <td>Φ50 x S195 CYLINDER SEAL KIT</td>\n",
       "      <td>0</td>\n",
       "      <td>Φ50 x S195 CYLINDER SEAL KIT</td>\n",
       "      <td>CYLINDER</td>\n",
       "      <td>...</td>\n",
       "      <td>19-07-134</td>\n",
       "      <td>BW</td>\n",
       "      <td>2019-08-20</td>\n",
       "      <td>2</td>\n",
       "      <td>BLO</td>\n",
       "      <td>세이셀 컨테이너</td>\n",
       "      <td>2019-10-12</td>\n",
       "      <td>2</td>\n",
       "      <td>완료</td>\n",
       "      <td>25</td>\n",
       "    </tr>\n",
       "  </tbody>\n",
       "</table>\n",
       "<p>20517 rows × 36 columns</p>\n",
       "</div>"
      ],
      "text/plain": [
       "                    청구서번호  No.   \n",
       "0      ELS-BS-ESP-2004002   12  \\\n",
       "1      OCA-BS-ESP-2010004    5   \n",
       "2      MIR-BS-ESP-2011002  119   \n",
       "3      BLO-BS-ESP-2003002   16   \n",
       "4      DEO-BS-ESP-2105008   97   \n",
       "...                   ...  ...   \n",
       "20512  BLO-BS-ESP-2006006    1   \n",
       "20513  BLO-BS-ESP-2004008    1   \n",
       "20514  ELS-BS-ESP-1908002    2   \n",
       "20515  BLO-BS-ESP-1906014    2   \n",
       "20516  BLO-BS-ESP-1906014    3   \n",
       "\n",
       "                                                 Subject   \n",
       "0                           NO.1 A/E C18 MAJOR O/H PARTS  \\\n",
       "1                   운전시간 대비 #2 AUX ENG TOP END O/H PARTS   \n",
       "2          운전시간 대비 #2 AUX ENG(CAT 3512C) MAJOR O/H PARTS   \n",
       "3                           #1 AUX ENG TOP END O/H PARTS   \n",
       "4                                        DEO-E-210512-01   \n",
       "...                                                  ...   \n",
       "20512  BLO-F-ENGINE-200515-03 BOAT DAVIT CYL 외, AIRCO...   \n",
       "20513  BLO-F-ENGINE-200403-01 (NAVI DECK CRANE DERRIN...   \n",
       "20514                                ELS-F-ENG-190628-02   \n",
       "20515            BLO-F-ENGINE-190617-01 (NET BOAT PARTS)   \n",
       "20516            BLO-F-ENGINE-190617-01 (NET BOAT PARTS)   \n",
       "\n",
       "                   Machinery                              Assembly   \n",
       "0      NO.1 GENERATOR ENGINE               323-6480 LINES GP-FUEL   \\\n",
       "1      NO.2 GENERATOR ENGINE                            GASKET KIT   \n",
       "2      NO.2 GENERATOR ENGINE             285-8374 MANIFOLD GP-EXH    \n",
       "3      NO.1 GENERATOR ENGINE                     159-8828 TURBO GP   \n",
       "4      NO.1 GENERATOR ENGINE             2N4727 INSTRUMNT PANEL GP   \n",
       "...                      ...                                   ...   \n",
       "20512            HYD. SYSTEM  5-753-2E_BOAT DAVIT & N.D CRANE LINE   \n",
       "20513            HYD. SYSTEM  5-753-2E_BOAT DAVIT & N.D CRANE LINE   \n",
       "20514            6M NET BOAT                       ELECTRIC CLUTCH   \n",
       "20515            7M NET BOAT        HAND HYDRAULIC STEERING SYSTEM   \n",
       "20516            7M NET BOAT        HAND HYDRAULIC STEERING SYSTEM   \n",
       "\n",
       "                                      청구품목                     Part No.1   \n",
       "0                         SEAL-O-RING-STOR                     7.00E-275  \\\n",
       "1                       OIL COOLER & LINES                     7.00E-275   \n",
       "2                                   WASHER                     7.00E-275   \n",
       "3                           BOLT-HIGH TEMP                     7.00E-275   \n",
       "4                                     SEAL                     7.00E-275   \n",
       "...                                    ...                           ...   \n",
       "20512         HYD. CYLINDER_NET BOAT DAVIT            φ150 × φ85 × 695st   \n",
       "20513  HYD. CYLINDER_N.D CRANE_BOOM_LIFTER          φ160 × φ112 × 1130st   \n",
       "20514                                PULLY                     Φ305X5V-3   \n",
       "20515                            CYLINDER            Φ50 x S195 CYLINDER   \n",
       "20516                SEAL KIT FOR CYLINDER  Φ50 x S195 CYLINDER SEAL KIT   \n",
       "\n",
       "                       Part No.2                                         key1   \n",
       "0                              0                                    7.00E-275  \\\n",
       "1                              0                                    7.00E-275   \n",
       "2                              0                                    7.00E-275   \n",
       "3                              0                                    7.00E-275   \n",
       "4                              0                                    7.00E-275   \n",
       "...                          ...                                          ...   \n",
       "20512  FF-SE-1CB150BB695ABD-YP2J  φ150 × φ85 × 695stFF-SE-1CB150BB695ABD-YP2J   \n",
       "20513       S-2CA160A20.6N1130-1     φ160 × φ112 × 1130stS-2CA160A20.6N1130-1   \n",
       "20514                          0                                    Φ305X5V-3   \n",
       "20515                          0                          Φ50 x S195 CYLINDER   \n",
       "20516                          0                 Φ50 x S195 CYLINDER SEAL KIT   \n",
       "\n",
       "           key2  ...  Control No.  입고창고        창고출고  창고출고수량 출고선박   \n",
       "0        COOLER  ...        혜인 발주    BS  2020-09-19       1  BLO  \\\n",
       "1        COOLER  ...        혜인 발주    BS  2020-09-18       1  JBG   \n",
       "2        COOLER  ...            0    BS  2020-12-12       1  BON   \n",
       "3        COOLER  ...        혜인 발주    BS  2021-06-16       1  MIR   \n",
       "4        COOLER  ...            0    BS           0       0    0   \n",
       "...         ...  ...          ...   ...         ...     ...  ...   \n",
       "20512  CYLINDER  ...    20-09-161    BW           0       0    0   \n",
       "20513  CYLINDER  ...    20-07-114    BW  2020-08-26       1  BLO   \n",
       "20514      BELT  ...    19-08-164    BW  2019-09-04       1  ELS   \n",
       "20515  CYLINDER  ...    19-07-134    BW  2019-08-20       1  BLO   \n",
       "20516  CYLINDER  ...    19-07-134    BW  2019-08-20       2  BLO   \n",
       "\n",
       "                출고운반선        선박입고 선박입고수량 완료 여부  leadtime  \n",
       "0               본선 선적           0      0     0       194  \n",
       "1               본선 선적           0      0     0        59  \n",
       "2      SANWA FONTAINE           0      0     0        61  \n",
       "3           체항수리 시 사용           0      0     0       212  \n",
       "4                   0           0      0     0       220  \n",
       "...               ...         ...    ...   ...       ...  \n",
       "20512               0           0      0     0        95  \n",
       "20513      BLO 상가시 선적           0      0     0        67  \n",
       "20514         ONENESS  2019-10-02      1    완료        25  \n",
       "20515        세이셀 컨테이너  2019-10-12      1    완료        25  \n",
       "20516        세이셀 컨테이너  2019-10-12      2    완료        25  \n",
       "\n",
       "[20517 rows x 36 columns]"
      ]
     },
     "execution_count": 23,
     "metadata": {},
     "output_type": "execute_result"
    }
   ],
   "source": [
    "df"
   ]
  },
  {
   "cell_type": "code",
   "execution_count": 22,
   "id": "98988911-ff96-4506-8cd8-eebb6c77e402",
   "metadata": {
    "tags": []
   },
   "outputs": [
    {
     "data": {
      "text/html": [
       "<div>\n",
       "<style scoped>\n",
       "    .dataframe tbody tr th:only-of-type {\n",
       "        vertical-align: middle;\n",
       "    }\n",
       "\n",
       "    .dataframe tbody tr th {\n",
       "        vertical-align: top;\n",
       "    }\n",
       "\n",
       "    .dataframe thead th {\n",
       "        text-align: right;\n",
       "    }\n",
       "</style>\n",
       "<table border=\"1\" class=\"dataframe\">\n",
       "  <thead>\n",
       "    <tr style=\"text-align: right;\">\n",
       "      <th></th>\n",
       "      <th>청구품목</th>\n",
       "      <th>key2</th>\n",
       "      <th>leadtime</th>\n",
       "      <th>견적화폐</th>\n",
       "      <th>발주처</th>\n",
       "    </tr>\n",
       "  </thead>\n",
       "  <tbody>\n",
       "    <tr>\n",
       "      <th>0</th>\n",
       "      <td>SEAL-O-RING-STOR</td>\n",
       "      <td>COOLER</td>\n",
       "      <td>194</td>\n",
       "      <td>KRW</td>\n",
       "      <td>HAEIN Coporation_Cheonan</td>\n",
       "    </tr>\n",
       "    <tr>\n",
       "      <th>1</th>\n",
       "      <td>OIL COOLER &amp; LINES</td>\n",
       "      <td>COOLER</td>\n",
       "      <td>59</td>\n",
       "      <td>KRW</td>\n",
       "      <td>HAEIN Coporation_Cheonan</td>\n",
       "    </tr>\n",
       "    <tr>\n",
       "      <th>2</th>\n",
       "      <td>WASHER</td>\n",
       "      <td>COOLER</td>\n",
       "      <td>61</td>\n",
       "      <td>KRW</td>\n",
       "      <td>HAEIN Coporation_Cheonan</td>\n",
       "    </tr>\n",
       "    <tr>\n",
       "      <th>3</th>\n",
       "      <td>BOLT-HIGH TEMP</td>\n",
       "      <td>COOLER</td>\n",
       "      <td>212</td>\n",
       "      <td>KRW</td>\n",
       "      <td>HAEIN Coporation_Cheonan</td>\n",
       "    </tr>\n",
       "    <tr>\n",
       "      <th>4</th>\n",
       "      <td>SEAL</td>\n",
       "      <td>COOLER</td>\n",
       "      <td>220</td>\n",
       "      <td>KRW</td>\n",
       "      <td>HAEIN Coporation_Cheonan</td>\n",
       "    </tr>\n",
       "    <tr>\n",
       "      <th>...</th>\n",
       "      <td>...</td>\n",
       "      <td>...</td>\n",
       "      <td>...</td>\n",
       "      <td>...</td>\n",
       "      <td>...</td>\n",
       "    </tr>\n",
       "    <tr>\n",
       "      <th>20512</th>\n",
       "      <td>HYD. CYLINDER_NET BOAT DAVIT</td>\n",
       "      <td>CYLINDER</td>\n",
       "      <td>95</td>\n",
       "      <td>JPY</td>\n",
       "      <td>MARINE HYDROTEC CO.,LTD.</td>\n",
       "    </tr>\n",
       "    <tr>\n",
       "      <th>20513</th>\n",
       "      <td>HYD. CYLINDER_N.D CRANE_BOOM_LIFTER</td>\n",
       "      <td>CYLINDER</td>\n",
       "      <td>67</td>\n",
       "      <td>JPY</td>\n",
       "      <td>MARINE HYDROTEC CO.,LTD.</td>\n",
       "    </tr>\n",
       "    <tr>\n",
       "      <th>20514</th>\n",
       "      <td>PULLY</td>\n",
       "      <td>BELT</td>\n",
       "      <td>25</td>\n",
       "      <td>JPY</td>\n",
       "      <td>PORT RELIEF ENGINEERING CO.,LTD.</td>\n",
       "    </tr>\n",
       "    <tr>\n",
       "      <th>20515</th>\n",
       "      <td>CYLINDER</td>\n",
       "      <td>CYLINDER</td>\n",
       "      <td>25</td>\n",
       "      <td>JPY</td>\n",
       "      <td>PORT RELIEF ENGINEERING CO.,LTD.</td>\n",
       "    </tr>\n",
       "    <tr>\n",
       "      <th>20516</th>\n",
       "      <td>SEAL KIT FOR CYLINDER</td>\n",
       "      <td>CYLINDER</td>\n",
       "      <td>25</td>\n",
       "      <td>JPY</td>\n",
       "      <td>PORT RELIEF ENGINEERING CO.,LTD.</td>\n",
       "    </tr>\n",
       "  </tbody>\n",
       "</table>\n",
       "<p>20517 rows × 5 columns</p>\n",
       "</div>"
      ],
      "text/plain": [
       "                                      청구품목      key2  leadtime 견적화폐   \n",
       "0                         SEAL-O-RING-STOR    COOLER       194  KRW  \\\n",
       "1                       OIL COOLER & LINES    COOLER        59  KRW   \n",
       "2                                   WASHER    COOLER        61  KRW   \n",
       "3                           BOLT-HIGH TEMP    COOLER       212  KRW   \n",
       "4                                     SEAL    COOLER       220  KRW   \n",
       "...                                    ...       ...       ...  ...   \n",
       "20512         HYD. CYLINDER_NET BOAT DAVIT  CYLINDER        95  JPY   \n",
       "20513  HYD. CYLINDER_N.D CRANE_BOOM_LIFTER  CYLINDER        67  JPY   \n",
       "20514                                PULLY      BELT        25  JPY   \n",
       "20515                            CYLINDER   CYLINDER        25  JPY   \n",
       "20516                SEAL KIT FOR CYLINDER  CYLINDER        25  JPY   \n",
       "\n",
       "                                    발주처  \n",
       "0              HAEIN Coporation_Cheonan  \n",
       "1              HAEIN Coporation_Cheonan  \n",
       "2              HAEIN Coporation_Cheonan  \n",
       "3              HAEIN Coporation_Cheonan  \n",
       "4              HAEIN Coporation_Cheonan  \n",
       "...                                 ...  \n",
       "20512          MARINE HYDROTEC CO.,LTD.  \n",
       "20513          MARINE HYDROTEC CO.,LTD.  \n",
       "20514  PORT RELIEF ENGINEERING CO.,LTD.  \n",
       "20515  PORT RELIEF ENGINEERING CO.,LTD.  \n",
       "20516  PORT RELIEF ENGINEERING CO.,LTD.  \n",
       "\n",
       "[20517 rows x 5 columns]"
      ]
     },
     "execution_count": 22,
     "metadata": {},
     "output_type": "execute_result"
    }
   ],
   "source": [
    "df1"
   ]
  },
  {
   "cell_type": "code",
   "execution_count": 127,
   "id": "fa107350-76ef-4723-b118-575802d31eda",
   "metadata": {
    "tags": []
   },
   "outputs": [],
   "source": [
    "from gensim.models import FastText\n",
    "from sklearn.feature_extraction.text import CountVectorizer\n",
    "from sklearn.model_selection import train_test_split\n",
    "from sklearn.linear_model import LinearRegression\n",
    "from sklearn.metrics import mean_squared_error, r2_score\n",
    "\n",
    "X = list(df[\"Subject\"]+ ' ' + df['key2']  + ' '   + df['Assembly'] + ' '  + df['출고운반선']+  ' ' + df['견적화폐']  +  ' ' + df['발주처']  )\n",
    "# type(y[0])\n",
    "# # y # 정규화\n",
    "from sklearn.preprocessing import StandardScaler\n",
    "\n",
    "# target 값\n",
    "y = df['leadtime']\n",
    "\n",
    "# StandardScaler 객체 생성\n",
    "scaler = StandardScaler()\n",
    "\n",
    "# y\n",
    "# y 값 정규화\n",
    "y_normalized = scaler.fit_transform(y.values.reshape(-1, 1))\n",
    "\n",
    "# 정규화된 y 값 출력\n",
    "# y_normalized = list(y_normalized)\n",
    "# y_normalized\n",
    "\n",
    "# y_normalized\n",
    "# print(y_normalized.shape)\n",
    "# y_train, y_test\n"
   ]
  },
  {
   "cell_type": "code",
   "execution_count": 110,
   "id": "5482cfb7-fa24-42b6-b557-914016d89ec9",
   "metadata": {
    "tags": []
   },
   "outputs": [
    {
     "name": "stdout",
     "output_type": "stream",
     "text": [
      "MSE 0.21601980646473634\n",
      "R2 0.7780977070223671\n"
     ]
    }
   ],
   "source": [
    "vectorizer = CountVectorizer()\n",
    "X = vectorizer.fit_transform(X)\n",
    "\n",
    "# X_train, X_test, y_train, y_test = train_test_split(X, y_normalized, test_size=0.2, random_state=40) # y 정규화 된 데이터 사용\n",
    "X_train, X_test, y_train, y_test = train_test_split(X, y, test_size=0.2, random_state=40) # 그냥 y 정규화 하지 않고 사용\n",
    "\n",
    "lr = LinearRegression()\n",
    "lr.fit(X_train, y_train)\n",
    "\n",
    "y_pred = lr.predict(X_test)\n",
    "\n",
    "mse = mean_squared_error(y_test, y_pred)\n",
    "r2 = r2_score(y_test, y_pred)\n",
    "\n",
    "print(\"MSE\", mse)\n",
    "print(\"R2\", r2)\n"
   ]
  },
  {
   "cell_type": "code",
   "execution_count": 80,
   "id": "13a59f91-f74e-496e-b0a8-ae14cf1514cd",
   "metadata": {
    "tags": []
   },
   "outputs": [
    {
     "data": {
      "text/plain": [
       "(pandas.core.series.Series, numpy.ndarray)"
      ]
     },
     "execution_count": 80,
     "metadata": {},
     "output_type": "execute_result"
    }
   ],
   "source": [
    "type(y_test),type(y_pred)#.shape"
   ]
  },
  {
   "cell_type": "code",
   "execution_count": 122,
   "id": "c80b5c6f-d23d-4d4f-ac2b-ecdefe22bd4a",
   "metadata": {
    "tags": []
   },
   "outputs": [],
   "source": [
    "# X"
   ]
  },
  {
   "cell_type": "code",
   "execution_count": null,
   "id": "793387a9-a58e-4322-a5a1-cedfb784a9b2",
   "metadata": {},
   "outputs": [],
   "source": []
  },
  {
   "cell_type": "code",
   "execution_count": null,
   "id": "96100a43-c267-4636-adc2-0c34c39c27da",
   "metadata": {},
   "outputs": [],
   "source": []
  },
  {
   "cell_type": "code",
   "execution_count": 241,
   "id": "99f8dcca-d0c9-4459-8a78-f5b76fdfd036",
   "metadata": {
    "tags": []
   },
   "outputs": [],
   "source": [
    "from gensim.models import FastText\n",
    "from sklearn.feature_extraction.text import CountVectorizer\n",
    "from sklearn.model_selection import train_test_split\n",
    "from sklearn.linear_model import LinearRegression\n",
    "from sklearn.metrics import mean_squared_error, r2_score\n",
    "\n",
    "X = list(df[\"Subject\"]+ ' ' + df['key2']  + ' '   + df['Assembly'] + ' '  + df['출고운반선']+  ' ' + df['견적화폐']  +  ' ' + df['발주처']  )\n",
    "\n",
    "# y # 정규화\n",
    "from sklearn.preprocessing import StandardScaler\n",
    "# target 값\n",
    "y = df['leadtime']"
   ]
  },
  {
   "cell_type": "code",
   "execution_count": 242,
   "id": "c79165a1-9c0e-41f3-8468-ceaade30b978",
   "metadata": {
    "tags": []
   },
   "outputs": [],
   "source": [
    "from keras.models import Sequential\n",
    "from keras.layers import Embedding,LSTM, Conv1D, MaxPooling1D, Dense, Flatten\n",
    "from tensorflow.keras.preprocessing import sequence\n",
    "from tensorflow.keras.preprocessing.text import Tokenizer\n",
    "from tensorflow.keras.preprocessing.sequence import pad_sequences\n",
    "\n",
    "# 텍스트 데이터를 정수 시퀀스로 변환\n",
    "tokenizer = Tokenizer()\n",
    "tokenizer.fit_on_texts(X)\n",
    "sequences = tokenizer.texts_to_sequences(X)\n",
    "\n",
    "\n",
    "# 시퀀스 패딩\n",
    "max_sequence_length = 100  # 적절한 시퀀스 길이로 설정\n",
    "padded_sequences = pad_sequences(sequences, maxlen=max_sequence_length)\n",
    "\n",
    "# 데이터 분할\n",
    "X_train, X_test, y_train, y_test = train_test_split(padded_sequences, y, test_size=0.2, random_state=42)\n",
    "\n",
    "# y_train과 y_test 정규화\n",
    "scaler = StandardScaler()\n",
    "y_train = scaler.fit_transform(y_train.values.reshape(-1, 1))\n",
    "y_test = scaler.transform(y_test.values.reshape(-1, 1))\n",
    "\n",
    "\n",
    "# 모델 구성\n",
    "# model = Sequential()\n",
    "# model.add(Embedding(input_dim=500, output_dim=100, input_length=max_sequence_length))\n",
    "# model.add(Conv1D(filters=64, kernel_size=3, activation='relu'))\n",
    "# model.add(MaxPooling1D(pool_size=2))\n",
    "# model.add(LSTM(64))\n",
    "# model.add(Dense(1))\n",
    "\n",
    "# # 위에 코드 가져옴\n",
    "# model = Sequential()\n",
    "# model.add(Conv1D(filters=64, kernel_size=3, activation='relu', input_shape=(max_sequence_length,)))\n",
    "# model.add(Reshape((12309, 64)))\n",
    "# model.add(MaxPooling1D(pool_size=2))\n",
    "# model.add(LSTM(64))\n",
    "# model.add(Dense(1))\n",
    "\n",
    "# 모델 구성\n",
    "model = Sequential()\n",
    "model.add(Embedding(input_dim=12309, output_dim=100, input_length=max_sequence_length))\n",
    "model.add(Conv1D(filters=64, kernel_size=3, activation='relu'))\n",
    "model.add(MaxPooling1D(pool_size=2))\n",
    "model.add(LSTM(64))\n",
    "model.add(Dense(1))\n",
    "\n",
    "\n",
    "# 모델 컴파일\n",
    "model.compile(loss='mean_squared_error', optimizer='adam')"
   ]
  },
  {
   "cell_type": "code",
   "execution_count": 237,
   "id": "58690fb1-b260-45c2-bafb-c81617150113",
   "metadata": {
    "tags": []
   },
   "outputs": [
    {
     "data": {
      "text/plain": [
       "((16413, 100), (16413, 1))"
      ]
     },
     "execution_count": 237,
     "metadata": {},
     "output_type": "execute_result"
    }
   ],
   "source": [
    "X_train.shape, y_train.shape\n",
    "# len(X), len(y)"
   ]
  },
  {
   "cell_type": "code",
   "execution_count": 238,
   "id": "3b0e0a34-9146-479d-aabb-eb77e2729035",
   "metadata": {
    "tags": []
   },
   "outputs": [
    {
     "data": {
      "text/plain": [
       "((4104, 100), (4104, 1))"
      ]
     },
     "execution_count": 238,
     "metadata": {},
     "output_type": "execute_result"
    }
   ],
   "source": [
    "X_test.shape, y_test.shape"
   ]
  },
  {
   "cell_type": "code",
   "execution_count": 243,
   "id": "182f9212-31ce-426d-9522-1c72a3fadf13",
   "metadata": {
    "tags": []
   },
   "outputs": [
    {
     "name": "stdout",
     "output_type": "stream",
     "text": [
      "Epoch 1/10\n",
      "165/165 [==============================] - 9s 48ms/step - loss: 0.4121 - val_loss: 0.2166\n",
      "Epoch 2/10\n",
      "165/165 [==============================] - 7s 45ms/step - loss: 0.1594 - val_loss: 0.1652\n",
      "Epoch 3/10\n",
      "165/165 [==============================] - 7s 45ms/step - loss: 0.1081 - val_loss: 0.1378\n",
      "Epoch 4/10\n",
      "165/165 [==============================] - 7s 45ms/step - loss: 0.0767 - val_loss: 0.1183\n",
      "Epoch 5/10\n",
      "165/165 [==============================] - 8s 45ms/step - loss: 0.0564 - val_loss: 0.1088\n",
      "Epoch 6/10\n",
      "165/165 [==============================] - 7s 45ms/step - loss: 0.0483 - val_loss: 0.0909\n",
      "Epoch 7/10\n",
      "165/165 [==============================] - 7s 45ms/step - loss: 0.0430 - val_loss: 0.0915\n",
      "Epoch 8/10\n",
      "165/165 [==============================] - 7s 45ms/step - loss: 0.0379 - val_loss: 0.0926\n",
      "Epoch 9/10\n",
      "165/165 [==============================] - 7s 45ms/step - loss: 0.0314 - val_loss: 0.0933\n",
      "Epoch 10/10\n",
      "165/165 [==============================] - 7s 45ms/step - loss: 0.0271 - val_loss: 0.0818\n"
     ]
    },
    {
     "data": {
      "text/plain": [
       "<keras.callbacks.History at 0x1b5d960ded0>"
      ]
     },
     "execution_count": 243,
     "metadata": {},
     "output_type": "execute_result"
    }
   ],
   "source": [
    "# 모델 훈련\n",
    "model.fit(X_train, y_train, epochs=10, batch_size=100, validation_data=(X_test, y_test))"
   ]
  },
  {
   "cell_type": "code",
   "execution_count": 250,
   "id": "2ef71a5d-f265-40e1-8592-5e0e86b53b70",
   "metadata": {
    "tags": []
   },
   "outputs": [
    {
     "name": "stdout",
     "output_type": "stream",
     "text": [
      "129/129 [==============================] - 1s 4ms/step\n",
      "Predicted values:\n",
      "[[ 0.8787939 ]\n",
      " [-0.03099362]\n",
      " [-0.32525623]\n",
      " ...\n",
      " [ 0.03005731]\n",
      " [-1.1227385 ]\n",
      " [ 0.09150735]]\n",
      "Actual values:\n",
      "[[145.]\n",
      " [ 78.]\n",
      " [ 56.]\n",
      " ...\n",
      " [  5.]\n",
      " [  0.]\n",
      " [ 80.]]\n"
     ]
    }
   ],
   "source": [
    "y_pred = model.predict(X_test)\n",
    "\n",
    "# 예측 결과 출력\n",
    "print(\"Predicted values:\")\n",
    "print(y_pred)\n",
    "\n",
    "print(\"Actual values:\")\n",
    "print(y_test)"
   ]
  },
  {
   "cell_type": "code",
   "execution_count": 251,
   "id": "e6e9279a-d397-4adb-8403-9c5cdaac4dcb",
   "metadata": {
    "tags": []
   },
   "outputs": [
    {
     "name": "stdout",
     "output_type": "stream",
     "text": [
      "R^2 Score: -1.170233379217025\n"
     ]
    }
   ],
   "source": [
    "from sklearn.metrics import r2_score\n",
    "\n",
    "r2 = r2_score(y_test, y_pred)\n",
    "print(\"R^2 Score:\", r2)"
   ]
  },
  {
   "cell_type": "code",
   "execution_count": 248,
   "id": "c04a447f-1fd1-44ab-8557-395c0220abbd",
   "metadata": {
    "tags": []
   },
   "outputs": [
    {
     "name": "stdout",
     "output_type": "stream",
     "text": [
      "Actual: [145.] Predicted: [137.254]\n",
      "Actual: [78.] Predicted: [73.74152]\n",
      "Actual: [56.] Predicted: [53.198986]\n",
      "Actual: [108.] Predicted: [128.79097]\n",
      "Actual: [220.] Predicted: [187.18962]\n",
      "Actual: [43.] Predicted: [46.800457]\n",
      "Actual: [100.] Predicted: [88.934784]\n",
      "Actual: [156.] Predicted: [161.49066]\n",
      "Actual: [10.] Predicted: [8.983459]\n",
      "Actual: [11.] Predicted: [10.035362]\n",
      "Actual: [195.] Predicted: [200.47772]\n",
      "Actual: [153.] Predicted: [169.86134]\n",
      "Actual: [48.] Predicted: [18.613747]\n",
      "Actual: [15.] Predicted: [13.10841]\n",
      "Actual: [59.] Predicted: [73.91463]\n",
      "Actual: [145.] Predicted: [132.04257]\n",
      "Actual: [21.] Predicted: [20.742588]\n",
      "Actual: [42.] Predicted: [40.93881]\n",
      "Actual: [6.] Predicted: [6.1796494]\n",
      "Actual: [46.] Predicted: [58.963406]\n",
      "Actual: [3.] Predicted: [6.081856]\n",
      "Actual: [132.] Predicted: [123.98383]\n",
      "Actual: [3.] Predicted: [-0.7919541]\n",
      "Actual: [14.] Predicted: [12.979439]\n",
      "Actual: [370.] Predicted: [347.8837]\n",
      "Actual: [0.] Predicted: [14.553131]\n",
      "Actual: [140.] Predicted: [154.98233]\n",
      "Actual: [105.] Predicted: [126.15811]\n",
      "Actual: [91.] Predicted: [90.848404]\n",
      "Actual: [82.] Predicted: [183.14743]\n",
      "Actual: [18.] Predicted: [19.197117]\n",
      "Actual: [14.] Predicted: [13.218903]\n",
      "Actual: [370.] Predicted: [334.7753]\n",
      "Actual: [30.] Predicted: [26.209236]\n",
      "Actual: [130.] Predicted: [128.11838]\n",
      "Actual: [69.] Predicted: [69.457054]\n",
      "Actual: [13.] Predicted: [16.492783]\n",
      "Actual: [12.] Predicted: [19.153137]\n",
      "Actual: [41.] Predicted: [37.78141]\n",
      "Actual: [145.] Predicted: [132.04257]\n",
      "Actual: [117.] Predicted: [123.32321]\n",
      "Actual: [31.] Predicted: [29.760235]\n",
      "Actual: [4.] Predicted: [10.2506485]\n",
      "Actual: [53.] Predicted: [45.670063]\n",
      "Actual: [33.] Predicted: [31.380436]\n",
      "Actual: [102.] Predicted: [107.9348]\n",
      "Actual: [46.] Predicted: [49.026615]\n",
      "Actual: [30.] Predicted: [31.83923]\n",
      "Actual: [0.] Predicted: [13.106239]\n",
      "Actual: [65.] Predicted: [92.53655]\n"
     ]
    }
   ],
   "source": [
    "# y_test와 y_pred를 numpy 배열로 변환합니다.\n",
    "# 정규화 하지 않은 데이터\n",
    "y_test_arr = np.array(y_test)\n",
    "y_pred_arr = np.array(y_pred)\n",
    "\n",
    "# 값들을 비교하면서 출력합니다.\n",
    "for i in range(50):\n",
    "    print(\"Actual:\", y_test_arr[i], \"Predicted:\", y_pred_arr[i])"
   ]
  },
  {
   "cell_type": "code",
   "execution_count": 247,
   "id": "05ec8575-a3b0-4184-af0c-b3f8da4de22b",
   "metadata": {
    "tags": []
   },
   "outputs": [
    {
     "name": "stdout",
     "output_type": "stream",
     "text": [
      "Actual: [145.] Predicted: [137.254]\n",
      "Actual: [78.] Predicted: [73.74152]\n",
      "Actual: [56.] Predicted: [53.198986]\n",
      "Actual: [108.] Predicted: [128.79097]\n",
      "Actual: [220.] Predicted: [187.18962]\n",
      "Actual: [43.] Predicted: [46.800457]\n",
      "Actual: [100.] Predicted: [88.934784]\n",
      "Actual: [156.] Predicted: [161.49066]\n",
      "Actual: [10.] Predicted: [8.983459]\n",
      "Actual: [11.] Predicted: [10.035362]\n",
      "Actual: [195.] Predicted: [200.47772]\n",
      "Actual: [153.] Predicted: [169.86134]\n",
      "Actual: [48.] Predicted: [18.613747]\n",
      "Actual: [15.] Predicted: [13.10841]\n",
      "Actual: [59.] Predicted: [73.91463]\n",
      "Actual: [145.] Predicted: [132.04257]\n",
      "Actual: [21.] Predicted: [20.742588]\n",
      "Actual: [42.] Predicted: [40.93881]\n",
      "Actual: [6.] Predicted: [6.1796494]\n",
      "Actual: [46.] Predicted: [58.963406]\n",
      "Actual: [3.] Predicted: [6.081856]\n",
      "Actual: [132.] Predicted: [123.98383]\n",
      "Actual: [3.] Predicted: [-0.7919541]\n",
      "Actual: [14.] Predicted: [12.979439]\n",
      "Actual: [370.] Predicted: [347.8837]\n",
      "Actual: [0.] Predicted: [14.553131]\n",
      "Actual: [140.] Predicted: [154.98233]\n",
      "Actual: [105.] Predicted: [126.15811]\n",
      "Actual: [91.] Predicted: [90.848404]\n",
      "Actual: [82.] Predicted: [183.14743]\n",
      "Actual: [18.] Predicted: [19.197117]\n",
      "Actual: [14.] Predicted: [13.218903]\n",
      "Actual: [370.] Predicted: [334.7753]\n",
      "Actual: [30.] Predicted: [26.209236]\n",
      "Actual: [130.] Predicted: [128.11838]\n",
      "Actual: [69.] Predicted: [69.457054]\n",
      "Actual: [13.] Predicted: [16.492783]\n",
      "Actual: [12.] Predicted: [19.153137]\n",
      "Actual: [41.] Predicted: [37.78141]\n",
      "Actual: [145.] Predicted: [132.04257]\n"
     ]
    }
   ],
   "source": [
    "# y_test와 y_pred를 numpy 배열로 변환합니다.\n",
    "# 정규화 한 데이터\n",
    "\n",
    "# 원래 스케일로 되돌리기\n",
    "# y_test = scaler.inverse_transform(y_test)\n",
    "# y_pred = scaler.inverse_transform(y_pred)\n",
    "\n",
    "# y_test_arr = np.array(y_test)\n",
    "# y_pred_arr = np.array(y_pred)\n",
    "\n",
    "# 값들을 비교하면서 출력합니다.\n",
    "for i in range(40):\n",
    "    print(\"Actual:\", y_test_arr[i], \"Predicted:\", y_pred_arr[i])"
   ]
  },
  {
   "cell_type": "code",
   "execution_count": 253,
   "id": "51e11ef7-d811-43bd-934d-3e16b4967934",
   "metadata": {
    "tags": []
   },
   "outputs": [
    {
     "name": "stdout",
     "output_type": "stream",
     "text": [
      "R^2 Score: -1.170233379217025\n"
     ]
    }
   ],
   "source": [
    "from sklearn.metrics import r2_score\n",
    "\n",
    "r2 = r2_score(y_test, y_pred)\n",
    "print(\"R^2 Score:\", r2)"
   ]
  },
  {
   "cell_type": "code",
   "execution_count": 252,
   "id": "7c42e339-0562-432f-8e3e-3db45cd3ef8f",
   "metadata": {
    "tags": []
   },
   "outputs": [
    {
     "name": "stdout",
     "output_type": "stream",
     "text": [
      "129/129 [==============================] - 1s 4ms/step - loss: 10423.9658\n",
      "Mean Squared Error: 10423.9658203125\n"
     ]
    }
   ],
   "source": [
    "mse = model.evaluate(X_test, y_test)\n",
    "print(\"Mean Squared Error:\", mse)"
   ]
  },
  {
   "cell_type": "code",
   "execution_count": null,
   "id": "5767c463-309e-48b2-b49b-d8fb6fb6426a",
   "metadata": {},
   "outputs": [],
   "source": []
  },
  {
   "cell_type": "code",
   "execution_count": null,
   "id": "a22dd2c1-8112-498e-88af-a4593265fb17",
   "metadata": {},
   "outputs": [],
   "source": []
  }
 ],
 "metadata": {
  "kernelspec": {
   "display_name": "Python 3 (ipykernel)",
   "language": "python",
   "name": "python3"
  },
  "language_info": {
   "codemirror_mode": {
    "name": "ipython",
    "version": 3
   },
   "file_extension": ".py",
   "mimetype": "text/x-python",
   "name": "python",
   "nbconvert_exporter": "python",
   "pygments_lexer": "ipython3",
   "version": "3.10.10"
  }
 },
 "nbformat": 4,
 "nbformat_minor": 5
}
