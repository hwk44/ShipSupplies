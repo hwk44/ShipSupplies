{
 "cells": [
  {
   "cell_type": "code",
   "execution_count": 1,
   "id": "41b37e2e-c378-490b-9f20-3989cc84f3f6",
   "metadata": {
    "tags": []
   },
   "outputs": [
    {
     "name": "stderr",
     "output_type": "stream",
     "text": [
      "C:\\Users\\SW\\AppData\\Local\\Temp\\ipykernel_8832\\1378052945.py:5: SettingWithCopyWarning: \n",
      "A value is trying to be set on a copy of a slice from a DataFrame.\n",
      "Try using .loc[row_indexer,col_indexer] = value instead\n",
      "\n",
      "See the caveats in the documentation: https://pandas.pydata.org/pandas-docs/stable/user_guide/indexing.html#returning-a-view-versus-a-copy\n",
      "  df1[\"leadtime\"] = df[\"leadtime\"].astype(int)\n"
     ]
    }
   ],
   "source": [
    "import pandas as pd\n",
    "from sklearn import preprocessing\n",
    "df = pd.read_csv('../data/raw_postpro.csv')\n",
    "df1 = df[[\"청구품목\", 'key2', 'leadtime', '견적화폐' , '발주처']]\n",
    "df1[\"leadtime\"] = df[\"leadtime\"].astype(int)"
   ]
  },
  {
   "cell_type": "code",
   "execution_count": 2,
   "id": "e928b4a9-61c8-4161-811b-b9fadcc35642",
   "metadata": {
    "tags": []
   },
   "outputs": [
    {
     "data": {
      "text/plain": [
       "Index(['청구서번호', 'No.', 'Subject', 'Machinery', 'Assembly', '청구품목', 'Part No.1',\n",
       "       'Part No.2', 'key1', 'key2', '리드타임_음수제거', '청구량', '견적', '견적수량', '견적화폐',\n",
       "       '견적단가', '발주번호', '발주처', '발주', '발주수량', '발주금액', 'D/T', '미입고 기간', '리드타임',\n",
       "       '창고입고', '창고입고수량', 'Control No.', '입고창고', '창고출고', '창고출고수량', '출고선박',\n",
       "       '출고운반선', '선박입고', '선박입고수량', '완료 여부', 'leadtime'],\n",
       "      dtype='object')"
      ]
     },
     "execution_count": 2,
     "metadata": {},
     "output_type": "execute_result"
    }
   ],
   "source": [
    "df.columns"
   ]
  },
  {
   "cell_type": "code",
   "execution_count": 3,
   "id": "4d77db52-7a06-4a89-ae40-eb0dfe6932ae",
   "metadata": {
    "tags": []
   },
   "outputs": [
    {
     "data": {
      "text/plain": [
       "0     194\n",
       "1      59\n",
       "2      61\n",
       "3     212\n",
       "4     220\n",
       "5      80\n",
       "6     100\n",
       "7      13\n",
       "8     117\n",
       "9      96\n",
       "10      2\n",
       "11    156\n",
       "12     72\n",
       "13     25\n",
       "14     49\n",
       "15     49\n",
       "16     49\n",
       "17     49\n",
       "18     56\n",
       "19     48\n",
       "20     56\n",
       "21     56\n",
       "22     28\n",
       "23      6\n",
       "24     56\n",
       "25     48\n",
       "26     56\n",
       "27     48\n",
       "28      6\n",
       "29      6\n",
       "30     32\n",
       "31      6\n",
       "32      6\n",
       "33      6\n",
       "34      6\n",
       "35      6\n",
       "36      6\n",
       "37      6\n",
       "38      6\n",
       "39      6\n",
       "40      6\n",
       "41      6\n",
       "42      6\n",
       "43      6\n",
       "44      6\n",
       "45      6\n",
       "46      6\n",
       "47      6\n",
       "48     62\n",
       "49     62\n",
       "Name: leadtime, dtype: int32"
      ]
     },
     "execution_count": 3,
     "metadata": {},
     "output_type": "execute_result"
    }
   ],
   "source": [
    "# df[\"리드타임\"] = df[\"리드타임\"].astype(float)\n",
    "# df[\"key2\"] = df[\"key2\"].astype(int)\n",
    "df1[\"leadtime\"].iloc[:50,]"
   ]
  },
  {
   "cell_type": "code",
   "execution_count": 4,
   "id": "b213adda-cbca-441a-9df6-d150c4be75d1",
   "metadata": {
    "tags": []
   },
   "outputs": [
    {
     "data": {
      "text/html": [
       "<div>\n",
       "<style scoped>\n",
       "    .dataframe tbody tr th:only-of-type {\n",
       "        vertical-align: middle;\n",
       "    }\n",
       "\n",
       "    .dataframe tbody tr th {\n",
       "        vertical-align: top;\n",
       "    }\n",
       "\n",
       "    .dataframe thead th {\n",
       "        text-align: right;\n",
       "    }\n",
       "</style>\n",
       "<table border=\"1\" class=\"dataframe\">\n",
       "  <thead>\n",
       "    <tr style=\"text-align: right;\">\n",
       "      <th></th>\n",
       "      <th>청구품목</th>\n",
       "      <th>key2</th>\n",
       "      <th>leadtime</th>\n",
       "      <th>견적화폐</th>\n",
       "      <th>발주처</th>\n",
       "    </tr>\n",
       "  </thead>\n",
       "  <tbody>\n",
       "    <tr>\n",
       "      <th>0</th>\n",
       "      <td>SEAL-O-RING-STOR</td>\n",
       "      <td>COOLER</td>\n",
       "      <td>194</td>\n",
       "      <td>KRW</td>\n",
       "      <td>HAEIN Coporation_Cheonan</td>\n",
       "    </tr>\n",
       "    <tr>\n",
       "      <th>1</th>\n",
       "      <td>OIL COOLER &amp; LINES</td>\n",
       "      <td>COOLER</td>\n",
       "      <td>59</td>\n",
       "      <td>KRW</td>\n",
       "      <td>HAEIN Coporation_Cheonan</td>\n",
       "    </tr>\n",
       "    <tr>\n",
       "      <th>2</th>\n",
       "      <td>WASHER</td>\n",
       "      <td>COOLER</td>\n",
       "      <td>61</td>\n",
       "      <td>KRW</td>\n",
       "      <td>HAEIN Coporation_Cheonan</td>\n",
       "    </tr>\n",
       "    <tr>\n",
       "      <th>3</th>\n",
       "      <td>BOLT-HIGH TEMP</td>\n",
       "      <td>COOLER</td>\n",
       "      <td>212</td>\n",
       "      <td>KRW</td>\n",
       "      <td>HAEIN Coporation_Cheonan</td>\n",
       "    </tr>\n",
       "    <tr>\n",
       "      <th>4</th>\n",
       "      <td>SEAL</td>\n",
       "      <td>COOLER</td>\n",
       "      <td>220</td>\n",
       "      <td>KRW</td>\n",
       "      <td>HAEIN Coporation_Cheonan</td>\n",
       "    </tr>\n",
       "    <tr>\n",
       "      <th>...</th>\n",
       "      <td>...</td>\n",
       "      <td>...</td>\n",
       "      <td>...</td>\n",
       "      <td>...</td>\n",
       "      <td>...</td>\n",
       "    </tr>\n",
       "    <tr>\n",
       "      <th>20512</th>\n",
       "      <td>HYD. CYLINDER_NET BOAT DAVIT</td>\n",
       "      <td>CYLINDER</td>\n",
       "      <td>95</td>\n",
       "      <td>JPY</td>\n",
       "      <td>MARINE HYDROTEC CO.,LTD.</td>\n",
       "    </tr>\n",
       "    <tr>\n",
       "      <th>20513</th>\n",
       "      <td>HYD. CYLINDER_N.D CRANE_BOOM_LIFTER</td>\n",
       "      <td>CYLINDER</td>\n",
       "      <td>67</td>\n",
       "      <td>JPY</td>\n",
       "      <td>MARINE HYDROTEC CO.,LTD.</td>\n",
       "    </tr>\n",
       "    <tr>\n",
       "      <th>20514</th>\n",
       "      <td>PULLY</td>\n",
       "      <td>BELT</td>\n",
       "      <td>25</td>\n",
       "      <td>JPY</td>\n",
       "      <td>PORT RELIEF ENGINEERING CO.,LTD.</td>\n",
       "    </tr>\n",
       "    <tr>\n",
       "      <th>20515</th>\n",
       "      <td>CYLINDER</td>\n",
       "      <td>CYLINDER</td>\n",
       "      <td>25</td>\n",
       "      <td>JPY</td>\n",
       "      <td>PORT RELIEF ENGINEERING CO.,LTD.</td>\n",
       "    </tr>\n",
       "    <tr>\n",
       "      <th>20516</th>\n",
       "      <td>SEAL KIT FOR CYLINDER</td>\n",
       "      <td>CYLINDER</td>\n",
       "      <td>25</td>\n",
       "      <td>JPY</td>\n",
       "      <td>PORT RELIEF ENGINEERING CO.,LTD.</td>\n",
       "    </tr>\n",
       "  </tbody>\n",
       "</table>\n",
       "<p>20517 rows × 5 columns</p>\n",
       "</div>"
      ],
      "text/plain": [
       "                                      청구품목      key2  leadtime 견적화폐   \n",
       "0                         SEAL-O-RING-STOR    COOLER       194  KRW  \\\n",
       "1                       OIL COOLER & LINES    COOLER        59  KRW   \n",
       "2                                   WASHER    COOLER        61  KRW   \n",
       "3                           BOLT-HIGH TEMP    COOLER       212  KRW   \n",
       "4                                     SEAL    COOLER       220  KRW   \n",
       "...                                    ...       ...       ...  ...   \n",
       "20512         HYD. CYLINDER_NET BOAT DAVIT  CYLINDER        95  JPY   \n",
       "20513  HYD. CYLINDER_N.D CRANE_BOOM_LIFTER  CYLINDER        67  JPY   \n",
       "20514                                PULLY      BELT        25  JPY   \n",
       "20515                            CYLINDER   CYLINDER        25  JPY   \n",
       "20516                SEAL KIT FOR CYLINDER  CYLINDER        25  JPY   \n",
       "\n",
       "                                    발주처  \n",
       "0              HAEIN Coporation_Cheonan  \n",
       "1              HAEIN Coporation_Cheonan  \n",
       "2              HAEIN Coporation_Cheonan  \n",
       "3              HAEIN Coporation_Cheonan  \n",
       "4              HAEIN Coporation_Cheonan  \n",
       "...                                 ...  \n",
       "20512          MARINE HYDROTEC CO.,LTD.  \n",
       "20513          MARINE HYDROTEC CO.,LTD.  \n",
       "20514  PORT RELIEF ENGINEERING CO.,LTD.  \n",
       "20515  PORT RELIEF ENGINEERING CO.,LTD.  \n",
       "20516  PORT RELIEF ENGINEERING CO.,LTD.  \n",
       "\n",
       "[20517 rows x 5 columns]"
      ]
     },
     "execution_count": 4,
     "metadata": {},
     "output_type": "execute_result"
    }
   ],
   "source": [
    "df1"
   ]
  },
  {
   "cell_type": "code",
   "execution_count": 5,
   "id": "bfe55754-c719-447e-b391-0068d08d061f",
   "metadata": {
    "tags": []
   },
   "outputs": [],
   "source": [
    "# # 컬럼 값을 배열로 변환\n",
    "# leadtime_val = df1['leadtime'].values\n",
    "\n",
    "# # 로그 변환 전에 1을 더함\n",
    "# leadtime_val = np.log(leadtime_val + 1)\n",
    "\n",
    "# # 컬럼 추가\n",
    "# df1['leadtime+1'] = leadtime_val\n",
    "# # df1"
   ]
  },
  {
   "cell_type": "code",
   "execution_count": 6,
   "id": "2d7ce4a7-1efd-48d9-8f70-883ca384cbd7",
   "metadata": {
    "tags": []
   },
   "outputs": [
    {
     "name": "stdout",
     "output_type": "stream",
     "text": [
      "평균: 75.87961202904908\n",
      "분산: 4859.405207472425\n"
     ]
    }
   ],
   "source": [
    "import numpy as np\n",
    "lead = df1['leadtime']\n",
    "mean = np.mean(lead)\n",
    "\n",
    "# 분산 계산\n",
    "variance = np.var(lead)\n",
    "\n",
    "# 결과 출력\n",
    "print(\"평균:\", mean)\n",
    "print(\"분산:\", variance)"
   ]
  },
  {
   "cell_type": "code",
   "execution_count": 7,
   "id": "7625966b-60d4-48fa-885b-d4431bbd0003",
   "metadata": {
    "tags": []
   },
   "outputs": [
    {
     "name": "stdout",
     "output_type": "stream",
     "text": [
      "Requirement already satisfied: gensim in d:\\shipsupplies\\venv\\lib\\site-packages (4.3.1)\n",
      "Requirement already satisfied: numpy>=1.18.5 in d:\\shipsupplies\\venv\\lib\\site-packages (from gensim) (1.23.5)\n",
      "Requirement already satisfied: scipy>=1.7.0 in d:\\shipsupplies\\venv\\lib\\site-packages (from gensim) (1.10.1)\n",
      "Requirement already satisfied: smart-open>=1.8.1 in d:\\shipsupplies\\venv\\lib\\site-packages (from gensim) (6.3.0)\n"
     ]
    }
   ],
   "source": [
    "!pip install gensim"
   ]
  },
  {
   "cell_type": "markdown",
   "id": "63608e23-b717-44df-a11e-24673f623adf",
   "metadata": {},
   "source": [
    "## X 값 CountVectorizer로 벡터화"
   ]
  },
  {
   "cell_type": "code",
   "execution_count": 7,
   "id": "c8fa3596-6457-4362-9323-4fb9c0b38150",
   "metadata": {
    "tags": []
   },
   "outputs": [
    {
     "data": {
      "text/plain": [
       "[array([[ 0.21053392,  0.06200132, -0.0336682 , ...,  0.13411023,\n",
       "          0.08138777,  0.0506245 ],\n",
       "        [ 0.23361008,  0.01734047,  0.0254471 , ..., -0.09801121,\n",
       "          0.00514455,  0.21597581],\n",
       "        [ 0.41638288,  0.14461648, -0.0962124 , ...,  0.2985414 ,\n",
       "          0.09143119,  0.04247996],\n",
       "        ...,\n",
       "        [ 0.05069493,  0.00073124, -0.02612838, ...,  0.01454947,\n",
       "          0.02074763,  0.04076531],\n",
       "        [ 0.18015724,  0.06443429, -0.12206853, ..., -0.05896076,\n",
       "          0.08554421,  0.28519392],\n",
       "        [ 0.18194128,  0.00344883, -0.05435101, ..., -0.06371354,\n",
       "          0.08710374,  0.26121168]]),\n",
       " array([[ 0.00105648, -0.00142775, -0.00076611, ..., -0.00039322,\n",
       "         -0.00152194,  0.00141048],\n",
       "        [ 0.00105648, -0.00142775, -0.00076611, ..., -0.00039322,\n",
       "         -0.00152194,  0.00141048],\n",
       "        [ 0.00105648, -0.00142775, -0.00076611, ..., -0.00039322,\n",
       "         -0.00152194,  0.00141048],\n",
       "        ...,\n",
       "        [ 0.00114423,  0.00317362,  0.00134651, ...,  0.00491837,\n",
       "          0.00157588, -0.00204732],\n",
       "        [ 0.00055191,  0.00208376, -0.00117217, ...,  0.00115713,\n",
       "         -0.00045038, -0.00120685],\n",
       "        [ 0.00055191,  0.00208376, -0.00117217, ...,  0.00115713,\n",
       "         -0.00045038, -0.00120685]]),\n",
       " array([[-0.00029671, -0.00323186, -0.0002439 , ..., -0.00292041,\n",
       "         -0.00179293,  0.00180148],\n",
       "        [-0.00029671, -0.00323186, -0.0002439 , ..., -0.00292041,\n",
       "         -0.00179293,  0.00180148],\n",
       "        [-0.00029671, -0.00323186, -0.0002439 , ..., -0.00292041,\n",
       "         -0.00179293,  0.00180148],\n",
       "        ...,\n",
       "        [ 0.00201547, -0.00273941, -0.00136588, ...,  0.00313032,\n",
       "         -0.001007  , -0.00338079],\n",
       "        [ 0.00201547, -0.00273941, -0.00136588, ...,  0.00313032,\n",
       "         -0.001007  , -0.00338079],\n",
       "        [ 0.00201547, -0.00273941, -0.00136588, ...,  0.00313032,\n",
       "         -0.001007  , -0.00338079]]),\n",
       " array([[-0.02701806, -0.02247489, -0.0072772 , ..., -0.02868889,\n",
       "         -0.04145161, -0.00442067],\n",
       "        [-0.02701806, -0.02247489, -0.0072772 , ..., -0.02868889,\n",
       "         -0.04145161, -0.00442067],\n",
       "        [-0.02701806, -0.02247489, -0.0072772 , ..., -0.02868889,\n",
       "         -0.04145161, -0.00442067],\n",
       "        ...,\n",
       "        [-0.30171293,  0.25126369, -0.2933463 , ...,  0.05905692,\n",
       "         -0.13343471,  0.15670424],\n",
       "        [-0.30171293,  0.25126369, -0.2933463 , ...,  0.05905692,\n",
       "         -0.13343471,  0.15670424],\n",
       "        [-0.30171293,  0.25126369, -0.2933463 , ...,  0.05905692,\n",
       "         -0.13343471,  0.15670424]])]"
      ]
     },
     "execution_count": 7,
     "metadata": {},
     "output_type": "execute_result"
    }
   ],
   "source": [
    "import numpy as np\n",
    "from gensim.models import FastText\n",
    "from sklearn.feature_extraction.text import CountVectorizer\n",
    "columns = [\"청구품목\", 'key2', '견적화폐' , '발주처']\n",
    "embedings = []\n",
    "for col in columns:\n",
    "    documents = df1[col].tolist()\n",
    "\n",
    "    # FastText 모델 학습\n",
    "    model = FastText(sentences=[doc.split() for doc in documents], vector_size=100, window=5, min_count=1, sg=1)\n",
    "\n",
    "    # 벡터화된 데이터 초기화\n",
    "    vectors = []\n",
    "\n",
    "    # 각 문서에 대해 벡터 생성\n",
    "    for doc in documents:\n",
    "        vector = np.zeros(model.vector_size)\n",
    "        count = 0\n",
    "        for word in doc.split():\n",
    "            if word in model.wv:\n",
    "                vector += model.wv[word]\n",
    "                count += 1\n",
    "        if count > 0:\n",
    "            vector /= count\n",
    "        vectors.append(vector)\n",
    "\n",
    "    # 벡터화된 데이터를 배열로 변환\n",
    "    vectors = np.array(vectors)\n",
    "    embedings.append(vectors)\n",
    "embedings"
   ]
  },
  {
   "cell_type": "code",
   "execution_count": 8,
   "id": "162866ab-acb9-40ee-8017-562494b8a93d",
   "metadata": {
    "tags": []
   },
   "outputs": [
    {
     "data": {
      "text/plain": [
       "0        194\n",
       "1         59\n",
       "2         61\n",
       "3        212\n",
       "4        220\n",
       "        ... \n",
       "20512     95\n",
       "20513     67\n",
       "20514     25\n",
       "20515     25\n",
       "20516     25\n",
       "Name: leadtime, Length: 20517, dtype: int32"
      ]
     },
     "execution_count": 8,
     "metadata": {},
     "output_type": "execute_result"
    }
   ],
   "source": [
    "df1['leadtime']"
   ]
  },
  {
   "cell_type": "code",
   "execution_count": 9,
   "id": "ea3992a3-5489-49d2-8734-64e618b34fcb",
   "metadata": {
    "tags": []
   },
   "outputs": [
    {
     "name": "stdout",
     "output_type": "stream",
     "text": [
      "[[ 1.69446775]\n",
      " [-0.24214243]\n",
      " [-0.21345191]\n",
      " ...\n",
      " [-0.72988129]\n",
      " [-0.72988129]\n",
      " [-0.72988129]]\n"
     ]
    }
   ],
   "source": [
    "from sklearn.preprocessing import StandardScaler\n",
    "# 정규화할 y 값\n",
    "y = df1['leadtime'].copy()\n",
    "\n",
    "# StandardScaler 객체 생성\n",
    "scaler = StandardScaler()\n",
    "\n",
    "# y 값 정규화\n",
    "y_normalized = scaler.fit_transform(y.values.reshape(-1, 1))\n",
    "\n",
    "# 정규화된 y 값 출력\n",
    "print(y_normalized)"
   ]
  },
  {
   "cell_type": "code",
   "execution_count": 10,
   "id": "869366c3-40c9-45e0-b4d7-6c62eb1257a5",
   "metadata": {
    "tags": []
   },
   "outputs": [
    {
     "data": {
      "text/html": [
       "<style>#sk-container-id-1 {color: black;background-color: white;}#sk-container-id-1 pre{padding: 0;}#sk-container-id-1 div.sk-toggleable {background-color: white;}#sk-container-id-1 label.sk-toggleable__label {cursor: pointer;display: block;width: 100%;margin-bottom: 0;padding: 0.3em;box-sizing: border-box;text-align: center;}#sk-container-id-1 label.sk-toggleable__label-arrow:before {content: \"▸\";float: left;margin-right: 0.25em;color: #696969;}#sk-container-id-1 label.sk-toggleable__label-arrow:hover:before {color: black;}#sk-container-id-1 div.sk-estimator:hover label.sk-toggleable__label-arrow:before {color: black;}#sk-container-id-1 div.sk-toggleable__content {max-height: 0;max-width: 0;overflow: hidden;text-align: left;background-color: #f0f8ff;}#sk-container-id-1 div.sk-toggleable__content pre {margin: 0.2em;color: black;border-radius: 0.25em;background-color: #f0f8ff;}#sk-container-id-1 input.sk-toggleable__control:checked~div.sk-toggleable__content {max-height: 200px;max-width: 100%;overflow: auto;}#sk-container-id-1 input.sk-toggleable__control:checked~label.sk-toggleable__label-arrow:before {content: \"▾\";}#sk-container-id-1 div.sk-estimator input.sk-toggleable__control:checked~label.sk-toggleable__label {background-color: #d4ebff;}#sk-container-id-1 div.sk-label input.sk-toggleable__control:checked~label.sk-toggleable__label {background-color: #d4ebff;}#sk-container-id-1 input.sk-hidden--visually {border: 0;clip: rect(1px 1px 1px 1px);clip: rect(1px, 1px, 1px, 1px);height: 1px;margin: -1px;overflow: hidden;padding: 0;position: absolute;width: 1px;}#sk-container-id-1 div.sk-estimator {font-family: monospace;background-color: #f0f8ff;border: 1px dotted black;border-radius: 0.25em;box-sizing: border-box;margin-bottom: 0.5em;}#sk-container-id-1 div.sk-estimator:hover {background-color: #d4ebff;}#sk-container-id-1 div.sk-parallel-item::after {content: \"\";width: 100%;border-bottom: 1px solid gray;flex-grow: 1;}#sk-container-id-1 div.sk-label:hover label.sk-toggleable__label {background-color: #d4ebff;}#sk-container-id-1 div.sk-serial::before {content: \"\";position: absolute;border-left: 1px solid gray;box-sizing: border-box;top: 0;bottom: 0;left: 50%;z-index: 0;}#sk-container-id-1 div.sk-serial {display: flex;flex-direction: column;align-items: center;background-color: white;padding-right: 0.2em;padding-left: 0.2em;position: relative;}#sk-container-id-1 div.sk-item {position: relative;z-index: 1;}#sk-container-id-1 div.sk-parallel {display: flex;align-items: stretch;justify-content: center;background-color: white;position: relative;}#sk-container-id-1 div.sk-item::before, #sk-container-id-1 div.sk-parallel-item::before {content: \"\";position: absolute;border-left: 1px solid gray;box-sizing: border-box;top: 0;bottom: 0;left: 50%;z-index: -1;}#sk-container-id-1 div.sk-parallel-item {display: flex;flex-direction: column;z-index: 1;position: relative;background-color: white;}#sk-container-id-1 div.sk-parallel-item:first-child::after {align-self: flex-end;width: 50%;}#sk-container-id-1 div.sk-parallel-item:last-child::after {align-self: flex-start;width: 50%;}#sk-container-id-1 div.sk-parallel-item:only-child::after {width: 0;}#sk-container-id-1 div.sk-dashed-wrapped {border: 1px dashed gray;margin: 0 0.4em 0.5em 0.4em;box-sizing: border-box;padding-bottom: 0.4em;background-color: white;}#sk-container-id-1 div.sk-label label {font-family: monospace;font-weight: bold;display: inline-block;line-height: 1.2em;}#sk-container-id-1 div.sk-label-container {text-align: center;}#sk-container-id-1 div.sk-container {/* jupyter's `normalize.less` sets `[hidden] { display: none; }` but bootstrap.min.css set `[hidden] { display: none !important; }` so we also need the `!important` here to be able to override the default hidden behavior on the sphinx rendered scikit-learn.org. See: https://github.com/scikit-learn/scikit-learn/issues/21755 */display: inline-block !important;position: relative;}#sk-container-id-1 div.sk-text-repr-fallback {display: none;}</style><div id=\"sk-container-id-1\" class=\"sk-top-container\"><div class=\"sk-text-repr-fallback\"><pre>LinearRegression()</pre><b>In a Jupyter environment, please rerun this cell to show the HTML representation or trust the notebook. <br />On GitHub, the HTML representation is unable to render, please try loading this page with nbviewer.org.</b></div><div class=\"sk-container\" hidden><div class=\"sk-item\"><div class=\"sk-estimator sk-toggleable\"><input class=\"sk-toggleable__control sk-hidden--visually\" id=\"sk-estimator-id-1\" type=\"checkbox\" checked><label for=\"sk-estimator-id-1\" class=\"sk-toggleable__label sk-toggleable__label-arrow\">LinearRegression</label><div class=\"sk-toggleable__content\"><pre>LinearRegression()</pre></div></div></div></div></div>"
      ],
      "text/plain": [
       "LinearRegression()"
      ]
     },
     "execution_count": 10,
     "metadata": {},
     "output_type": "execute_result"
    }
   ],
   "source": [
    "import numpy as np\n",
    "from sklearn.model_selection import train_test_split\n",
    "from sklearn.linear_model import LinearRegression\n",
    "\n",
    "# 각 컬럼을 임베딩하여 벡터로 표현\n",
    "embeddings_col1 = embedings[0]\n",
    "embeddings_col2 = embedings[1]\n",
    "embeddings_col3 = embedings[2]\n",
    "embeddings_col4 = embedings[3]\n",
    "\n",
    "# 예측 대상 데이터\n",
    "target_data = df1['leadtime'].values\n",
    "\n",
    "# 피처 벡터 생성\n",
    "X = np.concatenate([embeddings_col1, embeddings_col2, embeddings_col3, embeddings_col4], axis=1)\n",
    "\n",
    "# 학습 데이터와 테스트 데이터로 분할\n",
    "# X_train, X_test, y_train, y_test = train_test_split(X, target_data, test_size=0.2, random_state=42)\n",
    "X_train, X_test, y_train, y_test = train_test_split(X, y_normalized, test_size=0.2, random_state=42) # 벡터화된 X 정규화된 y 사용\n",
    "\n",
    "# 선형 회귀 모델 학습\n",
    "model = LinearRegression()\n",
    "model.fit(X_train, y_train)"
   ]
  },
  {
   "cell_type": "code",
   "execution_count": 11,
   "id": "6efb22b3-b18f-4660-8bea-c5780df2a617",
   "metadata": {
    "tags": []
   },
   "outputs": [
    {
     "data": {
      "text/plain": [
       "(4104, 1)"
      ]
     },
     "execution_count": 11,
     "metadata": {},
     "output_type": "execute_result"
    }
   ],
   "source": [
    "# X.shape, target_data.shape\n",
    "# X\n",
    "# y\n",
    "y_test.shape"
   ]
  },
  {
   "cell_type": "code",
   "execution_count": 12,
   "id": "8a8fba82-a8a4-44da-9889-bf1c26096428",
   "metadata": {
    "tags": []
   },
   "outputs": [
    {
     "data": {
      "text/plain": [
       "(4104, 1)"
      ]
     },
     "execution_count": 12,
     "metadata": {},
     "output_type": "execute_result"
    }
   ],
   "source": [
    "# 테스트 데이터에 대한 예측\n",
    "predictions = model.predict(X_test)\n",
    "predictions.shape"
   ]
  },
  {
   "cell_type": "code",
   "execution_count": 13,
   "id": "1399d6f4-d321-4b8b-8954-99dfe3042f62",
   "metadata": {
    "tags": []
   },
   "outputs": [
    {
     "name": "stdout",
     "output_type": "stream",
     "text": [
      "        Actual  Predicted\n",
      "0     0.991550   0.159705\n",
      "1     0.030418   0.244165\n",
      "2    -0.285178   0.381187\n",
      "3     0.460775   0.292260\n",
      "4     2.067445   0.505558\n",
      "...        ...        ...\n",
      "4099 -0.385595   0.247341\n",
      "4100 -0.055654  -0.039411\n",
      "4101 -1.016787  -0.297560\n",
      "4102 -1.088513  -0.065865\n",
      "4103  0.059108   0.053703\n",
      "\n",
      "[4104 rows x 2 columns]\n"
     ]
    },
    {
     "data": {
      "text/html": [
       "<div>\n",
       "<style scoped>\n",
       "    .dataframe tbody tr th:only-of-type {\n",
       "        vertical-align: middle;\n",
       "    }\n",
       "\n",
       "    .dataframe tbody tr th {\n",
       "        vertical-align: top;\n",
       "    }\n",
       "\n",
       "    .dataframe thead th {\n",
       "        text-align: right;\n",
       "    }\n",
       "</style>\n",
       "<table border=\"1\" class=\"dataframe\">\n",
       "  <thead>\n",
       "    <tr style=\"text-align: right;\">\n",
       "      <th></th>\n",
       "      <th>Actual</th>\n",
       "      <th>Predicted</th>\n",
       "    </tr>\n",
       "  </thead>\n",
       "  <tbody>\n",
       "    <tr>\n",
       "      <th>0</th>\n",
       "      <td>0.991550</td>\n",
       "      <td>0.159705</td>\n",
       "    </tr>\n",
       "    <tr>\n",
       "      <th>1</th>\n",
       "      <td>0.030418</td>\n",
       "      <td>0.244165</td>\n",
       "    </tr>\n",
       "    <tr>\n",
       "      <th>2</th>\n",
       "      <td>-0.285178</td>\n",
       "      <td>0.381187</td>\n",
       "    </tr>\n",
       "    <tr>\n",
       "      <th>3</th>\n",
       "      <td>0.460775</td>\n",
       "      <td>0.292260</td>\n",
       "    </tr>\n",
       "    <tr>\n",
       "      <th>4</th>\n",
       "      <td>2.067445</td>\n",
       "      <td>0.505558</td>\n",
       "    </tr>\n",
       "    <tr>\n",
       "      <th>5</th>\n",
       "      <td>-0.471667</td>\n",
       "      <td>0.155664</td>\n",
       "    </tr>\n",
       "    <tr>\n",
       "      <th>6</th>\n",
       "      <td>0.346013</td>\n",
       "      <td>-0.312380</td>\n",
       "    </tr>\n",
       "    <tr>\n",
       "      <th>7</th>\n",
       "      <td>1.149348</td>\n",
       "      <td>0.211270</td>\n",
       "    </tr>\n",
       "    <tr>\n",
       "      <th>8</th>\n",
       "      <td>-0.945060</td>\n",
       "      <td>-0.007647</td>\n",
       "    </tr>\n",
       "    <tr>\n",
       "      <th>9</th>\n",
       "      <td>-0.930715</td>\n",
       "      <td>-1.000052</td>\n",
       "    </tr>\n",
       "    <tr>\n",
       "      <th>10</th>\n",
       "      <td>1.708813</td>\n",
       "      <td>0.264262</td>\n",
       "    </tr>\n",
       "    <tr>\n",
       "      <th>11</th>\n",
       "      <td>1.106312</td>\n",
       "      <td>-0.000431</td>\n",
       "    </tr>\n",
       "    <tr>\n",
       "      <th>12</th>\n",
       "      <td>-0.399940</td>\n",
       "      <td>0.529411</td>\n",
       "    </tr>\n",
       "    <tr>\n",
       "      <th>13</th>\n",
       "      <td>-0.873334</td>\n",
       "      <td>-0.533837</td>\n",
       "    </tr>\n",
       "    <tr>\n",
       "      <th>14</th>\n",
       "      <td>-0.242142</td>\n",
       "      <td>-0.097974</td>\n",
       "    </tr>\n",
       "    <tr>\n",
       "      <th>15</th>\n",
       "      <td>0.991550</td>\n",
       "      <td>0.307262</td>\n",
       "    </tr>\n",
       "    <tr>\n",
       "      <th>16</th>\n",
       "      <td>-0.787262</td>\n",
       "      <td>-0.891784</td>\n",
       "    </tr>\n",
       "    <tr>\n",
       "      <th>17</th>\n",
       "      <td>-0.486012</td>\n",
       "      <td>-0.664382</td>\n",
       "    </tr>\n",
       "    <tr>\n",
       "      <th>18</th>\n",
       "      <td>-1.002441</td>\n",
       "      <td>-0.199581</td>\n",
       "    </tr>\n",
       "    <tr>\n",
       "      <th>19</th>\n",
       "      <td>-0.428631</td>\n",
       "      <td>0.098466</td>\n",
       "    </tr>\n",
       "    <tr>\n",
       "      <th>20</th>\n",
       "      <td>-1.045477</td>\n",
       "      <td>-0.000864</td>\n",
       "    </tr>\n",
       "    <tr>\n",
       "      <th>21</th>\n",
       "      <td>0.805062</td>\n",
       "      <td>0.143168</td>\n",
       "    </tr>\n",
       "    <tr>\n",
       "      <th>22</th>\n",
       "      <td>-1.045477</td>\n",
       "      <td>0.007152</td>\n",
       "    </tr>\n",
       "    <tr>\n",
       "      <th>23</th>\n",
       "      <td>-0.887679</td>\n",
       "      <td>-0.838340</td>\n",
       "    </tr>\n",
       "    <tr>\n",
       "      <th>24</th>\n",
       "      <td>4.219234</td>\n",
       "      <td>2.500939</td>\n",
       "    </tr>\n",
       "    <tr>\n",
       "      <th>25</th>\n",
       "      <td>-1.088513</td>\n",
       "      <td>0.019126</td>\n",
       "    </tr>\n",
       "    <tr>\n",
       "      <th>26</th>\n",
       "      <td>0.919824</td>\n",
       "      <td>0.410176</td>\n",
       "    </tr>\n",
       "    <tr>\n",
       "      <th>27</th>\n",
       "      <td>0.417740</td>\n",
       "      <td>0.390590</td>\n",
       "    </tr>\n",
       "    <tr>\n",
       "      <th>28</th>\n",
       "      <td>0.216906</td>\n",
       "      <td>0.110854</td>\n",
       "    </tr>\n",
       "    <tr>\n",
       "      <th>29</th>\n",
       "      <td>0.087799</td>\n",
       "      <td>0.346762</td>\n",
       "    </tr>\n",
       "  </tbody>\n",
       "</table>\n",
       "</div>"
      ],
      "text/plain": [
       "      Actual  Predicted\n",
       "0   0.991550   0.159705\n",
       "1   0.030418   0.244165\n",
       "2  -0.285178   0.381187\n",
       "3   0.460775   0.292260\n",
       "4   2.067445   0.505558\n",
       "5  -0.471667   0.155664\n",
       "6   0.346013  -0.312380\n",
       "7   1.149348   0.211270\n",
       "8  -0.945060  -0.007647\n",
       "9  -0.930715  -1.000052\n",
       "10  1.708813   0.264262\n",
       "11  1.106312  -0.000431\n",
       "12 -0.399940   0.529411\n",
       "13 -0.873334  -0.533837\n",
       "14 -0.242142  -0.097974\n",
       "15  0.991550   0.307262\n",
       "16 -0.787262  -0.891784\n",
       "17 -0.486012  -0.664382\n",
       "18 -1.002441  -0.199581\n",
       "19 -0.428631   0.098466\n",
       "20 -1.045477  -0.000864\n",
       "21  0.805062   0.143168\n",
       "22 -1.045477   0.007152\n",
       "23 -0.887679  -0.838340\n",
       "24  4.219234   2.500939\n",
       "25 -1.088513   0.019126\n",
       "26  0.919824   0.410176\n",
       "27  0.417740   0.390590\n",
       "28  0.216906   0.110854\n",
       "29  0.087799   0.346762"
      ]
     },
     "execution_count": 13,
     "metadata": {},
     "output_type": "execute_result"
    }
   ],
   "source": [
    "# 예측값과 실제값 비교\n",
    "# y_test와 predictions의 shape은 (4104, 1)입니다.\n",
    "comparison = pd.DataFrame({'Actual': y_test.flatten(), 'Predicted': predictions.flatten()})\n",
    "print(comparison)\n",
    "comparison[:30]"
   ]
  },
  {
   "cell_type": "code",
   "execution_count": null,
   "id": "1ef91f97-b989-400b-a970-87f440505b05",
   "metadata": {},
   "outputs": [],
   "source": []
  },
  {
   "cell_type": "code",
   "execution_count": 14,
   "id": "335cf897-828b-4e1c-b852-76bcf3f3dc92",
   "metadata": {
    "tags": []
   },
   "outputs": [
    {
     "name": "stdout",
     "output_type": "stream",
     "text": [
      "R-squared: -93887230378.7439\n",
      "Mean Squared Error: 92800427712.2607\n",
      "Mean Absolute Error: 9844.7450139517\n"
     ]
    }
   ],
   "source": [
    "from sklearn.metrics import mean_squared_error, mean_absolute_error, fbeta_score, r2_score\n",
    "\n",
    "# R 제곱 계산\n",
    "r2 = r2_score(y_test, predictions)\n",
    "print(\"R-squared:\", r2)\n",
    "\n",
    "# 평균 제곱 오차 계산\n",
    "mse = mean_squared_error(y_test, predictions)\n",
    "print(\"Mean Squared Error:\", mse)\n",
    "\n",
    "# 평균 절대 오차 계산\n",
    "mae = mean_absolute_error(y_test, predictions)\n",
    "print(\"Mean Absolute Error:\", mae)"
   ]
  },
  {
   "cell_type": "code",
   "execution_count": null,
   "id": "d9477a77-b8b9-4cde-8e3f-077441cb8acd",
   "metadata": {},
   "outputs": [],
   "source": []
  },
  {
   "cell_type": "code",
   "execution_count": null,
   "id": "bb1272c5-bf82-437b-a59c-d89c2d2896d0",
   "metadata": {},
   "outputs": [],
   "source": []
  },
  {
   "cell_type": "code",
   "execution_count": null,
   "id": "b3c56552-2f69-472a-97de-a1c58d8f03fb",
   "metadata": {},
   "outputs": [],
   "source": []
  },
  {
   "cell_type": "markdown",
   "id": "ed30e8ee-df46-4168-a579-065829bdc3df",
   "metadata": {},
   "source": [
    "## lstm\n",
    "### 학습이 너무 느리고 정확도도 않좋음"
   ]
  },
  {
   "cell_type": "code",
   "execution_count": 17,
   "id": "7878b0b5-ebeb-4ae7-ac50-7ac17b451775",
   "metadata": {
    "tags": []
   },
   "outputs": [],
   "source": [
    "from gensim.models import FastText\n",
    "from sklearn.feature_extraction.text import CountVectorizer\n",
    "columns = [\"청구품목\", 'key2', '견적화폐' , '발주처']\n",
    "embedings = []\n",
    "for col in columns:\n",
    "    documents = df1[col].tolist()\n",
    "\n",
    "    # FastText 모델 학습\n",
    "    model = FastText(sentences=[doc.split() for doc in documents], vector_size=100, window=5, min_count=1, sg=1)\n",
    "\n",
    "    # 벡터화된 데이터 초기화\n",
    "    vectors = []\n",
    "\n",
    "    # 각 문서에 대해 벡터 생성\n",
    "    for doc in documents:\n",
    "        vector = np.zeros(model.vector_size)\n",
    "        count = 0\n",
    "        for word in doc.split():\n",
    "            if word in model.wv:\n",
    "                vector += model.wv[word]\n",
    "                count += 1\n",
    "        if count > 0:\n",
    "            vector /= count\n",
    "        vectors.append(vector)\n",
    "\n",
    "    # 벡터화된 데이터를 배열로 변환\n",
    "    vectors = np.array(vectors)\n",
    "    embedings.append(vectors)\n"
   ]
  },
  {
   "cell_type": "code",
   "execution_count": null,
   "id": "96dcc875-bc79-46ff-88fd-4cbe1c4469d4",
   "metadata": {},
   "outputs": [],
   "source": []
  },
  {
   "cell_type": "code",
   "execution_count": 21,
   "id": "db887189-da22-4124-a878-9e7850061f20",
   "metadata": {
    "tags": []
   },
   "outputs": [],
   "source": [
    "from keras.models import Sequential\n",
    "from keras.layers import LSTM, Dense\n",
    "\n",
    "# 각 컬럼을 임베딩하여 벡터로 표현\n",
    "embeddings_col1 = embedings[0]\n",
    "embeddings_col2 = embedings[1]\n",
    "embeddings_col3 = embedings[2]\n",
    "embeddings_col4 = embedings[3]\n",
    "\n",
    "# 예측 대상 데이터\n",
    "target_data = df1['leadtime'].values\n",
    "\n",
    "# 피처 벡터 생성\n",
    "X = np.concatenate([embeddings_col1, embeddings_col2, embeddings_col3, embeddings_col4], axis=1)\n",
    "\n",
    "# 학습 데이터와 테스트 데이터로 분할\n",
    "X_train, X_test, y_train, y_test = train_test_split(X, target_data, test_size=0.2, random_state=42)\n",
    "\n",
    "# 입력 데이터를 3차원으로 변환\n",
    "X_train = np.reshape(X_train, (X_train.shape[0], X_train.shape[1], 1))\n",
    "X_test = np.reshape(X_test, (X_test.shape[0], X_test.shape[1], 1))\n",
    "\n",
    "# 모델 구성\n",
    "model = Sequential()\n",
    "model.add(LSTM(128, input_shape=(400,1)))\n",
    "model.add(Dense(1))\n",
    "\n",
    "# 모델 컴파일\n",
    "model.compile(loss='mean_squared_error', optimizer='adam')\n",
    "\n",
    "# 모델 학습\n",
    "model.fit(X_train, y_train, epochs=10, batch_size=32)\n",
    "\n",
    "# 모델 예측\n",
    "predictions = model.predict(X_test)\n",
    "\n",
    "# 모델 평가\n",
    "mse = mean_squared_error(y_test, predictions)\n",
    "r2 = r2_score(y_test, predictions)"
   ]
  },
  {
   "cell_type": "code",
   "execution_count": 19,
   "id": "dfe8bd49-6859-4f3f-9ae6-be4751bd5890",
   "metadata": {
    "tags": []
   },
   "outputs": [
    {
     "data": {
      "text/plain": [
       "(1.7708075605311908e+22, -3.686759455273599e+18)"
      ]
     },
     "execution_count": 19,
     "metadata": {},
     "output_type": "execute_result"
    }
   ],
   "source": [
    "mse, r2"
   ]
  },
  {
   "cell_type": "code",
   "execution_count": null,
   "id": "87088b70-9f47-443c-a5f7-d5a45c7fd519",
   "metadata": {},
   "outputs": [],
   "source": []
  },
  {
   "cell_type": "code",
   "execution_count": null,
   "id": "8469ac20-53c5-4e2e-a56d-b57ffbce8c18",
   "metadata": {},
   "outputs": [],
   "source": []
  },
  {
   "cell_type": "code",
   "execution_count": null,
   "id": "136471d3-2971-42ab-bc1a-f58ccbaef437",
   "metadata": {},
   "outputs": [],
   "source": []
  },
  {
   "cell_type": "code",
   "execution_count": null,
   "id": "12c7d787-f123-44fd-a523-67bc9fa9b9d1",
   "metadata": {},
   "outputs": [],
   "source": []
  },
  {
   "cell_type": "markdown",
   "id": "85dbfc2b-cf40-470b-bf46-e026c3ff2c13",
   "metadata": {},
   "source": [
    "## Conv1D MaxPooling1D"
   ]
  },
  {
   "cell_type": "markdown",
   "id": "e6d76340-ae93-4e01-bf91-3331f8154aaa",
   "metadata": {},
   "source": [
    "### TODO :  y값 정규화 => 성능 더 좋아질 것으로 예상"
   ]
  },
  {
   "cell_type": "code",
   "execution_count": 31,
   "id": "8dd5b349-f52d-4b67-bdd8-95c5d7617994",
   "metadata": {
    "tags": []
   },
   "outputs": [
    {
     "data": {
      "text/plain": [
       "[array([[ 0.21053392,  0.06200132, -0.0336682 , ...,  0.13411023,\n",
       "          0.08138777,  0.0506245 ],\n",
       "        [ 0.23361008,  0.01734047,  0.0254471 , ..., -0.09801121,\n",
       "          0.00514455,  0.21597581],\n",
       "        [ 0.41638288,  0.14461648, -0.0962124 , ...,  0.2985414 ,\n",
       "          0.09143119,  0.04247996],\n",
       "        ...,\n",
       "        [ 0.05069493,  0.00073124, -0.02612838, ...,  0.01454947,\n",
       "          0.02074763,  0.04076531],\n",
       "        [ 0.18015724,  0.06443429, -0.12206853, ..., -0.05896076,\n",
       "          0.08554421,  0.28519392],\n",
       "        [ 0.18194128,  0.00344883, -0.05435101, ..., -0.06371354,\n",
       "          0.08710374,  0.26121168]]),\n",
       " array([[ 0.00105648, -0.00142775, -0.00076611, ..., -0.00039322,\n",
       "         -0.00152194,  0.00141048],\n",
       "        [ 0.00105648, -0.00142775, -0.00076611, ..., -0.00039322,\n",
       "         -0.00152194,  0.00141048],\n",
       "        [ 0.00105648, -0.00142775, -0.00076611, ..., -0.00039322,\n",
       "         -0.00152194,  0.00141048],\n",
       "        ...,\n",
       "        [ 0.00114423,  0.00317362,  0.00134651, ...,  0.00491837,\n",
       "          0.00157588, -0.00204732],\n",
       "        [ 0.00055191,  0.00208376, -0.00117217, ...,  0.00115713,\n",
       "         -0.00045038, -0.00120685],\n",
       "        [ 0.00055191,  0.00208376, -0.00117217, ...,  0.00115713,\n",
       "         -0.00045038, -0.00120685]]),\n",
       " array([[-0.00029671, -0.00323186, -0.0002439 , ..., -0.00292041,\n",
       "         -0.00179293,  0.00180148],\n",
       "        [-0.00029671, -0.00323186, -0.0002439 , ..., -0.00292041,\n",
       "         -0.00179293,  0.00180148],\n",
       "        [-0.00029671, -0.00323186, -0.0002439 , ..., -0.00292041,\n",
       "         -0.00179293,  0.00180148],\n",
       "        ...,\n",
       "        [ 0.00201547, -0.00273941, -0.00136588, ...,  0.00313032,\n",
       "         -0.001007  , -0.00338079],\n",
       "        [ 0.00201547, -0.00273941, -0.00136588, ...,  0.00313032,\n",
       "         -0.001007  , -0.00338079],\n",
       "        [ 0.00201547, -0.00273941, -0.00136588, ...,  0.00313032,\n",
       "         -0.001007  , -0.00338079]]),\n",
       " array([[-0.02701806, -0.02247489, -0.0072772 , ..., -0.02868889,\n",
       "         -0.04145161, -0.00442067],\n",
       "        [-0.02701806, -0.02247489, -0.0072772 , ..., -0.02868889,\n",
       "         -0.04145161, -0.00442067],\n",
       "        [-0.02701806, -0.02247489, -0.0072772 , ..., -0.02868889,\n",
       "         -0.04145161, -0.00442067],\n",
       "        ...,\n",
       "        [-0.30171293,  0.25126369, -0.2933463 , ...,  0.05905692,\n",
       "         -0.13343471,  0.15670424],\n",
       "        [-0.30171293,  0.25126369, -0.2933463 , ...,  0.05905692,\n",
       "         -0.13343471,  0.15670424],\n",
       "        [-0.30171293,  0.25126369, -0.2933463 , ...,  0.05905692,\n",
       "         -0.13343471,  0.15670424]])]"
      ]
     },
     "execution_count": 31,
     "metadata": {},
     "output_type": "execute_result"
    }
   ],
   "source": [
    "embedings"
   ]
  },
  {
   "cell_type": "code",
   "execution_count": 15,
   "id": "41d48b5a-694b-4d9b-8f64-be9e5158af9f",
   "metadata": {
    "tags": []
   },
   "outputs": [],
   "source": [
    "from tensorflow.keras.models import Sequential\n",
    "from tensorflow.keras.layers import Conv1D, MaxPooling1D, LSTM, Dense, Dropout, Reshape\n",
    "\n",
    "# 피처 벡터 생성\n",
    "X = np.concatenate([embeddings_col1, embeddings_col2, embeddings_col3, embeddings_col4], axis=1)\n",
    "\n",
    "# 예측 대상 데이터\n",
    "target_data = df1['leadtime'].values"
   ]
  },
  {
   "cell_type": "code",
   "execution_count": 16,
   "id": "4a2ecb21-be5b-4eeb-8c9d-ef165cc87ba8",
   "metadata": {
    "tags": []
   },
   "outputs": [
    {
     "data": {
      "text/plain": [
       "((20517, 400), (20517,))"
      ]
     },
     "execution_count": 16,
     "metadata": {},
     "output_type": "execute_result"
    }
   ],
   "source": [
    "X.shape, target_data.shape"
   ]
  },
  {
   "cell_type": "code",
   "execution_count": 17,
   "id": "6d1839a5-eb81-4039-bd12-a01001ce1140",
   "metadata": {
    "tags": []
   },
   "outputs": [
    {
     "name": "stdout",
     "output_type": "stream",
     "text": [
      "(20517, 1)\n"
     ]
    }
   ],
   "source": [
    "## 정규화\n",
    "import numpy as np\n",
    "from sklearn.preprocessing import MinMaxScaler\n",
    "\n",
    "# target_data를 2차원 배열로 변환합니다.\n",
    "target_data = np.array(target_data).reshape(-1, 1)\n",
    "\n",
    "# Min-Max 정규화를 적용합니다.\n",
    "scaler = MinMaxScaler()\n",
    "target_data = scaler.fit_transform(target_data)\n",
    "\n",
    "# 정규화된 데이터의 shape을 확인합니다.\n",
    "print(target_data.shape)"
   ]
  },
  {
   "cell_type": "code",
   "execution_count": 18,
   "id": "945516bf-0d1b-4c97-ad39-8bb0345b3a52",
   "metadata": {
    "tags": []
   },
   "outputs": [],
   "source": [
    "# 학습 데이터와 테스트 데이터로 분할\n",
    "X_train, X_test, y_train, y_test = train_test_split(X, target_data, test_size=0.2, random_state=42)\n",
    "\n",
    "# 훈련 데이터와 검증 데이터로 분할\n",
    "X_train, X_val, y_train, y_val = train_test_split(X_train, y_train, test_size=0.25, random_state=42)\n",
    "\n",
    "# 입력 데이터의 형태를 맞추기\n",
    "X_train = X_train.reshape(X_train.shape[0], 1, X_train.shape[1])\n",
    "X_test = X_test.reshape(X_test.shape[0], 1, X_test.shape[1])\n",
    "X_val = X_val.reshape(X_val.shape[0], 1, X_val.shape[1])\n"
   ]
  },
  {
   "cell_type": "code",
   "execution_count": 19,
   "id": "a1b18534-5898-4001-90bb-c49eb78e9081",
   "metadata": {
    "tags": []
   },
   "outputs": [
    {
     "data": {
      "text/plain": [
       "((12309, 1, 400), (4104, 1, 400), (4104, 1, 400), (12309, 1), (4104, 1))"
      ]
     },
     "execution_count": 19,
     "metadata": {},
     "output_type": "execute_result"
    }
   ],
   "source": [
    "X_train.shape, X_test.shape, X_val.shape, y_train.shape, y_val.shape"
   ]
  },
  {
   "cell_type": "code",
   "execution_count": 20,
   "id": "592e7563-d986-43e7-b7ac-720677494397",
   "metadata": {
    "tags": []
   },
   "outputs": [],
   "source": [
    "model = Sequential()\n",
    "model.add(Conv1D(filters=64, kernel_size=3, activation='relu', input_shape=(1, 400), padding='same'))\n",
    "model.add(MaxPooling1D(pool_size=1))\n",
    "model.add(Reshape((-1, 64)))  # Conv1D 레이어의 출력 형태를 (None, timesteps, features)로 변경\n",
    "model.add(LSTM(64))\n",
    "model.add(Dropout(0.5))\n",
    "model.add(Dense(1, activation='linear'))"
   ]
  },
  {
   "cell_type": "code",
   "execution_count": 21,
   "id": "27f673a6-c304-4b4a-ba50-99346a27feb9",
   "metadata": {
    "tags": []
   },
   "outputs": [],
   "source": [
    "# 모델 컴파일\n",
    "model.compile(loss='mean_squared_error', optimizer='adam', metrics=['mse'])"
   ]
  },
  {
   "cell_type": "code",
   "execution_count": 22,
   "id": "eb077136-c04c-4d6e-ac25-9be416741e6d",
   "metadata": {
    "tags": []
   },
   "outputs": [
    {
     "name": "stdout",
     "output_type": "stream",
     "text": [
      "Epoch 1/20\n",
      "385/385 [==============================] - 10s 5ms/step - loss: 0.0111 - mse: 0.0111 - val_loss: 0.0104 - val_mse: 0.0104\n",
      "Epoch 2/20\n",
      "385/385 [==============================] - 2s 4ms/step - loss: 0.0100 - mse: 0.0100 - val_loss: 0.0096 - val_mse: 0.0096\n",
      "Epoch 3/20\n",
      "385/385 [==============================] - 2s 4ms/step - loss: 0.0091 - mse: 0.0091 - val_loss: 0.0087 - val_mse: 0.0087\n",
      "Epoch 4/20\n",
      "385/385 [==============================] - 2s 4ms/step - loss: 0.0086 - mse: 0.0086 - val_loss: 0.0084 - val_mse: 0.0084\n",
      "Epoch 5/20\n",
      "385/385 [==============================] - 2s 4ms/step - loss: 0.0085 - mse: 0.0085 - val_loss: 0.0087 - val_mse: 0.0087\n",
      "Epoch 6/20\n",
      "385/385 [==============================] - 2s 4ms/step - loss: 0.0083 - mse: 0.0083 - val_loss: 0.0083 - val_mse: 0.0083\n",
      "Epoch 7/20\n",
      "385/385 [==============================] - 2s 4ms/step - loss: 0.0083 - mse: 0.0083 - val_loss: 0.0085 - val_mse: 0.0085\n",
      "Epoch 8/20\n",
      "385/385 [==============================] - 2s 4ms/step - loss: 0.0083 - mse: 0.0083 - val_loss: 0.0085 - val_mse: 0.0085\n",
      "Epoch 9/20\n",
      "385/385 [==============================] - 2s 4ms/step - loss: 0.0083 - mse: 0.0083 - val_loss: 0.0081 - val_mse: 0.0081\n",
      "Epoch 10/20\n",
      "385/385 [==============================] - 2s 4ms/step - loss: 0.0082 - mse: 0.0082 - val_loss: 0.0082 - val_mse: 0.0082\n",
      "Epoch 11/20\n",
      "385/385 [==============================] - 2s 4ms/step - loss: 0.0081 - mse: 0.0081 - val_loss: 0.0085 - val_mse: 0.0085\n",
      "Epoch 12/20\n",
      "385/385 [==============================] - 2s 4ms/step - loss: 0.0082 - mse: 0.0082 - val_loss: 0.0083 - val_mse: 0.0083\n",
      "Epoch 13/20\n",
      "385/385 [==============================] - 2s 4ms/step - loss: 0.0081 - mse: 0.0081 - val_loss: 0.0082 - val_mse: 0.0082\n",
      "Epoch 14/20\n",
      "385/385 [==============================] - 2s 4ms/step - loss: 0.0081 - mse: 0.0081 - val_loss: 0.0082 - val_mse: 0.0082\n",
      "Epoch 15/20\n",
      "385/385 [==============================] - 2s 4ms/step - loss: 0.0082 - mse: 0.0082 - val_loss: 0.0080 - val_mse: 0.0080\n",
      "Epoch 16/20\n",
      "385/385 [==============================] - 2s 4ms/step - loss: 0.0081 - mse: 0.0081 - val_loss: 0.0082 - val_mse: 0.0082\n",
      "Epoch 17/20\n",
      "385/385 [==============================] - 2s 4ms/step - loss: 0.0081 - mse: 0.0081 - val_loss: 0.0080 - val_mse: 0.0080\n",
      "Epoch 18/20\n",
      "385/385 [==============================] - 2s 4ms/step - loss: 0.0081 - mse: 0.0081 - val_loss: 0.0086 - val_mse: 0.0086\n",
      "Epoch 19/20\n",
      "385/385 [==============================] - 2s 4ms/step - loss: 0.0081 - mse: 0.0081 - val_loss: 0.0079 - val_mse: 0.0079\n",
      "Epoch 20/20\n",
      "385/385 [==============================] - 2s 4ms/step - loss: 0.0080 - mse: 0.0080 - val_loss: 0.0082 - val_mse: 0.0082\n"
     ]
    },
    {
     "data": {
      "text/plain": [
       "<keras.callbacks.History at 0x11e4da37310>"
      ]
     },
     "execution_count": 22,
     "metadata": {},
     "output_type": "execute_result"
    }
   ],
   "source": [
    "# 모델 학습\n",
    "model.fit(X_train, y_train, batch_size=32, epochs=20, validation_data=(X_val, y_val))"
   ]
  },
  {
   "cell_type": "code",
   "execution_count": 23,
   "id": "5c8e14fd-411d-4d56-a485-da8b06198b8c",
   "metadata": {
    "tags": []
   },
   "outputs": [
    {
     "name": "stdout",
     "output_type": "stream",
     "text": [
      "Model: \"sequential\"\n",
      "_________________________________________________________________\n",
      " Layer (type)                Output Shape              Param #   \n",
      "=================================================================\n",
      " conv1d (Conv1D)             (None, 1, 64)             76864     \n",
      "                                                                 \n",
      " max_pooling1d (MaxPooling1D  (None, 1, 64)            0         \n",
      " )                                                               \n",
      "                                                                 \n",
      " reshape (Reshape)           (None, 1, 64)             0         \n",
      "                                                                 \n",
      " lstm (LSTM)                 (None, 64)                33024     \n",
      "                                                                 \n",
      " dropout (Dropout)           (None, 64)                0         \n",
      "                                                                 \n",
      " dense (Dense)               (None, 1)                 65        \n",
      "                                                                 \n",
      "=================================================================\n",
      "Total params: 109,953\n",
      "Trainable params: 109,953\n",
      "Non-trainable params: 0\n",
      "_________________________________________________________________\n"
     ]
    }
   ],
   "source": [
    "# 모델 요약 출력\n",
    "model.summary()"
   ]
  },
  {
   "cell_type": "code",
   "execution_count": 24,
   "id": "003bec85-b32b-486c-b994-ea6140991efe",
   "metadata": {
    "tags": []
   },
   "outputs": [
    {
     "name": "stdout",
     "output_type": "stream",
     "text": [
      "129/129 [==============================] - 0s 2ms/step - loss: 0.0079 - mse: 0.0079\n",
      "Loss: 0.007856029085814953\n",
      "Metric: 0.007856029085814953\n"
     ]
    }
   ],
   "source": [
    "# 모델 평가\n",
    "loss, metric = model.evaluate(X_test, y_test)\n",
    "print(\"Loss:\", loss)\n",
    "print(\"Metric:\", metric)\n"
   ]
  },
  {
   "cell_type": "code",
   "execution_count": 25,
   "id": "2218eabb-fbd9-42c3-850f-91fb9dc9000e",
   "metadata": {
    "tags": []
   },
   "outputs": [
    {
     "data": {
      "text/plain": [
       "array([[[ 0.14935397,  0.00880466, -0.05452833, ...,  0.0288586 ,\n",
       "         -0.09668981,  0.06286418]],\n",
       "\n",
       "       [[ 0.11239655,  0.01696381, -0.04196012, ...,  0.01671759,\n",
       "         -0.08421566,  0.03095497]],\n",
       "\n",
       "       [[ 0.29548135,  0.08613377,  0.0593405 , ...,  0.01671759,\n",
       "         -0.08421566,  0.03095497]],\n",
       "\n",
       "       ...,\n",
       "\n",
       "       [[ 0.24921778,  0.09536452, -0.039933  , ..., -0.02868889,\n",
       "         -0.04145161, -0.00442067]],\n",
       "\n",
       "       [[ 0.08817355, -0.0637365 , -0.07209204, ..., -0.02868889,\n",
       "         -0.04145161, -0.00442067]],\n",
       "\n",
       "       [[ 0.16299755,  0.01166226, -0.06441925, ..., -0.02868889,\n",
       "         -0.04145161, -0.00442067]]])"
      ]
     },
     "execution_count": 25,
     "metadata": {},
     "output_type": "execute_result"
    }
   ],
   "source": [
    "X_test"
   ]
  },
  {
   "cell_type": "code",
   "execution_count": 26,
   "id": "1c6d2603-da8d-413d-89ae-efff0ddeae27",
   "metadata": {
    "tags": []
   },
   "outputs": [
    {
     "name": "stdout",
     "output_type": "stream",
     "text": [
      "129/129 [==============================] - 1s 1ms/step\n",
      "실제값: [0.22620905] 예측값: [0.13279094]\n",
      "실제값: [0.12168487] 예측값: [0.1442061]\n",
      "실제값: [0.08736349] 예측값: [0.13940382]\n",
      "실제값: [0.16848674] 예측값: [0.15466556]\n",
      "실제값: [0.34321373] 예측값: [0.19571179]\n",
      "실제값: [0.06708268] 예측값: [0.12961008]\n",
      "실제값: [0.15600624] 예측값: [0.10910913]\n",
      "실제값: [0.24336973] 예측값: [0.1272775]\n",
      "실제값: [0.01560062] 예측값: [0.1272775]\n",
      "실제값: [0.01716069] 예측값: [0.03729939]\n",
      "실제값: [0.30421217] 예측값: [0.13289747]\n",
      "실제값: [0.23868955] 예측값: [0.1272775]\n",
      "실제값: [0.074883] 예측값: [0.15056786]\n",
      "실제값: [0.02340094] 예측값: [0.07482623]\n",
      "실제값: [0.09204368] 예측값: [0.11790622]\n",
      "실제값: [0.22620905] 예측값: [0.13439953]\n",
      "실제값: [0.03276131] 예측값: [0.07569546]\n",
      "실제값: [0.06552262] 예측값: [0.06575998]\n",
      "실제값: [0.00936037] 예측값: [0.09622913]\n",
      "실제값: [0.07176287] 예측값: [0.12274536]\n",
      "실제값: [0.00468019] 예측값: [0.1272775]\n",
      "실제값: [0.20592824] 예측값: [0.13438393]\n",
      "실제값: [0.00468019] 예측값: [0.12410232]\n",
      "실제값: [0.02184087] 예측값: [0.05104994]\n",
      "실제값: [0.57722309] 예측값: [0.38214335]\n",
      "실제값: [0.] 예측값: [0.12377072]\n",
      "실제값: [0.21840874] 예측값: [0.17166397]\n",
      "실제값: [0.16380655] 예측값: [0.14657013]\n",
      "실제값: [0.14196568] 예측값: [0.12931913]\n",
      "실제값: [0.12792512] 예측값: [0.1554732]\n",
      "실제값: [0.02808112] 예측값: [0.11802867]\n",
      "실제값: [0.02184087] 예측값: [0.0446163]\n",
      "실제값: [0.57722309] 예측값: [0.35523933]\n",
      "실제값: [0.04680187] 예측값: [0.07014307]\n",
      "실제값: [0.20280811] 예측값: [0.33138445]\n",
      "실제값: [0.10764431] 예측값: [0.06655691]\n",
      "실제값: [0.02028081] 예측값: [0.1130008]\n",
      "실제값: [0.01872075] 예측값: [0.04415359]\n",
      "실제값: [0.06396256] 예측값: [0.16930458]\n",
      "실제값: [0.22620905] 예측값: [0.13940382]\n"
     ]
    }
   ],
   "source": [
    "# 예측 값 계산\n",
    "y_pred = model.predict(X_test)\n",
    "\n",
    "# 정규화된 실제값과 예측값 출력\n",
    "for i in range(40):\n",
    "    print(\"실제값:\", y_test[i], \"예측값:\", y_pred[i])"
   ]
  },
  {
   "cell_type": "code",
   "execution_count": 27,
   "id": "09d1caef-e44a-4bb5-bb4b-8a8e470e3042",
   "metadata": {
    "tags": []
   },
   "outputs": [],
   "source": [
    "y_pred_original = scaler.inverse_transform(y_pred)\n",
    "y_test_original = scaler.inverse_transform(y_test)"
   ]
  },
  {
   "cell_type": "code",
   "execution_count": 28,
   "id": "d54d3d31-32a3-44d7-b638-699cdea51689",
   "metadata": {
    "tags": []
   },
   "outputs": [
    {
     "name": "stdout",
     "output_type": "stream",
     "text": [
      "실제값: [145.] 예측값: [85.11899]\n",
      "실제값: [78.] 예측값: [92.43611]\n",
      "실제값: [56.] 예측값: [89.35785]\n",
      "실제값: [108.] 예측값: [99.140625]\n",
      "실제값: [220.] 예측값: [125.451256]\n",
      "실제값: [43.] 예측값: [83.08006]\n",
      "실제값: [100.] 예측값: [69.93896]\n",
      "실제값: [156.] 예측값: [81.58488]\n",
      "실제값: [10.] 예측값: [81.58488]\n",
      "실제값: [11.] 예측값: [23.908907]\n",
      "실제값: [195.] 예측값: [85.18728]\n",
      "실제값: [153.] 예측값: [81.58488]\n",
      "실제값: [48.] 예측값: [96.514]\n",
      "실제값: [15.] 예측값: [47.96361]\n",
      "실제값: [59.] 예측값: [75.57789]\n",
      "실제값: [145.] 예측값: [86.1501]\n",
      "실제값: [21.] 예측값: [48.520786]\n",
      "실제값: [42.] 예측값: [42.152145]\n",
      "실제값: [6.] 예측값: [61.682873]\n",
      "실제값: [46.] 예측값: [78.67978]\n",
      "실제값: [3.] 예측값: [81.58488]\n",
      "실제값: [132.] 예측값: [86.1401]\n",
      "실제값: [3.] 예측값: [79.54959]\n",
      "실제값: [14.] 예측값: [32.72301]\n",
      "실제값: [370.] 예측값: [244.95389]\n",
      "실제값: [0.] 예측값: [79.337036]\n",
      "실제값: [140.] 예측값: [110.036606]\n",
      "실제값: [105.] 예측값: [93.951454]\n",
      "실제값: [91.] 예측값: [82.89356]\n",
      "실제값: [82.] 예측값: [99.658325]\n",
      "실제값: [18.] 예측값: [75.65638]\n",
      "실제값: [14.] 예측값: [28.59905]\n",
      "실제값: [370.] 예측값: [227.7084]\n",
      "실제값: [30.] 예측값: [44.96171]\n",
      "실제값: [130.] 예측값: [212.41743]\n",
      "실제값: [69.] 예측값: [42.66298]\n",
      "실제값: [13.] 예측값: [72.43351]\n",
      "실제값: [12.] 예측값: [28.302448]\n",
      "실제값: [41.] 예측값: [108.52424]\n",
      "실제값: [145.] 예측값: [89.35785]\n"
     ]
    }
   ],
   "source": [
    "# 정규화된 실제값과 예측값 출력\n",
    "for i in range(40):\n",
    "    print(\"실제값:\", y_test_original[i], \"예측값:\", y_pred_original[i])"
   ]
  },
  {
   "cell_type": "code",
   "execution_count": 29,
   "id": "2c72bb7b-e762-462a-8931-4e4b884d110e",
   "metadata": {
    "tags": []
   },
   "outputs": [
    {
     "name": "stdout",
     "output_type": "stream",
     "text": [
      "MSE 0.007856030060382201\n",
      "R2 0.3279638567203783\n"
     ]
    }
   ],
   "source": [
    "mse = mean_squared_error(y_test, y_pred)\n",
    "r2 = r2_score(y_test, y_pred)\n",
    "\n",
    "print(\"MSE\", mse)\n",
    "print(\"R2\", r2)"
   ]
  },
  {
   "cell_type": "code",
   "execution_count": null,
   "id": "06c491b3-0201-4fcf-ac10-8625d30a1e9f",
   "metadata": {},
   "outputs": [],
   "source": []
  },
  {
   "cell_type": "code",
   "execution_count": null,
   "id": "7d2f2c04-f567-4475-8579-ad21249018ed",
   "metadata": {},
   "outputs": [],
   "source": []
  },
  {
   "cell_type": "code",
   "execution_count": null,
   "id": "78e84ed4-98e0-49d7-be7c-259cba10c6f4",
   "metadata": {},
   "outputs": [],
   "source": []
  },
  {
   "cell_type": "code",
   "execution_count": null,
   "id": "8df4c418-9102-4027-8fa1-3e35dd01737d",
   "metadata": {},
   "outputs": [],
   "source": []
  },
  {
   "cell_type": "markdown",
   "id": "30aea525-4587-45cb-9f2b-0e23a9db285f",
   "metadata": {
    "tags": []
   },
   "source": [
    "## 단어 임베딩"
   ]
  },
  {
   "cell_type": "code",
   "execution_count": 32,
   "id": "615e54ac-b43b-4efe-8776-251879613de5",
   "metadata": {
    "tags": []
   },
   "outputs": [
    {
     "name": "stderr",
     "output_type": "stream",
     "text": [
      "C:\\Users\\SW\\AppData\\Local\\Temp\\ipykernel_8832\\1949817153.py:34: SettingWithCopyWarning: \n",
      "A value is trying to be set on a copy of a slice from a DataFrame.\n",
      "Try using .loc[row_indexer,col_indexer] = value instead\n",
      "\n",
      "See the caveats in the documentation: https://pandas.pydata.org/pandas-docs/stable/user_guide/indexing.html#returning-a-view-versus-a-copy\n",
      "  df1[column] = vectors\n"
     ]
    },
    {
     "data": {
      "text/html": [
       "<div>\n",
       "<style scoped>\n",
       "    .dataframe tbody tr th:only-of-type {\n",
       "        vertical-align: middle;\n",
       "    }\n",
       "\n",
       "    .dataframe tbody tr th {\n",
       "        vertical-align: top;\n",
       "    }\n",
       "\n",
       "    .dataframe thead th {\n",
       "        text-align: right;\n",
       "    }\n",
       "</style>\n",
       "<table border=\"1\" class=\"dataframe\">\n",
       "  <thead>\n",
       "    <tr style=\"text-align: right;\">\n",
       "      <th></th>\n",
       "      <th>청구품목</th>\n",
       "      <th>key2</th>\n",
       "      <th>leadtime</th>\n",
       "      <th>견적화폐</th>\n",
       "      <th>발주처</th>\n",
       "    </tr>\n",
       "  </thead>\n",
       "  <tbody>\n",
       "    <tr>\n",
       "      <th>0</th>\n",
       "      <td>0.0</td>\n",
       "      <td>0.0</td>\n",
       "      <td>194</td>\n",
       "      <td>0.0</td>\n",
       "      <td>0.0</td>\n",
       "    </tr>\n",
       "    <tr>\n",
       "      <th>1</th>\n",
       "      <td>0.0</td>\n",
       "      <td>0.0</td>\n",
       "      <td>59</td>\n",
       "      <td>0.0</td>\n",
       "      <td>0.0</td>\n",
       "    </tr>\n",
       "    <tr>\n",
       "      <th>2</th>\n",
       "      <td>0.0</td>\n",
       "      <td>0.0</td>\n",
       "      <td>61</td>\n",
       "      <td>0.0</td>\n",
       "      <td>0.0</td>\n",
       "    </tr>\n",
       "    <tr>\n",
       "      <th>3</th>\n",
       "      <td>0.0</td>\n",
       "      <td>0.0</td>\n",
       "      <td>212</td>\n",
       "      <td>0.0</td>\n",
       "      <td>0.0</td>\n",
       "    </tr>\n",
       "    <tr>\n",
       "      <th>4</th>\n",
       "      <td>0.0</td>\n",
       "      <td>0.0</td>\n",
       "      <td>220</td>\n",
       "      <td>0.0</td>\n",
       "      <td>0.0</td>\n",
       "    </tr>\n",
       "    <tr>\n",
       "      <th>...</th>\n",
       "      <td>...</td>\n",
       "      <td>...</td>\n",
       "      <td>...</td>\n",
       "      <td>...</td>\n",
       "      <td>...</td>\n",
       "    </tr>\n",
       "    <tr>\n",
       "      <th>20512</th>\n",
       "      <td>0.0</td>\n",
       "      <td>0.0</td>\n",
       "      <td>95</td>\n",
       "      <td>0.0</td>\n",
       "      <td>0.0</td>\n",
       "    </tr>\n",
       "    <tr>\n",
       "      <th>20513</th>\n",
       "      <td>0.0</td>\n",
       "      <td>0.0</td>\n",
       "      <td>67</td>\n",
       "      <td>0.0</td>\n",
       "      <td>0.0</td>\n",
       "    </tr>\n",
       "    <tr>\n",
       "      <th>20514</th>\n",
       "      <td>0.0</td>\n",
       "      <td>0.0</td>\n",
       "      <td>25</td>\n",
       "      <td>0.0</td>\n",
       "      <td>0.0</td>\n",
       "    </tr>\n",
       "    <tr>\n",
       "      <th>20515</th>\n",
       "      <td>0.0</td>\n",
       "      <td>0.0</td>\n",
       "      <td>25</td>\n",
       "      <td>0.0</td>\n",
       "      <td>0.0</td>\n",
       "    </tr>\n",
       "    <tr>\n",
       "      <th>20516</th>\n",
       "      <td>0.0</td>\n",
       "      <td>0.0</td>\n",
       "      <td>25</td>\n",
       "      <td>0.0</td>\n",
       "      <td>0.0</td>\n",
       "    </tr>\n",
       "  </tbody>\n",
       "</table>\n",
       "<p>20517 rows × 5 columns</p>\n",
       "</div>"
      ],
      "text/plain": [
       "       청구품목  key2  leadtime  견적화폐  발주처\n",
       "0       0.0   0.0       194   0.0  0.0\n",
       "1       0.0   0.0        59   0.0  0.0\n",
       "2       0.0   0.0        61   0.0  0.0\n",
       "3       0.0   0.0       212   0.0  0.0\n",
       "4       0.0   0.0       220   0.0  0.0\n",
       "...     ...   ...       ...   ...  ...\n",
       "20512   0.0   0.0        95   0.0  0.0\n",
       "20513   0.0   0.0        67   0.0  0.0\n",
       "20514   0.0   0.0        25   0.0  0.0\n",
       "20515   0.0   0.0        25   0.0  0.0\n",
       "20516   0.0   0.0        25   0.0  0.0\n",
       "\n",
       "[20517 rows x 5 columns]"
      ]
     },
     "execution_count": 32,
     "metadata": {},
     "output_type": "execute_result"
    }
   ],
   "source": [
    "import numpy as np\n",
    "import pandas as pd\n",
    "from gensim.models import Word2Vec\n",
    "\n",
    "# 데이터셋 로드\n",
    "# data = pd.read_csv('data.csv')\n",
    "\n",
    "# 각 컬럼에 대한 임베딩 모델 학습\n",
    "embedding_models = {}\n",
    "columns = [\"청구품목\", 'key2', '견적화폐' , '발주처']\n",
    "\n",
    "X = df1[[\"청구품목\", 'key2', '견적화폐' , '발주처']]\n",
    "y = df1['leadtime']\n",
    "\n",
    "# for column in columns:\n",
    "#     # 컬럼 데이터를 리스트로 변환\n",
    "#     column_data = df1[column].tolist()\n",
    "    \n",
    "#     # Word2Vec 모델 학습\n",
    "#     embedding_model = Word2Vec(sentences=column_data, vector_size=100, window=5, min_count=1, workers=4)\n",
    "    \n",
    "#     # 학습된 임베딩 모델 저장\n",
    "#     embedding_models[column] = embedding_model\n",
    "\n",
    "from sklearn.feature_extraction.text import TfidfVectorizer\n",
    "\n",
    "for column in columns:\n",
    "    # 단어 벡터화 객체 생성\n",
    "    vectorizer = TfidfVectorizer()\n",
    "    # 문서 집합을 벡터화\n",
    "    vectorized_data = vectorizer.fit_transform(df1[column])\n",
    "    # 벡터화된 데이터를 배열로 변환\n",
    "    vectors = vectorized_data.toarray()\n",
    "    df1[column] = vectors\n",
    "\n",
    "# 임베딩된 벡터를 DataFrame의 컬럼에 할당\n",
    "# for column in columns:\n",
    "    # 임베딩된 벡터 저장할 빈 리스트\n",
    "    # embedded_vectors = []\n",
    "    \n",
    "    \n",
    "    # 각 범주에 대해 임베딩된 벡터 추출\n",
    "#     for category in df1[column]:\n",
    "#         # 벡터 추출\n",
    "#         vector = embedding_models[column].wv[category]\n",
    "#         embedded_vectors.append(vector)\n",
    "        \n",
    "#     # 임베딩된 벡터를 DataFrame의 컬럼으로 할당\n",
    "#     embedded_vectors = np.array(embedded_vectors)\n",
    "#     for i in range(embedded_vectors.shape[1]):\n",
    "#         df1[f\"{column}_embedded_{i+1}\"] = embedded_vectors[:, i]\n",
    "\n",
    "# 결과 확인\n",
    "# print(df1.head())\n",
    "df1"
   ]
  },
  {
   "cell_type": "code",
   "execution_count": 33,
   "id": "248e5f25-fc33-45f0-8e98-168e8bc485fd",
   "metadata": {
    "tags": []
   },
   "outputs": [
    {
     "data": {
      "text/html": [
       "<div>\n",
       "<style scoped>\n",
       "    .dataframe tbody tr th:only-of-type {\n",
       "        vertical-align: middle;\n",
       "    }\n",
       "\n",
       "    .dataframe tbody tr th {\n",
       "        vertical-align: top;\n",
       "    }\n",
       "\n",
       "    .dataframe thead th {\n",
       "        text-align: right;\n",
       "    }\n",
       "</style>\n",
       "<table border=\"1\" class=\"dataframe\">\n",
       "  <thead>\n",
       "    <tr style=\"text-align: right;\">\n",
       "      <th></th>\n",
       "      <th>청구품목</th>\n",
       "      <th>key2</th>\n",
       "      <th>leadtime</th>\n",
       "      <th>견적화폐</th>\n",
       "      <th>발주처</th>\n",
       "    </tr>\n",
       "  </thead>\n",
       "  <tbody>\n",
       "    <tr>\n",
       "      <th>0</th>\n",
       "      <td>0.0</td>\n",
       "      <td>0.0</td>\n",
       "      <td>194</td>\n",
       "      <td>0.0</td>\n",
       "      <td>0.0</td>\n",
       "    </tr>\n",
       "    <tr>\n",
       "      <th>1</th>\n",
       "      <td>0.0</td>\n",
       "      <td>0.0</td>\n",
       "      <td>59</td>\n",
       "      <td>0.0</td>\n",
       "      <td>0.0</td>\n",
       "    </tr>\n",
       "    <tr>\n",
       "      <th>2</th>\n",
       "      <td>0.0</td>\n",
       "      <td>0.0</td>\n",
       "      <td>61</td>\n",
       "      <td>0.0</td>\n",
       "      <td>0.0</td>\n",
       "    </tr>\n",
       "    <tr>\n",
       "      <th>3</th>\n",
       "      <td>0.0</td>\n",
       "      <td>0.0</td>\n",
       "      <td>212</td>\n",
       "      <td>0.0</td>\n",
       "      <td>0.0</td>\n",
       "    </tr>\n",
       "    <tr>\n",
       "      <th>4</th>\n",
       "      <td>0.0</td>\n",
       "      <td>0.0</td>\n",
       "      <td>220</td>\n",
       "      <td>0.0</td>\n",
       "      <td>0.0</td>\n",
       "    </tr>\n",
       "    <tr>\n",
       "      <th>5</th>\n",
       "      <td>0.0</td>\n",
       "      <td>0.0</td>\n",
       "      <td>80</td>\n",
       "      <td>0.0</td>\n",
       "      <td>0.0</td>\n",
       "    </tr>\n",
       "    <tr>\n",
       "      <th>6</th>\n",
       "      <td>0.0</td>\n",
       "      <td>0.0</td>\n",
       "      <td>100</td>\n",
       "      <td>0.0</td>\n",
       "      <td>0.0</td>\n",
       "    </tr>\n",
       "    <tr>\n",
       "      <th>7</th>\n",
       "      <td>0.0</td>\n",
       "      <td>0.0</td>\n",
       "      <td>13</td>\n",
       "      <td>0.0</td>\n",
       "      <td>0.0</td>\n",
       "    </tr>\n",
       "    <tr>\n",
       "      <th>8</th>\n",
       "      <td>0.0</td>\n",
       "      <td>0.0</td>\n",
       "      <td>117</td>\n",
       "      <td>0.0</td>\n",
       "      <td>0.0</td>\n",
       "    </tr>\n",
       "    <tr>\n",
       "      <th>9</th>\n",
       "      <td>0.0</td>\n",
       "      <td>0.0</td>\n",
       "      <td>96</td>\n",
       "      <td>0.0</td>\n",
       "      <td>0.0</td>\n",
       "    </tr>\n",
       "    <tr>\n",
       "      <th>10</th>\n",
       "      <td>0.0</td>\n",
       "      <td>0.0</td>\n",
       "      <td>2</td>\n",
       "      <td>0.0</td>\n",
       "      <td>0.0</td>\n",
       "    </tr>\n",
       "    <tr>\n",
       "      <th>11</th>\n",
       "      <td>0.0</td>\n",
       "      <td>0.0</td>\n",
       "      <td>156</td>\n",
       "      <td>0.0</td>\n",
       "      <td>0.0</td>\n",
       "    </tr>\n",
       "    <tr>\n",
       "      <th>12</th>\n",
       "      <td>0.0</td>\n",
       "      <td>0.0</td>\n",
       "      <td>72</td>\n",
       "      <td>0.0</td>\n",
       "      <td>0.0</td>\n",
       "    </tr>\n",
       "    <tr>\n",
       "      <th>13</th>\n",
       "      <td>0.0</td>\n",
       "      <td>0.0</td>\n",
       "      <td>25</td>\n",
       "      <td>0.0</td>\n",
       "      <td>0.0</td>\n",
       "    </tr>\n",
       "    <tr>\n",
       "      <th>14</th>\n",
       "      <td>0.0</td>\n",
       "      <td>0.0</td>\n",
       "      <td>49</td>\n",
       "      <td>0.0</td>\n",
       "      <td>0.0</td>\n",
       "    </tr>\n",
       "    <tr>\n",
       "      <th>15</th>\n",
       "      <td>0.0</td>\n",
       "      <td>0.0</td>\n",
       "      <td>49</td>\n",
       "      <td>0.0</td>\n",
       "      <td>0.0</td>\n",
       "    </tr>\n",
       "    <tr>\n",
       "      <th>16</th>\n",
       "      <td>0.0</td>\n",
       "      <td>0.0</td>\n",
       "      <td>49</td>\n",
       "      <td>0.0</td>\n",
       "      <td>0.0</td>\n",
       "    </tr>\n",
       "    <tr>\n",
       "      <th>17</th>\n",
       "      <td>0.0</td>\n",
       "      <td>0.0</td>\n",
       "      <td>49</td>\n",
       "      <td>0.0</td>\n",
       "      <td>0.0</td>\n",
       "    </tr>\n",
       "    <tr>\n",
       "      <th>18</th>\n",
       "      <td>0.0</td>\n",
       "      <td>0.0</td>\n",
       "      <td>56</td>\n",
       "      <td>1.0</td>\n",
       "      <td>0.0</td>\n",
       "    </tr>\n",
       "    <tr>\n",
       "      <th>19</th>\n",
       "      <td>0.0</td>\n",
       "      <td>0.0</td>\n",
       "      <td>48</td>\n",
       "      <td>1.0</td>\n",
       "      <td>0.0</td>\n",
       "    </tr>\n",
       "  </tbody>\n",
       "</table>\n",
       "</div>"
      ],
      "text/plain": [
       "    청구품목  key2  leadtime  견적화폐  발주처\n",
       "0    0.0   0.0       194   0.0  0.0\n",
       "1    0.0   0.0        59   0.0  0.0\n",
       "2    0.0   0.0        61   0.0  0.0\n",
       "3    0.0   0.0       212   0.0  0.0\n",
       "4    0.0   0.0       220   0.0  0.0\n",
       "5    0.0   0.0        80   0.0  0.0\n",
       "6    0.0   0.0       100   0.0  0.0\n",
       "7    0.0   0.0        13   0.0  0.0\n",
       "8    0.0   0.0       117   0.0  0.0\n",
       "9    0.0   0.0        96   0.0  0.0\n",
       "10   0.0   0.0         2   0.0  0.0\n",
       "11   0.0   0.0       156   0.0  0.0\n",
       "12   0.0   0.0        72   0.0  0.0\n",
       "13   0.0   0.0        25   0.0  0.0\n",
       "14   0.0   0.0        49   0.0  0.0\n",
       "15   0.0   0.0        49   0.0  0.0\n",
       "16   0.0   0.0        49   0.0  0.0\n",
       "17   0.0   0.0        49   0.0  0.0\n",
       "18   0.0   0.0        56   1.0  0.0\n",
       "19   0.0   0.0        48   1.0  0.0"
      ]
     },
     "execution_count": 33,
     "metadata": {},
     "output_type": "execute_result"
    }
   ],
   "source": [
    "df1.iloc[:20,:]"
   ]
  },
  {
   "cell_type": "code",
   "execution_count": 34,
   "id": "50af63b0-c3e9-4573-bfd7-c84712a01b18",
   "metadata": {
    "tags": []
   },
   "outputs": [
    {
     "ename": "TypeError",
     "evalue": "'float' object is not iterable",
     "output_type": "error",
     "traceback": [
      "\u001b[1;31m--------------------------------------------------------------------\u001b[0m",
      "\u001b[1;31mTypeError\u001b[0m                          Traceback (most recent call last)",
      "Cell \u001b[1;32mIn[34], line 11\u001b[0m\n\u001b[0;32m      9\u001b[0m column_data \u001b[38;5;241m=\u001b[39m df1[column]\u001b[38;5;241m.\u001b[39mtolist()\n\u001b[0;32m     10\u001b[0m \u001b[38;5;66;03m# Word2Vec 모델 학습\u001b[39;00m\n\u001b[1;32m---> 11\u001b[0m embedding_model \u001b[38;5;241m=\u001b[39m \u001b[43mWord2Vec\u001b[49m\u001b[43m(\u001b[49m\u001b[43msentences\u001b[49m\u001b[38;5;241;43m=\u001b[39;49m\u001b[43mcolumn_data\u001b[49m\u001b[43m,\u001b[49m\u001b[43m \u001b[49m\u001b[43mvector_size\u001b[49m\u001b[38;5;241;43m=\u001b[39;49m\u001b[38;5;241;43m100\u001b[39;49m\u001b[43m,\u001b[49m\u001b[43m \u001b[49m\u001b[43mwindow\u001b[49m\u001b[38;5;241;43m=\u001b[39;49m\u001b[38;5;241;43m5\u001b[39;49m\u001b[43m,\u001b[49m\u001b[43m \u001b[49m\u001b[43mmin_count\u001b[49m\u001b[38;5;241;43m=\u001b[39;49m\u001b[38;5;241;43m1\u001b[39;49m\u001b[43m,\u001b[49m\u001b[43m \u001b[49m\u001b[43mworkers\u001b[49m\u001b[38;5;241;43m=\u001b[39;49m\u001b[38;5;241;43m4\u001b[39;49m\u001b[43m)\u001b[49m\n\u001b[0;32m     12\u001b[0m \u001b[38;5;66;03m# 학습된 임베딩 모델 저장\u001b[39;00m\n\u001b[0;32m     13\u001b[0m embedding_models[column] \u001b[38;5;241m=\u001b[39m embedding_model\n",
      "File \u001b[1;32mD:\\ShipSupplies\\venv\\lib\\site-packages\\gensim\\models\\word2vec.py:429\u001b[0m, in \u001b[0;36mWord2Vec.__init__\u001b[1;34m(self, sentences, corpus_file, vector_size, alpha, window, min_count, max_vocab_size, sample, seed, workers, min_alpha, sg, hs, negative, ns_exponent, cbow_mean, hashfxn, epochs, null_word, trim_rule, sorted_vocab, batch_words, compute_loss, callbacks, comment, max_final_vocab, shrink_windows)\u001b[0m\n\u001b[0;32m    427\u001b[0m \u001b[38;5;28;01mif\u001b[39;00m corpus_iterable \u001b[38;5;129;01mis\u001b[39;00m \u001b[38;5;129;01mnot\u001b[39;00m \u001b[38;5;28;01mNone\u001b[39;00m \u001b[38;5;129;01mor\u001b[39;00m corpus_file \u001b[38;5;129;01mis\u001b[39;00m \u001b[38;5;129;01mnot\u001b[39;00m \u001b[38;5;28;01mNone\u001b[39;00m:\n\u001b[0;32m    428\u001b[0m     \u001b[38;5;28mself\u001b[39m\u001b[38;5;241m.\u001b[39m_check_corpus_sanity(corpus_iterable\u001b[38;5;241m=\u001b[39mcorpus_iterable, corpus_file\u001b[38;5;241m=\u001b[39mcorpus_file, passes\u001b[38;5;241m=\u001b[39m(epochs \u001b[38;5;241m+\u001b[39m \u001b[38;5;241m1\u001b[39m))\n\u001b[1;32m--> 429\u001b[0m     \u001b[38;5;28;43mself\u001b[39;49m\u001b[38;5;241;43m.\u001b[39;49m\u001b[43mbuild_vocab\u001b[49m\u001b[43m(\u001b[49m\u001b[43mcorpus_iterable\u001b[49m\u001b[38;5;241;43m=\u001b[39;49m\u001b[43mcorpus_iterable\u001b[49m\u001b[43m,\u001b[49m\u001b[43m \u001b[49m\u001b[43mcorpus_file\u001b[49m\u001b[38;5;241;43m=\u001b[39;49m\u001b[43mcorpus_file\u001b[49m\u001b[43m,\u001b[49m\u001b[43m \u001b[49m\u001b[43mtrim_rule\u001b[49m\u001b[38;5;241;43m=\u001b[39;49m\u001b[43mtrim_rule\u001b[49m\u001b[43m)\u001b[49m\n\u001b[0;32m    430\u001b[0m     \u001b[38;5;28mself\u001b[39m\u001b[38;5;241m.\u001b[39mtrain(\n\u001b[0;32m    431\u001b[0m         corpus_iterable\u001b[38;5;241m=\u001b[39mcorpus_iterable, corpus_file\u001b[38;5;241m=\u001b[39mcorpus_file, total_examples\u001b[38;5;241m=\u001b[39m\u001b[38;5;28mself\u001b[39m\u001b[38;5;241m.\u001b[39mcorpus_count,\n\u001b[0;32m    432\u001b[0m         total_words\u001b[38;5;241m=\u001b[39m\u001b[38;5;28mself\u001b[39m\u001b[38;5;241m.\u001b[39mcorpus_total_words, epochs\u001b[38;5;241m=\u001b[39m\u001b[38;5;28mself\u001b[39m\u001b[38;5;241m.\u001b[39mepochs, start_alpha\u001b[38;5;241m=\u001b[39m\u001b[38;5;28mself\u001b[39m\u001b[38;5;241m.\u001b[39malpha,\n\u001b[0;32m    433\u001b[0m         end_alpha\u001b[38;5;241m=\u001b[39m\u001b[38;5;28mself\u001b[39m\u001b[38;5;241m.\u001b[39mmin_alpha, compute_loss\u001b[38;5;241m=\u001b[39m\u001b[38;5;28mself\u001b[39m\u001b[38;5;241m.\u001b[39mcompute_loss, callbacks\u001b[38;5;241m=\u001b[39mcallbacks)\n\u001b[0;32m    434\u001b[0m \u001b[38;5;28;01melse\u001b[39;00m:\n",
      "File \u001b[1;32mD:\\ShipSupplies\\venv\\lib\\site-packages\\gensim\\models\\word2vec.py:491\u001b[0m, in \u001b[0;36mWord2Vec.build_vocab\u001b[1;34m(self, corpus_iterable, corpus_file, update, progress_per, keep_raw_vocab, trim_rule, **kwargs)\u001b[0m\n\u001b[0;32m    453\u001b[0m \u001b[38;5;250m\u001b[39m\u001b[38;5;124;03m\"\"\"Build vocabulary from a sequence of sentences (can be a once-only generator stream).\u001b[39;00m\n\u001b[0;32m    454\u001b[0m \n\u001b[0;32m    455\u001b[0m \u001b[38;5;124;03mParameters\u001b[39;00m\n\u001b[1;32m   (...)\u001b[0m\n\u001b[0;32m    488\u001b[0m \n\u001b[0;32m    489\u001b[0m \u001b[38;5;124;03m\"\"\"\u001b[39;00m\n\u001b[0;32m    490\u001b[0m \u001b[38;5;28mself\u001b[39m\u001b[38;5;241m.\u001b[39m_check_corpus_sanity(corpus_iterable\u001b[38;5;241m=\u001b[39mcorpus_iterable, corpus_file\u001b[38;5;241m=\u001b[39mcorpus_file, passes\u001b[38;5;241m=\u001b[39m\u001b[38;5;241m1\u001b[39m)\n\u001b[1;32m--> 491\u001b[0m total_words, corpus_count \u001b[38;5;241m=\u001b[39m \u001b[38;5;28;43mself\u001b[39;49m\u001b[38;5;241;43m.\u001b[39;49m\u001b[43mscan_vocab\u001b[49m\u001b[43m(\u001b[49m\n\u001b[0;32m    492\u001b[0m \u001b[43m    \u001b[49m\u001b[43mcorpus_iterable\u001b[49m\u001b[38;5;241;43m=\u001b[39;49m\u001b[43mcorpus_iterable\u001b[49m\u001b[43m,\u001b[49m\u001b[43m \u001b[49m\u001b[43mcorpus_file\u001b[49m\u001b[38;5;241;43m=\u001b[39;49m\u001b[43mcorpus_file\u001b[49m\u001b[43m,\u001b[49m\u001b[43m \u001b[49m\u001b[43mprogress_per\u001b[49m\u001b[38;5;241;43m=\u001b[39;49m\u001b[43mprogress_per\u001b[49m\u001b[43m,\u001b[49m\u001b[43m \u001b[49m\u001b[43mtrim_rule\u001b[49m\u001b[38;5;241;43m=\u001b[39;49m\u001b[43mtrim_rule\u001b[49m\u001b[43m)\u001b[49m\n\u001b[0;32m    493\u001b[0m \u001b[38;5;28mself\u001b[39m\u001b[38;5;241m.\u001b[39mcorpus_count \u001b[38;5;241m=\u001b[39m corpus_count\n\u001b[0;32m    494\u001b[0m \u001b[38;5;28mself\u001b[39m\u001b[38;5;241m.\u001b[39mcorpus_total_words \u001b[38;5;241m=\u001b[39m total_words\n",
      "File \u001b[1;32mD:\\ShipSupplies\\venv\\lib\\site-packages\\gensim\\models\\word2vec.py:586\u001b[0m, in \u001b[0;36mWord2Vec.scan_vocab\u001b[1;34m(self, corpus_iterable, corpus_file, progress_per, workers, trim_rule)\u001b[0m\n\u001b[0;32m    583\u001b[0m \u001b[38;5;28;01mif\u001b[39;00m corpus_file:\n\u001b[0;32m    584\u001b[0m     corpus_iterable \u001b[38;5;241m=\u001b[39m LineSentence(corpus_file)\n\u001b[1;32m--> 586\u001b[0m total_words, corpus_count \u001b[38;5;241m=\u001b[39m \u001b[38;5;28;43mself\u001b[39;49m\u001b[38;5;241;43m.\u001b[39;49m\u001b[43m_scan_vocab\u001b[49m\u001b[43m(\u001b[49m\u001b[43mcorpus_iterable\u001b[49m\u001b[43m,\u001b[49m\u001b[43m \u001b[49m\u001b[43mprogress_per\u001b[49m\u001b[43m,\u001b[49m\u001b[43m \u001b[49m\u001b[43mtrim_rule\u001b[49m\u001b[43m)\u001b[49m\n\u001b[0;32m    588\u001b[0m logger\u001b[38;5;241m.\u001b[39minfo(\n\u001b[0;32m    589\u001b[0m     \u001b[38;5;124m\"\u001b[39m\u001b[38;5;124mcollected \u001b[39m\u001b[38;5;132;01m%i\u001b[39;00m\u001b[38;5;124m word types from a corpus of \u001b[39m\u001b[38;5;132;01m%i\u001b[39;00m\u001b[38;5;124m raw words and \u001b[39m\u001b[38;5;132;01m%i\u001b[39;00m\u001b[38;5;124m sentences\u001b[39m\u001b[38;5;124m\"\u001b[39m,\n\u001b[0;32m    590\u001b[0m     \u001b[38;5;28mlen\u001b[39m(\u001b[38;5;28mself\u001b[39m\u001b[38;5;241m.\u001b[39mraw_vocab), total_words, corpus_count\n\u001b[0;32m    591\u001b[0m )\n\u001b[0;32m    593\u001b[0m \u001b[38;5;28;01mreturn\u001b[39;00m total_words, corpus_count\n",
      "File \u001b[1;32mD:\\ShipSupplies\\venv\\lib\\site-packages\\gensim\\models\\word2vec.py:569\u001b[0m, in \u001b[0;36mWord2Vec._scan_vocab\u001b[1;34m(self, sentences, progress_per, trim_rule)\u001b[0m\n\u001b[0;32m    564\u001b[0m \u001b[38;5;28;01mif\u001b[39;00m sentence_no \u001b[38;5;241m%\u001b[39m progress_per \u001b[38;5;241m==\u001b[39m \u001b[38;5;241m0\u001b[39m:\n\u001b[0;32m    565\u001b[0m     logger\u001b[38;5;241m.\u001b[39minfo(\n\u001b[0;32m    566\u001b[0m         \u001b[38;5;124m\"\u001b[39m\u001b[38;5;124mPROGRESS: at sentence #\u001b[39m\u001b[38;5;132;01m%i\u001b[39;00m\u001b[38;5;124m, processed \u001b[39m\u001b[38;5;132;01m%i\u001b[39;00m\u001b[38;5;124m words, keeping \u001b[39m\u001b[38;5;132;01m%i\u001b[39;00m\u001b[38;5;124m word types\u001b[39m\u001b[38;5;124m\"\u001b[39m,\n\u001b[0;32m    567\u001b[0m         sentence_no, total_words, \u001b[38;5;28mlen\u001b[39m(vocab),\n\u001b[0;32m    568\u001b[0m     )\n\u001b[1;32m--> 569\u001b[0m \u001b[38;5;28;01mfor\u001b[39;00m word \u001b[38;5;129;01min\u001b[39;00m sentence:\n\u001b[0;32m    570\u001b[0m     vocab[word] \u001b[38;5;241m+\u001b[39m\u001b[38;5;241m=\u001b[39m \u001b[38;5;241m1\u001b[39m\n\u001b[0;32m    571\u001b[0m total_words \u001b[38;5;241m+\u001b[39m\u001b[38;5;241m=\u001b[39m \u001b[38;5;28mlen\u001b[39m(sentence)\n",
      "\u001b[1;31mTypeError\u001b[0m: 'float' object is not iterable"
     ]
    }
   ],
   "source": [
    "embedding_models = {}\n",
    "columns = [\"청구품목\", 'key2', '견적화폐' , '발주처']\n",
    "\n",
    "X = df1[[\"청구품목\", 'key2', '견적화폐' , '발주처']]\n",
    "y = df1['leadtime']\n",
    "\n",
    "for column in columns:\n",
    "    # 컬럼 데이터를 리스트로 변환\n",
    "    column_data = df1[column].tolist()\n",
    "    # Word2Vec 모델 학습\n",
    "    embedding_model = Word2Vec(sentences=column_data, vector_size=100, window=5, min_count=1, workers=4)\n",
    "    # 학습된 임베딩 모델 저장\n",
    "    embedding_models[column] = embedding_model\n",
    "\n",
    "# for column, embedding_model in embedding_models.items():\n",
    "#     print(f\"Column: {column}\")\n",
    "#     print(f\"Vocabulary size: {len(embedding_model.wv.index_to_key)}\")\n",
    "#     print(f\"Vector size: {embedding_model.vector_size}\")\n",
    "#     print()\n",
    "\n",
    "v = embedding_models['청구품목'].wv.get_vector('WASHER')\n",
    "v\n",
    "\n",
    "# 임베딩된 벡터를 DataFrame의 컬럼에 할당\n",
    "# for column in columns:\n",
    "    # 임베딩된 벡터 저장할 빈 리스트\n",
    "    # embedded_vectors = []\n",
    "    \n",
    "    # 각 범주에 대해 임베딩된 벡터 추출\n",
    "    # for category in df1[column]:\n",
    "        # 벡터 추출\n",
    "        # vector = embedding_models[column].wv[category]\n",
    "        # embedded_vectors.append(vector)\n",
    "# embedded_vectors"
   ]
  },
  {
   "cell_type": "code",
   "execution_count": 22,
   "id": "a2f55746-570f-4c98-b6f0-2e367724d9cc",
   "metadata": {
    "tags": []
   },
   "outputs": [
    {
     "name": "stderr",
     "output_type": "stream",
     "text": [
      "C:\\Users\\peos0\\AppData\\Local\\Temp\\ipykernel_17276\\4172538190.py:15: SettingWithCopyWarning: \n",
      "A value is trying to be set on a copy of a slice from a DataFrame.\n",
      "Try using .loc[row_indexer,col_indexer] = value instead\n",
      "\n",
      "See the caveats in the documentation: https://pandas.pydata.org/pandas-docs/stable/user_guide/indexing.html#returning-a-view-versus-a-copy\n",
      "  X[col] = label_encoder.fit_transform(X[col])\n",
      "C:\\Users\\peos0\\AppData\\Local\\Temp\\ipykernel_17276\\4172538190.py:15: SettingWithCopyWarning: \n",
      "A value is trying to be set on a copy of a slice from a DataFrame.\n",
      "Try using .loc[row_indexer,col_indexer] = value instead\n",
      "\n",
      "See the caveats in the documentation: https://pandas.pydata.org/pandas-docs/stable/user_guide/indexing.html#returning-a-view-versus-a-copy\n",
      "  X[col] = label_encoder.fit_transform(X[col])\n",
      "C:\\Users\\peos0\\AppData\\Local\\Temp\\ipykernel_17276\\4172538190.py:15: SettingWithCopyWarning: \n",
      "A value is trying to be set on a copy of a slice from a DataFrame.\n",
      "Try using .loc[row_indexer,col_indexer] = value instead\n",
      "\n",
      "See the caveats in the documentation: https://pandas.pydata.org/pandas-docs/stable/user_guide/indexing.html#returning-a-view-versus-a-copy\n",
      "  X[col] = label_encoder.fit_transform(X[col])\n",
      "C:\\Users\\peos0\\AppData\\Local\\Temp\\ipykernel_17276\\4172538190.py:15: SettingWithCopyWarning: \n",
      "A value is trying to be set on a copy of a slice from a DataFrame.\n",
      "Try using .loc[row_indexer,col_indexer] = value instead\n",
      "\n",
      "See the caveats in the documentation: https://pandas.pydata.org/pandas-docs/stable/user_guide/indexing.html#returning-a-view-versus-a-copy\n",
      "  X[col] = label_encoder.fit_transform(X[col])\n"
     ]
    }
   ],
   "source": [
    "from sklearn.model_selection import train_test_split\n",
    "from sklearn.preprocessing import LabelEncoder\n",
    "from keras.models import Sequential\n",
    "from keras.layers import Dense\n",
    "import numpy as np\n",
    "\n",
    "# 입력과 출력 데이터 분리\n",
    "X = df1[[\"청구품목\", 'key2', '견적화폐' , '발주처']]\n",
    "y = df1['leadtime']\n",
    "columns = [\"청구품목\", 'key2', '견적화폐' , '발주처']\n",
    " \n",
    "# LabelEncoder를 사용하여 범주형 변수를 정수로 인코딩\n",
    "label_encoder = LabelEncoder()\n",
    "for col in X.columns:\n",
    "    X[col] = label_encoder.fit_transform(X[col])\n",
    "\n",
    "    \n",
    "# y # 정규화\n",
    "from sklearn.preprocessing import StandardScaler\n",
    "\n",
    "# 정규화할 y 값\n",
    "y = df1['leadtime']\n",
    "\n",
    "# StandardScaler 객체 생성\n",
    "scaler = StandardScaler()\n",
    "\n",
    "y_normalized = scaler.fit_transform(y.values.reshape(-1, 1))    \n",
    "\n",
    "# RobustScaler 객체 생성\n",
    "# from sklearn.preprocessing import RobustScaler\n",
    "# scaler = RobustScaler()\n",
    "# 'leadtime' 컬럼에 로버스트 스케일링 적용\n",
    "# y = np.array(y)\n",
    "# y = y.reshape((-1, 1))\n",
    "# y = scaler.fit_transform(y)\n",
    "\n",
    "\n",
    "X_train, X_test, y_train, y_test = train_test_split(X, y_normalized, test_size=0.2, random_state=42) # y 정규화 한 y_normalized\n",
    "# X_train, X_test, y_train, y_test = train_test_split(X, y, test_size=0.2, random_state=42) \n",
    "\n",
    "# 회귀 모델 구축\n",
    "model = Sequential()\n",
    "model.add(Dense(128, activation='relu', input_dim=X_train.shape[1]))\n",
    "model.add(Dense(64, activation='relu'))\n",
    "model.add(Dense(32, activation='relu'))\n",
    "model.add(Dense(1))\n"
   ]
  },
  {
   "cell_type": "code",
   "execution_count": 23,
   "id": "6576255e-e08e-4d8c-be0f-6d9afadc0d9f",
   "metadata": {
    "tags": []
   },
   "outputs": [
    {
     "data": {
      "text/plain": [
       "(array([[ 0.99154998],\n",
       "        [ 0.03041752],\n",
       "        [-0.28517822],\n",
       "        ...,\n",
       "        [-1.01678651],\n",
       "        [-1.08851281],\n",
       "        [ 0.05910804]]),\n",
       " array([[-0.91636968],\n",
       "        [-0.02696352],\n",
       "        [-1.03113177],\n",
       "        ...,\n",
       "        [-1.07416755],\n",
       "        [-1.08851281],\n",
       "        [-0.97375073]]))"
      ]
     },
     "execution_count": 23,
     "metadata": {},
     "output_type": "execute_result"
    }
   ],
   "source": [
    "y_test, y_train"
   ]
  },
  {
   "cell_type": "code",
   "execution_count": null,
   "id": "10e74096-d9b9-475f-a859-955df3ec2e07",
   "metadata": {},
   "outputs": [],
   "source": []
  },
  {
   "cell_type": "code",
   "execution_count": null,
   "id": "a1249c80-30c5-45e0-83e4-9f3004915b55",
   "metadata": {},
   "outputs": [],
   "source": []
  },
  {
   "cell_type": "code",
   "execution_count": 9,
   "id": "62ed2b68-73f5-4c8c-b0a8-fc4151960900",
   "metadata": {
    "tags": []
   },
   "outputs": [
    {
     "data": {
      "text/plain": [
       "(7854     2.564949\n",
       " 20118    4.317488\n",
       " 8523     1.609438\n",
       " 18477    3.610918\n",
       " 483      4.127134\n",
       "            ...   \n",
       " 11284    2.564949\n",
       " 11964    5.056246\n",
       " 5390     0.693147\n",
       " 860      0.000000\n",
       " 15795    2.197225\n",
       " Name: leadtime, Length: 16413, dtype: float64,\n",
       " 1493     4.983607\n",
       " 8503     4.369448\n",
       " 7408     4.043051\n",
       " 3509     4.691348\n",
       " 5927     5.398163\n",
       "            ...   \n",
       " 17651    3.912023\n",
       " 9659     4.290459\n",
       " 13418    1.791759\n",
       " 8410     0.000000\n",
       " 16062    4.394449\n",
       " Name: leadtime, Length: 4104, dtype: float64)"
      ]
     },
     "execution_count": 9,
     "metadata": {},
     "output_type": "execute_result"
    }
   ],
   "source": [
    "# # y # 정규화\n",
    "# from sklearn.preprocessing import StandardScaler\n",
    "\n",
    "# # 정규화할 y 값\n",
    "# y = df1['leadtime']\n",
    "\n",
    "# # StandardScaler 객체 생성\n",
    "# scaler = StandardScaler()\n",
    "\n",
    "# # y 값 정규화\n",
    "# y_normalized = scaler.fit_transform(y.values.reshape(-1, 1))\n",
    "\n",
    "# # 정규화된 y 값 출력\n",
    "# print(y_normalized.shape)\n",
    "y_train, y_test"
   ]
  },
  {
   "cell_type": "code",
   "execution_count": 18,
   "id": "7f44c135-8ba6-4c07-93c8-53fc238fb705",
   "metadata": {
    "tags": []
   },
   "outputs": [],
   "source": []
  },
  {
   "cell_type": "code",
   "execution_count": 190,
   "id": "fda7004e-d4b4-42b6-82f9-2265fae4c55f",
   "metadata": {
    "tags": []
   },
   "outputs": [],
   "source": [
    "from sklearn.model_selection import train_test_split\n",
    "from sklearn.preprocessing import LabelEncoder\n",
    "from keras.models import Sequential\n",
    "from keras.layers import Dense\n",
    "\n",
    "# 학습 및 테스트 데이터 분할\n",
    "X_train, X_test, y_train, y_test = train_test_split(X, y_normalized, test_size=0.2, random_state=42)\n",
    "\n",
    "# 회귀 모델 구축\n",
    "model = Sequential()\n",
    "model.add(Dense(128, activation='relu', input_dim=X_train.shape[1]))\n",
    "model.add(Dense(64, activation='relu'))\n",
    "model.add(Dense(32, activation='relu'))\n",
    "model.add(Dense(1))"
   ]
  },
  {
   "cell_type": "code",
   "execution_count": null,
   "id": "e547e8b8-9d37-4b3d-96a7-304dbc71c23c",
   "metadata": {},
   "outputs": [],
   "source": []
  },
  {
   "cell_type": "code",
   "execution_count": null,
   "id": "c8b4e425-50f4-4c20-ac98-9aebec015f9c",
   "metadata": {},
   "outputs": [],
   "source": []
  },
  {
   "cell_type": "code",
   "execution_count": 24,
   "id": "950cc739-87b4-4eef-9102-09634f6ef390",
   "metadata": {
    "tags": []
   },
   "outputs": [],
   "source": [
    "# 모델 컴파일\n",
    "model.compile(optimizer='adam', loss='mean_squared_error')"
   ]
  },
  {
   "cell_type": "code",
   "execution_count": 25,
   "id": "fc4a780d-93c7-4015-bdae-e7e6f3465e41",
   "metadata": {
    "tags": []
   },
   "outputs": [
    {
     "name": "stdout",
     "output_type": "stream",
     "text": [
      "Epoch 1/15\n",
      "513/513 [==============================] - 1s 886us/step - loss: 156.0526\n",
      "Epoch 2/15\n",
      "513/513 [==============================] - 0s 872us/step - loss: 1.7270\n",
      "Epoch 3/15\n",
      "513/513 [==============================] - 0s 860us/step - loss: 5.1974\n",
      "Epoch 4/15\n",
      "513/513 [==============================] - 0s 867us/step - loss: 2.3596\n",
      "Epoch 5/15\n",
      "513/513 [==============================] - 0s 878us/step - loss: 3.5939\n",
      "Epoch 6/15\n",
      "513/513 [==============================] - 0s 870us/step - loss: 5.1697\n",
      "Epoch 7/15\n",
      "513/513 [==============================] - 0s 868us/step - loss: 7.8091\n",
      "Epoch 8/15\n",
      "513/513 [==============================] - 0s 778us/step - loss: 10.9850\n",
      "Epoch 9/15\n",
      "513/513 [==============================] - 0s 749us/step - loss: 3.1372\n",
      "Epoch 10/15\n",
      "513/513 [==============================] - 0s 720us/step - loss: 6.0239\n",
      "Epoch 11/15\n",
      "513/513 [==============================] - 0s 707us/step - loss: 4.2749\n",
      "Epoch 12/15\n",
      "513/513 [==============================] - 0s 697us/step - loss: 2.9449\n",
      "Epoch 13/15\n",
      "513/513 [==============================] - 0s 801us/step - loss: 3.0648\n",
      "Epoch 14/15\n",
      "513/513 [==============================] - 0s 716us/step - loss: 2.5050\n",
      "Epoch 15/15\n",
      "513/513 [==============================] - 0s 713us/step - loss: 2.6720\n"
     ]
    },
    {
     "data": {
      "text/plain": [
       "<keras.callbacks.History at 0x1eed40842e0>"
      ]
     },
     "execution_count": 25,
     "metadata": {},
     "output_type": "execute_result"
    }
   ],
   "source": [
    "# 모델 학습\n",
    "model.fit(X_train, y_train, epochs=15, batch_size=32)"
   ]
  },
  {
   "cell_type": "code",
   "execution_count": 26,
   "id": "c1ea695c-baa7-4d01-8faa-ddd0da5d560c",
   "metadata": {
    "tags": []
   },
   "outputs": [
    {
     "name": "stdout",
     "output_type": "stream",
     "text": [
      "129/129 [==============================] - 0s 701us/step - loss: 0.9326\n"
     ]
    }
   ],
   "source": [
    "# 모델 평가\n",
    "loss = model.evaluate(X_test, y_test)"
   ]
  },
  {
   "cell_type": "code",
   "execution_count": 27,
   "id": "4d6e9a82-b4da-4e43-b95c-acc79f218316",
   "metadata": {
    "tags": []
   },
   "outputs": [
    {
     "name": "stdout",
     "output_type": "stream",
     "text": [
      "129/129 [==============================] - 0s 557us/step\n"
     ]
    }
   ],
   "source": [
    "# 예측\n",
    "predictions = model.predict(X_test)"
   ]
  },
  {
   "cell_type": "code",
   "execution_count": 28,
   "id": "69c1d6e0-2a99-42ee-b923-860cc57d4322",
   "metadata": {
    "tags": []
   },
   "outputs": [
    {
     "data": {
      "text/plain": [
       "(array([[ 0.99154998],\n",
       "        [ 0.03041752],\n",
       "        [-0.28517822],\n",
       "        ...,\n",
       "        [-1.01678651],\n",
       "        [-1.08851281],\n",
       "        [ 0.05910804]]),\n",
       " array([[-0.14738107],\n",
       "        [ 0.05807089],\n",
       "        [-0.02092768],\n",
       "        ...,\n",
       "        [-0.23050714],\n",
       "        [-0.28623605],\n",
       "        [-0.16581559]], dtype=float32))"
      ]
     },
     "execution_count": 28,
     "metadata": {},
     "output_type": "execute_result"
    }
   ],
   "source": [
    "y_test, predictions"
   ]
  },
  {
   "cell_type": "code",
   "execution_count": 15,
   "id": "007c6514-eb3c-44a7-a9aa-3d23b382ff80",
   "metadata": {
    "tags": []
   },
   "outputs": [],
   "source": [
    "y_test = np.exp(y_test)-1\n",
    "predictions = np.exp(predictions)-1"
   ]
  },
  {
   "cell_type": "code",
   "execution_count": 20,
   "id": "e6132315-feed-4a80-9f7e-bb186c5556de",
   "metadata": {
    "tags": []
   },
   "outputs": [
    {
     "data": {
      "text/plain": [
       "array([145.,  78.,  56., ...,   5.,   0.,  80.])"
      ]
     },
     "execution_count": 20,
     "metadata": {},
     "output_type": "execute_result"
    }
   ],
   "source": [
    "# type(y_test), type(predictions)#.shape, predictions.shape\n",
    "y_test = y_test.values\n",
    "y_test\n",
    "# for i in range(100):\n",
    "    # print(f\"실제 시간: {y_test[i]}\")\n",
    "# y_test[:]"
   ]
  },
  {
   "cell_type": "code",
   "execution_count": 17,
   "id": "5c877c68-5810-4729-9132-c6fb1479b6a7",
   "metadata": {
    "tags": []
   },
   "outputs": [
    {
     "data": {
      "text/plain": [
       "((4104,), (4104, 1))"
      ]
     },
     "execution_count": 17,
     "metadata": {},
     "output_type": "execute_result"
    }
   ],
   "source": [
    "# y_test = y_test.values\n",
    "y_test.shape,predictions.shape"
   ]
  },
  {
   "cell_type": "code",
   "execution_count": 29,
   "id": "c51830e6-d815-4430-b73b-418e085eb599",
   "metadata": {
    "tags": []
   },
   "outputs": [],
   "source": [
    "# 원래 스케일로 되돌리기\n",
    "y_test = scaler.inverse_transform(y_test)\n",
    "predictions = scaler.inverse_transform(predictions)"
   ]
  },
  {
   "cell_type": "code",
   "execution_count": null,
   "id": "f52ef9a4-5f1b-41db-9db8-2d5839d14509",
   "metadata": {},
   "outputs": [],
   "source": []
  },
  {
   "cell_type": "code",
   "execution_count": null,
   "id": "96f53862-da55-4702-8788-19176aff3505",
   "metadata": {},
   "outputs": [],
   "source": []
  },
  {
   "cell_type": "code",
   "execution_count": 30,
   "id": "d12f997f-fbea-4a85-bcb7-554da181b1ef",
   "metadata": {
    "tags": []
   },
   "outputs": [
    {
     "name": "stdout",
     "output_type": "stream",
     "text": [
      "실제 시간: [145.], 예측 시간: 65.60575866699219\n",
      "실제 시간: [78.], 예측 시간: 79.92770385742188\n",
      "실제 시간: [56.], 예측 시간: 74.4207534790039\n",
      "실제 시간: [108.], 예측 시간: 74.33167266845703\n",
      "실제 시간: [220.], 예측 시간: 64.95346069335938\n",
      "실제 시간: [43.], 예측 시간: 66.66519165039062\n",
      "실제 시간: [100.], 예측 시간: 55.93476867675781\n",
      "실제 시간: [156.], 예측 시간: 84.77539825439453\n",
      "실제 시간: [10.], 예측 시간: 60.72957992553711\n",
      "실제 시간: [11.], 예측 시간: 48.52303695678711\n",
      "실제 시간: [195.], 예측 시간: 78.24974060058594\n",
      "실제 시간: [153.], 예측 시간: 57.413551330566406\n",
      "실제 시간: [48.], 예측 시간: 74.20349884033203\n",
      "실제 시간: [15.], 예측 시간: 38.7536506652832\n",
      "실제 시간: [59.], 예측 시간: 72.19367218017578\n",
      "실제 시간: [145.], 예측 시간: 86.27708435058594\n",
      "실제 시간: [21.], 예측 시간: 43.07725143432617\n",
      "실제 시간: [42.], 예측 시간: 13.28592300415039\n",
      "실제 시간: [6.], 예측 시간: 67.968994140625\n",
      "실제 시간: [46.], 예측 시간: 78.2129135131836\n",
      "실제 시간: [3.], 예측 시간: 53.16653823852539\n",
      "실제 시간: [132.], 예측 시간: 64.32881164550781\n",
      "실제 시간: [3.], 예측 시간: 69.50468444824219\n",
      "실제 시간: [14.], 예측 시간: 63.65364074707031\n",
      "실제 시간: [370.], 예측 시간: 109.10581970214844\n",
      "실제 시간: [0.], 예측 시간: 59.30451202392578\n",
      "실제 시간: [140.], 예측 시간: 69.9038314819336\n",
      "실제 시간: [105.], 예측 시간: 84.20628356933594\n",
      "실제 시간: [91.], 예측 시간: 10.108509063720703\n",
      "실제 시간: [82.], 예측 시간: 82.0921630859375\n",
      "실제 시간: [18.], 예측 시간: 65.3222885131836\n",
      "실제 시간: [14.], 예측 시간: 83.3399887084961\n",
      "실제 시간: [370.], 예측 시간: 117.50684356689453\n",
      "실제 시간: [30.], 예측 시간: 49.397979736328125\n",
      "실제 시간: [130.], 예측 시간: 80.0997543334961\n",
      "실제 시간: [69.], 예측 시간: 27.78736114501953\n",
      "실제 시간: [13.], 예측 시간: 80.08116912841797\n",
      "실제 시간: [12.], 예측 시간: 49.11018753051758\n",
      "실제 시간: [41.], 예측 시간: 61.1473388671875\n",
      "실제 시간: [145.], 예측 시간: 74.4207534790039\n",
      "실제 시간: [117.], 예측 시간: 67.13507080078125\n",
      "실제 시간: [31.], 예측 시간: 66.34422302246094\n",
      "실제 시간: [4.], 예측 시간: 70.71196746826172\n",
      "실제 시간: [53.], 예측 시간: 64.1075668334961\n",
      "실제 시간: [33.], 예측 시간: 47.74974060058594\n",
      "실제 시간: [102.], 예측 시간: 84.36119079589844\n",
      "실제 시간: [46.], 예측 시간: 80.92284393310547\n",
      "실제 시간: [30.], 예측 시간: 49.38162612915039\n",
      "실제 시간: [0.], 예측 시간: 101.12813568115234\n",
      "실제 시간: [65.], 예측 시간: 67.90118408203125\n",
      "실제 시간: [67.], 예측 시간: 79.06505584716797\n",
      "실제 시간: [12.], 예측 시간: 61.67811584472656\n",
      "실제 시간: [97.], 예측 시간: 80.84313201904297\n",
      "실제 시간: [6.], 예측 시간: 68.49923706054688\n",
      "실제 시간: [53.], 예측 시간: 88.39859771728516\n",
      "실제 시간: [94.], 예측 시간: 81.9356689453125\n",
      "실제 시간: [10.], 예측 시간: 38.10467529296875\n",
      "실제 시간: [12.], 예측 시간: 47.01128005981445\n",
      "실제 시간: [14.], 예측 시간: 35.13926315307617\n",
      "실제 시간: [78.], 예측 시간: 103.22066497802734\n",
      "실제 시간: [153.], 예측 시간: 84.2795181274414\n",
      "실제 시간: [122.], 예측 시간: 41.83779525756836\n",
      "실제 시간: [12.], 예측 시간: 72.76154327392578\n",
      "실제 시간: [27.], 예측 시간: 27.647220611572266\n",
      "실제 시간: [78.], 예측 시간: 86.27708435058594\n",
      "실제 시간: [99.], 예측 시간: 69.97695922851562\n",
      "실제 시간: [10.], 예측 시간: 42.575992584228516\n",
      "실제 시간: [119.], 예측 시간: 101.86234283447266\n",
      "실제 시간: [83.], 예측 시간: 79.92770385742188\n",
      "실제 시간: [0.], 예측 시간: 53.18009948730469\n",
      "실제 시간: [49.], 예측 시간: 44.90306091308594\n",
      "실제 시간: [107.], 예측 시간: 61.336544036865234\n",
      "실제 시간: [180.], 예측 시간: 49.65000534057617\n",
      "실제 시간: [12.], 예측 시간: 42.159828186035156\n",
      "실제 시간: [107.], 예측 시간: 36.26649856567383\n",
      "실제 시간: [3.], 예측 시간: 67.71876525878906\n",
      "실제 시간: [6.], 예측 시간: 49.77977752685547\n",
      "실제 시간: [220.], 예측 시간: 68.89891815185547\n",
      "실제 시간: [74.], 예측 시간: 81.15465545654297\n",
      "실제 시간: [45.], 예측 시간: 49.85423278808594\n",
      "실제 시간: [140.], 예측 시간: 67.968994140625\n",
      "실제 시간: [13.], 예측 시간: 69.35350799560547\n",
      "실제 시간: [69.], 예측 시간: 62.816524505615234\n",
      "실제 시간: [16.], 예측 시간: 47.16737365722656\n",
      "실제 시간: [85.], 예측 시간: 74.30693817138672\n",
      "실제 시간: [91.], 예측 시간: 53.296573638916016\n",
      "실제 시간: [420.], 예측 시간: 71.91033172607422\n",
      "실제 시간: [14.], 예측 시간: 63.9286003112793\n",
      "실제 시간: [56.], 예측 시간: 69.9038314819336\n",
      "실제 시간: [136.], 예측 시간: 100.98075103759766\n",
      "실제 시간: [77.], 예측 시간: 77.67562103271484\n",
      "실제 시간: [0.], 예측 시간: 60.14960861206055\n",
      "실제 시간: [8.], 예측 시간: 50.98785400390625\n",
      "실제 시간: [71.], 예측 시간: 66.16898345947266\n",
      "실제 시간: [56.], 예측 시간: 66.45870208740234\n",
      "실제 시간: [7.], 예측 시간: 77.73412322998047\n",
      "실제 시간: [120.], 예측 시간: 61.1473388671875\n",
      "실제 시간: [56.], 예측 시간: 75.74955749511719\n",
      "실제 시간: [70.], 예측 시간: 73.19752502441406\n",
      "실제 시간: [23.], 예측 시간: 100.17813873291016\n"
     ]
    }
   ],
   "source": [
    "# 정규화된 y 예측 결과 확인\n",
    "for i in range(100):\n",
    "    print(f\"실제 시간: {y_test[i]}, 예측 시간: {predictions[i][0]}\")"
   ]
  },
  {
   "cell_type": "code",
   "execution_count": 19,
   "id": "01bf91d8-f090-4e37-894d-935b845ec68f",
   "metadata": {
    "tags": []
   },
   "outputs": [
    {
     "data": {
      "text/plain": [
       "(1493     145.0\n",
       " 8503      78.0\n",
       " 7408      56.0\n",
       " 3509     108.0\n",
       " 5927     220.0\n",
       "          ...  \n",
       " 17651     49.0\n",
       " 9659      72.0\n",
       " 13418      5.0\n",
       " 8410       0.0\n",
       " 16062     80.0\n",
       " Name: leadtime, Length: 4104, dtype: float64,\n",
       " array([[345.21872 ],\n",
       "        [114.4686  ],\n",
       "        [213.50435 ],\n",
       "        ...,\n",
       "        [ 67.94038 ],\n",
       "        [146.45747 ],\n",
       "        [ 55.648376]], dtype=float32))"
      ]
     },
     "execution_count": 19,
     "metadata": {},
     "output_type": "execute_result"
    }
   ],
   "source": [
    "y_test, predictions"
   ]
  },
  {
   "cell_type": "code",
   "execution_count": 47,
   "id": "9181c8fc-ad09-4ae0-9d06-2678db2e378e",
   "metadata": {
    "tags": []
   },
   "outputs": [
    {
     "data": {
      "text/plain": [
       "array([[10183.74756166],\n",
       "       [ 5513.21547459],\n",
       "       [ 3979.60792361],\n",
       "       ...,\n",
       "       [  424.42678271],\n",
       "       [   75.87961203],\n",
       "       [ 5652.63434286]])"
      ]
     },
     "execution_count": 47,
     "metadata": {},
     "output_type": "execute_result"
    }
   ],
   "source": [
    "y_test = scaler.inverse_transform(y_test)\n",
    "y_test"
   ]
  },
  {
   "cell_type": "code",
   "execution_count": 48,
   "id": "b277e6c3-e1ed-4cc1-be88-996187acc061",
   "metadata": {
    "tags": []
   },
   "outputs": [
    {
     "data": {
      "text/plain": [
       "array([[76.028694],\n",
       "       [76.028694],\n",
       "       [76.028694],\n",
       "       ...,\n",
       "       [76.028694],\n",
       "       [76.028694],\n",
       "       [76.028694]], dtype=float32)"
      ]
     },
     "execution_count": 48,
     "metadata": {},
     "output_type": "execute_result"
    }
   ],
   "source": [
    "predictions =  scaler.inverse_transform(predictions)\n",
    "predictions"
   ]
  },
  {
   "cell_type": "code",
   "execution_count": 49,
   "id": "486a9b43-1b5b-4880-9979-653f3a826cef",
   "metadata": {
    "tags": []
   },
   "outputs": [
    {
     "name": "stdout",
     "output_type": "stream",
     "text": [
      "실제 시간: 10183.747561656593, 예측 시간: 76.02869415283203\n",
      "실제 시간: 5513.215474587314, 예측 시간: 76.02869415283203\n",
      "실제 시간: 3979.607923609342, 예측 시간: 76.02869415283203\n",
      "실제 시간: 7604.498498648185, 예측 시간: 76.02869415283203\n",
      "실제 시간: 15411.95512180877, 예측 시간: 76.02869415283203\n",
      "실제 시간: 3073.385279849631, 예측 시간: 76.02869415283203\n",
      "실제 시간: 7046.823025565286, 예측 시간: 76.02869415283203\n",
      "실제 시간: 10950.55133714558, 예측 시간: 76.02869415283203\n",
      "실제 시간: 772.9739533826728, 예측 시간: 76.02869415283203\n",
      "실제 시간: 842.6833875180351, 예측 시간: 76.02869415283203\n",
      "실제 시간: 13669.219268424713, 예측 시간: 76.02869415283203\n",
      "실제 시간: 10741.423034739493, 예측 시간: 76.02869415283203\n",
      "실제 시간: 3421.932450526443, 예측 시간: 76.02869415283203\n",
      "실제 시간: 1121.5211240594845, 예측 시간: 76.02869415283203\n",
      "실제 시간: 4188.736226015429, 예측 시간: 76.02869415283203\n",
      "실제 시간: 10183.747561656593, 예측 시간: 76.02869415283203\n",
      "실제 시간: 1539.7777288716588, 예측 시간: 76.02869415283203\n",
      "실제 시간: 3003.6758457142687, 예측 시간: 76.02869415283203\n",
      "실제 시간: 494.13621684122336, 예측 시간: 76.02869415283203\n",
      "실제 시간: 3282.513582255718, 예측 시간: 76.02869415283203\n",
      "실제 시간: 285.0079144351372, 예측 시간: 76.02869415283203\n",
      "실제 시간: 9277.524917896882, 예측 시간: 76.02869415283203\n",
      "실제 시간: 285.0079144351372, 예측 시간: 76.02869415283203\n",
      "실제 시간: 1051.8116899241222, 예측 시간: 76.02869415283203\n",
      "실제 시간: 25868.370242113127, 예측 시간: 76.02869415283203\n",
      "실제 시간: 75.87961202904908, 예측 시간: 76.02869415283203\n",
      "실제 시간: 9835.200390979782, 예측 시간: 76.02869415283203\n",
      "실제 시간: 7395.370196242098, 예측 시간: 109.73999786376953\n",
      "실제 시간: 6419.438118347025, 예측 시간: 66.78950500488281\n",
      "실제 시간: 5792.053211128764, 예측 시간: 76.02869415283203\n",
      "실제 시간: 1330.6494264655717, 예측 시간: 76.02869415283203\n",
      "실제 시간: 1051.8116899241222, 예측 시간: 76.02869415283203\n",
      "실제 시간: 25868.370242113127, 예측 시간: 76.02869415283203\n",
      "실제 시간: 2167.16263608992, 예측 시간: 76.02869415283203\n",
      "실제 시간: 9138.106049626158, 예측 시간: 76.02869415283203\n",
      "실제 시간: 4885.830567369053, 예측 시간: 76.02869415283203\n",
      "실제 시간: 982.10225578876, 예측 시간: 76.02869415283203\n",
      "실제 시간: 912.3928216533976, 예측 시간: 76.02869415283203\n",
      "실제 시간: 2933.9664115789064, 예측 시간: 76.02869415283203\n",
      "실제 시간: 10183.747561656593, 예측 시간: 76.02869415283203\n",
      "실제 시간: 8231.883405866447, 예측 시간: 76.02869415283203\n",
      "실제 시간: 2236.872070225283, 예측 시간: 76.02869415283203\n",
      "실제 시간: 354.7173485704986, 예측 시간: 76.02869415283203\n",
      "실제 시간: 3770.4796212032547, 예측 시간: 76.02869415283203\n",
      "실제 시간: 2376.290938496007, 예측 시간: 76.02869415283203\n",
      "실제 시간: 7186.241893836011, 예측 시간: 76.02869415283203\n",
      "실제 시간: 3282.513582255718, 예측 시간: 76.02869415283203\n",
      "실제 시간: 2167.16263608992, 예측 시간: 76.02869415283203\n",
      "실제 시간: 75.87961202904908, 예측 시간: 76.02869415283203\n",
      "실제 시간: 4606.992830827603, 예측 시간: 76.02869415283203\n",
      "실제 시간: 4746.4116990983275, 예측 시간: 76.02869415283203\n",
      "실제 시간: 912.3928216533976, 예측 시간: 76.02869415283203\n",
      "실제 시간: 6837.694723159199, 예측 시간: 76.02869415283203\n",
      "실제 시간: 494.13621684122336, 예측 시간: 76.02869415283203\n",
      "실제 시간: 3770.4796212032547, 예측 시간: 76.02869415283203\n",
      "실제 시간: 6628.566420753112, 예측 시간: 76.02869415283203\n",
      "실제 시간: 772.9739533826728, 예측 시간: 76.02869415283203\n",
      "실제 시간: 912.3928216533976, 예측 시간: 76.02869415283203\n",
      "실제 시간: 1051.8116899241222, 예측 시간: 76.02869415283203\n",
      "실제 시간: 5513.215474587314, 예측 시간: 76.02869415283203\n",
      "실제 시간: 10741.423034739493, 예측 시간: 76.02869415283203\n",
      "실제 시간: 8580.43057654326, 예측 시간: 76.02869415283203\n",
      "실제 시간: 912.3928216533976, 예측 시간: 76.02869415283203\n",
      "실제 시간: 1958.034333683833, 예측 시간: 76.02869415283203\n",
      "실제 시간: 5513.215474587314, 예측 시간: 76.02869415283203\n",
      "실제 시간: 6977.113591429924, 예측 시간: 76.02869415283203\n",
      "실제 시간: 772.9739533826728, 예측 시간: 76.02869415283203\n",
      "실제 시간: 8371.302274137171, 예측 시간: 76.02869415283203\n",
      "실제 시간: 5861.762645264126, 예측 시간: 76.02869415283203\n",
      "실제 시간: 75.87961202904908, 예측 시간: 76.02869415283203\n",
      "실제 시간: 3491.6418846618053, 예측 시간: 76.02869415283203\n",
      "실제 시간: 7534.789064512823, 예측 시간: 76.02869415283203\n",
      "실제 시간: 12623.577756394277, 예측 시간: 76.02869415283203\n",
      "실제 시간: 912.3928216533976, 예측 시간: 76.02869415283203\n",
      "실제 시간: 7534.789064512823, 예측 시간: 76.02869415283203\n",
      "실제 시간: 285.0079144351372, 예측 시간: 76.02869415283203\n",
      "실제 시간: 494.13621684122336, 예측 시간: 76.02869415283203\n",
      "실제 시간: 15411.95512180877, 예측 시간: 76.02869415283203\n",
      "실제 시간: 5234.377738045864, 예측 시간: 76.02869415283203\n",
      "실제 시간: 3212.804148120356, 예측 시간: 76.02869415283203\n",
      "실제 시간: 9835.200390979782, 예측 시간: 76.02869415283203\n",
      "실제 시간: 982.10225578876, 예측 시간: 76.02869415283203\n",
      "실제 시간: 4885.830567369053, 예측 시간: 76.02869415283203\n",
      "실제 시간: 1191.230558194847, 예측 시간: 76.02869415283203\n",
      "실제 시간: 6001.181513534851, 예측 시간: 76.02869415283203\n",
      "실제 시간: 6419.438118347025, 예측 시간: 76.02869415283203\n",
      "실제 시간: 29353.84194888125, 예측 시간: 76.02869415283203\n",
      "실제 시간: 1051.8116899241222, 예측 시간: 76.02869415283203\n",
      "실제 시간: 3979.607923609342, 예측 시간: 76.02869415283203\n",
      "실제 시간: 9556.362654438333, 예측 시간: 76.02869415283203\n",
      "실제 시간: 5443.506040451952, 예측 시간: 76.02869415283203\n",
      "실제 시간: 75.87961202904908, 예측 시간: 76.02869415283203\n",
      "실제 시간: 633.5550851119481, 예측 시간: 76.02869415283203\n",
      "실제 시간: 5025.249435639777, 예측 시간: 76.02869415283203\n",
      "실제 시간: 3979.607923609342, 예측 시간: 76.02869415283203\n",
      "실제 시간: 563.8456509765857, 예측 시간: 76.02869415283203\n",
      "실제 시간: 8441.011708272534, 예측 시간: 76.02869415283203\n",
      "실제 시간: 3979.607923609342, 예측 시간: 76.02869415283203\n",
      "실제 시간: 4955.540001504415, 예측 시간: 76.02869415283203\n",
      "실제 시간: 1679.1965971423836, 예측 시간: 76.02869415283203\n"
     ]
    }
   ],
   "source": [
    "# y 예측 결과 확인\n",
    "for i in range(100):\n",
    "    print(f\"실제 시간: {y_test[i][0]}, 예측 시간: {predictions[i][0]}\")"
   ]
  },
  {
   "cell_type": "code",
   "execution_count": null,
   "id": "f389fa02-6afa-4802-ab0f-3f8c18c76f87",
   "metadata": {},
   "outputs": [],
   "source": []
  },
  {
   "cell_type": "code",
   "execution_count": null,
   "id": "18d5752b-f9f7-485f-9e43-6ead59f8545b",
   "metadata": {},
   "outputs": [],
   "source": []
  },
  {
   "cell_type": "code",
   "execution_count": 34,
   "id": "cc36198f-2a13-4b6f-9e93-aa42f54264f3",
   "metadata": {
    "tags": []
   },
   "outputs": [],
   "source": [
    "# 회귀 모델 구축\n",
    "model2 = Sequential()\n",
    "model2.add(Dense(128, activation='relu', input_dim=X_train.shape[1]))\n",
    "model2.add(Dense(64, activation='relu'))\n",
    "model2.add(Dense(32, activation='relu'))\n",
    "model2.add(Dense(1))"
   ]
  },
  {
   "cell_type": "code",
   "execution_count": 36,
   "id": "0908dee9-68b3-4b71-b005-ce80aa8cb2d9",
   "metadata": {
    "tags": []
   },
   "outputs": [],
   "source": [
    "# 모델 컴파일\n",
    "model2.compile(optimizer='adam', loss='mean_squared_error')"
   ]
  },
  {
   "cell_type": "code",
   "execution_count": 37,
   "id": "98ffe816-5d0f-4345-8dc3-e03d0373d1c4",
   "metadata": {
    "tags": []
   },
   "outputs": [
    {
     "name": "stdout",
     "output_type": "stream",
     "text": [
      "Epoch 1/10\n",
      "513/513 [==============================] - 1s 799us/step - loss: 5858.5386\n",
      "Epoch 2/10\n",
      "513/513 [==============================] - 0s 784us/step - loss: 5266.6533\n",
      "Epoch 3/10\n",
      "513/513 [==============================] - 0s 801us/step - loss: 5078.9551\n",
      "Epoch 4/10\n",
      "513/513 [==============================] - 0s 786us/step - loss: 4954.1279\n",
      "Epoch 5/10\n",
      "513/513 [==============================] - 0s 787us/step - loss: 4926.1978\n",
      "Epoch 6/10\n",
      "513/513 [==============================] - 0s 784us/step - loss: 4866.7661\n",
      "Epoch 7/10\n",
      "513/513 [==============================] - 0s 784us/step - loss: 4877.1812\n",
      "Epoch 8/10\n",
      "513/513 [==============================] - 0s 817us/step - loss: 4767.5371\n",
      "Epoch 9/10\n",
      "513/513 [==============================] - 0s 814us/step - loss: 4769.4419\n",
      "Epoch 10/10\n",
      "513/513 [==============================] - 0s 942us/step - loss: 4767.0117\n"
     ]
    },
    {
     "data": {
      "text/plain": [
       "<keras.callbacks.History at 0x1c577676a10>"
      ]
     },
     "execution_count": 37,
     "metadata": {},
     "output_type": "execute_result"
    }
   ],
   "source": [
    "# 모델 학습\n",
    "model2.fit(X_train, y_train, epochs=10, batch_size=32)"
   ]
  },
  {
   "cell_type": "code",
   "execution_count": 38,
   "id": "c18d9de2-f6a0-40ed-b462-df67eb7edba9",
   "metadata": {
    "tags": []
   },
   "outputs": [
    {
     "name": "stdout",
     "output_type": "stream",
     "text": [
      "129/129 [==============================] - 0s 568us/step - loss: 4720.4844\n"
     ]
    }
   ],
   "source": [
    "\n",
    "# 모델 평가\n",
    "loss = model2.evaluate(X_test, y_test)"
   ]
  },
  {
   "cell_type": "code",
   "execution_count": 39,
   "id": "d59b7adf-58ce-435c-a541-d01eed9746f0",
   "metadata": {
    "tags": []
   },
   "outputs": [
    {
     "name": "stdout",
     "output_type": "stream",
     "text": [
      "129/129 [==============================] - 0s 624us/step\n"
     ]
    }
   ],
   "source": [
    "# 예측\n",
    "predictions = model.predict(X_test)"
   ]
  },
  {
   "cell_type": "code",
   "execution_count": 41,
   "id": "b871ace3-0e7a-47e7-b0d1-bfd3eb0d726f",
   "metadata": {
    "tags": []
   },
   "outputs": [
    {
     "ename": "SyntaxError",
     "evalue": "incomplete input (1878388943.py, line 2)",
     "output_type": "error",
     "traceback": [
      "\u001b[1;36m  Cell \u001b[1;32mIn[41], line 2\u001b[1;36m\u001b[0m\n\u001b[1;33m    # print(f\"실제 시간: {y_test.iloc[i]}, 예측 시간: {predictions[i][0]}\")\u001b[0m\n\u001b[1;37m                                                                   ^\u001b[0m\n\u001b[1;31mSyntaxError\u001b[0m\u001b[1;31m:\u001b[0m incomplete input\n"
     ]
    }
   ],
   "source": [
    "for i in range(len(predictions)):\n",
    "    # print(f\"실제 시간: {y_test.iloc[i]}, 예측 시간: {predictions[i][0]}\")"
   ]
  },
  {
   "cell_type": "code",
   "execution_count": 15,
   "id": "0634e24e-aba9-4f06-8037-58063c73acfa",
   "metadata": {
    "tags": []
   },
   "outputs": [],
   "source": [
    "from sklearn.model_selection import train_test_split\n",
    "from sklearn import preprocessing\n",
    "X = df1[[\"청구품목\", 'key2', '견적화폐' , '발주처']]\n",
    "X_encoded = X.copy()\n",
    "le = LabelEncoder()\n",
    "for col in X.columns:\n",
    "    X_encoded[col] = le.fit_transform(X[col])\n",
    "y = df1[\"leadtime\"]\n",
    "# X = np.array(X)\n",
    "# y = np.array(y)\n",
    "X_train, X_test, y_train, y_test = train_test_split(X_encoded, y, random_state=40, shuffle=True, test_size=0.3)"
   ]
  },
  {
   "cell_type": "code",
   "execution_count": 16,
   "id": "72833446-c053-4265-b4fd-48b0253cf912",
   "metadata": {
    "tags": []
   },
   "outputs": [],
   "source": [
    "from keras.models import Sequential\n",
    "from keras.layers import Dense, Embedding, Flatten\n",
    "from sklearn.preprocessing import LabelEncoder\n",
    "\n",
    "\n",
    "model = Sequential()\n",
    "model.add(Dense(64, activation='relu', input_dim=4))\n",
    "model.add(Dense(64, activation='relu'))\n",
    "model.add(Dense(1))"
   ]
  },
  {
   "cell_type": "code",
   "execution_count": 17,
   "id": "e33b55f3-0bc2-4e17-88a2-0c73272d9e4b",
   "metadata": {
    "tags": []
   },
   "outputs": [
    {
     "data": {
      "text/html": [
       "<div>\n",
       "<style scoped>\n",
       "    .dataframe tbody tr th:only-of-type {\n",
       "        vertical-align: middle;\n",
       "    }\n",
       "\n",
       "    .dataframe tbody tr th {\n",
       "        vertical-align: top;\n",
       "    }\n",
       "\n",
       "    .dataframe thead th {\n",
       "        text-align: right;\n",
       "    }\n",
       "</style>\n",
       "<table border=\"1\" class=\"dataframe\">\n",
       "  <thead>\n",
       "    <tr style=\"text-align: right;\">\n",
       "      <th></th>\n",
       "      <th>청구품목</th>\n",
       "      <th>key2</th>\n",
       "      <th>견적화폐</th>\n",
       "      <th>발주처</th>\n",
       "    </tr>\n",
       "  </thead>\n",
       "  <tbody>\n",
       "    <tr>\n",
       "      <th>0</th>\n",
       "      <td>4848</td>\n",
       "      <td>18</td>\n",
       "      <td>2</td>\n",
       "      <td>22</td>\n",
       "    </tr>\n",
       "    <tr>\n",
       "      <th>1</th>\n",
       "      <td>3692</td>\n",
       "      <td>18</td>\n",
       "      <td>2</td>\n",
       "      <td>22</td>\n",
       "    </tr>\n",
       "    <tr>\n",
       "      <th>2</th>\n",
       "      <td>5915</td>\n",
       "      <td>18</td>\n",
       "      <td>2</td>\n",
       "      <td>22</td>\n",
       "    </tr>\n",
       "    <tr>\n",
       "      <th>3</th>\n",
       "      <td>696</td>\n",
       "      <td>18</td>\n",
       "      <td>2</td>\n",
       "      <td>22</td>\n",
       "    </tr>\n",
       "    <tr>\n",
       "      <th>4</th>\n",
       "      <td>4681</td>\n",
       "      <td>18</td>\n",
       "      <td>2</td>\n",
       "      <td>22</td>\n",
       "    </tr>\n",
       "    <tr>\n",
       "      <th>...</th>\n",
       "      <td>...</td>\n",
       "      <td>...</td>\n",
       "      <td>...</td>\n",
       "      <td>...</td>\n",
       "    </tr>\n",
       "    <tr>\n",
       "      <th>20512</th>\n",
       "      <td>2811</td>\n",
       "      <td>20</td>\n",
       "      <td>1</td>\n",
       "      <td>35</td>\n",
       "    </tr>\n",
       "    <tr>\n",
       "      <th>20513</th>\n",
       "      <td>2810</td>\n",
       "      <td>20</td>\n",
       "      <td>1</td>\n",
       "      <td>35</td>\n",
       "    </tr>\n",
       "    <tr>\n",
       "      <th>20514</th>\n",
       "      <td>4151</td>\n",
       "      <td>5</td>\n",
       "      <td>1</td>\n",
       "      <td>41</td>\n",
       "    </tr>\n",
       "    <tr>\n",
       "      <th>20515</th>\n",
       "      <td>1592</td>\n",
       "      <td>20</td>\n",
       "      <td>1</td>\n",
       "      <td>41</td>\n",
       "    </tr>\n",
       "    <tr>\n",
       "      <th>20516</th>\n",
       "      <td>4718</td>\n",
       "      <td>20</td>\n",
       "      <td>1</td>\n",
       "      <td>41</td>\n",
       "    </tr>\n",
       "  </tbody>\n",
       "</table>\n",
       "<p>20517 rows × 4 columns</p>\n",
       "</div>"
      ],
      "text/plain": [
       "       청구품목  key2  견적화폐  발주처\n",
       "0      4848    18     2   22\n",
       "1      3692    18     2   22\n",
       "2      5915    18     2   22\n",
       "3       696    18     2   22\n",
       "4      4681    18     2   22\n",
       "...     ...   ...   ...  ...\n",
       "20512  2811    20     1   35\n",
       "20513  2810    20     1   35\n",
       "20514  4151     5     1   41\n",
       "20515  1592    20     1   41\n",
       "20516  4718    20     1   41\n",
       "\n",
       "[20517 rows x 4 columns]"
      ]
     },
     "execution_count": 17,
     "metadata": {},
     "output_type": "execute_result"
    }
   ],
   "source": [
    "X_encoded"
   ]
  },
  {
   "cell_type": "code",
   "execution_count": 18,
   "id": "508510b9-8d14-470d-b0a2-6c44c4a94e59",
   "metadata": {
    "tags": []
   },
   "outputs": [],
   "source": [
    "# 모델 컴파일\n",
    "model.compile(optimizer='adam', loss='mean_squared_error')\n"
   ]
  },
  {
   "cell_type": "code",
   "execution_count": 21,
   "id": "592f6c64-6771-48f3-b290-d3034240e4c4",
   "metadata": {
    "tags": []
   },
   "outputs": [
    {
     "name": "stdout",
     "output_type": "stream",
     "text": [
      "Epoch 1/30\n",
      "719/719 [==============================] - 1s 718us/step - loss: 4570.3857\n",
      "Epoch 2/30\n",
      "719/719 [==============================] - 0s 685us/step - loss: 4455.8169\n",
      "Epoch 3/30\n",
      "719/719 [==============================] - 0s 684us/step - loss: 4454.7124\n",
      "Epoch 4/30\n",
      "719/719 [==============================] - 0s 686us/step - loss: 4419.8271\n",
      "Epoch 5/30\n",
      "719/719 [==============================] - 1s 708us/step - loss: 4414.2935\n",
      "Epoch 6/30\n",
      "719/719 [==============================] - 1s 786us/step - loss: 4395.2896\n",
      "Epoch 7/30\n",
      "719/719 [==============================] - 1s 799us/step - loss: 4435.3975\n",
      "Epoch 8/30\n",
      "719/719 [==============================] - 1s 787us/step - loss: 4419.7266\n",
      "Epoch 9/30\n",
      "719/719 [==============================] - 1s 812us/step - loss: 4406.4590\n",
      "Epoch 10/30\n",
      "719/719 [==============================] - 1s 853us/step - loss: 4388.4800\n",
      "Epoch 11/30\n",
      "719/719 [==============================] - 1s 875us/step - loss: 4410.8535\n",
      "Epoch 12/30\n",
      "719/719 [==============================] - 1s 854us/step - loss: 4405.4883\n",
      "Epoch 13/30\n",
      "719/719 [==============================] - 1s 776us/step - loss: 4402.5781\n",
      "Epoch 14/30\n",
      "719/719 [==============================] - 1s 728us/step - loss: 4382.8989\n",
      "Epoch 15/30\n",
      "719/719 [==============================] - 1s 768us/step - loss: 4364.3589\n",
      "Epoch 16/30\n",
      "719/719 [==============================] - 1s 809us/step - loss: 4349.9204\n",
      "Epoch 17/30\n",
      "719/719 [==============================] - 1s 893us/step - loss: 4391.2480\n",
      "Epoch 18/30\n",
      "719/719 [==============================] - 1s 876us/step - loss: 4388.0425\n",
      "Epoch 19/30\n",
      "719/719 [==============================] - 1s 877us/step - loss: 4356.8809\n",
      "Epoch 20/30\n",
      "719/719 [==============================] - 1s 879us/step - loss: 4337.2432\n",
      "Epoch 21/30\n",
      "719/719 [==============================] - 1s 874us/step - loss: 4369.9434\n",
      "Epoch 22/30\n",
      "719/719 [==============================] - 1s 876us/step - loss: 4326.3809\n",
      "Epoch 23/30\n",
      "719/719 [==============================] - 1s 865us/step - loss: 4316.6133\n",
      "Epoch 24/30\n",
      "719/719 [==============================] - 1s 868us/step - loss: 4365.0923\n",
      "Epoch 25/30\n",
      "719/719 [==============================] - 1s 809us/step - loss: 4358.0732\n",
      "Epoch 26/30\n",
      "719/719 [==============================] - 1s 823us/step - loss: 4323.5234\n",
      "Epoch 27/30\n",
      "719/719 [==============================] - 1s 889us/step - loss: 4268.0122\n",
      "Epoch 28/30\n",
      "719/719 [==============================] - 1s 863us/step - loss: 4278.2036\n",
      "Epoch 29/30\n",
      "719/719 [==============================] - 1s 845us/step - loss: 4273.0151\n",
      "Epoch 30/30\n",
      "719/719 [==============================] - 1s 785us/step - loss: 4233.1572\n"
     ]
    },
    {
     "data": {
      "text/plain": [
       "<keras.callbacks.History at 0x1c5746b50c0>"
      ]
     },
     "execution_count": 21,
     "metadata": {},
     "output_type": "execute_result"
    }
   ],
   "source": [
    "# 모델 학습\n",
    "model.fit(X_train, y_train, epochs=30, batch_size=20)"
   ]
  },
  {
   "cell_type": "code",
   "execution_count": 22,
   "id": "20a7902d-ba13-445e-ac5a-45c0fed2c5ac",
   "metadata": {
    "tags": []
   },
   "outputs": [
    {
     "name": "stdout",
     "output_type": "stream",
     "text": [
      "193/193 [==============================] - 0s 714us/step - loss: 4114.6880\n"
     ]
    }
   ],
   "source": [
    "# 모델 평가\n",
    "loss = model.evaluate(X_test, y_test)"
   ]
  },
  {
   "cell_type": "code",
   "execution_count": 23,
   "id": "17934347-8ae1-40e8-8a68-09b1166b5135",
   "metadata": {
    "tags": []
   },
   "outputs": [
    {
     "name": "stdout",
     "output_type": "stream",
     "text": [
      "193/193 [==============================] - 0s 587us/step\n"
     ]
    }
   ],
   "source": [
    "# 예측\n",
    "predictions = model.predict(X_test)"
   ]
  },
  {
   "cell_type": "code",
   "execution_count": 24,
   "id": "bbeda753-70d8-4a95-97f2-f510dcaf959f",
   "metadata": {
    "tags": []
   },
   "outputs": [
    {
     "data": {
      "text/plain": [
       "array([[ 36.74128 ],\n",
       "       [ 92.509026],\n",
       "       [ 91.80747 ],\n",
       "       ...,\n",
       "       [101.08235 ],\n",
       "       [ 44.686443],\n",
       "       [ 84.99454 ]], dtype=float32)"
      ]
     },
     "execution_count": 24,
     "metadata": {},
     "output_type": "execute_result"
    }
   ],
   "source": [
    "predictions"
   ]
  },
  {
   "cell_type": "code",
   "execution_count": 26,
   "id": "ab6b908d-4933-438d-9335-82304f20229b",
   "metadata": {
    "tags": []
   },
   "outputs": [
    {
     "ename": "KeyError",
     "evalue": "0",
     "output_type": "error",
     "traceback": [
      "\u001b[1;31m---------------------------------------------------------------------------\u001b[0m",
      "\u001b[1;31mKeyError\u001b[0m                                  Traceback (most recent call last)",
      "File \u001b[1;32mC:\\workspace\\ShipSupplies\\venv\\lib\\site-packages\\pandas\\core\\indexes\\base.py:3652\u001b[0m, in \u001b[0;36mIndex.get_loc\u001b[1;34m(self, key)\u001b[0m\n\u001b[0;32m   3651\u001b[0m \u001b[38;5;28;01mtry\u001b[39;00m:\n\u001b[1;32m-> 3652\u001b[0m     \u001b[38;5;28;01mreturn\u001b[39;00m \u001b[38;5;28;43mself\u001b[39;49m\u001b[38;5;241;43m.\u001b[39;49m\u001b[43m_engine\u001b[49m\u001b[38;5;241;43m.\u001b[39;49m\u001b[43mget_loc\u001b[49m\u001b[43m(\u001b[49m\u001b[43mcasted_key\u001b[49m\u001b[43m)\u001b[49m\n\u001b[0;32m   3653\u001b[0m \u001b[38;5;28;01mexcept\u001b[39;00m \u001b[38;5;167;01mKeyError\u001b[39;00m \u001b[38;5;28;01mas\u001b[39;00m err:\n",
      "File \u001b[1;32mC:\\workspace\\ShipSupplies\\venv\\lib\\site-packages\\pandas\\_libs\\index.pyx:147\u001b[0m, in \u001b[0;36mpandas._libs.index.IndexEngine.get_loc\u001b[1;34m()\u001b[0m\n",
      "File \u001b[1;32mC:\\workspace\\ShipSupplies\\venv\\lib\\site-packages\\pandas\\_libs\\index.pyx:176\u001b[0m, in \u001b[0;36mpandas._libs.index.IndexEngine.get_loc\u001b[1;34m()\u001b[0m\n",
      "File \u001b[1;32mpandas\\_libs\\hashtable_class_helper.pxi:2606\u001b[0m, in \u001b[0;36mpandas._libs.hashtable.Int64HashTable.get_item\u001b[1;34m()\u001b[0m\n",
      "File \u001b[1;32mpandas\\_libs\\hashtable_class_helper.pxi:2630\u001b[0m, in \u001b[0;36mpandas._libs.hashtable.Int64HashTable.get_item\u001b[1;34m()\u001b[0m\n",
      "\u001b[1;31mKeyError\u001b[0m: 0",
      "\nThe above exception was the direct cause of the following exception:\n",
      "\u001b[1;31mKeyError\u001b[0m                                  Traceback (most recent call last)",
      "Cell \u001b[1;32mIn[26], line 3\u001b[0m\n\u001b[0;32m      1\u001b[0m \u001b[38;5;66;03m# 예측 결과 확인\u001b[39;00m\n\u001b[0;32m      2\u001b[0m \u001b[38;5;28;01mfor\u001b[39;00m i \u001b[38;5;129;01min\u001b[39;00m \u001b[38;5;28mrange\u001b[39m(\u001b[38;5;28mlen\u001b[39m(predictions)):\n\u001b[1;32m----> 3\u001b[0m     \u001b[38;5;28mprint\u001b[39m(\u001b[38;5;124mf\u001b[39m\u001b[38;5;124m\"\u001b[39m\u001b[38;5;124m실제값: \u001b[39m\u001b[38;5;132;01m{\u001b[39;00m\u001b[43my_test\u001b[49m\u001b[43m[\u001b[49m\u001b[43mi\u001b[49m\u001b[43m]\u001b[49m\u001b[38;5;132;01m}\u001b[39;00m\u001b[38;5;124m, 예측값: \u001b[39m\u001b[38;5;132;01m{\u001b[39;00mpredictions[i]\u001b[38;5;132;01m}\u001b[39;00m\u001b[38;5;124m\"\u001b[39m)\n",
      "File \u001b[1;32mC:\\workspace\\ShipSupplies\\venv\\lib\\site-packages\\pandas\\core\\series.py:1007\u001b[0m, in \u001b[0;36mSeries.__getitem__\u001b[1;34m(self, key)\u001b[0m\n\u001b[0;32m   1004\u001b[0m     \u001b[38;5;28;01mreturn\u001b[39;00m \u001b[38;5;28mself\u001b[39m\u001b[38;5;241m.\u001b[39m_values[key]\n\u001b[0;32m   1006\u001b[0m \u001b[38;5;28;01melif\u001b[39;00m key_is_scalar:\n\u001b[1;32m-> 1007\u001b[0m     \u001b[38;5;28;01mreturn\u001b[39;00m \u001b[38;5;28;43mself\u001b[39;49m\u001b[38;5;241;43m.\u001b[39;49m\u001b[43m_get_value\u001b[49m\u001b[43m(\u001b[49m\u001b[43mkey\u001b[49m\u001b[43m)\u001b[49m\n\u001b[0;32m   1009\u001b[0m \u001b[38;5;28;01mif\u001b[39;00m is_hashable(key):\n\u001b[0;32m   1010\u001b[0m     \u001b[38;5;66;03m# Otherwise index.get_value will raise InvalidIndexError\u001b[39;00m\n\u001b[0;32m   1011\u001b[0m     \u001b[38;5;28;01mtry\u001b[39;00m:\n\u001b[0;32m   1012\u001b[0m         \u001b[38;5;66;03m# For labels that don't resolve as scalars like tuples and frozensets\u001b[39;00m\n",
      "File \u001b[1;32mC:\\workspace\\ShipSupplies\\venv\\lib\\site-packages\\pandas\\core\\series.py:1116\u001b[0m, in \u001b[0;36mSeries._get_value\u001b[1;34m(self, label, takeable)\u001b[0m\n\u001b[0;32m   1113\u001b[0m     \u001b[38;5;28;01mreturn\u001b[39;00m \u001b[38;5;28mself\u001b[39m\u001b[38;5;241m.\u001b[39m_values[label]\n\u001b[0;32m   1115\u001b[0m \u001b[38;5;66;03m# Similar to Index.get_value, but we do not fall back to positional\u001b[39;00m\n\u001b[1;32m-> 1116\u001b[0m loc \u001b[38;5;241m=\u001b[39m \u001b[38;5;28;43mself\u001b[39;49m\u001b[38;5;241;43m.\u001b[39;49m\u001b[43mindex\u001b[49m\u001b[38;5;241;43m.\u001b[39;49m\u001b[43mget_loc\u001b[49m\u001b[43m(\u001b[49m\u001b[43mlabel\u001b[49m\u001b[43m)\u001b[49m\n\u001b[0;32m   1118\u001b[0m \u001b[38;5;28;01mif\u001b[39;00m is_integer(loc):\n\u001b[0;32m   1119\u001b[0m     \u001b[38;5;28;01mreturn\u001b[39;00m \u001b[38;5;28mself\u001b[39m\u001b[38;5;241m.\u001b[39m_values[loc]\n",
      "File \u001b[1;32mC:\\workspace\\ShipSupplies\\venv\\lib\\site-packages\\pandas\\core\\indexes\\base.py:3654\u001b[0m, in \u001b[0;36mIndex.get_loc\u001b[1;34m(self, key)\u001b[0m\n\u001b[0;32m   3652\u001b[0m     \u001b[38;5;28;01mreturn\u001b[39;00m \u001b[38;5;28mself\u001b[39m\u001b[38;5;241m.\u001b[39m_engine\u001b[38;5;241m.\u001b[39mget_loc(casted_key)\n\u001b[0;32m   3653\u001b[0m \u001b[38;5;28;01mexcept\u001b[39;00m \u001b[38;5;167;01mKeyError\u001b[39;00m \u001b[38;5;28;01mas\u001b[39;00m err:\n\u001b[1;32m-> 3654\u001b[0m     \u001b[38;5;28;01mraise\u001b[39;00m \u001b[38;5;167;01mKeyError\u001b[39;00m(key) \u001b[38;5;28;01mfrom\u001b[39;00m \u001b[38;5;21;01merr\u001b[39;00m\n\u001b[0;32m   3655\u001b[0m \u001b[38;5;28;01mexcept\u001b[39;00m \u001b[38;5;167;01mTypeError\u001b[39;00m:\n\u001b[0;32m   3656\u001b[0m     \u001b[38;5;66;03m# If we have a listlike key, _check_indexing_error will raise\u001b[39;00m\n\u001b[0;32m   3657\u001b[0m     \u001b[38;5;66;03m#  InvalidIndexError. Otherwise we fall through and re-raise\u001b[39;00m\n\u001b[0;32m   3658\u001b[0m     \u001b[38;5;66;03m#  the TypeError.\u001b[39;00m\n\u001b[0;32m   3659\u001b[0m     \u001b[38;5;28mself\u001b[39m\u001b[38;5;241m.\u001b[39m_check_indexing_error(key)\n",
      "\u001b[1;31mKeyError\u001b[0m: 0"
     ]
    }
   ],
   "source": [
    "# 예측 결과 확인\n",
    "for i in range(len(predictions)):\n",
    "    print(f\"실제값: {y_test[i]}, 예측값: {predictions[i][0]}\")"
   ]
  },
  {
   "cell_type": "code",
   "execution_count": null,
   "id": "a22dd2c1-8112-498e-88af-a4593265fb17",
   "metadata": {},
   "outputs": [],
   "source": []
  },
  {
   "cell_type": "markdown",
   "id": "716db201-eb67-4a9e-9458-29b21c0e3cc7",
   "metadata": {},
   "source": [
    "## 기업 회귀 모델"
   ]
  },
  {
   "cell_type": "code",
   "execution_count": 1,
   "id": "41df1b81-6080-46ac-8d30-a4e78cfcc693",
   "metadata": {
    "tags": []
   },
   "outputs": [
    {
     "name": "stderr",
     "output_type": "stream",
     "text": [
      "C:\\Users\\SW\\AppData\\Local\\Temp\\ipykernel_19368\\1378052945.py:5: SettingWithCopyWarning: \n",
      "A value is trying to be set on a copy of a slice from a DataFrame.\n",
      "Try using .loc[row_indexer,col_indexer] = value instead\n",
      "\n",
      "See the caveats in the documentation: https://pandas.pydata.org/pandas-docs/stable/user_guide/indexing.html#returning-a-view-versus-a-copy\n",
      "  df1[\"leadtime\"] = df[\"leadtime\"].astype(int)\n"
     ]
    }
   ],
   "source": [
    "import pandas as pd\n",
    "from sklearn import preprocessing\n",
    "df = pd.read_csv('../data/raw_postpro.csv')\n",
    "df1 = df[[\"청구품목\", 'key2', 'leadtime', '견적화폐' , '발주처']]\n",
    "df1[\"leadtime\"] = df[\"leadtime\"].astype(int)"
   ]
  },
  {
   "cell_type": "code",
   "execution_count": 2,
   "id": "79bc13d3-0152-41ba-99a4-65f7fb754498",
   "metadata": {
    "tags": []
   },
   "outputs": [],
   "source": [
    "# df, df1"
   ]
  },
  {
   "cell_type": "code",
   "execution_count": null,
   "id": "7db02995-1a91-454f-95dc-63b07ebdafb3",
   "metadata": {},
   "outputs": [],
   "source": []
  },
  {
   "cell_type": "code",
   "execution_count": 7,
   "id": "eb63ee16-4878-49c7-bc0f-28b06f20b667",
   "metadata": {
    "tags": []
   },
   "outputs": [],
   "source": [
    "from gensim.models import FastText\n",
    "from sklearn.feature_extraction.text import CountVectorizer\n",
    "from sklearn.model_selection import train_test_split\n",
    "from sklearn.linear_model import LinearRegression\n",
    "from sklearn.metrics import mean_squared_error, r2_score\n",
    "\n",
    "X = list(df[\"Subject\"]+ ' ' + df['key2']  + ' '   + df['Assembly'] + ' '  + df['출고운반선']+  ' ' + df['견적화폐']  +  ' ' + df['Control No.']  )\n",
    "# + df['발주처'] + ' '\n",
    "# X = list(df[\"Subject\"]+ ' ' + df['key1'] +  ' ' + df['Control No.'] + ' ' + df['Assembly']+ ' ' + df['출고선박'] )\n",
    "# target = list(df1['leadtime'])\n",
    "target = list(df['리드타임'])\n",
    "y = target"
   ]
  },
  {
   "cell_type": "code",
   "execution_count": 11,
   "id": "2ef239e0-c09f-4629-9678-9e809a500ff7",
   "metadata": {
    "tags": []
   },
   "outputs": [
    {
     "name": "stdout",
     "output_type": "stream",
     "text": [
      "MSE 1037.3587744271224\n",
      "R2 0.7807123935111588\n"
     ]
    }
   ],
   "source": [
    "vectorizer = CountVectorizer()\n",
    "X = vectorizer.fit_transform(X)\n",
    "\n",
    "\n",
    "X_train, X_test, y_train, y_test = train_test_split(X, y, test_size=0.2, random_state=40)\n",
    "\n",
    "\n",
    "lr = LinearRegression()\n",
    "lr.fit(X_train, y_train)\n",
    "\n",
    "y_pred = lr.predict(X_test)\n",
    "\n",
    "mse = mean_squared_error(y_test, y_pred)\n",
    "r2 = r2_score(y_test, y_pred)\n",
    "\n",
    "print(\"MSE\", mse)\n",
    "print(\"R2\", r2)\n"
   ]
  },
  {
   "cell_type": "code",
   "execution_count": 16,
   "id": "911a0ace-1a85-4d68-8ba9-55e278a95563",
   "metadata": {
    "tags": []
   },
   "outputs": [
    {
     "data": {
      "text/plain": [
       "scipy.sparse._csr.csr_matrix"
      ]
     },
     "execution_count": 16,
     "metadata": {},
     "output_type": "execute_result"
    }
   ],
   "source": [
    "type(X_train)#.shape"
   ]
  },
  {
   "cell_type": "code",
   "execution_count": null,
   "id": "2f800d53-bf80-4be3-ae05-68563dd9f49c",
   "metadata": {},
   "outputs": [],
   "source": []
  }
 ],
 "metadata": {
  "kernelspec": {
   "display_name": "Python 3 (ipykernel)",
   "language": "python",
   "name": "python3"
  },
  "language_info": {
   "codemirror_mode": {
    "name": "ipython",
    "version": 3
   },
   "file_extension": ".py",
   "mimetype": "text/x-python",
   "name": "python",
   "nbconvert_exporter": "python",
   "pygments_lexer": "ipython3",
   "version": "3.10.10"
  }
 },
 "nbformat": 4,
 "nbformat_minor": 5
}
