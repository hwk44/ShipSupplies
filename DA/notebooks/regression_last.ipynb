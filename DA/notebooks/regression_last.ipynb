{
 "cells": [
  {
   "cell_type": "markdown",
   "id": "79876898-71ea-484c-8ac6-1f12c1b903a1",
   "metadata": {},
   "source": [
    "## LeadTime 회귀 모델"
   ]
  },
  {
   "cell_type": "code",
   "execution_count": 1,
   "id": "b19122b9-e074-424e-b7b2-32bb8fd563e1",
   "metadata": {
    "tags": []
   },
   "outputs": [
    {
     "name": "stderr",
     "output_type": "stream",
     "text": [
      "C:\\Users\\SW\\AppData\\Local\\Temp\\ipykernel_3956\\1378052945.py:5: SettingWithCopyWarning: \n",
      "A value is trying to be set on a copy of a slice from a DataFrame.\n",
      "Try using .loc[row_indexer,col_indexer] = value instead\n",
      "\n",
      "See the caveats in the documentation: https://pandas.pydata.org/pandas-docs/stable/user_guide/indexing.html#returning-a-view-versus-a-copy\n",
      "  df1[\"leadtime\"] = df[\"leadtime\"].astype(int)\n"
     ]
    }
   ],
   "source": [
    "import pandas as pd\n",
    "from sklearn import preprocessing\n",
    "df = pd.read_csv('../data/raw_postpro.csv')\n",
    "df1 = df[[\"청구품목\", 'key2', 'leadtime', '견적화폐' , '발주처']]\n",
    "df1[\"leadtime\"] = df[\"leadtime\"].astype(int)"
   ]
  },
  {
   "cell_type": "code",
   "execution_count": 2,
   "id": "99f8dcca-d0c9-4459-8a78-f5b76fdfd036",
   "metadata": {
    "tags": []
   },
   "outputs": [],
   "source": [
    "from gensim.models import FastText\n",
    "from sklearn.feature_extraction.text import CountVectorizer\n",
    "from sklearn.model_selection import train_test_split\n",
    "from sklearn.linear_model import LinearRegression\n",
    "from sklearn.metrics import mean_squared_error, r2_score\n",
    "\n",
    "# 제일 좋은 모델\n",
    "X = list(df[\"Subject\"]+ ' ' \n",
    "         + df['출고운반선']+  ' ' \n",
    "         + df['key2'] + ' ' \n",
    "         + df['Assembly'] + ' '  \n",
    "         + df['견적화폐']  +  ' ' \n",
    "         + df['발주처'])\n",
    "\n",
    "from sklearn.preprocessing import StandardScaler\n",
    "# target 값\n",
    "y = df['leadtime']\n",
    "# StandardScaler 객체 생성\n",
    "scaler = StandardScaler()\n",
    "\n",
    "# y\n",
    "# y 값 정규화\n",
    "y_normalized = scaler.fit_transform(y.values.reshape(-1, 1))\n",
    "\n",
    "from tensorflow.keras.preprocessing.text import Tokenizer\n",
    "# 텍스트 데이터를 정수 시퀀스로 변환\n",
    "tokenizer = Tokenizer()\n",
    "tokenizer.fit_on_texts(X)\n",
    "sequences = tokenizer.texts_to_sequences(X)"
   ]
  },
  {
   "cell_type": "code",
   "execution_count": 3,
   "id": "3a6bc659-fbcd-4b6f-8b1d-ed89727a1712",
   "metadata": {
    "tags": []
   },
   "outputs": [
    {
     "data": {
      "text/plain": [
       "(['운전시간 대비 #2 AUX ENG TOP END O/H PARTS 본선 선적 COOLER GASKET KIT KRW HAEIN Coporation_Cheonan'],\n",
       " [[128, 50, 77, 32, 3, 188, 159, 6, 15, 1, 13, 12, 103, 16, 132, 2, 8, 9, 10]])"
      ]
     },
     "execution_count": 3,
     "metadata": {},
     "output_type": "execute_result"
    }
   ],
   "source": [
    " X[1:2],sequences[1:2],"
   ]
  },
  {
   "cell_type": "code",
   "execution_count": 4,
   "id": "057f69a6-b3c0-4cdf-810f-fa3808542eff",
   "metadata": {
    "tags": []
   },
   "outputs": [
    {
     "name": "stdout",
     "output_type": "stream",
     "text": [
      "총 고유한 단어의 개수: 3941\n"
     ]
    }
   ],
   "source": [
    "unique_words = set()\n",
    "for sentence in X:\n",
    "    words = sentence.split()  # 문장을 단어로 분리\n",
    "    unique_words.update(words)  # 중복을 제거하고 단어를 unique_words에 추가\n",
    "\n",
    "num_unique_words = len(unique_words)  # 고유한 단어의 개수\n",
    "print(\"총 고유한 단어의 개수:\", num_unique_words)\n"
   ]
  },
  {
   "cell_type": "code",
   "execution_count": null,
   "id": "708e59b8-e334-4e42-ae83-ad846ad810e3",
   "metadata": {},
   "outputs": [],
   "source": [
    "# tokenizer, pad_sequences scaler저장해야함"
   ]
  },
  {
   "cell_type": "code",
   "execution_count": null,
   "id": "510bde19-281f-4337-9e8d-12d816673a9b",
   "metadata": {
    "tags": []
   },
   "outputs": [],
   "source": [
    "# import pickle\n",
    "\n",
    "# # sequences pkl 파일로 저장\n",
    "# with open(\"../model/sequences.pkl\", \"wb\") as file:\n",
    "#     pickle.dump(sequences, file)"
   ]
  },
  {
   "cell_type": "code",
   "execution_count": null,
   "id": "02a520a0-aa0a-4db5-ba3d-9b3a11e451cd",
   "metadata": {
    "tags": []
   },
   "outputs": [],
   "source": [
    "# import pickle\n",
    "\n",
    "# # tokenizer pkl 파일로 저장\n",
    "# with open(\"../model/tokenizer.pkl\", \"wb\") as file:\n",
    "#     pickle.dump(tokenizer, file)"
   ]
  },
  {
   "cell_type": "code",
   "execution_count": null,
   "id": "549070cc-a4f8-41ae-96f5-0d6f05bda80e",
   "metadata": {
    "tags": []
   },
   "outputs": [],
   "source": [
    "# X[:10]"
   ]
  },
  {
   "cell_type": "code",
   "execution_count": null,
   "id": "fea6d275-3a8e-45eb-a3cf-a07fe5cdd449",
   "metadata": {
    "tags": []
   },
   "outputs": [],
   "source": [
    "# y"
   ]
  },
  {
   "cell_type": "code",
   "execution_count": 5,
   "id": "f10f29c8-cb00-42fa-a303-718059520564",
   "metadata": {
    "tags": []
   },
   "outputs": [
    {
     "name": "stdout",
     "output_type": "stream",
     "text": [
      "Average length: 93.61563581420286\n",
      "Max length: 181\n"
     ]
    }
   ],
   "source": [
    "# 시퀀스 길이를 정하기 위해 X 문자열 길이 확인\n",
    "lengths = [len(text) for text in X]\n",
    "average_length = sum(lengths) / len(lengths)\n",
    "max_length = max(lengths)\n",
    "\n",
    "print(\"Average length:\", average_length)\n",
    "print(\"Max length:\", max_length)"
   ]
  },
  {
   "cell_type": "code",
   "execution_count": 6,
   "id": "c79165a1-9c0e-41f3-8468-ceaade30b978",
   "metadata": {
    "tags": []
   },
   "outputs": [],
   "source": [
    "from keras.models import Sequential\n",
    "from keras.layers import Embedding,LSTM, Conv1D, MaxPooling1D, Dense, Flatten, Reshape, GlobalMaxPooling1D\n",
    "from tensorflow.keras.preprocessing import sequence\n",
    "\n",
    "from tensorflow.keras.preprocessing.sequence import pad_sequences\n",
    "\n",
    "# 시퀀스 패딩\n",
    "max_sequence_length = 100  # 적절한 시퀀스 길이로 설정\n",
    "padded_sequences = pad_sequences(sequences, maxlen=max_sequence_length)\n",
    "\n",
    "# 데이터 분할\n",
    "X_train, X_test, y_train, y_test = \\\n",
    "train_test_split(padded_sequences, y_normalized, test_size=0.2, random_state=42)\n",
    "# train_test_split(padded_sequences, y, test_size=0.2, random_state=42)\n",
    "\n",
    "\n",
    "# 모델 구성\n",
    "model = Sequential()\n",
    "model.add(Embedding(input_dim=4000, output_dim=100, input_length=max_sequence_length))\n",
    "model.add(Conv1D(filters=128, kernel_size=5, activation='relu'))\n",
    "model.add(MaxPooling1D(pool_size=2))\n",
    "model.add(LSTM(64, return_sequences=True))\n",
    "model.add(Reshape((-1, 64)))  # LSTM 이후에 Reshape 층 추가\n",
    "model.add(Conv1D(filters=32, kernel_size=3, activation='relu'))\n",
    "model.add(GlobalMaxPooling1D())\n",
    "model.add(Dense(1))\n",
    "\n",
    "# 모델 컴파일\n",
    "model.compile(loss='mean_squared_error', optimizer='adam')"
   ]
  },
  {
   "cell_type": "markdown",
   "id": "aad2b3b7-2566-4d9e-bf69-bae4f0f61326",
   "metadata": {},
   "source": [
    "## tokenizer, pad_sequences scaler저장해야함"
   ]
  },
  {
   "cell_type": "code",
   "execution_count": null,
   "id": "5b117420-e263-4281-88c1-8af5b75228a7",
   "metadata": {
    "tags": []
   },
   "outputs": [],
   "source": [
    "# import pickle\n",
    "\n",
    "# # scaler를 pkl 파일로 저장\n",
    "# with open(\"../model/scaler.pkl\", \"wb\") as file:\n",
    "#     pickle.dump(scaler, file)"
   ]
  },
  {
   "cell_type": "code",
   "execution_count": 7,
   "id": "58690fb1-b260-45c2-bafb-c81617150113",
   "metadata": {
    "tags": []
   },
   "outputs": [
    {
     "data": {
      "text/plain": [
       "((16413, 100), (16413, 1))"
      ]
     },
     "execution_count": 7,
     "metadata": {},
     "output_type": "execute_result"
    }
   ],
   "source": [
    "X_train.shape, y_train.shape\n",
    "# len(X), len(y)"
   ]
  },
  {
   "cell_type": "code",
   "execution_count": 8,
   "id": "3b0e0a34-9146-479d-aabb-eb77e2729035",
   "metadata": {
    "tags": []
   },
   "outputs": [
    {
     "data": {
      "text/plain": [
       "((4104, 100), (4104, 1))"
      ]
     },
     "execution_count": 8,
     "metadata": {},
     "output_type": "execute_result"
    }
   ],
   "source": [
    "X_test.shape, y_test.shape"
   ]
  },
  {
   "cell_type": "code",
   "execution_count": 9,
   "id": "182f9212-31ce-426d-9522-1c72a3fadf13",
   "metadata": {
    "tags": []
   },
   "outputs": [
    {
     "name": "stdout",
     "output_type": "stream",
     "text": [
      "Epoch 1/50\n",
      "65/65 [==============================] - 6s 24ms/step - loss: 0.5754 - val_loss: 0.2881\n",
      "Epoch 2/50\n",
      "65/65 [==============================] - 1s 14ms/step - loss: 0.1954 - val_loss: 0.1881\n",
      "Epoch 3/50\n",
      "65/65 [==============================] - 1s 14ms/step - loss: 0.1249 - val_loss: 0.1498\n",
      "Epoch 4/50\n",
      "65/65 [==============================] - 1s 14ms/step - loss: 0.0901 - val_loss: 0.1156\n",
      "Epoch 5/50\n",
      "65/65 [==============================] - 1s 15ms/step - loss: 0.0572 - val_loss: 0.1000\n",
      "Epoch 6/50\n",
      "65/65 [==============================] - 1s 14ms/step - loss: 0.0423 - val_loss: 0.1045\n",
      "Epoch 7/50\n",
      "65/65 [==============================] - 1s 14ms/step - loss: 0.0347 - val_loss: 0.0852\n",
      "Epoch 8/50\n",
      "65/65 [==============================] - 1s 14ms/step - loss: 0.0303 - val_loss: 0.0832\n",
      "Epoch 9/50\n",
      "65/65 [==============================] - 1s 14ms/step - loss: 0.0213 - val_loss: 0.0823\n",
      "Epoch 10/50\n",
      "65/65 [==============================] - 1s 14ms/step - loss: 0.0164 - val_loss: 0.0777\n",
      "Epoch 11/50\n",
      "65/65 [==============================] - 1s 14ms/step - loss: 0.0150 - val_loss: 0.0835\n",
      "Epoch 12/50\n",
      "65/65 [==============================] - 1s 14ms/step - loss: 0.0132 - val_loss: 0.0783\n",
      "Epoch 13/50\n",
      "65/65 [==============================] - 1s 14ms/step - loss: 0.0115 - val_loss: 0.0766\n",
      "Epoch 14/50\n",
      "65/65 [==============================] - 1s 14ms/step - loss: 0.0110 - val_loss: 0.0742\n",
      "Epoch 15/50\n",
      "65/65 [==============================] - 1s 14ms/step - loss: 0.0101 - val_loss: 0.0713\n",
      "Epoch 16/50\n",
      "65/65 [==============================] - 1s 14ms/step - loss: 0.0081 - val_loss: 0.0701\n",
      "Epoch 17/50\n",
      "65/65 [==============================] - 1s 14ms/step - loss: 0.0078 - val_loss: 0.0706\n",
      "Epoch 18/50\n",
      "65/65 [==============================] - 1s 14ms/step - loss: 0.0081 - val_loss: 0.0699\n",
      "Epoch 19/50\n",
      "65/65 [==============================] - 1s 14ms/step - loss: 0.0082 - val_loss: 0.0694\n",
      "Epoch 20/50\n",
      "65/65 [==============================] - 1s 14ms/step - loss: 0.0070 - val_loss: 0.0718\n",
      "Epoch 21/50\n",
      "65/65 [==============================] - 1s 14ms/step - loss: 0.0072 - val_loss: 0.0693\n",
      "Epoch 22/50\n",
      "65/65 [==============================] - 1s 14ms/step - loss: 0.0059 - val_loss: 0.0684\n",
      "Epoch 23/50\n",
      "65/65 [==============================] - 1s 14ms/step - loss: 0.0057 - val_loss: 0.0695\n",
      "Epoch 24/50\n",
      "65/65 [==============================] - 1s 14ms/step - loss: 0.0054 - val_loss: 0.0689\n",
      "Epoch 25/50\n",
      "65/65 [==============================] - 1s 14ms/step - loss: 0.0065 - val_loss: 0.0704\n",
      "Epoch 26/50\n",
      "65/65 [==============================] - 1s 14ms/step - loss: 0.0058 - val_loss: 0.0695\n",
      "Epoch 27/50\n",
      "65/65 [==============================] - 1s 14ms/step - loss: 0.0073 - val_loss: 0.0702\n",
      "Epoch 28/50\n",
      "65/65 [==============================] - 1s 15ms/step - loss: 0.0060 - val_loss: 0.0679\n",
      "Epoch 29/50\n",
      "65/65 [==============================] - 1s 14ms/step - loss: 0.0065 - val_loss: 0.0665\n",
      "Epoch 30/50\n",
      "65/65 [==============================] - 1s 14ms/step - loss: 0.0057 - val_loss: 0.0695\n",
      "Epoch 31/50\n",
      "65/65 [==============================] - 1s 14ms/step - loss: 0.0054 - val_loss: 0.0676\n",
      "Epoch 32/50\n",
      "65/65 [==============================] - 1s 14ms/step - loss: 0.0047 - val_loss: 0.0674\n",
      "Epoch 33/50\n",
      "65/65 [==============================] - 1s 14ms/step - loss: 0.0046 - val_loss: 0.0692\n",
      "Epoch 34/50\n",
      "65/65 [==============================] - 1s 14ms/step - loss: 0.0045 - val_loss: 0.0672\n",
      "Epoch 35/50\n",
      "65/65 [==============================] - 1s 14ms/step - loss: 0.0042 - val_loss: 0.0695\n",
      "Epoch 36/50\n",
      "65/65 [==============================] - 1s 14ms/step - loss: 0.0074 - val_loss: 0.0677\n",
      "Epoch 37/50\n",
      "65/65 [==============================] - 1s 14ms/step - loss: 0.0061 - val_loss: 0.0667\n",
      "Epoch 38/50\n",
      "65/65 [==============================] - 1s 14ms/step - loss: 0.0044 - val_loss: 0.0659\n",
      "Epoch 39/50\n",
      "65/65 [==============================] - 1s 14ms/step - loss: 0.0046 - val_loss: 0.0660\n",
      "Epoch 40/50\n",
      "65/65 [==============================] - 1s 14ms/step - loss: 0.0052 - val_loss: 0.0681\n",
      "Epoch 41/50\n",
      "65/65 [==============================] - 1s 14ms/step - loss: 0.0060 - val_loss: 0.0678\n",
      "Epoch 42/50\n",
      "65/65 [==============================] - 1s 14ms/step - loss: 0.0046 - val_loss: 0.0664\n",
      "Epoch 43/50\n",
      "65/65 [==============================] - 1s 14ms/step - loss: 0.0053 - val_loss: 0.0684\n",
      "Epoch 44/50\n",
      "65/65 [==============================] - 1s 14ms/step - loss: 0.0044 - val_loss: 0.0688\n",
      "Epoch 45/50\n",
      "65/65 [==============================] - 1s 14ms/step - loss: 0.0047 - val_loss: 0.0683\n",
      "Epoch 46/50\n",
      "65/65 [==============================] - 1s 14ms/step - loss: 0.0048 - val_loss: 0.0655\n",
      "Epoch 47/50\n",
      "65/65 [==============================] - 1s 14ms/step - loss: 0.0039 - val_loss: 0.0661\n",
      "Epoch 48/50\n",
      "65/65 [==============================] - 1s 14ms/step - loss: 0.0042 - val_loss: 0.0711\n",
      "Epoch 49/50\n",
      "65/65 [==============================] - 1s 14ms/step - loss: 0.0055 - val_loss: 0.0711\n",
      "Epoch 50/50\n",
      "65/65 [==============================] - 1s 14ms/step - loss: 0.0054 - val_loss: 0.0669\n"
     ]
    },
    {
     "data": {
      "image/png": "[encoded data removed]",
      "text/plain": [
       "<Figure size 640x480 with 1 Axes>"
      ]
     },
     "metadata": {},
     "output_type": "display_data"
    }
   ],
   "source": [
    "import matplotlib.pyplot as plt\n",
    "\n",
    "# 모델 훈련\n",
    "history = model.fit(X_train, y_train, epochs=50, batch_size=256, validation_data=(X_test, y_test))\n",
    "\n",
    "# 손실 값 추출\n",
    "train_loss = history.history['loss']\n",
    "val_loss = history.history['val_loss']\n",
    "\n",
    "# 에포크 수\n",
    "epochs = range(1, len(train_loss) + 1)\n",
    "\n",
    "# 학습 곡선 그리기\n",
    "plt.plot(epochs, train_loss, 'b-', label='Training Loss')\n",
    "plt.plot(epochs, val_loss, 'r-', label='Validation Loss')\n",
    "plt.xlabel('Epochs')\n",
    "plt.ylabel('Loss')\n",
    "plt.legend()\n",
    "plt.savefig('learning_curve.png')  # 이미지 파일로 저장\n",
    "plt.show()"
   ]
  },
  {
   "cell_type": "code",
   "execution_count": null,
   "id": "529e485e-a1e4-4ed4-a25a-0e93fc89dae6",
   "metadata": {
    "tags": []
   },
   "outputs": [],
   "source": [
    "# # 모델 저장\n",
    "# model.save(\"../model/model_regression.h5\")"
   ]
  },
  {
   "cell_type": "code",
   "execution_count": null,
   "id": "a3775f8c-bd23-45a1-a7cf-bb473f4f3c81",
   "metadata": {},
   "outputs": [],
   "source": []
  },
  {
   "cell_type": "code",
   "execution_count": null,
   "id": "ec19249f-3ba3-40bb-a9b5-e9acce964984",
   "metadata": {
    "tags": []
   },
   "outputs": [],
   "source": []
  },
  {
   "cell_type": "markdown",
   "id": "8590aded-c3b1-4417-88ed-430e0a082083",
   "metadata": {},
   "source": [
    "## 검증 데이터의 손실값이 더 많은 것으로 보아 과적합 된것으로 판단됨"
   ]
  },
  {
   "cell_type": "code",
   "execution_count": 10,
   "id": "2ef71a5d-f265-40e1-8592-5e0e86b53b70",
   "metadata": {
    "tags": []
   },
   "outputs": [
    {
     "name": "stdout",
     "output_type": "stream",
     "text": [
      "129/129 [==============================] - 1s 3ms/step\n",
      "Predicted values:\n",
      "[[ 0.9947935 ]\n",
      " [ 0.09158431]\n",
      " [-0.28096107]\n",
      " [ 0.4948055 ]\n",
      " [ 1.9485922 ]\n",
      " [-0.4697146 ]\n",
      " [ 0.30821857]\n",
      " [ 1.1284411 ]\n",
      " [-0.8363024 ]\n",
      " [-0.87366456]\n",
      " [ 2.1099527 ]\n",
      " [ 0.91202396]\n",
      " [-0.34935185]\n",
      " [-0.78866863]\n",
      " [-0.17286333]\n",
      " [ 1.000681  ]\n",
      " [-0.7546332 ]\n",
      " [-0.3623545 ]\n",
      " [-1.0193312 ]\n",
      " [-0.38985014]\n",
      " [-0.91480035]\n",
      " [ 0.76380646]\n",
      " [-0.9551147 ]\n",
      " [-0.8652948 ]\n",
      " [ 4.392337  ]\n",
      " [-0.9587961 ]\n",
      " [ 1.0434673 ]\n",
      " [ 0.4024144 ]\n",
      " [ 0.21908902]\n",
      " [ 0.9116117 ]]\n",
      "Actual values:\n",
      "[[ 0.99154998]\n",
      " [ 0.03041752]\n",
      " [-0.28517822]\n",
      " [ 0.46077534]\n",
      " [ 2.06744453]\n",
      " [-0.4716666 ]\n",
      " [ 0.34601325]\n",
      " [ 1.14934785]\n",
      " [-0.9450602 ]\n",
      " [-0.93071494]\n",
      " [ 1.70881301]\n",
      " [ 1.10631206]\n",
      " [-0.3999403 ]\n",
      " [-0.8733339 ]\n",
      " [-0.24214243]\n",
      " [ 0.99154998]\n",
      " [-0.78726234]\n",
      " [-0.48601186]\n",
      " [-1.00244125]\n",
      " [-0.42863082]\n",
      " [-1.04547703]\n",
      " [ 0.80506159]\n",
      " [-1.04547703]\n",
      " [-0.88767916]\n",
      " [ 4.21923362]\n",
      " [-1.08851281]\n",
      " [ 0.91982368]\n",
      " [ 0.41773955]\n",
      " [ 0.21690591]\n",
      " [ 0.08779856]]\n",
      "0.9947935 [0.99154998]\n",
      "0.09158431 [0.03041752]\n",
      "-0.28096107 [-0.28517822]\n",
      "0.4948055 [0.46077534]\n",
      "1.9485922 [2.06744453]\n",
      "-0.4697146 [-0.4716666]\n",
      "0.30821857 [0.34601325]\n",
      "1.1284411 [1.14934785]\n",
      "-0.8363024 [-0.9450602]\n",
      "-0.87366456 [-0.93071494]\n",
      "2.1099527 [1.70881301]\n",
      "0.91202396 [1.10631206]\n",
      "-0.34935185 [-0.3999403]\n",
      "-0.78866863 [-0.8733339]\n",
      "-0.17286333 [-0.24214243]\n",
      "1.000681 [0.99154998]\n",
      "-0.7546332 [-0.78726234]\n",
      "-0.3623545 [-0.48601186]\n",
      "-1.0193312 [-1.00244125]\n",
      "-0.38985014 [-0.42863082]\n",
      "-0.91480035 [-1.04547703]\n",
      "0.76380646 [0.80506159]\n",
      "-0.9551147 [-1.04547703]\n",
      "-0.8652948 [-0.88767916]\n",
      "4.392337 [4.21923362]\n",
      "-0.9587961 [-1.08851281]\n",
      "1.0434673 [0.91982368]\n",
      "0.4024144 [0.41773955]\n",
      "0.21908902 [0.21690591]\n",
      "0.9116117 [0.08779856]\n"
     ]
    }
   ],
   "source": [
    "y_pred = model.predict(X_test)\n",
    "\n",
    "# 예측 결과 출력\n",
    "print(\"Predicted values:\")\n",
    "print(y_pred[:30])\n",
    "\n",
    "print(\"Actual values:\")\n",
    "print(y_test[:30])\n",
    "\n",
    "for i in range(30):\n",
    "    print(y_pred[i][0], y_test[i])"
   ]
  },
  {
   "cell_type": "code",
   "execution_count": 11,
   "id": "cfda3a19-0128-4700-af87-cedf317fcdd0",
   "metadata": {},
   "outputs": [
    {
     "data": {
      "text/plain": [
       "0.09158431"
      ]
     },
     "execution_count": 11,
     "metadata": {},
     "output_type": "execute_result"
    }
   ],
   "source": [
    "y_pred[1][0]"
   ]
  },
  {
   "cell_type": "code",
   "execution_count": 12,
   "id": "6c1ad7c8-08ac-4747-855f-eb65ff1ded63",
   "metadata": {},
   "outputs": [
    {
     "data": {
      "text/plain": [
       "array([[ 0.99154998],\n",
       "       [ 0.03041752],\n",
       "       [-0.28517822],\n",
       "       ...,\n",
       "       [-1.01678651],\n",
       "       [-1.08851281],\n",
       "       [ 0.05910804]])"
      ]
     },
     "execution_count": 12,
     "metadata": {},
     "output_type": "execute_result"
    }
   ],
   "source": [
    "y_test"
   ]
  },
  {
   "cell_type": "code",
   "execution_count": 13,
   "id": "ab78c4e8-97df-4c5a-bcbd-0b0de9403339",
   "metadata": {
    "tags": []
   },
   "outputs": [
    {
     "name": "stdout",
     "output_type": "stream",
     "text": [
      "Actual: [145.] Predicted: [145.2261]\n",
      "Actual: [78.] Predicted: [82.2639]\n",
      "Actual: [56.] Predicted: [56.293976]\n",
      "Actual: [108.] Predicted: [110.37222]\n",
      "Actual: [220.] Predicted: [211.71487]\n",
      "Actual: [43.] Predicted: [43.136074]\n",
      "Actual: [100.] Predicted: [97.36536]\n",
      "Actual: [156.] Predicted: [154.5426]\n",
      "Actual: [10.] Predicted: [17.581444]\n",
      "Actual: [11.] Predicted: [14.976952]\n",
      "Actual: [195.] Predicted: [222.96321]\n",
      "Actual: [153.] Predicted: [139.45628]\n",
      "Actual: [48.] Predicted: [51.526493]\n",
      "Actual: [15.] Predicted: [20.901966]\n",
      "Actual: [59.] Predicted: [63.829407]\n",
      "Actual: [145.] Predicted: [145.63652]\n",
      "Actual: [21.] Predicted: [23.274559]\n",
      "Actual: [42.] Predicted: [50.620087]\n",
      "Actual: [6.] Predicted: [4.822613]\n",
      "Actual: [46.] Predicted: [48.70338]\n",
      "Actual: [3.] Predicted: [12.109398]\n",
      "Actual: [132.] Predicted: [129.12413]\n",
      "Actual: [3.] Predicted: [9.299107]\n",
      "Actual: [14.] Predicted: [15.560402]\n",
      "Actual: [370.] Predicted: [382.06693]\n",
      "Actual: [0.] Predicted: [9.042477]\n",
      "Actual: [140.] Predicted: [148.61913]\n",
      "Actual: [105.] Predicted: [103.931694]\n",
      "Actual: [91.] Predicted: [91.15218]\n",
      "Actual: [82.] Predicted: [139.42755]\n",
      "Actual: [18.] Predicted: [21.416588]\n",
      "Actual: [14.] Predicted: [14.720226]\n",
      "Actual: [370.] Predicted: [377.96713]\n",
      "Actual: [30.] Predicted: [34.018845]\n",
      "Actual: [130.] Predicted: [132.3424]\n",
      "Actual: [69.] Predicted: [73.53008]\n",
      "Actual: [13.] Predicted: [15.766159]\n",
      "Actual: [12.] Predicted: [13.533371]\n",
      "Actual: [41.] Predicted: [46.289383]\n",
      "Actual: [145.] Predicted: [145.63652]\n"
     ]
    }
   ],
   "source": [
    "# 원래 스케일로 되돌리기\n",
    "y_test = scaler.inverse_transform(y_test)\n",
    "y_pred = scaler.inverse_transform(y_pred)\n",
    "\n",
    "import numpy as np\n",
    "y_test_arr = np.array(y_test)\n",
    "y_pred_arr = np.array(y_pred)\n",
    "\n",
    "# 값들을 비교하면서 출력합니다.\n",
    "for i in range(40):\n",
    "    print(\"Actual:\", y_test_arr[i], \"Predicted:\", y_pred_arr[i])"
   ]
  },
  {
   "cell_type": "code",
   "execution_count": 14,
   "id": "e6e9279a-d397-4adb-8403-9c5cdaac4dcb",
   "metadata": {
    "tags": []
   },
   "outputs": [
    {
     "name": "stdout",
     "output_type": "stream",
     "text": [
      "R^2 Score: 0.9322706754348014\n"
     ]
    }
   ],
   "source": [
    "from sklearn.metrics import r2_score\n",
    "\n",
    "r2 = r2_score(y_test, y_pred)\n",
    "print(\"R^2 Score:\", r2)"
   ]
  },
  {
   "cell_type": "markdown",
   "id": "8a8fe4ab-11a4-421f-a0bc-bc98e0902093",
   "metadata": {},
   "source": [
    "batch 256\n",
    "max_sequence_length = 150\n",
    "R^2 Score: 0.9243755316599768"
   ]
  },
  {
   "cell_type": "code",
   "execution_count": null,
   "id": "1585976e-1589-43f1-bfb3-1d7e9e9f3033",
   "metadata": {},
   "outputs": [],
   "source": []
  },
  {
   "cell_type": "markdown",
   "id": "fba89068-7225-444a-8dab-37c36cbc3d39",
   "metadata": {},
   "source": [
    "## 새로운 데이터로 확인"
   ]
  },
  {
   "cell_type": "code",
   "execution_count": null,
   "id": "650350e6-f25f-4211-aaaa-da503700a155",
   "metadata": {},
   "outputs": [],
   "source": [
    "# X = list(df[\"Subject\"]+ ' ' +df['출고운반선']+  ' ' + df['key2'] + ' ' + df['Assembly'] + ' '  + df['견적화폐']  +  ' ' + df['발주처'])"
   ]
  },
  {
   "cell_type": "code",
   "execution_count": null,
   "id": "197a9981-ed9a-4780-8b18-3843b079fc07",
   "metadata": {
    "tags": []
   },
   "outputs": [],
   "source": [
    "strings = [\"DEO-E-210512-01\", \"0\",\"COOLER\", \"2N4727 INSTRUMNT PANEL GP\", \"KRW\", \"HAEIN Coporation_Cheonan\"]\n",
    "combined_string = \" \".join(strings)\n",
    "combined_string"
   ]
  },
  {
   "cell_type": "code",
   "execution_count": null,
   "id": "d8d8595f-9a5e-4a79-a436-7632637c5697",
   "metadata": {
    "tags": []
   },
   "outputs": [],
   "source": [
    "combined_string = tokenizer.texts_to_sequences([combined_string])\n",
    "# combined_string"
   ]
  },
  {
   "cell_type": "code",
   "execution_count": null,
   "id": "5cc2cf0c-be43-4168-ad64-f2dae3cc96b5",
   "metadata": {
    "tags": []
   },
   "outputs": [],
   "source": [
    "combined_string"
   ]
  },
  {
   "cell_type": "code",
   "execution_count": null,
   "id": "26ec2c3e-a0ea-4b5e-8984-1e1809ce37f6",
   "metadata": {
    "tags": []
   },
   "outputs": [],
   "source": [
    "padded_string = pad_sequences(combined_string, maxlen=100)"
   ]
  },
  {
   "cell_type": "code",
   "execution_count": null,
   "id": "089c9b43-4bf9-44c2-ad8d-5a64b66fb012",
   "metadata": {
    "tags": []
   },
   "outputs": [],
   "source": [
    "y_pred_test = model.predict(padded_string)"
   ]
  },
  {
   "cell_type": "code",
   "execution_count": null,
   "id": "c3b25519-bafb-42e1-8b31-b973566539d1",
   "metadata": {
    "tags": []
   },
   "outputs": [],
   "source": [
    "y_pred_test = scaler.inverse_transform(y_test)"
   ]
  },
  {
   "cell_type": "code",
   "execution_count": null,
   "id": "d55d898d-2179-4009-9f57-72773d51e56a",
   "metadata": {
    "tags": []
   },
   "outputs": [],
   "source": [
    "y_pred_test"
   ]
  },
  {
   "cell_type": "code",
   "execution_count": null,
   "id": "3ad3a58d-1f15-44bd-ae05-d8195ec2e63a",
   "metadata": {
    "tags": []
   },
   "outputs": [],
   "source": [
    "import numpy as np\n",
    "y_pred_test = np.array(y_pred_test)"
   ]
  },
  {
   "cell_type": "code",
   "execution_count": null,
   "id": "0d66075c-119b-4ece-8abf-7d6b6592df94",
   "metadata": {
    "tags": []
   },
   "outputs": [],
   "source": [
    "y_pred_test"
   ]
  },
  {
   "cell_type": "code",
   "execution_count": null,
   "id": "566f6587-9f52-4482-bf43-9d836b8df3e9",
   "metadata": {},
   "outputs": [],
   "source": []
  },
  {
   "cell_type": "code",
   "execution_count": null,
   "id": "b9da3cae-bb30-4763-a575-e130e02fc695",
   "metadata": {
    "tags": []
   },
   "outputs": [],
   "source": [
    "strings = [\"DEO-E-210512-01\", \"0\", \"COOLER\", \"2N4727 INSTRUMNT PANEL GP\", \"KRW\", \"HAEIN Coporation_Cheonan\"]\n",
    "combined_string = \" \".join(strings)\n",
    "\n",
    "# 문자열을 정수 시퀀스로 변환\n",
    "combined_sequence = tokenizer.texts_to_sequences([combined_string])\n",
    "\n",
    "# 시퀀스 패딩\n",
    "combined_padded_sequence = pad_sequences(combined_sequence, maxlen=100)\n",
    "\n",
    "# 예측\n",
    "y_pred = model.predict(combined_padded_sequence)"
   ]
  },
  {
   "cell_type": "code",
   "execution_count": null,
   "id": "47a7ff6d-5655-4762-86d5-0aa1d3ce16ab",
   "metadata": {
    "tags": []
   },
   "outputs": [],
   "source": [
    "y_pred_test = scaler.inverse_transform(y_pred)"
   ]
  },
  {
   "cell_type": "code",
   "execution_count": null,
   "id": "2aa12c60-0db7-4956-9774-49c11c9b414c",
   "metadata": {
    "tags": []
   },
   "outputs": [],
   "source": [
    "y_pred_test[0][0]"
   ]
  },
  {
   "cell_type": "code",
   "execution_count": null,
   "id": "b7868413-e439-4a32-8dac-b9bd86900552",
   "metadata": {
    "tags": []
   },
   "outputs": [],
   "source": [
    "import tensorflow as tf\n",
    "\n",
    "print(tf.__version__)"
   ]
  },
  {
   "cell_type": "code",
   "execution_count": null,
   "id": "c04a447f-1fd1-44ab-8557-395c0220abbd",
   "metadata": {
    "tags": []
   },
   "outputs": [],
   "source": [
    "# y_test와 y_pred를 numpy 배열로 변환합니다.\n",
    "# 정규화 하지 않은 데이터\n",
    "y_test_arr = np.array(y_test)\n",
    "y_pred_arr = np.array(y_pred)\n",
    "\n",
    "# 값들을 비교하면서 출력합니다.\n",
    "for i in range(50):\n",
    "    print(\"Actual:\", y_test_arr[i], \"Predicted:\", y_pred_arr[i])"
   ]
  },
  {
   "cell_type": "code",
   "execution_count": null,
   "id": "05ec8575-a3b0-4184-af0c-b3f8da4de22b",
   "metadata": {
    "tags": []
   },
   "outputs": [],
   "source": [
    "# y_test와 y_pred를 numpy 배열로 변환합니다.\n",
    "# 정규화 한 데이터\n",
    "\n",
    "# 원래 스케일로 되돌리기\n",
    "# y_test = scaler.inverse_transform(y_test)\n",
    "# y_pred = scaler.inverse_transform(y_pred)\n",
    "\n",
    "# y_test_arr = np.array(y_test)\n",
    "# y_pred_arr = np.array(y_pred)\n",
    "\n",
    "# 값들을 비교하면서 출력합니다.\n",
    "for i in range(40):\n",
    "    print(\"Actual:\", y_test_arr[i], \"Predicted:\", y_pred_arr[i])"
   ]
  },
  {
   "cell_type": "code",
   "execution_count": null,
   "id": "51e11ef7-d811-43bd-934d-3e16b4967934",
   "metadata": {
    "tags": []
   },
   "outputs": [],
   "source": [
    "from sklearn.metrics import r2_score\n",
    "\n",
    "r2 = r2_score(y_test, y_pred)\n",
    "print(\"R^2 Score:\", r2)"
   ]
  },
  {
   "cell_type": "code",
   "execution_count": null,
   "id": "7c42e339-0562-432f-8e3e-3db45cd3ef8f",
   "metadata": {
    "tags": []
   },
   "outputs": [],
   "source": [
    "mse = model.evaluate(X_test, y_test)\n",
    "print(\"Mean Squared Error:\", mse)"
   ]
  },
  {
   "cell_type": "code",
   "execution_count": null,
   "id": "5767c463-309e-48b2-b49b-d8fb6fb6426a",
   "metadata": {},
   "outputs": [],
   "source": []
  },
  {
   "cell_type": "code",
   "execution_count": null,
   "id": "a22dd2c1-8112-498e-88af-a4593265fb17",
   "metadata": {},
   "outputs": [],
   "source": []
  }
 ],
 "metadata": {
  "kernelspec": {
   "display_name": "venv1",
   "language": "python",
   "name": "venv"
  },
  "language_info": {
   "codemirror_mode": {
    "name": "ipython",
    "version": 3
   },
   "file_extension": ".py",
   "mimetype": "text/x-python",
   "name": "python",
   "nbconvert_exporter": "python",
   "pygments_lexer": "ipython3",
   "version": "3.10.10"
  }
 },
 "nbformat": 4,
 "nbformat_minor": 5
}
