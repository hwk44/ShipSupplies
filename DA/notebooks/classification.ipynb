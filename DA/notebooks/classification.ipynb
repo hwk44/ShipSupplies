{
 "cells": [
  {
   "cell_type": "code",
   "execution_count": 1,
   "id": "1366c7ef-ab33-46a1-a42e-752ba52ceb90",
   "metadata": {
    "tags": []
   },
   "outputs": [],
   "source": [
    "import pandas as pd\n",
    "import numpy as np\n",
    "\n",
    "from sklearn.metrics import accuracy_score\n",
    "from sklearn.ensemble import GradientBoostingClassifier\n",
    "\n",
    "from sklearn.model_selection import GridSearchCV\n",
    "from sklearn.metrics import make_scorer\n",
    "\n",
    "\n",
    "from xgboost import XGBClassifier\n",
    "from xgboost import plot_importance\n",
    "\n",
    "import matplotlib.pyplot as plt\n",
    "import seaborn as sns"
   ]
  },
  {
   "cell_type": "code",
   "execution_count": 3,
   "id": "d213c00f-cf6b-4163-9c4d-7edfa03ed7a6",
   "metadata": {
    "tags": []
   },
   "outputs": [],
   "source": [
    "df = pd.read_csv('../data/raw_postpro.csv')\n",
    "# df.head()\n",
    "# df2 = df[[\"Machinery\", 'Assembly']]\n",
    "# df2"
   ]
  },
  {
   "cell_type": "code",
   "execution_count": 5,
   "id": "1f5d6238-eb85-4b15-b60d-aa8b6acff1d7",
   "metadata": {
    "tags": []
   },
   "outputs": [],
   "source": [
    "# sns.countplot(x='key2', data=df)"
   ]
  },
  {
   "cell_type": "code",
   "execution_count": 6,
   "id": "c14f57e6-3315-412b-bf58-d0fd5305a4b4",
   "metadata": {
    "tags": []
   },
   "outputs": [],
   "source": [
    "# df['key2'].mode()\n",
    "# grouped_df = df.groupby('key2')\n",
    "# grouped_df.head()\n",
    "# grouped_df[['Subject','Machinery', 'Assembly', '청구품목']].head()\n",
    "# series1 = grouped_df['청구서번호'].count()\n",
    "# series1.iloc[:,]"
   ]
  },
  {
   "cell_type": "code",
   "execution_count": 7,
   "id": "b8717f36-5bf9-4991-bef5-b54328819684",
   "metadata": {
    "tags": []
   },
   "outputs": [],
   "source": [
    "\n",
    "# plt.bar(grouped_df['청구서번호'].count().index,grouped_df['청구서번호'].count())\n",
    "# plt.xlabel(\"key2\")\n",
    "# plt.ylabel('count')\n",
    "# plt.xticks(rotation=45)\n",
    "# plt.ylim(500,4200)\n",
    "# # 특정 품목만 많이 청구됨"
   ]
  },
  {
   "cell_type": "code",
   "execution_count": 8,
   "id": "04c6bf33-811f-4a3a-b915-0ef020a94b40",
   "metadata": {
    "tags": []
   },
   "outputs": [],
   "source": [
    "from sklearn.model_selection import train_test_split\n",
    "from sklearn import preprocessing\n",
    "\n",
    "le = preprocessing.LabelEncoder()\n",
    "df = df.apply(le.fit_transform)\n",
    "\n",
    "X = df[['Machinery', 'Assembly' , \"Part No.1\",\"청구품목\"]]\n",
    "y = df[\"key2\"]\n",
    "X_train, X_test, y_train, y_test = train_test_split(X, y, random_state=40, shuffle=True, test_size=0.2)"
   ]
  },
  {
   "cell_type": "code",
   "execution_count": 9,
   "id": "839cd159",
   "metadata": {
    "tags": []
   },
   "outputs": [
    {
     "data": {
      "text/html": [
       "<div>\n",
       "<style scoped>\n",
       "    .dataframe tbody tr th:only-of-type {\n",
       "        vertical-align: middle;\n",
       "    }\n",
       "\n",
       "    .dataframe tbody tr th {\n",
       "        vertical-align: top;\n",
       "    }\n",
       "\n",
       "    .dataframe thead th {\n",
       "        text-align: right;\n",
       "    }\n",
       "</style>\n",
       "<table border=\"1\" class=\"dataframe\">\n",
       "  <thead>\n",
       "    <tr style=\"text-align: right;\">\n",
       "      <th></th>\n",
       "      <th>Machinery</th>\n",
       "      <th>Assembly</th>\n",
       "      <th>Part No.1</th>\n",
       "      <th>청구품목</th>\n",
       "    </tr>\n",
       "  </thead>\n",
       "  <tbody>\n",
       "    <tr>\n",
       "      <th>15</th>\n",
       "      <td>26</td>\n",
       "      <td>1390</td>\n",
       "      <td>4821</td>\n",
       "      <td>5510</td>\n",
       "    </tr>\n",
       "    <tr>\n",
       "      <th>16</th>\n",
       "      <td>26</td>\n",
       "      <td>1390</td>\n",
       "      <td>5134</td>\n",
       "      <td>4916</td>\n",
       "    </tr>\n",
       "    <tr>\n",
       "      <th>17</th>\n",
       "      <td>26</td>\n",
       "      <td>1390</td>\n",
       "      <td>5760</td>\n",
       "      <td>5510</td>\n",
       "    </tr>\n",
       "    <tr>\n",
       "      <th>18</th>\n",
       "      <td>148</td>\n",
       "      <td>1248</td>\n",
       "      <td>1703</td>\n",
       "      <td>1899</td>\n",
       "    </tr>\n",
       "    <tr>\n",
       "      <th>19</th>\n",
       "      <td>148</td>\n",
       "      <td>1248</td>\n",
       "      <td>1703</td>\n",
       "      <td>1887</td>\n",
       "    </tr>\n",
       "    <tr>\n",
       "      <th>20</th>\n",
       "      <td>148</td>\n",
       "      <td>1248</td>\n",
       "      <td>1833</td>\n",
       "      <td>2544</td>\n",
       "    </tr>\n",
       "  </tbody>\n",
       "</table>\n",
       "</div>"
      ],
      "text/plain": [
       "    Machinery  Assembly  Part No.1  청구품목\n",
       "15         26      1390       4821  5510\n",
       "16         26      1390       5134  4916\n",
       "17         26      1390       5760  5510\n",
       "18        148      1248       1703  1899\n",
       "19        148      1248       1703  1887\n",
       "20        148      1248       1833  2544"
      ]
     },
     "execution_count": 9,
     "metadata": {},
     "output_type": "execute_result"
    }
   ],
   "source": [
    "X.iloc[15:21,:]"
   ]
  },
  {
   "cell_type": "code",
   "execution_count": 10,
   "id": "d65329da",
   "metadata": {
    "tags": []
   },
   "outputs": [
    {
     "data": {
      "text/plain": [
       "15     4\n",
       "16     4\n",
       "17    25\n",
       "18    25\n",
       "19    25\n",
       "20    25\n",
       "Name: key2, dtype: int32"
      ]
     },
     "execution_count": 10,
     "metadata": {},
     "output_type": "execute_result"
    }
   ],
   "source": [
    "y[15:21]"
   ]
  },
  {
   "cell_type": "markdown",
   "id": "e610dab2-4672-4d45-bfd4-27c0eb9307ee",
   "metadata": {},
   "source": [
    "# CategoricalNB"
   ]
  },
  {
   "cell_type": "code",
   "execution_count": 11,
   "id": "5314d7e1-d92c-487a-a899-2a5d918cf5de",
   "metadata": {
    "tags": []
   },
   "outputs": [],
   "source": [
    "import numpy as np\n",
    "from sklearn.naive_bayes import CategoricalNB\n",
    " \n",
    "rng = np.random.RandomState(100)\n",
    "clf = CategoricalNB(alpha=0.1).fit(X_train, y_train) \n",
    "## alpha : Laplace Smoothing 파라미터"
   ]
  },
  {
   "cell_type": "code",
   "execution_count": 12,
   "id": "d96fa09a-2e62-48d6-abdf-59dd097be1f1",
   "metadata": {
    "tags": []
   },
   "outputs": [
    {
     "data": {
      "text/plain": [
       "array([20, 33, 45, ..., 40, 50, 57])"
      ]
     },
     "execution_count": 12,
     "metadata": {},
     "output_type": "execute_result"
    }
   ],
   "source": [
    "y_pred = clf.predict(X_train)\n",
    "y_pred"
   ]
  },
  {
   "cell_type": "code",
   "execution_count": 13,
   "id": "2c3222af-d0b7-424f-9f4b-7e53c9a89c05",
   "metadata": {
    "tags": []
   },
   "outputs": [
    {
     "name": "stdout",
     "output_type": "stream",
     "text": [
      "{'alpha': 0.1, 'class_prior': None, 'fit_prior': True, 'force_alpha': 'warn', 'min_categories': None}\n",
      "정확도 :  0.968561506123195\n",
      "정확도 :  0.7775341130604289\n"
     ]
    }
   ],
   "source": [
    "print(clf.get_params()) ## CategoricalNB 클래스 인자 설정 정보\n",
    "print('정확도 : ', clf.score(X_train,y_train)) ## 성능 평가 점수(Accuracy\n",
    "print('정확도 : ', clf.score(X_test,y_test)) ## 성능 평가 점수(Accuracy"
   ]
  },
  {
   "cell_type": "code",
   "execution_count": 14,
   "id": "8c05ba09-f341-4687-8d62-0e74156745ef",
   "metadata": {
    "tags": []
   },
   "outputs": [
    {
     "data": {
      "text/plain": [
       "0.968561506123195"
      ]
     },
     "execution_count": 14,
     "metadata": {},
     "output_type": "execute_result"
    }
   ],
   "source": [
    "clf.score(X_train, y_train)"
   ]
  },
  {
   "cell_type": "code",
   "execution_count": 15,
   "id": "23f5c0d3",
   "metadata": {
    "tags": []
   },
   "outputs": [
    {
     "name": "stdout",
     "output_type": "stream",
     "text": [
      "MSE:  36.343276307452356\n",
      "F1-score: 0.779383691454742\n"
     ]
    }
   ],
   "source": [
    "from sklearn.metrics import f1_score\n",
    "# 모델 평가\n",
    "from sklearn.metrics import mean_squared_error, r2_score\n",
    "y_pred = clf.predict(X)\n",
    "mse = mean_squared_error(y, y_pred)\n",
    "\n",
    "\n",
    "# 모델 예측\n",
    "y_pred = clf.predict(X_test)\n",
    "\n",
    "# mse 값 계산\n",
    "print(\"MSE: \", mse)\n",
    "\n",
    "# F1-score 계산\n",
    "f1 = f1_score(y_test, y_pred, average='weighted')\n",
    "print(\"F1-score:\", f1)\n"
   ]
  },
  {
   "cell_type": "markdown",
   "id": "a57da5b6",
   "metadata": {},
   "source": [
    "# OneVsRestClassifier"
   ]
  },
  {
   "cell_type": "markdown",
   "id": "13886bb6-b564-456d-96dd-fe494e9523ed",
   "metadata": {},
   "source": [
    "# LogisticRegression"
   ]
  },
  {
   "cell_type": "markdown",
   "id": "93398934",
   "metadata": {},
   "source": [
    "## Tree"
   ]
  },
  {
   "cell_type": "code",
   "execution_count": 17,
   "id": "688c9e8b",
   "metadata": {
    "tags": []
   },
   "outputs": [],
   "source": [
    "from sklearn import preprocessing\n",
    "from sklearn.tree import DecisionTreeClassifier\n",
    "import numpy as np\n",
    "import pandas as pd\n",
    "\n",
    "df = pd.read_csv('../data/raw_postpro.csv')\n",
    "\n",
    "df = df.apply(preprocessing.LabelEncoder().fit_transform)\n",
    "X = df[['Machinery', 'Assembly' , \"Part No.1\",\"청구품목\"]]\n",
    "y = df[\"key2\"]\n",
    "X_train, X_test, y_train, y_test = train_test_split(X, y, random_state=40, shuffle=True, test_size=0.2)"
   ]
  },
  {
   "cell_type": "code",
   "execution_count": 18,
   "id": "87aee0d7",
   "metadata": {
    "tags": []
   },
   "outputs": [
    {
     "name": "stdout",
     "output_type": "stream",
     "text": [
      "훈련 세트 정확도 : 0.974\n",
      "테스트 세트 정확도 : 0.755\n"
     ]
    }
   ],
   "source": [
    "tree = DecisionTreeClassifier(max_depth=24, random_state= 0) # 트리 생성\n",
    "tree.fit(X_train, y_train)\n",
    "print(\"훈련 세트 정확도 : {:.3f}\".format(tree.score(X_train,y_train)))\n",
    "print(\"테스트 세트 정확도 : {:.3f}\".format(tree.score(X_test,y_test))) "
   ]
  },
  {
   "cell_type": "code",
   "execution_count": 19,
   "id": "554d1c65",
   "metadata": {
    "tags": []
   },
   "outputs": [
    {
     "name": "stdout",
     "output_type": "stream",
     "text": [
      "F1-score: 0.7540515071387015\n"
     ]
    }
   ],
   "source": [
    "from sklearn.metrics import f1_score\n",
    "\n",
    "# 모델 예측\n",
    "y_pred = tree.predict(X_test)\n",
    "\n",
    "# F1-score 계산\n",
    "f1 = f1_score(y_test, y_pred, average='weighted')\n",
    "print(\"F1-score:\", f1)\n"
   ]
  },
  {
   "cell_type": "code",
   "execution_count": null,
   "id": "501dad98",
   "metadata": {},
   "outputs": [],
   "source": []
  },
  {
   "cell_type": "markdown",
   "id": "3a4425f8",
   "metadata": {},
   "source": [
    "## Xgboost : softmax"
   ]
  },
  {
   "cell_type": "code",
   "execution_count": 20,
   "id": "f2a821c4",
   "metadata": {
    "tags": []
   },
   "outputs": [
    {
     "name": "stdout",
     "output_type": "stream",
     "text": [
      "Accuracy: 0.8450292397660819\n"
     ]
    }
   ],
   "source": [
    "import xgboost as xgb\n",
    "from sklearn.model_selection import train_test_split\n",
    "from sklearn.metrics import accuracy_score\n",
    "\n",
    "# 학습 데이터와 테스트 데이터 분리\n",
    "X_train, X_test, y_train, y_test = train_test_split(X, y, test_size=0.2, random_state=42)\n",
    "\n",
    "# xgboost 모델 생성\n",
    "model = xgb.XGBClassifier(objective='multi:softmax', num_class=61)\n",
    "\n",
    "# 모델 학습\n",
    "model.fit(X_train, y_train)\n",
    "\n",
    "# 예측 결과 출력\n",
    "y_pred = model.predict(X_test)\n",
    "print(\"Accuracy:\", accuracy_score(y_test, y_pred))\n"
   ]
  },
  {
   "cell_type": "code",
   "execution_count": 21,
   "id": "c4c06595",
   "metadata": {
    "tags": []
   },
   "outputs": [
    {
     "name": "stdout",
     "output_type": "stream",
     "text": [
      "F1-score: 0.843450153794426\n"
     ]
    }
   ],
   "source": [
    "from sklearn.metrics import f1_score\n",
    "\n",
    "# 모델 예측\n",
    "y_pred = model.predict(X_test)\n",
    "\n",
    "# F1-score 계산\n",
    "f1 = f1_score(y_test, y_pred, average='weighted')\n",
    "print(\"F1-score:\", f1)\n"
   ]
  }
 ],
 "metadata": {
  "kernelspec": {
   "display_name": "Python 3 (ipykernel)",
   "language": "python",
   "name": "python3"
  },
  "language_info": {
   "codemirror_mode": {
    "name": "ipython",
    "version": 3
   },
   "file_extension": ".py",
   "mimetype": "text/x-python",
   "name": "python",
   "nbconvert_exporter": "python",
   "pygments_lexer": "ipython3",
   "version": "3.10.10"
  }
 },
 "nbformat": 4,
 "nbformat_minor": 5
}
