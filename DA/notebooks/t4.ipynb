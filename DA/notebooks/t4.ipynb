{
 "cells": [
  {
   "cell_type": "code",
   "execution_count": 2,
   "id": "90095c98-7ca8-4baf-ba1c-0c6541523a6b",
   "metadata": {
    "tags": []
   },
   "outputs": [],
   "source": [
    "import torch\n",
    "\n",
    "from transformers import BertTokenizer\n",
    "from transformers import BertForSequenceClassification, AdamW, BertConfig\n",
    "from transformers import get_linear_schedule_with_warmup\n",
    "from torch.utils.data import TensorDataset, DataLoader, RandomSampler, SequentialSampler\n",
    "# from keras.preprocessing.sequence import pad_sequences\n",
    "from tensorflow.keras.preprocessing.sequence import pad_sequences\n",
    "from sklearn.model_selection import train_test_split\n",
    "\n",
    "import pandas as pd\n",
    "import numpy as np\n",
    "import random\n",
    "import time\n",
    "import datetime\n"
   ]
  },
  {
   "cell_type": "markdown",
   "id": "1cca740a-0855-4564-addc-ca1180295d1f",
   "metadata": {},
   "source": [
    "# data / bert import"
   ]
  },
  {
   "cell_type": "code",
   "execution_count": 9,
   "id": "7bb90c3c-57bd-430d-867a-a45f7e8d765a",
   "metadata": {
    "tags": []
   },
   "outputs": [],
   "source": [
    "data = pd.read_csv('../data/raw_postpro.csv') # 오류가나면 추가해주세요 .encoding = 'cp949'\n",
    "# 컬럼 삭제\n",
    "df = data.drop(['청구서번호','No.',  '선박입고','완료 여부','리드타임_음수제거','청구량','견적','견적수량','견적화폐','견적단가','발주번호','발주','발주수량','발주금액','미입고 기간','리드타임','창고입고','창고입고수량','입고창고','창고출고','창고출고수량','출고선박','출고운반선','선박입고','선박입고수량','완료 여부'], axis=1)"
   ]
  },
  {
   "cell_type": "code",
   "execution_count": 10,
   "id": "e9f9316f-ab06-45af-a50a-c02e325bbf71",
   "metadata": {
    "tags": []
   },
   "outputs": [
    {
     "name": "stdout",
     "output_type": "stream",
     "text": [
      "<class 'pandas.core.frame.DataFrame'>\n",
      "RangeIndex: 20517 entries, 0 to 20516\n",
      "Data columns (total 12 columns):\n",
      " #   Column       Non-Null Count  Dtype \n",
      "---  ------       --------------  ----- \n",
      " 0   Subject      20517 non-null  object\n",
      " 1   Machinery    20517 non-null  object\n",
      " 2   Assembly     20517 non-null  object\n",
      " 3   청구품목         20517 non-null  object\n",
      " 4   Part No.1    20517 non-null  object\n",
      " 5   Part No.2    20517 non-null  object\n",
      " 6   key1         20517 non-null  object\n",
      " 7   key2         20517 non-null  object\n",
      " 8   발주처          20517 non-null  object\n",
      " 9   D/T          20517 non-null  object\n",
      " 10  Control No.  20517 non-null  object\n",
      " 11  leadtime     20517 non-null  int64 \n",
      "dtypes: int64(1), object(11)\n",
      "memory usage: 1.9+ MB\n"
     ]
    }
   ],
   "source": [
    "df.info()"
   ]
  },
  {
   "cell_type": "code",
   "execution_count": 11,
   "id": "1bc38f31-a153-4963-b9eb-08f523a251da",
   "metadata": {
    "tags": []
   },
   "outputs": [],
   "source": [
    "df = df[['청구품목','발주처','Machinery', 'Assembly' , \"key1\",'key2']]\n",
    "# 'Machinery', 'Assembly', '청구품목', 'Part No.1', 'Part No.2', 'key1', '발주처'"
   ]
  },
  {
   "cell_type": "code",
   "execution_count": 12,
   "id": "cf4a415a-27ed-4e04-87bb-b2a5ed4f9a15",
   "metadata": {
    "tags": []
   },
   "outputs": [
    {
     "name": "stdout",
     "output_type": "stream",
     "text": [
      "<class 'pandas.core.frame.DataFrame'>\n",
      "RangeIndex: 20517 entries, 0 to 20516\n",
      "Data columns (total 6 columns):\n",
      " #   Column     Non-Null Count  Dtype \n",
      "---  ------     --------------  ----- \n",
      " 0   청구품목       20517 non-null  object\n",
      " 1   발주처        20517 non-null  object\n",
      " 2   Machinery  20517 non-null  object\n",
      " 3   Assembly   20517 non-null  object\n",
      " 4   key1       20517 non-null  object\n",
      " 5   key2       20517 non-null  object\n",
      "dtypes: object(6)\n",
      "memory usage: 961.9+ KB\n"
     ]
    }
   ],
   "source": [
    "df.info()"
   ]
  },
  {
   "cell_type": "code",
   "execution_count": 13,
   "id": "5f8c9824-50bb-43bd-b4d6-6c367e3695a8",
   "metadata": {
    "tags": []
   },
   "outputs": [],
   "source": [
    "from sklearn import preprocessing\n",
    "label_encoders = {}  # 각 열에 대한 LabelEncoder를 저장하기 위한 딕셔너리\n",
    "columns_to_encode = ['key2']  # 인코딩을 수행할 열의 이름 리스트\n",
    "\n",
    "for column in columns_to_encode:\n",
    "    le = preprocessing.LabelEncoder()\n",
    "    le.fit(df[column])\n",
    "    label_encoders[column] = le # 딕셔너리에 저장\n",
    "    df[column+\"_encoded\"] = le.transform(df[column]) # 새로운 encoding 된 컬럼 추가"
   ]
  },
  {
   "cell_type": "code",
   "execution_count": 14,
   "id": "b867ec64-2fcf-453c-8f27-6cc077521aeb",
   "metadata": {
    "tags": []
   },
   "outputs": [],
   "source": [
    "df = df.drop(['key2'], axis=1)"
   ]
  },
  {
   "cell_type": "code",
   "execution_count": 35,
   "id": "624f4f88-b2b3-4cf0-8a05-df27d06e1a99",
   "metadata": {
    "tags": []
   },
   "outputs": [
    {
     "name": "stdout",
     "output_type": "stream",
     "text": [
      "<class 'pandas.core.frame.DataFrame'>\n",
      "RangeIndex: 20517 entries, 0 to 20516\n",
      "Data columns (total 6 columns):\n",
      " #   Column        Non-Null Count  Dtype \n",
      "---  ------        --------------  ----- \n",
      " 0   청구품목          20517 non-null  object\n",
      " 1   발주처           20517 non-null  object\n",
      " 2   Machinery     20517 non-null  object\n",
      " 3   Assembly      20517 non-null  object\n",
      " 4   key1          20517 non-null  object\n",
      " 5   key2_encoded  20517 non-null  int32 \n",
      "dtypes: int32(1), object(5)\n",
      "memory usage: 881.7+ KB\n"
     ]
    }
   ],
   "source": [
    "df.info()"
   ]
  },
  {
   "cell_type": "code",
   "execution_count": 17,
   "id": "85473fec-a30e-46a3-9db6-93cb0648ffc7",
   "metadata": {
    "tags": []
   },
   "outputs": [],
   "source": [
    "# df_desc = df[[ '청구품목', '발주처']].apply(lambda row: ' '.join(row), axis=1)\n",
    "df_desc = df[[ '청구품목', '발주처','Machinery', 'Assembly' , \"key1\"]].apply(lambda row: ' '.join(row), axis=1)"
   ]
  },
  {
   "cell_type": "code",
   "execution_count": 18,
   "id": "a00d44e3-6aae-42cd-819a-1721c49f26a0",
   "metadata": {
    "tags": []
   },
   "outputs": [],
   "source": [
    "lis = df_desc.values"
   ]
  },
  {
   "cell_type": "code",
   "execution_count": 22,
   "id": "a3760f41-006e-4280-8a85-ab43739de02a",
   "metadata": {
    "tags": []
   },
   "outputs": [
    {
     "name": "stdout",
     "output_type": "stream",
     "text": [
      "SEAL-O-RING-STOR HAEIN Coporation_Cheonan NO.1 GENERATOR ENGINE 323-6480 LINES GP-FUEL  7.00E-275\n",
      "OIL COOLER & LINES HAEIN Coporation_Cheonan NO.2 GENERATOR ENGINE GASKET KIT 7.00E-275\n",
      "WASHER HAEIN Coporation_Cheonan NO.2 GENERATOR ENGINE 285-8374 MANIFOLD GP-EXH  7.00E-275\n",
      "BOLT-HIGH TEMP HAEIN Coporation_Cheonan NO.1 GENERATOR ENGINE 159-8828 TURBO GP 7.00E-275\n",
      "SEAL HAEIN Coporation_Cheonan NO.1 GENERATOR ENGINE 2N4727 INSTRUMNT PANEL GP 7.00E-275\n",
      "CORE CHARGES FOR CYLINDER PACK AS HAEIN Coporation_Cheonan NO.2 GENERATOR ENGINE 8N-6224 PISTON GP-ROD& 7.00E-275\n",
      "PUMP GP-F TFR-REMAN HAEIN Coporation_Cheonan NO.3 GENERATOR ENGINE 8N-6151 PUMP GP-F TFR  7.00E-275\n",
      "GEAR-WTR PUMP DR HAEIN Coporation_Cheonan NO.1 GENERATOR ENGINE 8N-7174 GEAR GP-FRONT  7.00E-275\n",
      "GEAR-WTR PUMP DR HAEIN Coporation_Cheonan NO.3 GENERATOR ENGINE 8N-7174 GEAR GP-FRONT  7.00E-275\n",
      "GEAR-WTR PUMP DR HAEIN Coporation_Cheonan NO.3 GENERATOR ENGINE 8N-7174 GEAR GP-FRONT  7.00E-275\n",
      "GEAR-WTR PUMP DR HAEIN Coporation_Cheonan NO.1 GENERATOR ENGINE 8N-7174 GEAR GP-FRONT  7.00E-275\n",
      "GEAR-WTR PUMP DR HAEIN Coporation_Cheonan NO.1 GENERATOR ENGINE 8N-7174 GEAR GP-FRONT  7.00E-275\n",
      "GEAR-WTR PUMP DR HAEIN Coporation_Cheonan NO.3 GENERATOR ENGINE 8N-7174 GEAR GP-FRONT  7.00E-275\n",
      "IMPELLER (주)정원펌프 NO.1 CONDENSER PUMP PUMP PARTS 3\n",
      "SELF-ALIGNING ROLLER BEARING 대동베아링상사 BOW THRUSTER OVERHAUL PARTS 4.560133\n",
      "TAPERED ROLLER BEARING 대동베아링상사 BOW THRUSTER OVERHAUL PARTS 5.570134\n",
      "SELF-ALIGNING ROLLER BEARING 대동베아링상사 BOW THRUSTER OVERHAUL PARTS 6.580135\n",
      "TAPERED ROLLER BEARING 대동베아링상사 BOW THRUSTER OVERHAUL PARTS 7.59035\n",
      "EXHUAST GAS TEMP. INDICATOR, P5 PIRIOU NAVAL SKIFF BOAT IMPLANTATION INSTRUMENTS 14.9795\n",
      "EXHAUST GAS TEMPERATURE INDICATOR 0 TO 700℃ PIRIOU NAVAL SKIFF BOAT IMPLANTATION INSTRUMENTS 14.9795\n"
     ]
    }
   ],
   "source": [
    "cnt = 0\n",
    "for i in lis:\n",
    "    print(i)\n",
    "    cnt += 1\n",
    "    if cnt == 20:\n",
    "        break"
   ]
  },
  {
   "cell_type": "code",
   "execution_count": 26,
   "id": "2f42837e-21f8-4275-8fa2-3316cb506b05",
   "metadata": {
    "tags": []
   },
   "outputs": [
    {
     "name": "stdout",
     "output_type": "stream",
     "text": [
      "tokenized_texts[0]: ['SE', '##AL', '-', 'O', '-', 'RI', '##NG', '-', 'ST', '##OR', 'H', '##A', '##E', '##IN', 'Cop', '##oration', '_', 'Che', '##onan', 'NO', '.', '1', 'GE', '##NE', '##RA', '##TO', '##R', 'EN', '##GI', '##NE', '323', '-', '648', '##0', 'L', '##INE', '##S', 'GP', '-', 'F', '##UE', '##L', '7', '.', '00', '##E', '-', '275']\n"
     ]
    }
   ],
   "source": [
    "#사전 학습된 BERT multilingual의 토크나이저 활용\n",
    "tokenizer = BertTokenizer.from_pretrained('bert-base-multilingual-cased',do_lower_case=False)\n",
    "tokenized_texts = [tokenizer.tokenize(s) for s in lis]\n",
    "print('tokenized_texts[0]:',tokenized_texts[0])"
   ]
  },
  {
   "cell_type": "code",
   "execution_count": 28,
   "id": "9f432e31-af2c-40f9-894f-3b32682663b5",
   "metadata": {
    "tags": []
   },
   "outputs": [],
   "source": [
    "# 한글이 있는 데이터 확인\n",
    "# tokenized_texts[14]"
   ]
  },
  {
   "cell_type": "code",
   "execution_count": 29,
   "id": "f0eb466e-79ba-4577-a7bb-4e14cd6cce0a",
   "metadata": {
    "tags": []
   },
   "outputs": [],
   "source": [
    "list_len =[len(i) for i in tokenized_texts]"
   ]
  },
  {
   "cell_type": "code",
   "execution_count": 31,
   "id": "9315f2e8-8a7f-4020-8124-28c45e176d3c",
   "metadata": {
    "tags": []
   },
   "outputs": [
    {
     "data": {
      "text/plain": [
       "107"
      ]
     },
     "execution_count": 31,
     "metadata": {},
     "output_type": "execute_result"
    }
   ],
   "source": [
    "max(list_len)"
   ]
  },
  {
   "cell_type": "markdown",
   "id": "017fe188-7291-462b-aad6-68e0ce3cf113",
   "metadata": {},
   "source": [
    "## 문장을 같은 길이로 패딩"
   ]
  },
  {
   "cell_type": "code",
   "execution_count": 32,
   "id": "fed0be89-38e7-491f-9a8e-c4533cf2a141",
   "metadata": {
    "tags": []
   },
   "outputs": [
    {
     "name": "stdout",
     "output_type": "stream",
     "text": [
      "padding\n",
      "input_ids[0]: [ 23056  32002    118    152    118  56658  34065    118  53317  42622\n",
      "    145  10738  11259  27128  94160 101507    168  44131  36233  49307\n",
      "    119    122  62997  93280  29990  60493  11273  31278 100075  93280\n",
      "  28550    118  61485  10929    149  83198  10731  25236    118    143\n",
      "  62674  11369    128    119  11025  11259    118  23896      0      0\n",
      "      0      0      0      0      0      0      0      0      0      0\n",
      "      0      0      0      0      0      0      0      0      0      0\n",
      "      0      0      0      0      0      0      0      0      0      0\n",
      "      0      0      0      0      0      0      0      0      0      0\n",
      "      0      0      0      0      0      0      0      0      0      0\n",
      "      0      0      0      0      0      0      0      0]\n"
     ]
    }
   ],
   "source": [
    "#token들의 max length보다 크게 MAX_LEN을 설정한다. 설정한 MAX_LEN만큼 빈 공간을 0 이 채운다\n",
    "print('padding')\n",
    "MAX_LEN = 108 # 최대 긴 문장이 107개 단어로 구성됨\n",
    "input_ids = [tokenizer.convert_tokens_to_ids(x) for x in tokenized_texts]\n",
    "input_ids = pad_sequences(input_ids, maxlen = MAX_LEN, dtype='long', truncating='post', padding='post')\n",
    "input_ids[0]\n",
    "print('input_ids[0]:',input_ids[0])"
   ]
  },
  {
   "cell_type": "code",
   "execution_count": 33,
   "id": "7a06325e-cd2f-46e2-9311-e11baa412c26",
   "metadata": {
    "tags": []
   },
   "outputs": [
    {
     "name": "stdout",
     "output_type": "stream",
     "text": [
      "attention_masks[0]: [1.0, 1.0, 1.0, 1.0, 1.0, 1.0, 1.0, 1.0, 1.0, 1.0, 1.0, 1.0, 1.0, 1.0, 1.0, 1.0, 1.0, 1.0, 1.0, 1.0, 1.0, 1.0, 1.0, 1.0, 1.0, 1.0, 1.0, 1.0, 1.0, 1.0, 1.0, 1.0, 1.0, 1.0, 1.0, 1.0, 1.0, 1.0, 1.0, 1.0, 1.0, 1.0, 1.0, 1.0, 1.0, 1.0, 1.0, 1.0, 0.0, 0.0, 0.0, 0.0, 0.0, 0.0, 0.0, 0.0, 0.0, 0.0, 0.0, 0.0, 0.0, 0.0, 0.0, 0.0, 0.0, 0.0, 0.0, 0.0, 0.0, 0.0, 0.0, 0.0, 0.0, 0.0, 0.0, 0.0, 0.0, 0.0, 0.0, 0.0, 0.0, 0.0, 0.0, 0.0, 0.0, 0.0, 0.0, 0.0, 0.0, 0.0, 0.0, 0.0, 0.0, 0.0, 0.0, 0.0, 0.0, 0.0, 0.0, 0.0, 0.0, 0.0, 0.0, 0.0, 0.0, 0.0, 0.0, 0.0]\n"
     ]
    }
   ],
   "source": [
    "#학습 속도를 높이기 위해 실 데이터가 있는 곳과 padding이 있는곳을 attention에게 알려줌\n",
    "\n",
    "attention_masks = []\n",
    "\n",
    "for seq in input_ids:\n",
    "    seq_mask = [float(i>0) for i in seq]\n",
    "    attention_masks.append(seq_mask)\n",
    "\n",
    "print('attention_masks[0]:',attention_masks[0])"
   ]
  },
  {
   "cell_type": "code",
   "execution_count": 39,
   "id": "97d75524-b07d-4869-acc1-6b3934b2793d",
   "metadata": {
    "tags": []
   },
   "outputs": [],
   "source": [
    "# df"
   ]
  },
  {
   "cell_type": "code",
   "execution_count": 37,
   "id": "12c98a88-8171-40f9-aabb-d9fcfd51af97",
   "metadata": {
    "tags": []
   },
   "outputs": [],
   "source": [
    "y = df['key2_encoded'].values"
   ]
  },
  {
   "cell_type": "code",
   "execution_count": 38,
   "id": "ad4663dc-e303-405f-b328-f3698b18c4a2",
   "metadata": {
    "tags": []
   },
   "outputs": [
    {
     "data": {
      "text/plain": [
       "array([18, 18, 18, ...,  5, 20, 20])"
      ]
     },
     "execution_count": 38,
     "metadata": {},
     "output_type": "execute_result"
    }
   ],
   "source": [
    "y"
   ]
  },
  {
   "cell_type": "code",
   "execution_count": 40,
   "id": "aaba35d2-02d7-4f1b-adf5-633acbfb54fc",
   "metadata": {
    "tags": []
   },
   "outputs": [
    {
     "name": "stdout",
     "output_type": "stream",
     "text": [
      "split train - val\n"
     ]
    }
   ],
   "source": [
    "# 순서 뒤섞이지 않도록 random_state를 일정하게 고정.\n",
    "# test set은 위에서 분리되었기에 , train 과 validation set만 분리\n",
    "print('split train - val')\n",
    "train_inputs, test_inputs, train_labels, test_labels = \\\n",
    "train_test_split(input_ids, y, random_state=42, test_size=0.2)\n",
    "\n",
    "train_masks, validation_masks, _, _ = train_test_split(attention_masks, input_ids, random_state=42,test_size=0.2)"
   ]
  },
  {
   "cell_type": "code",
   "execution_count": 41,
   "id": "921d2982-a70d-4efc-affe-4f3df6550449",
   "metadata": {
    "tags": []
   },
   "outputs": [
    {
     "name": "stderr",
     "output_type": "stream",
     "text": [
      "Downloading model.safetensors:   6%|█████▍                                                                                       | 41.9M/714M [00:10<02:52, 3.91MB/s]\n",
      "KeyboardInterrupt\n",
      "\n",
      "Downloading model.safetensors:   6%|█████▍                                                                                       | 41.9M/714M [00:28<02:52, 3.91MB/s]"
     ]
    }
   ],
   "source": [
    "model = BertForSequenceClassification.from_pretrained(\"bert-base-multilingual-cased\", num_labels=61)"
   ]
  },
  {
   "cell_type": "code",
   "execution_count": null,
   "id": "fe30c846-19c4-4f57-9761-609ad8a0a086",
   "metadata": {},
   "outputs": [],
   "source": []
  }
 ],
 "metadata": {
  "kernelspec": {
   "display_name": "venv1",
   "language": "python",
   "name": "venv"
  },
  "language_info": {
   "codemirror_mode": {
    "name": "ipython",
    "version": 3
   },
   "file_extension": ".py",
   "mimetype": "text/x-python",
   "name": "python",
   "nbconvert_exporter": "python",
   "pygments_lexer": "ipython3",
   "version": "3.10.10"
  }
 },
 "nbformat": 4,
 "nbformat_minor": 5
}
