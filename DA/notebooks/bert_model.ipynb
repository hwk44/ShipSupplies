{
 "cells": [
  {
   "cell_type": "code",
   "execution_count": 1,
   "id": "261a7657-6dcc-4c74-846b-7753ca0445d5",
   "metadata": {
    "tags": []
   },
   "outputs": [
    {
     "name": "stderr",
     "output_type": "stream",
     "text": [
      "C:\\workspace\\ShipSupplies\\venv\\lib\\site-packages\\tqdm\\auto.py:21: TqdmWarning: IProgress not found. Please update jupyter and ipywidgets. See https://ipywidgets.readthedocs.io/en/stable/user_install.html\n",
      "  from .autonotebook import tqdm as notebook_tqdm\n"
     ]
    }
   ],
   "source": [
    "import torch\n",
    "\n",
    "from transformers import BertTokenizer\n",
    "from transformers import BertForSequenceClassification, AdamW, BertConfig\n",
    "from transformers import get_linear_schedule_with_warmup\n",
    "from torch.utils.data import TensorDataset, DataLoader, RandomSampler, SequentialSampler\n",
    "# from keras.preprocessing.sequence import pad_sequences\n",
    "from tensorflow.keras.preprocessing.sequence import pad_sequences\n",
    "from sklearn.model_selection import train_test_split\n",
    "\n",
    "import pandas as pd\n",
    "import numpy as np\n",
    "import random\n",
    "import time\n",
    "import datetime\n"
   ]
  },
  {
   "cell_type": "code",
   "execution_count": 39,
   "id": "34205099-9c8f-4da3-8d26-468721d091db",
   "metadata": {
    "tags": []
   },
   "outputs": [
    {
     "name": "stdout",
     "output_type": "stream",
     "text": [
      "사용 가능한 GPU가 없습니다.\n"
     ]
    }
   ],
   "source": [
    "# import tensorflow as tf\n",
    "\n",
    "# # GPU 디바이스 목록 가져오기\n",
    "# gpu_devices = tf.config.list_physical_devices('GPU')\n",
    "\n",
    "# if len(gpu_devices) > 0:\n",
    "#     print(\"사용 가능한 GPU가 있습니다.\")\n",
    "#     for device in gpu_devices:\n",
    "#         print(\"GPU 디바이스 이름:\", device.name)\n",
    "# else:\n",
    "#     print(\"사용 가능한 GPU가 없습니다.\")\n"
   ]
  },
  {
   "cell_type": "code",
   "execution_count": 42,
   "id": "9fac9baf-fc45-4766-82be-c6d50dfd830e",
   "metadata": {
    "tags": []
   },
   "outputs": [
    {
     "name": "stdout",
     "output_type": "stream",
     "text": [
      "Collecting tensorflow_hub\n",
      "  Downloading tensorflow_hub-0.13.0-py2.py3-none-any.whl (100 kB)\n",
      "                                              0.0/100.6 kB ? eta -:--:--\n",
      "     -----------------------------------     92.2/100.6 kB 5.5 MB/s eta 0:00:01\n",
      "     -------------------------------------- 100.6/100.6 kB 2.9 MB/s eta 0:00:00\n",
      "Requirement already satisfied: numpy>=1.12.0 in c:\\workspace\\shipsupplies\\venv\\lib\\site-packages (from tensorflow_hub) (1.23.5)\n",
      "Requirement already satisfied: protobuf>=3.19.6 in c:\\workspace\\shipsupplies\\venv\\lib\\site-packages (from tensorflow_hub) (3.19.6)\n",
      "Installing collected packages: tensorflow_hub\n",
      "Successfully installed tensorflow_hub-0.13.0\n"
     ]
    }
   ],
   "source": [
    "# !pip install bert-for-tf2\n",
    "# !pip install tensorflow_hub"
   ]
  },
  {
   "cell_type": "code",
   "execution_count": 2,
   "id": "8033901a-87dc-42b1-aaf1-2cda85d9d3d6",
   "metadata": {
    "tags": []
   },
   "outputs": [],
   "source": [
    "import tensorflow_hub as hub\n",
    "from tensorflow.keras import layers\n",
    "import bert"
   ]
  },
  {
   "cell_type": "code",
   "execution_count": 4,
   "id": "3a242748-4045-47c6-8c1c-c61acba156f5",
   "metadata": {
    "tags": []
   },
   "outputs": [],
   "source": [
    "data = pd.read_csv('../data/raw_postpro.csv') # 오류가나면 추가해주세요 .encoding = 'cp949'\n",
    "# 컬럼 삭제\n",
    "df = data.drop(['청구서번호','No.',  '선박입고','완료 여부','리드타임_음수제거','청구량','견적','견적수량','견적화폐','견적단가','발주번호','발주','발주수량','발주금액','미입고 기간','리드타임','창고입고','창고입고수량','입고창고','창고출고','창고출고수량','출고선박','출고운반선','선박입고','선박입고수량','완료 여부'], axis=1)"
   ]
  },
  {
   "cell_type": "code",
   "execution_count": 5,
   "id": "3e7e51b2-e8d8-48c9-b1a7-0fa03ab9e002",
   "metadata": {
    "tags": []
   },
   "outputs": [
    {
     "name": "stdout",
     "output_type": "stream",
     "text": [
      "<class 'pandas.core.frame.DataFrame'>\n",
      "RangeIndex: 20517 entries, 0 to 20516\n",
      "Data columns (total 12 columns):\n",
      " #   Column       Non-Null Count  Dtype \n",
      "---  ------       --------------  ----- \n",
      " 0   Subject      20517 non-null  object\n",
      " 1   Machinery    20517 non-null  object\n",
      " 2   Assembly     20517 non-null  object\n",
      " 3   청구품목         20517 non-null  object\n",
      " 4   Part No.1    20517 non-null  object\n",
      " 5   Part No.2    20517 non-null  object\n",
      " 6   key1         20517 non-null  object\n",
      " 7   key2         20517 non-null  object\n",
      " 8   발주처          20517 non-null  object\n",
      " 9   D/T          20517 non-null  object\n",
      " 10  Control No.  20517 non-null  object\n",
      " 11  leadtime     20517 non-null  int64 \n",
      "dtypes: int64(1), object(11)\n",
      "memory usage: 1.9+ MB\n"
     ]
    }
   ],
   "source": [
    "df.info()"
   ]
  },
  {
   "cell_type": "code",
   "execution_count": 6,
   "id": "e0ac12f6-2aec-4362-b507-d8db659ddb7f",
   "metadata": {
    "tags": []
   },
   "outputs": [],
   "source": [
    "df = df[['청구품목','발주처','Machinery', 'Assembly' , \"key1\",'key2']]\n",
    "# 'Machinery', 'Assembly', '청구품목', 'Part No.1', 'Part No.2', 'key1', '발주처'"
   ]
  },
  {
   "cell_type": "code",
   "execution_count": 7,
   "id": "bfa338bd-3298-430c-9534-1f8ddc5a391f",
   "metadata": {
    "tags": []
   },
   "outputs": [],
   "source": [
    "from sklearn import preprocessing\n",
    "label_encoders = {}  # 각 열에 대한 LabelEncoder를 저장하기 위한 딕셔너리\n",
    "columns_to_encode = ['key2']  # 인코딩을 수행할 열의 이름 리스트\n",
    "\n",
    "for column in columns_to_encode:\n",
    "    le = preprocessing.LabelEncoder()\n",
    "    le.fit(df[column])\n",
    "    label_encoders[column] = le # 딕셔너리에 저장\n",
    "    df[column+\"_encoded\"] = le.transform(df[column]) # 새로운 encoding 된 컬럼 추가"
   ]
  },
  {
   "cell_type": "code",
   "execution_count": 8,
   "id": "dd8e6c31-6c1d-46f0-ad58-7ab1ab285a5a",
   "metadata": {
    "tags": []
   },
   "outputs": [],
   "source": [
    "df = df.drop(['key2'], axis=1)"
   ]
  },
  {
   "cell_type": "code",
   "execution_count": 9,
   "id": "e1d21278-dd5e-4229-9b49-159058e996bf",
   "metadata": {
    "tags": []
   },
   "outputs": [
    {
     "name": "stdout",
     "output_type": "stream",
     "text": [
      "<class 'pandas.core.frame.DataFrame'>\n",
      "RangeIndex: 20517 entries, 0 to 20516\n",
      "Data columns (total 6 columns):\n",
      " #   Column        Non-Null Count  Dtype \n",
      "---  ------        --------------  ----- \n",
      " 0   청구품목          20517 non-null  object\n",
      " 1   발주처           20517 non-null  object\n",
      " 2   Machinery     20517 non-null  object\n",
      " 3   Assembly      20517 non-null  object\n",
      " 4   key1          20517 non-null  object\n",
      " 5   key2_encoded  20517 non-null  int32 \n",
      "dtypes: int32(1), object(5)\n",
      "memory usage: 881.7+ KB\n"
     ]
    }
   ],
   "source": [
    "df.info()"
   ]
  },
  {
   "cell_type": "code",
   "execution_count": 10,
   "id": "1644800d-98cf-459d-9811-a594db7e7bfb",
   "metadata": {
    "tags": []
   },
   "outputs": [],
   "source": [
    "# text = df[[ '청구품목', '발주처','Machinery', 'Assembly' , \"key1\"]].apply(lambda row: ' '.join(row), axis=1)\n",
    "df_text = df[['청구품목', '발주처', 'Machinery', 'Assembly', 'key1']].apply(lambda row: ' '.join(row), axis=1).to_frame(name='text')\n",
    "df_text['key2'] = df['key2_encoded']"
   ]
  },
  {
   "cell_type": "code",
   "execution_count": 11,
   "id": "ed53b922-d2f1-473d-b234-b725c024dd66",
   "metadata": {
    "tags": []
   },
   "outputs": [
    {
     "data": {
      "text/html": [
       "<div>\n",
       "<style scoped>\n",
       "    .dataframe tbody tr th:only-of-type {\n",
       "        vertical-align: middle;\n",
       "    }\n",
       "\n",
       "    .dataframe tbody tr th {\n",
       "        vertical-align: top;\n",
       "    }\n",
       "\n",
       "    .dataframe thead th {\n",
       "        text-align: right;\n",
       "    }\n",
       "</style>\n",
       "<table border=\"1\" class=\"dataframe\">\n",
       "  <thead>\n",
       "    <tr style=\"text-align: right;\">\n",
       "      <th></th>\n",
       "      <th>text</th>\n",
       "      <th>key2</th>\n",
       "    </tr>\n",
       "  </thead>\n",
       "  <tbody>\n",
       "    <tr>\n",
       "      <th>0</th>\n",
       "      <td>SEAL-O-RING-STOR HAEIN Coporation_Cheonan NO.1...</td>\n",
       "      <td>18</td>\n",
       "    </tr>\n",
       "    <tr>\n",
       "      <th>1</th>\n",
       "      <td>OIL COOLER &amp; LINES HAEIN Coporation_Cheonan NO...</td>\n",
       "      <td>18</td>\n",
       "    </tr>\n",
       "    <tr>\n",
       "      <th>2</th>\n",
       "      <td>WASHER HAEIN Coporation_Cheonan NO.2 GENERATOR...</td>\n",
       "      <td>18</td>\n",
       "    </tr>\n",
       "    <tr>\n",
       "      <th>3</th>\n",
       "      <td>BOLT-HIGH TEMP HAEIN Coporation_Cheonan NO.1 G...</td>\n",
       "      <td>18</td>\n",
       "    </tr>\n",
       "    <tr>\n",
       "      <th>4</th>\n",
       "      <td>SEAL HAEIN Coporation_Cheonan NO.1 GENERATOR E...</td>\n",
       "      <td>18</td>\n",
       "    </tr>\n",
       "    <tr>\n",
       "      <th>5</th>\n",
       "      <td>CORE CHARGES FOR CYLINDER PACK AS HAEIN Copora...</td>\n",
       "      <td>18</td>\n",
       "    </tr>\n",
       "    <tr>\n",
       "      <th>6</th>\n",
       "      <td>PUMP GP-F TFR-REMAN HAEIN Coporation_Cheonan N...</td>\n",
       "      <td>18</td>\n",
       "    </tr>\n",
       "    <tr>\n",
       "      <th>7</th>\n",
       "      <td>GEAR-WTR PUMP DR HAEIN Coporation_Cheonan NO.1...</td>\n",
       "      <td>18</td>\n",
       "    </tr>\n",
       "    <tr>\n",
       "      <th>8</th>\n",
       "      <td>GEAR-WTR PUMP DR HAEIN Coporation_Cheonan NO.3...</td>\n",
       "      <td>18</td>\n",
       "    </tr>\n",
       "    <tr>\n",
       "      <th>9</th>\n",
       "      <td>GEAR-WTR PUMP DR HAEIN Coporation_Cheonan NO.3...</td>\n",
       "      <td>18</td>\n",
       "    </tr>\n",
       "    <tr>\n",
       "      <th>10</th>\n",
       "      <td>GEAR-WTR PUMP DR HAEIN Coporation_Cheonan NO.1...</td>\n",
       "      <td>18</td>\n",
       "    </tr>\n",
       "    <tr>\n",
       "      <th>11</th>\n",
       "      <td>GEAR-WTR PUMP DR HAEIN Coporation_Cheonan NO.1...</td>\n",
       "      <td>18</td>\n",
       "    </tr>\n",
       "    <tr>\n",
       "      <th>12</th>\n",
       "      <td>GEAR-WTR PUMP DR HAEIN Coporation_Cheonan NO.3...</td>\n",
       "      <td>18</td>\n",
       "    </tr>\n",
       "    <tr>\n",
       "      <th>13</th>\n",
       "      <td>IMPELLER (주)정원펌프 NO.1 CONDENSER PUMP PUMP PARTS 3</td>\n",
       "      <td>45</td>\n",
       "    </tr>\n",
       "    <tr>\n",
       "      <th>14</th>\n",
       "      <td>SELF-ALIGNING ROLLER BEARING 대동베아링상사 BOW THRUS...</td>\n",
       "      <td>4</td>\n",
       "    </tr>\n",
       "    <tr>\n",
       "      <th>15</th>\n",
       "      <td>TAPERED ROLLER BEARING 대동베아링상사 BOW THRUSTER OV...</td>\n",
       "      <td>4</td>\n",
       "    </tr>\n",
       "    <tr>\n",
       "      <th>16</th>\n",
       "      <td>SELF-ALIGNING ROLLER BEARING 대동베아링상사 BOW THRUS...</td>\n",
       "      <td>4</td>\n",
       "    </tr>\n",
       "    <tr>\n",
       "      <th>17</th>\n",
       "      <td>TAPERED ROLLER BEARING 대동베아링상사 BOW THRUSTER OV...</td>\n",
       "      <td>25</td>\n",
       "    </tr>\n",
       "    <tr>\n",
       "      <th>18</th>\n",
       "      <td>EXHUAST GAS TEMP. INDICATOR, P5 PIRIOU NAVAL S...</td>\n",
       "      <td>25</td>\n",
       "    </tr>\n",
       "    <tr>\n",
       "      <th>19</th>\n",
       "      <td>EXHAUST GAS TEMPERATURE INDICATOR 0 TO 700℃ PI...</td>\n",
       "      <td>25</td>\n",
       "    </tr>\n",
       "  </tbody>\n",
       "</table>\n",
       "</div>"
      ],
      "text/plain": [
       "                                                 text  key2\n",
       "0   SEAL-O-RING-STOR HAEIN Coporation_Cheonan NO.1...    18\n",
       "1   OIL COOLER & LINES HAEIN Coporation_Cheonan NO...    18\n",
       "2   WASHER HAEIN Coporation_Cheonan NO.2 GENERATOR...    18\n",
       "3   BOLT-HIGH TEMP HAEIN Coporation_Cheonan NO.1 G...    18\n",
       "4   SEAL HAEIN Coporation_Cheonan NO.1 GENERATOR E...    18\n",
       "5   CORE CHARGES FOR CYLINDER PACK AS HAEIN Copora...    18\n",
       "6   PUMP GP-F TFR-REMAN HAEIN Coporation_Cheonan N...    18\n",
       "7   GEAR-WTR PUMP DR HAEIN Coporation_Cheonan NO.1...    18\n",
       "8   GEAR-WTR PUMP DR HAEIN Coporation_Cheonan NO.3...    18\n",
       "9   GEAR-WTR PUMP DR HAEIN Coporation_Cheonan NO.3...    18\n",
       "10  GEAR-WTR PUMP DR HAEIN Coporation_Cheonan NO.1...    18\n",
       "11  GEAR-WTR PUMP DR HAEIN Coporation_Cheonan NO.1...    18\n",
       "12  GEAR-WTR PUMP DR HAEIN Coporation_Cheonan NO.3...    18\n",
       "13  IMPELLER (주)정원펌프 NO.1 CONDENSER PUMP PUMP PARTS 3    45\n",
       "14  SELF-ALIGNING ROLLER BEARING 대동베아링상사 BOW THRUS...     4\n",
       "15  TAPERED ROLLER BEARING 대동베아링상사 BOW THRUSTER OV...     4\n",
       "16  SELF-ALIGNING ROLLER BEARING 대동베아링상사 BOW THRUS...     4\n",
       "17  TAPERED ROLLER BEARING 대동베아링상사 BOW THRUSTER OV...    25\n",
       "18  EXHUAST GAS TEMP. INDICATOR, P5 PIRIOU NAVAL S...    25\n",
       "19  EXHAUST GAS TEMPERATURE INDICATOR 0 TO 700℃ PI...    25"
      ]
     },
     "execution_count": 11,
     "metadata": {},
     "output_type": "execute_result"
    }
   ],
   "source": [
    "df_text[:20]"
   ]
  },
  {
   "cell_type": "code",
   "execution_count": 12,
   "id": "1a694a2a-3cff-47b1-8c05-d30d50cb99be",
   "metadata": {
    "tags": []
   },
   "outputs": [
    {
     "name": "stdout",
     "output_type": "stream",
     "text": [
      "['text' 'key2']\n"
     ]
    }
   ],
   "source": [
    "import re\n",
    "def preprocess_text(sen):\n",
    "    sentence = remove_tags(sen)\n",
    "    sentence = re.sub('[^a-zA-Z]', ' ', sentence)\n",
    "    sentence = re.sub(r\"\\s+[a-zA-Z]\\s+\", ' ', sentence)\n",
    "    sentence = re.sub(r'\\s+', ' ', sentence)\n",
    "    return sentence\n",
    "\n",
    "TAG_RE = re.compile(r'<[^>]+>')\n",
    "def remove_tags(text):\n",
    "    return TAG_RE.sub('', text)\n",
    "\n",
    "en_text = []\n",
    "sentences = list(df_text['text'])\n",
    "for sen in sentences:\n",
    "    en_text.append(preprocess_text(sen))\n",
    "\n",
    "print(df_text.columns.values)"
   ]
  },
  {
   "cell_type": "code",
   "execution_count": 23,
   "id": "9bd40d5c-4f5e-4ebf-a48f-e930b433bc33",
   "metadata": {
    "tags": []
   },
   "outputs": [],
   "source": [
    "# en_text"
   ]
  },
  {
   "cell_type": "code",
   "execution_count": 14,
   "id": "9d992cd3-dc1e-40d6-a7ab-2abb16ab4d89",
   "metadata": {
    "tags": []
   },
   "outputs": [],
   "source": [
    "y = df_text.key2.values"
   ]
  },
  {
   "cell_type": "code",
   "execution_count": 15,
   "id": "9d1d5e47-cada-43bd-acae-6d5cb974dfcc",
   "metadata": {
    "tags": []
   },
   "outputs": [
    {
     "data": {
      "text/plain": [
       "array([18, 18, 18, 18, 18, 18, 18, 18, 18, 18, 18, 18, 18, 45,  4,  4,  4,\n",
       "       25, 25, 25])"
      ]
     },
     "execution_count": 15,
     "metadata": {},
     "output_type": "execute_result"
    }
   ],
   "source": [
    "y[:20]"
   ]
  },
  {
   "cell_type": "code",
   "execution_count": 16,
   "id": "18cd8304-3fcd-49fa-bb0b-b1312458a1f3",
   "metadata": {
    "tags": []
   },
   "outputs": [],
   "source": [
    "BertTokenizer = bert.bert_tokenization.FullTokenizer\n",
    "bert_layer = hub.KerasLayer(\"https://tfhub.dev/tensorflow/bert_en_uncased_L-12_H-768_A-12/1\",\n",
    "                            trainable=False)\n",
    "vocabulary_file = bert_layer.resolved_object.vocab_file.asset_path.numpy()\n",
    "to_lower_case = bert_layer.resolved_object.do_lower_case.numpy()\n",
    "tokenizer = BertTokenizer(vocabulary_file, to_lower_case)"
   ]
  },
  {
   "cell_type": "code",
   "execution_count": 17,
   "id": "4692f2b4-1194-4d3b-8b26-d199db459753",
   "metadata": {
    "tags": []
   },
   "outputs": [],
   "source": [
    "# !pip uninstall -y tensorflow"
   ]
  },
  {
   "cell_type": "code",
   "execution_count": 18,
   "id": "16bffe19-c415-4d40-a80e-404697702823",
   "metadata": {
    "tags": []
   },
   "outputs": [],
   "source": [
    "# !pip3 install -U \"tensorflow==2.11.1\""
   ]
  },
  {
   "cell_type": "code",
   "execution_count": 21,
   "id": "0fd4b60f-090a-4376-8c75-1fb94fda3dcc",
   "metadata": {
    "tags": []
   },
   "outputs": [
    {
     "name": "stdout",
     "output_type": "stream",
     "text": [
      "2.11.1\n",
      "C:\\workspace\\ShipSupplies\\venv\\lib\\site-packages\\tensorflow\\__init__.py\n"
     ]
    }
   ],
   "source": [
    "import tensorflow as tf\n",
    "print(tf.__version__)\n",
    "print(tf.__file__)"
   ]
  },
  {
   "cell_type": "code",
   "execution_count": null,
   "id": "5b46cdc6-674f-4b09-af2d-273133e5c2fb",
   "metadata": {},
   "outputs": [],
   "source": []
  },
  {
   "cell_type": "code",
   "execution_count": null,
   "id": "22c3628e-ac27-4afd-a5df-8b7a453e9b9b",
   "metadata": {},
   "outputs": [],
   "source": []
  },
  {
   "cell_type": "code",
   "execution_count": 26,
   "id": "e7ab9103-fa6c-44d8-b7dc-172752e7bf1f",
   "metadata": {
    "tags": []
   },
   "outputs": [],
   "source": [
    "def tokenize_text(text):\n",
    "    return tokenizer.convert_tokens_to_ids(tokenizer.tokenize(text))\n",
    "tokenized_text = [tokenize_text(en) for en in en_text]"
   ]
  },
  {
   "cell_type": "code",
   "execution_count": 39,
   "id": "6ce5a187-7ba8-4da4-abc8-a088c2b5d6e5",
   "metadata": {
    "tags": []
   },
   "outputs": [],
   "source": [
    "# en_text[0],tokenized_text[0]"
   ]
  },
  {
   "cell_type": "code",
   "execution_count": 98,
   "id": "577c517f-ad92-48ea-a83d-4ea1a43f2c44",
   "metadata": {
    "tags": []
   },
   "outputs": [],
   "source": [
    "reviews_with_len = [[text, y[i], len(text)] # 토큰화된 text, key값, text 길이\n",
    "                 for i, text in enumerate(tokenized_text)]\n",
    "# reviews_with_len[:5]"
   ]
  },
  {
   "cell_type": "code",
   "execution_count": 99,
   "id": "8830b0b6-ed95-4c00-be05-e53c09251cf4",
   "metadata": {
    "tags": []
   },
   "outputs": [
    {
     "data": {
      "text/plain": [
       "[[[23365, 3796, 3796, 23365, 3796], 7, 5],\n",
       " [[13354, 5658, 4049, 3194, 20965, 13617], 0, 6],\n",
       " [[5009, 5658, 4049, 3194, 7956, 2132], 57, 6],\n",
       " [[5747, 5658, 4049, 3194, 7956, 3796], 10, 6],\n",
       " [[5009, 5658, 4049, 3194, 7956, 2132], 57, 6],\n",
       " [[16054, 5658, 4049, 3194, 20965, 14027], 8, 6],\n",
       " [[21605, 5658, 4049, 3194, 20965, 13103], 2, 6],\n",
       " [[10053, 5658, 4049, 3194, 7956, 3796], 8, 6],\n",
       " [[3500, 10764, 5658, 4049, 3194, 10764], 50, 6],\n",
       " [[16054, 5658, 4049, 3194, 20965, 14027], 8, 6],\n",
       " [[7744, 5658, 4049, 3194, 1055, 10216], 24, 6],\n",
       " [[7744, 5658, 4049, 3194, 1042, 10216], 24, 6],\n",
       " [[10764, 5658, 4049, 3194, 7956, 2132], 57, 6],\n",
       " [[9093, 7744, 9347, 29329, 8622, 2112], 48, 6],\n",
       " [[10353, 5658, 4049, 3194, 7956, 2132], 19, 6],\n",
       " [[5747, 5658, 4049, 3194, 7956, 3796], 10, 6],\n",
       " [[7744, 5658, 4049, 3194, 6718, 3847], 24, 6],\n",
       " [[10764, 5658, 4049, 3194, 7956, 2132], 57, 6],\n",
       " [[17490, 5658, 4049, 3194, 20965, 13103], 39, 6],\n",
       " [[7744, 5658, 4049, 3194, 6718, 3847], 24, 6],\n",
       " [[17490, 5658, 4049, 3194, 7956, 2132], 39, 6],\n",
       " [[5009, 5658, 4049, 3194, 7956, 2132], 24, 6],\n",
       " [[11220, 7682, 2373, 3796, 2373, 3796], 4, 6],\n",
       " [[3500, 5658, 4049, 3194, 7956, 2132], 50, 6],\n",
       " [[3608, 7682, 2373, 3796, 2373, 3796, 4241], 4, 7],\n",
       " [[9093, 7744, 3143, 9347, 29329, 8622, 2112], 48, 7],\n",
       " [[27000, 16215, 8879, 1044, 25688, 2291, 10122], 23, 7],\n",
       " [[3500, 5658, 4049, 3194, 20965, 7956, 2132], 50, 7],\n",
       " [[7682, 5658, 4049, 7312, 6718, 6434, 9093], 4, 7],\n",
       " [[2491, 16215, 8879, 1044, 25688, 2291, 10122], 17, 7],\n",
       " [[7744, 16215, 8879, 2373, 3796, 2691, 3033], 24, 7],\n",
       " [[5127, 16215, 8879, 8722, 2663, 2818, 13428], 44, 7],\n",
       " [[27000, 16215, 8879, 1044, 25688, 2291, 10122], 23, 7],\n",
       " [[11224, 8892, 5658, 4049, 3194, 4762, 11307], 46, 7],\n",
       " [[5127, 16215, 8879, 8722, 2663, 2818, 13428], 44, 7],\n",
       " [[5127, 16215, 8879, 8722, 2663, 2818, 13428], 44, 7],\n",
       " [[17490, 16215, 8879, 2373, 3796, 2691, 3033], 39, 7],\n",
       " [[17490, 16215, 8879, 2373, 3796, 2691, 3033], 39, 7],\n",
       " [[10764, 16215, 8879, 10122, 10122, 4632, 2100], 57, 7],\n",
       " [[6636, 3796, 2364, 8797, 2309, 3796, 3796], 7, 7],\n",
       " [[11224, 16215, 8879, 8722, 2663, 2818, 13428], 46, 7],\n",
       " [[17727, 24038, 5658, 4049, 3194, 1055, 10216], 45, 7],\n",
       " [[17490, 16215, 8879, 2373, 3796, 2691, 3033], 39, 7],\n",
       " [[5127, 16215, 8879, 8722, 2663, 2818, 13428], 44, 7],\n",
       " [[3500, 10764, 6058, 5658, 4049, 3194, 10764], 50, 7],\n",
       " [[7744, 16215, 8879, 2373, 3796, 2691, 2112], 24, 7],\n",
       " [[10053, 5658, 4049, 3194, 20965, 4762, 8667], 8, 7],\n",
       " [[3104, 5658, 4049, 3194, 20965, 15095, 19726], 19, 7],\n",
       " [[7682, 2364, 5658, 4049, 3194, 7956, 3796], 4, 7],\n",
       " [[9378, 2121, 5658, 4049, 3194, 20965, 14027], 58, 7]]"
      ]
     },
     "execution_count": 99,
     "metadata": {},
     "output_type": "execute_result"
    }
   ],
   "source": [
    "# 섞고 key2 기준으로 정렬\n",
    "import random\n",
    "random.shuffle(reviews_with_len)\n",
    "reviews_with_len.sort(key=lambda x: x[2])\n",
    "reviews_with_len[:50]"
   ]
  },
  {
   "cell_type": "code",
   "execution_count": 100,
   "id": "07bb61b4-d2b0-49f6-a15b-f7405a7f503d",
   "metadata": {
    "tags": []
   },
   "outputs": [
    {
     "data": {
      "text/plain": [
       "(<tf.Tensor: shape=(32, 7), dtype=int32, numpy=\n",
       " array([[23365,  3796,  3796, 23365,  3796,     0,     0],\n",
       "        [13354,  5658,  4049,  3194, 20965, 13617,     0],\n",
       "        [ 5009,  5658,  4049,  3194,  7956,  2132,     0],\n",
       "        [ 5747,  5658,  4049,  3194,  7956,  3796,     0],\n",
       "        [ 5009,  5658,  4049,  3194,  7956,  2132,     0],\n",
       "        [16054,  5658,  4049,  3194, 20965, 14027,     0],\n",
       "        [21605,  5658,  4049,  3194, 20965, 13103,     0],\n",
       "        [10053,  5658,  4049,  3194,  7956,  3796,     0],\n",
       "        [ 3500, 10764,  5658,  4049,  3194, 10764,     0],\n",
       "        [16054,  5658,  4049,  3194, 20965, 14027,     0],\n",
       "        [ 7744,  5658,  4049,  3194,  1055, 10216,     0],\n",
       "        [ 7744,  5658,  4049,  3194,  1042, 10216,     0],\n",
       "        [10764,  5658,  4049,  3194,  7956,  2132,     0],\n",
       "        [ 9093,  7744,  9347, 29329,  8622,  2112,     0],\n",
       "        [10353,  5658,  4049,  3194,  7956,  2132,     0],\n",
       "        [ 5747,  5658,  4049,  3194,  7956,  3796,     0],\n",
       "        [ 7744,  5658,  4049,  3194,  6718,  3847,     0],\n",
       "        [10764,  5658,  4049,  3194,  7956,  2132,     0],\n",
       "        [17490,  5658,  4049,  3194, 20965, 13103,     0],\n",
       "        [ 7744,  5658,  4049,  3194,  6718,  3847,     0],\n",
       "        [17490,  5658,  4049,  3194,  7956,  2132,     0],\n",
       "        [ 5009,  5658,  4049,  3194,  7956,  2132,     0],\n",
       "        [11220,  7682,  2373,  3796,  2373,  3796,     0],\n",
       "        [ 3500,  5658,  4049,  3194,  7956,  2132,     0],\n",
       "        [ 3608,  7682,  2373,  3796,  2373,  3796,  4241],\n",
       "        [ 9093,  7744,  3143,  9347, 29329,  8622,  2112],\n",
       "        [27000, 16215,  8879,  1044, 25688,  2291, 10122],\n",
       "        [ 3500,  5658,  4049,  3194, 20965,  7956,  2132],\n",
       "        [ 7682,  5658,  4049,  7312,  6718,  6434,  9093],\n",
       "        [ 2491, 16215,  8879,  1044, 25688,  2291, 10122],\n",
       "        [ 7744, 16215,  8879,  2373,  3796,  2691,  3033],\n",
       "        [ 5127, 16215,  8879,  8722,  2663,  2818, 13428]])>,\n",
       " <tf.Tensor: shape=(32,), dtype=int32, numpy=\n",
       " array([ 7,  0, 57, 10, 57,  8,  2,  8, 50,  8, 24, 24, 57, 48, 19, 10, 24,\n",
       "        57, 39, 24, 39, 24,  4, 50,  4, 48, 23, 50,  4, 17, 24, 44])>)"
      ]
     },
     "execution_count": 100,
     "metadata": {},
     "output_type": "execute_result"
    }
   ],
   "source": [
    "\n",
    "sorted_text_labels = [(review_lab[0], review_lab[1]) for review_lab in reviews_with_len]\n",
    "processed_dataset = tf.data.Dataset.from_generator(lambda: sorted_text_labels, output_types=(tf.int32, tf.int32))\n",
    "BATCH_SIZE = 32\n",
    "batched_dataset = processed_dataset.padded_batch(BATCH_SIZE, padded_shapes=((None, ), ()))\n",
    "next(iter(batched_dataset))"
   ]
  },
  {
   "cell_type": "code",
   "execution_count": 101,
   "id": "4cb20ff8-dc7e-4324-a2a0-5789ebead578",
   "metadata": {
    "tags": []
   },
   "outputs": [],
   "source": [
    "import math\n",
    "\n",
    "TOTAL_BATCHES = math.ceil(len(sorted_text_labels) / BATCH_SIZE)\n",
    "TEST_BATCHES = TOTAL_BATCHES // 10\n",
    "batched_dataset.shuffle(TOTAL_BATCHES)\n",
    "test_data = batched_dataset.take(TEST_BATCHES)\n",
    "train_data = batched_dataset.skip(TEST_BATCHES)"
   ]
  },
  {
   "cell_type": "code",
   "execution_count": 125,
   "id": "6d515ac2-7535-4bb1-8061-648cacec3af2",
   "metadata": {
    "tags": []
   },
   "outputs": [
    {
     "data": {
      "text/plain": [
       "<TakeDataset element_spec=(TensorSpec(shape=(None, None), dtype=tf.int32, name=None), TensorSpec(shape=(None,), dtype=tf.int32, name=None))>"
      ]
     },
     "execution_count": 125,
     "metadata": {},
     "output_type": "execute_result"
    }
   ],
   "source": [
    "test_data"
   ]
  },
  {
   "cell_type": "code",
   "execution_count": 126,
   "id": "578510c7-5aa2-41ca-ac7c-8e929ee1211a",
   "metadata": {
    "tags": []
   },
   "outputs": [],
   "source": [
    "# for inputs, targets in train_data:\n",
    "#     print(targets)\n"
   ]
  },
  {
   "cell_type": "code",
   "execution_count": 103,
   "id": "d1d7db5f-810f-4eb2-866e-7061524b6ca4",
   "metadata": {
    "tags": []
   },
   "outputs": [
    {
     "data": {
      "text/plain": [
       "(642, 64)"
      ]
     },
     "execution_count": 103,
     "metadata": {},
     "output_type": "execute_result"
    }
   ],
   "source": [
    "TOTAL_BATCHES, TEST_BATCHES"
   ]
  },
  {
   "cell_type": "code",
   "execution_count": 104,
   "id": "22930b57-8bec-4be1-ac33-56b746519db2",
   "metadata": {
    "tags": []
   },
   "outputs": [],
   "source": [
    "class TEXT_MODEL(tf.keras.Model):\n",
    "    def __init__(self,\n",
    "                 vocabulary_size,\n",
    "                 embedding_dimensions=128,\n",
    "                 cnn_filters=50,\n",
    "                 dnn_units=512,\n",
    "                 model_output_classes=2,\n",
    "                 dropout_rate=0.1,\n",
    "                 training=False,\n",
    "                 name=\"text_model\"):\n",
    "        super(TEXT_MODEL, self).__init__(name=name)\n",
    "        self.embedding = tf.keras.layers.Embedding(vocabulary_size,\n",
    "                                          embedding_dimensions)\n",
    "        self.cnn_layer1 = tf.keras.layers.Conv1D(filters=cnn_filters,\n",
    "                                        kernel_size=2,\n",
    "                                        padding=\"valid\",\n",
    "                                        activation=\"relu\")\n",
    "        self.cnn_layer2 = tf.keras.layers.Conv1D(filters=cnn_filters,\n",
    "                                        kernel_size=3,\n",
    "                                        padding=\"valid\",\n",
    "                                        activation=\"relu\")\n",
    "        self.cnn_layer3 = tf.keras.layers.Conv1D(filters=cnn_filters,\n",
    "                                        kernel_size=4,\n",
    "                                        padding=\"valid\",\n",
    "                                        activation=\"relu\")\n",
    "        self.lstm = tf.keras.layers.LSTM(128)\n",
    "        \n",
    "        self.pool = tf.keras.layers.GlobalMaxPool1D()\n",
    "        self.dense_1 = tf.keras.layers.Dense(units=dnn_units, activation=\"relu\")\n",
    "        self.dropout = tf.keras.layers.Dropout(rate=dropout_rate)\n",
    "        if model_output_classes == 2:\n",
    "            self.last_dense = tf.keras.layers.Dense(units=1,\n",
    "                                           activation=\"sigmoid\")\n",
    "        else:\n",
    "            self.last_dense = tf.keras.layers.Dense(units=model_output_classes,\n",
    "                                           activation=\"softmax\")\n",
    "    \n",
    "    def call(self, inputs, training):\n",
    "        l = self.embedding(inputs)\n",
    "        l_1 = self.cnn_layer1(l) \n",
    "        l_1 = self.pool(l_1) \n",
    "        l_2 = self.cnn_layer2(l) \n",
    "        l_2 = self.pool(l_2)\n",
    "        l_3 = self.cnn_layer3(l)\n",
    "        l_3 = self.pool(l_3)\n",
    "        \n",
    "        concatenated = tf.concat([l_1, l_2, l_3], axis=-1) \n",
    "        concatenated = self.dense_1(concatenated)\n",
    "        concatenated = self.dropout(concatenated, training)\n",
    "                # LSTM 레이어에 입력을 3D 형상으로 변환하여 전달\n",
    "        lstm_output = self.lstm(tf.expand_dims(concatenated, axis=1))\n",
    "        \n",
    "        model_output = self.last_dense(concatenated)\n",
    "        return model_output"
   ]
  },
  {
   "cell_type": "code",
   "execution_count": 105,
   "id": "0b2b71ae-53a6-44ea-aa06-6c4b9e1e9a43",
   "metadata": {
    "tags": []
   },
   "outputs": [
    {
     "data": {
      "text/plain": [
       "30522"
      ]
     },
     "execution_count": 105,
     "metadata": {},
     "output_type": "execute_result"
    }
   ],
   "source": [
    "VOCAB_LENGTH = len(tokenizer.vocab)\n",
    "EMB_DIM = 100 #200\n",
    "CNN_FILTERS = 50 #100\n",
    "DNN_UNITS = 128 #256\n",
    "OUTPUT_CLASSES = 61\n",
    "DROPOUT_RATE = 0.1 # 0.2\n",
    "NB_EPOCHS = 10\n",
    "VOCAB_LENGTH\n",
    "# 100 50 128 61 0.1 10 =>0.88"
   ]
  },
  {
   "cell_type": "code",
   "execution_count": 106,
   "id": "ca899cba-5549-4283-9123-2f252e251d29",
   "metadata": {
    "tags": []
   },
   "outputs": [],
   "source": [
    "text_model = TEXT_MODEL(vocabulary_size=VOCAB_LENGTH,\n",
    "                        embedding_dimensions=EMB_DIM,\n",
    "                        cnn_filters=CNN_FILTERS,\n",
    "                        dnn_units=DNN_UNITS,\n",
    "                        model_output_classes=OUTPUT_CLASSES,\n",
    "                        dropout_rate=DROPOUT_RATE)"
   ]
  },
  {
   "cell_type": "code",
   "execution_count": 107,
   "id": "35450859-2c35-42ec-b5f0-08a21283ccf4",
   "metadata": {
    "tags": []
   },
   "outputs": [
    {
     "name": "stdout",
     "output_type": "stream",
     "text": [
      "Epoch 1/10\n",
      "WARNING:tensorflow:Gradients do not exist for variables ['text_model/lstm_5/lstm_cell_5/kernel:0', 'text_model/lstm_5/lstm_cell_5/recurrent_kernel:0', 'text_model/lstm_5/lstm_cell_5/bias:0'] when minimizing the loss. If you're using `model.compile()`, did you forget to provide a `loss` argument?\n"
     ]
    },
    {
     "name": "stderr",
     "output_type": "stream",
     "text": [
      "WARNING:tensorflow:Gradients do not exist for variables ['text_model/lstm_5/lstm_cell_5/kernel:0', 'text_model/lstm_5/lstm_cell_5/recurrent_kernel:0', 'text_model/lstm_5/lstm_cell_5/bias:0'] when minimizing the loss. If you're using `model.compile()`, did you forget to provide a `loss` argument?\n"
     ]
    },
    {
     "name": "stdout",
     "output_type": "stream",
     "text": [
      "WARNING:tensorflow:Gradients do not exist for variables ['text_model/lstm_5/lstm_cell_5/kernel:0', 'text_model/lstm_5/lstm_cell_5/recurrent_kernel:0', 'text_model/lstm_5/lstm_cell_5/bias:0'] when minimizing the loss. If you're using `model.compile()`, did you forget to provide a `loss` argument?\n"
     ]
    },
    {
     "name": "stderr",
     "output_type": "stream",
     "text": [
      "WARNING:tensorflow:Gradients do not exist for variables ['text_model/lstm_5/lstm_cell_5/kernel:0', 'text_model/lstm_5/lstm_cell_5/recurrent_kernel:0', 'text_model/lstm_5/lstm_cell_5/bias:0'] when minimizing the loss. If you're using `model.compile()`, did you forget to provide a `loss` argument?\n"
     ]
    },
    {
     "name": "stdout",
     "output_type": "stream",
     "text": [
      "WARNING:tensorflow:Gradients do not exist for variables ['text_model/lstm_5/lstm_cell_5/kernel:0', 'text_model/lstm_5/lstm_cell_5/recurrent_kernel:0', 'text_model/lstm_5/lstm_cell_5/bias:0'] when minimizing the loss. If you're using `model.compile()`, did you forget to provide a `loss` argument?\n"
     ]
    },
    {
     "name": "stderr",
     "output_type": "stream",
     "text": [
      "WARNING:tensorflow:Gradients do not exist for variables ['text_model/lstm_5/lstm_cell_5/kernel:0', 'text_model/lstm_5/lstm_cell_5/recurrent_kernel:0', 'text_model/lstm_5/lstm_cell_5/bias:0'] when minimizing the loss. If you're using `model.compile()`, did you forget to provide a `loss` argument?\n"
     ]
    },
    {
     "name": "stdout",
     "output_type": "stream",
     "text": [
      "WARNING:tensorflow:Gradients do not exist for variables ['text_model/lstm_5/lstm_cell_5/kernel:0', 'text_model/lstm_5/lstm_cell_5/recurrent_kernel:0', 'text_model/lstm_5/lstm_cell_5/bias:0'] when minimizing the loss. If you're using `model.compile()`, did you forget to provide a `loss` argument?\n"
     ]
    },
    {
     "name": "stderr",
     "output_type": "stream",
     "text": [
      "WARNING:tensorflow:Gradients do not exist for variables ['text_model/lstm_5/lstm_cell_5/kernel:0', 'text_model/lstm_5/lstm_cell_5/recurrent_kernel:0', 'text_model/lstm_5/lstm_cell_5/bias:0'] when minimizing the loss. If you're using `model.compile()`, did you forget to provide a `loss` argument?\n"
     ]
    },
    {
     "name": "stdout",
     "output_type": "stream",
     "text": [
      "578/578 [==============================] - 14s 22ms/step - loss: 2.2108 - sparse_categorical_accuracy: 0.4939\n",
      "Epoch 2/10\n",
      "578/578 [==============================] - 13s 22ms/step - loss: 1.1821 - sparse_categorical_accuracy: 0.7262\n",
      "Epoch 3/10\n",
      "578/578 [==============================] - 13s 22ms/step - loss: 0.9153 - sparse_categorical_accuracy: 0.7787\n",
      "Epoch 4/10\n",
      "578/578 [==============================] - 13s 22ms/step - loss: 0.7972 - sparse_categorical_accuracy: 0.8022\n",
      "Epoch 5/10\n",
      "578/578 [==============================] - 13s 22ms/step - loss: 0.7225 - sparse_categorical_accuracy: 0.8183\n",
      "Epoch 6/10\n",
      "578/578 [==============================] - 13s 22ms/step - loss: 0.6731 - sparse_categorical_accuracy: 0.8276\n",
      "Epoch 7/10\n",
      "578/578 [==============================] - 13s 22ms/step - loss: 0.6329 - sparse_categorical_accuracy: 0.8327\n",
      "Epoch 8/10\n",
      "578/578 [==============================] - 13s 22ms/step - loss: 0.6044 - sparse_categorical_accuracy: 0.8390\n",
      "Epoch 9/10\n",
      "578/578 [==============================] - 13s 22ms/step - loss: 0.5798 - sparse_categorical_accuracy: 0.8427\n",
      "Epoch 10/10\n",
      "578/578 [==============================] - 13s 22ms/step - loss: 0.5586 - sparse_categorical_accuracy: 0.8468\n"
     ]
    },
    {
     "data": {
      "text/plain": [
       "<keras.callbacks.History at 0x1c299553c10>"
      ]
     },
     "execution_count": 107,
     "metadata": {},
     "output_type": "execute_result"
    }
   ],
   "source": [
    "if OUTPUT_CLASSES == 2:\n",
    "    text_model.compile(loss=\"binary_crossentropy\",\n",
    "                       optimizer=\"adam\",\n",
    "                       metrics=[\"accuracy\"])\n",
    "else:\n",
    "    text_model.compile(loss=\"sparse_categorical_crossentropy\",\n",
    "                       optimizer=\"adam\",\n",
    "                       metrics=[\"sparse_categorical_accuracy\"])\n",
    "\n",
    "text_model.fit(train_data, epochs=10)"
   ]
  },
  {
   "cell_type": "code",
   "execution_count": 108,
   "id": "7d6493f8-3c5e-457b-b39c-372080979f55",
   "metadata": {
    "tags": []
   },
   "outputs": [
    {
     "name": "stdout",
     "output_type": "stream",
     "text": [
      "64/64 [==============================] - 0s 3ms/step - loss: 0.3918 - sparse_categorical_accuracy: 0.8872\n",
      "10번 학습 :  [0.39179104566574097, 0.88720703125]\n"
     ]
    }
   ],
   "source": [
    "results = text_model.evaluate(test_data)\n",
    "print(\"10번 학습 : \", results)"
   ]
  },
  {
   "cell_type": "code",
   "execution_count": 109,
   "id": "9e6dc653-2111-4820-8b21-7ed9713afc9b",
   "metadata": {
    "tags": []
   },
   "outputs": [
    {
     "name": "stdout",
     "output_type": "stream",
     "text": [
      "Epoch 1/3\n",
      "578/578 [==============================] - 13s 22ms/step - loss: 0.5383 - sparse_categorical_accuracy: 0.8508\n",
      "Epoch 2/3\n",
      "578/578 [==============================] - 13s 22ms/step - loss: 0.5201 - sparse_categorical_accuracy: 0.8535\n",
      "Epoch 3/3\n",
      "578/578 [==============================] - 13s 22ms/step - loss: 0.5113 - sparse_categorical_accuracy: 0.8538\n"
     ]
    },
    {
     "data": {
      "text/plain": [
       "<keras.callbacks.History at 0x1c299a81630>"
      ]
     },
     "execution_count": 109,
     "metadata": {},
     "output_type": "execute_result"
    }
   ],
   "source": [
    "text_model.fit(train_data, epochs=3)"
   ]
  },
  {
   "cell_type": "code",
   "execution_count": 110,
   "id": "af5f37da-ff9e-488d-b5e0-6dc1d20fe818",
   "metadata": {
    "tags": []
   },
   "outputs": [
    {
     "name": "stdout",
     "output_type": "stream",
     "text": [
      "64/64 [==============================] - 0s 4ms/step - loss: 0.3847 - sparse_categorical_accuracy: 0.9136\n",
      "10번 학습 :  [0.38465532660484314, 0.91357421875]\n"
     ]
    }
   ],
   "source": [
    "results = text_model.evaluate(test_data)\n",
    "print(\"13번 학습 : \", results)"
   ]
  },
  {
   "cell_type": "code",
   "execution_count": 111,
   "id": "51989cd6-9849-4351-b640-31bff66d923c",
   "metadata": {
    "tags": []
   },
   "outputs": [
    {
     "name": "stdout",
     "output_type": "stream",
     "text": [
      "Epoch 1/4\n",
      "578/578 [==============================] - 13s 22ms/step - loss: 0.4946 - sparse_categorical_accuracy: 0.8572\n",
      "Epoch 2/4\n",
      "578/578 [==============================] - 13s 22ms/step - loss: 0.4870 - sparse_categorical_accuracy: 0.8583\n",
      "Epoch 3/4\n",
      "578/578 [==============================] - 13s 22ms/step - loss: 0.4751 - sparse_categorical_accuracy: 0.8587\n",
      "Epoch 4/4\n",
      "578/578 [==============================] - 13s 22ms/step - loss: 0.4663 - sparse_categorical_accuracy: 0.8597\n"
     ]
    },
    {
     "data": {
      "text/plain": [
       "<keras.callbacks.History at 0x1c299a81990>"
      ]
     },
     "execution_count": 111,
     "metadata": {},
     "output_type": "execute_result"
    }
   ],
   "source": [
    "text_model.fit(train_data, epochs=4)"
   ]
  },
  {
   "cell_type": "code",
   "execution_count": 112,
   "id": "a5458f9e-217d-4d1e-9a1c-c25c634c4466",
   "metadata": {
    "tags": []
   },
   "outputs": [
    {
     "name": "stdout",
     "output_type": "stream",
     "text": [
      "64/64 [==============================] - 0s 3ms/step - loss: 0.4821 - sparse_categorical_accuracy: 0.8896\n",
      "17번 학습 :  [0.4820931851863861, 0.8896484375]\n"
     ]
    }
   ],
   "source": [
    "results = text_model.evaluate(test_data)\n",
    "print(\"17번 학습 : \", results)"
   ]
  },
  {
   "cell_type": "markdown",
   "id": "cdf143ad-c98f-4ba9-a197-1c005d59b133",
   "metadata": {},
   "source": [
    "## pred 는각각 61개 컬럼 라벨에서의 확률"
   ]
  },
  {
   "cell_type": "code",
   "execution_count": 113,
   "id": "1b1782d4-1a23-4344-b769-e626ac3dcb02",
   "metadata": {
    "tags": []
   },
   "outputs": [
    {
     "name": "stdout",
     "output_type": "stream",
     "text": [
      "64/64 [==============================] - 0s 4ms/step\n"
     ]
    }
   ],
   "source": [
    "pred = text_model.predict(test_data)"
   ]
  },
  {
   "cell_type": "code",
   "execution_count": 120,
   "id": "133e79f3-84b4-4b45-992f-fc5a7cef3f6e",
   "metadata": {
    "tags": []
   },
   "outputs": [
    {
     "data": {
      "text/plain": [
       "(2048, 61)"
      ]
     },
     "execution_count": 120,
     "metadata": {},
     "output_type": "execute_result"
    }
   ],
   "source": [
    "pred.shape"
   ]
  },
  {
   "cell_type": "code",
   "execution_count": 137,
   "id": "275e3806-ddde-4b03-8ba1-ba2458981326",
   "metadata": {
    "tags": []
   },
   "outputs": [
    {
     "data": {
      "text/plain": [
       "array([1.27434685e-09, 1.60510503e-08, 1.04998650e-08, 2.61683704e-06,\n",
       "       5.16599528e-07, 6.67346214e-08, 1.97473260e-10, 9.99911308e-01,\n",
       "       2.39404191e-11, 7.07977279e-06, 4.62410412e-07, 5.45044621e-10,\n",
       "       5.86954096e-11, 7.52679516e-12, 1.86030314e-12, 3.93511909e-05,\n",
       "       5.47097534e-10, 6.21539300e-08, 6.74654004e-08, 1.94295316e-10,\n",
       "       8.10439424e-11, 1.99252326e-09, 3.57315753e-06, 4.66719854e-07,\n",
       "       1.95864006e-10, 1.25312673e-12, 1.69085852e-05, 9.17054106e-12,\n",
       "       6.15831439e-08, 1.09192766e-12, 4.24984492e-09, 4.50734561e-10,\n",
       "       5.88129438e-08, 4.97628264e-07, 1.06747793e-08, 1.26026922e-09,\n",
       "       4.15828955e-10, 1.41653609e-05, 9.24621979e-09, 8.35700842e-09,\n",
       "       1.02246898e-10, 2.66049700e-11, 3.29004628e-08, 3.81697873e-08,\n",
       "       4.16500896e-08, 3.94791932e-08, 6.06574204e-08, 2.25682550e-13,\n",
       "       2.05820538e-09, 1.14616917e-07, 1.08290238e-10, 1.10450038e-07,\n",
       "       1.37009522e-06, 7.30778353e-08, 1.05243515e-07, 3.69946491e-08,\n",
       "       5.30698649e-08, 1.05444187e-08, 2.95031721e-10, 5.88871728e-07,\n",
       "       9.74158265e-09], dtype=float32)"
      ]
     },
     "execution_count": 137,
     "metadata": {},
     "output_type": "execute_result"
    }
   ],
   "source": [
    "pred[0]"
   ]
  },
  {
   "cell_type": "markdown",
   "id": "19d32926-b7d9-4a30-aa61-eb724528a207",
   "metadata": {},
   "source": [
    "# predicted_result 50개의 배치(배치 사이즈 : 32) 데이터 마다 예측 라벨링을 리스트에 저장 "
   ]
  },
  {
   "cell_type": "code",
   "execution_count": 191,
   "id": "2f942e5d-e068-4281-985f-171d08dd1179",
   "metadata": {
    "tags": []
   },
   "outputs": [],
   "source": [
    "predicted_result = []\n",
    "for j in range(64):\n",
    "    temp=[]\n",
    "    for i in range(32) :   \n",
    "        predicted_class = tf.argmax(pred[i+ j*32]).numpy() ## 가장 높은 확률의 라벨링 데이터를 구함\n",
    "        temp.append(predicted_class)\n",
    "    predicted_result.append(temp)\n",
    "        # print(predicted_class)"
   ]
  },
  {
   "cell_type": "code",
   "execution_count": 192,
   "id": "3aa175fc-2d4e-41f5-8f1f-ad363c06d7f0",
   "metadata": {
    "tags": []
   },
   "outputs": [
    {
     "name": "stdout",
     "output_type": "stream",
     "text": [
      "[7, 0, 25, 10, 25, 8, 2, 8, 50, 8, 24, 24, 57, 48, 19, 10, 24, 57, 39, 24, 39, 25, 4, 50, 4, 48, 23, 50, 4, 17, 24, 44]\n",
      "[23, 46, 44, 44, 39, 39, 57, 7, 46, 45, 39, 44, 50, 24, 8, 19, 4, 58, 40, 23, 4, 8, 23, 46, 24, 8, 7, 54, 8, 17, 39, 7]\n",
      "[58, 8, 44, 19, 39, 24, 50, 57, 8, 39, 40, 17, 39, 58, 54, 57, 57, 17, 58, 10, 7, 57, 41, 57, 0, 50, 17, 40, 40, 45, 17, 40]\n",
      "[8, 8, 24, 24, 24, 24, 17, 23, 4, 44, 17, 8, 23, 46, 17, 26, 7, 19, 23, 39, 8, 17, 39, 5, 39, 4, 44, 16, 24, 30, 44, 23]\n",
      "[43, 4, 7, 0, 44, 24, 4, 17, 4, 7, 4, 23, 17, 24, 46, 27, 24, 39, 46, 45, 40, 24, 57, 55, 40, 46, 25, 10, 58, 42, 24, 50]\n",
      "[4, 48, 57, 57, 57, 24, 9, 24, 18, 51, 10, 46, 7, 40, 50, 24, 57, 8, 57, 37, 55, 40, 46, 49, 57, 56, 10, 26, 24, 40, 54, 40]\n",
      "[24, 19, 23, 58, 40, 58, 24, 58, 39, 57, 24, 24, 24, 42, 24, 51, 25, 25, 25, 45, 4, 54, 24, 24, 24, 58, 54, 42, 54, 7, 21, 4]\n",
      "[58, 24, 24, 44, 40, 57, 45, 24, 24, 20, 57, 40, 46, 57, 24, 38, 49, 8, 54, 4, 41, 58, 0, 57, 40, 40, 8, 24, 45, 19, 42, 4]\n",
      "[41, 22, 58, 58, 8, 8, 58, 19, 58, 40, 40, 24, 24, 39, 24, 24, 8, 46, 8, 24, 57, 24, 42, 40, 40, 51, 23, 24, 24, 4, 24, 24]\n",
      "[0, 24, 24, 38, 24, 51, 7, 44, 4, 24, 45, 44, 40, 58, 19, 58, 40, 58, 8, 57, 40, 4, 29, 51, 20, 12, 4, 24, 51, 24, 45, 42]\n",
      "[24, 58, 25, 51, 19, 40, 43, 0, 40, 24, 40, 50, 40, 24, 39, 8, 45, 8, 7, 43, 24, 29, 4, 42, 4, 40, 4, 40, 27, 55, 59, 41]\n",
      "[51, 57, 40, 26, 4, 0, 51, 7, 57, 24, 42, 58, 12, 24, 4, 4, 43, 40, 45, 40, 8, 17, 8, 58, 58, 58, 46, 24, 0, 24, 25, 42]\n",
      "[24, 30, 42, 17, 51, 24, 39, 24, 24, 50, 48, 24, 33, 41, 4, 31, 44, 44, 16, 42, 4, 8, 51, 58, 4, 54, 24, 24, 45, 40, 40, 44]\n",
      "[40, 42, 24, 16, 58, 51, 24, 8, 57, 40, 34, 57, 24, 40, 34, 24, 8, 57, 4, 40, 10, 40, 4, 44, 24, 24, 57, 39, 57, 40, 25, 4]\n",
      "[50, 24, 18, 7, 24, 25, 25, 40, 5, 44, 40, 24, 45, 44, 58, 4, 40, 22, 24, 16, 4, 37, 56, 35, 57, 41, 57, 19, 45, 22, 0, 19]\n",
      "[40, 46, 45, 16, 24, 24, 40, 45, 44, 46, 41, 24, 37, 42, 44, 33, 4, 50, 24, 40, 56, 8, 24, 26, 4, 40, 33, 50, 42, 30, 42, 24]\n",
      "[24, 8, 48, 24, 18, 51, 25, 24, 58, 40, 25, 26, 40, 24, 45, 40, 19, 24, 4, 26, 39, 4, 10, 23, 24, 57, 40, 19, 25, 8, 24, 44]\n",
      "[24, 8, 22, 37, 40, 4, 57, 57, 24, 56, 23, 57, 57, 25, 19, 26, 44, 23, 42, 24, 4, 25, 13, 24, 39, 34, 7, 42, 24, 25, 44, 4]\n",
      "[25, 37, 34, 8, 50, 24, 40, 16, 57, 2, 44, 42, 19, 4, 24, 50, 4, 19, 57, 4, 52, 4, 1, 2, 24, 44, 57, 30, 58, 8, 57, 4]\n",
      "[56, 50, 19, 24, 24, 57, 42, 24, 40, 4, 46, 40, 24, 40, 50, 44, 4, 19, 40, 19, 24, 40, 8, 48, 48, 24, 50, 24, 24, 26, 50, 19]\n",
      "[20, 24, 40, 25, 17, 42, 40, 23, 41, 8, 17, 4, 40, 24, 49, 40, 4, 16, 24, 24, 16, 8, 40, 24, 51, 42, 50, 23, 34, 42, 24, 25]\n",
      "[24, 40, 19, 46, 40, 57, 46, 45, 24, 4, 8, 24, 40, 25, 24, 40, 40, 19, 4, 24, 4, 40, 57, 41, 48, 19, 4, 25, 24, 24, 19, 24]\n",
      "[24, 46, 8, 45, 4, 44, 49, 8, 4, 40, 24, 50, 56, 24, 17, 57, 4, 44, 24, 46, 19, 24, 7, 18, 34, 57, 4, 4, 7, 40, 23, 40]\n",
      "[24, 24, 58, 51, 54, 24, 34, 8, 48, 4, 50, 25, 7, 24, 57, 45, 58, 24, 40, 4, 4, 24, 58, 18, 40, 12, 43, 45, 33, 40, 24, 52]\n",
      "[24, 50, 48, 24, 54, 44, 39, 57, 39, 56, 40, 45, 57, 55, 49, 45, 24, 44, 4, 23, 22, 24, 24, 4, 23, 40, 8, 24, 4, 20, 24, 24]\n",
      "[8, 4, 23, 20, 24, 57, 57, 40, 18, 37, 24, 3, 44, 46, 24, 40, 58, 50, 24, 33, 24, 33, 50, 58, 46, 24, 42, 24, 4, 40, 24, 46]\n",
      "[8, 46, 46, 24, 24, 24, 23, 24, 40, 23, 41, 60, 18, 46, 24, 37, 49, 24, 20, 24, 34, 29, 24, 20, 4, 34, 19, 46, 48, 8, 25, 45]\n",
      "[4, 22, 25, 4, 36, 19, 24, 40, 24, 24, 22, 24, 57, 24, 24, 12, 40, 25, 19, 4, 57, 18, 40, 58, 46, 46, 39, 39, 4, 24, 22, 33]\n",
      "[23, 45, 44, 40, 24, 8, 40, 33, 24, 19, 24, 4, 23, 31, 25, 46, 36, 40, 45, 57, 40, 24, 24, 4, 23, 24, 24, 24, 24, 24, 26, 24]\n",
      "[24, 24, 24, 4, 24, 56, 58, 31, 56, 24, 42, 4, 56, 43, 58, 37, 4, 48, 46, 46, 57, 24, 24, 8, 40, 39, 52, 4, 40, 33, 2, 24]\n",
      "[24, 45, 8, 4, 42, 4, 40, 24, 57, 30, 48, 42, 9, 18, 24, 46, 45, 57, 4, 23, 4, 48, 50, 24, 40, 46, 46, 24, 18, 8, 4, 55]\n",
      "[44, 24, 40, 50, 24, 24, 24, 20, 22, 24, 58, 24, 24, 4, 24, 26, 33, 39, 4, 12, 33, 44, 50, 39, 43, 25, 39, 19, 48, 8, 40, 48]\n",
      "[4, 24, 43, 40, 37, 45, 24, 24, 48, 40, 33, 24, 25, 33, 24, 17, 50, 24, 25, 33, 24, 25, 19, 24, 24, 8, 24, 57, 19, 40, 40, 58]\n",
      "[22, 40, 58, 8, 23, 8, 24, 57, 48, 40, 33, 43, 12, 4, 24, 24, 26, 50, 8, 43, 58, 41, 36, 57, 24, 46, 43, 48, 41, 55, 33, 24]\n",
      "[4, 40, 52, 8, 23, 57, 37, 24, 40, 24, 13, 2, 24, 24, 24, 10, 0, 33, 45, 46, 24, 24, 50, 39, 24, 4, 4, 57, 50, 24, 4, 24]\n",
      "[24, 58, 24, 24, 40, 4, 24, 49, 4, 24, 9, 24, 43, 44, 46, 40, 46, 24, 46, 24, 24, 8, 4, 24, 46, 18, 24, 46, 4, 16, 4, 58]\n",
      "[23, 4, 40, 4, 48, 57, 4, 56, 45, 40, 46, 19, 22, 44, 19, 22, 33, 24, 4, 24, 39, 26, 45, 41, 19, 40, 8, 42, 42, 56, 40, 42]\n",
      "[24, 4, 25, 23, 12, 33, 58, 43, 24, 8, 57, 24, 4, 4, 8, 4, 22, 24, 24, 28, 57, 40, 30, 43, 4, 46, 33, 57, 12, 12, 24, 24]\n",
      "[24, 57, 43, 23, 39, 24, 45, 24, 24, 26, 46, 43, 57, 24, 0, 36, 56, 22, 24, 24, 57, 24, 40, 57, 24, 43, 55, 4, 24, 8, 8, 37]\n",
      "[0, 19, 8, 42, 49, 4, 44, 24, 22, 4, 12, 50, 26, 22, 2, 4, 50, 57, 24, 33, 24, 4, 46, 12, 48, 7, 49, 23, 26, 44, 24, 43]\n",
      "[43, 23, 24, 37, 8, 39, 44, 24, 24, 56, 42, 24, 23, 24, 26, 39, 37, 56, 39, 24, 24, 22, 19, 40, 46, 2, 24, 24, 23, 23, 40, 60]\n",
      "[43, 24, 24, 24, 39, 35, 4, 4, 8, 4, 37, 8, 57, 24, 40, 40, 8, 45, 39, 46, 24, 40, 4, 12, 46, 20, 58, 33, 36, 8, 40, 35]\n",
      "[24, 37, 8, 16, 8, 8, 22, 17, 43, 46, 8, 40, 24, 26, 49, 23, 24, 24, 24, 50, 4, 24, 35, 24, 24, 8, 33, 24, 58, 24, 23, 23]\n",
      "[26, 24, 39, 40, 46, 24, 23, 57, 33, 24, 23, 24, 24, 4, 24, 24, 39, 23, 4, 12, 24, 58, 4, 37, 24, 56, 24, 4, 33, 40, 4, 44]\n",
      "[24, 46, 4, 24, 40, 46, 24, 40, 46, 22, 50, 8, 42, 4, 24, 40, 39, 26, 43, 0, 22, 24, 30, 24, 25, 19, 19, 46, 19, 12, 4, 24]\n",
      "[4, 24, 40, 24, 48, 46, 33, 26, 4, 24, 26, 24, 22, 8, 24, 45, 19, 4, 22, 24, 25, 48, 40, 24, 24, 23, 4, 50, 40, 24, 4, 12]\n",
      "[23, 24, 40, 16, 22, 24, 40, 18, 51, 46, 24, 33, 33, 0, 4, 26, 16, 24, 24, 45, 22, 24, 23, 25, 23, 22, 39, 44, 40, 24, 46, 9]\n",
      "[4, 46, 33, 30, 40, 49, 8, 22, 4, 4, 45, 8, 39, 40, 42, 19, 34, 19, 8, 46, 19, 24, 39, 46, 50, 56, 23, 39, 43, 24, 35, 22]\n",
      "[8, 33, 4, 40, 33, 12, 25, 40, 24, 48, 24, 24, 42, 24, 23, 24, 24, 23, 25, 26, 56, 46, 19, 8, 26, 46, 24, 42, 24, 22, 46, 42]\n",
      "[31, 45, 45, 16, 29, 31, 26, 4, 2, 24, 4, 56, 46, 40, 48, 46, 4, 23, 56, 46, 33, 24, 24, 42, 19, 24, 24, 19, 46, 24, 4, 37]\n",
      "[4, 34, 24, 24, 4, 19, 22, 24, 39, 13, 40, 39, 44, 24, 40, 24, 58, 44, 24, 4, 24, 41, 26, 37, 4, 16, 24, 46, 7, 24, 8, 24]\n",
      "[48, 30, 23, 46, 15, 48, 24, 37, 49, 60, 31, 24, 10, 24, 46, 4, 20, 48, 7, 4, 8, 37, 51, 34, 4, 8, 50, 50, 24, 4, 4, 48]\n",
      "[24, 25, 24, 20, 25, 4, 4, 26, 0, 22, 10, 4, 24, 34, 57, 42, 4, 42, 38, 57, 37, 23, 4, 24, 4, 4, 24, 41, 48, 37, 40, 56]\n",
      "[24, 42, 4, 4, 24, 24, 58, 4, 10, 10, 40, 46, 24, 42, 4, 8, 35, 39, 24, 4, 20, 44, 51, 57, 40, 50, 25, 8, 8, 58, 20, 24]\n",
      "[10, 2, 24, 58, 24, 24, 10, 24, 7, 4, 4, 39, 56, 24, 24, 4, 44, 41, 44, 41, 60, 4, 40, 24, 20, 10, 4, 20, 10, 56, 24, 24]\n",
      "[59, 19, 56, 20, 24, 20, 24, 2, 40, 41, 46, 40, 56, 4, 57, 24, 23, 40, 24, 39, 10, 57, 24, 56, 40, 58, 58, 26, 24, 4, 37, 40]\n",
      "[26, 19, 44, 4, 38, 24, 4, 58, 24, 8, 16, 46, 29, 10, 4, 4, 10, 20, 24, 24, 58, 4, 8, 19, 45, 44, 43, 24, 24, 24, 20, 20]\n",
      "[40, 8, 49, 45, 42, 24, 24, 24, 0, 39, 26, 50, 30, 40, 24, 44, 4, 24, 24, 8, 39, 10, 46, 37, 44, 24, 30, 41, 24, 24, 41, 41]\n",
      "[10, 24, 56, 40, 58, 4, 20, 25, 31, 40, 4, 39, 10, 24, 19, 44, 30, 51, 24, 10, 24, 57, 24, 24, 4, 40, 48, 42, 58, 48, 57, 29]\n",
      "[44, 40, 41, 8, 56, 19, 44, 4, 56, 45, 40, 24, 4, 23, 50, 40, 24, 46, 24, 10, 26, 50, 0, 40, 34, 40, 24, 24, 45, 4, 4, 48]\n",
      "[8, 24, 48, 58, 50, 8, 42, 24, 56, 42, 10, 51, 4, 45, 52, 20, 57, 40, 30, 20, 10, 20, 24, 24, 40, 24, 42, 30, 56, 44, 46, 58]\n",
      "[40, 37, 44, 5, 40, 50, 40, 24, 22, 58, 8, 4, 46, 24, 24, 24, 26, 30, 22, 8, 8, 45, 56, 8, 40, 40, 10, 34, 40, 46, 24, 10]\n",
      "[24, 49, 24, 58, 40, 24, 19, 46, 20, 3, 35, 44, 19, 40, 10, 23, 40, 8, 38, 26, 4, 41, 4, 41, 24, 57, 24, 0, 40, 57, 45, 42]\n",
      "[58, 37, 56, 19, 50, 40, 42, 10, 19, 0, 10, 10, 24, 24, 20, 36, 57, 24, 16, 40, 24, 24, 40, 42, 57, 22, 4, 24, 38, 8, 18, 24]\n"
     ]
    }
   ],
   "source": [
    "for lis in predicted_result:\n",
    "    print(lis)"
   ]
  },
  {
   "cell_type": "markdown",
   "id": "f5d693f8-3ab6-4a79-990e-cc372cc1a8e9",
   "metadata": {},
   "source": [
    "# true_result : 테스트 데이터에서의 실제 라벨링"
   ]
  },
  {
   "cell_type": "code",
   "execution_count": 193,
   "id": "58bd7f02-f502-4e2b-86b0-53332ea15776",
   "metadata": {
    "tags": []
   },
   "outputs": [],
   "source": [
    "true_result =[]\n",
    "for inputs, targets in test_data.take(64):\n",
    "    # 첫 번째 데이터 샘플에 대한 입력(inputs)과 라벨(targets)을 확인\n",
    "\n",
    "    # Convert EagerTensor to numpy array\n",
    "    targets_numpy = np.array(targets)\n",
    "\n",
    "    # Convert numpy array to list\n",
    "    targets_list = targets_numpy.tolist()\n",
    "    true_result.append(targets_list)\n",
    "    # print(\"Targets:\", targets_list)\n"
   ]
  },
  {
   "cell_type": "code",
   "execution_count": 194,
   "id": "491ed6c6-4952-4d46-a51b-2c989fd68d4b",
   "metadata": {
    "tags": []
   },
   "outputs": [
    {
     "name": "stdout",
     "output_type": "stream",
     "text": [
      "[7, 0, 57, 10, 57, 8, 2, 8, 50, 8, 24, 24, 57, 48, 19, 10, 24, 57, 39, 24, 39, 24, 4, 50, 4, 48, 23, 50, 4, 17, 24, 44]\n",
      "[23, 46, 44, 44, 39, 39, 57, 7, 46, 45, 39, 44, 50, 24, 8, 19, 4, 58, 24, 23, 4, 8, 23, 46, 24, 8, 7, 54, 8, 17, 39, 7]\n",
      "[24, 8, 44, 44, 39, 18, 50, 57, 8, 39, 40, 17, 39, 58, 54, 57, 57, 17, 58, 10, 7, 57, 41, 57, 0, 50, 17, 40, 40, 45, 17, 24]\n",
      "[8, 8, 40, 24, 24, 24, 17, 23, 4, 44, 52, 8, 23, 46, 17, 26, 7, 19, 23, 39, 8, 17, 39, 5, 39, 4, 44, 17, 24, 24, 44, 23]\n",
      "[43, 4, 7, 0, 44, 24, 24, 17, 4, 7, 4, 23, 17, 24, 46, 27, 24, 39, 46, 18, 40, 24, 57, 55, 40, 46, 25, 10, 58, 42, 24, 50]\n",
      "[4, 48, 57, 57, 57, 24, 26, 24, 2, 51, 10, 46, 7, 40, 50, 58, 57, 8, 57, 37, 55, 40, 46, 49, 57, 12, 10, 26, 24, 40, 54, 24]\n",
      "[24, 19, 23, 58, 40, 58, 24, 58, 39, 57, 24, 24, 24, 42, 24, 51, 25, 25, 25, 45, 4, 54, 24, 24, 24, 58, 54, 42, 54, 7, 21, 4]\n",
      "[58, 24, 24, 44, 40, 57, 18, 24, 24, 20, 57, 40, 46, 57, 24, 9, 49, 8, 54, 4, 41, 58, 0, 57, 40, 40, 8, 24, 45, 19, 42, 4]\n",
      "[41, 22, 58, 58, 8, 8, 58, 19, 58, 40, 40, 24, 24, 39, 24, 24, 8, 46, 8, 24, 57, 24, 42, 40, 40, 51, 24, 24, 24, 4, 24, 24]\n",
      "[0, 24, 24, 9, 24, 51, 7, 44, 4, 24, 45, 44, 40, 58, 19, 58, 40, 58, 8, 57, 40, 4, 29, 51, 20, 12, 4, 24, 51, 24, 18, 42]\n",
      "[24, 58, 25, 51, 19, 40, 43, 0, 40, 24, 40, 50, 40, 24, 39, 8, 45, 8, 7, 43, 24, 29, 4, 50, 4, 40, 4, 40, 27, 55, 7, 41]\n",
      "[51, 57, 40, 26, 4, 0, 51, 7, 57, 58, 42, 58, 12, 24, 4, 4, 43, 40, 45, 40, 8, 24, 8, 58, 58, 58, 46, 24, 0, 42, 25, 50]\n",
      "[24, 24, 42, 17, 19, 24, 39, 24, 24, 50, 17, 24, 17, 41, 4, 24, 44, 44, 16, 42, 4, 8, 51, 58, 4, 54, 24, 20, 45, 40, 40, 44]\n",
      "[40, 42, 24, 16, 58, 51, 24, 8, 57, 40, 34, 57, 24, 40, 34, 24, 8, 57, 4, 40, 10, 40, 4, 44, 24, 24, 57, 39, 57, 24, 25, 4]\n",
      "[50, 24, 18, 7, 24, 25, 25, 40, 45, 44, 40, 24, 24, 44, 58, 4, 40, 22, 24, 16, 4, 37, 56, 20, 57, 41, 57, 19, 45, 22, 0, 19]\n",
      "[40, 46, 45, 24, 24, 24, 40, 45, 44, 46, 41, 24, 37, 42, 44, 17, 4, 50, 24, 40, 44, 8, 24, 26, 4, 40, 17, 50, 42, 30, 42, 24]\n",
      "[24, 8, 17, 40, 18, 51, 25, 24, 58, 40, 25, 26, 40, 24, 33, 40, 12, 24, 4, 26, 39, 4, 10, 57, 24, 57, 40, 19, 27, 8, 24, 44]\n",
      "[24, 8, 22, 37, 40, 4, 57, 57, 24, 56, 23, 57, 19, 25, 19, 26, 44, 23, 42, 24, 4, 25, 13, 33, 39, 34, 7, 42, 24, 25, 44, 4]\n",
      "[25, 37, 34, 8, 50, 24, 40, 24, 24, 2, 44, 42, 19, 4, 24, 50, 4, 19, 57, 4, 52, 4, 56, 27, 24, 44, 57, 30, 58, 8, 57, 4]\n",
      "[56, 50, 19, 33, 24, 57, 42, 24, 40, 4, 46, 40, 24, 40, 50, 44, 4, 19, 40, 19, 24, 40, 8, 48, 48, 24, 50, 24, 33, 26, 50, 19]\n",
      "[20, 24, 40, 25, 17, 42, 40, 23, 41, 8, 17, 4, 40, 24, 49, 40, 4, 16, 24, 24, 24, 8, 40, 24, 51, 50, 24, 36, 34, 42, 24, 25]\n",
      "[24, 40, 19, 46, 40, 57, 46, 33, 24, 25, 8, 24, 40, 25, 24, 40, 40, 19, 4, 24, 4, 40, 57, 41, 48, 19, 4, 25, 24, 45, 19, 24]\n",
      "[24, 46, 8, 45, 4, 44, 49, 8, 4, 40, 40, 50, 25, 24, 17, 57, 4, 44, 24, 46, 19, 24, 7, 17, 34, 57, 4, 4, 7, 40, 23, 40]\n",
      "[24, 25, 58, 51, 54, 41, 34, 8, 25, 3, 50, 25, 7, 24, 57, 33, 58, 24, 40, 12, 4, 24, 58, 17, 40, 12, 43, 30, 17, 40, 33, 52]\n",
      "[24, 50, 48, 24, 54, 44, 39, 57, 39, 56, 40, 24, 57, 19, 49, 24, 40, 20, 4, 23, 22, 24, 24, 4, 23, 40, 8, 40, 4, 24, 40, 24]\n",
      "[8, 4, 23, 20, 19, 52, 57, 40, 18, 37, 40, 3, 44, 46, 24, 40, 12, 50, 40, 33, 40, 33, 50, 58, 46, 24, 42, 24, 4, 40, 24, 46]\n",
      "[8, 46, 46, 40, 40, 24, 23, 24, 40, 23, 41, 60, 18, 46, 40, 37, 49, 40, 20, 40, 34, 29, 24, 27, 19, 34, 19, 46, 48, 8, 25, 24]\n",
      "[4, 22, 25, 4, 2, 19, 40, 40, 24, 40, 22, 24, 57, 40, 24, 12, 40, 25, 19, 4, 57, 18, 40, 58, 46, 46, 39, 39, 4, 40, 22, 33]\n",
      "[23, 45, 44, 40, 24, 8, 40, 33, 24, 19, 24, 4, 23, 31, 25, 46, 2, 40, 45, 57, 40, 24, 24, 4, 23, 40, 40, 24, 40, 24, 26, 24]\n",
      "[24, 40, 24, 4, 24, 56, 12, 31, 56, 40, 42, 4, 17, 43, 58, 37, 24, 48, 46, 46, 57, 17, 19, 8, 40, 39, 19, 4, 40, 33, 2, 40]\n",
      "[24, 45, 8, 4, 42, 4, 40, 40, 57, 30, 48, 42, 9, 18, 24, 46, 25, 20, 4, 23, 4, 48, 50, 24, 40, 46, 46, 24, 18, 8, 4, 55]\n",
      "[44, 40, 40, 50, 24, 24, 40, 20, 22, 41, 58, 40, 24, 4, 24, 26, 33, 39, 4, 12, 33, 44, 50, 39, 43, 25, 39, 19, 48, 8, 40, 48]\n",
      "[4, 24, 43, 40, 37, 45, 24, 24, 48, 58, 33, 24, 25, 33, 24, 17, 50, 24, 25, 33, 40, 25, 19, 40, 24, 8, 40, 57, 19, 40, 40, 58]\n",
      "[22, 40, 58, 8, 23, 8, 24, 57, 48, 40, 33, 43, 12, 4, 24, 24, 26, 50, 8, 43, 58, 41, 28, 20, 24, 46, 43, 48, 19, 55, 33, 40]\n",
      "[4, 40, 15, 8, 23, 57, 37, 24, 40, 40, 13, 2, 24, 24, 24, 10, 0, 33, 45, 46, 24, 24, 50, 39, 24, 4, 4, 57, 50, 40, 4, 24]\n",
      "[24, 58, 40, 24, 40, 4, 40, 49, 4, 40, 9, 24, 43, 44, 46, 40, 46, 24, 46, 24, 40, 8, 4, 24, 46, 18, 24, 46, 4, 15, 4, 58]\n",
      "[23, 4, 40, 4, 48, 57, 4, 56, 45, 40, 46, 19, 22, 57, 19, 22, 33, 24, 4, 24, 39, 44, 45, 41, 19, 40, 8, 42, 42, 56, 40, 42]\n",
      "[24, 4, 25, 23, 12, 33, 58, 43, 24, 8, 57, 40, 4, 4, 8, 4, 22, 17, 40, 28, 57, 40, 33, 43, 4, 46, 33, 57, 12, 12, 40, 24]\n",
      "[40, 57, 43, 23, 39, 24, 45, 40, 40, 26, 46, 43, 57, 24, 0, 34, 56, 22, 24, 24, 57, 24, 40, 57, 24, 43, 55, 4, 24, 8, 8, 37]\n",
      "[0, 19, 8, 42, 49, 4, 44, 40, 22, 4, 12, 50, 26, 22, 40, 4, 50, 57, 24, 33, 17, 4, 46, 12, 48, 7, 49, 23, 24, 44, 24, 43]\n",
      "[43, 23, 40, 37, 8, 39, 44, 24, 40, 25, 42, 24, 23, 24, 26, 39, 37, 56, 39, 40, 24, 22, 19, 40, 46, 14, 24, 24, 23, 23, 40, 60]\n",
      "[43, 24, 40, 40, 39, 35, 4, 4, 8, 4, 37, 8, 57, 24, 40, 40, 8, 24, 39, 46, 40, 40, 4, 12, 46, 20, 58, 33, 28, 8, 40, 55]\n",
      "[24, 37, 8, 24, 8, 8, 22, 56, 43, 46, 8, 40, 24, 26, 49, 23, 24, 24, 29, 50, 4, 24, 55, 40, 24, 8, 33, 24, 58, 24, 23, 23]\n",
      "[26, 30, 39, 40, 46, 24, 23, 57, 33, 40, 23, 24, 24, 4, 40, 24, 39, 23, 4, 12, 24, 58, 4, 37, 24, 3, 40, 4, 33, 40, 4, 44]\n",
      "[24, 46, 4, 24, 40, 46, 40, 40, 46, 22, 50, 8, 42, 4, 40, 40, 39, 26, 43, 0, 22, 40, 57, 19, 25, 19, 19, 46, 19, 12, 4, 24]\n",
      "[4, 24, 40, 24, 48, 46, 33, 44, 4, 24, 26, 24, 22, 8, 40, 45, 19, 4, 22, 24, 25, 48, 40, 24, 24, 23, 4, 41, 40, 24, 4, 12]\n",
      "[23, 24, 24, 15, 22, 40, 40, 18, 51, 46, 24, 33, 33, 0, 4, 44, 15, 24, 40, 45, 22, 24, 23, 25, 23, 22, 39, 44, 40, 24, 46, 9]\n",
      "[4, 46, 33, 57, 40, 49, 8, 22, 4, 4, 45, 8, 39, 40, 42, 19, 34, 19, 8, 46, 19, 24, 39, 46, 50, 25, 23, 39, 43, 24, 35, 22]\n",
      "[8, 33, 4, 40, 33, 12, 25, 40, 40, 48, 24, 24, 42, 24, 23, 40, 24, 23, 25, 7, 56, 46, 19, 8, 44, 46, 23, 42, 24, 22, 46, 42]\n",
      "[31, 45, 45, 15, 29, 31, 26, 4, 2, 24, 4, 56, 46, 40, 48, 46, 4, 23, 56, 46, 33, 24, 24, 42, 19, 24, 40, 19, 46, 40, 4, 37]\n",
      "[4, 34, 24, 40, 4, 19, 22, 24, 39, 13, 40, 39, 44, 17, 40, 24, 17, 44, 24, 4, 24, 41, 26, 37, 4, 16, 24, 46, 7, 24, 8, 35]\n",
      "[48, 57, 23, 46, 52, 48, 24, 37, 49, 60, 31, 24, 10, 24, 46, 4, 20, 48, 7, 4, 8, 37, 51, 34, 4, 8, 50, 50, 24, 4, 4, 48]\n",
      "[24, 25, 24, 20, 25, 4, 4, 26, 0, 22, 10, 4, 24, 34, 57, 42, 4, 42, 38, 57, 37, 23, 4, 24, 4, 4, 24, 41, 48, 37, 40, 56]\n",
      "[24, 30, 4, 4, 24, 24, 58, 4, 10, 10, 40, 46, 24, 42, 4, 8, 35, 39, 24, 4, 20, 44, 51, 57, 40, 50, 25, 8, 8, 58, 20, 24]\n",
      "[10, 24, 24, 58, 24, 24, 10, 24, 7, 4, 4, 39, 56, 24, 24, 4, 44, 41, 44, 41, 60, 4, 40, 24, 20, 10, 4, 20, 10, 56, 24, 24]\n",
      "[52, 8, 56, 20, 7, 20, 24, 2, 40, 41, 46, 24, 56, 24, 57, 24, 23, 40, 24, 39, 10, 57, 24, 56, 40, 58, 58, 26, 24, 4, 37, 40]\n",
      "[26, 19, 44, 4, 38, 24, 4, 58, 24, 8, 15, 46, 29, 10, 4, 4, 10, 20, 24, 24, 58, 4, 8, 19, 45, 44, 43, 24, 24, 24, 20, 20]\n",
      "[40, 8, 49, 45, 42, 24, 24, 24, 0, 39, 26, 50, 57, 40, 24, 44, 4, 24, 24, 8, 39, 10, 46, 37, 44, 24, 57, 41, 24, 24, 41, 41]\n",
      "[10, 24, 56, 24, 58, 4, 41, 25, 31, 40, 4, 39, 10, 24, 19, 44, 57, 51, 24, 10, 24, 57, 24, 24, 4, 40, 48, 42, 58, 48, 57, 29]\n",
      "[44, 40, 41, 8, 56, 19, 44, 4, 56, 45, 40, 24, 4, 23, 50, 40, 24, 46, 24, 10, 26, 50, 0, 40, 34, 40, 24, 24, 45, 4, 4, 48]\n",
      "[8, 24, 48, 58, 50, 8, 42, 24, 56, 42, 10, 51, 4, 45, 52, 20, 57, 40, 30, 24, 10, 20, 24, 24, 40, 24, 42, 30, 56, 44, 46, 58]\n",
      "[40, 37, 44, 5, 40, 50, 40, 24, 22, 58, 8, 4, 46, 24, 24, 24, 26, 57, 22, 8, 8, 45, 56, 8, 40, 40, 10, 34, 40, 46, 24, 10]\n",
      "[24, 49, 24, 58, 40, 24, 19, 46, 20, 56, 35, 44, 19, 40, 10, 23, 40, 8, 38, 26, 4, 41, 4, 41, 24, 57, 24, 0, 40, 57, 45, 42]\n",
      "[58, 37, 56, 19, 50, 40, 42, 10, 19, 0, 10, 10, 24, 24, 20, 56, 3, 24, 16, 40, 24, 24, 40, 42, 57, 22, 4, 24, 38, 8, 17, 24]\n"
     ]
    }
   ],
   "source": [
    "for lis in true_result:\n",
    "    print(lis)"
   ]
  },
  {
   "cell_type": "code",
   "execution_count": 195,
   "id": "c1e02e51-dc3c-4a01-b98c-57fc06cacbcc",
   "metadata": {
    "tags": []
   },
   "outputs": [],
   "source": [
    "from sklearn.metrics import f1_score,classification_report"
   ]
  },
  {
   "cell_type": "code",
   "execution_count": 196,
   "id": "41c47476-8904-4f22-8d80-e0923c6aa0e7",
   "metadata": {
    "tags": []
   },
   "outputs": [
    {
     "name": "stdout",
     "output_type": "stream",
     "text": [
      "F1 score: 0.7718434509223613\n"
     ]
    }
   ],
   "source": [
    "# Calculate F1 score\n",
    "f1 = f1_score([item for sublist in true_result for item in sublist],\n",
    "              [item for sublist in predicted_result for item in sublist], average='macro')\n",
    "print(\"F1 score:\", f1)"
   ]
  },
  {
   "cell_type": "code",
   "execution_count": 197,
   "id": "7056a6b9-d8f4-4970-8531-684f4ca15cf9",
   "metadata": {
    "tags": []
   },
   "outputs": [
    {
     "name": "stdout",
     "output_type": "stream",
     "text": [
      "              precision    recall  f1-score   support\n",
      "\n",
      "           0       1.00      1.00      1.00        19\n",
      "           1       0.00      0.00      0.00         1\n",
      "           2       0.67      0.60      0.63        10\n",
      "           3       0.25      0.50      0.33         2\n",
      "           4       1.00      0.96      0.98       183\n",
      "           5       1.00      0.67      0.80         3\n",
      "           7       0.88      1.00      0.94        22\n",
      "           8       0.99      1.00      0.99        98\n",
      "           9       0.60      0.75      0.67         4\n",
      "          10       1.00      1.00      1.00        33\n",
      "          12       0.76      1.00      0.86        16\n",
      "          13       1.00      1.00      1.00         3\n",
      "          14       0.00      0.00      0.00         0\n",
      "          15       0.00      0.00      0.00         1\n",
      "          16       1.00      0.38      0.55        16\n",
      "          17       0.50      0.84      0.63        19\n",
      "          18       0.69      0.69      0.69        13\n",
      "          19       0.86      0.95      0.90        57\n",
      "          20       0.81      0.85      0.83        26\n",
      "          21       1.00      1.00      1.00         1\n",
      "          22       1.00      1.00      1.00        33\n",
      "          23       0.98      0.95      0.96        55\n",
      "          24       0.91      0.78      0.84       417\n",
      "          25       0.84      0.90      0.87        42\n",
      "          26       0.96      0.82      0.89        33\n",
      "          27       0.40      1.00      0.57         2\n",
      "          28       0.33      1.00      0.50         1\n",
      "          29       0.86      1.00      0.92         6\n",
      "          30       0.62      0.33      0.43        15\n",
      "          31       1.00      0.86      0.92         7\n",
      "          33       0.78      0.88      0.82        32\n",
      "          34       0.94      1.00      0.97        15\n",
      "          35       0.80      0.57      0.67         7\n",
      "          36       0.00      0.00      0.00         6\n",
      "          37       1.00      1.00      1.00        26\n",
      "          38       1.00      0.67      0.80         6\n",
      "          39       1.00      1.00      1.00        51\n",
      "          40       0.71      0.95      0.81       169\n",
      "          41       0.85      0.96      0.90        24\n",
      "          42       0.98      0.92      0.95        49\n",
      "          43       1.00      1.00      1.00        24\n",
      "          44       0.90      0.96      0.93        56\n",
      "          45       0.94      0.71      0.81        45\n",
      "          46       1.00      1.00      1.00        79\n",
      "          48       1.00      0.91      0.95        34\n",
      "          49       1.00      1.00      1.00        14\n",
      "          50       0.94      0.96      0.95        47\n",
      "          51       1.00      0.95      0.97        20\n",
      "          52       0.43      0.60      0.50         5\n",
      "          54       1.00      1.00      1.00        10\n",
      "          55       0.75      0.86      0.80         7\n",
      "          56       0.87      0.79      0.83        33\n",
      "          57       0.88      0.93      0.90        84\n",
      "          58       0.95      0.93      0.94        61\n",
      "          59       0.00      0.00      0.00         2\n",
      "          60       1.00      1.00      1.00         4\n",
      "\n",
      "    accuracy                           0.89      2048\n",
      "   macro avg       0.78      0.79      0.77      2048\n",
      "weighted avg       0.90      0.89      0.89      2048\n",
      "\n"
     ]
    },
    {
     "name": "stderr",
     "output_type": "stream",
     "text": [
      "C:\\workspace\\ShipSupplies\\venv\\lib\\site-packages\\sklearn\\metrics\\_classification.py:1344: UndefinedMetricWarning: Precision and F-score are ill-defined and being set to 0.0 in labels with no predicted samples. Use `zero_division` parameter to control this behavior.\n",
      "  _warn_prf(average, modifier, msg_start, len(result))\n",
      "C:\\workspace\\ShipSupplies\\venv\\lib\\site-packages\\sklearn\\metrics\\_classification.py:1344: UndefinedMetricWarning: Recall and F-score are ill-defined and being set to 0.0 in labels with no true samples. Use `zero_division` parameter to control this behavior.\n",
      "  _warn_prf(average, modifier, msg_start, len(result))\n",
      "C:\\workspace\\ShipSupplies\\venv\\lib\\site-packages\\sklearn\\metrics\\_classification.py:1344: UndefinedMetricWarning: Precision and F-score are ill-defined and being set to 0.0 in labels with no predicted samples. Use `zero_division` parameter to control this behavior.\n",
      "  _warn_prf(average, modifier, msg_start, len(result))\n",
      "C:\\workspace\\ShipSupplies\\venv\\lib\\site-packages\\sklearn\\metrics\\_classification.py:1344: UndefinedMetricWarning: Recall and F-score are ill-defined and being set to 0.0 in labels with no true samples. Use `zero_division` parameter to control this behavior.\n",
      "  _warn_prf(average, modifier, msg_start, len(result))\n",
      "C:\\workspace\\ShipSupplies\\venv\\lib\\site-packages\\sklearn\\metrics\\_classification.py:1344: UndefinedMetricWarning: Precision and F-score are ill-defined and being set to 0.0 in labels with no predicted samples. Use `zero_division` parameter to control this behavior.\n",
      "  _warn_prf(average, modifier, msg_start, len(result))\n",
      "C:\\workspace\\ShipSupplies\\venv\\lib\\site-packages\\sklearn\\metrics\\_classification.py:1344: UndefinedMetricWarning: Recall and F-score are ill-defined and being set to 0.0 in labels with no true samples. Use `zero_division` parameter to control this behavior.\n",
      "  _warn_prf(average, modifier, msg_start, len(result))\n"
     ]
    }
   ],
   "source": [
    "print(classification_report([item for sublist in predicted_result for item in sublist],\n",
    "                            [item for sublist in true_result for item in sublist]))"
   ]
  }
 ],
 "metadata": {
  "kernelspec": {
   "display_name": "venv",
   "language": "python",
   "name": "venv"
  },
  "language_info": {
   "codemirror_mode": {
    "name": "ipython",
    "version": 3
   },
   "file_extension": ".py",
   "mimetype": "text/x-python",
   "name": "python",
   "nbconvert_exporter": "python",
   "pygments_lexer": "ipython3",
   "version": "3.10.10"
  }
 },
 "nbformat": 4,
 "nbformat_minor": 5
}
