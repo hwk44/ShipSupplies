{
 "cells": [
  {
   "cell_type": "code",
   "execution_count": 1,
   "id": "261a7657-6dcc-4c74-846b-7753ca0445d5",
   "metadata": {
    "tags": []
   },
   "outputs": [
    {
     "name": "stderr",
     "output_type": "stream",
     "text": [
      "D:\\ShipSupplies\\DA\\venv\\lib\\site-packages\\tqdm\\auto.py:21: TqdmWarning: IProgress not found. Please update jupyter and ipywidgets. See https://ipywidgets.readthedocs.io/en/stable/user_install.html\n",
      "  from .autonotebook import tqdm as notebook_tqdm\n"
     ]
    }
   ],
   "source": [
    "# import torch\n",
    "\n",
    "from transformers import BertTokenizer\n",
    "from transformers import BertForSequenceClassification, AdamW, BertConfig\n",
    "from transformers import get_linear_schedule_with_warmup\n",
    "from torch.utils.data import TensorDataset, DataLoader, RandomSampler, SequentialSampler\n",
    "# from keras.preprocessing.sequence import pad_sequences\n",
    "from tensorflow.keras.preprocessing.sequence import pad_sequences\n",
    "from sklearn.model_selection import train_test_split\n",
    "\n",
    "import pandas as pd\n",
    "import numpy as np\n",
    "import random\n",
    "import time\n",
    "import datetime\n"
   ]
  },
  {
   "cell_type": "code",
   "execution_count": 2,
   "id": "4859b907-8e49-4ce1-8d99-fded5eeccd7e",
   "metadata": {},
   "outputs": [],
   "source": [
    "# !pip install transformers"
   ]
  },
  {
   "cell_type": "code",
   "execution_count": 3,
   "id": "ca2a05c4-57cd-4915-ab36-49aa6b0c6d8c",
   "metadata": {},
   "outputs": [],
   "source": [
    "# !pip install torch"
   ]
  },
  {
   "cell_type": "code",
   "execution_count": 4,
   "id": "34205099-9c8f-4da3-8d26-468721d091db",
   "metadata": {
    "tags": []
   },
   "outputs": [],
   "source": [
    "# import tensorflow as tf\n",
    "\n",
    "# # GPU 디바이스 목록 가져오기\n",
    "# gpu_devices = tf.config.list_physical_devices('GPU')\n",
    "\n",
    "# if len(gpu_devices) > 0:\n",
    "#     print(\"사용 가능한 GPU가 있습니다.\")\n",
    "#     for device in gpu_devices:\n",
    "#         print(\"GPU 디바이스 이름:\", device.name)\n",
    "# else:\n",
    "#     print(\"사용 가능한 GPU가 없습니다.\")\n"
   ]
  },
  {
   "cell_type": "code",
   "execution_count": 5,
   "id": "9fac9baf-fc45-4766-82be-c6d50dfd830e",
   "metadata": {
    "tags": []
   },
   "outputs": [],
   "source": [
    "# !pip install bert-for-tf2\n",
    "# !pip install tensorflow_hub"
   ]
  },
  {
   "cell_type": "code",
   "execution_count": 6,
   "id": "8033901a-87dc-42b1-aaf1-2cda85d9d3d6",
   "metadata": {
    "tags": []
   },
   "outputs": [],
   "source": [
    "import tensorflow_hub as hub\n",
    "from tensorflow.keras import layers\n",
    "import bert"
   ]
  },
  {
   "cell_type": "code",
   "execution_count": 7,
   "id": "3a242748-4045-47c6-8c1c-c61acba156f5",
   "metadata": {
    "tags": []
   },
   "outputs": [],
   "source": [
    "data = pd.read_csv('../data/raw_postpro.csv') # 오류가나면 추가해주세요 .encoding = 'cp949'\n",
    "# 컬럼 삭제\n",
    "df = data.drop(['청구서번호','No.',  '선박입고','완료 여부','리드타임_음수제거','청구량','견적','견적수량','견적화폐','견적단가','발주번호','발주','발주수량','발주금액','미입고 기간','리드타임','창고입고','창고입고수량','입고창고','창고출고','창고출고수량','출고선박','출고운반선','선박입고','선박입고수량','완료 여부'], axis=1)"
   ]
  },
  {
   "cell_type": "code",
   "execution_count": 8,
   "id": "f8f79718-2f3e-457a-bbf5-d8394f490994",
   "metadata": {},
   "outputs": [],
   "source": [
    "delete_list = ['COMPRESSOR', 'SEAT', 'TURBINE', 'LINE', 'ANODES', 'DAMPER', 'CARD', 'BELT', 'ARM', 'SWITCH',\n",
    " 'CLIP', 'BATTERY', 'ADAPTER', 'TOOL', 'CONTROL', 'BRAKE', 'TRANSFORMER', 'WINCH']\n",
    "df = df[~df['key2'].isin(delete_list)]"
   ]
  },
  {
   "cell_type": "code",
   "execution_count": 9,
   "id": "3e7e51b2-e8d8-48c9-b1a7-0fa03ab9e002",
   "metadata": {
    "tags": []
   },
   "outputs": [
    {
     "name": "stdout",
     "output_type": "stream",
     "text": [
      "<class 'pandas.core.frame.DataFrame'>\n",
      "Index: 19367 entries, 0 to 20516\n",
      "Data columns (total 12 columns):\n",
      " #   Column       Non-Null Count  Dtype \n",
      "---  ------       --------------  ----- \n",
      " 0   Subject      19367 non-null  object\n",
      " 1   Machinery    19367 non-null  object\n",
      " 2   Assembly     19367 non-null  object\n",
      " 3   청구품목         19367 non-null  object\n",
      " 4   Part No.1    19367 non-null  object\n",
      " 5   Part No.2    19367 non-null  object\n",
      " 6   key1         19367 non-null  object\n",
      " 7   key2         19367 non-null  object\n",
      " 8   발주처          19367 non-null  object\n",
      " 9   D/T          19367 non-null  object\n",
      " 10  Control No.  19367 non-null  object\n",
      " 11  leadtime     19367 non-null  int64 \n",
      "dtypes: int64(1), object(11)\n",
      "memory usage: 1.9+ MB\n"
     ]
    }
   ],
   "source": [
    "df.info()"
   ]
  },
  {
   "cell_type": "code",
   "execution_count": 10,
   "id": "e0ac12f6-2aec-4362-b507-d8db659ddb7f",
   "metadata": {
    "tags": []
   },
   "outputs": [],
   "source": [
    "df = df[['청구품목','발주처','Machinery', 'Assembly' , \"key1\",'key2']]\n",
    "# 'Machinery', 'Assembly', '청구품목', 'Part No.1', 'Part No.2', 'key1', '발주처'"
   ]
  },
  {
   "cell_type": "code",
   "execution_count": 11,
   "id": "bfa338bd-3298-430c-9534-1f8ddc5a391f",
   "metadata": {
    "tags": []
   },
   "outputs": [],
   "source": [
    "from sklearn import preprocessing\n",
    "label_encoders = {}  # 각 열에 대한 LabelEncoder를 저장하기 위한 딕셔너리\n",
    "columns_to_encode = ['key2']  # 인코딩을 수행할 열의 이름 리스트\n",
    "\n",
    "for column in columns_to_encode:\n",
    "    le = preprocessing.LabelEncoder()\n",
    "    le.fit(df[column])\n",
    "    label_encoders[column] = le # 딕셔너리에 저장\n",
    "    df[column+\"_encoded\"] = le.transform(df[column]) # 새로운 encoding 된 컬럼 추가"
   ]
  },
  {
   "cell_type": "code",
   "execution_count": 12,
   "id": "dd8e6c31-6c1d-46f0-ad58-7ab1ab285a5a",
   "metadata": {
    "tags": []
   },
   "outputs": [],
   "source": [
    "df = df.drop(['key2'], axis=1)"
   ]
  },
  {
   "cell_type": "code",
   "execution_count": null,
   "id": "fee319d1-943a-4bff-b5b1-7c559bba30da",
   "metadata": {},
   "outputs": [],
   "source": []
  },
  {
   "cell_type": "code",
   "execution_count": 13,
   "id": "e1d21278-dd5e-4229-9b49-159058e996bf",
   "metadata": {
    "tags": []
   },
   "outputs": [
    {
     "name": "stdout",
     "output_type": "stream",
     "text": [
      "<class 'pandas.core.frame.DataFrame'>\n",
      "Index: 19367 entries, 0 to 20516\n",
      "Data columns (total 6 columns):\n",
      " #   Column        Non-Null Count  Dtype \n",
      "---  ------        --------------  ----- \n",
      " 0   청구품목          19367 non-null  object\n",
      " 1   발주처           19367 non-null  object\n",
      " 2   Machinery     19367 non-null  object\n",
      " 3   Assembly      19367 non-null  object\n",
      " 4   key1          19367 non-null  object\n",
      " 5   key2_encoded  19367 non-null  int32 \n",
      "dtypes: int32(1), object(5)\n",
      "memory usage: 983.5+ KB\n"
     ]
    }
   ],
   "source": [
    "df.info()"
   ]
  },
  {
   "cell_type": "code",
   "execution_count": 14,
   "id": "1644800d-98cf-459d-9811-a594db7e7bfb",
   "metadata": {
    "tags": []
   },
   "outputs": [],
   "source": [
    "# text = df[[ '청구품목', '발주처','Machinery', 'Assembly' , \"key1\"]].apply(lambda row: ' '.join(row), axis=1)\n",
    "df_text = df[['청구품목', '발주처', 'Machinery', 'Assembly']].apply(lambda row: ' '.join(row), axis=1).to_frame(name='text')\n",
    "df_text['key2'] = df['key2_encoded']"
   ]
  },
  {
   "cell_type": "code",
   "execution_count": 15,
   "id": "ed53b922-d2f1-473d-b234-b725c024dd66",
   "metadata": {
    "tags": []
   },
   "outputs": [
    {
     "data": {
      "text/html": [
       "<div>\n",
       "<style scoped>\n",
       "    .dataframe tbody tr th:only-of-type {\n",
       "        vertical-align: middle;\n",
       "    }\n",
       "\n",
       "    .dataframe tbody tr th {\n",
       "        vertical-align: top;\n",
       "    }\n",
       "\n",
       "    .dataframe thead th {\n",
       "        text-align: right;\n",
       "    }\n",
       "</style>\n",
       "<table border=\"1\" class=\"dataframe\">\n",
       "  <thead>\n",
       "    <tr style=\"text-align: right;\">\n",
       "      <th></th>\n",
       "      <th>text</th>\n",
       "      <th>key2</th>\n",
       "    </tr>\n",
       "  </thead>\n",
       "  <tbody>\n",
       "    <tr>\n",
       "      <th>0</th>\n",
       "      <td>SEAL-O-RING-STOR HAEIN Coporation_Cheonan NO.1...</td>\n",
       "      <td>8</td>\n",
       "    </tr>\n",
       "    <tr>\n",
       "      <th>1</th>\n",
       "      <td>OIL COOLER &amp; LINES HAEIN Coporation_Cheonan NO...</td>\n",
       "      <td>8</td>\n",
       "    </tr>\n",
       "    <tr>\n",
       "      <th>2</th>\n",
       "      <td>WASHER HAEIN Coporation_Cheonan NO.2 GENERATOR...</td>\n",
       "      <td>8</td>\n",
       "    </tr>\n",
       "    <tr>\n",
       "      <th>3</th>\n",
       "      <td>BOLT-HIGH TEMP HAEIN Coporation_Cheonan NO.1 G...</td>\n",
       "      <td>8</td>\n",
       "    </tr>\n",
       "    <tr>\n",
       "      <th>4</th>\n",
       "      <td>SEAL HAEIN Coporation_Cheonan NO.1 GENERATOR E...</td>\n",
       "      <td>8</td>\n",
       "    </tr>\n",
       "    <tr>\n",
       "      <th>5</th>\n",
       "      <td>CORE CHARGES FOR CYLINDER PACK AS HAEIN Copora...</td>\n",
       "      <td>8</td>\n",
       "    </tr>\n",
       "    <tr>\n",
       "      <th>6</th>\n",
       "      <td>PUMP GP-F TFR-REMAN HAEIN Coporation_Cheonan N...</td>\n",
       "      <td>8</td>\n",
       "    </tr>\n",
       "    <tr>\n",
       "      <th>7</th>\n",
       "      <td>GEAR-WTR PUMP DR HAEIN Coporation_Cheonan NO.1...</td>\n",
       "      <td>8</td>\n",
       "    </tr>\n",
       "    <tr>\n",
       "      <th>8</th>\n",
       "      <td>GEAR-WTR PUMP DR HAEIN Coporation_Cheonan NO.3...</td>\n",
       "      <td>8</td>\n",
       "    </tr>\n",
       "    <tr>\n",
       "      <th>9</th>\n",
       "      <td>GEAR-WTR PUMP DR HAEIN Coporation_Cheonan NO.3...</td>\n",
       "      <td>8</td>\n",
       "    </tr>\n",
       "    <tr>\n",
       "      <th>10</th>\n",
       "      <td>GEAR-WTR PUMP DR HAEIN Coporation_Cheonan NO.1...</td>\n",
       "      <td>8</td>\n",
       "    </tr>\n",
       "    <tr>\n",
       "      <th>11</th>\n",
       "      <td>GEAR-WTR PUMP DR HAEIN Coporation_Cheonan NO.1...</td>\n",
       "      <td>8</td>\n",
       "    </tr>\n",
       "    <tr>\n",
       "      <th>12</th>\n",
       "      <td>GEAR-WTR PUMP DR HAEIN Coporation_Cheonan NO.3...</td>\n",
       "      <td>8</td>\n",
       "    </tr>\n",
       "    <tr>\n",
       "      <th>13</th>\n",
       "      <td>IMPELLER (주)정원펌프 NO.1 CONDENSER PUMP PUMP PARTS</td>\n",
       "      <td>33</td>\n",
       "    </tr>\n",
       "    <tr>\n",
       "      <th>14</th>\n",
       "      <td>SELF-ALIGNING ROLLER BEARING 대동베아링상사 BOW THRUS...</td>\n",
       "      <td>0</td>\n",
       "    </tr>\n",
       "    <tr>\n",
       "      <th>15</th>\n",
       "      <td>TAPERED ROLLER BEARING 대동베아링상사 BOW THRUSTER OV...</td>\n",
       "      <td>0</td>\n",
       "    </tr>\n",
       "    <tr>\n",
       "      <th>16</th>\n",
       "      <td>SELF-ALIGNING ROLLER BEARING 대동베아링상사 BOW THRUS...</td>\n",
       "      <td>0</td>\n",
       "    </tr>\n",
       "    <tr>\n",
       "      <th>17</th>\n",
       "      <td>TAPERED ROLLER BEARING 대동베아링상사 BOW THRUSTER OV...</td>\n",
       "      <td>14</td>\n",
       "    </tr>\n",
       "    <tr>\n",
       "      <th>18</th>\n",
       "      <td>EXHUAST GAS TEMP. INDICATOR, P5 PIRIOU NAVAL S...</td>\n",
       "      <td>14</td>\n",
       "    </tr>\n",
       "    <tr>\n",
       "      <th>19</th>\n",
       "      <td>EXHAUST GAS TEMPERATURE INDICATOR 0 TO 700℃ PI...</td>\n",
       "      <td>14</td>\n",
       "    </tr>\n",
       "  </tbody>\n",
       "</table>\n",
       "</div>"
      ],
      "text/plain": [
       "                                                 text  key2\n",
       "0   SEAL-O-RING-STOR HAEIN Coporation_Cheonan NO.1...     8\n",
       "1   OIL COOLER & LINES HAEIN Coporation_Cheonan NO...     8\n",
       "2   WASHER HAEIN Coporation_Cheonan NO.2 GENERATOR...     8\n",
       "3   BOLT-HIGH TEMP HAEIN Coporation_Cheonan NO.1 G...     8\n",
       "4   SEAL HAEIN Coporation_Cheonan NO.1 GENERATOR E...     8\n",
       "5   CORE CHARGES FOR CYLINDER PACK AS HAEIN Copora...     8\n",
       "6   PUMP GP-F TFR-REMAN HAEIN Coporation_Cheonan N...     8\n",
       "7   GEAR-WTR PUMP DR HAEIN Coporation_Cheonan NO.1...     8\n",
       "8   GEAR-WTR PUMP DR HAEIN Coporation_Cheonan NO.3...     8\n",
       "9   GEAR-WTR PUMP DR HAEIN Coporation_Cheonan NO.3...     8\n",
       "10  GEAR-WTR PUMP DR HAEIN Coporation_Cheonan NO.1...     8\n",
       "11  GEAR-WTR PUMP DR HAEIN Coporation_Cheonan NO.1...     8\n",
       "12  GEAR-WTR PUMP DR HAEIN Coporation_Cheonan NO.3...     8\n",
       "13    IMPELLER (주)정원펌프 NO.1 CONDENSER PUMP PUMP PARTS    33\n",
       "14  SELF-ALIGNING ROLLER BEARING 대동베아링상사 BOW THRUS...     0\n",
       "15  TAPERED ROLLER BEARING 대동베아링상사 BOW THRUSTER OV...     0\n",
       "16  SELF-ALIGNING ROLLER BEARING 대동베아링상사 BOW THRUS...     0\n",
       "17  TAPERED ROLLER BEARING 대동베아링상사 BOW THRUSTER OV...    14\n",
       "18  EXHUAST GAS TEMP. INDICATOR, P5 PIRIOU NAVAL S...    14\n",
       "19  EXHAUST GAS TEMPERATURE INDICATOR 0 TO 700℃ PI...    14"
      ]
     },
     "execution_count": 15,
     "metadata": {},
     "output_type": "execute_result"
    }
   ],
   "source": [
    "df_text[:20]"
   ]
  },
  {
   "cell_type": "code",
   "execution_count": 16,
   "id": "1a694a2a-3cff-47b1-8c05-d30d50cb99be",
   "metadata": {
    "tags": []
   },
   "outputs": [
    {
     "name": "stdout",
     "output_type": "stream",
     "text": [
      "['text' 'key2']\n"
     ]
    }
   ],
   "source": [
    "import re\n",
    "def preprocess_text(sen):\n",
    "    sentence = remove_tags(sen)\n",
    "    sentence = re.sub('[^a-zA-Z]', ' ', sentence)\n",
    "    sentence = re.sub(r\"\\s+[a-zA-Z]\\s+\", ' ', sentence)\n",
    "    sentence = re.sub(r'\\s+', ' ', sentence)\n",
    "    return sentence\n",
    "\n",
    "TAG_RE = re.compile(r'<[^>]+>')\n",
    "def remove_tags(text):\n",
    "    return TAG_RE.sub('', text)\n",
    "\n",
    "en_text = []\n",
    "sentences = list(df_text['text'])\n",
    "for sen in sentences:\n",
    "    en_text.append(preprocess_text(sen))\n",
    "\n",
    "print(df_text.columns.values)"
   ]
  },
  {
   "cell_type": "code",
   "execution_count": 17,
   "id": "9bd40d5c-4f5e-4ebf-a48f-e930b433bc33",
   "metadata": {
    "tags": []
   },
   "outputs": [],
   "source": [
    "# en_text"
   ]
  },
  {
   "cell_type": "code",
   "execution_count": 18,
   "id": "9d992cd3-dc1e-40d6-a7ab-2abb16ab4d89",
   "metadata": {
    "tags": []
   },
   "outputs": [],
   "source": [
    "y = df_text.key2.values"
   ]
  },
  {
   "cell_type": "code",
   "execution_count": 19,
   "id": "9d1d5e47-cada-43bd-acae-6d5cb974dfcc",
   "metadata": {
    "tags": []
   },
   "outputs": [
    {
     "data": {
      "text/plain": [
       "array([ 8,  8,  8,  8,  8,  8,  8,  8,  8,  8,  8,  8,  8, 33,  0,  0,  0,\n",
       "       14, 14, 14])"
      ]
     },
     "execution_count": 19,
     "metadata": {},
     "output_type": "execute_result"
    }
   ],
   "source": [
    "y[:20]"
   ]
  },
  {
   "cell_type": "code",
   "execution_count": 20,
   "id": "18cd8304-3fcd-49fa-bb0b-b1312458a1f3",
   "metadata": {
    "tags": []
   },
   "outputs": [],
   "source": [
    "BertTokenizer = bert.bert_tokenization.FullTokenizer\n",
    "bert_layer = hub.KerasLayer(\"https://tfhub.dev/tensorflow/bert_en_uncased_L-12_H-768_A-12/1\",\n",
    "                            trainable=False)\n",
    "vocabulary_file = bert_layer.resolved_object.vocab_file.asset_path.numpy()\n",
    "to_lower_case = bert_layer.resolved_object.do_lower_case.numpy()\n",
    "tokenizer = BertTokenizer(vocabulary_file, to_lower_case)"
   ]
  },
  {
   "cell_type": "code",
   "execution_count": 21,
   "id": "4692f2b4-1194-4d3b-8b26-d199db459753",
   "metadata": {
    "tags": []
   },
   "outputs": [],
   "source": [
    "# !pip uninstall -y tensorflow"
   ]
  },
  {
   "cell_type": "code",
   "execution_count": 22,
   "id": "16bffe19-c415-4d40-a80e-404697702823",
   "metadata": {
    "tags": []
   },
   "outputs": [],
   "source": [
    "# !pip3 install -U \"tensorflow==2.11.1\""
   ]
  },
  {
   "cell_type": "code",
   "execution_count": 23,
   "id": "0fd4b60f-090a-4376-8c75-1fb94fda3dcc",
   "metadata": {
    "tags": []
   },
   "outputs": [
    {
     "name": "stdout",
     "output_type": "stream",
     "text": [
      "2.10.0\n",
      "D:\\ShipSupplies\\DA\\venv\\lib\\site-packages\\tensorflow\\__init__.py\n"
     ]
    }
   ],
   "source": [
    "import tensorflow as tf\n",
    "print(tf.__version__)\n",
    "print(tf.__file__)"
   ]
  },
  {
   "cell_type": "code",
   "execution_count": null,
   "id": "5b46cdc6-674f-4b09-af2d-273133e5c2fb",
   "metadata": {},
   "outputs": [],
   "source": []
  },
  {
   "cell_type": "code",
   "execution_count": null,
   "id": "22c3628e-ac27-4afd-a5df-8b7a453e9b9b",
   "metadata": {},
   "outputs": [],
   "source": []
  },
  {
   "cell_type": "code",
   "execution_count": 24,
   "id": "e7ab9103-fa6c-44d8-b7dc-172752e7bf1f",
   "metadata": {
    "tags": []
   },
   "outputs": [],
   "source": [
    "def tokenize_text(text):\n",
    "    return tokenizer.convert_tokens_to_ids(tokenizer.tokenize(text))\n",
    "tokenized_text = [tokenize_text(en) for en in en_text]"
   ]
  },
  {
   "cell_type": "code",
   "execution_count": 25,
   "id": "6ce5a187-7ba8-4da4-abc8-a088c2b5d6e5",
   "metadata": {
    "tags": []
   },
   "outputs": [],
   "source": [
    "# en_text[0],tokenized_text[0]"
   ]
  },
  {
   "cell_type": "code",
   "execution_count": 26,
   "id": "577c517f-ad92-48ea-a83d-4ea1a43f2c44",
   "metadata": {
    "tags": []
   },
   "outputs": [],
   "source": [
    "reviews_with_len = [[text, y[i], len(text)] # 토큰화된 text, key값, text 길이\n",
    "                 for i, text in enumerate(tokenized_text)]\n",
    "# reviews_with_len[:5]"
   ]
  },
  {
   "cell_type": "code",
   "execution_count": 27,
   "id": "8830b0b6-ed95-4c00-be05-e53c09251cf4",
   "metadata": {
    "tags": []
   },
   "outputs": [
    {
     "data": {
      "text/plain": [
       "[[[7682, 2053, 13103, 3194, 13103], 0, 5],\n",
       " [[23365, 3796, 3796, 23365, 3796], 2, 5],\n",
       " [[3500, 5658, 4049, 3194, 7956, 2132], 37, 6],\n",
       " [[7744, 5658, 4049, 3194, 6718, 3847], 13, 6],\n",
       " [[13103, 7682, 2053, 13103, 3194, 13103], 0, 6],\n",
       " [[27201, 9108, 4718, 2015, 5658, 27201], 26, 6],\n",
       " [[8999, 2053, 25416, 29329, 3514, 11307], 37, 6],\n",
       " [[7744, 5658, 4049, 3194, 1055, 10216], 13, 6],\n",
       " [[6718, 3514, 11320, 2497, 3514, 5806], 22, 6],\n",
       " [[9093, 7744, 9347, 29329, 8622, 2112], 35, 6],\n",
       " [[16054, 5658, 4049, 3194, 20965, 14027], 3, 6],\n",
       " [[1051, 3614, 2364, 3194, 3514, 11307], 28, 6],\n",
       " [[10353, 5658, 4049, 3194, 7956, 2132], 9, 6],\n",
       " [[10053, 5658, 4049, 3194, 7956, 3796], 3, 6],\n",
       " [[6718, 3514, 11320, 2497, 3514, 5806], 22, 6],\n",
       " [[13103, 7682, 2053, 13103, 3194, 13103], 0, 6],\n",
       " [[5009, 5658, 4049, 3194, 7956, 2132], 13, 6],\n",
       " [[1051, 3614, 2364, 3194, 3514, 11307], 28, 6],\n",
       " [[27201, 9108, 4718, 2015, 5658, 27201], 26, 6],\n",
       " [[3608, 7682, 2373, 3796, 2373, 3796], 0, 6],\n",
       " [[21956, 11320, 2497, 3514, 5806, 3514], 22, 6],\n",
       " [[13103, 7682, 2053, 13103, 3194, 13103], 0, 6],\n",
       " [[5009, 5658, 4049, 3194, 7956, 2132], 40, 6],\n",
       " [[5747, 5658, 4049, 3194, 7956, 3796], 4, 6],\n",
       " [[6718, 3514, 11320, 2497, 3514, 5806], 22, 6],\n",
       " [[7744, 5658, 4049, 3194, 1042, 10216], 13, 6],\n",
       " [[6718, 3514, 11320, 2497, 3514, 5806], 22, 6],\n",
       " [[27201, 9108, 4718, 2015, 5658, 27201], 26, 6],\n",
       " [[10764, 5658, 4049, 3194, 7956, 2132], 40, 6],\n",
       " [[17490, 5658, 4049, 3194, 7956, 2132], 27, 6],\n",
       " [[5009, 5658, 4049, 3194, 7956, 2132], 40, 6],\n",
       " [[8999, 2053, 25416, 29329, 3514, 11307], 37, 6],\n",
       " [[1051, 3614, 2364, 3194, 3514, 11307], 28, 6],\n",
       " [[11220, 7682, 2373, 3796, 2373, 3796], 0, 6],\n",
       " [[18970, 7682, 2373, 3796, 2373, 3796], 0, 6],\n",
       " [[16054, 5658, 4049, 3194, 20965, 14027], 3, 6],\n",
       " [[1051, 3614, 2364, 3194, 3514, 11307], 28, 6],\n",
       " [[5747, 5658, 4049, 3194, 7956, 3796], 4, 6],\n",
       " [[3500, 10764, 5658, 4049, 3194, 10764], 37, 6],\n",
       " [[7744, 5658, 4049, 3194, 6718, 3847], 13, 6],\n",
       " [[17490, 5658, 4049, 3194, 20965, 13103], 27, 6],\n",
       " [[6718, 3514, 11320, 2497, 3514, 5806], 22, 6],\n",
       " [[7682, 10507, 2373, 3796, 2691, 3033], 0, 6],\n",
       " [[3608, 7682, 2373, 3796, 2373, 3796], 0, 6],\n",
       " [[21956, 11320, 2497, 3514, 5806, 3514], 22, 6],\n",
       " [[10764, 5658, 4049, 3194, 7956, 2132], 40, 6],\n",
       " [[17490, 16215, 8879, 8722, 2663, 2818, 13428], 27, 7],\n",
       " [[6718, 3514, 11320, 2497, 3514, 5806, 3514], 22, 7],\n",
       " [[3500, 10764, 6058, 5658, 4049, 3194, 10764], 37, 7],\n",
       " [[17490, 16215, 8879, 2373, 3796, 2691, 3033], 27, 7]]"
      ]
     },
     "execution_count": 27,
     "metadata": {},
     "output_type": "execute_result"
    }
   ],
   "source": [
    "# 섞고 key2 기준으로 정렬\n",
    "import random\n",
    "random.shuffle(reviews_with_len)\n",
    "reviews_with_len.sort(key=lambda x: x[2])\n",
    "reviews_with_len[:50]"
   ]
  },
  {
   "cell_type": "code",
   "execution_count": 28,
   "id": "07bb61b4-d2b0-49f6-a15b-f7405a7f503d",
   "metadata": {
    "tags": []
   },
   "outputs": [
    {
     "data": {
      "text/plain": [
       "(<tf.Tensor: shape=(32, 6), dtype=int32, numpy=\n",
       " array([[ 7682,  2053, 13103,  3194, 13103,     0],\n",
       "        [23365,  3796,  3796, 23365,  3796,     0],\n",
       "        [ 3500,  5658,  4049,  3194,  7956,  2132],\n",
       "        [ 7744,  5658,  4049,  3194,  6718,  3847],\n",
       "        [13103,  7682,  2053, 13103,  3194, 13103],\n",
       "        [27201,  9108,  4718,  2015,  5658, 27201],\n",
       "        [ 8999,  2053, 25416, 29329,  3514, 11307],\n",
       "        [ 7744,  5658,  4049,  3194,  1055, 10216],\n",
       "        [ 6718,  3514, 11320,  2497,  3514,  5806],\n",
       "        [ 9093,  7744,  9347, 29329,  8622,  2112],\n",
       "        [16054,  5658,  4049,  3194, 20965, 14027],\n",
       "        [ 1051,  3614,  2364,  3194,  3514, 11307],\n",
       "        [10353,  5658,  4049,  3194,  7956,  2132],\n",
       "        [10053,  5658,  4049,  3194,  7956,  3796],\n",
       "        [ 6718,  3514, 11320,  2497,  3514,  5806],\n",
       "        [13103,  7682,  2053, 13103,  3194, 13103],\n",
       "        [ 5009,  5658,  4049,  3194,  7956,  2132],\n",
       "        [ 1051,  3614,  2364,  3194,  3514, 11307],\n",
       "        [27201,  9108,  4718,  2015,  5658, 27201],\n",
       "        [ 3608,  7682,  2373,  3796,  2373,  3796],\n",
       "        [21956, 11320,  2497,  3514,  5806,  3514],\n",
       "        [13103,  7682,  2053, 13103,  3194, 13103],\n",
       "        [ 5009,  5658,  4049,  3194,  7956,  2132],\n",
       "        [ 5747,  5658,  4049,  3194,  7956,  3796],\n",
       "        [ 6718,  3514, 11320,  2497,  3514,  5806],\n",
       "        [ 7744,  5658,  4049,  3194,  1042, 10216],\n",
       "        [ 6718,  3514, 11320,  2497,  3514,  5806],\n",
       "        [27201,  9108,  4718,  2015,  5658, 27201],\n",
       "        [10764,  5658,  4049,  3194,  7956,  2132],\n",
       "        [17490,  5658,  4049,  3194,  7956,  2132],\n",
       "        [ 5009,  5658,  4049,  3194,  7956,  2132],\n",
       "        [ 8999,  2053, 25416, 29329,  3514, 11307]])>,\n",
       " <tf.Tensor: shape=(32,), dtype=int32, numpy=\n",
       " array([ 0,  2, 37, 13,  0, 26, 37, 13, 22, 35,  3, 28,  9,  3, 22,  0, 13,\n",
       "        28, 26,  0, 22,  0, 40,  4, 22, 13, 22, 26, 40, 27, 40, 37])>)"
      ]
     },
     "execution_count": 28,
     "metadata": {},
     "output_type": "execute_result"
    }
   ],
   "source": [
    "\n",
    "sorted_text_labels = [(review_lab[0], review_lab[1]) for review_lab in reviews_with_len]\n",
    "processed_dataset = tf.data.Dataset.from_generator(lambda: sorted_text_labels, output_types=(tf.int32, tf.int32))\n",
    "BATCH_SIZE = 32\n",
    "batched_dataset = processed_dataset.padded_batch(BATCH_SIZE, padded_shapes=((None, ), ()))\n",
    "next(iter(batched_dataset))"
   ]
  },
  {
   "cell_type": "code",
   "execution_count": 29,
   "id": "4cb20ff8-dc7e-4324-a2a0-5789ebead578",
   "metadata": {
    "tags": []
   },
   "outputs": [],
   "source": [
    "import math\n",
    "\n",
    "TOTAL_BATCHES = math.ceil(len(sorted_text_labels) / BATCH_SIZE)\n",
    "TEST_BATCHES = TOTAL_BATCHES // 10\n",
    "batched_dataset.shuffle(TOTAL_BATCHES)\n",
    "test_data = batched_dataset.take(TEST_BATCHES)\n",
    "train_data = batched_dataset.skip(TEST_BATCHES)"
   ]
  },
  {
   "cell_type": "code",
   "execution_count": 30,
   "id": "6d515ac2-7535-4bb1-8061-648cacec3af2",
   "metadata": {
    "tags": []
   },
   "outputs": [
    {
     "data": {
      "text/plain": [
       "<TakeDataset element_spec=(TensorSpec(shape=(None, None), dtype=tf.int32, name=None), TensorSpec(shape=(None,), dtype=tf.int32, name=None))>"
      ]
     },
     "execution_count": 30,
     "metadata": {},
     "output_type": "execute_result"
    }
   ],
   "source": [
    "test_data"
   ]
  },
  {
   "cell_type": "code",
   "execution_count": 31,
   "id": "578510c7-5aa2-41ca-ac7c-8e929ee1211a",
   "metadata": {
    "tags": []
   },
   "outputs": [],
   "source": [
    "# for inputs, targets in train_data:\n",
    "#     print(targets)\n"
   ]
  },
  {
   "cell_type": "code",
   "execution_count": 32,
   "id": "d1d7db5f-810f-4eb2-866e-7061524b6ca4",
   "metadata": {
    "tags": []
   },
   "outputs": [
    {
     "data": {
      "text/plain": [
       "(606, 60)"
      ]
     },
     "execution_count": 32,
     "metadata": {},
     "output_type": "execute_result"
    }
   ],
   "source": [
    "TOTAL_BATCHES, TEST_BATCHES"
   ]
  },
  {
   "cell_type": "code",
   "execution_count": 33,
   "id": "22930b57-8bec-4be1-ac33-56b746519db2",
   "metadata": {
    "tags": []
   },
   "outputs": [],
   "source": [
    "class TEXT_MODEL(tf.keras.Model):\n",
    "    def __init__(self,\n",
    "                 vocabulary_size,\n",
    "                 embedding_dimensions=128,\n",
    "                 cnn_filters=50,\n",
    "                 dnn_units=512,\n",
    "                 model_output_classes=2,\n",
    "                 dropout_rate=0.1,\n",
    "                 training=False,\n",
    "                 name=\"text_model\"):\n",
    "        super(TEXT_MODEL, self).__init__(name=name)\n",
    "        self.embedding = tf.keras.layers.Embedding(vocabulary_size,\n",
    "                                          embedding_dimensions)\n",
    "        self.cnn_layer1 = tf.keras.layers.Conv1D(filters=cnn_filters,\n",
    "                                        kernel_size=2,\n",
    "                                        padding=\"valid\",\n",
    "                                        activation=\"relu\")\n",
    "        self.cnn_layer2 = tf.keras.layers.Conv1D(filters=cnn_filters,\n",
    "                                        kernel_size=3,\n",
    "                                        padding=\"valid\",\n",
    "                                        activation=\"relu\")\n",
    "        self.cnn_layer3 = tf.keras.layers.Conv1D(filters=cnn_filters,\n",
    "                                        kernel_size=4,\n",
    "                                        padding=\"valid\",\n",
    "                                        activation=\"relu\")\n",
    "        self.lstm = tf.keras.layers.LSTM(128)\n",
    "        \n",
    "        self.pool = tf.keras.layers.GlobalMaxPool1D()\n",
    "        self.dense_1 = tf.keras.layers.Dense(units=dnn_units, activation=\"relu\")\n",
    "        self.dropout = tf.keras.layers.Dropout(rate=dropout_rate)\n",
    "        if model_output_classes == 2:\n",
    "            self.last_dense = tf.keras.layers.Dense(units=1,\n",
    "                                           activation=\"sigmoid\")\n",
    "        else:\n",
    "            self.last_dense = tf.keras.layers.Dense(units=model_output_classes,\n",
    "                                           activation=\"softmax\")\n",
    "    \n",
    "    def call(self, inputs, training):\n",
    "        l = self.embedding(inputs)\n",
    "        l_1 = self.cnn_layer1(l) \n",
    "        l_1 = self.pool(l_1) \n",
    "        l_2 = self.cnn_layer2(l) \n",
    "        l_2 = self.pool(l_2)\n",
    "        l_3 = self.cnn_layer3(l)\n",
    "        l_3 = self.pool(l_3)\n",
    "        \n",
    "        concatenated = tf.concat([l_1, l_2, l_3], axis=-1) \n",
    "        concatenated = self.dense_1(concatenated)\n",
    "        concatenated = self.dropout(concatenated, training)\n",
    "                # LSTM 레이어에 입력을 3D 형상으로 변환하여 전달\n",
    "        lstm_output = self.lstm(tf.expand_dims(concatenated, axis=1))\n",
    "        \n",
    "        model_output = self.last_dense(concatenated)\n",
    "        return model_output"
   ]
  },
  {
   "cell_type": "code",
   "execution_count": 34,
   "id": "0b2b71ae-53a6-44ea-aa06-6c4b9e1e9a43",
   "metadata": {
    "tags": []
   },
   "outputs": [
    {
     "data": {
      "text/plain": [
       "30522"
      ]
     },
     "execution_count": 34,
     "metadata": {},
     "output_type": "execute_result"
    }
   ],
   "source": [
    "VOCAB_LENGTH = len(tokenizer.vocab)\n",
    "EMB_DIM = 100 #200\n",
    "CNN_FILTERS = 50 #100\n",
    "DNN_UNITS = 128 #256\n",
    "OUTPUT_CLASSES = 43\n",
    "DROPOUT_RATE = 0.1 # 0.2\n",
    "NB_EPOCHS = 60\n",
    "VOCAB_LENGTH\n",
    "# 100 50 128 61 0.1 10 =>0.88"
   ]
  },
  {
   "cell_type": "code",
   "execution_count": 35,
   "id": "ca899cba-5549-4283-9123-2f252e251d29",
   "metadata": {
    "tags": []
   },
   "outputs": [],
   "source": [
    "text_model = TEXT_MODEL(vocabulary_size=VOCAB_LENGTH,\n",
    "                        embedding_dimensions=EMB_DIM,\n",
    "                        cnn_filters=CNN_FILTERS,\n",
    "                        dnn_units=DNN_UNITS,\n",
    "                        model_output_classes=OUTPUT_CLASSES,\n",
    "                        dropout_rate=DROPOUT_RATE)"
   ]
  },
  {
   "cell_type": "code",
   "execution_count": 36,
   "id": "35450859-2c35-42ec-b5f0-08a21283ccf4",
   "metadata": {
    "tags": []
   },
   "outputs": [
    {
     "name": "stdout",
     "output_type": "stream",
     "text": [
      "Epoch 1/60\n",
      "WARNING:tensorflow:Gradients do not exist for variables ['text_model/lstm/lstm_cell/kernel:0', 'text_model/lstm/lstm_cell/recurrent_kernel:0', 'text_model/lstm/lstm_cell/bias:0'] when minimizing the loss. If you're using `model.compile()`, did you forget to provide a `loss` argument?\n"
     ]
    },
    {
     "name": "stderr",
     "output_type": "stream",
     "text": [
      "WARNING:tensorflow:Gradients do not exist for variables ['text_model/lstm/lstm_cell/kernel:0', 'text_model/lstm/lstm_cell/recurrent_kernel:0', 'text_model/lstm/lstm_cell/bias:0'] when minimizing the loss. If you're using `model.compile()`, did you forget to provide a `loss` argument?\n"
     ]
    },
    {
     "name": "stdout",
     "output_type": "stream",
     "text": [
      "WARNING:tensorflow:Gradients do not exist for variables ['text_model/lstm/lstm_cell/kernel:0', 'text_model/lstm/lstm_cell/recurrent_kernel:0', 'text_model/lstm/lstm_cell/bias:0'] when minimizing the loss. If you're using `model.compile()`, did you forget to provide a `loss` argument?\n"
     ]
    },
    {
     "name": "stderr",
     "output_type": "stream",
     "text": [
      "WARNING:tensorflow:Gradients do not exist for variables ['text_model/lstm/lstm_cell/kernel:0', 'text_model/lstm/lstm_cell/recurrent_kernel:0', 'text_model/lstm/lstm_cell/bias:0'] when minimizing the loss. If you're using `model.compile()`, did you forget to provide a `loss` argument?\n"
     ]
    },
    {
     "name": "stdout",
     "output_type": "stream",
     "text": [
      "546/546 [==============================] - 9s 11ms/step - loss: 2.0175 - sparse_categorical_accuracy: 0.5195\n",
      "Epoch 2/60\n",
      "546/546 [==============================] - 4s 7ms/step - loss: 1.0830 - sparse_categorical_accuracy: 0.7435\n",
      "Epoch 3/60\n",
      "546/546 [==============================] - 4s 7ms/step - loss: 0.8543 - sparse_categorical_accuracy: 0.7925\n",
      "Epoch 4/60\n",
      "546/546 [==============================] - 4s 7ms/step - loss: 0.7643 - sparse_categorical_accuracy: 0.8089\n",
      "Epoch 5/60\n",
      "546/546 [==============================] - 4s 7ms/step - loss: 0.7099 - sparse_categorical_accuracy: 0.8171\n",
      "Epoch 6/60\n",
      "546/546 [==============================] - 4s 7ms/step - loss: 0.6767 - sparse_categorical_accuracy: 0.8218\n",
      "Epoch 7/60\n",
      "546/546 [==============================] - 4s 7ms/step - loss: 0.6457 - sparse_categorical_accuracy: 0.8276\n",
      "Epoch 8/60\n",
      "546/546 [==============================] - 4s 7ms/step - loss: 0.6242 - sparse_categorical_accuracy: 0.8306\n",
      "Epoch 9/60\n",
      "546/546 [==============================] - 4s 7ms/step - loss: 0.6039 - sparse_categorical_accuracy: 0.8344\n",
      "Epoch 10/60\n",
      "546/546 [==============================] - 4s 7ms/step - loss: 0.5873 - sparse_categorical_accuracy: 0.8367\n",
      "Epoch 11/60\n",
      "546/546 [==============================] - 4s 7ms/step - loss: 0.5708 - sparse_categorical_accuracy: 0.8385\n",
      "Epoch 12/60\n",
      "546/546 [==============================] - 4s 7ms/step - loss: 0.5584 - sparse_categorical_accuracy: 0.8404\n",
      "Epoch 13/60\n",
      "546/546 [==============================] - 4s 7ms/step - loss: 0.5464 - sparse_categorical_accuracy: 0.8416\n",
      "Epoch 14/60\n",
      "546/546 [==============================] - 4s 7ms/step - loss: 0.5394 - sparse_categorical_accuracy: 0.8425\n",
      "Epoch 15/60\n",
      "546/546 [==============================] - 4s 7ms/step - loss: 0.5268 - sparse_categorical_accuracy: 0.8444\n",
      "Epoch 16/60\n",
      "546/546 [==============================] - 4s 7ms/step - loss: 0.5201 - sparse_categorical_accuracy: 0.8470\n",
      "Epoch 17/60\n",
      "546/546 [==============================] - 4s 7ms/step - loss: 0.5090 - sparse_categorical_accuracy: 0.8467\n",
      "Epoch 18/60\n",
      "546/546 [==============================] - 4s 7ms/step - loss: 0.5022 - sparse_categorical_accuracy: 0.8478\n",
      "Epoch 19/60\n",
      "546/546 [==============================] - 4s 7ms/step - loss: 0.4976 - sparse_categorical_accuracy: 0.8471\n",
      "Epoch 20/60\n",
      "546/546 [==============================] - 4s 7ms/step - loss: 0.4917 - sparse_categorical_accuracy: 0.8493\n",
      "Epoch 21/60\n",
      "546/546 [==============================] - 4s 7ms/step - loss: 0.4830 - sparse_categorical_accuracy: 0.8501\n",
      "Epoch 22/60\n",
      "546/546 [==============================] - 4s 7ms/step - loss: 0.4800 - sparse_categorical_accuracy: 0.8491\n",
      "Epoch 23/60\n",
      "546/546 [==============================] - 4s 7ms/step - loss: 0.4743 - sparse_categorical_accuracy: 0.8516\n",
      "Epoch 24/60\n",
      "546/546 [==============================] - 4s 7ms/step - loss: 0.4686 - sparse_categorical_accuracy: 0.8525\n",
      "Epoch 25/60\n",
      "546/546 [==============================] - 4s 7ms/step - loss: 0.4658 - sparse_categorical_accuracy: 0.8505\n",
      "Epoch 26/60\n",
      "546/546 [==============================] - 4s 7ms/step - loss: 0.4586 - sparse_categorical_accuracy: 0.8540\n",
      "Epoch 27/60\n",
      "546/546 [==============================] - 4s 7ms/step - loss: 0.4601 - sparse_categorical_accuracy: 0.8511\n",
      "Epoch 28/60\n",
      "546/546 [==============================] - 4s 7ms/step - loss: 0.4577 - sparse_categorical_accuracy: 0.8541\n",
      "Epoch 29/60\n",
      "546/546 [==============================] - 4s 7ms/step - loss: 0.4541 - sparse_categorical_accuracy: 0.8526\n",
      "Epoch 30/60\n",
      "546/546 [==============================] - 4s 7ms/step - loss: 0.4490 - sparse_categorical_accuracy: 0.8540\n",
      "Epoch 31/60\n",
      "546/546 [==============================] - 4s 7ms/step - loss: 0.4458 - sparse_categorical_accuracy: 0.8558\n",
      "Epoch 32/60\n",
      "546/546 [==============================] - 4s 7ms/step - loss: 0.4412 - sparse_categorical_accuracy: 0.8571\n",
      "Epoch 33/60\n",
      "546/546 [==============================] - 4s 7ms/step - loss: 0.4407 - sparse_categorical_accuracy: 0.8551\n",
      "Epoch 34/60\n",
      "546/546 [==============================] - 4s 7ms/step - loss: 0.4368 - sparse_categorical_accuracy: 0.8534\n",
      "Epoch 35/60\n",
      "546/546 [==============================] - 4s 7ms/step - loss: 0.4324 - sparse_categorical_accuracy: 0.8576\n",
      "Epoch 36/60\n",
      "546/546 [==============================] - 4s 7ms/step - loss: 0.4344 - sparse_categorical_accuracy: 0.8560\n",
      "Epoch 37/60\n",
      "546/546 [==============================] - 4s 7ms/step - loss: 0.4315 - sparse_categorical_accuracy: 0.8555\n",
      "Epoch 38/60\n",
      "546/546 [==============================] - 4s 7ms/step - loss: 0.4284 - sparse_categorical_accuracy: 0.8564\n",
      "Epoch 39/60\n",
      "546/546 [==============================] - 4s 7ms/step - loss: 0.4254 - sparse_categorical_accuracy: 0.8570\n",
      "Epoch 40/60\n",
      "546/546 [==============================] - 4s 7ms/step - loss: 0.4250 - sparse_categorical_accuracy: 0.8572\n",
      "Epoch 41/60\n",
      "546/546 [==============================] - 4s 7ms/step - loss: 0.4255 - sparse_categorical_accuracy: 0.8566\n",
      "Epoch 42/60\n",
      "546/546 [==============================] - 4s 7ms/step - loss: 0.4248 - sparse_categorical_accuracy: 0.8576\n",
      "Epoch 43/60\n",
      "546/546 [==============================] - 4s 7ms/step - loss: 0.4203 - sparse_categorical_accuracy: 0.8600\n",
      "Epoch 44/60\n",
      "546/546 [==============================] - 4s 7ms/step - loss: 0.4203 - sparse_categorical_accuracy: 0.8569\n",
      "Epoch 45/60\n",
      "546/546 [==============================] - 4s 7ms/step - loss: 0.4163 - sparse_categorical_accuracy: 0.8592\n",
      "Epoch 46/60\n",
      "546/546 [==============================] - 4s 7ms/step - loss: 0.4172 - sparse_categorical_accuracy: 0.8579\n",
      "Epoch 47/60\n",
      "546/546 [==============================] - 4s 7ms/step - loss: 0.4171 - sparse_categorical_accuracy: 0.8589\n",
      "Epoch 48/60\n",
      "546/546 [==============================] - 4s 7ms/step - loss: 0.4116 - sparse_categorical_accuracy: 0.8577\n",
      "Epoch 49/60\n",
      "546/546 [==============================] - 4s 7ms/step - loss: 0.4106 - sparse_categorical_accuracy: 0.8593\n",
      "Epoch 50/60\n",
      "546/546 [==============================] - 4s 7ms/step - loss: 0.4108 - sparse_categorical_accuracy: 0.8578\n",
      "Epoch 51/60\n",
      "546/546 [==============================] - 4s 7ms/step - loss: 0.4121 - sparse_categorical_accuracy: 0.8585\n",
      "Epoch 52/60\n",
      "546/546 [==============================] - 4s 7ms/step - loss: 0.4115 - sparse_categorical_accuracy: 0.8577\n",
      "Epoch 53/60\n",
      "546/546 [==============================] - 4s 7ms/step - loss: 0.4082 - sparse_categorical_accuracy: 0.8588\n",
      "Epoch 54/60\n",
      "546/546 [==============================] - 4s 7ms/step - loss: 0.4089 - sparse_categorical_accuracy: 0.8607\n",
      "Epoch 55/60\n",
      "546/546 [==============================] - 4s 7ms/step - loss: 0.4056 - sparse_categorical_accuracy: 0.8584\n",
      "Epoch 56/60\n",
      "546/546 [==============================] - 4s 7ms/step - loss: 0.4010 - sparse_categorical_accuracy: 0.8614\n",
      "Epoch 57/60\n",
      "546/546 [==============================] - 4s 7ms/step - loss: 0.4037 - sparse_categorical_accuracy: 0.8588\n",
      "Epoch 58/60\n",
      "546/546 [==============================] - 4s 7ms/step - loss: 0.4016 - sparse_categorical_accuracy: 0.8604\n",
      "Epoch 59/60\n",
      "546/546 [==============================] - 4s 7ms/step - loss: 0.4037 - sparse_categorical_accuracy: 0.8620\n",
      "Epoch 60/60\n",
      "546/546 [==============================] - 4s 7ms/step - loss: 0.4009 - sparse_categorical_accuracy: 0.8596\n"
     ]
    },
    {
     "data": {
      "text/plain": [
       "<keras.callbacks.History at 0x19fec604100>"
      ]
     },
     "execution_count": 36,
     "metadata": {},
     "output_type": "execute_result"
    }
   ],
   "source": [
    "if OUTPUT_CLASSES == 2:\n",
    "    text_model.compile(loss=\"binary_crossentropy\",\n",
    "                       optimizer=\"adam\",\n",
    "                       metrics=[\"accuracy\"])\n",
    "else:\n",
    "    text_model.compile(loss=\"sparse_categorical_crossentropy\",\n",
    "                       optimizer=\"adam\",\n",
    "                       metrics=[\"sparse_categorical_accuracy\"])\n",
    "\n",
    "text_model.fit(train_data, epochs=NB_EPOCHS)"
   ]
  },
  {
   "cell_type": "code",
   "execution_count": 37,
   "id": "7d6493f8-3c5e-457b-b39c-372080979f55",
   "metadata": {
    "tags": []
   },
   "outputs": [
    {
     "name": "stdout",
     "output_type": "stream",
     "text": [
      "60/60 [==============================] - 1s 6ms/step - loss: 0.7516 - sparse_categorical_accuracy: 0.9031\n",
      "60번 학습 :  [0.7515605092048645, 0.903124988079071]\n"
     ]
    }
   ],
   "source": [
    "results = text_model.evaluate(test_data)\n",
    "print(\"60번 학습 : \", results)"
   ]
  },
  {
   "cell_type": "code",
   "execution_count": 38,
   "id": "9e6dc653-2111-4820-8b21-7ed9713afc9b",
   "metadata": {
    "tags": []
   },
   "outputs": [
    {
     "name": "stdout",
     "output_type": "stream",
     "text": [
      "Epoch 1/3\n",
      "546/546 [==============================] - 4s 7ms/step - loss: 0.4003 - sparse_categorical_accuracy: 0.8584\n",
      "Epoch 2/3\n",
      "546/546 [==============================] - 4s 7ms/step - loss: 0.3972 - sparse_categorical_accuracy: 0.8603\n",
      "Epoch 3/3\n",
      "546/546 [==============================] - 4s 7ms/step - loss: 0.4001 - sparse_categorical_accuracy: 0.8596\n"
     ]
    },
    {
     "data": {
      "text/plain": [
       "<keras.callbacks.History at 0x19fec5e6da0>"
      ]
     },
     "execution_count": 38,
     "metadata": {},
     "output_type": "execute_result"
    }
   ],
   "source": [
    "text_model.fit(train_data, epochs=3)"
   ]
  },
  {
   "cell_type": "code",
   "execution_count": 39,
   "id": "af5f37da-ff9e-488d-b5e0-6dc1d20fe818",
   "metadata": {
    "tags": []
   },
   "outputs": [
    {
     "name": "stdout",
     "output_type": "stream",
     "text": [
      "60/60 [==============================] - 0s 5ms/step - loss: 0.8337 - sparse_categorical_accuracy: 0.9047\n",
      "13번 학습 :  [0.8336795568466187, 0.9046875238418579]\n"
     ]
    }
   ],
   "source": [
    "results = text_model.evaluate(test_data)\n",
    "print(\"13번 학습 : \", results)"
   ]
  },
  {
   "cell_type": "code",
   "execution_count": 40,
   "id": "51989cd6-9849-4351-b640-31bff66d923c",
   "metadata": {
    "tags": []
   },
   "outputs": [
    {
     "name": "stdout",
     "output_type": "stream",
     "text": [
      "Epoch 1/4\n",
      "546/546 [==============================] - 4s 7ms/step - loss: 0.3983 - sparse_categorical_accuracy: 0.8605\n",
      "Epoch 2/4\n",
      "546/546 [==============================] - 4s 7ms/step - loss: 0.3959 - sparse_categorical_accuracy: 0.8620\n",
      "Epoch 3/4\n",
      "546/546 [==============================] - 4s 7ms/step - loss: 0.3944 - sparse_categorical_accuracy: 0.8612\n",
      "Epoch 4/4\n",
      "546/546 [==============================] - 4s 7ms/step - loss: 0.3977 - sparse_categorical_accuracy: 0.8599\n"
     ]
    },
    {
     "data": {
      "text/plain": [
       "<keras.callbacks.History at 0x19fec606cb0>"
      ]
     },
     "execution_count": 40,
     "metadata": {},
     "output_type": "execute_result"
    }
   ],
   "source": [
    "text_model.fit(train_data, epochs=4)"
   ]
  },
  {
   "cell_type": "code",
   "execution_count": 41,
   "id": "a5458f9e-217d-4d1e-9a1c-c25c634c4466",
   "metadata": {
    "tags": []
   },
   "outputs": [
    {
     "name": "stdout",
     "output_type": "stream",
     "text": [
      "60/60 [==============================] - 0s 5ms/step - loss: 0.9170 - sparse_categorical_accuracy: 0.9078\n",
      "17번 학습 :  [0.9170057773590088, 0.9078124761581421]\n"
     ]
    }
   ],
   "source": [
    "results = text_model.evaluate(test_data)\n",
    "print(\"17번 학습 : \", results)"
   ]
  },
  {
   "cell_type": "markdown",
   "id": "cdf143ad-c98f-4ba9-a197-1c005d59b133",
   "metadata": {},
   "source": [
    "## pred 는각각 61개 컬럼 라벨에서의 확률"
   ]
  },
  {
   "cell_type": "code",
   "execution_count": 42,
   "id": "1b1782d4-1a23-4344-b769-e626ac3dcb02",
   "metadata": {
    "tags": []
   },
   "outputs": [
    {
     "name": "stdout",
     "output_type": "stream",
     "text": [
      "60/60 [==============================] - 1s 4ms/step\n"
     ]
    }
   ],
   "source": [
    "pred = text_model.predict(test_data)"
   ]
  },
  {
   "cell_type": "code",
   "execution_count": 43,
   "id": "133e79f3-84b4-4b45-992f-fc5a7cef3f6e",
   "metadata": {
    "tags": []
   },
   "outputs": [
    {
     "data": {
      "text/plain": [
       "(1920, 43)"
      ]
     },
     "execution_count": 43,
     "metadata": {},
     "output_type": "execute_result"
    }
   ],
   "source": [
    "pred.shape"
   ]
  },
  {
   "cell_type": "code",
   "execution_count": 44,
   "id": "275e3806-ddde-4b03-8ba1-ba2458981326",
   "metadata": {
    "tags": []
   },
   "outputs": [
    {
     "data": {
      "text/plain": [
       "array([9.9780184e-01, 2.4903512e-28, 8.1187972e-14, 1.7010093e-04,\n",
       "       2.1845526e-07, 3.4715117e-06, 4.3863923e-14, 6.6890220e-07,\n",
       "       1.1165293e-06, 3.2771923e-12, 6.6530482e-08, 5.2605945e-16,\n",
       "       1.0743272e-10, 7.6955429e-04, 3.2824353e-06, 9.7387229e-08,\n",
       "       4.6821755e-11, 1.3413455e-07, 2.7170498e-11, 1.2414083e-07,\n",
       "       3.0519661e-19, 1.0906179e-12, 5.8234048e-19, 1.4340452e-14,\n",
       "       1.0427794e-15, 2.8808728e-10, 4.2471302e-23, 1.1283725e-10,\n",
       "       6.1160863e-09, 7.6672745e-15, 5.3904444e-08, 3.6062531e-08,\n",
       "       3.0973821e-10, 1.2423772e-03, 5.0585383e-18, 1.9295547e-09,\n",
       "       4.7341050e-08, 6.1570275e-13, 5.6546137e-06, 8.7488905e-07,\n",
       "       2.4449031e-07, 1.3071990e-13, 6.6195164e-16], dtype=float32)"
      ]
     },
     "execution_count": 44,
     "metadata": {},
     "output_type": "execute_result"
    }
   ],
   "source": [
    "pred[0]"
   ]
  },
  {
   "cell_type": "markdown",
   "id": "19d32926-b7d9-4a30-aa61-eb724528a207",
   "metadata": {},
   "source": [
    "# predicted_result 50개의 배치(배치 사이즈 : 32) 데이터 마다 예측 라벨링을 리스트에 저장 "
   ]
  },
  {
   "cell_type": "code",
   "execution_count": 46,
   "id": "2f942e5d-e068-4281-985f-171d08dd1179",
   "metadata": {
    "tags": []
   },
   "outputs": [],
   "source": [
    "predicted_result = []\n",
    "for j in range(60):\n",
    "    temp=[]\n",
    "    for i in range(32) :   \n",
    "        predicted_class = tf.argmax(pred[i+ j*32]).numpy() ## 가장 높은 확률의 라벨링 데이터를 구함\n",
    "        temp.append(predicted_class)\n",
    "    predicted_result.append(temp)\n",
    "        # print(predicted_class)"
   ]
  },
  {
   "cell_type": "code",
   "execution_count": 47,
   "id": "3aa175fc-2d4e-41f5-8f1f-ad363c06d7f0",
   "metadata": {
    "tags": []
   },
   "outputs": [
    {
     "name": "stdout",
     "output_type": "stream",
     "text": [
      "[0, 2, 37, 13, 0, 42, 30, 13, 22, 35, 3, 28, 9, 3, 22, 0, 13, 28, 42, 0, 22, 0, 13, 4, 22, 13, 22, 42, 40, 27, 13, 30]\n",
      "[28, 0, 0, 3, 28, 4, 37, 13, 27, 22, 0, 0, 22, 40, 27, 22, 37, 27, 37, 33, 2, 41, 2, 27, 0, 34, 33, 15, 32, 34, 40, 0]\n",
      "[13, 30, 40, 3, 27, 22, 40, 38, 9, 34, 32, 35, 0, 32, 9, 40, 3, 38, 2, 27, 12, 2, 32, 40, 12, 2, 27, 12, 27, 13, 3, 22]\n",
      "[12, 40, 32, 13, 13, 16, 27, 13, 3, 32, 39, 37, 22, 39, 39, 3, 22, 12, 38, 12, 31, 32, 39, 0, 3, 13, 13, 13, 3, 13, 9, 12]\n",
      "[28, 37, 41, 0, 41, 13, 2, 32, 22, 2, 0, 33, 13, 13, 13, 34, 3, 32, 0, 41, 0, 40, 13, 2, 27, 29, 13, 4, 3, 13, 27, 11]\n",
      "[40, 3, 12, 5, 9, 12, 27, 34, 10, 13, 39, 5, 13, 13, 13, 28, 19, 41, 14, 13, 13, 29, 13, 12, 42, 0, 41, 12, 37, 12, 39, 9]\n",
      "[0, 30, 13, 28, 40, 13, 13, 14, 14, 41, 28, 3, 19, 13, 12, 42, 40, 40, 28, 30, 28, 22, 13, 9, 30, 12, 3, 13, 2, 27, 38, 3]\n",
      "[41, 28, 13, 3, 12, 19, 39, 34, 0, 40, 13, 42, 30, 40, 13, 4, 11, 13, 33, 15, 42, 9, 41, 12, 12, 28, 13, 13, 31, 12, 12, 28]\n",
      "[42, 9, 42, 41, 30, 24, 13, 13, 22, 41, 40, 12, 38, 34, 41, 42, 13, 28, 27, 31, 28, 34, 12, 28, 2, 38, 28, 41, 13, 12, 12, 13]\n",
      "[5, 40, 28, 12, 13, 28, 40, 28, 13, 19, 28, 15, 0, 12, 12, 22, 13, 18, 41, 28, 4, 42, 40, 0, 4, 36, 40, 28, 22, 3, 12, 9]\n",
      "[31, 13, 3, 13, 28, 37, 13, 33, 2, 13, 16, 32, 38, 31, 42, 31, 40, 28, 13, 19, 31, 31, 41, 40, 0, 42, 18, 42, 13, 14, 38, 38]\n",
      "[13, 29, 28, 38, 3, 30, 12, 3, 12, 12, 13, 38, 41, 40, 31, 3, 12, 39, 28, 40, 14, 12, 13, 12, 42, 42, 12, 13, 13, 14, 40, 42]\n",
      "[22, 15, 5, 0, 34, 37, 28, 30, 28, 14, 41, 42, 28, 13, 19, 31, 42, 36, 39, 38, 13, 33, 0, 13, 10, 42, 42, 33, 12, 13, 30, 0]\n",
      "[13, 30, 32, 13, 12, 31, 13, 32, 13, 22, 22, 28, 33, 13, 13, 30, 28, 5, 28, 24, 9, 0, 32, 13, 14, 33, 30, 28, 41, 10, 30, 41]\n",
      "[13, 13, 13, 33, 42, 41, 42, 37, 42, 37, 18, 42, 13, 41, 25, 34, 29, 13, 37, 13, 42, 28, 28, 12, 35, 42, 27, 31, 9, 40, 41, 2]\n",
      "[14, 13, 13, 3, 31, 12, 22, 28, 31, 28, 14, 2, 13, 22, 38, 34, 30, 34, 12, 38, 14, 12, 31, 3, 12, 33, 14, 42, 30, 13, 28, 28]\n",
      "[28, 0, 22, 0, 38, 38, 19, 0, 0, 28, 31, 12, 3, 42, 42, 0, 0, 41, 13, 28, 22, 31, 13, 42, 13, 13, 38, 13, 42, 13, 30, 13]\n",
      "[39, 13, 13, 13, 14, 3, 29, 13, 3, 22, 0, 32, 13, 2, 0, 22, 13, 2, 39, 28, 27, 13, 32, 34, 32, 37, 22, 28, 13, 28, 28, 28]\n",
      "[0, 3, 13, 8, 27, 10, 6, 31, 32, 0, 0, 37, 37, 36, 24, 32, 0, 22, 3, 15, 30, 28, 7, 13, 39, 28, 32, 32, 13, 11, 35, 32]\n",
      "[28, 13, 40, 28, 24, 29, 13, 40, 34, 32, 32, 35, 32, 13, 22, 25, 14, 37, 29, 28, 13, 22, 22, 22, 13, 39, 13, 37, 40, 14, 32, 0]\n",
      "[9, 32, 13, 32, 39, 28, 13, 13, 14, 0, 10, 21, 28, 0, 28, 28, 12, 13, 13, 3, 0, 14, 22, 22, 13, 39, 29, 22, 37, 10, 22, 0]\n",
      "[35, 22, 10, 22, 32, 29, 7, 36, 13, 13, 22, 10, 32, 22, 32, 22, 22, 30, 0, 12, 30, 32, 41, 9, 13, 28, 40, 22, 13, 25, 14, 9]\n",
      "[13, 32, 22, 29, 37, 39, 32, 13, 13, 28, 13, 33, 14, 15, 37, 28, 22, 28, 35, 28, 13, 14, 19, 28, 32, 22, 37, 39, 28, 13, 13, 32]\n",
      "[15, 33, 28, 13, 13, 41, 10, 0, 35, 10, 28, 13, 41, 14, 21, 28, 0, 13, 32, 9, 40, 0, 27, 13, 29, 28, 32, 33, 37, 13, 8, 13]\n",
      "[0, 22, 0, 28, 0, 13, 28, 13, 28, 34, 13, 40, 22, 10, 14, 35, 40, 10, 13, 22, 0, 32, 13, 40, 40, 0, 13, 32, 13, 28, 13, 9]\n",
      "[12, 28, 22, 32, 11, 24, 22, 29, 22, 22, 13, 28, 22, 13, 41, 32, 33, 22, 13, 29, 29, 32, 0, 10, 37, 0, 8, 33, 13, 13, 29, 13]\n",
      "[13, 13, 22, 32, 28, 0, 0, 9, 22, 40, 37, 13, 13, 13, 3, 28, 13, 28, 22, 0, 13, 22, 22, 10, 9, 40, 35, 0, 13, 13, 40, 24]\n",
      "[7, 27, 9, 33, 13, 0, 14, 14, 2, 42, 10, 22, 41, 28, 40, 21, 14, 22, 22, 13, 40, 13, 28, 13, 40, 0, 9, 10, 41, 7, 13, 32]\n",
      "[10, 0, 22, 25, 36, 40, 39, 33, 39, 34, 38, 10, 28, 0, 28, 32, 13, 39, 32, 0, 0, 40, 32, 0, 22, 10, 13, 22, 13, 14, 13, 13]\n",
      "[29, 0, 41, 30, 34, 28, 39, 32, 28, 22, 22, 2, 22, 13, 14, 22, 29, 8, 28, 13, 13, 10, 13, 0, 12, 32, 40, 22, 22, 13, 22, 10]\n",
      "[9, 28, 21, 13, 13, 32, 40, 14, 6, 41, 12, 3, 9, 9, 22, 32, 13, 37, 25, 13, 13, 22, 15, 22, 27, 28, 33, 28, 22, 7, 15, 39]\n",
      "[38, 21, 13, 13, 12, 32, 7, 0, 25, 13, 7, 13, 13, 28, 3, 40, 25, 10, 22, 22, 0, 28, 0, 33, 37, 40, 28, 30, 13, 3, 0, 13]\n",
      "[22, 41, 40, 29, 0, 37, 37, 0, 13, 22, 32, 3, 9, 10, 37, 41, 28, 40, 37, 32, 9, 27, 38, 2, 9, 32, 34, 22, 3, 22, 32, 22]\n",
      "[22, 28, 24, 37, 22, 22, 0, 34, 13, 10, 14, 37, 32, 13, 28, 13, 14, 15, 37, 10, 13, 13, 15, 3, 14, 13, 22, 20, 25, 28, 0, 13]\n",
      "[13, 14, 10, 7, 29, 0, 13, 13, 29, 13, 37, 22, 32, 22, 0, 2, 28, 29, 0, 10, 22, 3, 39, 2, 13, 0, 0, 13, 27, 22, 32, 24]\n",
      "[22, 28, 4, 37, 13, 37, 22, 29, 32, 31, 13, 3, 13, 0, 3, 28, 3, 0, 40, 22, 11, 13, 8, 29, 13, 32, 37, 28, 3, 9, 10, 13]\n",
      "[14, 14, 32, 12, 3, 33, 39, 24, 28, 22, 15, 9, 0, 22, 32, 22, 32, 0, 10, 28, 10, 13, 22, 22, 13, 28, 4, 39, 0, 3, 13, 13]\n",
      "[35, 13, 33, 13, 13, 35, 28, 41, 41, 11, 35, 9, 0, 9, 28, 30, 9, 32, 28, 9, 9, 13, 28, 0, 13, 0, 32, 13, 8, 22, 42, 3]\n",
      "[13, 13, 0, 28, 21, 40, 27, 28, 34, 13, 28, 27, 13, 26, 13, 15, 14, 32, 37, 9, 29, 0, 3, 35, 35, 0, 28, 3, 13, 0, 13, 27]\n",
      "[3, 10, 13, 39, 37, 28, 0, 28, 3, 32, 21, 28, 13, 3, 9, 3, 11, 32, 34, 13, 0, 35, 32, 21, 13, 3, 13, 13, 3, 41, 28, 3]\n",
      "[28, 28, 35, 21, 3, 2, 37, 33, 28, 13, 34, 42, 14, 13, 9, 11, 39, 37, 13, 28, 28, 41, 13, 13, 41, 0, 42, 11, 13, 22, 39, 33]\n",
      "[5, 0, 23, 36, 13, 22, 27, 34, 37, 13, 9, 9, 0, 13, 28, 24, 34, 28, 0, 29, 11, 13, 28, 0, 5, 39, 34, 8, 33, 13, 27, 28]\n",
      "[3, 5, 11, 30, 22, 0, 11, 28, 29, 14, 15, 29, 13, 9, 25, 21, 11, 28, 28, 28, 37, 13, 37, 31, 0, 34, 0, 21, 39, 13, 39, 37]\n",
      "[32, 14, 20, 13, 13, 41, 29, 37, 28, 31, 0, 32, 12, 0, 28, 28, 22, 5, 29, 13, 5, 20, 3, 34, 15, 13, 30, 0, 40, 37, 28, 15]\n",
      "[28, 3, 14, 0, 34, 28, 21, 37, 32, 42, 9, 42, 21, 33, 13, 28, 13, 37, 13, 34, 13, 12, 25, 13, 29, 13, 30, 35, 14, 13, 3, 28]\n",
      "[0, 34, 15, 3, 32, 39, 28, 41, 14, 32, 28, 0, 29, 28, 32, 37, 28, 28, 23, 9, 3, 13, 13, 6, 12, 12, 0, 3, 27, 37, 0, 22]\n",
      "[32, 13, 13, 13, 8, 9, 25, 11, 22, 13, 32, 29, 40, 33, 40, 34, 34, 34, 0, 42, 14, 37, 29, 11, 21, 13, 12, 32, 13, 39, 19, 13]\n",
      "[0, 0, 28, 37, 13, 27, 34, 37, 13, 13, 29, 13, 28, 28, 3, 27, 13, 34, 13, 32, 13, 34, 14, 32, 32, 37, 30, 22, 13, 21, 29, 11]\n",
      "[3, 0, 28, 11, 13, 13, 13, 28, 28, 35, 20, 27, 37, 14, 0, 30, 0, 15, 3, 10, 30, 0, 29, 30, 27, 13, 11, 28, 41, 3, 18, 0]\n",
      "[13, 32, 18, 13, 13, 13, 3, 0, 14, 21, 35, 32, 42, 40, 28, 3, 39, 13, 29, 28, 13, 30, 13, 28, 11, 28, 33, 37, 10, 21, 41, 3]\n",
      "[37, 34, 3, 13, 40, 37, 25, 12, 13, 27, 29, 13, 22, 39, 22, 28, 13, 14, 21, 40, 40, 39, 32, 13, 37, 30, 13, 0, 13, 0, 31, 28]\n",
      "[0, 28, 41, 5, 0, 9, 28, 3, 21, 13, 8, 28, 28, 21, 0, 25, 41, 32, 13, 13, 0, 28, 25, 14, 12, 28, 13, 28, 0, 37, 0, 34]\n",
      "[13, 13, 32, 9, 32, 9, 28, 32, 12, 0, 36, 0, 28, 28, 33, 14, 21, 13, 40, 0, 28, 37, 5, 30, 0, 2, 13, 13, 22, 22, 3, 0]\n",
      "[37, 33, 34, 11, 3, 19, 28, 25, 10, 27, 0, 27, 28, 37, 13, 28, 37, 20, 0, 13, 0, 28, 12, 14, 2, 40, 31, 27, 21, 0, 39, 9]\n",
      "[0, 0, 14, 29, 28, 22, 13, 13, 11, 29, 27, 10, 0, 32, 13, 28, 32, 22, 35, 3, 0, 22, 22, 13, 34, 14, 22, 11, 11, 0, 27, 0]\n",
      "[11, 13, 3, 37, 37, 29, 28, 33, 13, 0, 34, 13, 0, 36, 28, 22, 14, 11, 13, 42, 28, 21, 3, 9, 35, 21, 34, 37, 12, 15, 12, 0]\n",
      "[28, 13, 22, 34, 11, 25, 34, 5, 0, 0, 9, 0, 28, 13, 28, 13, 36, 14, 40, 0, 13, 32, 21, 9, 41, 34, 34, 0, 41, 0, 30, 15]\n",
      "[13, 13, 41, 28, 13, 13, 28, 13, 42, 28, 30, 14, 32, 42, 29, 13, 37, 0, 28, 27, 29, 13, 13, 41, 21, 28, 27, 8, 35, 8, 28, 0]\n",
      "[13, 22, 12, 13, 37, 28, 28, 0, 37, 14, 5, 13, 17, 4, 40, 0, 29, 40, 13, 22, 34, 3, 34, 10, 28, 0, 0, 28, 32, 35, 34, 6]\n",
      "[13, 30, 34, 39, 25, 34, 33, 25, 39, 32, 22, 13, 28, 0, 32, 13, 28, 13, 30, 39, 13, 22, 28, 13, 9, 28, 22, 14, 38, 12, 28, 25]\n"
     ]
    }
   ],
   "source": [
    "for lis in predicted_result:\n",
    "    print(lis)"
   ]
  },
  {
   "cell_type": "markdown",
   "id": "f5d693f8-3ab6-4a79-990e-cc372cc1a8e9",
   "metadata": {},
   "source": [
    "# true_result : 테스트 데이터에서의 실제 라벨링"
   ]
  },
  {
   "cell_type": "code",
   "execution_count": 49,
   "id": "58bd7f02-f502-4e2b-86b0-53332ea15776",
   "metadata": {
    "tags": []
   },
   "outputs": [],
   "source": [
    "true_result =[]\n",
    "for inputs, targets in test_data.take(60):\n",
    "    # 첫 번째 데이터 샘플에 대한 입력(inputs)과 라벨(targets)을 확인\n",
    "\n",
    "    # Convert EagerTensor to numpy array\n",
    "    targets_numpy = np.array(targets)\n",
    "\n",
    "    # Convert numpy array to list\n",
    "    targets_list = targets_numpy.tolist()\n",
    "    true_result.append(targets_list)\n",
    "    # print(\"Targets:\", targets_list)\n"
   ]
  },
  {
   "cell_type": "code",
   "execution_count": 50,
   "id": "491ed6c6-4952-4d46-a51b-2c989fd68d4b",
   "metadata": {
    "tags": []
   },
   "outputs": [
    {
     "name": "stdout",
     "output_type": "stream",
     "text": [
      "[0, 2, 37, 13, 0, 26, 37, 13, 22, 35, 3, 28, 9, 3, 22, 0, 13, 28, 26, 0, 22, 0, 40, 4, 22, 13, 22, 26, 40, 27, 40, 37]\n",
      "[28, 0, 0, 3, 28, 4, 37, 13, 27, 22, 0, 0, 22, 40, 27, 22, 37, 27, 37, 33, 2, 41, 2, 27, 0, 34, 33, 15, 32, 34, 40, 0]\n",
      "[13, 37, 40, 3, 27, 22, 40, 38, 9, 34, 32, 35, 0, 32, 32, 40, 3, 22, 2, 27, 12, 2, 32, 40, 12, 2, 27, 12, 27, 13, 3, 22]\n",
      "[12, 40, 32, 13, 13, 16, 27, 13, 3, 32, 39, 37, 22, 39, 39, 3, 22, 12, 38, 12, 31, 32, 39, 0, 3, 13, 28, 28, 3, 13, 9, 12]\n",
      "[28, 37, 41, 13, 13, 13, 2, 32, 22, 2, 0, 8, 13, 13, 28, 34, 3, 32, 0, 41, 0, 40, 13, 2, 27, 29, 13, 4, 3, 13, 27, 13]\n",
      "[40, 3, 12, 8, 9, 12, 27, 34, 8, 13, 14, 8, 13, 9, 13, 28, 22, 41, 14, 13, 13, 29, 13, 12, 9, 0, 41, 12, 37, 12, 39, 9]\n",
      "[0, 30, 13, 28, 40, 15, 13, 14, 14, 41, 28, 3, 22, 13, 12, 26, 40, 40, 28, 30, 28, 22, 13, 9, 30, 12, 3, 13, 2, 27, 22, 3]\n",
      "[41, 28, 41, 3, 12, 22, 39, 34, 0, 40, 13, 26, 30, 40, 13, 4, 11, 13, 33, 15, 26, 9, 41, 12, 12, 28, 13, 13, 31, 12, 12, 28]\n",
      "[26, 9, 26, 41, 30, 25, 13, 13, 22, 41, 40, 12, 38, 34, 41, 26, 13, 28, 27, 31, 28, 34, 12, 28, 2, 22, 28, 41, 13, 12, 12, 13]\n",
      "[5, 40, 28, 12, 13, 28, 40, 28, 13, 19, 28, 13, 0, 12, 12, 22, 13, 18, 41, 28, 4, 9, 40, 0, 4, 36, 40, 13, 22, 3, 12, 15]\n",
      "[31, 13, 3, 13, 28, 37, 13, 33, 2, 13, 16, 32, 38, 31, 26, 31, 40, 28, 13, 22, 31, 31, 41, 40, 0, 26, 18, 26, 13, 14, 38, 22]\n",
      "[13, 29, 28, 27, 3, 30, 12, 3, 12, 12, 28, 22, 41, 40, 31, 3, 12, 14, 28, 40, 14, 12, 41, 12, 26, 26, 12, 13, 13, 14, 40, 26]\n",
      "[22, 14, 5, 0, 34, 37, 28, 30, 28, 14, 41, 26, 28, 13, 22, 31, 9, 36, 39, 38, 13, 33, 0, 13, 10, 26, 26, 33, 12, 13, 30, 0]\n",
      "[13, 30, 14, 13, 13, 31, 13, 32, 13, 22, 22, 28, 33, 28, 13, 30, 28, 5, 28, 39, 9, 0, 32, 13, 14, 33, 30, 28, 41, 2, 30, 41]\n",
      "[28, 13, 13, 33, 26, 41, 26, 37, 9, 37, 18, 26, 13, 41, 25, 34, 29, 13, 37, 13, 26, 28, 28, 12, 35, 9, 27, 31, 9, 40, 41, 2]\n",
      "[14, 13, 9, 3, 31, 12, 22, 28, 31, 28, 14, 2, 28, 22, 22, 34, 30, 34, 12, 38, 14, 12, 31, 3, 12, 33, 14, 9, 30, 9, 10, 28]\n",
      "[14, 0, 22, 0, 22, 22, 37, 0, 0, 28, 31, 12, 3, 26, 26, 0, 0, 41, 13, 28, 22, 31, 13, 9, 13, 13, 22, 13, 26, 13, 30, 13]\n",
      "[39, 13, 13, 28, 14, 3, 29, 13, 3, 22, 0, 32, 13, 2, 0, 22, 13, 2, 39, 28, 27, 13, 32, 34, 32, 37, 22, 28, 13, 28, 28, 28]\n",
      "[0, 16, 13, 8, 27, 10, 6, 31, 32, 0, 0, 37, 37, 36, 24, 32, 0, 22, 3, 15, 30, 28, 7, 13, 39, 28, 32, 32, 13, 11, 35, 32]\n",
      "[28, 13, 40, 28, 24, 29, 13, 40, 34, 32, 32, 35, 32, 13, 22, 25, 14, 37, 29, 28, 13, 22, 22, 22, 13, 39, 28, 37, 40, 14, 32, 0]\n",
      "[9, 32, 13, 32, 15, 28, 13, 13, 14, 0, 10, 24, 28, 0, 28, 28, 12, 13, 13, 3, 0, 14, 22, 22, 13, 39, 29, 22, 37, 10, 22, 0]\n",
      "[22, 22, 10, 22, 32, 29, 7, 36, 13, 13, 22, 10, 32, 22, 32, 22, 22, 30, 0, 12, 30, 32, 41, 9, 13, 28, 40, 22, 31, 25, 14, 9]\n",
      "[13, 32, 22, 29, 37, 39, 32, 29, 13, 28, 28, 21, 14, 15, 37, 28, 22, 28, 35, 28, 13, 14, 19, 28, 32, 22, 37, 39, 28, 13, 13, 32]\n",
      "[15, 22, 28, 13, 13, 41, 10, 0, 35, 10, 28, 13, 41, 14, 21, 28, 0, 13, 32, 5, 40, 0, 27, 13, 29, 28, 32, 21, 37, 5, 8, 13]\n",
      "[5, 22, 0, 28, 0, 13, 28, 13, 28, 34, 13, 40, 22, 10, 14, 35, 40, 10, 13, 22, 0, 32, 13, 40, 40, 0, 13, 32, 13, 28, 13, 9]\n",
      "[12, 28, 22, 32, 11, 24, 22, 29, 22, 22, 13, 28, 22, 28, 41, 32, 9, 22, 13, 29, 29, 32, 0, 10, 37, 0, 19, 33, 13, 13, 29, 13]\n",
      "[13, 13, 22, 32, 28, 0, 0, 9, 22, 40, 37, 28, 13, 13, 3, 28, 13, 28, 22, 0, 13, 22, 22, 10, 9, 40, 35, 0, 13, 13, 40, 24]\n",
      "[7, 27, 9, 33, 13, 0, 14, 14, 2, 17, 10, 22, 41, 28, 40, 21, 14, 22, 22, 13, 40, 13, 28, 13, 40, 0, 9, 10, 41, 7, 13, 32]\n",
      "[10, 0, 22, 25, 36, 40, 39, 21, 39, 34, 38, 10, 28, 0, 28, 10, 13, 24, 32, 0, 0, 13, 32, 0, 22, 10, 13, 22, 13, 14, 13, 13]\n",
      "[29, 0, 41, 30, 34, 28, 24, 32, 28, 22, 22, 28, 22, 13, 14, 22, 29, 8, 13, 13, 13, 10, 13, 14, 12, 32, 40, 22, 22, 13, 22, 10]\n",
      "[9, 28, 13, 13, 13, 32, 40, 14, 6, 41, 12, 3, 9, 9, 22, 32, 13, 37, 25, 28, 28, 22, 39, 22, 27, 28, 33, 28, 22, 7, 15, 39]\n",
      "[38, 21, 13, 13, 12, 32, 7, 0, 25, 28, 7, 13, 13, 28, 3, 40, 25, 10, 22, 22, 0, 13, 0, 33, 37, 40, 28, 30, 13, 16, 0, 13]\n",
      "[22, 41, 40, 29, 0, 37, 37, 0, 13, 22, 32, 25, 9, 10, 37, 41, 28, 40, 37, 32, 9, 27, 38, 2, 9, 32, 34, 22, 3, 22, 32, 22]\n",
      "[22, 28, 24, 37, 22, 22, 0, 34, 13, 10, 14, 37, 32, 13, 28, 13, 14, 15, 37, 10, 13, 13, 39, 3, 14, 13, 22, 20, 25, 28, 0, 13]\n",
      "[21, 14, 10, 7, 29, 0, 13, 13, 29, 13, 37, 22, 32, 22, 0, 13, 28, 29, 0, 10, 22, 3, 24, 2, 13, 0, 0, 13, 27, 22, 32, 21]\n",
      "[22, 28, 4, 37, 13, 37, 22, 29, 32, 31, 13, 3, 28, 0, 3, 28, 3, 0, 40, 22, 11, 13, 8, 29, 13, 32, 37, 28, 3, 9, 10, 13]\n",
      "[14, 14, 32, 40, 3, 33, 24, 24, 28, 22, 15, 9, 0, 22, 32, 22, 32, 0, 10, 28, 10, 13, 22, 22, 13, 28, 4, 24, 0, 3, 13, 13]\n",
      "[35, 28, 22, 13, 13, 35, 28, 41, 41, 11, 35, 9, 0, 9, 28, 30, 9, 32, 28, 9, 9, 13, 28, 0, 13, 0, 40, 13, 8, 22, 6, 3]\n",
      "[13, 13, 0, 28, 21, 40, 27, 28, 34, 13, 28, 27, 13, 26, 13, 15, 14, 32, 37, 9, 29, 0, 3, 35, 35, 0, 28, 3, 13, 0, 13, 27]\n",
      "[3, 10, 13, 39, 37, 13, 0, 28, 3, 32, 21, 28, 13, 3, 9, 3, 11, 40, 34, 13, 0, 35, 32, 21, 29, 3, 13, 13, 3, 41, 28, 3]\n",
      "[28, 28, 35, 21, 3, 2, 37, 33, 13, 13, 34, 42, 14, 13, 9, 11, 39, 37, 13, 28, 28, 41, 13, 13, 41, 0, 42, 11, 13, 22, 39, 33]\n",
      "[5, 0, 13, 36, 13, 22, 27, 34, 37, 13, 9, 9, 0, 13, 28, 14, 34, 28, 0, 29, 11, 13, 28, 0, 5, 39, 34, 8, 33, 13, 27, 28]\n",
      "[3, 5, 11, 22, 22, 0, 11, 28, 29, 14, 15, 29, 13, 9, 25, 21, 11, 28, 28, 28, 37, 13, 37, 31, 0, 34, 0, 21, 39, 13, 39, 37]\n",
      "[32, 14, 20, 13, 13, 41, 29, 37, 28, 31, 0, 32, 24, 0, 28, 28, 22, 5, 29, 13, 5, 20, 3, 34, 15, 13, 30, 0, 40, 37, 28, 15]\n",
      "[28, 3, 14, 3, 34, 28, 21, 37, 32, 42, 9, 17, 21, 33, 13, 28, 13, 37, 13, 34, 13, 12, 25, 13, 29, 13, 30, 12, 14, 13, 3, 28]\n",
      "[0, 34, 15, 3, 32, 39, 28, 41, 39, 32, 28, 0, 29, 28, 32, 37, 28, 28, 23, 9, 3, 13, 13, 6, 12, 12, 0, 3, 27, 37, 0, 22]\n",
      "[32, 13, 13, 13, 8, 9, 25, 11, 22, 13, 32, 29, 40, 33, 40, 34, 34, 34, 0, 42, 14, 37, 29, 11, 21, 13, 12, 32, 13, 39, 37, 13]\n",
      "[0, 0, 13, 40, 13, 27, 34, 37, 13, 13, 29, 13, 28, 28, 3, 27, 13, 34, 31, 32, 13, 34, 14, 32, 32, 40, 30, 22, 13, 21, 29, 11]\n",
      "[3, 0, 28, 11, 13, 13, 13, 28, 28, 35, 20, 27, 37, 14, 0, 30, 0, 15, 5, 10, 30, 0, 29, 30, 27, 13, 11, 28, 41, 3, 18, 0]\n",
      "[13, 32, 18, 13, 13, 13, 3, 0, 14, 21, 35, 32, 42, 40, 28, 3, 39, 13, 29, 28, 13, 30, 13, 28, 11, 28, 33, 37, 10, 21, 41, 3]\n",
      "[37, 34, 3, 13, 39, 37, 25, 12, 13, 27, 29, 13, 22, 39, 22, 28, 13, 14, 21, 40, 40, 39, 32, 13, 37, 22, 13, 0, 13, 0, 31, 28]\n",
      "[0, 28, 41, 5, 0, 9, 28, 3, 21, 13, 8, 28, 28, 21, 0, 25, 41, 32, 13, 13, 3, 28, 25, 14, 9, 28, 13, 28, 0, 37, 0, 34]\n",
      "[13, 13, 32, 9, 32, 9, 28, 40, 12, 0, 36, 0, 28, 28, 33, 14, 21, 13, 40, 0, 28, 37, 5, 30, 0, 39, 13, 13, 22, 22, 3, 0]\n",
      "[40, 33, 34, 11, 3, 19, 28, 25, 10, 27, 0, 27, 10, 37, 13, 28, 37, 20, 0, 13, 0, 28, 12, 14, 2, 40, 29, 27, 21, 0, 39, 9]\n",
      "[0, 0, 14, 29, 28, 22, 13, 13, 11, 29, 27, 10, 0, 32, 13, 28, 32, 22, 35, 3, 0, 22, 22, 13, 34, 14, 22, 11, 11, 0, 27, 0]\n",
      "[11, 13, 3, 37, 37, 29, 28, 33, 13, 0, 34, 13, 0, 36, 28, 22, 14, 11, 13, 42, 28, 21, 3, 9, 35, 21, 34, 40, 12, 39, 12, 0]\n",
      "[28, 13, 22, 34, 11, 25, 34, 5, 0, 0, 9, 0, 28, 13, 28, 13, 36, 14, 40, 0, 13, 32, 21, 9, 41, 34, 34, 0, 41, 0, 22, 15]\n",
      "[13, 13, 41, 13, 13, 13, 28, 13, 42, 28, 19, 14, 32, 17, 29, 13, 37, 0, 28, 27, 29, 13, 13, 41, 21, 28, 27, 20, 35, 8, 28, 3]\n",
      "[13, 22, 12, 13, 37, 13, 13, 13, 37, 14, 5, 13, 17, 4, 40, 0, 29, 40, 13, 22, 34, 5, 34, 10, 28, 0, 3, 28, 32, 35, 34, 6]\n",
      "[13, 30, 34, 39, 25, 34, 33, 25, 39, 32, 22, 13, 28, 0, 32, 13, 28, 13, 30, 39, 13, 22, 28, 13, 9, 28, 22, 14, 19, 12, 28, 25]\n"
     ]
    }
   ],
   "source": [
    "for lis in true_result:\n",
    "    print(lis)"
   ]
  },
  {
   "cell_type": "code",
   "execution_count": 51,
   "id": "c1e02e51-dc3c-4a01-b98c-57fc06cacbcc",
   "metadata": {
    "tags": []
   },
   "outputs": [],
   "source": [
    "from sklearn.metrics import f1_score,classification_report"
   ]
  },
  {
   "cell_type": "code",
   "execution_count": 53,
   "id": "41c47476-8904-4f22-8d80-e0923c6aa0e7",
   "metadata": {
    "tags": []
   },
   "outputs": [
    {
     "name": "stdout",
     "output_type": "stream",
     "text": [
      "F1 score: 0.8344521937028918\n"
     ]
    }
   ],
   "source": [
    "# Calculate F1 score\n",
    "f1 = f1_score([item for sublist in true_result for item in sublist],\n",
    "              [item for sublist in predicted_result for item in sublist], average='macro')\n",
    "print(\"F1 score:\", f1)"
   ]
  },
  {
   "cell_type": "code",
   "execution_count": 54,
   "id": "7056a6b9-d8f4-4970-8531-684f4ca15cf9",
   "metadata": {
    "tags": []
   },
   "outputs": [
    {
     "name": "stdout",
     "output_type": "stream",
     "text": [
      "              precision    recall  f1-score   support\n",
      "\n",
      "           0       1.00      0.95      0.97       159\n",
      "           2       0.95      0.88      0.91        24\n",
      "           3       0.95      0.94      0.94        77\n",
      "           4       1.00      1.00      1.00         9\n",
      "           5       0.71      0.86      0.77        14\n",
      "           6       0.80      1.00      0.89         4\n",
      "           7       1.00      1.00      1.00         8\n",
      "           8       0.69      0.82      0.75        11\n",
      "           9       0.80      0.94      0.86        51\n",
      "          10       0.92      0.94      0.93        36\n",
      "          11       1.00      0.96      0.98        26\n",
      "          12       0.98      0.94      0.96        62\n",
      "          13       0.94      0.90      0.92       324\n",
      "          14       0.89      0.98      0.93        56\n",
      "          15       0.83      0.75      0.79        20\n",
      "          16       0.50      1.00      0.67         2\n",
      "          17       0.25      1.00      0.40         1\n",
      "          18       1.00      1.00      1.00         5\n",
      "          19       0.50      0.30      0.37        10\n",
      "          20       0.83      1.00      0.91         5\n",
      "          21       0.83      0.92      0.87        26\n",
      "          22       0.86      1.00      0.93       124\n",
      "          23       1.00      0.50      0.67         2\n",
      "          24       0.46      0.60      0.52        10\n",
      "          25       0.90      1.00      0.95        19\n",
      "          26       0.04      1.00      0.07         1\n",
      "          27       0.98      1.00      0.99        41\n",
      "          28       0.91      0.94      0.92       190\n",
      "          29       0.94      1.00      0.97        44\n",
      "          30       1.00      0.82      0.90        38\n",
      "          31       0.92      0.96      0.94        23\n",
      "          32       0.99      0.95      0.97        96\n",
      "          33       1.00      0.78      0.88        32\n",
      "          34       1.00      1.00      1.00        51\n",
      "          35       1.00      0.92      0.96        24\n",
      "          36       1.00      1.00      1.00         9\n",
      "          37       0.93      0.94      0.94        71\n",
      "          38       1.00      0.48      0.65        21\n",
      "          39       0.82      0.80      0.81        40\n",
      "          40       0.86      0.97      0.91        63\n",
      "          41       0.96      0.98      0.97        48\n",
      "          42       1.00      0.16      0.28        43\n",
      "\n",
      "    accuracy                           0.91      1920\n",
      "   macro avg       0.86      0.88      0.83      1920\n",
      "weighted avg       0.93      0.91      0.91      1920\n",
      "\n"
     ]
    }
   ],
   "source": [
    "print(classification_report([item for sublist in predicted_result for item in sublist],\n",
    "                            [item for sublist in true_result for item in sublist]))"
   ]
  }
 ],
 "metadata": {
  "kernelspec": {
   "display_name": "venv1",
   "language": "python",
   "name": "venv"
  },
  "language_info": {
   "codemirror_mode": {
    "name": "ipython",
    "version": 3
   },
   "file_extension": ".py",
   "mimetype": "text/x-python",
   "name": "python",
   "nbconvert_exporter": "python",
   "pygments_lexer": "ipython3",
   "version": "3.10.10"
  }
 },
 "nbformat": 4,
 "nbformat_minor": 5
}
