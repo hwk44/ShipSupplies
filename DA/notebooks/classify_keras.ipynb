{
 "cells": [
  {
   "cell_type": "code",
   "execution_count": 19,
   "id": "6c9c7d33-935b-4e22-8121-4078b8948b1d",
   "metadata": {
    "tags": []
   },
   "outputs": [
    {
     "name": "stderr",
     "output_type": "stream",
     "text": [
      "C:\\Users\\peos0\\AppData\\Local\\Temp\\ipykernel_1900\\3345626481.py:7: SettingWithCopyWarning: \n",
      "A value is trying to be set on a copy of a slice from a DataFrame.\n",
      "Try using .loc[row_indexer,col_indexer] = value instead\n",
      "\n",
      "See the caveats in the documentation: https://pandas.pydata.org/pandas-docs/stable/user_guide/indexing.html#returning-a-view-versus-a-copy\n",
      "  df1[\"leadtime\"] = df[\"리드타임\"].astype(int)\n"
     ]
    }
   ],
   "source": [
    "import pandas as pd\n",
    "import numpy as np\n",
    "from sklearn.model_selection import train_test_split\n",
    "from sklearn import preprocessing\n",
    "df = pd.read_csv('../data/raw_postpro.csv', encoding='cp949')\n",
    "df1 = df[['Machinery', 'Assembly' , \"Part No.1\",\"청구품목\", 'key2', '리드타임']]\n",
    "df1[\"leadtime\"] = df[\"리드타임\"].astype(int)\n"
   ]
  },
  {
   "cell_type": "code",
   "execution_count": 20,
   "id": "5d878cc8-97d5-4a35-9c5c-b719284b2caa",
   "metadata": {
    "tags": []
   },
   "outputs": [
    {
     "data": {
      "text/plain": [
       "<bound method DataFrame.info of                    Machinery                              Assembly   \n",
       "0      NO.1 GENERATOR ENGINE               323-6480 LINES GP-FUEL   \\\n",
       "1      NO.2 GENERATOR ENGINE                            GASKET KIT   \n",
       "2      NO.2 GENERATOR ENGINE             285-8374 MANIFOLD GP-EXH    \n",
       "3      NO.1 GENERATOR ENGINE                     159-8828 TURBO GP   \n",
       "4      NO.1 GENERATOR ENGINE             2N4727 INSTRUMNT PANEL GP   \n",
       "...                      ...                                   ...   \n",
       "20512            HYD. SYSTEM  5-753-2E_BOAT DAVIT & N.D CRANE LINE   \n",
       "20513            HYD. SYSTEM  5-753-2E_BOAT DAVIT & N.D CRANE LINE   \n",
       "20514            6M NET BOAT                       ELECTRIC CLUTCH   \n",
       "20515            7M NET BOAT        HAND HYDRAULIC STEERING SYSTEM   \n",
       "20516            7M NET BOAT        HAND HYDRAULIC STEERING SYSTEM   \n",
       "\n",
       "                          Part No.1                                 청구품목   \n",
       "0                         7.00E-275                     SEAL-O-RING-STOR  \\\n",
       "1                         7.00E-275                   OIL COOLER & LINES   \n",
       "2                         7.00E-275                               WASHER   \n",
       "3                         7.00E-275                       BOLT-HIGH TEMP   \n",
       "4                         7.00E-275                                 SEAL   \n",
       "...                             ...                                  ...   \n",
       "20512            φ150 × φ85 × 695st         HYD. CYLINDER_NET BOAT DAVIT   \n",
       "20513          φ160 × φ112 × 1130st  HYD. CYLINDER_N.D CRANE_BOOM_LIFTER   \n",
       "20514                     Φ305X5V-3                                PULLY   \n",
       "20515           Φ50 x S195 CYLINDER                            CYLINDER    \n",
       "20516  Φ50 x S195 CYLINDER SEAL KIT                SEAL KIT FOR CYLINDER   \n",
       "\n",
       "           key2  리드타임  leadtime  \n",
       "0        COOLER   194       194  \n",
       "1        COOLER    59        59  \n",
       "2        COOLER    61        61  \n",
       "3        COOLER   212       212  \n",
       "4        COOLER   220       220  \n",
       "...         ...   ...       ...  \n",
       "20512  CYLINDER    95        95  \n",
       "20513  CYLINDER    67        67  \n",
       "20514      BELT    25        25  \n",
       "20515  CYLINDER    25        25  \n",
       "20516  CYLINDER    25        25  \n",
       "\n",
       "[20517 rows x 7 columns]>"
      ]
     },
     "execution_count": 20,
     "metadata": {},
     "output_type": "execute_result"
    }
   ],
   "source": [
    "df1.info"
   ]
  },
  {
   "cell_type": "code",
   "execution_count": 21,
   "id": "5adee8ec-379b-4d08-aa1f-9247ab32cecc",
   "metadata": {
    "tags": []
   },
   "outputs": [
    {
     "name": "stderr",
     "output_type": "stream",
     "text": [
      "C:\\Users\\peos0\\AppData\\Local\\Temp\\ipykernel_1900\\2691750297.py:11: SettingWithCopyWarning: \n",
      "A value is trying to be set on a copy of a slice from a DataFrame.\n",
      "Try using .loc[row_indexer,col_indexer] = value instead\n",
      "\n",
      "See the caveats in the documentation: https://pandas.pydata.org/pandas-docs/stable/user_guide/indexing.html#returning-a-view-versus-a-copy\n",
      "  df1[column+\"_encoded\"] = le.transform(df1[column])\n",
      "C:\\Users\\peos0\\AppData\\Local\\Temp\\ipykernel_1900\\2691750297.py:11: SettingWithCopyWarning: \n",
      "A value is trying to be set on a copy of a slice from a DataFrame.\n",
      "Try using .loc[row_indexer,col_indexer] = value instead\n",
      "\n",
      "See the caveats in the documentation: https://pandas.pydata.org/pandas-docs/stable/user_guide/indexing.html#returning-a-view-versus-a-copy\n",
      "  df1[column+\"_encoded\"] = le.transform(df1[column])\n",
      "C:\\Users\\peos0\\AppData\\Local\\Temp\\ipykernel_1900\\2691750297.py:11: SettingWithCopyWarning: \n",
      "A value is trying to be set on a copy of a slice from a DataFrame.\n",
      "Try using .loc[row_indexer,col_indexer] = value instead\n",
      "\n",
      "See the caveats in the documentation: https://pandas.pydata.org/pandas-docs/stable/user_guide/indexing.html#returning-a-view-versus-a-copy\n",
      "  df1[column+\"_encoded\"] = le.transform(df1[column])\n",
      "C:\\Users\\peos0\\AppData\\Local\\Temp\\ipykernel_1900\\2691750297.py:11: SettingWithCopyWarning: \n",
      "A value is trying to be set on a copy of a slice from a DataFrame.\n",
      "Try using .loc[row_indexer,col_indexer] = value instead\n",
      "\n",
      "See the caveats in the documentation: https://pandas.pydata.org/pandas-docs/stable/user_guide/indexing.html#returning-a-view-versus-a-copy\n",
      "  df1[column+\"_encoded\"] = le.transform(df1[column])\n",
      "C:\\Users\\peos0\\AppData\\Local\\Temp\\ipykernel_1900\\2691750297.py:11: SettingWithCopyWarning: \n",
      "A value is trying to be set on a copy of a slice from a DataFrame.\n",
      "Try using .loc[row_indexer,col_indexer] = value instead\n",
      "\n",
      "See the caveats in the documentation: https://pandas.pydata.org/pandas-docs/stable/user_guide/indexing.html#returning-a-view-versus-a-copy\n",
      "  df1[column+\"_encoded\"] = le.transform(df1[column])\n"
     ]
    }
   ],
   "source": [
    "from sklearn.preprocessing import LabelEncoder\n",
    "\n",
    "# 기존 데이터프레임의 라벨 인코딩 방식 확인\n",
    "label_encoders = {}  # 각 열에 대한 LabelEncoder를 저장하기 위한 딕셔너리\n",
    "columns_to_encode = ['Machinery', 'Assembly' , \"Part No.1\",\"청구품목\", 'key2']  # 인코딩을 수행할 열의 이름 리스트\n",
    "\n",
    "for column in columns_to_encode:\n",
    "    le = LabelEncoder()\n",
    "    le.fit(df1[column])\n",
    "    label_encoders[column] = le\n",
    "    df1[column+\"_encoded\"] = le.transform(df1[column])"
   ]
  },
  {
   "cell_type": "code",
   "execution_count": 22,
   "id": "47239fd9-1355-4e5a-938c-3c3f5f01e8a0",
   "metadata": {
    "tags": []
   },
   "outputs": [
    {
     "data": {
      "text/html": [
       "<div>\n",
       "<style scoped>\n",
       "    .dataframe tbody tr th:only-of-type {\n",
       "        vertical-align: middle;\n",
       "    }\n",
       "\n",
       "    .dataframe tbody tr th {\n",
       "        vertical-align: top;\n",
       "    }\n",
       "\n",
       "    .dataframe thead th {\n",
       "        text-align: right;\n",
       "    }\n",
       "</style>\n",
       "<table border=\"1\" class=\"dataframe\">\n",
       "  <thead>\n",
       "    <tr style=\"text-align: right;\">\n",
       "      <th></th>\n",
       "      <th>Machinery</th>\n",
       "      <th>Assembly</th>\n",
       "      <th>Part No.1</th>\n",
       "      <th>청구품목</th>\n",
       "      <th>key2</th>\n",
       "      <th>리드타임</th>\n",
       "      <th>leadtime</th>\n",
       "      <th>Machinery_encoded</th>\n",
       "      <th>Assembly_encoded</th>\n",
       "      <th>Part No.1_encoded</th>\n",
       "      <th>청구품목_encoded</th>\n",
       "      <th>key2_encoded</th>\n",
       "    </tr>\n",
       "  </thead>\n",
       "  <tbody>\n",
       "    <tr>\n",
       "      <th>0</th>\n",
       "      <td>NO.1 GENERATOR ENGINE</td>\n",
       "      <td>323-6480 LINES GP-FUEL</td>\n",
       "      <td>7.00E-275</td>\n",
       "      <td>SEAL-O-RING-STOR</td>\n",
       "      <td>COOLER</td>\n",
       "      <td>194</td>\n",
       "      <td>194</td>\n",
       "      <td>108</td>\n",
       "      <td>281</td>\n",
       "      <td>5759</td>\n",
       "      <td>4848</td>\n",
       "      <td>18</td>\n",
       "    </tr>\n",
       "    <tr>\n",
       "      <th>1</th>\n",
       "      <td>NO.2 GENERATOR ENGINE</td>\n",
       "      <td>GASKET KIT</td>\n",
       "      <td>7.00E-275</td>\n",
       "      <td>OIL COOLER &amp; LINES</td>\n",
       "      <td>COOLER</td>\n",
       "      <td>59</td>\n",
       "      <td>59</td>\n",
       "      <td>113</td>\n",
       "      <td>1180</td>\n",
       "      <td>5759</td>\n",
       "      <td>3692</td>\n",
       "      <td>18</td>\n",
       "    </tr>\n",
       "    <tr>\n",
       "      <th>2</th>\n",
       "      <td>NO.2 GENERATOR ENGINE</td>\n",
       "      <td>285-8374 MANIFOLD GP-EXH</td>\n",
       "      <td>7.00E-275</td>\n",
       "      <td>WASHER</td>\n",
       "      <td>COOLER</td>\n",
       "      <td>61</td>\n",
       "      <td>61</td>\n",
       "      <td>113</td>\n",
       "      <td>206</td>\n",
       "      <td>5759</td>\n",
       "      <td>5915</td>\n",
       "      <td>18</td>\n",
       "    </tr>\n",
       "    <tr>\n",
       "      <th>3</th>\n",
       "      <td>NO.1 GENERATOR ENGINE</td>\n",
       "      <td>159-8828 TURBO GP</td>\n",
       "      <td>7.00E-275</td>\n",
       "      <td>BOLT-HIGH TEMP</td>\n",
       "      <td>COOLER</td>\n",
       "      <td>212</td>\n",
       "      <td>212</td>\n",
       "      <td>108</td>\n",
       "      <td>69</td>\n",
       "      <td>5759</td>\n",
       "      <td>696</td>\n",
       "      <td>18</td>\n",
       "    </tr>\n",
       "    <tr>\n",
       "      <th>4</th>\n",
       "      <td>NO.1 GENERATOR ENGINE</td>\n",
       "      <td>2N4727 INSTRUMNT PANEL GP</td>\n",
       "      <td>7.00E-275</td>\n",
       "      <td>SEAL</td>\n",
       "      <td>COOLER</td>\n",
       "      <td>220</td>\n",
       "      <td>220</td>\n",
       "      <td>108</td>\n",
       "      <td>237</td>\n",
       "      <td>5759</td>\n",
       "      <td>4681</td>\n",
       "      <td>18</td>\n",
       "    </tr>\n",
       "    <tr>\n",
       "      <th>...</th>\n",
       "      <td>...</td>\n",
       "      <td>...</td>\n",
       "      <td>...</td>\n",
       "      <td>...</td>\n",
       "      <td>...</td>\n",
       "      <td>...</td>\n",
       "      <td>...</td>\n",
       "      <td>...</td>\n",
       "      <td>...</td>\n",
       "      <td>...</td>\n",
       "      <td>...</td>\n",
       "      <td>...</td>\n",
       "    </tr>\n",
       "    <tr>\n",
       "      <th>20512</th>\n",
       "      <td>HYD. SYSTEM</td>\n",
       "      <td>5-753-2E_BOAT DAVIT &amp; N.D CRANE LINE</td>\n",
       "      <td>φ150 × φ85 × 695st</td>\n",
       "      <td>HYD. CYLINDER_NET BOAT DAVIT</td>\n",
       "      <td>CYLINDER</td>\n",
       "      <td>95</td>\n",
       "      <td>95</td>\n",
       "      <td>63</td>\n",
       "      <td>471</td>\n",
       "      <td>8126</td>\n",
       "      <td>2811</td>\n",
       "      <td>20</td>\n",
       "    </tr>\n",
       "    <tr>\n",
       "      <th>20513</th>\n",
       "      <td>HYD. SYSTEM</td>\n",
       "      <td>5-753-2E_BOAT DAVIT &amp; N.D CRANE LINE</td>\n",
       "      <td>φ160 × φ112 × 1130st</td>\n",
       "      <td>HYD. CYLINDER_N.D CRANE_BOOM_LIFTER</td>\n",
       "      <td>CYLINDER</td>\n",
       "      <td>67</td>\n",
       "      <td>67</td>\n",
       "      <td>63</td>\n",
       "      <td>471</td>\n",
       "      <td>8127</td>\n",
       "      <td>2810</td>\n",
       "      <td>20</td>\n",
       "    </tr>\n",
       "    <tr>\n",
       "      <th>20514</th>\n",
       "      <td>6M NET BOAT</td>\n",
       "      <td>ELECTRIC CLUTCH</td>\n",
       "      <td>Φ305X5V-3</td>\n",
       "      <td>PULLY</td>\n",
       "      <td>BELT</td>\n",
       "      <td>25</td>\n",
       "      <td>25</td>\n",
       "      <td>0</td>\n",
       "      <td>900</td>\n",
       "      <td>8123</td>\n",
       "      <td>4151</td>\n",
       "      <td>5</td>\n",
       "    </tr>\n",
       "    <tr>\n",
       "      <th>20515</th>\n",
       "      <td>7M NET BOAT</td>\n",
       "      <td>HAND HYDRAULIC STEERING SYSTEM</td>\n",
       "      <td>Φ50 x S195 CYLINDER</td>\n",
       "      <td>CYLINDER</td>\n",
       "      <td>CYLINDER</td>\n",
       "      <td>25</td>\n",
       "      <td>25</td>\n",
       "      <td>4</td>\n",
       "      <td>1210</td>\n",
       "      <td>8124</td>\n",
       "      <td>1592</td>\n",
       "      <td>20</td>\n",
       "    </tr>\n",
       "    <tr>\n",
       "      <th>20516</th>\n",
       "      <td>7M NET BOAT</td>\n",
       "      <td>HAND HYDRAULIC STEERING SYSTEM</td>\n",
       "      <td>Φ50 x S195 CYLINDER SEAL KIT</td>\n",
       "      <td>SEAL KIT FOR CYLINDER</td>\n",
       "      <td>CYLINDER</td>\n",
       "      <td>25</td>\n",
       "      <td>25</td>\n",
       "      <td>4</td>\n",
       "      <td>1210</td>\n",
       "      <td>8125</td>\n",
       "      <td>4718</td>\n",
       "      <td>20</td>\n",
       "    </tr>\n",
       "  </tbody>\n",
       "</table>\n",
       "<p>20517 rows × 12 columns</p>\n",
       "</div>"
      ],
      "text/plain": [
       "                   Machinery                              Assembly   \n",
       "0      NO.1 GENERATOR ENGINE               323-6480 LINES GP-FUEL   \\\n",
       "1      NO.2 GENERATOR ENGINE                            GASKET KIT   \n",
       "2      NO.2 GENERATOR ENGINE             285-8374 MANIFOLD GP-EXH    \n",
       "3      NO.1 GENERATOR ENGINE                     159-8828 TURBO GP   \n",
       "4      NO.1 GENERATOR ENGINE             2N4727 INSTRUMNT PANEL GP   \n",
       "...                      ...                                   ...   \n",
       "20512            HYD. SYSTEM  5-753-2E_BOAT DAVIT & N.D CRANE LINE   \n",
       "20513            HYD. SYSTEM  5-753-2E_BOAT DAVIT & N.D CRANE LINE   \n",
       "20514            6M NET BOAT                       ELECTRIC CLUTCH   \n",
       "20515            7M NET BOAT        HAND HYDRAULIC STEERING SYSTEM   \n",
       "20516            7M NET BOAT        HAND HYDRAULIC STEERING SYSTEM   \n",
       "\n",
       "                          Part No.1                                 청구품목   \n",
       "0                         7.00E-275                     SEAL-O-RING-STOR  \\\n",
       "1                         7.00E-275                   OIL COOLER & LINES   \n",
       "2                         7.00E-275                               WASHER   \n",
       "3                         7.00E-275                       BOLT-HIGH TEMP   \n",
       "4                         7.00E-275                                 SEAL   \n",
       "...                             ...                                  ...   \n",
       "20512            φ150 × φ85 × 695st         HYD. CYLINDER_NET BOAT DAVIT   \n",
       "20513          φ160 × φ112 × 1130st  HYD. CYLINDER_N.D CRANE_BOOM_LIFTER   \n",
       "20514                     Φ305X5V-3                                PULLY   \n",
       "20515           Φ50 x S195 CYLINDER                            CYLINDER    \n",
       "20516  Φ50 x S195 CYLINDER SEAL KIT                SEAL KIT FOR CYLINDER   \n",
       "\n",
       "           key2  리드타임  leadtime  Machinery_encoded  Assembly_encoded   \n",
       "0        COOLER   194       194                108               281  \\\n",
       "1        COOLER    59        59                113              1180   \n",
       "2        COOLER    61        61                113               206   \n",
       "3        COOLER   212       212                108                69   \n",
       "4        COOLER   220       220                108               237   \n",
       "...         ...   ...       ...                ...               ...   \n",
       "20512  CYLINDER    95        95                 63               471   \n",
       "20513  CYLINDER    67        67                 63               471   \n",
       "20514      BELT    25        25                  0               900   \n",
       "20515  CYLINDER    25        25                  4              1210   \n",
       "20516  CYLINDER    25        25                  4              1210   \n",
       "\n",
       "       Part No.1_encoded  청구품목_encoded  key2_encoded  \n",
       "0                   5759          4848            18  \n",
       "1                   5759          3692            18  \n",
       "2                   5759          5915            18  \n",
       "3                   5759           696            18  \n",
       "4                   5759          4681            18  \n",
       "...                  ...           ...           ...  \n",
       "20512               8126          2811            20  \n",
       "20513               8127          2810            20  \n",
       "20514               8123          4151             5  \n",
       "20515               8124          1592            20  \n",
       "20516               8125          4718            20  \n",
       "\n",
       "[20517 rows x 12 columns]"
      ]
     },
     "execution_count": 22,
     "metadata": {},
     "output_type": "execute_result"
    }
   ],
   "source": [
    "df1"
   ]
  },
  {
   "cell_type": "code",
   "execution_count": 4,
   "id": "946594eb-0da1-4a54-a7cf-b87a512487e7",
   "metadata": {
    "tags": []
   },
   "outputs": [
    {
     "data": {
      "text/plain": [
       "key2\n",
       "ADAPTER     167\n",
       "ANODES       33\n",
       "ARM          77\n",
       "BATTERY      41\n",
       "BEARING    1167\n",
       "           ... \n",
       "UNIT        282\n",
       "VALVE       999\n",
       "WASHER      685\n",
       "WINCH        33\n",
       "WIRE        180\n",
       "Name: key2, Length: 61, dtype: int64"
      ]
     },
     "execution_count": 4,
     "metadata": {},
     "output_type": "execute_result"
    }
   ],
   "source": [
    "grouped_df = df1.groupby('key2')\n",
    "grouped_df.head()\n",
    "# grouped_df[['Subject','Machinery', 'Assembly', '청구품목']].head()\n",
    "series = grouped_df['key2'].count()\n",
    "series.iloc[:,]"
   ]
  },
  {
   "cell_type": "code",
   "execution_count": 24,
   "id": "fceccfcb-72bb-4d60-a6b2-d972b2e8d6d8",
   "metadata": {
    "tags": []
   },
   "outputs": [
    {
     "data": {
      "text/plain": [
       "(14361, 4)"
      ]
     },
     "execution_count": 24,
     "metadata": {},
     "output_type": "execute_result"
    }
   ],
   "source": [
    "from sklearn.model_selection import train_test_split\n",
    "from sklearn import preprocessing\n",
    "X = df1[['Machinery_encoded', 'Assembly_encoded', \"Part No.1_encoded\", '청구품목_encoded']]\n",
    "# X = df1[['Machinery', 'Assembly' , \"Part No.1\",\"청구품목\"]]\n",
    "# y = df1[\"key2_encoded\"]\n",
    "y = df1[\"leadtime\"]\n",
    "# X = np.array(X)\n",
    "# y = np.array(y)\n",
    "X_train, X_test, y_train, y_test = train_test_split(X, y, random_state=40, shuffle=True, test_size=0.3)\n",
    "X_train.shape\n",
    "# X_train, X_test"
   ]
  },
  {
   "cell_type": "code",
   "execution_count": 25,
   "id": "af5243eb-84ba-4ce8-b13d-2518779092fd",
   "metadata": {
    "tags": []
   },
   "outputs": [
    {
     "data": {
      "text/plain": [
       "(       Machinery_encoded  Assembly_encoded  Part No.1_encoded  청구품목_encoded\n",
       " 0                    108               281               5759          4848\n",
       " 1                    113              1180               5759          3692\n",
       " 2                    113               206               5759          5915\n",
       " 3                    108                69               5759           696\n",
       " 4                    108               237               5759          4681\n",
       " ...                  ...               ...                ...           ...\n",
       " 20512                 63               471               8126          2811\n",
       " 20513                 63               471               8127          2810\n",
       " 20514                  0               900               8123          4151\n",
       " 20515                  4              1210               8124          1592\n",
       " 20516                  4              1210               8125          4718\n",
       " \n",
       " [20517 rows x 4 columns],\n",
       " 0        194\n",
       " 1         59\n",
       " 2         61\n",
       " 3        212\n",
       " 4        220\n",
       "         ... \n",
       " 20512     95\n",
       " 20513     67\n",
       " 20514     25\n",
       " 20515     25\n",
       " 20516     25\n",
       " Name: leadtime, Length: 20517, dtype: int32)"
      ]
     },
     "execution_count": 25,
     "metadata": {},
     "output_type": "execute_result"
    }
   ],
   "source": [
    "# y.unique().shape\n",
    "X, y"
   ]
  },
  {
   "cell_type": "code",
   "execution_count": 12,
   "id": "2265df00-1a4b-4daf-86b4-33f604c34ae3",
   "metadata": {
    "tags": []
   },
   "outputs": [
    {
     "data": {
      "text/plain": [
       "((20517, 4), (20517,))"
      ]
     },
     "execution_count": 12,
     "metadata": {},
     "output_type": "execute_result"
    }
   ],
   "source": [
    "# X = np.array(X)\n",
    "# y = np.array(y)\n",
    "X.shape, y.shape"
   ]
  },
  {
   "cell_type": "code",
   "execution_count": 7,
   "id": "d7b91199-3c4c-4272-b63b-a8f25927f314",
   "metadata": {
    "tags": []
   },
   "outputs": [],
   "source": [
    "import tensorflow as tf\n",
    "from tensorflow.keras.models import Sequential\n",
    "from tensorflow.keras.layers import Dense\n"
   ]
  },
  {
   "cell_type": "code",
   "execution_count": 26,
   "id": "344822b0-0a7f-4787-953a-cf80e7aa2237",
   "metadata": {
    "tags": []
   },
   "outputs": [],
   "source": [
    "from keras.models import Sequential\n",
    "from keras.layers import Dense\n",
    "\n",
    "# 회귀 모델 구축\n",
    "model = Sequential()\n",
    "model.add(Dense(64, activation='relu', input_dim=4))  # 입력층 및 첫 번째 은닉층\n",
    "model.add(Dense(64, activation='relu'))  # 두 번째 은닉층\n",
    "model.add(Dense(1))  # 출력층 (1개의 출력 값)"
   ]
  },
  {
   "cell_type": "code",
   "execution_count": 27,
   "id": "674ae2ec-6076-4e7e-9292-236e0009e7e9",
   "metadata": {
    "tags": []
   },
   "outputs": [],
   "source": [
    "# 모델 컴파일\n",
    "model.compile(optimizer='adam', loss='mean_squared_error')"
   ]
  },
  {
   "cell_type": "code",
   "execution_count": 30,
   "id": "dca15b53-ed80-4e76-97c2-03c9b688a2ea",
   "metadata": {
    "tags": []
   },
   "outputs": [
    {
     "name": "stdout",
     "output_type": "stream",
     "text": [
      "Epoch 1/10\n",
      "1437/1437 [==============================] - 1s 804us/step - loss: 4857.8652\n",
      "Epoch 2/10\n",
      "1437/1437 [==============================] - 1s 814us/step - loss: 4817.6104\n",
      "Epoch 3/10\n",
      "1437/1437 [==============================] - 1s 775us/step - loss: 4813.0093\n",
      "Epoch 4/10\n",
      "1437/1437 [==============================] - 1s 684us/step - loss: 4807.7485\n",
      "Epoch 5/10\n",
      "1437/1437 [==============================] - 1s 696us/step - loss: 4803.0532\n",
      "Epoch 6/10\n",
      "1437/1437 [==============================] - 1s 741us/step - loss: 4781.1948\n",
      "Epoch 7/10\n",
      "1437/1437 [==============================] - 1s 815us/step - loss: 4752.9009\n",
      "Epoch 8/10\n",
      "1437/1437 [==============================] - 1s 826us/step - loss: 4752.3989\n",
      "Epoch 9/10\n",
      "1437/1437 [==============================] - 1s 793us/step - loss: 4743.2656\n",
      "Epoch 10/10\n",
      "1437/1437 [==============================] - 1s 815us/step - loss: 4713.6216\n"
     ]
    },
    {
     "data": {
      "text/plain": [
       "<keras.callbacks.History at 0x1ad943de350>"
      ]
     },
     "execution_count": 30,
     "metadata": {},
     "output_type": "execute_result"
    }
   ],
   "source": [
    "# 모델 학습\n",
    "model.fit(X_train, y_train, epochs=10, batch_size=10)"
   ]
  },
  {
   "cell_type": "code",
   "execution_count": 31,
   "id": "50cef459-7ff9-429d-be71-02b6ed8b9563",
   "metadata": {
    "tags": []
   },
   "outputs": [
    {
     "name": "stdout",
     "output_type": "stream",
     "text": [
      "193/193 [==============================] - 0s 672us/step - loss: 4670.3252\n"
     ]
    }
   ],
   "source": [
    "# 모델 평가\n",
    "loss = model.evaluate(X_test, y_test)"
   ]
  },
  {
   "cell_type": "code",
   "execution_count": 32,
   "id": "953198ec-3c44-4853-ba8e-73676126ceb7",
   "metadata": {
    "tags": []
   },
   "outputs": [
    {
     "name": "stdout",
     "output_type": "stream",
     "text": [
      "193/193 [==============================] - 0s 631us/step\n"
     ]
    }
   ],
   "source": [
    "# 예측\n",
    "predictions = model.predict(X_test)"
   ]
  },
  {
   "cell_type": "code",
   "execution_count": null,
   "id": "99371916-260b-45b8-8913-2674bb4299aa",
   "metadata": {},
   "outputs": [],
   "source": []
  },
  {
   "cell_type": "code",
   "execution_count": null,
   "id": "2b881b1f-b155-4447-a693-07eb0d2afd5b",
   "metadata": {},
   "outputs": [],
   "source": []
  },
  {
   "cell_type": "code",
   "execution_count": null,
   "id": "11e55203-8be5-49f6-970d-63056e68a384",
   "metadata": {},
   "outputs": [],
   "source": []
  },
  {
   "cell_type": "code",
   "execution_count": null,
   "id": "6a58db44-4908-4aec-b852-adb0b8092067",
   "metadata": {},
   "outputs": [],
   "source": []
  },
  {
   "cell_type": "code",
   "execution_count": 13,
   "id": "44fe18f0-a986-45f8-a3a6-ca5a04efb79b",
   "metadata": {
    "tags": []
   },
   "outputs": [],
   "source": [
    "# 다중 분류 신경망 모델 구축\n",
    "model = Sequential()\n",
    "model.add(Dense(64, activation='relu', input_shape=(4,)))  # 입력층 및 첫 번째 은닉층\n",
    "model.add(Dense(64, activation='relu'))  # 두 번째 은닉층\n",
    "model.add(Dense(61, activation='softmax'))  # 출력층 (클래스의 개수인 61)\n",
    "# 모델 컴파일\n",
    "model.compile(optimizer='adam', loss='sparse_categorical_crossentropy', metrics=['accuracy'])"
   ]
  },
  {
   "cell_type": "code",
   "execution_count": 14,
   "id": "db6d8bef-bfeb-4765-b067-6a24120bad50",
   "metadata": {
    "tags": []
   },
   "outputs": [
    {
     "name": "stdout",
     "output_type": "stream",
     "text": [
      "Epoch 1/10\n",
      "14361/14361 [==============================] - 11s 757us/step - loss: 14.3303 - accuracy: 0.1862\n",
      "Epoch 2/10\n",
      "14361/14361 [==============================] - 11s 753us/step - loss: 3.3337 - accuracy: 0.1950\n",
      "Epoch 3/10\n",
      "14361/14361 [==============================] - 11s 749us/step - loss: 3.3313 - accuracy: 0.1948\n",
      "Epoch 4/10\n",
      "14361/14361 [==============================] - 11s 752us/step - loss: 3.3309 - accuracy: 0.1948\n",
      "Epoch 5/10\n",
      "14361/14361 [==============================] - 11s 756us/step - loss: 3.3311 - accuracy: 0.1948\n",
      "Epoch 6/10\n",
      "14361/14361 [==============================] - 11s 779us/step - loss: 3.3310 - accuracy: 0.1948\n",
      "Epoch 7/10\n",
      "14361/14361 [==============================] - 11s 764us/step - loss: 3.3311 - accuracy: 0.1948\n",
      "Epoch 8/10\n",
      "14361/14361 [==============================] - 11s 785us/step - loss: 3.3310 - accuracy: 0.1948\n",
      "Epoch 9/10\n",
      "14361/14361 [==============================] - 11s 765us/step - loss: 3.3311 - accuracy: 0.1948\n",
      "Epoch 10/10\n",
      "14361/14361 [==============================] - 11s 799us/step - loss: 3.3312 - accuracy: 0.1948\n"
     ]
    },
    {
     "data": {
      "text/plain": [
       "<keras.callbacks.History at 0x1ad8dcc8760>"
      ]
     },
     "execution_count": 14,
     "metadata": {},
     "output_type": "execute_result"
    }
   ],
   "source": [
    "# 모델 학습\n",
    "model.fit(X_train, y_train, epochs=10, batch_size=1)"
   ]
  },
  {
   "cell_type": "code",
   "execution_count": null,
   "id": "f043aa08-756e-42f5-9b6c-10a08aa94dd0",
   "metadata": {},
   "outputs": [],
   "source": [
    "# 모델 평가\n",
    "loss, accuracy = model.evaluate(X_test, y_test)"
   ]
  },
  {
   "cell_type": "code",
   "execution_count": null,
   "id": "44780c6f-b235-4fc5-b9db-4a1f24bcc709",
   "metadata": {},
   "outputs": [],
   "source": [
    "# 예측\n",
    "predictions = model.predict(X_test)"
   ]
  },
  {
   "cell_type": "code",
   "execution_count": 9,
   "id": "072c938c-b971-46df-a25e-367988ba7045",
   "metadata": {
    "tags": []
   },
   "outputs": [
    {
     "name": "stdout",
     "output_type": "stream",
     "text": [
      "Model: \"sequential\"\n",
      "_________________________________________________________________\n",
      " Layer (type)                Output Shape              Param #   \n",
      "=================================================================\n",
      " dense (Dense)               (None, 61)                305       \n",
      "                                                                 \n",
      "=================================================================\n",
      "Total params: 305\n",
      "Trainable params: 305\n",
      "Non-trainable params: 0\n",
      "_________________________________________________________________\n"
     ]
    }
   ],
   "source": [
    "model = Sequential()\n",
    "model.add(Dense(61, activation='softmax', input_shape=(4,)))\n",
    "model.summary()"
   ]
  },
  {
   "cell_type": "code",
   "execution_count": null,
   "id": "f572e3dd-8dd1-4f33-9785-318b20ba4ab2",
   "metadata": {},
   "outputs": [],
   "source": []
  },
  {
   "cell_type": "code",
   "execution_count": 11,
   "id": "2ba7d561-91c4-4cce-bc4f-e77ed9cd0260",
   "metadata": {
    "tags": []
   },
   "outputs": [
    {
     "name": "stdout",
     "output_type": "stream",
     "text": [
      "Epoch 1/100\n",
      "449/449 [==============================] - 0s 642us/step - loss: 81411.9609 - acc: 0.0827\n",
      "Epoch 2/100\n",
      "449/449 [==============================] - 0s 612us/step - loss: 80266.9453 - acc: 0.0834\n",
      "Epoch 3/100\n",
      "449/449 [==============================] - 0s 593us/step - loss: 80461.0781 - acc: 0.0799\n",
      "Epoch 4/100\n",
      "449/449 [==============================] - 0s 584us/step - loss: 82388.2266 - acc: 0.0788\n",
      "Epoch 5/100\n",
      "449/449 [==============================] - 0s 633us/step - loss: 79606.9375 - acc: 0.0843\n",
      "Epoch 6/100\n",
      "449/449 [==============================] - 0s 607us/step - loss: 80730.9609 - acc: 0.0806\n",
      "Epoch 7/100\n",
      "449/449 [==============================] - 0s 665us/step - loss: 80212.5781 - acc: 0.0840\n",
      "Epoch 8/100\n",
      "449/449 [==============================] - 0s 611us/step - loss: 80454.3984 - acc: 0.0792\n",
      "Epoch 9/100\n",
      "449/449 [==============================] - 0s 600us/step - loss: 78964.6562 - acc: 0.0811\n",
      "Epoch 10/100\n",
      "449/449 [==============================] - 0s 618us/step - loss: 79094.8359 - acc: 0.0826\n",
      "Epoch 11/100\n",
      "449/449 [==============================] - 0s 589us/step - loss: 79600.0781 - acc: 0.0843\n",
      "Epoch 12/100\n",
      "449/449 [==============================] - 0s 598us/step - loss: 80047.6797 - acc: 0.0820\n",
      "Epoch 13/100\n",
      "449/449 [==============================] - 0s 600us/step - loss: 81005.8516 - acc: 0.0821\n",
      "Epoch 14/100\n",
      "449/449 [==============================] - 0s 632us/step - loss: 79574.8516 - acc: 0.0843\n",
      "Epoch 15/100\n",
      "449/449 [==============================] - 0s 590us/step - loss: 79734.2578 - acc: 0.0858\n",
      "Epoch 16/100\n",
      "449/449 [==============================] - 0s 578us/step - loss: 80592.6250 - acc: 0.0826\n",
      "Epoch 17/100\n",
      "449/449 [==============================] - 0s 576us/step - loss: 80618.5078 - acc: 0.0822\n",
      "Epoch 18/100\n",
      "449/449 [==============================] - 0s 631us/step - loss: 80120.0547 - acc: 0.0803\n",
      "Epoch 19/100\n",
      "449/449 [==============================] - 0s 624us/step - loss: 79882.4844 - acc: 0.0804\n",
      "Epoch 20/100\n",
      "449/449 [==============================] - 0s 596us/step - loss: 80697.3906 - acc: 0.0820\n",
      "Epoch 21/100\n",
      "449/449 [==============================] - 0s 594us/step - loss: 79498.0469 - acc: 0.0822\n",
      "Epoch 22/100\n",
      "449/449 [==============================] - 0s 593us/step - loss: 79102.8047 - acc: 0.0811\n",
      "Epoch 23/100\n",
      "449/449 [==============================] - 0s 603us/step - loss: 81121.8594 - acc: 0.0782\n",
      "Epoch 24/100\n",
      "449/449 [==============================] - 0s 609us/step - loss: 79196.3594 - acc: 0.0804\n",
      "Epoch 25/100\n",
      "449/449 [==============================] - 0s 587us/step - loss: 78647.7500 - acc: 0.0840\n",
      "Epoch 26/100\n",
      "449/449 [==============================] - 0s 585us/step - loss: 79928.9375 - acc: 0.0788\n",
      "Epoch 27/100\n",
      "449/449 [==============================] - 0s 666us/step - loss: 78868.3672 - acc: 0.0827\n",
      "Epoch 28/100\n",
      "449/449 [==============================] - 0s 598us/step - loss: 80607.7891 - acc: 0.0827\n",
      "Epoch 29/100\n",
      "449/449 [==============================] - 0s 590us/step - loss: 79287.2188 - acc: 0.0773\n",
      "Epoch 30/100\n",
      "449/449 [==============================] - 0s 599us/step - loss: 82049.9766 - acc: 0.0795\n",
      "Epoch 31/100\n",
      "449/449 [==============================] - 0s 609us/step - loss: 80473.6016 - acc: 0.0855\n",
      "Epoch 32/100\n",
      "449/449 [==============================] - 0s 589us/step - loss: 79721.8672 - acc: 0.0813\n",
      "Epoch 33/100\n",
      "449/449 [==============================] - 0s 607us/step - loss: 79349.8047 - acc: 0.0808\n",
      "Epoch 34/100\n",
      "449/449 [==============================] - 0s 594us/step - loss: 79495.9297 - acc: 0.0797\n",
      "Epoch 35/100\n",
      "449/449 [==============================] - 0s 587us/step - loss: 77525.9688 - acc: 0.0832\n",
      "Epoch 36/100\n",
      "449/449 [==============================] - 0s 592us/step - loss: 80478.2031 - acc: 0.0778\n",
      "Epoch 37/100\n",
      "449/449 [==============================] - 0s 608us/step - loss: 80076.5703 - acc: 0.0810\n",
      "Epoch 38/100\n",
      "449/449 [==============================] - 0s 582us/step - loss: 79637.3672 - acc: 0.0813\n",
      "Epoch 39/100\n",
      "449/449 [==============================] - 0s 613us/step - loss: 82044.0938 - acc: 0.0828\n",
      "Epoch 40/100\n",
      "449/449 [==============================] - 0s 613us/step - loss: 79098.3281 - acc: 0.0824\n",
      "Epoch 41/100\n",
      "449/449 [==============================] - 0s 602us/step - loss: 79929.4297 - acc: 0.0833\n",
      "Epoch 42/100\n",
      "449/449 [==============================] - 0s 596us/step - loss: 84035.3984 - acc: 0.0778\n",
      "Epoch 43/100\n",
      "449/449 [==============================] - 0s 595us/step - loss: 80886.1797 - acc: 0.0787\n",
      "Epoch 44/100\n",
      "449/449 [==============================] - 0s 674us/step - loss: 78865.2812 - acc: 0.0832\n",
      "Epoch 45/100\n",
      "449/449 [==============================] - 0s 622us/step - loss: 79907.2578 - acc: 0.0823\n",
      "Epoch 46/100\n",
      "449/449 [==============================] - 0s 592us/step - loss: 81083.0938 - acc: 0.0795\n",
      "Epoch 47/100\n",
      "449/449 [==============================] - 0s 607us/step - loss: 78991.7344 - acc: 0.0815\n",
      "Epoch 48/100\n",
      "449/449 [==============================] - 0s 592us/step - loss: 80727.6562 - acc: 0.0785\n",
      "Epoch 49/100\n",
      "449/449 [==============================] - 0s 601us/step - loss: 79734.2656 - acc: 0.0817\n",
      "Epoch 50/100\n",
      "449/449 [==============================] - 0s 595us/step - loss: 78356.4922 - acc: 0.0827\n",
      "Epoch 51/100\n",
      "449/449 [==============================] - 0s 609us/step - loss: 80198.9844 - acc: 0.0809\n",
      "Epoch 52/100\n",
      "449/449 [==============================] - 0s 618us/step - loss: 77907.0703 - acc: 0.0807\n",
      "Epoch 53/100\n",
      "449/449 [==============================] - 0s 607us/step - loss: 81086.2500 - acc: 0.0804\n",
      "Epoch 54/100\n",
      "449/449 [==============================] - 0s 621us/step - loss: 79266.4609 - acc: 0.0843\n",
      "Epoch 55/100\n",
      "449/449 [==============================] - 0s 628us/step - loss: 80254.5547 - acc: 0.0819\n",
      "Epoch 56/100\n",
      "449/449 [==============================] - 0s 697us/step - loss: 80029.4688 - acc: 0.0828\n",
      "Epoch 57/100\n",
      "449/449 [==============================] - 0s 605us/step - loss: 78589.7656 - acc: 0.0837\n",
      "Epoch 58/100\n",
      "449/449 [==============================] - 0s 611us/step - loss: 79862.6484 - acc: 0.0855\n",
      "Epoch 59/100\n",
      "449/449 [==============================] - 0s 597us/step - loss: 77187.3984 - acc: 0.0798\n",
      "Epoch 60/100\n",
      "449/449 [==============================] - 0s 620us/step - loss: 79939.5703 - acc: 0.0824\n",
      "Epoch 61/100\n",
      "449/449 [==============================] - 0s 587us/step - loss: 79740.3750 - acc: 0.0785\n",
      "Epoch 62/100\n",
      "449/449 [==============================] - 0s 599us/step - loss: 79802.7109 - acc: 0.0827\n",
      "Epoch 63/100\n",
      "449/449 [==============================] - 0s 612us/step - loss: 80967.3594 - acc: 0.0815\n",
      "Epoch 64/100\n",
      "449/449 [==============================] - 0s 610us/step - loss: 80230.7734 - acc: 0.0789\n",
      "Epoch 65/100\n",
      "449/449 [==============================] - 0s 586us/step - loss: 78977.0078 - acc: 0.0820\n",
      "Epoch 66/100\n",
      "449/449 [==============================] - 0s 586us/step - loss: 78008.5078 - acc: 0.0848\n",
      "Epoch 67/100\n",
      "449/449 [==============================] - 0s 619us/step - loss: 79097.8828 - acc: 0.0817\n",
      "Epoch 68/100\n",
      "449/449 [==============================] - 0s 671us/step - loss: 78160.6016 - acc: 0.0811\n",
      "Epoch 69/100\n",
      "449/449 [==============================] - 0s 620us/step - loss: 78358.9453 - acc: 0.0813\n",
      "Epoch 70/100\n",
      "449/449 [==============================] - 0s 587us/step - loss: 77293.9062 - acc: 0.0839\n",
      "Epoch 71/100\n",
      "449/449 [==============================] - 0s 586us/step - loss: 80474.7734 - acc: 0.0816\n",
      "Epoch 72/100\n",
      "449/449 [==============================] - 0s 602us/step - loss: 78541.9922 - acc: 0.0840\n",
      "Epoch 73/100\n",
      "449/449 [==============================] - 0s 633us/step - loss: 79401.9766 - acc: 0.0808\n",
      "Epoch 74/100\n",
      "449/449 [==============================] - 0s 623us/step - loss: 80336.5469 - acc: 0.0825\n",
      "Epoch 75/100\n",
      "449/449 [==============================] - 0s 605us/step - loss: 79690.2266 - acc: 0.0813\n",
      "Epoch 76/100\n",
      "449/449 [==============================] - 0s 607us/step - loss: 79515.7578 - acc: 0.0859\n",
      "Epoch 77/100\n",
      "449/449 [==============================] - 0s 617us/step - loss: 79174.7188 - acc: 0.0807\n",
      "Epoch 78/100\n",
      "449/449 [==============================] - 0s 606us/step - loss: 80905.9375 - acc: 0.0776\n",
      "Epoch 79/100\n",
      "449/449 [==============================] - 0s 597us/step - loss: 78514.7578 - acc: 0.0835\n",
      "Epoch 80/100\n",
      "449/449 [==============================] - 0s 596us/step - loss: 79296.1562 - acc: 0.0784\n",
      "Epoch 81/100\n",
      "449/449 [==============================] - 0s 604us/step - loss: 78548.5156 - acc: 0.0791\n",
      "Epoch 82/100\n",
      "449/449 [==============================] - 0s 596us/step - loss: 78757.1875 - acc: 0.0849\n",
      "Epoch 83/100\n",
      "449/449 [==============================] - 0s 648us/step - loss: 80804.3047 - acc: 0.0814\n",
      "Epoch 84/100\n",
      "449/449 [==============================] - 0s 616us/step - loss: 78061.2344 - acc: 0.0840\n",
      "Epoch 85/100\n",
      "449/449 [==============================] - 0s 617us/step - loss: 79094.6719 - acc: 0.0801\n",
      "Epoch 86/100\n",
      "449/449 [==============================] - 0s 591us/step - loss: 78920.9297 - acc: 0.0858\n",
      "Epoch 87/100\n",
      "449/449 [==============================] - 0s 629us/step - loss: 78583.1172 - acc: 0.0808\n",
      "Epoch 88/100\n",
      "449/449 [==============================] - 0s 621us/step - loss: 80639.1797 - acc: 0.0790\n",
      "Epoch 89/100\n",
      "449/449 [==============================] - 0s 607us/step - loss: 79829.3594 - acc: 0.0813\n",
      "Epoch 90/100\n",
      "449/449 [==============================] - 0s 606us/step - loss: 78858.1875 - acc: 0.0821\n",
      "Epoch 91/100\n",
      "449/449 [==============================] - 0s 611us/step - loss: 77648.7734 - acc: 0.0836\n",
      "Epoch 92/100\n",
      "449/449 [==============================] - 0s 610us/step - loss: 79067.5391 - acc: 0.0800\n",
      "Epoch 93/100\n",
      "449/449 [==============================] - 0s 592us/step - loss: 78472.5156 - acc: 0.0841\n",
      "Epoch 94/100\n",
      "449/449 [==============================] - 0s 609us/step - loss: 81031.8047 - acc: 0.0813\n",
      "Epoch 95/100\n",
      "449/449 [==============================] - 0s 601us/step - loss: 78761.8281 - acc: 0.0858\n",
      "Epoch 96/100\n",
      "449/449 [==============================] - 0s 631us/step - loss: 78707.1797 - acc: 0.0838\n",
      "Epoch 97/100\n",
      "449/449 [==============================] - 0s 656us/step - loss: 79349.3906 - acc: 0.0829\n",
      "Epoch 98/100\n",
      "449/449 [==============================] - 0s 613us/step - loss: 79944.0312 - acc: 0.0856\n",
      "Epoch 99/100\n",
      "449/449 [==============================] - 0s 624us/step - loss: 78615.6797 - acc: 0.0783\n",
      "Epoch 100/100\n",
      "449/449 [==============================] - 0s 597us/step - loss: 78598.3828 - acc: 0.0804\n"
     ]
    }
   ],
   "source": [
    "model.compile(loss='sparse_categorical_crossentropy', optimizer = 'sgd', metrics = 'acc')\n",
    "hist = model.fit(X_train, y_train, epochs=100)"
   ]
  },
  {
   "cell_type": "code",
   "execution_count": 61,
   "id": "712ab0b2-ac43-467b-bc98-e5c1cbfeb0af",
   "metadata": {
    "tags": []
   },
   "outputs": [
    {
     "name": "stdout",
     "output_type": "stream",
     "text": [
      "193/193 [==============================] - 0s 585us/step\n"
     ]
    },
    {
     "data": {
      "text/plain": [
       "array([[0., 0., 0., ..., 0., 0., 0.],\n",
       "       [0., 0., 0., ..., 0., 0., 0.],\n",
       "       [0., 0., 0., ..., 0., 0., 0.],\n",
       "       ...,\n",
       "       [0., 0., 0., ..., 0., 0., 0.],\n",
       "       [0., 0., 0., ..., 0., 0., 0.],\n",
       "       [0., 0., 0., ..., 0., 0., 0.]], dtype=float32)"
      ]
     },
     "execution_count": 61,
     "metadata": {},
     "output_type": "execute_result"
    }
   ],
   "source": [
    "model.predict(X_test)"
   ]
  },
  {
   "cell_type": "code",
   "execution_count": 62,
   "id": "4407fdc3-69fd-4c05-bfe9-e10a350bbcd3",
   "metadata": {
    "tags": []
   },
   "outputs": [
    {
     "name": "stdout",
     "output_type": "stream",
     "text": [
      "193/193 [==============================] - 0s 666us/step - loss: 82674.5859 - acc: 0.0172\n"
     ]
    },
    {
     "data": {
      "text/plain": [
       "[82674.5859375, 0.017218973487615585]"
      ]
     },
     "execution_count": 62,
     "metadata": {},
     "output_type": "execute_result"
    }
   ],
   "source": [
    "model.evaluate(X_test, y_test)"
   ]
  },
  {
   "cell_type": "code",
   "execution_count": null,
   "id": "44970e59-9d5c-485d-8c1d-4e53782d9b12",
   "metadata": {},
   "outputs": [],
   "source": []
  },
  {
   "cell_type": "code",
   "execution_count": 75,
   "id": "a6f953f5-9818-4f6d-aa2d-b2f28f953ed7",
   "metadata": {
    "tags": []
   },
   "outputs": [],
   "source": [
    "from sklearn.datasets import load_iris\n",
    "X1,y1 = load_iris(return_X_y=True) \n",
    "X1_train, X1_test, y1_train, y1_test = train_test_split(X1, y1, random_state=40, shuffle=True, test_size=0.3, stratify = y1)"
   ]
  },
  {
   "cell_type": "code",
   "execution_count": 76,
   "id": "147d1acc-e5b0-4791-88d6-7a5659ff6737",
   "metadata": {
    "tags": []
   },
   "outputs": [
    {
     "name": "stdout",
     "output_type": "stream",
     "text": [
      "Model: \"sequential_11\"\n",
      "_________________________________________________________________\n",
      " Layer (type)                Output Shape              Param #   \n",
      "=================================================================\n",
      " dense_11 (Dense)            (None, 3)                 15        \n",
      "                                                                 \n",
      "=================================================================\n",
      "Total params: 15\n",
      "Trainable params: 15\n",
      "Non-trainable params: 0\n",
      "_________________________________________________________________\n"
     ]
    }
   ],
   "source": [
    "model = Sequential()\n",
    "model.add(Dense(3, activation='softmax', input_shape=(4,)))\n",
    "model.summary()"
   ]
  },
  {
   "cell_type": "code",
   "execution_count": 99,
   "id": "d73656f4-5add-4ad5-8cea-5ab69f617d46",
   "metadata": {
    "tags": []
   },
   "outputs": [
    {
     "data": {
      "text/plain": [
       "(array([[5.1, 3.5, 1.4, 0.2],\n",
       "        [4.9, 3. , 1.4, 0.2],\n",
       "        [4.7, 3.2, 1.3, 0.2],\n",
       "        [4.6, 3.1, 1.5, 0.2],\n",
       "        [5. , 3.6, 1.4, 0.2],\n",
       "        [5.4, 3.9, 1.7, 0.4],\n",
       "        [4.6, 3.4, 1.4, 0.3],\n",
       "        [5. , 3.4, 1.5, 0.2],\n",
       "        [4.4, 2.9, 1.4, 0.2],\n",
       "        [4.9, 3.1, 1.5, 0.1],\n",
       "        [5.4, 3.7, 1.5, 0.2],\n",
       "        [4.8, 3.4, 1.6, 0.2],\n",
       "        [4.8, 3. , 1.4, 0.1],\n",
       "        [4.3, 3. , 1.1, 0.1],\n",
       "        [5.8, 4. , 1.2, 0.2],\n",
       "        [5.7, 4.4, 1.5, 0.4],\n",
       "        [5.4, 3.9, 1.3, 0.4],\n",
       "        [5.1, 3.5, 1.4, 0.3],\n",
       "        [5.7, 3.8, 1.7, 0.3],\n",
       "        [5.1, 3.8, 1.5, 0.3],\n",
       "        [5.4, 3.4, 1.7, 0.2],\n",
       "        [5.1, 3.7, 1.5, 0.4],\n",
       "        [4.6, 3.6, 1. , 0.2],\n",
       "        [5.1, 3.3, 1.7, 0.5],\n",
       "        [4.8, 3.4, 1.9, 0.2],\n",
       "        [5. , 3. , 1.6, 0.2],\n",
       "        [5. , 3.4, 1.6, 0.4],\n",
       "        [5.2, 3.5, 1.5, 0.2],\n",
       "        [5.2, 3.4, 1.4, 0.2],\n",
       "        [4.7, 3.2, 1.6, 0.2],\n",
       "        [4.8, 3.1, 1.6, 0.2],\n",
       "        [5.4, 3.4, 1.5, 0.4],\n",
       "        [5.2, 4.1, 1.5, 0.1],\n",
       "        [5.5, 4.2, 1.4, 0.2],\n",
       "        [4.9, 3.1, 1.5, 0.2],\n",
       "        [5. , 3.2, 1.2, 0.2],\n",
       "        [5.5, 3.5, 1.3, 0.2],\n",
       "        [4.9, 3.6, 1.4, 0.1],\n",
       "        [4.4, 3. , 1.3, 0.2],\n",
       "        [5.1, 3.4, 1.5, 0.2],\n",
       "        [5. , 3.5, 1.3, 0.3],\n",
       "        [4.5, 2.3, 1.3, 0.3],\n",
       "        [4.4, 3.2, 1.3, 0.2],\n",
       "        [5. , 3.5, 1.6, 0.6],\n",
       "        [5.1, 3.8, 1.9, 0.4],\n",
       "        [4.8, 3. , 1.4, 0.3],\n",
       "        [5.1, 3.8, 1.6, 0.2],\n",
       "        [4.6, 3.2, 1.4, 0.2],\n",
       "        [5.3, 3.7, 1.5, 0.2],\n",
       "        [5. , 3.3, 1.4, 0.2],\n",
       "        [7. , 3.2, 4.7, 1.4],\n",
       "        [6.4, 3.2, 4.5, 1.5],\n",
       "        [6.9, 3.1, 4.9, 1.5],\n",
       "        [5.5, 2.3, 4. , 1.3],\n",
       "        [6.5, 2.8, 4.6, 1.5],\n",
       "        [5.7, 2.8, 4.5, 1.3],\n",
       "        [6.3, 3.3, 4.7, 1.6],\n",
       "        [4.9, 2.4, 3.3, 1. ],\n",
       "        [6.6, 2.9, 4.6, 1.3],\n",
       "        [5.2, 2.7, 3.9, 1.4],\n",
       "        [5. , 2. , 3.5, 1. ],\n",
       "        [5.9, 3. , 4.2, 1.5],\n",
       "        [6. , 2.2, 4. , 1. ],\n",
       "        [6.1, 2.9, 4.7, 1.4],\n",
       "        [5.6, 2.9, 3.6, 1.3],\n",
       "        [6.7, 3.1, 4.4, 1.4],\n",
       "        [5.6, 3. , 4.5, 1.5],\n",
       "        [5.8, 2.7, 4.1, 1. ],\n",
       "        [6.2, 2.2, 4.5, 1.5],\n",
       "        [5.6, 2.5, 3.9, 1.1],\n",
       "        [5.9, 3.2, 4.8, 1.8],\n",
       "        [6.1, 2.8, 4. , 1.3],\n",
       "        [6.3, 2.5, 4.9, 1.5],\n",
       "        [6.1, 2.8, 4.7, 1.2],\n",
       "        [6.4, 2.9, 4.3, 1.3],\n",
       "        [6.6, 3. , 4.4, 1.4],\n",
       "        [6.8, 2.8, 4.8, 1.4],\n",
       "        [6.7, 3. , 5. , 1.7],\n",
       "        [6. , 2.9, 4.5, 1.5],\n",
       "        [5.7, 2.6, 3.5, 1. ],\n",
       "        [5.5, 2.4, 3.8, 1.1],\n",
       "        [5.5, 2.4, 3.7, 1. ],\n",
       "        [5.8, 2.7, 3.9, 1.2],\n",
       "        [6. , 2.7, 5.1, 1.6],\n",
       "        [5.4, 3. , 4.5, 1.5],\n",
       "        [6. , 3.4, 4.5, 1.6],\n",
       "        [6.7, 3.1, 4.7, 1.5],\n",
       "        [6.3, 2.3, 4.4, 1.3],\n",
       "        [5.6, 3. , 4.1, 1.3],\n",
       "        [5.5, 2.5, 4. , 1.3],\n",
       "        [5.5, 2.6, 4.4, 1.2],\n",
       "        [6.1, 3. , 4.6, 1.4],\n",
       "        [5.8, 2.6, 4. , 1.2],\n",
       "        [5. , 2.3, 3.3, 1. ],\n",
       "        [5.6, 2.7, 4.2, 1.3],\n",
       "        [5.7, 3. , 4.2, 1.2],\n",
       "        [5.7, 2.9, 4.2, 1.3],\n",
       "        [6.2, 2.9, 4.3, 1.3],\n",
       "        [5.1, 2.5, 3. , 1.1],\n",
       "        [5.7, 2.8, 4.1, 1.3],\n",
       "        [6.3, 3.3, 6. , 2.5],\n",
       "        [5.8, 2.7, 5.1, 1.9],\n",
       "        [7.1, 3. , 5.9, 2.1],\n",
       "        [6.3, 2.9, 5.6, 1.8],\n",
       "        [6.5, 3. , 5.8, 2.2],\n",
       "        [7.6, 3. , 6.6, 2.1],\n",
       "        [4.9, 2.5, 4.5, 1.7],\n",
       "        [7.3, 2.9, 6.3, 1.8],\n",
       "        [6.7, 2.5, 5.8, 1.8],\n",
       "        [7.2, 3.6, 6.1, 2.5],\n",
       "        [6.5, 3.2, 5.1, 2. ],\n",
       "        [6.4, 2.7, 5.3, 1.9],\n",
       "        [6.8, 3. , 5.5, 2.1],\n",
       "        [5.7, 2.5, 5. , 2. ],\n",
       "        [5.8, 2.8, 5.1, 2.4],\n",
       "        [6.4, 3.2, 5.3, 2.3],\n",
       "        [6.5, 3. , 5.5, 1.8],\n",
       "        [7.7, 3.8, 6.7, 2.2],\n",
       "        [7.7, 2.6, 6.9, 2.3],\n",
       "        [6. , 2.2, 5. , 1.5],\n",
       "        [6.9, 3.2, 5.7, 2.3],\n",
       "        [5.6, 2.8, 4.9, 2. ],\n",
       "        [7.7, 2.8, 6.7, 2. ],\n",
       "        [6.3, 2.7, 4.9, 1.8],\n",
       "        [6.7, 3.3, 5.7, 2.1],\n",
       "        [7.2, 3.2, 6. , 1.8],\n",
       "        [6.2, 2.8, 4.8, 1.8],\n",
       "        [6.1, 3. , 4.9, 1.8],\n",
       "        [6.4, 2.8, 5.6, 2.1],\n",
       "        [7.2, 3. , 5.8, 1.6],\n",
       "        [7.4, 2.8, 6.1, 1.9],\n",
       "        [7.9, 3.8, 6.4, 2. ],\n",
       "        [6.4, 2.8, 5.6, 2.2],\n",
       "        [6.3, 2.8, 5.1, 1.5],\n",
       "        [6.1, 2.6, 5.6, 1.4],\n",
       "        [7.7, 3. , 6.1, 2.3],\n",
       "        [6.3, 3.4, 5.6, 2.4],\n",
       "        [6.4, 3.1, 5.5, 1.8],\n",
       "        [6. , 3. , 4.8, 1.8],\n",
       "        [6.9, 3.1, 5.4, 2.1],\n",
       "        [6.7, 3.1, 5.6, 2.4],\n",
       "        [6.9, 3.1, 5.1, 2.3],\n",
       "        [5.8, 2.7, 5.1, 1.9],\n",
       "        [6.8, 3.2, 5.9, 2.3],\n",
       "        [6.7, 3.3, 5.7, 2.5],\n",
       "        [6.7, 3. , 5.2, 2.3],\n",
       "        [6.3, 2.5, 5. , 1.9],\n",
       "        [6.5, 3. , 5.2, 2. ],\n",
       "        [6.2, 3.4, 5.4, 2.3],\n",
       "        [5.9, 3. , 5.1, 1.8]]),\n",
       " array([0, 0, 0, 0, 0, 0, 0, 0, 0, 0, 0, 0, 0, 0, 0, 0, 0, 0, 0, 0, 0, 0,\n",
       "        0, 0, 0, 0, 0, 0, 0, 0, 0, 0, 0, 0, 0, 0, 0, 0, 0, 0, 0, 0, 0, 0,\n",
       "        0, 0, 0, 0, 0, 0, 1, 1, 1, 1, 1, 1, 1, 1, 1, 1, 1, 1, 1, 1, 1, 1,\n",
       "        1, 1, 1, 1, 1, 1, 1, 1, 1, 1, 1, 1, 1, 1, 1, 1, 1, 1, 1, 1, 1, 1,\n",
       "        1, 1, 1, 1, 1, 1, 1, 1, 1, 1, 1, 1, 2, 2, 2, 2, 2, 2, 2, 2, 2, 2,\n",
       "        2, 2, 2, 2, 2, 2, 2, 2, 2, 2, 2, 2, 2, 2, 2, 2, 2, 2, 2, 2, 2, 2,\n",
       "        2, 2, 2, 2, 2, 2, 2, 2, 2, 2, 2, 2, 2, 2, 2, 2, 2, 2]))"
      ]
     },
     "execution_count": 99,
     "metadata": {},
     "output_type": "execute_result"
    }
   ],
   "source": [
    "X1, y1  "
   ]
  },
  {
   "cell_type": "code",
   "execution_count": 77,
   "id": "3d55a63c-e8b0-46f7-b280-eaf16c4e7b34",
   "metadata": {
    "tags": []
   },
   "outputs": [
    {
     "name": "stdout",
     "output_type": "stream",
     "text": [
      "Epoch 1/30\n",
      "4/4 [==============================] - 0s 1ms/step - loss: 3.3358 - acc: 0.4190\n",
      "Epoch 2/30\n",
      "4/4 [==============================] - 0s 2ms/step - loss: 2.5310 - acc: 0.6667\n",
      "Epoch 3/30\n",
      "4/4 [==============================] - 0s 0s/step - loss: 2.0221 - acc: 0.6667\n",
      "Epoch 4/30\n",
      "4/4 [==============================] - 0s 0s/step - loss: 1.6004 - acc: 0.6667\n",
      "Epoch 5/30\n",
      "4/4 [==============================] - 0s 768us/step - loss: 1.1729 - acc: 0.6667\n",
      "Epoch 6/30\n",
      "4/4 [==============================] - 0s 0s/step - loss: 0.8596 - acc: 0.6667\n",
      "Epoch 7/30\n",
      "4/4 [==============================] - 0s 4ms/step - loss: 0.6470 - acc: 0.6667\n",
      "Epoch 8/30\n",
      "4/4 [==============================] - 0s 0s/step - loss: 0.5510 - acc: 0.8000\n",
      "Epoch 9/30\n",
      "4/4 [==============================] - 0s 0s/step - loss: 0.5323 - acc: 0.9048\n",
      "Epoch 10/30\n",
      "4/4 [==============================] - 0s 5ms/step - loss: 0.5244 - acc: 0.8952\n",
      "Epoch 11/30\n",
      "4/4 [==============================] - 0s 0s/step - loss: 0.5192 - acc: 0.8857\n",
      "Epoch 12/30\n",
      "4/4 [==============================] - 0s 0s/step - loss: 0.5161 - acc: 0.8381\n",
      "Epoch 13/30\n",
      "4/4 [==============================] - 0s 1ms/step - loss: 0.5119 - acc: 0.9238\n",
      "Epoch 14/30\n",
      "4/4 [==============================] - 0s 0s/step - loss: 0.5079 - acc: 0.9524\n",
      "Epoch 15/30\n",
      "4/4 [==============================] - 0s 3ms/step - loss: 0.5059 - acc: 0.8857\n",
      "Epoch 16/30\n",
      "4/4 [==============================] - 0s 2ms/step - loss: 0.5020 - acc: 0.8952\n",
      "Epoch 17/30\n",
      "4/4 [==============================] - 0s 0s/step - loss: 0.5001 - acc: 0.9333\n",
      "Epoch 18/30\n",
      "4/4 [==============================] - 0s 0s/step - loss: 0.4982 - acc: 0.9524\n",
      "Epoch 19/30\n",
      "4/4 [==============================] - 0s 1ms/step - loss: 0.4940 - acc: 0.9048\n",
      "Epoch 20/30\n",
      "4/4 [==============================] - 0s 0s/step - loss: 0.4968 - acc: 0.9143\n",
      "Epoch 21/30\n",
      "4/4 [==============================] - 0s 0s/step - loss: 0.4907 - acc: 0.8571\n",
      "Epoch 22/30\n",
      "4/4 [==============================] - 0s 0s/step - loss: 0.4876 - acc: 0.9524\n",
      "Epoch 23/30\n",
      "4/4 [==============================] - 0s 3ms/step - loss: 0.4854 - acc: 0.9429\n",
      "Epoch 24/30\n",
      "4/4 [==============================] - 0s 0s/step - loss: 0.4846 - acc: 0.8857\n",
      "Epoch 25/30\n",
      "4/4 [==============================] - 0s 0s/step - loss: 0.4815 - acc: 0.8857\n",
      "Epoch 26/30\n",
      "4/4 [==============================] - 0s 0s/step - loss: 0.4797 - acc: 0.9619\n",
      "Epoch 27/30\n",
      "4/4 [==============================] - 0s 5ms/step - loss: 0.4765 - acc: 0.9619\n",
      "Epoch 28/30\n",
      "4/4 [==============================] - 0s 0s/step - loss: 0.4746 - acc: 0.8667\n",
      "Epoch 29/30\n",
      "4/4 [==============================] - 0s 0s/step - loss: 0.4716 - acc: 0.9143\n",
      "Epoch 30/30\n",
      "4/4 [==============================] - 0s 233us/step - loss: 0.4712 - acc: 0.8857\n"
     ]
    }
   ],
   "source": [
    "model.compile(loss='sparse_categorical_crossentropy', optimizer = 'sgd', metrics = 'acc')\n",
    "hist = model.fit(X1_train, y1_train, epochs=30)"
   ]
  },
  {
   "cell_type": "code",
   "execution_count": null,
   "id": "a90823d2-effa-407a-9f9b-771f3ad00cae",
   "metadata": {},
   "outputs": [],
   "source": []
  },
  {
   "cell_type": "code",
   "execution_count": 100,
   "id": "a1a9c7fd-b313-4001-8934-fe31b95d9d01",
   "metadata": {
    "tags": []
   },
   "outputs": [
    {
     "name": "stdout",
     "output_type": "stream",
     "text": [
      "Downloading data from https://storage.googleapis.com/tensorflow/tf-keras-datasets/mnist.npz\n",
      "11490434/11490434 [==============================] - 2s 0us/step\n"
     ]
    }
   ],
   "source": [
    "from tensorflow.keras.datasets.mnist import load_data\n",
    "(X2_train, y2_train), (X2_test, y2_test) = load_data()"
   ]
  },
  {
   "cell_type": "code",
   "execution_count": 101,
   "id": "6a7a02f4-71c7-4f2f-b1d0-4488286907e9",
   "metadata": {
    "tags": []
   },
   "outputs": [
    {
     "data": {
      "text/plain": [
       "((60000, 28, 28), (60000,))"
      ]
     },
     "execution_count": 101,
     "metadata": {},
     "output_type": "execute_result"
    }
   ],
   "source": [
    "X2_train.shape, y2_train.shape"
   ]
  },
  {
   "cell_type": "code",
   "execution_count": 105,
   "id": "dcf9d4c8-55f2-465f-8fce-a386cd7e5bc3",
   "metadata": {
    "tags": []
   },
   "outputs": [
    {
     "data": {
      "text/plain": [
       "5"
      ]
     },
     "execution_count": 105,
     "metadata": {},
     "output_type": "execute_result"
    },
    {
     "data": {
      "image/png": "[encoded data removed]",
      "text/plain": [
       "<Figure size 640x480 with 1 Axes>"
      ]
     },
     "metadata": {},
     "output_type": "display_data"
    }
   ],
   "source": [
    "from PIL import Image\n",
    "img = X2_train[0]\n",
    "\n",
    "import matplotlib.pyplot as plt\n",
    "img1 = Image.fromarray(img, mode='L')\n",
    "plt.imshow(img1)\n",
    "\n",
    "y2_train[0]"
   ]
  },
  {
   "cell_type": "code",
   "execution_count": 106,
   "id": "103e7da7-1279-4073-8d27-1c9218352a9b",
   "metadata": {
    "tags": []
   },
   "outputs": [
    {
     "data": {
      "text/plain": [
       "(60000, 784)"
      ]
     },
     "execution_count": 106,
     "metadata": {},
     "output_type": "execute_result"
    }
   ],
   "source": [
    "X2_train = X2_train.reshape(60000,-1)\n",
    "X2_train.shape"
   ]
  },
  {
   "cell_type": "code",
   "execution_count": null,
   "id": "388fca98-4eac-44e2-9acc-00036f150bee",
   "metadata": {},
   "outputs": [],
   "source": []
  },
  {
   "cell_type": "code",
   "execution_count": 107,
   "id": "416b35f6-db09-4fe5-8e38-54be76d20d11",
   "metadata": {
    "tags": []
   },
   "outputs": [
    {
     "data": {
      "text/plain": [
       "array([[0, 0, 0, ..., 0, 0, 0],\n",
       "       [0, 0, 0, ..., 0, 0, 0],\n",
       "       [0, 0, 0, ..., 0, 0, 0],\n",
       "       ...,\n",
       "       [0, 0, 0, ..., 0, 0, 0],\n",
       "       [0, 0, 0, ..., 0, 0, 0],\n",
       "       [0, 0, 0, ..., 0, 0, 0]], dtype=uint8)"
      ]
     },
     "execution_count": 107,
     "metadata": {},
     "output_type": "execute_result"
    }
   ],
   "source": [
    "X2_train"
   ]
  },
  {
   "cell_type": "code",
   "execution_count": 109,
   "id": "b78e8857-fba7-497d-b11c-23dd23845167",
   "metadata": {
    "tags": []
   },
   "outputs": [
    {
     "name": "stdout",
     "output_type": "stream",
     "text": [
      "Model: \"sequential_15\"\n",
      "_________________________________________________________________\n",
      " Layer (type)                Output Shape              Param #   \n",
      "=================================================================\n",
      " dense_15 (Dense)            (None, 10)                7850      \n",
      "                                                                 \n",
      "=================================================================\n",
      "Total params: 7,850\n",
      "Trainable params: 7,850\n",
      "Non-trainable params: 0\n",
      "_________________________________________________________________\n"
     ]
    }
   ],
   "source": [
    "model2 = Sequential()\n",
    "model2.add(Dense(10, activation='softmax', input_shape=(784,)))\n",
    "model2.summary()"
   ]
  },
  {
   "cell_type": "code",
   "execution_count": 110,
   "id": "d7a3205e-1406-49c4-8369-d59f0de336ca",
   "metadata": {
    "tags": []
   },
   "outputs": [
    {
     "name": "stdout",
     "output_type": "stream",
     "text": [
      "Epoch 1/30\n",
      "1875/1875 [==============================] - 2s 765us/step - loss: 312.2225 - acc: 0.8441\n",
      "Epoch 2/30\n",
      "1875/1875 [==============================] - 1s 712us/step - loss: 262.1629 - acc: 0.8678\n",
      "Epoch 3/30\n",
      "1875/1875 [==============================] - 1s 659us/step - loss: 246.1196 - acc: 0.8734\n",
      "Epoch 4/30\n",
      "1875/1875 [==============================] - 1s 777us/step - loss: 246.9188 - acc: 0.8765\n",
      "Epoch 5/30\n",
      "1875/1875 [==============================] - 1s 791us/step - loss: 244.8639 - acc: 0.8773\n",
      "Epoch 6/30\n",
      "1875/1875 [==============================] - 1s 786us/step - loss: 238.4901 - acc: 0.8801\n",
      "Epoch 7/30\n",
      "1875/1875 [==============================] - 1s 780us/step - loss: 236.9166 - acc: 0.8800\n",
      "Epoch 8/30\n",
      "1875/1875 [==============================] - 1s 770us/step - loss: 235.6544 - acc: 0.8814\n",
      "Epoch 9/30\n",
      "1875/1875 [==============================] - 1s 670us/step - loss: 234.3736 - acc: 0.8813\n",
      "Epoch 10/30\n",
      "1875/1875 [==============================] - 1s 671us/step - loss: 232.6180 - acc: 0.8822\n",
      "Epoch 11/30\n",
      "1875/1875 [==============================] - 1s 671us/step - loss: 232.1552 - acc: 0.8820\n",
      "Epoch 12/30\n",
      "1875/1875 [==============================] - 1s 789us/step - loss: 231.7347 - acc: 0.8839\n",
      "Epoch 13/30\n",
      "1875/1875 [==============================] - 1s 793us/step - loss: 229.9386 - acc: 0.8841\n",
      "Epoch 14/30\n",
      "1875/1875 [==============================] - 1s 793us/step - loss: 230.3648 - acc: 0.8839\n",
      "Epoch 15/30\n",
      "1875/1875 [==============================] - 1s 790us/step - loss: 228.2857 - acc: 0.8844\n",
      "Epoch 16/30\n",
      "1875/1875 [==============================] - 1s 772us/step - loss: 230.4373 - acc: 0.8846\n",
      "Epoch 17/30\n",
      "1875/1875 [==============================] - 1s 762us/step - loss: 231.9884 - acc: 0.8843\n",
      "Epoch 18/30\n",
      "1875/1875 [==============================] - 1s 769us/step - loss: 230.2422 - acc: 0.8850\n",
      "Epoch 19/30\n",
      "1875/1875 [==============================] - 1s 781us/step - loss: 228.5351 - acc: 0.8845\n",
      "Epoch 20/30\n",
      "1875/1875 [==============================] - 1s 793us/step - loss: 227.8496 - acc: 0.8859\n",
      "Epoch 21/30\n",
      "1875/1875 [==============================] - 1s 791us/step - loss: 227.6483 - acc: 0.8865\n",
      "Epoch 22/30\n",
      "1875/1875 [==============================] - 2s 804us/step - loss: 222.8699 - acc: 0.8874\n",
      "Epoch 23/30\n",
      "1875/1875 [==============================] - 1s 796us/step - loss: 225.6950 - acc: 0.8868\n",
      "Epoch 24/30\n",
      "1875/1875 [==============================] - 1s 760us/step - loss: 224.1952 - acc: 0.8877\n",
      "Epoch 25/30\n",
      "1875/1875 [==============================] - 1s 778us/step - loss: 230.0489 - acc: 0.8856\n",
      "Epoch 26/30\n",
      "1875/1875 [==============================] - 1s 767us/step - loss: 225.3995 - acc: 0.8874\n",
      "Epoch 27/30\n",
      "1875/1875 [==============================] - 1s 768us/step - loss: 222.7605 - acc: 0.8871\n",
      "Epoch 28/30\n",
      "1875/1875 [==============================] - 2s 796us/step - loss: 218.8093 - acc: 0.8882\n",
      "Epoch 29/30\n",
      "1875/1875 [==============================] - 1s 790us/step - loss: 222.7537 - acc: 0.8869\n",
      "Epoch 30/30\n",
      "1875/1875 [==============================] - 1s 788us/step - loss: 229.1726 - acc: 0.8857\n"
     ]
    }
   ],
   "source": [
    "model2.compile(loss='sparse_categorical_crossentropy', optimizer = 'sgd', metrics = 'acc')\n",
    "hist2 = model2.fit(X2_train, y2_train, epochs=30)"
   ]
  },
  {
   "cell_type": "code",
   "execution_count": 114,
   "id": "cc7309e9-b250-488b-8b0a-f803a81d2524",
   "metadata": {
    "tags": []
   },
   "outputs": [],
   "source": [
    "import numpy as np"
   ]
  },
  {
   "cell_type": "code",
   "execution_count": 119,
   "id": "0eb02d07-c58c-43b3-85e8-7cba675460c9",
   "metadata": {
    "tags": []
   },
   "outputs": [
    {
     "data": {
      "image/png": "[encoded data removed]",
      "text/plain": [
       "<Figure size 1000x800 with 1 Axes>"
      ]
     },
     "metadata": {},
     "output_type": "display_data"
    }
   ],
   "source": [
    "import numpy as np\n",
    "acc = hist2.history['acc']\n",
    "# val_acc = hist2.history['val_acc']\n",
    "epo = np.arange(1, len(acc) +1)\n",
    "plt.figure(figsize = (10, 8))\n",
    "plt.xlim(250, len(acc)+1)\n",
    "plt.plot(epo, acc, 'b', label='acc')\n",
    "# plt.plot(epo, val_acc, 'g', label='val_acc')\n",
    "plt.show()"
   ]
  }
 ],
 "metadata": {
  "kernelspec": {
   "display_name": "Python 3 (ipykernel)",
   "language": "python",
   "name": "python3"
  },
  "language_info": {
   "codemirror_mode": {
    "name": "ipython",
    "version": 3
   },
   "file_extension": ".py",
   "mimetype": "text/x-python",
   "name": "python",
   "nbconvert_exporter": "python",
   "pygments_lexer": "ipython3",
   "version": "3.10.10"
  }
 },
 "nbformat": 4,
 "nbformat_minor": 5
}
