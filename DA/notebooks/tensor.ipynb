{
 "cells": [
  {
   "cell_type": "code",
   "execution_count": 8,
   "id": "3c723d8f-2eb0-489b-9823-8a8bde5a834e",
   "metadata": {
    "tags": []
   },
   "outputs": [],
   "source": [
    "import pandas as pd\n",
    "import numpy as np\n",
    "import matplotlib.pyplot as plt\n",
    "from sklearn.model_selection import train_test_split\n",
    "\n",
    "import tensorflow as tf\n",
    "from tensorflow import keras\n",
    "from tensorflow.keras import layers"
   ]
  },
  {
   "cell_type": "code",
   "execution_count": 59,
   "id": "b691390c-03fe-4317-a82a-ae8b5a6d9678",
   "metadata": {
    "tags": []
   },
   "outputs": [],
   "source": [
    "data = pd.read_csv('../data/raw_postpro.csv', encoding = 'cp949')\n",
    "# 컬럼 삭제\n",
    "df = data.drop(['Part No.2', '미입고 기간', '선박입고','완료 여부'], axis=1)"
   ]
  },
  {
   "cell_type": "code",
   "execution_count": 60,
   "id": "7f704270-b59a-4334-a018-a495c6c11768",
   "metadata": {
    "tags": []
   },
   "outputs": [],
   "source": [
    "X = df[['Subject','Machinery', 'Assembly', 'Part No.1', '청구품목']]\n",
    "y = df['key2'].values\n",
    "from sklearn import preprocessing\n",
    "le = preprocessing.LabelEncoder()\n",
    "# y = y.values.ravel()  # y를 1차원 배열로 변환\n",
    "y = le.fit_transform(y)\n",
    "# 데이터를 학습용과 검증용으로 나누기\n",
    "from sklearn.model_selection import train_test_split\n",
    "X_train, X_test, y_train, y_test = train_test_split(X, y, test_size=0.3, random_state=42,shuffle=True)"
   ]
  },
  {
   "cell_type": "code",
   "execution_count": 61,
   "id": "231f1415-8d5d-40eb-a9f0-706b3fc45264",
   "metadata": {
    "tags": []
   },
   "outputs": [
    {
     "data": {
      "text/html": [
       "<div>\n",
       "<style scoped>\n",
       "    .dataframe tbody tr th:only-of-type {\n",
       "        vertical-align: middle;\n",
       "    }\n",
       "\n",
       "    .dataframe tbody tr th {\n",
       "        vertical-align: top;\n",
       "    }\n",
       "\n",
       "    .dataframe thead th {\n",
       "        text-align: right;\n",
       "    }\n",
       "</style>\n",
       "<table border=\"1\" class=\"dataframe\">\n",
       "  <thead>\n",
       "    <tr style=\"text-align: right;\">\n",
       "      <th></th>\n",
       "      <th>Subject</th>\n",
       "      <th>Machinery</th>\n",
       "      <th>Assembly</th>\n",
       "      <th>Part No.1</th>\n",
       "      <th>청구품목</th>\n",
       "    </tr>\n",
       "  </thead>\n",
       "  <tbody>\n",
       "    <tr>\n",
       "      <th>10862</th>\n",
       "      <td>NET BOAT R/G REPAIR PARTS</td>\n",
       "      <td>7M NET BOAT REDUCTION GEAR</td>\n",
       "      <td>FIG 3. INPUT SHAFT</td>\n",
       "      <td>24321-000450</td>\n",
       "      <td>O-RING, 1AG45.0</td>\n",
       "    </tr>\n",
       "    <tr>\n",
       "      <th>2088</th>\n",
       "      <td>M/E WATER PUMP 외 PARTS 발주의 건</td>\n",
       "      <td>MAIN ENGINE</td>\n",
       "      <td>LUBE OIL COOLER</td>\n",
       "      <td>8417454</td>\n",
       "      <td>SEAL..O-RING-CLAMP PLATE TO PIPE FLANGE</td>\n",
       "    </tr>\n",
       "    <tr>\n",
       "      <th>14882</th>\n",
       "      <td>SEG-E-190513-01</td>\n",
       "      <td>POWER BLOCK</td>\n",
       "      <td>CLEATS SHEAVE ASSY</td>\n",
       "      <td>60.059.01215.134</td>\n",
       "      <td>BUSHING</td>\n",
       "    </tr>\n",
       "    <tr>\n",
       "      <th>981</th>\n",
       "      <td>OCA-D-DECK-210410-01</td>\n",
       "      <td>BLOCK</td>\n",
       "      <td>SNATCH BLOCK</td>\n",
       "      <td>109064</td>\n",
       "      <td>MCKISSICK 419 SNATCH BLOCK</td>\n",
       "    </tr>\n",
       "    <tr>\n",
       "      <th>6473</th>\n",
       "      <td>선단용 6M NET BOAT O/H PARTS</td>\n",
       "      <td>6M NET BOAT ENGINE</td>\n",
       "      <td>FIG 21. INTER COOLER(6CH-WUTE)</td>\n",
       "      <td>127687-18910</td>\n",
       "      <td>CLIP, HOSE</td>\n",
       "    </tr>\n",
       "    <tr>\n",
       "      <th>...</th>\n",
       "      <td>...</td>\n",
       "      <td>...</td>\n",
       "      <td>...</td>\n",
       "      <td>...</td>\n",
       "      <td>...</td>\n",
       "    </tr>\n",
       "    <tr>\n",
       "      <th>11284</th>\n",
       "      <td>SEG-E-201008-01</td>\n",
       "      <td>6M NET BOAT ENGINE</td>\n",
       "      <td>FIG 39. COOLER(FRESH WATER)</td>\n",
       "      <td>26226-100752</td>\n",
       "      <td>STUD M10X75</td>\n",
       "    </tr>\n",
       "    <tr>\n",
       "      <th>11964</th>\n",
       "      <td>MIR-F-ENG-191015-01</td>\n",
       "      <td>NO.1 GENERATOR ENGINE</td>\n",
       "      <td>307-0008 WIRING GP-ENGINE</td>\n",
       "      <td>304-5668</td>\n",
       "      <td>SENSOR GP-PRESS</td>\n",
       "    </tr>\n",
       "    <tr>\n",
       "      <th>5390</th>\n",
       "      <td>체항수리용 REF COMP O/H PARTS 외</td>\n",
       "      <td>NO.1 REF COMPRESSOR</td>\n",
       "      <td>7Z2-1 CYLINDER LINER &amp; CON-ROD</td>\n",
       "      <td>1206570</td>\n",
       "      <td>#2 COMPRESSION RING</td>\n",
       "    </tr>\n",
       "    <tr>\n",
       "      <th>860</th>\n",
       "      <td>MAR2-F-ENG-190218-01</td>\n",
       "      <td>PORT BOOM BRAILING WINCH</td>\n",
       "      <td>BRAKE GROUP</td>\n",
       "      <td>25953</td>\n",
       "      <td>DIVIDER PLATE</td>\n",
       "    </tr>\n",
       "    <tr>\n",
       "      <th>15795</th>\n",
       "      <td>CAR-F-ENG-190518-01</td>\n",
       "      <td>NO.1 GENERATOR ENGINE</td>\n",
       "      <td>4N-1201 CYLINDER BLOCK GROUP</td>\n",
       "      <td>6I-4611</td>\n",
       "      <td>PLATE-SPACER</td>\n",
       "    </tr>\n",
       "  </tbody>\n",
       "</table>\n",
       "<p>14361 rows × 5 columns</p>\n",
       "</div>"
      ],
      "text/plain": [
       "                            Subject                   Machinery   \n",
       "10862     NET BOAT R/G REPAIR PARTS  7M NET BOAT REDUCTION GEAR  \\\n",
       "2088   M/E WATER PUMP 외 PARTS 발주의 건                 MAIN ENGINE   \n",
       "14882               SEG-E-190513-01                 POWER BLOCK   \n",
       "981            OCA-D-DECK-210410-01                       BLOCK   \n",
       "6473      선단용 6M NET BOAT O/H PARTS          6M NET BOAT ENGINE   \n",
       "...                             ...                         ...   \n",
       "11284               SEG-E-201008-01          6M NET BOAT ENGINE   \n",
       "11964           MIR-F-ENG-191015-01       NO.1 GENERATOR ENGINE   \n",
       "5390     체항수리용 REF COMP O/H PARTS 외         NO.1 REF COMPRESSOR   \n",
       "860            MAR2-F-ENG-190218-01   PORT BOOM BRAILING WINCH    \n",
       "15795           CAR-F-ENG-190518-01       NO.1 GENERATOR ENGINE   \n",
       "\n",
       "                             Assembly         Part No.1   \n",
       "10862              FIG 3. INPUT SHAFT      24321-000450  \\\n",
       "2088                  LUBE OIL COOLER           8417454   \n",
       "14882              CLEATS SHEAVE ASSY  60.059.01215.134   \n",
       "981                      SNATCH BLOCK            109064   \n",
       "6473   FIG 21. INTER COOLER(6CH-WUTE)      127687-18910   \n",
       "...                               ...               ...   \n",
       "11284     FIG 39. COOLER(FRESH WATER)      26226-100752   \n",
       "11964       307-0008 WIRING GP-ENGINE          304-5668   \n",
       "5390   7Z2-1 CYLINDER LINER & CON-ROD           1206570   \n",
       "860                       BRAKE GROUP             25953   \n",
       "15795    4N-1201 CYLINDER BLOCK GROUP           6I-4611   \n",
       "\n",
       "                                          청구품목  \n",
       "10862                          O-RING, 1AG45.0  \n",
       "2088   SEAL..O-RING-CLAMP PLATE TO PIPE FLANGE  \n",
       "14882                                  BUSHING  \n",
       "981                 MCKISSICK 419 SNATCH BLOCK  \n",
       "6473                                CLIP, HOSE  \n",
       "...                                        ...  \n",
       "11284                              STUD M10X75  \n",
       "11964                          SENSOR GP-PRESS  \n",
       "5390                       #2 COMPRESSION RING  \n",
       "860                              DIVIDER PLATE  \n",
       "15795                             PLATE-SPACER  \n",
       "\n",
       "[14361 rows x 5 columns]"
      ]
     },
     "execution_count": 61,
     "metadata": {},
     "output_type": "execute_result"
    }
   ],
   "source": [
    "X_train"
   ]
  },
  {
   "cell_type": "code",
   "execution_count": 32,
   "id": "7f4cde0b-8ffc-4fd2-991b-ee545e3a7c9d",
   "metadata": {
    "tags": []
   },
   "outputs": [],
   "source": [
    "features= {\n",
    "   'Subject': df['Subject'].values,\n",
    "    'Machinery':df['Machinery'].values ,\n",
    "    'Assembly': df['Assembly'].values,\n",
    "    'Part No.1' : df['Part No.1'].values,\n",
    "    '청구품목' : df['청구품목'].values\n",
    "}"
   ]
  },
  {
   "cell_type": "code",
   "execution_count": 62,
   "id": "c284dac9-8c0c-45f6-82e7-963093c0ab48",
   "metadata": {
    "tags": []
   },
   "outputs": [],
   "source": [
    "features= {\n",
    "   'Subject': X_train['Subject'].values,\n",
    "    'Machinery':X_train['Machinery'].values ,\n",
    "    'Assembly': X_train['Assembly'].values,\n",
    "    'Part No.1' : X_train['Part No.1'].values,\n",
    "    '청구품목' : X_train['청구품목'].values\n",
    "}"
   ]
  },
  {
   "cell_type": "code",
   "execution_count": 63,
   "id": "58543fd1-7e7b-4777-ba61-ccdbe5ce457f",
   "metadata": {
    "tags": []
   },
   "outputs": [
    {
     "data": {
      "text/plain": [
       "array([40, 24, 10, ..., 24, 44, 44])"
      ]
     },
     "execution_count": 63,
     "metadata": {},
     "output_type": "execute_result"
    }
   ],
   "source": [
    "y_train"
   ]
  },
  {
   "cell_type": "code",
   "execution_count": 47,
   "id": "095366a9-7935-4023-8338-2cccfdff6614",
   "metadata": {
    "tags": []
   },
   "outputs": [],
   "source": [
    "# # df에서 각 컬럼의 단어 수 확인\n",
    "# colname = ['Subject','Machinery', 'Assembly', 'Part No.1', '청구품목',]\n",
    "# count = []\n",
    "# for col in colname:\n",
    "#     unique_subjects = set(df[col])\n",
    "#     num_unique_subjects = len(unique_subjects)\n",
    "#     count.append(num_unique_subjects)\n",
    "#     # print(num_unique_subjects)\n",
    "# print(count)\n",
    "\n",
    "# import pandas as pd\n",
    "\n",
    "# # 가장 긴 문자열 길이를 저장할 딕셔너리 초기화\n",
    "# max_string_lengths = {}\n",
    "\n",
    "# # 각 열 별로 길이가 가장 긴 문자열 찾기\n",
    "# for col in colname:\n",
    "#     max_length = df[col].str.len().max()\n",
    "#     max_string_lengths[col] = max_length\n",
    "# # 결과 출력\n",
    "# print(max_string_lengths)"
   ]
  },
  {
   "cell_type": "code",
   "execution_count": 48,
   "id": "5dd4a3ed-df73-442c-8288-a18fb7cb9a4e",
   "metadata": {
    "tags": []
   },
   "outputs": [],
   "source": [
    "# unique_values = {}\n",
    "# for col in colname:\n",
    "#     unique_values[col] = X[col].unique()\n",
    "#     print(f\"{col}: {len(unique_values[col])}\")"
   ]
  },
  {
   "cell_type": "code",
   "execution_count": null,
   "id": "56a38fea-61c1-4b32-abd6-d227416d24f1",
   "metadata": {},
   "outputs": [],
   "source": [
    "string_lookup_layer = tf.keras.layers.StringLookup(vocabulary=['small', 'medium', 'large'], num_oov_indices=0)\n",
    "embedding = tf.keras.layers.Embedding(3, 4)\n",
    "print(string_lookup_layer(['small', 'medium', 'large']))\n",
    "embedding(string_lookup_layer(['small', 'medium', 'large']))"
   ]
  },
  {
   "cell_type": "code",
   "execution_count": 31,
   "id": "95f8cfad-23d8-4b06-8a21-5452fb9b9799",
   "metadata": {
    "tags": []
   },
   "outputs": [],
   "source": [
    "# colname = ['Subject','Machinery', 'Assembly', 'Part No.1', '청구품목',]\n",
    "\n",
    "inputs = {\n",
    "      'Subject': tf.keras.Input(shape=(), dtype='string'),\n",
    "      'Machinery': tf.keras.Input(shape=(), dtype='string'),\n",
    "      'Assembly': tf.keras.Input(shape=(), dtype='string'),\n",
    "      'Part No.1': tf.keras.Input(shape=(), dtype='string'),\n",
    "      '청구품목': tf.keras.Input(shape=(), dtype='string')\n",
    "    }\n",
    "# size_output = tf.keras.layers.StringLookup(vocabulary=vocab)(inputs['size'])\n",
    "\n",
    "subject_output = tf.keras.layers.StringLookup(vocabulary=unique_values['Subject'])(inputs['Subject'])\n",
    "machinery_output = tf.keras.layers.StringLookup(vocabulary=unique_values['Machinery'])(inputs['Machinery'])\n",
    "assembly_output = tf.keras.layers.StringLookup(vocabulary=unique_values['Assembly'])(inputs['Assembly'])\n",
    "part1_output = tf.keras.layers.StringLookup(vocabulary=unique_values['Part No.1'])(inputs['Part No.1'])\n",
    "item_output = tf.keras.layers.StringLookup(vocabulary=unique_values['청구품목'])(inputs['청구품목'])\n",
    "\n",
    "outputs = {\n",
    "      'Subject': subject_output,\n",
    "      'Machinery':machinery_output,\n",
    "      'Assembly': assembly_output,\n",
    "      'Part No.1': part1_output,\n",
    "      '청구품목': item_output\n",
    "}\n",
    "preprocessing_model = tf.keras.Model(inputs, outputs)\n",
    "# preprocessing_model.summary()"
   ]
  },
  {
   "cell_type": "code",
   "execution_count": 56,
   "id": "e405e0ff-cac8-48c9-8eb8-2ea4593fac6f",
   "metadata": {
    "tags": []
   },
   "outputs": [
    {
     "data": {
      "text/plain": [
       "{'Subject': array([770], dtype=int64),\n",
       " 'Machinery': array([105], dtype=int64),\n",
       " 'Assembly': array([1031], dtype=int64),\n",
       " 'Part No.1': array([4178], dtype=int64),\n",
       " '청구품목': array([3390], dtype=int64)}"
      ]
     },
     "execution_count": 56,
     "metadata": {},
     "output_type": "execute_result"
    }
   ],
   "source": [
    "# Apply the preprocessing in tf.data.Dataset.map.\n",
    "dataset = tf.data.Dataset.from_tensor_slices(features).batch(1)\n",
    "dataset = dataset.map(lambda x: preprocessing_model(x),\n",
    "                      num_parallel_calls=tf.data.AUTOTUNE)\n",
    "# Display a preprocessed input sample.\n",
    "next(dataset.take(1).as_numpy_iterator())"
   ]
  },
  {
   "cell_type": "code",
   "execution_count": 43,
   "id": "2b808b69-865f-4b9c-ab11-8ca704ad9076",
   "metadata": {
    "tags": []
   },
   "outputs": [
    {
     "name": "stdout",
     "output_type": "stream",
     "text": [
      "{'Subject': TensorSpec(shape=(None,), dtype=tf.int64, name=None), 'Machinery': TensorSpec(shape=(None,), dtype=tf.int64, name=None), 'Assembly': TensorSpec(shape=(None,), dtype=tf.int64, name=None), 'Part No.1': TensorSpec(shape=(None,), dtype=tf.int64, name=None), '청구품목': TensorSpec(shape=(None,), dtype=tf.int64, name=None)}\n",
      "20517\n"
     ]
    }
   ],
   "source": [
    "print(dataset.element_spec)  # 각 요소의 구조를 확인합니다\n",
    "print(dataset.cardinality().numpy())  # 요소 개수를 확인합니다\n"
   ]
  },
  {
   "cell_type": "code",
   "execution_count": 44,
   "id": "81361750-8da0-4e18-8671-1f976d4107cc",
   "metadata": {
    "tags": []
   },
   "outputs": [
    {
     "data": {
      "text/plain": [
       "(keras.engine.keras_tensor.KerasTensor,\n",
       " TensorShape([None]),\n",
       " keras.engine.keras_tensor.KerasTensor,\n",
       " TensorShape([None]),\n",
       " keras.engine.keras_tensor.KerasTensor,\n",
       " TensorShape([None]))"
      ]
     },
     "execution_count": 44,
     "metadata": {},
     "output_type": "execute_result"
    }
   ],
   "source": [
    "type(subject_output), subject_output.shape, type(machinery_output), machinery_output.shape,type(assembly_output), assembly_output.shape"
   ]
  },
  {
   "cell_type": "code",
   "execution_count": null,
   "id": "000d3b2c-0169-4004-affd-46d28657b505",
   "metadata": {},
   "outputs": [],
   "source": []
  },
  {
   "cell_type": "code",
   "execution_count": 37,
   "id": "a6a168e9-6be7-4ae5-acc3-c1f7e945cb95",
   "metadata": {
    "tags": []
   },
   "outputs": [
    {
     "name": "stdout",
     "output_type": "stream",
     "text": [
      "Model: \"model_5\"\n",
      "__________________________________________________________________________________________________\n",
      " Layer (type)                   Output Shape         Param #     Connected to                     \n",
      "==================================================================================================\n",
      " input_41 (InputLayer)          [(None,)]            0           []                               \n",
      "                                                                                                  \n",
      " input_42 (InputLayer)          [(None,)]            0           []                               \n",
      "                                                                                                  \n",
      " input_43 (InputLayer)          [(None,)]            0           []                               \n",
      "                                                                                                  \n",
      " input_44 (InputLayer)          [(None,)]            0           []                               \n",
      "                                                                                                  \n",
      " input_45 (InputLayer)          [(None,)]            0           []                               \n",
      "                                                                                                  \n",
      " embedding_10 (Embedding)       (None, 30)           51480       ['input_41[0][0]']               \n",
      "                                                                                                  \n",
      " embedding_11 (Embedding)       (None, 30)           5220        ['input_42[0][0]']               \n",
      "                                                                                                  \n",
      " embedding_12 (Embedding)       (None, 30)           50490       ['input_43[0][0]']               \n",
      "                                                                                                  \n",
      " embedding_13 (Embedding)       (None, 30)           243840      ['input_44[0][0]']               \n",
      "                                                                                                  \n",
      " embedding_14 (Embedding)       (None, 30)           183870      ['input_45[0][0]']               \n",
      "                                                                                                  \n",
      " concatenate_2 (Concatenate)    (None, 150)          0           ['embedding_10[0][0]',           \n",
      "                                                                  'embedding_11[0][0]',           \n",
      "                                                                  'embedding_12[0][0]',           \n",
      "                                                                  'embedding_13[0][0]',           \n",
      "                                                                  'embedding_14[0][0]']           \n",
      "                                                                                                  \n",
      " dense_2 (Dense)                (None, 1)            151         ['concatenate_2[0][0]']          \n",
      "                                                                                                  \n",
      "==================================================================================================\n",
      "Total params: 535,051\n",
      "Trainable params: 535,051\n",
      "Non-trainable params: 0\n",
      "__________________________________________________________________________________________________\n"
     ]
    }
   ],
   "source": [
    "inputs = {\n",
    "      'Subject': tf.keras.Input(shape=(), dtype='string'),\n",
    "      'Machinery': tf.keras.Input(shape=(), dtype='string'),\n",
    "      'Assembly': tf.keras.Input(shape=(), dtype='string'),\n",
    "      'Part No.1': tf.keras.Input(shape=(), dtype='string'),\n",
    "      '청구품목': tf.keras.Input(shape=(), dtype='string')\n",
    "    }\n",
    "# size_output = tf.keras.layers.StringLookup(vocabulary=vocab)(inputs['size'])\n",
    "\n",
    "embedding1 = tf.keras.layers.Embedding(len(unique_values['Subject']), 30)\n",
    "embedding2 = tf.keras.layers.Embedding(len(unique_values['Machinery']), 30)\n",
    "embedding3 = tf.keras.layers.Embedding(len(unique_values['Assembly']), 30)\n",
    "embedding4 = tf.keras.layers.Embedding(len(unique_values['Part No.1']), 30)\n",
    "embedding5 = tf.keras.layers.Embedding(len(unique_values['청구품목']), 30)\n",
    "\n",
    "# embedding = tf.keras.layers.Embedding(len(vocab), embedding_dims)\n",
    "\n",
    "outputs = tf.keras.layers.Concatenate()([\n",
    "        embedding1(inputs['Subject']),\n",
    "        embedding2(inputs['Machinery']),\n",
    "        embedding3(inputs['Assembly']),\n",
    "        embedding4(inputs['Part No.1']),\n",
    "        embedding5(inputs['청구품목'])\n",
    "])\n",
    "outputs = tf.keras.layers.Dense(1)(outputs)\n",
    "training_model = tf.keras.Model(inputs, outputs)\n",
    "training_model.summary()"
   ]
  },
  {
   "cell_type": "code",
   "execution_count": 53,
   "id": "00aeebaa-1d8b-4755-b437-0198baae1cb3",
   "metadata": {
    "tags": []
   },
   "outputs": [
    {
     "name": "stdout",
     "output_type": "stream",
     "text": [
      "Epoch 1/10\n"
     ]
    },
    {
     "name": "stderr",
     "output_type": "stream",
     "text": [
      "D:\\ShipSupplies\\DA\\venv\\lib\\site-packages\\tensorflow\\python\\util\\dispatch.py:1176: SyntaxWarning: In loss categorical_crossentropy, expected y_pred.shape to be (batch_size, num_classes) with num_classes > 1. Received: y_pred.shape=(None, 1). Consider using 'binary_crossentropy' if you only have 2 classes.\n",
      "  return dispatch_target(*args, **kwargs)\n"
     ]
    },
    {
     "ename": "UnimplementedError",
     "evalue": "Graph execution error:\n\nDetected at node 'model_5/embedding_12/Cast' defined at (most recent call last):\n    File \"C:\\Python310\\lib\\runpy.py\", line 196, in _run_module_as_main\n      return _run_code(code, main_globals, None,\n    File \"C:\\Python310\\lib\\runpy.py\", line 86, in _run_code\n      exec(code, run_globals)\n    File \"D:\\ShipSupplies\\DA\\venv\\lib\\site-packages\\ipykernel_launcher.py\", line 17, in <module>\n      app.launch_new_instance()\n    File \"D:\\ShipSupplies\\DA\\venv\\lib\\site-packages\\traitlets\\config\\application.py\", line 1043, in launch_instance\n      app.start()\n    File \"D:\\ShipSupplies\\DA\\venv\\lib\\site-packages\\ipykernel\\kernelapp.py\", line 725, in start\n      self.io_loop.start()\n    File \"D:\\ShipSupplies\\DA\\venv\\lib\\site-packages\\tornado\\platform\\asyncio.py\", line 195, in start\n      self.asyncio_loop.run_forever()\n    File \"C:\\Python310\\lib\\asyncio\\base_events.py\", line 603, in run_forever\n      self._run_once()\n    File \"C:\\Python310\\lib\\asyncio\\base_events.py\", line 1909, in _run_once\n      handle._run()\n    File \"C:\\Python310\\lib\\asyncio\\events.py\", line 80, in _run\n      self._context.run(self._callback, *self._args)\n    File \"D:\\ShipSupplies\\DA\\venv\\lib\\site-packages\\ipykernel\\kernelbase.py\", line 513, in dispatch_queue\n      await self.process_one()\n    File \"D:\\ShipSupplies\\DA\\venv\\lib\\site-packages\\ipykernel\\kernelbase.py\", line 502, in process_one\n      await dispatch(*args)\n    File \"D:\\ShipSupplies\\DA\\venv\\lib\\site-packages\\ipykernel\\kernelbase.py\", line 409, in dispatch_shell\n      await result\n    File \"D:\\ShipSupplies\\DA\\venv\\lib\\site-packages\\ipykernel\\kernelbase.py\", line 729, in execute_request\n      reply_content = await reply_content\n    File \"D:\\ShipSupplies\\DA\\venv\\lib\\site-packages\\ipykernel\\ipkernel.py\", line 422, in do_execute\n      res = shell.run_cell(\n    File \"D:\\ShipSupplies\\DA\\venv\\lib\\site-packages\\ipykernel\\zmqshell.py\", line 540, in run_cell\n      return super().run_cell(*args, **kwargs)\n    File \"D:\\ShipSupplies\\DA\\venv\\lib\\site-packages\\IPython\\core\\interactiveshell.py\", line 3009, in run_cell\n      result = self._run_cell(\n    File \"D:\\ShipSupplies\\DA\\venv\\lib\\site-packages\\IPython\\core\\interactiveshell.py\", line 3064, in _run_cell\n      result = runner(coro)\n    File \"D:\\ShipSupplies\\DA\\venv\\lib\\site-packages\\IPython\\core\\async_helpers.py\", line 129, in _pseudo_sync_runner\n      coro.send(None)\n    File \"D:\\ShipSupplies\\DA\\venv\\lib\\site-packages\\IPython\\core\\interactiveshell.py\", line 3269, in run_cell_async\n      has_raised = await self.run_ast_nodes(code_ast.body, cell_name,\n    File \"D:\\ShipSupplies\\DA\\venv\\lib\\site-packages\\IPython\\core\\interactiveshell.py\", line 3448, in run_ast_nodes\n      if await self.run_code(code, result, async_=asy):\n    File \"D:\\ShipSupplies\\DA\\venv\\lib\\site-packages\\IPython\\core\\interactiveshell.py\", line 3508, in run_code\n      exec(code_obj, self.user_global_ns, self.user_ns)\n    File \"C:\\Users\\SW\\AppData\\Local\\Temp\\ipykernel_2884\\3312906073.py\", line 9, in <module>\n      training_model.fit(features, y_train, epochs=10, batch_size=32)\n    File \"D:\\ShipSupplies\\DA\\venv\\lib\\site-packages\\keras\\utils\\traceback_utils.py\", line 65, in error_handler\n      return fn(*args, **kwargs)\n    File \"D:\\ShipSupplies\\DA\\venv\\lib\\site-packages\\keras\\engine\\training.py\", line 1685, in fit\n      tmp_logs = self.train_function(iterator)\n    File \"D:\\ShipSupplies\\DA\\venv\\lib\\site-packages\\keras\\engine\\training.py\", line 1284, in train_function\n      return step_function(self, iterator)\n    File \"D:\\ShipSupplies\\DA\\venv\\lib\\site-packages\\keras\\engine\\training.py\", line 1268, in step_function\n      outputs = model.distribute_strategy.run(run_step, args=(data,))\n    File \"D:\\ShipSupplies\\DA\\venv\\lib\\site-packages\\keras\\engine\\training.py\", line 1249, in run_step\n      outputs = model.train_step(data)\n    File \"D:\\ShipSupplies\\DA\\venv\\lib\\site-packages\\keras\\engine\\training.py\", line 1050, in train_step\n      y_pred = self(x, training=True)\n    File \"D:\\ShipSupplies\\DA\\venv\\lib\\site-packages\\keras\\utils\\traceback_utils.py\", line 65, in error_handler\n      return fn(*args, **kwargs)\n    File \"D:\\ShipSupplies\\DA\\venv\\lib\\site-packages\\keras\\engine\\training.py\", line 558, in __call__\n      return super().__call__(*args, **kwargs)\n    File \"D:\\ShipSupplies\\DA\\venv\\lib\\site-packages\\keras\\utils\\traceback_utils.py\", line 65, in error_handler\n      return fn(*args, **kwargs)\n    File \"D:\\ShipSupplies\\DA\\venv\\lib\\site-packages\\keras\\engine\\base_layer.py\", line 1145, in __call__\n      outputs = call_fn(inputs, *args, **kwargs)\n    File \"D:\\ShipSupplies\\DA\\venv\\lib\\site-packages\\keras\\utils\\traceback_utils.py\", line 96, in error_handler\n      return fn(*args, **kwargs)\n    File \"D:\\ShipSupplies\\DA\\venv\\lib\\site-packages\\keras\\engine\\functional.py\", line 512, in call\n      return self._run_internal_graph(inputs, training=training, mask=mask)\n    File \"D:\\ShipSupplies\\DA\\venv\\lib\\site-packages\\keras\\engine\\functional.py\", line 669, in _run_internal_graph\n      outputs = node.layer(*args, **kwargs)\n    File \"D:\\ShipSupplies\\DA\\venv\\lib\\site-packages\\keras\\utils\\traceback_utils.py\", line 65, in error_handler\n      return fn(*args, **kwargs)\n    File \"D:\\ShipSupplies\\DA\\venv\\lib\\site-packages\\keras\\engine\\base_layer.py\", line 1145, in __call__\n      outputs = call_fn(inputs, *args, **kwargs)\n    File \"D:\\ShipSupplies\\DA\\venv\\lib\\site-packages\\keras\\utils\\traceback_utils.py\", line 96, in error_handler\n      return fn(*args, **kwargs)\n    File \"D:\\ShipSupplies\\DA\\venv\\lib\\site-packages\\keras\\layers\\core\\embedding.py\", line 223, in call\n      inputs = tf.cast(inputs, \"int32\")\nNode: 'model_5/embedding_12/Cast'\nCast string to int32 is not supported\n\t [[{{node model_5/embedding_12/Cast}}]] [Op:__inference_train_function_2406]",
     "output_type": "error",
     "traceback": [
      "\u001b[1;31m---------------------------------------------------------------------------\u001b[0m",
      "\u001b[1;31mUnimplementedError\u001b[0m                        Traceback (most recent call last)",
      "Cell \u001b[1;32mIn[53], line 9\u001b[0m\n\u001b[0;32m      3\u001b[0m training_model\u001b[38;5;241m.\u001b[39mcompile(loss\u001b[38;5;241m=\u001b[39mtf\u001b[38;5;241m.\u001b[39mkeras\u001b[38;5;241m.\u001b[39mlosses\u001b[38;5;241m.\u001b[39mCategoricalCrossentropy(from_logits\u001b[38;5;241m=\u001b[39m\u001b[38;5;28;01mTrue\u001b[39;00m),\n\u001b[0;32m      4\u001b[0m                       optimizer\u001b[38;5;241m=\u001b[39mtf\u001b[38;5;241m.\u001b[39mkeras\u001b[38;5;241m.\u001b[39moptimizers\u001b[38;5;241m.\u001b[39mAdam(),\n\u001b[0;32m      5\u001b[0m                        metrics\u001b[38;5;241m=\u001b[39m[\u001b[38;5;124m'\u001b[39m\u001b[38;5;124maccuracy\u001b[39m\u001b[38;5;124m'\u001b[39m])\n\u001b[0;32m      7\u001b[0m \u001b[38;5;66;03m# training_model.fit(dataset)\u001b[39;00m\n\u001b[0;32m      8\u001b[0m \u001b[38;5;66;03m# 모델 학습\u001b[39;00m\n\u001b[1;32m----> 9\u001b[0m \u001b[43mtraining_model\u001b[49m\u001b[38;5;241;43m.\u001b[39;49m\u001b[43mfit\u001b[49m\u001b[43m(\u001b[49m\u001b[43mfeatures\u001b[49m\u001b[43m,\u001b[49m\u001b[43m \u001b[49m\u001b[43my_train\u001b[49m\u001b[43m,\u001b[49m\u001b[43m \u001b[49m\u001b[43mepochs\u001b[49m\u001b[38;5;241;43m=\u001b[39;49m\u001b[38;5;241;43m10\u001b[39;49m\u001b[43m,\u001b[49m\u001b[43m \u001b[49m\u001b[43mbatch_size\u001b[49m\u001b[38;5;241;43m=\u001b[39;49m\u001b[38;5;241;43m32\u001b[39;49m\u001b[43m)\u001b[49m\n",
      "File \u001b[1;32mD:\\ShipSupplies\\DA\\venv\\lib\\site-packages\\keras\\utils\\traceback_utils.py:70\u001b[0m, in \u001b[0;36mfilter_traceback.<locals>.error_handler\u001b[1;34m(*args, **kwargs)\u001b[0m\n\u001b[0;32m     67\u001b[0m     filtered_tb \u001b[38;5;241m=\u001b[39m _process_traceback_frames(e\u001b[38;5;241m.\u001b[39m__traceback__)\n\u001b[0;32m     68\u001b[0m     \u001b[38;5;66;03m# To get the full stack trace, call:\u001b[39;00m\n\u001b[0;32m     69\u001b[0m     \u001b[38;5;66;03m# `tf.debugging.disable_traceback_filtering()`\u001b[39;00m\n\u001b[1;32m---> 70\u001b[0m     \u001b[38;5;28;01mraise\u001b[39;00m e\u001b[38;5;241m.\u001b[39mwith_traceback(filtered_tb) \u001b[38;5;28;01mfrom\u001b[39;00m \u001b[38;5;28;01mNone\u001b[39;00m\n\u001b[0;32m     71\u001b[0m \u001b[38;5;28;01mfinally\u001b[39;00m:\n\u001b[0;32m     72\u001b[0m     \u001b[38;5;28;01mdel\u001b[39;00m filtered_tb\n",
      "File \u001b[1;32mD:\\ShipSupplies\\DA\\venv\\lib\\site-packages\\tensorflow\\python\\eager\\execute.py:52\u001b[0m, in \u001b[0;36mquick_execute\u001b[1;34m(op_name, num_outputs, inputs, attrs, ctx, name)\u001b[0m\n\u001b[0;32m     50\u001b[0m \u001b[38;5;28;01mtry\u001b[39;00m:\n\u001b[0;32m     51\u001b[0m   ctx\u001b[38;5;241m.\u001b[39mensure_initialized()\n\u001b[1;32m---> 52\u001b[0m   tensors \u001b[38;5;241m=\u001b[39m pywrap_tfe\u001b[38;5;241m.\u001b[39mTFE_Py_Execute(ctx\u001b[38;5;241m.\u001b[39m_handle, device_name, op_name,\n\u001b[0;32m     53\u001b[0m                                       inputs, attrs, num_outputs)\n\u001b[0;32m     54\u001b[0m \u001b[38;5;28;01mexcept\u001b[39;00m core\u001b[38;5;241m.\u001b[39m_NotOkStatusException \u001b[38;5;28;01mas\u001b[39;00m e:\n\u001b[0;32m     55\u001b[0m   \u001b[38;5;28;01mif\u001b[39;00m name \u001b[38;5;129;01mis\u001b[39;00m \u001b[38;5;129;01mnot\u001b[39;00m \u001b[38;5;28;01mNone\u001b[39;00m:\n",
      "\u001b[1;31mUnimplementedError\u001b[0m: Graph execution error:\n\nDetected at node 'model_5/embedding_12/Cast' defined at (most recent call last):\n    File \"C:\\Python310\\lib\\runpy.py\", line 196, in _run_module_as_main\n      return _run_code(code, main_globals, None,\n    File \"C:\\Python310\\lib\\runpy.py\", line 86, in _run_code\n      exec(code, run_globals)\n    File \"D:\\ShipSupplies\\DA\\venv\\lib\\site-packages\\ipykernel_launcher.py\", line 17, in <module>\n      app.launch_new_instance()\n    File \"D:\\ShipSupplies\\DA\\venv\\lib\\site-packages\\traitlets\\config\\application.py\", line 1043, in launch_instance\n      app.start()\n    File \"D:\\ShipSupplies\\DA\\venv\\lib\\site-packages\\ipykernel\\kernelapp.py\", line 725, in start\n      self.io_loop.start()\n    File \"D:\\ShipSupplies\\DA\\venv\\lib\\site-packages\\tornado\\platform\\asyncio.py\", line 195, in start\n      self.asyncio_loop.run_forever()\n    File \"C:\\Python310\\lib\\asyncio\\base_events.py\", line 603, in run_forever\n      self._run_once()\n    File \"C:\\Python310\\lib\\asyncio\\base_events.py\", line 1909, in _run_once\n      handle._run()\n    File \"C:\\Python310\\lib\\asyncio\\events.py\", line 80, in _run\n      self._context.run(self._callback, *self._args)\n    File \"D:\\ShipSupplies\\DA\\venv\\lib\\site-packages\\ipykernel\\kernelbase.py\", line 513, in dispatch_queue\n      await self.process_one()\n    File \"D:\\ShipSupplies\\DA\\venv\\lib\\site-packages\\ipykernel\\kernelbase.py\", line 502, in process_one\n      await dispatch(*args)\n    File \"D:\\ShipSupplies\\DA\\venv\\lib\\site-packages\\ipykernel\\kernelbase.py\", line 409, in dispatch_shell\n      await result\n    File \"D:\\ShipSupplies\\DA\\venv\\lib\\site-packages\\ipykernel\\kernelbase.py\", line 729, in execute_request\n      reply_content = await reply_content\n    File \"D:\\ShipSupplies\\DA\\venv\\lib\\site-packages\\ipykernel\\ipkernel.py\", line 422, in do_execute\n      res = shell.run_cell(\n    File \"D:\\ShipSupplies\\DA\\venv\\lib\\site-packages\\ipykernel\\zmqshell.py\", line 540, in run_cell\n      return super().run_cell(*args, **kwargs)\n    File \"D:\\ShipSupplies\\DA\\venv\\lib\\site-packages\\IPython\\core\\interactiveshell.py\", line 3009, in run_cell\n      result = self._run_cell(\n    File \"D:\\ShipSupplies\\DA\\venv\\lib\\site-packages\\IPython\\core\\interactiveshell.py\", line 3064, in _run_cell\n      result = runner(coro)\n    File \"D:\\ShipSupplies\\DA\\venv\\lib\\site-packages\\IPython\\core\\async_helpers.py\", line 129, in _pseudo_sync_runner\n      coro.send(None)\n    File \"D:\\ShipSupplies\\DA\\venv\\lib\\site-packages\\IPython\\core\\interactiveshell.py\", line 3269, in run_cell_async\n      has_raised = await self.run_ast_nodes(code_ast.body, cell_name,\n    File \"D:\\ShipSupplies\\DA\\venv\\lib\\site-packages\\IPython\\core\\interactiveshell.py\", line 3448, in run_ast_nodes\n      if await self.run_code(code, result, async_=asy):\n    File \"D:\\ShipSupplies\\DA\\venv\\lib\\site-packages\\IPython\\core\\interactiveshell.py\", line 3508, in run_code\n      exec(code_obj, self.user_global_ns, self.user_ns)\n    File \"C:\\Users\\SW\\AppData\\Local\\Temp\\ipykernel_2884\\3312906073.py\", line 9, in <module>\n      training_model.fit(features, y_train, epochs=10, batch_size=32)\n    File \"D:\\ShipSupplies\\DA\\venv\\lib\\site-packages\\keras\\utils\\traceback_utils.py\", line 65, in error_handler\n      return fn(*args, **kwargs)\n    File \"D:\\ShipSupplies\\DA\\venv\\lib\\site-packages\\keras\\engine\\training.py\", line 1685, in fit\n      tmp_logs = self.train_function(iterator)\n    File \"D:\\ShipSupplies\\DA\\venv\\lib\\site-packages\\keras\\engine\\training.py\", line 1284, in train_function\n      return step_function(self, iterator)\n    File \"D:\\ShipSupplies\\DA\\venv\\lib\\site-packages\\keras\\engine\\training.py\", line 1268, in step_function\n      outputs = model.distribute_strategy.run(run_step, args=(data,))\n    File \"D:\\ShipSupplies\\DA\\venv\\lib\\site-packages\\keras\\engine\\training.py\", line 1249, in run_step\n      outputs = model.train_step(data)\n    File \"D:\\ShipSupplies\\DA\\venv\\lib\\site-packages\\keras\\engine\\training.py\", line 1050, in train_step\n      y_pred = self(x, training=True)\n    File \"D:\\ShipSupplies\\DA\\venv\\lib\\site-packages\\keras\\utils\\traceback_utils.py\", line 65, in error_handler\n      return fn(*args, **kwargs)\n    File \"D:\\ShipSupplies\\DA\\venv\\lib\\site-packages\\keras\\engine\\training.py\", line 558, in __call__\n      return super().__call__(*args, **kwargs)\n    File \"D:\\ShipSupplies\\DA\\venv\\lib\\site-packages\\keras\\utils\\traceback_utils.py\", line 65, in error_handler\n      return fn(*args, **kwargs)\n    File \"D:\\ShipSupplies\\DA\\venv\\lib\\site-packages\\keras\\engine\\base_layer.py\", line 1145, in __call__\n      outputs = call_fn(inputs, *args, **kwargs)\n    File \"D:\\ShipSupplies\\DA\\venv\\lib\\site-packages\\keras\\utils\\traceback_utils.py\", line 96, in error_handler\n      return fn(*args, **kwargs)\n    File \"D:\\ShipSupplies\\DA\\venv\\lib\\site-packages\\keras\\engine\\functional.py\", line 512, in call\n      return self._run_internal_graph(inputs, training=training, mask=mask)\n    File \"D:\\ShipSupplies\\DA\\venv\\lib\\site-packages\\keras\\engine\\functional.py\", line 669, in _run_internal_graph\n      outputs = node.layer(*args, **kwargs)\n    File \"D:\\ShipSupplies\\DA\\venv\\lib\\site-packages\\keras\\utils\\traceback_utils.py\", line 65, in error_handler\n      return fn(*args, **kwargs)\n    File \"D:\\ShipSupplies\\DA\\venv\\lib\\site-packages\\keras\\engine\\base_layer.py\", line 1145, in __call__\n      outputs = call_fn(inputs, *args, **kwargs)\n    File \"D:\\ShipSupplies\\DA\\venv\\lib\\site-packages\\keras\\utils\\traceback_utils.py\", line 96, in error_handler\n      return fn(*args, **kwargs)\n    File \"D:\\ShipSupplies\\DA\\venv\\lib\\site-packages\\keras\\layers\\core\\embedding.py\", line 223, in call\n      inputs = tf.cast(inputs, \"int32\")\nNode: 'model_5/embedding_12/Cast'\nCast string to int32 is not supported\n\t [[{{node model_5/embedding_12/Cast}}]] [Op:__inference_train_function_2406]"
     ]
    }
   ],
   "source": [
    "# training_model.compile(\n",
    "#     loss=tf.keras.losses.BinaryCrossentropy(from_logits=True))\n",
    "training_model.compile(loss=tf.keras.losses.CategoricalCrossentropy(from_logits=True),\n",
    "                      optimizer=tf.keras.optimizers.Adam(),\n",
    "                       metrics=['accuracy'])\n",
    "\n",
    "# training_model.fit(dataset)\n",
    "# 모델 학습\n",
    "training_model.fit(features, y_train, epochs=10, batch_size=32)"
   ]
  },
  {
   "cell_type": "code",
   "execution_count": null,
   "id": "b8ec7190-363d-47ff-89d5-f7477f716434",
   "metadata": {},
   "outputs": [],
   "source": []
  }
 ],
 "metadata": {
  "kernelspec": {
   "display_name": "venv1",
   "language": "python",
   "name": "venv"
  },
  "language_info": {
   "codemirror_mode": {
    "name": "ipython",
    "version": 3
   },
   "file_extension": ".py",
   "mimetype": "text/x-python",
   "name": "python",
   "nbconvert_exporter": "python",
   "pygments_lexer": "ipython3",
   "version": "3.10.10"
  }
 },
 "nbformat": 4,
 "nbformat_minor": 5
}
