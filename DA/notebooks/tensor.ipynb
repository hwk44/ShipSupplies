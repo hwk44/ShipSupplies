{
 "cells": [
  {
   "cell_type": "code",
   "execution_count": 1,
   "id": "3c723d8f-2eb0-489b-9823-8a8bde5a834e",
   "metadata": {
    "tags": []
   },
   "outputs": [],
   "source": [
    "import pandas as pd\n",
    "import numpy as np\n",
    "import matplotlib.pyplot as plt\n",
    "from sklearn.model_selection import train_test_split\n",
    "\n",
    "import tensorflow as tf\n",
    "from tensorflow import keras\n",
    "from tensorflow.keras import layers"
   ]
  },
  {
   "cell_type": "markdown",
   "id": "c6671470-c02b-4ca6-8648-4c6205116ccf",
   "metadata": {},
   "source": [
    "# data 불러오기"
   ]
  },
  {
   "cell_type": "code",
   "execution_count": 2,
   "id": "b691390c-03fe-4317-a82a-ae8b5a6d9678",
   "metadata": {
    "tags": []
   },
   "outputs": [],
   "source": [
    "data = pd.read_csv('../data/raw_postpro.csv')\n",
    "# 컬럼 삭제\n",
    "df = data.drop(['Part No.2', '미입고 기간', '선박입고','완료 여부'], axis=1)"
   ]
  },
  {
   "cell_type": "code",
   "execution_count": 3,
   "id": "7f704270-b59a-4334-a018-a495c6c11768",
   "metadata": {
    "tags": []
   },
   "outputs": [],
   "source": [
    "X = df[['Subject','Machinery', 'Assembly', 'Part No.1', '청구품목', 'key1']]\n",
    "y = df['key2'].values\n",
    "from sklearn import preprocessing\n",
    "le = preprocessing.LabelEncoder()\n",
    "y = le.fit_transform(y)"
   ]
  },
  {
   "cell_type": "code",
   "execution_count": null,
   "id": "231f1415-8d5d-40eb-a9f0-706b3fc45264",
   "metadata": {
    "tags": []
   },
   "outputs": [],
   "source": [
    "# X_train"
   ]
  },
  {
   "cell_type": "code",
   "execution_count": 15,
   "id": "6f90056f-a7f8-4ab6-8dfc-bd444a20a9d9",
   "metadata": {
    "tags": []
   },
   "outputs": [],
   "source": [
    "# !pip list"
   ]
  },
  {
   "cell_type": "code",
   "execution_count": 4,
   "id": "2aebc941-f397-4496-9d45-548afc4c11a5",
   "metadata": {
    "tags": []
   },
   "outputs": [
    {
     "data": {
      "text/plain": [
       "array([18, 18, 18, ...,  5, 20, 20])"
      ]
     },
     "execution_count": 4,
     "metadata": {},
     "output_type": "execute_result"
    }
   ],
   "source": [
    "y"
   ]
  },
  {
   "cell_type": "markdown",
   "id": "3711bed8-c549-43c1-9ed1-78632e13677e",
   "metadata": {},
   "source": [
    "# 데이터를 학습용과 검증용으로 나누기"
   ]
  },
  {
   "cell_type": "code",
   "execution_count": 5,
   "id": "85862132-6633-4df2-a98b-0140f4db1db9",
   "metadata": {
    "tags": []
   },
   "outputs": [],
   "source": [
    "# 데이터를 학습용과 검증용으로 나누기\n",
    "from sklearn.model_selection import train_test_split\n",
    "X_train, X_test, y_train, y_test = train_test_split(X, y, test_size=0.3, random_state=42,shuffle=True)"
   ]
  },
  {
   "cell_type": "code",
   "execution_count": 6,
   "id": "07c80e6a-7e33-4007-8bc1-365d0c7c1a90",
   "metadata": {
    "tags": []
   },
   "outputs": [],
   "source": [
    "# 딥러닝 모델을 만들기 위해 categorical 함수 사용\n",
    "from tensorflow.keras.utils import to_categorical\n",
    "y_train_categorical = to_categorical(y_train, num_classes=61)\n",
    "y_test_categorical = to_categorical(y_test, num_classes=61)"
   ]
  },
  {
   "cell_type": "code",
   "execution_count": 7,
   "id": "c284dac9-8c0c-45f6-82e7-963093c0ab48",
   "metadata": {
    "tags": []
   },
   "outputs": [],
   "source": [
    "# train set\n",
    "features= {\n",
    "   'Subject': X_train['Subject'].values,\n",
    "    'Machinery':X_train['Machinery'].values ,\n",
    "    'Assembly': X_train['Assembly'].values,\n",
    "    # 'Part No.1' : X_train['Part No.1'].values,\n",
    "    'key1' : X_train['key1'].values,\n",
    "    '청구품목' : X_train['청구품목'].values\n",
    "}\n",
    "labels = y_train_categorical"
   ]
  },
  {
   "cell_type": "code",
   "execution_count": 8,
   "id": "58543fd1-7e7b-4777-ba61-ccdbe5ce457f",
   "metadata": {
    "tags": []
   },
   "outputs": [],
   "source": [
    "# test set\n",
    "predict_features = {\n",
    "    'Subject': X_test['Subject'].values,\n",
    "    'Machinery':X_test['Machinery'].values ,\n",
    "    'Assembly': X_test['Assembly'].values,\n",
    "    # 'Part No.1' : X_test['Part No.1'].values,\n",
    "    'key1' : X_test['key1'].values,\n",
    "    '청구품목' : X_test['청구품목'].values\n",
    "}"
   ]
  },
  {
   "cell_type": "code",
   "execution_count": 11,
   "id": "1fbecee1-07f4-4809-bf3e-cf0a044142e3",
   "metadata": {
    "tags": []
   },
   "outputs": [],
   "source": [
    "# 데이터 확인\n",
    "# features"
   ]
  },
  {
   "cell_type": "code",
   "execution_count": 12,
   "id": "095366a9-7935-4023-8338-2cccfdff6614",
   "metadata": {
    "tags": []
   },
   "outputs": [],
   "source": [
    "# # df에서 각 컬럼의 단어 수 확인\n",
    "# colname = ['Subject','Machinery', 'Assembly', 'Part No.1', '청구품목',]\n",
    "# count = []\n",
    "# for col in colname:\n",
    "#     unique_subjects = set(df[col])\n",
    "#     num_unique_subjects = len(unique_subjects)\n",
    "#     count.append(num_unique_subjects)\n",
    "#     # print(num_unique_subjects)\n",
    "# print(count)\n",
    "\n",
    "# import pandas as pd\n",
    "\n",
    "# # 가장 긴 문자열 길이를 저장할 딕셔너리 초기화\n",
    "# max_string_lengths = {}\n",
    "\n",
    "# # 각 열 별로 길이가 가장 긴 문자열 찾기\n",
    "# for col in colname:\n",
    "#     max_length = df[col].str.len().max()\n",
    "#     max_string_lengths[col] = max_length\n",
    "# # 결과 출력\n",
    "# print(max_string_lengths)"
   ]
  },
  {
   "cell_type": "code",
   "execution_count": 9,
   "id": "5dd4a3ed-df73-442c-8288-a18fb7cb9a4e",
   "metadata": {
    "tags": []
   },
   "outputs": [
    {
     "name": "stdout",
     "output_type": "stream",
     "text": [
      "Subject: 1716\n",
      "Machinery: 174\n",
      "Assembly: 1683\n",
      "Part No.1: 8128\n",
      "청구품목: 6129\n",
      "key1: 8383\n"
     ]
    }
   ],
   "source": [
    "# 각 컬럼이 가지는 단어 갯수 확인\n",
    "colname = ['Subject','Machinery', 'Assembly', 'Part No.1', '청구품목', 'key1']\n",
    "unique_values = {}\n",
    "for col in colname:\n",
    "    unique_values[col] = X[col].unique()\n",
    "    print(f\"{col}: {len(unique_values[col])}\")"
   ]
  },
  {
   "cell_type": "code",
   "execution_count": 10,
   "id": "95f8cfad-23d8-4b06-8a21-5452fb9b9799",
   "metadata": {
    "tags": []
   },
   "outputs": [
    {
     "name": "stdout",
     "output_type": "stream",
     "text": [
      "Model: \"model\"\n",
      "__________________________________________________________________________________________________\n",
      " Layer (type)                   Output Shape         Param #     Connected to                     \n",
      "==================================================================================================\n",
      " input_3 (InputLayer)           [(None,)]            0           []                               \n",
      "                                                                                                  \n",
      " input_2 (InputLayer)           [(None,)]            0           []                               \n",
      "                                                                                                  \n",
      " input_1 (InputLayer)           [(None,)]            0           []                               \n",
      "                                                                                                  \n",
      " input_4 (InputLayer)           [(None,)]            0           []                               \n",
      "                                                                                                  \n",
      " input_5 (InputLayer)           [(None,)]            0           []                               \n",
      "                                                                                                  \n",
      " string_lookup_2 (StringLookup)  (None,)             0           ['input_3[0][0]']                \n",
      "                                                                                                  \n",
      " string_lookup_1 (StringLookup)  (None,)             0           ['input_2[0][0]']                \n",
      "                                                                                                  \n",
      " string_lookup (StringLookup)   (None,)              0           ['input_1[0][0]']                \n",
      "                                                                                                  \n",
      " string_lookup_3 (StringLookup)  (None,)             0           ['input_4[0][0]']                \n",
      "                                                                                                  \n",
      " string_lookup_4 (StringLookup)  (None,)             0           ['input_5[0][0]']                \n",
      "                                                                                                  \n",
      "==================================================================================================\n",
      "Total params: 0\n",
      "Trainable params: 0\n",
      "Non-trainable params: 0\n",
      "__________________________________________________________________________________________________\n"
     ]
    }
   ],
   "source": [
    "# colname = ['Subject','Machinery', 'Assembly', 'Part No.1', '청구품목',]\n",
    "inputs = {\n",
    "      'Subject': tf.keras.Input(shape=(), dtype='string'),\n",
    "      'Machinery': tf.keras.Input(shape=(), dtype='string'),\n",
    "      'Assembly': tf.keras.Input(shape=(), dtype='string'),\n",
    "      # 'Part No.1': tf.keras.Input(shape=(), dtype='string'),\n",
    "      'key1': tf.keras.Input(shape=(), dtype='string'),\n",
    "      '청구품목': tf.keras.Input(shape=(), dtype='string')\n",
    "    }\n",
    "# size_output = tf.keras.layers.StringLookup(vocabulary=vocab)(inputs['size'])\n",
    "\n",
    "subject_output = tf.keras.layers.StringLookup(vocabulary=unique_values['Subject'])(inputs['Subject'])\n",
    "machinery_output = tf.keras.layers.StringLookup(vocabulary=unique_values['Machinery'])(inputs['Machinery'])\n",
    "assembly_output = tf.keras.layers.StringLookup(vocabulary=unique_values['Assembly'])(inputs['Assembly'])\n",
    "# part1_output = tf.keras.layers.StringLookup(vocabulary=unique_values['Part No.1'])(inputs['Part No.1'])\n",
    "key1_output = tf.keras.layers.StringLookup(vocabulary=unique_values['key1'])(inputs['key1'])\n",
    "item_output = tf.keras.layers.StringLookup(vocabulary=unique_values['청구품목'])(inputs['청구품목'])\n",
    "\n",
    "outputs = {\n",
    "      'Subject': subject_output,\n",
    "      'Machinery':machinery_output,\n",
    "      'Assembly': assembly_output,\n",
    "      # 'Part No.1': part1_output,\n",
    "          'key1': key1_output,\n",
    "      '청구품목': item_output\n",
    "}\n",
    "preprocessing_model = tf.keras.Model(inputs, outputs)\n",
    "preprocessing_model.summary()"
   ]
  },
  {
   "cell_type": "code",
   "execution_count": 11,
   "id": "e405e0ff-cac8-48c9-8eb8-2ea4593fac6f",
   "metadata": {
    "tags": []
   },
   "outputs": [
    {
     "data": {
      "text/plain": [
       "({'Subject': array([770], dtype=int64),\n",
       "  'Machinery': array([105], dtype=int64),\n",
       "  'Assembly': array([1031], dtype=int64),\n",
       "  'key1': array([4280], dtype=int64),\n",
       "  '청구품목': array([3390], dtype=int64)},\n",
       " array([[0., 0., 0., 0., 0., 0., 0., 0., 0., 0., 0., 0., 0., 0., 0., 0.,\n",
       "         0., 0., 0., 0., 0., 0., 0., 0., 0., 0., 0., 0., 0., 0., 0., 0.,\n",
       "         0., 0., 0., 0., 0., 0., 0., 0., 1., 0., 0., 0., 0., 0., 0., 0.,\n",
       "         0., 0., 0., 0., 0., 0., 0., 0., 0., 0., 0., 0., 0.]],\n",
       "       dtype=float32))"
      ]
     },
     "execution_count": 11,
     "metadata": {},
     "output_type": "execute_result"
    }
   ],
   "source": [
    "# Apply the preprocessing in tf.data.Dataset.map.\n",
    "dataset = tf.data.Dataset.from_tensor_slices((features, labels)).batch(1)\n",
    "dataset = dataset.map(lambda x, y: (preprocessing_model(x), y),\n",
    "                      num_parallel_calls=tf.data.AUTOTUNE)\n",
    "# Display a preprocessed input sample.\n",
    "next(dataset.take(1).as_numpy_iterator())"
   ]
  },
  {
   "cell_type": "code",
   "execution_count": 16,
   "id": "2b808b69-865f-4b9c-ab11-8ca704ad9076",
   "metadata": {
    "tags": []
   },
   "outputs": [],
   "source": [
    "# print(dataset.element_spec)  # 각 요소의 구조를 확인합니다\n",
    "# print(dataset.cardinality().numpy())  # 요소 개수를 확인합니다"
   ]
  },
  {
   "cell_type": "code",
   "execution_count": 17,
   "id": "81361750-8da0-4e18-8671-1f976d4107cc",
   "metadata": {
    "tags": []
   },
   "outputs": [],
   "source": [
    "# type(subject_output), subject_output.shape, type(machinery_output), machinery_output.shape,type(assembly_output), assembly_output.shape"
   ]
  },
  {
   "cell_type": "markdown",
   "id": "a00eab62-7305-40e5-8264-2cfa9633cff8",
   "metadata": {},
   "source": [
    "# 모델 생성"
   ]
  },
  {
   "cell_type": "code",
   "execution_count": 12,
   "id": "a6a168e9-6be7-4ae5-acc3-c1f7e945cb95",
   "metadata": {
    "tags": []
   },
   "outputs": [
    {
     "name": "stdout",
     "output_type": "stream",
     "text": [
      "Model: \"model_1\"\n",
      "__________________________________________________________________________________________________\n",
      " Layer (type)                   Output Shape         Param #     Connected to                     \n",
      "==================================================================================================\n",
      " input_6 (InputLayer)           [(None,)]            0           []                               \n",
      "                                                                                                  \n",
      " input_7 (InputLayer)           [(None,)]            0           []                               \n",
      "                                                                                                  \n",
      " input_8 (InputLayer)           [(None,)]            0           []                               \n",
      "                                                                                                  \n",
      " input_9 (InputLayer)           [(None,)]            0           []                               \n",
      "                                                                                                  \n",
      " input_10 (InputLayer)          [(None,)]            0           []                               \n",
      "                                                                                                  \n",
      " embedding (Embedding)          (None, 10)           17170       ['input_6[0][0]']                \n",
      "                                                                                                  \n",
      " embedding_1 (Embedding)        (None, 10)           1750        ['input_7[0][0]']                \n",
      "                                                                                                  \n",
      " embedding_2 (Embedding)        (None, 10)           16840       ['input_8[0][0]']                \n",
      "                                                                                                  \n",
      " embedding_3 (Embedding)        (None, 10)           83840       ['input_9[0][0]']                \n",
      "                                                                                                  \n",
      " embedding_4 (Embedding)        (None, 10)           61300       ['input_10[0][0]']               \n",
      "                                                                                                  \n",
      " concatenate (Concatenate)      (None, 50)           0           ['embedding[0][0]',              \n",
      "                                                                  'embedding_1[0][0]',            \n",
      "                                                                  'embedding_2[0][0]',            \n",
      "                                                                  'embedding_3[0][0]',            \n",
      "                                                                  'embedding_4[0][0]']            \n",
      "                                                                                                  \n",
      " tf.expand_dims (TFOpLambda)    (None, 1, 50)        0           ['concatenate[0][0]']            \n",
      "                                                                                                  \n",
      " conv1d (Conv1D)                (None, 1, 128)       6528        ['tf.expand_dims[0][0]']         \n",
      "                                                                                                  \n",
      " global_max_pooling1d (GlobalMa  (None, 128)         0           ['conv1d[0][0]']                 \n",
      " xPooling1D)                                                                                      \n",
      "                                                                                                  \n",
      " lstm (LSTM)                    (None, 128)          91648       ['tf.expand_dims[0][0]']         \n",
      "                                                                                                  \n",
      " concatenate_1 (Concatenate)    (None, 256)          0           ['global_max_pooling1d[0][0]',   \n",
      "                                                                  'lstm[0][0]']                   \n",
      "                                                                                                  \n",
      " Dense_output (Dense)           (None, 64)           16448       ['concatenate_1[0][0]']          \n",
      "                                                                                                  \n",
      " Prediction_output (Dense)      (None, 61)           3965        ['Dense_output[0][0]']           \n",
      "                                                                                                  \n",
      "==================================================================================================\n",
      "Total params: 299,489\n",
      "Trainable params: 299,489\n",
      "Non-trainable params: 0\n",
      "__________________________________________________________________________________________________\n"
     ]
    }
   ],
   "source": [
    "inputs = {\n",
    "      'Subject': tf.keras.Input(shape=(), dtype='int64'),\n",
    "      'Machinery': tf.keras.Input(shape=(), dtype='int64'),\n",
    "      'Assembly': tf.keras.Input(shape=(), dtype='int64'),\n",
    "      # 'Part No.1': tf.keras.Input(shape=(), dtype='int64'),\n",
    "      'key1': tf.keras.Input(shape=(), dtype='int64'),\n",
    "      '청구품목': tf.keras.Input(shape=(), dtype='int64')\n",
    "    }\n",
    "# size_output = tf.keras.layers.StringLookup(vocabulary=vocab)(inputs['size'])\n",
    "\n",
    "embedding1 = tf.keras.layers.Embedding(len(unique_values['Subject'])+1, 10)\n",
    "embedding2 = tf.keras.layers.Embedding(len(unique_values['Machinery'])+1, 10)\n",
    "embedding3 = tf.keras.layers.Embedding(len(unique_values['Assembly'])+1, 10)\n",
    "# embedding4 = tf.keras.layers.Embedding(len(unique_values['Part No.1'])+1, 50)\n",
    "embedding4 = tf.keras.layers.Embedding(len(unique_values['key1'])+1, 10)\n",
    "embedding5 = tf.keras.layers.Embedding(len(unique_values['청구품목'])+1, 10)\n",
    "\n",
    "# embedding = tf.keras.layers.Embedding(len(vocab), embedding_dims)\n",
    "\n",
    "outputs = tf.keras.layers.Concatenate()([\n",
    "        embedding1(inputs['Subject']),\n",
    "        embedding2(inputs['Machinery']),\n",
    "        embedding3(inputs['Assembly']),\n",
    "        # embedding4(inputs['Part No.1']),\n",
    "        embedding4(inputs['key1']),\n",
    "        embedding5(inputs['청구품목'])\n",
    "])\n",
    "\n",
    "from keras.models import Sequential, Model\n",
    "from keras.layers import Input, Embedding, Dense, concatenate, Flatten, Conv1D, GlobalMaxPooling1D, LSTM\n",
    "\n",
    "# 층 추가\n",
    "# outputs를 3차원으로 변환\n",
    "outputs = tf.expand_dims(outputs, axis=1)  # (None, 150) -> (None, 1, 150)\n",
    "\n",
    "# CNN Layer\n",
    "cnn_output = Conv1D(filters=128, kernel_size=1, activation='relu')(outputs)  # kernel_size 수정\n",
    "cnn_output = GlobalMaxPooling1D()(cnn_output)\n",
    "\n",
    "# LSTM Layer\n",
    "lstm_output = LSTM(128)(outputs)\n",
    "\n",
    "# Dense Layer\n",
    "dense_input = concatenate([cnn_output, lstm_output], axis=-1)\n",
    "dense_output = Dense(64, activation='relu', name='Dense_output')(dense_input)\n",
    "\n",
    "outputs = Dense(61, activation='softmax', name=\"Prediction_output\")(dense_output)\n",
    "\n",
    "# outputs = tf.keras.layers.Dense(1)(outputs)\n",
    "training_model = tf.keras.Model(inputs, outputs)\n",
    "training_model.summary()"
   ]
  },
  {
   "cell_type": "code",
   "execution_count": 13,
   "id": "70e311c9-05a5-4da2-8a3c-cb39ed003243",
   "metadata": {
    "tags": []
   },
   "outputs": [
    {
     "data": {
      "text/plain": [
       "TensorShape([None, 61])"
      ]
     },
     "execution_count": 13,
     "metadata": {},
     "output_type": "execute_result"
    }
   ],
   "source": [
    "outputs.shape"
   ]
  },
  {
   "cell_type": "code",
   "execution_count": 14,
   "id": "00aeebaa-1d8b-4755-b437-0198baae1cb3",
   "metadata": {
    "tags": []
   },
   "outputs": [
    {
     "name": "stdout",
     "output_type": "stream",
     "text": [
      "Epoch 1/10\n",
      "14361/14361 [==============================] - 46s 3ms/step - loss: 2.2004 - accuracy: 0.4518\n",
      "Epoch 2/10\n",
      " 1336/14361 [=>............................] - ETA: 36s - loss: 1.1453 - accuracy: 0.7103"
     ]
    },
    {
     "ename": "KeyboardInterrupt",
     "evalue": "",
     "output_type": "error",
     "traceback": [
      "\u001b[1;31m---------------------------------------------------------------------------\u001b[0m",
      "\u001b[1;31mKeyboardInterrupt\u001b[0m                         Traceback (most recent call last)",
      "Cell \u001b[1;32mIn[14], line 19\u001b[0m\n\u001b[0;32m     11\u001b[0m training_model\u001b[38;5;241m.\u001b[39mcompile(loss\u001b[38;5;241m=\u001b[39mtf\u001b[38;5;241m.\u001b[39mkeras\u001b[38;5;241m.\u001b[39mlosses\u001b[38;5;241m.\u001b[39mCategoricalCrossentropy(from_logits\u001b[38;5;241m=\u001b[39m\u001b[38;5;28;01mFalse\u001b[39;00m),\n\u001b[0;32m     12\u001b[0m                        optimizer\u001b[38;5;241m=\u001b[39mtf\u001b[38;5;241m.\u001b[39mkeras\u001b[38;5;241m.\u001b[39moptimizers\u001b[38;5;241m.\u001b[39mAdam(),\n\u001b[0;32m     13\u001b[0m                        metrics\u001b[38;5;241m=\u001b[39m[\u001b[38;5;124m'\u001b[39m\u001b[38;5;124maccuracy\u001b[39m\u001b[38;5;124m'\u001b[39m])\n\u001b[0;32m     15\u001b[0m \u001b[38;5;66;03m# training_model.fit(dataset)\u001b[39;00m\n\u001b[0;32m     16\u001b[0m \u001b[38;5;66;03m# 모델 학습\u001b[39;00m\n\u001b[0;32m     17\u001b[0m \u001b[38;5;66;03m# training_model.fit(features, y_train, epochs=10, batch_size=32)\u001b[39;00m\n\u001b[0;32m     18\u001b[0m \u001b[38;5;66;03m# training_model.fit(dataset, epochs = 3, batch_size=128)\u001b[39;00m\n\u001b[1;32m---> 19\u001b[0m \u001b[43mtraining_model\u001b[49m\u001b[38;5;241;43m.\u001b[39;49m\u001b[43mfit\u001b[49m\u001b[43m(\u001b[49m\u001b[43mdataset\u001b[49m\u001b[43m,\u001b[49m\u001b[43m \u001b[49m\u001b[43mepochs\u001b[49m\u001b[38;5;241;43m=\u001b[39;49m\u001b[43m \u001b[49m\u001b[38;5;241;43m10\u001b[39;49m\u001b[43m,\u001b[49m\u001b[43m \u001b[49m\u001b[43mbatch_size\u001b[49m\u001b[38;5;241;43m=\u001b[39;49m\u001b[38;5;241;43m32\u001b[39;49m\u001b[43m)\u001b[49m\n",
      "File \u001b[1;32mC:\\workspace\\ShipSupplies\\venv\\lib\\site-packages\\keras\\utils\\traceback_utils.py:65\u001b[0m, in \u001b[0;36mfilter_traceback.<locals>.error_handler\u001b[1;34m(*args, **kwargs)\u001b[0m\n\u001b[0;32m     63\u001b[0m filtered_tb \u001b[38;5;241m=\u001b[39m \u001b[38;5;28;01mNone\u001b[39;00m\n\u001b[0;32m     64\u001b[0m \u001b[38;5;28;01mtry\u001b[39;00m:\n\u001b[1;32m---> 65\u001b[0m     \u001b[38;5;28;01mreturn\u001b[39;00m fn(\u001b[38;5;241m*\u001b[39margs, \u001b[38;5;241m*\u001b[39m\u001b[38;5;241m*\u001b[39mkwargs)\n\u001b[0;32m     66\u001b[0m \u001b[38;5;28;01mexcept\u001b[39;00m \u001b[38;5;167;01mException\u001b[39;00m \u001b[38;5;28;01mas\u001b[39;00m e:\n\u001b[0;32m     67\u001b[0m     filtered_tb \u001b[38;5;241m=\u001b[39m _process_traceback_frames(e\u001b[38;5;241m.\u001b[39m__traceback__)\n",
      "File \u001b[1;32mC:\\workspace\\ShipSupplies\\venv\\lib\\site-packages\\keras\\engine\\training.py:1564\u001b[0m, in \u001b[0;36mModel.fit\u001b[1;34m(self, x, y, batch_size, epochs, verbose, callbacks, validation_split, validation_data, shuffle, class_weight, sample_weight, initial_epoch, steps_per_epoch, validation_steps, validation_batch_size, validation_freq, max_queue_size, workers, use_multiprocessing)\u001b[0m\n\u001b[0;32m   1556\u001b[0m \u001b[38;5;28;01mwith\u001b[39;00m tf\u001b[38;5;241m.\u001b[39mprofiler\u001b[38;5;241m.\u001b[39mexperimental\u001b[38;5;241m.\u001b[39mTrace(\n\u001b[0;32m   1557\u001b[0m     \u001b[38;5;124m\"\u001b[39m\u001b[38;5;124mtrain\u001b[39m\u001b[38;5;124m\"\u001b[39m,\n\u001b[0;32m   1558\u001b[0m     epoch_num\u001b[38;5;241m=\u001b[39mepoch,\n\u001b[1;32m   (...)\u001b[0m\n\u001b[0;32m   1561\u001b[0m     _r\u001b[38;5;241m=\u001b[39m\u001b[38;5;241m1\u001b[39m,\n\u001b[0;32m   1562\u001b[0m ):\n\u001b[0;32m   1563\u001b[0m     callbacks\u001b[38;5;241m.\u001b[39mon_train_batch_begin(step)\n\u001b[1;32m-> 1564\u001b[0m     tmp_logs \u001b[38;5;241m=\u001b[39m \u001b[38;5;28;43mself\u001b[39;49m\u001b[38;5;241;43m.\u001b[39;49m\u001b[43mtrain_function\u001b[49m\u001b[43m(\u001b[49m\u001b[43miterator\u001b[49m\u001b[43m)\u001b[49m\n\u001b[0;32m   1565\u001b[0m     \u001b[38;5;28;01mif\u001b[39;00m data_handler\u001b[38;5;241m.\u001b[39mshould_sync:\n\u001b[0;32m   1566\u001b[0m         context\u001b[38;5;241m.\u001b[39masync_wait()\n",
      "File \u001b[1;32mC:\\workspace\\ShipSupplies\\venv\\lib\\site-packages\\tensorflow\\python\\util\\traceback_utils.py:150\u001b[0m, in \u001b[0;36mfilter_traceback.<locals>.error_handler\u001b[1;34m(*args, **kwargs)\u001b[0m\n\u001b[0;32m    148\u001b[0m filtered_tb \u001b[38;5;241m=\u001b[39m \u001b[38;5;28;01mNone\u001b[39;00m\n\u001b[0;32m    149\u001b[0m \u001b[38;5;28;01mtry\u001b[39;00m:\n\u001b[1;32m--> 150\u001b[0m   \u001b[38;5;28;01mreturn\u001b[39;00m fn(\u001b[38;5;241m*\u001b[39margs, \u001b[38;5;241m*\u001b[39m\u001b[38;5;241m*\u001b[39mkwargs)\n\u001b[0;32m    151\u001b[0m \u001b[38;5;28;01mexcept\u001b[39;00m \u001b[38;5;167;01mException\u001b[39;00m \u001b[38;5;28;01mas\u001b[39;00m e:\n\u001b[0;32m    152\u001b[0m   filtered_tb \u001b[38;5;241m=\u001b[39m _process_traceback_frames(e\u001b[38;5;241m.\u001b[39m__traceback__)\n",
      "File \u001b[1;32mC:\\workspace\\ShipSupplies\\venv\\lib\\site-packages\\tensorflow\\python\\eager\\def_function.py:915\u001b[0m, in \u001b[0;36mFunction.__call__\u001b[1;34m(self, *args, **kwds)\u001b[0m\n\u001b[0;32m    912\u001b[0m compiler \u001b[38;5;241m=\u001b[39m \u001b[38;5;124m\"\u001b[39m\u001b[38;5;124mxla\u001b[39m\u001b[38;5;124m\"\u001b[39m \u001b[38;5;28;01mif\u001b[39;00m \u001b[38;5;28mself\u001b[39m\u001b[38;5;241m.\u001b[39m_jit_compile \u001b[38;5;28;01melse\u001b[39;00m \u001b[38;5;124m\"\u001b[39m\u001b[38;5;124mnonXla\u001b[39m\u001b[38;5;124m\"\u001b[39m\n\u001b[0;32m    914\u001b[0m \u001b[38;5;28;01mwith\u001b[39;00m OptionalXlaContext(\u001b[38;5;28mself\u001b[39m\u001b[38;5;241m.\u001b[39m_jit_compile):\n\u001b[1;32m--> 915\u001b[0m   result \u001b[38;5;241m=\u001b[39m \u001b[38;5;28mself\u001b[39m\u001b[38;5;241m.\u001b[39m_call(\u001b[38;5;241m*\u001b[39margs, \u001b[38;5;241m*\u001b[39m\u001b[38;5;241m*\u001b[39mkwds)\n\u001b[0;32m    917\u001b[0m new_tracing_count \u001b[38;5;241m=\u001b[39m \u001b[38;5;28mself\u001b[39m\u001b[38;5;241m.\u001b[39mexperimental_get_tracing_count()\n\u001b[0;32m    918\u001b[0m without_tracing \u001b[38;5;241m=\u001b[39m (tracing_count \u001b[38;5;241m==\u001b[39m new_tracing_count)\n",
      "File \u001b[1;32mC:\\workspace\\ShipSupplies\\venv\\lib\\site-packages\\tensorflow\\python\\eager\\def_function.py:947\u001b[0m, in \u001b[0;36mFunction._call\u001b[1;34m(self, *args, **kwds)\u001b[0m\n\u001b[0;32m    944\u001b[0m   \u001b[38;5;28mself\u001b[39m\u001b[38;5;241m.\u001b[39m_lock\u001b[38;5;241m.\u001b[39mrelease()\n\u001b[0;32m    945\u001b[0m   \u001b[38;5;66;03m# In this case we have created variables on the first call, so we run the\u001b[39;00m\n\u001b[0;32m    946\u001b[0m   \u001b[38;5;66;03m# defunned version which is guaranteed to never create variables.\u001b[39;00m\n\u001b[1;32m--> 947\u001b[0m   \u001b[38;5;28;01mreturn\u001b[39;00m \u001b[38;5;28mself\u001b[39m\u001b[38;5;241m.\u001b[39m_stateless_fn(\u001b[38;5;241m*\u001b[39margs, \u001b[38;5;241m*\u001b[39m\u001b[38;5;241m*\u001b[39mkwds)  \u001b[38;5;66;03m# pylint: disable=not-callable\u001b[39;00m\n\u001b[0;32m    948\u001b[0m \u001b[38;5;28;01melif\u001b[39;00m \u001b[38;5;28mself\u001b[39m\u001b[38;5;241m.\u001b[39m_stateful_fn \u001b[38;5;129;01mis\u001b[39;00m \u001b[38;5;129;01mnot\u001b[39;00m \u001b[38;5;28;01mNone\u001b[39;00m:\n\u001b[0;32m    949\u001b[0m   \u001b[38;5;66;03m# Release the lock early so that multiple threads can perform the call\u001b[39;00m\n\u001b[0;32m    950\u001b[0m   \u001b[38;5;66;03m# in parallel.\u001b[39;00m\n\u001b[0;32m    951\u001b[0m   \u001b[38;5;28mself\u001b[39m\u001b[38;5;241m.\u001b[39m_lock\u001b[38;5;241m.\u001b[39mrelease()\n",
      "File \u001b[1;32mC:\\workspace\\ShipSupplies\\venv\\lib\\site-packages\\tensorflow\\python\\eager\\function.py:2496\u001b[0m, in \u001b[0;36mFunction.__call__\u001b[1;34m(self, *args, **kwargs)\u001b[0m\n\u001b[0;32m   2493\u001b[0m \u001b[38;5;28;01mwith\u001b[39;00m \u001b[38;5;28mself\u001b[39m\u001b[38;5;241m.\u001b[39m_lock:\n\u001b[0;32m   2494\u001b[0m   (graph_function,\n\u001b[0;32m   2495\u001b[0m    filtered_flat_args) \u001b[38;5;241m=\u001b[39m \u001b[38;5;28mself\u001b[39m\u001b[38;5;241m.\u001b[39m_maybe_define_function(args, kwargs)\n\u001b[1;32m-> 2496\u001b[0m \u001b[38;5;28;01mreturn\u001b[39;00m \u001b[43mgraph_function\u001b[49m\u001b[38;5;241;43m.\u001b[39;49m\u001b[43m_call_flat\u001b[49m\u001b[43m(\u001b[49m\n\u001b[0;32m   2497\u001b[0m \u001b[43m    \u001b[49m\u001b[43mfiltered_flat_args\u001b[49m\u001b[43m,\u001b[49m\u001b[43m \u001b[49m\u001b[43mcaptured_inputs\u001b[49m\u001b[38;5;241;43m=\u001b[39;49m\u001b[43mgraph_function\u001b[49m\u001b[38;5;241;43m.\u001b[39;49m\u001b[43mcaptured_inputs\u001b[49m\u001b[43m)\u001b[49m\n",
      "File \u001b[1;32mC:\\workspace\\ShipSupplies\\venv\\lib\\site-packages\\tensorflow\\python\\eager\\function.py:1862\u001b[0m, in \u001b[0;36mConcreteFunction._call_flat\u001b[1;34m(self, args, captured_inputs, cancellation_manager)\u001b[0m\n\u001b[0;32m   1858\u001b[0m possible_gradient_type \u001b[38;5;241m=\u001b[39m gradients_util\u001b[38;5;241m.\u001b[39mPossibleTapeGradientTypes(args)\n\u001b[0;32m   1859\u001b[0m \u001b[38;5;28;01mif\u001b[39;00m (possible_gradient_type \u001b[38;5;241m==\u001b[39m gradients_util\u001b[38;5;241m.\u001b[39mPOSSIBLE_GRADIENT_TYPES_NONE\n\u001b[0;32m   1860\u001b[0m     \u001b[38;5;129;01mand\u001b[39;00m executing_eagerly):\n\u001b[0;32m   1861\u001b[0m   \u001b[38;5;66;03m# No tape is watching; skip to running the function.\u001b[39;00m\n\u001b[1;32m-> 1862\u001b[0m   \u001b[38;5;28;01mreturn\u001b[39;00m \u001b[38;5;28mself\u001b[39m\u001b[38;5;241m.\u001b[39m_build_call_outputs(\u001b[38;5;28;43mself\u001b[39;49m\u001b[38;5;241;43m.\u001b[39;49m\u001b[43m_inference_function\u001b[49m\u001b[38;5;241;43m.\u001b[39;49m\u001b[43mcall\u001b[49m\u001b[43m(\u001b[49m\n\u001b[0;32m   1863\u001b[0m \u001b[43m      \u001b[49m\u001b[43mctx\u001b[49m\u001b[43m,\u001b[49m\u001b[43m \u001b[49m\u001b[43margs\u001b[49m\u001b[43m,\u001b[49m\u001b[43m \u001b[49m\u001b[43mcancellation_manager\u001b[49m\u001b[38;5;241;43m=\u001b[39;49m\u001b[43mcancellation_manager\u001b[49m\u001b[43m)\u001b[49m)\n\u001b[0;32m   1864\u001b[0m forward_backward \u001b[38;5;241m=\u001b[39m \u001b[38;5;28mself\u001b[39m\u001b[38;5;241m.\u001b[39m_select_forward_and_backward_functions(\n\u001b[0;32m   1865\u001b[0m     args,\n\u001b[0;32m   1866\u001b[0m     possible_gradient_type,\n\u001b[0;32m   1867\u001b[0m     executing_eagerly)\n\u001b[0;32m   1868\u001b[0m forward_function, args_with_tangents \u001b[38;5;241m=\u001b[39m forward_backward\u001b[38;5;241m.\u001b[39mforward()\n",
      "File \u001b[1;32mC:\\workspace\\ShipSupplies\\venv\\lib\\site-packages\\tensorflow\\python\\eager\\function.py:499\u001b[0m, in \u001b[0;36m_EagerDefinedFunction.call\u001b[1;34m(self, ctx, args, cancellation_manager)\u001b[0m\n\u001b[0;32m    497\u001b[0m \u001b[38;5;28;01mwith\u001b[39;00m _InterpolateFunctionError(\u001b[38;5;28mself\u001b[39m):\n\u001b[0;32m    498\u001b[0m   \u001b[38;5;28;01mif\u001b[39;00m cancellation_manager \u001b[38;5;129;01mis\u001b[39;00m \u001b[38;5;28;01mNone\u001b[39;00m:\n\u001b[1;32m--> 499\u001b[0m     outputs \u001b[38;5;241m=\u001b[39m \u001b[43mexecute\u001b[49m\u001b[38;5;241;43m.\u001b[39;49m\u001b[43mexecute\u001b[49m\u001b[43m(\u001b[49m\n\u001b[0;32m    500\u001b[0m \u001b[43m        \u001b[49m\u001b[38;5;28;43mstr\u001b[39;49m\u001b[43m(\u001b[49m\u001b[38;5;28;43mself\u001b[39;49m\u001b[38;5;241;43m.\u001b[39;49m\u001b[43msignature\u001b[49m\u001b[38;5;241;43m.\u001b[39;49m\u001b[43mname\u001b[49m\u001b[43m)\u001b[49m\u001b[43m,\u001b[49m\n\u001b[0;32m    501\u001b[0m \u001b[43m        \u001b[49m\u001b[43mnum_outputs\u001b[49m\u001b[38;5;241;43m=\u001b[39;49m\u001b[38;5;28;43mself\u001b[39;49m\u001b[38;5;241;43m.\u001b[39;49m\u001b[43m_num_outputs\u001b[49m\u001b[43m,\u001b[49m\n\u001b[0;32m    502\u001b[0m \u001b[43m        \u001b[49m\u001b[43minputs\u001b[49m\u001b[38;5;241;43m=\u001b[39;49m\u001b[43margs\u001b[49m\u001b[43m,\u001b[49m\n\u001b[0;32m    503\u001b[0m \u001b[43m        \u001b[49m\u001b[43mattrs\u001b[49m\u001b[38;5;241;43m=\u001b[39;49m\u001b[43mattrs\u001b[49m\u001b[43m,\u001b[49m\n\u001b[0;32m    504\u001b[0m \u001b[43m        \u001b[49m\u001b[43mctx\u001b[49m\u001b[38;5;241;43m=\u001b[39;49m\u001b[43mctx\u001b[49m\u001b[43m)\u001b[49m\n\u001b[0;32m    505\u001b[0m   \u001b[38;5;28;01melse\u001b[39;00m:\n\u001b[0;32m    506\u001b[0m     outputs \u001b[38;5;241m=\u001b[39m execute\u001b[38;5;241m.\u001b[39mexecute_with_cancellation(\n\u001b[0;32m    507\u001b[0m         \u001b[38;5;28mstr\u001b[39m(\u001b[38;5;28mself\u001b[39m\u001b[38;5;241m.\u001b[39msignature\u001b[38;5;241m.\u001b[39mname),\n\u001b[0;32m    508\u001b[0m         num_outputs\u001b[38;5;241m=\u001b[39m\u001b[38;5;28mself\u001b[39m\u001b[38;5;241m.\u001b[39m_num_outputs,\n\u001b[1;32m   (...)\u001b[0m\n\u001b[0;32m    511\u001b[0m         ctx\u001b[38;5;241m=\u001b[39mctx,\n\u001b[0;32m    512\u001b[0m         cancellation_manager\u001b[38;5;241m=\u001b[39mcancellation_manager)\n",
      "File \u001b[1;32mC:\\workspace\\ShipSupplies\\venv\\lib\\site-packages\\tensorflow\\python\\eager\\execute.py:54\u001b[0m, in \u001b[0;36mquick_execute\u001b[1;34m(op_name, num_outputs, inputs, attrs, ctx, name)\u001b[0m\n\u001b[0;32m     52\u001b[0m \u001b[38;5;28;01mtry\u001b[39;00m:\n\u001b[0;32m     53\u001b[0m   ctx\u001b[38;5;241m.\u001b[39mensure_initialized()\n\u001b[1;32m---> 54\u001b[0m   tensors \u001b[38;5;241m=\u001b[39m \u001b[43mpywrap_tfe\u001b[49m\u001b[38;5;241;43m.\u001b[39;49m\u001b[43mTFE_Py_Execute\u001b[49m\u001b[43m(\u001b[49m\u001b[43mctx\u001b[49m\u001b[38;5;241;43m.\u001b[39;49m\u001b[43m_handle\u001b[49m\u001b[43m,\u001b[49m\u001b[43m \u001b[49m\u001b[43mdevice_name\u001b[49m\u001b[43m,\u001b[49m\u001b[43m \u001b[49m\u001b[43mop_name\u001b[49m\u001b[43m,\u001b[49m\n\u001b[0;32m     55\u001b[0m \u001b[43m                                      \u001b[49m\u001b[43minputs\u001b[49m\u001b[43m,\u001b[49m\u001b[43m \u001b[49m\u001b[43mattrs\u001b[49m\u001b[43m,\u001b[49m\u001b[43m \u001b[49m\u001b[43mnum_outputs\u001b[49m\u001b[43m)\u001b[49m\n\u001b[0;32m     56\u001b[0m \u001b[38;5;28;01mexcept\u001b[39;00m core\u001b[38;5;241m.\u001b[39m_NotOkStatusException \u001b[38;5;28;01mas\u001b[39;00m e:\n\u001b[0;32m     57\u001b[0m   \u001b[38;5;28;01mif\u001b[39;00m name \u001b[38;5;129;01mis\u001b[39;00m \u001b[38;5;129;01mnot\u001b[39;00m \u001b[38;5;28;01mNone\u001b[39;00m:\n",
      "\u001b[1;31mKeyboardInterrupt\u001b[0m: "
     ]
    }
   ],
   "source": [
    "# training_model.compile(\n",
    "    # loss=tf.keras.losses.BinaryCrossentropy(from_logits=True))\n",
    "# training_model.compile(\n",
    "#     loss= tf.keras.losses.SparseCategoricalCrossentropy(),\n",
    "#     optimizer=tf.keras.optimizers.Adam(),\n",
    "#     metrics=['accuracy'])\n",
    "\n",
    "# training_model.compile(\n",
    "#     loss=tf.keras.losses.BinaryCrossentropy(from_logits=True))\n",
    "\n",
    "training_model.compile(loss=tf.keras.losses.CategoricalCrossentropy(from_logits=False),\n",
    "                       optimizer=tf.keras.optimizers.Adam(),\n",
    "                       metrics=['accuracy'])\n",
    "\n",
    "# training_model.fit(dataset)\n",
    "# 모델 학습\n",
    "# training_model.fit(features, y_train, epochs=10, batch_size=32)\n",
    "# training_model.fit(dataset, epochs = 3, batch_size=128)\n",
    "training_model.fit(dataset, epochs= 10, batch_size=32)"
   ]
  },
  {
   "cell_type": "code",
   "execution_count": 26,
   "id": "2f47e66b-8029-43af-b629-448e6f5ab5e8",
   "metadata": {},
   "outputs": [
    {
     "name": "stdout",
     "output_type": "stream",
     "text": [
      "Epoch 1/2\n",
      "14361/14361 [==============================] - 88s 6ms/step - loss: 0.1530 - accuracy: 0.9533\n",
      "Epoch 2/2\n",
      "14361/14361 [==============================] - 91s 6ms/step - loss: 0.0739 - accuracy: 0.9774\n"
     ]
    },
    {
     "data": {
      "text/plain": [
       "<keras.callbacks.History at 0x260641d07f0>"
      ]
     },
     "execution_count": 26,
     "metadata": {},
     "output_type": "execute_result"
    }
   ],
   "source": [
    "training_model.fit(dataset, epochs=2, batch_size=32)"
   ]
  },
  {
   "cell_type": "code",
   "execution_count": 27,
   "id": "b8ec7190-363d-47ff-89d5-f7477f716434",
   "metadata": {},
   "outputs": [
    {
     "name": "stdout",
     "output_type": "stream",
     "text": [
      "6156/6156 [==============================] - 15s 2ms/step\n"
     ]
    }
   ],
   "source": [
    "inputs = preprocessing_model.input\n",
    "outputs = training_model(preprocessing_model(inputs))\n",
    "inference_model = tf.keras.Model(inputs, outputs)\n",
    "\n",
    "predict_dataset = tf.data.Dataset.from_tensor_slices(predict_features).batch(1)\n",
    "y_pred = inference_model.predict(predict_dataset)"
   ]
  },
  {
   "cell_type": "code",
   "execution_count": 28,
   "id": "7c2218f1-2eaa-4e49-8a2a-209ada33dd3c",
   "metadata": {
    "tags": []
   },
   "outputs": [],
   "source": [
    "# y_pred 랑 y_test 를 원래 labeling 된 데이터로 변환\n",
    "y_pred_classes = np.argmax(y_pred, axis=1)\n",
    "y_test_classes = np.argmax(y_test_categorical, axis=1)"
   ]
  },
  {
   "cell_type": "code",
   "execution_count": null,
   "id": "fd402298-5342-4fe3-ab98-fd21484d5166",
   "metadata": {
    "tags": []
   },
   "outputs": [],
   "source": [
    "# # y_test_categorical\n",
    "# print(y_train_categorical.shape)\n",
    "# y_train_categorical"
   ]
  },
  {
   "cell_type": "code",
   "execution_count": 29,
   "id": "13c7632d-42a0-4aa9-9faf-a4a45fe7cd3b",
   "metadata": {
    "tags": []
   },
   "outputs": [
    {
     "data": {
      "text/plain": [
       "(array([54, 33, 24, 45, 24, 57, 41, 37,  4, 41, 57, 20, 26, 52, 26, 24, 36,\n",
       "        57, 40, 30, 40, 57,  8, 36, 24,  4, 46, 37, 57, 41, 24, 24,  4,  4,\n",
       "        51, 40, 20, 14, 59, 24, 26, 41, 19, 50, 24, 48, 10,  4,  7,  4,  8,\n",
       "        46, 56,  7, 20, 33, 34,  2, 59, 10, 12, 48, 24, 56, 24, 24, 37,  4,\n",
       "        33, 40, 22, 52, 23, 44, 45, 20, 40,  8, 56, 42, 40, 24, 24, 57, 20,\n",
       "        36, 26, 24, 46, 42, 24,  8, 45, 40, 40, 21, 58, 47, 13, 14],\n",
       "       dtype=int64),\n",
       " array([54, 33, 24, 45, 24, 57, 41, 10,  4, 41, 57, 20, 26, 41, 26, 24, 56,\n",
       "        57, 40, 30, 40, 57,  8, 38, 24,  4, 46, 37, 57, 56, 24, 24,  4,  4,\n",
       "        51, 40,  0,  6, 58, 24, 26, 42, 19, 50, 24, 48, 10,  4,  7,  4, 39,\n",
       "        46, 56,  7, 20, 33, 34, 25, 58, 10, 12, 48, 24, 56, 24, 24, 37,  4,\n",
       "        33, 40, 22,  8, 23, 44, 45, 20, 40,  8, 56, 42, 40, 24, 24, 45, 20,\n",
       "        36, 26, 24, 46, 42, 24, 18, 45, 40, 40, 24, 58, 19, 24, 26],\n",
       "       dtype=int64))"
      ]
     },
     "execution_count": 29,
     "metadata": {},
     "output_type": "execute_result"
    }
   ],
   "source": [
    "y_pred_classes[:100],y_test_classes[:100]"
   ]
  },
  {
   "cell_type": "code",
   "execution_count": 30,
   "id": "cdd991ec-58ac-4756-ac52-e8b018e34487",
   "metadata": {
    "tags": []
   },
   "outputs": [
    {
     "name": "stdout",
     "output_type": "stream",
     "text": [
      "F1 Score: 80.69%\n"
     ]
    }
   ],
   "source": [
    "from sklearn.metrics import f1_score\n",
    "f1 = f1_score(y_test_classes, y_pred_classes, average='weighted') # \n",
    "print(\"F1 Score: {:.2f}%\".format(f1 * 100))"
   ]
  },
  {
   "cell_type": "code",
   "execution_count": 31,
   "id": "76be26c1-2a19-4bb4-bca6-04761e34ec15",
   "metadata": {
    "tags": []
   },
   "outputs": [],
   "source": [
    "# y_test_classes 랑 y_pred_classes 를 원래 category 문자열로 변환\n",
    "y_origin_test = le.inverse_transform(y_test)\n",
    "y_origin_pred=le.inverse_transform(y_pred_classes)"
   ]
  },
  {
   "cell_type": "code",
   "execution_count": null,
   "id": "db9487c3-44eb-409e-8bd6-3315256dacec",
   "metadata": {
    "tags": []
   },
   "outputs": [],
   "source": []
  },
  {
   "cell_type": "code",
   "execution_count": 32,
   "id": "5183ce5c-dbd8-44eb-83a1-3015a2bb18ae",
   "metadata": {
    "tags": []
   },
   "outputs": [
    {
     "data": {
      "text/plain": [
       "array(['TUBE', 'LINK', 'GASKET', 'PUMP', 'GASKET', 'VALVE', 'PIN',\n",
       "       'MOTOR', 'BEARING', 'PIN', 'VALVE', 'CYLINDER', 'GEAR', 'TOOL',\n",
       "       'GEAR', 'GASKET', 'MONITOR', 'VALVE', 'O-RING', 'INJECTOR',\n",
       "       'O-RING', 'VALVE', 'BOLT', 'MONITOR', 'GASKET', 'BEARING', 'SCREW',\n",
       "       'MOTOR', 'VALVE', 'PIN', 'GASKET', 'GASKET', 'BEARING', 'BEARING',\n",
       "       'SWITCH', 'O-RING', 'CYLINDER', 'CLIP', 'WINCH', 'GASKET', 'GEAR',\n",
       "       'PIN', 'COVER', 'SPRING', 'GASKET', 'SHAFT', 'BUSHING', 'BEARING',\n",
       "       'BLOCK', 'BEARING', 'BOLT', 'SCREW', 'UNIT', 'BLOCK', 'CYLINDER',\n",
       "       'LINK', 'LIQUID', 'ARM', 'WINCH', 'BUSHING', 'CARTRIDGE', 'SHAFT',\n",
       "       'GASKET', 'UNIT', 'GASKET', 'GASKET', 'MOTOR', 'BEARING', 'LINK',\n",
       "       'O-RING', 'DISC', 'TOOL', 'FILTER', 'PLATE', 'PUMP', 'CYLINDER',\n",
       "       'O-RING', 'BOLT', 'UNIT', 'PIPE', 'O-RING', 'GASKET', 'GASKET',\n",
       "       'VALVE', 'CYLINDER', 'MONITOR', 'GEAR', 'GASKET', 'SCREW', 'PIPE',\n",
       "       'GASKET', 'BOLT', 'PUMP', 'O-RING', 'O-RING', 'DAMPER', 'WASHER',\n",
       "       'SEAT', 'CLAMP', 'CLIP'], dtype=object)"
      ]
     },
     "execution_count": 32,
     "metadata": {},
     "output_type": "execute_result"
    }
   ],
   "source": [
    "y_origin_pred[0:100]"
   ]
  },
  {
   "cell_type": "code",
   "execution_count": 33,
   "id": "554b7a25-84ce-4012-bf33-b0458e7025b5",
   "metadata": {
    "tags": []
   },
   "outputs": [
    {
     "data": {
      "text/plain": [
       "6156"
      ]
     },
     "execution_count": 33,
     "metadata": {},
     "output_type": "execute_result"
    }
   ],
   "source": [
    "len(y_origin_test)"
   ]
  },
  {
   "cell_type": "code",
   "execution_count": 40,
   "id": "3e1e998e-8b60-46fd-8a77-26576e625dd1",
   "metadata": {},
   "outputs": [
    {
     "data": {
      "text/plain": [
       "(6156,)"
      ]
     },
     "execution_count": 40,
     "metadata": {},
     "output_type": "execute_result"
    }
   ],
   "source": []
  },
  {
   "cell_type": "code",
   "execution_count": 46,
   "id": "182d0037-2537-41e0-9ad1-824d2243563c",
   "metadata": {
    "tags": []
   },
   "outputs": [],
   "source": [
    "error_category = [] # y_test 중에서 예측에 실패한 값\n",
    "cnt =0\n",
    "for item1, item2 in zip(y_origin_pred, y_origin_test):\n",
    "    if item1 != item2:\n",
    "        error_category.append(item2)\n",
    "        cnt += 1\n",
    "        # print(item1, item2)\n",
    "        # if cnt == 50:\n",
    "        #     break;\n",
    "# print(cnt)"
   ]
  },
  {
   "cell_type": "code",
   "execution_count": 54,
   "id": "c35dbb76-03df-4e8f-aae6-aaac595b75eb",
   "metadata": {},
   "outputs": [],
   "source": [
    "y_category = list(set(df['key2'].values))"
   ]
  },
  {
   "cell_type": "code",
   "execution_count": 56,
   "id": "c499d167-7665-42dc-a0f4-fe6db6400da3",
   "metadata": {},
   "outputs": [
    {
     "data": {
      "text/plain": [
       "61"
      ]
     },
     "execution_count": 56,
     "metadata": {},
     "output_type": "execute_result"
    }
   ],
   "source": [
    "len(y_category)"
   ]
  },
  {
   "cell_type": "code",
   "execution_count": 57,
   "id": "04a61925-1de1-40c7-a4f3-88e3e354dbd1",
   "metadata": {},
   "outputs": [],
   "source": [
    "error_cnt = {}\n",
    "for i in y_category:\n",
    "    error_cnt[i] = 0"
   ]
  },
  {
   "cell_type": "code",
   "execution_count": 58,
   "id": "7f45b3d7-2032-452e-8078-73be6ff14ac1",
   "metadata": {},
   "outputs": [],
   "source": [
    "for item1, item2 in zip(y_origin_pred, y_origin_test):\n",
    "    if item1 != item2:\n",
    "        error_cnt[item2] +=1"
   ]
  },
  {
   "cell_type": "code",
   "execution_count": 60,
   "id": "889d79a3-5bff-467c-82e6-31a501e741e0",
   "metadata": {},
   "outputs": [
    {
     "data": {
      "text/plain": [
       "{'GASKET': 216,\n",
       " 'BOLT': 59,\n",
       " 'TRANSFORMER': 2,\n",
       " 'LINE': 3,\n",
       " 'TURBINE': 3,\n",
       " 'HARNESS': 5,\n",
       " 'DAMPER': 8,\n",
       " 'TUBE': 22,\n",
       " 'LINK': 11,\n",
       " 'BEARING': 43,\n",
       " 'SHAFT': 30,\n",
       " 'CLAMP': 12,\n",
       " 'BRAKE': 7,\n",
       " 'BINO': 3,\n",
       " 'WIRE': 3,\n",
       " 'SCREW': 24,\n",
       " 'ADAPTER': 28,\n",
       " 'WINCH': 8,\n",
       " 'CLIP': 5,\n",
       " 'UNIT': 41,\n",
       " 'CARD': 0,\n",
       " 'CONTROL': 12,\n",
       " 'DISC': 14,\n",
       " 'BATTERY': 7,\n",
       " 'MOTOR': 18,\n",
       " 'O-RING': 50,\n",
       " 'GAUGE': 45,\n",
       " 'MANIFOLD': 4,\n",
       " 'VALVE': 73,\n",
       " 'CONNECTING ROD': 2,\n",
       " 'PIPE': 13,\n",
       " 'LIQUID': 11,\n",
       " 'PLATE': 20,\n",
       " 'SPACER': 17,\n",
       " 'MONITOR': 7,\n",
       " 'COMPRESSOR': 5,\n",
       " 'GENERATOR': 12,\n",
       " 'WASHER': 44,\n",
       " 'SPRING': 18,\n",
       " 'PISTON': 10,\n",
       " 'TOOL': 17,\n",
       " 'CYLINDER': 40,\n",
       " 'HOSE': 12,\n",
       " 'BLOCK': 12,\n",
       " 'PIN': 22,\n",
       " 'CARTRIDGE': 11,\n",
       " 'NET': 5,\n",
       " 'GEAR': 43,\n",
       " 'ANODES': 6,\n",
       " 'BELT': 5,\n",
       " 'ARM': 10,\n",
       " 'COVER': 49,\n",
       " 'KEY': 9,\n",
       " 'FILTER': 29,\n",
       " 'PUMP': 61,\n",
       " 'SWITCH': 19,\n",
       " 'SEAT': 0,\n",
       " 'BUSHING': 12,\n",
       " 'NUT': 21,\n",
       " 'COOLER': 36,\n",
       " 'INJECTOR': 18}"
      ]
     },
     "execution_count": 60,
     "metadata": {},
     "output_type": "execute_result"
    }
   ],
   "source": [
    "# 각 클래스마다 예측실패한 갯수\n",
    "error_cnt"
   ]
  },
  {
   "cell_type": "code",
   "execution_count": 61,
   "id": "97d5b8e5-4811-4834-8466-c24053d22406",
   "metadata": {},
   "outputs": [
    {
     "name": "stdout",
     "output_type": "stream",
     "text": [
      "GASKET: 216\n",
      "VALVE: 73\n",
      "PUMP: 61\n",
      "BOLT: 59\n",
      "O-RING: 50\n",
      "COVER: 49\n",
      "GAUGE: 45\n",
      "WASHER: 44\n",
      "BEARING: 43\n",
      "GEAR: 43\n",
      "UNIT: 41\n",
      "CYLINDER: 40\n",
      "COOLER: 36\n",
      "SHAFT: 30\n",
      "FILTER: 29\n",
      "ADAPTER: 28\n",
      "SCREW: 24\n",
      "TUBE: 22\n",
      "PIN: 22\n",
      "NUT: 21\n",
      "PLATE: 20\n",
      "SWITCH: 19\n",
      "MOTOR: 18\n",
      "SPRING: 18\n",
      "INJECTOR: 18\n",
      "SPACER: 17\n",
      "TOOL: 17\n",
      "DISC: 14\n",
      "PIPE: 13\n",
      "CLAMP: 12\n",
      "CONTROL: 12\n",
      "GENERATOR: 12\n",
      "HOSE: 12\n",
      "BLOCK: 12\n",
      "BUSHING: 12\n",
      "LINK: 11\n",
      "LIQUID: 11\n",
      "CARTRIDGE: 11\n",
      "PISTON: 10\n",
      "ARM: 10\n",
      "KEY: 9\n",
      "DAMPER: 8\n",
      "WINCH: 8\n",
      "BRAKE: 7\n",
      "BATTERY: 7\n",
      "MONITOR: 7\n",
      "ANODES: 6\n",
      "HARNESS: 5\n",
      "CLIP: 5\n",
      "COMPRESSOR: 5\n",
      "NET: 5\n",
      "BELT: 5\n",
      "MANIFOLD: 4\n",
      "LINE: 3\n",
      "TURBINE: 3\n",
      "BINO: 3\n",
      "WIRE: 3\n",
      "TRANSFORMER: 2\n",
      "CONNECTING ROD: 2\n",
      "CARD: 0\n",
      "SEAT: 0\n"
     ]
    }
   ],
   "source": [
    "sorted_errors = sorted(error_cnt.items(), key=lambda x: x[1], reverse=True)\n",
    "\n",
    "for error, count in sorted_errors:\n",
    "    print(f\"{error}: {count}\")"
   ]
  }
 ],
 "metadata": {
  "kernelspec": {
   "display_name": "venv1",
   "language": "python",
   "name": "venv"
  },
  "language_info": {
   "codemirror_mode": {
    "name": "ipython",
    "version": 3
   },
   "file_extension": ".py",
   "mimetype": "text/x-python",
   "name": "python",
   "nbconvert_exporter": "python",
   "pygments_lexer": "ipython3",
   "version": "3.10.10"
  }
 },
 "nbformat": 4,
 "nbformat_minor": 5
}
