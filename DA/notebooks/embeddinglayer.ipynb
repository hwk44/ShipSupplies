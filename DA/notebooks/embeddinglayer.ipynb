{
 "cells": [
  {
   "cell_type": "code",
   "execution_count": 1,
   "id": "3ef66e3b-0a6f-4ea8-a5a4-27ed52f26872",
   "metadata": {},
   "outputs": [],
   "source": [
    "import pandas as pd\n",
    "import numpy as np\n",
    "import matplotlib.pyplot as plt\n",
    "from sklearn.model_selection import train_test_split\n",
    "from sklearn.preprocessing import StandardScaler, LabelEncoder\n",
    "\n",
    "import tensorflow as tf\n",
    "from tensorflow import keras\n",
    "from tensorflow.keras import layers"
   ]
  },
  {
   "cell_type": "code",
   "execution_count": 177,
   "id": "c970dabc-2ed9-44a7-a275-46121cf8c4f0",
   "metadata": {},
   "outputs": [],
   "source": [
    "data = pd.read_csv('../data/raw_postpro.csv', encoding = 'cp949')\n",
    "# 컬럼 삭제\n",
    "df = data.drop(['청구서번호','No.',  '선박입고','완료 여부','리드타임_음수제거','청구량','견적','견적수량','견적화폐','견적단가','발주번호','발주','발주수량','발주금액','미입고 기간','리드타임','창고입고','창고입고수량','입고창고','창고출고','창고출고수량','출고선박','출고운반선','선박입고','선박입고수량','완료 여부'], axis=1)"
   ]
  },
  {
   "cell_type": "code",
   "execution_count": 178,
   "id": "a6e460a3-2557-454a-93ff-bb5abc6cfb0a",
   "metadata": {},
   "outputs": [
    {
     "name": "stdout",
     "output_type": "stream",
     "text": [
      "<class 'pandas.core.frame.DataFrame'>\n",
      "RangeIndex: 20517 entries, 0 to 20516\n",
      "Data columns (total 11 columns):\n",
      " #   Column       Non-Null Count  Dtype \n",
      "---  ------       --------------  ----- \n",
      " 0   Subject      20517 non-null  object\n",
      " 1   Machinery    20517 non-null  object\n",
      " 2   Assembly     20517 non-null  object\n",
      " 3   청구품목         20517 non-null  object\n",
      " 4   Part No.1    20517 non-null  object\n",
      " 5   Part No.2    20517 non-null  object\n",
      " 6   key1         20517 non-null  object\n",
      " 7   key2         20517 non-null  object\n",
      " 8   발주처          20517 non-null  object\n",
      " 9   D/T          20517 non-null  object\n",
      " 10  Control No.  20517 non-null  object\n",
      "dtypes: object(11)\n",
      "memory usage: 1.7+ MB\n"
     ]
    }
   ],
   "source": [
    "df.info()"
   ]
  },
  {
   "cell_type": "code",
   "execution_count": 179,
   "id": "aa28e9d3-8e42-4c48-a47c-1a06e6a1541d",
   "metadata": {},
   "outputs": [],
   "source": [
    "df = df[['Machinery', '청구품목', 'Part No.1', 'Part No.2', '발주처','key2']]"
   ]
  },
  {
   "cell_type": "code",
   "execution_count": 180,
   "id": "c13dbd9d-a637-4159-abac-2905e4c3b20a",
   "metadata": {},
   "outputs": [],
   "source": [
    "from sklearn import preprocessing\n",
    "label_encoders = {}  # 각 열에 대한 LabelEncoder를 저장하기 위한 딕셔너리\n",
    "columns_to_encode = ['key2']  # 인코딩을 수행할 열의 이름 리스트\n",
    "\n",
    "for column in columns_to_encode:\n",
    "    le = preprocessing.LabelEncoder()\n",
    "    le.fit(df[column])\n",
    "    label_encoders[column] = le # 딕셔너리에 저장\n",
    "    df[column+\"_encoded\"] = le.transform(df[column]) # 새로운 encoding 된 컬럼 추가"
   ]
  },
  {
   "cell_type": "code",
   "execution_count": 181,
   "id": "630ad400-60e9-49a3-917a-3ab26f4b451d",
   "metadata": {},
   "outputs": [
    {
     "data": {
      "text/html": [
       "<div>\n",
       "<style scoped>\n",
       "    .dataframe tbody tr th:only-of-type {\n",
       "        vertical-align: middle;\n",
       "    }\n",
       "\n",
       "    .dataframe tbody tr th {\n",
       "        vertical-align: top;\n",
       "    }\n",
       "\n",
       "    .dataframe thead th {\n",
       "        text-align: right;\n",
       "    }\n",
       "</style>\n",
       "<table border=\"1\" class=\"dataframe\">\n",
       "  <thead>\n",
       "    <tr style=\"text-align: right;\">\n",
       "      <th></th>\n",
       "      <th>Machinery</th>\n",
       "      <th>청구품목</th>\n",
       "      <th>Part No.1</th>\n",
       "      <th>Part No.2</th>\n",
       "      <th>발주처</th>\n",
       "      <th>key2</th>\n",
       "      <th>key2_encoded</th>\n",
       "    </tr>\n",
       "  </thead>\n",
       "  <tbody>\n",
       "    <tr>\n",
       "      <th>0</th>\n",
       "      <td>NO.1 GENERATOR ENGINE</td>\n",
       "      <td>SEAL-O-RING-STOR</td>\n",
       "      <td>7.00E-275</td>\n",
       "      <td>0</td>\n",
       "      <td>HAEIN Coporation_Cheonan</td>\n",
       "      <td>COOLER</td>\n",
       "      <td>18</td>\n",
       "    </tr>\n",
       "    <tr>\n",
       "      <th>1</th>\n",
       "      <td>NO.2 GENERATOR ENGINE</td>\n",
       "      <td>OIL COOLER &amp; LINES</td>\n",
       "      <td>7.00E-275</td>\n",
       "      <td>0</td>\n",
       "      <td>HAEIN Coporation_Cheonan</td>\n",
       "      <td>COOLER</td>\n",
       "      <td>18</td>\n",
       "    </tr>\n",
       "    <tr>\n",
       "      <th>2</th>\n",
       "      <td>NO.2 GENERATOR ENGINE</td>\n",
       "      <td>WASHER</td>\n",
       "      <td>7.00E-275</td>\n",
       "      <td>0</td>\n",
       "      <td>HAEIN Coporation_Cheonan</td>\n",
       "      <td>COOLER</td>\n",
       "      <td>18</td>\n",
       "    </tr>\n",
       "    <tr>\n",
       "      <th>3</th>\n",
       "      <td>NO.1 GENERATOR ENGINE</td>\n",
       "      <td>BOLT-HIGH TEMP</td>\n",
       "      <td>7.00E-275</td>\n",
       "      <td>0</td>\n",
       "      <td>HAEIN Coporation_Cheonan</td>\n",
       "      <td>COOLER</td>\n",
       "      <td>18</td>\n",
       "    </tr>\n",
       "    <tr>\n",
       "      <th>4</th>\n",
       "      <td>NO.1 GENERATOR ENGINE</td>\n",
       "      <td>SEAL</td>\n",
       "      <td>7.00E-275</td>\n",
       "      <td>0</td>\n",
       "      <td>HAEIN Coporation_Cheonan</td>\n",
       "      <td>COOLER</td>\n",
       "      <td>18</td>\n",
       "    </tr>\n",
       "    <tr>\n",
       "      <th>...</th>\n",
       "      <td>...</td>\n",
       "      <td>...</td>\n",
       "      <td>...</td>\n",
       "      <td>...</td>\n",
       "      <td>...</td>\n",
       "      <td>...</td>\n",
       "      <td>...</td>\n",
       "    </tr>\n",
       "    <tr>\n",
       "      <th>20512</th>\n",
       "      <td>HYD. SYSTEM</td>\n",
       "      <td>HYD. CYLINDER_NET BOAT DAVIT</td>\n",
       "      <td>φ150 × φ85 × 695st</td>\n",
       "      <td>FF-SE-1CB150BB695ABD-YP2J</td>\n",
       "      <td>MARINE HYDROTEC CO.,LTD.</td>\n",
       "      <td>CYLINDER</td>\n",
       "      <td>20</td>\n",
       "    </tr>\n",
       "    <tr>\n",
       "      <th>20513</th>\n",
       "      <td>HYD. SYSTEM</td>\n",
       "      <td>HYD. CYLINDER_N.D CRANE_BOOM_LIFTER</td>\n",
       "      <td>φ160 × φ112 × 1130st</td>\n",
       "      <td>S-2CA160A20.6N1130-1</td>\n",
       "      <td>MARINE HYDROTEC CO.,LTD.</td>\n",
       "      <td>CYLINDER</td>\n",
       "      <td>20</td>\n",
       "    </tr>\n",
       "    <tr>\n",
       "      <th>20514</th>\n",
       "      <td>6M NET BOAT</td>\n",
       "      <td>PULLY</td>\n",
       "      <td>Φ305X5V-3</td>\n",
       "      <td>0</td>\n",
       "      <td>PORT RELIEF ENGINEERING CO.,LTD.</td>\n",
       "      <td>BELT</td>\n",
       "      <td>5</td>\n",
       "    </tr>\n",
       "    <tr>\n",
       "      <th>20515</th>\n",
       "      <td>7M NET BOAT</td>\n",
       "      <td>CYLINDER</td>\n",
       "      <td>Φ50 x S195 CYLINDER</td>\n",
       "      <td>0</td>\n",
       "      <td>PORT RELIEF ENGINEERING CO.,LTD.</td>\n",
       "      <td>CYLINDER</td>\n",
       "      <td>20</td>\n",
       "    </tr>\n",
       "    <tr>\n",
       "      <th>20516</th>\n",
       "      <td>7M NET BOAT</td>\n",
       "      <td>SEAL KIT FOR CYLINDER</td>\n",
       "      <td>Φ50 x S195 CYLINDER SEAL KIT</td>\n",
       "      <td>0</td>\n",
       "      <td>PORT RELIEF ENGINEERING CO.,LTD.</td>\n",
       "      <td>CYLINDER</td>\n",
       "      <td>20</td>\n",
       "    </tr>\n",
       "  </tbody>\n",
       "</table>\n",
       "<p>20517 rows × 7 columns</p>\n",
       "</div>"
      ],
      "text/plain": [
       "                   Machinery                                 청구품목  \\\n",
       "0      NO.1 GENERATOR ENGINE                     SEAL-O-RING-STOR   \n",
       "1      NO.2 GENERATOR ENGINE                   OIL COOLER & LINES   \n",
       "2      NO.2 GENERATOR ENGINE                               WASHER   \n",
       "3      NO.1 GENERATOR ENGINE                       BOLT-HIGH TEMP   \n",
       "4      NO.1 GENERATOR ENGINE                                 SEAL   \n",
       "...                      ...                                  ...   \n",
       "20512            HYD. SYSTEM         HYD. CYLINDER_NET BOAT DAVIT   \n",
       "20513            HYD. SYSTEM  HYD. CYLINDER_N.D CRANE_BOOM_LIFTER   \n",
       "20514            6M NET BOAT                                PULLY   \n",
       "20515            7M NET BOAT                            CYLINDER    \n",
       "20516            7M NET BOAT                SEAL KIT FOR CYLINDER   \n",
       "\n",
       "                          Part No.1                  Part No.2  \\\n",
       "0                         7.00E-275                          0   \n",
       "1                         7.00E-275                          0   \n",
       "2                         7.00E-275                          0   \n",
       "3                         7.00E-275                          0   \n",
       "4                         7.00E-275                          0   \n",
       "...                             ...                        ...   \n",
       "20512            φ150 × φ85 × 695st  FF-SE-1CB150BB695ABD-YP2J   \n",
       "20513          φ160 × φ112 × 1130st       S-2CA160A20.6N1130-1   \n",
       "20514                     Φ305X5V-3                          0   \n",
       "20515           Φ50 x S195 CYLINDER                          0   \n",
       "20516  Φ50 x S195 CYLINDER SEAL KIT                          0   \n",
       "\n",
       "                                    발주처      key2  key2_encoded  \n",
       "0              HAEIN Coporation_Cheonan    COOLER            18  \n",
       "1              HAEIN Coporation_Cheonan    COOLER            18  \n",
       "2              HAEIN Coporation_Cheonan    COOLER            18  \n",
       "3              HAEIN Coporation_Cheonan    COOLER            18  \n",
       "4              HAEIN Coporation_Cheonan    COOLER            18  \n",
       "...                                 ...       ...           ...  \n",
       "20512          MARINE HYDROTEC CO.,LTD.  CYLINDER            20  \n",
       "20513          MARINE HYDROTEC CO.,LTD.  CYLINDER            20  \n",
       "20514  PORT RELIEF ENGINEERING CO.,LTD.      BELT             5  \n",
       "20515  PORT RELIEF ENGINEERING CO.,LTD.  CYLINDER            20  \n",
       "20516  PORT RELIEF ENGINEERING CO.,LTD.  CYLINDER            20  \n",
       "\n",
       "[20517 rows x 7 columns]"
      ]
     },
     "execution_count": 181,
     "metadata": {},
     "output_type": "execute_result"
    }
   ],
   "source": [
    "df"
   ]
  },
  {
   "cell_type": "code",
   "execution_count": 182,
   "id": "bada4b90-6a7b-4dbb-9c97-21087ed36623",
   "metadata": {},
   "outputs": [],
   "source": [
    "df = df.drop(['key2'], axis=1)"
   ]
  },
  {
   "cell_type": "code",
   "execution_count": 183,
   "id": "69b2c061-1cbe-4d8c-a316-8089d8f5d14b",
   "metadata": {},
   "outputs": [
    {
     "data": {
      "text/html": [
       "<div>\n",
       "<style scoped>\n",
       "    .dataframe tbody tr th:only-of-type {\n",
       "        vertical-align: middle;\n",
       "    }\n",
       "\n",
       "    .dataframe tbody tr th {\n",
       "        vertical-align: top;\n",
       "    }\n",
       "\n",
       "    .dataframe thead th {\n",
       "        text-align: right;\n",
       "    }\n",
       "</style>\n",
       "<table border=\"1\" class=\"dataframe\">\n",
       "  <thead>\n",
       "    <tr style=\"text-align: right;\">\n",
       "      <th></th>\n",
       "      <th>Machinery</th>\n",
       "      <th>청구품목</th>\n",
       "      <th>Part No.1</th>\n",
       "      <th>Part No.2</th>\n",
       "      <th>발주처</th>\n",
       "      <th>key2_encoded</th>\n",
       "    </tr>\n",
       "  </thead>\n",
       "  <tbody>\n",
       "    <tr>\n",
       "      <th>0</th>\n",
       "      <td>NO.1 GENERATOR ENGINE</td>\n",
       "      <td>SEAL-O-RING-STOR</td>\n",
       "      <td>7.00E-275</td>\n",
       "      <td>0</td>\n",
       "      <td>HAEIN Coporation_Cheonan</td>\n",
       "      <td>18</td>\n",
       "    </tr>\n",
       "    <tr>\n",
       "      <th>1</th>\n",
       "      <td>NO.2 GENERATOR ENGINE</td>\n",
       "      <td>OIL COOLER &amp; LINES</td>\n",
       "      <td>7.00E-275</td>\n",
       "      <td>0</td>\n",
       "      <td>HAEIN Coporation_Cheonan</td>\n",
       "      <td>18</td>\n",
       "    </tr>\n",
       "    <tr>\n",
       "      <th>2</th>\n",
       "      <td>NO.2 GENERATOR ENGINE</td>\n",
       "      <td>WASHER</td>\n",
       "      <td>7.00E-275</td>\n",
       "      <td>0</td>\n",
       "      <td>HAEIN Coporation_Cheonan</td>\n",
       "      <td>18</td>\n",
       "    </tr>\n",
       "    <tr>\n",
       "      <th>3</th>\n",
       "      <td>NO.1 GENERATOR ENGINE</td>\n",
       "      <td>BOLT-HIGH TEMP</td>\n",
       "      <td>7.00E-275</td>\n",
       "      <td>0</td>\n",
       "      <td>HAEIN Coporation_Cheonan</td>\n",
       "      <td>18</td>\n",
       "    </tr>\n",
       "    <tr>\n",
       "      <th>4</th>\n",
       "      <td>NO.1 GENERATOR ENGINE</td>\n",
       "      <td>SEAL</td>\n",
       "      <td>7.00E-275</td>\n",
       "      <td>0</td>\n",
       "      <td>HAEIN Coporation_Cheonan</td>\n",
       "      <td>18</td>\n",
       "    </tr>\n",
       "    <tr>\n",
       "      <th>...</th>\n",
       "      <td>...</td>\n",
       "      <td>...</td>\n",
       "      <td>...</td>\n",
       "      <td>...</td>\n",
       "      <td>...</td>\n",
       "      <td>...</td>\n",
       "    </tr>\n",
       "    <tr>\n",
       "      <th>20512</th>\n",
       "      <td>HYD. SYSTEM</td>\n",
       "      <td>HYD. CYLINDER_NET BOAT DAVIT</td>\n",
       "      <td>φ150 × φ85 × 695st</td>\n",
       "      <td>FF-SE-1CB150BB695ABD-YP2J</td>\n",
       "      <td>MARINE HYDROTEC CO.,LTD.</td>\n",
       "      <td>20</td>\n",
       "    </tr>\n",
       "    <tr>\n",
       "      <th>20513</th>\n",
       "      <td>HYD. SYSTEM</td>\n",
       "      <td>HYD. CYLINDER_N.D CRANE_BOOM_LIFTER</td>\n",
       "      <td>φ160 × φ112 × 1130st</td>\n",
       "      <td>S-2CA160A20.6N1130-1</td>\n",
       "      <td>MARINE HYDROTEC CO.,LTD.</td>\n",
       "      <td>20</td>\n",
       "    </tr>\n",
       "    <tr>\n",
       "      <th>20514</th>\n",
       "      <td>6M NET BOAT</td>\n",
       "      <td>PULLY</td>\n",
       "      <td>Φ305X5V-3</td>\n",
       "      <td>0</td>\n",
       "      <td>PORT RELIEF ENGINEERING CO.,LTD.</td>\n",
       "      <td>5</td>\n",
       "    </tr>\n",
       "    <tr>\n",
       "      <th>20515</th>\n",
       "      <td>7M NET BOAT</td>\n",
       "      <td>CYLINDER</td>\n",
       "      <td>Φ50 x S195 CYLINDER</td>\n",
       "      <td>0</td>\n",
       "      <td>PORT RELIEF ENGINEERING CO.,LTD.</td>\n",
       "      <td>20</td>\n",
       "    </tr>\n",
       "    <tr>\n",
       "      <th>20516</th>\n",
       "      <td>7M NET BOAT</td>\n",
       "      <td>SEAL KIT FOR CYLINDER</td>\n",
       "      <td>Φ50 x S195 CYLINDER SEAL KIT</td>\n",
       "      <td>0</td>\n",
       "      <td>PORT RELIEF ENGINEERING CO.,LTD.</td>\n",
       "      <td>20</td>\n",
       "    </tr>\n",
       "  </tbody>\n",
       "</table>\n",
       "<p>20517 rows × 6 columns</p>\n",
       "</div>"
      ],
      "text/plain": [
       "                   Machinery                                 청구품목  \\\n",
       "0      NO.1 GENERATOR ENGINE                     SEAL-O-RING-STOR   \n",
       "1      NO.2 GENERATOR ENGINE                   OIL COOLER & LINES   \n",
       "2      NO.2 GENERATOR ENGINE                               WASHER   \n",
       "3      NO.1 GENERATOR ENGINE                       BOLT-HIGH TEMP   \n",
       "4      NO.1 GENERATOR ENGINE                                 SEAL   \n",
       "...                      ...                                  ...   \n",
       "20512            HYD. SYSTEM         HYD. CYLINDER_NET BOAT DAVIT   \n",
       "20513            HYD. SYSTEM  HYD. CYLINDER_N.D CRANE_BOOM_LIFTER   \n",
       "20514            6M NET BOAT                                PULLY   \n",
       "20515            7M NET BOAT                            CYLINDER    \n",
       "20516            7M NET BOAT                SEAL KIT FOR CYLINDER   \n",
       "\n",
       "                          Part No.1                  Part No.2  \\\n",
       "0                         7.00E-275                          0   \n",
       "1                         7.00E-275                          0   \n",
       "2                         7.00E-275                          0   \n",
       "3                         7.00E-275                          0   \n",
       "4                         7.00E-275                          0   \n",
       "...                             ...                        ...   \n",
       "20512            φ150 × φ85 × 695st  FF-SE-1CB150BB695ABD-YP2J   \n",
       "20513          φ160 × φ112 × 1130st       S-2CA160A20.6N1130-1   \n",
       "20514                     Φ305X5V-3                          0   \n",
       "20515           Φ50 x S195 CYLINDER                          0   \n",
       "20516  Φ50 x S195 CYLINDER SEAL KIT                          0   \n",
       "\n",
       "                                    발주처  key2_encoded  \n",
       "0              HAEIN Coporation_Cheonan            18  \n",
       "1              HAEIN Coporation_Cheonan            18  \n",
       "2              HAEIN Coporation_Cheonan            18  \n",
       "3              HAEIN Coporation_Cheonan            18  \n",
       "4              HAEIN Coporation_Cheonan            18  \n",
       "...                                 ...           ...  \n",
       "20512          MARINE HYDROTEC CO.,LTD.            20  \n",
       "20513          MARINE HYDROTEC CO.,LTD.            20  \n",
       "20514  PORT RELIEF ENGINEERING CO.,LTD.             5  \n",
       "20515  PORT RELIEF ENGINEERING CO.,LTD.            20  \n",
       "20516  PORT RELIEF ENGINEERING CO.,LTD.            20  \n",
       "\n",
       "[20517 rows x 6 columns]"
      ]
     },
     "execution_count": 183,
     "metadata": {},
     "output_type": "execute_result"
    }
   ],
   "source": [
    "df"
   ]
  },
  {
   "cell_type": "code",
   "execution_count": 184,
   "id": "74973544-bccd-4885-9564-386141347768",
   "metadata": {},
   "outputs": [],
   "source": [
    "train, val, test = np.split(df.sample(frac=1), [int(0.8*len(df)), int(0.9*len(df))])"
   ]
  },
  {
   "cell_type": "code",
   "execution_count": 185,
   "id": "793a3c1b-dfd8-4aa6-a64c-f53e39f60e51",
   "metadata": {},
   "outputs": [],
   "source": [
    "def df_to_dataset(dataframe, shuffle=True, batch_size=32):\n",
    "  df = dataframe.copy()\n",
    "  labels = df.pop('key2_encoded')\n",
    "  # df = {key: value[:,tf.newaxis] for key, value in dataframe.items()}\n",
    "  df = {key: np.expand_dims(value, axis=1) for key, value in df.items()}  # np.expand_dims를 사용하여 NumPy 배열로 변환\n",
    "  ds = tf.data.Dataset.from_tensor_slices((dict(df), labels))\n",
    "  if shuffle:\n",
    "    ds = ds.shuffle(buffer_size=len(dataframe))\n",
    "  ds = ds.batch(batch_size)\n",
    "  ds = ds.prefetch(batch_size)\n",
    "  return ds"
   ]
  },
  {
   "cell_type": "code",
   "execution_count": 186,
   "id": "6ee6c0fb-a2f1-46f1-acf9-580525cbfa36",
   "metadata": {},
   "outputs": [],
   "source": [
    "batch_size = 5\n",
    "train_ds = df_to_dataset(train, batch_size=batch_size)"
   ]
  },
  {
   "cell_type": "code",
   "execution_count": 187,
   "id": "b21b1f67-b205-4aed-87aa-627fcd31ca17",
   "metadata": {},
   "outputs": [
    {
     "data": {
      "text/html": [
       "<div>\n",
       "<style scoped>\n",
       "    .dataframe tbody tr th:only-of-type {\n",
       "        vertical-align: middle;\n",
       "    }\n",
       "\n",
       "    .dataframe tbody tr th {\n",
       "        vertical-align: top;\n",
       "    }\n",
       "\n",
       "    .dataframe thead th {\n",
       "        text-align: right;\n",
       "    }\n",
       "</style>\n",
       "<table border=\"1\" class=\"dataframe\">\n",
       "  <thead>\n",
       "    <tr style=\"text-align: right;\">\n",
       "      <th></th>\n",
       "      <th>Machinery</th>\n",
       "      <th>청구품목</th>\n",
       "      <th>Part No.1</th>\n",
       "      <th>Part No.2</th>\n",
       "      <th>발주처</th>\n",
       "      <th>key2_encoded</th>\n",
       "    </tr>\n",
       "  </thead>\n",
       "  <tbody>\n",
       "    <tr>\n",
       "      <th>17601</th>\n",
       "      <td>M/E R/G L.O TRANSFER PUMP</td>\n",
       "      <td>SPARE PART KIT</td>\n",
       "      <td>90259-KB</td>\n",
       "      <td>0</td>\n",
       "      <td>EURO KYTEX ENGINEERING BV</td>\n",
       "      <td>24</td>\n",
       "    </tr>\n",
       "    <tr>\n",
       "      <th>7441</th>\n",
       "      <td>POWER BLOCK</td>\n",
       "      <td>SEAL</td>\n",
       "      <td>13.211.39676.000</td>\n",
       "      <td>0</td>\n",
       "      <td>K.TH MARCO</td>\n",
       "      <td>24</td>\n",
       "    </tr>\n",
       "    <tr>\n",
       "      <th>18980</th>\n",
       "      <td>STEERING GEAR</td>\n",
       "      <td>CYLINDER \"O\" RING</td>\n",
       "      <td>JB-201263</td>\n",
       "      <td>0</td>\n",
       "      <td>MATSUI(U.S.A) COROPRATION</td>\n",
       "      <td>20</td>\n",
       "    </tr>\n",
       "    <tr>\n",
       "      <th>5659</th>\n",
       "      <td>HYD. DRIVE ENGINE</td>\n",
       "      <td>LINE AS-FUEL INJECTION</td>\n",
       "      <td>122-8856</td>\n",
       "      <td>0</td>\n",
       "      <td>HAEIN Coporation_Cheonan</td>\n",
       "      <td>24</td>\n",
       "    </tr>\n",
       "    <tr>\n",
       "      <th>1686</th>\n",
       "      <td>SKIFF BOAT ENGINE</td>\n",
       "      <td>VALVE, EXHAUST</td>\n",
       "      <td>3803528</td>\n",
       "      <td>0</td>\n",
       "      <td>MATSUI(U.S.A) COROPRATION</td>\n",
       "      <td>57</td>\n",
       "    </tr>\n",
       "    <tr>\n",
       "      <th>...</th>\n",
       "      <td>...</td>\n",
       "      <td>...</td>\n",
       "      <td>...</td>\n",
       "      <td>...</td>\n",
       "      <td>...</td>\n",
       "      <td>...</td>\n",
       "    </tr>\n",
       "    <tr>\n",
       "      <th>17037</th>\n",
       "      <td>NO.1 REF COMPRESSOR</td>\n",
       "      <td>GASKET NA, OIL TANK FLANGE A</td>\n",
       "      <td>82098413</td>\n",
       "      <td>REF NO. 7Z332</td>\n",
       "      <td>(주)우림공사</td>\n",
       "      <td>24</td>\n",
       "    </tr>\n",
       "    <tr>\n",
       "      <th>14148</th>\n",
       "      <td>NO.1 F.O PURIFIER</td>\n",
       "      <td>ELBOW</td>\n",
       "      <td>524773 02</td>\n",
       "      <td>0</td>\n",
       "      <td>EAST WIND Gmbh</td>\n",
       "      <td>42</td>\n",
       "    </tr>\n",
       "    <tr>\n",
       "      <th>5746</th>\n",
       "      <td>6M NET BOAT ENGINE</td>\n",
       "      <td>GASKET</td>\n",
       "      <td>123688-18201</td>\n",
       "      <td>123688-18200</td>\n",
       "      <td>(주)프러스엔지니어링</td>\n",
       "      <td>24</td>\n",
       "    </tr>\n",
       "    <tr>\n",
       "      <th>17492</th>\n",
       "      <td>NO.2 GENERATOR ENGINE</td>\n",
       "      <td>RING-PISTON</td>\n",
       "      <td>8N-7810</td>\n",
       "      <td>0</td>\n",
       "      <td>HAEIN Coporation_Cheonan</td>\n",
       "      <td>24</td>\n",
       "    </tr>\n",
       "    <tr>\n",
       "      <th>17956</th>\n",
       "      <td>PURSE WINCH</td>\n",
       "      <td>NYLON PAD</td>\n",
       "      <td>A62032</td>\n",
       "      <td>60.209.00620.324</td>\n",
       "      <td>K.TH MARCO</td>\n",
       "      <td>19</td>\n",
       "    </tr>\n",
       "  </tbody>\n",
       "</table>\n",
       "<p>16413 rows × 6 columns</p>\n",
       "</div>"
      ],
      "text/plain": [
       "                       Machinery                          청구품목  \\\n",
       "17601  M/E R/G L.O TRANSFER PUMP                SPARE PART KIT   \n",
       "7441                 POWER BLOCK                          SEAL   \n",
       "18980              STEERING GEAR             CYLINDER \"O\" RING   \n",
       "5659           HYD. DRIVE ENGINE        LINE AS-FUEL INJECTION   \n",
       "1686           SKIFF BOAT ENGINE                VALVE, EXHAUST   \n",
       "...                          ...                           ...   \n",
       "17037        NO.1 REF COMPRESSOR  GASKET NA, OIL TANK FLANGE A   \n",
       "14148          NO.1 F.O PURIFIER                         ELBOW   \n",
       "5746          6M NET BOAT ENGINE                 GASKET          \n",
       "17492      NO.2 GENERATOR ENGINE                   RING-PISTON   \n",
       "17956                PURSE WINCH                     NYLON PAD   \n",
       "\n",
       "              Part No.1         Part No.2                        발주처  \\\n",
       "17601          90259-KB                 0  EURO KYTEX ENGINEERING BV   \n",
       "7441   13.211.39676.000                 0                 K.TH MARCO   \n",
       "18980         JB-201263                 0  MATSUI(U.S.A) COROPRATION   \n",
       "5659           122-8856                 0   HAEIN Coporation_Cheonan   \n",
       "1686            3803528                 0  MATSUI(U.S.A) COROPRATION   \n",
       "...                 ...               ...                        ...   \n",
       "17037          82098413     REF NO. 7Z332                    (주)우림공사   \n",
       "14148         524773 02                 0             EAST WIND Gmbh   \n",
       "5746       123688-18201      123688-18200                (주)프러스엔지니어링   \n",
       "17492           8N-7810                 0   HAEIN Coporation_Cheonan   \n",
       "17956            A62032  60.209.00620.324                 K.TH MARCO   \n",
       "\n",
       "       key2_encoded  \n",
       "17601            24  \n",
       "7441             24  \n",
       "18980            20  \n",
       "5659             24  \n",
       "1686             57  \n",
       "...             ...  \n",
       "17037            24  \n",
       "14148            42  \n",
       "5746             24  \n",
       "17492            24  \n",
       "17956            19  \n",
       "\n",
       "[16413 rows x 6 columns]"
      ]
     },
     "execution_count": 187,
     "metadata": {},
     "output_type": "execute_result"
    }
   ],
   "source": [
    "train"
   ]
  },
  {
   "cell_type": "code",
   "execution_count": 109,
   "id": "5398230c-ba4f-4633-936b-577bcf25d33b",
   "metadata": {},
   "outputs": [
    {
     "name": "stdout",
     "output_type": "stream",
     "text": [
      "Every feature: ['Machinery', '청구품목', 'Part No.1', 'Part No.2', '발주처']\n",
      "A batch of Machinery: tf.Tensor(\n",
      "[[b'BINOCULAR']\n",
      " [b'STBD BOOM NO.1 CARGO WINCH ']\n",
      " [b'STEERING GEAR']\n",
      " [b'MAIN ENGINE']\n",
      " [b'NO.1 F.O PURIFIER']], shape=(5, 1), dtype=string)\n",
      "A batch of targets: tf.Tensor([ 6 22 40 57 22], shape=(5,), dtype=int32)\n"
     ]
    }
   ],
   "source": [
    "a = [(train_features, label_batch)] = train_ds.take(1)\n",
    "print('Every feature:', list(train_features.keys()))\n",
    "print('A batch of Machinery:', train_features['Machinery'])\n",
    "print('A batch of targets:', label_batch )\n",
    "# a"
   ]
  },
  {
   "cell_type": "markdown",
   "id": "4f656f42-26e3-4e04-bf43-0063f19b4a3d",
   "metadata": {},
   "source": [
    "# 2개 컬럼 합치고 사전으로 만들기"
   ]
  },
  {
   "cell_type": "code",
   "execution_count": 110,
   "id": "caa20403-fd2a-44de-9e7d-a61558cbfb7a",
   "metadata": {},
   "outputs": [],
   "source": [
    "df_desc = df[[ '청구품목', '발주처']].apply(lambda row: ' '.join(row), axis=1)"
   ]
  },
  {
   "cell_type": "code",
   "execution_count": 111,
   "id": "cb1bfbb4-2017-4a2b-831a-e2de680e7919",
   "metadata": {},
   "outputs": [
    {
     "data": {
      "text/plain": [
       "0      SEAL-O-RING-STOR HAEIN Coporation_Cheonan\n",
       "1    OIL COOLER & LINES HAEIN Coporation_Cheonan\n",
       "2                WASHER HAEIN Coporation_Cheonan\n",
       "3        BOLT-HIGH TEMP HAEIN Coporation_Cheonan\n",
       "4                  SEAL HAEIN Coporation_Cheonan\n",
       "dtype: object"
      ]
     },
     "execution_count": 111,
     "metadata": {},
     "output_type": "execute_result"
    }
   ],
   "source": [
    "df_desc.head()"
   ]
  },
  {
   "cell_type": "code",
   "execution_count": null,
   "id": "2f0aabb4-7324-49b2-bbe3-2e4e3d09430c",
   "metadata": {},
   "outputs": [],
   "source": []
  },
  {
   "cell_type": "code",
   "execution_count": 112,
   "id": "1b2ce9a6-58f0-4f65-bb54-3e5915c9ca74",
   "metadata": {},
   "outputs": [
    {
     "data": {
      "text/plain": [
       "0                SEAL-O-RING-STOR HAEIN Coporation_Cheonan\n",
       "1              OIL COOLER & LINES HAEIN Coporation_Cheonan\n",
       "2                          WASHER HAEIN Coporation_Cheonan\n",
       "3                  BOLT-HIGH TEMP HAEIN Coporation_Cheonan\n",
       "4                            SEAL HAEIN Coporation_Cheonan\n",
       "                               ...                        \n",
       "20512    HYD. CYLINDER_NET BOAT DAVIT MARINE HYDROTEC C...\n",
       "20513    HYD. CYLINDER_N.D CRANE_BOOM_LIFTER MARINE HYD...\n",
       "20514               PULLY PORT RELIEF ENGINEERING CO.,LTD.\n",
       "20515           CYLINDER  PORT RELIEF ENGINEERING CO.,LTD.\n",
       "20516    SEAL KIT FOR CYLINDER PORT RELIEF ENGINEERING ...\n",
       "Length: 20517, dtype: object"
      ]
     },
     "execution_count": 112,
     "metadata": {},
     "output_type": "execute_result"
    }
   ],
   "source": [
    "# Xdf_desc\n",
    "df_desc"
   ]
  },
  {
   "cell_type": "code",
   "execution_count": 113,
   "id": "3531c2d3-07ba-4d7e-a383-d7397086944a",
   "metadata": {},
   "outputs": [
    {
     "data": {
      "text/plain": [
       "97928"
      ]
     },
     "execution_count": 113,
     "metadata": {},
     "output_type": "execute_result"
    }
   ],
   "source": [
    "vocab_list = []\n",
    "for words in df_desc.str.split():\n",
    "  if isinstance(words, list):\n",
    "    #print(type(words), words)\n",
    "    vocab_list = vocab_list + words\n",
    "len(vocab_list)"
   ]
  },
  {
   "cell_type": "code",
   "execution_count": 114,
   "id": "f131c4ce-9ecc-45a2-9b4e-225211ab98ed",
   "metadata": {},
   "outputs": [
    {
     "data": {
      "text/plain": [
       "0      SEAL-O-RING-STOR HAEIN Coporation_Cheonan\n",
       "1    OIL COOLER & LINES HAEIN Coporation_Cheonan\n",
       "2                WASHER HAEIN Coporation_Cheonan\n",
       "3        BOLT-HIGH TEMP HAEIN Coporation_Cheonan\n",
       "4                  SEAL HAEIN Coporation_Cheonan\n",
       "dtype: object"
      ]
     },
     "execution_count": 114,
     "metadata": {},
     "output_type": "execute_result"
    }
   ],
   "source": [
    "df_desc.head()"
   ]
  },
  {
   "cell_type": "code",
   "execution_count": 115,
   "id": "67459f30-0c5c-4c52-83c7-62e522fddd13",
   "metadata": {},
   "outputs": [],
   "source": [
    "desc = df_desc.to_frame()"
   ]
  },
  {
   "cell_type": "code",
   "execution_count": 116,
   "id": "10b57753-51d1-4200-9985-ab5e4661f4f3",
   "metadata": {},
   "outputs": [],
   "source": [
    "desc.columns = ['origin']"
   ]
  },
  {
   "cell_type": "code",
   "execution_count": 117,
   "id": "58f0ae94-b766-4029-9011-e2f5dd893f1d",
   "metadata": {},
   "outputs": [
    {
     "data": {
      "text/html": [
       "<div>\n",
       "<style scoped>\n",
       "    .dataframe tbody tr th:only-of-type {\n",
       "        vertical-align: middle;\n",
       "    }\n",
       "\n",
       "    .dataframe tbody tr th {\n",
       "        vertical-align: top;\n",
       "    }\n",
       "\n",
       "    .dataframe thead th {\n",
       "        text-align: right;\n",
       "    }\n",
       "</style>\n",
       "<table border=\"1\" class=\"dataframe\">\n",
       "  <thead>\n",
       "    <tr style=\"text-align: right;\">\n",
       "      <th></th>\n",
       "      <th>origin</th>\n",
       "    </tr>\n",
       "  </thead>\n",
       "  <tbody>\n",
       "    <tr>\n",
       "      <th>0</th>\n",
       "      <td>SEAL-O-RING-STOR HAEIN Coporation_Cheonan</td>\n",
       "    </tr>\n",
       "    <tr>\n",
       "      <th>1</th>\n",
       "      <td>OIL COOLER &amp; LINES HAEIN Coporation_Cheonan</td>\n",
       "    </tr>\n",
       "    <tr>\n",
       "      <th>2</th>\n",
       "      <td>WASHER HAEIN Coporation_Cheonan</td>\n",
       "    </tr>\n",
       "    <tr>\n",
       "      <th>3</th>\n",
       "      <td>BOLT-HIGH TEMP HAEIN Coporation_Cheonan</td>\n",
       "    </tr>\n",
       "    <tr>\n",
       "      <th>4</th>\n",
       "      <td>SEAL HAEIN Coporation_Cheonan</td>\n",
       "    </tr>\n",
       "  </tbody>\n",
       "</table>\n",
       "</div>"
      ],
      "text/plain": [
       "                                        origin\n",
       "0    SEAL-O-RING-STOR HAEIN Coporation_Cheonan\n",
       "1  OIL COOLER & LINES HAEIN Coporation_Cheonan\n",
       "2              WASHER HAEIN Coporation_Cheonan\n",
       "3      BOLT-HIGH TEMP HAEIN Coporation_Cheonan\n",
       "4                SEAL HAEIN Coporation_Cheonan"
      ]
     },
     "execution_count": 117,
     "metadata": {},
     "output_type": "execute_result"
    }
   ],
   "source": [
    "desc.head()"
   ]
  },
  {
   "cell_type": "code",
   "execution_count": 118,
   "id": "4a21f196-3f0f-4ee7-848f-37bcf822a827",
   "metadata": {},
   "outputs": [
    {
     "data": {
      "text/html": [
       "<div>\n",
       "<style scoped>\n",
       "    .dataframe tbody tr th:only-of-type {\n",
       "        vertical-align: middle;\n",
       "    }\n",
       "\n",
       "    .dataframe tbody tr th {\n",
       "        vertical-align: top;\n",
       "    }\n",
       "\n",
       "    .dataframe thead th {\n",
       "        text-align: right;\n",
       "    }\n",
       "</style>\n",
       "<table border=\"1\" class=\"dataframe\">\n",
       "  <thead>\n",
       "    <tr style=\"text-align: right;\">\n",
       "      <th></th>\n",
       "      <th>origin</th>\n",
       "      <th>split_desc</th>\n",
       "    </tr>\n",
       "  </thead>\n",
       "  <tbody>\n",
       "    <tr>\n",
       "      <th>0</th>\n",
       "      <td>SEAL-O-RING-STOR HAEIN Coporation_Cheonan</td>\n",
       "      <td>[SEAL-O-RING-STOR, HAEIN, Coporation_Cheonan]</td>\n",
       "    </tr>\n",
       "    <tr>\n",
       "      <th>1</th>\n",
       "      <td>OIL COOLER &amp; LINES HAEIN Coporation_Cheonan</td>\n",
       "      <td>[OIL, COOLER, &amp;, LINES, HAEIN, Coporation_Cheo...</td>\n",
       "    </tr>\n",
       "    <tr>\n",
       "      <th>2</th>\n",
       "      <td>WASHER HAEIN Coporation_Cheonan</td>\n",
       "      <td>[WASHER, HAEIN, Coporation_Cheonan]</td>\n",
       "    </tr>\n",
       "    <tr>\n",
       "      <th>3</th>\n",
       "      <td>BOLT-HIGH TEMP HAEIN Coporation_Cheonan</td>\n",
       "      <td>[BOLT-HIGH, TEMP, HAEIN, Coporation_Cheonan]</td>\n",
       "    </tr>\n",
       "    <tr>\n",
       "      <th>4</th>\n",
       "      <td>SEAL HAEIN Coporation_Cheonan</td>\n",
       "      <td>[SEAL, HAEIN, Coporation_Cheonan]</td>\n",
       "    </tr>\n",
       "    <tr>\n",
       "      <th>...</th>\n",
       "      <td>...</td>\n",
       "      <td>...</td>\n",
       "    </tr>\n",
       "    <tr>\n",
       "      <th>20512</th>\n",
       "      <td>HYD. CYLINDER_NET BOAT DAVIT MARINE HYDROTEC C...</td>\n",
       "      <td>[HYD., CYLINDER_NET, BOAT, DAVIT, MARINE, HYDR...</td>\n",
       "    </tr>\n",
       "    <tr>\n",
       "      <th>20513</th>\n",
       "      <td>HYD. CYLINDER_N.D CRANE_BOOM_LIFTER MARINE HYD...</td>\n",
       "      <td>[HYD., CYLINDER_N.D, CRANE_BOOM_LIFTER, MARINE...</td>\n",
       "    </tr>\n",
       "    <tr>\n",
       "      <th>20514</th>\n",
       "      <td>PULLY PORT RELIEF ENGINEERING CO.,LTD.</td>\n",
       "      <td>[PULLY, PORT, RELIEF, ENGINEERING, CO.,LTD.]</td>\n",
       "    </tr>\n",
       "    <tr>\n",
       "      <th>20515</th>\n",
       "      <td>CYLINDER  PORT RELIEF ENGINEERING CO.,LTD.</td>\n",
       "      <td>[CYLINDER, PORT, RELIEF, ENGINEERING, CO.,LTD.]</td>\n",
       "    </tr>\n",
       "    <tr>\n",
       "      <th>20516</th>\n",
       "      <td>SEAL KIT FOR CYLINDER PORT RELIEF ENGINEERING ...</td>\n",
       "      <td>[SEAL, KIT, FOR, CYLINDER, PORT, RELIEF, ENGIN...</td>\n",
       "    </tr>\n",
       "  </tbody>\n",
       "</table>\n",
       "<p>20517 rows × 2 columns</p>\n",
       "</div>"
      ],
      "text/plain": [
       "                                                  origin  \\\n",
       "0              SEAL-O-RING-STOR HAEIN Coporation_Cheonan   \n",
       "1            OIL COOLER & LINES HAEIN Coporation_Cheonan   \n",
       "2                        WASHER HAEIN Coporation_Cheonan   \n",
       "3                BOLT-HIGH TEMP HAEIN Coporation_Cheonan   \n",
       "4                          SEAL HAEIN Coporation_Cheonan   \n",
       "...                                                  ...   \n",
       "20512  HYD. CYLINDER_NET BOAT DAVIT MARINE HYDROTEC C...   \n",
       "20513  HYD. CYLINDER_N.D CRANE_BOOM_LIFTER MARINE HYD...   \n",
       "20514             PULLY PORT RELIEF ENGINEERING CO.,LTD.   \n",
       "20515         CYLINDER  PORT RELIEF ENGINEERING CO.,LTD.   \n",
       "20516  SEAL KIT FOR CYLINDER PORT RELIEF ENGINEERING ...   \n",
       "\n",
       "                                              split_desc  \n",
       "0          [SEAL-O-RING-STOR, HAEIN, Coporation_Cheonan]  \n",
       "1      [OIL, COOLER, &, LINES, HAEIN, Coporation_Cheo...  \n",
       "2                    [WASHER, HAEIN, Coporation_Cheonan]  \n",
       "3           [BOLT-HIGH, TEMP, HAEIN, Coporation_Cheonan]  \n",
       "4                      [SEAL, HAEIN, Coporation_Cheonan]  \n",
       "...                                                  ...  \n",
       "20512  [HYD., CYLINDER_NET, BOAT, DAVIT, MARINE, HYDR...  \n",
       "20513  [HYD., CYLINDER_N.D, CRANE_BOOM_LIFTER, MARINE...  \n",
       "20514       [PULLY, PORT, RELIEF, ENGINEERING, CO.,LTD.]  \n",
       "20515    [CYLINDER, PORT, RELIEF, ENGINEERING, CO.,LTD.]  \n",
       "20516  [SEAL, KIT, FOR, CYLINDER, PORT, RELIEF, ENGIN...  \n",
       "\n",
       "[20517 rows x 2 columns]"
      ]
     },
     "execution_count": 118,
     "metadata": {},
     "output_type": "execute_result"
    }
   ],
   "source": [
    "desc['split_desc'] = desc.origin.str.split()\n",
    "desc"
   ]
  },
  {
   "cell_type": "code",
   "execution_count": 119,
   "id": "5c2f0adc-f43e-4c63-bafe-aa81a4f20126",
   "metadata": {},
   "outputs": [],
   "source": [
    "pre_desc = desc.dropna(subset=['split_desc'])"
   ]
  },
  {
   "cell_type": "code",
   "execution_count": 120,
   "id": "f9f61144-728a-4ac0-b0ed-23e3a74c482f",
   "metadata": {},
   "outputs": [
    {
     "data": {
      "text/html": [
       "<div>\n",
       "<style scoped>\n",
       "    .dataframe tbody tr th:only-of-type {\n",
       "        vertical-align: middle;\n",
       "    }\n",
       "\n",
       "    .dataframe tbody tr th {\n",
       "        vertical-align: top;\n",
       "    }\n",
       "\n",
       "    .dataframe thead th {\n",
       "        text-align: right;\n",
       "    }\n",
       "</style>\n",
       "<table border=\"1\" class=\"dataframe\">\n",
       "  <thead>\n",
       "    <tr style=\"text-align: right;\">\n",
       "      <th></th>\n",
       "      <th>origin</th>\n",
       "      <th>split_desc</th>\n",
       "    </tr>\n",
       "  </thead>\n",
       "  <tbody>\n",
       "    <tr>\n",
       "      <th>0</th>\n",
       "      <td>SEAL-O-RING-STOR HAEIN Coporation_Cheonan</td>\n",
       "      <td>[SEAL-O-RING-STOR, HAEIN, Coporation_Cheonan]</td>\n",
       "    </tr>\n",
       "    <tr>\n",
       "      <th>1</th>\n",
       "      <td>OIL COOLER &amp; LINES HAEIN Coporation_Cheonan</td>\n",
       "      <td>[OIL, COOLER, &amp;, LINES, HAEIN, Coporation_Cheo...</td>\n",
       "    </tr>\n",
       "    <tr>\n",
       "      <th>2</th>\n",
       "      <td>WASHER HAEIN Coporation_Cheonan</td>\n",
       "      <td>[WASHER, HAEIN, Coporation_Cheonan]</td>\n",
       "    </tr>\n",
       "    <tr>\n",
       "      <th>3</th>\n",
       "      <td>BOLT-HIGH TEMP HAEIN Coporation_Cheonan</td>\n",
       "      <td>[BOLT-HIGH, TEMP, HAEIN, Coporation_Cheonan]</td>\n",
       "    </tr>\n",
       "    <tr>\n",
       "      <th>4</th>\n",
       "      <td>SEAL HAEIN Coporation_Cheonan</td>\n",
       "      <td>[SEAL, HAEIN, Coporation_Cheonan]</td>\n",
       "    </tr>\n",
       "    <tr>\n",
       "      <th>...</th>\n",
       "      <td>...</td>\n",
       "      <td>...</td>\n",
       "    </tr>\n",
       "    <tr>\n",
       "      <th>20512</th>\n",
       "      <td>HYD. CYLINDER_NET BOAT DAVIT MARINE HYDROTEC C...</td>\n",
       "      <td>[HYD., CYLINDER_NET, BOAT, DAVIT, MARINE, HYDR...</td>\n",
       "    </tr>\n",
       "    <tr>\n",
       "      <th>20513</th>\n",
       "      <td>HYD. CYLINDER_N.D CRANE_BOOM_LIFTER MARINE HYD...</td>\n",
       "      <td>[HYD., CYLINDER_N.D, CRANE_BOOM_LIFTER, MARINE...</td>\n",
       "    </tr>\n",
       "    <tr>\n",
       "      <th>20514</th>\n",
       "      <td>PULLY PORT RELIEF ENGINEERING CO.,LTD.</td>\n",
       "      <td>[PULLY, PORT, RELIEF, ENGINEERING, CO.,LTD.]</td>\n",
       "    </tr>\n",
       "    <tr>\n",
       "      <th>20515</th>\n",
       "      <td>CYLINDER  PORT RELIEF ENGINEERING CO.,LTD.</td>\n",
       "      <td>[CYLINDER, PORT, RELIEF, ENGINEERING, CO.,LTD.]</td>\n",
       "    </tr>\n",
       "    <tr>\n",
       "      <th>20516</th>\n",
       "      <td>SEAL KIT FOR CYLINDER PORT RELIEF ENGINEERING ...</td>\n",
       "      <td>[SEAL, KIT, FOR, CYLINDER, PORT, RELIEF, ENGIN...</td>\n",
       "    </tr>\n",
       "  </tbody>\n",
       "</table>\n",
       "<p>20517 rows × 2 columns</p>\n",
       "</div>"
      ],
      "text/plain": [
       "                                                  origin  \\\n",
       "0              SEAL-O-RING-STOR HAEIN Coporation_Cheonan   \n",
       "1            OIL COOLER & LINES HAEIN Coporation_Cheonan   \n",
       "2                        WASHER HAEIN Coporation_Cheonan   \n",
       "3                BOLT-HIGH TEMP HAEIN Coporation_Cheonan   \n",
       "4                          SEAL HAEIN Coporation_Cheonan   \n",
       "...                                                  ...   \n",
       "20512  HYD. CYLINDER_NET BOAT DAVIT MARINE HYDROTEC C...   \n",
       "20513  HYD. CYLINDER_N.D CRANE_BOOM_LIFTER MARINE HYD...   \n",
       "20514             PULLY PORT RELIEF ENGINEERING CO.,LTD.   \n",
       "20515         CYLINDER  PORT RELIEF ENGINEERING CO.,LTD.   \n",
       "20516  SEAL KIT FOR CYLINDER PORT RELIEF ENGINEERING ...   \n",
       "\n",
       "                                              split_desc  \n",
       "0          [SEAL-O-RING-STOR, HAEIN, Coporation_Cheonan]  \n",
       "1      [OIL, COOLER, &, LINES, HAEIN, Coporation_Cheo...  \n",
       "2                    [WASHER, HAEIN, Coporation_Cheonan]  \n",
       "3           [BOLT-HIGH, TEMP, HAEIN, Coporation_Cheonan]  \n",
       "4                      [SEAL, HAEIN, Coporation_Cheonan]  \n",
       "...                                                  ...  \n",
       "20512  [HYD., CYLINDER_NET, BOAT, DAVIT, MARINE, HYDR...  \n",
       "20513  [HYD., CYLINDER_N.D, CRANE_BOOM_LIFTER, MARINE...  \n",
       "20514       [PULLY, PORT, RELIEF, ENGINEERING, CO.,LTD.]  \n",
       "20515    [CYLINDER, PORT, RELIEF, ENGINEERING, CO.,LTD.]  \n",
       "20516  [SEAL, KIT, FOR, CYLINDER, PORT, RELIEF, ENGIN...  \n",
       "\n",
       "[20517 rows x 2 columns]"
      ]
     },
     "execution_count": 120,
     "metadata": {},
     "output_type": "execute_result"
    }
   ],
   "source": [
    "pre_desc"
   ]
  },
  {
   "cell_type": "code",
   "execution_count": 121,
   "id": "94b30cdb-7756-4f19-b5e2-604159b45139",
   "metadata": {},
   "outputs": [],
   "source": [
    "# 학습에 사용할 단어장\n",
    "tokenizer = tf.keras.preprocessing.text.Tokenizer()\n",
    "\n",
    "# Updates internal vocabulary based on a list of sequences.\n",
    "tokenizer.fit_on_texts(pre_desc['split_desc'])\n",
    "# print('tokenizer.index_docs', tokenizer.index_docs)\n",
    "# print('tokenizer.index_word', tokenizer.index_word)\n",
    "# print('tokenizer.word_index', tokenizer.word_index)\n",
    "# print('tokenizer.word_docs', tokenizer.word_docs)\n",
    "# print('tokenizer.word_counts', tokenizer.word_counts)\n",
    "# print('tokenizer.word_counts', sorted(tokenizer.word_counts.items(), key=lambda x: x[1], reverse=True))"
   ]
  },
  {
   "cell_type": "code",
   "execution_count": 122,
   "id": "8f1687a4-6600-4b01-b20b-d24ccdfe22b0",
   "metadata": {},
   "outputs": [],
   "source": [
    "# 단어장을 이용해 문장을 숫자로 변경\n",
    "encoded_text=tokenizer.texts_to_sequences(pre_desc['split_desc'])\n",
    "pre_desc['encode_desc'] = tokenizer.texts_to_sequences(pre_desc['split_desc'])"
   ]
  },
  {
   "cell_type": "code",
   "execution_count": 123,
   "id": "310421f4-33f6-45dc-b2a6-9449d266c445",
   "metadata": {},
   "outputs": [
    {
     "data": {
      "text/html": [
       "<div>\n",
       "<style scoped>\n",
       "    .dataframe tbody tr th:only-of-type {\n",
       "        vertical-align: middle;\n",
       "    }\n",
       "\n",
       "    .dataframe tbody tr th {\n",
       "        vertical-align: top;\n",
       "    }\n",
       "\n",
       "    .dataframe thead th {\n",
       "        text-align: right;\n",
       "    }\n",
       "</style>\n",
       "<table border=\"1\" class=\"dataframe\">\n",
       "  <thead>\n",
       "    <tr style=\"text-align: right;\">\n",
       "      <th></th>\n",
       "      <th>origin</th>\n",
       "      <th>split_desc</th>\n",
       "      <th>encode_desc</th>\n",
       "    </tr>\n",
       "  </thead>\n",
       "  <tbody>\n",
       "    <tr>\n",
       "      <th>0</th>\n",
       "      <td>SEAL-O-RING-STOR HAEIN Coporation_Cheonan</td>\n",
       "      <td>[SEAL-O-RING-STOR, HAEIN, Coporation_Cheonan]</td>\n",
       "      <td>[101, 1, 2]</td>\n",
       "    </tr>\n",
       "    <tr>\n",
       "      <th>1</th>\n",
       "      <td>OIL COOLER &amp; LINES HAEIN Coporation_Cheonan</td>\n",
       "      <td>[OIL, COOLER, &amp;, LINES, HAEIN, Coporation_Cheo...</td>\n",
       "      <td>[16, 99, 63, 126, 1, 2]</td>\n",
       "    </tr>\n",
       "    <tr>\n",
       "      <th>2</th>\n",
       "      <td>WASHER HAEIN Coporation_Cheonan</td>\n",
       "      <td>[WASHER, HAEIN, Coporation_Cheonan]</td>\n",
       "      <td>[53, 1, 2]</td>\n",
       "    </tr>\n",
       "    <tr>\n",
       "      <th>3</th>\n",
       "      <td>BOLT-HIGH TEMP HAEIN Coporation_Cheonan</td>\n",
       "      <td>[BOLT-HIGH, TEMP, HAEIN, Coporation_Cheonan]</td>\n",
       "      <td>[309, 182, 1, 2]</td>\n",
       "    </tr>\n",
       "    <tr>\n",
       "      <th>4</th>\n",
       "      <td>SEAL HAEIN Coporation_Cheonan</td>\n",
       "      <td>[SEAL, HAEIN, Coporation_Cheonan]</td>\n",
       "      <td>[14, 1, 2]</td>\n",
       "    </tr>\n",
       "    <tr>\n",
       "      <th>5</th>\n",
       "      <td>CORE CHARGES FOR CYLINDER PACK AS HAEIN Copora...</td>\n",
       "      <td>[CORE, CHARGES, FOR, CYLINDER, PACK, AS, HAEIN...</td>\n",
       "      <td>[28, 46, 24, 33, 92, 55, 1, 2]</td>\n",
       "    </tr>\n",
       "    <tr>\n",
       "      <th>6</th>\n",
       "      <td>PUMP GP-F TFR-REMAN HAEIN Coporation_Cheonan</td>\n",
       "      <td>[PUMP, GP-F, TFR-REMAN, HAEIN, Coporation_Cheo...</td>\n",
       "      <td>[18, 242, 1099, 1, 2]</td>\n",
       "    </tr>\n",
       "    <tr>\n",
       "      <th>7</th>\n",
       "      <td>GEAR-WTR PUMP DR HAEIN Coporation_Cheonan</td>\n",
       "      <td>[GEAR-WTR, PUMP, DR, HAEIN, Coporation_Cheonan]</td>\n",
       "      <td>[685, 18, 246, 1, 2]</td>\n",
       "    </tr>\n",
       "    <tr>\n",
       "      <th>8</th>\n",
       "      <td>GEAR-WTR PUMP DR HAEIN Coporation_Cheonan</td>\n",
       "      <td>[GEAR-WTR, PUMP, DR, HAEIN, Coporation_Cheonan]</td>\n",
       "      <td>[685, 18, 246, 1, 2]</td>\n",
       "    </tr>\n",
       "    <tr>\n",
       "      <th>9</th>\n",
       "      <td>GEAR-WTR PUMP DR HAEIN Coporation_Cheonan</td>\n",
       "      <td>[GEAR-WTR, PUMP, DR, HAEIN, Coporation_Cheonan]</td>\n",
       "      <td>[685, 18, 246, 1, 2]</td>\n",
       "    </tr>\n",
       "  </tbody>\n",
       "</table>\n",
       "</div>"
      ],
      "text/plain": [
       "                                              origin  \\\n",
       "0          SEAL-O-RING-STOR HAEIN Coporation_Cheonan   \n",
       "1        OIL COOLER & LINES HAEIN Coporation_Cheonan   \n",
       "2                    WASHER HAEIN Coporation_Cheonan   \n",
       "3            BOLT-HIGH TEMP HAEIN Coporation_Cheonan   \n",
       "4                      SEAL HAEIN Coporation_Cheonan   \n",
       "5  CORE CHARGES FOR CYLINDER PACK AS HAEIN Copora...   \n",
       "6       PUMP GP-F TFR-REMAN HAEIN Coporation_Cheonan   \n",
       "7          GEAR-WTR PUMP DR HAEIN Coporation_Cheonan   \n",
       "8          GEAR-WTR PUMP DR HAEIN Coporation_Cheonan   \n",
       "9          GEAR-WTR PUMP DR HAEIN Coporation_Cheonan   \n",
       "\n",
       "                                          split_desc  \\\n",
       "0      [SEAL-O-RING-STOR, HAEIN, Coporation_Cheonan]   \n",
       "1  [OIL, COOLER, &, LINES, HAEIN, Coporation_Cheo...   \n",
       "2                [WASHER, HAEIN, Coporation_Cheonan]   \n",
       "3       [BOLT-HIGH, TEMP, HAEIN, Coporation_Cheonan]   \n",
       "4                  [SEAL, HAEIN, Coporation_Cheonan]   \n",
       "5  [CORE, CHARGES, FOR, CYLINDER, PACK, AS, HAEIN...   \n",
       "6  [PUMP, GP-F, TFR-REMAN, HAEIN, Coporation_Cheo...   \n",
       "7    [GEAR-WTR, PUMP, DR, HAEIN, Coporation_Cheonan]   \n",
       "8    [GEAR-WTR, PUMP, DR, HAEIN, Coporation_Cheonan]   \n",
       "9    [GEAR-WTR, PUMP, DR, HAEIN, Coporation_Cheonan]   \n",
       "\n",
       "                      encode_desc  \n",
       "0                     [101, 1, 2]  \n",
       "1         [16, 99, 63, 126, 1, 2]  \n",
       "2                      [53, 1, 2]  \n",
       "3                [309, 182, 1, 2]  \n",
       "4                      [14, 1, 2]  \n",
       "5  [28, 46, 24, 33, 92, 55, 1, 2]  \n",
       "6           [18, 242, 1099, 1, 2]  \n",
       "7            [685, 18, 246, 1, 2]  \n",
       "8            [685, 18, 246, 1, 2]  \n",
       "9            [685, 18, 246, 1, 2]  "
      ]
     },
     "execution_count": 123,
     "metadata": {},
     "output_type": "execute_result"
    }
   ],
   "source": [
    "pre_desc.head(10)"
   ]
  },
  {
   "cell_type": "code",
   "execution_count": 124,
   "id": "0a6f345c-38fd-490f-9f94-3aea1e4bb042",
   "metadata": {},
   "outputs": [
    {
     "data": {
      "text/plain": [
       "(21, 4.7730174976848465)"
      ]
     },
     "execution_count": 124,
     "metadata": {},
     "output_type": "execute_result"
    }
   ],
   "source": [
    "len_list = pre_desc['encode_desc'].apply(lambda x: len(x))\n",
    "max(len_list), sum(len_list)/len(len_list)"
   ]
  },
  {
   "cell_type": "code",
   "execution_count": 125,
   "id": "bf381472-68b7-4f40-adec-2522175eef9e",
   "metadata": {},
   "outputs": [],
   "source": [
    "top_words = 1000\n",
    "max_len = 10\n",
    "vector_len = 30"
   ]
  },
  {
   "cell_type": "code",
   "execution_count": 126,
   "id": "4d5bd7d9-eb1c-4414-974d-e9828b8b50c4",
   "metadata": {},
   "outputs": [],
   "source": [
    "# OOV: Out-Of-Vocabulary\n",
    "# 사전에서 빈도수 높은 단어 1,000 개만 사용\n",
    "# 사전에 없는 단어 <OOV> 처리\n",
    "tokenizer2 = tf.keras.preprocessing.text.Tokenizer(num_words=top_words, oov_token='<OOV>')\n",
    "tokenizer2.fit_on_texts(pre_desc['split_desc'])\n",
    "# print('tokenizer2.index_docs', tokenizer2.index_docs)\n",
    "# print('tokenizer2.index_word', tokenizer2.index_word)\n",
    "# print('tokenizer2.word_index', tokenizer2.word_index)\n",
    "pre_desc['encode_desc_1000'] = tokenizer2.texts_to_sequences(pre_desc['split_desc'])"
   ]
  },
  {
   "cell_type": "code",
   "execution_count": 127,
   "id": "a23eb116-be1f-400c-9450-c00a85d0102a",
   "metadata": {},
   "outputs": [
    {
     "data": {
      "text/html": [
       "<div>\n",
       "<style scoped>\n",
       "    .dataframe tbody tr th:only-of-type {\n",
       "        vertical-align: middle;\n",
       "    }\n",
       "\n",
       "    .dataframe tbody tr th {\n",
       "        vertical-align: top;\n",
       "    }\n",
       "\n",
       "    .dataframe thead th {\n",
       "        text-align: right;\n",
       "    }\n",
       "</style>\n",
       "<table border=\"1\" class=\"dataframe\">\n",
       "  <thead>\n",
       "    <tr style=\"text-align: right;\">\n",
       "      <th></th>\n",
       "      <th>origin</th>\n",
       "      <th>split_desc</th>\n",
       "      <th>encode_desc</th>\n",
       "      <th>encode_desc_1000</th>\n",
       "    </tr>\n",
       "  </thead>\n",
       "  <tbody>\n",
       "    <tr>\n",
       "      <th>0</th>\n",
       "      <td>SEAL-O-RING-STOR HAEIN Coporation_Cheonan</td>\n",
       "      <td>[SEAL-O-RING-STOR, HAEIN, Coporation_Cheonan]</td>\n",
       "      <td>[101, 1, 2]</td>\n",
       "      <td>[102, 2, 3]</td>\n",
       "    </tr>\n",
       "    <tr>\n",
       "      <th>1</th>\n",
       "      <td>OIL COOLER &amp; LINES HAEIN Coporation_Cheonan</td>\n",
       "      <td>[OIL, COOLER, &amp;, LINES, HAEIN, Coporation_Cheo...</td>\n",
       "      <td>[16, 99, 63, 126, 1, 2]</td>\n",
       "      <td>[17, 100, 64, 127, 2, 3]</td>\n",
       "    </tr>\n",
       "    <tr>\n",
       "      <th>2</th>\n",
       "      <td>WASHER HAEIN Coporation_Cheonan</td>\n",
       "      <td>[WASHER, HAEIN, Coporation_Cheonan]</td>\n",
       "      <td>[53, 1, 2]</td>\n",
       "      <td>[54, 2, 3]</td>\n",
       "    </tr>\n",
       "    <tr>\n",
       "      <th>3</th>\n",
       "      <td>BOLT-HIGH TEMP HAEIN Coporation_Cheonan</td>\n",
       "      <td>[BOLT-HIGH, TEMP, HAEIN, Coporation_Cheonan]</td>\n",
       "      <td>[309, 182, 1, 2]</td>\n",
       "      <td>[310, 183, 2, 3]</td>\n",
       "    </tr>\n",
       "    <tr>\n",
       "      <th>4</th>\n",
       "      <td>SEAL HAEIN Coporation_Cheonan</td>\n",
       "      <td>[SEAL, HAEIN, Coporation_Cheonan]</td>\n",
       "      <td>[14, 1, 2]</td>\n",
       "      <td>[15, 2, 3]</td>\n",
       "    </tr>\n",
       "    <tr>\n",
       "      <th>5</th>\n",
       "      <td>CORE CHARGES FOR CYLINDER PACK AS HAEIN Copora...</td>\n",
       "      <td>[CORE, CHARGES, FOR, CYLINDER, PACK, AS, HAEIN...</td>\n",
       "      <td>[28, 46, 24, 33, 92, 55, 1, 2]</td>\n",
       "      <td>[29, 47, 25, 34, 93, 56, 2, 3]</td>\n",
       "    </tr>\n",
       "    <tr>\n",
       "      <th>6</th>\n",
       "      <td>PUMP GP-F TFR-REMAN HAEIN Coporation_Cheonan</td>\n",
       "      <td>[PUMP, GP-F, TFR-REMAN, HAEIN, Coporation_Cheo...</td>\n",
       "      <td>[18, 242, 1099, 1, 2]</td>\n",
       "      <td>[19, 243, 1, 2, 3]</td>\n",
       "    </tr>\n",
       "    <tr>\n",
       "      <th>7</th>\n",
       "      <td>GEAR-WTR PUMP DR HAEIN Coporation_Cheonan</td>\n",
       "      <td>[GEAR-WTR, PUMP, DR, HAEIN, Coporation_Cheonan]</td>\n",
       "      <td>[685, 18, 246, 1, 2]</td>\n",
       "      <td>[686, 19, 247, 2, 3]</td>\n",
       "    </tr>\n",
       "    <tr>\n",
       "      <th>8</th>\n",
       "      <td>GEAR-WTR PUMP DR HAEIN Coporation_Cheonan</td>\n",
       "      <td>[GEAR-WTR, PUMP, DR, HAEIN, Coporation_Cheonan]</td>\n",
       "      <td>[685, 18, 246, 1, 2]</td>\n",
       "      <td>[686, 19, 247, 2, 3]</td>\n",
       "    </tr>\n",
       "    <tr>\n",
       "      <th>9</th>\n",
       "      <td>GEAR-WTR PUMP DR HAEIN Coporation_Cheonan</td>\n",
       "      <td>[GEAR-WTR, PUMP, DR, HAEIN, Coporation_Cheonan]</td>\n",
       "      <td>[685, 18, 246, 1, 2]</td>\n",
       "      <td>[686, 19, 247, 2, 3]</td>\n",
       "    </tr>\n",
       "  </tbody>\n",
       "</table>\n",
       "</div>"
      ],
      "text/plain": [
       "                                              origin  \\\n",
       "0          SEAL-O-RING-STOR HAEIN Coporation_Cheonan   \n",
       "1        OIL COOLER & LINES HAEIN Coporation_Cheonan   \n",
       "2                    WASHER HAEIN Coporation_Cheonan   \n",
       "3            BOLT-HIGH TEMP HAEIN Coporation_Cheonan   \n",
       "4                      SEAL HAEIN Coporation_Cheonan   \n",
       "5  CORE CHARGES FOR CYLINDER PACK AS HAEIN Copora...   \n",
       "6       PUMP GP-F TFR-REMAN HAEIN Coporation_Cheonan   \n",
       "7          GEAR-WTR PUMP DR HAEIN Coporation_Cheonan   \n",
       "8          GEAR-WTR PUMP DR HAEIN Coporation_Cheonan   \n",
       "9          GEAR-WTR PUMP DR HAEIN Coporation_Cheonan   \n",
       "\n",
       "                                          split_desc  \\\n",
       "0      [SEAL-O-RING-STOR, HAEIN, Coporation_Cheonan]   \n",
       "1  [OIL, COOLER, &, LINES, HAEIN, Coporation_Cheo...   \n",
       "2                [WASHER, HAEIN, Coporation_Cheonan]   \n",
       "3       [BOLT-HIGH, TEMP, HAEIN, Coporation_Cheonan]   \n",
       "4                  [SEAL, HAEIN, Coporation_Cheonan]   \n",
       "5  [CORE, CHARGES, FOR, CYLINDER, PACK, AS, HAEIN...   \n",
       "6  [PUMP, GP-F, TFR-REMAN, HAEIN, Coporation_Cheo...   \n",
       "7    [GEAR-WTR, PUMP, DR, HAEIN, Coporation_Cheonan]   \n",
       "8    [GEAR-WTR, PUMP, DR, HAEIN, Coporation_Cheonan]   \n",
       "9    [GEAR-WTR, PUMP, DR, HAEIN, Coporation_Cheonan]   \n",
       "\n",
       "                      encode_desc                encode_desc_1000  \n",
       "0                     [101, 1, 2]                     [102, 2, 3]  \n",
       "1         [16, 99, 63, 126, 1, 2]        [17, 100, 64, 127, 2, 3]  \n",
       "2                      [53, 1, 2]                      [54, 2, 3]  \n",
       "3                [309, 182, 1, 2]                [310, 183, 2, 3]  \n",
       "4                      [14, 1, 2]                      [15, 2, 3]  \n",
       "5  [28, 46, 24, 33, 92, 55, 1, 2]  [29, 47, 25, 34, 93, 56, 2, 3]  \n",
       "6           [18, 242, 1099, 1, 2]              [19, 243, 1, 2, 3]  \n",
       "7            [685, 18, 246, 1, 2]            [686, 19, 247, 2, 3]  \n",
       "8            [685, 18, 246, 1, 2]            [686, 19, 247, 2, 3]  \n",
       "9            [685, 18, 246, 1, 2]            [686, 19, 247, 2, 3]  "
      ]
     },
     "execution_count": 127,
     "metadata": {},
     "output_type": "execute_result"
    }
   ],
   "source": [
    "pre_desc.head(10)"
   ]
  },
  {
   "cell_type": "code",
   "execution_count": 128,
   "id": "48d9f8c7-50af-4e96-9619-4acb56b325f0",
   "metadata": {},
   "outputs": [],
   "source": [
    "# 문장의 길이가 다르므로 일치\n",
    "encode_desc_padding = tf.keras.preprocessing.sequence.pad_sequences(pre_desc['encode_desc_1000'], maxlen=max_len)"
   ]
  },
  {
   "cell_type": "code",
   "execution_count": 129,
   "id": "d764abf4-8585-4157-b484-260803b9cf70",
   "metadata": {},
   "outputs": [
    {
     "data": {
      "text/plain": [
       "(20517, 10)"
      ]
     },
     "execution_count": 129,
     "metadata": {},
     "output_type": "execute_result"
    }
   ],
   "source": [
    "encode_desc_padding.shape"
   ]
  },
  {
   "cell_type": "code",
   "execution_count": 130,
   "id": "6283b580-82dd-4849-a0eb-00c9985b57b8",
   "metadata": {},
   "outputs": [
    {
     "data": {
      "text/plain": [
       "array([[  0,   0,   0,   0,   0,   0,   0, 102,   2,   3],\n",
       "       [  0,   0,   0,   0,  17, 100,  64, 127,   2,   3],\n",
       "       [  0,   0,   0,   0,   0,   0,   0,  54,   2,   3],\n",
       "       [  0,   0,   0,   0,   0,   0, 310, 183,   2,   3],\n",
       "       [  0,   0,   0,   0,   0,   0,   0,  15,   2,   3]])"
      ]
     },
     "execution_count": 130,
     "metadata": {},
     "output_type": "execute_result"
    }
   ],
   "source": [
    "encode_desc_padding[:5]"
   ]
  },
  {
   "cell_type": "code",
   "execution_count": 131,
   "id": "b176b518-ce2f-4d85-96d4-8c865b9a7c14",
   "metadata": {},
   "outputs": [
    {
     "data": {
      "text/plain": [
       "TensorShape([20517, 10, 30])"
      ]
     },
     "execution_count": 131,
     "metadata": {},
     "output_type": "execute_result"
    }
   ],
   "source": [
    "embedding = tf.keras.layers.Embedding(input_dim =top_words, output_dim=vector_len)(encode_desc_padding)\n",
    "embedding.shape"
   ]
  },
  {
   "cell_type": "markdown",
   "id": "6b8cb9bf-e718-4104-a5c0-95cc611094ef",
   "metadata": {},
   "source": [
    "## Make a Dataset with Embedding"
   ]
  },
  {
   "cell_type": "code",
   "execution_count": 188,
   "id": "e1819004-9e56-4450-831d-778cc2dd5940",
   "metadata": {},
   "outputs": [],
   "source": [
    "df['desc'] = pre_desc['origin']"
   ]
  },
  {
   "cell_type": "code",
   "execution_count": 189,
   "id": "aaa75933-2fa8-4366-8c8d-d53b612ec527",
   "metadata": {},
   "outputs": [
    {
     "data": {
      "text/html": [
       "<div>\n",
       "<style scoped>\n",
       "    .dataframe tbody tr th:only-of-type {\n",
       "        vertical-align: middle;\n",
       "    }\n",
       "\n",
       "    .dataframe tbody tr th {\n",
       "        vertical-align: top;\n",
       "    }\n",
       "\n",
       "    .dataframe thead th {\n",
       "        text-align: right;\n",
       "    }\n",
       "</style>\n",
       "<table border=\"1\" class=\"dataframe\">\n",
       "  <thead>\n",
       "    <tr style=\"text-align: right;\">\n",
       "      <th></th>\n",
       "      <th>Machinery</th>\n",
       "      <th>청구품목</th>\n",
       "      <th>Part No.1</th>\n",
       "      <th>Part No.2</th>\n",
       "      <th>발주처</th>\n",
       "      <th>key2_encoded</th>\n",
       "      <th>desc</th>\n",
       "    </tr>\n",
       "  </thead>\n",
       "  <tbody>\n",
       "    <tr>\n",
       "      <th>0</th>\n",
       "      <td>NO.1 GENERATOR ENGINE</td>\n",
       "      <td>SEAL-O-RING-STOR</td>\n",
       "      <td>7.00E-275</td>\n",
       "      <td>0</td>\n",
       "      <td>HAEIN Coporation_Cheonan</td>\n",
       "      <td>18</td>\n",
       "      <td>SEAL-O-RING-STOR HAEIN Coporation_Cheonan</td>\n",
       "    </tr>\n",
       "    <tr>\n",
       "      <th>1</th>\n",
       "      <td>NO.2 GENERATOR ENGINE</td>\n",
       "      <td>OIL COOLER &amp; LINES</td>\n",
       "      <td>7.00E-275</td>\n",
       "      <td>0</td>\n",
       "      <td>HAEIN Coporation_Cheonan</td>\n",
       "      <td>18</td>\n",
       "      <td>OIL COOLER &amp; LINES HAEIN Coporation_Cheonan</td>\n",
       "    </tr>\n",
       "    <tr>\n",
       "      <th>2</th>\n",
       "      <td>NO.2 GENERATOR ENGINE</td>\n",
       "      <td>WASHER</td>\n",
       "      <td>7.00E-275</td>\n",
       "      <td>0</td>\n",
       "      <td>HAEIN Coporation_Cheonan</td>\n",
       "      <td>18</td>\n",
       "      <td>WASHER HAEIN Coporation_Cheonan</td>\n",
       "    </tr>\n",
       "    <tr>\n",
       "      <th>3</th>\n",
       "      <td>NO.1 GENERATOR ENGINE</td>\n",
       "      <td>BOLT-HIGH TEMP</td>\n",
       "      <td>7.00E-275</td>\n",
       "      <td>0</td>\n",
       "      <td>HAEIN Coporation_Cheonan</td>\n",
       "      <td>18</td>\n",
       "      <td>BOLT-HIGH TEMP HAEIN Coporation_Cheonan</td>\n",
       "    </tr>\n",
       "    <tr>\n",
       "      <th>4</th>\n",
       "      <td>NO.1 GENERATOR ENGINE</td>\n",
       "      <td>SEAL</td>\n",
       "      <td>7.00E-275</td>\n",
       "      <td>0</td>\n",
       "      <td>HAEIN Coporation_Cheonan</td>\n",
       "      <td>18</td>\n",
       "      <td>SEAL HAEIN Coporation_Cheonan</td>\n",
       "    </tr>\n",
       "    <tr>\n",
       "      <th>...</th>\n",
       "      <td>...</td>\n",
       "      <td>...</td>\n",
       "      <td>...</td>\n",
       "      <td>...</td>\n",
       "      <td>...</td>\n",
       "      <td>...</td>\n",
       "      <td>...</td>\n",
       "    </tr>\n",
       "    <tr>\n",
       "      <th>20512</th>\n",
       "      <td>HYD. SYSTEM</td>\n",
       "      <td>HYD. CYLINDER_NET BOAT DAVIT</td>\n",
       "      <td>φ150 × φ85 × 695st</td>\n",
       "      <td>FF-SE-1CB150BB695ABD-YP2J</td>\n",
       "      <td>MARINE HYDROTEC CO.,LTD.</td>\n",
       "      <td>20</td>\n",
       "      <td>HYD. CYLINDER_NET BOAT DAVIT MARINE HYDROTEC C...</td>\n",
       "    </tr>\n",
       "    <tr>\n",
       "      <th>20513</th>\n",
       "      <td>HYD. SYSTEM</td>\n",
       "      <td>HYD. CYLINDER_N.D CRANE_BOOM_LIFTER</td>\n",
       "      <td>φ160 × φ112 × 1130st</td>\n",
       "      <td>S-2CA160A20.6N1130-1</td>\n",
       "      <td>MARINE HYDROTEC CO.,LTD.</td>\n",
       "      <td>20</td>\n",
       "      <td>HYD. CYLINDER_N.D CRANE_BOOM_LIFTER MARINE HYD...</td>\n",
       "    </tr>\n",
       "    <tr>\n",
       "      <th>20514</th>\n",
       "      <td>6M NET BOAT</td>\n",
       "      <td>PULLY</td>\n",
       "      <td>Φ305X5V-3</td>\n",
       "      <td>0</td>\n",
       "      <td>PORT RELIEF ENGINEERING CO.,LTD.</td>\n",
       "      <td>5</td>\n",
       "      <td>PULLY PORT RELIEF ENGINEERING CO.,LTD.</td>\n",
       "    </tr>\n",
       "    <tr>\n",
       "      <th>20515</th>\n",
       "      <td>7M NET BOAT</td>\n",
       "      <td>CYLINDER</td>\n",
       "      <td>Φ50 x S195 CYLINDER</td>\n",
       "      <td>0</td>\n",
       "      <td>PORT RELIEF ENGINEERING CO.,LTD.</td>\n",
       "      <td>20</td>\n",
       "      <td>CYLINDER  PORT RELIEF ENGINEERING CO.,LTD.</td>\n",
       "    </tr>\n",
       "    <tr>\n",
       "      <th>20516</th>\n",
       "      <td>7M NET BOAT</td>\n",
       "      <td>SEAL KIT FOR CYLINDER</td>\n",
       "      <td>Φ50 x S195 CYLINDER SEAL KIT</td>\n",
       "      <td>0</td>\n",
       "      <td>PORT RELIEF ENGINEERING CO.,LTD.</td>\n",
       "      <td>20</td>\n",
       "      <td>SEAL KIT FOR CYLINDER PORT RELIEF ENGINEERING ...</td>\n",
       "    </tr>\n",
       "  </tbody>\n",
       "</table>\n",
       "<p>20517 rows × 7 columns</p>\n",
       "</div>"
      ],
      "text/plain": [
       "                   Machinery                                 청구품목  \\\n",
       "0      NO.1 GENERATOR ENGINE                     SEAL-O-RING-STOR   \n",
       "1      NO.2 GENERATOR ENGINE                   OIL COOLER & LINES   \n",
       "2      NO.2 GENERATOR ENGINE                               WASHER   \n",
       "3      NO.1 GENERATOR ENGINE                       BOLT-HIGH TEMP   \n",
       "4      NO.1 GENERATOR ENGINE                                 SEAL   \n",
       "...                      ...                                  ...   \n",
       "20512            HYD. SYSTEM         HYD. CYLINDER_NET BOAT DAVIT   \n",
       "20513            HYD. SYSTEM  HYD. CYLINDER_N.D CRANE_BOOM_LIFTER   \n",
       "20514            6M NET BOAT                                PULLY   \n",
       "20515            7M NET BOAT                            CYLINDER    \n",
       "20516            7M NET BOAT                SEAL KIT FOR CYLINDER   \n",
       "\n",
       "                          Part No.1                  Part No.2  \\\n",
       "0                         7.00E-275                          0   \n",
       "1                         7.00E-275                          0   \n",
       "2                         7.00E-275                          0   \n",
       "3                         7.00E-275                          0   \n",
       "4                         7.00E-275                          0   \n",
       "...                             ...                        ...   \n",
       "20512            φ150 × φ85 × 695st  FF-SE-1CB150BB695ABD-YP2J   \n",
       "20513          φ160 × φ112 × 1130st       S-2CA160A20.6N1130-1   \n",
       "20514                     Φ305X5V-3                          0   \n",
       "20515           Φ50 x S195 CYLINDER                          0   \n",
       "20516  Φ50 x S195 CYLINDER SEAL KIT                          0   \n",
       "\n",
       "                                    발주처  key2_encoded  \\\n",
       "0              HAEIN Coporation_Cheonan            18   \n",
       "1              HAEIN Coporation_Cheonan            18   \n",
       "2              HAEIN Coporation_Cheonan            18   \n",
       "3              HAEIN Coporation_Cheonan            18   \n",
       "4              HAEIN Coporation_Cheonan            18   \n",
       "...                                 ...           ...   \n",
       "20512          MARINE HYDROTEC CO.,LTD.            20   \n",
       "20513          MARINE HYDROTEC CO.,LTD.            20   \n",
       "20514  PORT RELIEF ENGINEERING CO.,LTD.             5   \n",
       "20515  PORT RELIEF ENGINEERING CO.,LTD.            20   \n",
       "20516  PORT RELIEF ENGINEERING CO.,LTD.            20   \n",
       "\n",
       "                                                    desc  \n",
       "0              SEAL-O-RING-STOR HAEIN Coporation_Cheonan  \n",
       "1            OIL COOLER & LINES HAEIN Coporation_Cheonan  \n",
       "2                        WASHER HAEIN Coporation_Cheonan  \n",
       "3                BOLT-HIGH TEMP HAEIN Coporation_Cheonan  \n",
       "4                          SEAL HAEIN Coporation_Cheonan  \n",
       "...                                                  ...  \n",
       "20512  HYD. CYLINDER_NET BOAT DAVIT MARINE HYDROTEC C...  \n",
       "20513  HYD. CYLINDER_N.D CRANE_BOOM_LIFTER MARINE HYD...  \n",
       "20514             PULLY PORT RELIEF ENGINEERING CO.,LTD.  \n",
       "20515         CYLINDER  PORT RELIEF ENGINEERING CO.,LTD.  \n",
       "20516  SEAL KIT FOR CYLINDER PORT RELIEF ENGINEERING ...  \n",
       "\n",
       "[20517 rows x 7 columns]"
      ]
     },
     "execution_count": 189,
     "metadata": {},
     "output_type": "execute_result"
    }
   ],
   "source": [
    "df"
   ]
  },
  {
   "cell_type": "code",
   "execution_count": 190,
   "id": "6302f3d9-9da1-42c7-86fe-eab6245dd01e",
   "metadata": {},
   "outputs": [],
   "source": [
    "df = df.drop(['청구품목','발주처' ] , axis=1)"
   ]
  },
  {
   "cell_type": "code",
   "execution_count": 191,
   "id": "41f7dc85-ca98-4ba2-ae02-987b15b726cc",
   "metadata": {},
   "outputs": [
    {
     "data": {
      "text/html": [
       "<div>\n",
       "<style scoped>\n",
       "    .dataframe tbody tr th:only-of-type {\n",
       "        vertical-align: middle;\n",
       "    }\n",
       "\n",
       "    .dataframe tbody tr th {\n",
       "        vertical-align: top;\n",
       "    }\n",
       "\n",
       "    .dataframe thead th {\n",
       "        text-align: right;\n",
       "    }\n",
       "</style>\n",
       "<table border=\"1\" class=\"dataframe\">\n",
       "  <thead>\n",
       "    <tr style=\"text-align: right;\">\n",
       "      <th></th>\n",
       "      <th>Machinery</th>\n",
       "      <th>Part No.1</th>\n",
       "      <th>Part No.2</th>\n",
       "      <th>key2_encoded</th>\n",
       "      <th>desc</th>\n",
       "    </tr>\n",
       "  </thead>\n",
       "  <tbody>\n",
       "    <tr>\n",
       "      <th>0</th>\n",
       "      <td>NO.1 GENERATOR ENGINE</td>\n",
       "      <td>7.00E-275</td>\n",
       "      <td>0</td>\n",
       "      <td>18</td>\n",
       "      <td>SEAL-O-RING-STOR HAEIN Coporation_Cheonan</td>\n",
       "    </tr>\n",
       "    <tr>\n",
       "      <th>1</th>\n",
       "      <td>NO.2 GENERATOR ENGINE</td>\n",
       "      <td>7.00E-275</td>\n",
       "      <td>0</td>\n",
       "      <td>18</td>\n",
       "      <td>OIL COOLER &amp; LINES HAEIN Coporation_Cheonan</td>\n",
       "    </tr>\n",
       "    <tr>\n",
       "      <th>2</th>\n",
       "      <td>NO.2 GENERATOR ENGINE</td>\n",
       "      <td>7.00E-275</td>\n",
       "      <td>0</td>\n",
       "      <td>18</td>\n",
       "      <td>WASHER HAEIN Coporation_Cheonan</td>\n",
       "    </tr>\n",
       "    <tr>\n",
       "      <th>3</th>\n",
       "      <td>NO.1 GENERATOR ENGINE</td>\n",
       "      <td>7.00E-275</td>\n",
       "      <td>0</td>\n",
       "      <td>18</td>\n",
       "      <td>BOLT-HIGH TEMP HAEIN Coporation_Cheonan</td>\n",
       "    </tr>\n",
       "    <tr>\n",
       "      <th>4</th>\n",
       "      <td>NO.1 GENERATOR ENGINE</td>\n",
       "      <td>7.00E-275</td>\n",
       "      <td>0</td>\n",
       "      <td>18</td>\n",
       "      <td>SEAL HAEIN Coporation_Cheonan</td>\n",
       "    </tr>\n",
       "    <tr>\n",
       "      <th>...</th>\n",
       "      <td>...</td>\n",
       "      <td>...</td>\n",
       "      <td>...</td>\n",
       "      <td>...</td>\n",
       "      <td>...</td>\n",
       "    </tr>\n",
       "    <tr>\n",
       "      <th>20512</th>\n",
       "      <td>HYD. SYSTEM</td>\n",
       "      <td>φ150 × φ85 × 695st</td>\n",
       "      <td>FF-SE-1CB150BB695ABD-YP2J</td>\n",
       "      <td>20</td>\n",
       "      <td>HYD. CYLINDER_NET BOAT DAVIT MARINE HYDROTEC C...</td>\n",
       "    </tr>\n",
       "    <tr>\n",
       "      <th>20513</th>\n",
       "      <td>HYD. SYSTEM</td>\n",
       "      <td>φ160 × φ112 × 1130st</td>\n",
       "      <td>S-2CA160A20.6N1130-1</td>\n",
       "      <td>20</td>\n",
       "      <td>HYD. CYLINDER_N.D CRANE_BOOM_LIFTER MARINE HYD...</td>\n",
       "    </tr>\n",
       "    <tr>\n",
       "      <th>20514</th>\n",
       "      <td>6M NET BOAT</td>\n",
       "      <td>Φ305X5V-3</td>\n",
       "      <td>0</td>\n",
       "      <td>5</td>\n",
       "      <td>PULLY PORT RELIEF ENGINEERING CO.,LTD.</td>\n",
       "    </tr>\n",
       "    <tr>\n",
       "      <th>20515</th>\n",
       "      <td>7M NET BOAT</td>\n",
       "      <td>Φ50 x S195 CYLINDER</td>\n",
       "      <td>0</td>\n",
       "      <td>20</td>\n",
       "      <td>CYLINDER  PORT RELIEF ENGINEERING CO.,LTD.</td>\n",
       "    </tr>\n",
       "    <tr>\n",
       "      <th>20516</th>\n",
       "      <td>7M NET BOAT</td>\n",
       "      <td>Φ50 x S195 CYLINDER SEAL KIT</td>\n",
       "      <td>0</td>\n",
       "      <td>20</td>\n",
       "      <td>SEAL KIT FOR CYLINDER PORT RELIEF ENGINEERING ...</td>\n",
       "    </tr>\n",
       "  </tbody>\n",
       "</table>\n",
       "<p>20517 rows × 5 columns</p>\n",
       "</div>"
      ],
      "text/plain": [
       "                   Machinery                     Part No.1  \\\n",
       "0      NO.1 GENERATOR ENGINE                     7.00E-275   \n",
       "1      NO.2 GENERATOR ENGINE                     7.00E-275   \n",
       "2      NO.2 GENERATOR ENGINE                     7.00E-275   \n",
       "3      NO.1 GENERATOR ENGINE                     7.00E-275   \n",
       "4      NO.1 GENERATOR ENGINE                     7.00E-275   \n",
       "...                      ...                           ...   \n",
       "20512            HYD. SYSTEM            φ150 × φ85 × 695st   \n",
       "20513            HYD. SYSTEM          φ160 × φ112 × 1130st   \n",
       "20514            6M NET BOAT                     Φ305X5V-3   \n",
       "20515            7M NET BOAT           Φ50 x S195 CYLINDER   \n",
       "20516            7M NET BOAT  Φ50 x S195 CYLINDER SEAL KIT   \n",
       "\n",
       "                       Part No.2  key2_encoded  \\\n",
       "0                              0            18   \n",
       "1                              0            18   \n",
       "2                              0            18   \n",
       "3                              0            18   \n",
       "4                              0            18   \n",
       "...                          ...           ...   \n",
       "20512  FF-SE-1CB150BB695ABD-YP2J            20   \n",
       "20513       S-2CA160A20.6N1130-1            20   \n",
       "20514                          0             5   \n",
       "20515                          0            20   \n",
       "20516                          0            20   \n",
       "\n",
       "                                                    desc  \n",
       "0              SEAL-O-RING-STOR HAEIN Coporation_Cheonan  \n",
       "1            OIL COOLER & LINES HAEIN Coporation_Cheonan  \n",
       "2                        WASHER HAEIN Coporation_Cheonan  \n",
       "3                BOLT-HIGH TEMP HAEIN Coporation_Cheonan  \n",
       "4                          SEAL HAEIN Coporation_Cheonan  \n",
       "...                                                  ...  \n",
       "20512  HYD. CYLINDER_NET BOAT DAVIT MARINE HYDROTEC C...  \n",
       "20513  HYD. CYLINDER_N.D CRANE_BOOM_LIFTER MARINE HYD...  \n",
       "20514             PULLY PORT RELIEF ENGINEERING CO.,LTD.  \n",
       "20515         CYLINDER  PORT RELIEF ENGINEERING CO.,LTD.  \n",
       "20516  SEAL KIT FOR CYLINDER PORT RELIEF ENGINEERING ...  \n",
       "\n",
       "[20517 rows x 5 columns]"
      ]
     },
     "execution_count": 191,
     "metadata": {},
     "output_type": "execute_result"
    }
   ],
   "source": [
    "df #= df.drop(['key2_encoded' ] , axis=1)"
   ]
  },
  {
   "cell_type": "code",
   "execution_count": 192,
   "id": "786a3510-8ea2-42d8-81ca-d54747461801",
   "metadata": {},
   "outputs": [],
   "source": [
    "def df_to_dataset(dataframe, shuffle=True, batch_size=32):\n",
    "  df = dataframe.copy()\n",
    "  labels = df.pop('key2_encoded')\n",
    "  # df = {key: value[:,tf.newaxis] for key, value in dataframe.items()}\n",
    "  df = {key: np.expand_dims(value, axis=1) for key, value in df.items()}  # np.expand_dims를 사용하여 NumPy 배열로 변환\n",
    "  ds = tf.data.Dataset.from_tensor_slices((dict(df), labels))\n",
    "  if shuffle:\n",
    "    ds = ds.shuffle(buffer_size=len(dataframe))\n",
    "  ds = ds.batch(batch_size)\n",
    "  ds = ds.prefetch(batch_size)\n",
    "  return ds"
   ]
  },
  {
   "cell_type": "code",
   "execution_count": 193,
   "id": "a67566da-566d-4754-991a-32cbd3bef65a",
   "metadata": {},
   "outputs": [],
   "source": [
    "batch_size = 5\n",
    "all_dataset = df_to_dataset(df, batch_size=batch_size)"
   ]
  },
  {
   "cell_type": "code",
   "execution_count": 194,
   "id": "2dd372a1-90d7-4f15-945c-327c2c6ffd95",
   "metadata": {},
   "outputs": [
    {
     "name": "stdout",
     "output_type": "stream",
     "text": [
      "Every feature: ['Machinery', 'Part No.1', 'Part No.2', 'desc']\n",
      "A batch of Machinery: tf.Tensor(\n",
      "[[b'MAIN ENGINE']\n",
      " [b'LUB. OIL']\n",
      " [b'RING WINCH']\n",
      " [b'MAIN ENGINE']\n",
      " [b'MAIN BOOM PORT VANG WINCH ']], shape=(5, 1), dtype=string)\n",
      "A batch of targets: tf.Tensor([ 8 34  5 11 24], shape=(5,), dtype=int32)\n"
     ]
    }
   ],
   "source": [
    "[(train_features, label_batch)] = all_dataset.take(1)\n",
    "print('Every feature:', list(train_features.keys()))\n",
    "print('A batch of Machinery:', train_features['Machinery'])\n",
    "print('A batch of targets:', label_batch )"
   ]
  },
  {
   "cell_type": "code",
   "execution_count": 150,
   "id": "f92c6693-3712-494d-aafa-4874f4f5e354",
   "metadata": {},
   "outputs": [],
   "source": [
    "# all_dataset"
   ]
  },
  {
   "cell_type": "code",
   "execution_count": 141,
   "id": "09d92759-ca79-4c67-816d-7fced825e8ae",
   "metadata": {},
   "outputs": [],
   "source": [
    "all_inputs = []\n",
    "encoded_features = []"
   ]
  },
  {
   "cell_type": "code",
   "execution_count": 142,
   "id": "3728cb4a-a93c-4b14-be14-16a547ef4333",
   "metadata": {},
   "outputs": [],
   "source": [
    "def get_category_encoding_layer(name, dataset, dtype, max_tokens=None):\n",
    "  # Create a layer that turns strings into integer indices.\n",
    "  if dtype == 'string':\n",
    "    index = layers.StringLookup(max_tokens=max_tokens)\n",
    "  # Otherwise, create a layer that turns integer values into integer indices.\n",
    "  else:\n",
    "    index = layers.IntegerLookup(max_tokens=max_tokens)\n",
    "\n",
    "  # Prepare a `tf.data.Dataset` that only yields the feature.\n",
    "  feature_ds = dataset.map(lambda x, y: x[name])\n",
    "\n",
    "  # Learn the set of possible values and assign them a fixed integer index.\n",
    "  index.adapt(feature_ds)\n",
    "\n",
    "  # Encode the integer indices.\n",
    "  encoder = layers.CategoryEncoding(num_tokens=index.vocabulary_size())\n",
    "\n",
    "  # Apply multi-hot encoding to the indices. The lambda function captures the\n",
    "  # layer, so you can use them, or include them in the Keras Functional model later.\n",
    "  return lambda feature: encoder(index(feature))"
   ]
  },
  {
   "cell_type": "code",
   "execution_count": 143,
   "id": "b90b7e85-b96a-4cea-bdfc-3ea1da1024a4",
   "metadata": {},
   "outputs": [],
   "source": [
    "categorical_cols = ['Machinery', 'Part No.1', 'Part No.2']\n",
    "\n",
    "for header in categorical_cols:\n",
    "  categorical_col = tf.keras.Input(shape=(1,), name=header, dtype='string')\n",
    "  encoding_layer = get_category_encoding_layer(name=header,\n",
    "                                               dataset=all_dataset,\n",
    "                                               dtype='string')\n",
    "  encoded_categorical_col = encoding_layer(categorical_col)\n",
    "  all_inputs.append(categorical_col)\n",
    "  encoded_features.append(encoded_categorical_col)"
   ]
  },
  {
   "cell_type": "code",
   "execution_count": 144,
   "id": "90d212ca-b2ae-4f1c-b394-df0d087ec973",
   "metadata": {},
   "outputs": [
    {
     "name": "stdout",
     "output_type": "stream",
     "text": [
      "<class 'keras.engine.keras_tensor.KerasTensor'> (None, 1)\n",
      "<class 'keras.engine.keras_tensor.KerasTensor'> (None, 1)\n",
      "<class 'keras.engine.keras_tensor.KerasTensor'> (None, 1)\n"
     ]
    }
   ],
   "source": [
    "for d in all_inputs:\n",
    "  print(type(d), d.shape)"
   ]
  },
  {
   "cell_type": "code",
   "execution_count": 145,
   "id": "ed18a450-a75e-43c1-9d7c-55af204e9d42",
   "metadata": {},
   "outputs": [
    {
     "name": "stdout",
     "output_type": "stream",
     "text": [
      "<class 'keras.engine.keras_tensor.KerasTensor'> (None, 175)\n",
      "<class 'keras.engine.keras_tensor.KerasTensor'> (None, 8129)\n",
      "<class 'keras.engine.keras_tensor.KerasTensor'> (None, 1284)\n"
     ]
    }
   ],
   "source": [
    "for d in encoded_features:\n",
    "  print(type(d), d.shape)"
   ]
  },
  {
   "cell_type": "code",
   "execution_count": 146,
   "id": "30e59abc-9307-4bee-8a14-e378df65acfd",
   "metadata": {},
   "outputs": [
    {
     "data": {
      "text/plain": [
       "numpy.ndarray"
      ]
     },
     "execution_count": 146,
     "metadata": {},
     "output_type": "execute_result"
    }
   ],
   "source": [
    "type(encode_desc_padding)"
   ]
  },
  {
   "cell_type": "code",
   "execution_count": 147,
   "id": "51b40f85-c565-4c49-b0c7-0ec3f9679b74",
   "metadata": {},
   "outputs": [],
   "source": [
    "def df_to_dataset(data, shuffle=True, batch_size=32):\n",
    "  ds = tf.data.Dataset.from_tensor_slices({'desc': data})\n",
    "  if shuffle:\n",
    "    ds = ds.shuffle(buffer_size=len(data))\n",
    "  ds = ds.batch(batch_size)\n",
    "  ds = ds.prefetch(batch_size)\n",
    "  return ds"
   ]
  },
  {
   "cell_type": "code",
   "execution_count": 148,
   "id": "522e2073-3167-46fa-b457-1eb9a2b3bf85",
   "metadata": {},
   "outputs": [],
   "source": [
    "embedding_dataset = df_to_dataset(encode_desc_padding, batch_size=batch_size)"
   ]
  },
  {
   "cell_type": "code",
   "execution_count": 149,
   "id": "afb444ff-e7d0-4b4d-87c7-6299a3b1e533",
   "metadata": {},
   "outputs": [
    {
     "name": "stdout",
     "output_type": "stream",
     "text": [
      "{'desc': <tf.Tensor: shape=(5, 10), dtype=int32, numpy=\n",
      "array([[  0,   0,   0,   0,   0,   0,   0,   1,   2,   3],\n",
      "       [  0,   0,   0,   0,   1, 229, 271,  43,   4,   5],\n",
      "       [  0,   0,   0,   0,   0,   0,   0, 229,   7,   6],\n",
      "       [  0,   0,   0,   0,   0,   0,   0,  22,   1, 112],\n",
      "       [  0,   0,   0,   0,  41,  19,  11,  10,   9,   8]])>}\n"
     ]
    }
   ],
   "source": [
    "for batch in embedding_dataset.take(1):\n",
    "  print(batch)"
   ]
  },
  {
   "cell_type": "code",
   "execution_count": 150,
   "id": "80619688-4da6-4a4b-aef4-aae368912227",
   "metadata": {},
   "outputs": [],
   "source": [
    "def get_category_encoding_layer(name, dataset, dtype, max_tokens=None):\n",
    "  # Create a layer that turns strings into integer indices.\n",
    "  if dtype == 'string':\n",
    "    index = layers.StringLookup(max_tokens=max_tokens)\n",
    "  # Otherwise, create a layer that turns integer values into integer indices.\n",
    "  else:\n",
    "    index = layers.IntegerLookup(max_tokens=max_tokens)\n",
    "\n",
    "  # Prepare a `tf.data.Dataset` that only yields the feature.\n",
    "  feature_ds = dataset.map(lambda x, y: x[name])\n",
    "\n",
    "  # Learn the set of possible values and assign them a fixed integer index.\n",
    "  index.adapt(feature_ds)\n",
    "\n",
    "  # Encode the integer indices.\n",
    "  encoder = layers.CategoryEncoding(num_tokens=index.vocabulary_size())\n",
    "\n",
    "  # Apply multi-hot encoding to the indices. The lambda function captures the\n",
    "  # layer, so you can use them, or include them in the Keras Functional model later.\n",
    "  return lambda feature: encoder(index(feature))"
   ]
  },
  {
   "cell_type": "code",
   "execution_count": 151,
   "id": "0055c521-edc4-46b9-a53a-eb6ac7ef930e",
   "metadata": {},
   "outputs": [
    {
     "name": "stdout",
     "output_type": "stream",
     "text": [
      "tf.Tensor(\n",
      "[0. 1. 1. 1. 1. 1. 1. 1. 1. 1. 1. 1. 1. 1. 1. 1. 1. 1. 1. 1. 1. 1. 1. 1.\n",
      " 1. 1. 1. 1. 1. 1. 1. 1. 1. 1. 1. 1. 1. 1. 1. 1. 1. 1. 1. 1. 1. 1. 1. 1.\n",
      " 1. 1. 1. 1. 1. 1. 1. 1. 1. 1. 1. 1. 1. 1. 1. 1. 1. 1. 1. 1. 1. 1. 1. 1.\n",
      " 1. 1. 1. 1. 1. 1. 1. 1. 1. 1. 1. 1. 1. 1. 1. 1. 1. 1. 1. 1. 1. 1. 1. 1.\n",
      " 1. 1. 1. 1. 1. 1. 1. 1. 1. 1. 1. 1. 1. 1. 1. 1. 1. 1. 1. 1. 1. 1. 1. 1.\n",
      " 1. 1. 1. 1. 1. 1. 1. 1. 1. 1. 1. 1. 1. 1. 1. 1. 1. 1. 1. 1. 1. 1. 1. 1.\n",
      " 1. 1. 1. 1. 1. 1. 1. 1. 1. 1. 1. 1. 1. 1. 1. 1. 1. 1. 1. 1. 1. 1. 1. 1.\n",
      " 1. 1. 1. 1. 1. 1. 1.], shape=(175,), dtype=float32)\n",
      "tf.Tensor([0. 1. 1. ... 1. 1. 1.], shape=(8129,), dtype=float32)\n",
      "tf.Tensor([0. 1. 1. ... 1. 1. 1.], shape=(1284,), dtype=float32)\n"
     ]
    }
   ],
   "source": [
    "for col in categorical_cols:\n",
    "  test_type_col = df[col]\n",
    "  test_type_layer = get_category_encoding_layer(name=col,\n",
    "                                                dataset=all_dataset,\n",
    "                                                dtype='string')\n",
    "  print(test_type_layer(test_type_col))"
   ]
  },
  {
   "cell_type": "code",
   "execution_count": 152,
   "id": "6f2b1cb3-88fc-4801-9b97-1b3e2fbf500c",
   "metadata": {},
   "outputs": [
    {
     "name": "stdout",
     "output_type": "stream",
     "text": [
      "<class 'keras.engine.keras_tensor.KerasTensor'> (None, 1)\n",
      "<class 'keras.engine.keras_tensor.KerasTensor'> (None, 1)\n",
      "<class 'keras.engine.keras_tensor.KerasTensor'> (None, 1)\n"
     ]
    }
   ],
   "source": [
    "for d in all_inputs:\n",
    "  print(type(d), d.shape)"
   ]
  },
  {
   "cell_type": "code",
   "execution_count": 153,
   "id": "2e73e496-64ba-4a80-867c-af2fa52616fa",
   "metadata": {},
   "outputs": [
    {
     "name": "stdout",
     "output_type": "stream",
     "text": [
      "<class 'keras.engine.keras_tensor.KerasTensor'> (None, 175)\n",
      "<class 'keras.engine.keras_tensor.KerasTensor'> (None, 8129)\n",
      "<class 'keras.engine.keras_tensor.KerasTensor'> (None, 1284)\n"
     ]
    }
   ],
   "source": [
    "for d in encoded_features:\n",
    "  print(type(d), d.shape)"
   ]
  },
  {
   "cell_type": "code",
   "execution_count": 154,
   "id": "0fcc9265-b782-4c54-b11c-8e303fbe0518",
   "metadata": {},
   "outputs": [],
   "source": [
    "def get_text_encoding_layer(name, dataset, top_words, vector_len):\n",
    "   # Prepare a `tf.data.Dataset` that only yields the feature.\n",
    "  feature_ds = dataset.map(lambda x: x[name])\n",
    "  embedding = tf.keras.layers.Embedding(input_dim =top_words, output_dim=vector_len)\n",
    "  return lambda feature: embedding(feature)"
   ]
  },
  {
   "cell_type": "code",
   "execution_count": 155,
   "id": "901ec80a-6f66-492b-9bc2-0eb7a49a5ff0",
   "metadata": {},
   "outputs": [],
   "source": [
    "embedding = tf.keras.layers.Embedding(input_dim =top_words, output_dim=vector_len)"
   ]
  },
  {
   "cell_type": "code",
   "execution_count": 156,
   "id": "2a66e4d6-6170-46f9-a80b-80d587c7d486",
   "metadata": {},
   "outputs": [],
   "source": [
    "embedding_layer = lambda feature: embedding(feature)"
   ]
  },
  {
   "cell_type": "code",
   "execution_count": 157,
   "id": "6c40e52e-4482-4f44-8971-033c8226daf7",
   "metadata": {},
   "outputs": [
    {
     "data": {
      "text/plain": [
       "TensorShape([20517, 10, 30])"
      ]
     },
     "execution_count": 157,
     "metadata": {},
     "output_type": "execute_result"
    }
   ],
   "source": [
    "embedding_layer(encode_desc_padding).shape"
   ]
  },
  {
   "cell_type": "code",
   "execution_count": 158,
   "id": "68ea250e-b0a5-4dcb-a956-2924d8de945a",
   "metadata": {},
   "outputs": [
    {
     "data": {
      "text/plain": [
       "10"
      ]
     },
     "execution_count": 158,
     "metadata": {},
     "output_type": "execute_result"
    }
   ],
   "source": [
    "embedding_dataset.element_spec['desc'].shape[1]"
   ]
  },
  {
   "cell_type": "code",
   "execution_count": 206,
   "id": "2b5380e2-2d6c-4d4e-ae0a-cccd01f25117",
   "metadata": {},
   "outputs": [],
   "source": [
    "embedding_col = tf.keras.Input(shape=(), name='desc', dtype='int64')"
   ]
  },
  {
   "cell_type": "code",
   "execution_count": 207,
   "id": "a9b05250-c4b7-44fa-951e-19bff54d2ab8",
   "metadata": {},
   "outputs": [],
   "source": [
    "embedding_layer = get_text_encoding_layer('desc', embedding_dataset, top_words, vector_len)"
   ]
  },
  {
   "cell_type": "code",
   "execution_count": 208,
   "id": "61fe96db-994b-4c32-9274-4b0dd466b16e",
   "metadata": {},
   "outputs": [
    {
     "data": {
      "text/plain": [
       "<KerasTensor: shape=(None, 30) dtype=float32 (created by layer 'embedding_7')>"
      ]
     },
     "execution_count": 208,
     "metadata": {},
     "output_type": "execute_result"
    }
   ],
   "source": [
    "embedding_layer(embedding_col)"
   ]
  },
  {
   "cell_type": "code",
   "execution_count": 162,
   "id": "284ded18-9d9d-4155-b304-03f7fcc3e30d",
   "metadata": {},
   "outputs": [],
   "source": [
    "# text features.\n",
    "for header in ['desc']:\n",
    "  embedding_col = tf.keras.Input(shape=(), name='desc', dtype='int64')\n",
    "  embedding_layer = get_text_encoding_layer('desc', embedding_dataset, top_words, vector_len)\n",
    "  encoded_embedding_col = embedding_layer(embedding_col)\n",
    "  all_inputs.append(embedding_col)\n",
    "  encoded_features.append(encoded_embedding_col)"
   ]
  },
  {
   "cell_type": "code",
   "execution_count": 163,
   "id": "752d742a-19cd-404d-9176-95cb3069b355",
   "metadata": {},
   "outputs": [
    {
     "name": "stdout",
     "output_type": "stream",
     "text": [
      "<class 'keras.engine.keras_tensor.KerasTensor'> (None, 1)\n",
      "<class 'keras.engine.keras_tensor.KerasTensor'> (None, 1)\n",
      "<class 'keras.engine.keras_tensor.KerasTensor'> (None, 1)\n",
      "<class 'keras.engine.keras_tensor.KerasTensor'> (None,)\n"
     ]
    }
   ],
   "source": [
    "for d in all_inputs:\n",
    "  print(type(d), d.shape)"
   ]
  },
  {
   "cell_type": "code",
   "execution_count": 164,
   "id": "671d9cf9-9add-43c6-b6eb-775d5808dabf",
   "metadata": {},
   "outputs": [
    {
     "name": "stdout",
     "output_type": "stream",
     "text": [
      "<class 'keras.engine.keras_tensor.KerasTensor'> (None, 175)\n",
      "<class 'keras.engine.keras_tensor.KerasTensor'> (None, 8129)\n",
      "<class 'keras.engine.keras_tensor.KerasTensor'> (None, 1284)\n",
      "<class 'keras.engine.keras_tensor.KerasTensor'> (None, 30)\n"
     ]
    }
   ],
   "source": [
    "for d in encoded_features:\n",
    "  print(type(d), d.shape)"
   ]
  },
  {
   "cell_type": "code",
   "execution_count": 165,
   "id": "a2d4736e-058b-471b-b63b-eb3bc59e930d",
   "metadata": {},
   "outputs": [],
   "source": [
    "all_features = tf.keras.layers.concatenate(encoded_features)\n",
    "x = tf.keras.layers.Dense(32, activation=\"relu\")(all_features)\n",
    "x = tf.keras.layers.Dropout(0.5)(x)\n",
    "output = tf.keras.layers.Dense(1)(x)\n",
    "\n",
    "model = tf.keras.Model(all_inputs, output)"
   ]
  },
  {
   "cell_type": "code",
   "execution_count": 166,
   "id": "ccfe67bc-e0f2-41f7-b7bc-ee27601421ef",
   "metadata": {},
   "outputs": [
    {
     "name": "stdout",
     "output_type": "stream",
     "text": [
      "Model: \"model\"\n",
      "__________________________________________________________________________________________________\n",
      " Layer (type)                   Output Shape         Param #     Connected to                     \n",
      "==================================================================================================\n",
      " Machinery (InputLayer)         [(None, 1)]          0           []                               \n",
      "                                                                                                  \n",
      " Part No.1 (InputLayer)         [(None, 1)]          0           []                               \n",
      "                                                                                                  \n",
      " Part No.2 (InputLayer)         [(None, 1)]          0           []                               \n",
      "                                                                                                  \n",
      " string_lookup (StringLookup)   (None, 1)            0           ['Machinery[0][0]']              \n",
      "                                                                                                  \n",
      " string_lookup_1 (StringLookup)  (None, 1)           0           ['Part No.1[0][0]']              \n",
      "                                                                                                  \n",
      " string_lookup_2 (StringLookup)  (None, 1)           0           ['Part No.2[0][0]']              \n",
      "                                                                                                  \n",
      " desc (InputLayer)              [(None,)]            0           []                               \n",
      "                                                                                                  \n",
      " category_encoding (CategoryEnc  (None, 175)         0           ['string_lookup[0][0]']          \n",
      " oding)                                                                                           \n",
      "                                                                                                  \n",
      " category_encoding_1 (CategoryE  (None, 8129)        0           ['string_lookup_1[0][0]']        \n",
      " ncoding)                                                                                         \n",
      "                                                                                                  \n",
      " category_encoding_2 (CategoryE  (None, 1284)        0           ['string_lookup_2[0][0]']        \n",
      " ncoding)                                                                                         \n",
      "                                                                                                  \n",
      " embedding_5 (Embedding)        (None, 30)           30000       ['desc[0][0]']                   \n",
      "                                                                                                  \n",
      " concatenate (Concatenate)      (None, 9618)         0           ['category_encoding[0][0]',      \n",
      "                                                                  'category_encoding_1[0][0]',    \n",
      "                                                                  'category_encoding_2[0][0]',    \n",
      "                                                                  'embedding_5[0][0]']            \n",
      "                                                                                                  \n",
      " dense (Dense)                  (None, 32)           307808      ['concatenate[0][0]']            \n",
      "                                                                                                  \n",
      " dropout (Dropout)              (None, 32)           0           ['dense[0][0]']                  \n",
      "                                                                                                  \n",
      " dense_1 (Dense)                (None, 1)            33          ['dropout[0][0]']                \n",
      "                                                                                                  \n",
      "==================================================================================================\n",
      "Total params: 337,841\n",
      "Trainable params: 337,841\n",
      "Non-trainable params: 0\n",
      "__________________________________________________________________________________________________\n"
     ]
    }
   ],
   "source": [
    "model.summary()"
   ]
  },
  {
   "cell_type": "code",
   "execution_count": 135,
   "id": "fc7cba1b-36ad-4a4e-b1a0-ae8848c826b2",
   "metadata": {},
   "outputs": [
    {
     "name": "stdout",
     "output_type": "stream",
     "text": [
      "You must install pydot (`pip install pydot`) and install graphviz (see instructions at https://graphviz.gitlab.io/download/) for plot_model to work.\n"
     ]
    }
   ],
   "source": [
    "tf.keras.utils.plot_model(model, show_shapes=True, rankdir=\"LR\")"
   ]
  },
  {
   "cell_type": "code",
   "execution_count": 167,
   "id": "1a2013a2-5cd1-4dcb-8dfe-e7b4564e95a7",
   "metadata": {},
   "outputs": [],
   "source": [
    "model.compile(loss=tf.keras.losses.CategoricalCrossentropy(from_logits=False),\n",
    "                       optimizer=tf.keras.optimizers.Adam(),\n",
    "                       metrics=['accuracy'])"
   ]
  },
  {
   "cell_type": "code",
   "execution_count": 168,
   "id": "c444a850-0ea5-48dd-ae43-323f73795c5c",
   "metadata": {},
   "outputs": [
    {
     "data": {
      "text/plain": [
       "<PrefetchDataset element_spec=({'Machinery': TensorSpec(shape=(None, 1), dtype=tf.string, name=None), '청구품목': TensorSpec(shape=(None, 1), dtype=tf.string, name=None), 'Part No.1': TensorSpec(shape=(None, 1), dtype=tf.string, name=None), 'Part No.2': TensorSpec(shape=(None, 1), dtype=tf.string, name=None), '발주처': TensorSpec(shape=(None, 1), dtype=tf.string, name=None)}, TensorSpec(shape=(None,), dtype=tf.int32, name=None))>"
      ]
     },
     "execution_count": 168,
     "metadata": {},
     "output_type": "execute_result"
    }
   ],
   "source": [
    "train_ds"
   ]
  },
  {
   "cell_type": "code",
   "execution_count": 202,
   "id": "d74627e8-06a2-4f89-b004-8e6d3dd40bea",
   "metadata": {},
   "outputs": [
    {
     "name": "stdout",
     "output_type": "stream",
     "text": [
      "Epoch 1/10\n"
     ]
    },
    {
     "ename": "UnimplementedError",
     "evalue": "Graph execution error:\n\nDetected at node 'model/Cast' defined at (most recent call last):\n    File \"C:\\Python310\\lib\\runpy.py\", line 196, in _run_module_as_main\n      return _run_code(code, main_globals, None,\n    File \"C:\\Python310\\lib\\runpy.py\", line 86, in _run_code\n      exec(code, run_globals)\n    File \"D:\\ShipSupplies\\DA\\venv\\lib\\site-packages\\ipykernel_launcher.py\", line 17, in <module>\n      app.launch_new_instance()\n    File \"D:\\ShipSupplies\\DA\\venv\\lib\\site-packages\\traitlets\\config\\application.py\", line 1043, in launch_instance\n      app.start()\n    File \"D:\\ShipSupplies\\DA\\venv\\lib\\site-packages\\ipykernel\\kernelapp.py\", line 725, in start\n      self.io_loop.start()\n    File \"D:\\ShipSupplies\\DA\\venv\\lib\\site-packages\\tornado\\platform\\asyncio.py\", line 195, in start\n      self.asyncio_loop.run_forever()\n    File \"C:\\Python310\\lib\\asyncio\\base_events.py\", line 603, in run_forever\n      self._run_once()\n    File \"C:\\Python310\\lib\\asyncio\\base_events.py\", line 1909, in _run_once\n      handle._run()\n    File \"C:\\Python310\\lib\\asyncio\\events.py\", line 80, in _run\n      self._context.run(self._callback, *self._args)\n    File \"D:\\ShipSupplies\\DA\\venv\\lib\\site-packages\\ipykernel\\kernelbase.py\", line 513, in dispatch_queue\n      await self.process_one()\n    File \"D:\\ShipSupplies\\DA\\venv\\lib\\site-packages\\ipykernel\\kernelbase.py\", line 502, in process_one\n      await dispatch(*args)\n    File \"D:\\ShipSupplies\\DA\\venv\\lib\\site-packages\\ipykernel\\kernelbase.py\", line 409, in dispatch_shell\n      await result\n    File \"D:\\ShipSupplies\\DA\\venv\\lib\\site-packages\\ipykernel\\kernelbase.py\", line 729, in execute_request\n      reply_content = await reply_content\n    File \"D:\\ShipSupplies\\DA\\venv\\lib\\site-packages\\ipykernel\\ipkernel.py\", line 422, in do_execute\n      res = shell.run_cell(\n    File \"D:\\ShipSupplies\\DA\\venv\\lib\\site-packages\\ipykernel\\zmqshell.py\", line 540, in run_cell\n      return super().run_cell(*args, **kwargs)\n    File \"D:\\ShipSupplies\\DA\\venv\\lib\\site-packages\\IPython\\core\\interactiveshell.py\", line 3009, in run_cell\n      result = self._run_cell(\n    File \"D:\\ShipSupplies\\DA\\venv\\lib\\site-packages\\IPython\\core\\interactiveshell.py\", line 3064, in _run_cell\n      result = runner(coro)\n    File \"D:\\ShipSupplies\\DA\\venv\\lib\\site-packages\\IPython\\core\\async_helpers.py\", line 129, in _pseudo_sync_runner\n      coro.send(None)\n    File \"D:\\ShipSupplies\\DA\\venv\\lib\\site-packages\\IPython\\core\\interactiveshell.py\", line 3269, in run_cell_async\n      has_raised = await self.run_ast_nodes(code_ast.body, cell_name,\n    File \"D:\\ShipSupplies\\DA\\venv\\lib\\site-packages\\IPython\\core\\interactiveshell.py\", line 3448, in run_ast_nodes\n      if await self.run_code(code, result, async_=asy):\n    File \"D:\\ShipSupplies\\DA\\venv\\lib\\site-packages\\IPython\\core\\interactiveshell.py\", line 3508, in run_code\n      exec(code_obj, self.user_global_ns, self.user_ns)\n    File \"C:\\Users\\SW\\AppData\\Local\\Temp\\ipykernel_5056\\3170525730.py\", line 1, in <module>\n      model.fit(all_dataset, epochs= 10, batch_size=32)\n    File \"D:\\ShipSupplies\\DA\\venv\\lib\\site-packages\\keras\\utils\\traceback_utils.py\", line 65, in error_handler\n      return fn(*args, **kwargs)\n    File \"D:\\ShipSupplies\\DA\\venv\\lib\\site-packages\\keras\\engine\\training.py\", line 1564, in fit\n      tmp_logs = self.train_function(iterator)\n    File \"D:\\ShipSupplies\\DA\\venv\\lib\\site-packages\\keras\\engine\\training.py\", line 1160, in train_function\n      return step_function(self, iterator)\n    File \"D:\\ShipSupplies\\DA\\venv\\lib\\site-packages\\keras\\engine\\training.py\", line 1146, in step_function\n      outputs = model.distribute_strategy.run(run_step, args=(data,))\n    File \"D:\\ShipSupplies\\DA\\venv\\lib\\site-packages\\keras\\engine\\training.py\", line 1135, in run_step\n      outputs = model.train_step(data)\n    File \"D:\\ShipSupplies\\DA\\venv\\lib\\site-packages\\keras\\engine\\training.py\", line 993, in train_step\n      y_pred = self(x, training=True)\n    File \"D:\\ShipSupplies\\DA\\venv\\lib\\site-packages\\keras\\utils\\traceback_utils.py\", line 65, in error_handler\n      return fn(*args, **kwargs)\n    File \"D:\\ShipSupplies\\DA\\venv\\lib\\site-packages\\keras\\engine\\training.py\", line 557, in __call__\n      return super().__call__(*args, **kwargs)\n    File \"D:\\ShipSupplies\\DA\\venv\\lib\\site-packages\\keras\\utils\\traceback_utils.py\", line 65, in error_handler\n      return fn(*args, **kwargs)\n    File \"D:\\ShipSupplies\\DA\\venv\\lib\\site-packages\\keras\\engine\\base_layer.py\", line 1097, in __call__\n      outputs = call_fn(inputs, *args, **kwargs)\n    File \"D:\\ShipSupplies\\DA\\venv\\lib\\site-packages\\keras\\utils\\traceback_utils.py\", line 96, in error_handler\n      return fn(*args, **kwargs)\n    File \"D:\\ShipSupplies\\DA\\venv\\lib\\site-packages\\keras\\engine\\functional.py\", line 510, in call\n      return self._run_internal_graph(inputs, training=training, mask=mask)\n    File \"D:\\ShipSupplies\\DA\\venv\\lib\\site-packages\\keras\\engine\\functional.py\", line 649, in _run_internal_graph\n      y = self._conform_to_reference_input(y, ref_input=x)\n    File \"D:\\ShipSupplies\\DA\\venv\\lib\\site-packages\\keras\\engine\\functional.py\", line 761, in _conform_to_reference_input\n      tensor = tf.cast(tensor, dtype=ref_input.dtype)\nNode: 'model/Cast'\nCast string to int64 is not supported\n\t [[{{node model/Cast}}]] [Op:__inference_train_function_51177]",
     "output_type": "error",
     "traceback": [
      "\u001b[1;31m---------------------------------------------------------------------------\u001b[0m",
      "\u001b[1;31mUnimplementedError\u001b[0m                        Traceback (most recent call last)",
      "Cell \u001b[1;32mIn[202], line 1\u001b[0m\n\u001b[1;32m----> 1\u001b[0m \u001b[43mmodel\u001b[49m\u001b[38;5;241;43m.\u001b[39;49m\u001b[43mfit\u001b[49m\u001b[43m(\u001b[49m\u001b[43mtrain_dataset\u001b[49m\u001b[43m,\u001b[49m\u001b[43m \u001b[49m\u001b[43mepochs\u001b[49m\u001b[38;5;241;43m=\u001b[39;49m\u001b[43m \u001b[49m\u001b[38;5;241;43m10\u001b[39;49m\u001b[43m,\u001b[49m\u001b[43m \u001b[49m\u001b[43mbatch_size\u001b[49m\u001b[38;5;241;43m=\u001b[39;49m\u001b[38;5;241;43m32\u001b[39;49m\u001b[43m)\u001b[49m\n",
      "File \u001b[1;32mD:\\ShipSupplies\\DA\\venv\\lib\\site-packages\\keras\\utils\\traceback_utils.py:70\u001b[0m, in \u001b[0;36mfilter_traceback.<locals>.error_handler\u001b[1;34m(*args, **kwargs)\u001b[0m\n\u001b[0;32m     67\u001b[0m     filtered_tb \u001b[38;5;241m=\u001b[39m _process_traceback_frames(e\u001b[38;5;241m.\u001b[39m__traceback__)\n\u001b[0;32m     68\u001b[0m     \u001b[38;5;66;03m# To get the full stack trace, call:\u001b[39;00m\n\u001b[0;32m     69\u001b[0m     \u001b[38;5;66;03m# `tf.debugging.disable_traceback_filtering()`\u001b[39;00m\n\u001b[1;32m---> 70\u001b[0m     \u001b[38;5;28;01mraise\u001b[39;00m e\u001b[38;5;241m.\u001b[39mwith_traceback(filtered_tb) \u001b[38;5;28;01mfrom\u001b[39;00m \u001b[38;5;28;01mNone\u001b[39;00m\n\u001b[0;32m     71\u001b[0m \u001b[38;5;28;01mfinally\u001b[39;00m:\n\u001b[0;32m     72\u001b[0m     \u001b[38;5;28;01mdel\u001b[39;00m filtered_tb\n",
      "File \u001b[1;32mD:\\ShipSupplies\\DA\\venv\\lib\\site-packages\\tensorflow\\python\\eager\\execute.py:54\u001b[0m, in \u001b[0;36mquick_execute\u001b[1;34m(op_name, num_outputs, inputs, attrs, ctx, name)\u001b[0m\n\u001b[0;32m     52\u001b[0m \u001b[38;5;28;01mtry\u001b[39;00m:\n\u001b[0;32m     53\u001b[0m   ctx\u001b[38;5;241m.\u001b[39mensure_initialized()\n\u001b[1;32m---> 54\u001b[0m   tensors \u001b[38;5;241m=\u001b[39m pywrap_tfe\u001b[38;5;241m.\u001b[39mTFE_Py_Execute(ctx\u001b[38;5;241m.\u001b[39m_handle, device_name, op_name,\n\u001b[0;32m     55\u001b[0m                                       inputs, attrs, num_outputs)\n\u001b[0;32m     56\u001b[0m \u001b[38;5;28;01mexcept\u001b[39;00m core\u001b[38;5;241m.\u001b[39m_NotOkStatusException \u001b[38;5;28;01mas\u001b[39;00m e:\n\u001b[0;32m     57\u001b[0m   \u001b[38;5;28;01mif\u001b[39;00m name \u001b[38;5;129;01mis\u001b[39;00m \u001b[38;5;129;01mnot\u001b[39;00m \u001b[38;5;28;01mNone\u001b[39;00m:\n",
      "\u001b[1;31mUnimplementedError\u001b[0m: Graph execution error:\n\nDetected at node 'model/Cast' defined at (most recent call last):\n    File \"C:\\Python310\\lib\\runpy.py\", line 196, in _run_module_as_main\n      return _run_code(code, main_globals, None,\n    File \"C:\\Python310\\lib\\runpy.py\", line 86, in _run_code\n      exec(code, run_globals)\n    File \"D:\\ShipSupplies\\DA\\venv\\lib\\site-packages\\ipykernel_launcher.py\", line 17, in <module>\n      app.launch_new_instance()\n    File \"D:\\ShipSupplies\\DA\\venv\\lib\\site-packages\\traitlets\\config\\application.py\", line 1043, in launch_instance\n      app.start()\n    File \"D:\\ShipSupplies\\DA\\venv\\lib\\site-packages\\ipykernel\\kernelapp.py\", line 725, in start\n      self.io_loop.start()\n    File \"D:\\ShipSupplies\\DA\\venv\\lib\\site-packages\\tornado\\platform\\asyncio.py\", line 195, in start\n      self.asyncio_loop.run_forever()\n    File \"C:\\Python310\\lib\\asyncio\\base_events.py\", line 603, in run_forever\n      self._run_once()\n    File \"C:\\Python310\\lib\\asyncio\\base_events.py\", line 1909, in _run_once\n      handle._run()\n    File \"C:\\Python310\\lib\\asyncio\\events.py\", line 80, in _run\n      self._context.run(self._callback, *self._args)\n    File \"D:\\ShipSupplies\\DA\\venv\\lib\\site-packages\\ipykernel\\kernelbase.py\", line 513, in dispatch_queue\n      await self.process_one()\n    File \"D:\\ShipSupplies\\DA\\venv\\lib\\site-packages\\ipykernel\\kernelbase.py\", line 502, in process_one\n      await dispatch(*args)\n    File \"D:\\ShipSupplies\\DA\\venv\\lib\\site-packages\\ipykernel\\kernelbase.py\", line 409, in dispatch_shell\n      await result\n    File \"D:\\ShipSupplies\\DA\\venv\\lib\\site-packages\\ipykernel\\kernelbase.py\", line 729, in execute_request\n      reply_content = await reply_content\n    File \"D:\\ShipSupplies\\DA\\venv\\lib\\site-packages\\ipykernel\\ipkernel.py\", line 422, in do_execute\n      res = shell.run_cell(\n    File \"D:\\ShipSupplies\\DA\\venv\\lib\\site-packages\\ipykernel\\zmqshell.py\", line 540, in run_cell\n      return super().run_cell(*args, **kwargs)\n    File \"D:\\ShipSupplies\\DA\\venv\\lib\\site-packages\\IPython\\core\\interactiveshell.py\", line 3009, in run_cell\n      result = self._run_cell(\n    File \"D:\\ShipSupplies\\DA\\venv\\lib\\site-packages\\IPython\\core\\interactiveshell.py\", line 3064, in _run_cell\n      result = runner(coro)\n    File \"D:\\ShipSupplies\\DA\\venv\\lib\\site-packages\\IPython\\core\\async_helpers.py\", line 129, in _pseudo_sync_runner\n      coro.send(None)\n    File \"D:\\ShipSupplies\\DA\\venv\\lib\\site-packages\\IPython\\core\\interactiveshell.py\", line 3269, in run_cell_async\n      has_raised = await self.run_ast_nodes(code_ast.body, cell_name,\n    File \"D:\\ShipSupplies\\DA\\venv\\lib\\site-packages\\IPython\\core\\interactiveshell.py\", line 3448, in run_ast_nodes\n      if await self.run_code(code, result, async_=asy):\n    File \"D:\\ShipSupplies\\DA\\venv\\lib\\site-packages\\IPython\\core\\interactiveshell.py\", line 3508, in run_code\n      exec(code_obj, self.user_global_ns, self.user_ns)\n    File \"C:\\Users\\SW\\AppData\\Local\\Temp\\ipykernel_5056\\3170525730.py\", line 1, in <module>\n      model.fit(all_dataset, epochs= 10, batch_size=32)\n    File \"D:\\ShipSupplies\\DA\\venv\\lib\\site-packages\\keras\\utils\\traceback_utils.py\", line 65, in error_handler\n      return fn(*args, **kwargs)\n    File \"D:\\ShipSupplies\\DA\\venv\\lib\\site-packages\\keras\\engine\\training.py\", line 1564, in fit\n      tmp_logs = self.train_function(iterator)\n    File \"D:\\ShipSupplies\\DA\\venv\\lib\\site-packages\\keras\\engine\\training.py\", line 1160, in train_function\n      return step_function(self, iterator)\n    File \"D:\\ShipSupplies\\DA\\venv\\lib\\site-packages\\keras\\engine\\training.py\", line 1146, in step_function\n      outputs = model.distribute_strategy.run(run_step, args=(data,))\n    File \"D:\\ShipSupplies\\DA\\venv\\lib\\site-packages\\keras\\engine\\training.py\", line 1135, in run_step\n      outputs = model.train_step(data)\n    File \"D:\\ShipSupplies\\DA\\venv\\lib\\site-packages\\keras\\engine\\training.py\", line 993, in train_step\n      y_pred = self(x, training=True)\n    File \"D:\\ShipSupplies\\DA\\venv\\lib\\site-packages\\keras\\utils\\traceback_utils.py\", line 65, in error_handler\n      return fn(*args, **kwargs)\n    File \"D:\\ShipSupplies\\DA\\venv\\lib\\site-packages\\keras\\engine\\training.py\", line 557, in __call__\n      return super().__call__(*args, **kwargs)\n    File \"D:\\ShipSupplies\\DA\\venv\\lib\\site-packages\\keras\\utils\\traceback_utils.py\", line 65, in error_handler\n      return fn(*args, **kwargs)\n    File \"D:\\ShipSupplies\\DA\\venv\\lib\\site-packages\\keras\\engine\\base_layer.py\", line 1097, in __call__\n      outputs = call_fn(inputs, *args, **kwargs)\n    File \"D:\\ShipSupplies\\DA\\venv\\lib\\site-packages\\keras\\utils\\traceback_utils.py\", line 96, in error_handler\n      return fn(*args, **kwargs)\n    File \"D:\\ShipSupplies\\DA\\venv\\lib\\site-packages\\keras\\engine\\functional.py\", line 510, in call\n      return self._run_internal_graph(inputs, training=training, mask=mask)\n    File \"D:\\ShipSupplies\\DA\\venv\\lib\\site-packages\\keras\\engine\\functional.py\", line 649, in _run_internal_graph\n      y = self._conform_to_reference_input(y, ref_input=x)\n    File \"D:\\ShipSupplies\\DA\\venv\\lib\\site-packages\\keras\\engine\\functional.py\", line 761, in _conform_to_reference_input\n      tensor = tf.cast(tensor, dtype=ref_input.dtype)\nNode: 'model/Cast'\nCast string to int64 is not supported\n\t [[{{node model/Cast}}]] [Op:__inference_train_function_51177]"
     ]
    }
   ],
   "source": [
    "model.fit(train_dataset, epochs= 10, batch_size=32)"
   ]
  },
  {
   "cell_type": "code",
   "execution_count": 196,
   "id": "00ca6201-9261-467c-8313-85c184496ab4",
   "metadata": {},
   "outputs": [
    {
     "data": {
      "text/plain": [
       "Machinery       object\n",
       "청구품목            object\n",
       "Part No.1       object\n",
       "Part No.2       object\n",
       "발주처             object\n",
       "key2_encoded     int32\n",
       "dtype: object"
      ]
     },
     "execution_count": 196,
     "metadata": {},
     "output_type": "execute_result"
    }
   ],
   "source": [
    "train.dtypes"
   ]
  },
  {
   "cell_type": "code",
   "execution_count": 197,
   "id": "9a11e363-3bba-45a0-91e3-6f4057662b69",
   "metadata": {},
   "outputs": [
    {
     "data": {
      "text/plain": [
       "<PrefetchDataset element_spec=({'Machinery': TensorSpec(shape=(None, 1), dtype=tf.string, name=None), 'Part No.1': TensorSpec(shape=(None, 1), dtype=tf.string, name=None), 'Part No.2': TensorSpec(shape=(None, 1), dtype=tf.string, name=None), 'desc': TensorSpec(shape=(None, 1), dtype=tf.string, name=None)}, TensorSpec(shape=(None,), dtype=tf.int32, name=None))>"
      ]
     },
     "execution_count": 197,
     "metadata": {},
     "output_type": "execute_result"
    }
   ],
   "source": [
    "def df_to_dataset(dataframe, shuffle=True, batch_size=32):\n",
    "  df = dataframe.copy()\n",
    "  labels = df.pop('key2_encoded')\n",
    "  # df = {key: value[:,tf.newaxis] for key, value in dataframe.items()}\n",
    "  df = {key: np.expand_dims(value, axis=1) for key, value in df.items()}  # np.expand_dims를 사용하여 NumPy 배열로 변환\n",
    "  ds = tf.data.Dataset.from_tensor_slices((dict(df), labels))\n",
    "  if shuffle:\n",
    "    ds = ds.shuffle(buffer_size=len(dataframe))\n",
    "  ds = ds.batch(batch_size)\n",
    "  ds = ds.prefetch(batch_size)\n",
    "  return ds"
   ]
  },
  {
   "cell_type": "code",
   "execution_count": 212,
   "id": "b9e64d10-f524-4f71-9751-7efefc9a4839",
   "metadata": {},
   "outputs": [
    {
     "ename": "ValueError",
     "evalue": "Failed to convert a NumPy array to a Tensor (Unsupported object type list).",
     "output_type": "error",
     "traceback": [
      "\u001b[1;31m---------------------------------------------------------------------------\u001b[0m",
      "\u001b[1;31mValueError\u001b[0m                                Traceback (most recent call last)",
      "Cell \u001b[1;32mIn[212], line 2\u001b[0m\n\u001b[0;32m      1\u001b[0m batch_size \u001b[38;5;241m=\u001b[39m \u001b[38;5;241m5\u001b[39m\n\u001b[1;32m----> 2\u001b[0m train_dataset \u001b[38;5;241m=\u001b[39m \u001b[43mdf_to_dataset\u001b[49m\u001b[43m(\u001b[49m\u001b[43mdf\u001b[49m\u001b[43m,\u001b[49m\u001b[43m \u001b[49m\u001b[43mbatch_size\u001b[49m\u001b[38;5;241;43m=\u001b[39;49m\u001b[43mbatch_size\u001b[49m\u001b[43m)\u001b[49m\n",
      "Cell \u001b[1;32mIn[192], line 6\u001b[0m, in \u001b[0;36mdf_to_dataset\u001b[1;34m(dataframe, shuffle, batch_size)\u001b[0m\n\u001b[0;32m      4\u001b[0m \u001b[38;5;66;03m# df = {key: value[:,tf.newaxis] for key, value in dataframe.items()}\u001b[39;00m\n\u001b[0;32m      5\u001b[0m df \u001b[38;5;241m=\u001b[39m {key: np\u001b[38;5;241m.\u001b[39mexpand_dims(value, axis\u001b[38;5;241m=\u001b[39m\u001b[38;5;241m1\u001b[39m) \u001b[38;5;28;01mfor\u001b[39;00m key, value \u001b[38;5;129;01min\u001b[39;00m df\u001b[38;5;241m.\u001b[39mitems()}  \u001b[38;5;66;03m# np.expand_dims를 사용하여 NumPy 배열로 변환\u001b[39;00m\n\u001b[1;32m----> 6\u001b[0m ds \u001b[38;5;241m=\u001b[39m \u001b[43mtf\u001b[49m\u001b[38;5;241;43m.\u001b[39;49m\u001b[43mdata\u001b[49m\u001b[38;5;241;43m.\u001b[39;49m\u001b[43mDataset\u001b[49m\u001b[38;5;241;43m.\u001b[39;49m\u001b[43mfrom_tensor_slices\u001b[49m\u001b[43m(\u001b[49m\u001b[43m(\u001b[49m\u001b[38;5;28;43mdict\u001b[39;49m\u001b[43m(\u001b[49m\u001b[43mdf\u001b[49m\u001b[43m)\u001b[49m\u001b[43m,\u001b[49m\u001b[43m \u001b[49m\u001b[43mlabels\u001b[49m\u001b[43m)\u001b[49m\u001b[43m)\u001b[49m\n\u001b[0;32m      7\u001b[0m \u001b[38;5;28;01mif\u001b[39;00m shuffle:\n\u001b[0;32m      8\u001b[0m   ds \u001b[38;5;241m=\u001b[39m ds\u001b[38;5;241m.\u001b[39mshuffle(buffer_size\u001b[38;5;241m=\u001b[39m\u001b[38;5;28mlen\u001b[39m(dataframe))\n",
      "File \u001b[1;32mD:\\ShipSupplies\\DA\\venv\\lib\\site-packages\\tensorflow\\python\\data\\ops\\dataset_ops.py:814\u001b[0m, in \u001b[0;36mDatasetV2.from_tensor_slices\u001b[1;34m(tensors, name)\u001b[0m\n\u001b[0;32m    736\u001b[0m \u001b[38;5;129m@staticmethod\u001b[39m\n\u001b[0;32m    737\u001b[0m \u001b[38;5;28;01mdef\u001b[39;00m \u001b[38;5;21mfrom_tensor_slices\u001b[39m(tensors, name\u001b[38;5;241m=\u001b[39m\u001b[38;5;28;01mNone\u001b[39;00m):\n\u001b[0;32m    738\u001b[0m \u001b[38;5;250m  \u001b[39m\u001b[38;5;124;03m\"\"\"Creates a `Dataset` whose elements are slices of the given tensors.\u001b[39;00m\n\u001b[0;32m    739\u001b[0m \n\u001b[0;32m    740\u001b[0m \u001b[38;5;124;03m  The given tensors are sliced along their first dimension. This operation\u001b[39;00m\n\u001b[1;32m   (...)\u001b[0m\n\u001b[0;32m    812\u001b[0m \u001b[38;5;124;03m    Dataset: A `Dataset`.\u001b[39;00m\n\u001b[0;32m    813\u001b[0m \u001b[38;5;124;03m  \"\"\"\u001b[39;00m\n\u001b[1;32m--> 814\u001b[0m   \u001b[38;5;28;01mreturn\u001b[39;00m \u001b[43mTensorSliceDataset\u001b[49m\u001b[43m(\u001b[49m\u001b[43mtensors\u001b[49m\u001b[43m,\u001b[49m\u001b[43m \u001b[49m\u001b[43mname\u001b[49m\u001b[38;5;241;43m=\u001b[39;49m\u001b[43mname\u001b[49m\u001b[43m)\u001b[49m\n",
      "File \u001b[1;32mD:\\ShipSupplies\\DA\\venv\\lib\\site-packages\\tensorflow\\python\\data\\ops\\dataset_ops.py:4708\u001b[0m, in \u001b[0;36mTensorSliceDataset.__init__\u001b[1;34m(self, element, is_files, name)\u001b[0m\n\u001b[0;32m   4706\u001b[0m \u001b[38;5;28;01mdef\u001b[39;00m \u001b[38;5;21m__init__\u001b[39m(\u001b[38;5;28mself\u001b[39m, element, is_files\u001b[38;5;241m=\u001b[39m\u001b[38;5;28;01mFalse\u001b[39;00m, name\u001b[38;5;241m=\u001b[39m\u001b[38;5;28;01mNone\u001b[39;00m):\n\u001b[0;32m   4707\u001b[0m \u001b[38;5;250m  \u001b[39m\u001b[38;5;124;03m\"\"\"See `Dataset.from_tensor_slices()` for details.\"\"\"\u001b[39;00m\n\u001b[1;32m-> 4708\u001b[0m   element \u001b[38;5;241m=\u001b[39m \u001b[43mstructure\u001b[49m\u001b[38;5;241;43m.\u001b[39;49m\u001b[43mnormalize_element\u001b[49m\u001b[43m(\u001b[49m\u001b[43melement\u001b[49m\u001b[43m)\u001b[49m\n\u001b[0;32m   4709\u001b[0m   batched_spec \u001b[38;5;241m=\u001b[39m structure\u001b[38;5;241m.\u001b[39mtype_spec_from_value(element)\n\u001b[0;32m   4710\u001b[0m   \u001b[38;5;28mself\u001b[39m\u001b[38;5;241m.\u001b[39m_tensors \u001b[38;5;241m=\u001b[39m structure\u001b[38;5;241m.\u001b[39mto_batched_tensor_list(batched_spec, element)\n",
      "File \u001b[1;32mD:\\ShipSupplies\\DA\\venv\\lib\\site-packages\\tensorflow\\python\\data\\util\\structure.py:126\u001b[0m, in \u001b[0;36mnormalize_element\u001b[1;34m(element, element_signature)\u001b[0m\n\u001b[0;32m    123\u001b[0m       \u001b[38;5;28;01melse\u001b[39;00m:\n\u001b[0;32m    124\u001b[0m         dtype \u001b[38;5;241m=\u001b[39m \u001b[38;5;28mgetattr\u001b[39m(spec, \u001b[38;5;124m\"\u001b[39m\u001b[38;5;124mdtype\u001b[39m\u001b[38;5;124m\"\u001b[39m, \u001b[38;5;28;01mNone\u001b[39;00m)\n\u001b[0;32m    125\u001b[0m         normalized_components\u001b[38;5;241m.\u001b[39mappend(\n\u001b[1;32m--> 126\u001b[0m             \u001b[43mops\u001b[49m\u001b[38;5;241;43m.\u001b[39;49m\u001b[43mconvert_to_tensor\u001b[49m\u001b[43m(\u001b[49m\u001b[43mt\u001b[49m\u001b[43m,\u001b[49m\u001b[43m \u001b[49m\u001b[43mname\u001b[49m\u001b[38;5;241;43m=\u001b[39;49m\u001b[38;5;124;43m\"\u001b[39;49m\u001b[38;5;124;43mcomponent_\u001b[39;49m\u001b[38;5;132;43;01m%d\u001b[39;49;00m\u001b[38;5;124;43m\"\u001b[39;49m\u001b[43m \u001b[49m\u001b[38;5;241;43m%\u001b[39;49m\u001b[43m \u001b[49m\u001b[43mi\u001b[49m\u001b[43m,\u001b[49m\u001b[43m \u001b[49m\u001b[43mdtype\u001b[49m\u001b[38;5;241;43m=\u001b[39;49m\u001b[43mdtype\u001b[49m\u001b[43m)\u001b[49m)\n\u001b[0;32m    127\u001b[0m \u001b[38;5;28;01mreturn\u001b[39;00m nest\u001b[38;5;241m.\u001b[39mpack_sequence_as(pack_as, normalized_components)\n",
      "File \u001b[1;32mD:\\ShipSupplies\\DA\\venv\\lib\\site-packages\\tensorflow\\python\\profiler\\trace.py:183\u001b[0m, in \u001b[0;36mtrace_wrapper.<locals>.inner_wrapper.<locals>.wrapped\u001b[1;34m(*args, **kwargs)\u001b[0m\n\u001b[0;32m    181\u001b[0m   \u001b[38;5;28;01mwith\u001b[39;00m Trace(trace_name, \u001b[38;5;241m*\u001b[39m\u001b[38;5;241m*\u001b[39mtrace_kwargs):\n\u001b[0;32m    182\u001b[0m     \u001b[38;5;28;01mreturn\u001b[39;00m func(\u001b[38;5;241m*\u001b[39margs, \u001b[38;5;241m*\u001b[39m\u001b[38;5;241m*\u001b[39mkwargs)\n\u001b[1;32m--> 183\u001b[0m \u001b[38;5;28;01mreturn\u001b[39;00m func(\u001b[38;5;241m*\u001b[39margs, \u001b[38;5;241m*\u001b[39m\u001b[38;5;241m*\u001b[39mkwargs)\n",
      "File \u001b[1;32mD:\\ShipSupplies\\DA\\venv\\lib\\site-packages\\tensorflow\\python\\framework\\ops.py:1638\u001b[0m, in \u001b[0;36mconvert_to_tensor\u001b[1;34m(value, dtype, name, as_ref, preferred_dtype, dtype_hint, ctx, accepted_result_types)\u001b[0m\n\u001b[0;32m   1629\u001b[0m       \u001b[38;5;28;01mraise\u001b[39;00m \u001b[38;5;167;01mRuntimeError\u001b[39;00m(\n\u001b[0;32m   1630\u001b[0m           _add_error_prefix(\n\u001b[0;32m   1631\u001b[0m               \u001b[38;5;124mf\u001b[39m\u001b[38;5;124m\"\u001b[39m\u001b[38;5;124mConversion function \u001b[39m\u001b[38;5;132;01m{\u001b[39;00mconversion_func\u001b[38;5;132;01m!r}\u001b[39;00m\u001b[38;5;124m for type \u001b[39m\u001b[38;5;124m\"\u001b[39m\n\u001b[1;32m   (...)\u001b[0m\n\u001b[0;32m   1634\u001b[0m               \u001b[38;5;124mf\u001b[39m\u001b[38;5;124m\"\u001b[39m\u001b[38;5;124mactual = \u001b[39m\u001b[38;5;132;01m{\u001b[39;00mret\u001b[38;5;241m.\u001b[39mdtype\u001b[38;5;241m.\u001b[39mbase_dtype\u001b[38;5;241m.\u001b[39mname\u001b[38;5;132;01m}\u001b[39;00m\u001b[38;5;124m\"\u001b[39m,\n\u001b[0;32m   1635\u001b[0m               name\u001b[38;5;241m=\u001b[39mname))\n\u001b[0;32m   1637\u001b[0m \u001b[38;5;28;01mif\u001b[39;00m ret \u001b[38;5;129;01mis\u001b[39;00m \u001b[38;5;28;01mNone\u001b[39;00m:\n\u001b[1;32m-> 1638\u001b[0m   ret \u001b[38;5;241m=\u001b[39m \u001b[43mconversion_func\u001b[49m\u001b[43m(\u001b[49m\u001b[43mvalue\u001b[49m\u001b[43m,\u001b[49m\u001b[43m \u001b[49m\u001b[43mdtype\u001b[49m\u001b[38;5;241;43m=\u001b[39;49m\u001b[43mdtype\u001b[49m\u001b[43m,\u001b[49m\u001b[43m \u001b[49m\u001b[43mname\u001b[49m\u001b[38;5;241;43m=\u001b[39;49m\u001b[43mname\u001b[49m\u001b[43m,\u001b[49m\u001b[43m \u001b[49m\u001b[43mas_ref\u001b[49m\u001b[38;5;241;43m=\u001b[39;49m\u001b[43mas_ref\u001b[49m\u001b[43m)\u001b[49m\n\u001b[0;32m   1640\u001b[0m \u001b[38;5;28;01mif\u001b[39;00m ret \u001b[38;5;129;01mis\u001b[39;00m \u001b[38;5;28mNotImplemented\u001b[39m:\n\u001b[0;32m   1641\u001b[0m   \u001b[38;5;28;01mcontinue\u001b[39;00m\n",
      "File \u001b[1;32mD:\\ShipSupplies\\DA\\venv\\lib\\site-packages\\tensorflow\\python\\framework\\tensor_conversion_registry.py:48\u001b[0m, in \u001b[0;36m_default_conversion_function\u001b[1;34m(***failed resolving arguments***)\u001b[0m\n\u001b[0;32m     46\u001b[0m \u001b[38;5;28;01mdef\u001b[39;00m \u001b[38;5;21m_default_conversion_function\u001b[39m(value, dtype, name, as_ref):\n\u001b[0;32m     47\u001b[0m   \u001b[38;5;28;01mdel\u001b[39;00m as_ref  \u001b[38;5;66;03m# Unused.\u001b[39;00m\n\u001b[1;32m---> 48\u001b[0m   \u001b[38;5;28;01mreturn\u001b[39;00m \u001b[43mconstant_op\u001b[49m\u001b[38;5;241;43m.\u001b[39;49m\u001b[43mconstant\u001b[49m\u001b[43m(\u001b[49m\u001b[43mvalue\u001b[49m\u001b[43m,\u001b[49m\u001b[43m \u001b[49m\u001b[43mdtype\u001b[49m\u001b[43m,\u001b[49m\u001b[43m \u001b[49m\u001b[43mname\u001b[49m\u001b[38;5;241;43m=\u001b[39;49m\u001b[43mname\u001b[49m\u001b[43m)\u001b[49m\n",
      "File \u001b[1;32mD:\\ShipSupplies\\DA\\venv\\lib\\site-packages\\tensorflow\\python\\framework\\constant_op.py:267\u001b[0m, in \u001b[0;36mconstant\u001b[1;34m(value, dtype, shape, name)\u001b[0m\n\u001b[0;32m    170\u001b[0m \u001b[38;5;129m@tf_export\u001b[39m(\u001b[38;5;124m\"\u001b[39m\u001b[38;5;124mconstant\u001b[39m\u001b[38;5;124m\"\u001b[39m, v1\u001b[38;5;241m=\u001b[39m[])\n\u001b[0;32m    171\u001b[0m \u001b[38;5;28;01mdef\u001b[39;00m \u001b[38;5;21mconstant\u001b[39m(value, dtype\u001b[38;5;241m=\u001b[39m\u001b[38;5;28;01mNone\u001b[39;00m, shape\u001b[38;5;241m=\u001b[39m\u001b[38;5;28;01mNone\u001b[39;00m, name\u001b[38;5;241m=\u001b[39m\u001b[38;5;124m\"\u001b[39m\u001b[38;5;124mConst\u001b[39m\u001b[38;5;124m\"\u001b[39m):\n\u001b[0;32m    172\u001b[0m \u001b[38;5;250m  \u001b[39m\u001b[38;5;124;03m\"\"\"Creates a constant tensor from a tensor-like object.\u001b[39;00m\n\u001b[0;32m    173\u001b[0m \n\u001b[0;32m    174\u001b[0m \u001b[38;5;124;03m  Note: All eager `tf.Tensor` values are immutable (in contrast to\u001b[39;00m\n\u001b[1;32m   (...)\u001b[0m\n\u001b[0;32m    265\u001b[0m \u001b[38;5;124;03m    ValueError: if called on a symbolic tensor.\u001b[39;00m\n\u001b[0;32m    266\u001b[0m \u001b[38;5;124;03m  \"\"\"\u001b[39;00m\n\u001b[1;32m--> 267\u001b[0m   \u001b[38;5;28;01mreturn\u001b[39;00m \u001b[43m_constant_impl\u001b[49m\u001b[43m(\u001b[49m\u001b[43mvalue\u001b[49m\u001b[43m,\u001b[49m\u001b[43m \u001b[49m\u001b[43mdtype\u001b[49m\u001b[43m,\u001b[49m\u001b[43m \u001b[49m\u001b[43mshape\u001b[49m\u001b[43m,\u001b[49m\u001b[43m \u001b[49m\u001b[43mname\u001b[49m\u001b[43m,\u001b[49m\u001b[43m \u001b[49m\u001b[43mverify_shape\u001b[49m\u001b[38;5;241;43m=\u001b[39;49m\u001b[38;5;28;43;01mFalse\u001b[39;49;00m\u001b[43m,\u001b[49m\n\u001b[0;32m    268\u001b[0m \u001b[43m                        \u001b[49m\u001b[43mallow_broadcast\u001b[49m\u001b[38;5;241;43m=\u001b[39;49m\u001b[38;5;28;43;01mTrue\u001b[39;49;00m\u001b[43m)\u001b[49m\n",
      "File \u001b[1;32mD:\\ShipSupplies\\DA\\venv\\lib\\site-packages\\tensorflow\\python\\framework\\constant_op.py:279\u001b[0m, in \u001b[0;36m_constant_impl\u001b[1;34m(value, dtype, shape, name, verify_shape, allow_broadcast)\u001b[0m\n\u001b[0;32m    277\u001b[0m     \u001b[38;5;28;01mwith\u001b[39;00m trace\u001b[38;5;241m.\u001b[39mTrace(\u001b[38;5;124m\"\u001b[39m\u001b[38;5;124mtf.constant\u001b[39m\u001b[38;5;124m\"\u001b[39m):\n\u001b[0;32m    278\u001b[0m       \u001b[38;5;28;01mreturn\u001b[39;00m _constant_eager_impl(ctx, value, dtype, shape, verify_shape)\n\u001b[1;32m--> 279\u001b[0m   \u001b[38;5;28;01mreturn\u001b[39;00m \u001b[43m_constant_eager_impl\u001b[49m\u001b[43m(\u001b[49m\u001b[43mctx\u001b[49m\u001b[43m,\u001b[49m\u001b[43m \u001b[49m\u001b[43mvalue\u001b[49m\u001b[43m,\u001b[49m\u001b[43m \u001b[49m\u001b[43mdtype\u001b[49m\u001b[43m,\u001b[49m\u001b[43m \u001b[49m\u001b[43mshape\u001b[49m\u001b[43m,\u001b[49m\u001b[43m \u001b[49m\u001b[43mverify_shape\u001b[49m\u001b[43m)\u001b[49m\n\u001b[0;32m    281\u001b[0m g \u001b[38;5;241m=\u001b[39m ops\u001b[38;5;241m.\u001b[39mget_default_graph()\n\u001b[0;32m    282\u001b[0m tensor_value \u001b[38;5;241m=\u001b[39m attr_value_pb2\u001b[38;5;241m.\u001b[39mAttrValue()\n",
      "File \u001b[1;32mD:\\ShipSupplies\\DA\\venv\\lib\\site-packages\\tensorflow\\python\\framework\\constant_op.py:304\u001b[0m, in \u001b[0;36m_constant_eager_impl\u001b[1;34m(ctx, value, dtype, shape, verify_shape)\u001b[0m\n\u001b[0;32m    302\u001b[0m \u001b[38;5;28;01mdef\u001b[39;00m \u001b[38;5;21m_constant_eager_impl\u001b[39m(ctx, value, dtype, shape, verify_shape):\n\u001b[0;32m    303\u001b[0m \u001b[38;5;250m  \u001b[39m\u001b[38;5;124;03m\"\"\"Creates a constant on the current device.\"\"\"\u001b[39;00m\n\u001b[1;32m--> 304\u001b[0m   t \u001b[38;5;241m=\u001b[39m \u001b[43mconvert_to_eager_tensor\u001b[49m\u001b[43m(\u001b[49m\u001b[43mvalue\u001b[49m\u001b[43m,\u001b[49m\u001b[43m \u001b[49m\u001b[43mctx\u001b[49m\u001b[43m,\u001b[49m\u001b[43m \u001b[49m\u001b[43mdtype\u001b[49m\u001b[43m)\u001b[49m\n\u001b[0;32m    305\u001b[0m   \u001b[38;5;28;01mif\u001b[39;00m shape \u001b[38;5;129;01mis\u001b[39;00m \u001b[38;5;28;01mNone\u001b[39;00m:\n\u001b[0;32m    306\u001b[0m     \u001b[38;5;28;01mreturn\u001b[39;00m t\n",
      "File \u001b[1;32mD:\\ShipSupplies\\DA\\venv\\lib\\site-packages\\tensorflow\\python\\framework\\constant_op.py:102\u001b[0m, in \u001b[0;36mconvert_to_eager_tensor\u001b[1;34m(value, ctx, dtype)\u001b[0m\n\u001b[0;32m    100\u001b[0m     dtype \u001b[38;5;241m=\u001b[39m dtypes\u001b[38;5;241m.\u001b[39mas_dtype(dtype)\u001b[38;5;241m.\u001b[39mas_datatype_enum\n\u001b[0;32m    101\u001b[0m ctx\u001b[38;5;241m.\u001b[39mensure_initialized()\n\u001b[1;32m--> 102\u001b[0m \u001b[38;5;28;01mreturn\u001b[39;00m \u001b[43mops\u001b[49m\u001b[38;5;241;43m.\u001b[39;49m\u001b[43mEagerTensor\u001b[49m\u001b[43m(\u001b[49m\u001b[43mvalue\u001b[49m\u001b[43m,\u001b[49m\u001b[43m \u001b[49m\u001b[43mctx\u001b[49m\u001b[38;5;241;43m.\u001b[39;49m\u001b[43mdevice_name\u001b[49m\u001b[43m,\u001b[49m\u001b[43m \u001b[49m\u001b[43mdtype\u001b[49m\u001b[43m)\u001b[49m\n",
      "\u001b[1;31mValueError\u001b[0m: Failed to convert a NumPy array to a Tensor (Unsupported object type list)."
     ]
    }
   ],
   "source": [
    "batch_size = 5\n",
    "train_dataset = df_to_dataset(df, batch_size=batch_size)"
   ]
  },
  {
   "cell_type": "code",
   "execution_count": 200,
   "id": "1bb57fd7-f07e-44f3-9cb9-5fd98bdce6c2",
   "metadata": {},
   "outputs": [
    {
     "data": {
      "text/plain": [
       "<PrefetchDataset element_spec=({'Machinery': TensorSpec(shape=(None, 1), dtype=tf.string, name=None), 'Part No.1': TensorSpec(shape=(None, 1), dtype=tf.string, name=None), 'Part No.2': TensorSpec(shape=(None, 1), dtype=tf.string, name=None), 'desc': TensorSpec(shape=(None, 1), dtype=tf.string, name=None)}, TensorSpec(shape=(None,), dtype=tf.int32, name=None))>"
      ]
     },
     "execution_count": 200,
     "metadata": {},
     "output_type": "execute_result"
    }
   ],
   "source": [
    "train_dataset"
   ]
  },
  {
   "cell_type": "code",
   "execution_count": 210,
   "id": "933375da-bef5-4a6d-b691-d4f1e7cdf894",
   "metadata": {},
   "outputs": [],
   "source": [
    "df['desc'] = pre_desc['encode_desc_1000']"
   ]
  },
  {
   "cell_type": "code",
   "execution_count": 211,
   "id": "779e9c92-2b7b-4a94-8ac0-49917b8a9936",
   "metadata": {},
   "outputs": [
    {
     "data": {
      "text/html": [
       "<div>\n",
       "<style scoped>\n",
       "    .dataframe tbody tr th:only-of-type {\n",
       "        vertical-align: middle;\n",
       "    }\n",
       "\n",
       "    .dataframe tbody tr th {\n",
       "        vertical-align: top;\n",
       "    }\n",
       "\n",
       "    .dataframe thead th {\n",
       "        text-align: right;\n",
       "    }\n",
       "</style>\n",
       "<table border=\"1\" class=\"dataframe\">\n",
       "  <thead>\n",
       "    <tr style=\"text-align: right;\">\n",
       "      <th></th>\n",
       "      <th>Machinery</th>\n",
       "      <th>Part No.1</th>\n",
       "      <th>Part No.2</th>\n",
       "      <th>key2_encoded</th>\n",
       "      <th>desc</th>\n",
       "    </tr>\n",
       "  </thead>\n",
       "  <tbody>\n",
       "    <tr>\n",
       "      <th>0</th>\n",
       "      <td>NO.1 GENERATOR ENGINE</td>\n",
       "      <td>7.00E-275</td>\n",
       "      <td>0</td>\n",
       "      <td>18</td>\n",
       "      <td>[102, 2, 3]</td>\n",
       "    </tr>\n",
       "    <tr>\n",
       "      <th>1</th>\n",
       "      <td>NO.2 GENERATOR ENGINE</td>\n",
       "      <td>7.00E-275</td>\n",
       "      <td>0</td>\n",
       "      <td>18</td>\n",
       "      <td>[17, 100, 64, 127, 2, 3]</td>\n",
       "    </tr>\n",
       "    <tr>\n",
       "      <th>2</th>\n",
       "      <td>NO.2 GENERATOR ENGINE</td>\n",
       "      <td>7.00E-275</td>\n",
       "      <td>0</td>\n",
       "      <td>18</td>\n",
       "      <td>[54, 2, 3]</td>\n",
       "    </tr>\n",
       "    <tr>\n",
       "      <th>3</th>\n",
       "      <td>NO.1 GENERATOR ENGINE</td>\n",
       "      <td>7.00E-275</td>\n",
       "      <td>0</td>\n",
       "      <td>18</td>\n",
       "      <td>[310, 183, 2, 3]</td>\n",
       "    </tr>\n",
       "    <tr>\n",
       "      <th>4</th>\n",
       "      <td>NO.1 GENERATOR ENGINE</td>\n",
       "      <td>7.00E-275</td>\n",
       "      <td>0</td>\n",
       "      <td>18</td>\n",
       "      <td>[15, 2, 3]</td>\n",
       "    </tr>\n",
       "    <tr>\n",
       "      <th>...</th>\n",
       "      <td>...</td>\n",
       "      <td>...</td>\n",
       "      <td>...</td>\n",
       "      <td>...</td>\n",
       "      <td>...</td>\n",
       "    </tr>\n",
       "    <tr>\n",
       "      <th>20512</th>\n",
       "      <td>HYD. SYSTEM</td>\n",
       "      <td>φ150 × φ85 × 695st</td>\n",
       "      <td>FF-SE-1CB150BB695ABD-YP2J</td>\n",
       "      <td>20</td>\n",
       "      <td>[293, 1, 374, 1, 33, 48, 8]</td>\n",
       "    </tr>\n",
       "    <tr>\n",
       "      <th>20513</th>\n",
       "      <td>HYD. SYSTEM</td>\n",
       "      <td>φ160 × φ112 × 1130st</td>\n",
       "      <td>S-2CA160A20.6N1130-1</td>\n",
       "      <td>20</td>\n",
       "      <td>[293, 1, 1, 33, 48, 8]</td>\n",
       "    </tr>\n",
       "    <tr>\n",
       "      <th>20514</th>\n",
       "      <td>6M NET BOAT</td>\n",
       "      <td>Φ305X5V-3</td>\n",
       "      <td>0</td>\n",
       "      <td>5</td>\n",
       "      <td>[1, 11, 10, 9, 8]</td>\n",
       "    </tr>\n",
       "    <tr>\n",
       "      <th>20515</th>\n",
       "      <td>7M NET BOAT</td>\n",
       "      <td>Φ50 x S195 CYLINDER</td>\n",
       "      <td>0</td>\n",
       "      <td>20</td>\n",
       "      <td>[34, 11, 10, 9, 8]</td>\n",
       "    </tr>\n",
       "    <tr>\n",
       "      <th>20516</th>\n",
       "      <td>7M NET BOAT</td>\n",
       "      <td>Φ50 x S195 CYLINDER SEAL KIT</td>\n",
       "      <td>0</td>\n",
       "      <td>20</td>\n",
       "      <td>[15, 21, 25, 34, 11, 10, 9, 8]</td>\n",
       "    </tr>\n",
       "  </tbody>\n",
       "</table>\n",
       "<p>20517 rows × 5 columns</p>\n",
       "</div>"
      ],
      "text/plain": [
       "                   Machinery                     Part No.1  \\\n",
       "0      NO.1 GENERATOR ENGINE                     7.00E-275   \n",
       "1      NO.2 GENERATOR ENGINE                     7.00E-275   \n",
       "2      NO.2 GENERATOR ENGINE                     7.00E-275   \n",
       "3      NO.1 GENERATOR ENGINE                     7.00E-275   \n",
       "4      NO.1 GENERATOR ENGINE                     7.00E-275   \n",
       "...                      ...                           ...   \n",
       "20512            HYD. SYSTEM            φ150 × φ85 × 695st   \n",
       "20513            HYD. SYSTEM          φ160 × φ112 × 1130st   \n",
       "20514            6M NET BOAT                     Φ305X5V-3   \n",
       "20515            7M NET BOAT           Φ50 x S195 CYLINDER   \n",
       "20516            7M NET BOAT  Φ50 x S195 CYLINDER SEAL KIT   \n",
       "\n",
       "                       Part No.2  key2_encoded                            desc  \n",
       "0                              0            18                     [102, 2, 3]  \n",
       "1                              0            18        [17, 100, 64, 127, 2, 3]  \n",
       "2                              0            18                      [54, 2, 3]  \n",
       "3                              0            18                [310, 183, 2, 3]  \n",
       "4                              0            18                      [15, 2, 3]  \n",
       "...                          ...           ...                             ...  \n",
       "20512  FF-SE-1CB150BB695ABD-YP2J            20     [293, 1, 374, 1, 33, 48, 8]  \n",
       "20513       S-2CA160A20.6N1130-1            20          [293, 1, 1, 33, 48, 8]  \n",
       "20514                          0             5               [1, 11, 10, 9, 8]  \n",
       "20515                          0            20              [34, 11, 10, 9, 8]  \n",
       "20516                          0            20  [15, 21, 25, 34, 11, 10, 9, 8]  \n",
       "\n",
       "[20517 rows x 5 columns]"
      ]
     },
     "execution_count": 211,
     "metadata": {},
     "output_type": "execute_result"
    }
   ],
   "source": [
    "df"
   ]
  },
  {
   "cell_type": "markdown",
   "id": "581e8c4a",
   "metadata": {},
   "source": []
  },
  {
   "cell_type": "code",
   "execution_count": 209,
   "id": "0e287140-f77f-45fa-a942-346a3a1204e3",
   "metadata": {},
   "outputs": [
    {
     "data": {
      "text/html": [
       "<div>\n",
       "<style scoped>\n",
       "    .dataframe tbody tr th:only-of-type {\n",
       "        vertical-align: middle;\n",
       "    }\n",
       "\n",
       "    .dataframe tbody tr th {\n",
       "        vertical-align: top;\n",
       "    }\n",
       "\n",
       "    .dataframe thead th {\n",
       "        text-align: right;\n",
       "    }\n",
       "</style>\n",
       "<table border=\"1\" class=\"dataframe\">\n",
       "  <thead>\n",
       "    <tr style=\"text-align: right;\">\n",
       "      <th></th>\n",
       "      <th>origin</th>\n",
       "      <th>split_desc</th>\n",
       "      <th>encode_desc</th>\n",
       "      <th>encode_desc_1000</th>\n",
       "    </tr>\n",
       "  </thead>\n",
       "  <tbody>\n",
       "    <tr>\n",
       "      <th>0</th>\n",
       "      <td>SEAL-O-RING-STOR HAEIN Coporation_Cheonan</td>\n",
       "      <td>[SEAL-O-RING-STOR, HAEIN, Coporation_Cheonan]</td>\n",
       "      <td>[101, 1, 2]</td>\n",
       "      <td>[102, 2, 3]</td>\n",
       "    </tr>\n",
       "    <tr>\n",
       "      <th>1</th>\n",
       "      <td>OIL COOLER &amp; LINES HAEIN Coporation_Cheonan</td>\n",
       "      <td>[OIL, COOLER, &amp;, LINES, HAEIN, Coporation_Cheo...</td>\n",
       "      <td>[16, 99, 63, 126, 1, 2]</td>\n",
       "      <td>[17, 100, 64, 127, 2, 3]</td>\n",
       "    </tr>\n",
       "    <tr>\n",
       "      <th>2</th>\n",
       "      <td>WASHER HAEIN Coporation_Cheonan</td>\n",
       "      <td>[WASHER, HAEIN, Coporation_Cheonan]</td>\n",
       "      <td>[53, 1, 2]</td>\n",
       "      <td>[54, 2, 3]</td>\n",
       "    </tr>\n",
       "    <tr>\n",
       "      <th>3</th>\n",
       "      <td>BOLT-HIGH TEMP HAEIN Coporation_Cheonan</td>\n",
       "      <td>[BOLT-HIGH, TEMP, HAEIN, Coporation_Cheonan]</td>\n",
       "      <td>[309, 182, 1, 2]</td>\n",
       "      <td>[310, 183, 2, 3]</td>\n",
       "    </tr>\n",
       "    <tr>\n",
       "      <th>4</th>\n",
       "      <td>SEAL HAEIN Coporation_Cheonan</td>\n",
       "      <td>[SEAL, HAEIN, Coporation_Cheonan]</td>\n",
       "      <td>[14, 1, 2]</td>\n",
       "      <td>[15, 2, 3]</td>\n",
       "    </tr>\n",
       "    <tr>\n",
       "      <th>...</th>\n",
       "      <td>...</td>\n",
       "      <td>...</td>\n",
       "      <td>...</td>\n",
       "      <td>...</td>\n",
       "    </tr>\n",
       "    <tr>\n",
       "      <th>20512</th>\n",
       "      <td>HYD. CYLINDER_NET BOAT DAVIT MARINE HYDROTEC C...</td>\n",
       "      <td>[HYD., CYLINDER_NET, BOAT, DAVIT, MARINE, HYDR...</td>\n",
       "      <td>[292, 5057, 373, 1210, 32, 47, 7]</td>\n",
       "      <td>[293, 1, 374, 1, 33, 48, 8]</td>\n",
       "    </tr>\n",
       "    <tr>\n",
       "      <th>20513</th>\n",
       "      <td>HYD. CYLINDER_N.D CRANE_BOOM_LIFTER MARINE HYD...</td>\n",
       "      <td>[HYD., CYLINDER_N.D, CRANE_BOOM_LIFTER, MARINE...</td>\n",
       "      <td>[292, 5058, 5059, 32, 47, 7]</td>\n",
       "      <td>[293, 1, 1, 33, 48, 8]</td>\n",
       "    </tr>\n",
       "    <tr>\n",
       "      <th>20514</th>\n",
       "      <td>PULLY PORT RELIEF ENGINEERING CO.,LTD.</td>\n",
       "      <td>[PULLY, PORT, RELIEF, ENGINEERING, CO.,LTD.]</td>\n",
       "      <td>[5060, 10, 9, 8, 7]</td>\n",
       "      <td>[1, 11, 10, 9, 8]</td>\n",
       "    </tr>\n",
       "    <tr>\n",
       "      <th>20515</th>\n",
       "      <td>CYLINDER  PORT RELIEF ENGINEERING CO.,LTD.</td>\n",
       "      <td>[CYLINDER, PORT, RELIEF, ENGINEERING, CO.,LTD.]</td>\n",
       "      <td>[33, 10, 9, 8, 7]</td>\n",
       "      <td>[34, 11, 10, 9, 8]</td>\n",
       "    </tr>\n",
       "    <tr>\n",
       "      <th>20516</th>\n",
       "      <td>SEAL KIT FOR CYLINDER PORT RELIEF ENGINEERING ...</td>\n",
       "      <td>[SEAL, KIT, FOR, CYLINDER, PORT, RELIEF, ENGIN...</td>\n",
       "      <td>[14, 20, 24, 33, 10, 9, 8, 7]</td>\n",
       "      <td>[15, 21, 25, 34, 11, 10, 9, 8]</td>\n",
       "    </tr>\n",
       "  </tbody>\n",
       "</table>\n",
       "<p>20517 rows × 4 columns</p>\n",
       "</div>"
      ],
      "text/plain": [
       "                                                  origin  \\\n",
       "0              SEAL-O-RING-STOR HAEIN Coporation_Cheonan   \n",
       "1            OIL COOLER & LINES HAEIN Coporation_Cheonan   \n",
       "2                        WASHER HAEIN Coporation_Cheonan   \n",
       "3                BOLT-HIGH TEMP HAEIN Coporation_Cheonan   \n",
       "4                          SEAL HAEIN Coporation_Cheonan   \n",
       "...                                                  ...   \n",
       "20512  HYD. CYLINDER_NET BOAT DAVIT MARINE HYDROTEC C...   \n",
       "20513  HYD. CYLINDER_N.D CRANE_BOOM_LIFTER MARINE HYD...   \n",
       "20514             PULLY PORT RELIEF ENGINEERING CO.,LTD.   \n",
       "20515         CYLINDER  PORT RELIEF ENGINEERING CO.,LTD.   \n",
       "20516  SEAL KIT FOR CYLINDER PORT RELIEF ENGINEERING ...   \n",
       "\n",
       "                                              split_desc  \\\n",
       "0          [SEAL-O-RING-STOR, HAEIN, Coporation_Cheonan]   \n",
       "1      [OIL, COOLER, &, LINES, HAEIN, Coporation_Cheo...   \n",
       "2                    [WASHER, HAEIN, Coporation_Cheonan]   \n",
       "3           [BOLT-HIGH, TEMP, HAEIN, Coporation_Cheonan]   \n",
       "4                      [SEAL, HAEIN, Coporation_Cheonan]   \n",
       "...                                                  ...   \n",
       "20512  [HYD., CYLINDER_NET, BOAT, DAVIT, MARINE, HYDR...   \n",
       "20513  [HYD., CYLINDER_N.D, CRANE_BOOM_LIFTER, MARINE...   \n",
       "20514       [PULLY, PORT, RELIEF, ENGINEERING, CO.,LTD.]   \n",
       "20515    [CYLINDER, PORT, RELIEF, ENGINEERING, CO.,LTD.]   \n",
       "20516  [SEAL, KIT, FOR, CYLINDER, PORT, RELIEF, ENGIN...   \n",
       "\n",
       "                             encode_desc                encode_desc_1000  \n",
       "0                            [101, 1, 2]                     [102, 2, 3]  \n",
       "1                [16, 99, 63, 126, 1, 2]        [17, 100, 64, 127, 2, 3]  \n",
       "2                             [53, 1, 2]                      [54, 2, 3]  \n",
       "3                       [309, 182, 1, 2]                [310, 183, 2, 3]  \n",
       "4                             [14, 1, 2]                      [15, 2, 3]  \n",
       "...                                  ...                             ...  \n",
       "20512  [292, 5057, 373, 1210, 32, 47, 7]     [293, 1, 374, 1, 33, 48, 8]  \n",
       "20513       [292, 5058, 5059, 32, 47, 7]          [293, 1, 1, 33, 48, 8]  \n",
       "20514                [5060, 10, 9, 8, 7]               [1, 11, 10, 9, 8]  \n",
       "20515                  [33, 10, 9, 8, 7]              [34, 11, 10, 9, 8]  \n",
       "20516      [14, 20, 24, 33, 10, 9, 8, 7]  [15, 21, 25, 34, 11, 10, 9, 8]  \n",
       "\n",
       "[20517 rows x 4 columns]"
      ]
     },
     "execution_count": 209,
     "metadata": {},
     "output_type": "execute_result"
    }
   ],
   "source": [
    "pre_desc"
   ]
  }
 ],
 "metadata": {
  "kernelspec": {
   "display_name": "venv1",
   "language": "python",
   "name": "venv"
  },
  "language_info": {
   "codemirror_mode": {
    "name": "ipython",
    "version": 3
   },
   "file_extension": ".py",
   "mimetype": "text/x-python",
   "name": "python",
   "nbconvert_exporter": "python",
   "pygments_lexer": "ipython3",
   "version": "3.10.10"
  }
 },
 "nbformat": 4,
 "nbformat_minor": 5
}
