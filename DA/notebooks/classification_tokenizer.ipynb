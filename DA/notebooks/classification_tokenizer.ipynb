{
 "cells": [
  {
   "cell_type": "code",
   "execution_count": 1,
   "id": "27754aa5-435e-4990-87c1-645aae277d38",
   "metadata": {
    "tags": []
   },
   "outputs": [],
   "source": [
    "import pandas as pd\n",
    "import numpy as np\n",
    "import matplotlib.pyplot as plt\n",
    "from sklearn.model_selection import train_test_split\n",
    "from sklearn.preprocessing import StandardScaler, LabelEncoder\n",
    "\n",
    "import tensorflow as tf\n",
    "from tensorflow import keras\n",
    "from tensorflow.keras import layers"
   ]
  },
  {
   "cell_type": "code",
   "execution_count": 2,
   "id": "58bd78d9-a7d2-450e-b166-5e931de6d33e",
   "metadata": {},
   "outputs": [],
   "source": [
    "# !pip install protobuf==3.20.0\n"
   ]
  },
  {
   "cell_type": "code",
   "execution_count": 3,
   "id": "492cb780-2f55-4416-bc15-ca9a7d70b65c",
   "metadata": {},
   "outputs": [],
   "source": [
    "# !pip uninstall tensorflow tensorflow-gpu keras"
   ]
  },
  {
   "cell_type": "code",
   "execution_count": 4,
   "id": "70cd2ace-0bb3-4b0a-a5ab-9ced66d9b428",
   "metadata": {},
   "outputs": [],
   "source": [
    "# !pip install --upgrade tensorflow"
   ]
  },
  {
   "cell_type": "code",
   "execution_count": 5,
   "id": "9b0f3df5-5e82-489c-b9fa-914adcd8e312",
   "metadata": {},
   "outputs": [
    {
     "name": "stdout",
     "output_type": "stream",
     "text": [
      "2.10.0\n"
     ]
    }
   ],
   "source": [
    "import tensorflow as tf\n",
    "print(tf.__version__)"
   ]
  },
  {
   "cell_type": "code",
   "execution_count": 6,
   "id": "019767a8-b1e0-4a57-a1ab-16d4efa4acc2",
   "metadata": {
    "tags": []
   },
   "outputs": [],
   "source": [
    "data = pd.read_csv('../data/raw_postpro.csv')\n",
    "# 컬럼 삭제\n",
    "df = data.drop(['청구서번호','No.',  '선박입고','완료 여부','리드타임_음수제거','청구량','견적','견적수량','견적화폐','견적단가','발주번호','발주','발주수량','발주금액','미입고 기간','리드타임','창고입고','창고입고수량','입고창고','창고출고','창고출고수량','출고선박','출고운반선','선박입고','선박입고수량','완료 여부'], axis=1)"
   ]
  },
  {
   "cell_type": "code",
   "execution_count": 7,
   "id": "5365037e-3bc6-4779-bfb4-1901be56cea9",
   "metadata": {
    "tags": []
   },
   "outputs": [
    {
     "name": "stdout",
     "output_type": "stream",
     "text": [
      "<class 'pandas.core.frame.DataFrame'>\n",
      "RangeIndex: 20517 entries, 0 to 20516\n",
      "Data columns (total 12 columns):\n",
      " #   Column       Non-Null Count  Dtype \n",
      "---  ------       --------------  ----- \n",
      " 0   Subject      20517 non-null  object\n",
      " 1   Machinery    20517 non-null  object\n",
      " 2   Assembly     20517 non-null  object\n",
      " 3   청구품목         20517 non-null  object\n",
      " 4   Part No.1    20517 non-null  object\n",
      " 5   Part No.2    20517 non-null  object\n",
      " 6   key1         20517 non-null  object\n",
      " 7   key2         20517 non-null  object\n",
      " 8   발주처          20517 non-null  object\n",
      " 9   D/T          20517 non-null  object\n",
      " 10  Control No.  20517 non-null  object\n",
      " 11  leadtime     20517 non-null  int64 \n",
      "dtypes: int64(1), object(11)\n",
      "memory usage: 1.9+ MB\n"
     ]
    }
   ],
   "source": [
    "df.info()"
   ]
  },
  {
   "cell_type": "code",
   "execution_count": 8,
   "id": "4bd134ea-0157-4fa9-bec4-fffe52f00092",
   "metadata": {
    "tags": []
   },
   "outputs": [],
   "source": [
    "df = df[['청구품목','발주처','Machinery', 'Assembly' , \"Part No.1\", \"Part No.2\",'key2']]\n",
    "# 'Machinery', 'Assembly', '청구품목', 'Part No.1', 'Part No.2', 'key1', '발주처'"
   ]
  },
  {
   "cell_type": "code",
   "execution_count": 9,
   "id": "9acf74ac-d9e1-4bee-bf19-6c155e6cc26d",
   "metadata": {},
   "outputs": [],
   "source": [
    "delete_list = ['COMPRESSOR', 'SEAT', 'TURBINE', 'LINE', 'ANODES', 'DAMPER', 'CARD', 'BELT', 'ARM', 'SWITCH',\n",
    " 'CLIP', 'BATTERY', 'ADAPTER', 'TOOL', 'CONTROL', 'BRAKE', 'TRANSFORMER', 'WINCH']\n",
    "df = df[~df['key2'].isin(delete_list)]"
   ]
  },
  {
   "cell_type": "code",
   "execution_count": 10,
   "id": "c4d42bd2-6bbc-484f-9e51-238d432d7e16",
   "metadata": {
    "tags": []
   },
   "outputs": [
    {
     "name": "stdout",
     "output_type": "stream",
     "text": [
      "<class 'pandas.core.frame.DataFrame'>\n",
      "Index: 19367 entries, 0 to 20516\n",
      "Data columns (total 7 columns):\n",
      " #   Column     Non-Null Count  Dtype \n",
      "---  ------     --------------  ----- \n",
      " 0   청구품목       19367 non-null  object\n",
      " 1   발주처        19367 non-null  object\n",
      " 2   Machinery  19367 non-null  object\n",
      " 3   Assembly   19367 non-null  object\n",
      " 4   Part No.1  19367 non-null  object\n",
      " 5   Part No.2  19367 non-null  object\n",
      " 6   key2       19367 non-null  object\n",
      "dtypes: object(7)\n",
      "memory usage: 1.2+ MB\n"
     ]
    }
   ],
   "source": [
    "df.info()"
   ]
  },
  {
   "cell_type": "code",
   "execution_count": 11,
   "id": "c1f70b78-dc96-4e24-9922-b756b4df77e7",
   "metadata": {
    "tags": []
   },
   "outputs": [],
   "source": [
    "from sklearn import preprocessing\n",
    "label_encoders = {}  # 각 열에 대한 LabelEncoder를 저장하기 위한 딕셔너리\n",
    "columns_to_encode = ['key2']  # 인코딩을 수행할 열의 이름 리스트\n",
    "\n",
    "for column in columns_to_encode:\n",
    "    le = preprocessing.LabelEncoder()\n",
    "    le.fit(df[column])\n",
    "    label_encoders[column] = le # 딕셔너리에 저장\n",
    "    df[column+\"_encoded\"] = le.transform(df[column]) # 새로운 encoding 된 컬럼 추가"
   ]
  },
  {
   "cell_type": "code",
   "execution_count": 12,
   "id": "eabb3eb6-b82b-49a8-b4c0-e9cbddefa22d",
   "metadata": {
    "tags": []
   },
   "outputs": [],
   "source": [
    "df = df.drop(['key2'], axis=1)"
   ]
  },
  {
   "cell_type": "code",
   "execution_count": 13,
   "id": "fbf44674-a660-412e-8055-1b4e28555c3a",
   "metadata": {
    "tags": []
   },
   "outputs": [
    {
     "name": "stdout",
     "output_type": "stream",
     "text": [
      "<class 'pandas.core.frame.DataFrame'>\n",
      "Index: 19367 entries, 0 to 20516\n",
      "Data columns (total 7 columns):\n",
      " #   Column        Non-Null Count  Dtype \n",
      "---  ------        --------------  ----- \n",
      " 0   청구품목          19367 non-null  object\n",
      " 1   발주처           19367 non-null  object\n",
      " 2   Machinery     19367 non-null  object\n",
      " 3   Assembly      19367 non-null  object\n",
      " 4   Part No.1     19367 non-null  object\n",
      " 5   Part No.2     19367 non-null  object\n",
      " 6   key2_encoded  19367 non-null  int32 \n",
      "dtypes: int32(1), object(6)\n",
      "memory usage: 1.1+ MB\n"
     ]
    }
   ],
   "source": [
    "df.info()"
   ]
  },
  {
   "cell_type": "code",
   "execution_count": 14,
   "id": "bf22ea20-7c53-4de5-b007-cdefa438152a",
   "metadata": {
    "tags": []
   },
   "outputs": [],
   "source": [
    "# df_desc = df[[ '청구품목', '발주처']].apply(lambda row: ' '.join(row), axis=1)\n",
    "df_desc = df[[ '청구품목', '발주처','Machinery', \"Part No.1\", \"Part No.2\"]].apply(lambda row: ' '.join(row), axis=1)"
   ]
  },
  {
   "cell_type": "code",
   "execution_count": 15,
   "id": "44df43da-ec6a-49b5-8fd0-1ad7fb9b4d5e",
   "metadata": {
    "tags": []
   },
   "outputs": [],
   "source": [
    "lis = df_desc.values"
   ]
  },
  {
   "cell_type": "code",
   "execution_count": 16,
   "id": "db87af96-4046-4688-85a5-7aed2a53674c",
   "metadata": {
    "tags": []
   },
   "outputs": [
    {
     "name": "stdout",
     "output_type": "stream",
     "text": [
      "SEAL-O-RING-STOR HAEIN Coporation_Cheonan NO.1 GENERATOR ENGINE 7.00E-275 0\n",
      "OIL COOLER & LINES HAEIN Coporation_Cheonan NO.2 GENERATOR ENGINE 7.00E-275 0\n",
      "WASHER HAEIN Coporation_Cheonan NO.2 GENERATOR ENGINE 7.00E-275 0\n",
      "BOLT-HIGH TEMP HAEIN Coporation_Cheonan NO.1 GENERATOR ENGINE 7.00E-275 0\n",
      "SEAL HAEIN Coporation_Cheonan NO.1 GENERATOR ENGINE 7.00E-275 0\n",
      "CORE CHARGES FOR CYLINDER PACK AS HAEIN Coporation_Cheonan NO.2 GENERATOR ENGINE 7.00E-275 0\n",
      "PUMP GP-F TFR-REMAN HAEIN Coporation_Cheonan NO.3 GENERATOR ENGINE 7.00E-275 0\n",
      "GEAR-WTR PUMP DR HAEIN Coporation_Cheonan NO.1 GENERATOR ENGINE 7.00E-275 0\n",
      "GEAR-WTR PUMP DR HAEIN Coporation_Cheonan NO.3 GENERATOR ENGINE 7.00E-275 0\n",
      "GEAR-WTR PUMP DR HAEIN Coporation_Cheonan NO.3 GENERATOR ENGINE 7.00E-275 0\n",
      "GEAR-WTR PUMP DR HAEIN Coporation_Cheonan NO.1 GENERATOR ENGINE 7.00E-275 0\n",
      "GEAR-WTR PUMP DR HAEIN Coporation_Cheonan NO.1 GENERATOR ENGINE 7.00E-275 0\n",
      "GEAR-WTR PUMP DR HAEIN Coporation_Cheonan NO.3 GENERATOR ENGINE 7.00E-275 0\n",
      "IMPELLER (주)정원펌프 NO.1 CONDENSER PUMP 3 0\n",
      "SELF-ALIGNING ROLLER BEARING 대동베아링상사 BOW THRUSTER 4.56 133\n",
      "TAPERED ROLLER BEARING 대동베아링상사 BOW THRUSTER 5.57 134\n",
      "SELF-ALIGNING ROLLER BEARING 대동베아링상사 BOW THRUSTER 6.58 135\n",
      "TAPERED ROLLER BEARING 대동베아링상사 BOW THRUSTER 7.59 350\n",
      "EXHUAST GAS TEMP. INDICATOR, P5 PIRIOU NAVAL SKIFF BOAT 14.9795 0\n",
      "EXHAUST GAS TEMPERATURE INDICATOR 0 TO 700℃ PIRIOU NAVAL SKIFF BOAT 14.9795 0\n"
     ]
    }
   ],
   "source": [
    "cnt = 0\n",
    "for i in lis:\n",
    "    print(i)\n",
    "    cnt += 1\n",
    "    if cnt == 20:\n",
    "        break"
   ]
  },
  {
   "cell_type": "code",
   "execution_count": 17,
   "id": "0df43b32-2ac6-405a-88e1-be487c1ee60e",
   "metadata": {
    "tags": []
   },
   "outputs": [],
   "source": [
    "desc = df_desc.to_frame()"
   ]
  },
  {
   "cell_type": "code",
   "execution_count": 18,
   "id": "c40232dc-32b1-4cf3-ba9b-dedd90250c50",
   "metadata": {
    "tags": []
   },
   "outputs": [],
   "source": [
    "desc['key2'] = df['key2_encoded']"
   ]
  },
  {
   "cell_type": "code",
   "execution_count": 19,
   "id": "a21a1844-ae1d-4d3a-8b41-1092466c096d",
   "metadata": {
    "tags": []
   },
   "outputs": [
    {
     "data": {
      "text/html": [
       "<div>\n",
       "<style scoped>\n",
       "    .dataframe tbody tr th:only-of-type {\n",
       "        vertical-align: middle;\n",
       "    }\n",
       "\n",
       "    .dataframe tbody tr th {\n",
       "        vertical-align: top;\n",
       "    }\n",
       "\n",
       "    .dataframe thead th {\n",
       "        text-align: right;\n",
       "    }\n",
       "</style>\n",
       "<table border=\"1\" class=\"dataframe\">\n",
       "  <thead>\n",
       "    <tr style=\"text-align: right;\">\n",
       "      <th></th>\n",
       "      <th>0</th>\n",
       "      <th>key2</th>\n",
       "    </tr>\n",
       "  </thead>\n",
       "  <tbody>\n",
       "    <tr>\n",
       "      <th>0</th>\n",
       "      <td>SEAL-O-RING-STOR HAEIN Coporation_Cheonan NO.1...</td>\n",
       "      <td>8</td>\n",
       "    </tr>\n",
       "    <tr>\n",
       "      <th>1</th>\n",
       "      <td>OIL COOLER &amp; LINES HAEIN Coporation_Cheonan NO...</td>\n",
       "      <td>8</td>\n",
       "    </tr>\n",
       "    <tr>\n",
       "      <th>2</th>\n",
       "      <td>WASHER HAEIN Coporation_Cheonan NO.2 GENERATOR...</td>\n",
       "      <td>8</td>\n",
       "    </tr>\n",
       "    <tr>\n",
       "      <th>3</th>\n",
       "      <td>BOLT-HIGH TEMP HAEIN Coporation_Cheonan NO.1 G...</td>\n",
       "      <td>8</td>\n",
       "    </tr>\n",
       "    <tr>\n",
       "      <th>4</th>\n",
       "      <td>SEAL HAEIN Coporation_Cheonan NO.1 GENERATOR E...</td>\n",
       "      <td>8</td>\n",
       "    </tr>\n",
       "    <tr>\n",
       "      <th>...</th>\n",
       "      <td>...</td>\n",
       "      <td>...</td>\n",
       "    </tr>\n",
       "    <tr>\n",
       "      <th>20511</th>\n",
       "      <td>CORRO, ELIMINATOR+PLUG FOR OIL COOLER MARINE H...</td>\n",
       "      <td>8</td>\n",
       "    </tr>\n",
       "    <tr>\n",
       "      <th>20512</th>\n",
       "      <td>HYD. CYLINDER_NET BOAT DAVIT MARINE HYDROTEC C...</td>\n",
       "      <td>10</td>\n",
       "    </tr>\n",
       "    <tr>\n",
       "      <th>20513</th>\n",
       "      <td>HYD. CYLINDER_N.D CRANE_BOOM_LIFTER MARINE HYD...</td>\n",
       "      <td>10</td>\n",
       "    </tr>\n",
       "    <tr>\n",
       "      <th>20515</th>\n",
       "      <td>CYLINDER  PORT RELIEF ENGINEERING CO.,LTD. 7M ...</td>\n",
       "      <td>10</td>\n",
       "    </tr>\n",
       "    <tr>\n",
       "      <th>20516</th>\n",
       "      <td>SEAL KIT FOR CYLINDER PORT RELIEF ENGINEERING ...</td>\n",
       "      <td>10</td>\n",
       "    </tr>\n",
       "  </tbody>\n",
       "</table>\n",
       "<p>19367 rows × 2 columns</p>\n",
       "</div>"
      ],
      "text/plain": [
       "                                                       0  key2\n",
       "0      SEAL-O-RING-STOR HAEIN Coporation_Cheonan NO.1...     8\n",
       "1      OIL COOLER & LINES HAEIN Coporation_Cheonan NO...     8\n",
       "2      WASHER HAEIN Coporation_Cheonan NO.2 GENERATOR...     8\n",
       "3      BOLT-HIGH TEMP HAEIN Coporation_Cheonan NO.1 G...     8\n",
       "4      SEAL HAEIN Coporation_Cheonan NO.1 GENERATOR E...     8\n",
       "...                                                  ...   ...\n",
       "20511  CORRO, ELIMINATOR+PLUG FOR OIL COOLER MARINE H...     8\n",
       "20512  HYD. CYLINDER_NET BOAT DAVIT MARINE HYDROTEC C...    10\n",
       "20513  HYD. CYLINDER_N.D CRANE_BOOM_LIFTER MARINE HYD...    10\n",
       "20515  CYLINDER  PORT RELIEF ENGINEERING CO.,LTD. 7M ...    10\n",
       "20516  SEAL KIT FOR CYLINDER PORT RELIEF ENGINEERING ...    10\n",
       "\n",
       "[19367 rows x 2 columns]"
      ]
     },
     "execution_count": 19,
     "metadata": {},
     "output_type": "execute_result"
    }
   ],
   "source": [
    "desc"
   ]
  },
  {
   "cell_type": "code",
   "execution_count": 20,
   "id": "6793d0e7-e427-4da4-9f1e-2311e60c07d7",
   "metadata": {
    "tags": []
   },
   "outputs": [],
   "source": [
    "desc.columns = ['origin','key2']"
   ]
  },
  {
   "cell_type": "code",
   "execution_count": 21,
   "id": "f9b2cd6c-c667-45f7-b6d1-5317d678b348",
   "metadata": {
    "tags": []
   },
   "outputs": [
    {
     "data": {
      "text/html": [
       "<div>\n",
       "<style scoped>\n",
       "    .dataframe tbody tr th:only-of-type {\n",
       "        vertical-align: middle;\n",
       "    }\n",
       "\n",
       "    .dataframe tbody tr th {\n",
       "        vertical-align: top;\n",
       "    }\n",
       "\n",
       "    .dataframe thead th {\n",
       "        text-align: right;\n",
       "    }\n",
       "</style>\n",
       "<table border=\"1\" class=\"dataframe\">\n",
       "  <thead>\n",
       "    <tr style=\"text-align: right;\">\n",
       "      <th></th>\n",
       "      <th>origin</th>\n",
       "      <th>key2</th>\n",
       "    </tr>\n",
       "  </thead>\n",
       "  <tbody>\n",
       "    <tr>\n",
       "      <th>0</th>\n",
       "      <td>SEAL-O-RING-STOR HAEIN Coporation_Cheonan NO.1...</td>\n",
       "      <td>8</td>\n",
       "    </tr>\n",
       "    <tr>\n",
       "      <th>1</th>\n",
       "      <td>OIL COOLER &amp; LINES HAEIN Coporation_Cheonan NO...</td>\n",
       "      <td>8</td>\n",
       "    </tr>\n",
       "    <tr>\n",
       "      <th>2</th>\n",
       "      <td>WASHER HAEIN Coporation_Cheonan NO.2 GENERATOR...</td>\n",
       "      <td>8</td>\n",
       "    </tr>\n",
       "    <tr>\n",
       "      <th>3</th>\n",
       "      <td>BOLT-HIGH TEMP HAEIN Coporation_Cheonan NO.1 G...</td>\n",
       "      <td>8</td>\n",
       "    </tr>\n",
       "    <tr>\n",
       "      <th>4</th>\n",
       "      <td>SEAL HAEIN Coporation_Cheonan NO.1 GENERATOR E...</td>\n",
       "      <td>8</td>\n",
       "    </tr>\n",
       "  </tbody>\n",
       "</table>\n",
       "</div>"
      ],
      "text/plain": [
       "                                              origin  key2\n",
       "0  SEAL-O-RING-STOR HAEIN Coporation_Cheonan NO.1...     8\n",
       "1  OIL COOLER & LINES HAEIN Coporation_Cheonan NO...     8\n",
       "2  WASHER HAEIN Coporation_Cheonan NO.2 GENERATOR...     8\n",
       "3  BOLT-HIGH TEMP HAEIN Coporation_Cheonan NO.1 G...     8\n",
       "4  SEAL HAEIN Coporation_Cheonan NO.1 GENERATOR E...     8"
      ]
     },
     "execution_count": 21,
     "metadata": {},
     "output_type": "execute_result"
    }
   ],
   "source": [
    "desc.head()"
   ]
  },
  {
   "cell_type": "code",
   "execution_count": 22,
   "id": "cf3b513c-c392-40dc-b3d8-498954d7a370",
   "metadata": {
    "tags": []
   },
   "outputs": [],
   "source": [
    "X = desc['origin'].values"
   ]
  },
  {
   "cell_type": "code",
   "execution_count": 23,
   "id": "bff7bb7a-67b9-4af6-adaa-32c967753132",
   "metadata": {
    "tags": []
   },
   "outputs": [],
   "source": [
    "y = desc['key2'].values"
   ]
  },
  {
   "cell_type": "code",
   "execution_count": 24,
   "id": "72ccc925-5f19-4045-be04-7c0079e73032",
   "metadata": {
    "tags": []
   },
   "outputs": [
    {
     "data": {
      "text/plain": [
       "[[26, 24, 19, 174, 4, 5, 6, 3, 7, 8, 2, 231, 1178, 981, 1],\n",
       " [41, 170, 221, 4, 5, 6, 3, 38, 8, 2, 231, 1178, 981, 1],\n",
       " [58, 4, 5, 6, 3, 38, 8, 2, 231, 1178, 981, 1]]"
      ]
     },
     "execution_count": 24,
     "metadata": {},
     "output_type": "execute_result"
    }
   ],
   "source": [
    "from tensorflow.keras.preprocessing.text import Tokenizer\n",
    "from tensorflow.keras.preprocessing.sequence import pad_sequences\n",
    "tokenizer = Tokenizer()\n",
    "tokenizer.fit_on_texts(X)\n",
    "sequences = tokenizer.texts_to_sequences(X)\n",
    "sequences[:3] # 상위 3개 샘플 출력"
   ]
  },
  {
   "cell_type": "code",
   "execution_count": 25,
   "id": "506b4b39-b892-4713-9e87-8d0b06331ae6",
   "metadata": {
    "tags": []
   },
   "outputs": [
    {
     "name": "stdout",
     "output_type": "stream",
     "text": [
      "단어 집합(Vocabulary)의 크기 : 10769\n"
     ]
    }
   ],
   "source": [
    "word_index = tokenizer.word_index\n",
    "vocab_size = len(word_index) + 1\n",
    "print('단어 집합(Vocabulary)의 크기 :',vocab_size)"
   ]
  },
  {
   "cell_type": "code",
   "execution_count": 26,
   "id": "a62c9fa8-e756-4f97-be65-7de312330c93",
   "metadata": {
    "tags": []
   },
   "outputs": [
    {
     "name": "stdout",
     "output_type": "stream",
     "text": [
      "문장의 최대 길이 : 32\n",
      "문장의 평균 길이 : 13.068002271905819\n"
     ]
    },
    {
     "data": {
      "image/png": "[encoded data removed]",
      "text/plain": [
       "<Figure size 640x480 with 1 Axes>"
      ]
     },
     "metadata": {},
     "output_type": "display_data"
    }
   ],
   "source": [
    "print('문장의 최대 길이 :',max(len(l) for l in sequences))\n",
    "print('문장의 평균 길이 :',sum(map(len, sequences))/len(sequences))\n",
    "plt.hist([len(s) for s in sequences], bins=50)\n",
    "plt.xlabel('length of samples')\n",
    "plt.ylabel('number of samples')\n",
    "# plt.savefig('text_length.png')  # 이미지 파일로 저장\n",
    "plt.show()"
   ]
  },
  {
   "cell_type": "code",
   "execution_count": 27,
   "id": "d1931c4a-c22b-468c-ac4c-d6ef4c749eac",
   "metadata": {
    "tags": []
   },
   "outputs": [],
   "source": [
    "from sklearn.model_selection import train_test_split\n",
    "X_train, X_test, y_train, y_test = train_test_split(sequences, y, test_size=0.2, random_state=42,shuffle=True)"
   ]
  },
  {
   "cell_type": "code",
   "execution_count": 28,
   "id": "3f6a6f45-444c-4591-a340-06c92e086dbc",
   "metadata": {
    "tags": []
   },
   "outputs": [],
   "source": [
    "# 딥러닝 모델을 만들기 위해 categorical 함수 사용\n",
    "from tensorflow.keras.utils import to_categorical\n",
    "y_train_categorical = to_categorical(y_train, num_classes=43)\n",
    "# y_train_categorical = to_categorical(np.asarray(y_train))\n",
    "# to_categorical(np.asarray(label_train))\n",
    "y_test_categorical = to_categorical(y_test, num_classes=43)\n",
    "# y_test_categorical = to_categorical(np.asarray(y_test))"
   ]
  },
  {
   "cell_type": "code",
   "execution_count": 29,
   "id": "6094d54a-f109-4a1c-93ef-66e6cc318767",
   "metadata": {
    "tags": []
   },
   "outputs": [
    {
     "data": {
      "text/plain": [
       "array([[0., 0., 0., 0., 0., 0., 0., 0., 0., 0., 1., 0., 0., 0., 0., 0.,\n",
       "        0., 0., 0., 0., 0., 0., 0., 0., 0., 0., 0., 0., 0., 0., 0., 0.,\n",
       "        0., 0., 0., 0., 0., 0., 0., 0., 0., 0., 0.],\n",
       "       [0., 0., 0., 0., 0., 0., 0., 0., 0., 0., 0., 0., 0., 0., 0., 0.,\n",
       "        0., 0., 0., 0., 0., 0., 0., 0., 0., 0., 0., 0., 0., 0., 0., 0.,\n",
       "        0., 0., 0., 1., 0., 0., 0., 0., 0., 0., 0.],\n",
       "       [0., 0., 0., 0., 0., 0., 0., 0., 0., 0., 0., 0., 0., 0., 0., 0.,\n",
       "        0., 0., 0., 0., 0., 0., 0., 0., 0., 0., 0., 0., 0., 0., 0., 0.,\n",
       "        0., 0., 0., 0., 0., 0., 0., 0., 0., 1., 0.],\n",
       "       [0., 0., 0., 0., 0., 0., 0., 0., 0., 0., 0., 0., 0., 1., 0., 0.,\n",
       "        0., 0., 0., 0., 0., 0., 0., 0., 0., 0., 0., 0., 0., 0., 0., 0.,\n",
       "        0., 0., 0., 0., 0., 0., 0., 0., 0., 0., 0.],\n",
       "       [0., 0., 0., 1., 0., 0., 0., 0., 0., 0., 0., 0., 0., 0., 0., 0.,\n",
       "        0., 0., 0., 0., 0., 0., 0., 0., 0., 0., 0., 0., 0., 0., 0., 0.,\n",
       "        0., 0., 0., 0., 0., 0., 0., 0., 0., 0., 0.]], dtype=float32)"
      ]
     },
     "execution_count": 29,
     "metadata": {},
     "output_type": "execute_result"
    }
   ],
   "source": [
    "y_train_categorical[:5]"
   ]
  },
  {
   "cell_type": "code",
   "execution_count": 30,
   "id": "f675a3fe-f40a-4139-85c0-d044d41eacc9",
   "metadata": {
    "tags": []
   },
   "outputs": [
    {
     "name": "stdout",
     "output_type": "stream",
     "text": [
      "훈련 데이터의 크기(shape): (15493, 33)\n",
      "훈련 데이터 레이블의 크기(shape): (15493, 43)\n"
     ]
    }
   ],
   "source": [
    "# 시퀀스 사용\n",
    "max_len = 33\n",
    "\n",
    "X_train = pad_sequences(X_train, maxlen = max_len)\n",
    "X_test = pad_sequences(X_test, maxlen = max_len)\n",
    "print('훈련 데이터의 크기(shape):', X_train.shape)\n",
    "print('훈련 데이터 레이블의 크기(shape):', y_train_categorical.shape)"
   ]
  },
  {
   "cell_type": "code",
   "execution_count": 31,
   "id": "525fc4c4-bf34-4190-a899-2c844966ddef",
   "metadata": {
    "tags": []
   },
   "outputs": [
    {
     "name": "stdout",
     "output_type": "stream",
     "text": [
      "훈련 데이터의 첫번째 샘플 : [  0   0   0   0   0   0   0   0   0   0   0   0   0   0   0   0   0  60\n",
      " 103  59 149  48  14   4   5   6   3  32   8   2  97 426   1]\n",
      "훈련 데이터의 첫번째 샘플의 레이블 : [0. 0. 0. 0. 0. 0. 0. 0. 0. 0. 1. 0. 0. 0. 0. 0. 0. 0. 0. 0. 0. 0. 0. 0.\n",
      " 0. 0. 0. 0. 0. 0. 0. 0. 0. 0. 0. 0. 0. 0. 0. 0. 0. 0. 0.]\n"
     ]
    }
   ],
   "source": [
    "print('훈련 데이터의 첫번째 샘플 :',X_train[0])\n",
    "print('훈련 데이터의 첫번째 샘플의 레이블 :',y_train_categorical[0])"
   ]
  },
  {
   "cell_type": "code",
   "execution_count": null,
   "id": "1d561732-0afc-4ba4-9860-65aa85ffbf88",
   "metadata": {},
   "outputs": [],
   "source": []
  },
  {
   "cell_type": "code",
   "execution_count": 32,
   "id": "43945d88-3c7d-4c2f-b820-cb34a0fcb6d8",
   "metadata": {
    "tags": []
   },
   "outputs": [
    {
     "name": "stdout",
     "output_type": "stream",
     "text": [
      "랜덤 시퀀스 : [13514  7571 15240 ...  2236  6105  6648]\n"
     ]
    }
   ],
   "source": [
    "# indices = np.arange(X_train.shape[0])\n",
    "indices = np.arange(X_train.shape[0])\n",
    "np.random.shuffle(indices)\n",
    "print('랜덤 시퀀스 :',indices)"
   ]
  },
  {
   "cell_type": "code",
   "execution_count": 33,
   "id": "f1f1b27f-b3ae-4e9f-b34b-3df3a5d212eb",
   "metadata": {
    "tags": []
   },
   "outputs": [
    {
     "data": {
      "text/plain": [
       "15493"
      ]
     },
     "execution_count": 33,
     "metadata": {},
     "output_type": "execute_result"
    }
   ],
   "source": [
    "len(indices)"
   ]
  },
  {
   "cell_type": "code",
   "execution_count": 34,
   "id": "2c5af4b8-c4de-4c74-8597-4c011393f870",
   "metadata": {
    "tags": []
   },
   "outputs": [],
   "source": [
    "X_train = X_train[indices]\n",
    "y_train_categorical = y_train_categorical[indices]"
   ]
  },
  {
   "cell_type": "code",
   "execution_count": 35,
   "id": "a4a96c04-a1af-46fc-8e38-78b3cc0f9349",
   "metadata": {
    "tags": []
   },
   "outputs": [
    {
     "name": "stdout",
     "output_type": "stream",
     "text": [
      "검증 데이터의 개수 : 1549\n"
     ]
    }
   ],
   "source": [
    "n_of_val = int(0.1 * X_train.shape[0])\n",
    "print('검증 데이터의 개수 :',n_of_val)"
   ]
  },
  {
   "cell_type": "code",
   "execution_count": 36,
   "id": "64455238-3157-4c84-abbd-12e05e0b3092",
   "metadata": {
    "tags": []
   },
   "outputs": [],
   "source": [
    "X_train = X_train[:-n_of_val]\n",
    "y_train_categorical = y_train_categorical[:-n_of_val]\n",
    "X_val = X_train[-n_of_val:]\n",
    "y_val = y_train_categorical[-n_of_val:]"
   ]
  },
  {
   "cell_type": "code",
   "execution_count": 37,
   "id": "ff9afb72-1e2d-42e6-a1ef-8e790ef778dd",
   "metadata": {
    "tags": []
   },
   "outputs": [
    {
     "name": "stdout",
     "output_type": "stream",
     "text": [
      "훈련 데이터의 크기(shape): (13944, 33)\n",
      "훈련 데이터 레이블의 크기(shape): (13944, 43)\n"
     ]
    }
   ],
   "source": [
    "print('훈련 데이터의 크기(shape):', X_train.shape)\n",
    "print('훈련 데이터 레이블의 크기(shape):', y_train_categorical.shape)"
   ]
  },
  {
   "cell_type": "code",
   "execution_count": 38,
   "id": "ed277b46-6ff1-4d1f-acf5-c1f216c9768c",
   "metadata": {
    "tags": []
   },
   "outputs": [],
   "source": [
    "# !wget http://nlp.stanford.edu/data/glove.6B.zip\n",
    "# !unzip glove*.zip"
   ]
  },
  {
   "cell_type": "code",
   "execution_count": 39,
   "id": "c9c329da-3a50-4cc6-a598-8abd43fb7e9d",
   "metadata": {
    "tags": []
   },
   "outputs": [
    {
     "name": "stdout",
     "output_type": "stream",
     "text": [
      "Epoch 1/30\n",
      "109/109 [==============================] - 4s 10ms/step - loss: 3.1342 - acc: 0.2315 - val_loss: 2.7327 - val_acc: 0.2931\n",
      "Epoch 2/30\n",
      "109/109 [==============================] - 1s 7ms/step - loss: 2.1916 - acc: 0.4520 - val_loss: 1.7057 - val_acc: 0.5752\n",
      "Epoch 3/30\n",
      "109/109 [==============================] - 1s 7ms/step - loss: 1.3077 - acc: 0.7020 - val_loss: 0.9526 - val_acc: 0.7889\n",
      "Epoch 4/30\n",
      "109/109 [==============================] - 1s 7ms/step - loss: 0.7186 - acc: 0.8535 - val_loss: 0.4955 - val_acc: 0.9103\n",
      "Epoch 5/30\n",
      "109/109 [==============================] - 1s 7ms/step - loss: 0.4069 - acc: 0.9277 - val_loss: 0.2826 - val_acc: 0.9593\n",
      "Epoch 6/30\n",
      "109/109 [==============================] - 1s 7ms/step - loss: 0.2398 - acc: 0.9646 - val_loss: 0.1676 - val_acc: 0.9845\n",
      "Epoch 7/30\n",
      "109/109 [==============================] - 1s 7ms/step - loss: 0.1515 - acc: 0.9806 - val_loss: 0.1056 - val_acc: 0.9897\n",
      "Epoch 8/30\n",
      "109/109 [==============================] - 1s 7ms/step - loss: 0.1000 - acc: 0.9886 - val_loss: 0.0690 - val_acc: 0.9929\n",
      "Epoch 9/30\n",
      "109/109 [==============================] - 1s 7ms/step - loss: 0.0684 - acc: 0.9930 - val_loss: 0.0548 - val_acc: 0.9942\n",
      "Epoch 10/30\n",
      "109/109 [==============================] - 1s 7ms/step - loss: 0.0506 - acc: 0.9947 - val_loss: 0.0432 - val_acc: 0.9948\n",
      "Epoch 11/30\n",
      "109/109 [==============================] - 1s 7ms/step - loss: 0.0373 - acc: 0.9963 - val_loss: 0.0267 - val_acc: 0.9994\n",
      "Epoch 12/30\n",
      "109/109 [==============================] - 1s 7ms/step - loss: 0.0292 - acc: 0.9973 - val_loss: 0.0199 - val_acc: 0.9994\n",
      "Epoch 13/30\n",
      "109/109 [==============================] - 1s 7ms/step - loss: 0.0240 - acc: 0.9977 - val_loss: 0.0147 - val_acc: 0.9994\n",
      "Epoch 14/30\n",
      "109/109 [==============================] - 1s 7ms/step - loss: 0.0192 - acc: 0.9978 - val_loss: 0.0152 - val_acc: 0.9987\n",
      "Epoch 15/30\n",
      "109/109 [==============================] - 1s 7ms/step - loss: 0.0162 - acc: 0.9982 - val_loss: 0.0091 - val_acc: 1.0000\n",
      "Epoch 16/30\n",
      "109/109 [==============================] - 1s 7ms/step - loss: 0.0127 - acc: 0.9984 - val_loss: 0.0083 - val_acc: 1.0000\n",
      "Epoch 17/30\n",
      "109/109 [==============================] - 1s 7ms/step - loss: 0.0116 - acc: 0.9987 - val_loss: 0.0085 - val_acc: 0.9981\n",
      "Epoch 18/30\n",
      "109/109 [==============================] - 1s 7ms/step - loss: 0.0100 - acc: 0.9988 - val_loss: 0.0064 - val_acc: 1.0000\n",
      "Epoch 19/30\n",
      "109/109 [==============================] - 1s 7ms/step - loss: 0.0099 - acc: 0.9988 - val_loss: 0.0055 - val_acc: 1.0000\n",
      "Epoch 20/30\n",
      "109/109 [==============================] - 1s 7ms/step - loss: 0.0087 - acc: 0.9984 - val_loss: 0.0058 - val_acc: 0.9987\n",
      "Epoch 21/30\n",
      "109/109 [==============================] - 1s 7ms/step - loss: 0.0098 - acc: 0.9981 - val_loss: 0.0071 - val_acc: 0.9994\n",
      "Epoch 22/30\n",
      "109/109 [==============================] - 1s 7ms/step - loss: 0.0095 - acc: 0.9981 - val_loss: 0.0103 - val_acc: 0.9987\n",
      "Epoch 23/30\n",
      "109/109 [==============================] - 1s 7ms/step - loss: 0.0079 - acc: 0.9982 - val_loss: 0.0034 - val_acc: 1.0000\n",
      "Epoch 24/30\n",
      "109/109 [==============================] - 1s 7ms/step - loss: 0.0061 - acc: 0.9990 - val_loss: 0.0029 - val_acc: 1.0000\n",
      "Epoch 25/30\n",
      "109/109 [==============================] - 1s 7ms/step - loss: 0.0050 - acc: 0.9987 - val_loss: 0.0031 - val_acc: 0.9994\n",
      "Epoch 26/30\n",
      "109/109 [==============================] - 1s 7ms/step - loss: 0.0046 - acc: 0.9991 - val_loss: 0.0033 - val_acc: 0.9994\n",
      "Epoch 27/30\n",
      "109/109 [==============================] - 1s 7ms/step - loss: 0.0042 - acc: 0.9987 - val_loss: 0.0029 - val_acc: 0.9994\n",
      "Epoch 28/30\n",
      "109/109 [==============================] - 1s 7ms/step - loss: 0.0039 - acc: 0.9989 - val_loss: 0.0021 - val_acc: 1.0000\n",
      "Epoch 29/30\n",
      "109/109 [==============================] - 1s 7ms/step - loss: 0.0036 - acc: 0.9990 - val_loss: 0.0026 - val_acc: 1.0000\n",
      "Epoch 30/30\n",
      "109/109 [==============================] - 1s 7ms/step - loss: 0.0040 - acc: 0.9988 - val_loss: 0.0026 - val_acc: 0.9994\n"
     ]
    }
   ],
   "source": [
    "from tensorflow.keras.models import Sequential\n",
    "from tensorflow.keras.layers import Dense, LSTM, Embedding, Dropout\n",
    "from tensorflow.keras.callbacks import EarlyStopping, ModelCheckpoint\n",
    "\n",
    "embedding_dim = 120\n",
    "hidden_units = 64\n",
    "num_classes = 43 # 61\n",
    "\n",
    "model = Sequential()\n",
    "model.add(Embedding(vocab_size, embedding_dim))\n",
    "model.add(Dropout(0.1))\n",
    "model.add(LSTM(hidden_units))\n",
    "model.add(Dense(num_classes, activation='softmax'))\n",
    "\n",
    "# es = EarlyStopping(monitor='val_loss', mode='min', verbose=1, patience=4)\n",
    "# mc = ModelCheckpoint('best_model.h5', monitor='val_acc', mode='max', verbose=1, save_best_only=True)\n",
    "\n",
    "model.compile(loss='categorical_crossentropy', optimizer='adam', metrics=['acc'])\n",
    "history = model.fit(X_train, y_train_categorical, batch_size=128, epochs=30, validation_data=(X_val, y_val))"
   ]
  },
  {
   "cell_type": "code",
   "execution_count": 40,
   "id": "8ac6fbfb-2068-4f30-8270-06c967839bf2",
   "metadata": {
    "tags": []
   },
   "outputs": [
    {
     "name": "stdout",
     "output_type": "stream",
     "text": [
      "122/122 [==============================] - 1s 2ms/step\n"
     ]
    }
   ],
   "source": [
    "\n",
    "y_pred= model.predict(X_test)                    "
   ]
  },
  {
   "cell_type": "code",
   "execution_count": 41,
   "id": "0e60bd33-8702-4969-ab27-7f43f27f4abf",
   "metadata": {
    "tags": []
   },
   "outputs": [
    {
     "name": "stdout",
     "output_type": "stream",
     "text": [
      "122/122 [==============================] - 0s 3ms/step - loss: 0.4252 - acc: 0.9298\n"
     ]
    },
    {
     "data": {
      "text/plain": [
       "0.92978835105896"
      ]
     },
     "execution_count": 41,
     "metadata": {},
     "output_type": "execute_result"
    }
   ],
   "source": [
    "model.evaluate(X_test, y_test_categorical)[1]"
   ]
  },
  {
   "cell_type": "code",
   "execution_count": 42,
   "id": "c24461ac-c590-44b7-8200-80b559fc56e7",
   "metadata": {
    "tags": []
   },
   "outputs": [],
   "source": [
    "# y_pred 랑 y_test 를 원래 labeling 된 데이터로 변환\n",
    "y_pred_classes = np.argmax(y_pred, axis=1)\n",
    "y_test_classes = np.argmax(y_test_categorical, axis=1)"
   ]
  },
  {
   "cell_type": "code",
   "execution_count": 43,
   "id": "20eed09d-ad8f-4704-830f-477cea49f33b",
   "metadata": {
    "tags": []
   },
   "outputs": [
    {
     "data": {
      "text/plain": [
       "(array([28, 39, 28, 32, 15, 13, 13, 13,  8, 12, 15, 14, 33, 13, 13, 13, 19,\n",
       "         0,  0, 13, 42, 28, 23,  0, 41, 13, 16, 28, 13, 28, 33, 13, 33, 35,\n",
       "        13, 13, 41,  0, 27, 28, 40, 40, 28, 10, 13,  0,  0, 15, 13,  0, 29,\n",
       "        34, 13, 32, 15,  0, 33, 34, 13, 32, 13,  8, 13, 13, 13, 14, 13, 13,\n",
       "        13, 37, 41,  0, 40, 13,  0, 40, 25, 25, 28, 13, 33, 13, 14, 13, 11,\n",
       "        15,  9, 41, 40, 41, 36,  0, 41, 13,  0, 41, 22, 13, 32, 21],\n",
       "       dtype=int64),\n",
       " array([28, 39, 28, 32, 15, 13, 13, 19,  8, 12, 24, 14, 33, 13, 41, 13, 19,\n",
       "         0,  0, 13, 42, 28, 23,  0, 41,  2, 16, 28, 13, 28, 33, 32, 33, 35,\n",
       "        13, 13, 41,  0, 27, 28, 40, 13, 18, 10, 13,  0,  0, 15, 13,  0, 29,\n",
       "        34, 13, 32, 15,  0, 33, 34, 13, 32, 13,  8, 13, 13, 13, 14, 13, 13,\n",
       "        13, 37, 41,  0, 40, 13,  0, 40, 25, 25, 28, 28, 33, 13, 14, 13, 11,\n",
       "        15,  9, 13, 40, 41, 36,  0, 41, 13,  0, 13, 22, 13, 32, 21],\n",
       "       dtype=int64))"
      ]
     },
     "execution_count": 43,
     "metadata": {},
     "output_type": "execute_result"
    }
   ],
   "source": [
    "y_pred_classes[:100],y_test_classes[:100]"
   ]
  },
  {
   "cell_type": "code",
   "execution_count": 44,
   "id": "9066396f-e74a-43db-8719-6de7890cc2a8",
   "metadata": {
    "tags": []
   },
   "outputs": [
    {
     "data": {
      "text/plain": [
       "0.9193923056393444"
      ]
     },
     "execution_count": 44,
     "metadata": {},
     "output_type": "execute_result"
    }
   ],
   "source": [
    "from sklearn.metrics import recall_score, accuracy_score, precision_score, f1_score,classification_report\n",
    "# from seqeval.metrics import f1_score, classification_report\n",
    "f1 = f1_score(y_pred_classes, y_test_classes, average='macro')\n",
    "f1"
   ]
  },
  {
   "cell_type": "code",
   "execution_count": 45,
   "id": "65a958c5-8b0f-455d-b603-a3c14b49b3ac",
   "metadata": {
    "tags": []
   },
   "outputs": [
    {
     "name": "stdout",
     "output_type": "stream",
     "text": [
      "              precision    recall  f1-score   support\n",
      "\n",
      "           0       0.94      0.96      0.95       221\n",
      "           1       1.00      1.00      1.00        10\n",
      "           2       0.86      1.00      0.92        18\n",
      "           3       0.96      0.89      0.92       214\n",
      "           4       0.90      0.98      0.94        48\n",
      "           5       0.92      1.00      0.96        33\n",
      "           6       0.93      0.88      0.90        32\n",
      "           7       0.81      0.92      0.86        24\n",
      "           8       0.95      0.91      0.93        82\n",
      "           9       0.79      0.87      0.83        71\n",
      "          10       0.92      0.91      0.92        91\n",
      "          11       0.89      1.00      0.94        17\n",
      "          12       0.89      0.93      0.91        72\n",
      "          13       0.95      0.90      0.92       836\n",
      "          14       0.96      0.96      0.96       140\n",
      "          15       0.86      0.91      0.88        76\n",
      "          16       0.64      0.82      0.72        11\n",
      "          17       0.93      1.00      0.97        14\n",
      "          18       0.88      0.83      0.85        35\n",
      "          19       0.89      1.00      0.94        51\n",
      "          20       0.92      1.00      0.96        12\n",
      "          21       0.83      0.94      0.88        16\n",
      "          22       1.00      1.00      1.00        40\n",
      "          23       0.79      0.88      0.83        17\n",
      "          24       0.76      0.87      0.81        15\n",
      "          25       0.91      0.85      0.88        71\n",
      "          26       1.00      1.00      1.00        18\n",
      "          27       0.96      0.97      0.97        72\n",
      "          28       0.96      0.96      0.96       443\n",
      "          29       0.93      0.98      0.96        44\n",
      "          30       0.90      0.93      0.92        41\n",
      "          31       0.96      0.96      0.96        23\n",
      "          32       0.87      0.93      0.90        97\n",
      "          33       0.96      0.96      0.96       160\n",
      "          34       0.95      0.95      0.95        62\n",
      "          35       0.89      0.95      0.92        65\n",
      "          36       1.00      0.97      0.98        32\n",
      "          37       0.96      0.93      0.94        69\n",
      "          38       0.68      1.00      0.81        15\n",
      "          39       0.82      0.94      0.88        53\n",
      "          40       0.93      0.92      0.93       226\n",
      "          41       0.92      0.94      0.93       154\n",
      "          42       0.97      0.97      0.97        33\n",
      "\n",
      "    accuracy                           0.93      3874\n",
      "   macro avg       0.90      0.94      0.92      3874\n",
      "weighted avg       0.93      0.93      0.93      3874\n",
      "\n"
     ]
    }
   ],
   "source": [
    "print(classification_report(y_pred_classes, y_test_classes))"
   ]
  },
  {
   "cell_type": "code",
   "execution_count": 46,
   "id": "d11ceb96-f73e-49d5-9140-36de886fb2b7",
   "metadata": {},
   "outputs": [
    {
     "data": {
      "text/plain": [
       "('청구품목', '발주처', 'Machinery', 'Assembly', 'Part No.1', 'Part No.2')"
      ]
     },
     "execution_count": 46,
     "metadata": {},
     "output_type": "execute_result"
    }
   ],
   "source": [
    "'청구품목', '발주처','Machinery', 'Assembly' , \"Part No.1\", \"Part No.2\""
   ]
  },
  {
   "cell_type": "code",
   "execution_count": 47,
   "id": "e87fd518-6380-4290-baa2-216f4232fbc0",
   "metadata": {},
   "outputs": [],
   "source": [
    "string = \"CORE CHARGES FOR CYLINDER PACK AS, HAEIN Coporation_Cheonan, NO.2 GENERATOR ENGINE, 8N-6224 PISTON GP-ROD&, 7E-275, 0\""
   ]
  },
  {
   "cell_type": "code",
   "execution_count": null,
   "id": "7762ba5c-22bb-49d4-9a31-732135627ef2",
   "metadata": {},
   "outputs": [],
   "source": []
  },
  {
   "cell_type": "code",
   "execution_count": 48,
   "id": "39b4a909-9d61-4ee2-9906-3fdfb8a2c958",
   "metadata": {},
   "outputs": [
    {
     "data": {
      "text/plain": [
       "str"
      ]
     },
     "execution_count": 48,
     "metadata": {},
     "output_type": "execute_result"
    }
   ],
   "source": [
    "strings = [\"DEO-E-210512-01\", \"0\", \"COOLER\", \"2N4727 INSTRUMNT PANEL GP\", \"KRW\", \"HAEIN Coporation_Cheonan\"]\n",
    "combined_string = \" \".join(strings)\n",
    "type(combined_string)"
   ]
  },
  {
   "cell_type": "code",
   "execution_count": 49,
   "id": "32ffb976-c298-402f-8158-a4c4c6c0fa21",
   "metadata": {},
   "outputs": [],
   "source": [
    "string = \"CORE CHARGES FOR CYLINDER PACK AS HAEIN Coporation_Cheonan NO.2 GENERATOR ENGINE 8N-6224 PISTON GP-ROD& 7E-275 0\"\n",
    "\n",
    "# 문자열을 정수 시퀀스로 변환\n",
    "combined_sequence = tokenizer.texts_to_sequences([string])"
   ]
  },
  {
   "cell_type": "code",
   "execution_count": 50,
   "id": "b150ac5c-a1c8-41fa-a5cf-4241c9f58e64",
   "metadata": {},
   "outputs": [],
   "source": [
    "# combined_sequence\n",
    "max_len = 36\n",
    "\n",
    "X_train = pad_sequences(X_train, maxlen = max_len)"
   ]
  },
  {
   "cell_type": "code",
   "execution_count": 51,
   "id": "d68b4e20-3bae-473a-a37f-d2293cdd526b",
   "metadata": {},
   "outputs": [
    {
     "name": "stdout",
     "output_type": "stream",
     "text": [
      "1/1 [==============================] - 0s 260ms/step\n"
     ]
    }
   ],
   "source": [
    "# 시퀀스 패딩\n",
    "combined_padded_sequence = pad_sequences(combined_sequence, maxlen = max_len)\n",
    "\n",
    "# 예측\n",
    "y_pred = model.predict(combined_padded_sequence)"
   ]
  },
  {
   "cell_type": "code",
   "execution_count": 52,
   "id": "7f0913eb-64de-42f4-944d-fc9d28bedcd2",
   "metadata": {},
   "outputs": [],
   "source": [
    "# y_pred\n",
    "y_pred = np.argmax(y_pred, axis=1)"
   ]
  },
  {
   "cell_type": "code",
   "execution_count": 53,
   "id": "4db1c900-8f72-4d57-b885-a48195f52ce2",
   "metadata": {},
   "outputs": [
    {
     "data": {
      "text/plain": [
       "array([29], dtype=int64)"
      ]
     },
     "execution_count": 53,
     "metadata": {},
     "output_type": "execute_result"
    }
   ],
   "source": [
    "y_pred"
   ]
  },
  {
   "cell_type": "code",
   "execution_count": 54,
   "id": "839cfcfc-cdc3-4a3f-a3c8-b88991ecdb1e",
   "metadata": {},
   "outputs": [
    {
     "data": {
      "text/html": [
       "<style>#sk-container-id-1 {color: black;background-color: white;}#sk-container-id-1 pre{padding: 0;}#sk-container-id-1 div.sk-toggleable {background-color: white;}#sk-container-id-1 label.sk-toggleable__label {cursor: pointer;display: block;width: 100%;margin-bottom: 0;padding: 0.3em;box-sizing: border-box;text-align: center;}#sk-container-id-1 label.sk-toggleable__label-arrow:before {content: \"▸\";float: left;margin-right: 0.25em;color: #696969;}#sk-container-id-1 label.sk-toggleable__label-arrow:hover:before {color: black;}#sk-container-id-1 div.sk-estimator:hover label.sk-toggleable__label-arrow:before {color: black;}#sk-container-id-1 div.sk-toggleable__content {max-height: 0;max-width: 0;overflow: hidden;text-align: left;background-color: #f0f8ff;}#sk-container-id-1 div.sk-toggleable__content pre {margin: 0.2em;color: black;border-radius: 0.25em;background-color: #f0f8ff;}#sk-container-id-1 input.sk-toggleable__control:checked~div.sk-toggleable__content {max-height: 200px;max-width: 100%;overflow: auto;}#sk-container-id-1 input.sk-toggleable__control:checked~label.sk-toggleable__label-arrow:before {content: \"▾\";}#sk-container-id-1 div.sk-estimator input.sk-toggleable__control:checked~label.sk-toggleable__label {background-color: #d4ebff;}#sk-container-id-1 div.sk-label input.sk-toggleable__control:checked~label.sk-toggleable__label {background-color: #d4ebff;}#sk-container-id-1 input.sk-hidden--visually {border: 0;clip: rect(1px 1px 1px 1px);clip: rect(1px, 1px, 1px, 1px);height: 1px;margin: -1px;overflow: hidden;padding: 0;position: absolute;width: 1px;}#sk-container-id-1 div.sk-estimator {font-family: monospace;background-color: #f0f8ff;border: 1px dotted black;border-radius: 0.25em;box-sizing: border-box;margin-bottom: 0.5em;}#sk-container-id-1 div.sk-estimator:hover {background-color: #d4ebff;}#sk-container-id-1 div.sk-parallel-item::after {content: \"\";width: 100%;border-bottom: 1px solid gray;flex-grow: 1;}#sk-container-id-1 div.sk-label:hover label.sk-toggleable__label {background-color: #d4ebff;}#sk-container-id-1 div.sk-serial::before {content: \"\";position: absolute;border-left: 1px solid gray;box-sizing: border-box;top: 0;bottom: 0;left: 50%;z-index: 0;}#sk-container-id-1 div.sk-serial {display: flex;flex-direction: column;align-items: center;background-color: white;padding-right: 0.2em;padding-left: 0.2em;position: relative;}#sk-container-id-1 div.sk-item {position: relative;z-index: 1;}#sk-container-id-1 div.sk-parallel {display: flex;align-items: stretch;justify-content: center;background-color: white;position: relative;}#sk-container-id-1 div.sk-item::before, #sk-container-id-1 div.sk-parallel-item::before {content: \"\";position: absolute;border-left: 1px solid gray;box-sizing: border-box;top: 0;bottom: 0;left: 50%;z-index: -1;}#sk-container-id-1 div.sk-parallel-item {display: flex;flex-direction: column;z-index: 1;position: relative;background-color: white;}#sk-container-id-1 div.sk-parallel-item:first-child::after {align-self: flex-end;width: 50%;}#sk-container-id-1 div.sk-parallel-item:last-child::after {align-self: flex-start;width: 50%;}#sk-container-id-1 div.sk-parallel-item:only-child::after {width: 0;}#sk-container-id-1 div.sk-dashed-wrapped {border: 1px dashed gray;margin: 0 0.4em 0.5em 0.4em;box-sizing: border-box;padding-bottom: 0.4em;background-color: white;}#sk-container-id-1 div.sk-label label {font-family: monospace;font-weight: bold;display: inline-block;line-height: 1.2em;}#sk-container-id-1 div.sk-label-container {text-align: center;}#sk-container-id-1 div.sk-container {/* jupyter's `normalize.less` sets `[hidden] { display: none; }` but bootstrap.min.css set `[hidden] { display: none !important; }` so we also need the `!important` here to be able to override the default hidden behavior on the sphinx rendered scikit-learn.org. See: https://github.com/scikit-learn/scikit-learn/issues/21755 */display: inline-block !important;position: relative;}#sk-container-id-1 div.sk-text-repr-fallback {display: none;}</style><div id=\"sk-container-id-1\" class=\"sk-top-container\"><div class=\"sk-text-repr-fallback\"><pre>LabelEncoder()</pre><b>In a Jupyter environment, please rerun this cell to show the HTML representation or trust the notebook. <br />On GitHub, the HTML representation is unable to render, please try loading this page with nbviewer.org.</b></div><div class=\"sk-container\" hidden><div class=\"sk-item\"><div class=\"sk-estimator sk-toggleable\"><input class=\"sk-toggleable__control sk-hidden--visually\" id=\"sk-estimator-id-1\" type=\"checkbox\" checked><label for=\"sk-estimator-id-1\" class=\"sk-toggleable__label sk-toggleable__label-arrow\">LabelEncoder</label><div class=\"sk-toggleable__content\"><pre>LabelEncoder()</pre></div></div></div></div></div>"
      ],
      "text/plain": [
       "LabelEncoder()"
      ]
     },
     "execution_count": 54,
     "metadata": {},
     "output_type": "execute_result"
    }
   ],
   "source": [
    "label_encoders['key2']"
   ]
  },
  {
   "cell_type": "code",
   "execution_count": 55,
   "id": "5e21efd0-75f2-4639-94fa-b6ce5010b382",
   "metadata": {},
   "outputs": [],
   "source": [
    "y_pred_result = label_encoders['key2'].inverse_transform(y_pred)"
   ]
  },
  {
   "cell_type": "code",
   "execution_count": 56,
   "id": "804e3b75-c49e-4449-95ae-ff3a7a7dcabc",
   "metadata": {},
   "outputs": [
    {
     "data": {
      "text/plain": [
       "array(['PIN'], dtype=object)"
      ]
     },
     "execution_count": 56,
     "metadata": {},
     "output_type": "execute_result"
    }
   ],
   "source": [
    "y_pred_result"
   ]
  },
  {
   "cell_type": "code",
   "execution_count": 57,
   "id": "05c9ea82-41c3-4796-9f84-670a9c8b6ca5",
   "metadata": {},
   "outputs": [],
   "source": [
    "import pickle\n",
    "\n",
    "# tokenizer pkl 파일로 저장\n",
    "# with open(\"../model/tokenizer_06261.pkl\", \"wb\") as file:\n",
    "#     pickle.dump(tokenizer, file)"
   ]
  },
  {
   "cell_type": "code",
   "execution_count": 58,
   "id": "cb73a366-9460-4222-9e3a-4227d74e0947",
   "metadata": {},
   "outputs": [],
   "source": [
    "# import pickle\n",
    "\n",
    "# # tokenizer pkl 파일로 저장\n",
    "# with open(\"../model/labelencoder_06261.pkl\", \"wb\") as file:\n",
    "#     pickle.dump( label_encoders['key2'], file)"
   ]
  },
  {
   "cell_type": "code",
   "execution_count": 59,
   "id": "cc6986d5-efa1-4dcd-a8af-66c4582b3d9b",
   "metadata": {},
   "outputs": [],
   "source": [
    "# # 모델 저장\n",
    "# model.save(\"../model/model_regression_06261.h5\")"
   ]
  },
  {
   "cell_type": "code",
   "execution_count": 60,
   "id": "7e4c82d2-1b46-4849-9c8a-87c9d3964071",
   "metadata": {
    "tags": []
   },
   "outputs": [],
   "source": [
    "# import joblib\n",
    "# joblib.dump(model, '../model/model_classification.pkl')"
   ]
  },
  {
   "cell_type": "code",
   "execution_count": 61,
   "id": "b7ff1f4a-28cf-4a13-9142-d530c9b3813a",
   "metadata": {},
   "outputs": [],
   "source": [
    "# !pip install flask"
   ]
  },
  {
   "cell_type": "code",
   "execution_count": 62,
   "id": "c0637d46-22ca-4a1f-af0f-8647f19cd39c",
   "metadata": {},
   "outputs": [],
   "source": [
    "# import pickle\n",
    "# # 모델을 pickle 파일로 저장\n",
    "# with open('../model/model_classification.pkl', 'wb') as f:\n",
    "#     pickle.dump(model, f)"
   ]
  }
 ],
 "metadata": {
  "kernelspec": {
   "display_name": "venv1",
   "language": "python",
   "name": "venv"
  },
  "language_info": {
   "codemirror_mode": {
    "name": "ipython",
    "version": 3
   },
   "file_extension": ".py",
   "mimetype": "text/x-python",
   "name": "python",
   "nbconvert_exporter": "python",
   "pygments_lexer": "ipython3",
   "version": "3.10.10"
  }
 },
 "nbformat": 4,
 "nbformat_minor": 5
}
