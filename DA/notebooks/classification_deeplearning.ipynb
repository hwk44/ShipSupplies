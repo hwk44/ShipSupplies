{
 "cells": [
  {
   "cell_type": "code",
   "execution_count": 3,
   "id": "2f6b6b1c-7b25-412b-b153-01432bb58d2d",
   "metadata": {
    "tags": []
   },
   "outputs": [],
   "source": [
    "import pandas as pd\n",
    "# data = pd.read_csv('D:/ShipSupplies/DA/data/raw.csv')\n",
    "# data = pd.read_csv('../data/동원산업통합_분류_1_RE.csv', encoding = 'cp949')\n",
    "data = pd.read_csv('../data/raw_postpro.csv', encoding = 'cp949')"
   ]
  },
  {
   "cell_type": "code",
   "execution_count": 4,
   "id": "4f9ffb05-5807-4a24-a4d1-fb407832c071",
   "metadata": {
    "tags": []
   },
   "outputs": [
    {
     "name": "stdout",
     "output_type": "stream",
     "text": [
      "청구서번호          0\n",
      "No.            0\n",
      "Subject        0\n",
      "Machinery      0\n",
      "Assembly       0\n",
      "청구품목           0\n",
      "Part No.1      0\n",
      "Part No.2      0\n",
      "key1           0\n",
      "key2           0\n",
      "리드타임_음수제거      0\n",
      "청구량            0\n",
      "견적             0\n",
      "견적수량           0\n",
      "견적화폐           0\n",
      "견적단가           0\n",
      "발주번호           0\n",
      "발주처            0\n",
      "발주             0\n",
      "발주수량           0\n",
      "발주금액           0\n",
      "D/T            0\n",
      "미입고 기간         0\n",
      "리드타임           0\n",
      "창고입고           0\n",
      "창고입고수량         0\n",
      "Control No.    0\n",
      "입고창고           0\n",
      "창고출고           0\n",
      "창고출고수량         0\n",
      "출고선박           0\n",
      "출고운반선          0\n",
      "선박입고           0\n",
      "선박입고수량         0\n",
      "완료 여부          0\n",
      "dtype: int64\n"
     ]
    }
   ],
   "source": [
    "# 결측치 확인\n",
    "missing_values = data.isnull().sum()\n",
    "print(missing_values)"
   ]
  },
  {
   "cell_type": "code",
   "execution_count": 5,
   "id": "4d227c8b-4028-401f-a660-cf81d4164596",
   "metadata": {
    "tags": []
   },
   "outputs": [],
   "source": [
    "# 컬럼 삭제\n",
    "df = data.drop(['Part No.2', '미입고 기간', '선박입고','완료 여부'], axis=1)"
   ]
  },
  {
   "cell_type": "code",
   "execution_count": 6,
   "id": "8e6a7156-fc3d-414d-96fa-d20b5c2584a2",
   "metadata": {
    "tags": []
   },
   "outputs": [
    {
     "name": "stdout",
     "output_type": "stream",
     "text": [
      "<class 'pandas.core.frame.DataFrame'>\n",
      "RangeIndex: 20517 entries, 0 to 20516\n",
      "Data columns (total 31 columns):\n",
      " #   Column       Non-Null Count  Dtype \n",
      "---  ------       --------------  ----- \n",
      " 0   청구서번호        20517 non-null  object\n",
      " 1   No.          20517 non-null  int64 \n",
      " 2   Subject      20517 non-null  object\n",
      " 3   Machinery    20517 non-null  object\n",
      " 4   Assembly     20517 non-null  object\n",
      " 5   청구품목         20517 non-null  object\n",
      " 6   Part No.1    20517 non-null  object\n",
      " 7   key1         20517 non-null  object\n",
      " 8   key2         20517 non-null  object\n",
      " 9   리드타임_음수제거    20517 non-null  int64 \n",
      " 10  청구량          20517 non-null  int64 \n",
      " 11  견적           20517 non-null  object\n",
      " 12  견적수량         20517 non-null  int64 \n",
      " 13  견적화폐         20517 non-null  object\n",
      " 14  견적단가         20517 non-null  int64 \n",
      " 15  발주번호         20517 non-null  object\n",
      " 16  발주처          20517 non-null  object\n",
      " 17  발주           20517 non-null  object\n",
      " 18  발주수량         20517 non-null  int64 \n",
      " 19  발주금액         20517 non-null  int64 \n",
      " 20  D/T          20517 non-null  object\n",
      " 21  리드타임         20517 non-null  int64 \n",
      " 22  창고입고         20517 non-null  object\n",
      " 23  창고입고수량       20517 non-null  int64 \n",
      " 24  Control No.  20517 non-null  object\n",
      " 25  입고창고         20517 non-null  object\n",
      " 26  창고출고         20517 non-null  object\n",
      " 27  창고출고수량       20517 non-null  int64 \n",
      " 28  출고선박         20517 non-null  object\n",
      " 29  출고운반선        20517 non-null  object\n",
      " 30  선박입고수량       20517 non-null  int64 \n",
      "dtypes: int64(11), object(20)\n",
      "memory usage: 4.9+ MB\n"
     ]
    }
   ],
   "source": [
    "df.info()"
   ]
  },
  {
   "cell_type": "code",
   "execution_count": 7,
   "id": "37b02e4a-fb74-411d-bee4-953dc63775df",
   "metadata": {
    "tags": []
   },
   "outputs": [],
   "source": [
    "from sklearn.model_selection import train_test_split\n",
    "from sklearn import preprocessing\n",
    "\n",
    "le = preprocessing.LabelEncoder()\n",
    "df = df.apply(le.fit_transform)\n",
    "\n",
    "X = df[['Machinery', 'Assembly' , \"Part No.1\",\"청구품목\"]]\n",
    "y = df[\"key2\"]\n",
    "# X_train, X_test, y_train, y_test = train_test_split(X, y, random_state=40, shuffle=True, test_size=0.2)"
   ]
  },
  {
   "cell_type": "code",
   "execution_count": null,
   "id": "3f50e237-ea4c-4a7a-b352-46247bbc788b",
   "metadata": {},
   "outputs": [],
   "source": []
  },
  {
   "cell_type": "code",
   "execution_count": 22,
   "id": "ba2b8bd0-a470-41a5-98c1-d6bcd1efa757",
   "metadata": {
    "tags": []
   },
   "outputs": [
    {
     "name": "stdout",
     "output_type": "stream",
     "text": [
      "Best Hyperparameters: {'learning_rate': 0.1, 'max_depth': 4, 'n_estimators': 200}\n"
     ]
    },
    {
     "data": {
      "text/html": [
       "<style>#sk-container-id-3 {color: black;background-color: white;}#sk-container-id-3 pre{padding: 0;}#sk-container-id-3 div.sk-toggleable {background-color: white;}#sk-container-id-3 label.sk-toggleable__label {cursor: pointer;display: block;width: 100%;margin-bottom: 0;padding: 0.3em;box-sizing: border-box;text-align: center;}#sk-container-id-3 label.sk-toggleable__label-arrow:before {content: \"▸\";float: left;margin-right: 0.25em;color: #696969;}#sk-container-id-3 label.sk-toggleable__label-arrow:hover:before {color: black;}#sk-container-id-3 div.sk-estimator:hover label.sk-toggleable__label-arrow:before {color: black;}#sk-container-id-3 div.sk-toggleable__content {max-height: 0;max-width: 0;overflow: hidden;text-align: left;background-color: #f0f8ff;}#sk-container-id-3 div.sk-toggleable__content pre {margin: 0.2em;color: black;border-radius: 0.25em;background-color: #f0f8ff;}#sk-container-id-3 input.sk-toggleable__control:checked~div.sk-toggleable__content {max-height: 200px;max-width: 100%;overflow: auto;}#sk-container-id-3 input.sk-toggleable__control:checked~label.sk-toggleable__label-arrow:before {content: \"▾\";}#sk-container-id-3 div.sk-estimator input.sk-toggleable__control:checked~label.sk-toggleable__label {background-color: #d4ebff;}#sk-container-id-3 div.sk-label input.sk-toggleable__control:checked~label.sk-toggleable__label {background-color: #d4ebff;}#sk-container-id-3 input.sk-hidden--visually {border: 0;clip: rect(1px 1px 1px 1px);clip: rect(1px, 1px, 1px, 1px);height: 1px;margin: -1px;overflow: hidden;padding: 0;position: absolute;width: 1px;}#sk-container-id-3 div.sk-estimator {font-family: monospace;background-color: #f0f8ff;border: 1px dotted black;border-radius: 0.25em;box-sizing: border-box;margin-bottom: 0.5em;}#sk-container-id-3 div.sk-estimator:hover {background-color: #d4ebff;}#sk-container-id-3 div.sk-parallel-item::after {content: \"\";width: 100%;border-bottom: 1px solid gray;flex-grow: 1;}#sk-container-id-3 div.sk-label:hover label.sk-toggleable__label {background-color: #d4ebff;}#sk-container-id-3 div.sk-serial::before {content: \"\";position: absolute;border-left: 1px solid gray;box-sizing: border-box;top: 0;bottom: 0;left: 50%;z-index: 0;}#sk-container-id-3 div.sk-serial {display: flex;flex-direction: column;align-items: center;background-color: white;padding-right: 0.2em;padding-left: 0.2em;position: relative;}#sk-container-id-3 div.sk-item {position: relative;z-index: 1;}#sk-container-id-3 div.sk-parallel {display: flex;align-items: stretch;justify-content: center;background-color: white;position: relative;}#sk-container-id-3 div.sk-item::before, #sk-container-id-3 div.sk-parallel-item::before {content: \"\";position: absolute;border-left: 1px solid gray;box-sizing: border-box;top: 0;bottom: 0;left: 50%;z-index: -1;}#sk-container-id-3 div.sk-parallel-item {display: flex;flex-direction: column;z-index: 1;position: relative;background-color: white;}#sk-container-id-3 div.sk-parallel-item:first-child::after {align-self: flex-end;width: 50%;}#sk-container-id-3 div.sk-parallel-item:last-child::after {align-self: flex-start;width: 50%;}#sk-container-id-3 div.sk-parallel-item:only-child::after {width: 0;}#sk-container-id-3 div.sk-dashed-wrapped {border: 1px dashed gray;margin: 0 0.4em 0.5em 0.4em;box-sizing: border-box;padding-bottom: 0.4em;background-color: white;}#sk-container-id-3 div.sk-label label {font-family: monospace;font-weight: bold;display: inline-block;line-height: 1.2em;}#sk-container-id-3 div.sk-label-container {text-align: center;}#sk-container-id-3 div.sk-container {/* jupyter's `normalize.less` sets `[hidden] { display: none; }` but bootstrap.min.css set `[hidden] { display: none !important; }` so we also need the `!important` here to be able to override the default hidden behavior on the sphinx rendered scikit-learn.org. See: https://github.com/scikit-learn/scikit-learn/issues/21755 */display: inline-block !important;position: relative;}#sk-container-id-3 div.sk-text-repr-fallback {display: none;}</style><div id=\"sk-container-id-3\" class=\"sk-top-container\"><div class=\"sk-text-repr-fallback\"><pre>XGBClassifier(base_score=None, booster=None, callbacks=None,\n",
       "              colsample_bylevel=None, colsample_bynode=None,\n",
       "              colsample_bytree=None, early_stopping_rounds=None,\n",
       "              enable_categorical=False, eval_metric=None, feature_types=None,\n",
       "              gamma=None, gpu_id=None, grow_policy=None, importance_type=None,\n",
       "              interaction_constraints=None, learning_rate=0.1, max_bin=None,\n",
       "              max_cat_threshold=None, max_cat_to_onehot=None,\n",
       "              max_delta_step=None, max_depth=4, max_leaves=None,\n",
       "              min_child_weight=None, missing=nan, monotone_constraints=None,\n",
       "              n_estimators=200, n_jobs=None, num_class=61,\n",
       "              num_parallel_tree=None, objective=&#x27;multi:softmax&#x27;, ...)</pre><b>In a Jupyter environment, please rerun this cell to show the HTML representation or trust the notebook. <br />On GitHub, the HTML representation is unable to render, please try loading this page with nbviewer.org.</b></div><div class=\"sk-container\" hidden><div class=\"sk-item\"><div class=\"sk-estimator sk-toggleable\"><input class=\"sk-toggleable__control sk-hidden--visually\" id=\"sk-estimator-id-3\" type=\"checkbox\" checked><label for=\"sk-estimator-id-3\" class=\"sk-toggleable__label sk-toggleable__label-arrow\">XGBClassifier</label><div class=\"sk-toggleable__content\"><pre>XGBClassifier(base_score=None, booster=None, callbacks=None,\n",
       "              colsample_bylevel=None, colsample_bynode=None,\n",
       "              colsample_bytree=None, early_stopping_rounds=None,\n",
       "              enable_categorical=False, eval_metric=None, feature_types=None,\n",
       "              gamma=None, gpu_id=None, grow_policy=None, importance_type=None,\n",
       "              interaction_constraints=None, learning_rate=0.1, max_bin=None,\n",
       "              max_cat_threshold=None, max_cat_to_onehot=None,\n",
       "              max_delta_step=None, max_depth=4, max_leaves=None,\n",
       "              min_child_weight=None, missing=nan, monotone_constraints=None,\n",
       "              n_estimators=200, n_jobs=None, num_class=61,\n",
       "              num_parallel_tree=None, objective=&#x27;multi:softmax&#x27;, ...)</pre></div></div></div></div></div>"
      ],
      "text/plain": [
       "XGBClassifier(base_score=None, booster=None, callbacks=None,\n",
       "              colsample_bylevel=None, colsample_bynode=None,\n",
       "              colsample_bytree=None, early_stopping_rounds=None,\n",
       "              enable_categorical=False, eval_metric=None, feature_types=None,\n",
       "              gamma=None, gpu_id=None, grow_policy=None, importance_type=None,\n",
       "              interaction_constraints=None, learning_rate=0.1, max_bin=None,\n",
       "              max_cat_threshold=None, max_cat_to_onehot=None,\n",
       "              max_delta_step=None, max_depth=4, max_leaves=None,\n",
       "              min_child_weight=None, missing=nan, monotone_constraints=None,\n",
       "              n_estimators=200, n_jobs=None, num_class=61,\n",
       "              num_parallel_tree=None, objective='multi:softmax', ...)"
      ]
     },
     "execution_count": 22,
     "metadata": {},
     "output_type": "execute_result"
    }
   ],
   "source": [
    "import xgboost as xgb\n",
    "from sklearn.model_selection import GridSearchCV\n",
    "from sklearn.model_selection import train_test_split\n",
    "from sklearn.metrics import accuracy_score\n",
    "\n",
    "# 학습 데이터와 테스트 데이터 분리\n",
    "X_train, X_test, y_train, y_test = train_test_split(X, y, test_size=0.2,shuffle=True, random_state=42)\n",
    "\n",
    "# XGBoost 모델 생성\n",
    "model = xgb.XGBClassifier(objective='multi:softmax', num_class=61)\n",
    "\n",
    "# 탐색할 하이퍼파라미터 그리드 축소\n",
    "param_grid = {\n",
    "    'max_depth': [3, 4],\n",
    "    'learning_rate': [0.1, 0.01],\n",
    "    'n_estimators': [100, 200]\n",
    "}\n",
    "\n",
    "# GridSearchCV를 사용하여 하이퍼파라미터 탐색\n",
    "grid_search = GridSearchCV(model, param_grid, scoring='f1_macro', cv=3, n_jobs=-1)\n",
    "grid_search.fit(X_train, y_train)\n",
    "\n",
    "# 최적의 하이퍼파라미터 확인\n",
    "best_params = grid_search.best_params_\n",
    "print(\"Best Hyperparameters:\", best_params)\n",
    "\n",
    "# 최적의 하이퍼파라미터로 모델 재학습\n",
    "best_model = xgb.XGBClassifier(objective='multi:softmax', num_class=61, **best_params)\n",
    "best_model.fit(X_train, y_train)"
   ]
  },
  {
   "cell_type": "code",
   "execution_count": 23,
   "id": "c2caed49-6d51-4267-8b07-ce05ecb91bb7",
   "metadata": {
    "tags": []
   },
   "outputs": [
    {
     "name": "stdout",
     "output_type": "stream",
     "text": [
      "F1-score: 0.812909827167555\n"
     ]
    }
   ],
   "source": [
    "# 예측 수행\n",
    "y_pred = best_model.predict(X_test)\n",
    "\n",
    "# 선택한 평가 지표 계산\n",
    "f1 = f1_score(y_test, y_pred, average='macro')  # 예시로 F1-score 사용\n",
    "\n",
    "# 결과 출력\n",
    "print(\"F1-score:\", f1)\n"
   ]
  },
  {
   "cell_type": "code",
   "execution_count": null,
   "id": "754c2c15-bf28-4e0e-9985-5d13cc8825ee",
   "metadata": {
    "tags": []
   },
   "outputs": [],
   "source": [
    "from sklearn.metrics import f1_score\n",
    "\n",
    "# 모델 예측\n",
    "y_pred = model.predict(X_test)\n",
    "\n",
    "# F1-score 계산\n",
    "f1 = f1_score(y_test, y_pred, average='weighted')\n",
    "print(\"F1-score:\", f1)"
   ]
  },
  {
   "cell_type": "code",
   "execution_count": null,
   "id": "c6b32a1e-1916-42b5-bf0c-3fdd981e02de",
   "metadata": {},
   "outputs": [],
   "source": []
  },
  {
   "cell_type": "code",
   "execution_count": null,
   "id": "3a00c28e-e9aa-46d9-bd4a-76281938f7b4",
   "metadata": {},
   "outputs": [],
   "source": []
  },
  {
   "cell_type": "code",
   "execution_count": null,
   "id": "ef433711-0a14-4020-9eee-468e78e7416c",
   "metadata": {},
   "outputs": [],
   "source": []
  },
  {
   "cell_type": "code",
   "execution_count": null,
   "id": "9a5c2024-46d5-4e0b-a533-be4b0a271d0c",
   "metadata": {},
   "outputs": [],
   "source": []
  },
  {
   "cell_type": "code",
   "execution_count": 451,
   "id": "24905875-d1af-4943-9874-cf59504262c5",
   "metadata": {
    "tags": []
   },
   "outputs": [],
   "source": [
    "import pandas as pd\n",
    "data = pd.read_csv('../data/raw_postpro.csv', encoding = 'cp949')\n",
    "# 컬럼 삭제\n",
    "df = data.drop(['Part No.2', '미입고 기간', '선박입고','완료 여부'], axis=1)"
   ]
  },
  {
   "cell_type": "code",
   "execution_count": 452,
   "id": "b64ccff6-b2c1-4330-bd7d-3c16b70502aa",
   "metadata": {
    "tags": []
   },
   "outputs": [],
   "source": [
    "from sklearn.model_selection import train_test_split\n",
    "from sklearn import preprocessing\n",
    "y = df['key2']\n",
    "le = preprocessing.LabelEncoder()\n",
    "y = y.values.ravel()  # y를 1차원 배열로 변환\n",
    "y = le.fit_transform(y)"
   ]
  },
  {
   "cell_type": "code",
   "execution_count": 368,
   "id": "d7281090-2c91-4fd1-a3ae-b20879699c2b",
   "metadata": {
    "tags": []
   },
   "outputs": [
    {
     "data": {
      "text/plain": [
       "numpy.ndarray"
      ]
     },
     "execution_count": 368,
     "metadata": {},
     "output_type": "execute_result"
    }
   ],
   "source": [
    "# # type(y),y.shape\n",
    "# unique_values = np.unique(y)\n",
    "\n",
    "# print(unique_values)\n",
    "type(y)"
   ]
  },
  {
   "cell_type": "code",
   "execution_count": 453,
   "id": "467b6f62-21b1-4539-ab64-afe7d41641e3",
   "metadata": {
    "tags": []
   },
   "outputs": [],
   "source": [
    "from sklearn import preprocessing\n",
    "label_encoders = {}  # 각 열에 대한 LabelEncoder를 저장하기 위한 딕셔너리\n",
    "columns_to_encode = ['Machinery', 'Assembly' , \"Part No.1\",\"청구품목\", 'key2']  # 인코딩을 수행할 열의 이름 리스트\n",
    "\n",
    "for column in columns_to_encode:\n",
    "    le = preprocessing.LabelEncoder()\n",
    "    le.fit(df[column])\n",
    "    label_encoders[column] = le # 딕셔너리에 저장\n",
    "    df[column+\"_encoded\"] = le.transform(df[column]) # 새로운 encoding 된 컬럼 추가"
   ]
  },
  {
   "cell_type": "code",
   "execution_count": 454,
   "id": "78f30e35-27b9-4f78-b5c5-c683e5016bcf",
   "metadata": {
    "tags": []
   },
   "outputs": [],
   "source": [
    "# df[['Machinery_encoded', 'Assembly_encoded' , \"Part No.1_encoded\",\"청구품목_encoded\", 'key2_encoded' ]]"
   ]
  },
  {
   "cell_type": "code",
   "execution_count": 455,
   "id": "410bb21d-b9cb-49e4-a232-d74bb5f91982",
   "metadata": {
    "tags": []
   },
   "outputs": [],
   "source": [
    "# 인코딩된 컬럼을 사용\n",
    "encoded_columns = ['Machinery_encoded', 'Assembly_encoded', 'Part No.1_encoded', '청구품목_encoded']\n",
    "X = df[encoded_columns].values\n",
    "y = df['key2_encoded'].values"
   ]
  },
  {
   "cell_type": "code",
   "execution_count": 456,
   "id": "50d59f33-62d3-46b7-9eda-ece268128b09",
   "metadata": {
    "tags": []
   },
   "outputs": [
    {
     "data": {
      "text/plain": [
       "(array([[ 108,  281, 5759, 4848],\n",
       "        [ 113, 1180, 5759, 3692],\n",
       "        [ 113,  206, 5759, 5915],\n",
       "        ...,\n",
       "        [   0,  900, 8123, 4151],\n",
       "        [   4, 1210, 8124, 1592],\n",
       "        [   4, 1210, 8125, 4718]]),\n",
       " array([18, 18, 18, ...,  5, 20, 20]))"
      ]
     },
     "execution_count": 456,
     "metadata": {},
     "output_type": "execute_result"
    }
   ],
   "source": [
    "X,y"
   ]
  },
  {
   "cell_type": "code",
   "execution_count": 457,
   "id": "ccca3ece-bafd-4eb5-96c4-eac11f0ffc26",
   "metadata": {
    "tags": []
   },
   "outputs": [],
   "source": [
    "# 데이터를 학습용과 검증용으로 나누기\n",
    "X_train, X_test, y_train, y_test = train_test_split(X, y, test_size=0.2, random_state=42)"
   ]
  },
  {
   "cell_type": "code",
   "execution_count": 458,
   "id": "8c34c5bc-e67c-4ce9-9350-f77c8c40c85f",
   "metadata": {
    "tags": []
   },
   "outputs": [
    {
     "name": "stdout",
     "output_type": "stream",
     "text": [
      "X_train shape: (16413, 4)\n",
      "y_train shape: (16413,)\n",
      "(16413, 4)\n",
      "int32\n"
     ]
    }
   ],
   "source": [
    "print(\"X_train shape:\", X_train.shape)\n",
    "print(\"y_train shape:\", y_train.shape)\n",
    "print(X_train.shape)\n",
    "print(X_train.dtype)\n"
   ]
  },
  {
   "cell_type": "code",
   "execution_count": 459,
   "id": "44bafa6c-080f-4520-a2f2-0d5653be4aa8",
   "metadata": {
    "tags": []
   },
   "outputs": [],
   "source": [
    "# test 단어 집합의 크기\n",
    "# max_test_idx_1 = int(np.max(X_test[:, 0]))\n",
    "# max_test_idx_2 = int(np.max(X_test[:, 1]))\n",
    "# max_test_idx_3 = int(np.max(X_test[:, 2]))\n",
    "# max_test_idx_4 = int(np.max(X_test[:, 3]))\n",
    "\n",
    "# print(\"Max test index for column 1:\", max_test_idx_1)\n",
    "# print(\"Max test index for column 2:\", max_test_idx_2)\n",
    "# print(\"Max test index for column 3:\", max_test_idx_3)\n",
    "# print(\"Max test index for column 4:\", max_test_idx_4)"
   ]
  },
  {
   "cell_type": "code",
   "execution_count": 460,
   "id": "12a6c1e0-23cb-4331-a2e9-43ed6318d786",
   "metadata": {
    "tags": []
   },
   "outputs": [],
   "source": [
    "# train 단어 집합의 크기\n",
    "# embedding_input_dim_1 = int(np.max(X_train[:, 0])) + 1\n",
    "# embedding_input_dim_2 = int(np.max(X_train[:, 1])) + 1\n",
    "# embedding_input_dim_3 = int(np.max(X_train[:, 2])) + 1\n",
    "# embedding_input_dim_4 = int(np.max(X_train[:, 3])) + 1\n",
    "\n",
    "# print(embedding_input_dim_1)\n",
    "# print(embedding_input_dim_2)\n",
    "# print(embedding_input_dim_3)\n",
    "# print(embedding_input_dim_4)"
   ]
  },
  {
   "cell_type": "code",
   "execution_count": 461,
   "id": "a70f7ab6-6ade-4bdf-98d7-d3086de26c9a",
   "metadata": {
    "tags": []
   },
   "outputs": [],
   "source": [
    "import numpy as np\n",
    "\n",
    "# 임베딩 설정\n",
    "embedding_dim = 8\n",
    "\n",
    "# 입력 정의\n",
    "input1 = Input(shape=(1,), dtype=\"int32\", name=\"Machinery_Input\")\n",
    "input2 = Input(shape=(1,), dtype=\"int32\", name=\"Assembly_Input\")\n",
    "input3 = Input(shape=(1,), dtype=\"int32\", name=\"Part_No.1_Input\")\n",
    "input4 = Input(shape=(1,), dtype=\"int32\", name=\"청구품목_Input\")\n",
    "\n",
    "embedding_input_dim_1 = int(np.max(X_train[:, 0])) + 1\n",
    "embedding_input_dim_2 = int(np.max(X_train[:, 1])) + 1\n",
    "embedding_input_dim_3 = int(np.max(X_train[:, 2])) + 2 # Xtrain 길이가 더 길어야 하므로 읨의 조정\n",
    "embedding_input_dim_4 = int(np.max(X_train[:, 3])) + 1\n",
    "\n",
    "\n",
    "embedding1 = Embedding(embedding_input_dim_1, embedding_dim, name=\"Assembly_Embedding\")(input1)\n",
    "embedding2 = Embedding(embedding_input_dim_2, embedding_dim, name=\"Resource_Embedding\")(input2)\n",
    "embedding3 = Embedding(embedding_input_dim_3, embedding_dim, name=\"Method_Embedding\")(input3)\n",
    "embedding4 = Embedding(embedding_input_dim_4, embedding_dim, name=\"Dwg_Embedding\")(input4)"
   ]
  },
  {
   "cell_type": "markdown",
   "id": "cbdf63e7-1d76-4c1f-ab4c-9c700a545a2c",
   "metadata": {},
   "source": [
    "## 모델 1 그냥 임베딩 -> 카테고리 예측"
   ]
  },
  {
   "cell_type": "code",
   "execution_count": null,
   "id": "bea89515-5e6b-4c33-a2d0-17d5880183dd",
   "metadata": {
    "tags": []
   },
   "outputs": [],
   "source": [
    "from keras.models import Sequential, Model\n",
    "from keras.layers import Input, Embedding, Dense, concatenate, Flatten\n",
    "\n",
    "# 출력 통합\n",
    "merged_output = concatenate([embedding1, embedding2, embedding3, embedding4], axis=-1)\n",
    "\n",
    "# Dense 계층\n",
    "dense_output = Dense(1, activation='sigmoid', name='Dense_output')(merged_output)\n",
    "output = Flatten()(dense_output)\n",
    "\n",
    "# 예측 결과 계층\n",
    "# prediction = Dense(1, activation=\"sigmoid\", name=\"Prediction_output\")(dense_output)\n",
    "\n",
    "# y 를 원핫 인코딩 하면서 다중분류로 61개로 만드는 과정 \n",
    "# prediction = Dense(61, activation='softmax', name=\"Prediction_output\")(dense_output)\n",
    "\n",
    "# 다중분류 출력 계층\n",
    "# prediction = Dense(61, activation='softmax', name=\"Prediction_output\")(dense_output)\n",
    "\n",
    "\n",
    "prediction = Dense(61, activation='softmax', name=\"Prediction_output\")(output)\n",
    "# 모델 생성\n",
    "model = Model(inputs=[input1, input2, input3, input4], outputs=prediction)"
   ]
  },
  {
   "cell_type": "markdown",
   "id": "3fa2293a-25d2-49a1-80e3-f246a0732112",
   "metadata": {},
   "source": [
    "## 모델 1 + CNN"
   ]
  },
  {
   "cell_type": "code",
   "execution_count": 377,
   "id": "43935808-58ac-4937-a306-9c95c8978faf",
   "metadata": {
    "tags": []
   },
   "outputs": [
    {
     "ename": "ValueError",
     "evalue": "One of the dimensions in the output is <= 0 due to downsampling in conv1d. Consider increasing the input size. Received input shape [None, 1, 32] which would produce output shape with a zero or negative value in a dimension.",
     "output_type": "error",
     "traceback": [
      "\u001b[1;31m---------------------------------------------------------------------------\u001b[0m",
      "\u001b[1;31mValueError\u001b[0m                                Traceback (most recent call last)",
      "Cell \u001b[1;32mIn[377], line 5\u001b[0m\n\u001b[0;32m      2\u001b[0m \u001b[38;5;28;01mfrom\u001b[39;00m \u001b[38;5;21;01mkeras\u001b[39;00m\u001b[38;5;21;01m.\u001b[39;00m\u001b[38;5;21;01mmodels\u001b[39;00m \u001b[38;5;28;01mimport\u001b[39;00m Model,Sequential\n\u001b[0;32m      4\u001b[0m merged_output \u001b[38;5;241m=\u001b[39m concatenate([embedding1, embedding2, embedding3, embedding4], axis\u001b[38;5;241m=\u001b[39m\u001b[38;5;241m-\u001b[39m\u001b[38;5;241m1\u001b[39m)\n\u001b[1;32m----> 5\u001b[0m conv_output \u001b[38;5;241m=\u001b[39m \u001b[43mConv1D\u001b[49m\u001b[43m(\u001b[49m\u001b[43mfilters\u001b[49m\u001b[38;5;241;43m=\u001b[39;49m\u001b[38;5;241;43m128\u001b[39;49m\u001b[43m,\u001b[49m\u001b[43m \u001b[49m\u001b[43mkernel_size\u001b[49m\u001b[38;5;241;43m=\u001b[39;49m\u001b[38;5;241;43m3\u001b[39;49m\u001b[43m,\u001b[49m\u001b[43m \u001b[49m\u001b[43mactivation\u001b[49m\u001b[38;5;241;43m=\u001b[39;49m\u001b[38;5;124;43m'\u001b[39;49m\u001b[38;5;124;43mrelu\u001b[39;49m\u001b[38;5;124;43m'\u001b[39;49m\u001b[43m)\u001b[49m\u001b[43m(\u001b[49m\u001b[43mmerged_output\u001b[49m\u001b[43m)\u001b[49m\n\u001b[0;32m      6\u001b[0m pool_output \u001b[38;5;241m=\u001b[39m GlobalMaxPooling1D()(conv_output)\n\u001b[0;32m      8\u001b[0m dense_output \u001b[38;5;241m=\u001b[39m Dense(\u001b[38;5;241m64\u001b[39m, activation\u001b[38;5;241m=\u001b[39m\u001b[38;5;124m'\u001b[39m\u001b[38;5;124mrelu\u001b[39m\u001b[38;5;124m'\u001b[39m, name\u001b[38;5;241m=\u001b[39m\u001b[38;5;124m'\u001b[39m\u001b[38;5;124mDense_output\u001b[39m\u001b[38;5;124m'\u001b[39m)(pool_output)\n",
      "File \u001b[1;32mD:\\ShipSupplies\\DA\\venv\\lib\\site-packages\\keras\\utils\\traceback_utils.py:70\u001b[0m, in \u001b[0;36mfilter_traceback.<locals>.error_handler\u001b[1;34m(*args, **kwargs)\u001b[0m\n\u001b[0;32m     67\u001b[0m     filtered_tb \u001b[38;5;241m=\u001b[39m _process_traceback_frames(e\u001b[38;5;241m.\u001b[39m__traceback__)\n\u001b[0;32m     68\u001b[0m     \u001b[38;5;66;03m# To get the full stack trace, call:\u001b[39;00m\n\u001b[0;32m     69\u001b[0m     \u001b[38;5;66;03m# `tf.debugging.disable_traceback_filtering()`\u001b[39;00m\n\u001b[1;32m---> 70\u001b[0m     \u001b[38;5;28;01mraise\u001b[39;00m e\u001b[38;5;241m.\u001b[39mwith_traceback(filtered_tb) \u001b[38;5;28;01mfrom\u001b[39;00m \u001b[38;5;28;01mNone\u001b[39;00m\n\u001b[0;32m     71\u001b[0m \u001b[38;5;28;01mfinally\u001b[39;00m:\n\u001b[0;32m     72\u001b[0m     \u001b[38;5;28;01mdel\u001b[39;00m filtered_tb\n",
      "File \u001b[1;32mD:\\ShipSupplies\\DA\\venv\\lib\\site-packages\\keras\\layers\\convolutional\\base_conv.py:354\u001b[0m, in \u001b[0;36mConv.compute_output_shape\u001b[1;34m(self, input_shape)\u001b[0m\n\u001b[0;32m    347\u001b[0m         \u001b[38;5;28;01mreturn\u001b[39;00m tf\u001b[38;5;241m.\u001b[39mTensorShape(\n\u001b[0;32m    348\u001b[0m             input_shape[:batch_rank]\n\u001b[0;32m    349\u001b[0m             \u001b[38;5;241m+\u001b[39m [\u001b[38;5;28mself\u001b[39m\u001b[38;5;241m.\u001b[39mfilters]\n\u001b[0;32m    350\u001b[0m             \u001b[38;5;241m+\u001b[39m \u001b[38;5;28mself\u001b[39m\u001b[38;5;241m.\u001b[39m_spatial_output_shape(input_shape[batch_rank \u001b[38;5;241m+\u001b[39m \u001b[38;5;241m1\u001b[39m :])\n\u001b[0;32m    351\u001b[0m         )\n\u001b[0;32m    353\u001b[0m \u001b[38;5;28;01mexcept\u001b[39;00m \u001b[38;5;167;01mValueError\u001b[39;00m:\n\u001b[1;32m--> 354\u001b[0m     \u001b[38;5;28;01mraise\u001b[39;00m \u001b[38;5;167;01mValueError\u001b[39;00m(\n\u001b[0;32m    355\u001b[0m         \u001b[38;5;124m\"\u001b[39m\u001b[38;5;124mOne of the dimensions in the output is <= 0 \u001b[39m\u001b[38;5;124m\"\u001b[39m\n\u001b[0;32m    356\u001b[0m         \u001b[38;5;124mf\u001b[39m\u001b[38;5;124m\"\u001b[39m\u001b[38;5;124mdue to downsampling in \u001b[39m\u001b[38;5;132;01m{\u001b[39;00m\u001b[38;5;28mself\u001b[39m\u001b[38;5;241m.\u001b[39mname\u001b[38;5;132;01m}\u001b[39;00m\u001b[38;5;124m. Consider \u001b[39m\u001b[38;5;124m\"\u001b[39m\n\u001b[0;32m    357\u001b[0m         \u001b[38;5;124m\"\u001b[39m\u001b[38;5;124mincreasing the input size. \u001b[39m\u001b[38;5;124m\"\u001b[39m\n\u001b[0;32m    358\u001b[0m         \u001b[38;5;124mf\u001b[39m\u001b[38;5;124m\"\u001b[39m\u001b[38;5;124mReceived input shape \u001b[39m\u001b[38;5;132;01m{\u001b[39;00minput_shape\u001b[38;5;132;01m}\u001b[39;00m\u001b[38;5;124m which would produce \u001b[39m\u001b[38;5;124m\"\u001b[39m\n\u001b[0;32m    359\u001b[0m         \u001b[38;5;124m\"\u001b[39m\u001b[38;5;124moutput shape with a zero or negative value in a \u001b[39m\u001b[38;5;124m\"\u001b[39m\n\u001b[0;32m    360\u001b[0m         \u001b[38;5;124m\"\u001b[39m\u001b[38;5;124mdimension.\u001b[39m\u001b[38;5;124m\"\u001b[39m\n\u001b[0;32m    361\u001b[0m     )\n",
      "\u001b[1;31mValueError\u001b[0m: One of the dimensions in the output is <= 0 due to downsampling in conv1d. Consider increasing the input size. Received input shape [None, 1, 32] which would produce output shape with a zero or negative value in a dimension."
     ]
    }
   ],
   "source": [
    "from keras.layers import Input, Embedding, Dense, concatenate, Flatten, Conv1D, GlobalMaxPooling1D\n",
    "from keras.models import Model,Sequential\n",
    "\n",
    "merged_output = concatenate([embedding1, embedding2, embedding3, embedding4], axis=-1)\n",
    "conv_output = Conv1D(filters=128, kernel_size=3, activation='relu')(merged_output)\n",
    "pool_output = GlobalMaxPooling1D()(conv_output)\n",
    "\n",
    "dense_output = Dense(64, activation='relu', name='Dense_output')(pool_output)\n",
    "prediction = Dense(61, activation='softmax', name=\"Prediction_output\")(dense_output)\n",
    "\n",
    "model = Model(inputs=[input1, input2, input3, input4], outputs=prediction)\n",
    "\n",
    "# Sequential버전\n",
    "# model = Sequential()\n",
    "# model.add(concatenate([embedding1, embedding2, embedding3, embedding4], axis=-1))\n",
    "# model.add(Conv1D(filters=128, kernel_size=3, activation='relu'))\n",
    "# model.add(GlobalMaxPooling1D())\n",
    "# model.add(Dense(64, activation='relu', name='Dense_output'))\n",
    "# model.add(Dense(61, activation='softmax', name=\"Prediction_output\"))"
   ]
  },
  {
   "cell_type": "markdown",
   "id": "37148a79-72e4-4d78-ba21-c8abdf8b08b6",
   "metadata": {
    "tags": []
   },
   "source": [
    "## 모델 1 + LSTM"
   ]
  },
  {
   "cell_type": "code",
   "execution_count": 405,
   "id": "60ebecde-8548-4583-8ca3-69e42d37faf6",
   "metadata": {
    "tags": []
   },
   "outputs": [],
   "source": [
    "from keras.layers import LSTM, Dense,Input, Embedding, concatenate, Flatten\n",
    "from keras.models import Sequential, Model\n",
    "\n",
    "merged_output = concatenate([embedding1, embedding2, embedding3, embedding4], axis=-1)\n",
    "lstm_output = LSTM(128)(merged_output)\n",
    "\n",
    "dense_output = Dense(64, activation='relu', name='Dense_output')(lstm_output)\n",
    "prediction = Dense(61, activation='softmax', name=\"Prediction_output\")(dense_output)\n",
    "\n",
    "model = Model(inputs=[input1, input2, input3, input4], outputs=prediction)\n",
    "\n",
    "# # Sequential 버전\n",
    "# model = Sequential()\n",
    "# model.add(concatenate([embedding1, embedding2, embedding3, embedding4], axis=-1))\n",
    "# model.add(LSTM(128))\n",
    "# model.add(Dense(64, activation='relu', name='Dense_output'))\n",
    "# model.add(Dense(61, activation='softmax', name=\"Prediction_output\"))\n",
    "\n"
   ]
  },
  {
   "cell_type": "markdown",
   "id": "bccaddbe-301c-46b5-b7a7-79c66934dc66",
   "metadata": {},
   "source": [
    "# model1 + cnn+ lstm"
   ]
  },
  {
   "cell_type": "code",
   "execution_count": 462,
   "id": "fb1c3bd8-1d78-43c6-882a-a19ba4587a4b",
   "metadata": {
    "tags": []
   },
   "outputs": [],
   "source": [
    "\n",
    "\n",
    "\n",
    "# 출력 통합\n",
    "merged_output = concatenate([embedding1, embedding2, embedding3, embedding4], axis=-1)\n",
    "\n",
    "\n",
    "# CNN Layer\n",
    "# cnn_output = Conv1D(filters=128, kernel_size=1, activation='relu')(merged_output)  # kernel_size 수정\n",
    "cnn_output = Conv1D(filters=128, kernel_size=7, activation='relu')(merged_output)  # kernel_size 수정\n",
    "cnn_output = GlobalMaxPooling1D()(cnn_output)\n",
    "\n",
    "# LSTM Layer\n",
    "lstm_output = LSTM(128)(merged_output)\n",
    "\n",
    "# Dense Layer\n",
    "dense_input = concatenate([cnn_output, lstm_output], axis=-1)\n",
    "dense_output = Dense(64, activation='relu', name='Dense_output')(dense_input)\n",
    "\n",
    "prediction = Dense(61, activation='softmax', name=\"Prediction_output\")(dense_output)\n",
    "\n",
    "# 모델 생성\n",
    "model = Model(inputs=[input1, input2, input3, input4], outputs=prediction)"
   ]
  },
  {
   "cell_type": "code",
   "execution_count": null,
   "id": "8f6a3974-eb5d-4d6a-a666-df21c24f1c9e",
   "metadata": {},
   "outputs": [],
   "source": []
  },
  {
   "cell_type": "code",
   "execution_count": 463,
   "id": "170c561b-455d-42cf-95ce-56d1165c83fe",
   "metadata": {
    "tags": []
   },
   "outputs": [
    {
     "name": "stdout",
     "output_type": "stream",
     "text": [
      "Model: \"model_19\"\n",
      "__________________________________________________________________________________________________\n",
      " Layer (type)                   Output Shape         Param #     Connected to                     \n",
      "==================================================================================================\n",
      " Machinery_Input (InputLayer)   [(None, 1)]          0           []                               \n",
      "                                                                                                  \n",
      " Assembly_Input (InputLayer)    [(None, 1)]          0           []                               \n",
      "                                                                                                  \n",
      " Part_No.1_Input (InputLayer)   [(None, 1)]          0           []                               \n",
      "                                                                                                  \n",
      " 청구품목_Input (InputLayer)        [(None, 1)]          0           []                               \n",
      "                                                                                                  \n",
      " Assembly_Embedding (Embedding)  (None, 1, 8)        1392        ['Machinery_Input[0][0]']        \n",
      "                                                                                                  \n",
      " Resource_Embedding (Embedding)  (None, 1, 8)        13464       ['Assembly_Input[0][0]']         \n",
      "                                                                                                  \n",
      " Method_Embedding (Embedding)   (None, 1, 8)         65024       ['Part_No.1_Input[0][0]']        \n",
      "                                                                                                  \n",
      " Dwg_Embedding (Embedding)      (None, 1, 8)         49032       ['청구품목_Input[0][0]']             \n",
      "                                                                                                  \n",
      " concatenate_25 (Concatenate)   (None, 1, 32)        0           ['Assembly_Embedding[0][0]',     \n",
      "                                                                  'Resource_Embedding[0][0]',     \n",
      "                                                                  'Method_Embedding[0][0]',       \n",
      "                                                                  'Dwg_Embedding[0][0]']          \n",
      "                                                                                                  \n",
      " conv1d_2 (Conv1D)              (None, 1, 128)       4224        ['concatenate_25[0][0]']         \n",
      "                                                                                                  \n",
      " global_max_pooling1d (GlobalMa  (None, 128)         0           ['conv1d_2[0][0]']               \n",
      " xPooling1D)                                                                                      \n",
      "                                                                                                  \n",
      " lstm_2 (LSTM)                  (None, 128)          82432       ['concatenate_25[0][0]']         \n",
      "                                                                                                  \n",
      " concatenate_26 (Concatenate)   (None, 256)          0           ['global_max_pooling1d[0][0]',   \n",
      "                                                                  'lstm_2[0][0]']                 \n",
      "                                                                                                  \n",
      " Dense_output (Dense)           (None, 64)           16448       ['concatenate_26[0][0]']         \n",
      "                                                                                                  \n",
      " Prediction_output (Dense)      (None, 61)           3965        ['Dense_output[0][0]']           \n",
      "                                                                                                  \n",
      "==================================================================================================\n",
      "Total params: 235,981\n",
      "Trainable params: 235,981\n",
      "Non-trainable params: 0\n",
      "__________________________________________________________________________________________________\n"
     ]
    }
   ],
   "source": [
    "from tensorflow.keras.optimizers import Adam\n",
    "# 모델 컴파일\n",
    "learning_rate = 0.001  # 원하는 학습률 값 설정하기\n",
    "optimizer = Adam(learning_rate=learning_rate)\n",
    "# 모델 컴파일\n",
    "model.compile(optimizer='adam', loss='categorical_crossentropy', metrics=['accuracy'])\n",
    "# model.compile(optimizer=optimizer, loss=\"mean_squared_error\", metrics=[\"accuracy\"])\n",
    "model.summary()"
   ]
  },
  {
   "cell_type": "code",
   "execution_count": 464,
   "id": "73d9084b-013a-4150-a036-7a80a492f3ae",
   "metadata": {
    "tags": []
   },
   "outputs": [],
   "source": [
    "from tensorflow.keras.utils import to_categorical\n",
    "y_train_categorical = to_categorical(y_train, num_classes=61)\n",
    "y_test_categorical = to_categorical(y_test, num_classes=61)"
   ]
  },
  {
   "cell_type": "code",
   "execution_count": 466,
   "id": "6c012474-f7de-49f9-93f8-6c7d660b5303",
   "metadata": {
    "tags": []
   },
   "outputs": [],
   "source": [
    "import numpy as np\n",
    "from tensorflow import keras\n",
    "\n",
    "# 사용자 정의 콜백 클래스 정의\n",
    "class EpochLogger(keras.callbacks.Callback):\n",
    "    def on_epoch_end(self, epoch, logs=None):\n",
    "        if (epoch + 1) % 30 == 0:\n",
    "            print(f\"Epoch {(epoch + 1)}: Loss = {logs['loss']}, Accuracy = {logs['accuracy']}\")"
   ]
  },
  {
   "cell_type": "code",
   "execution_count": 473,
   "id": "004c4e2d-5304-41f1-a5eb-a1a99a0d9b5c",
   "metadata": {
    "tags": []
   },
   "outputs": [
    {
     "name": "stdout",
     "output_type": "stream",
     "text": [
      "Epoch 1/50\n",
      "257/257 [==============================] - 1s 2ms/step - loss: 0.0038 - accuracy: 0.9990\n",
      "Epoch 2/50\n",
      "257/257 [==============================] - 1s 2ms/step - loss: 0.0039 - accuracy: 0.9990\n",
      "Epoch 3/50\n",
      "257/257 [==============================] - 1s 2ms/step - loss: 0.0039 - accuracy: 0.9987\n",
      "Epoch 4/50\n",
      "257/257 [==============================] - 1s 2ms/step - loss: 0.0040 - accuracy: 0.9987\n",
      "Epoch 5/50\n",
      "257/257 [==============================] - 1s 3ms/step - loss: 0.0041 - accuracy: 0.9985\n",
      "Epoch 6/50\n",
      "257/257 [==============================] - 1s 2ms/step - loss: 0.0041 - accuracy: 0.9988\n",
      "Epoch 7/50\n",
      "257/257 [==============================] - 1s 2ms/step - loss: 0.0039 - accuracy: 0.9987\n",
      "Epoch 8/50\n",
      "257/257 [==============================] - 1s 2ms/step - loss: 0.0043 - accuracy: 0.9986\n",
      "Epoch 9/50\n",
      "257/257 [==============================] - 1s 2ms/step - loss: 0.0038 - accuracy: 0.9984\n",
      "Epoch 10/50\n",
      "257/257 [==============================] - 1s 2ms/step - loss: 0.0030 - accuracy: 0.9990\n",
      "Epoch 11/50\n",
      "257/257 [==============================] - 1s 2ms/step - loss: 0.0033 - accuracy: 0.9987\n",
      "Epoch 12/50\n",
      "257/257 [==============================] - 1s 2ms/step - loss: 0.0031 - accuracy: 0.9988\n",
      "Epoch 13/50\n",
      "257/257 [==============================] - 1s 2ms/step - loss: 0.0026 - accuracy: 0.9987\n",
      "Epoch 14/50\n",
      "257/257 [==============================] - 1s 2ms/step - loss: 0.0025 - accuracy: 0.9987\n",
      "Epoch 15/50\n",
      "257/257 [==============================] - 1s 2ms/step - loss: 0.0025 - accuracy: 0.9990\n",
      "Epoch 16/50\n",
      "257/257 [==============================] - 1s 2ms/step - loss: 0.0024 - accuracy: 0.9989\n",
      "Epoch 17/50\n",
      "257/257 [==============================] - 1s 2ms/step - loss: 0.0023 - accuracy: 0.9988\n",
      "Epoch 18/50\n",
      "257/257 [==============================] - 1s 2ms/step - loss: 0.0024 - accuracy: 0.9986\n",
      "Epoch 19/50\n",
      "257/257 [==============================] - 1s 2ms/step - loss: 0.0022 - accuracy: 0.9989\n",
      "Epoch 20/50\n",
      "257/257 [==============================] - 1s 2ms/step - loss: 0.0023 - accuracy: 0.9987\n",
      "Epoch 21/50\n",
      "257/257 [==============================] - 1s 2ms/step - loss: 0.0020 - accuracy: 0.9990\n",
      "Epoch 22/50\n",
      "257/257 [==============================] - 1s 3ms/step - loss: 0.0021 - accuracy: 0.9986\n",
      "Epoch 23/50\n",
      "257/257 [==============================] - 1s 2ms/step - loss: 0.0020 - accuracy: 0.9990\n",
      "Epoch 24/50\n",
      "257/257 [==============================] - 1s 2ms/step - loss: 0.0021 - accuracy: 0.9989\n",
      "Epoch 25/50\n",
      "257/257 [==============================] - 1s 2ms/step - loss: 0.0021 - accuracy: 0.9990\n",
      "Epoch 26/50\n",
      "257/257 [==============================] - 1s 2ms/step - loss: 0.0022 - accuracy: 0.9987\n",
      "Epoch 27/50\n",
      "257/257 [==============================] - 1s 2ms/step - loss: 0.0026 - accuracy: 0.9985\n",
      "Epoch 28/50\n",
      "257/257 [==============================] - 1s 2ms/step - loss: 0.0042 - accuracy: 0.9982\n",
      "Epoch 29/50\n",
      "257/257 [==============================] - 1s 2ms/step - loss: 0.0039 - accuracy: 0.9984\n",
      "Epoch 30/50\n",
      "236/257 [==========================>...] - ETA: 0s - loss: 0.0017 - accuracy: 0.9990Epoch 30: Loss = 0.0018944722833111882, Accuracy = 0.9988423585891724\n",
      "257/257 [==============================] - 1s 2ms/step - loss: 0.0019 - accuracy: 0.9988\n",
      "Epoch 31/50\n",
      "257/257 [==============================] - 1s 2ms/step - loss: 0.0018 - accuracy: 0.9988\n",
      "Epoch 32/50\n",
      "257/257 [==============================] - 1s 2ms/step - loss: 0.0019 - accuracy: 0.9988\n",
      "Epoch 33/50\n",
      "257/257 [==============================] - 1s 2ms/step - loss: 0.0018 - accuracy: 0.9989\n",
      "Epoch 34/50\n",
      "257/257 [==============================] - 1s 3ms/step - loss: 0.0018 - accuracy: 0.9989\n",
      "Epoch 35/50\n",
      "257/257 [==============================] - 1s 2ms/step - loss: 0.0019 - accuracy: 0.9989\n",
      "Epoch 36/50\n",
      "257/257 [==============================] - 1s 2ms/step - loss: 0.0017 - accuracy: 0.9991\n",
      "Epoch 37/50\n",
      "257/257 [==============================] - 1s 2ms/step - loss: 0.0017 - accuracy: 0.9987\n",
      "Epoch 38/50\n",
      "257/257 [==============================] - 1s 2ms/step - loss: 0.0018 - accuracy: 0.9988\n",
      "Epoch 39/50\n",
      "257/257 [==============================] - 1s 2ms/step - loss: 0.0018 - accuracy: 0.9987\n",
      "Epoch 40/50\n",
      "257/257 [==============================] - 1s 2ms/step - loss: 0.0018 - accuracy: 0.9988\n",
      "Epoch 41/50\n",
      "257/257 [==============================] - 1s 2ms/step - loss: 0.0019 - accuracy: 0.9987\n",
      "Epoch 42/50\n",
      "257/257 [==============================] - 1s 2ms/step - loss: 0.0019 - accuracy: 0.9988\n",
      "Epoch 43/50\n",
      "257/257 [==============================] - 1s 2ms/step - loss: 0.0017 - accuracy: 0.9988\n",
      "Epoch 44/50\n",
      "257/257 [==============================] - 1s 2ms/step - loss: 0.0019 - accuracy: 0.9989\n",
      "Epoch 45/50\n",
      "257/257 [==============================] - 1s 2ms/step - loss: 0.0021 - accuracy: 0.9988\n",
      "Epoch 46/50\n",
      "257/257 [==============================] - 1s 2ms/step - loss: 0.0022 - accuracy: 0.9989\n",
      "Epoch 47/50\n",
      "257/257 [==============================] - 1s 2ms/step - loss: 0.0023 - accuracy: 0.9988\n",
      "Epoch 48/50\n",
      "257/257 [==============================] - 1s 2ms/step - loss: 0.0020 - accuracy: 0.9988\n",
      "Epoch 49/50\n",
      "257/257 [==============================] - 1s 2ms/step - loss: 0.0016 - accuracy: 0.9990\n",
      "Epoch 50/50\n",
      "257/257 [==============================] - 1s 2ms/step - loss: 0.0016 - accuracy: 0.9991\n"
     ]
    },
    {
     "data": {
      "text/plain": [
       "<keras.callbacks.History at 0x1abaf5e06a0>"
      ]
     },
     "execution_count": 473,
     "metadata": {},
     "output_type": "execute_result"
    }
   ],
   "source": [
    "# 모델 훈련 및 콜백 설정\n",
    "model.fit([X_train[:, 0], X_train[:, 1], X_train[:, 2], X_train[:, 3]], y_train_categorical,\n",
    "          epochs=50, batch_size=64, callbacks=[EpochLogger()])"
   ]
  },
  {
   "cell_type": "code",
   "execution_count": 474,
   "id": "dea238ff-1f86-490c-b314-e20c286a0b06",
   "metadata": {
    "tags": []
   },
   "outputs": [
    {
     "name": "stdout",
     "output_type": "stream",
     "text": [
      "129/129 [==============================] - 0s 865us/step\n"
     ]
    }
   ],
   "source": [
    "y_pred = model.predict([X_test[:, 0], X_test[:, 1], X_test[:, 2], X_test[:, 3]])"
   ]
  },
  {
   "cell_type": "code",
   "execution_count": 475,
   "id": "6b6d963c-dd29-4cdf-8541-0675a38e5226",
   "metadata": {
    "tags": []
   },
   "outputs": [],
   "source": [
    "y_pred_classes = np.argmax(y_pred, axis=1)\n",
    "# 정답과 비교할 때 카테고리화 된 y_test 필요\n",
    "y_test_classes = np.argmax(y_test_categorical, axis=1)"
   ]
  },
  {
   "cell_type": "code",
   "execution_count": 476,
   "id": "9a8f97f9-f607-48cb-b2c6-08eba4205268",
   "metadata": {
    "tags": []
   },
   "outputs": [
    {
     "data": {
      "text/plain": [
       "(array([54, 33, 24, ..., 20, 25, 40], dtype=int64),\n",
       " array([54, 33, 24, ..., 51, 25, 40], dtype=int64))"
      ]
     },
     "execution_count": 476,
     "metadata": {},
     "output_type": "execute_result"
    }
   ],
   "source": [
    "y_pred_classes,y_test_classes\n",
    "# y_pred\n"
   ]
  },
  {
   "cell_type": "code",
   "execution_count": 477,
   "id": "c218830a-a8a2-45b7-99ec-d80fa13cd7fd",
   "metadata": {
    "tags": []
   },
   "outputs": [
    {
     "name": "stdout",
     "output_type": "stream",
     "text": [
      "Accuracy: 78.85%\n"
     ]
    }
   ],
   "source": [
    "# 정확도 계산\n",
    "correct = np.sum(y_pred_classes == y_test_classes)\n",
    "accuracy = correct / y_test_classes.shape[0]\n",
    "\n",
    "print(\"Accuracy: {:.2f}%\".format(accuracy * 100))\n"
   ]
  },
  {
   "cell_type": "code",
   "execution_count": 478,
   "id": "9f98db67-939a-4f47-bbcd-86a826314860",
   "metadata": {
    "tags": []
   },
   "outputs": [
    {
     "name": "stdout",
     "output_type": "stream",
     "text": [
      "F1 Score: 80.95%\n"
     ]
    }
   ],
   "source": [
    "from sklearn.metrics import f1_score\n",
    "f1 = f1_score(y_test_classes, y_pred_classes, average='weighted')\n",
    "print(\"F1 Score: {:.2f}%\".format(f1 * 100))\n"
   ]
  },
  {
   "cell_type": "code",
   "execution_count": 361,
   "id": "028c194a-c3df-422d-b36b-9443fd9816d3",
   "metadata": {
    "tags": []
   },
   "outputs": [
    {
     "name": "stdout",
     "output_type": "stream",
     "text": [
      "Epoch 1/30\n",
      "129/129 [==============================] - 0s 1ms/step - loss: 1.4509 - accuracy: 0.5983\n",
      "Epoch 2/30\n",
      "129/129 [==============================] - 0s 1ms/step - loss: 1.4508 - accuracy: 0.5986\n",
      "Epoch 3/30\n",
      "129/129 [==============================] - 0s 1ms/step - loss: 1.4507 - accuracy: 0.5985\n",
      "Epoch 4/30\n",
      "129/129 [==============================] - 0s 1ms/step - loss: 1.4506 - accuracy: 0.5984\n",
      "Epoch 5/30\n",
      "129/129 [==============================] - 0s 1ms/step - loss: 1.4505 - accuracy: 0.5984\n",
      "Epoch 6/30\n",
      "129/129 [==============================] - 0s 1ms/step - loss: 1.4504 - accuracy: 0.5985\n",
      "Epoch 7/30\n",
      "129/129 [==============================] - 0s 1ms/step - loss: 1.4503 - accuracy: 0.5982\n",
      "Epoch 8/30\n",
      "129/129 [==============================] - 0s 1ms/step - loss: 1.4503 - accuracy: 0.5984\n",
      "Epoch 9/30\n",
      "129/129 [==============================] - 0s 1ms/step - loss: 1.4502 - accuracy: 0.5984\n",
      "Epoch 10/30\n",
      "129/129 [==============================] - 0s 1ms/step - loss: 1.4501 - accuracy: 0.5985\n",
      "Epoch 11/30\n",
      "129/129 [==============================] - 0s 1ms/step - loss: 1.4500 - accuracy: 0.5985\n",
      "Epoch 12/30\n",
      "129/129 [==============================] - 0s 1ms/step - loss: 1.4499 - accuracy: 0.5984\n",
      "Epoch 13/30\n",
      "129/129 [==============================] - 0s 1ms/step - loss: 1.4498 - accuracy: 0.5985\n",
      "Epoch 14/30\n",
      "129/129 [==============================] - 0s 1ms/step - loss: 1.4497 - accuracy: 0.5984\n",
      "Epoch 15/30\n",
      "129/129 [==============================] - 0s 1ms/step - loss: 1.4496 - accuracy: 0.5982\n",
      "Epoch 16/30\n",
      "129/129 [==============================] - 0s 1ms/step - loss: 1.4495 - accuracy: 0.5986\n",
      "Epoch 17/30\n",
      "129/129 [==============================] - 0s 1ms/step - loss: 1.4494 - accuracy: 0.5984\n",
      "Epoch 18/30\n",
      "129/129 [==============================] - 0s 1ms/step - loss: 1.4494 - accuracy: 0.5985\n",
      "Epoch 19/30\n",
      "129/129 [==============================] - 0s 1ms/step - loss: 1.4492 - accuracy: 0.5983\n",
      "Epoch 20/30\n",
      "129/129 [==============================] - 0s 1ms/step - loss: 1.4492 - accuracy: 0.5987\n",
      "Epoch 21/30\n",
      "129/129 [==============================] - 0s 1ms/step - loss: 1.4491 - accuracy: 0.5985\n",
      "Epoch 22/30\n",
      "129/129 [==============================] - 0s 1ms/step - loss: 1.4490 - accuracy: 0.5984\n",
      "Epoch 23/30\n",
      "129/129 [==============================] - 0s 1ms/step - loss: 1.4489 - accuracy: 0.5983\n",
      "Epoch 24/30\n",
      "129/129 [==============================] - 0s 1ms/step - loss: 1.4488 - accuracy: 0.5986\n",
      "Epoch 25/30\n",
      "129/129 [==============================] - 0s 1ms/step - loss: 1.4487 - accuracy: 0.5984\n",
      "Epoch 26/30\n",
      "129/129 [==============================] - 0s 1ms/step - loss: 1.4487 - accuracy: 0.5985\n",
      "Epoch 27/30\n",
      "129/129 [==============================] - 0s 1ms/step - loss: 1.4486 - accuracy: 0.5984\n",
      "Epoch 28/30\n",
      "129/129 [==============================] - 0s 1ms/step - loss: 1.4485 - accuracy: 0.5985\n",
      "Epoch 29/30\n",
      "129/129 [==============================] - 0s 1ms/step - loss: 1.4484 - accuracy: 0.5984\n",
      "Epoch 30/30\n",
      "129/129 [==============================] - 0s 1ms/step - loss: 1.4483 - accuracy: 0.5985\n"
     ]
    },
    {
     "data": {
      "text/plain": [
       "<keras.callbacks.History at 0x1abace0abc0>"
      ]
     },
     "execution_count": 361,
     "metadata": {},
     "output_type": "execute_result"
    }
   ],
   "source": [
    "# y_train_categorical\n",
    "model.fit([X_train[:, 0], X_train[:, 1], X_train[:, 2], X_train[:, 3]], y_train_categorical, epochs=30, batch_size=128)"
   ]
  },
  {
   "cell_type": "code",
   "execution_count": 249,
   "id": "71d50297-aa71-4886-97c6-14cb590a8338",
   "metadata": {
    "tags": []
   },
   "outputs": [
    {
     "name": "stdout",
     "output_type": "stream",
     "text": [
      "Epoch 1/30\n",
      "513/513 [==============================] - 1s 943us/step - loss: 1157.7864 - accuracy: 0.0016\n",
      "Epoch 2/30\n",
      "513/513 [==============================] - 1s 1ms/step - loss: 1151.3301 - accuracy: 0.0016\n",
      "Epoch 3/30\n",
      "513/513 [==============================] - 1s 1ms/step - loss: 1149.7228 - accuracy: 0.0016\n",
      "Epoch 4/30\n",
      "513/513 [==============================] - 1s 1ms/step - loss: 1148.9491 - accuracy: 0.0016\n",
      "Epoch 5/30\n",
      "513/513 [==============================] - 0s 922us/step - loss: 1148.5073 - accuracy: 0.0016\n",
      "Epoch 6/30\n",
      "513/513 [==============================] - 1s 982us/step - loss: 1148.2336 - accuracy: 0.0016\n",
      "Epoch 7/30\n",
      "513/513 [==============================] - 1s 976us/step - loss: 1148.0513 - accuracy: 0.0016\n",
      "Epoch 8/30\n",
      "513/513 [==============================] - 0s 937us/step - loss: 1147.9274 - accuracy: 0.0016\n",
      "Epoch 9/30\n",
      "513/513 [==============================] - 1s 1ms/step - loss: 1147.8386 - accuracy: 0.0016\n",
      "Epoch 10/30\n",
      "513/513 [==============================] - 0s 970us/step - loss: 1147.7732 - accuracy: 0.0016\n",
      "Epoch 11/30\n",
      "513/513 [==============================] - 1s 1ms/step - loss: 1147.7256 - accuracy: 0.0016\n",
      "Epoch 12/30\n",
      "513/513 [==============================] - 0s 957us/step - loss: 1147.6897 - accuracy: 0.0016\n",
      "Epoch 13/30\n",
      "513/513 [==============================] - 0s 947us/step - loss: 1147.6615 - accuracy: 0.0016\n",
      "Epoch 14/30\n",
      "513/513 [==============================] - 1s 1ms/step - loss: 1147.6401 - accuracy: 0.0016\n",
      "Epoch 15/30\n",
      "513/513 [==============================] - 1s 976us/step - loss: 1147.6266 - accuracy: 0.0016\n",
      "Epoch 16/30\n",
      "513/513 [==============================] - 1s 1ms/step - loss: 1147.6104 - accuracy: 0.0016\n",
      "Epoch 17/30\n",
      "513/513 [==============================] - 0s 935us/step - loss: 1147.6016 - accuracy: 0.0016\n",
      "Epoch 18/30\n",
      "513/513 [==============================] - 1s 1ms/step - loss: 1147.5969 - accuracy: 0.0016\n",
      "Epoch 19/30\n",
      "513/513 [==============================] - 1s 988us/step - loss: 1147.5934 - accuracy: 0.0016\n",
      "Epoch 20/30\n",
      "513/513 [==============================] - 0s 939us/step - loss: 1147.5845 - accuracy: 0.0016\n",
      "Epoch 21/30\n",
      "513/513 [==============================] - 1s 1ms/step - loss: 1147.5765 - accuracy: 0.0016\n",
      "Epoch 22/30\n",
      "513/513 [==============================] - 0s 957us/step - loss: 1147.5758 - accuracy: 0.0016\n",
      "Epoch 23/30\n",
      "513/513 [==============================] - 1s 1ms/step - loss: 1147.5745 - accuracy: 0.0016\n",
      "Epoch 24/30\n",
      "513/513 [==============================] - 1s 1ms/step - loss: 1147.5715 - accuracy: 0.0016\n",
      "Epoch 25/30\n",
      "513/513 [==============================] - 1s 1ms/step - loss: 1147.5713 - accuracy: 0.0016\n",
      "Epoch 26/30\n",
      "513/513 [==============================] - 1s 1ms/step - loss: 1147.5706 - accuracy: 0.0016\n",
      "Epoch 27/30\n",
      "513/513 [==============================] - 1s 1ms/step - loss: 1147.5701 - accuracy: 0.0016\n",
      "Epoch 28/30\n",
      "513/513 [==============================] - 1s 1ms/step - loss: 1147.5702 - accuracy: 0.0016\n",
      "Epoch 29/30\n",
      "513/513 [==============================] - 0s 974us/step - loss: 1147.5701 - accuracy: 0.0016\n",
      "Epoch 30/30\n",
      "513/513 [==============================] - 1s 1ms/step - loss: 1147.5701 - accuracy: 0.0016\n"
     ]
    },
    {
     "data": {
      "text/plain": [
       "<keras.callbacks.History at 0x1abac8c00a0>"
      ]
     },
     "execution_count": 249,
     "metadata": {},
     "output_type": "execute_result"
    }
   ],
   "source": [
    "# 모델 학습\n",
    "# model.fit([X_train[:, 0], X_train[:, 1], X_train[:, 2], X_train[:, 3]], y_train, epochs=10, batch_size=32)\n",
    "model.fit([X_train[:, 0], X_train[:, 1], X_train[:, 2], X_train[:, 3]], y_train, epochs=30, batch_size=32)\n"
   ]
  },
  {
   "cell_type": "code",
   "execution_count": null,
   "id": "2fb06db8-d0bd-4824-ad9b-79968376dc97",
   "metadata": {},
   "outputs": [],
   "source": []
  },
  {
   "cell_type": "code",
   "execution_count": null,
   "id": "5977eae1-b8e0-4795-8195-3a06ab405e9c",
   "metadata": {},
   "outputs": [],
   "source": []
  },
  {
   "cell_type": "code",
   "execution_count": 265,
   "id": "87a84b01-f684-4910-8e8b-0b84f4a12b69",
   "metadata": {
    "tags": []
   },
   "outputs": [],
   "source": [
    "# from tensorflow.keras.utils import to_categorical\n",
    "# # y값 카테고리 화\n",
    "# y_train_encoded = to_categorical(y_train, num_classes=61)\n",
    "# y_test_encoded = to_categorical(y_test, num_classes=61)"
   ]
  },
  {
   "cell_type": "code",
   "execution_count": 266,
   "id": "01a3abaa-c133-493c-8247-dacc088a9325",
   "metadata": {
    "tags": []
   },
   "outputs": [],
   "source": [
    "import numpy as np\n",
    "\n",
    "X_train = np.array(X_train)\n",
    "X_test = np.array(X_test)\n",
    "\n",
    "X_train = X_train.reshape(X_train.shape[0], X_train.shape[1], 1)\n",
    "X_test = X_test.reshape(X_test.shape[0], X_test.shape[1], 1)\n",
    "\n",
    "X_train = np.expand_dims(X_train, axis=-1)\n",
    "X_test = np.expand_dims(X_test, axis=-1)\n",
    "\n",
    "# X_train = X_train.reshape(X_train.shape[0], X_train.shape[1], 1, 1)\n",
    "# X_test = X_test.reshape(X_test.shape[0], X_test.shape[1], 1, 1)\n",
    "\n",
    "# X_train = np.expand_dims(X_train, axis=2)  # (데이터 개수, 시퀀스 길이, 1)\n",
    "# X_test = np.expand_dims(X_test, axis=2)  # (데이터 개수, 시퀀스 길이, 1)"
   ]
  },
  {
   "cell_type": "code",
   "execution_count": 267,
   "id": "d7d356a1-ade5-4790-bb7d-46bf9baa8d4b",
   "metadata": {
    "tags": []
   },
   "outputs": [
    {
     "data": {
      "text/plain": [
       "((16867, 30, 1, 1), (4217, 30, 1, 1))"
      ]
     },
     "execution_count": 267,
     "metadata": {},
     "output_type": "execute_result"
    }
   ],
   "source": [
    "X_train.shape, X_test.shape"
   ]
  },
  {
   "cell_type": "code",
   "execution_count": 268,
   "id": "74f9e17e-cc7c-4562-b53a-375ef0b9bec0",
   "metadata": {
    "tags": []
   },
   "outputs": [
    {
     "name": "stdout",
     "output_type": "stream",
     "text": [
      "Model: \"sequential_23\"\n",
      "_________________________________________________________________\n",
      " Layer (type)                Output Shape              Param #   \n",
      "=================================================================\n",
      " embedding_17 (Embedding)    (None, 100, 100)          300000    \n",
      "                                                                 \n",
      " conv1d_20 (Conv1D)          (None, 98, 32)            9632      \n",
      "                                                                 \n",
      " global_max_pooling1d_20 (Gl  (None, 32)               0         \n",
      " obalMaxPooling1D)                                               \n",
      "                                                                 \n",
      " dense_35 (Dense)            (None, 128)               4224      \n",
      "                                                                 \n",
      " dense_36 (Dense)            (None, 61)                7869      \n",
      "                                                                 \n",
      "=================================================================\n",
      "Total params: 321,725\n",
      "Trainable params: 321,725\n",
      "Non-trainable params: 0\n",
      "_________________________________________________________________\n"
     ]
    }
   ],
   "source": [
    "from tensorflow.keras.models import Sequential\n",
    "from tensorflow.keras.layers import Embedding, Conv1D, GlobalMaxPooling1D, Dense\n",
    "\n",
    "# 모델 구성\n",
    "# model = Sequential()\n",
    "# model.add(Embedding(input_dim=30, output_dim=100, input_length=30))\n",
    "# model.add(Conv1D(32, kernel_size=3, activation='relu'))\n",
    "# model.add(GlobalMaxPooling1D())\n",
    "# model.add(Dense(128, activation='relu'))\n",
    "# model.add(Dense(61, activation='softmax'))\n",
    "# model.add(Dense(4, activation='softmax'))\n",
    "\n",
    "\n",
    "# model = Sequential()\n",
    "# model.add(Conv1D(32, 3, activation='relu', input_shape=(30, 100)))\n",
    "# model.add(GlobalMaxPooling1D())\n",
    "# model.add(Dense(128, activation='relu'))\n",
    "# model.add(Dense(61, activation='softmax'))\n",
    "\n",
    "model = Sequential()\n",
    "model.add(Embedding(input_dim=3000, output_dim=100, input_length=100))\n",
    "model.add(Conv1D(32, 3, activation='relu'))\n",
    "model.add(GlobalMaxPooling1D())\n",
    "model.add(Dense(128, activation='relu'))\n",
    "model.add(Dense(61, activation='softmax'))\n",
    "\n",
    "\n",
    "# 모델 컴파일\n",
    "model.compile(optimizer='adam', loss='categorical_crossentropy', metrics=['accuracy'])\n",
    "\n",
    "# 모델 요약 정보 출력\n",
    "model.summary()"
   ]
  },
  {
   "cell_type": "code",
   "execution_count": 269,
   "id": "44c211d1-ec20-496a-9e3b-e3927e36810c",
   "metadata": {
    "tags": []
   },
   "outputs": [
    {
     "name": "stdout",
     "output_type": "stream",
     "text": [
      "Epoch 1/10\n"
     ]
    },
    {
     "ename": "ValueError",
     "evalue": "in user code:\n\n    File \"D:\\ShipSupplies\\DA\\venv\\lib\\site-packages\\keras\\engine\\training.py\", line 1284, in train_function  *\n        return step_function(self, iterator)\n    File \"D:\\ShipSupplies\\DA\\venv\\lib\\site-packages\\keras\\engine\\training.py\", line 1268, in step_function  **\n        outputs = model.distribute_strategy.run(run_step, args=(data,))\n    File \"D:\\ShipSupplies\\DA\\venv\\lib\\site-packages\\keras\\engine\\training.py\", line 1249, in run_step  **\n        outputs = model.train_step(data)\n    File \"D:\\ShipSupplies\\DA\\venv\\lib\\site-packages\\keras\\engine\\training.py\", line 1050, in train_step\n        y_pred = self(x, training=True)\n    File \"D:\\ShipSupplies\\DA\\venv\\lib\\site-packages\\keras\\utils\\traceback_utils.py\", line 70, in error_handler\n        raise e.with_traceback(filtered_tb) from None\n    File \"D:\\ShipSupplies\\DA\\venv\\lib\\site-packages\\keras\\engine\\input_spec.py\", line 298, in assert_input_compatibility\n        raise ValueError(\n\n    ValueError: Input 0 of layer \"sequential_23\" is incompatible with the layer: expected shape=(None, 100), found shape=(None, 30, 1, 1)\n",
     "output_type": "error",
     "traceback": [
      "\u001b[1;31m---------------------------------------------------------------------------\u001b[0m",
      "\u001b[1;31mValueError\u001b[0m                                Traceback (most recent call last)",
      "Cell \u001b[1;32mIn[269], line 4\u001b[0m\n\u001b[0;32m      1\u001b[0m \u001b[38;5;66;03m# 모델 학습\u001b[39;00m\n\u001b[0;32m      2\u001b[0m \u001b[38;5;66;03m# model.fit(X_train, y_train, epochs=10, batch_size=32, validation_data=(X_test, y_test))\u001b[39;00m\n\u001b[0;32m      3\u001b[0m \u001b[38;5;66;03m# model.fit(X_train, y_train_encoded, epochs=10, batch_size=32, validation_data=(X_test, y_test_encoded))\u001b[39;00m\n\u001b[1;32m----> 4\u001b[0m \u001b[43mmodel\u001b[49m\u001b[38;5;241;43m.\u001b[39;49m\u001b[43mfit\u001b[49m\u001b[43m(\u001b[49m\u001b[43mX_train\u001b[49m\u001b[43m,\u001b[49m\u001b[43m \u001b[49m\u001b[43my_train\u001b[49m\u001b[43m,\u001b[49m\u001b[43m \u001b[49m\u001b[43mepochs\u001b[49m\u001b[38;5;241;43m=\u001b[39;49m\u001b[38;5;241;43m10\u001b[39;49m\u001b[43m,\u001b[49m\u001b[43m \u001b[49m\u001b[43mbatch_size\u001b[49m\u001b[38;5;241;43m=\u001b[39;49m\u001b[38;5;241;43m32\u001b[39;49m\u001b[43m,\u001b[49m\u001b[43m \u001b[49m\u001b[43mvalidation_data\u001b[49m\u001b[38;5;241;43m=\u001b[39;49m\u001b[43m(\u001b[49m\u001b[43mX_test\u001b[49m\u001b[43m,\u001b[49m\u001b[43m \u001b[49m\u001b[43my_test\u001b[49m\u001b[43m)\u001b[49m\u001b[43m)\u001b[49m\n\u001b[0;32m      5\u001b[0m \u001b[38;5;28;01mimport\u001b[39;00m \u001b[38;5;21;01mmatplotlib\u001b[39;00m\u001b[38;5;21;01m.\u001b[39;00m\u001b[38;5;21;01mpyplot\u001b[39;00m \u001b[38;5;28;01mas\u001b[39;00m \u001b[38;5;21;01mplt\u001b[39;00m\n\u001b[0;32m      7\u001b[0m \u001b[38;5;66;03m# 손실 값 추출\u001b[39;00m\n",
      "File \u001b[1;32mD:\\ShipSupplies\\DA\\venv\\lib\\site-packages\\keras\\utils\\traceback_utils.py:70\u001b[0m, in \u001b[0;36mfilter_traceback.<locals>.error_handler\u001b[1;34m(*args, **kwargs)\u001b[0m\n\u001b[0;32m     67\u001b[0m     filtered_tb \u001b[38;5;241m=\u001b[39m _process_traceback_frames(e\u001b[38;5;241m.\u001b[39m__traceback__)\n\u001b[0;32m     68\u001b[0m     \u001b[38;5;66;03m# To get the full stack trace, call:\u001b[39;00m\n\u001b[0;32m     69\u001b[0m     \u001b[38;5;66;03m# `tf.debugging.disable_traceback_filtering()`\u001b[39;00m\n\u001b[1;32m---> 70\u001b[0m     \u001b[38;5;28;01mraise\u001b[39;00m e\u001b[38;5;241m.\u001b[39mwith_traceback(filtered_tb) \u001b[38;5;28;01mfrom\u001b[39;00m \u001b[38;5;28;01mNone\u001b[39;00m\n\u001b[0;32m     71\u001b[0m \u001b[38;5;28;01mfinally\u001b[39;00m:\n\u001b[0;32m     72\u001b[0m     \u001b[38;5;28;01mdel\u001b[39;00m filtered_tb\n",
      "File \u001b[1;32m~\\AppData\\Local\\Temp\\__autograph_generated_file9_y83zhq.py:15\u001b[0m, in \u001b[0;36mouter_factory.<locals>.inner_factory.<locals>.tf__train_function\u001b[1;34m(iterator)\u001b[0m\n\u001b[0;32m     13\u001b[0m \u001b[38;5;28;01mtry\u001b[39;00m:\n\u001b[0;32m     14\u001b[0m     do_return \u001b[38;5;241m=\u001b[39m \u001b[38;5;28;01mTrue\u001b[39;00m\n\u001b[1;32m---> 15\u001b[0m     retval_ \u001b[38;5;241m=\u001b[39m ag__\u001b[38;5;241m.\u001b[39mconverted_call(ag__\u001b[38;5;241m.\u001b[39mld(step_function), (ag__\u001b[38;5;241m.\u001b[39mld(\u001b[38;5;28mself\u001b[39m), ag__\u001b[38;5;241m.\u001b[39mld(iterator)), \u001b[38;5;28;01mNone\u001b[39;00m, fscope)\n\u001b[0;32m     16\u001b[0m \u001b[38;5;28;01mexcept\u001b[39;00m:\n\u001b[0;32m     17\u001b[0m     do_return \u001b[38;5;241m=\u001b[39m \u001b[38;5;28;01mFalse\u001b[39;00m\n",
      "\u001b[1;31mValueError\u001b[0m: in user code:\n\n    File \"D:\\ShipSupplies\\DA\\venv\\lib\\site-packages\\keras\\engine\\training.py\", line 1284, in train_function  *\n        return step_function(self, iterator)\n    File \"D:\\ShipSupplies\\DA\\venv\\lib\\site-packages\\keras\\engine\\training.py\", line 1268, in step_function  **\n        outputs = model.distribute_strategy.run(run_step, args=(data,))\n    File \"D:\\ShipSupplies\\DA\\venv\\lib\\site-packages\\keras\\engine\\training.py\", line 1249, in run_step  **\n        outputs = model.train_step(data)\n    File \"D:\\ShipSupplies\\DA\\venv\\lib\\site-packages\\keras\\engine\\training.py\", line 1050, in train_step\n        y_pred = self(x, training=True)\n    File \"D:\\ShipSupplies\\DA\\venv\\lib\\site-packages\\keras\\utils\\traceback_utils.py\", line 70, in error_handler\n        raise e.with_traceback(filtered_tb) from None\n    File \"D:\\ShipSupplies\\DA\\venv\\lib\\site-packages\\keras\\engine\\input_spec.py\", line 298, in assert_input_compatibility\n        raise ValueError(\n\n    ValueError: Input 0 of layer \"sequential_23\" is incompatible with the layer: expected shape=(None, 100), found shape=(None, 30, 1, 1)\n"
     ]
    }
   ],
   "source": [
    "# 모델 학습\n",
    "# model.fit(X_train, y_train, epochs=10, batch_size=32, validation_data=(X_test, y_test))\n",
    "# model.fit(X_train, y_train_encoded, epochs=10, batch_size=32, validation_data=(X_test, y_test_encoded))\n",
    "model.fit(X_train, y_train, epochs=10, batch_size=32, validation_data=(X_test, y_test))\n",
    "import matplotlib.pyplot as plt\n",
    "\n",
    "# 손실 값 추출\n",
    "train_loss = history.history['loss']\n",
    "val_loss = history.history['val_loss']\n",
    "\n",
    "# 에포크 수\n",
    "epochs = range(1, len(train_loss) + 1)\n",
    "\n",
    "# 학습 곡선 그리기\n",
    "plt.plot(epochs, train_loss, 'b-', label='Training Loss')\n",
    "plt.plot(epochs, val_loss, 'r-', label='Validation Loss')\n",
    "plt.xlabel('Epochs')\n",
    "plt.ylabel('Loss')\n",
    "plt.legend()\n",
    "plt.show()"
   ]
  },
  {
   "cell_type": "code",
   "execution_count": null,
   "id": "a805dfbf-48d5-4dee-8da2-d078c9497e90",
   "metadata": {},
   "outputs": [],
   "source": []
  },
  {
   "cell_type": "code",
   "execution_count": null,
   "id": "7c8f710b-74f0-471e-bf8e-c4bed173db25",
   "metadata": {},
   "outputs": [],
   "source": []
  },
  {
   "cell_type": "code",
   "execution_count": null,
   "id": "51db15cc-8534-4871-94d8-222c4166ca96",
   "metadata": {},
   "outputs": [],
   "source": []
  },
  {
   "cell_type": "code",
   "execution_count": 51,
   "id": "231b811a-b4fa-47ce-9e2a-dc54f6d6dd9b",
   "metadata": {
    "tags": []
   },
   "outputs": [
    {
     "ename": "NameError",
     "evalue": "name 'width' is not defined",
     "output_type": "error",
     "traceback": [
      "\u001b[1;31m---------------------------------------------------------------------------\u001b[0m",
      "\u001b[1;31mNameError\u001b[0m                                 Traceback (most recent call last)",
      "Cell \u001b[1;32mIn[51], line 6\u001b[0m\n\u001b[0;32m      4\u001b[0m \u001b[38;5;66;03m# 모델 구성\u001b[39;00m\n\u001b[0;32m      5\u001b[0m model \u001b[38;5;241m=\u001b[39m Sequential()\n\u001b[1;32m----> 6\u001b[0m model\u001b[38;5;241m.\u001b[39madd(Conv2D(\u001b[38;5;241m32\u001b[39m, (\u001b[38;5;241m3\u001b[39m, \u001b[38;5;241m3\u001b[39m), activation\u001b[38;5;241m=\u001b[39m\u001b[38;5;124m'\u001b[39m\u001b[38;5;124mrelu\u001b[39m\u001b[38;5;124m'\u001b[39m, input_shape\u001b[38;5;241m=\u001b[39m(\u001b[43mwidth\u001b[49m, height, channels)))\n\u001b[0;32m      7\u001b[0m model\u001b[38;5;241m.\u001b[39madd(MaxPooling2D((\u001b[38;5;241m2\u001b[39m, \u001b[38;5;241m2\u001b[39m)))\n\u001b[0;32m      8\u001b[0m model\u001b[38;5;241m.\u001b[39madd(Conv2D(\u001b[38;5;241m64\u001b[39m, (\u001b[38;5;241m3\u001b[39m, \u001b[38;5;241m3\u001b[39m), activation\u001b[38;5;241m=\u001b[39m\u001b[38;5;124m'\u001b[39m\u001b[38;5;124mrelu\u001b[39m\u001b[38;5;124m'\u001b[39m))\n",
      "\u001b[1;31mNameError\u001b[0m: name 'width' is not defined"
     ]
    }
   ],
   "source": [
    "from tensorflow.keras.models import Sequential\n",
    "from tensorflow.keras.layers import Conv2D, MaxPooling2D, Flatten, Dense\n",
    "\n",
    "# 모델 구성\n",
    "model = Sequential()\n",
    "model.add(Conv2D(32, (3, 3), activation='relu', input_shape=(width, height, channels)))\n",
    "model.add(MaxPooling2D((2, 2)))\n",
    "model.add(Conv2D(64, (3, 3), activation='relu'))\n",
    "model.add(MaxPooling2D((2, 2)))\n",
    "model.add(Flatten())\n",
    "model.add(Dense(128, activation='relu'))\n",
    "model.add(Dense(61, activation='softmax'))\n",
    "\n",
    "# 모델 컴파일\n",
    "model.compile(optimizer='adam', loss='categorical_crossentropy', metrics=['accuracy'])\n",
    "\n",
    "# 모델 요약 정보 출력\n",
    "model.summary()"
   ]
  },
  {
   "cell_type": "code",
   "execution_count": null,
   "id": "b8111e19-80d3-4c5f-80b6-ec7d09d38472",
   "metadata": {},
   "outputs": [],
   "source": []
  }
 ],
 "metadata": {
  "kernelspec": {
   "display_name": "Python 3 (ipykernel)",
   "language": "python",
   "name": "python3"
  },
  "language_info": {
   "codemirror_mode": {
    "name": "ipython",
    "version": 3
   },
   "file_extension": ".py",
   "mimetype": "text/x-python",
   "name": "python",
   "nbconvert_exporter": "python",
   "pygments_lexer": "ipython3",
   "version": "3.10.10"
  }
 },
 "nbformat": 4,
 "nbformat_minor": 5
}
