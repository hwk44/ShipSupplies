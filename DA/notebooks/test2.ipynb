{
 "cells": [
  {
   "cell_type": "code",
   "execution_count": 2,
   "id": "7b2ae786-587b-4381-9b85-2eb6fa2abef4",
   "metadata": {
    "tags": []
   },
   "outputs": [],
   "source": [
    "import pandas as pd\n",
    "import numpy as np\n",
    "\n",
    "from sklearn.metrics import accuracy_score\n",
    "from sklearn.ensemble import GradientBoostingClassifier\n",
    "\n",
    "from sklearn.model_selection import GridSearchCV\n",
    "from sklearn.metrics import make_scorer\n",
    "\n",
    "\n",
    "from xgboost import XGBClassifier\n",
    "from xgboost import plot_importance\n",
    "\n",
    "import matplotlib.pyplot as plt\n",
    "import seaborn as sns"
   ]
  },
  {
   "cell_type": "code",
   "execution_count": 3,
   "id": "7c99e425-3406-407a-95ca-034fcf63f121",
   "metadata": {
    "tags": []
   },
   "outputs": [],
   "source": [
    "import pandas as pd\n",
    "import numpy as np\n",
    "from sklearn.model_selection import train_test_split\n",
    "from sklearn import preprocessing\n",
    "df = pd.read_csv('../data/raw_postpro.csv', encoding='cp949')\n",
    "df1 = df[['Machinery', 'Assembly' , \"Part No.1\",\"청구품목\", 'key2']]"
   ]
  },
  {
   "cell_type": "code",
   "execution_count": 4,
   "id": "e30c1933-10fa-4bed-9c1c-4ac927e49585",
   "metadata": {
    "tags": []
   },
   "outputs": [
    {
     "name": "stderr",
     "output_type": "stream",
     "text": [
      "C:\\Users\\SW\\AppData\\Local\\Temp\\ipykernel_5268\\2691750297.py:11: SettingWithCopyWarning: \n",
      "A value is trying to be set on a copy of a slice from a DataFrame.\n",
      "Try using .loc[row_indexer,col_indexer] = value instead\n",
      "\n",
      "See the caveats in the documentation: https://pandas.pydata.org/pandas-docs/stable/user_guide/indexing.html#returning-a-view-versus-a-copy\n",
      "  df1[column+\"_encoded\"] = le.transform(df1[column])\n",
      "C:\\Users\\SW\\AppData\\Local\\Temp\\ipykernel_5268\\2691750297.py:11: SettingWithCopyWarning: \n",
      "A value is trying to be set on a copy of a slice from a DataFrame.\n",
      "Try using .loc[row_indexer,col_indexer] = value instead\n",
      "\n",
      "See the caveats in the documentation: https://pandas.pydata.org/pandas-docs/stable/user_guide/indexing.html#returning-a-view-versus-a-copy\n",
      "  df1[column+\"_encoded\"] = le.transform(df1[column])\n",
      "C:\\Users\\SW\\AppData\\Local\\Temp\\ipykernel_5268\\2691750297.py:11: SettingWithCopyWarning: \n",
      "A value is trying to be set on a copy of a slice from a DataFrame.\n",
      "Try using .loc[row_indexer,col_indexer] = value instead\n",
      "\n",
      "See the caveats in the documentation: https://pandas.pydata.org/pandas-docs/stable/user_guide/indexing.html#returning-a-view-versus-a-copy\n",
      "  df1[column+\"_encoded\"] = le.transform(df1[column])\n",
      "C:\\Users\\SW\\AppData\\Local\\Temp\\ipykernel_5268\\2691750297.py:11: SettingWithCopyWarning: \n",
      "A value is trying to be set on a copy of a slice from a DataFrame.\n",
      "Try using .loc[row_indexer,col_indexer] = value instead\n",
      "\n",
      "See the caveats in the documentation: https://pandas.pydata.org/pandas-docs/stable/user_guide/indexing.html#returning-a-view-versus-a-copy\n",
      "  df1[column+\"_encoded\"] = le.transform(df1[column])\n",
      "C:\\Users\\SW\\AppData\\Local\\Temp\\ipykernel_5268\\2691750297.py:11: SettingWithCopyWarning: \n",
      "A value is trying to be set on a copy of a slice from a DataFrame.\n",
      "Try using .loc[row_indexer,col_indexer] = value instead\n",
      "\n",
      "See the caveats in the documentation: https://pandas.pydata.org/pandas-docs/stable/user_guide/indexing.html#returning-a-view-versus-a-copy\n",
      "  df1[column+\"_encoded\"] = le.transform(df1[column])\n"
     ]
    }
   ],
   "source": [
    "from sklearn.preprocessing import LabelEncoder\n",
    "\n",
    "# 기존 데이터프레임의 라벨 인코딩 방식 확인\n",
    "label_encoders = {}  # 각 열에 대한 LabelEncoder를 저장하기 위한 딕셔너리\n",
    "columns_to_encode = ['Machinery', 'Assembly' , \"Part No.1\",\"청구품목\", 'key2']  # 인코딩을 수행할 열의 이름 리스트\n",
    "\n",
    "for column in columns_to_encode:\n",
    "    le = LabelEncoder()\n",
    "    le.fit(df1[column])\n",
    "    label_encoders[column] = le\n",
    "    df1[column+\"_encoded\"] = le.transform(df1[column])"
   ]
  },
  {
   "cell_type": "code",
   "execution_count": 5,
   "id": "48cfa0be-2d22-4c64-b793-07f05e8b077d",
   "metadata": {
    "tags": []
   },
   "outputs": [
    {
     "data": {
      "text/plain": [
       "Index(['청구서번호', 'No.', 'Subject', 'Machinery', 'Assembly', '청구품목', 'Part No.1',\n",
       "       'Part No.2', 'key1', 'key2', '리드타임_음수제거', '청구량', '견적', '견적수량', '견적화폐',\n",
       "       '견적단가', '발주번호', '발주처', '발주', '발주수량', '발주금액', 'D/T', '미입고 기간', '리드타임',\n",
       "       '창고입고', '창고입고수량', 'Control No.', '입고창고', '창고출고', '창고출고수량', '출고선박',\n",
       "       '출고운반선', '선박입고', '선박입고수량', '완료 여부'],\n",
       "      dtype='object')"
      ]
     },
     "execution_count": 5,
     "metadata": {},
     "output_type": "execute_result"
    }
   ],
   "source": [
    "df.columns"
   ]
  },
  {
   "cell_type": "code",
   "execution_count": 6,
   "id": "1c48768f-58c3-4aa0-a84d-2de1dda406f7",
   "metadata": {
    "tags": []
   },
   "outputs": [
    {
     "data": {
      "text/html": [
       "<div>\n",
       "<style scoped>\n",
       "    .dataframe tbody tr th:only-of-type {\n",
       "        vertical-align: middle;\n",
       "    }\n",
       "\n",
       "    .dataframe tbody tr th {\n",
       "        vertical-align: top;\n",
       "    }\n",
       "\n",
       "    .dataframe thead th {\n",
       "        text-align: right;\n",
       "    }\n",
       "</style>\n",
       "<table border=\"1\" class=\"dataframe\">\n",
       "  <thead>\n",
       "    <tr style=\"text-align: right;\">\n",
       "      <th></th>\n",
       "      <th>Machinery</th>\n",
       "      <th>Assembly</th>\n",
       "      <th>Part No.1</th>\n",
       "      <th>청구품목</th>\n",
       "      <th>key2</th>\n",
       "      <th>Machinery_encoded</th>\n",
       "      <th>Assembly_encoded</th>\n",
       "      <th>Part No.1_encoded</th>\n",
       "      <th>청구품목_encoded</th>\n",
       "      <th>key2_encoded</th>\n",
       "    </tr>\n",
       "  </thead>\n",
       "  <tbody>\n",
       "    <tr>\n",
       "      <th>0</th>\n",
       "      <td>NO.1 GENERATOR ENGINE</td>\n",
       "      <td>323-6480 LINES GP-FUEL</td>\n",
       "      <td>7.00E-275</td>\n",
       "      <td>SEAL-O-RING-STOR</td>\n",
       "      <td>COOLER</td>\n",
       "      <td>108</td>\n",
       "      <td>281</td>\n",
       "      <td>5759</td>\n",
       "      <td>4848</td>\n",
       "      <td>18</td>\n",
       "    </tr>\n",
       "    <tr>\n",
       "      <th>1</th>\n",
       "      <td>NO.2 GENERATOR ENGINE</td>\n",
       "      <td>GASKET KIT</td>\n",
       "      <td>7.00E-275</td>\n",
       "      <td>OIL COOLER &amp; LINES</td>\n",
       "      <td>COOLER</td>\n",
       "      <td>113</td>\n",
       "      <td>1180</td>\n",
       "      <td>5759</td>\n",
       "      <td>3692</td>\n",
       "      <td>18</td>\n",
       "    </tr>\n",
       "    <tr>\n",
       "      <th>2</th>\n",
       "      <td>NO.2 GENERATOR ENGINE</td>\n",
       "      <td>285-8374 MANIFOLD GP-EXH</td>\n",
       "      <td>7.00E-275</td>\n",
       "      <td>WASHER</td>\n",
       "      <td>COOLER</td>\n",
       "      <td>113</td>\n",
       "      <td>206</td>\n",
       "      <td>5759</td>\n",
       "      <td>5915</td>\n",
       "      <td>18</td>\n",
       "    </tr>\n",
       "    <tr>\n",
       "      <th>3</th>\n",
       "      <td>NO.1 GENERATOR ENGINE</td>\n",
       "      <td>159-8828 TURBO GP</td>\n",
       "      <td>7.00E-275</td>\n",
       "      <td>BOLT-HIGH TEMP</td>\n",
       "      <td>COOLER</td>\n",
       "      <td>108</td>\n",
       "      <td>69</td>\n",
       "      <td>5759</td>\n",
       "      <td>696</td>\n",
       "      <td>18</td>\n",
       "    </tr>\n",
       "    <tr>\n",
       "      <th>4</th>\n",
       "      <td>NO.1 GENERATOR ENGINE</td>\n",
       "      <td>2N4727 INSTRUMNT PANEL GP</td>\n",
       "      <td>7.00E-275</td>\n",
       "      <td>SEAL</td>\n",
       "      <td>COOLER</td>\n",
       "      <td>108</td>\n",
       "      <td>237</td>\n",
       "      <td>5759</td>\n",
       "      <td>4681</td>\n",
       "      <td>18</td>\n",
       "    </tr>\n",
       "    <tr>\n",
       "      <th>...</th>\n",
       "      <td>...</td>\n",
       "      <td>...</td>\n",
       "      <td>...</td>\n",
       "      <td>...</td>\n",
       "      <td>...</td>\n",
       "      <td>...</td>\n",
       "      <td>...</td>\n",
       "      <td>...</td>\n",
       "      <td>...</td>\n",
       "      <td>...</td>\n",
       "    </tr>\n",
       "    <tr>\n",
       "      <th>20512</th>\n",
       "      <td>HYD. SYSTEM</td>\n",
       "      <td>5-753-2E_BOAT DAVIT &amp; N.D CRANE LINE</td>\n",
       "      <td>φ150 × φ85 × 695st</td>\n",
       "      <td>HYD. CYLINDER_NET BOAT DAVIT</td>\n",
       "      <td>CYLINDER</td>\n",
       "      <td>63</td>\n",
       "      <td>471</td>\n",
       "      <td>8126</td>\n",
       "      <td>2811</td>\n",
       "      <td>20</td>\n",
       "    </tr>\n",
       "    <tr>\n",
       "      <th>20513</th>\n",
       "      <td>HYD. SYSTEM</td>\n",
       "      <td>5-753-2E_BOAT DAVIT &amp; N.D CRANE LINE</td>\n",
       "      <td>φ160 × φ112 × 1130st</td>\n",
       "      <td>HYD. CYLINDER_N.D CRANE_BOOM_LIFTER</td>\n",
       "      <td>CYLINDER</td>\n",
       "      <td>63</td>\n",
       "      <td>471</td>\n",
       "      <td>8127</td>\n",
       "      <td>2810</td>\n",
       "      <td>20</td>\n",
       "    </tr>\n",
       "    <tr>\n",
       "      <th>20514</th>\n",
       "      <td>6M NET BOAT</td>\n",
       "      <td>ELECTRIC CLUTCH</td>\n",
       "      <td>Φ305X5V-3</td>\n",
       "      <td>PULLY</td>\n",
       "      <td>BELT</td>\n",
       "      <td>0</td>\n",
       "      <td>900</td>\n",
       "      <td>8123</td>\n",
       "      <td>4151</td>\n",
       "      <td>5</td>\n",
       "    </tr>\n",
       "    <tr>\n",
       "      <th>20515</th>\n",
       "      <td>7M NET BOAT</td>\n",
       "      <td>HAND HYDRAULIC STEERING SYSTEM</td>\n",
       "      <td>Φ50 x S195 CYLINDER</td>\n",
       "      <td>CYLINDER</td>\n",
       "      <td>CYLINDER</td>\n",
       "      <td>4</td>\n",
       "      <td>1210</td>\n",
       "      <td>8124</td>\n",
       "      <td>1592</td>\n",
       "      <td>20</td>\n",
       "    </tr>\n",
       "    <tr>\n",
       "      <th>20516</th>\n",
       "      <td>7M NET BOAT</td>\n",
       "      <td>HAND HYDRAULIC STEERING SYSTEM</td>\n",
       "      <td>Φ50 x S195 CYLINDER SEAL KIT</td>\n",
       "      <td>SEAL KIT FOR CYLINDER</td>\n",
       "      <td>CYLINDER</td>\n",
       "      <td>4</td>\n",
       "      <td>1210</td>\n",
       "      <td>8125</td>\n",
       "      <td>4718</td>\n",
       "      <td>20</td>\n",
       "    </tr>\n",
       "  </tbody>\n",
       "</table>\n",
       "<p>20517 rows × 10 columns</p>\n",
       "</div>"
      ],
      "text/plain": [
       "                   Machinery                              Assembly   \n",
       "0      NO.1 GENERATOR ENGINE               323-6480 LINES GP-FUEL   \\\n",
       "1      NO.2 GENERATOR ENGINE                            GASKET KIT   \n",
       "2      NO.2 GENERATOR ENGINE             285-8374 MANIFOLD GP-EXH    \n",
       "3      NO.1 GENERATOR ENGINE                     159-8828 TURBO GP   \n",
       "4      NO.1 GENERATOR ENGINE             2N4727 INSTRUMNT PANEL GP   \n",
       "...                      ...                                   ...   \n",
       "20512            HYD. SYSTEM  5-753-2E_BOAT DAVIT & N.D CRANE LINE   \n",
       "20513            HYD. SYSTEM  5-753-2E_BOAT DAVIT & N.D CRANE LINE   \n",
       "20514            6M NET BOAT                       ELECTRIC CLUTCH   \n",
       "20515            7M NET BOAT        HAND HYDRAULIC STEERING SYSTEM   \n",
       "20516            7M NET BOAT        HAND HYDRAULIC STEERING SYSTEM   \n",
       "\n",
       "                          Part No.1                                 청구품목   \n",
       "0                         7.00E-275                     SEAL-O-RING-STOR  \\\n",
       "1                         7.00E-275                   OIL COOLER & LINES   \n",
       "2                         7.00E-275                               WASHER   \n",
       "3                         7.00E-275                       BOLT-HIGH TEMP   \n",
       "4                         7.00E-275                                 SEAL   \n",
       "...                             ...                                  ...   \n",
       "20512            φ150 × φ85 × 695st         HYD. CYLINDER_NET BOAT DAVIT   \n",
       "20513          φ160 × φ112 × 1130st  HYD. CYLINDER_N.D CRANE_BOOM_LIFTER   \n",
       "20514                     Φ305X5V-3                                PULLY   \n",
       "20515           Φ50 x S195 CYLINDER                            CYLINDER    \n",
       "20516  Φ50 x S195 CYLINDER SEAL KIT                SEAL KIT FOR CYLINDER   \n",
       "\n",
       "           key2  Machinery_encoded  Assembly_encoded  Part No.1_encoded   \n",
       "0        COOLER                108               281               5759  \\\n",
       "1        COOLER                113              1180               5759   \n",
       "2        COOLER                113               206               5759   \n",
       "3        COOLER                108                69               5759   \n",
       "4        COOLER                108               237               5759   \n",
       "...         ...                ...               ...                ...   \n",
       "20512  CYLINDER                 63               471               8126   \n",
       "20513  CYLINDER                 63               471               8127   \n",
       "20514      BELT                  0               900               8123   \n",
       "20515  CYLINDER                  4              1210               8124   \n",
       "20516  CYLINDER                  4              1210               8125   \n",
       "\n",
       "       청구품목_encoded  key2_encoded  \n",
       "0              4848            18  \n",
       "1              3692            18  \n",
       "2              5915            18  \n",
       "3               696            18  \n",
       "4              4681            18  \n",
       "...             ...           ...  \n",
       "20512          2811            20  \n",
       "20513          2810            20  \n",
       "20514          4151             5  \n",
       "20515          1592            20  \n",
       "20516          4718            20  \n",
       "\n",
       "[20517 rows x 10 columns]"
      ]
     },
     "execution_count": 6,
     "metadata": {},
     "output_type": "execute_result"
    }
   ],
   "source": [
    "df1"
   ]
  },
  {
   "cell_type": "code",
   "execution_count": 7,
   "id": "3e098404-6348-4bf6-99d2-68d17a5c4873",
   "metadata": {
    "tags": []
   },
   "outputs": [
    {
     "data": {
      "text/html": [
       "<style>#sk-container-id-1 {color: black;background-color: white;}#sk-container-id-1 pre{padding: 0;}#sk-container-id-1 div.sk-toggleable {background-color: white;}#sk-container-id-1 label.sk-toggleable__label {cursor: pointer;display: block;width: 100%;margin-bottom: 0;padding: 0.3em;box-sizing: border-box;text-align: center;}#sk-container-id-1 label.sk-toggleable__label-arrow:before {content: \"▸\";float: left;margin-right: 0.25em;color: #696969;}#sk-container-id-1 label.sk-toggleable__label-arrow:hover:before {color: black;}#sk-container-id-1 div.sk-estimator:hover label.sk-toggleable__label-arrow:before {color: black;}#sk-container-id-1 div.sk-toggleable__content {max-height: 0;max-width: 0;overflow: hidden;text-align: left;background-color: #f0f8ff;}#sk-container-id-1 div.sk-toggleable__content pre {margin: 0.2em;color: black;border-radius: 0.25em;background-color: #f0f8ff;}#sk-container-id-1 input.sk-toggleable__control:checked~div.sk-toggleable__content {max-height: 200px;max-width: 100%;overflow: auto;}#sk-container-id-1 input.sk-toggleable__control:checked~label.sk-toggleable__label-arrow:before {content: \"▾\";}#sk-container-id-1 div.sk-estimator input.sk-toggleable__control:checked~label.sk-toggleable__label {background-color: #d4ebff;}#sk-container-id-1 div.sk-label input.sk-toggleable__control:checked~label.sk-toggleable__label {background-color: #d4ebff;}#sk-container-id-1 input.sk-hidden--visually {border: 0;clip: rect(1px 1px 1px 1px);clip: rect(1px, 1px, 1px, 1px);height: 1px;margin: -1px;overflow: hidden;padding: 0;position: absolute;width: 1px;}#sk-container-id-1 div.sk-estimator {font-family: monospace;background-color: #f0f8ff;border: 1px dotted black;border-radius: 0.25em;box-sizing: border-box;margin-bottom: 0.5em;}#sk-container-id-1 div.sk-estimator:hover {background-color: #d4ebff;}#sk-container-id-1 div.sk-parallel-item::after {content: \"\";width: 100%;border-bottom: 1px solid gray;flex-grow: 1;}#sk-container-id-1 div.sk-label:hover label.sk-toggleable__label {background-color: #d4ebff;}#sk-container-id-1 div.sk-serial::before {content: \"\";position: absolute;border-left: 1px solid gray;box-sizing: border-box;top: 0;bottom: 0;left: 50%;z-index: 0;}#sk-container-id-1 div.sk-serial {display: flex;flex-direction: column;align-items: center;background-color: white;padding-right: 0.2em;padding-left: 0.2em;position: relative;}#sk-container-id-1 div.sk-item {position: relative;z-index: 1;}#sk-container-id-1 div.sk-parallel {display: flex;align-items: stretch;justify-content: center;background-color: white;position: relative;}#sk-container-id-1 div.sk-item::before, #sk-container-id-1 div.sk-parallel-item::before {content: \"\";position: absolute;border-left: 1px solid gray;box-sizing: border-box;top: 0;bottom: 0;left: 50%;z-index: -1;}#sk-container-id-1 div.sk-parallel-item {display: flex;flex-direction: column;z-index: 1;position: relative;background-color: white;}#sk-container-id-1 div.sk-parallel-item:first-child::after {align-self: flex-end;width: 50%;}#sk-container-id-1 div.sk-parallel-item:last-child::after {align-self: flex-start;width: 50%;}#sk-container-id-1 div.sk-parallel-item:only-child::after {width: 0;}#sk-container-id-1 div.sk-dashed-wrapped {border: 1px dashed gray;margin: 0 0.4em 0.5em 0.4em;box-sizing: border-box;padding-bottom: 0.4em;background-color: white;}#sk-container-id-1 div.sk-label label {font-family: monospace;font-weight: bold;display: inline-block;line-height: 1.2em;}#sk-container-id-1 div.sk-label-container {text-align: center;}#sk-container-id-1 div.sk-container {/* jupyter's `normalize.less` sets `[hidden] { display: none; }` but bootstrap.min.css set `[hidden] { display: none !important; }` so we also need the `!important` here to be able to override the default hidden behavior on the sphinx rendered scikit-learn.org. See: https://github.com/scikit-learn/scikit-learn/issues/21755 */display: inline-block !important;position: relative;}#sk-container-id-1 div.sk-text-repr-fallback {display: none;}</style><div id=\"sk-container-id-1\" class=\"sk-top-container\"><div class=\"sk-text-repr-fallback\"><pre>XGBClassifier(base_score=None, booster=None, callbacks=None,\n",
       "              colsample_bylevel=None, colsample_bynode=None,\n",
       "              colsample_bytree=None, early_stopping_rounds=None,\n",
       "              enable_categorical=False, eval_metric=None, feature_types=None,\n",
       "              gamma=None, gpu_id=None, grow_policy=None, importance_type=None,\n",
       "              interaction_constraints=None, learning_rate=None, max_bin=None,\n",
       "              max_cat_threshold=None, max_cat_to_onehot=None,\n",
       "              max_delta_step=None, max_depth=None, max_leaves=None,\n",
       "              min_child_weight=None, missing=nan, monotone_constraints=None,\n",
       "              n_estimators=100, n_jobs=None, num_class=61,\n",
       "              num_parallel_tree=None, objective=&#x27;multi:softmax&#x27;, ...)</pre><b>In a Jupyter environment, please rerun this cell to show the HTML representation or trust the notebook. <br />On GitHub, the HTML representation is unable to render, please try loading this page with nbviewer.org.</b></div><div class=\"sk-container\" hidden><div class=\"sk-item\"><div class=\"sk-estimator sk-toggleable\"><input class=\"sk-toggleable__control sk-hidden--visually\" id=\"sk-estimator-id-1\" type=\"checkbox\" checked><label for=\"sk-estimator-id-1\" class=\"sk-toggleable__label sk-toggleable__label-arrow\">XGBClassifier</label><div class=\"sk-toggleable__content\"><pre>XGBClassifier(base_score=None, booster=None, callbacks=None,\n",
       "              colsample_bylevel=None, colsample_bynode=None,\n",
       "              colsample_bytree=None, early_stopping_rounds=None,\n",
       "              enable_categorical=False, eval_metric=None, feature_types=None,\n",
       "              gamma=None, gpu_id=None, grow_policy=None, importance_type=None,\n",
       "              interaction_constraints=None, learning_rate=None, max_bin=None,\n",
       "              max_cat_threshold=None, max_cat_to_onehot=None,\n",
       "              max_delta_step=None, max_depth=None, max_leaves=None,\n",
       "              min_child_weight=None, missing=nan, monotone_constraints=None,\n",
       "              n_estimators=100, n_jobs=None, num_class=61,\n",
       "              num_parallel_tree=None, objective=&#x27;multi:softmax&#x27;, ...)</pre></div></div></div></div></div>"
      ],
      "text/plain": [
       "XGBClassifier(base_score=None, booster=None, callbacks=None,\n",
       "              colsample_bylevel=None, colsample_bynode=None,\n",
       "              colsample_bytree=None, early_stopping_rounds=None,\n",
       "              enable_categorical=False, eval_metric=None, feature_types=None,\n",
       "              gamma=None, gpu_id=None, grow_policy=None, importance_type=None,\n",
       "              interaction_constraints=None, learning_rate=None, max_bin=None,\n",
       "              max_cat_threshold=None, max_cat_to_onehot=None,\n",
       "              max_delta_step=None, max_depth=None, max_leaves=None,\n",
       "              min_child_weight=None, missing=nan, monotone_constraints=None,\n",
       "              n_estimators=100, n_jobs=None, num_class=61,\n",
       "              num_parallel_tree=None, objective='multi:softmax', ...)"
      ]
     },
     "execution_count": 7,
     "metadata": {},
     "output_type": "execute_result"
    }
   ],
   "source": [
    "# df1\n",
    "X = df1[['Machinery_encoded', 'Assembly_encoded', \"Part No.1_encoded\", '청구품목_encoded']]\n",
    "y = df1[\"key2_encoded\"]\n",
    "X_train, X_test, y_train, y_test = train_test_split(X, y, random_state=40, shuffle=True, test_size=0.3)\n",
    "import xgboost as xgb\n",
    "from sklearn.model_selection import train_test_split\n",
    "from sklearn.metrics import accuracy_score\n",
    "# xgboost 모델 생성\n",
    "model = xgb.XGBClassifier(objective='multi:softmax', num_class=61)\n",
    "\n",
    "# 모델 학습\n",
    "model.fit(X_train, y_train)"
   ]
  },
  {
   "cell_type": "code",
   "execution_count": 8,
   "id": "4df1e9e7-baa4-4dcf-a785-bfe9257570b4",
   "metadata": {
    "tags": []
   },
   "outputs": [
    {
     "data": {
      "text/html": [
       "<div>\n",
       "<style scoped>\n",
       "    .dataframe tbody tr th:only-of-type {\n",
       "        vertical-align: middle;\n",
       "    }\n",
       "\n",
       "    .dataframe tbody tr th {\n",
       "        vertical-align: top;\n",
       "    }\n",
       "\n",
       "    .dataframe thead th {\n",
       "        text-align: right;\n",
       "    }\n",
       "</style>\n",
       "<table border=\"1\" class=\"dataframe\">\n",
       "  <thead>\n",
       "    <tr style=\"text-align: right;\">\n",
       "      <th></th>\n",
       "      <th>Machinery_encoded</th>\n",
       "      <th>Assembly_encoded</th>\n",
       "      <th>Part No.1_encoded</th>\n",
       "      <th>청구품목_encoded</th>\n",
       "    </tr>\n",
       "  </thead>\n",
       "  <tbody>\n",
       "    <tr>\n",
       "      <th>13153</th>\n",
       "      <td>92</td>\n",
       "      <td>898</td>\n",
       "      <td>4433</td>\n",
       "      <td>5217</td>\n",
       "    </tr>\n",
       "    <tr>\n",
       "      <th>1598</th>\n",
       "      <td>149</td>\n",
       "      <td>1164</td>\n",
       "      <td>4006</td>\n",
       "      <td>831</td>\n",
       "    </tr>\n",
       "    <tr>\n",
       "      <th>15313</th>\n",
       "      <td>39</td>\n",
       "      <td>1573</td>\n",
       "      <td>5305</td>\n",
       "      <td>5465</td>\n",
       "    </tr>\n",
       "    <tr>\n",
       "      <th>1546</th>\n",
       "      <td>27</td>\n",
       "      <td>1390</td>\n",
       "      <td>3800</td>\n",
       "      <td>4788</td>\n",
       "    </tr>\n",
       "    <tr>\n",
       "      <th>16043</th>\n",
       "      <td>116</td>\n",
       "      <td>1180</td>\n",
       "      <td>5740</td>\n",
       "      <td>2088</td>\n",
       "    </tr>\n",
       "    <tr>\n",
       "      <th>...</th>\n",
       "      <td>...</td>\n",
       "      <td>...</td>\n",
       "      <td>...</td>\n",
       "      <td>...</td>\n",
       "    </tr>\n",
       "    <tr>\n",
       "      <th>11532</th>\n",
       "      <td>73</td>\n",
       "      <td>1648</td>\n",
       "      <td>3466</td>\n",
       "      <td>5502</td>\n",
       "    </tr>\n",
       "    <tr>\n",
       "      <th>16065</th>\n",
       "      <td>61</td>\n",
       "      <td>245</td>\n",
       "      <td>5680</td>\n",
       "      <td>4843</td>\n",
       "    </tr>\n",
       "    <tr>\n",
       "      <th>14501</th>\n",
       "      <td>116</td>\n",
       "      <td>309</td>\n",
       "      <td>5034</td>\n",
       "      <td>4840</td>\n",
       "    </tr>\n",
       "    <tr>\n",
       "      <th>14555</th>\n",
       "      <td>108</td>\n",
       "      <td>61</td>\n",
       "      <td>5050</td>\n",
       "      <td>5142</td>\n",
       "    </tr>\n",
       "    <tr>\n",
       "      <th>11590</th>\n",
       "      <td>108</td>\n",
       "      <td>494</td>\n",
       "      <td>3493</td>\n",
       "      <td>3122</td>\n",
       "    </tr>\n",
       "  </tbody>\n",
       "</table>\n",
       "<p>14361 rows × 4 columns</p>\n",
       "</div>"
      ],
      "text/plain": [
       "       Machinery_encoded  Assembly_encoded  Part No.1_encoded  청구품목_encoded\n",
       "13153                 92               898               4433          5217\n",
       "1598                 149              1164               4006           831\n",
       "15313                 39              1573               5305          5465\n",
       "1546                  27              1390               3800          4788\n",
       "16043                116              1180               5740          2088\n",
       "...                  ...               ...                ...           ...\n",
       "11532                 73              1648               3466          5502\n",
       "16065                 61               245               5680          4843\n",
       "14501                116               309               5034          4840\n",
       "14555                108                61               5050          5142\n",
       "11590                108               494               3493          3122\n",
       "\n",
       "[14361 rows x 4 columns]"
      ]
     },
     "execution_count": 8,
     "metadata": {},
     "output_type": "execute_result"
    }
   ],
   "source": [
    "X_train"
   ]
  },
  {
   "cell_type": "code",
   "execution_count": 9,
   "id": "c8f24f50-1c17-4f97-9203-b1c59540c756",
   "metadata": {
    "tags": []
   },
   "outputs": [
    {
     "name": "stdout",
     "output_type": "stream",
     "text": [
      "F1-score: 0.8393613937690496\n"
     ]
    }
   ],
   "source": [
    "from sklearn.metrics import f1_score\n",
    "\n",
    "# 모델 예측\n",
    "y_pred = model.predict(X_test)\n",
    "\n",
    "# F1-score 계산\n",
    "f1 = f1_score(y_test, y_pred, average='weighted')\n",
    "print(\"F1-score:\", f1)"
   ]
  },
  {
   "cell_type": "code",
   "execution_count": 10,
   "id": "c734e7ff-f5c6-4477-bf0b-b440d228e14b",
   "metadata": {
    "tags": []
   },
   "outputs": [
    {
     "data": {
      "text/plain": [
       "dict_keys(['Machinery', 'Assembly', 'Part No.1', '청구품목', 'key2'])"
      ]
     },
     "execution_count": 10,
     "metadata": {},
     "output_type": "execute_result"
    }
   ],
   "source": [
    "label_encoders.keys()"
   ]
  },
  {
   "cell_type": "code",
   "execution_count": 11,
   "id": "8daa6688-c35e-407d-807f-700024749c2e",
   "metadata": {
    "tags": []
   },
   "outputs": [
    {
     "ename": "TypeError",
     "evalue": "unhashable type: 'list'",
     "output_type": "error",
     "traceback": [
      "\u001b[1;31m---------------------------------------------------------------------------\u001b[0m",
      "\u001b[1;31mTypeError\u001b[0m                                 Traceback (most recent call last)",
      "Cell \u001b[1;32mIn[11], line 9\u001b[0m\n\u001b[0;32m      4\u001b[0m idx \u001b[38;5;241m=\u001b[39m \u001b[38;5;241m0\u001b[39m\n\u001b[0;32m      5\u001b[0m \u001b[38;5;28;01mfor\u001b[39;00m a,b \u001b[38;5;129;01min\u001b[39;00m \u001b[38;5;28mzip\u001b[39m(new_data, col_name):\n\u001b[0;32m      6\u001b[0m     \u001b[38;5;66;03m# temp = []\u001b[39;00m\n\u001b[0;32m      7\u001b[0m     \u001b[38;5;66;03m# df.apply(le.fit_transform)\u001b[39;00m\n\u001b[0;32m      8\u001b[0m     \u001b[38;5;66;03m# temp.append(label_encoders[b].fit(a))\u001b[39;00m\n\u001b[1;32m----> 9\u001b[0m     b[idx] \u001b[38;5;241m=\u001b[39m \u001b[43mlabel_encoders\u001b[49m\u001b[43m[\u001b[49m\u001b[43mb\u001b[49m\u001b[43m]\u001b[49m\u001b[38;5;241m.\u001b[39mfit_transform(a)\n\u001b[0;32m     10\u001b[0m     idx \u001b[38;5;241m=\u001b[39m idx \u001b[38;5;241m+\u001b[39m\u001b[38;5;241m1\u001b[39m\n\u001b[0;32m     11\u001b[0m     \u001b[38;5;28mprint\u001b[39m(a)\n",
      "\u001b[1;31mTypeError\u001b[0m: unhashable type: 'list'"
     ]
    }
   ],
   "source": [
    "# new_data = np.array([['SKIFF BOAT', 'IMPLANTATION INSTRUMENTS', '14.9795', 'EXHAUST GAS TEMPERATURE INDICATOR 0 TO 700℃']])\n",
    "# col_name = [['Machinery', 'Assembly' , \"Part No.1\",\"청구품목\", 'key2']]\n",
    "\n",
    "# idx = 0\n",
    "# for a,b in zip(new_data, col_name):\n",
    "#     # temp = []\n",
    "#     # df.apply(le.fit_transform)\n",
    "#     # temp.append(label_encoders[b].fit(a))\n",
    "#     b[idx] = label_encoders[b].fit_transform(a)\n",
    "#     idx = idx +1\n",
    "#     print(a)\n",
    "#     print(b)\n",
    "# # temp"
   ]
  },
  {
   "cell_type": "code",
   "execution_count": 19,
   "id": "fe5f2b9f-5dc6-4e4b-bad4-1f3cc7873066",
   "metadata": {
    "tags": []
   },
   "outputs": [
    {
     "data": {
      "text/plain": [
       "['Machinery', 'Assembly', 'Part No.1', '청구품목', 'key2']"
      ]
     },
     "execution_count": 19,
     "metadata": {},
     "output_type": "execute_result"
    }
   ],
   "source": [
    "list(label_encoders.keys())"
   ]
  },
  {
   "cell_type": "code",
   "execution_count": 12,
   "id": "9e876562-4b5b-45d0-87b7-aaabc6e6dd8d",
   "metadata": {
    "tags": []
   },
   "outputs": [
    {
     "name": "stdout",
     "output_type": "stream",
     "text": [
      "[148, 1248, 1703, 1887]\n"
     ]
    }
   ],
   "source": [
    "from sklearn.preprocessing import LabelEncoder\n",
    "\n",
    "# 주어진 데이터\n",
    "data = ['SKIFF BOAT', 'IMPLANTATION INSTRUMENTS', '14.9795', 'EXHAUST GAS TEMPERATURE INDICATOR 0 TO 700℃']\n",
    "\n",
    "# 데이터 라벨링\n",
    "encoded_data = []\n",
    "for i in range(len(data)):\n",
    "    label = list(label_encoders.keys())[i]  # 라벨링할 열의 키\n",
    "    encoder = label_encoders[label]  # 해당 열의 LabelEncoder 객체\n",
    "    encoded_value = encoder.transform([data[i]])[0]  # 데이터 라벨링\n",
    "    encoded_data.append(encoded_value)\n",
    "\n",
    "print(encoded_data)\n"
   ]
  },
  {
   "cell_type": "code",
   "execution_count": 13,
   "id": "96910336-9aa3-47e6-a955-ba0b2be8ff77",
   "metadata": {
    "tags": []
   },
   "outputs": [
    {
     "data": {
      "text/plain": [
       "array([[ 148, 1248, 1703, 1887]])"
      ]
     },
     "execution_count": 13,
     "metadata": {},
     "output_type": "execute_result"
    }
   ],
   "source": [
    "encoded_data = np.array(encoded_data)\n",
    "encoded_data = encoded_data.reshape((1,4))\n",
    "encoded_data"
   ]
  },
  {
   "cell_type": "code",
   "execution_count": 14,
   "id": "6cc78a40-23f3-4909-a314-5d6561301649",
   "metadata": {
    "tags": []
   },
   "outputs": [],
   "source": [
    "pred = model.predict(encoded_data)"
   ]
  },
  {
   "cell_type": "code",
   "execution_count": 15,
   "id": "5c8a2c24-d7d2-457a-9f60-a66bf739fd39",
   "metadata": {
    "tags": []
   },
   "outputs": [
    {
     "data": {
      "text/plain": [
       "array([25])"
      ]
     },
     "execution_count": 15,
     "metadata": {},
     "output_type": "execute_result"
    }
   ],
   "source": [
    "## decoded_data 디코딩해야함\n",
    "pred"
   ]
  },
  {
   "cell_type": "code",
   "execution_count": 16,
   "id": "90857101-0421-41f0-b9b2-f80a807da9b0",
   "metadata": {
    "tags": []
   },
   "outputs": [],
   "source": [
    "decoded_data = label_encoders[\"key2\"].inverse_transform(pred)"
   ]
  },
  {
   "cell_type": "code",
   "execution_count": 17,
   "id": "e2fb270c-68d8-4d4c-a3b6-03f418d909f8",
   "metadata": {},
   "outputs": [
    {
     "data": {
      "text/plain": [
       "array(['GAUGE'], dtype=object)"
      ]
     },
     "execution_count": 17,
     "metadata": {},
     "output_type": "execute_result"
    }
   ],
   "source": [
    "decoded_data"
   ]
  }
 ],
 "metadata": {
  "kernelspec": {
   "display_name": "Python 3 (ipykernel)",
   "language": "python",
   "name": "python3"
  },
  "language_info": {
   "codemirror_mode": {
    "name": "ipython",
    "version": 3
   },
   "file_extension": ".py",
   "mimetype": "text/x-python",
   "name": "python",
   "nbconvert_exporter": "python",
   "pygments_lexer": "ipython3",
   "version": "3.10.10"
  }
 },
 "nbformat": 4,
 "nbformat_minor": 5
}
