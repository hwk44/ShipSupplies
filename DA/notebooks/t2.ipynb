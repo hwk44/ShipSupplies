{
 "cells": [
  {
   "cell_type": "code",
   "execution_count": 1,
   "id": "b2ff1700-cb92-4719-b8d5-54712296819e",
   "metadata": {},
   "outputs": [],
   "source": [
    "import pandas as pd\n",
    "import numpy as np\n",
    "import matplotlib.pyplot as plt\n",
    "from sklearn.model_selection import train_test_split\n",
    "from sklearn.preprocessing import StandardScaler, LabelEncoder\n",
    "\n",
    "import tensorflow as tf\n",
    "from tensorflow import keras\n",
    "from tensorflow.keras import layers"
   ]
  },
  {
   "cell_type": "code",
   "execution_count": 2,
   "id": "5707efc0-44c6-4643-9649-f126f7f9c454",
   "metadata": {},
   "outputs": [],
   "source": [
    "data = pd.read_csv('../data/raw_postpro.csv', encoding = 'cp949')\n",
    "# 컬럼 삭제\n",
    "df = data.drop(['청구서번호','No.',  '선박입고','완료 여부','리드타임_음수제거','청구량','견적','견적수량','견적화폐','견적단가','발주번호','발주','발주수량','발주금액','미입고 기간','리드타임','창고입고','창고입고수량','입고창고','창고출고','창고출고수량','출고선박','출고운반선','선박입고','선박입고수량','완료 여부'], axis=1)"
   ]
  },
  {
   "cell_type": "code",
   "execution_count": 3,
   "id": "fe258577-d8e2-4122-9bf7-934919dbe4bb",
   "metadata": {},
   "outputs": [
    {
     "name": "stdout",
     "output_type": "stream",
     "text": [
      "<class 'pandas.core.frame.DataFrame'>\n",
      "RangeIndex: 20517 entries, 0 to 20516\n",
      "Data columns (total 11 columns):\n",
      " #   Column       Non-Null Count  Dtype \n",
      "---  ------       --------------  ----- \n",
      " 0   Subject      20517 non-null  object\n",
      " 1   Machinery    20517 non-null  object\n",
      " 2   Assembly     20517 non-null  object\n",
      " 3   청구품목         20517 non-null  object\n",
      " 4   Part No.1    20517 non-null  object\n",
      " 5   Part No.2    20517 non-null  object\n",
      " 6   key1         20517 non-null  object\n",
      " 7   key2         20517 non-null  object\n",
      " 8   발주처          20517 non-null  object\n",
      " 9   D/T          20517 non-null  object\n",
      " 10  Control No.  20517 non-null  object\n",
      "dtypes: object(11)\n",
      "memory usage: 1.7+ MB\n"
     ]
    }
   ],
   "source": [
    "df.info()"
   ]
  },
  {
   "cell_type": "code",
   "execution_count": 4,
   "id": "6d2a8582-890e-4926-8a7f-df14889061bf",
   "metadata": {},
   "outputs": [],
   "source": [
    "df = df[['청구품목','발주처','key2']]"
   ]
  },
  {
   "cell_type": "code",
   "execution_count": 5,
   "id": "0e236cde-8e34-44e8-8ebc-df65213ab798",
   "metadata": {},
   "outputs": [
    {
     "name": "stdout",
     "output_type": "stream",
     "text": [
      "<class 'pandas.core.frame.DataFrame'>\n",
      "RangeIndex: 20517 entries, 0 to 20516\n",
      "Data columns (total 3 columns):\n",
      " #   Column  Non-Null Count  Dtype \n",
      "---  ------  --------------  ----- \n",
      " 0   청구품목    20517 non-null  object\n",
      " 1   발주처     20517 non-null  object\n",
      " 2   key2    20517 non-null  object\n",
      "dtypes: object(3)\n",
      "memory usage: 481.0+ KB\n"
     ]
    }
   ],
   "source": [
    "df.info()"
   ]
  },
  {
   "cell_type": "code",
   "execution_count": 6,
   "id": "e0a9e4d8-f5e8-4b44-882c-606c9276a985",
   "metadata": {},
   "outputs": [],
   "source": [
    "from sklearn import preprocessing\n",
    "label_encoders = {}  # 각 열에 대한 LabelEncoder를 저장하기 위한 딕셔너리\n",
    "columns_to_encode = ['key2']  # 인코딩을 수행할 열의 이름 리스트\n",
    "\n",
    "for column in columns_to_encode:\n",
    "    le = preprocessing.LabelEncoder()\n",
    "    le.fit(df[column])\n",
    "    label_encoders[column] = le # 딕셔너리에 저장\n",
    "    df[column+\"_encoded\"] = le.transform(df[column]) # 새로운 encoding 된 컬럼 추가"
   ]
  },
  {
   "cell_type": "code",
   "execution_count": 9,
   "id": "8ff3db46-e865-4226-9389-e992d5541ba5",
   "metadata": {},
   "outputs": [],
   "source": [
    "df = df.drop(['key2'], axis=1)"
   ]
  },
  {
   "cell_type": "code",
   "execution_count": 80,
   "id": "8e9bc8c4-6f58-417b-83a9-845dacb5f9f2",
   "metadata": {},
   "outputs": [
    {
     "name": "stdout",
     "output_type": "stream",
     "text": [
      "<class 'pandas.core.frame.DataFrame'>\n",
      "RangeIndex: 20517 entries, 0 to 20516\n",
      "Data columns (total 3 columns):\n",
      " #   Column        Non-Null Count  Dtype \n",
      "---  ------        --------------  ----- \n",
      " 0   청구품목          20517 non-null  object\n",
      " 1   발주처           20517 non-null  object\n",
      " 2   key2_encoded  20517 non-null  int32 \n",
      "dtypes: int32(1), object(2)\n",
      "memory usage: 400.8+ KB\n"
     ]
    }
   ],
   "source": [
    "df.info()"
   ]
  },
  {
   "cell_type": "code",
   "execution_count": 11,
   "id": "ca691c10-5c03-4491-88d5-88aeb0f30043",
   "metadata": {},
   "outputs": [],
   "source": [
    "df_desc = df[[ '청구품목', '발주처']].apply(lambda row: ' '.join(row), axis=1)"
   ]
  },
  {
   "cell_type": "code",
   "execution_count": 12,
   "id": "3a176b49-69b0-4d15-93dd-546b5e2c6d75",
   "metadata": {},
   "outputs": [
    {
     "data": {
      "text/plain": [
       "0      SEAL-O-RING-STOR HAEIN Coporation_Cheonan\n",
       "1    OIL COOLER & LINES HAEIN Coporation_Cheonan\n",
       "2                WASHER HAEIN Coporation_Cheonan\n",
       "3        BOLT-HIGH TEMP HAEIN Coporation_Cheonan\n",
       "4                  SEAL HAEIN Coporation_Cheonan\n",
       "dtype: object"
      ]
     },
     "execution_count": 12,
     "metadata": {},
     "output_type": "execute_result"
    }
   ],
   "source": [
    "df_desc.head()"
   ]
  },
  {
   "cell_type": "code",
   "execution_count": 13,
   "id": "b63d4c0a-2b72-4599-a035-65c201b659b8",
   "metadata": {},
   "outputs": [
    {
     "data": {
      "text/plain": [
       "97928"
      ]
     },
     "execution_count": 13,
     "metadata": {},
     "output_type": "execute_result"
    }
   ],
   "source": [
    "vocab_list = []\n",
    "for words in df_desc.str.split():\n",
    "  if isinstance(words, list):\n",
    "    #print(type(words), words)\n",
    "    vocab_list = vocab_list + words\n",
    "len(vocab_list)"
   ]
  },
  {
   "cell_type": "code",
   "execution_count": 14,
   "id": "7ed9a6e3-19b9-4d95-9fba-4f0bf166a129",
   "metadata": {},
   "outputs": [],
   "source": [
    "desc = df_desc.to_frame()"
   ]
  },
  {
   "cell_type": "code",
   "execution_count": 16,
   "id": "4597c7f1-26ba-470e-bbb8-7b9f0f7eb2f4",
   "metadata": {},
   "outputs": [],
   "source": [
    "desc.columns = ['origin']"
   ]
  },
  {
   "cell_type": "code",
   "execution_count": 17,
   "id": "b6670d1c-bba4-4c65-8c59-95456992c8b9",
   "metadata": {},
   "outputs": [
    {
     "data": {
      "text/html": [
       "<div>\n",
       "<style scoped>\n",
       "    .dataframe tbody tr th:only-of-type {\n",
       "        vertical-align: middle;\n",
       "    }\n",
       "\n",
       "    .dataframe tbody tr th {\n",
       "        vertical-align: top;\n",
       "    }\n",
       "\n",
       "    .dataframe thead th {\n",
       "        text-align: right;\n",
       "    }\n",
       "</style>\n",
       "<table border=\"1\" class=\"dataframe\">\n",
       "  <thead>\n",
       "    <tr style=\"text-align: right;\">\n",
       "      <th></th>\n",
       "      <th>origin</th>\n",
       "    </tr>\n",
       "  </thead>\n",
       "  <tbody>\n",
       "    <tr>\n",
       "      <th>0</th>\n",
       "      <td>SEAL-O-RING-STOR HAEIN Coporation_Cheonan</td>\n",
       "    </tr>\n",
       "    <tr>\n",
       "      <th>1</th>\n",
       "      <td>OIL COOLER &amp; LINES HAEIN Coporation_Cheonan</td>\n",
       "    </tr>\n",
       "    <tr>\n",
       "      <th>2</th>\n",
       "      <td>WASHER HAEIN Coporation_Cheonan</td>\n",
       "    </tr>\n",
       "    <tr>\n",
       "      <th>3</th>\n",
       "      <td>BOLT-HIGH TEMP HAEIN Coporation_Cheonan</td>\n",
       "    </tr>\n",
       "    <tr>\n",
       "      <th>4</th>\n",
       "      <td>SEAL HAEIN Coporation_Cheonan</td>\n",
       "    </tr>\n",
       "  </tbody>\n",
       "</table>\n",
       "</div>"
      ],
      "text/plain": [
       "                                        origin\n",
       "0    SEAL-O-RING-STOR HAEIN Coporation_Cheonan\n",
       "1  OIL COOLER & LINES HAEIN Coporation_Cheonan\n",
       "2              WASHER HAEIN Coporation_Cheonan\n",
       "3      BOLT-HIGH TEMP HAEIN Coporation_Cheonan\n",
       "4                SEAL HAEIN Coporation_Cheonan"
      ]
     },
     "execution_count": 17,
     "metadata": {},
     "output_type": "execute_result"
    }
   ],
   "source": [
    "desc.head()"
   ]
  },
  {
   "cell_type": "code",
   "execution_count": 18,
   "id": "f2810a47-5117-4be9-b102-f11407c363d1",
   "metadata": {},
   "outputs": [
    {
     "data": {
      "text/html": [
       "<div>\n",
       "<style scoped>\n",
       "    .dataframe tbody tr th:only-of-type {\n",
       "        vertical-align: middle;\n",
       "    }\n",
       "\n",
       "    .dataframe tbody tr th {\n",
       "        vertical-align: top;\n",
       "    }\n",
       "\n",
       "    .dataframe thead th {\n",
       "        text-align: right;\n",
       "    }\n",
       "</style>\n",
       "<table border=\"1\" class=\"dataframe\">\n",
       "  <thead>\n",
       "    <tr style=\"text-align: right;\">\n",
       "      <th></th>\n",
       "      <th>origin</th>\n",
       "      <th>split_desc</th>\n",
       "    </tr>\n",
       "  </thead>\n",
       "  <tbody>\n",
       "    <tr>\n",
       "      <th>0</th>\n",
       "      <td>SEAL-O-RING-STOR HAEIN Coporation_Cheonan</td>\n",
       "      <td>[SEAL-O-RING-STOR, HAEIN, Coporation_Cheonan]</td>\n",
       "    </tr>\n",
       "    <tr>\n",
       "      <th>1</th>\n",
       "      <td>OIL COOLER &amp; LINES HAEIN Coporation_Cheonan</td>\n",
       "      <td>[OIL, COOLER, &amp;, LINES, HAEIN, Coporation_Cheo...</td>\n",
       "    </tr>\n",
       "    <tr>\n",
       "      <th>2</th>\n",
       "      <td>WASHER HAEIN Coporation_Cheonan</td>\n",
       "      <td>[WASHER, HAEIN, Coporation_Cheonan]</td>\n",
       "    </tr>\n",
       "    <tr>\n",
       "      <th>3</th>\n",
       "      <td>BOLT-HIGH TEMP HAEIN Coporation_Cheonan</td>\n",
       "      <td>[BOLT-HIGH, TEMP, HAEIN, Coporation_Cheonan]</td>\n",
       "    </tr>\n",
       "    <tr>\n",
       "      <th>4</th>\n",
       "      <td>SEAL HAEIN Coporation_Cheonan</td>\n",
       "      <td>[SEAL, HAEIN, Coporation_Cheonan]</td>\n",
       "    </tr>\n",
       "    <tr>\n",
       "      <th>...</th>\n",
       "      <td>...</td>\n",
       "      <td>...</td>\n",
       "    </tr>\n",
       "    <tr>\n",
       "      <th>20512</th>\n",
       "      <td>HYD. CYLINDER_NET BOAT DAVIT MARINE HYDROTEC C...</td>\n",
       "      <td>[HYD., CYLINDER_NET, BOAT, DAVIT, MARINE, HYDR...</td>\n",
       "    </tr>\n",
       "    <tr>\n",
       "      <th>20513</th>\n",
       "      <td>HYD. CYLINDER_N.D CRANE_BOOM_LIFTER MARINE HYD...</td>\n",
       "      <td>[HYD., CYLINDER_N.D, CRANE_BOOM_LIFTER, MARINE...</td>\n",
       "    </tr>\n",
       "    <tr>\n",
       "      <th>20514</th>\n",
       "      <td>PULLY PORT RELIEF ENGINEERING CO.,LTD.</td>\n",
       "      <td>[PULLY, PORT, RELIEF, ENGINEERING, CO.,LTD.]</td>\n",
       "    </tr>\n",
       "    <tr>\n",
       "      <th>20515</th>\n",
       "      <td>CYLINDER  PORT RELIEF ENGINEERING CO.,LTD.</td>\n",
       "      <td>[CYLINDER, PORT, RELIEF, ENGINEERING, CO.,LTD.]</td>\n",
       "    </tr>\n",
       "    <tr>\n",
       "      <th>20516</th>\n",
       "      <td>SEAL KIT FOR CYLINDER PORT RELIEF ENGINEERING ...</td>\n",
       "      <td>[SEAL, KIT, FOR, CYLINDER, PORT, RELIEF, ENGIN...</td>\n",
       "    </tr>\n",
       "  </tbody>\n",
       "</table>\n",
       "<p>20517 rows × 2 columns</p>\n",
       "</div>"
      ],
      "text/plain": [
       "                                                  origin  \\\n",
       "0              SEAL-O-RING-STOR HAEIN Coporation_Cheonan   \n",
       "1            OIL COOLER & LINES HAEIN Coporation_Cheonan   \n",
       "2                        WASHER HAEIN Coporation_Cheonan   \n",
       "3                BOLT-HIGH TEMP HAEIN Coporation_Cheonan   \n",
       "4                          SEAL HAEIN Coporation_Cheonan   \n",
       "...                                                  ...   \n",
       "20512  HYD. CYLINDER_NET BOAT DAVIT MARINE HYDROTEC C...   \n",
       "20513  HYD. CYLINDER_N.D CRANE_BOOM_LIFTER MARINE HYD...   \n",
       "20514             PULLY PORT RELIEF ENGINEERING CO.,LTD.   \n",
       "20515         CYLINDER  PORT RELIEF ENGINEERING CO.,LTD.   \n",
       "20516  SEAL KIT FOR CYLINDER PORT RELIEF ENGINEERING ...   \n",
       "\n",
       "                                              split_desc  \n",
       "0          [SEAL-O-RING-STOR, HAEIN, Coporation_Cheonan]  \n",
       "1      [OIL, COOLER, &, LINES, HAEIN, Coporation_Cheo...  \n",
       "2                    [WASHER, HAEIN, Coporation_Cheonan]  \n",
       "3           [BOLT-HIGH, TEMP, HAEIN, Coporation_Cheonan]  \n",
       "4                      [SEAL, HAEIN, Coporation_Cheonan]  \n",
       "...                                                  ...  \n",
       "20512  [HYD., CYLINDER_NET, BOAT, DAVIT, MARINE, HYDR...  \n",
       "20513  [HYD., CYLINDER_N.D, CRANE_BOOM_LIFTER, MARINE...  \n",
       "20514       [PULLY, PORT, RELIEF, ENGINEERING, CO.,LTD.]  \n",
       "20515    [CYLINDER, PORT, RELIEF, ENGINEERING, CO.,LTD.]  \n",
       "20516  [SEAL, KIT, FOR, CYLINDER, PORT, RELIEF, ENGIN...  \n",
       "\n",
       "[20517 rows x 2 columns]"
      ]
     },
     "execution_count": 18,
     "metadata": {},
     "output_type": "execute_result"
    }
   ],
   "source": [
    "desc['split_desc'] = desc.origin.str.split()\n",
    "desc"
   ]
  },
  {
   "cell_type": "code",
   "execution_count": 19,
   "id": "710d935a-c2cf-47db-861b-01b14e34234a",
   "metadata": {},
   "outputs": [],
   "source": [
    "pre_desc = desc.dropna(subset=['split_desc'])"
   ]
  },
  {
   "cell_type": "code",
   "execution_count": 20,
   "id": "df39d4b7-a4b0-4bfe-9a8e-300f971bde92",
   "metadata": {},
   "outputs": [
    {
     "data": {
      "text/html": [
       "<div>\n",
       "<style scoped>\n",
       "    .dataframe tbody tr th:only-of-type {\n",
       "        vertical-align: middle;\n",
       "    }\n",
       "\n",
       "    .dataframe tbody tr th {\n",
       "        vertical-align: top;\n",
       "    }\n",
       "\n",
       "    .dataframe thead th {\n",
       "        text-align: right;\n",
       "    }\n",
       "</style>\n",
       "<table border=\"1\" class=\"dataframe\">\n",
       "  <thead>\n",
       "    <tr style=\"text-align: right;\">\n",
       "      <th></th>\n",
       "      <th>origin</th>\n",
       "      <th>split_desc</th>\n",
       "    </tr>\n",
       "  </thead>\n",
       "  <tbody>\n",
       "    <tr>\n",
       "      <th>0</th>\n",
       "      <td>SEAL-O-RING-STOR HAEIN Coporation_Cheonan</td>\n",
       "      <td>[SEAL-O-RING-STOR, HAEIN, Coporation_Cheonan]</td>\n",
       "    </tr>\n",
       "    <tr>\n",
       "      <th>1</th>\n",
       "      <td>OIL COOLER &amp; LINES HAEIN Coporation_Cheonan</td>\n",
       "      <td>[OIL, COOLER, &amp;, LINES, HAEIN, Coporation_Cheo...</td>\n",
       "    </tr>\n",
       "    <tr>\n",
       "      <th>2</th>\n",
       "      <td>WASHER HAEIN Coporation_Cheonan</td>\n",
       "      <td>[WASHER, HAEIN, Coporation_Cheonan]</td>\n",
       "    </tr>\n",
       "    <tr>\n",
       "      <th>3</th>\n",
       "      <td>BOLT-HIGH TEMP HAEIN Coporation_Cheonan</td>\n",
       "      <td>[BOLT-HIGH, TEMP, HAEIN, Coporation_Cheonan]</td>\n",
       "    </tr>\n",
       "    <tr>\n",
       "      <th>4</th>\n",
       "      <td>SEAL HAEIN Coporation_Cheonan</td>\n",
       "      <td>[SEAL, HAEIN, Coporation_Cheonan]</td>\n",
       "    </tr>\n",
       "    <tr>\n",
       "      <th>...</th>\n",
       "      <td>...</td>\n",
       "      <td>...</td>\n",
       "    </tr>\n",
       "    <tr>\n",
       "      <th>20512</th>\n",
       "      <td>HYD. CYLINDER_NET BOAT DAVIT MARINE HYDROTEC C...</td>\n",
       "      <td>[HYD., CYLINDER_NET, BOAT, DAVIT, MARINE, HYDR...</td>\n",
       "    </tr>\n",
       "    <tr>\n",
       "      <th>20513</th>\n",
       "      <td>HYD. CYLINDER_N.D CRANE_BOOM_LIFTER MARINE HYD...</td>\n",
       "      <td>[HYD., CYLINDER_N.D, CRANE_BOOM_LIFTER, MARINE...</td>\n",
       "    </tr>\n",
       "    <tr>\n",
       "      <th>20514</th>\n",
       "      <td>PULLY PORT RELIEF ENGINEERING CO.,LTD.</td>\n",
       "      <td>[PULLY, PORT, RELIEF, ENGINEERING, CO.,LTD.]</td>\n",
       "    </tr>\n",
       "    <tr>\n",
       "      <th>20515</th>\n",
       "      <td>CYLINDER  PORT RELIEF ENGINEERING CO.,LTD.</td>\n",
       "      <td>[CYLINDER, PORT, RELIEF, ENGINEERING, CO.,LTD.]</td>\n",
       "    </tr>\n",
       "    <tr>\n",
       "      <th>20516</th>\n",
       "      <td>SEAL KIT FOR CYLINDER PORT RELIEF ENGINEERING ...</td>\n",
       "      <td>[SEAL, KIT, FOR, CYLINDER, PORT, RELIEF, ENGIN...</td>\n",
       "    </tr>\n",
       "  </tbody>\n",
       "</table>\n",
       "<p>20517 rows × 2 columns</p>\n",
       "</div>"
      ],
      "text/plain": [
       "                                                  origin  \\\n",
       "0              SEAL-O-RING-STOR HAEIN Coporation_Cheonan   \n",
       "1            OIL COOLER & LINES HAEIN Coporation_Cheonan   \n",
       "2                        WASHER HAEIN Coporation_Cheonan   \n",
       "3                BOLT-HIGH TEMP HAEIN Coporation_Cheonan   \n",
       "4                          SEAL HAEIN Coporation_Cheonan   \n",
       "...                                                  ...   \n",
       "20512  HYD. CYLINDER_NET BOAT DAVIT MARINE HYDROTEC C...   \n",
       "20513  HYD. CYLINDER_N.D CRANE_BOOM_LIFTER MARINE HYD...   \n",
       "20514             PULLY PORT RELIEF ENGINEERING CO.,LTD.   \n",
       "20515         CYLINDER  PORT RELIEF ENGINEERING CO.,LTD.   \n",
       "20516  SEAL KIT FOR CYLINDER PORT RELIEF ENGINEERING ...   \n",
       "\n",
       "                                              split_desc  \n",
       "0          [SEAL-O-RING-STOR, HAEIN, Coporation_Cheonan]  \n",
       "1      [OIL, COOLER, &, LINES, HAEIN, Coporation_Cheo...  \n",
       "2                    [WASHER, HAEIN, Coporation_Cheonan]  \n",
       "3           [BOLT-HIGH, TEMP, HAEIN, Coporation_Cheonan]  \n",
       "4                      [SEAL, HAEIN, Coporation_Cheonan]  \n",
       "...                                                  ...  \n",
       "20512  [HYD., CYLINDER_NET, BOAT, DAVIT, MARINE, HYDR...  \n",
       "20513  [HYD., CYLINDER_N.D, CRANE_BOOM_LIFTER, MARINE...  \n",
       "20514       [PULLY, PORT, RELIEF, ENGINEERING, CO.,LTD.]  \n",
       "20515    [CYLINDER, PORT, RELIEF, ENGINEERING, CO.,LTD.]  \n",
       "20516  [SEAL, KIT, FOR, CYLINDER, PORT, RELIEF, ENGIN...  \n",
       "\n",
       "[20517 rows x 2 columns]"
      ]
     },
     "execution_count": 20,
     "metadata": {},
     "output_type": "execute_result"
    }
   ],
   "source": [
    "pre_desc"
   ]
  },
  {
   "cell_type": "code",
   "execution_count": 21,
   "id": "2b4187a2-f532-4df7-b4d8-aed85388ee92",
   "metadata": {},
   "outputs": [],
   "source": [
    "# 학습에 사용할 단어장\n",
    "tokenizer = tf.keras.preprocessing.text.Tokenizer()\n",
    "\n",
    "# Updates internal vocabulary based on a list of sequences.\n",
    "tokenizer.fit_on_texts(pre_desc['split_desc'])"
   ]
  },
  {
   "cell_type": "code",
   "execution_count": 22,
   "id": "108154c9-6f0d-4bd6-b65f-498acc2022e7",
   "metadata": {},
   "outputs": [],
   "source": [
    "# 단어장을 이용해 문장을 숫자로 변경\n",
    "encoded_text=tokenizer.texts_to_sequences(pre_desc['split_desc'])\n",
    "pre_desc['encode_desc'] = tokenizer.texts_to_sequences(pre_desc['split_desc'])"
   ]
  },
  {
   "cell_type": "code",
   "execution_count": 23,
   "id": "7a39dcd8-6bbb-497b-bb34-7acc6825f0b1",
   "metadata": {},
   "outputs": [
    {
     "data": {
      "text/plain": [
       "(21, 4.7730174976848465)"
      ]
     },
     "execution_count": 23,
     "metadata": {},
     "output_type": "execute_result"
    }
   ],
   "source": [
    "len_list = pre_desc['encode_desc'].apply(lambda x: len(x))\n",
    "max(len_list), sum(len_list)/len(len_list)"
   ]
  },
  {
   "cell_type": "code",
   "execution_count": 24,
   "id": "a97855eb-49e5-4f84-b99c-3e9a065de61f",
   "metadata": {},
   "outputs": [],
   "source": [
    "top_words = 1000\n",
    "max_len = 10\n",
    "vector_len = 30"
   ]
  },
  {
   "cell_type": "code",
   "execution_count": 25,
   "id": "4e351e3e-7309-493d-9475-1dcfc8418a0d",
   "metadata": {},
   "outputs": [],
   "source": [
    "# OOV: Out-Of-Vocabulary\n",
    "# 사전에서 빈도수 높은 단어 1,000 개만 사용\n",
    "# 사전에 없는 단어 <OOV> 처리\n",
    "tokenizer2 = tf.keras.preprocessing.text.Tokenizer(num_words=top_words, oov_token='<OOV>')\n",
    "tokenizer2.fit_on_texts(pre_desc['split_desc'])\n",
    "# print('tokenizer2.index_docs', tokenizer2.index_docs)\n",
    "# print('tokenizer2.index_word', tokenizer2.index_word)\n",
    "# print('tokenizer2.word_index', tokenizer2.word_index)\n",
    "pre_desc['encode_desc_1000'] = tokenizer2.texts_to_sequences(pre_desc['split_desc'])"
   ]
  },
  {
   "cell_type": "code",
   "execution_count": 26,
   "id": "c827b7d7-dc2e-4afc-ae00-5bc33d0916b7",
   "metadata": {},
   "outputs": [
    {
     "data": {
      "text/html": [
       "<div>\n",
       "<style scoped>\n",
       "    .dataframe tbody tr th:only-of-type {\n",
       "        vertical-align: middle;\n",
       "    }\n",
       "\n",
       "    .dataframe tbody tr th {\n",
       "        vertical-align: top;\n",
       "    }\n",
       "\n",
       "    .dataframe thead th {\n",
       "        text-align: right;\n",
       "    }\n",
       "</style>\n",
       "<table border=\"1\" class=\"dataframe\">\n",
       "  <thead>\n",
       "    <tr style=\"text-align: right;\">\n",
       "      <th></th>\n",
       "      <th>origin</th>\n",
       "      <th>split_desc</th>\n",
       "      <th>encode_desc</th>\n",
       "      <th>encode_desc_1000</th>\n",
       "    </tr>\n",
       "  </thead>\n",
       "  <tbody>\n",
       "    <tr>\n",
       "      <th>0</th>\n",
       "      <td>SEAL-O-RING-STOR HAEIN Coporation_Cheonan</td>\n",
       "      <td>[SEAL-O-RING-STOR, HAEIN, Coporation_Cheonan]</td>\n",
       "      <td>[101, 1, 2]</td>\n",
       "      <td>[102, 2, 3]</td>\n",
       "    </tr>\n",
       "    <tr>\n",
       "      <th>1</th>\n",
       "      <td>OIL COOLER &amp; LINES HAEIN Coporation_Cheonan</td>\n",
       "      <td>[OIL, COOLER, &amp;, LINES, HAEIN, Coporation_Cheo...</td>\n",
       "      <td>[16, 99, 63, 126, 1, 2]</td>\n",
       "      <td>[17, 100, 64, 127, 2, 3]</td>\n",
       "    </tr>\n",
       "    <tr>\n",
       "      <th>2</th>\n",
       "      <td>WASHER HAEIN Coporation_Cheonan</td>\n",
       "      <td>[WASHER, HAEIN, Coporation_Cheonan]</td>\n",
       "      <td>[53, 1, 2]</td>\n",
       "      <td>[54, 2, 3]</td>\n",
       "    </tr>\n",
       "    <tr>\n",
       "      <th>3</th>\n",
       "      <td>BOLT-HIGH TEMP HAEIN Coporation_Cheonan</td>\n",
       "      <td>[BOLT-HIGH, TEMP, HAEIN, Coporation_Cheonan]</td>\n",
       "      <td>[309, 182, 1, 2]</td>\n",
       "      <td>[310, 183, 2, 3]</td>\n",
       "    </tr>\n",
       "    <tr>\n",
       "      <th>4</th>\n",
       "      <td>SEAL HAEIN Coporation_Cheonan</td>\n",
       "      <td>[SEAL, HAEIN, Coporation_Cheonan]</td>\n",
       "      <td>[14, 1, 2]</td>\n",
       "      <td>[15, 2, 3]</td>\n",
       "    </tr>\n",
       "    <tr>\n",
       "      <th>5</th>\n",
       "      <td>CORE CHARGES FOR CYLINDER PACK AS HAEIN Copora...</td>\n",
       "      <td>[CORE, CHARGES, FOR, CYLINDER, PACK, AS, HAEIN...</td>\n",
       "      <td>[28, 46, 24, 33, 92, 55, 1, 2]</td>\n",
       "      <td>[29, 47, 25, 34, 93, 56, 2, 3]</td>\n",
       "    </tr>\n",
       "    <tr>\n",
       "      <th>6</th>\n",
       "      <td>PUMP GP-F TFR-REMAN HAEIN Coporation_Cheonan</td>\n",
       "      <td>[PUMP, GP-F, TFR-REMAN, HAEIN, Coporation_Cheo...</td>\n",
       "      <td>[18, 242, 1099, 1, 2]</td>\n",
       "      <td>[19, 243, 1, 2, 3]</td>\n",
       "    </tr>\n",
       "    <tr>\n",
       "      <th>7</th>\n",
       "      <td>GEAR-WTR PUMP DR HAEIN Coporation_Cheonan</td>\n",
       "      <td>[GEAR-WTR, PUMP, DR, HAEIN, Coporation_Cheonan]</td>\n",
       "      <td>[685, 18, 246, 1, 2]</td>\n",
       "      <td>[686, 19, 247, 2, 3]</td>\n",
       "    </tr>\n",
       "    <tr>\n",
       "      <th>8</th>\n",
       "      <td>GEAR-WTR PUMP DR HAEIN Coporation_Cheonan</td>\n",
       "      <td>[GEAR-WTR, PUMP, DR, HAEIN, Coporation_Cheonan]</td>\n",
       "      <td>[685, 18, 246, 1, 2]</td>\n",
       "      <td>[686, 19, 247, 2, 3]</td>\n",
       "    </tr>\n",
       "    <tr>\n",
       "      <th>9</th>\n",
       "      <td>GEAR-WTR PUMP DR HAEIN Coporation_Cheonan</td>\n",
       "      <td>[GEAR-WTR, PUMP, DR, HAEIN, Coporation_Cheonan]</td>\n",
       "      <td>[685, 18, 246, 1, 2]</td>\n",
       "      <td>[686, 19, 247, 2, 3]</td>\n",
       "    </tr>\n",
       "  </tbody>\n",
       "</table>\n",
       "</div>"
      ],
      "text/plain": [
       "                                              origin  \\\n",
       "0          SEAL-O-RING-STOR HAEIN Coporation_Cheonan   \n",
       "1        OIL COOLER & LINES HAEIN Coporation_Cheonan   \n",
       "2                    WASHER HAEIN Coporation_Cheonan   \n",
       "3            BOLT-HIGH TEMP HAEIN Coporation_Cheonan   \n",
       "4                      SEAL HAEIN Coporation_Cheonan   \n",
       "5  CORE CHARGES FOR CYLINDER PACK AS HAEIN Copora...   \n",
       "6       PUMP GP-F TFR-REMAN HAEIN Coporation_Cheonan   \n",
       "7          GEAR-WTR PUMP DR HAEIN Coporation_Cheonan   \n",
       "8          GEAR-WTR PUMP DR HAEIN Coporation_Cheonan   \n",
       "9          GEAR-WTR PUMP DR HAEIN Coporation_Cheonan   \n",
       "\n",
       "                                          split_desc  \\\n",
       "0      [SEAL-O-RING-STOR, HAEIN, Coporation_Cheonan]   \n",
       "1  [OIL, COOLER, &, LINES, HAEIN, Coporation_Cheo...   \n",
       "2                [WASHER, HAEIN, Coporation_Cheonan]   \n",
       "3       [BOLT-HIGH, TEMP, HAEIN, Coporation_Cheonan]   \n",
       "4                  [SEAL, HAEIN, Coporation_Cheonan]   \n",
       "5  [CORE, CHARGES, FOR, CYLINDER, PACK, AS, HAEIN...   \n",
       "6  [PUMP, GP-F, TFR-REMAN, HAEIN, Coporation_Cheo...   \n",
       "7    [GEAR-WTR, PUMP, DR, HAEIN, Coporation_Cheonan]   \n",
       "8    [GEAR-WTR, PUMP, DR, HAEIN, Coporation_Cheonan]   \n",
       "9    [GEAR-WTR, PUMP, DR, HAEIN, Coporation_Cheonan]   \n",
       "\n",
       "                      encode_desc                encode_desc_1000  \n",
       "0                     [101, 1, 2]                     [102, 2, 3]  \n",
       "1         [16, 99, 63, 126, 1, 2]        [17, 100, 64, 127, 2, 3]  \n",
       "2                      [53, 1, 2]                      [54, 2, 3]  \n",
       "3                [309, 182, 1, 2]                [310, 183, 2, 3]  \n",
       "4                      [14, 1, 2]                      [15, 2, 3]  \n",
       "5  [28, 46, 24, 33, 92, 55, 1, 2]  [29, 47, 25, 34, 93, 56, 2, 3]  \n",
       "6           [18, 242, 1099, 1, 2]              [19, 243, 1, 2, 3]  \n",
       "7            [685, 18, 246, 1, 2]            [686, 19, 247, 2, 3]  \n",
       "8            [685, 18, 246, 1, 2]            [686, 19, 247, 2, 3]  \n",
       "9            [685, 18, 246, 1, 2]            [686, 19, 247, 2, 3]  "
      ]
     },
     "execution_count": 26,
     "metadata": {},
     "output_type": "execute_result"
    }
   ],
   "source": [
    "pre_desc.head(10)"
   ]
  },
  {
   "cell_type": "code",
   "execution_count": 27,
   "id": "74ad73cb-7859-45b2-8353-0a97f1ac89c8",
   "metadata": {},
   "outputs": [],
   "source": [
    "# 문장의 길이가 다르므로 일치\n",
    "encode_desc_padding = tf.keras.preprocessing.sequence.pad_sequences(pre_desc['encode_desc_1000'], maxlen=max_len)"
   ]
  },
  {
   "cell_type": "code",
   "execution_count": 28,
   "id": "30a4dc75-f7ee-4a75-bf72-90fd875e24e9",
   "metadata": {},
   "outputs": [
    {
     "data": {
      "text/plain": [
       "(20517, 10)"
      ]
     },
     "execution_count": 28,
     "metadata": {},
     "output_type": "execute_result"
    }
   ],
   "source": [
    "encode_desc_padding.shape"
   ]
  },
  {
   "cell_type": "code",
   "execution_count": 29,
   "id": "1c78b504-3b87-4660-b55e-69be377f36b2",
   "metadata": {},
   "outputs": [
    {
     "data": {
      "text/plain": [
       "array([[  0,   0,   0,   0,   0,   0,   0, 102,   2,   3],\n",
       "       [  0,   0,   0,   0,  17, 100,  64, 127,   2,   3],\n",
       "       [  0,   0,   0,   0,   0,   0,   0,  54,   2,   3],\n",
       "       [  0,   0,   0,   0,   0,   0, 310, 183,   2,   3],\n",
       "       [  0,   0,   0,   0,   0,   0,   0,  15,   2,   3]])"
      ]
     },
     "execution_count": 29,
     "metadata": {},
     "output_type": "execute_result"
    }
   ],
   "source": [
    "encode_desc_padding[:5]"
   ]
  },
  {
   "cell_type": "code",
   "execution_count": 30,
   "id": "e5933f73-01ed-43bd-97bf-271b0e1c0aec",
   "metadata": {},
   "outputs": [
    {
     "data": {
      "text/plain": [
       "TensorShape([20517, 10, 30])"
      ]
     },
     "execution_count": 30,
     "metadata": {},
     "output_type": "execute_result"
    }
   ],
   "source": [
    "embedding = tf.keras.layers.Embedding(input_dim =top_words, output_dim=vector_len)(encode_desc_padding)\n",
    "embedding.shape"
   ]
  },
  {
   "cell_type": "markdown",
   "id": "fa1b15dd-97c5-4c43-8634-826244f454b5",
   "metadata": {},
   "source": [
    "## 임베딩 데이터 셋"
   ]
  },
  {
   "cell_type": "code",
   "execution_count": 38,
   "id": "83cc7eb8-e349-4c01-a3c4-2907248b1297",
   "metadata": {},
   "outputs": [],
   "source": [
    "batch_size = 5\n",
    "def embedding_dataset(data, shuffle=True, batch_size=32):\n",
    "  ds = tf.data.Dataset.from_tensor_slices({'desc': data})\n",
    "  if shuffle:\n",
    "    ds = ds.shuffle(buffer_size=len(data))\n",
    "  ds = ds.batch(batch_size)\n",
    "  ds = ds.prefetch(batch_size)\n",
    "  return ds"
   ]
  },
  {
   "cell_type": "code",
   "execution_count": 39,
   "id": "eeabc689-08da-4af9-b9fa-06eb0d711f49",
   "metadata": {},
   "outputs": [],
   "source": [
    "embedding_dataset = embedding_dataset(encode_desc_padding, batch_size=batch_size)"
   ]
  },
  {
   "cell_type": "code",
   "execution_count": 40,
   "id": "016d6d79-09a4-4a2b-a2cd-3f04ca0e4900",
   "metadata": {},
   "outputs": [
    {
     "name": "stdout",
     "output_type": "stream",
     "text": [
      "{'desc': <tf.Tensor: shape=(5, 10), dtype=int32, numpy=\n",
      "array([[  0,   0,   0,   0,   0,   0,   1,  35,   4,   5],\n",
      "       [  0,   0,   0, 246,  17,   1,  70, 115, 325,  40],\n",
      "       [  0,   0,   0,   0,   0,  32,  36,  37,   9,  38],\n",
      "       [  0,   0,   0,   0,   0,   0,  22,   1,   1, 112],\n",
      "       [  0,   0,   0,   0,   0, 529,  11,  10,   9,   8]])>}\n"
     ]
    }
   ],
   "source": [
    "for batch in embedding_dataset.take(1):\n",
    "  print(batch)"
   ]
  },
  {
   "cell_type": "code",
   "execution_count": 41,
   "id": "55c9ee5b-875e-479b-9f3d-7b3e8a44d0da",
   "metadata": {},
   "outputs": [],
   "source": [
    "embedding = tf.keras.layers.Embedding(input_dim =top_words, output_dim=vector_len)"
   ]
  },
  {
   "cell_type": "code",
   "execution_count": 42,
   "id": "f2457143-949f-4e7d-b7f7-eb8d554e1029",
   "metadata": {},
   "outputs": [],
   "source": [
    "embedding_layer = lambda feature: embedding(feature)"
   ]
  },
  {
   "cell_type": "code",
   "execution_count": 44,
   "id": "c5ab80c3-7680-46f6-b581-74db343c5255",
   "metadata": {},
   "outputs": [
    {
     "data": {
      "text/plain": [
       "TensorShape([20517, 10, 30])"
      ]
     },
     "execution_count": 44,
     "metadata": {},
     "output_type": "execute_result"
    }
   ],
   "source": [
    "embedding_layer(encode_desc_padding).shape"
   ]
  },
  {
   "cell_type": "code",
   "execution_count": 45,
   "id": "efa3efcd-83e4-4591-af10-a7a831090422",
   "metadata": {},
   "outputs": [
    {
     "data": {
      "text/plain": [
       "10"
      ]
     },
     "execution_count": 45,
     "metadata": {},
     "output_type": "execute_result"
    }
   ],
   "source": [
    "embedding_dataset.element_spec['desc'].shape[1]"
   ]
  },
  {
   "cell_type": "code",
   "execution_count": 47,
   "id": "e1735127-8e85-4574-862e-3fecaaf6a29c",
   "metadata": {},
   "outputs": [],
   "source": [
    "embedding_col = tf.keras.Input(shape=(), name='desc', dtype='int64')"
   ]
  },
  {
   "cell_type": "code",
   "execution_count": 49,
   "id": "c4c0a1de-f1d0-4502-9a33-a3e55641713d",
   "metadata": {},
   "outputs": [],
   "source": [
    "def get_text_encoding_layer(name, dataset, top_words, vector_len):\n",
    "   # Prepare a `tf.data.Dataset` that only yields the feature.\n",
    "  feature_ds = dataset.map(lambda x: x[name])\n",
    "  embedding = tf.keras.layers.Embedding(input_dim =top_words, output_dim=vector_len)\n",
    "  return lambda feature: embedding(feature)"
   ]
  },
  {
   "cell_type": "code",
   "execution_count": 50,
   "id": "6ce0a7c2-072c-4864-8e86-9621544b55a4",
   "metadata": {},
   "outputs": [],
   "source": [
    "embedding_layer = get_text_encoding_layer('desc', embedding_dataset, top_words, vector_len)"
   ]
  },
  {
   "cell_type": "code",
   "execution_count": 51,
   "id": "7d74ec1e-c9ab-4376-ac04-381a66818e1f",
   "metadata": {},
   "outputs": [
    {
     "data": {
      "text/plain": [
       "<KerasTensor: shape=(None, 30) dtype=float32 (created by layer 'embedding_2')>"
      ]
     },
     "execution_count": 51,
     "metadata": {},
     "output_type": "execute_result"
    }
   ],
   "source": [
    "embedding_layer(embedding_col)"
   ]
  },
  {
   "cell_type": "code",
   "execution_count": null,
   "id": "928c480c-dd00-49c5-8d27-98aec860db2f",
   "metadata": {},
   "outputs": [],
   "source": []
  },
  {
   "cell_type": "code",
   "execution_count": 46,
   "id": "8d6c671a-ac02-4ebf-ae28-48503d6f00ce",
   "metadata": {},
   "outputs": [],
   "source": [
    "all_inputs = []\n",
    "encoded_features = []"
   ]
  },
  {
   "cell_type": "code",
   "execution_count": 52,
   "id": "cf7c8dd0-e2b6-47c6-8a38-fbecf2d17cab",
   "metadata": {},
   "outputs": [],
   "source": [
    "# text features.\n",
    "for header in ['desc']:\n",
    "  embedding_col = tf.keras.Input(shape=(), name='desc', dtype='int64')\n",
    "  embedding_layer = get_text_encoding_layer('desc', embedding_dataset, top_words, vector_len)\n",
    "  encoded_embedding_col = embedding_layer(embedding_col)\n",
    "  all_inputs.append(embedding_col)\n",
    "  encoded_features.append(encoded_embedding_col)"
   ]
  },
  {
   "cell_type": "code",
   "execution_count": 63,
   "id": "18da10cb-984d-4533-aa4c-75706b0103d3",
   "metadata": {},
   "outputs": [
    {
     "name": "stdout",
     "output_type": "stream",
     "text": [
      "<class 'keras.engine.keras_tensor.KerasTensor'> (None,)\n"
     ]
    }
   ],
   "source": [
    "for d in all_inputs:\n",
    "  print(type(d), d.shape)"
   ]
  },
  {
   "cell_type": "code",
   "execution_count": 62,
   "id": "51decdc9-b81b-4757-b7f3-7b6d684e1696",
   "metadata": {},
   "outputs": [
    {
     "name": "stdout",
     "output_type": "stream",
     "text": [
      "<class 'keras.engine.keras_tensor.KerasTensor'> (None, 30)\n"
     ]
    }
   ],
   "source": [
    "for d in encoded_features:\n",
    "  print(type(d), d.shape)"
   ]
  },
  {
   "cell_type": "code",
   "execution_count": 77,
   "id": "f6e7d7c9-a5f3-4828-ba6b-50dab8063f3b",
   "metadata": {},
   "outputs": [
    {
     "name": "stdout",
     "output_type": "stream",
     "text": [
      "Model: \"model_10\"\n",
      "_________________________________________________________________\n",
      " Layer (type)                Output Shape              Param #   \n",
      "=================================================================\n",
      " desc (InputLayer)           [(None,)]                 0         \n",
      "                                                                 \n",
      " embedding_3 (Embedding)     (None, 30)                30000     \n",
      "                                                                 \n",
      " concatenate_12 (Concatenate  (None, 30)               0         \n",
      " )                                                               \n",
      "                                                                 \n",
      " dense_12 (Dense)            (None, 64)                1984      \n",
      "                                                                 \n",
      " Prediction_output (Dense)   (None, 61)                3965      \n",
      "                                                                 \n",
      "=================================================================\n",
      "Total params: 35,949\n",
      "Trainable params: 35,949\n",
      "Non-trainable params: 0\n",
      "_________________________________________________________________\n"
     ]
    }
   ],
   "source": [
    "from keras.layers import Input, Embedding, Dense\n",
    "all_features = tf.keras.layers.concatenate(encoded_features)\n",
    "x = tf.keras.layers.Dense(64, activation=\"relu\")(all_features)\n",
    "# x = tf.keras.layers.Dropout(0.5)(x)\n",
    "# output = tf.keras.layers.Dense(1)(x)\n",
    "outputs = Dense(61, activation='softmax', name=\"Prediction_output\")(x)\n",
    "\n",
    "model2 = tf.keras.Model(all_inputs, outputs)\n",
    "\n",
    "model2.summary()"
   ]
  },
  {
   "cell_type": "code",
   "execution_count": 78,
   "id": "7c3242fe-0481-47c8-9ca6-f3d5b048bc45",
   "metadata": {},
   "outputs": [],
   "source": [
    "model2.compile(loss=tf.keras.losses.CategoricalCrossentropy(from_logits=False),\n",
    "                       optimizer=tf.keras.optimizers.Adam(),\n",
    "                       metrics=['accuracy'])"
   ]
  },
  {
   "cell_type": "code",
   "execution_count": 81,
   "id": "07f29427-f9bf-4e32-9b3e-afea5879bcd4",
   "metadata": {},
   "outputs": [],
   "source": [
    "df2 = pd.DataFrame()\n",
    "df2['desc'] = pre_desc['origin']\n",
    "df2['y'] = df['key2_encoded']"
   ]
  },
  {
   "cell_type": "code",
   "execution_count": 83,
   "id": "321a0b2a-db6d-4ef0-a189-b2749cb94bec",
   "metadata": {},
   "outputs": [],
   "source": [
    "y = df2['y'].values"
   ]
  },
  {
   "cell_type": "code",
   "execution_count": 84,
   "id": "b06e6f34-a3cc-4703-826e-a3869e47fa32",
   "metadata": {},
   "outputs": [
    {
     "data": {
      "text/plain": [
       "array([18, 18, 18, ...,  5, 20, 20])"
      ]
     },
     "execution_count": 84,
     "metadata": {},
     "output_type": "execute_result"
    }
   ],
   "source": [
    "y"
   ]
  },
  {
   "cell_type": "code",
   "execution_count": 85,
   "id": "6363f7cf-10b7-4c69-84f7-3a98abaf839c",
   "metadata": {},
   "outputs": [],
   "source": [
    "X = df2['desc']"
   ]
  },
  {
   "cell_type": "code",
   "execution_count": 89,
   "id": "68ebff6b-7237-45ae-b114-163ec22a49c2",
   "metadata": {},
   "outputs": [],
   "source": [
    "# 데이터를 학습용과 검증용으로 나누기\n",
    "from sklearn.model_selection import train_test_split\n",
    "X_train, X_test, y_train, y_test = train_test_split(X, y, test_size=0.3, random_state=42,shuffle=True)"
   ]
  },
  {
   "cell_type": "code",
   "execution_count": 90,
   "id": "6bc6260a-66a4-4985-b1ea-30c24a20799d",
   "metadata": {},
   "outputs": [],
   "source": [
    "# 딥러닝 모델을 만들기 위해 categorical 함수 사용\n",
    "from tensorflow.keras.utils import to_categorical\n",
    "y_train_categorical = to_categorical(y_train, num_classes=61)\n",
    "y_test_categorical = to_categorical(y_test, num_classes=61)"
   ]
  },
  {
   "cell_type": "code",
   "execution_count": 93,
   "id": "314af654-50da-43a2-840e-1670359143ae",
   "metadata": {},
   "outputs": [
    {
     "data": {
      "text/plain": [
       "10862     O-RING, 1AG45.0 PORT RELIEF ENGINEERING CO.,LTD.\n",
       "2088     SEAL..O-RING-CLAMP PLATE TO PIPE FLANGE MATSUI...\n",
       "14882                                   BUSHING K.TH MARCO\n",
       "981                     MCKISSICK 419 SNATCH BLOCK (주)고려기업\n",
       "6473           CLIP, HOSE PORT RELIEF ENGINEERING CO.,LTD.\n",
       "                               ...                        \n",
       "11284         STUD M10X75 PORT RELIEF ENGINEERING CO.,LTD.\n",
       "11964             SENSOR GP-PRESS HAEIN Coporation_Cheonan\n",
       "5390                           #2 COMPRESSION RING (주)우림공사\n",
       "860                                  DIVIDER PLATE (주)선진종합\n",
       "15795                PLATE-SPACER HAEIN Coporation_Cheonan\n",
       "Name: desc, Length: 14361, dtype: object"
      ]
     },
     "execution_count": 93,
     "metadata": {},
     "output_type": "execute_result"
    }
   ],
   "source": [
    "X_train"
   ]
  },
  {
   "cell_type": "code",
   "execution_count": 97,
   "id": "01d37408-0713-41d5-aa26-0bfc01826a6f",
   "metadata": {},
   "outputs": [],
   "source": [
    "# train set\n",
    "train_features = X_train.values\n",
    "train_labels = y_train_categorical\n",
    "# features= {\n",
    "#    'desc': X_train.values,\n",
    "# }\n",
    "# labels = y_train_categorical\n",
    "\n",
    "# tf.data.Dataset 생성\n",
    "train_dataset = tf.data.Dataset.from_tensor_slices((train_features, train_labels))"
   ]
  },
  {
   "cell_type": "code",
   "execution_count": 98,
   "id": "0bcc55fd-b8e8-42f4-a3ac-6f63b896b9a9",
   "metadata": {},
   "outputs": [
    {
     "name": "stdout",
     "output_type": "stream",
     "text": [
      "Epoch 1/10\n",
      "WARNING:tensorflow:Model was constructed with shape (None,) for input KerasTensor(type_spec=TensorSpec(shape=(None,), dtype=tf.int64, name='desc'), name='desc', description=\"created by layer 'desc'\"), but it was called on an input with incompatible shape ().\n"
     ]
    },
    {
     "ename": "ValueError",
     "evalue": "in user code:\n\n    File \"D:\\ShipSupplies\\DA\\venv\\lib\\site-packages\\keras\\engine\\training.py\", line 1160, in train_function  *\n        return step_function(self, iterator)\n    File \"D:\\ShipSupplies\\DA\\venv\\lib\\site-packages\\keras\\engine\\training.py\", line 1146, in step_function  **\n        outputs = model.distribute_strategy.run(run_step, args=(data,))\n    File \"D:\\ShipSupplies\\DA\\venv\\lib\\site-packages\\keras\\engine\\training.py\", line 1135, in run_step  **\n        outputs = model.train_step(data)\n    File \"D:\\ShipSupplies\\DA\\venv\\lib\\site-packages\\keras\\engine\\training.py\", line 993, in train_step\n        y_pred = self(x, training=True)\n    File \"D:\\ShipSupplies\\DA\\venv\\lib\\site-packages\\keras\\utils\\traceback_utils.py\", line 70, in error_handler\n        raise e.with_traceback(filtered_tb) from None\n    File \"D:\\ShipSupplies\\DA\\venv\\lib\\site-packages\\keras\\engine\\input_spec.py\", line 250, in assert_input_compatibility\n        raise ValueError(\n\n    ValueError: Exception encountered when calling layer \"model_10\" \"                 f\"(type Functional).\n    \n    Input 0 of layer \"dense_12\" is incompatible with the layer: expected min_ndim=2, found ndim=1. Full shape received: (30,)\n    \n    Call arguments received by layer \"model_10\" \"                 f\"(type Functional):\n      • inputs=tf.Tensor(shape=(), dtype=string)\n      • training=True\n      • mask=None\n",
     "output_type": "error",
     "traceback": [
      "\u001b[1;31m---------------------------------------------------------------------------\u001b[0m",
      "\u001b[1;31mValueError\u001b[0m                                Traceback (most recent call last)",
      "Cell \u001b[1;32mIn[98], line 1\u001b[0m\n\u001b[1;32m----> 1\u001b[0m \u001b[43mmodel2\u001b[49m\u001b[38;5;241;43m.\u001b[39;49m\u001b[43mfit\u001b[49m\u001b[43m(\u001b[49m\u001b[43mtrain_dataset\u001b[49m\u001b[43m,\u001b[49m\u001b[43m \u001b[49m\u001b[43mepochs\u001b[49m\u001b[38;5;241;43m=\u001b[39;49m\u001b[38;5;241;43m10\u001b[39;49m\u001b[43m,\u001b[49m\u001b[43m \u001b[49m\u001b[43mbatch_size\u001b[49m\u001b[38;5;241;43m=\u001b[39;49m\u001b[38;5;241;43m32\u001b[39;49m\u001b[43m)\u001b[49m\n",
      "File \u001b[1;32mD:\\ShipSupplies\\DA\\venv\\lib\\site-packages\\keras\\utils\\traceback_utils.py:70\u001b[0m, in \u001b[0;36mfilter_traceback.<locals>.error_handler\u001b[1;34m(*args, **kwargs)\u001b[0m\n\u001b[0;32m     67\u001b[0m     filtered_tb \u001b[38;5;241m=\u001b[39m _process_traceback_frames(e\u001b[38;5;241m.\u001b[39m__traceback__)\n\u001b[0;32m     68\u001b[0m     \u001b[38;5;66;03m# To get the full stack trace, call:\u001b[39;00m\n\u001b[0;32m     69\u001b[0m     \u001b[38;5;66;03m# `tf.debugging.disable_traceback_filtering()`\u001b[39;00m\n\u001b[1;32m---> 70\u001b[0m     \u001b[38;5;28;01mraise\u001b[39;00m e\u001b[38;5;241m.\u001b[39mwith_traceback(filtered_tb) \u001b[38;5;28;01mfrom\u001b[39;00m \u001b[38;5;28;01mNone\u001b[39;00m\n\u001b[0;32m     71\u001b[0m \u001b[38;5;28;01mfinally\u001b[39;00m:\n\u001b[0;32m     72\u001b[0m     \u001b[38;5;28;01mdel\u001b[39;00m filtered_tb\n",
      "File \u001b[1;32m~\\AppData\\Local\\Temp\\__autograph_generated_fileuvln54xb.py:15\u001b[0m, in \u001b[0;36mouter_factory.<locals>.inner_factory.<locals>.tf__train_function\u001b[1;34m(iterator)\u001b[0m\n\u001b[0;32m     13\u001b[0m \u001b[38;5;28;01mtry\u001b[39;00m:\n\u001b[0;32m     14\u001b[0m     do_return \u001b[38;5;241m=\u001b[39m \u001b[38;5;28;01mTrue\u001b[39;00m\n\u001b[1;32m---> 15\u001b[0m     retval_ \u001b[38;5;241m=\u001b[39m ag__\u001b[38;5;241m.\u001b[39mconverted_call(ag__\u001b[38;5;241m.\u001b[39mld(step_function), (ag__\u001b[38;5;241m.\u001b[39mld(\u001b[38;5;28mself\u001b[39m), ag__\u001b[38;5;241m.\u001b[39mld(iterator)), \u001b[38;5;28;01mNone\u001b[39;00m, fscope)\n\u001b[0;32m     16\u001b[0m \u001b[38;5;28;01mexcept\u001b[39;00m:\n\u001b[0;32m     17\u001b[0m     do_return \u001b[38;5;241m=\u001b[39m \u001b[38;5;28;01mFalse\u001b[39;00m\n",
      "\u001b[1;31mValueError\u001b[0m: in user code:\n\n    File \"D:\\ShipSupplies\\DA\\venv\\lib\\site-packages\\keras\\engine\\training.py\", line 1160, in train_function  *\n        return step_function(self, iterator)\n    File \"D:\\ShipSupplies\\DA\\venv\\lib\\site-packages\\keras\\engine\\training.py\", line 1146, in step_function  **\n        outputs = model.distribute_strategy.run(run_step, args=(data,))\n    File \"D:\\ShipSupplies\\DA\\venv\\lib\\site-packages\\keras\\engine\\training.py\", line 1135, in run_step  **\n        outputs = model.train_step(data)\n    File \"D:\\ShipSupplies\\DA\\venv\\lib\\site-packages\\keras\\engine\\training.py\", line 993, in train_step\n        y_pred = self(x, training=True)\n    File \"D:\\ShipSupplies\\DA\\venv\\lib\\site-packages\\keras\\utils\\traceback_utils.py\", line 70, in error_handler\n        raise e.with_traceback(filtered_tb) from None\n    File \"D:\\ShipSupplies\\DA\\venv\\lib\\site-packages\\keras\\engine\\input_spec.py\", line 250, in assert_input_compatibility\n        raise ValueError(\n\n    ValueError: Exception encountered when calling layer \"model_10\" \"                 f\"(type Functional).\n    \n    Input 0 of layer \"dense_12\" is incompatible with the layer: expected min_ndim=2, found ndim=1. Full shape received: (30,)\n    \n    Call arguments received by layer \"model_10\" \"                 f\"(type Functional):\n      • inputs=tf.Tensor(shape=(), dtype=string)\n      • training=True\n      • mask=None\n"
     ]
    }
   ],
   "source": [
    "model2.fit(train_dataset, epochs=10, batch_size=32)"
   ]
  },
  {
   "cell_type": "code",
   "execution_count": 95,
   "id": "bd5d794f-94fb-4e44-9f39-552e2400436d",
   "metadata": {},
   "outputs": [],
   "source": [
    "# test set\n",
    "predict_features = {\n",
    "   'desc': X_test.values,\n",
    "}"
   ]
  },
  {
   "cell_type": "code",
   "execution_count": 96,
   "id": "47b0471f-0973-4408-b9da-6f0840f59ff6",
   "metadata": {},
   "outputs": [
    {
     "ename": "NameError",
     "evalue": "in user code:\n\n    File \"C:\\Users\\SW\\AppData\\Local\\Temp\\ipykernel_5500\\1429949455.py\", line 3, in None  *\n        lambda x, y: (preprocessing_model(x), y)\n\n    NameError: name 'preprocessing_model' is not defined\n",
     "output_type": "error",
     "traceback": [
      "\u001b[1;31m---------------------------------------------------------------------------\u001b[0m",
      "\u001b[1;31mNameError\u001b[0m                                 Traceback (most recent call last)",
      "Cell \u001b[1;32mIn[96], line 3\u001b[0m\n\u001b[0;32m      1\u001b[0m \u001b[38;5;66;03m# Apply the preprocessing in tf.data.Dataset.map.\u001b[39;00m\n\u001b[0;32m      2\u001b[0m dataset \u001b[38;5;241m=\u001b[39m tf\u001b[38;5;241m.\u001b[39mdata\u001b[38;5;241m.\u001b[39mDataset\u001b[38;5;241m.\u001b[39mfrom_tensor_slices((features, labels))\u001b[38;5;241m.\u001b[39mbatch(\u001b[38;5;241m1\u001b[39m)\n\u001b[1;32m----> 3\u001b[0m dataset \u001b[38;5;241m=\u001b[39m \u001b[43mdataset\u001b[49m\u001b[38;5;241;43m.\u001b[39;49m\u001b[43mmap\u001b[49m\u001b[43m(\u001b[49m\u001b[38;5;28;43;01mlambda\u001b[39;49;00m\u001b[43m \u001b[49m\u001b[43mx\u001b[49m\u001b[43m,\u001b[49m\u001b[43m \u001b[49m\u001b[43my\u001b[49m\u001b[43m:\u001b[49m\u001b[43m \u001b[49m\u001b[43m(\u001b[49m\u001b[43mpreprocessing_model\u001b[49m\u001b[43m(\u001b[49m\u001b[43mx\u001b[49m\u001b[43m)\u001b[49m\u001b[43m,\u001b[49m\u001b[43m \u001b[49m\u001b[43my\u001b[49m\u001b[43m)\u001b[49m\u001b[43m,\u001b[49m\n\u001b[0;32m      4\u001b[0m \u001b[43m                      \u001b[49m\u001b[43mnum_parallel_calls\u001b[49m\u001b[38;5;241;43m=\u001b[39;49m\u001b[43mtf\u001b[49m\u001b[38;5;241;43m.\u001b[39;49m\u001b[43mdata\u001b[49m\u001b[38;5;241;43m.\u001b[39;49m\u001b[43mAUTOTUNE\u001b[49m\u001b[43m)\u001b[49m\n\u001b[0;32m      5\u001b[0m \u001b[38;5;66;03m# Display a preprocessed input sample.\u001b[39;00m\n\u001b[0;32m      6\u001b[0m \u001b[38;5;28mnext\u001b[39m(dataset\u001b[38;5;241m.\u001b[39mtake(\u001b[38;5;241m1\u001b[39m)\u001b[38;5;241m.\u001b[39mas_numpy_iterator())\n",
      "File \u001b[1;32mD:\\ShipSupplies\\DA\\venv\\lib\\site-packages\\tensorflow\\python\\data\\ops\\dataset_ops.py:2204\u001b[0m, in \u001b[0;36mDatasetV2.map\u001b[1;34m(self, map_func, num_parallel_calls, deterministic, name)\u001b[0m\n\u001b[0;32m   2202\u001b[0m   \u001b[38;5;28;01mreturn\u001b[39;00m MapDataset(\u001b[38;5;28mself\u001b[39m, map_func, preserve_cardinality\u001b[38;5;241m=\u001b[39m\u001b[38;5;28;01mTrue\u001b[39;00m, name\u001b[38;5;241m=\u001b[39mname)\n\u001b[0;32m   2203\u001b[0m \u001b[38;5;28;01melse\u001b[39;00m:\n\u001b[1;32m-> 2204\u001b[0m   \u001b[38;5;28;01mreturn\u001b[39;00m \u001b[43mParallelMapDataset\u001b[49m\u001b[43m(\u001b[49m\n\u001b[0;32m   2205\u001b[0m \u001b[43m      \u001b[49m\u001b[38;5;28;43mself\u001b[39;49m\u001b[43m,\u001b[49m\n\u001b[0;32m   2206\u001b[0m \u001b[43m      \u001b[49m\u001b[43mmap_func\u001b[49m\u001b[43m,\u001b[49m\n\u001b[0;32m   2207\u001b[0m \u001b[43m      \u001b[49m\u001b[43mnum_parallel_calls\u001b[49m\u001b[43m,\u001b[49m\n\u001b[0;32m   2208\u001b[0m \u001b[43m      \u001b[49m\u001b[43mdeterministic\u001b[49m\u001b[43m,\u001b[49m\n\u001b[0;32m   2209\u001b[0m \u001b[43m      \u001b[49m\u001b[43mpreserve_cardinality\u001b[49m\u001b[38;5;241;43m=\u001b[39;49m\u001b[38;5;28;43;01mTrue\u001b[39;49;00m\u001b[43m,\u001b[49m\n\u001b[0;32m   2210\u001b[0m \u001b[43m      \u001b[49m\u001b[43mname\u001b[49m\u001b[38;5;241;43m=\u001b[39;49m\u001b[43mname\u001b[49m\u001b[43m)\u001b[49m\n",
      "File \u001b[1;32mD:\\ShipSupplies\\DA\\venv\\lib\\site-packages\\tensorflow\\python\\data\\ops\\dataset_ops.py:5441\u001b[0m, in \u001b[0;36mParallelMapDataset.__init__\u001b[1;34m(self, input_dataset, map_func, num_parallel_calls, deterministic, use_inter_op_parallelism, preserve_cardinality, use_legacy_function, name)\u001b[0m\n\u001b[0;32m   5439\u001b[0m \u001b[38;5;28mself\u001b[39m\u001b[38;5;241m.\u001b[39m_input_dataset \u001b[38;5;241m=\u001b[39m input_dataset\n\u001b[0;32m   5440\u001b[0m \u001b[38;5;28mself\u001b[39m\u001b[38;5;241m.\u001b[39m_use_inter_op_parallelism \u001b[38;5;241m=\u001b[39m use_inter_op_parallelism\n\u001b[1;32m-> 5441\u001b[0m \u001b[38;5;28mself\u001b[39m\u001b[38;5;241m.\u001b[39m_map_func \u001b[38;5;241m=\u001b[39m \u001b[43mstructured_function\u001b[49m\u001b[38;5;241;43m.\u001b[39;49m\u001b[43mStructuredFunctionWrapper\u001b[49m\u001b[43m(\u001b[49m\n\u001b[0;32m   5442\u001b[0m \u001b[43m    \u001b[49m\u001b[43mmap_func\u001b[49m\u001b[43m,\u001b[49m\n\u001b[0;32m   5443\u001b[0m \u001b[43m    \u001b[49m\u001b[38;5;28;43mself\u001b[39;49m\u001b[38;5;241;43m.\u001b[39;49m\u001b[43m_transformation_name\u001b[49m\u001b[43m(\u001b[49m\u001b[43m)\u001b[49m\u001b[43m,\u001b[49m\n\u001b[0;32m   5444\u001b[0m \u001b[43m    \u001b[49m\u001b[43mdataset\u001b[49m\u001b[38;5;241;43m=\u001b[39;49m\u001b[43minput_dataset\u001b[49m\u001b[43m,\u001b[49m\n\u001b[0;32m   5445\u001b[0m \u001b[43m    \u001b[49m\u001b[43muse_legacy_function\u001b[49m\u001b[38;5;241;43m=\u001b[39;49m\u001b[43muse_legacy_function\u001b[49m\u001b[43m)\u001b[49m\n\u001b[0;32m   5446\u001b[0m \u001b[38;5;28;01mif\u001b[39;00m deterministic \u001b[38;5;129;01mis\u001b[39;00m \u001b[38;5;28;01mNone\u001b[39;00m:\n\u001b[0;32m   5447\u001b[0m   \u001b[38;5;28mself\u001b[39m\u001b[38;5;241m.\u001b[39m_deterministic \u001b[38;5;241m=\u001b[39m \u001b[38;5;124m\"\u001b[39m\u001b[38;5;124mdefault\u001b[39m\u001b[38;5;124m\"\u001b[39m\n",
      "File \u001b[1;32mD:\\ShipSupplies\\DA\\venv\\lib\\site-packages\\tensorflow\\python\\data\\ops\\structured_function.py:271\u001b[0m, in \u001b[0;36mStructuredFunctionWrapper.__init__\u001b[1;34m(self, func, transformation_name, dataset, input_classes, input_shapes, input_types, input_structure, add_to_graph, use_legacy_function, defun_kwargs)\u001b[0m\n\u001b[0;32m    264\u001b[0m       warnings\u001b[38;5;241m.\u001b[39mwarn(\n\u001b[0;32m    265\u001b[0m           \u001b[38;5;124m\"\u001b[39m\u001b[38;5;124mEven though the `tf.config.experimental_run_functions_eagerly` \u001b[39m\u001b[38;5;124m\"\u001b[39m\n\u001b[0;32m    266\u001b[0m           \u001b[38;5;124m\"\u001b[39m\u001b[38;5;124moption is set, this option does not apply to tf.data functions. \u001b[39m\u001b[38;5;124m\"\u001b[39m\n\u001b[0;32m    267\u001b[0m           \u001b[38;5;124m\"\u001b[39m\u001b[38;5;124mTo force eager execution of tf.data functions, please use \u001b[39m\u001b[38;5;124m\"\u001b[39m\n\u001b[0;32m    268\u001b[0m           \u001b[38;5;124m\"\u001b[39m\u001b[38;5;124m`tf.data.experimental.enable_debug_mode()`.\u001b[39m\u001b[38;5;124m\"\u001b[39m)\n\u001b[0;32m    269\u001b[0m     fn_factory \u001b[38;5;241m=\u001b[39m trace_tf_function(defun_kwargs)\n\u001b[1;32m--> 271\u001b[0m \u001b[38;5;28mself\u001b[39m\u001b[38;5;241m.\u001b[39m_function \u001b[38;5;241m=\u001b[39m \u001b[43mfn_factory\u001b[49m\u001b[43m(\u001b[49m\u001b[43m)\u001b[49m\n\u001b[0;32m    272\u001b[0m \u001b[38;5;66;03m# There is no graph to add in eager mode.\u001b[39;00m\n\u001b[0;32m    273\u001b[0m add_to_graph \u001b[38;5;241m&\u001b[39m\u001b[38;5;241m=\u001b[39m \u001b[38;5;129;01mnot\u001b[39;00m context\u001b[38;5;241m.\u001b[39mexecuting_eagerly()\n",
      "File \u001b[1;32mD:\\ShipSupplies\\DA\\venv\\lib\\site-packages\\tensorflow\\python\\eager\\function.py:2610\u001b[0m, in \u001b[0;36mFunction.get_concrete_function\u001b[1;34m(self, *args, **kwargs)\u001b[0m\n\u001b[0;32m   2601\u001b[0m \u001b[38;5;28;01mdef\u001b[39;00m \u001b[38;5;21mget_concrete_function\u001b[39m(\u001b[38;5;28mself\u001b[39m, \u001b[38;5;241m*\u001b[39margs, \u001b[38;5;241m*\u001b[39m\u001b[38;5;241m*\u001b[39mkwargs):\n\u001b[0;32m   2602\u001b[0m \u001b[38;5;250m  \u001b[39m\u001b[38;5;124;03m\"\"\"Returns a `ConcreteFunction` specialized to inputs and execution context.\u001b[39;00m\n\u001b[0;32m   2603\u001b[0m \n\u001b[0;32m   2604\u001b[0m \u001b[38;5;124;03m  Args:\u001b[39;00m\n\u001b[1;32m   (...)\u001b[0m\n\u001b[0;32m   2608\u001b[0m \u001b[38;5;124;03m       or `tf.Tensor` or `tf.TensorSpec`.\u001b[39;00m\n\u001b[0;32m   2609\u001b[0m \u001b[38;5;124;03m  \"\"\"\u001b[39;00m\n\u001b[1;32m-> 2610\u001b[0m   graph_function \u001b[38;5;241m=\u001b[39m \u001b[38;5;28mself\u001b[39m\u001b[38;5;241m.\u001b[39m_get_concrete_function_garbage_collected(\n\u001b[0;32m   2611\u001b[0m       \u001b[38;5;241m*\u001b[39margs, \u001b[38;5;241m*\u001b[39m\u001b[38;5;241m*\u001b[39mkwargs)\n\u001b[0;32m   2612\u001b[0m   graph_function\u001b[38;5;241m.\u001b[39m_garbage_collector\u001b[38;5;241m.\u001b[39mrelease()  \u001b[38;5;66;03m# pylint: disable=protected-access\u001b[39;00m\n\u001b[0;32m   2613\u001b[0m   \u001b[38;5;28;01mreturn\u001b[39;00m graph_function\n",
      "File \u001b[1;32mD:\\ShipSupplies\\DA\\venv\\lib\\site-packages\\tensorflow\\python\\eager\\function.py:2576\u001b[0m, in \u001b[0;36mFunction._get_concrete_function_garbage_collected\u001b[1;34m(self, *args, **kwargs)\u001b[0m\n\u001b[0;32m   2574\u001b[0m   args, kwargs \u001b[38;5;241m=\u001b[39m \u001b[38;5;28;01mNone\u001b[39;00m, \u001b[38;5;28;01mNone\u001b[39;00m\n\u001b[0;32m   2575\u001b[0m \u001b[38;5;28;01mwith\u001b[39;00m \u001b[38;5;28mself\u001b[39m\u001b[38;5;241m.\u001b[39m_lock:\n\u001b[1;32m-> 2576\u001b[0m   graph_function, _ \u001b[38;5;241m=\u001b[39m \u001b[38;5;28;43mself\u001b[39;49m\u001b[38;5;241;43m.\u001b[39;49m\u001b[43m_maybe_define_function\u001b[49m\u001b[43m(\u001b[49m\u001b[43margs\u001b[49m\u001b[43m,\u001b[49m\u001b[43m \u001b[49m\u001b[43mkwargs\u001b[49m\u001b[43m)\u001b[49m\n\u001b[0;32m   2577\u001b[0m   seen_names \u001b[38;5;241m=\u001b[39m \u001b[38;5;28mset\u001b[39m()\n\u001b[0;32m   2578\u001b[0m   captured \u001b[38;5;241m=\u001b[39m object_identity\u001b[38;5;241m.\u001b[39mObjectIdentitySet(\n\u001b[0;32m   2579\u001b[0m       graph_function\u001b[38;5;241m.\u001b[39mgraph\u001b[38;5;241m.\u001b[39minternal_captures)\n",
      "File \u001b[1;32mD:\\ShipSupplies\\DA\\venv\\lib\\site-packages\\tensorflow\\python\\eager\\function.py:2760\u001b[0m, in \u001b[0;36mFunction._maybe_define_function\u001b[1;34m(self, args, kwargs)\u001b[0m\n\u001b[0;32m   2758\u001b[0m   \u001b[38;5;66;03m# Only get placeholders for arguments, not captures\u001b[39;00m\n\u001b[0;32m   2759\u001b[0m   args, kwargs \u001b[38;5;241m=\u001b[39m placeholder_dict[\u001b[38;5;124m\"\u001b[39m\u001b[38;5;124margs\u001b[39m\u001b[38;5;124m\"\u001b[39m]\n\u001b[1;32m-> 2760\u001b[0m graph_function \u001b[38;5;241m=\u001b[39m \u001b[38;5;28;43mself\u001b[39;49m\u001b[38;5;241;43m.\u001b[39;49m\u001b[43m_create_graph_function\u001b[49m\u001b[43m(\u001b[49m\u001b[43margs\u001b[49m\u001b[43m,\u001b[49m\u001b[43m \u001b[49m\u001b[43mkwargs\u001b[49m\u001b[43m)\u001b[49m\n\u001b[0;32m   2762\u001b[0m graph_capture_container \u001b[38;5;241m=\u001b[39m graph_function\u001b[38;5;241m.\u001b[39mgraph\u001b[38;5;241m.\u001b[39m_capture_func_lib  \u001b[38;5;66;03m# pylint: disable=protected-access\u001b[39;00m\n\u001b[0;32m   2763\u001b[0m \u001b[38;5;66;03m# Maintain the list of all captures\u001b[39;00m\n",
      "File \u001b[1;32mD:\\ShipSupplies\\DA\\venv\\lib\\site-packages\\tensorflow\\python\\eager\\function.py:2670\u001b[0m, in \u001b[0;36mFunction._create_graph_function\u001b[1;34m(self, args, kwargs)\u001b[0m\n\u001b[0;32m   2665\u001b[0m missing_arg_names \u001b[38;5;241m=\u001b[39m [\n\u001b[0;32m   2666\u001b[0m     \u001b[38;5;124m\"\u001b[39m\u001b[38;5;132;01m%s\u001b[39;00m\u001b[38;5;124m_\u001b[39m\u001b[38;5;132;01m%d\u001b[39;00m\u001b[38;5;124m\"\u001b[39m \u001b[38;5;241m%\u001b[39m (arg, i) \u001b[38;5;28;01mfor\u001b[39;00m i, arg \u001b[38;5;129;01min\u001b[39;00m \u001b[38;5;28menumerate\u001b[39m(missing_arg_names)\n\u001b[0;32m   2667\u001b[0m ]\n\u001b[0;32m   2668\u001b[0m arg_names \u001b[38;5;241m=\u001b[39m base_arg_names \u001b[38;5;241m+\u001b[39m missing_arg_names\n\u001b[0;32m   2669\u001b[0m graph_function \u001b[38;5;241m=\u001b[39m ConcreteFunction(\n\u001b[1;32m-> 2670\u001b[0m     \u001b[43mfunc_graph_module\u001b[49m\u001b[38;5;241;43m.\u001b[39;49m\u001b[43mfunc_graph_from_py_func\u001b[49m\u001b[43m(\u001b[49m\n\u001b[0;32m   2671\u001b[0m \u001b[43m        \u001b[49m\u001b[38;5;28;43mself\u001b[39;49m\u001b[38;5;241;43m.\u001b[39;49m\u001b[43m_name\u001b[49m\u001b[43m,\u001b[49m\n\u001b[0;32m   2672\u001b[0m \u001b[43m        \u001b[49m\u001b[38;5;28;43mself\u001b[39;49m\u001b[38;5;241;43m.\u001b[39;49m\u001b[43m_python_function\u001b[49m\u001b[43m,\u001b[49m\n\u001b[0;32m   2673\u001b[0m \u001b[43m        \u001b[49m\u001b[43margs\u001b[49m\u001b[43m,\u001b[49m\n\u001b[0;32m   2674\u001b[0m \u001b[43m        \u001b[49m\u001b[43mkwargs\u001b[49m\u001b[43m,\u001b[49m\n\u001b[0;32m   2675\u001b[0m \u001b[43m        \u001b[49m\u001b[38;5;28;43mself\u001b[39;49m\u001b[38;5;241;43m.\u001b[39;49m\u001b[43minput_signature\u001b[49m\u001b[43m,\u001b[49m\n\u001b[0;32m   2676\u001b[0m \u001b[43m        \u001b[49m\u001b[43mautograph\u001b[49m\u001b[38;5;241;43m=\u001b[39;49m\u001b[38;5;28;43mself\u001b[39;49m\u001b[38;5;241;43m.\u001b[39;49m\u001b[43m_autograph\u001b[49m\u001b[43m,\u001b[49m\n\u001b[0;32m   2677\u001b[0m \u001b[43m        \u001b[49m\u001b[43mautograph_options\u001b[49m\u001b[38;5;241;43m=\u001b[39;49m\u001b[38;5;28;43mself\u001b[39;49m\u001b[38;5;241;43m.\u001b[39;49m\u001b[43m_autograph_options\u001b[49m\u001b[43m,\u001b[49m\n\u001b[0;32m   2678\u001b[0m \u001b[43m        \u001b[49m\u001b[43marg_names\u001b[49m\u001b[38;5;241;43m=\u001b[39;49m\u001b[43marg_names\u001b[49m\u001b[43m,\u001b[49m\n\u001b[0;32m   2679\u001b[0m \u001b[43m        \u001b[49m\u001b[43mcapture_by_value\u001b[49m\u001b[38;5;241;43m=\u001b[39;49m\u001b[38;5;28;43mself\u001b[39;49m\u001b[38;5;241;43m.\u001b[39;49m\u001b[43m_capture_by_value\u001b[49m\u001b[43m)\u001b[49m,\n\u001b[0;32m   2680\u001b[0m     \u001b[38;5;28mself\u001b[39m\u001b[38;5;241m.\u001b[39m_function_attributes,\n\u001b[0;32m   2681\u001b[0m     spec\u001b[38;5;241m=\u001b[39m\u001b[38;5;28mself\u001b[39m\u001b[38;5;241m.\u001b[39mfunction_spec,\n\u001b[0;32m   2682\u001b[0m     \u001b[38;5;66;03m# Tell the ConcreteFunction to clean up its graph once it goes out of\u001b[39;00m\n\u001b[0;32m   2683\u001b[0m     \u001b[38;5;66;03m# scope. This is not the default behavior since it gets used in some\u001b[39;00m\n\u001b[0;32m   2684\u001b[0m     \u001b[38;5;66;03m# places (like Keras) where the FuncGraph lives longer than the\u001b[39;00m\n\u001b[0;32m   2685\u001b[0m     \u001b[38;5;66;03m# ConcreteFunction.\u001b[39;00m\n\u001b[0;32m   2686\u001b[0m     shared_func_graph\u001b[38;5;241m=\u001b[39m\u001b[38;5;28;01mFalse\u001b[39;00m)\n\u001b[0;32m   2687\u001b[0m \u001b[38;5;28;01mreturn\u001b[39;00m graph_function\n",
      "File \u001b[1;32mD:\\ShipSupplies\\DA\\venv\\lib\\site-packages\\tensorflow\\python\\framework\\func_graph.py:1247\u001b[0m, in \u001b[0;36mfunc_graph_from_py_func\u001b[1;34m(name, python_func, args, kwargs, signature, func_graph, autograph, autograph_options, add_control_dependencies, arg_names, op_return_value, collections, capture_by_value, acd_record_initial_resource_uses)\u001b[0m\n\u001b[0;32m   1244\u001b[0m \u001b[38;5;28;01melse\u001b[39;00m:\n\u001b[0;32m   1245\u001b[0m   _, original_func \u001b[38;5;241m=\u001b[39m tf_decorator\u001b[38;5;241m.\u001b[39munwrap(python_func)\n\u001b[1;32m-> 1247\u001b[0m func_outputs \u001b[38;5;241m=\u001b[39m python_func(\u001b[38;5;241m*\u001b[39mfunc_args, \u001b[38;5;241m*\u001b[39m\u001b[38;5;241m*\u001b[39mfunc_kwargs)\n\u001b[0;32m   1249\u001b[0m \u001b[38;5;66;03m# invariant: `func_outputs` contains only Tensors, CompositeTensors,\u001b[39;00m\n\u001b[0;32m   1250\u001b[0m \u001b[38;5;66;03m# TensorArrays and `None`s.\u001b[39;00m\n\u001b[0;32m   1251\u001b[0m func_outputs \u001b[38;5;241m=\u001b[39m nest\u001b[38;5;241m.\u001b[39mmap_structure(\n\u001b[0;32m   1252\u001b[0m     convert, func_outputs, expand_composites\u001b[38;5;241m=\u001b[39m\u001b[38;5;28;01mTrue\u001b[39;00m)\n",
      "File \u001b[1;32mD:\\ShipSupplies\\DA\\venv\\lib\\site-packages\\tensorflow\\python\\data\\ops\\structured_function.py:248\u001b[0m, in \u001b[0;36mStructuredFunctionWrapper.__init__.<locals>.trace_tf_function.<locals>.wrapped_fn\u001b[1;34m(*args)\u001b[0m\n\u001b[0;32m    242\u001b[0m \u001b[38;5;129m@eager_function\u001b[39m\u001b[38;5;241m.\u001b[39mdefun_with_attributes(\n\u001b[0;32m    243\u001b[0m     input_signature\u001b[38;5;241m=\u001b[39mstructure\u001b[38;5;241m.\u001b[39mget_flat_tensor_specs(\n\u001b[0;32m    244\u001b[0m         \u001b[38;5;28mself\u001b[39m\u001b[38;5;241m.\u001b[39m_input_structure),\n\u001b[0;32m    245\u001b[0m     autograph\u001b[38;5;241m=\u001b[39m\u001b[38;5;28;01mFalse\u001b[39;00m,\n\u001b[0;32m    246\u001b[0m     attributes\u001b[38;5;241m=\u001b[39mdefun_kwargs)\n\u001b[0;32m    247\u001b[0m \u001b[38;5;28;01mdef\u001b[39;00m \u001b[38;5;21mwrapped_fn\u001b[39m(\u001b[38;5;241m*\u001b[39margs):  \u001b[38;5;66;03m# pylint: disable=missing-docstring\u001b[39;00m\n\u001b[1;32m--> 248\u001b[0m   ret \u001b[38;5;241m=\u001b[39m \u001b[43mwrapper_helper\u001b[49m\u001b[43m(\u001b[49m\u001b[38;5;241;43m*\u001b[39;49m\u001b[43margs\u001b[49m\u001b[43m)\u001b[49m\n\u001b[0;32m    249\u001b[0m   ret \u001b[38;5;241m=\u001b[39m structure\u001b[38;5;241m.\u001b[39mto_tensor_list(\u001b[38;5;28mself\u001b[39m\u001b[38;5;241m.\u001b[39m_output_structure, ret)\n\u001b[0;32m    250\u001b[0m   \u001b[38;5;28;01mreturn\u001b[39;00m [ops\u001b[38;5;241m.\u001b[39mconvert_to_tensor(t) \u001b[38;5;28;01mfor\u001b[39;00m t \u001b[38;5;129;01min\u001b[39;00m ret]\n",
      "File \u001b[1;32mD:\\ShipSupplies\\DA\\venv\\lib\\site-packages\\tensorflow\\python\\data\\ops\\structured_function.py:177\u001b[0m, in \u001b[0;36mStructuredFunctionWrapper.__init__.<locals>.wrapper_helper\u001b[1;34m(*args)\u001b[0m\n\u001b[0;32m    175\u001b[0m \u001b[38;5;28;01mif\u001b[39;00m \u001b[38;5;129;01mnot\u001b[39;00m _should_unpack(nested_args):\n\u001b[0;32m    176\u001b[0m   nested_args \u001b[38;5;241m=\u001b[39m (nested_args,)\n\u001b[1;32m--> 177\u001b[0m ret \u001b[38;5;241m=\u001b[39m \u001b[43mautograph\u001b[49m\u001b[38;5;241;43m.\u001b[39;49m\u001b[43mtf_convert\u001b[49m\u001b[43m(\u001b[49m\u001b[38;5;28;43mself\u001b[39;49m\u001b[38;5;241;43m.\u001b[39;49m\u001b[43m_func\u001b[49m\u001b[43m,\u001b[49m\u001b[43m \u001b[49m\u001b[43mag_ctx\u001b[49m\u001b[43m)\u001b[49m\u001b[43m(\u001b[49m\u001b[38;5;241;43m*\u001b[39;49m\u001b[43mnested_args\u001b[49m\u001b[43m)\u001b[49m\n\u001b[0;32m    178\u001b[0m \u001b[38;5;28;01mif\u001b[39;00m _should_pack(ret):\n\u001b[0;32m    179\u001b[0m   ret \u001b[38;5;241m=\u001b[39m \u001b[38;5;28mtuple\u001b[39m(ret)\n",
      "File \u001b[1;32mD:\\ShipSupplies\\DA\\venv\\lib\\site-packages\\tensorflow\\python\\autograph\\impl\\api.py:692\u001b[0m, in \u001b[0;36mconvert.<locals>.decorator.<locals>.wrapper\u001b[1;34m(*args, **kwargs)\u001b[0m\n\u001b[0;32m    690\u001b[0m \u001b[38;5;28;01mexcept\u001b[39;00m \u001b[38;5;167;01mException\u001b[39;00m \u001b[38;5;28;01mas\u001b[39;00m e:  \u001b[38;5;66;03m# pylint:disable=broad-except\u001b[39;00m\n\u001b[0;32m    691\u001b[0m   \u001b[38;5;28;01mif\u001b[39;00m \u001b[38;5;28mhasattr\u001b[39m(e, \u001b[38;5;124m'\u001b[39m\u001b[38;5;124mag_error_metadata\u001b[39m\u001b[38;5;124m'\u001b[39m):\n\u001b[1;32m--> 692\u001b[0m     \u001b[38;5;28;01mraise\u001b[39;00m e\u001b[38;5;241m.\u001b[39mag_error_metadata\u001b[38;5;241m.\u001b[39mto_exception(e)\n\u001b[0;32m    693\u001b[0m   \u001b[38;5;28;01melse\u001b[39;00m:\n\u001b[0;32m    694\u001b[0m     \u001b[38;5;28;01mraise\u001b[39;00m\n",
      "File \u001b[1;32mD:\\ShipSupplies\\DA\\venv\\lib\\site-packages\\tensorflow\\python\\autograph\\impl\\api.py:689\u001b[0m, in \u001b[0;36mconvert.<locals>.decorator.<locals>.wrapper\u001b[1;34m(*args, **kwargs)\u001b[0m\n\u001b[0;32m    687\u001b[0m \u001b[38;5;28;01mtry\u001b[39;00m:\n\u001b[0;32m    688\u001b[0m   \u001b[38;5;28;01mwith\u001b[39;00m conversion_ctx:\n\u001b[1;32m--> 689\u001b[0m     \u001b[38;5;28;01mreturn\u001b[39;00m \u001b[43mconverted_call\u001b[49m\u001b[43m(\u001b[49m\u001b[43mf\u001b[49m\u001b[43m,\u001b[49m\u001b[43m \u001b[49m\u001b[43margs\u001b[49m\u001b[43m,\u001b[49m\u001b[43m \u001b[49m\u001b[43mkwargs\u001b[49m\u001b[43m,\u001b[49m\u001b[43m \u001b[49m\u001b[43moptions\u001b[49m\u001b[38;5;241;43m=\u001b[39;49m\u001b[43moptions\u001b[49m\u001b[43m)\u001b[49m\n\u001b[0;32m    690\u001b[0m \u001b[38;5;28;01mexcept\u001b[39;00m \u001b[38;5;167;01mException\u001b[39;00m \u001b[38;5;28;01mas\u001b[39;00m e:  \u001b[38;5;66;03m# pylint:disable=broad-except\u001b[39;00m\n\u001b[0;32m    691\u001b[0m   \u001b[38;5;28;01mif\u001b[39;00m \u001b[38;5;28mhasattr\u001b[39m(e, \u001b[38;5;124m'\u001b[39m\u001b[38;5;124mag_error_metadata\u001b[39m\u001b[38;5;124m'\u001b[39m):\n",
      "File \u001b[1;32mD:\\ShipSupplies\\DA\\venv\\lib\\site-packages\\tensorflow\\python\\autograph\\impl\\api.py:439\u001b[0m, in \u001b[0;36mconverted_call\u001b[1;34m(f, args, kwargs, caller_fn_scope, options)\u001b[0m\n\u001b[0;32m    437\u001b[0m \u001b[38;5;28;01mtry\u001b[39;00m:\n\u001b[0;32m    438\u001b[0m   \u001b[38;5;28;01mif\u001b[39;00m kwargs \u001b[38;5;129;01mis\u001b[39;00m \u001b[38;5;129;01mnot\u001b[39;00m \u001b[38;5;28;01mNone\u001b[39;00m:\n\u001b[1;32m--> 439\u001b[0m     result \u001b[38;5;241m=\u001b[39m converted_f(\u001b[38;5;241m*\u001b[39meffective_args, \u001b[38;5;241m*\u001b[39m\u001b[38;5;241m*\u001b[39mkwargs)\n\u001b[0;32m    440\u001b[0m   \u001b[38;5;28;01melse\u001b[39;00m:\n\u001b[0;32m    441\u001b[0m     result \u001b[38;5;241m=\u001b[39m converted_f(\u001b[38;5;241m*\u001b[39meffective_args)\n",
      "File \u001b[1;32m~\\AppData\\Local\\Temp\\__autograph_generated_filer64456kx.py:5\u001b[0m, in \u001b[0;36mouter_factory.<locals>.inner_factory.<locals>.<lambda>\u001b[1;34m(x, y)\u001b[0m\n\u001b[0;32m      4\u001b[0m \u001b[38;5;28;01mdef\u001b[39;00m \u001b[38;5;21minner_factory\u001b[39m(ag__):\n\u001b[1;32m----> 5\u001b[0m     tf__lam \u001b[38;5;241m=\u001b[39m \u001b[38;5;28;01mlambda\u001b[39;00m x, y: \u001b[43mag__\u001b[49m\u001b[38;5;241;43m.\u001b[39;49m\u001b[43mwith_function_scope\u001b[49m\u001b[43m(\u001b[49m\u001b[38;5;28;43;01mlambda\u001b[39;49;00m\u001b[43m \u001b[49m\u001b[43mlscope\u001b[49m\u001b[43m:\u001b[49m\u001b[43m \u001b[49m\u001b[43m(\u001b[49m\u001b[43mag__\u001b[49m\u001b[38;5;241;43m.\u001b[39;49m\u001b[43mconverted_call\u001b[49m\u001b[43m(\u001b[49m\u001b[43mpreprocessing_model\u001b[49m\u001b[43m,\u001b[49m\u001b[43m \u001b[49m\u001b[43m(\u001b[49m\u001b[43mx\u001b[49m\u001b[43m,\u001b[49m\u001b[43m)\u001b[49m\u001b[43m,\u001b[49m\u001b[43m \u001b[49m\u001b[38;5;28;43;01mNone\u001b[39;49;00m\u001b[43m,\u001b[49m\u001b[43m \u001b[49m\u001b[43mlscope\u001b[49m\u001b[43m)\u001b[49m\u001b[43m,\u001b[49m\u001b[43m \u001b[49m\u001b[43my\u001b[49m\u001b[43m)\u001b[49m\u001b[43m,\u001b[49m\u001b[43m \u001b[49m\u001b[38;5;124;43m'\u001b[39;49m\u001b[38;5;124;43mlscope\u001b[39;49m\u001b[38;5;124;43m'\u001b[39;49m\u001b[43m,\u001b[49m\u001b[43m \u001b[49m\u001b[43mag__\u001b[49m\u001b[38;5;241;43m.\u001b[39;49m\u001b[43mSTD\u001b[49m\u001b[43m)\u001b[49m\n\u001b[0;32m      6\u001b[0m     \u001b[38;5;28;01mreturn\u001b[39;00m tf__lam\n",
      "File \u001b[1;32mD:\\ShipSupplies\\DA\\venv\\lib\\site-packages\\tensorflow\\python\\autograph\\core\\function_wrappers.py:113\u001b[0m, in \u001b[0;36mwith_function_scope\u001b[1;34m(thunk, scope_name, options)\u001b[0m\n\u001b[0;32m    111\u001b[0m \u001b[38;5;250m\u001b[39m\u001b[38;5;124;03m\"\"\"Inline version of the FunctionScope context manager.\"\"\"\u001b[39;00m\n\u001b[0;32m    112\u001b[0m \u001b[38;5;28;01mwith\u001b[39;00m FunctionScope(\u001b[38;5;124m'\u001b[39m\u001b[38;5;124mlambda_\u001b[39m\u001b[38;5;124m'\u001b[39m, scope_name, options) \u001b[38;5;28;01mas\u001b[39;00m scope:\n\u001b[1;32m--> 113\u001b[0m   \u001b[38;5;28;01mreturn\u001b[39;00m \u001b[43mthunk\u001b[49m\u001b[43m(\u001b[49m\u001b[43mscope\u001b[49m\u001b[43m)\u001b[49m\n",
      "File \u001b[1;32m~\\AppData\\Local\\Temp\\__autograph_generated_filer64456kx.py:5\u001b[0m, in \u001b[0;36mouter_factory.<locals>.inner_factory.<locals>.<lambda>\u001b[1;34m(lscope)\u001b[0m\n\u001b[0;32m      4\u001b[0m \u001b[38;5;28;01mdef\u001b[39;00m \u001b[38;5;21minner_factory\u001b[39m(ag__):\n\u001b[1;32m----> 5\u001b[0m     tf__lam \u001b[38;5;241m=\u001b[39m \u001b[38;5;28;01mlambda\u001b[39;00m x, y: ag__\u001b[38;5;241m.\u001b[39mwith_function_scope(\u001b[38;5;28;01mlambda\u001b[39;00m lscope: (ag__\u001b[38;5;241m.\u001b[39mconverted_call(\u001b[43mpreprocessing_model\u001b[49m, (x,), \u001b[38;5;28;01mNone\u001b[39;00m, lscope), y), \u001b[38;5;124m'\u001b[39m\u001b[38;5;124mlscope\u001b[39m\u001b[38;5;124m'\u001b[39m, ag__\u001b[38;5;241m.\u001b[39mSTD)\n\u001b[0;32m      6\u001b[0m     \u001b[38;5;28;01mreturn\u001b[39;00m tf__lam\n",
      "\u001b[1;31mNameError\u001b[0m: in user code:\n\n    File \"C:\\Users\\SW\\AppData\\Local\\Temp\\ipykernel_5500\\1429949455.py\", line 3, in None  *\n        lambda x, y: (preprocessing_model(x), y)\n\n    NameError: name 'preprocessing_model' is not defined\n"
     ]
    }
   ],
   "source": [
    "# Apply the preprocessing in tf.data.Dataset.map.\n",
    "dataset = tf.data.Dataset.from_tensor_slices((features, labels)).batch(1)\n",
    "dataset = dataset.map(lambda x, y: (preprocessing_model(x), y),\n",
    "                      num_parallel_calls=tf.data.AUTOTUNE)\n",
    "# Display a preprocessed input sample.\n",
    "next(dataset.take(1).as_numpy_iterator())"
   ]
  },
  {
   "cell_type": "code",
   "execution_count": 79,
   "id": "433af1ea-aa3e-4382-852a-5d892ee62cda",
   "metadata": {},
   "outputs": [
    {
     "data": {
      "text/html": [
       "<div>\n",
       "<style scoped>\n",
       "    .dataframe tbody tr th:only-of-type {\n",
       "        vertical-align: middle;\n",
       "    }\n",
       "\n",
       "    .dataframe tbody tr th {\n",
       "        vertical-align: top;\n",
       "    }\n",
       "\n",
       "    .dataframe thead th {\n",
       "        text-align: right;\n",
       "    }\n",
       "</style>\n",
       "<table border=\"1\" class=\"dataframe\">\n",
       "  <thead>\n",
       "    <tr style=\"text-align: right;\">\n",
       "      <th></th>\n",
       "      <th>origin</th>\n",
       "      <th>split_desc</th>\n",
       "      <th>encode_desc</th>\n",
       "      <th>encode_desc_1000</th>\n",
       "    </tr>\n",
       "  </thead>\n",
       "  <tbody>\n",
       "    <tr>\n",
       "      <th>0</th>\n",
       "      <td>SEAL-O-RING-STOR HAEIN Coporation_Cheonan</td>\n",
       "      <td>[SEAL-O-RING-STOR, HAEIN, Coporation_Cheonan]</td>\n",
       "      <td>[101, 1, 2]</td>\n",
       "      <td>[102, 2, 3]</td>\n",
       "    </tr>\n",
       "    <tr>\n",
       "      <th>1</th>\n",
       "      <td>OIL COOLER &amp; LINES HAEIN Coporation_Cheonan</td>\n",
       "      <td>[OIL, COOLER, &amp;, LINES, HAEIN, Coporation_Cheo...</td>\n",
       "      <td>[16, 99, 63, 126, 1, 2]</td>\n",
       "      <td>[17, 100, 64, 127, 2, 3]</td>\n",
       "    </tr>\n",
       "    <tr>\n",
       "      <th>2</th>\n",
       "      <td>WASHER HAEIN Coporation_Cheonan</td>\n",
       "      <td>[WASHER, HAEIN, Coporation_Cheonan]</td>\n",
       "      <td>[53, 1, 2]</td>\n",
       "      <td>[54, 2, 3]</td>\n",
       "    </tr>\n",
       "    <tr>\n",
       "      <th>3</th>\n",
       "      <td>BOLT-HIGH TEMP HAEIN Coporation_Cheonan</td>\n",
       "      <td>[BOLT-HIGH, TEMP, HAEIN, Coporation_Cheonan]</td>\n",
       "      <td>[309, 182, 1, 2]</td>\n",
       "      <td>[310, 183, 2, 3]</td>\n",
       "    </tr>\n",
       "    <tr>\n",
       "      <th>4</th>\n",
       "      <td>SEAL HAEIN Coporation_Cheonan</td>\n",
       "      <td>[SEAL, HAEIN, Coporation_Cheonan]</td>\n",
       "      <td>[14, 1, 2]</td>\n",
       "      <td>[15, 2, 3]</td>\n",
       "    </tr>\n",
       "    <tr>\n",
       "      <th>5</th>\n",
       "      <td>CORE CHARGES FOR CYLINDER PACK AS HAEIN Copora...</td>\n",
       "      <td>[CORE, CHARGES, FOR, CYLINDER, PACK, AS, HAEIN...</td>\n",
       "      <td>[28, 46, 24, 33, 92, 55, 1, 2]</td>\n",
       "      <td>[29, 47, 25, 34, 93, 56, 2, 3]</td>\n",
       "    </tr>\n",
       "    <tr>\n",
       "      <th>6</th>\n",
       "      <td>PUMP GP-F TFR-REMAN HAEIN Coporation_Cheonan</td>\n",
       "      <td>[PUMP, GP-F, TFR-REMAN, HAEIN, Coporation_Cheo...</td>\n",
       "      <td>[18, 242, 1099, 1, 2]</td>\n",
       "      <td>[19, 243, 1, 2, 3]</td>\n",
       "    </tr>\n",
       "    <tr>\n",
       "      <th>7</th>\n",
       "      <td>GEAR-WTR PUMP DR HAEIN Coporation_Cheonan</td>\n",
       "      <td>[GEAR-WTR, PUMP, DR, HAEIN, Coporation_Cheonan]</td>\n",
       "      <td>[685, 18, 246, 1, 2]</td>\n",
       "      <td>[686, 19, 247, 2, 3]</td>\n",
       "    </tr>\n",
       "    <tr>\n",
       "      <th>8</th>\n",
       "      <td>GEAR-WTR PUMP DR HAEIN Coporation_Cheonan</td>\n",
       "      <td>[GEAR-WTR, PUMP, DR, HAEIN, Coporation_Cheonan]</td>\n",
       "      <td>[685, 18, 246, 1, 2]</td>\n",
       "      <td>[686, 19, 247, 2, 3]</td>\n",
       "    </tr>\n",
       "    <tr>\n",
       "      <th>9</th>\n",
       "      <td>GEAR-WTR PUMP DR HAEIN Coporation_Cheonan</td>\n",
       "      <td>[GEAR-WTR, PUMP, DR, HAEIN, Coporation_Cheonan]</td>\n",
       "      <td>[685, 18, 246, 1, 2]</td>\n",
       "      <td>[686, 19, 247, 2, 3]</td>\n",
       "    </tr>\n",
       "  </tbody>\n",
       "</table>\n",
       "</div>"
      ],
      "text/plain": [
       "                                              origin  \\\n",
       "0          SEAL-O-RING-STOR HAEIN Coporation_Cheonan   \n",
       "1        OIL COOLER & LINES HAEIN Coporation_Cheonan   \n",
       "2                    WASHER HAEIN Coporation_Cheonan   \n",
       "3            BOLT-HIGH TEMP HAEIN Coporation_Cheonan   \n",
       "4                      SEAL HAEIN Coporation_Cheonan   \n",
       "5  CORE CHARGES FOR CYLINDER PACK AS HAEIN Copora...   \n",
       "6       PUMP GP-F TFR-REMAN HAEIN Coporation_Cheonan   \n",
       "7          GEAR-WTR PUMP DR HAEIN Coporation_Cheonan   \n",
       "8          GEAR-WTR PUMP DR HAEIN Coporation_Cheonan   \n",
       "9          GEAR-WTR PUMP DR HAEIN Coporation_Cheonan   \n",
       "\n",
       "                                          split_desc  \\\n",
       "0      [SEAL-O-RING-STOR, HAEIN, Coporation_Cheonan]   \n",
       "1  [OIL, COOLER, &, LINES, HAEIN, Coporation_Cheo...   \n",
       "2                [WASHER, HAEIN, Coporation_Cheonan]   \n",
       "3       [BOLT-HIGH, TEMP, HAEIN, Coporation_Cheonan]   \n",
       "4                  [SEAL, HAEIN, Coporation_Cheonan]   \n",
       "5  [CORE, CHARGES, FOR, CYLINDER, PACK, AS, HAEIN...   \n",
       "6  [PUMP, GP-F, TFR-REMAN, HAEIN, Coporation_Cheo...   \n",
       "7    [GEAR-WTR, PUMP, DR, HAEIN, Coporation_Cheonan]   \n",
       "8    [GEAR-WTR, PUMP, DR, HAEIN, Coporation_Cheonan]   \n",
       "9    [GEAR-WTR, PUMP, DR, HAEIN, Coporation_Cheonan]   \n",
       "\n",
       "                      encode_desc                encode_desc_1000  \n",
       "0                     [101, 1, 2]                     [102, 2, 3]  \n",
       "1         [16, 99, 63, 126, 1, 2]        [17, 100, 64, 127, 2, 3]  \n",
       "2                      [53, 1, 2]                      [54, 2, 3]  \n",
       "3                [309, 182, 1, 2]                [310, 183, 2, 3]  \n",
       "4                      [14, 1, 2]                      [15, 2, 3]  \n",
       "5  [28, 46, 24, 33, 92, 55, 1, 2]  [29, 47, 25, 34, 93, 56, 2, 3]  \n",
       "6           [18, 242, 1099, 1, 2]              [19, 243, 1, 2, 3]  \n",
       "7            [685, 18, 246, 1, 2]            [686, 19, 247, 2, 3]  \n",
       "8            [685, 18, 246, 1, 2]            [686, 19, 247, 2, 3]  \n",
       "9            [685, 18, 246, 1, 2]            [686, 19, 247, 2, 3]  "
      ]
     },
     "execution_count": 79,
     "metadata": {},
     "output_type": "execute_result"
    }
   ],
   "source": [
    "pre_desc.head(10)"
   ]
  },
  {
   "cell_type": "code",
   "execution_count": null,
   "id": "9cb6ada9-ea53-45a0-8c19-7b6c638a045f",
   "metadata": {},
   "outputs": [],
   "source": [
    "# 입력 데이터와 레이블 데이터 준비\n",
    "train_features = ...\n",
    "train_labels = ...\n",
    "\n",
    "# tf.data.Dataset 생성\n",
    "train_dataset = tf.data.Dataset.from_tensor_slices((train_features, train_labels))"
   ]
  },
  {
   "cell_type": "code",
   "execution_count": null,
   "id": "9926aa45-b298-4d3b-96e6-06bc02e7f96b",
   "metadata": {},
   "outputs": [],
   "source": []
  },
  {
   "cell_type": "code",
   "execution_count": null,
   "id": "95cca908-a5f4-4c0a-bf66-8a7019cbe616",
   "metadata": {},
   "outputs": [],
   "source": []
  },
  {
   "cell_type": "code",
   "execution_count": null,
   "id": "2fa62fe2-a215-4f68-8d8e-4f9313a23f3d",
   "metadata": {},
   "outputs": [],
   "source": []
  },
  {
   "cell_type": "code",
   "execution_count": null,
   "id": "10a09bf7-115d-4f6b-9a3c-29c6b6d0dda4",
   "metadata": {},
   "outputs": [],
   "source": []
  },
  {
   "cell_type": "code",
   "execution_count": null,
   "id": "7e1d1c36-4908-4870-86ae-370b906c5ba5",
   "metadata": {},
   "outputs": [],
   "source": []
  },
  {
   "cell_type": "code",
   "execution_count": null,
   "id": "02ecbc09-49c2-47eb-b8ab-21e25505c184",
   "metadata": {},
   "outputs": [],
   "source": []
  },
  {
   "cell_type": "code",
   "execution_count": 32,
   "id": "3fbd4ff7-9416-48fc-9eed-89b8dc373bbd",
   "metadata": {},
   "outputs": [
    {
     "data": {
      "text/html": [
       "<div>\n",
       "<style scoped>\n",
       "    .dataframe tbody tr th:only-of-type {\n",
       "        vertical-align: middle;\n",
       "    }\n",
       "\n",
       "    .dataframe tbody tr th {\n",
       "        vertical-align: top;\n",
       "    }\n",
       "\n",
       "    .dataframe thead th {\n",
       "        text-align: right;\n",
       "    }\n",
       "</style>\n",
       "<table border=\"1\" class=\"dataframe\">\n",
       "  <thead>\n",
       "    <tr style=\"text-align: right;\">\n",
       "      <th></th>\n",
       "      <th>청구품목</th>\n",
       "      <th>발주처</th>\n",
       "      <th>key2_encoded</th>\n",
       "    </tr>\n",
       "  </thead>\n",
       "  <tbody>\n",
       "    <tr>\n",
       "      <th>0</th>\n",
       "      <td>SEAL-O-RING-STOR</td>\n",
       "      <td>HAEIN Coporation_Cheonan</td>\n",
       "      <td>18</td>\n",
       "    </tr>\n",
       "    <tr>\n",
       "      <th>1</th>\n",
       "      <td>OIL COOLER &amp; LINES</td>\n",
       "      <td>HAEIN Coporation_Cheonan</td>\n",
       "      <td>18</td>\n",
       "    </tr>\n",
       "    <tr>\n",
       "      <th>2</th>\n",
       "      <td>WASHER</td>\n",
       "      <td>HAEIN Coporation_Cheonan</td>\n",
       "      <td>18</td>\n",
       "    </tr>\n",
       "    <tr>\n",
       "      <th>3</th>\n",
       "      <td>BOLT-HIGH TEMP</td>\n",
       "      <td>HAEIN Coporation_Cheonan</td>\n",
       "      <td>18</td>\n",
       "    </tr>\n",
       "    <tr>\n",
       "      <th>4</th>\n",
       "      <td>SEAL</td>\n",
       "      <td>HAEIN Coporation_Cheonan</td>\n",
       "      <td>18</td>\n",
       "    </tr>\n",
       "  </tbody>\n",
       "</table>\n",
       "</div>"
      ],
      "text/plain": [
       "                 청구품목                       발주처  key2_encoded\n",
       "0    SEAL-O-RING-STOR  HAEIN Coporation_Cheonan            18\n",
       "1  OIL COOLER & LINES  HAEIN Coporation_Cheonan            18\n",
       "2              WASHER  HAEIN Coporation_Cheonan            18\n",
       "3      BOLT-HIGH TEMP  HAEIN Coporation_Cheonan            18\n",
       "4                SEAL  HAEIN Coporation_Cheonan            18"
      ]
     },
     "execution_count": 32,
     "metadata": {},
     "output_type": "execute_result"
    }
   ],
   "source": [
    "df.head()"
   ]
  },
  {
   "cell_type": "code",
   "execution_count": 33,
   "id": "256b45f5-572d-4055-8533-19bd581126a7",
   "metadata": {},
   "outputs": [],
   "source": [
    "df2= df.copy()"
   ]
  },
  {
   "cell_type": "code",
   "execution_count": 34,
   "id": "112fc00d-65b5-45f3-b220-19e95bcbe052",
   "metadata": {},
   "outputs": [
    {
     "data": {
      "text/html": [
       "<div>\n",
       "<style scoped>\n",
       "    .dataframe tbody tr th:only-of-type {\n",
       "        vertical-align: middle;\n",
       "    }\n",
       "\n",
       "    .dataframe tbody tr th {\n",
       "        vertical-align: top;\n",
       "    }\n",
       "\n",
       "    .dataframe thead th {\n",
       "        text-align: right;\n",
       "    }\n",
       "</style>\n",
       "<table border=\"1\" class=\"dataframe\">\n",
       "  <thead>\n",
       "    <tr style=\"text-align: right;\">\n",
       "      <th></th>\n",
       "      <th>청구품목</th>\n",
       "      <th>발주처</th>\n",
       "      <th>key2_encoded</th>\n",
       "    </tr>\n",
       "  </thead>\n",
       "  <tbody>\n",
       "    <tr>\n",
       "      <th>0</th>\n",
       "      <td>SEAL-O-RING-STOR</td>\n",
       "      <td>HAEIN Coporation_Cheonan</td>\n",
       "      <td>18</td>\n",
       "    </tr>\n",
       "    <tr>\n",
       "      <th>1</th>\n",
       "      <td>OIL COOLER &amp; LINES</td>\n",
       "      <td>HAEIN Coporation_Cheonan</td>\n",
       "      <td>18</td>\n",
       "    </tr>\n",
       "    <tr>\n",
       "      <th>2</th>\n",
       "      <td>WASHER</td>\n",
       "      <td>HAEIN Coporation_Cheonan</td>\n",
       "      <td>18</td>\n",
       "    </tr>\n",
       "    <tr>\n",
       "      <th>3</th>\n",
       "      <td>BOLT-HIGH TEMP</td>\n",
       "      <td>HAEIN Coporation_Cheonan</td>\n",
       "      <td>18</td>\n",
       "    </tr>\n",
       "    <tr>\n",
       "      <th>4</th>\n",
       "      <td>SEAL</td>\n",
       "      <td>HAEIN Coporation_Cheonan</td>\n",
       "      <td>18</td>\n",
       "    </tr>\n",
       "    <tr>\n",
       "      <th>...</th>\n",
       "      <td>...</td>\n",
       "      <td>...</td>\n",
       "      <td>...</td>\n",
       "    </tr>\n",
       "    <tr>\n",
       "      <th>20512</th>\n",
       "      <td>HYD. CYLINDER_NET BOAT DAVIT</td>\n",
       "      <td>MARINE HYDROTEC CO.,LTD.</td>\n",
       "      <td>20</td>\n",
       "    </tr>\n",
       "    <tr>\n",
       "      <th>20513</th>\n",
       "      <td>HYD. CYLINDER_N.D CRANE_BOOM_LIFTER</td>\n",
       "      <td>MARINE HYDROTEC CO.,LTD.</td>\n",
       "      <td>20</td>\n",
       "    </tr>\n",
       "    <tr>\n",
       "      <th>20514</th>\n",
       "      <td>PULLY</td>\n",
       "      <td>PORT RELIEF ENGINEERING CO.,LTD.</td>\n",
       "      <td>5</td>\n",
       "    </tr>\n",
       "    <tr>\n",
       "      <th>20515</th>\n",
       "      <td>CYLINDER</td>\n",
       "      <td>PORT RELIEF ENGINEERING CO.,LTD.</td>\n",
       "      <td>20</td>\n",
       "    </tr>\n",
       "    <tr>\n",
       "      <th>20516</th>\n",
       "      <td>SEAL KIT FOR CYLINDER</td>\n",
       "      <td>PORT RELIEF ENGINEERING CO.,LTD.</td>\n",
       "      <td>20</td>\n",
       "    </tr>\n",
       "  </tbody>\n",
       "</table>\n",
       "<p>20517 rows × 3 columns</p>\n",
       "</div>"
      ],
      "text/plain": [
       "                                      청구품목                               발주처  \\\n",
       "0                         SEAL-O-RING-STOR          HAEIN Coporation_Cheonan   \n",
       "1                       OIL COOLER & LINES          HAEIN Coporation_Cheonan   \n",
       "2                                   WASHER          HAEIN Coporation_Cheonan   \n",
       "3                           BOLT-HIGH TEMP          HAEIN Coporation_Cheonan   \n",
       "4                                     SEAL          HAEIN Coporation_Cheonan   \n",
       "...                                    ...                               ...   \n",
       "20512         HYD. CYLINDER_NET BOAT DAVIT          MARINE HYDROTEC CO.,LTD.   \n",
       "20513  HYD. CYLINDER_N.D CRANE_BOOM_LIFTER          MARINE HYDROTEC CO.,LTD.   \n",
       "20514                                PULLY  PORT RELIEF ENGINEERING CO.,LTD.   \n",
       "20515                            CYLINDER   PORT RELIEF ENGINEERING CO.,LTD.   \n",
       "20516                SEAL KIT FOR CYLINDER  PORT RELIEF ENGINEERING CO.,LTD.   \n",
       "\n",
       "       key2_encoded  \n",
       "0                18  \n",
       "1                18  \n",
       "2                18  \n",
       "3                18  \n",
       "4                18  \n",
       "...             ...  \n",
       "20512            20  \n",
       "20513            20  \n",
       "20514             5  \n",
       "20515            20  \n",
       "20516            20  \n",
       "\n",
       "[20517 rows x 3 columns]"
      ]
     },
     "execution_count": 34,
     "metadata": {},
     "output_type": "execute_result"
    }
   ],
   "source": [
    "df2"
   ]
  },
  {
   "cell_type": "code",
   "execution_count": null,
   "id": "1198d738-06fa-4290-be28-373ed9d34fbf",
   "metadata": {},
   "outputs": [],
   "source": []
  },
  {
   "cell_type": "code",
   "execution_count": null,
   "id": "4bf542e4-f0fd-4cf6-a1ef-f2eef839010d",
   "metadata": {},
   "outputs": [],
   "source": []
  },
  {
   "cell_type": "code",
   "execution_count": null,
   "id": "47f27806-ff24-411f-988f-c35f5be279ee",
   "metadata": {},
   "outputs": [],
   "source": []
  },
  {
   "cell_type": "code",
   "execution_count": null,
   "id": "3c97de25-19e5-441d-96a4-f22da47b5110",
   "metadata": {},
   "outputs": [],
   "source": []
  },
  {
   "cell_type": "code",
   "execution_count": null,
   "id": "27b48bb4-c3e6-46ee-81a4-fb82b5aa07e8",
   "metadata": {},
   "outputs": [],
   "source": []
  },
  {
   "cell_type": "code",
   "execution_count": null,
   "id": "fa1a0180-8500-4e4a-8ad0-c7b79f017ccb",
   "metadata": {},
   "outputs": [],
   "source": []
  },
  {
   "cell_type": "code",
   "execution_count": null,
   "id": "3cae40d3-87a3-4bd9-b718-f8f2e12f3def",
   "metadata": {},
   "outputs": [],
   "source": []
  }
 ],
 "metadata": {
  "kernelspec": {
   "display_name": "venv1",
   "language": "python",
   "name": "venv"
  },
  "language_info": {
   "codemirror_mode": {
    "name": "ipython",
    "version": 3
   },
   "file_extension": ".py",
   "mimetype": "text/x-python",
   "name": "python",
   "nbconvert_exporter": "python",
   "pygments_lexer": "ipython3",
   "version": "3.10.10"
  }
 },
 "nbformat": 4,
 "nbformat_minor": 5
}
