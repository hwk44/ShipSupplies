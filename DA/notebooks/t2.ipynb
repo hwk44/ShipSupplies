{
 "cells": [
  {
   "cell_type": "code",
   "execution_count": 180,
   "id": "b2ff1700-cb92-4719-b8d5-54712296819e",
   "metadata": {},
   "outputs": [],
   "source": [
    "import pandas as pd\n",
    "import numpy as np\n",
    "import matplotlib.pyplot as plt\n",
    "from sklearn.model_selection import train_test_split\n",
    "from sklearn.preprocessing import StandardScaler, LabelEncoder\n",
    "\n",
    "import tensorflow as tf\n",
    "from tensorflow import keras\n",
    "from tensorflow.keras import layers"
   ]
  },
  {
   "cell_type": "code",
   "execution_count": 248,
   "id": "5707efc0-44c6-4643-9649-f126f7f9c454",
   "metadata": {},
   "outputs": [],
   "source": [
    "data = pd.read_csv('../data/raw_postpro.csv', encoding = 'cp949')\n",
    "# 컬럼 삭제\n",
    "df = data.drop(['청구서번호','No.',  '선박입고','완료 여부','리드타임_음수제거','청구량','견적','견적수량','견적화폐','견적단가','발주번호','발주','발주수량','발주금액','미입고 기간','리드타임','창고입고','창고입고수량','입고창고','창고출고','창고출고수량','출고선박','출고운반선','선박입고','선박입고수량','완료 여부'], axis=1)"
   ]
  },
  {
   "cell_type": "code",
   "execution_count": 249,
   "id": "fe258577-d8e2-4122-9bf7-934919dbe4bb",
   "metadata": {},
   "outputs": [
    {
     "name": "stdout",
     "output_type": "stream",
     "text": [
      "<class 'pandas.core.frame.DataFrame'>\n",
      "RangeIndex: 20517 entries, 0 to 20516\n",
      "Data columns (total 11 columns):\n",
      " #   Column       Non-Null Count  Dtype \n",
      "---  ------       --------------  ----- \n",
      " 0   Subject      20517 non-null  object\n",
      " 1   Machinery    20517 non-null  object\n",
      " 2   Assembly     20517 non-null  object\n",
      " 3   청구품목         20517 non-null  object\n",
      " 4   Part No.1    20517 non-null  object\n",
      " 5   Part No.2    20517 non-null  object\n",
      " 6   key1         20517 non-null  object\n",
      " 7   key2         20517 non-null  object\n",
      " 8   발주처          20517 non-null  object\n",
      " 9   D/T          20517 non-null  object\n",
      " 10  Control No.  20517 non-null  object\n",
      "dtypes: object(11)\n",
      "memory usage: 1.7+ MB\n"
     ]
    }
   ],
   "source": [
    "df.info()"
   ]
  },
  {
   "cell_type": "code",
   "execution_count": 250,
   "id": "6d2a8582-890e-4926-8a7f-df14889061bf",
   "metadata": {},
   "outputs": [],
   "source": [
    "df = df[['청구품목','발주처','Machinery', 'Assembly' , \"Part No.1\", \"Part No.2\",'key2']]\n",
    "# 'Machinery', 'Assembly', '청구품목', 'Part No.1', 'Part No.2', 'key1', '발주처'"
   ]
  },
  {
   "cell_type": "code",
   "execution_count": 251,
   "id": "0e236cde-8e34-44e8-8ebc-df65213ab798",
   "metadata": {},
   "outputs": [
    {
     "name": "stdout",
     "output_type": "stream",
     "text": [
      "<class 'pandas.core.frame.DataFrame'>\n",
      "RangeIndex: 20517 entries, 0 to 20516\n",
      "Data columns (total 7 columns):\n",
      " #   Column     Non-Null Count  Dtype \n",
      "---  ------     --------------  ----- \n",
      " 0   청구품목       20517 non-null  object\n",
      " 1   발주처        20517 non-null  object\n",
      " 2   Machinery  20517 non-null  object\n",
      " 3   Assembly   20517 non-null  object\n",
      " 4   Part No.1  20517 non-null  object\n",
      " 5   Part No.2  20517 non-null  object\n",
      " 6   key2       20517 non-null  object\n",
      "dtypes: object(7)\n",
      "memory usage: 1.1+ MB\n"
     ]
    }
   ],
   "source": [
    "df.info()"
   ]
  },
  {
   "cell_type": "code",
   "execution_count": 252,
   "id": "e0a9e4d8-f5e8-4b44-882c-606c9276a985",
   "metadata": {},
   "outputs": [],
   "source": [
    "from sklearn import preprocessing\n",
    "label_encoders = {}  # 각 열에 대한 LabelEncoder를 저장하기 위한 딕셔너리\n",
    "columns_to_encode = ['key2']  # 인코딩을 수행할 열의 이름 리스트\n",
    "\n",
    "for column in columns_to_encode:\n",
    "    le = preprocessing.LabelEncoder()\n",
    "    le.fit(df[column])\n",
    "    label_encoders[column] = le # 딕셔너리에 저장\n",
    "    df[column+\"_encoded\"] = le.transform(df[column]) # 새로운 encoding 된 컬럼 추가"
   ]
  },
  {
   "cell_type": "code",
   "execution_count": 253,
   "id": "8ff3db46-e865-4226-9389-e992d5541ba5",
   "metadata": {},
   "outputs": [],
   "source": [
    "df = df.drop(['key2'], axis=1)"
   ]
  },
  {
   "cell_type": "code",
   "execution_count": 254,
   "id": "8e9bc8c4-6f58-417b-83a9-845dacb5f9f2",
   "metadata": {},
   "outputs": [
    {
     "name": "stdout",
     "output_type": "stream",
     "text": [
      "<class 'pandas.core.frame.DataFrame'>\n",
      "RangeIndex: 20517 entries, 0 to 20516\n",
      "Data columns (total 7 columns):\n",
      " #   Column        Non-Null Count  Dtype \n",
      "---  ------        --------------  ----- \n",
      " 0   청구품목          20517 non-null  object\n",
      " 1   발주처           20517 non-null  object\n",
      " 2   Machinery     20517 non-null  object\n",
      " 3   Assembly      20517 non-null  object\n",
      " 4   Part No.1     20517 non-null  object\n",
      " 5   Part No.2     20517 non-null  object\n",
      " 6   key2_encoded  20517 non-null  int32 \n",
      "dtypes: int32(1), object(6)\n",
      "memory usage: 1.0+ MB\n"
     ]
    }
   ],
   "source": [
    "df.info()"
   ]
  },
  {
   "cell_type": "code",
   "execution_count": 255,
   "id": "ca691c10-5c03-4491-88d5-88aeb0f30043",
   "metadata": {},
   "outputs": [],
   "source": [
    "# df_desc = df[[ '청구품목', '발주처']].apply(lambda row: ' '.join(row), axis=1)\n",
    "df_desc = df[[ '청구품목', '발주처','Machinery', 'Assembly' , \"Part No.1\", \"Part No.2\"]].apply(lambda row: ' '.join(row), axis=1)"
   ]
  },
  {
   "cell_type": "code",
   "execution_count": 256,
   "id": "3a176b49-69b0-4d15-93dd-546b5e2c6d75",
   "metadata": {},
   "outputs": [],
   "source": [
    "lis = df_desc.values"
   ]
  },
  {
   "cell_type": "code",
   "execution_count": 257,
   "id": "fd0ba6f4-77bd-425e-b87e-05a926df1e7b",
   "metadata": {},
   "outputs": [
    {
     "name": "stdout",
     "output_type": "stream",
     "text": [
      "SEAL-O-RING-STOR HAEIN Coporation_Cheonan NO.1 GENERATOR ENGINE 323-6480 LINES GP-FUEL  7.00E-275 0\n",
      "OIL COOLER & LINES HAEIN Coporation_Cheonan NO.2 GENERATOR ENGINE GASKET KIT 7.00E-275 0\n",
      "WASHER HAEIN Coporation_Cheonan NO.2 GENERATOR ENGINE 285-8374 MANIFOLD GP-EXH  7.00E-275 0\n",
      "BOLT-HIGH TEMP HAEIN Coporation_Cheonan NO.1 GENERATOR ENGINE 159-8828 TURBO GP 7.00E-275 0\n",
      "SEAL HAEIN Coporation_Cheonan NO.1 GENERATOR ENGINE 2N4727 INSTRUMNT PANEL GP 7.00E-275 0\n",
      "CORE CHARGES FOR CYLINDER PACK AS HAEIN Coporation_Cheonan NO.2 GENERATOR ENGINE 8N-6224 PISTON GP-ROD& 7.00E-275 0\n",
      "PUMP GP-F TFR-REMAN HAEIN Coporation_Cheonan NO.3 GENERATOR ENGINE 8N-6151 PUMP GP-F TFR  7.00E-275 0\n",
      "GEAR-WTR PUMP DR HAEIN Coporation_Cheonan NO.1 GENERATOR ENGINE 8N-7174 GEAR GP-FRONT  7.00E-275 0\n",
      "GEAR-WTR PUMP DR HAEIN Coporation_Cheonan NO.3 GENERATOR ENGINE 8N-7174 GEAR GP-FRONT  7.00E-275 0\n",
      "GEAR-WTR PUMP DR HAEIN Coporation_Cheonan NO.3 GENERATOR ENGINE 8N-7174 GEAR GP-FRONT  7.00E-275 0\n",
      "GEAR-WTR PUMP DR HAEIN Coporation_Cheonan NO.1 GENERATOR ENGINE 8N-7174 GEAR GP-FRONT  7.00E-275 0\n",
      "GEAR-WTR PUMP DR HAEIN Coporation_Cheonan NO.1 GENERATOR ENGINE 8N-7174 GEAR GP-FRONT  7.00E-275 0\n",
      "GEAR-WTR PUMP DR HAEIN Coporation_Cheonan NO.3 GENERATOR ENGINE 8N-7174 GEAR GP-FRONT  7.00E-275 0\n",
      "IMPELLER (주)정원펌프 NO.1 CONDENSER PUMP PUMP PARTS 3 0\n",
      "SELF-ALIGNING ROLLER BEARING 대동베아링상사 BOW THRUSTER OVERHAUL PARTS 4.56 133\n",
      "TAPERED ROLLER BEARING 대동베아링상사 BOW THRUSTER OVERHAUL PARTS 5.57 134\n",
      "SELF-ALIGNING ROLLER BEARING 대동베아링상사 BOW THRUSTER OVERHAUL PARTS 6.58 135\n",
      "TAPERED ROLLER BEARING 대동베아링상사 BOW THRUSTER OVERHAUL PARTS 7.59 350\n",
      "EXHUAST GAS TEMP. INDICATOR, P5 PIRIOU NAVAL SKIFF BOAT IMPLANTATION INSTRUMENTS 14.9795 0\n",
      "EXHAUST GAS TEMPERATURE INDICATOR 0 TO 700℃ PIRIOU NAVAL SKIFF BOAT IMPLANTATION INSTRUMENTS 14.9795 0\n"
     ]
    }
   ],
   "source": [
    "cnt = 0\n",
    "for i in lis:\n",
    "    print(i)\n",
    "    cnt += 1\n",
    "    if cnt == 20:\n",
    "        break"
   ]
  },
  {
   "cell_type": "code",
   "execution_count": 191,
   "id": "b63d4c0a-2b72-4599-a035-65c201b659b8",
   "metadata": {},
   "outputs": [],
   "source": [
    "# vocab_list = []\n",
    "# for words in df_desc.str.split():\n",
    "#   if isinstance(words, list):\n",
    "#     #print(type(words), words)\n",
    "#     vocab_list = vocab_list + words\n",
    "# len(vocab_list)"
   ]
  },
  {
   "cell_type": "markdown",
   "id": "d4dc00d5-c7cb-43be-9257-a48c7cf7b16c",
   "metadata": {},
   "source": [
    "# 단어갯수"
   ]
  },
  {
   "cell_type": "code",
   "execution_count": 258,
   "id": "7ed9a6e3-19b9-4d95-9fba-4f0bf166a129",
   "metadata": {},
   "outputs": [],
   "source": [
    "desc = df_desc.to_frame()"
   ]
  },
  {
   "cell_type": "code",
   "execution_count": 259,
   "id": "f245b9b4-2f38-4af1-9813-fabe5fe068fd",
   "metadata": {},
   "outputs": [],
   "source": [
    "desc['key2'] = df['key2_encoded']"
   ]
  },
  {
   "cell_type": "code",
   "execution_count": 260,
   "id": "871dded6-99cc-494e-9fce-206d39f24b2b",
   "metadata": {},
   "outputs": [
    {
     "data": {
      "text/html": [
       "<div>\n",
       "<style scoped>\n",
       "    .dataframe tbody tr th:only-of-type {\n",
       "        vertical-align: middle;\n",
       "    }\n",
       "\n",
       "    .dataframe tbody tr th {\n",
       "        vertical-align: top;\n",
       "    }\n",
       "\n",
       "    .dataframe thead th {\n",
       "        text-align: right;\n",
       "    }\n",
       "</style>\n",
       "<table border=\"1\" class=\"dataframe\">\n",
       "  <thead>\n",
       "    <tr style=\"text-align: right;\">\n",
       "      <th></th>\n",
       "      <th>0</th>\n",
       "      <th>key2</th>\n",
       "    </tr>\n",
       "  </thead>\n",
       "  <tbody>\n",
       "    <tr>\n",
       "      <th>0</th>\n",
       "      <td>SEAL-O-RING-STOR HAEIN Coporation_Cheonan NO.1...</td>\n",
       "      <td>18</td>\n",
       "    </tr>\n",
       "    <tr>\n",
       "      <th>1</th>\n",
       "      <td>OIL COOLER &amp; LINES HAEIN Coporation_Cheonan NO...</td>\n",
       "      <td>18</td>\n",
       "    </tr>\n",
       "    <tr>\n",
       "      <th>2</th>\n",
       "      <td>WASHER HAEIN Coporation_Cheonan NO.2 GENERATOR...</td>\n",
       "      <td>18</td>\n",
       "    </tr>\n",
       "    <tr>\n",
       "      <th>3</th>\n",
       "      <td>BOLT-HIGH TEMP HAEIN Coporation_Cheonan NO.1 G...</td>\n",
       "      <td>18</td>\n",
       "    </tr>\n",
       "    <tr>\n",
       "      <th>4</th>\n",
       "      <td>SEAL HAEIN Coporation_Cheonan NO.1 GENERATOR E...</td>\n",
       "      <td>18</td>\n",
       "    </tr>\n",
       "    <tr>\n",
       "      <th>...</th>\n",
       "      <td>...</td>\n",
       "      <td>...</td>\n",
       "    </tr>\n",
       "    <tr>\n",
       "      <th>20512</th>\n",
       "      <td>HYD. CYLINDER_NET BOAT DAVIT MARINE HYDROTEC C...</td>\n",
       "      <td>20</td>\n",
       "    </tr>\n",
       "    <tr>\n",
       "      <th>20513</th>\n",
       "      <td>HYD. CYLINDER_N.D CRANE_BOOM_LIFTER MARINE HYD...</td>\n",
       "      <td>20</td>\n",
       "    </tr>\n",
       "    <tr>\n",
       "      <th>20514</th>\n",
       "      <td>PULLY PORT RELIEF ENGINEERING CO.,LTD. 6M NET ...</td>\n",
       "      <td>5</td>\n",
       "    </tr>\n",
       "    <tr>\n",
       "      <th>20515</th>\n",
       "      <td>CYLINDER  PORT RELIEF ENGINEERING CO.,LTD. 7M ...</td>\n",
       "      <td>20</td>\n",
       "    </tr>\n",
       "    <tr>\n",
       "      <th>20516</th>\n",
       "      <td>SEAL KIT FOR CYLINDER PORT RELIEF ENGINEERING ...</td>\n",
       "      <td>20</td>\n",
       "    </tr>\n",
       "  </tbody>\n",
       "</table>\n",
       "<p>20517 rows × 2 columns</p>\n",
       "</div>"
      ],
      "text/plain": [
       "                                                       0  key2\n",
       "0      SEAL-O-RING-STOR HAEIN Coporation_Cheonan NO.1...    18\n",
       "1      OIL COOLER & LINES HAEIN Coporation_Cheonan NO...    18\n",
       "2      WASHER HAEIN Coporation_Cheonan NO.2 GENERATOR...    18\n",
       "3      BOLT-HIGH TEMP HAEIN Coporation_Cheonan NO.1 G...    18\n",
       "4      SEAL HAEIN Coporation_Cheonan NO.1 GENERATOR E...    18\n",
       "...                                                  ...   ...\n",
       "20512  HYD. CYLINDER_NET BOAT DAVIT MARINE HYDROTEC C...    20\n",
       "20513  HYD. CYLINDER_N.D CRANE_BOOM_LIFTER MARINE HYD...    20\n",
       "20514  PULLY PORT RELIEF ENGINEERING CO.,LTD. 6M NET ...     5\n",
       "20515  CYLINDER  PORT RELIEF ENGINEERING CO.,LTD. 7M ...    20\n",
       "20516  SEAL KIT FOR CYLINDER PORT RELIEF ENGINEERING ...    20\n",
       "\n",
       "[20517 rows x 2 columns]"
      ]
     },
     "execution_count": 260,
     "metadata": {},
     "output_type": "execute_result"
    }
   ],
   "source": [
    "desc"
   ]
  },
  {
   "cell_type": "code",
   "execution_count": null,
   "id": "e73879ad-6ea6-4406-bd53-4253c62d659f",
   "metadata": {},
   "outputs": [],
   "source": []
  },
  {
   "cell_type": "code",
   "execution_count": 261,
   "id": "6f98ee81-efb7-4475-95eb-99049481adbf",
   "metadata": {},
   "outputs": [],
   "source": [
    "desc.columns = ['origin','key2']"
   ]
  },
  {
   "cell_type": "code",
   "execution_count": 262,
   "id": "b6670d1c-bba4-4c65-8c59-95456992c8b9",
   "metadata": {},
   "outputs": [
    {
     "data": {
      "text/html": [
       "<div>\n",
       "<style scoped>\n",
       "    .dataframe tbody tr th:only-of-type {\n",
       "        vertical-align: middle;\n",
       "    }\n",
       "\n",
       "    .dataframe tbody tr th {\n",
       "        vertical-align: top;\n",
       "    }\n",
       "\n",
       "    .dataframe thead th {\n",
       "        text-align: right;\n",
       "    }\n",
       "</style>\n",
       "<table border=\"1\" class=\"dataframe\">\n",
       "  <thead>\n",
       "    <tr style=\"text-align: right;\">\n",
       "      <th></th>\n",
       "      <th>origin</th>\n",
       "      <th>key2</th>\n",
       "    </tr>\n",
       "  </thead>\n",
       "  <tbody>\n",
       "    <tr>\n",
       "      <th>0</th>\n",
       "      <td>SEAL-O-RING-STOR HAEIN Coporation_Cheonan NO.1...</td>\n",
       "      <td>18</td>\n",
       "    </tr>\n",
       "    <tr>\n",
       "      <th>1</th>\n",
       "      <td>OIL COOLER &amp; LINES HAEIN Coporation_Cheonan NO...</td>\n",
       "      <td>18</td>\n",
       "    </tr>\n",
       "    <tr>\n",
       "      <th>2</th>\n",
       "      <td>WASHER HAEIN Coporation_Cheonan NO.2 GENERATOR...</td>\n",
       "      <td>18</td>\n",
       "    </tr>\n",
       "    <tr>\n",
       "      <th>3</th>\n",
       "      <td>BOLT-HIGH TEMP HAEIN Coporation_Cheonan NO.1 G...</td>\n",
       "      <td>18</td>\n",
       "    </tr>\n",
       "    <tr>\n",
       "      <th>4</th>\n",
       "      <td>SEAL HAEIN Coporation_Cheonan NO.1 GENERATOR E...</td>\n",
       "      <td>18</td>\n",
       "    </tr>\n",
       "  </tbody>\n",
       "</table>\n",
       "</div>"
      ],
      "text/plain": [
       "                                              origin  key2\n",
       "0  SEAL-O-RING-STOR HAEIN Coporation_Cheonan NO.1...    18\n",
       "1  OIL COOLER & LINES HAEIN Coporation_Cheonan NO...    18\n",
       "2  WASHER HAEIN Coporation_Cheonan NO.2 GENERATOR...    18\n",
       "3  BOLT-HIGH TEMP HAEIN Coporation_Cheonan NO.1 G...    18\n",
       "4  SEAL HAEIN Coporation_Cheonan NO.1 GENERATOR E...    18"
      ]
     },
     "execution_count": 262,
     "metadata": {},
     "output_type": "execute_result"
    }
   ],
   "source": [
    "desc.head()"
   ]
  },
  {
   "cell_type": "code",
   "execution_count": 263,
   "id": "f2810a47-5117-4be9-b102-f11407c363d1",
   "metadata": {},
   "outputs": [],
   "source": [
    "X = desc['origin'].values"
   ]
  },
  {
   "cell_type": "code",
   "execution_count": 264,
   "id": "a4be2cca-9f70-4e2c-a665-9ac52ebd811b",
   "metadata": {},
   "outputs": [],
   "source": [
    "y = desc['key2'].values"
   ]
  },
  {
   "cell_type": "code",
   "execution_count": 265,
   "id": "71453983-d963-4b06-b127-3a124662ea4c",
   "metadata": {},
   "outputs": [
    {
     "data": {
      "text/plain": [
       "(array(['SEAL-O-RING-STOR HAEIN Coporation_Cheonan NO.1 GENERATOR ENGINE 323-6480 LINES GP-FUEL  7.00E-275 0',\n",
       "        'OIL COOLER & LINES HAEIN Coporation_Cheonan NO.2 GENERATOR ENGINE GASKET KIT 7.00E-275 0',\n",
       "        'WASHER HAEIN Coporation_Cheonan NO.2 GENERATOR ENGINE 285-8374 MANIFOLD GP-EXH  7.00E-275 0',\n",
       "        ...,\n",
       "        'PULLY PORT RELIEF ENGINEERING CO.,LTD. 6M NET BOAT ELECTRIC CLUTCH Φ305X5V-3 0',\n",
       "        'CYLINDER  PORT RELIEF ENGINEERING CO.,LTD. 7M NET BOAT HAND HYDRAULIC STEERING SYSTEM Φ50 x S195 CYLINDER 0',\n",
       "        'SEAL KIT FOR CYLINDER PORT RELIEF ENGINEERING CO.,LTD. 7M NET BOAT HAND HYDRAULIC STEERING SYSTEM Φ50 x S195 CYLINDER SEAL KIT 0'],\n",
       "       dtype=object),\n",
       " array([18, 18, 18, ...,  5, 20, 20]))"
      ]
     },
     "execution_count": 265,
     "metadata": {},
     "output_type": "execute_result"
    }
   ],
   "source": [
    "X,y"
   ]
  },
  {
   "cell_type": "code",
   "execution_count": 266,
   "id": "2b4187a2-f532-4df7-b4d8-aed85388ee92",
   "metadata": {},
   "outputs": [
    {
     "name": "stdout",
     "output_type": "stream",
     "text": [
      "12218\n"
     ]
    }
   ],
   "source": [
    "# 학습에 사용할 단어장\n",
    "tokenizer = tf.keras.preprocessing.text.Tokenizer()\n",
    "\n",
    "# 토큰화\n",
    "tokenizer.fit_on_texts(X)\n",
    "print(len(tokenizer.word_index))"
   ]
  },
  {
   "cell_type": "code",
   "execution_count": 267,
   "id": "b8bdedd4-921d-4daa-b4be-ba372be8f9a8",
   "metadata": {},
   "outputs": [],
   "source": [
    "x = tokenizer.texts_to_sequences(X)"
   ]
  },
  {
   "cell_type": "code",
   "execution_count": 269,
   "id": "189912d9-4b98-4d90-adc3-d47ea5755295",
   "metadata": {},
   "outputs": [],
   "source": [
    "cnt = [len(i) for i in x ]"
   ]
  },
  {
   "cell_type": "code",
   "execution_count": 270,
   "id": "aa13c3a8-2cdf-4769-b747-60975d7bf009",
   "metadata": {},
   "outputs": [
    {
     "data": {
      "text/plain": [
       "(35, 17.162938051372034)"
      ]
     },
     "execution_count": 270,
     "metadata": {},
     "output_type": "execute_result"
    }
   ],
   "source": [
    "max(cnt), sum(cnt)/len(cnt)"
   ]
  },
  {
   "cell_type": "code",
   "execution_count": 271,
   "id": "8ddec09b-6c53-4688-9395-6d2370aa6c0f",
   "metadata": {},
   "outputs": [],
   "source": [
    "from tensorflow.keras.preprocessing.sequence import pad_sequences\n",
    "padded_X = pad_sequences(x,30)"
   ]
  },
  {
   "cell_type": "code",
   "execution_count": 272,
   "id": "7129ec45-2bb9-4ae3-a630-a8bf3868893f",
   "metadata": {},
   "outputs": [
    {
     "data": {
      "text/plain": [
       "(20517, 30)"
      ]
     },
     "execution_count": 272,
     "metadata": {},
     "output_type": "execute_result"
    }
   ],
   "source": [
    "padded_X.shape"
   ]
  },
  {
   "cell_type": "code",
   "execution_count": 273,
   "id": "b66fc6f0-3dde-4368-8387-d1df13714873",
   "metadata": {},
   "outputs": [],
   "source": [
    "# 총 단어 갯수\n",
    "word_size = len(tokenizer.word_index) +1"
   ]
  },
  {
   "cell_type": "code",
   "execution_count": 353,
   "id": "18c87de7-f40e-4864-8ae9-b54028502b99",
   "metadata": {},
   "outputs": [],
   "source": [
    "from keras.models import Sequential, Model\n",
    "from keras.layers import Input, Embedding, Dense, concatenate, Flatten, Conv1D, GlobalMaxPooling1D, LSTM,Dropout,MaxPooling1D\n",
    "\n",
    "model = Sequential()\n",
    "model.add(Embedding(word_size, 40, input_length=30))\n",
    "\n",
    "model.add(Dropout(0.1))\n",
    "model.add(Conv1D(128, 10, padding = 'same', activation = 'relu')) # , strides=1\n",
    "model.add(MaxPooling1D(pool_size=4))\n",
    "\n",
    "model.add(LSTM(128, return_sequences=True))  # LSTM 레이어 추가\n",
    "model.add(Flatten())\n",
    "# model.add(Dense(64, activation='relu', name='Dense_output'))\n",
    "model.add(Dense(61, activation='softmax', name=\"Prediction_output\"))"
   ]
  },
  {
   "cell_type": "code",
   "execution_count": 354,
   "id": "7c72d963-b1f4-496b-8b9e-4b6cbb77de5c",
   "metadata": {},
   "outputs": [
    {
     "name": "stdout",
     "output_type": "stream",
     "text": [
      "Model: \"sequential_19\"\n",
      "_________________________________________________________________\n",
      " Layer (type)                Output Shape              Param #   \n",
      "=================================================================\n",
      " embedding_19 (Embedding)    (None, 30, 40)            488760    \n",
      "                                                                 \n",
      " dropout_8 (Dropout)         (None, 30, 40)            0         \n",
      "                                                                 \n",
      " conv1d_8 (Conv1D)           (None, 30, 128)           51328     \n",
      "                                                                 \n",
      " max_pooling1d_8 (MaxPooling  (None, 7, 128)           0         \n",
      " 1D)                                                             \n",
      "                                                                 \n",
      " lstm_18 (LSTM)              (None, 7, 128)            131584    \n",
      "                                                                 \n",
      " flatten_18 (Flatten)        (None, 896)               0         \n",
      "                                                                 \n",
      " Prediction_output (Dense)   (None, 61)                54717     \n",
      "                                                                 \n",
      "=================================================================\n",
      "Total params: 726,389\n",
      "Trainable params: 726,389\n",
      "Non-trainable params: 0\n",
      "_________________________________________________________________\n"
     ]
    }
   ],
   "source": [
    "model.summary()"
   ]
  },
  {
   "cell_type": "code",
   "execution_count": 355,
   "id": "3f5ff5bf-cdc4-4bf8-ae40-6bc735fc11d8",
   "metadata": {},
   "outputs": [],
   "source": [
    "optimizer=tf.keras.optimizers.Adam(learning_rate=0.001)\n",
    "# optimizer = tf.keras.optimizers.SGD(learning_rate=0.001)\n",
    "# optimizer = tf.keras.optimizers.RMSprop(learning_rate=0.001)\n",
    "# optimizer = tf.keras.optimizers.Adagrad(learning_rate=0.001)\n",
    "# optimizer = tf.keras.optimizers.Adadelta(learning_rate=0.01)\n",
    "# optimizer = tf.keras.optimizers.Adamax(learning_rate=0.01)"
   ]
  },
  {
   "cell_type": "code",
   "execution_count": 356,
   "id": "6bc24fd4-f32d-4a8e-812c-0cc607074146",
   "metadata": {},
   "outputs": [],
   "source": [
    "# model.compile(loss=tf.keras.losses.CategoricalCrossentropy(),\n",
    "#                        optimizer=optimizer,\n",
    "#                        metrics=['accuracy'])\n",
    "model.compile(loss='categorical_crossentropy',\n",
    "                       optimizer=optimizer,\n",
    "                       metrics=['accuracy'])\n",
    "from keras.callbacks import EarlyStopping\n",
    "\n",
    "early_stopping_callback = EarlyStopping(monitor = 'val_loss' , patience = 5)"
   ]
  },
  {
   "cell_type": "code",
   "execution_count": null,
   "id": "3d0bd8cd-44cc-4c86-a9ec-f73582af8eaa",
   "metadata": {},
   "outputs": [],
   "source": []
  },
  {
   "cell_type": "code",
   "execution_count": 357,
   "id": "6f3ae977-3b6f-4189-8441-cb1cd9438e49",
   "metadata": {},
   "outputs": [],
   "source": [
    "# 데이터를 학습용과 검증용으로 나누기\n",
    "from sklearn.model_selection import train_test_split\n",
    "X_train, X_test, y_train, y_test = train_test_split(padded_X, y, test_size=0.4, random_state=42,shuffle=True)"
   ]
  },
  {
   "cell_type": "markdown",
   "id": "638b9610-4ccb-4b66-a2e4-122ca4b8d4c4",
   "metadata": {},
   "source": [
    "# padded_X, y 오버샘플링"
   ]
  },
  {
   "cell_type": "code",
   "execution_count": 358,
   "id": "f889ef15-59c4-486d-85aa-1f2e8d7a7a57",
   "metadata": {},
   "outputs": [],
   "source": [
    "from imblearn.over_sampling import RandomOverSampler\n",
    "\n",
    "# RandomOverSampler를 사용하여 데이터 오버샘플링\n",
    "ros = RandomOverSampler(random_state=42)\n",
    "X_oversampled, y_oversampled = ros.fit_resample(padded_X, y)"
   ]
  },
  {
   "cell_type": "code",
   "execution_count": 359,
   "id": "481b1268-5649-4059-a00a-c6937f17f9dd",
   "metadata": {},
   "outputs": [
    {
     "data": {
      "text/plain": [
       "(243878, 30)"
      ]
     },
     "execution_count": 359,
     "metadata": {},
     "output_type": "execute_result"
    }
   ],
   "source": [
    "X_oversampled.shape"
   ]
  },
  {
   "cell_type": "code",
   "execution_count": 360,
   "id": "37350f0a-941b-4257-94b6-a011096be9cb",
   "metadata": {},
   "outputs": [],
   "source": [
    "from sklearn.model_selection import train_test_split\n",
    "X_train, X_test, y_train, y_test = train_test_split(X_oversampled, y_oversampled, test_size=0.2, random_state=42,shuffle=True)\n",
    "\n",
    "# from sklearn.model_selection import train_test_split\n",
    "\n",
    "# # 오버샘플링된 데이터 분할\n",
    "# X_train, X_test, y_train, y_test = train_test_split(X_oversampled, y_oversampled, test_size=0.2, random_state=42, shuffle=True)\n",
    "\n",
    "# # 훈련 데이터와 검증 데이터 분할\n",
    "# X_train, X_val, y_train, y_val = train_test_split(X_train, y_train, test_size=0.2, random_state=42, shuffle=True)"
   ]
  },
  {
   "cell_type": "code",
   "execution_count": 347,
   "id": "cfac4004-52fb-49ad-9e80-1022b8d54381",
   "metadata": {},
   "outputs": [],
   "source": [
    "# 딥러닝 모델을 만들기 위해 categorical 함수 사용\n",
    "from tensorflow.keras.utils import to_categorical\n",
    "y_train_categorical = to_categorical(y_train, num_classes=61)\n",
    "y_test_categorical = to_categorical(y_test, num_classes=61)"
   ]
  },
  {
   "cell_type": "code",
   "execution_count": 348,
   "id": "c76a569c-4982-4417-ae25-3b481f31cdb0",
   "metadata": {},
   "outputs": [
    {
     "name": "stdout",
     "output_type": "stream",
     "text": [
      "Epoch 1/10\n",
      "1220/1220 [==============================] - 10s 7ms/step - loss: 0.6908 - accuracy: 0.8387 - val_loss: 0.0527 - val_accuracy: 0.9893\n",
      "Epoch 2/10\n",
      "1220/1220 [==============================] - 8s 7ms/step - loss: 0.0288 - accuracy: 0.9942 - val_loss: 0.0178 - val_accuracy: 0.9965\n",
      "Epoch 3/10\n",
      "1220/1220 [==============================] - 8s 7ms/step - loss: 0.0099 - accuracy: 0.9979 - val_loss: 0.0137 - val_accuracy: 0.9969\n",
      "Epoch 4/10\n",
      "1220/1220 [==============================] - 8s 7ms/step - loss: 0.0061 - accuracy: 0.9986 - val_loss: 0.0115 - val_accuracy: 0.9975\n",
      "Epoch 5/10\n",
      "1220/1220 [==============================] - 8s 7ms/step - loss: 0.0049 - accuracy: 0.9988 - val_loss: 0.0114 - val_accuracy: 0.9977\n",
      "Epoch 6/10\n",
      "1220/1220 [==============================] - 8s 7ms/step - loss: 0.0039 - accuracy: 0.9991 - val_loss: 0.0106 - val_accuracy: 0.9982\n",
      "Epoch 7/10\n",
      "1220/1220 [==============================] - 8s 7ms/step - loss: 0.0037 - accuracy: 0.9990 - val_loss: 0.0133 - val_accuracy: 0.9973\n",
      "Epoch 8/10\n",
      "1220/1220 [==============================] - 8s 7ms/step - loss: 0.0030 - accuracy: 0.9993 - val_loss: 0.0110 - val_accuracy: 0.9981\n",
      "Epoch 9/10\n",
      "1220/1220 [==============================] - 8s 7ms/step - loss: 0.0022 - accuracy: 0.9994 - val_loss: 0.0117 - val_accuracy: 0.9980\n",
      "Epoch 10/10\n",
      "1220/1220 [==============================] - 8s 7ms/step - loss: 0.0021 - accuracy: 0.9993 - val_loss: 0.0127 - val_accuracy: 0.9978\n"
     ]
    },
    {
     "name": "stderr",
     "output_type": "stream",
     "text": [
      "No artists with labels found to put in legend.  Note that artists whose label start with an underscore are ignored when legend() is called with no argument.\n"
     ]
    },
    {
     "data": {
      "image/png": "[encoded data removed]",
      "text/plain": [
       "<Figure size 640x480 with 1 Axes>"
      ]
     },
     "metadata": {},
     "output_type": "display_data"
    }
   ],
   "source": [
    "history = model.fit(X_train,y_train_categorical, validation_split =0.2, epochs= 10, batch_size=128,callbacks = [early_stopping_callback])\n",
    "# history = model.fit(X_train, y_train_categorical, epochs=10, batch_size=128, validation_data=(X_val, y_val), callbacks=[early_stopping_callback])\n",
    "\n",
    "import matplotlib.pyplot as plt\n",
    "\n",
    "# 손실 값 추출\n",
    "y_vloss = history.history['val_loss']\n",
    "y_acc = history.history['accuracy']\n",
    "\n",
    "# 에포크 수\n",
    "epochs = range(1, len(y_vloss) + 1)\n",
    "\n",
    "# 학습 곡선 그리기\n",
    "plt.plot(epochs, y_vloss, \"o\", c ='red')\n",
    "plt.plot(epochs, y_acc, \"o\", c ='blue')\n",
    "plt.xlabel('Epochs')\n",
    "# plt.ylabel('Loss')\n",
    "plt.legend()\n",
    "plt.show()"
   ]
  },
  {
   "cell_type": "code",
   "execution_count": 349,
   "id": "465d5b6c-9bec-4eb9-9f3e-aa69e092e0e8",
   "metadata": {},
   "outputs": [
    {
     "name": "stdout",
     "output_type": "stream",
     "text": [
      "1525/1525 [==============================] - 3s 2ms/step\n"
     ]
    }
   ],
   "source": [
    "y_pred= model.predict(X_test)"
   ]
  },
  {
   "cell_type": "code",
   "execution_count": 350,
   "id": "3b108074-6fc8-473b-8eb3-21c907a2d918",
   "metadata": {},
   "outputs": [],
   "source": [
    "# y_pred 랑 y_test 를 원래 labeling 된 데이터로 변환\n",
    "y_pred_classes = np.argmax(y_pred, axis=1)\n",
    "y_test_classes = np.argmax(y_test_categorical, axis=1)"
   ]
  },
  {
   "cell_type": "code",
   "execution_count": 351,
   "id": "66e5e92a-3574-4f48-afdd-a50847d78586",
   "metadata": {},
   "outputs": [
    {
     "data": {
      "text/plain": [
       "(array([32, 37, 38, 52,  3, 48,  7, 53, 25, 31,  2, 49, 10,  2,  9,  4, 24,\n",
       "        29, 53, 39,  8, 59, 56, 60,  9, 46, 15, 35, 15, 11, 54, 49,  6, 45,\n",
       "         5, 44, 43, 58, 53, 25, 37, 60, 13, 29, 46,  4, 49, 40, 16,  9, 21,\n",
       "        47, 42, 16, 13, 50, 44, 12, 49, 27, 26, 41, 19, 10,  8, 60, 11,  0,\n",
       "         6,  3, 22, 10, 20, 59, 36, 23,  1, 30, 38, 15, 52, 21, 45, 27, 39,\n",
       "         9, 37, 24, 55,  5, 12, 11, 30, 52, 52, 26, 19, 28, 13, 55],\n",
       "       dtype=int64),\n",
       " array([32, 37, 38, 52,  3, 48,  7, 53, 25, 31,  2, 49, 10,  2,  9,  4, 24,\n",
       "        29, 53, 39,  8, 59, 56, 60,  9, 46, 15, 35, 15, 11, 54, 49,  6, 45,\n",
       "         5, 44, 43, 58, 53, 25, 37, 60, 13, 29, 46,  4, 49, 40, 16,  9, 21,\n",
       "        47, 42, 16, 13, 50, 44, 12, 49, 27, 26, 41, 19, 10,  8, 60, 11,  0,\n",
       "         6,  3, 22, 10, 20, 59, 36, 23,  1, 30, 38, 15, 52, 21, 45, 27, 39,\n",
       "         9, 37, 24, 55,  5, 12, 11, 30, 52, 52, 26, 19, 28, 13, 55],\n",
       "       dtype=int64))"
      ]
     },
     "execution_count": 351,
     "metadata": {},
     "output_type": "execute_result"
    }
   ],
   "source": [
    "y_pred_classes[:100],y_test_classes[:100]"
   ]
  },
  {
   "cell_type": "code",
   "execution_count": 352,
   "id": "8a4488bc-8c28-4200-82e6-f0e4fdaad735",
   "metadata": {},
   "outputs": [
    {
     "data": {
      "text/plain": [
       "0.9980449785791582"
      ]
     },
     "execution_count": 352,
     "metadata": {},
     "output_type": "execute_result"
    }
   ],
   "source": [
    "from sklearn.metrics import recall_score, accuracy_score, precision_score, f1_score\n",
    "f1 = f1_score(y_pred_classes, y_test_classes, average='macro')\n",
    "f1"
   ]
  },
  {
   "cell_type": "code",
   "execution_count": null,
   "id": "83c51763-5730-437c-9faf-06ff0d93aca7",
   "metadata": {},
   "outputs": [],
   "source": []
  },
  {
   "cell_type": "code",
   "execution_count": null,
   "id": "3c1c7cc4-357b-4a72-b9c6-4331663795ff",
   "metadata": {},
   "outputs": [],
   "source": []
  },
  {
   "cell_type": "code",
   "execution_count": null,
   "id": "21ce6842-ffea-4496-8a2e-d0b4dd6abf76",
   "metadata": {},
   "outputs": [],
   "source": []
  },
  {
   "cell_type": "code",
   "execution_count": null,
   "id": "108154c9-6f0d-4bd6-b65f-498acc2022e7",
   "metadata": {},
   "outputs": [],
   "source": [
    "# 단어장을 이용해 문장을 숫자로 변경\n",
    "encoded_text=tokenizer.texts_to_sequences(pre_desc['split_desc'])\n",
    "pre_desc['encode_desc'] = tokenizer.texts_to_sequences(pre_desc['split_desc'])"
   ]
  },
  {
   "cell_type": "code",
   "execution_count": null,
   "id": "7a39dcd8-6bbb-497b-bb34-7acc6825f0b1",
   "metadata": {},
   "outputs": [],
   "source": [
    "len_list = pre_desc['encode_desc'].apply(lambda x: len(x))\n",
    "max(len_list), sum(len_list)/len(len_list)"
   ]
  },
  {
   "cell_type": "code",
   "execution_count": null,
   "id": "a97855eb-49e5-4f84-b99c-3e9a065de61f",
   "metadata": {},
   "outputs": [],
   "source": [
    "top_words = 1000\n",
    "max_len = 10\n",
    "vector_len = 30"
   ]
  },
  {
   "cell_type": "code",
   "execution_count": null,
   "id": "4e351e3e-7309-493d-9475-1dcfc8418a0d",
   "metadata": {},
   "outputs": [],
   "source": [
    "# OOV: Out-Of-Vocabulary\n",
    "# 사전에서 빈도수 높은 단어 1,000 개만 사용\n",
    "# 사전에 없는 단어 <OOV> 처리\n",
    "tokenizer2 = tf.keras.preprocessing.text.Tokenizer(num_words=top_words, oov_token='<OOV>')\n",
    "tokenizer2.fit_on_texts(pre_desc['split_desc'])\n",
    "# print('tokenizer2.index_docs', tokenizer2.index_docs)\n",
    "# print('tokenizer2.index_word', tokenizer2.index_word)\n",
    "# print('tokenizer2.word_index', tokenizer2.word_index)\n",
    "pre_desc['encode_desc_1000'] = tokenizer2.texts_to_sequences(pre_desc['split_desc'])"
   ]
  },
  {
   "cell_type": "code",
   "execution_count": null,
   "id": "c827b7d7-dc2e-4afc-ae00-5bc33d0916b7",
   "metadata": {},
   "outputs": [],
   "source": [
    "pre_desc.head(10)"
   ]
  },
  {
   "cell_type": "code",
   "execution_count": null,
   "id": "74ad73cb-7859-45b2-8353-0a97f1ac89c8",
   "metadata": {},
   "outputs": [],
   "source": [
    "# 문장의 길이가 다르므로 일치\n",
    "encode_desc_padding = tf.keras.preprocessing.sequence.pad_sequences(pre_desc['encode_desc_1000'], maxlen=max_len)"
   ]
  },
  {
   "cell_type": "code",
   "execution_count": null,
   "id": "30a4dc75-f7ee-4a75-bf72-90fd875e24e9",
   "metadata": {},
   "outputs": [],
   "source": [
    "encode_desc_padding.shape"
   ]
  },
  {
   "cell_type": "code",
   "execution_count": null,
   "id": "1c78b504-3b87-4660-b55e-69be377f36b2",
   "metadata": {},
   "outputs": [],
   "source": [
    "encode_desc_padding[:5]"
   ]
  },
  {
   "cell_type": "code",
   "execution_count": null,
   "id": "e5933f73-01ed-43bd-97bf-271b0e1c0aec",
   "metadata": {},
   "outputs": [],
   "source": [
    "embedding = tf.keras.layers.Embedding(input_dim =top_words, output_dim=vector_len)(encode_desc_padding)\n",
    "embedding.shape"
   ]
  },
  {
   "cell_type": "markdown",
   "id": "fa1b15dd-97c5-4c43-8634-826244f454b5",
   "metadata": {},
   "source": [
    "## 임베딩 데이터 셋"
   ]
  },
  {
   "cell_type": "code",
   "execution_count": null,
   "id": "83cc7eb8-e349-4c01-a3c4-2907248b1297",
   "metadata": {},
   "outputs": [],
   "source": [
    "batch_size = 5\n",
    "def embedding_dataset(data, shuffle=True, batch_size=32):\n",
    "  ds = tf.data.Dataset.from_tensor_slices({'desc': data})\n",
    "  if shuffle:\n",
    "    ds = ds.shuffle(buffer_size=len(data))\n",
    "  ds = ds.batch(batch_size)\n",
    "  ds = ds.prefetch(batch_size)\n",
    "  return ds"
   ]
  },
  {
   "cell_type": "code",
   "execution_count": null,
   "id": "eeabc689-08da-4af9-b9fa-06eb0d711f49",
   "metadata": {},
   "outputs": [],
   "source": [
    "embedding_dataset = embedding_dataset(encode_desc_padding, batch_size=batch_size)"
   ]
  },
  {
   "cell_type": "code",
   "execution_count": null,
   "id": "016d6d79-09a4-4a2b-a2cd-3f04ca0e4900",
   "metadata": {},
   "outputs": [],
   "source": [
    "for batch in embedding_dataset.take(1):\n",
    "  print(batch)"
   ]
  },
  {
   "cell_type": "code",
   "execution_count": null,
   "id": "55c9ee5b-875e-479b-9f3d-7b3e8a44d0da",
   "metadata": {},
   "outputs": [],
   "source": [
    "embedding = tf.keras.layers.Embedding(input_dim =top_words, output_dim=vector_len)"
   ]
  },
  {
   "cell_type": "code",
   "execution_count": null,
   "id": "f2457143-949f-4e7d-b7f7-eb8d554e1029",
   "metadata": {},
   "outputs": [],
   "source": [
    "embedding_layer = lambda feature: embedding(feature)"
   ]
  },
  {
   "cell_type": "code",
   "execution_count": null,
   "id": "c5ab80c3-7680-46f6-b581-74db343c5255",
   "metadata": {},
   "outputs": [],
   "source": [
    "embedding_layer(encode_desc_padding).shape"
   ]
  },
  {
   "cell_type": "code",
   "execution_count": null,
   "id": "efa3efcd-83e4-4591-af10-a7a831090422",
   "metadata": {},
   "outputs": [],
   "source": [
    "embedding_dataset.element_spec['desc'].shape[1]"
   ]
  },
  {
   "cell_type": "code",
   "execution_count": null,
   "id": "e1735127-8e85-4574-862e-3fecaaf6a29c",
   "metadata": {},
   "outputs": [],
   "source": [
    "embedding_col = tf.keras.Input(shape=(), name='desc', dtype='int64')"
   ]
  },
  {
   "cell_type": "code",
   "execution_count": null,
   "id": "c4c0a1de-f1d0-4502-9a33-a3e55641713d",
   "metadata": {},
   "outputs": [],
   "source": [
    "def get_text_encoding_layer(name, dataset, top_words, vector_len):\n",
    "   # Prepare a `tf.data.Dataset` that only yields the feature.\n",
    "  feature_ds = dataset.map(lambda x: x[name])\n",
    "  embedding = tf.keras.layers.Embedding(input_dim =top_words, output_dim=vector_len)\n",
    "  return lambda feature: embedding(feature)"
   ]
  },
  {
   "cell_type": "code",
   "execution_count": null,
   "id": "6ce0a7c2-072c-4864-8e86-9621544b55a4",
   "metadata": {},
   "outputs": [],
   "source": [
    "embedding_layer = get_text_encoding_layer('desc', embedding_dataset, top_words, vector_len)"
   ]
  },
  {
   "cell_type": "code",
   "execution_count": null,
   "id": "7d74ec1e-c9ab-4376-ac04-381a66818e1f",
   "metadata": {},
   "outputs": [],
   "source": [
    "embedding_layer(embedding_col)"
   ]
  },
  {
   "cell_type": "code",
   "execution_count": null,
   "id": "928c480c-dd00-49c5-8d27-98aec860db2f",
   "metadata": {},
   "outputs": [],
   "source": []
  },
  {
   "cell_type": "code",
   "execution_count": null,
   "id": "8d6c671a-ac02-4ebf-ae28-48503d6f00ce",
   "metadata": {},
   "outputs": [],
   "source": [
    "all_inputs = []\n",
    "encoded_features = []"
   ]
  },
  {
   "cell_type": "code",
   "execution_count": null,
   "id": "cf7c8dd0-e2b6-47c6-8a38-fbecf2d17cab",
   "metadata": {},
   "outputs": [],
   "source": [
    "# text features.\n",
    "for header in ['desc']:\n",
    "  embedding_col = tf.keras.Input(shape=(), name='desc', dtype='int64')\n",
    "  embedding_layer = get_text_encoding_layer('desc', embedding_dataset, top_words, vector_len)\n",
    "  encoded_embedding_col = embedding_layer(embedding_col)\n",
    "  all_inputs.append(embedding_col)\n",
    "  encoded_features.append(encoded_embedding_col)"
   ]
  },
  {
   "cell_type": "code",
   "execution_count": null,
   "id": "18da10cb-984d-4533-aa4c-75706b0103d3",
   "metadata": {},
   "outputs": [],
   "source": [
    "for d in all_inputs:\n",
    "  print(type(d), d.shape)"
   ]
  },
  {
   "cell_type": "code",
   "execution_count": null,
   "id": "51decdc9-b81b-4757-b7f3-7b6d684e1696",
   "metadata": {},
   "outputs": [],
   "source": [
    "for d in encoded_features:\n",
    "  print(type(d), d.shape)"
   ]
  },
  {
   "cell_type": "code",
   "execution_count": null,
   "id": "f6e7d7c9-a5f3-4828-ba6b-50dab8063f3b",
   "metadata": {},
   "outputs": [],
   "source": [
    "from keras.layers import Input, Embedding, Dense\n",
    "all_features = tf.keras.layers.concatenate(encoded_features)\n",
    "x = tf.keras.layers.Dense(64, activation=\"relu\")(all_features)\n",
    "x = tf.keras.layers.Dropout(0.5)(x)\n",
    "output = tf.keras.layers.Dense(1)(x)\n",
    "# outputs = Dense(61, activation='softmax', name=\"Prediction_output\")(x)\n",
    "\n",
    "model2 = tf.keras.Model(all_inputs, output)\n",
    "\n",
    "model2.summary()"
   ]
  },
  {
   "cell_type": "code",
   "execution_count": null,
   "id": "4cebc734-ced7-492a-ab2e-c80912695257",
   "metadata": {},
   "outputs": [],
   "source": [
    "# optimizer=tf.keras.optimizers.Adam()\n",
    "optimizer = tf.keras.optimizers.SGD(learning_rate=0.001)"
   ]
  },
  {
   "cell_type": "code",
   "execution_count": null,
   "id": "7c3242fe-0481-47c8-9ca6-f3d5b048bc45",
   "metadata": {},
   "outputs": [],
   "source": [
    "model2.compile(loss=tf.keras.losses.CategoricalCrossentropy(from_logits=False),\n",
    "                       optimizer=optimizer,\n",
    "                       metrics=['accuracy'])"
   ]
  },
  {
   "cell_type": "code",
   "execution_count": null,
   "id": "437ea12e-3ccb-4988-b643-b49369669988",
   "metadata": {},
   "outputs": [],
   "source": [
    "model2.fit(embedding_dataset,y_train, epochs=10, batch_size=32)"
   ]
  },
  {
   "cell_type": "code",
   "execution_count": null,
   "id": "33f4f4d2-64f9-4a27-a073-56779da50eef",
   "metadata": {},
   "outputs": [],
   "source": []
  },
  {
   "cell_type": "code",
   "execution_count": null,
   "id": "52e37b8d-8df7-4ffa-b029-22ea1db6296c",
   "metadata": {},
   "outputs": [],
   "source": []
  },
  {
   "cell_type": "code",
   "execution_count": null,
   "id": "5c047238-e16a-49b4-8c9c-2fb7a970f9d8",
   "metadata": {},
   "outputs": [],
   "source": []
  },
  {
   "cell_type": "code",
   "execution_count": null,
   "id": "9b4262e6-dadc-4e2f-aa65-7a35c8cb1948",
   "metadata": {},
   "outputs": [],
   "source": []
  },
  {
   "cell_type": "code",
   "execution_count": null,
   "id": "12290851-86e2-4719-937b-40d54fb1f770",
   "metadata": {},
   "outputs": [],
   "source": [
    "def df_to_dataset(data, shuffle=True, batch_size=32):\n",
    "  ds = tf.data.Dataset.from_tensor_slices({'desc': data})\n",
    "  if shuffle:\n",
    "    ds = ds.shuffle(buffer_size=len(data))\n",
    "  ds = ds.batch(batch_size)\n",
    "  ds = ds.prefetch(batch_size)\n",
    "  return ds"
   ]
  },
  {
   "cell_type": "code",
   "execution_count": null,
   "id": "a9dd3538-4bce-4221-8c26-fbb949ba8438",
   "metadata": {},
   "outputs": [],
   "source": [
    "embedding_dataset = df_to_dataset(encode_desc_padding, batch_size=batch_size)"
   ]
  },
  {
   "cell_type": "code",
   "execution_count": null,
   "id": "1f7402f4-f339-49c4-ae66-06ea290c1be3",
   "metadata": {},
   "outputs": [],
   "source": [
    "encode_desc_padding"
   ]
  },
  {
   "cell_type": "code",
   "execution_count": null,
   "id": "07f29427-f9bf-4e32-9b3e-afea5879bcd4",
   "metadata": {},
   "outputs": [],
   "source": [
    "df2 = pd.DataFrame()\n",
    "df2['desc'] = pre_desc['origin']\n",
    "df2['y'] = df['key2_encoded']"
   ]
  },
  {
   "cell_type": "code",
   "execution_count": null,
   "id": "321a0b2a-db6d-4ef0-a189-b2749cb94bec",
   "metadata": {},
   "outputs": [],
   "source": [
    "y = df2['y'].values"
   ]
  },
  {
   "cell_type": "code",
   "execution_count": null,
   "id": "b06e6f34-a3cc-4703-826e-a3869e47fa32",
   "metadata": {},
   "outputs": [],
   "source": [
    "y"
   ]
  },
  {
   "cell_type": "code",
   "execution_count": null,
   "id": "6363f7cf-10b7-4c69-84f7-3a98abaf839c",
   "metadata": {},
   "outputs": [],
   "source": [
    "X = df2['desc']"
   ]
  },
  {
   "cell_type": "code",
   "execution_count": null,
   "id": "68ebff6b-7237-45ae-b114-163ec22a49c2",
   "metadata": {},
   "outputs": [],
   "source": [
    "# 데이터를 학습용과 검증용으로 나누기\n",
    "from sklearn.model_selection import train_test_split\n",
    "X_train, X_test, y_train, y_test = train_test_split(X, y, test_size=0.3, random_state=42,shuffle=True)"
   ]
  },
  {
   "cell_type": "code",
   "execution_count": null,
   "id": "6bc6260a-66a4-4985-b1ea-30c24a20799d",
   "metadata": {},
   "outputs": [],
   "source": [
    "# 딥러닝 모델을 만들기 위해 categorical 함수 사용\n",
    "from tensorflow.keras.utils import to_categorical\n",
    "y_train_categorical = to_categorical(y_train, num_classes=61)\n",
    "y_test_categorical = to_categorical(y_test, num_classes=61)"
   ]
  },
  {
   "cell_type": "code",
   "execution_count": null,
   "id": "314af654-50da-43a2-840e-1670359143ae",
   "metadata": {},
   "outputs": [],
   "source": [
    "X_train"
   ]
  },
  {
   "cell_type": "code",
   "execution_count": null,
   "id": "01d37408-0713-41d5-aa26-0bfc01826a6f",
   "metadata": {},
   "outputs": [],
   "source": [
    "# train set\n",
    "train_features = X_train.values\n",
    "train_labels = y_train_categorical\n",
    "# features= {\n",
    "#    'desc': X_train.values,\n",
    "# }\n",
    "# labels = y_train_categorical\n",
    "\n",
    "# tf.data.Dataset 생성\n",
    "train_dataset = tf.data.Dataset.from_tensor_slices((train_features, train_labels))"
   ]
  },
  {
   "cell_type": "code",
   "execution_count": null,
   "id": "0bcc55fd-b8e8-42f4-a3ac-6f63b896b9a9",
   "metadata": {},
   "outputs": [],
   "source": [
    "model2.fit(train_dataset, epochs=10, batch_size=32)"
   ]
  },
  {
   "cell_type": "code",
   "execution_count": null,
   "id": "bd5d794f-94fb-4e44-9f39-552e2400436d",
   "metadata": {},
   "outputs": [],
   "source": [
    "# test set\n",
    "predict_features = {\n",
    "   'desc': X_test.values,\n",
    "}"
   ]
  },
  {
   "cell_type": "code",
   "execution_count": null,
   "id": "47b0471f-0973-4408-b9da-6f0840f59ff6",
   "metadata": {},
   "outputs": [],
   "source": [
    "# Apply the preprocessing in tf.data.Dataset.map.\n",
    "dataset = tf.data.Dataset.from_tensor_slices((features, labels)).batch(1)\n",
    "dataset = dataset.map(lambda x, y: (preprocessing_model(x), y),\n",
    "                      num_parallel_calls=tf.data.AUTOTUNE)\n",
    "# Display a preprocessed input sample.\n",
    "next(dataset.take(1).as_numpy_iterator())"
   ]
  },
  {
   "cell_type": "code",
   "execution_count": null,
   "id": "433af1ea-aa3e-4382-852a-5d892ee62cda",
   "metadata": {},
   "outputs": [],
   "source": [
    "pre_desc.head(10)"
   ]
  },
  {
   "cell_type": "code",
   "execution_count": null,
   "id": "9cb6ada9-ea53-45a0-8c19-7b6c638a045f",
   "metadata": {},
   "outputs": [],
   "source": [
    "# 입력 데이터와 레이블 데이터 준비\n",
    "train_features = ...\n",
    "train_labels = ...\n",
    "\n",
    "# tf.data.Dataset 생성\n",
    "train_dataset = tf.data.Dataset.from_tensor_slices((train_features, train_labels))"
   ]
  },
  {
   "cell_type": "code",
   "execution_count": null,
   "id": "9926aa45-b298-4d3b-96e6-06bc02e7f96b",
   "metadata": {},
   "outputs": [],
   "source": []
  },
  {
   "cell_type": "code",
   "execution_count": null,
   "id": "95cca908-a5f4-4c0a-bf66-8a7019cbe616",
   "metadata": {},
   "outputs": [],
   "source": []
  },
  {
   "cell_type": "code",
   "execution_count": null,
   "id": "2fa62fe2-a215-4f68-8d8e-4f9313a23f3d",
   "metadata": {},
   "outputs": [],
   "source": []
  },
  {
   "cell_type": "code",
   "execution_count": null,
   "id": "10a09bf7-115d-4f6b-9a3c-29c6b6d0dda4",
   "metadata": {},
   "outputs": [],
   "source": []
  },
  {
   "cell_type": "code",
   "execution_count": null,
   "id": "7e1d1c36-4908-4870-86ae-370b906c5ba5",
   "metadata": {},
   "outputs": [],
   "source": []
  },
  {
   "cell_type": "code",
   "execution_count": null,
   "id": "02ecbc09-49c2-47eb-b8ab-21e25505c184",
   "metadata": {},
   "outputs": [],
   "source": []
  },
  {
   "cell_type": "code",
   "execution_count": null,
   "id": "3fbd4ff7-9416-48fc-9eed-89b8dc373bbd",
   "metadata": {},
   "outputs": [],
   "source": [
    "df.head()"
   ]
  },
  {
   "cell_type": "code",
   "execution_count": null,
   "id": "256b45f5-572d-4055-8533-19bd581126a7",
   "metadata": {},
   "outputs": [],
   "source": [
    "df2= df.copy()"
   ]
  },
  {
   "cell_type": "code",
   "execution_count": null,
   "id": "112fc00d-65b5-45f3-b220-19e95bcbe052",
   "metadata": {},
   "outputs": [],
   "source": [
    "df2"
   ]
  },
  {
   "cell_type": "code",
   "execution_count": null,
   "id": "1198d738-06fa-4290-be28-373ed9d34fbf",
   "metadata": {},
   "outputs": [],
   "source": []
  },
  {
   "cell_type": "code",
   "execution_count": null,
   "id": "4bf542e4-f0fd-4cf6-a1ef-f2eef839010d",
   "metadata": {},
   "outputs": [],
   "source": []
  },
  {
   "cell_type": "code",
   "execution_count": null,
   "id": "47f27806-ff24-411f-988f-c35f5be279ee",
   "metadata": {},
   "outputs": [],
   "source": []
  },
  {
   "cell_type": "code",
   "execution_count": null,
   "id": "3c97de25-19e5-441d-96a4-f22da47b5110",
   "metadata": {},
   "outputs": [],
   "source": []
  },
  {
   "cell_type": "code",
   "execution_count": null,
   "id": "27b48bb4-c3e6-46ee-81a4-fb82b5aa07e8",
   "metadata": {},
   "outputs": [],
   "source": []
  },
  {
   "cell_type": "code",
   "execution_count": null,
   "id": "fa1a0180-8500-4e4a-8ad0-c7b79f017ccb",
   "metadata": {},
   "outputs": [],
   "source": []
  },
  {
   "cell_type": "code",
   "execution_count": null,
   "id": "3cae40d3-87a3-4bd9-b718-f8f2e12f3def",
   "metadata": {},
   "outputs": [],
   "source": []
  }
 ],
 "metadata": {
  "kernelspec": {
   "display_name": "venv",
   "language": "python",
   "name": "venv"
  },
  "language_info": {
   "codemirror_mode": {
    "name": "ipython",
    "version": 3
   },
   "file_extension": ".py",
   "mimetype": "text/x-python",
   "name": "python",
   "nbconvert_exporter": "python",
   "pygments_lexer": "ipython3",
   "version": "3.10.10"
  }
 },
 "nbformat": 4,
 "nbformat_minor": 5
}
