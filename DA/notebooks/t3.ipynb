{
 "cells": [
  {
   "cell_type": "code",
   "execution_count": 1,
   "id": "27754aa5-435e-4990-87c1-645aae277d38",
   "metadata": {
    "tags": []
   },
   "outputs": [],
   "source": [
    "import pandas as pd\n",
    "import numpy as np\n",
    "import matplotlib.pyplot as plt\n",
    "from sklearn.model_selection import train_test_split\n",
    "from sklearn.preprocessing import StandardScaler, LabelEncoder\n",
    "\n",
    "import tensorflow as tf\n",
    "from tensorflow import keras\n",
    "from tensorflow.keras import layers"
   ]
  },
  {
   "cell_type": "code",
   "execution_count": 5,
   "id": "019767a8-b1e0-4a57-a1ab-16d4efa4acc2",
   "metadata": {
    "tags": []
   },
   "outputs": [],
   "source": [
    "data = pd.read_csv('../data/raw_postpro.csv')\n",
    "# 컬럼 삭제\n",
    "df = data.drop(['청구서번호','No.',  '선박입고','완료 여부','리드타임_음수제거','청구량','견적','견적수량','견적화폐','견적단가','발주번호','발주','발주수량','발주금액','미입고 기간','리드타임','창고입고','창고입고수량','입고창고','창고출고','창고출고수량','출고선박','출고운반선','선박입고','선박입고수량','완료 여부'], axis=1)"
   ]
  },
  {
   "cell_type": "code",
   "execution_count": 6,
   "id": "5365037e-3bc6-4779-bfb4-1901be56cea9",
   "metadata": {
    "tags": []
   },
   "outputs": [
    {
     "name": "stdout",
     "output_type": "stream",
     "text": [
      "<class 'pandas.core.frame.DataFrame'>\n",
      "RangeIndex: 20517 entries, 0 to 20516\n",
      "Data columns (total 12 columns):\n",
      " #   Column       Non-Null Count  Dtype \n",
      "---  ------       --------------  ----- \n",
      " 0   Subject      20517 non-null  object\n",
      " 1   Machinery    20517 non-null  object\n",
      " 2   Assembly     20517 non-null  object\n",
      " 3   청구품목         20517 non-null  object\n",
      " 4   Part No.1    20517 non-null  object\n",
      " 5   Part No.2    20517 non-null  object\n",
      " 6   key1         20517 non-null  object\n",
      " 7   key2         20517 non-null  object\n",
      " 8   발주처          20517 non-null  object\n",
      " 9   D/T          20517 non-null  object\n",
      " 10  Control No.  20517 non-null  object\n",
      " 11  leadtime     20517 non-null  int64 \n",
      "dtypes: int64(1), object(11)\n",
      "memory usage: 1.9+ MB\n"
     ]
    }
   ],
   "source": [
    "df.info()"
   ]
  },
  {
   "cell_type": "code",
   "execution_count": 7,
   "id": "4bd134ea-0157-4fa9-bec4-fffe52f00092",
   "metadata": {
    "tags": []
   },
   "outputs": [],
   "source": [
    "df = df[['청구품목','발주처','Machinery', 'Assembly' , \"Part No.1\", \"Part No.2\",'key2']]\n",
    "# 'Machinery', 'Assembly', '청구품목', 'Part No.1', 'Part No.2', 'key1', '발주처'"
   ]
  },
  {
   "cell_type": "code",
   "execution_count": 8,
   "id": "c4d42bd2-6bbc-484f-9e51-238d432d7e16",
   "metadata": {
    "tags": []
   },
   "outputs": [
    {
     "name": "stdout",
     "output_type": "stream",
     "text": [
      "<class 'pandas.core.frame.DataFrame'>\n",
      "RangeIndex: 20517 entries, 0 to 20516\n",
      "Data columns (total 7 columns):\n",
      " #   Column     Non-Null Count  Dtype \n",
      "---  ------     --------------  ----- \n",
      " 0   청구품목       20517 non-null  object\n",
      " 1   발주처        20517 non-null  object\n",
      " 2   Machinery  20517 non-null  object\n",
      " 3   Assembly   20517 non-null  object\n",
      " 4   Part No.1  20517 non-null  object\n",
      " 5   Part No.2  20517 non-null  object\n",
      " 6   key2       20517 non-null  object\n",
      "dtypes: object(7)\n",
      "memory usage: 1.1+ MB\n"
     ]
    }
   ],
   "source": [
    "df.info()"
   ]
  },
  {
   "cell_type": "code",
   "execution_count": 9,
   "id": "c1f70b78-dc96-4e24-9922-b756b4df77e7",
   "metadata": {
    "tags": []
   },
   "outputs": [],
   "source": [
    "from sklearn import preprocessing\n",
    "label_encoders = {}  # 각 열에 대한 LabelEncoder를 저장하기 위한 딕셔너리\n",
    "columns_to_encode = ['key2']  # 인코딩을 수행할 열의 이름 리스트\n",
    "\n",
    "for column in columns_to_encode:\n",
    "    le = preprocessing.LabelEncoder()\n",
    "    le.fit(df[column])\n",
    "    label_encoders[column] = le # 딕셔너리에 저장\n",
    "    df[column+\"_encoded\"] = le.transform(df[column]) # 새로운 encoding 된 컬럼 추가"
   ]
  },
  {
   "cell_type": "code",
   "execution_count": 10,
   "id": "eabb3eb6-b82b-49a8-b4c0-e9cbddefa22d",
   "metadata": {
    "tags": []
   },
   "outputs": [],
   "source": [
    "df = df.drop(['key2'], axis=1)"
   ]
  },
  {
   "cell_type": "code",
   "execution_count": 11,
   "id": "fbf44674-a660-412e-8055-1b4e28555c3a",
   "metadata": {
    "tags": []
   },
   "outputs": [
    {
     "name": "stdout",
     "output_type": "stream",
     "text": [
      "<class 'pandas.core.frame.DataFrame'>\n",
      "RangeIndex: 20517 entries, 0 to 20516\n",
      "Data columns (total 7 columns):\n",
      " #   Column        Non-Null Count  Dtype \n",
      "---  ------        --------------  ----- \n",
      " 0   청구품목          20517 non-null  object\n",
      " 1   발주처           20517 non-null  object\n",
      " 2   Machinery     20517 non-null  object\n",
      " 3   Assembly      20517 non-null  object\n",
      " 4   Part No.1     20517 non-null  object\n",
      " 5   Part No.2     20517 non-null  object\n",
      " 6   key2_encoded  20517 non-null  int32 \n",
      "dtypes: int32(1), object(6)\n",
      "memory usage: 1.0+ MB\n"
     ]
    }
   ],
   "source": [
    "df.info()"
   ]
  },
  {
   "cell_type": "code",
   "execution_count": 12,
   "id": "bf22ea20-7c53-4de5-b007-cdefa438152a",
   "metadata": {
    "tags": []
   },
   "outputs": [],
   "source": [
    "# df_desc = df[[ '청구품목', '발주처']].apply(lambda row: ' '.join(row), axis=1)\n",
    "df_desc = df[[ '청구품목', '발주처','Machinery', 'Assembly' , \"Part No.1\", \"Part No.2\"]].apply(lambda row: ' '.join(row), axis=1)"
   ]
  },
  {
   "cell_type": "code",
   "execution_count": 13,
   "id": "44df43da-ec6a-49b5-8fd0-1ad7fb9b4d5e",
   "metadata": {
    "tags": []
   },
   "outputs": [],
   "source": [
    "lis = df_desc.values"
   ]
  },
  {
   "cell_type": "code",
   "execution_count": 14,
   "id": "db87af96-4046-4688-85a5-7aed2a53674c",
   "metadata": {
    "tags": []
   },
   "outputs": [
    {
     "name": "stdout",
     "output_type": "stream",
     "text": [
      "SEAL-O-RING-STOR HAEIN Coporation_Cheonan NO.1 GENERATOR ENGINE 323-6480 LINES GP-FUEL  7.00E-275 0\n",
      "OIL COOLER & LINES HAEIN Coporation_Cheonan NO.2 GENERATOR ENGINE GASKET KIT 7.00E-275 0\n",
      "WASHER HAEIN Coporation_Cheonan NO.2 GENERATOR ENGINE 285-8374 MANIFOLD GP-EXH  7.00E-275 0\n",
      "BOLT-HIGH TEMP HAEIN Coporation_Cheonan NO.1 GENERATOR ENGINE 159-8828 TURBO GP 7.00E-275 0\n",
      "SEAL HAEIN Coporation_Cheonan NO.1 GENERATOR ENGINE 2N4727 INSTRUMNT PANEL GP 7.00E-275 0\n",
      "CORE CHARGES FOR CYLINDER PACK AS HAEIN Coporation_Cheonan NO.2 GENERATOR ENGINE 8N-6224 PISTON GP-ROD& 7.00E-275 0\n",
      "PUMP GP-F TFR-REMAN HAEIN Coporation_Cheonan NO.3 GENERATOR ENGINE 8N-6151 PUMP GP-F TFR  7.00E-275 0\n",
      "GEAR-WTR PUMP DR HAEIN Coporation_Cheonan NO.1 GENERATOR ENGINE 8N-7174 GEAR GP-FRONT  7.00E-275 0\n",
      "GEAR-WTR PUMP DR HAEIN Coporation_Cheonan NO.3 GENERATOR ENGINE 8N-7174 GEAR GP-FRONT  7.00E-275 0\n",
      "GEAR-WTR PUMP DR HAEIN Coporation_Cheonan NO.3 GENERATOR ENGINE 8N-7174 GEAR GP-FRONT  7.00E-275 0\n",
      "GEAR-WTR PUMP DR HAEIN Coporation_Cheonan NO.1 GENERATOR ENGINE 8N-7174 GEAR GP-FRONT  7.00E-275 0\n",
      "GEAR-WTR PUMP DR HAEIN Coporation_Cheonan NO.1 GENERATOR ENGINE 8N-7174 GEAR GP-FRONT  7.00E-275 0\n",
      "GEAR-WTR PUMP DR HAEIN Coporation_Cheonan NO.3 GENERATOR ENGINE 8N-7174 GEAR GP-FRONT  7.00E-275 0\n",
      "IMPELLER (주)정원펌프 NO.1 CONDENSER PUMP PUMP PARTS 3 0\n",
      "SELF-ALIGNING ROLLER BEARING 대동베아링상사 BOW THRUSTER OVERHAUL PARTS 4.56 133\n",
      "TAPERED ROLLER BEARING 대동베아링상사 BOW THRUSTER OVERHAUL PARTS 5.57 134\n",
      "SELF-ALIGNING ROLLER BEARING 대동베아링상사 BOW THRUSTER OVERHAUL PARTS 6.58 135\n",
      "TAPERED ROLLER BEARING 대동베아링상사 BOW THRUSTER OVERHAUL PARTS 7.59 350\n",
      "EXHUAST GAS TEMP. INDICATOR, P5 PIRIOU NAVAL SKIFF BOAT IMPLANTATION INSTRUMENTS 14.9795 0\n",
      "EXHAUST GAS TEMPERATURE INDICATOR 0 TO 700℃ PIRIOU NAVAL SKIFF BOAT IMPLANTATION INSTRUMENTS 14.9795 0\n"
     ]
    }
   ],
   "source": [
    "cnt = 0\n",
    "for i in lis:\n",
    "    print(i)\n",
    "    cnt += 1\n",
    "    if cnt == 20:\n",
    "        break"
   ]
  },
  {
   "cell_type": "code",
   "execution_count": 15,
   "id": "0df43b32-2ac6-405a-88e1-be487c1ee60e",
   "metadata": {
    "tags": []
   },
   "outputs": [],
   "source": [
    "desc = df_desc.to_frame()"
   ]
  },
  {
   "cell_type": "code",
   "execution_count": 16,
   "id": "c40232dc-32b1-4cf3-ba9b-dedd90250c50",
   "metadata": {
    "tags": []
   },
   "outputs": [],
   "source": [
    "desc['key2'] = df['key2_encoded']"
   ]
  },
  {
   "cell_type": "code",
   "execution_count": 17,
   "id": "a21a1844-ae1d-4d3a-8b41-1092466c096d",
   "metadata": {
    "tags": []
   },
   "outputs": [
    {
     "data": {
      "text/html": [
       "<div>\n",
       "<style scoped>\n",
       "    .dataframe tbody tr th:only-of-type {\n",
       "        vertical-align: middle;\n",
       "    }\n",
       "\n",
       "    .dataframe tbody tr th {\n",
       "        vertical-align: top;\n",
       "    }\n",
       "\n",
       "    .dataframe thead th {\n",
       "        text-align: right;\n",
       "    }\n",
       "</style>\n",
       "<table border=\"1\" class=\"dataframe\">\n",
       "  <thead>\n",
       "    <tr style=\"text-align: right;\">\n",
       "      <th></th>\n",
       "      <th>0</th>\n",
       "      <th>key2</th>\n",
       "    </tr>\n",
       "  </thead>\n",
       "  <tbody>\n",
       "    <tr>\n",
       "      <th>0</th>\n",
       "      <td>SEAL-O-RING-STOR HAEIN Coporation_Cheonan NO.1...</td>\n",
       "      <td>18</td>\n",
       "    </tr>\n",
       "    <tr>\n",
       "      <th>1</th>\n",
       "      <td>OIL COOLER &amp; LINES HAEIN Coporation_Cheonan NO...</td>\n",
       "      <td>18</td>\n",
       "    </tr>\n",
       "    <tr>\n",
       "      <th>2</th>\n",
       "      <td>WASHER HAEIN Coporation_Cheonan NO.2 GENERATOR...</td>\n",
       "      <td>18</td>\n",
       "    </tr>\n",
       "    <tr>\n",
       "      <th>3</th>\n",
       "      <td>BOLT-HIGH TEMP HAEIN Coporation_Cheonan NO.1 G...</td>\n",
       "      <td>18</td>\n",
       "    </tr>\n",
       "    <tr>\n",
       "      <th>4</th>\n",
       "      <td>SEAL HAEIN Coporation_Cheonan NO.1 GENERATOR E...</td>\n",
       "      <td>18</td>\n",
       "    </tr>\n",
       "    <tr>\n",
       "      <th>...</th>\n",
       "      <td>...</td>\n",
       "      <td>...</td>\n",
       "    </tr>\n",
       "    <tr>\n",
       "      <th>20512</th>\n",
       "      <td>HYD. CYLINDER_NET BOAT DAVIT MARINE HYDROTEC C...</td>\n",
       "      <td>20</td>\n",
       "    </tr>\n",
       "    <tr>\n",
       "      <th>20513</th>\n",
       "      <td>HYD. CYLINDER_N.D CRANE_BOOM_LIFTER MARINE HYD...</td>\n",
       "      <td>20</td>\n",
       "    </tr>\n",
       "    <tr>\n",
       "      <th>20514</th>\n",
       "      <td>PULLY PORT RELIEF ENGINEERING CO.,LTD. 6M NET ...</td>\n",
       "      <td>5</td>\n",
       "    </tr>\n",
       "    <tr>\n",
       "      <th>20515</th>\n",
       "      <td>CYLINDER  PORT RELIEF ENGINEERING CO.,LTD. 7M ...</td>\n",
       "      <td>20</td>\n",
       "    </tr>\n",
       "    <tr>\n",
       "      <th>20516</th>\n",
       "      <td>SEAL KIT FOR CYLINDER PORT RELIEF ENGINEERING ...</td>\n",
       "      <td>20</td>\n",
       "    </tr>\n",
       "  </tbody>\n",
       "</table>\n",
       "<p>20517 rows × 2 columns</p>\n",
       "</div>"
      ],
      "text/plain": [
       "                                                       0  key2\n",
       "0      SEAL-O-RING-STOR HAEIN Coporation_Cheonan NO.1...    18\n",
       "1      OIL COOLER & LINES HAEIN Coporation_Cheonan NO...    18\n",
       "2      WASHER HAEIN Coporation_Cheonan NO.2 GENERATOR...    18\n",
       "3      BOLT-HIGH TEMP HAEIN Coporation_Cheonan NO.1 G...    18\n",
       "4      SEAL HAEIN Coporation_Cheonan NO.1 GENERATOR E...    18\n",
       "...                                                  ...   ...\n",
       "20512  HYD. CYLINDER_NET BOAT DAVIT MARINE HYDROTEC C...    20\n",
       "20513  HYD. CYLINDER_N.D CRANE_BOOM_LIFTER MARINE HYD...    20\n",
       "20514  PULLY PORT RELIEF ENGINEERING CO.,LTD. 6M NET ...     5\n",
       "20515  CYLINDER  PORT RELIEF ENGINEERING CO.,LTD. 7M ...    20\n",
       "20516  SEAL KIT FOR CYLINDER PORT RELIEF ENGINEERING ...    20\n",
       "\n",
       "[20517 rows x 2 columns]"
      ]
     },
     "execution_count": 17,
     "metadata": {},
     "output_type": "execute_result"
    }
   ],
   "source": [
    "desc"
   ]
  },
  {
   "cell_type": "code",
   "execution_count": 18,
   "id": "6793d0e7-e427-4da4-9f1e-2311e60c07d7",
   "metadata": {
    "tags": []
   },
   "outputs": [],
   "source": [
    "desc.columns = ['origin','key2']"
   ]
  },
  {
   "cell_type": "code",
   "execution_count": 19,
   "id": "f9b2cd6c-c667-45f7-b6d1-5317d678b348",
   "metadata": {
    "tags": []
   },
   "outputs": [
    {
     "data": {
      "text/html": [
       "<div>\n",
       "<style scoped>\n",
       "    .dataframe tbody tr th:only-of-type {\n",
       "        vertical-align: middle;\n",
       "    }\n",
       "\n",
       "    .dataframe tbody tr th {\n",
       "        vertical-align: top;\n",
       "    }\n",
       "\n",
       "    .dataframe thead th {\n",
       "        text-align: right;\n",
       "    }\n",
       "</style>\n",
       "<table border=\"1\" class=\"dataframe\">\n",
       "  <thead>\n",
       "    <tr style=\"text-align: right;\">\n",
       "      <th></th>\n",
       "      <th>origin</th>\n",
       "      <th>key2</th>\n",
       "    </tr>\n",
       "  </thead>\n",
       "  <tbody>\n",
       "    <tr>\n",
       "      <th>0</th>\n",
       "      <td>SEAL-O-RING-STOR HAEIN Coporation_Cheonan NO.1...</td>\n",
       "      <td>18</td>\n",
       "    </tr>\n",
       "    <tr>\n",
       "      <th>1</th>\n",
       "      <td>OIL COOLER &amp; LINES HAEIN Coporation_Cheonan NO...</td>\n",
       "      <td>18</td>\n",
       "    </tr>\n",
       "    <tr>\n",
       "      <th>2</th>\n",
       "      <td>WASHER HAEIN Coporation_Cheonan NO.2 GENERATOR...</td>\n",
       "      <td>18</td>\n",
       "    </tr>\n",
       "    <tr>\n",
       "      <th>3</th>\n",
       "      <td>BOLT-HIGH TEMP HAEIN Coporation_Cheonan NO.1 G...</td>\n",
       "      <td>18</td>\n",
       "    </tr>\n",
       "    <tr>\n",
       "      <th>4</th>\n",
       "      <td>SEAL HAEIN Coporation_Cheonan NO.1 GENERATOR E...</td>\n",
       "      <td>18</td>\n",
       "    </tr>\n",
       "  </tbody>\n",
       "</table>\n",
       "</div>"
      ],
      "text/plain": [
       "                                              origin  key2\n",
       "0  SEAL-O-RING-STOR HAEIN Coporation_Cheonan NO.1...    18\n",
       "1  OIL COOLER & LINES HAEIN Coporation_Cheonan NO...    18\n",
       "2  WASHER HAEIN Coporation_Cheonan NO.2 GENERATOR...    18\n",
       "3  BOLT-HIGH TEMP HAEIN Coporation_Cheonan NO.1 G...    18\n",
       "4  SEAL HAEIN Coporation_Cheonan NO.1 GENERATOR E...    18"
      ]
     },
     "execution_count": 19,
     "metadata": {},
     "output_type": "execute_result"
    }
   ],
   "source": [
    "desc.head()"
   ]
  },
  {
   "cell_type": "code",
   "execution_count": 28,
   "id": "cf3b513c-c392-40dc-b3d8-498954d7a370",
   "metadata": {
    "tags": []
   },
   "outputs": [],
   "source": [
    "X = desc['origin'].values"
   ]
  },
  {
   "cell_type": "code",
   "execution_count": 29,
   "id": "bff7bb7a-67b9-4af6-adaa-32c967753132",
   "metadata": {
    "tags": []
   },
   "outputs": [],
   "source": [
    "y = desc['key2'].values"
   ]
  },
  {
   "cell_type": "code",
   "execution_count": 30,
   "id": "72ccc925-5f19-4045-be04-7c0079e73032",
   "metadata": {
    "tags": []
   },
   "outputs": [
    {
     "data": {
      "text/plain": [
       "[[28,\n",
       "  26,\n",
       "  21,\n",
       "  269,\n",
       "  6,\n",
       "  7,\n",
       "  8,\n",
       "  3,\n",
       "  4,\n",
       "  9,\n",
       "  2,\n",
       "  1016,\n",
       "  1209,\n",
       "  59,\n",
       "  5,\n",
       "  54,\n",
       "  292,\n",
       "  1670,\n",
       "  1450,\n",
       "  1],\n",
       " [31, 103, 59, 6, 7, 8, 3, 44, 9, 2, 27, 47, 292, 1670, 1450, 1],\n",
       " [86, 6, 7, 8, 3, 44, 9, 2, 278, 282, 73, 5, 156, 292, 1670, 1450, 1],\n",
       " [76, 306, 197, 6, 7, 8, 3, 4, 9, 2, 499, 589, 150, 5, 292, 1670, 1450, 1],\n",
       " [28, 6, 7, 8, 3, 4, 9, 2, 4715, 4716, 231, 5, 292, 1670, 1450, 1]]"
      ]
     },
     "execution_count": 30,
     "metadata": {},
     "output_type": "execute_result"
    }
   ],
   "source": [
    "from tensorflow.keras.preprocessing.text import Tokenizer\n",
    "from tensorflow.keras.preprocessing.sequence import pad_sequences\n",
    "tokenizer = Tokenizer()\n",
    "tokenizer.fit_on_texts(X)\n",
    "sequences = tokenizer.texts_to_sequences(X)\n",
    "sequences[:5] # 상위 5개 샘플 출력"
   ]
  },
  {
   "cell_type": "code",
   "execution_count": 45,
   "id": "506b4b39-b892-4713-9e87-8d0b06331ae6",
   "metadata": {
    "tags": []
   },
   "outputs": [
    {
     "name": "stdout",
     "output_type": "stream",
     "text": [
      "단어 집합(Vocabulary)의 크기 : 12213\n"
     ]
    }
   ],
   "source": [
    "word_index = tokenizer.word_index\n",
    "vocab_size = len(word_index) + 1\n",
    "print('단어 집합(Vocabulary)의 크기 :',vocab_size)"
   ]
  },
  {
   "cell_type": "code",
   "execution_count": 89,
   "id": "a62c9fa8-e756-4f97-be65-7de312330c93",
   "metadata": {
    "tags": []
   },
   "outputs": [
    {
     "name": "stdout",
     "output_type": "stream",
     "text": [
      "문장의 최대 길이 : 35\n",
      "문장의 평균 길이 : 17.162840571233613\n"
     ]
    },
    {
     "data": {
      "image/png": "[encoded data removed]",
      "text/plain": [
       "<Figure size 640x480 with 1 Axes>"
      ]
     },
     "metadata": {},
     "output_type": "display_data"
    }
   ],
   "source": [
    "print('문장의 최대 길이 :',max(len(l) for l in sequences))\n",
    "print('문장의 평균 길이 :',sum(map(len, sequences))/len(sequences))\n",
    "plt.hist([len(s) for s in sequences], bins=50)\n",
    "plt.xlabel('length of samples')\n",
    "plt.ylabel('number of samples')\n",
    "plt.show()"
   ]
  },
  {
   "cell_type": "code",
   "execution_count": 90,
   "id": "d1931c4a-c22b-468c-ac4c-d6ef4c749eac",
   "metadata": {
    "tags": []
   },
   "outputs": [],
   "source": [
    "from sklearn.model_selection import train_test_split\n",
    "X_train, X_test, y_train, y_test = train_test_split(sequences, y, test_size=0.2, random_state=42,shuffle=True)"
   ]
  },
  {
   "cell_type": "code",
   "execution_count": 91,
   "id": "3f6a6f45-444c-4591-a340-06c92e086dbc",
   "metadata": {
    "tags": []
   },
   "outputs": [],
   "source": [
    "# 딥러닝 모델을 만들기 위해 categorical 함수 사용\n",
    "from tensorflow.keras.utils import to_categorical\n",
    "y_train_categorical = to_categorical(y_train, num_classes=61)\n",
    "# y_train_categorical = to_categorical(np.asarray(y_train))\n",
    "# to_categorical(np.asarray(label_train))\n",
    "y_test_categorical = to_categorical(y_test, num_classes=61)\n",
    "# y_test_categorical = to_categorical(np.asarray(y_test))"
   ]
  },
  {
   "cell_type": "code",
   "execution_count": 92,
   "id": "6094d54a-f109-4a1c-93ef-66e6cc318767",
   "metadata": {
    "tags": []
   },
   "outputs": [
    {
     "data": {
      "text/plain": [
       "array([[0., 0., 0., 0., 0., 0., 0., 0., 0., 0., 0., 0., 0., 0., 0., 0.,\n",
       "        0., 0., 0., 1., 0., 0., 0., 0., 0., 0., 0., 0., 0., 0., 0., 0.,\n",
       "        0., 0., 0., 0., 0., 0., 0., 0., 0., 0., 0., 0., 0., 0., 0., 0.,\n",
       "        0., 0., 0., 0., 0., 0., 0., 0., 0., 0., 0., 0., 0.],\n",
       "       [0., 0., 0., 0., 0., 0., 0., 0., 0., 0., 0., 0., 0., 0., 0., 0.,\n",
       "        0., 0., 0., 0., 0., 0., 0., 0., 0., 0., 0., 0., 0., 0., 0., 0.,\n",
       "        0., 0., 0., 0., 0., 0., 0., 0., 0., 0., 0., 0., 0., 0., 0., 0.,\n",
       "        0., 0., 0., 1., 0., 0., 0., 0., 0., 0., 0., 0., 0.],\n",
       "       [0., 0., 0., 0., 0., 0., 0., 0., 0., 0., 0., 0., 0., 0., 0., 0.,\n",
       "        0., 0., 0., 0., 0., 1., 0., 0., 0., 0., 0., 0., 0., 0., 0., 0.,\n",
       "        0., 0., 0., 0., 0., 0., 0., 0., 0., 0., 0., 0., 0., 0., 0., 0.,\n",
       "        0., 0., 0., 0., 0., 0., 0., 0., 0., 0., 0., 0., 0.],\n",
       "       [0., 0., 0., 0., 0., 0., 0., 0., 0., 0., 0., 0., 0., 0., 0., 0.,\n",
       "        0., 1., 0., 0., 0., 0., 0., 0., 0., 0., 0., 0., 0., 0., 0., 0.,\n",
       "        0., 0., 0., 0., 0., 0., 0., 0., 0., 0., 0., 0., 0., 0., 0., 0.,\n",
       "        0., 0., 0., 0., 0., 0., 0., 0., 0., 0., 0., 0., 0.],\n",
       "       [0., 0., 0., 0., 0., 0., 0., 0., 0., 0., 0., 0., 0., 0., 0., 0.,\n",
       "        0., 0., 0., 0., 0., 0., 0., 0., 1., 0., 0., 0., 0., 0., 0., 0.,\n",
       "        0., 0., 0., 0., 0., 0., 0., 0., 0., 0., 0., 0., 0., 0., 0., 0.,\n",
       "        0., 0., 0., 0., 0., 0., 0., 0., 0., 0., 0., 0., 0.]],\n",
       "      dtype=float32)"
      ]
     },
     "execution_count": 92,
     "metadata": {},
     "output_type": "execute_result"
    }
   ],
   "source": [
    "y_train_categorical[:5]"
   ]
  },
  {
   "cell_type": "code",
   "execution_count": 93,
   "id": "f675a3fe-f40a-4139-85c0-d044d41eacc9",
   "metadata": {
    "tags": []
   },
   "outputs": [
    {
     "name": "stdout",
     "output_type": "stream",
     "text": [
      "훈련 데이터의 크기(shape): (16413, 36)\n",
      "훈련 데이터 레이블의 크기(shape): (16413, 61)\n"
     ]
    }
   ],
   "source": [
    "max_len = 36\n",
    "\n",
    "X_train = pad_sequences(X_train, maxlen = max_len)\n",
    "X_test = pad_sequences(X_test, maxlen = max_len)\n",
    "print('훈련 데이터의 크기(shape):', X_train.shape)\n",
    "print('훈련 데이터 레이블의 크기(shape):', y_train_categorical.shape)"
   ]
  },
  {
   "cell_type": "code",
   "execution_count": 94,
   "id": "525fc4c4-bf34-4190-a899-2c844966ddef",
   "metadata": {
    "tags": []
   },
   "outputs": [
    {
     "name": "stdout",
     "output_type": "stream",
     "text": [
      "훈련 데이터의 첫번째 샘플 : [   0    0    0    0    0    0    0    0    0    0    0    0    0    0\n",
      "    0    0    0    0    0  434   34   36   30   17   11   41   16   10\n",
      "    2   29  101   31  708 3575 2771    1]\n",
      "훈련 데이터의 첫번째 샘플의 레이블 : [0. 0. 0. 0. 0. 0. 0. 0. 0. 0. 0. 0. 0. 0. 0. 0. 0. 0. 0. 1. 0. 0. 0. 0.\n",
      " 0. 0. 0. 0. 0. 0. 0. 0. 0. 0. 0. 0. 0. 0. 0. 0. 0. 0. 0. 0. 0. 0. 0. 0.\n",
      " 0. 0. 0. 0. 0. 0. 0. 0. 0. 0. 0. 0. 0.]\n"
     ]
    }
   ],
   "source": [
    "print('훈련 데이터의 첫번째 샘플 :',X_train[0])\n",
    "print('훈련 데이터의 첫번째 샘플의 레이블 :',y_train_categorical[0])"
   ]
  },
  {
   "cell_type": "code",
   "execution_count": 95,
   "id": "43945d88-3c7d-4c2f-b820-cb34a0fcb6d8",
   "metadata": {
    "tags": []
   },
   "outputs": [
    {
     "name": "stdout",
     "output_type": "stream",
     "text": [
      "랜덤 시퀀스 : [ 9133 14594 14004 ... 11188  8276   947]\n"
     ]
    }
   ],
   "source": [
    "indices = np.arange(X_train.shape[0])\n",
    "np.random.shuffle(indices)\n",
    "print('랜덤 시퀀스 :',indices)"
   ]
  },
  {
   "cell_type": "code",
   "execution_count": 96,
   "id": "f1f1b27f-b3ae-4e9f-b34b-3df3a5d212eb",
   "metadata": {
    "tags": []
   },
   "outputs": [
    {
     "data": {
      "text/plain": [
       "16413"
      ]
     },
     "execution_count": 96,
     "metadata": {},
     "output_type": "execute_result"
    }
   ],
   "source": [
    "len(indices)"
   ]
  },
  {
   "cell_type": "code",
   "execution_count": 97,
   "id": "2c5af4b8-c4de-4c74-8597-4c011393f870",
   "metadata": {
    "tags": []
   },
   "outputs": [],
   "source": [
    "X_train = X_train[indices]\n",
    "y_train_categorical = y_train_categorical[indices]"
   ]
  },
  {
   "cell_type": "code",
   "execution_count": 98,
   "id": "a4a96c04-a1af-46fc-8e38-78b3cc0f9349",
   "metadata": {
    "tags": []
   },
   "outputs": [
    {
     "name": "stdout",
     "output_type": "stream",
     "text": [
      "검증 데이터의 개수 : 1641\n"
     ]
    }
   ],
   "source": [
    "n_of_val = int(0.1 * X_train.shape[0])\n",
    "print('검증 데이터의 개수 :',n_of_val)"
   ]
  },
  {
   "cell_type": "code",
   "execution_count": 99,
   "id": "64455238-3157-4c84-abbd-12e05e0b3092",
   "metadata": {
    "tags": []
   },
   "outputs": [],
   "source": [
    "X_train = X_train[:-n_of_val]\n",
    "y_train_categorical = y_train_categorical[:-n_of_val]\n",
    "X_val = X_train[-n_of_val:]\n",
    "y_val = y_train_categorical[-n_of_val:]"
   ]
  },
  {
   "cell_type": "code",
   "execution_count": 101,
   "id": "ff9afb72-1e2d-42e6-a1ef-8e790ef778dd",
   "metadata": {
    "tags": []
   },
   "outputs": [
    {
     "name": "stdout",
     "output_type": "stream",
     "text": [
      "훈련 데이터의 크기(shape): (14772, 36)\n",
      "훈련 데이터 레이블의 크기(shape): (14772, 61)\n"
     ]
    }
   ],
   "source": [
    "print('훈련 데이터의 크기(shape):', X_train.shape)\n",
    "print('훈련 데이터 레이블의 크기(shape):', y_train_categorical.shape)"
   ]
  },
  {
   "cell_type": "code",
   "execution_count": 103,
   "id": "ed277b46-6ff1-4d1f-acf5-c1f216c9768c",
   "metadata": {
    "tags": []
   },
   "outputs": [],
   "source": [
    "# !wget http://nlp.stanford.edu/data/glove.6B.zip\n",
    "# !unzip glove*.zip"
   ]
  },
  {
   "cell_type": "code",
   "execution_count": 133,
   "id": "c9c329da-3a50-4cc6-a598-8abd43fb7e9d",
   "metadata": {
    "tags": []
   },
   "outputs": [
    {
     "name": "stdout",
     "output_type": "stream",
     "text": [
      "Epoch 1/10\n",
      "116/116 [==============================] - 8s 65ms/step - loss: 3.4363 - acc: 0.1916 - val_loss: 3.2188 - val_acc: 0.1901\n",
      "Epoch 2/10\n",
      "116/116 [==============================] - 8s 66ms/step - loss: 2.8881 - acc: 0.2702 - val_loss: 2.5141 - val_acc: 0.3906\n",
      "Epoch 3/10\n",
      "116/116 [==============================] - 8s 67ms/step - loss: 2.1101 - acc: 0.5012 - val_loss: 1.7452 - val_acc: 0.6002\n",
      "Epoch 4/10\n",
      "116/116 [==============================] - 8s 68ms/step - loss: 1.4428 - acc: 0.6683 - val_loss: 1.1239 - val_acc: 0.7471\n",
      "Epoch 5/10\n",
      "116/116 [==============================] - 8s 67ms/step - loss: 1.0048 - acc: 0.7739 - val_loss: 0.7721 - val_acc: 0.8233\n",
      "Epoch 6/10\n",
      "116/116 [==============================] - 8s 68ms/step - loss: 0.7155 - acc: 0.8430 - val_loss: 0.5356 - val_acc: 0.8873\n",
      "Epoch 7/10\n",
      "116/116 [==============================] - 8s 68ms/step - loss: 0.5458 - acc: 0.8844 - val_loss: 0.3774 - val_acc: 0.9287\n",
      "Epoch 8/10\n",
      "116/116 [==============================] - 8s 67ms/step - loss: 0.4019 - acc: 0.9208 - val_loss: 0.2794 - val_acc: 0.9476\n",
      "Epoch 9/10\n",
      "116/116 [==============================] - 8s 67ms/step - loss: 0.3077 - acc: 0.9378 - val_loss: 0.2075 - val_acc: 0.9616\n",
      "Epoch 10/10\n",
      "116/116 [==============================] - 8s 68ms/step - loss: 0.2437 - acc: 0.9518 - val_loss: 0.1555 - val_acc: 0.9768\n"
     ]
    }
   ],
   "source": [
    "from tensorflow.keras.models import Sequential\n",
    "from tensorflow.keras.layers import Dense, LSTM, Embedding, Dropout\n",
    "from tensorflow.keras.callbacks import EarlyStopping, ModelCheckpoint\n",
    "\n",
    "embedding_dim = 120\n",
    "hidden_units = 64\n",
    "num_classes = 61\n",
    "\n",
    "model = Sequential()\n",
    "model.add(Embedding(vocab_size, embedding_dim))\n",
    "# model.add(Dropout(0.5))\n",
    "model.add(LSTM(hidden_units))\n",
    "model.add(Dense(num_classes, activation='softmax'))\n",
    "\n",
    "# es = EarlyStopping(monitor='val_loss', mode='min', verbose=1, patience=4)\n",
    "# mc = ModelCheckpoint('best_model.h5', monitor='val_acc', mode='max', verbose=1, save_best_only=True)\n",
    "\n",
    "model.compile(loss='categorical_crossentropy', optimizer='adam', metrics=['acc'])\n",
    "# history = model.fit(X_train, y_train_categorical, batch_size=128, epochs=30, callbacks=[es, mc], validation_data=(X_val, y_val))\n",
    "history = model.fit(X_train, y_train_categorical, batch_size=128, epochs=10, validation_data=(X_val, y_val))"
   ]
  },
  {
   "cell_type": "code",
   "execution_count": 134,
   "id": "1aaf3bc2-2ae6-4524-b961-d8dc5923d041",
   "metadata": {
    "tags": []
   },
   "outputs": [
    {
     "name": "stdout",
     "output_type": "stream",
     "text": [
      "129/129 [==============================] - 1s 4ms/step\n"
     ]
    }
   ],
   "source": [
    "y_pred= model.predict(X_test)                    "
   ]
  },
  {
   "cell_type": "code",
   "execution_count": 135,
   "id": "0e60bd33-8702-4969-ab27-7f43f27f4abf",
   "metadata": {
    "tags": []
   },
   "outputs": [
    {
     "name": "stdout",
     "output_type": "stream",
     "text": [
      "129/129 [==============================] - 1s 4ms/step - loss: 0.6189 - acc: 0.8767\n"
     ]
    },
    {
     "data": {
      "text/plain": [
       "0.8767056465148926"
      ]
     },
     "execution_count": 135,
     "metadata": {},
     "output_type": "execute_result"
    }
   ],
   "source": [
    "model.evaluate(X_test, y_test_categorical)[1]"
   ]
  },
  {
   "cell_type": "code",
   "execution_count": 136,
   "id": "c24461ac-c590-44b7-8200-80b559fc56e7",
   "metadata": {
    "tags": []
   },
   "outputs": [],
   "source": [
    "# y_pred 랑 y_test 를 원래 labeling 된 데이터로 변환\n",
    "y_pred_classes = np.argmax(y_pred, axis=1)\n",
    "y_test_classes = np.argmax(y_test_categorical, axis=1)"
   ]
  },
  {
   "cell_type": "code",
   "execution_count": 137,
   "id": "20eed09d-ad8f-4704-830f-477cea49f33b",
   "metadata": {
    "tags": []
   },
   "outputs": [
    {
     "data": {
      "text/plain": [
       "(array([54, 33, 24, 45, 24, 57, 41, 10,  4, 41, 57, 20, 26, 50, 26, 24, 56,\n",
       "        57, 40, 30, 40, 57,  8, 38, 24,  4, 46, 37, 57, 18, 24, 24,  4,  4,\n",
       "        51, 40,  0,  6, 58, 24, 26, 24, 19, 50, 24, 48, 10,  4, 51,  4, 39,\n",
       "        46, 56,  7, 20, 33, 34, 25, 58, 10, 12, 48, 24, 56, 24, 24, 37,  4,\n",
       "        33, 40, 22,  8, 23, 44, 45, 20, 40,  8, 56, 42, 40, 24, 24, 45, 20,\n",
       "        36, 26, 24, 46, 42, 24, 18, 45, 40, 40, 26, 58, 19, 24, 46],\n",
       "       dtype=int64),\n",
       " array([54, 33, 24, 45, 24, 57, 41, 10,  4, 41, 57, 20, 26, 41, 26, 24, 56,\n",
       "        57, 40, 30, 40, 57,  8, 38, 24,  4, 46, 37, 57, 56, 24, 24,  4,  4,\n",
       "        51, 40,  0,  6, 58, 24, 26, 42, 19, 50, 24, 48, 10,  4,  7,  4, 39,\n",
       "        46, 56,  7, 20, 33, 34, 25, 58, 10, 12, 48, 24, 56, 24, 24, 37,  4,\n",
       "        33, 40, 22,  8, 23, 44, 45, 20, 40,  8, 56, 42, 40, 24, 24, 45, 20,\n",
       "        36, 26, 24, 46, 42, 24, 18, 45, 40, 40, 24, 58, 19, 24, 26],\n",
       "       dtype=int64))"
      ]
     },
     "execution_count": 137,
     "metadata": {},
     "output_type": "execute_result"
    }
   ],
   "source": [
    "y_pred_classes[:100],y_test_classes[:100]"
   ]
  },
  {
   "cell_type": "code",
   "execution_count": 138,
   "id": "9066396f-e74a-43db-8719-6de7890cc2a8",
   "metadata": {
    "tags": []
   },
   "outputs": [
    {
     "data": {
      "text/plain": [
       "0.7516922903850422"
      ]
     },
     "execution_count": 138,
     "metadata": {},
     "output_type": "execute_result"
    }
   ],
   "source": [
    "from sklearn.metrics import recall_score, accuracy_score, precision_score, f1_score,classification_report\n",
    "# from seqeval.metrics import f1_score, classification_report\n",
    "f1 = f1_score(y_pred_classes, y_test_classes, average='macro')\n",
    "f1"
   ]
  },
  {
   "cell_type": "markdown",
   "id": "9e16d892-c796-4197-8e32-cd8a37df5a9c",
   "metadata": {},
   "source": [
    "## f1 : 0.828\n",
    "### model.add(Dropout(0.1)) 추가 ->"
   ]
  },
  {
   "cell_type": "code",
   "execution_count": 124,
   "id": "65a958c5-8b0f-455d-b603-a3c14b49b3ac",
   "metadata": {
    "tags": []
   },
   "outputs": [
    {
     "name": "stdout",
     "output_type": "stream",
     "text": [
      "              precision    recall  f1-score   support\n",
      "\n",
      "           0       0.70      0.80      0.75        35\n",
      "           1       0.57      1.00      0.73         4\n",
      "           2       0.71      0.75      0.73        16\n",
      "           3       0.60      1.00      0.75         6\n",
      "           4       0.90      0.95      0.92       205\n",
      "           5       0.80      1.00      0.89         8\n",
      "           6       1.00      0.93      0.96        14\n",
      "           7       0.91      0.84      0.87        25\n",
      "           8       0.89      0.88      0.88       177\n",
      "           9       0.00      0.00      0.00         0\n",
      "          10       0.92      0.96      0.94        48\n",
      "          11       1.00      1.00      1.00         3\n",
      "          12       0.82      0.94      0.88        34\n",
      "          13       0.82      0.82      0.82        17\n",
      "          14       0.57      1.00      0.73         4\n",
      "          15       0.60      0.60      0.60         5\n",
      "          16       0.94      1.00      0.97        15\n",
      "          17       0.77      0.80      0.78        25\n",
      "          18       0.84      0.79      0.81        94\n",
      "          19       0.79      0.79      0.79        75\n",
      "          20       0.87      0.83      0.85       109\n",
      "          21       1.00      1.00      1.00         5\n",
      "          22       0.88      0.93      0.90        30\n",
      "          23       0.86      0.90      0.88        84\n",
      "          24       0.92      0.86      0.89       848\n",
      "          25       0.88      0.91      0.90       143\n",
      "          26       0.78      0.88      0.82        88\n",
      "          27       0.50      0.88      0.64         8\n",
      "          28       0.70      0.74      0.72        19\n",
      "          29       0.86      0.81      0.83        37\n",
      "          30       0.88      0.92      0.90        63\n",
      "          31       0.91      0.91      0.91        11\n",
      "          32       0.50      1.00      0.67         2\n",
      "          33       0.59      0.77      0.67        13\n",
      "          34       0.96      1.00      0.98        47\n",
      "          35       0.85      0.69      0.76        16\n",
      "          36       0.83      1.00      0.91        10\n",
      "          37       0.87      0.88      0.88        52\n",
      "          38       0.92      0.92      0.92        13\n",
      "          39       0.91      0.92      0.91        63\n",
      "          40       0.96      0.94      0.95       435\n",
      "          41       0.78      0.83      0.81        30\n",
      "          42       0.85      0.96      0.90        52\n",
      "          43       0.88      0.81      0.85        27\n",
      "          44       0.93      0.91      0.92       102\n",
      "          45       0.89      0.86      0.88       216\n",
      "          46       0.94      0.98      0.96        64\n",
      "          47       1.00      0.75      0.86         4\n",
      "          48       0.89      0.73      0.80        70\n",
      "          49       0.90      0.90      0.90        29\n",
      "          50       0.94      0.88      0.91        69\n",
      "          51       0.81      0.90      0.85        39\n",
      "          52       0.35      0.75      0.48         8\n",
      "          53       0.62      0.71      0.67         7\n",
      "          54       0.73      0.76      0.75        25\n",
      "          55       1.00      1.00      1.00         6\n",
      "          56       0.72      0.85      0.78        55\n",
      "          57       0.90      0.84      0.87       201\n",
      "          58       0.95      0.95      0.95       151\n",
      "          59       0.56      1.00      0.71         5\n",
      "          60       1.00      1.00      1.00        38\n",
      "\n",
      "    accuracy                           0.88      4104\n",
      "   macro avg       0.81      0.87      0.83      4104\n",
      "weighted avg       0.89      0.88      0.89      4104\n",
      "\n"
     ]
    },
    {
     "name": "stderr",
     "output_type": "stream",
     "text": [
      "C:\\workspace\\ShipSupplies\\venv\\lib\\site-packages\\sklearn\\metrics\\_classification.py:1344: UndefinedMetricWarning: Recall and F-score are ill-defined and being set to 0.0 in labels with no true samples. Use `zero_division` parameter to control this behavior.\n",
      "  _warn_prf(average, modifier, msg_start, len(result))\n",
      "C:\\workspace\\ShipSupplies\\venv\\lib\\site-packages\\sklearn\\metrics\\_classification.py:1344: UndefinedMetricWarning: Recall and F-score are ill-defined and being set to 0.0 in labels with no true samples. Use `zero_division` parameter to control this behavior.\n",
      "  _warn_prf(average, modifier, msg_start, len(result))\n",
      "C:\\workspace\\ShipSupplies\\venv\\lib\\site-packages\\sklearn\\metrics\\_classification.py:1344: UndefinedMetricWarning: Recall and F-score are ill-defined and being set to 0.0 in labels with no true samples. Use `zero_division` parameter to control this behavior.\n",
      "  _warn_prf(average, modifier, msg_start, len(result))\n"
     ]
    }
   ],
   "source": [
    "print(classification_report(y_pred_classes, y_test_classes))"
   ]
  },
  {
   "cell_type": "code",
   "execution_count": null,
   "id": "d11ceb96-f73e-49d5-9140-36de886fb2b7",
   "metadata": {},
   "outputs": [],
   "source": []
  }
 ],
 "metadata": {
  "kernelspec": {
   "display_name": "venv",
   "language": "python",
   "name": "venv"
  },
  "language_info": {
   "codemirror_mode": {
    "name": "ipython",
    "version": 3
   },
   "file_extension": ".py",
   "mimetype": "text/x-python",
   "name": "python",
   "nbconvert_exporter": "python",
   "pygments_lexer": "ipython3",
   "version": "3.10.10"
  }
 },
 "nbformat": 4,
 "nbformat_minor": 5
}
